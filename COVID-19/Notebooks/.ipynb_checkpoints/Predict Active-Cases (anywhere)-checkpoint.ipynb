{
 "cells": [
  {
   "cell_type": "markdown",
   "metadata": {},
   "source": [
    "<center><h1> <font color=\"green\"><u>Active-Case Predictions ~ 19-nCoV</u></font> </h1></center>"
   ]
  },
  {
   "cell_type": "markdown",
   "metadata": {},
   "source": [
    "<center><h3> <font color=\"#cc0000\"><u>Active Cases(%) out of Confirmed</u></font> </h3></center>"
   ]
  },
  {
   "cell_type": "markdown",
   "metadata": {},
   "source": [
    "<h3> <font color=\"purple\"><u>This section includes:</u></font> </h3>"
   ]
  },
  {
   "cell_type": "markdown",
   "metadata": {},
   "source": [
    "> * Data Filtering <br />\n",
    "> * Training & Testing datasets <br />\n",
    "> * Prediction <br />\n",
    "> * Visualization (Scatter Plots) <br />"
   ]
  },
  {
   "cell_type": "markdown",
   "metadata": {},
   "source": [
    "<br />"
   ]
  },
  {
   "cell_type": "markdown",
   "metadata": {},
   "source": [
    "## Creating Datasets"
   ]
  },
  {
   "cell_type": "code",
   "execution_count": 58,
   "metadata": {},
   "outputs": [],
   "source": [
    "# setting the working directory\n",
    "setwd(\"~/Documents/A-tracking-of-COVID-19/COVID-19/ready_to_use\")"
   ]
  },
  {
   "cell_type": "code",
   "execution_count": 59,
   "metadata": {},
   "outputs": [],
   "source": [
    "# Loading desired libraries\n",
    "library(ggplot2)\n",
    "library(stringr)\n",
    "\n",
    "# loading plotting/machine learning\n",
    "library(tidyverse)\n",
    "library(caret)\n",
    "library(mlbench)\n",
    "library(kernlab)\n",
    "library(rpart)"
   ]
  },
  {
   "cell_type": "markdown",
   "metadata": {},
   "source": [
    "<hr />"
   ]
  },
  {
   "cell_type": "code",
   "execution_count": 65,
   "metadata": {
    "scrolled": true
   },
   "outputs": [
    {
     "data": {
      "text/html": [
       "<table>\n",
       "<caption>A data.frame: 23562 × 7</caption>\n",
       "<thead>\n",
       "\t<tr><th scope=col>Country</th><th scope=col>Day</th><th scope=col>Date</th><th scope=col>Confirmed</th><th scope=col>Deaths</th><th scope=col>Active.Cases</th><th scope=col>Closed.Cases</th></tr>\n",
       "\t<tr><th scope=col>&lt;fct&gt;</th><th scope=col>&lt;int&gt;</th><th scope=col>&lt;fct&gt;</th><th scope=col>&lt;int&gt;</th><th scope=col>&lt;int&gt;</th><th scope=col>&lt;int&gt;</th><th scope=col>&lt;int&gt;</th></tr>\n",
       "</thead>\n",
       "<tbody>\n",
       "\t<tr><td>Afghanistan</td><td> 1</td><td>22-01-2020</td><td>0</td><td>0</td><td>0</td><td>0</td></tr>\n",
       "\t<tr><td>Afghanistan</td><td> 2</td><td>23-01-2020</td><td>0</td><td>0</td><td>0</td><td>0</td></tr>\n",
       "\t<tr><td>Afghanistan</td><td> 3</td><td>24-01-2020</td><td>0</td><td>0</td><td>0</td><td>0</td></tr>\n",
       "\t<tr><td>Afghanistan</td><td> 4</td><td>25-01-2020</td><td>0</td><td>0</td><td>0</td><td>0</td></tr>\n",
       "\t<tr><td>Afghanistan</td><td> 5</td><td>26-01-2020</td><td>0</td><td>0</td><td>0</td><td>0</td></tr>\n",
       "\t<tr><td>Afghanistan</td><td> 6</td><td>27-01-2020</td><td>0</td><td>0</td><td>0</td><td>0</td></tr>\n",
       "\t<tr><td>Afghanistan</td><td> 7</td><td>28-01-2020</td><td>0</td><td>0</td><td>0</td><td>0</td></tr>\n",
       "\t<tr><td>Afghanistan</td><td> 8</td><td>29-01-2020</td><td>0</td><td>0</td><td>0</td><td>0</td></tr>\n",
       "\t<tr><td>Afghanistan</td><td> 9</td><td>30-01-2020</td><td>0</td><td>0</td><td>0</td><td>0</td></tr>\n",
       "\t<tr><td>Afghanistan</td><td>10</td><td>31-01-2020</td><td>0</td><td>0</td><td>0</td><td>0</td></tr>\n",
       "\t<tr><td>Afghanistan</td><td>11</td><td>01-02-2020</td><td>0</td><td>0</td><td>0</td><td>0</td></tr>\n",
       "\t<tr><td>Afghanistan</td><td>12</td><td>02-02-2020</td><td>0</td><td>0</td><td>0</td><td>0</td></tr>\n",
       "\t<tr><td>Afghanistan</td><td>13</td><td>03-02-2020</td><td>0</td><td>0</td><td>0</td><td>0</td></tr>\n",
       "\t<tr><td>Afghanistan</td><td>14</td><td>04-02-2020</td><td>0</td><td>0</td><td>0</td><td>0</td></tr>\n",
       "\t<tr><td>Afghanistan</td><td>15</td><td>05-02-2020</td><td>0</td><td>0</td><td>0</td><td>0</td></tr>\n",
       "\t<tr><td>Afghanistan</td><td>16</td><td>06-02-2020</td><td>0</td><td>0</td><td>0</td><td>0</td></tr>\n",
       "\t<tr><td>Afghanistan</td><td>17</td><td>07-02-2020</td><td>0</td><td>0</td><td>0</td><td>0</td></tr>\n",
       "\t<tr><td>Afghanistan</td><td>18</td><td>08-02-2020</td><td>0</td><td>0</td><td>0</td><td>0</td></tr>\n",
       "\t<tr><td>Afghanistan</td><td>19</td><td>09-02-2020</td><td>0</td><td>0</td><td>0</td><td>0</td></tr>\n",
       "\t<tr><td>Afghanistan</td><td>20</td><td>10-02-2020</td><td>0</td><td>0</td><td>0</td><td>0</td></tr>\n",
       "\t<tr><td>Afghanistan</td><td>21</td><td>11-02-2020</td><td>0</td><td>0</td><td>0</td><td>0</td></tr>\n",
       "\t<tr><td>Afghanistan</td><td>22</td><td>12-02-2020</td><td>0</td><td>0</td><td>0</td><td>0</td></tr>\n",
       "\t<tr><td>Afghanistan</td><td>23</td><td>13-02-2020</td><td>0</td><td>0</td><td>0</td><td>0</td></tr>\n",
       "\t<tr><td>Afghanistan</td><td>24</td><td>14-02-2020</td><td>0</td><td>0</td><td>0</td><td>0</td></tr>\n",
       "\t<tr><td>Afghanistan</td><td>25</td><td>15-02-2020</td><td>0</td><td>0</td><td>0</td><td>0</td></tr>\n",
       "\t<tr><td>Afghanistan</td><td>26</td><td>16-02-2020</td><td>0</td><td>0</td><td>0</td><td>0</td></tr>\n",
       "\t<tr><td>Afghanistan</td><td>27</td><td>17-02-2020</td><td>0</td><td>0</td><td>0</td><td>0</td></tr>\n",
       "\t<tr><td>Afghanistan</td><td>28</td><td>18-02-2020</td><td>0</td><td>0</td><td>0</td><td>0</td></tr>\n",
       "\t<tr><td>Afghanistan</td><td>29</td><td>19-02-2020</td><td>0</td><td>0</td><td>0</td><td>0</td></tr>\n",
       "\t<tr><td>Afghanistan</td><td>30</td><td>20-02-2020</td><td>0</td><td>0</td><td>0</td><td>0</td></tr>\n",
       "\t<tr><td>⋮</td><td>⋮</td><td>⋮</td><td>⋮</td><td>⋮</td><td>⋮</td><td>⋮</td></tr>\n",
       "\t<tr><td>Zimbabwe</td><td> 97</td><td>27-04-2020</td><td>32</td><td>4</td><td>28</td><td>4</td></tr>\n",
       "\t<tr><td>Zimbabwe</td><td> 98</td><td>28-04-2020</td><td>32</td><td>4</td><td>28</td><td>4</td></tr>\n",
       "\t<tr><td>Zimbabwe</td><td> 99</td><td>29-04-2020</td><td>32</td><td>4</td><td>28</td><td>4</td></tr>\n",
       "\t<tr><td>Zimbabwe</td><td>100</td><td>30-04-2020</td><td>40</td><td>4</td><td>36</td><td>4</td></tr>\n",
       "\t<tr><td>Zimbabwe</td><td>101</td><td>01-05-2020</td><td>40</td><td>4</td><td>36</td><td>4</td></tr>\n",
       "\t<tr><td>Zimbabwe</td><td>102</td><td>02-05-2020</td><td>40</td><td>4</td><td>36</td><td>4</td></tr>\n",
       "\t<tr><td>Zimbabwe</td><td>103</td><td>03-05-2020</td><td>40</td><td>4</td><td>36</td><td>4</td></tr>\n",
       "\t<tr><td>Zimbabwe</td><td>104</td><td>04-05-2020</td><td>40</td><td>4</td><td>36</td><td>4</td></tr>\n",
       "\t<tr><td>Zimbabwe</td><td>105</td><td>05-05-2020</td><td>40</td><td>4</td><td>36</td><td>4</td></tr>\n",
       "\t<tr><td>Zimbabwe</td><td>106</td><td>06-05-2020</td><td>40</td><td>4</td><td>36</td><td>4</td></tr>\n",
       "\t<tr><td>Zimbabwe</td><td>107</td><td>07-05-2020</td><td>40</td><td>4</td><td>36</td><td>4</td></tr>\n",
       "\t<tr><td>Zimbabwe</td><td>108</td><td>08-05-2020</td><td>40</td><td>4</td><td>36</td><td>4</td></tr>\n",
       "\t<tr><td>Zimbabwe</td><td>109</td><td>09-05-2020</td><td>40</td><td>4</td><td>36</td><td>4</td></tr>\n",
       "\t<tr><td>Zimbabwe</td><td>110</td><td>10-05-2020</td><td>40</td><td>4</td><td>36</td><td>4</td></tr>\n",
       "\t<tr><td>Zimbabwe</td><td>111</td><td>11-05-2020</td><td>40</td><td>4</td><td>36</td><td>4</td></tr>\n",
       "\t<tr><td>Zimbabwe</td><td>112</td><td>12-05-2020</td><td>40</td><td>4</td><td>36</td><td>4</td></tr>\n",
       "\t<tr><td>Zimbabwe</td><td>113</td><td>13-05-2020</td><td>40</td><td>4</td><td>36</td><td>4</td></tr>\n",
       "\t<tr><td>Zimbabwe</td><td>114</td><td>14-05-2020</td><td>40</td><td>4</td><td>36</td><td>4</td></tr>\n",
       "\t<tr><td>Zimbabwe</td><td>115</td><td>15-05-2020</td><td>42</td><td>4</td><td>38</td><td>4</td></tr>\n",
       "\t<tr><td>Zimbabwe</td><td>116</td><td>16-05-2020</td><td>42</td><td>4</td><td>38</td><td>4</td></tr>\n",
       "\t<tr><td>Zimbabwe</td><td>117</td><td>17-05-2020</td><td>44</td><td>4</td><td>40</td><td>4</td></tr>\n",
       "\t<tr><td>Zimbabwe</td><td>118</td><td>18-05-2020</td><td>46</td><td>4</td><td>42</td><td>4</td></tr>\n",
       "\t<tr><td>Zimbabwe</td><td>119</td><td>19-05-2020</td><td>46</td><td>4</td><td>42</td><td>4</td></tr>\n",
       "\t<tr><td>Zimbabwe</td><td>120</td><td>20-05-2020</td><td>48</td><td>4</td><td>44</td><td>4</td></tr>\n",
       "\t<tr><td>Zimbabwe</td><td>121</td><td>21-05-2020</td><td>51</td><td>4</td><td>47</td><td>4</td></tr>\n",
       "\t<tr><td>Zimbabwe</td><td>122</td><td>22-05-2020</td><td>51</td><td>4</td><td>47</td><td>4</td></tr>\n",
       "\t<tr><td>Zimbabwe</td><td>123</td><td>23-05-2020</td><td>56</td><td>4</td><td>52</td><td>4</td></tr>\n",
       "\t<tr><td>Zimbabwe</td><td>124</td><td>24-05-2020</td><td>56</td><td>4</td><td>52</td><td>4</td></tr>\n",
       "\t<tr><td>Zimbabwe</td><td>125</td><td>25-05-2020</td><td>56</td><td>4</td><td>52</td><td>4</td></tr>\n",
       "\t<tr><td>Zimbabwe</td><td>126</td><td>26-05-2020</td><td>56</td><td>4</td><td>52</td><td>4</td></tr>\n",
       "</tbody>\n",
       "</table>\n"
      ],
      "text/latex": [
       "A data.frame: 23562 × 7\n",
       "\\begin{tabular}{lllllll}\n",
       " Country & Day & Date & Confirmed & Deaths & Active.Cases & Closed.Cases\\\\\n",
       " <fct> & <int> & <fct> & <int> & <int> & <int> & <int>\\\\\n",
       "\\hline\n",
       "\t Afghanistan &  1 & 22-01-2020 & 0 & 0 & 0 & 0\\\\\n",
       "\t Afghanistan &  2 & 23-01-2020 & 0 & 0 & 0 & 0\\\\\n",
       "\t Afghanistan &  3 & 24-01-2020 & 0 & 0 & 0 & 0\\\\\n",
       "\t Afghanistan &  4 & 25-01-2020 & 0 & 0 & 0 & 0\\\\\n",
       "\t Afghanistan &  5 & 26-01-2020 & 0 & 0 & 0 & 0\\\\\n",
       "\t Afghanistan &  6 & 27-01-2020 & 0 & 0 & 0 & 0\\\\\n",
       "\t Afghanistan &  7 & 28-01-2020 & 0 & 0 & 0 & 0\\\\\n",
       "\t Afghanistan &  8 & 29-01-2020 & 0 & 0 & 0 & 0\\\\\n",
       "\t Afghanistan &  9 & 30-01-2020 & 0 & 0 & 0 & 0\\\\\n",
       "\t Afghanistan & 10 & 31-01-2020 & 0 & 0 & 0 & 0\\\\\n",
       "\t Afghanistan & 11 & 01-02-2020 & 0 & 0 & 0 & 0\\\\\n",
       "\t Afghanistan & 12 & 02-02-2020 & 0 & 0 & 0 & 0\\\\\n",
       "\t Afghanistan & 13 & 03-02-2020 & 0 & 0 & 0 & 0\\\\\n",
       "\t Afghanistan & 14 & 04-02-2020 & 0 & 0 & 0 & 0\\\\\n",
       "\t Afghanistan & 15 & 05-02-2020 & 0 & 0 & 0 & 0\\\\\n",
       "\t Afghanistan & 16 & 06-02-2020 & 0 & 0 & 0 & 0\\\\\n",
       "\t Afghanistan & 17 & 07-02-2020 & 0 & 0 & 0 & 0\\\\\n",
       "\t Afghanistan & 18 & 08-02-2020 & 0 & 0 & 0 & 0\\\\\n",
       "\t Afghanistan & 19 & 09-02-2020 & 0 & 0 & 0 & 0\\\\\n",
       "\t Afghanistan & 20 & 10-02-2020 & 0 & 0 & 0 & 0\\\\\n",
       "\t Afghanistan & 21 & 11-02-2020 & 0 & 0 & 0 & 0\\\\\n",
       "\t Afghanistan & 22 & 12-02-2020 & 0 & 0 & 0 & 0\\\\\n",
       "\t Afghanistan & 23 & 13-02-2020 & 0 & 0 & 0 & 0\\\\\n",
       "\t Afghanistan & 24 & 14-02-2020 & 0 & 0 & 0 & 0\\\\\n",
       "\t Afghanistan & 25 & 15-02-2020 & 0 & 0 & 0 & 0\\\\\n",
       "\t Afghanistan & 26 & 16-02-2020 & 0 & 0 & 0 & 0\\\\\n",
       "\t Afghanistan & 27 & 17-02-2020 & 0 & 0 & 0 & 0\\\\\n",
       "\t Afghanistan & 28 & 18-02-2020 & 0 & 0 & 0 & 0\\\\\n",
       "\t Afghanistan & 29 & 19-02-2020 & 0 & 0 & 0 & 0\\\\\n",
       "\t Afghanistan & 30 & 20-02-2020 & 0 & 0 & 0 & 0\\\\\n",
       "\t ⋮ & ⋮ & ⋮ & ⋮ & ⋮ & ⋮ & ⋮\\\\\n",
       "\t Zimbabwe &  97 & 27-04-2020 & 32 & 4 & 28 & 4\\\\\n",
       "\t Zimbabwe &  98 & 28-04-2020 & 32 & 4 & 28 & 4\\\\\n",
       "\t Zimbabwe &  99 & 29-04-2020 & 32 & 4 & 28 & 4\\\\\n",
       "\t Zimbabwe & 100 & 30-04-2020 & 40 & 4 & 36 & 4\\\\\n",
       "\t Zimbabwe & 101 & 01-05-2020 & 40 & 4 & 36 & 4\\\\\n",
       "\t Zimbabwe & 102 & 02-05-2020 & 40 & 4 & 36 & 4\\\\\n",
       "\t Zimbabwe & 103 & 03-05-2020 & 40 & 4 & 36 & 4\\\\\n",
       "\t Zimbabwe & 104 & 04-05-2020 & 40 & 4 & 36 & 4\\\\\n",
       "\t Zimbabwe & 105 & 05-05-2020 & 40 & 4 & 36 & 4\\\\\n",
       "\t Zimbabwe & 106 & 06-05-2020 & 40 & 4 & 36 & 4\\\\\n",
       "\t Zimbabwe & 107 & 07-05-2020 & 40 & 4 & 36 & 4\\\\\n",
       "\t Zimbabwe & 108 & 08-05-2020 & 40 & 4 & 36 & 4\\\\\n",
       "\t Zimbabwe & 109 & 09-05-2020 & 40 & 4 & 36 & 4\\\\\n",
       "\t Zimbabwe & 110 & 10-05-2020 & 40 & 4 & 36 & 4\\\\\n",
       "\t Zimbabwe & 111 & 11-05-2020 & 40 & 4 & 36 & 4\\\\\n",
       "\t Zimbabwe & 112 & 12-05-2020 & 40 & 4 & 36 & 4\\\\\n",
       "\t Zimbabwe & 113 & 13-05-2020 & 40 & 4 & 36 & 4\\\\\n",
       "\t Zimbabwe & 114 & 14-05-2020 & 40 & 4 & 36 & 4\\\\\n",
       "\t Zimbabwe & 115 & 15-05-2020 & 42 & 4 & 38 & 4\\\\\n",
       "\t Zimbabwe & 116 & 16-05-2020 & 42 & 4 & 38 & 4\\\\\n",
       "\t Zimbabwe & 117 & 17-05-2020 & 44 & 4 & 40 & 4\\\\\n",
       "\t Zimbabwe & 118 & 18-05-2020 & 46 & 4 & 42 & 4\\\\\n",
       "\t Zimbabwe & 119 & 19-05-2020 & 46 & 4 & 42 & 4\\\\\n",
       "\t Zimbabwe & 120 & 20-05-2020 & 48 & 4 & 44 & 4\\\\\n",
       "\t Zimbabwe & 121 & 21-05-2020 & 51 & 4 & 47 & 4\\\\\n",
       "\t Zimbabwe & 122 & 22-05-2020 & 51 & 4 & 47 & 4\\\\\n",
       "\t Zimbabwe & 123 & 23-05-2020 & 56 & 4 & 52 & 4\\\\\n",
       "\t Zimbabwe & 124 & 24-05-2020 & 56 & 4 & 52 & 4\\\\\n",
       "\t Zimbabwe & 125 & 25-05-2020 & 56 & 4 & 52 & 4\\\\\n",
       "\t Zimbabwe & 126 & 26-05-2020 & 56 & 4 & 52 & 4\\\\\n",
       "\\end{tabular}\n"
      ],
      "text/markdown": [
       "\n",
       "A data.frame: 23562 × 7\n",
       "\n",
       "| Country &lt;fct&gt; | Day &lt;int&gt; | Date &lt;fct&gt; | Confirmed &lt;int&gt; | Deaths &lt;int&gt; | Active.Cases &lt;int&gt; | Closed.Cases &lt;int&gt; |\n",
       "|---|---|---|---|---|---|---|\n",
       "| Afghanistan |  1 | 22-01-2020 | 0 | 0 | 0 | 0 |\n",
       "| Afghanistan |  2 | 23-01-2020 | 0 | 0 | 0 | 0 |\n",
       "| Afghanistan |  3 | 24-01-2020 | 0 | 0 | 0 | 0 |\n",
       "| Afghanistan |  4 | 25-01-2020 | 0 | 0 | 0 | 0 |\n",
       "| Afghanistan |  5 | 26-01-2020 | 0 | 0 | 0 | 0 |\n",
       "| Afghanistan |  6 | 27-01-2020 | 0 | 0 | 0 | 0 |\n",
       "| Afghanistan |  7 | 28-01-2020 | 0 | 0 | 0 | 0 |\n",
       "| Afghanistan |  8 | 29-01-2020 | 0 | 0 | 0 | 0 |\n",
       "| Afghanistan |  9 | 30-01-2020 | 0 | 0 | 0 | 0 |\n",
       "| Afghanistan | 10 | 31-01-2020 | 0 | 0 | 0 | 0 |\n",
       "| Afghanistan | 11 | 01-02-2020 | 0 | 0 | 0 | 0 |\n",
       "| Afghanistan | 12 | 02-02-2020 | 0 | 0 | 0 | 0 |\n",
       "| Afghanistan | 13 | 03-02-2020 | 0 | 0 | 0 | 0 |\n",
       "| Afghanistan | 14 | 04-02-2020 | 0 | 0 | 0 | 0 |\n",
       "| Afghanistan | 15 | 05-02-2020 | 0 | 0 | 0 | 0 |\n",
       "| Afghanistan | 16 | 06-02-2020 | 0 | 0 | 0 | 0 |\n",
       "| Afghanistan | 17 | 07-02-2020 | 0 | 0 | 0 | 0 |\n",
       "| Afghanistan | 18 | 08-02-2020 | 0 | 0 | 0 | 0 |\n",
       "| Afghanistan | 19 | 09-02-2020 | 0 | 0 | 0 | 0 |\n",
       "| Afghanistan | 20 | 10-02-2020 | 0 | 0 | 0 | 0 |\n",
       "| Afghanistan | 21 | 11-02-2020 | 0 | 0 | 0 | 0 |\n",
       "| Afghanistan | 22 | 12-02-2020 | 0 | 0 | 0 | 0 |\n",
       "| Afghanistan | 23 | 13-02-2020 | 0 | 0 | 0 | 0 |\n",
       "| Afghanistan | 24 | 14-02-2020 | 0 | 0 | 0 | 0 |\n",
       "| Afghanistan | 25 | 15-02-2020 | 0 | 0 | 0 | 0 |\n",
       "| Afghanistan | 26 | 16-02-2020 | 0 | 0 | 0 | 0 |\n",
       "| Afghanistan | 27 | 17-02-2020 | 0 | 0 | 0 | 0 |\n",
       "| Afghanistan | 28 | 18-02-2020 | 0 | 0 | 0 | 0 |\n",
       "| Afghanistan | 29 | 19-02-2020 | 0 | 0 | 0 | 0 |\n",
       "| Afghanistan | 30 | 20-02-2020 | 0 | 0 | 0 | 0 |\n",
       "| ⋮ | ⋮ | ⋮ | ⋮ | ⋮ | ⋮ | ⋮ |\n",
       "| Zimbabwe |  97 | 27-04-2020 | 32 | 4 | 28 | 4 |\n",
       "| Zimbabwe |  98 | 28-04-2020 | 32 | 4 | 28 | 4 |\n",
       "| Zimbabwe |  99 | 29-04-2020 | 32 | 4 | 28 | 4 |\n",
       "| Zimbabwe | 100 | 30-04-2020 | 40 | 4 | 36 | 4 |\n",
       "| Zimbabwe | 101 | 01-05-2020 | 40 | 4 | 36 | 4 |\n",
       "| Zimbabwe | 102 | 02-05-2020 | 40 | 4 | 36 | 4 |\n",
       "| Zimbabwe | 103 | 03-05-2020 | 40 | 4 | 36 | 4 |\n",
       "| Zimbabwe | 104 | 04-05-2020 | 40 | 4 | 36 | 4 |\n",
       "| Zimbabwe | 105 | 05-05-2020 | 40 | 4 | 36 | 4 |\n",
       "| Zimbabwe | 106 | 06-05-2020 | 40 | 4 | 36 | 4 |\n",
       "| Zimbabwe | 107 | 07-05-2020 | 40 | 4 | 36 | 4 |\n",
       "| Zimbabwe | 108 | 08-05-2020 | 40 | 4 | 36 | 4 |\n",
       "| Zimbabwe | 109 | 09-05-2020 | 40 | 4 | 36 | 4 |\n",
       "| Zimbabwe | 110 | 10-05-2020 | 40 | 4 | 36 | 4 |\n",
       "| Zimbabwe | 111 | 11-05-2020 | 40 | 4 | 36 | 4 |\n",
       "| Zimbabwe | 112 | 12-05-2020 | 40 | 4 | 36 | 4 |\n",
       "| Zimbabwe | 113 | 13-05-2020 | 40 | 4 | 36 | 4 |\n",
       "| Zimbabwe | 114 | 14-05-2020 | 40 | 4 | 36 | 4 |\n",
       "| Zimbabwe | 115 | 15-05-2020 | 42 | 4 | 38 | 4 |\n",
       "| Zimbabwe | 116 | 16-05-2020 | 42 | 4 | 38 | 4 |\n",
       "| Zimbabwe | 117 | 17-05-2020 | 44 | 4 | 40 | 4 |\n",
       "| Zimbabwe | 118 | 18-05-2020 | 46 | 4 | 42 | 4 |\n",
       "| Zimbabwe | 119 | 19-05-2020 | 46 | 4 | 42 | 4 |\n",
       "| Zimbabwe | 120 | 20-05-2020 | 48 | 4 | 44 | 4 |\n",
       "| Zimbabwe | 121 | 21-05-2020 | 51 | 4 | 47 | 4 |\n",
       "| Zimbabwe | 122 | 22-05-2020 | 51 | 4 | 47 | 4 |\n",
       "| Zimbabwe | 123 | 23-05-2020 | 56 | 4 | 52 | 4 |\n",
       "| Zimbabwe | 124 | 24-05-2020 | 56 | 4 | 52 | 4 |\n",
       "| Zimbabwe | 125 | 25-05-2020 | 56 | 4 | 52 | 4 |\n",
       "| Zimbabwe | 126 | 26-05-2020 | 56 | 4 | 52 | 4 |\n",
       "\n"
      ],
      "text/plain": [
       "      Country     Day Date       Confirmed Deaths Active.Cases Closed.Cases\n",
       "1     Afghanistan  1  22-01-2020 0         0      0            0           \n",
       "2     Afghanistan  2  23-01-2020 0         0      0            0           \n",
       "3     Afghanistan  3  24-01-2020 0         0      0            0           \n",
       "4     Afghanistan  4  25-01-2020 0         0      0            0           \n",
       "5     Afghanistan  5  26-01-2020 0         0      0            0           \n",
       "6     Afghanistan  6  27-01-2020 0         0      0            0           \n",
       "7     Afghanistan  7  28-01-2020 0         0      0            0           \n",
       "8     Afghanistan  8  29-01-2020 0         0      0            0           \n",
       "9     Afghanistan  9  30-01-2020 0         0      0            0           \n",
       "10    Afghanistan 10  31-01-2020 0         0      0            0           \n",
       "11    Afghanistan 11  01-02-2020 0         0      0            0           \n",
       "12    Afghanistan 12  02-02-2020 0         0      0            0           \n",
       "13    Afghanistan 13  03-02-2020 0         0      0            0           \n",
       "14    Afghanistan 14  04-02-2020 0         0      0            0           \n",
       "15    Afghanistan 15  05-02-2020 0         0      0            0           \n",
       "16    Afghanistan 16  06-02-2020 0         0      0            0           \n",
       "17    Afghanistan 17  07-02-2020 0         0      0            0           \n",
       "18    Afghanistan 18  08-02-2020 0         0      0            0           \n",
       "19    Afghanistan 19  09-02-2020 0         0      0            0           \n",
       "20    Afghanistan 20  10-02-2020 0         0      0            0           \n",
       "21    Afghanistan 21  11-02-2020 0         0      0            0           \n",
       "22    Afghanistan 22  12-02-2020 0         0      0            0           \n",
       "23    Afghanistan 23  13-02-2020 0         0      0            0           \n",
       "24    Afghanistan 24  14-02-2020 0         0      0            0           \n",
       "25    Afghanistan 25  15-02-2020 0         0      0            0           \n",
       "26    Afghanistan 26  16-02-2020 0         0      0            0           \n",
       "27    Afghanistan 27  17-02-2020 0         0      0            0           \n",
       "28    Afghanistan 28  18-02-2020 0         0      0            0           \n",
       "29    Afghanistan 29  19-02-2020 0         0      0            0           \n",
       "30    Afghanistan 30  20-02-2020 0         0      0            0           \n",
       "⋮     ⋮           ⋮   ⋮          ⋮         ⋮      ⋮            ⋮           \n",
       "23533 Zimbabwe     97 27-04-2020 32        4      28           4           \n",
       "23534 Zimbabwe     98 28-04-2020 32        4      28           4           \n",
       "23535 Zimbabwe     99 29-04-2020 32        4      28           4           \n",
       "23536 Zimbabwe    100 30-04-2020 40        4      36           4           \n",
       "23537 Zimbabwe    101 01-05-2020 40        4      36           4           \n",
       "23538 Zimbabwe    102 02-05-2020 40        4      36           4           \n",
       "23539 Zimbabwe    103 03-05-2020 40        4      36           4           \n",
       "23540 Zimbabwe    104 04-05-2020 40        4      36           4           \n",
       "23541 Zimbabwe    105 05-05-2020 40        4      36           4           \n",
       "23542 Zimbabwe    106 06-05-2020 40        4      36           4           \n",
       "23543 Zimbabwe    107 07-05-2020 40        4      36           4           \n",
       "23544 Zimbabwe    108 08-05-2020 40        4      36           4           \n",
       "23545 Zimbabwe    109 09-05-2020 40        4      36           4           \n",
       "23546 Zimbabwe    110 10-05-2020 40        4      36           4           \n",
       "23547 Zimbabwe    111 11-05-2020 40        4      36           4           \n",
       "23548 Zimbabwe    112 12-05-2020 40        4      36           4           \n",
       "23549 Zimbabwe    113 13-05-2020 40        4      36           4           \n",
       "23550 Zimbabwe    114 14-05-2020 40        4      36           4           \n",
       "23551 Zimbabwe    115 15-05-2020 42        4      38           4           \n",
       "23552 Zimbabwe    116 16-05-2020 42        4      38           4           \n",
       "23553 Zimbabwe    117 17-05-2020 44        4      40           4           \n",
       "23554 Zimbabwe    118 18-05-2020 46        4      42           4           \n",
       "23555 Zimbabwe    119 19-05-2020 46        4      42           4           \n",
       "23556 Zimbabwe    120 20-05-2020 48        4      44           4           \n",
       "23557 Zimbabwe    121 21-05-2020 51        4      47           4           \n",
       "23558 Zimbabwe    122 22-05-2020 51        4      47           4           \n",
       "23559 Zimbabwe    123 23-05-2020 56        4      52           4           \n",
       "23560 Zimbabwe    124 24-05-2020 56        4      52           4           \n",
       "23561 Zimbabwe    125 25-05-2020 56        4      52           4           \n",
       "23562 Zimbabwe    126 26-05-2020 56        4      52           4           "
      ]
     },
     "metadata": {},
     "output_type": "display_data"
    }
   ],
   "source": [
    "# includes data of all the countries\n",
    "all = read.csv('COVID-19/Mixed/countryWise_bulk_summary.csv')\n",
    "\n",
    "# includes data of four majour location\n",
    "three = read.csv('COVID-19/THREE/Three_dataset_locationWise.csv')\n",
    "#all\n",
    "#three"
   ]
  },
  {
   "cell_type": "code",
   "execution_count": 5,
   "metadata": {},
   "outputs": [],
   "source": [
    "\n",
    "# extracting the desired dataset\n",
    "extractDatases <- function(region){\n",
    "    if(region %in% c(\"Hubei\", \"World\")) {\n",
    "    temp = three[which(str_detect(three$Location, region)),]\n",
    "    row.names(temp) <- NULL\n",
    "} else {\n",
    "    temp = all[which(str_detect(all$Country, region)),]\n",
    "    row.names(temp) <- NULL\n",
    "}\n",
    "\n",
    "return(temp)\n",
    "}\n"
   ]
  },
  {
   "cell_type": "code",
   "execution_count": 7,
   "metadata": {},
   "outputs": [],
   "source": [
    "# country list\n",
    "countries = matrix(levels(as.factor(all$Country)))\n",
    "#head(countries, 10)\n",
    "\n",
    "# Four majour locations\n",
    "locations = matrix(levels(as.factor(three$Location)))\n",
    "#locations"
   ]
  },
  {
   "cell_type": "markdown",
   "metadata": {},
   "source": [
    "<br /> \n",
    "### Choosing desired Country/Region"
   ]
  },
  {
   "cell_type": "code",
   "execution_count": 9,
   "metadata": {},
   "outputs": [],
   "source": [
    "# country i.e. to be used throughout the analysis\n",
    " rName = \"World\" # without hubei\n",
    "\n",
    "# some other possible values of rName:\n",
    "# 'World', 'Hubei', 'Diamond Cruise', 'Italy', 'Japan'.....etc"
   ]
  },
  {
   "cell_type": "markdown",
   "metadata": {},
   "source": [
    "<hr />"
   ]
  },
  {
   "cell_type": "code",
   "execution_count": 10,
   "metadata": {},
   "outputs": [
    {
     "data": {
      "text/html": [
       "<table>\n",
       "<caption>A data.frame: 6 × 7</caption>\n",
       "<thead>\n",
       "\t<tr><th></th><th scope=col>Location</th><th scope=col>Day</th><th scope=col>Date</th><th scope=col>Confirmed</th><th scope=col>Deaths</th><th scope=col>Active.Cases</th><th scope=col>Closed.Cases</th></tr>\n",
       "\t<tr><th></th><th scope=col>&lt;fct&gt;</th><th scope=col>&lt;int&gt;</th><th scope=col>&lt;fct&gt;</th><th scope=col>&lt;int&gt;</th><th scope=col>&lt;int&gt;</th><th scope=col>&lt;int&gt;</th><th scope=col>&lt;int&gt;</th></tr>\n",
       "</thead>\n",
       "<tbody>\n",
       "\t<tr><th scope=row>121</th><td>World</td><td>121</td><td>21-05-2020</td><td>5057774</td><td>328998</td><td>4728776</td><td>328998</td></tr>\n",
       "\t<tr><th scope=row>122</th><td>World</td><td>122</td><td>22-05-2020</td><td>5166873</td><td>334255</td><td>4832618</td><td>334255</td></tr>\n",
       "\t<tr><th scope=row>123</th><td>World</td><td>123</td><td>23-05-2020</td><td>5267185</td><td>338196</td><td>4928989</td><td>338196</td></tr>\n",
       "\t<tr><th scope=row>124</th><td>World</td><td>124</td><td>24-05-2020</td><td>5365075</td><td>341137</td><td>5023938</td><td>341137</td></tr>\n",
       "\t<tr><th scope=row>125</th><td>World</td><td>125</td><td>25-05-2020</td><td>5453669</td><td>344241</td><td>5109428</td><td>344241</td></tr>\n",
       "\t<tr><th scope=row>126</th><td>World</td><td>126</td><td>26-05-2020</td><td>5548562</td><td>348200</td><td>5200362</td><td>348200</td></tr>\n",
       "</tbody>\n",
       "</table>\n"
      ],
      "text/latex": [
       "A data.frame: 6 × 7\n",
       "\\begin{tabular}{r|lllllll}\n",
       "  & Location & Day & Date & Confirmed & Deaths & Active.Cases & Closed.Cases\\\\\n",
       "  & <fct> & <int> & <fct> & <int> & <int> & <int> & <int>\\\\\n",
       "\\hline\n",
       "\t121 & World & 121 & 21-05-2020 & 5057774 & 328998 & 4728776 & 328998\\\\\n",
       "\t122 & World & 122 & 22-05-2020 & 5166873 & 334255 & 4832618 & 334255\\\\\n",
       "\t123 & World & 123 & 23-05-2020 & 5267185 & 338196 & 4928989 & 338196\\\\\n",
       "\t124 & World & 124 & 24-05-2020 & 5365075 & 341137 & 5023938 & 341137\\\\\n",
       "\t125 & World & 125 & 25-05-2020 & 5453669 & 344241 & 5109428 & 344241\\\\\n",
       "\t126 & World & 126 & 26-05-2020 & 5548562 & 348200 & 5200362 & 348200\\\\\n",
       "\\end{tabular}\n"
      ],
      "text/markdown": [
       "\n",
       "A data.frame: 6 × 7\n",
       "\n",
       "| <!--/--> | Location &lt;fct&gt; | Day &lt;int&gt; | Date &lt;fct&gt; | Confirmed &lt;int&gt; | Deaths &lt;int&gt; | Active.Cases &lt;int&gt; | Closed.Cases &lt;int&gt; |\n",
       "|---|---|---|---|---|---|---|---|\n",
       "| 121 | World | 121 | 21-05-2020 | 5057774 | 328998 | 4728776 | 328998 |\n",
       "| 122 | World | 122 | 22-05-2020 | 5166873 | 334255 | 4832618 | 334255 |\n",
       "| 123 | World | 123 | 23-05-2020 | 5267185 | 338196 | 4928989 | 338196 |\n",
       "| 124 | World | 124 | 24-05-2020 | 5365075 | 341137 | 5023938 | 341137 |\n",
       "| 125 | World | 125 | 25-05-2020 | 5453669 | 344241 | 5109428 | 344241 |\n",
       "| 126 | World | 126 | 26-05-2020 | 5548562 | 348200 | 5200362 | 348200 |\n",
       "\n"
      ],
      "text/plain": [
       "    Location Day Date       Confirmed Deaths Active.Cases Closed.Cases\n",
       "121 World    121 21-05-2020 5057774   328998 4728776      328998      \n",
       "122 World    122 22-05-2020 5166873   334255 4832618      334255      \n",
       "123 World    123 23-05-2020 5267185   338196 4928989      338196      \n",
       "124 World    124 24-05-2020 5365075   341137 5023938      341137      \n",
       "125 World    125 25-05-2020 5453669   344241 5109428      344241      \n",
       "126 World    126 26-05-2020 5548562   348200 5200362      348200      "
      ]
     },
     "metadata": {},
     "output_type": "display_data"
    }
   ],
   "source": [
    "# filtering out desired country/location \n",
    "if(rName == \"China\"){\n",
    "    region1 = extractDatases(rName)\n",
    "\n",
    "    # joining Hubei for complete data of china\n",
    "    region2 = extractDatases(\"Hubei\")\n",
    "\n",
    "    region = cbind(region1[,1:3], region1[,4:7]+region2[,4:7])\n",
    "    colnames(region) <- colnames(region1)\n",
    "} else {\n",
    "    region = extractDatases(rName)\n",
    "}\n",
    "\n",
    "tail(region)"
   ]
  },
  {
   "cell_type": "markdown",
   "metadata": {},
   "source": [
    "<hr />"
   ]
  },
  {
   "cell_type": "code",
   "execution_count": 11,
   "metadata": {},
   "outputs": [
    {
     "data": {
      "text/html": [
       "<table>\n",
       "<caption>A data.frame: 10 × 5</caption>\n",
       "<thead>\n",
       "\t<tr><th></th><th scope=col>Day</th><th scope=col>Confirmed</th><th scope=col>Deaths</th><th scope=col>Active.Cases</th><th scope=col>Closed.Cases</th></tr>\n",
       "\t<tr><th></th><th scope=col>&lt;int&gt;</th><th scope=col>&lt;int&gt;</th><th scope=col>&lt;int&gt;</th><th scope=col>&lt;int&gt;</th><th scope=col>&lt;int&gt;</th></tr>\n",
       "</thead>\n",
       "<tbody>\n",
       "\t<tr><th scope=row>1</th><td> 1</td><td> 111</td><td>0</td><td> 111</td><td>0</td></tr>\n",
       "\t<tr><th scope=row>2</th><td> 2</td><td> 210</td><td>0</td><td> 210</td><td>0</td></tr>\n",
       "\t<tr><th scope=row>3</th><td> 3</td><td> 392</td><td>0</td><td> 392</td><td>0</td></tr>\n",
       "\t<tr><th scope=row>4</th><td> 4</td><td> 673</td><td>0</td><td> 673</td><td>0</td></tr>\n",
       "\t<tr><th scope=row>5</th><td> 5</td><td>1060</td><td>0</td><td>1060</td><td>0</td></tr>\n",
       "\t<tr><th scope=row>6</th><td> 6</td><td>1504</td><td>0</td><td>1504</td><td>0</td></tr>\n",
       "\t<tr><th scope=row>7</th><td> 7</td><td>2024</td><td>0</td><td>2024</td><td>0</td></tr>\n",
       "\t<tr><th scope=row>8</th><td> 8</td><td>2612</td><td>0</td><td>2612</td><td>0</td></tr>\n",
       "\t<tr><th scope=row>9</th><td> 9</td><td>3331</td><td>0</td><td>3331</td><td>0</td></tr>\n",
       "\t<tr><th scope=row>10</th><td>10</td><td>4122</td><td>0</td><td>4122</td><td>0</td></tr>\n",
       "</tbody>\n",
       "</table>\n"
      ],
      "text/latex": [
       "A data.frame: 10 × 5\n",
       "\\begin{tabular}{r|lllll}\n",
       "  & Day & Confirmed & Deaths & Active.Cases & Closed.Cases\\\\\n",
       "  & <int> & <int> & <int> & <int> & <int>\\\\\n",
       "\\hline\n",
       "\t1 &  1 &  111 & 0 &  111 & 0\\\\\n",
       "\t2 &  2 &  210 & 0 &  210 & 0\\\\\n",
       "\t3 &  3 &  392 & 0 &  392 & 0\\\\\n",
       "\t4 &  4 &  673 & 0 &  673 & 0\\\\\n",
       "\t5 &  5 & 1060 & 0 & 1060 & 0\\\\\n",
       "\t6 &  6 & 1504 & 0 & 1504 & 0\\\\\n",
       "\t7 &  7 & 2024 & 0 & 2024 & 0\\\\\n",
       "\t8 &  8 & 2612 & 0 & 2612 & 0\\\\\n",
       "\t9 &  9 & 3331 & 0 & 3331 & 0\\\\\n",
       "\t10 & 10 & 4122 & 0 & 4122 & 0\\\\\n",
       "\\end{tabular}\n"
      ],
      "text/markdown": [
       "\n",
       "A data.frame: 10 × 5\n",
       "\n",
       "| <!--/--> | Day &lt;int&gt; | Confirmed &lt;int&gt; | Deaths &lt;int&gt; | Active.Cases &lt;int&gt; | Closed.Cases &lt;int&gt; |\n",
       "|---|---|---|---|---|---|\n",
       "| 1 |  1 |  111 | 0 |  111 | 0 |\n",
       "| 2 |  2 |  210 | 0 |  210 | 0 |\n",
       "| 3 |  3 |  392 | 0 |  392 | 0 |\n",
       "| 4 |  4 |  673 | 0 |  673 | 0 |\n",
       "| 5 |  5 | 1060 | 0 | 1060 | 0 |\n",
       "| 6 |  6 | 1504 | 0 | 1504 | 0 |\n",
       "| 7 |  7 | 2024 | 0 | 2024 | 0 |\n",
       "| 8 |  8 | 2612 | 0 | 2612 | 0 |\n",
       "| 9 |  9 | 3331 | 0 | 3331 | 0 |\n",
       "| 10 | 10 | 4122 | 0 | 4122 | 0 |\n",
       "\n"
      ],
      "text/plain": [
       "   Day Confirmed Deaths Active.Cases Closed.Cases\n",
       "1   1   111      0       111         0           \n",
       "2   2   210      0       210         0           \n",
       "3   3   392      0       392         0           \n",
       "4   4   673      0       673         0           \n",
       "5   5  1060      0      1060         0           \n",
       "6   6  1504      0      1504         0           \n",
       "7   7  2024      0      2024         0           \n",
       "8   8  2612      0      2612         0           \n",
       "9   9  3331      0      3331         0           \n",
       "10 10  4122      0      4122         0           "
      ]
     },
     "metadata": {},
     "output_type": "display_data"
    }
   ],
   "source": [
    "region=region[,c(2, 4:7)]\n",
    "head(region, 10)"
   ]
  },
  {
   "cell_type": "code",
   "execution_count": 12,
   "metadata": {},
   "outputs": [],
   "source": [
    "# calculate the percent (using Confirmed cases as total)\n",
    "percent <- function(dfName){\n",
    "    get(dfName) -> df\n",
    "    part <- NULL\n",
    "    \n",
    "    for(i in 1:nrow(df)) {\n",
    "        val = df[i,\"Active.Cases\"]\n",
    "        Total = df[i,\"Confirmed\"]\n",
    "        \n",
    "        \n",
    "        if(i == 1)\n",
    "            if(val==0)\n",
    "                part = 0\n",
    "            else\n",
    "                part = as.numeric((val*100)/Total)\n",
    "        else\n",
    "            if(val==0)\n",
    "                part = c(part, 0)\n",
    "            else\n",
    "                part <- c(part, as.numeric((val*100)/Total))\n",
    "    }\n",
    "        \n",
    "    return(part)\n",
    "}"
   ]
  },
  {
   "cell_type": "markdown",
   "metadata": {},
   "source": [
    "<hr />"
   ]
  },
  {
   "cell_type": "code",
   "execution_count": 13,
   "metadata": {},
   "outputs": [],
   "source": [
    "# CASES -> percentage\n",
    "region$'percent_active' = percent(\"region\")     # Active cases, out of every 100 Confirmed cases\n",
    "region$'percent_closed' = 100-percent(\"region\") # Closed cases, out of every 100 Confirmed cases"
   ]
  },
  {
   "cell_type": "code",
   "execution_count": 14,
   "metadata": {},
   "outputs": [
    {
     "data": {
      "text/html": [
       "<table>\n",
       "<caption>A data.frame: 6 × 7</caption>\n",
       "<thead>\n",
       "\t<tr><th></th><th scope=col>Day</th><th scope=col>Confirmed</th><th scope=col>Deaths</th><th scope=col>Active.Cases</th><th scope=col>Closed.Cases</th><th scope=col>percent_active</th><th scope=col>percent_closed</th></tr>\n",
       "\t<tr><th></th><th scope=col>&lt;int&gt;</th><th scope=col>&lt;int&gt;</th><th scope=col>&lt;int&gt;</th><th scope=col>&lt;int&gt;</th><th scope=col>&lt;int&gt;</th><th scope=col>&lt;dbl&gt;</th><th scope=col>&lt;dbl&gt;</th></tr>\n",
       "</thead>\n",
       "<tbody>\n",
       "\t<tr><th scope=row>121</th><td>121</td><td>5057774</td><td>328998</td><td>4728776</td><td>328998</td><td>93.49520</td><td>6.504798</td></tr>\n",
       "\t<tr><th scope=row>122</th><td>122</td><td>5166873</td><td>334255</td><td>4832618</td><td>334255</td><td>93.53081</td><td>6.469193</td></tr>\n",
       "\t<tr><th scope=row>123</th><td>123</td><td>5267185</td><td>338196</td><td>4928989</td><td>338196</td><td>93.57919</td><td>6.420811</td></tr>\n",
       "\t<tr><th scope=row>124</th><td>124</td><td>5365075</td><td>341137</td><td>5023938</td><td>341137</td><td>93.64152</td><td>6.358476</td></tr>\n",
       "\t<tr><th scope=row>125</th><td>125</td><td>5453669</td><td>344241</td><td>5109428</td><td>344241</td><td>93.68790</td><td>6.312099</td></tr>\n",
       "\t<tr><th scope=row>126</th><td>126</td><td>5548562</td><td>348200</td><td>5200362</td><td>348200</td><td>93.72450</td><td>6.275500</td></tr>\n",
       "</tbody>\n",
       "</table>\n"
      ],
      "text/latex": [
       "A data.frame: 6 × 7\n",
       "\\begin{tabular}{r|lllllll}\n",
       "  & Day & Confirmed & Deaths & Active.Cases & Closed.Cases & percent\\_active & percent\\_closed\\\\\n",
       "  & <int> & <int> & <int> & <int> & <int> & <dbl> & <dbl>\\\\\n",
       "\\hline\n",
       "\t121 & 121 & 5057774 & 328998 & 4728776 & 328998 & 93.49520 & 6.504798\\\\\n",
       "\t122 & 122 & 5166873 & 334255 & 4832618 & 334255 & 93.53081 & 6.469193\\\\\n",
       "\t123 & 123 & 5267185 & 338196 & 4928989 & 338196 & 93.57919 & 6.420811\\\\\n",
       "\t124 & 124 & 5365075 & 341137 & 5023938 & 341137 & 93.64152 & 6.358476\\\\\n",
       "\t125 & 125 & 5453669 & 344241 & 5109428 & 344241 & 93.68790 & 6.312099\\\\\n",
       "\t126 & 126 & 5548562 & 348200 & 5200362 & 348200 & 93.72450 & 6.275500\\\\\n",
       "\\end{tabular}\n"
      ],
      "text/markdown": [
       "\n",
       "A data.frame: 6 × 7\n",
       "\n",
       "| <!--/--> | Day &lt;int&gt; | Confirmed &lt;int&gt; | Deaths &lt;int&gt; | Active.Cases &lt;int&gt; | Closed.Cases &lt;int&gt; | percent_active &lt;dbl&gt; | percent_closed &lt;dbl&gt; |\n",
       "|---|---|---|---|---|---|---|---|\n",
       "| 121 | 121 | 5057774 | 328998 | 4728776 | 328998 | 93.49520 | 6.504798 |\n",
       "| 122 | 122 | 5166873 | 334255 | 4832618 | 334255 | 93.53081 | 6.469193 |\n",
       "| 123 | 123 | 5267185 | 338196 | 4928989 | 338196 | 93.57919 | 6.420811 |\n",
       "| 124 | 124 | 5365075 | 341137 | 5023938 | 341137 | 93.64152 | 6.358476 |\n",
       "| 125 | 125 | 5453669 | 344241 | 5109428 | 344241 | 93.68790 | 6.312099 |\n",
       "| 126 | 126 | 5548562 | 348200 | 5200362 | 348200 | 93.72450 | 6.275500 |\n",
       "\n"
      ],
      "text/plain": [
       "    Day Confirmed Deaths Active.Cases Closed.Cases percent_active\n",
       "121 121 5057774   328998 4728776      328998       93.49520      \n",
       "122 122 5166873   334255 4832618      334255       93.53081      \n",
       "123 123 5267185   338196 4928989      338196       93.57919      \n",
       "124 124 5365075   341137 5023938      341137       93.64152      \n",
       "125 125 5453669   344241 5109428      344241       93.68790      \n",
       "126 126 5548562   348200 5200362      348200       93.72450      \n",
       "    percent_closed\n",
       "121 6.504798      \n",
       "122 6.469193      \n",
       "123 6.420811      \n",
       "124 6.358476      \n",
       "125 6.312099      \n",
       "126 6.275500      "
      ]
     },
     "metadata": {},
     "output_type": "display_data"
    }
   ],
   "source": [
    "tail(region)"
   ]
  },
  {
   "cell_type": "code",
   "execution_count": 15,
   "metadata": {},
   "outputs": [],
   "source": [
    "#write.csv(region, file = \"COVID-19/regionToPredictActive.csv\")"
   ]
  },
  {
   "cell_type": "markdown",
   "metadata": {},
   "source": [
    "<br />* Dataset is ready"
   ]
  },
  {
   "cell_type": "markdown",
   "metadata": {},
   "source": [
    "<hr /><br />"
   ]
  },
  {
   "cell_type": "markdown",
   "metadata": {},
   "source": [
    "### Understanding the plot"
   ]
  },
  {
   "cell_type": "code",
   "execution_count": 16,
   "metadata": {},
   "outputs": [
    {
     "name": "stderr",
     "output_type": "stream",
     "text": [
      "Warning message:\n",
      "“Use of `region$Day` is discouraged. Use `Day` instead.”\n",
      "Warning message:\n",
      "“Use of `region$percent_active` is discouraged. Use `percent_active` instead.”\n"
     ]
    },
    {
     "data": {
      "image/png": "[encoded data removed]",
      "text/plain": [
       "plot without title"
      ]
     },
     "metadata": {
      "image/png": {
       "height": 420,
       "width": 420
      },
      "text/plain": {
       "height": 420,
       "width": 420
      }
     },
     "output_type": "display_data"
    }
   ],
   "source": [
    "# Day vs %Closed Cases\n",
    "region.scatter.plot <- ggplot(region, aes(x = region$Day, y = region$percent_active)) +\n",
    "                        geom_point()\n",
    "region.scatter.plot"
   ]
  },
  {
   "cell_type": "code",
   "execution_count": 17,
   "metadata": {},
   "outputs": [
    {
     "data": {
      "text/html": [
       "<table>\n",
       "<caption>A data.frame: 6 × 7</caption>\n",
       "<thead>\n",
       "\t<tr><th></th><th scope=col>Day</th><th scope=col>Confirmed</th><th scope=col>Deaths</th><th scope=col>Active.Cases</th><th scope=col>Closed.Cases</th><th scope=col>percent_active</th><th scope=col>percent_closed</th></tr>\n",
       "\t<tr><th></th><th scope=col>&lt;int&gt;</th><th scope=col>&lt;int&gt;</th><th scope=col>&lt;int&gt;</th><th scope=col>&lt;int&gt;</th><th scope=col>&lt;int&gt;</th><th scope=col>&lt;dbl&gt;</th><th scope=col>&lt;dbl&gt;</th></tr>\n",
       "</thead>\n",
       "<tbody>\n",
       "\t<tr><th scope=row>121</th><td>121</td><td>5057774</td><td>328998</td><td>4728776</td><td>328998</td><td>93.49520</td><td>6.504798</td></tr>\n",
       "\t<tr><th scope=row>122</th><td>122</td><td>5166873</td><td>334255</td><td>4832618</td><td>334255</td><td>93.53081</td><td>6.469193</td></tr>\n",
       "\t<tr><th scope=row>123</th><td>123</td><td>5267185</td><td>338196</td><td>4928989</td><td>338196</td><td>93.57919</td><td>6.420811</td></tr>\n",
       "\t<tr><th scope=row>124</th><td>124</td><td>5365075</td><td>341137</td><td>5023938</td><td>341137</td><td>93.64152</td><td>6.358476</td></tr>\n",
       "\t<tr><th scope=row>125</th><td>125</td><td>5453669</td><td>344241</td><td>5109428</td><td>344241</td><td>93.68790</td><td>6.312099</td></tr>\n",
       "\t<tr><th scope=row>126</th><td>126</td><td>5548562</td><td>348200</td><td>5200362</td><td>348200</td><td>93.72450</td><td>6.275500</td></tr>\n",
       "</tbody>\n",
       "</table>\n"
      ],
      "text/latex": [
       "A data.frame: 6 × 7\n",
       "\\begin{tabular}{r|lllllll}\n",
       "  & Day & Confirmed & Deaths & Active.Cases & Closed.Cases & percent\\_active & percent\\_closed\\\\\n",
       "  & <int> & <int> & <int> & <int> & <int> & <dbl> & <dbl>\\\\\n",
       "\\hline\n",
       "\t121 & 121 & 5057774 & 328998 & 4728776 & 328998 & 93.49520 & 6.504798\\\\\n",
       "\t122 & 122 & 5166873 & 334255 & 4832618 & 334255 & 93.53081 & 6.469193\\\\\n",
       "\t123 & 123 & 5267185 & 338196 & 4928989 & 338196 & 93.57919 & 6.420811\\\\\n",
       "\t124 & 124 & 5365075 & 341137 & 5023938 & 341137 & 93.64152 & 6.358476\\\\\n",
       "\t125 & 125 & 5453669 & 344241 & 5109428 & 344241 & 93.68790 & 6.312099\\\\\n",
       "\t126 & 126 & 5548562 & 348200 & 5200362 & 348200 & 93.72450 & 6.275500\\\\\n",
       "\\end{tabular}\n"
      ],
      "text/markdown": [
       "\n",
       "A data.frame: 6 × 7\n",
       "\n",
       "| <!--/--> | Day &lt;int&gt; | Confirmed &lt;int&gt; | Deaths &lt;int&gt; | Active.Cases &lt;int&gt; | Closed.Cases &lt;int&gt; | percent_active &lt;dbl&gt; | percent_closed &lt;dbl&gt; |\n",
       "|---|---|---|---|---|---|---|---|\n",
       "| 121 | 121 | 5057774 | 328998 | 4728776 | 328998 | 93.49520 | 6.504798 |\n",
       "| 122 | 122 | 5166873 | 334255 | 4832618 | 334255 | 93.53081 | 6.469193 |\n",
       "| 123 | 123 | 5267185 | 338196 | 4928989 | 338196 | 93.57919 | 6.420811 |\n",
       "| 124 | 124 | 5365075 | 341137 | 5023938 | 341137 | 93.64152 | 6.358476 |\n",
       "| 125 | 125 | 5453669 | 344241 | 5109428 | 344241 | 93.68790 | 6.312099 |\n",
       "| 126 | 126 | 5548562 | 348200 | 5200362 | 348200 | 93.72450 | 6.275500 |\n",
       "\n"
      ],
      "text/plain": [
       "    Day Confirmed Deaths Active.Cases Closed.Cases percent_active\n",
       "121 121 5057774   328998 4728776      328998       93.49520      \n",
       "122 122 5166873   334255 4832618      334255       93.53081      \n",
       "123 123 5267185   338196 4928989      338196       93.57919      \n",
       "124 124 5365075   341137 5023938      341137       93.64152      \n",
       "125 125 5453669   344241 5109428      344241       93.68790      \n",
       "126 126 5548562   348200 5200362      348200       93.72450      \n",
       "    percent_closed\n",
       "121 6.504798      \n",
       "122 6.469193      \n",
       "123 6.420811      \n",
       "124 6.358476      \n",
       "125 6.312099      \n",
       "126 6.275500      "
      ]
     },
     "metadata": {},
     "output_type": "display_data"
    }
   ],
   "source": [
    "tail(region)"
   ]
  },
  {
   "cell_type": "markdown",
   "metadata": {},
   "source": [
    "<br /><hr /><br />"
   ]
  },
  {
   "cell_type": "markdown",
   "metadata": {},
   "source": [
    "## Data-Analysis <br />"
   ]
  },
  {
   "cell_type": "code",
   "execution_count": 18,
   "metadata": {},
   "outputs": [
    {
     "data": {
      "text/html": [
       "<table>\n",
       "<caption>A data.frame: 5 × 7</caption>\n",
       "<thead>\n",
       "\t<tr><th></th><th scope=col>Day</th><th scope=col>Confirmed</th><th scope=col>Deaths</th><th scope=col>Active.Cases</th><th scope=col>Closed.Cases</th><th scope=col>percent_active</th><th scope=col>percent_closed</th></tr>\n",
       "\t<tr><th></th><th scope=col>&lt;int&gt;</th><th scope=col>&lt;int&gt;</th><th scope=col>&lt;int&gt;</th><th scope=col>&lt;int&gt;</th><th scope=col>&lt;int&gt;</th><th scope=col>&lt;dbl&gt;</th><th scope=col>&lt;dbl&gt;</th></tr>\n",
       "</thead>\n",
       "<tbody>\n",
       "\t<tr><th scope=row>70</th><td>70</td><td> 791081</td><td>40987</td><td> 750094</td><td>40987</td><td>94.81886</td><td>5.181138</td></tr>\n",
       "\t<tr><th scope=row>71</th><td>71</td><td> 866693</td><td>46431</td><td> 820262</td><td>46431</td><td>94.64274</td><td>5.357260</td></tr>\n",
       "\t<tr><th scope=row>72</th><td>72</td><td> 947653</td><td>52575</td><td> 895078</td><td>52575</td><td>94.45208</td><td>5.547917</td></tr>\n",
       "\t<tr><th scope=row>73</th><td>73</td><td>1030254</td><td>58573</td><td> 971681</td><td>58573</td><td>94.31470</td><td>5.685297</td></tr>\n",
       "\t<tr><th scope=row>74</th><td>74</td><td>1110373</td><td>64740</td><td>1045633</td><td>64740</td><td>94.16953</td><td>5.830473</td></tr>\n",
       "</tbody>\n",
       "</table>\n"
      ],
      "text/latex": [
       "A data.frame: 5 × 7\n",
       "\\begin{tabular}{r|lllllll}\n",
       "  & Day & Confirmed & Deaths & Active.Cases & Closed.Cases & percent\\_active & percent\\_closed\\\\\n",
       "  & <int> & <int> & <int> & <int> & <int> & <dbl> & <dbl>\\\\\n",
       "\\hline\n",
       "\t70 & 70 &  791081 & 40987 &  750094 & 40987 & 94.81886 & 5.181138\\\\\n",
       "\t71 & 71 &  866693 & 46431 &  820262 & 46431 & 94.64274 & 5.357260\\\\\n",
       "\t72 & 72 &  947653 & 52575 &  895078 & 52575 & 94.45208 & 5.547917\\\\\n",
       "\t73 & 73 & 1030254 & 58573 &  971681 & 58573 & 94.31470 & 5.685297\\\\\n",
       "\t74 & 74 & 1110373 & 64740 & 1045633 & 64740 & 94.16953 & 5.830473\\\\\n",
       "\\end{tabular}\n"
      ],
      "text/markdown": [
       "\n",
       "A data.frame: 5 × 7\n",
       "\n",
       "| <!--/--> | Day &lt;int&gt; | Confirmed &lt;int&gt; | Deaths &lt;int&gt; | Active.Cases &lt;int&gt; | Closed.Cases &lt;int&gt; | percent_active &lt;dbl&gt; | percent_closed &lt;dbl&gt; |\n",
       "|---|---|---|---|---|---|---|---|\n",
       "| 70 | 70 |  791081 | 40987 |  750094 | 40987 | 94.81886 | 5.181138 |\n",
       "| 71 | 71 |  866693 | 46431 |  820262 | 46431 | 94.64274 | 5.357260 |\n",
       "| 72 | 72 |  947653 | 52575 |  895078 | 52575 | 94.45208 | 5.547917 |\n",
       "| 73 | 73 | 1030254 | 58573 |  971681 | 58573 | 94.31470 | 5.685297 |\n",
       "| 74 | 74 | 1110373 | 64740 | 1045633 | 64740 | 94.16953 | 5.830473 |\n",
       "\n"
      ],
      "text/plain": [
       "   Day Confirmed Deaths Active.Cases Closed.Cases percent_active percent_closed\n",
       "70 70   791081   40987   750094      40987        94.81886       5.181138      \n",
       "71 71   866693   46431   820262      46431        94.64274       5.357260      \n",
       "72 72   947653   52575   895078      52575        94.45208       5.547917      \n",
       "73 73  1030254   58573   971681      58573        94.31470       5.685297      \n",
       "74 74  1110373   64740  1045633      64740        94.16953       5.830473      "
      ]
     },
     "metadata": {},
     "output_type": "display_data"
    }
   ],
   "source": [
    "# setting the theme\n",
    "theme_set(theme_classic())\n",
    "temp = region[c(70:74),]\n",
    "region = region[-c(70:74),]\n",
    "temp"
   ]
  },
  {
   "cell_type": "code",
   "execution_count": 19,
   "metadata": {},
   "outputs": [],
   "source": [
    "set.seed(20) # generages same set of random sample every time\n",
    "\n",
    "training.samples <- region$Day %>%\n",
    "  createDataPartition(p = 0.8, list = FALSE)\n",
    "\n",
    "train.data  <- region[training.samples, ]\n",
    "test.data <- region[-training.samples, ]"
   ]
  },
  {
   "cell_type": "code",
   "execution_count": 20,
   "metadata": {},
   "outputs": [
    {
     "data": {
      "text/html": [
       "<table>\n",
       "<caption>A data.frame: 3 × 7</caption>\n",
       "<thead>\n",
       "\t<tr><th></th><th scope=col>Day</th><th scope=col>Confirmed</th><th scope=col>Deaths</th><th scope=col>Active.Cases</th><th scope=col>Closed.Cases</th><th scope=col>percent_active</th><th scope=col>percent_closed</th></tr>\n",
       "\t<tr><th></th><th scope=col>&lt;int&gt;</th><th scope=col>&lt;int&gt;</th><th scope=col>&lt;int&gt;</th><th scope=col>&lt;int&gt;</th><th scope=col>&lt;int&gt;</th><th scope=col>&lt;dbl&gt;</th><th scope=col>&lt;dbl&gt;</th></tr>\n",
       "</thead>\n",
       "<tbody>\n",
       "\t<tr><th scope=row>122</th><td>122</td><td>5166873</td><td>334255</td><td>4832618</td><td>334255</td><td>93.53081</td><td>6.469193</td></tr>\n",
       "\t<tr><th scope=row>123</th><td>123</td><td>5267185</td><td>338196</td><td>4928989</td><td>338196</td><td>93.57919</td><td>6.420811</td></tr>\n",
       "\t<tr><th scope=row>124</th><td>124</td><td>5365075</td><td>341137</td><td>5023938</td><td>341137</td><td>93.64152</td><td>6.358476</td></tr>\n",
       "</tbody>\n",
       "</table>\n"
      ],
      "text/latex": [
       "A data.frame: 3 × 7\n",
       "\\begin{tabular}{r|lllllll}\n",
       "  & Day & Confirmed & Deaths & Active.Cases & Closed.Cases & percent\\_active & percent\\_closed\\\\\n",
       "  & <int> & <int> & <int> & <int> & <int> & <dbl> & <dbl>\\\\\n",
       "\\hline\n",
       "\t122 & 122 & 5166873 & 334255 & 4832618 & 334255 & 93.53081 & 6.469193\\\\\n",
       "\t123 & 123 & 5267185 & 338196 & 4928989 & 338196 & 93.57919 & 6.420811\\\\\n",
       "\t124 & 124 & 5365075 & 341137 & 5023938 & 341137 & 93.64152 & 6.358476\\\\\n",
       "\\end{tabular}\n"
      ],
      "text/markdown": [
       "\n",
       "A data.frame: 3 × 7\n",
       "\n",
       "| <!--/--> | Day &lt;int&gt; | Confirmed &lt;int&gt; | Deaths &lt;int&gt; | Active.Cases &lt;int&gt; | Closed.Cases &lt;int&gt; | percent_active &lt;dbl&gt; | percent_closed &lt;dbl&gt; |\n",
       "|---|---|---|---|---|---|---|---|\n",
       "| 122 | 122 | 5166873 | 334255 | 4832618 | 334255 | 93.53081 | 6.469193 |\n",
       "| 123 | 123 | 5267185 | 338196 | 4928989 | 338196 | 93.57919 | 6.420811 |\n",
       "| 124 | 124 | 5365075 | 341137 | 5023938 | 341137 | 93.64152 | 6.358476 |\n",
       "\n"
      ],
      "text/plain": [
       "    Day Confirmed Deaths Active.Cases Closed.Cases percent_active\n",
       "122 122 5166873   334255 4832618      334255       93.53081      \n",
       "123 123 5267185   338196 4928989      338196       93.57919      \n",
       "124 124 5365075   341137 5023938      341137       93.64152      \n",
       "    percent_closed\n",
       "122 6.469193      \n",
       "123 6.420811      \n",
       "124 6.358476      "
      ]
     },
     "metadata": {},
     "output_type": "display_data"
    },
    {
     "data": {
      "text/html": [
       "<table>\n",
       "<caption>A data.frame: 3 × 7</caption>\n",
       "<thead>\n",
       "\t<tr><th></th><th scope=col>Day</th><th scope=col>Confirmed</th><th scope=col>Deaths</th><th scope=col>Active.Cases</th><th scope=col>Closed.Cases</th><th scope=col>percent_active</th><th scope=col>percent_closed</th></tr>\n",
       "\t<tr><th></th><th scope=col>&lt;int&gt;</th><th scope=col>&lt;int&gt;</th><th scope=col>&lt;int&gt;</th><th scope=col>&lt;int&gt;</th><th scope=col>&lt;int&gt;</th><th scope=col>&lt;dbl&gt;</th><th scope=col>&lt;dbl&gt;</th></tr>\n",
       "</thead>\n",
       "<tbody>\n",
       "\t<tr><th scope=row>7</th><td> 7</td><td> 2024</td><td>0</td><td> 2024</td><td>0</td><td>100.00000</td><td>0.000000000</td></tr>\n",
       "\t<tr><th scope=row>10</th><td>10</td><td> 4122</td><td>0</td><td> 4122</td><td>0</td><td>100.00000</td><td>0.000000000</td></tr>\n",
       "\t<tr><th scope=row>21</th><td>21</td><td>11436</td><td>1</td><td>11435</td><td>1</td><td> 99.99126</td><td>0.008744316</td></tr>\n",
       "</tbody>\n",
       "</table>\n"
      ],
      "text/latex": [
       "A data.frame: 3 × 7\n",
       "\\begin{tabular}{r|lllllll}\n",
       "  & Day & Confirmed & Deaths & Active.Cases & Closed.Cases & percent\\_active & percent\\_closed\\\\\n",
       "  & <int> & <int> & <int> & <int> & <int> & <dbl> & <dbl>\\\\\n",
       "\\hline\n",
       "\t7 &  7 &  2024 & 0 &  2024 & 0 & 100.00000 & 0.000000000\\\\\n",
       "\t10 & 10 &  4122 & 0 &  4122 & 0 & 100.00000 & 0.000000000\\\\\n",
       "\t21 & 21 & 11436 & 1 & 11435 & 1 &  99.99126 & 0.008744316\\\\\n",
       "\\end{tabular}\n"
      ],
      "text/markdown": [
       "\n",
       "A data.frame: 3 × 7\n",
       "\n",
       "| <!--/--> | Day &lt;int&gt; | Confirmed &lt;int&gt; | Deaths &lt;int&gt; | Active.Cases &lt;int&gt; | Closed.Cases &lt;int&gt; | percent_active &lt;dbl&gt; | percent_closed &lt;dbl&gt; |\n",
       "|---|---|---|---|---|---|---|---|\n",
       "| 7 |  7 |  2024 | 0 |  2024 | 0 | 100.00000 | 0.000000000 |\n",
       "| 10 | 10 |  4122 | 0 |  4122 | 0 | 100.00000 | 0.000000000 |\n",
       "| 21 | 21 | 11436 | 1 | 11435 | 1 |  99.99126 | 0.008744316 |\n",
       "\n"
      ],
      "text/plain": [
       "   Day Confirmed Deaths Active.Cases Closed.Cases percent_active percent_closed\n",
       "7   7   2024     0       2024        0            100.00000      0.000000000   \n",
       "10 10   4122     0       4122        0            100.00000      0.000000000   \n",
       "21 21  11436     1      11435        1             99.99126      0.008744316   "
      ]
     },
     "metadata": {},
     "output_type": "display_data"
    }
   ],
   "source": [
    "tail(train.data, 3)\n",
    "head(test.data, 3)"
   ]
  },
  {
   "cell_type": "code",
   "execution_count": 21,
   "metadata": {},
   "outputs": [
    {
     "name": "stderr",
     "output_type": "stream",
     "text": [
      "`geom_smooth()` using method = 'loess' and formula 'y ~ x'\n",
      "\n"
     ]
    },
    {
     "data": {
      "image/png": "[encoded data removed]",
      "text/plain": [
       "plot without title"
      ]
     },
     "metadata": {
      "image/png": {
       "height": 420,
       "width": 420
      },
      "text/plain": {
       "height": 420,
       "width": 420
      }
     },
     "output_type": "display_data"
    }
   ],
   "source": [
    "ggplot(train.data, aes(Day, percent_active) ) +\n",
    "  geom_point() +\n",
    "  stat_smooth()"
   ]
  },
  {
   "cell_type": "markdown",
   "metadata": {},
   "source": [
    "<br /><hr /><br />"
   ]
  },
  {
   "cell_type": "markdown",
   "metadata": {},
   "source": [
    "## Regrassion"
   ]
  },
  {
   "cell_type": "markdown",
   "metadata": {},
   "source": [
    "### 1. Linear regression"
   ]
  },
  {
   "cell_type": "code",
   "execution_count": 22,
   "metadata": {},
   "outputs": [],
   "source": [
    "# building linear model\n",
    "fit.lm = lm(Day ~ percent_active, data = train.data)\n",
    "#summary(fit.lm)"
   ]
  },
  {
   "cell_type": "code",
   "execution_count": 23,
   "metadata": {},
   "outputs": [
    {
     "data": {
      "text/html": [
       "<table>\n",
       "<caption>A data.frame: 1 × 3</caption>\n",
       "<thead>\n",
       "\t<tr><th scope=col>RMSE</th><th scope=col>RSE</th><th scope=col>R2</th></tr>\n",
       "\t<tr><th scope=col>&lt;dbl&gt;</th><th scope=col>&lt;dbl&gt;</th><th scope=col>&lt;dbl&gt;</th></tr>\n",
       "</thead>\n",
       "<tbody>\n",
       "\t<tr><td>11.85968</td><td>11.92194</td><td>-14.26377</td></tr>\n",
       "</tbody>\n",
       "</table>\n"
      ],
      "text/latex": [
       "A data.frame: 1 × 3\n",
       "\\begin{tabular}{lll}\n",
       " RMSE & RSE & R2\\\\\n",
       " <dbl> & <dbl> & <dbl>\\\\\n",
       "\\hline\n",
       "\t 11.85968 & 11.92194 & -14.26377\\\\\n",
       "\\end{tabular}\n"
      ],
      "text/markdown": [
       "\n",
       "A data.frame: 1 × 3\n",
       "\n",
       "| RMSE &lt;dbl&gt; | RSE &lt;dbl&gt; | R2 &lt;dbl&gt; |\n",
       "|---|---|---|\n",
       "| 11.85968 | 11.92194 | -14.26377 |\n",
       "\n"
      ],
      "text/plain": [
       "  RMSE     RSE      R2       \n",
       "1 11.85968 11.92194 -14.26377"
      ]
     },
     "metadata": {},
     "output_type": "display_data"
    }
   ],
   "source": [
    "#Residual Standard error (Like Standard Deviation)\n",
    "k=length(fit.lm$coefficients)-1\n",
    "#Multiple R-Squared (Coefficient of Determination)\n",
    "SSyy=sum((train.data$percent_active-mean(train.data$percent_active))**2)\n",
    "    \n",
    "SSE=sum(fit.lm$residuals**2)\n",
    "n=length(fit.lm$residuals)\n",
    "    \n",
    "# final\n",
    "rmse = sqrt(SSE/(n-1))\n",
    "rse = sqrt(SSE/(n-(1+k))) #Residual Standard Error\n",
    "r2 = (SSyy-SSE)/SSyy\n",
    "\n",
    "\n",
    "# Model performance\n",
    "data.frame(\n",
    "       RMSE = rmse,\n",
    "       RSE = rse,\n",
    "       R2 = r2\n",
    "     )"
   ]
  },
  {
   "cell_type": "markdown",
   "metadata": {},
   "source": [
    "<br />"
   ]
  },
  {
   "cell_type": "code",
   "execution_count": 24,
   "metadata": {},
   "outputs": [
    {
     "data": {
      "image/png": "[encoded data removed]",
      "text/plain": [
       "plot without title"
      ]
     },
     "metadata": {
      "image/png": {
       "height": 420,
       "width": 420
      },
      "text/plain": {
       "height": 420,
       "width": 420
      }
     },
     "output_type": "display_data"
    }
   ],
   "source": [
    "trainer <- ggplot(train.data, aes(Day, percent_active) ) +\n",
    "              geom_point() +\n",
    "              stat_smooth(method = lm, formula = y ~ x) +   # linear function\n",
    "  \n",
    "              # decoration\n",
    "              labs( x = \"Days\", y = \"Active Cases (%)\", title = paste(\"\\nTraining plot\", rName, sep = \" - \") ) +\n",
    "              theme( plot.title = element_text(size = 20, face = \"bold\")) \n",
    "trainer"
   ]
  },
  {
   "cell_type": "code",
   "execution_count": 25,
   "metadata": {},
   "outputs": [
    {
     "data": {
      "image/png": "[encoded data removed]",
      "text/plain": [
       "plot without title"
      ]
     },
     "metadata": {
      "image/png": {
       "height": 420,
       "width": 420
      },
      "text/plain": {
       "height": 420,
       "width": 420
      }
     },
     "output_type": "display_data"
    }
   ],
   "source": [
    "tester <- ggplot(test.data, aes(Day, percent_active) ) +\n",
    "              geom_point() +\n",
    "              stat_smooth(method = lm, formula = y ~ x) +   # linear function\n",
    "  \n",
    "              # decoration\n",
    "              labs( x = \"Days\", y = \"Active Cases (%)\", title = paste(\"\\nTesting plot\", rName, sep = \" - \") ) +\n",
    "              theme( plot.title = element_text(size = 20, face = \"bold\")) \n",
    "tester"
   ]
  },
  {
   "cell_type": "markdown",
   "metadata": {},
   "source": [
    "<br />"
   ]
  },
  {
   "cell_type": "code",
   "execution_count": 26,
   "metadata": {},
   "outputs": [
    {
     "data": {
      "text/html": [
       "<table>\n",
       "<caption>A data.frame: 5 × 3</caption>\n",
       "<thead>\n",
       "\t<tr><th></th><th scope=col>Day</th><th scope=col>percent_active</th><th scope=col>Pridicted_percent_active</th></tr>\n",
       "\t<tr><th></th><th scope=col>&lt;int&gt;</th><th scope=col>&lt;dbl&gt;</th><th scope=col>&lt;dbl&gt;</th></tr>\n",
       "</thead>\n",
       "<tbody>\n",
       "\t<tr><th scope=row>117</th><td>117</td><td>93.33053</td><td>96.54693</td></tr>\n",
       "\t<tr><th scope=row>120</th><td>120</td><td>93.45136</td><td>95.15357</td></tr>\n",
       "\t<tr><th scope=row>122</th><td>122</td><td>93.53081</td><td>94.23750</td></tr>\n",
       "\t<tr><th scope=row>123</th><td>123</td><td>93.57919</td><td>93.67958</td></tr>\n",
       "\t<tr><th scope=row>124</th><td>124</td><td>93.64152</td><td>92.96077</td></tr>\n",
       "</tbody>\n",
       "</table>\n"
      ],
      "text/latex": [
       "A data.frame: 5 × 3\n",
       "\\begin{tabular}{r|lll}\n",
       "  & Day & percent\\_active & Pridicted\\_percent\\_active\\\\\n",
       "  & <int> & <dbl> & <dbl>\\\\\n",
       "\\hline\n",
       "\t117 & 117 & 93.33053 & 96.54693\\\\\n",
       "\t120 & 120 & 93.45136 & 95.15357\\\\\n",
       "\t122 & 122 & 93.53081 & 94.23750\\\\\n",
       "\t123 & 123 & 93.57919 & 93.67958\\\\\n",
       "\t124 & 124 & 93.64152 & 92.96077\\\\\n",
       "\\end{tabular}\n"
      ],
      "text/markdown": [
       "\n",
       "A data.frame: 5 × 3\n",
       "\n",
       "| <!--/--> | Day &lt;int&gt; | percent_active &lt;dbl&gt; | Pridicted_percent_active &lt;dbl&gt; |\n",
       "|---|---|---|---|\n",
       "| 117 | 117 | 93.33053 | 96.54693 |\n",
       "| 120 | 120 | 93.45136 | 95.15357 |\n",
       "| 122 | 122 | 93.53081 | 94.23750 |\n",
       "| 123 | 123 | 93.57919 | 93.67958 |\n",
       "| 124 | 124 | 93.64152 | 92.96077 |\n",
       "\n"
      ],
      "text/plain": [
       "    Day percent_active Pridicted_percent_active\n",
       "117 117 93.33053       96.54693                \n",
       "120 120 93.45136       95.15357                \n",
       "122 122 93.53081       94.23750                \n",
       "123 123 93.57919       93.67958                \n",
       "124 124 93.64152       92.96077                "
      ]
     },
     "metadata": {},
     "output_type": "display_data"
    },
    {
     "data": {
      "text/html": [
       "<table>\n",
       "<caption>A data.frame: 5 × 3</caption>\n",
       "<thead>\n",
       "\t<tr><th></th><th scope=col>Day</th><th scope=col>percent_active</th><th scope=col>Pridicted_percent_active</th></tr>\n",
       "\t<tr><th></th><th scope=col>&lt;int&gt;</th><th scope=col>&lt;dbl&gt;</th><th scope=col>&lt;dbl&gt;</th></tr>\n",
       "</thead>\n",
       "<tbody>\n",
       "\t<tr><th scope=row>118</th><td>118</td><td>93.38577</td><td>95.91001</td></tr>\n",
       "\t<tr><th scope=row>119</th><td>119</td><td>93.41378</td><td>95.58699</td></tr>\n",
       "\t<tr><th scope=row>121</th><td>121</td><td>93.49520</td><td>94.64807</td></tr>\n",
       "\t<tr><th scope=row>125</th><td>125</td><td>93.68790</td><td>92.42599</td></tr>\n",
       "\t<tr><th scope=row>126</th><td>126</td><td>93.72450</td><td>92.00395</td></tr>\n",
       "</tbody>\n",
       "</table>\n"
      ],
      "text/latex": [
       "A data.frame: 5 × 3\n",
       "\\begin{tabular}{r|lll}\n",
       "  & Day & percent\\_active & Pridicted\\_percent\\_active\\\\\n",
       "  & <int> & <dbl> & <dbl>\\\\\n",
       "\\hline\n",
       "\t118 & 118 & 93.38577 & 95.91001\\\\\n",
       "\t119 & 119 & 93.41378 & 95.58699\\\\\n",
       "\t121 & 121 & 93.49520 & 94.64807\\\\\n",
       "\t125 & 125 & 93.68790 & 92.42599\\\\\n",
       "\t126 & 126 & 93.72450 & 92.00395\\\\\n",
       "\\end{tabular}\n"
      ],
      "text/markdown": [
       "\n",
       "A data.frame: 5 × 3\n",
       "\n",
       "| <!--/--> | Day &lt;int&gt; | percent_active &lt;dbl&gt; | Pridicted_percent_active &lt;dbl&gt; |\n",
       "|---|---|---|---|\n",
       "| 118 | 118 | 93.38577 | 95.91001 |\n",
       "| 119 | 119 | 93.41378 | 95.58699 |\n",
       "| 121 | 121 | 93.49520 | 94.64807 |\n",
       "| 125 | 125 | 93.68790 | 92.42599 |\n",
       "| 126 | 126 | 93.72450 | 92.00395 |\n",
       "\n"
      ],
      "text/plain": [
       "    Day percent_active Pridicted_percent_active\n",
       "118 118 93.38577       95.91001                \n",
       "119 119 93.41378       95.58699                \n",
       "121 121 93.49520       94.64807                \n",
       "125 125 93.68790       92.42599                \n",
       "126 126 93.72450       92.00395                "
      ]
     },
     "metadata": {},
     "output_type": "display_data"
    }
   ],
   "source": [
    "trained = cbind( # Prediction for training data\n",
    "            train.data[,c(\"Day\", \"percent_active\")],\n",
    "            Pridicted_percent_active = predict(fit.lm, train.data)\n",
    "          )\n",
    "\n",
    "tested = cbind(  # Prediction for tested data\n",
    "            test.data[,c(\"Day\", \"percent_active\")],\n",
    "            Pridicted_percent_active = predict(fit.lm, test.data)\n",
    "         )\n",
    "\n",
    "\n",
    "tail(trained, 5)\n",
    "tail(tested, 5)"
   ]
  },
  {
   "cell_type": "markdown",
   "metadata": {},
   "source": [
    "<br />"
   ]
  },
  {
   "cell_type": "markdown",
   "metadata": {},
   "source": [
    "### 2. Polynomial regression"
   ]
  },
  {
   "cell_type": "code",
   "execution_count": 27,
   "metadata": {},
   "outputs": [
    {
     "data": {
      "text/html": [
       "<table>\n",
       "<caption>A data.frame: 20 × 4</caption>\n",
       "<thead>\n",
       "\t<tr><th scope=col>Degree</th><th scope=col>RMSE</th><th scope=col>RSE</th><th scope=col>R2</th></tr>\n",
       "\t<tr><th scope=col>&lt;int&gt;</th><th scope=col>&lt;dbl&gt;</th><th scope=col>&lt;dbl&gt;</th><th scope=col>&lt;dbl&gt;</th></tr>\n",
       "</thead>\n",
       "<tbody>\n",
       "\t<tr><td> 1</td><td>0.97408292</td><td>0.97919626</td><td>0.8970307</td></tr>\n",
       "\t<tr><td> 2</td><td>0.93643082</td><td>0.94634042</td><td>0.9048372</td></tr>\n",
       "\t<tr><td> 3</td><td>0.32922528</td><td>0.33449322</td><td>0.9882374</td></tr>\n",
       "\t<tr><td> 4</td><td>0.30405127</td><td>0.31059075</td><td>0.9899675</td></tr>\n",
       "\t<tr><td> 5</td><td>0.18230409</td><td>0.18724547</td><td>0.9963933</td></tr>\n",
       "\t<tr><td> 6</td><td>0.14378386</td><td>0.14849933</td><td>0.9977564</td></tr>\n",
       "\t<tr><td> 7</td><td>0.14272700</td><td>0.14823364</td><td>0.9977893</td></tr>\n",
       "\t<tr><td> 8</td><td>0.12779261</td><td>0.13347503</td><td>0.9982277</td></tr>\n",
       "\t<tr><td> 9</td><td>0.11777523</td><td>0.12371716</td><td>0.9984947</td></tr>\n",
       "\t<tr><td>10</td><td>0.11381564</td><td>0.12025090</td><td>0.9985942</td></tr>\n",
       "\t<tr><td>11</td><td>0.09488125</td><td>0.10083390</td><td>0.9990230</td></tr>\n",
       "\t<tr><td>12</td><td>0.09475406</td><td>0.10129635</td><td>0.9990257</td></tr>\n",
       "\t<tr><td>13</td><td>0.09475406</td><td>0.10190475</td><td>0.9990257</td></tr>\n",
       "\t<tr><td>14</td><td>0.07692165</td><td>0.08322949</td><td>0.9993579</td></tr>\n",
       "\t<tr><td>15</td><td>0.07692165</td><td>0.08374168</td><td>0.9993579</td></tr>\n",
       "\t<tr><td>16</td><td>0.07635178</td><td>0.08363918</td><td>0.9993674</td></tr>\n",
       "\t<tr><td>17</td><td>0.07635178</td><td>0.08416688</td><td>0.9993674</td></tr>\n",
       "\t<tr><td>18</td><td>0.06321949</td><td>0.07013572</td><td>0.9995663</td></tr>\n",
       "\t<tr><td>19</td><td>0.06321949</td><td>0.07058968</td><td>0.9995663</td></tr>\n",
       "\t<tr><td>20</td><td>0.05821143</td><td>0.06542400</td><td>0.9996323</td></tr>\n",
       "</tbody>\n",
       "</table>\n"
      ],
      "text/latex": [
       "A data.frame: 20 × 4\n",
       "\\begin{tabular}{llll}\n",
       " Degree & RMSE & RSE & R2\\\\\n",
       " <int> & <dbl> & <dbl> & <dbl>\\\\\n",
       "\\hline\n",
       "\t  1 & 0.97408292 & 0.97919626 & 0.8970307\\\\\n",
       "\t  2 & 0.93643082 & 0.94634042 & 0.9048372\\\\\n",
       "\t  3 & 0.32922528 & 0.33449322 & 0.9882374\\\\\n",
       "\t  4 & 0.30405127 & 0.31059075 & 0.9899675\\\\\n",
       "\t  5 & 0.18230409 & 0.18724547 & 0.9963933\\\\\n",
       "\t  6 & 0.14378386 & 0.14849933 & 0.9977564\\\\\n",
       "\t  7 & 0.14272700 & 0.14823364 & 0.9977893\\\\\n",
       "\t  8 & 0.12779261 & 0.13347503 & 0.9982277\\\\\n",
       "\t  9 & 0.11777523 & 0.12371716 & 0.9984947\\\\\n",
       "\t 10 & 0.11381564 & 0.12025090 & 0.9985942\\\\\n",
       "\t 11 & 0.09488125 & 0.10083390 & 0.9990230\\\\\n",
       "\t 12 & 0.09475406 & 0.10129635 & 0.9990257\\\\\n",
       "\t 13 & 0.09475406 & 0.10190475 & 0.9990257\\\\\n",
       "\t 14 & 0.07692165 & 0.08322949 & 0.9993579\\\\\n",
       "\t 15 & 0.07692165 & 0.08374168 & 0.9993579\\\\\n",
       "\t 16 & 0.07635178 & 0.08363918 & 0.9993674\\\\\n",
       "\t 17 & 0.07635178 & 0.08416688 & 0.9993674\\\\\n",
       "\t 18 & 0.06321949 & 0.07013572 & 0.9995663\\\\\n",
       "\t 19 & 0.06321949 & 0.07058968 & 0.9995663\\\\\n",
       "\t 20 & 0.05821143 & 0.06542400 & 0.9996323\\\\\n",
       "\\end{tabular}\n"
      ],
      "text/markdown": [
       "\n",
       "A data.frame: 20 × 4\n",
       "\n",
       "| Degree &lt;int&gt; | RMSE &lt;dbl&gt; | RSE &lt;dbl&gt; | R2 &lt;dbl&gt; |\n",
       "|---|---|---|---|\n",
       "|  1 | 0.97408292 | 0.97919626 | 0.8970307 |\n",
       "|  2 | 0.93643082 | 0.94634042 | 0.9048372 |\n",
       "|  3 | 0.32922528 | 0.33449322 | 0.9882374 |\n",
       "|  4 | 0.30405127 | 0.31059075 | 0.9899675 |\n",
       "|  5 | 0.18230409 | 0.18724547 | 0.9963933 |\n",
       "|  6 | 0.14378386 | 0.14849933 | 0.9977564 |\n",
       "|  7 | 0.14272700 | 0.14823364 | 0.9977893 |\n",
       "|  8 | 0.12779261 | 0.13347503 | 0.9982277 |\n",
       "|  9 | 0.11777523 | 0.12371716 | 0.9984947 |\n",
       "| 10 | 0.11381564 | 0.12025090 | 0.9985942 |\n",
       "| 11 | 0.09488125 | 0.10083390 | 0.9990230 |\n",
       "| 12 | 0.09475406 | 0.10129635 | 0.9990257 |\n",
       "| 13 | 0.09475406 | 0.10190475 | 0.9990257 |\n",
       "| 14 | 0.07692165 | 0.08322949 | 0.9993579 |\n",
       "| 15 | 0.07692165 | 0.08374168 | 0.9993579 |\n",
       "| 16 | 0.07635178 | 0.08363918 | 0.9993674 |\n",
       "| 17 | 0.07635178 | 0.08416688 | 0.9993674 |\n",
       "| 18 | 0.06321949 | 0.07013572 | 0.9995663 |\n",
       "| 19 | 0.06321949 | 0.07058968 | 0.9995663 |\n",
       "| 20 | 0.05821143 | 0.06542400 | 0.9996323 |\n",
       "\n"
      ],
      "text/plain": [
       "   Degree RMSE       RSE        R2       \n",
       "1   1     0.97408292 0.97919626 0.8970307\n",
       "2   2     0.93643082 0.94634042 0.9048372\n",
       "3   3     0.32922528 0.33449322 0.9882374\n",
       "4   4     0.30405127 0.31059075 0.9899675\n",
       "5   5     0.18230409 0.18724547 0.9963933\n",
       "6   6     0.14378386 0.14849933 0.9977564\n",
       "7   7     0.14272700 0.14823364 0.9977893\n",
       "8   8     0.12779261 0.13347503 0.9982277\n",
       "9   9     0.11777523 0.12371716 0.9984947\n",
       "10 10     0.11381564 0.12025090 0.9985942\n",
       "11 11     0.09488125 0.10083390 0.9990230\n",
       "12 12     0.09475406 0.10129635 0.9990257\n",
       "13 13     0.09475406 0.10190475 0.9990257\n",
       "14 14     0.07692165 0.08322949 0.9993579\n",
       "15 15     0.07692165 0.08374168 0.9993579\n",
       "16 16     0.07635178 0.08363918 0.9993674\n",
       "17 17     0.07635178 0.08416688 0.9993674\n",
       "18 18     0.06321949 0.07013572 0.9995663\n",
       "19 19     0.06321949 0.07058968 0.9995663\n",
       "20 20     0.05821143 0.06542400 0.9996323"
      ]
     },
     "metadata": {},
     "output_type": "display_data"
    }
   ],
   "source": [
    "# Model performance\n",
    "plm.predictions = data.frame(\n",
    "  Degree = NULL,\n",
    "  RMSE = NULL,\n",
    "  RSE = NULL,\n",
    "  R2 = NULL\n",
    ")\n",
    "\n",
    "\n",
    "for(deg in 1:20){\n",
    "    \n",
    "    # building polynomial model\n",
    "    fit.plm = lm(percent_active ~ poly(Day, deg, raw = TRUE), data = train.data)\n",
    "    #summary(fit.plm)\n",
    "\n",
    "    \n",
    "    #Residual Standard error (Like Standard Deviation)\n",
    "    k=length(fit.plm$coefficients)-1\n",
    "    #Multiple R-Squared (Coefficient of Determination)\n",
    "    SSyy=sum((train.data$percent_active-mean(train.data$percent_active))**2)\n",
    "    \n",
    "    SSE=sum(fit.plm$residuals**2)\n",
    "    n=length(fit.plm$residuals)\n",
    "    \n",
    "    \n",
    "    # final\n",
    "    rmse = sqrt(SSE/(n-1))\n",
    "    rse = sqrt(SSE/(n-(1+k))) #Residual Standard Error\n",
    "    r2 = (SSyy-SSE)/SSyy\n",
    "    \n",
    "    temp <- data.frame(\n",
    "                        Degree = deg,\n",
    "                        RMSE = rmse,\n",
    "                        RSE = rse,\n",
    "                        R2 = r2\n",
    "                      )\n",
    "    \n",
    "    plm.predictions = rbind(plm.predictions, temp)\n",
    "}\n",
    "\n",
    "plm.predictions#[which(plm.predictions$RMSE == min(plm.predictions$RMSE)),]"
   ]
  },
  {
   "cell_type": "code",
   "execution_count": 28,
   "metadata": {},
   "outputs": [
    {
     "name": "stderr",
     "output_type": "stream",
     "text": [
      "Warning message in predict.lm(model, train.data):\n",
      "“prediction from a rank-deficient fit may be misleading”\n",
      "Warning message in predict.lm(model, train.data):\n",
      "“prediction from a rank-deficient fit may be misleading”\n",
      "Warning message in predict.lm(model, train.data):\n",
      "“prediction from a rank-deficient fit may be misleading”\n",
      "Warning message in predict.lm(model, train.data):\n",
      "“prediction from a rank-deficient fit may be misleading”\n",
      "Warning message in predict.lm(model, train.data):\n",
      "“prediction from a rank-deficient fit may be misleading”\n",
      "Warning message in predict.lm(model, train.data):\n",
      "“prediction from a rank-deficient fit may be misleading”\n",
      "Warning message in predict.lm(model, train.data):\n",
      "“prediction from a rank-deficient fit may be misleading”\n",
      "Warning message in predict.lm(model, train.data):\n",
      "“prediction from a rank-deficient fit may be misleading”\n"
     ]
    },
    {
     "data": {
      "text/html": [
       "<table>\n",
       "<caption>A data.frame: 20 × 3</caption>\n",
       "<thead>\n",
       "\t<tr><th scope=col>Degree</th><th scope=col>RMSE</th><th scope=col>R2</th></tr>\n",
       "\t<tr><th scope=col>&lt;int&gt;</th><th scope=col>&lt;dbl&gt;</th><th scope=col>&lt;dbl&gt;</th></tr>\n",
       "</thead>\n",
       "<tbody>\n",
       "\t<tr><td> 1</td><td>52.07019</td><td>1.0000000</td></tr>\n",
       "\t<tr><td> 2</td><td>52.07087</td><td>0.9913725</td></tr>\n",
       "\t<tr><td> 3</td><td>52.07817</td><td>0.9077077</td></tr>\n",
       "\t<tr><td> 4</td><td>52.07833</td><td>0.9061214</td></tr>\n",
       "\t<tr><td> 5</td><td>52.07889</td><td>0.9002777</td></tr>\n",
       "\t<tr><td> 6</td><td>52.07901</td><td>0.8990478</td></tr>\n",
       "\t<tr><td> 7</td><td>52.07901</td><td>0.8990182</td></tr>\n",
       "\t<tr><td> 8</td><td>52.07905</td><td>0.8986233</td></tr>\n",
       "\t<tr><td> 9</td><td>52.07907</td><td>0.8983831</td></tr>\n",
       "\t<tr><td>10</td><td>52.07908</td><td>0.8982935</td></tr>\n",
       "\t<tr><td>11</td><td>52.07912</td><td>0.8979079</td></tr>\n",
       "\t<tr><td>12</td><td>52.07912</td><td>0.8979056</td></tr>\n",
       "\t<tr><td>13</td><td>52.07912</td><td>0.8979056</td></tr>\n",
       "\t<tr><td>14</td><td>52.07915</td><td>0.8976071</td></tr>\n",
       "\t<tr><td>15</td><td>52.07915</td><td>0.8976071</td></tr>\n",
       "\t<tr><td>16</td><td>52.07915</td><td>0.8975986</td></tr>\n",
       "\t<tr><td>17</td><td>52.07915</td><td>0.8975986</td></tr>\n",
       "\t<tr><td>18</td><td>52.07917</td><td>0.8974200</td></tr>\n",
       "\t<tr><td>19</td><td>52.07917</td><td>0.8974200</td></tr>\n",
       "\t<tr><td>20</td><td>52.07917</td><td>0.8973607</td></tr>\n",
       "</tbody>\n",
       "</table>\n"
      ],
      "text/latex": [
       "A data.frame: 20 × 3\n",
       "\\begin{tabular}{lll}\n",
       " Degree & RMSE & R2\\\\\n",
       " <int> & <dbl> & <dbl>\\\\\n",
       "\\hline\n",
       "\t  1 & 52.07019 & 1.0000000\\\\\n",
       "\t  2 & 52.07087 & 0.9913725\\\\\n",
       "\t  3 & 52.07817 & 0.9077077\\\\\n",
       "\t  4 & 52.07833 & 0.9061214\\\\\n",
       "\t  5 & 52.07889 & 0.9002777\\\\\n",
       "\t  6 & 52.07901 & 0.8990478\\\\\n",
       "\t  7 & 52.07901 & 0.8990182\\\\\n",
       "\t  8 & 52.07905 & 0.8986233\\\\\n",
       "\t  9 & 52.07907 & 0.8983831\\\\\n",
       "\t 10 & 52.07908 & 0.8982935\\\\\n",
       "\t 11 & 52.07912 & 0.8979079\\\\\n",
       "\t 12 & 52.07912 & 0.8979056\\\\\n",
       "\t 13 & 52.07912 & 0.8979056\\\\\n",
       "\t 14 & 52.07915 & 0.8976071\\\\\n",
       "\t 15 & 52.07915 & 0.8976071\\\\\n",
       "\t 16 & 52.07915 & 0.8975986\\\\\n",
       "\t 17 & 52.07915 & 0.8975986\\\\\n",
       "\t 18 & 52.07917 & 0.8974200\\\\\n",
       "\t 19 & 52.07917 & 0.8974200\\\\\n",
       "\t 20 & 52.07917 & 0.8973607\\\\\n",
       "\\end{tabular}\n"
      ],
      "text/markdown": [
       "\n",
       "A data.frame: 20 × 3\n",
       "\n",
       "| Degree &lt;int&gt; | RMSE &lt;dbl&gt; | R2 &lt;dbl&gt; |\n",
       "|---|---|---|\n",
       "|  1 | 52.07019 | 1.0000000 |\n",
       "|  2 | 52.07087 | 0.9913725 |\n",
       "|  3 | 52.07817 | 0.9077077 |\n",
       "|  4 | 52.07833 | 0.9061214 |\n",
       "|  5 | 52.07889 | 0.9002777 |\n",
       "|  6 | 52.07901 | 0.8990478 |\n",
       "|  7 | 52.07901 | 0.8990182 |\n",
       "|  8 | 52.07905 | 0.8986233 |\n",
       "|  9 | 52.07907 | 0.8983831 |\n",
       "| 10 | 52.07908 | 0.8982935 |\n",
       "| 11 | 52.07912 | 0.8979079 |\n",
       "| 12 | 52.07912 | 0.8979056 |\n",
       "| 13 | 52.07912 | 0.8979056 |\n",
       "| 14 | 52.07915 | 0.8976071 |\n",
       "| 15 | 52.07915 | 0.8976071 |\n",
       "| 16 | 52.07915 | 0.8975986 |\n",
       "| 17 | 52.07915 | 0.8975986 |\n",
       "| 18 | 52.07917 | 0.8974200 |\n",
       "| 19 | 52.07917 | 0.8974200 |\n",
       "| 20 | 52.07917 | 0.8973607 |\n",
       "\n"
      ],
      "text/plain": [
       "   Degree RMSE     R2       \n",
       "1   1     52.07019 1.0000000\n",
       "2   2     52.07087 0.9913725\n",
       "3   3     52.07817 0.9077077\n",
       "4   4     52.07833 0.9061214\n",
       "5   5     52.07889 0.9002777\n",
       "6   6     52.07901 0.8990478\n",
       "7   7     52.07901 0.8990182\n",
       "8   8     52.07905 0.8986233\n",
       "9   9     52.07907 0.8983831\n",
       "10 10     52.07908 0.8982935\n",
       "11 11     52.07912 0.8979079\n",
       "12 12     52.07912 0.8979056\n",
       "13 13     52.07912 0.8979056\n",
       "14 14     52.07915 0.8976071\n",
       "15 15     52.07915 0.8976071\n",
       "16 16     52.07915 0.8975986\n",
       "17 17     52.07915 0.8975986\n",
       "18 18     52.07917 0.8974200\n",
       "19 19     52.07917 0.8974200\n",
       "20 20     52.07917 0.8973607"
      ]
     },
     "metadata": {},
     "output_type": "display_data"
    }
   ],
   "source": [
    "temp = data.frame( Degree = NULL, RMES = NULL, R2 = NULL)\n",
    "\n",
    "for(dg in 1:20){\n",
    "    model = lm(percent_active ~ poly(Day, dg, raw = TRUE), data = train.data)\n",
    "    \n",
    "    t = predict(model, train.data)\n",
    "\n",
    "    # Model performance\n",
    "    t2 = data.frame(\n",
    "          Degree = dg,\n",
    "          RMSE = RMSE(t, train.data$Day),\n",
    "          R2 = R2(t, train.data$Day)\n",
    "        )\n",
    "    \n",
    "    temp = rbind(temp, t2)\n",
    "}\n",
    "temp"
   ]
  },
  {
   "cell_type": "code",
   "execution_count": 29,
   "metadata": {},
   "outputs": [],
   "source": [
    "deg = 10  # degree of polynomial # 11 is far better then 16\n",
    "\n",
    "# building polynomial model\n",
    "fit.plm = lm(percent_active ~ poly(Day, deg, raw = TRUE), data = train.data)\n",
    "#summary(model)"
   ]
  },
  {
   "cell_type": "code",
   "execution_count": 30,
   "metadata": {},
   "outputs": [
    {
     "data": {
      "text/html": [
       "<table>\n",
       "<caption>A data.frame: 1 × 2</caption>\n",
       "<thead>\n",
       "\t<tr><th scope=col>RMSE</th><th scope=col>R2</th></tr>\n",
       "\t<tr><th scope=col>&lt;dbl&gt;</th><th scope=col>&lt;dbl&gt;</th></tr>\n",
       "</thead>\n",
       "<tbody>\n",
       "\t<tr><td>52.07908</td><td>0.8982935</td></tr>\n",
       "</tbody>\n",
       "</table>\n"
      ],
      "text/latex": [
       "A data.frame: 1 × 2\n",
       "\\begin{tabular}{ll}\n",
       " RMSE & R2\\\\\n",
       " <dbl> & <dbl>\\\\\n",
       "\\hline\n",
       "\t 52.07908 & 0.8982935\\\\\n",
       "\\end{tabular}\n"
      ],
      "text/markdown": [
       "\n",
       "A data.frame: 1 × 2\n",
       "\n",
       "| RMSE &lt;dbl&gt; | R2 &lt;dbl&gt; |\n",
       "|---|---|\n",
       "| 52.07908 | 0.8982935 |\n",
       "\n"
      ],
      "text/plain": [
       "  RMSE     R2       \n",
       "1 52.07908 0.8982935"
      ]
     },
     "metadata": {},
     "output_type": "display_data"
    }
   ],
   "source": [
    "p = predict(fit.plm, train.data)\n",
    "\n",
    "# Model performance\n",
    "data.frame(\n",
    "  RMSE = RMSE(p, train.data$Day),\n",
    "  R2 = R2(p, train.data$Day)\n",
    ")"
   ]
  },
  {
   "cell_type": "code",
   "execution_count": null,
   "metadata": {},
   "outputs": [],
   "source": []
  },
  {
   "cell_type": "markdown",
   "metadata": {},
   "source": [
    "<br />"
   ]
  },
  {
   "cell_type": "code",
   "execution_count": 31,
   "metadata": {},
   "outputs": [
    {
     "data": {
      "image/png": "[encoded data removed]",
      "text/plain": [
       "plot without title"
      ]
     },
     "metadata": {
      "image/png": {
       "height": 420,
       "width": 420
      },
      "text/plain": {
       "height": 420,
       "width": 420
      }
     },
     "output_type": "display_data"
    }
   ],
   "source": [
    "trainer <- ggplot(train.data, aes(Day, percent_active) ) +\n",
    "              geom_point() +\n",
    "              stat_smooth(method = lm, formula = y ~ poly(x, deg, raw = TRUE)) +   # polynomial function\n",
    "  \n",
    "              # decoration\n",
    "              labs( x = \"Days\", y = \"Active Cases (%)\", title = paste(\"\\nTraining plot\", rName, sep = \" - \") ) +\n",
    "              theme( plot.title = element_text(size = 20, face = \"bold\")) \n",
    "trainer"
   ]
  },
  {
   "cell_type": "code",
   "execution_count": 32,
   "metadata": {},
   "outputs": [
    {
     "data": {
      "image/png": "[encoded data removed]",
      "text/plain": [
       "plot without title"
      ]
     },
     "metadata": {
      "image/png": {
       "height": 420,
       "width": 420
      },
      "text/plain": {
       "height": 420,
       "width": 420
      }
     },
     "output_type": "display_data"
    }
   ],
   "source": [
    "tester <- ggplot(test.data, aes(Day, percent_active) ) +\n",
    "              geom_point() +\n",
    "              stat_smooth(method = lm, formula = y ~ poly(x, deg, raw = TRUE)) +   # polynomial function\n",
    "  \n",
    "              # decoration\n",
    "              labs( x = \"Days\", y = \"Active Cases (%)\", title = paste(\"\\nTesting plot\", rName, sep = \" - \") ) +\n",
    "              theme( plot.title = element_text(size = 20, face = \"bold\")) \n",
    "tester"
   ]
  },
  {
   "cell_type": "markdown",
   "metadata": {},
   "source": [
    "<br /><br />"
   ]
  },
  {
   "cell_type": "code",
   "execution_count": 33,
   "metadata": {},
   "outputs": [
    {
     "data": {
      "text/html": [
       "<table>\n",
       "<caption>A data.frame: 5 × 3</caption>\n",
       "<thead>\n",
       "\t<tr><th></th><th scope=col>Day</th><th scope=col>percent_active</th><th scope=col>Pridicted_percent_active</th></tr>\n",
       "\t<tr><th></th><th scope=col>&lt;int&gt;</th><th scope=col>&lt;dbl&gt;</th><th scope=col>&lt;dbl&gt;</th></tr>\n",
       "</thead>\n",
       "<tbody>\n",
       "\t<tr><th scope=row>117</th><td>117</td><td>93.33053</td><td>93.28828</td></tr>\n",
       "\t<tr><th scope=row>120</th><td>120</td><td>93.45136</td><td>93.33864</td></tr>\n",
       "\t<tr><th scope=row>122</th><td>122</td><td>93.53081</td><td>93.45626</td></tr>\n",
       "\t<tr><th scope=row>123</th><td>123</td><td>93.57919</td><td>93.57027</td></tr>\n",
       "\t<tr><th scope=row>124</th><td>124</td><td>93.64152</td><td>93.74076</td></tr>\n",
       "</tbody>\n",
       "</table>\n"
      ],
      "text/latex": [
       "A data.frame: 5 × 3\n",
       "\\begin{tabular}{r|lll}\n",
       "  & Day & percent\\_active & Pridicted\\_percent\\_active\\\\\n",
       "  & <int> & <dbl> & <dbl>\\\\\n",
       "\\hline\n",
       "\t117 & 117 & 93.33053 & 93.28828\\\\\n",
       "\t120 & 120 & 93.45136 & 93.33864\\\\\n",
       "\t122 & 122 & 93.53081 & 93.45626\\\\\n",
       "\t123 & 123 & 93.57919 & 93.57027\\\\\n",
       "\t124 & 124 & 93.64152 & 93.74076\\\\\n",
       "\\end{tabular}\n"
      ],
      "text/markdown": [
       "\n",
       "A data.frame: 5 × 3\n",
       "\n",
       "| <!--/--> | Day &lt;int&gt; | percent_active &lt;dbl&gt; | Pridicted_percent_active &lt;dbl&gt; |\n",
       "|---|---|---|---|\n",
       "| 117 | 117 | 93.33053 | 93.28828 |\n",
       "| 120 | 120 | 93.45136 | 93.33864 |\n",
       "| 122 | 122 | 93.53081 | 93.45626 |\n",
       "| 123 | 123 | 93.57919 | 93.57027 |\n",
       "| 124 | 124 | 93.64152 | 93.74076 |\n",
       "\n"
      ],
      "text/plain": [
       "    Day percent_active Pridicted_percent_active\n",
       "117 117 93.33053       93.28828                \n",
       "120 120 93.45136       93.33864                \n",
       "122 122 93.53081       93.45626                \n",
       "123 123 93.57919       93.57027                \n",
       "124 124 93.64152       93.74076                "
      ]
     },
     "metadata": {},
     "output_type": "display_data"
    },
    {
     "data": {
      "text/html": [
       "<table>\n",
       "<caption>A data.frame: 5 × 3</caption>\n",
       "<thead>\n",
       "\t<tr><th></th><th scope=col>Day</th><th scope=col>percent_active</th><th scope=col>Pridicted_percent_active</th></tr>\n",
       "\t<tr><th></th><th scope=col>&lt;int&gt;</th><th scope=col>&lt;dbl&gt;</th><th scope=col>&lt;dbl&gt;</th></tr>\n",
       "</thead>\n",
       "<tbody>\n",
       "\t<tr><th scope=row>118</th><td>118</td><td>93.38577</td><td>93.29786</td></tr>\n",
       "\t<tr><th scope=row>119</th><td>119</td><td>93.41378</td><td>93.31273</td></tr>\n",
       "\t<tr><th scope=row>121</th><td>121</td><td>93.49520</td><td>93.38320</td></tr>\n",
       "\t<tr><th scope=row>125</th><td>125</td><td>93.68790</td><td>93.98681</td></tr>\n",
       "\t<tr><th scope=row>126</th><td>126</td><td>93.72450</td><td>94.33157</td></tr>\n",
       "</tbody>\n",
       "</table>\n"
      ],
      "text/latex": [
       "A data.frame: 5 × 3\n",
       "\\begin{tabular}{r|lll}\n",
       "  & Day & percent\\_active & Pridicted\\_percent\\_active\\\\\n",
       "  & <int> & <dbl> & <dbl>\\\\\n",
       "\\hline\n",
       "\t118 & 118 & 93.38577 & 93.29786\\\\\n",
       "\t119 & 119 & 93.41378 & 93.31273\\\\\n",
       "\t121 & 121 & 93.49520 & 93.38320\\\\\n",
       "\t125 & 125 & 93.68790 & 93.98681\\\\\n",
       "\t126 & 126 & 93.72450 & 94.33157\\\\\n",
       "\\end{tabular}\n"
      ],
      "text/markdown": [
       "\n",
       "A data.frame: 5 × 3\n",
       "\n",
       "| <!--/--> | Day &lt;int&gt; | percent_active &lt;dbl&gt; | Pridicted_percent_active &lt;dbl&gt; |\n",
       "|---|---|---|---|\n",
       "| 118 | 118 | 93.38577 | 93.29786 |\n",
       "| 119 | 119 | 93.41378 | 93.31273 |\n",
       "| 121 | 121 | 93.49520 | 93.38320 |\n",
       "| 125 | 125 | 93.68790 | 93.98681 |\n",
       "| 126 | 126 | 93.72450 | 94.33157 |\n",
       "\n"
      ],
      "text/plain": [
       "    Day percent_active Pridicted_percent_active\n",
       "118 118 93.38577       93.29786                \n",
       "119 119 93.41378       93.31273                \n",
       "121 121 93.49520       93.38320                \n",
       "125 125 93.68790       93.98681                \n",
       "126 126 93.72450       94.33157                "
      ]
     },
     "metadata": {},
     "output_type": "display_data"
    }
   ],
   "source": [
    "trained = cbind( # Prediction for training data\n",
    "            train.data[,c(\"Day\", \"percent_active\")],\n",
    "            Pridicted_percent_active = predict(fit.plm, train.data)\n",
    "          )\n",
    "\n",
    "tested = cbind(  # Prediction for tested data\n",
    "            test.data[,c(\"Day\", \"percent_active\")],\n",
    "            Pridicted_percent_active = predict(fit.plm, test.data)\n",
    "         )\n",
    "\n",
    "\n",
    "tail(trained, 5)\n",
    "tail(tested, 5)"
   ]
  },
  {
   "cell_type": "markdown",
   "metadata": {},
   "source": [
    "<br /> \n",
    "### 3. SVMK Regression"
   ]
  },
  {
   "cell_type": "code",
   "execution_count": 34,
   "metadata": {},
   "outputs": [],
   "source": [
    "# model\n",
    "fit.svmk <- ksvm(percent_active~Day, train.data, kernel=\"rbfdot\")\n",
    "#summary(fit.svmk)"
   ]
  },
  {
   "cell_type": "code",
   "execution_count": 35,
   "metadata": {},
   "outputs": [],
   "source": [
    "predictions <- fit.svmk %>% predict(train.data)"
   ]
  },
  {
   "cell_type": "code",
   "execution_count": 36,
   "metadata": {},
   "outputs": [
    {
     "data": {
      "text/html": [
       "<table>\n",
       "<caption>A data.frame: 1 × 2</caption>\n",
       "<thead>\n",
       "\t<tr><th scope=col>RMSE</th><th scope=col>R2</th></tr>\n",
       "\t<tr><th scope=col>&lt;dbl&gt;</th><th scope=col>&lt;dbl&gt;</th></tr>\n",
       "</thead>\n",
       "<tbody>\n",
       "\t<tr><td>51.93948</td><td>0.8950974</td></tr>\n",
       "</tbody>\n",
       "</table>\n"
      ],
      "text/latex": [
       "A data.frame: 1 × 2\n",
       "\\begin{tabular}{ll}\n",
       " RMSE & R2\\\\\n",
       " <dbl> & <dbl>\\\\\n",
       "\\hline\n",
       "\t 51.93948 & 0.8950974\\\\\n",
       "\\end{tabular}\n"
      ],
      "text/markdown": [
       "\n",
       "A data.frame: 1 × 2\n",
       "\n",
       "| RMSE &lt;dbl&gt; | R2 &lt;dbl&gt; |\n",
       "|---|---|\n",
       "| 51.93948 | 0.8950974 |\n",
       "\n"
      ],
      "text/plain": [
       "  RMSE     R2       \n",
       "1 51.93948 0.8950974"
      ]
     },
     "metadata": {},
     "output_type": "display_data"
    }
   ],
   "source": [
    "# Model performance\n",
    "data.frame(\n",
    "  RMSE = RMSE(predictions, train.data$Day),\n",
    "  R2 = R2(predictions, train.data$Day)\n",
    ")"
   ]
  },
  {
   "cell_type": "markdown",
   "metadata": {},
   "source": [
    "<br />"
   ]
  },
  {
   "cell_type": "code",
   "execution_count": 37,
   "metadata": {},
   "outputs": [
    {
     "data": {
      "text/html": [
       "<table>\n",
       "<caption>A data.frame: 5 × 3</caption>\n",
       "<thead>\n",
       "\t<tr><th></th><th scope=col>Day</th><th scope=col>percent_active</th><th scope=col>Pridicted_percent_active</th></tr>\n",
       "\t<tr><th></th><th scope=col>&lt;int&gt;</th><th scope=col>&lt;dbl&gt;</th><th scope=col>&lt;dbl&gt;</th></tr>\n",
       "</thead>\n",
       "<tbody>\n",
       "\t<tr><th scope=row>117</th><td>117</td><td>93.33053</td><td>93.60081</td></tr>\n",
       "\t<tr><th scope=row>120</th><td>120</td><td>93.45136</td><td>93.72006</td></tr>\n",
       "\t<tr><th scope=row>122</th><td>122</td><td>93.53081</td><td>93.82165</td></tr>\n",
       "\t<tr><th scope=row>123</th><td>123</td><td>93.57919</td><td>93.88074</td></tr>\n",
       "\t<tr><th scope=row>124</th><td>124</td><td>93.64152</td><td>93.94585</td></tr>\n",
       "</tbody>\n",
       "</table>\n"
      ],
      "text/latex": [
       "A data.frame: 5 × 3\n",
       "\\begin{tabular}{r|lll}\n",
       "  & Day & percent\\_active & Pridicted\\_percent\\_active\\\\\n",
       "  & <int> & <dbl> & <dbl>\\\\\n",
       "\\hline\n",
       "\t117 & 117 & 93.33053 & 93.60081\\\\\n",
       "\t120 & 120 & 93.45136 & 93.72006\\\\\n",
       "\t122 & 122 & 93.53081 & 93.82165\\\\\n",
       "\t123 & 123 & 93.57919 & 93.88074\\\\\n",
       "\t124 & 124 & 93.64152 & 93.94585\\\\\n",
       "\\end{tabular}\n"
      ],
      "text/markdown": [
       "\n",
       "A data.frame: 5 × 3\n",
       "\n",
       "| <!--/--> | Day &lt;int&gt; | percent_active &lt;dbl&gt; | Pridicted_percent_active &lt;dbl&gt; |\n",
       "|---|---|---|---|\n",
       "| 117 | 117 | 93.33053 | 93.60081 |\n",
       "| 120 | 120 | 93.45136 | 93.72006 |\n",
       "| 122 | 122 | 93.53081 | 93.82165 |\n",
       "| 123 | 123 | 93.57919 | 93.88074 |\n",
       "| 124 | 124 | 93.64152 | 93.94585 |\n",
       "\n"
      ],
      "text/plain": [
       "    Day percent_active Pridicted_percent_active\n",
       "117 117 93.33053       93.60081                \n",
       "120 120 93.45136       93.72006                \n",
       "122 122 93.53081       93.82165                \n",
       "123 123 93.57919       93.88074                \n",
       "124 124 93.64152       93.94585                "
      ]
     },
     "metadata": {},
     "output_type": "display_data"
    },
    {
     "data": {
      "text/html": [
       "<table>\n",
       "<caption>A data.frame: 5 × 3</caption>\n",
       "<thead>\n",
       "\t<tr><th></th><th scope=col>Day</th><th scope=col>percent_active</th><th scope=col>Pridicted_percent_active</th></tr>\n",
       "\t<tr><th></th><th scope=col>&lt;int&gt;</th><th scope=col>&lt;dbl&gt;</th><th scope=col>&lt;dbl&gt;</th></tr>\n",
       "</thead>\n",
       "<tbody>\n",
       "\t<tr><th scope=row>118</th><td>118</td><td>93.38577</td><td>93.63699</td></tr>\n",
       "\t<tr><th scope=row>119</th><td>119</td><td>93.41378</td><td>93.67652</td></tr>\n",
       "\t<tr><th scope=row>121</th><td>121</td><td>93.49520</td><td>93.76825</td></tr>\n",
       "\t<tr><th scope=row>125</th><td>125</td><td>93.68790</td><td>94.01718</td></tr>\n",
       "\t<tr><th scope=row>126</th><td>126</td><td>93.72450</td><td>94.09477</td></tr>\n",
       "</tbody>\n",
       "</table>\n"
      ],
      "text/latex": [
       "A data.frame: 5 × 3\n",
       "\\begin{tabular}{r|lll}\n",
       "  & Day & percent\\_active & Pridicted\\_percent\\_active\\\\\n",
       "  & <int> & <dbl> & <dbl>\\\\\n",
       "\\hline\n",
       "\t118 & 118 & 93.38577 & 93.63699\\\\\n",
       "\t119 & 119 & 93.41378 & 93.67652\\\\\n",
       "\t121 & 121 & 93.49520 & 93.76825\\\\\n",
       "\t125 & 125 & 93.68790 & 94.01718\\\\\n",
       "\t126 & 126 & 93.72450 & 94.09477\\\\\n",
       "\\end{tabular}\n"
      ],
      "text/markdown": [
       "\n",
       "A data.frame: 5 × 3\n",
       "\n",
       "| <!--/--> | Day &lt;int&gt; | percent_active &lt;dbl&gt; | Pridicted_percent_active &lt;dbl&gt; |\n",
       "|---|---|---|---|\n",
       "| 118 | 118 | 93.38577 | 93.63699 |\n",
       "| 119 | 119 | 93.41378 | 93.67652 |\n",
       "| 121 | 121 | 93.49520 | 93.76825 |\n",
       "| 125 | 125 | 93.68790 | 94.01718 |\n",
       "| 126 | 126 | 93.72450 | 94.09477 |\n",
       "\n"
      ],
      "text/plain": [
       "    Day percent_active Pridicted_percent_active\n",
       "118 118 93.38577       93.63699                \n",
       "119 119 93.41378       93.67652                \n",
       "121 121 93.49520       93.76825                \n",
       "125 125 93.68790       94.01718                \n",
       "126 126 93.72450       94.09477                "
      ]
     },
     "metadata": {},
     "output_type": "display_data"
    }
   ],
   "source": [
    "trained = cbind( # Prediction for training data\n",
    "            train.data[,c(\"Day\", \"percent_active\")],\n",
    "            Pridicted_percent_active = predict(fit.svmk, train.data)\n",
    "          )\n",
    "\n",
    "tested = cbind(  # Prediction for tested data\n",
    "            test.data[,c(\"Day\", \"percent_active\")],\n",
    "            Pridicted_percent_active = predict(fit.svmk, test.data)\n",
    "         )\n",
    "\n",
    "\n",
    "tail(trained, 5)\n",
    "tail(tested, 5)"
   ]
  },
  {
   "cell_type": "markdown",
   "metadata": {},
   "source": [
    "<br />"
   ]
  },
  {
   "cell_type": "code",
   "execution_count": 38,
   "metadata": {},
   "outputs": [
    {
     "name": "stderr",
     "output_type": "stream",
     "text": [
      "`geom_smooth()` using formula 'y ~ x'\n",
      "\n"
     ]
    },
    {
     "data": {
      "image/png": "[encoded data removed]",
      "text/plain": [
       "plot without title"
      ]
     },
     "metadata": {
      "image/png": {
       "height": 420,
       "width": 420
      },
      "text/plain": {
       "height": 420,
       "width": 420
      }
     },
     "output_type": "display_data"
    }
   ],
   "source": [
    "trainer <- ggplot(train.data, aes(Day, percent_active) ) +\n",
    "              geom_point() +\n",
    "              geom_smooth(data=trained, method=\"loess\", size=0) +\n",
    "              geom_line(data = trained, aes(Day, Pridicted_percent_active), color=\"#3366fe\", size=1) +   # polynomial function\n",
    "  \n",
    "              # decoration\n",
    "              labs( x = \"Days\", y = \"Active Cases (%)\", title = paste(\"\\nTraining plot\", rName, sep = \" - \") ) +\n",
    "              theme( plot.title = element_text(size = 20, face = \"bold\")) \n",
    "trainer"
   ]
  },
  {
   "cell_type": "code",
   "execution_count": 39,
   "metadata": {},
   "outputs": [
    {
     "name": "stderr",
     "output_type": "stream",
     "text": [
      "`geom_smooth()` using formula 'y ~ x'\n",
      "\n"
     ]
    },
    {
     "data": {
      "image/png": "[encoded data removed]",
      "text/plain": [
       "plot without title"
      ]
     },
     "metadata": {
      "image/png": {
       "height": 420,
       "width": 420
      },
      "text/plain": {
       "height": 420,
       "width": 420
      }
     },
     "output_type": "display_data"
    }
   ],
   "source": [
    "tester <- ggplot(test.data, aes(Day, percent_active) ) +\n",
    "              geom_point() +\n",
    "              geom_smooth(data=tested, method=\"loess\", size=0) +\n",
    "              geom_line(data = tested, aes(Day, Pridicted_percent_active), color=\"#3366fe\", size=1) +   # polynomial function\n",
    "  \n",
    "              # decoration\n",
    "              labs( x = \"Days\", y = \"Active Cases (%)\", title = paste(\"\\nTesting plot\", rName, sep = \" - \") ) +\n",
    "              theme( plot.title = element_text(size = 20, face = \"bold\")) \n",
    "tester"
   ]
  },
  {
   "cell_type": "markdown",
   "metadata": {},
   "source": [
    "<br /> \n",
    "### 4. KNN Regression"
   ]
  },
  {
   "cell_type": "code",
   "execution_count": 40,
   "metadata": {},
   "outputs": [],
   "source": [
    "x <- as.matrix(train.data[,1])\n",
    "y <- as.matrix(train.data[,7])"
   ]
  },
  {
   "cell_type": "code",
   "execution_count": 41,
   "metadata": {},
   "outputs": [],
   "source": [
    "# fit model\n",
    "fit.knn <- knnreg(x, y, k=2)\n",
    "#summary(fit.knn)"
   ]
  },
  {
   "cell_type": "code",
   "execution_count": 42,
   "metadata": {},
   "outputs": [],
   "source": [
    "predictions <- fit.knn %>% predict(x)"
   ]
  },
  {
   "cell_type": "code",
   "execution_count": 43,
   "metadata": {},
   "outputs": [
    {
     "data": {
      "text/html": [
       "<table>\n",
       "<caption>A data.frame: 1 × 2</caption>\n",
       "<thead>\n",
       "\t<tr><th scope=col>RMSE</th><th scope=col>R2</th></tr>\n",
       "\t<tr><th scope=col>&lt;dbl&gt;</th><th scope=col>&lt;dbl&gt;</th></tr>\n",
       "</thead>\n",
       "<tbody>\n",
       "\t<tr><td>67.87309</td><td>0.8969273</td></tr>\n",
       "</tbody>\n",
       "</table>\n"
      ],
      "text/latex": [
       "A data.frame: 1 × 2\n",
       "\\begin{tabular}{ll}\n",
       " RMSE & R2\\\\\n",
       " <dbl> & <dbl>\\\\\n",
       "\\hline\n",
       "\t 67.87309 & 0.8969273\\\\\n",
       "\\end{tabular}\n"
      ],
      "text/markdown": [
       "\n",
       "A data.frame: 1 × 2\n",
       "\n",
       "| RMSE &lt;dbl&gt; | R2 &lt;dbl&gt; |\n",
       "|---|---|\n",
       "| 67.87309 | 0.8969273 |\n",
       "\n"
      ],
      "text/plain": [
       "  RMSE     R2       \n",
       "1 67.87309 0.8969273"
      ]
     },
     "metadata": {},
     "output_type": "display_data"
    }
   ],
   "source": [
    "data.frame(\n",
    "  RMSE = RMSE(predictions, x),\n",
    "  R2 = R2(predictions, x)\n",
    ")"
   ]
  },
  {
   "cell_type": "markdown",
   "metadata": {},
   "source": [
    "<br />"
   ]
  },
  {
   "cell_type": "code",
   "execution_count": 44,
   "metadata": {},
   "outputs": [
    {
     "data": {
      "text/html": [
       "<table>\n",
       "<caption>A data.frame: 5 × 3</caption>\n",
       "<thead>\n",
       "\t<tr><th></th><th scope=col>Day</th><th scope=col>percent_active</th><th scope=col>Pridicted_percent_active</th></tr>\n",
       "\t<tr><th></th><th scope=col>&lt;int&gt;</th><th scope=col>&lt;dbl&gt;</th><th scope=col>&lt;dbl&gt;</th></tr>\n",
       "</thead>\n",
       "<tbody>\n",
       "\t<tr><th scope=row>117</th><td>117</td><td>93.33053</td><td>6.690584</td></tr>\n",
       "\t<tr><th scope=row>120</th><td>120</td><td>93.45136</td><td>6.508914</td></tr>\n",
       "\t<tr><th scope=row>122</th><td>122</td><td>93.53081</td><td>6.445002</td></tr>\n",
       "\t<tr><th scope=row>123</th><td>123</td><td>93.57919</td><td>6.416160</td></tr>\n",
       "\t<tr><th scope=row>124</th><td>124</td><td>93.64152</td><td>6.389643</td></tr>\n",
       "</tbody>\n",
       "</table>\n"
      ],
      "text/latex": [
       "A data.frame: 5 × 3\n",
       "\\begin{tabular}{r|lll}\n",
       "  & Day & percent\\_active & Pridicted\\_percent\\_active\\\\\n",
       "  & <int> & <dbl> & <dbl>\\\\\n",
       "\\hline\n",
       "\t117 & 117 & 93.33053 & 6.690584\\\\\n",
       "\t120 & 120 & 93.45136 & 6.508914\\\\\n",
       "\t122 & 122 & 93.53081 & 6.445002\\\\\n",
       "\t123 & 123 & 93.57919 & 6.416160\\\\\n",
       "\t124 & 124 & 93.64152 & 6.389643\\\\\n",
       "\\end{tabular}\n"
      ],
      "text/markdown": [
       "\n",
       "A data.frame: 5 × 3\n",
       "\n",
       "| <!--/--> | Day &lt;int&gt; | percent_active &lt;dbl&gt; | Pridicted_percent_active &lt;dbl&gt; |\n",
       "|---|---|---|---|\n",
       "| 117 | 117 | 93.33053 | 6.690584 |\n",
       "| 120 | 120 | 93.45136 | 6.508914 |\n",
       "| 122 | 122 | 93.53081 | 6.445002 |\n",
       "| 123 | 123 | 93.57919 | 6.416160 |\n",
       "| 124 | 124 | 93.64152 | 6.389643 |\n",
       "\n"
      ],
      "text/plain": [
       "    Day percent_active Pridicted_percent_active\n",
       "117 117 93.33053       6.690584                \n",
       "120 120 93.45136       6.508914                \n",
       "122 122 93.53081       6.445002                \n",
       "123 123 93.57919       6.416160                \n",
       "124 124 93.64152       6.389643                "
      ]
     },
     "metadata": {},
     "output_type": "display_data"
    },
    {
     "data": {
      "text/html": [
       "<table>\n",
       "<caption>A data.frame: 5 × 3</caption>\n",
       "<thead>\n",
       "\t<tr><th></th><th scope=col>Day</th><th scope=col>percent_active</th><th scope=col>Pridicted_percent_active</th></tr>\n",
       "\t<tr><th></th><th scope=col>&lt;int&gt;</th><th scope=col>&lt;dbl&gt;</th><th scope=col>&lt;dbl&gt;</th></tr>\n",
       "</thead>\n",
       "<tbody>\n",
       "\t<tr><th scope=row>118</th><td>118</td><td>93.38577</td><td>6.643268</td></tr>\n",
       "\t<tr><th scope=row>119</th><td>119</td><td>93.41378</td><td>6.609051</td></tr>\n",
       "\t<tr><th scope=row>121</th><td>121</td><td>93.49520</td><td>6.508914</td></tr>\n",
       "\t<tr><th scope=row>125</th><td>125</td><td>93.68790</td><td>6.389643</td></tr>\n",
       "\t<tr><th scope=row>126</th><td>126</td><td>93.72450</td><td>6.389643</td></tr>\n",
       "</tbody>\n",
       "</table>\n"
      ],
      "text/latex": [
       "A data.frame: 5 × 3\n",
       "\\begin{tabular}{r|lll}\n",
       "  & Day & percent\\_active & Pridicted\\_percent\\_active\\\\\n",
       "  & <int> & <dbl> & <dbl>\\\\\n",
       "\\hline\n",
       "\t118 & 118 & 93.38577 & 6.643268\\\\\n",
       "\t119 & 119 & 93.41378 & 6.609051\\\\\n",
       "\t121 & 121 & 93.49520 & 6.508914\\\\\n",
       "\t125 & 125 & 93.68790 & 6.389643\\\\\n",
       "\t126 & 126 & 93.72450 & 6.389643\\\\\n",
       "\\end{tabular}\n"
      ],
      "text/markdown": [
       "\n",
       "A data.frame: 5 × 3\n",
       "\n",
       "| <!--/--> | Day &lt;int&gt; | percent_active &lt;dbl&gt; | Pridicted_percent_active &lt;dbl&gt; |\n",
       "|---|---|---|---|\n",
       "| 118 | 118 | 93.38577 | 6.643268 |\n",
       "| 119 | 119 | 93.41378 | 6.609051 |\n",
       "| 121 | 121 | 93.49520 | 6.508914 |\n",
       "| 125 | 125 | 93.68790 | 6.389643 |\n",
       "| 126 | 126 | 93.72450 | 6.389643 |\n",
       "\n"
      ],
      "text/plain": [
       "    Day percent_active Pridicted_percent_active\n",
       "118 118 93.38577       6.643268                \n",
       "119 119 93.41378       6.609051                \n",
       "121 121 93.49520       6.508914                \n",
       "125 125 93.68790       6.389643                \n",
       "126 126 93.72450       6.389643                "
      ]
     },
     "metadata": {},
     "output_type": "display_data"
    }
   ],
   "source": [
    "trained = cbind( # Prediction for training data\n",
    "            train.data[,c(\"Day\", \"percent_active\")],\n",
    "            Pridicted_percent_active = predict(fit.knn, as.matrix(train.data[,1]))\n",
    "          )\n",
    "\n",
    "tested = cbind(  # Prediction for tested data\n",
    "            test.data[,c(\"Day\", \"percent_active\")],\n",
    "            Pridicted_percent_active = predict(fit.knn, as.matrix(test.data[,1]))\n",
    "         )\n",
    "\n",
    "\n",
    "tail(trained, 5)\n",
    "tail(tested, 5)"
   ]
  },
  {
   "cell_type": "markdown",
   "metadata": {},
   "source": [
    "<br />"
   ]
  },
  {
   "cell_type": "code",
   "execution_count": 45,
   "metadata": {},
   "outputs": [
    {
     "name": "stderr",
     "output_type": "stream",
     "text": [
      "`geom_smooth()` using formula 'y ~ x'\n",
      "\n"
     ]
    },
    {
     "data": {
      "image/png": "[encoded data removed]",
      "text/plain": [
       "plot without title"
      ]
     },
     "metadata": {
      "image/png": {
       "height": 420,
       "width": 420
      },
      "text/plain": {
       "height": 420,
       "width": 420
      }
     },
     "output_type": "display_data"
    }
   ],
   "source": [
    "trainer <- ggplot(train.data, aes(Day, percent_active) ) +\n",
    "              geom_point() +\n",
    "              geom_smooth(data=tested, method=\"loess\", size=0) +\n",
    "              geom_line(data = trained, aes(Day, Pridicted_percent_active), color=\"#3366fe\", size=1) +   # polynomial function\n",
    "  \n",
    "              # decoration\n",
    "              labs( x = \"Days\", y = \"Active Cases (%)\", title = paste(\"\\nTraining plot\", rName, sep = \" - \") ) +\n",
    "              theme( plot.title = element_text(size = 20, face = \"bold\")) \n",
    "trainer"
   ]
  },
  {
   "cell_type": "code",
   "execution_count": 46,
   "metadata": {},
   "outputs": [
    {
     "name": "stderr",
     "output_type": "stream",
     "text": [
      "`geom_smooth()` using formula 'y ~ x'\n",
      "\n"
     ]
    },
    {
     "data": {
      "image/png": "[encoded data removed]",
      "text/plain": [
       "plot without title"
      ]
     },
     "metadata": {
      "image/png": {
       "height": 420,
       "width": 420
      },
      "text/plain": {
       "height": 420,
       "width": 420
      }
     },
     "output_type": "display_data"
    }
   ],
   "source": [
    "tester <- ggplot(test.data, aes(Day, percent_active) ) +\n",
    "              geom_point() +\n",
    "              geom_smooth(data=tested, method=\"loess\", size=0) +\n",
    "              geom_line(data = tested, aes(Day, Pridicted_percent_active), color=\"#3366fe\", size=1) +   # polynomial function\n",
    "  \n",
    "              # decoration\n",
    "              labs( x = \"Days\", y = \"Active Cases (%)\", title = paste(\"\\nTesting plot\", rName, sep = \" - \") ) +\n",
    "              theme( plot.title = element_text(size = 20, face = \"bold\")) \n",
    "tester"
   ]
  },
  {
   "cell_type": "markdown",
   "metadata": {},
   "source": [
    "<br />"
   ]
  },
  {
   "cell_type": "markdown",
   "metadata": {},
   "source": [
    "<br /><hr /><br />"
   ]
  },
  {
   "cell_type": "markdown",
   "metadata": {},
   "source": [
    "## Predictions"
   ]
  },
  {
   "cell_type": "code",
   "execution_count": 47,
   "metadata": {},
   "outputs": [],
   "source": [
    "test_Miscellaneous = data.frame(\n",
    "                        Day = rep(NaN, 18),\n",
    "                        #Confirmed = NaN,\n",
    "                        #Active.Cases = NaN,\n",
    "                        percent_active = 8.2854\n",
    "                        #percent_closed = NaN\n",
    "                     )"
   ]
  },
  {
   "cell_type": "code",
   "execution_count": 48,
   "metadata": {},
   "outputs": [
    {
     "data": {
      "text/html": [
       "<table>\n",
       "<caption>A data.frame: 18 × 2</caption>\n",
       "<thead>\n",
       "\t<tr><th scope=col>Day</th><th scope=col>percent_active</th></tr>\n",
       "\t<tr><th scope=col>&lt;int&gt;</th><th scope=col>&lt;dbl&gt;</th></tr>\n",
       "</thead>\n",
       "<tbody>\n",
       "\t<tr><td>62</td><td>8.2854</td></tr>\n",
       "\t<tr><td>63</td><td>8.2854</td></tr>\n",
       "\t<tr><td>64</td><td>8.2854</td></tr>\n",
       "\t<tr><td>65</td><td>8.2854</td></tr>\n",
       "\t<tr><td>66</td><td>8.2854</td></tr>\n",
       "\t<tr><td>67</td><td>8.2854</td></tr>\n",
       "\t<tr><td>68</td><td>8.2854</td></tr>\n",
       "\t<tr><td>69</td><td>8.2854</td></tr>\n",
       "\t<tr><td>70</td><td>8.2854</td></tr>\n",
       "\t<tr><td>71</td><td>8.2854</td></tr>\n",
       "\t<tr><td>72</td><td>8.2854</td></tr>\n",
       "\t<tr><td>73</td><td>8.2854</td></tr>\n",
       "\t<tr><td>74</td><td>8.2854</td></tr>\n",
       "\t<tr><td>75</td><td>8.2854</td></tr>\n",
       "\t<tr><td>76</td><td>8.2854</td></tr>\n",
       "\t<tr><td>77</td><td>8.2854</td></tr>\n",
       "\t<tr><td>78</td><td>8.2854</td></tr>\n",
       "\t<tr><td>79</td><td>8.2854</td></tr>\n",
       "</tbody>\n",
       "</table>\n"
      ],
      "text/latex": [
       "A data.frame: 18 × 2\n",
       "\\begin{tabular}{ll}\n",
       " Day & percent\\_active\\\\\n",
       " <int> & <dbl>\\\\\n",
       "\\hline\n",
       "\t 62 & 8.2854\\\\\n",
       "\t 63 & 8.2854\\\\\n",
       "\t 64 & 8.2854\\\\\n",
       "\t 65 & 8.2854\\\\\n",
       "\t 66 & 8.2854\\\\\n",
       "\t 67 & 8.2854\\\\\n",
       "\t 68 & 8.2854\\\\\n",
       "\t 69 & 8.2854\\\\\n",
       "\t 70 & 8.2854\\\\\n",
       "\t 71 & 8.2854\\\\\n",
       "\t 72 & 8.2854\\\\\n",
       "\t 73 & 8.2854\\\\\n",
       "\t 74 & 8.2854\\\\\n",
       "\t 75 & 8.2854\\\\\n",
       "\t 76 & 8.2854\\\\\n",
       "\t 77 & 8.2854\\\\\n",
       "\t 78 & 8.2854\\\\\n",
       "\t 79 & 8.2854\\\\\n",
       "\\end{tabular}\n"
      ],
      "text/markdown": [
       "\n",
       "A data.frame: 18 × 2\n",
       "\n",
       "| Day &lt;int&gt; | percent_active &lt;dbl&gt; |\n",
       "|---|---|\n",
       "| 62 | 8.2854 |\n",
       "| 63 | 8.2854 |\n",
       "| 64 | 8.2854 |\n",
       "| 65 | 8.2854 |\n",
       "| 66 | 8.2854 |\n",
       "| 67 | 8.2854 |\n",
       "| 68 | 8.2854 |\n",
       "| 69 | 8.2854 |\n",
       "| 70 | 8.2854 |\n",
       "| 71 | 8.2854 |\n",
       "| 72 | 8.2854 |\n",
       "| 73 | 8.2854 |\n",
       "| 74 | 8.2854 |\n",
       "| 75 | 8.2854 |\n",
       "| 76 | 8.2854 |\n",
       "| 77 | 8.2854 |\n",
       "| 78 | 8.2854 |\n",
       "| 79 | 8.2854 |\n",
       "\n"
      ],
      "text/plain": [
       "   Day percent_active\n",
       "1  62  8.2854        \n",
       "2  63  8.2854        \n",
       "3  64  8.2854        \n",
       "4  65  8.2854        \n",
       "5  66  8.2854        \n",
       "6  67  8.2854        \n",
       "7  68  8.2854        \n",
       "8  69  8.2854        \n",
       "9  70  8.2854        \n",
       "10 71  8.2854        \n",
       "11 72  8.2854        \n",
       "12 73  8.2854        \n",
       "13 74  8.2854        \n",
       "14 75  8.2854        \n",
       "15 76  8.2854        \n",
       "16 77  8.2854        \n",
       "17 78  8.2854        \n",
       "18 79  8.2854        "
      ]
     },
     "metadata": {},
     "output_type": "display_data"
    }
   ],
   "source": [
    "# 13th March ---> day 52\n",
    "dNo = c(62:79)    # get the day no. to pridict\n",
    "\n",
    "test_Miscellaneous$'Day' = dNo\n",
    "\n",
    "test_Miscellaneous"
   ]
  },
  {
   "cell_type": "markdown",
   "metadata": {},
   "source": [
    "<br /> \n",
    "2. #### By New Model"
   ]
  },
  {
   "cell_type": "code",
   "execution_count": 49,
   "metadata": {
    "scrolled": false
   },
   "outputs": [
    {
     "data": {
      "text/html": [
       "<table>\n",
       "<caption>A matrix: 18 × 4 of type dbl</caption>\n",
       "<thead>\n",
       "\t<tr><th></th><th scope=col>Day</th><th scope=col>Active (%)</th><th scope=col>By Poly M.</th><th scope=col>By Linear M.</th></tr>\n",
       "</thead>\n",
       "<tbody>\n",
       "\t<tr><th scope=row>1</th><td>62</td><td>95.65697</td><td>95.58980</td><td>1077.233</td></tr>\n",
       "\t<tr><th scope=row>2</th><td>63</td><td>95.51095</td><td>95.43781</td><td>1077.233</td></tr>\n",
       "\t<tr><th scope=row>3</th><td>64</td><td>95.37514</td><td>95.29078</td><td>1077.233</td></tr>\n",
       "\t<tr><th scope=row>4</th><td>65</td><td>95.34773</td><td>95.14880</td><td>1077.233</td></tr>\n",
       "\t<tr><th scope=row>5</th><td>66</td><td>95.24803</td><td>95.01191</td><td>1077.233</td></tr>\n",
       "\t<tr><th scope=row>6</th><td>67</td><td>95.19580</td><td>94.88008</td><td>1077.233</td></tr>\n",
       "\t<tr><th scope=row>7</th><td>68</td><td>95.09325</td><td>94.75325</td><td>1077.233</td></tr>\n",
       "\t<tr><th scope=row>8</th><td>69</td><td>94.94680</td><td>94.63130</td><td>1077.233</td></tr>\n",
       "\t<tr><th scope=row>9</th><td>70</td><td>     NaN</td><td>94.51410</td><td>1077.233</td></tr>\n",
       "\t<tr><th scope=row>10</th><td>71</td><td>     NaN</td><td>94.40147</td><td>1077.233</td></tr>\n",
       "\t<tr><th scope=row>11</th><td>72</td><td>     NaN</td><td>94.29324</td><td>1077.233</td></tr>\n",
       "\t<tr><th scope=row>12</th><td>73</td><td>     NaN</td><td>94.18920</td><td>1077.233</td></tr>\n",
       "\t<tr><th scope=row>13</th><td>74</td><td>     NaN</td><td>94.08914</td><td>1077.233</td></tr>\n",
       "\t<tr><th scope=row>14</th><td>75</td><td>     NaN</td><td>93.99288</td><td>1077.233</td></tr>\n",
       "\t<tr><th scope=row>15</th><td>76</td><td>     NaN</td><td>93.90022</td><td>1077.233</td></tr>\n",
       "\t<tr><th scope=row>16</th><td>77</td><td>     NaN</td><td>93.81101</td><td>1077.233</td></tr>\n",
       "\t<tr><th scope=row>17</th><td>78</td><td>     NaN</td><td>93.72509</td><td>1077.233</td></tr>\n",
       "\t<tr><th scope=row>18</th><td>79</td><td>     NaN</td><td>93.64235</td><td>1077.233</td></tr>\n",
       "</tbody>\n",
       "</table>\n"
      ],
      "text/latex": [
       "A matrix: 18 × 4 of type dbl\n",
       "\\begin{tabular}{r|llll}\n",
       "  & Day & Active (\\%) & By Poly M. & By Linear M.\\\\\n",
       "\\hline\n",
       "\t1 & 62 & 95.65697 & 95.58980 & 1077.233\\\\\n",
       "\t2 & 63 & 95.51095 & 95.43781 & 1077.233\\\\\n",
       "\t3 & 64 & 95.37514 & 95.29078 & 1077.233\\\\\n",
       "\t4 & 65 & 95.34773 & 95.14880 & 1077.233\\\\\n",
       "\t5 & 66 & 95.24803 & 95.01191 & 1077.233\\\\\n",
       "\t6 & 67 & 95.19580 & 94.88008 & 1077.233\\\\\n",
       "\t7 & 68 & 95.09325 & 94.75325 & 1077.233\\\\\n",
       "\t8 & 69 & 94.94680 & 94.63130 & 1077.233\\\\\n",
       "\t9 & 70 &      NaN & 94.51410 & 1077.233\\\\\n",
       "\t10 & 71 &      NaN & 94.40147 & 1077.233\\\\\n",
       "\t11 & 72 &      NaN & 94.29324 & 1077.233\\\\\n",
       "\t12 & 73 &      NaN & 94.18920 & 1077.233\\\\\n",
       "\t13 & 74 &      NaN & 94.08914 & 1077.233\\\\\n",
       "\t14 & 75 &      NaN & 93.99288 & 1077.233\\\\\n",
       "\t15 & 76 &      NaN & 93.90022 & 1077.233\\\\\n",
       "\t16 & 77 &      NaN & 93.81101 & 1077.233\\\\\n",
       "\t17 & 78 &      NaN & 93.72509 & 1077.233\\\\\n",
       "\t18 & 79 &      NaN & 93.64235 & 1077.233\\\\\n",
       "\\end{tabular}\n"
      ],
      "text/markdown": [
       "\n",
       "A matrix: 18 × 4 of type dbl\n",
       "\n",
       "| <!--/--> | Day | Active (%) | By Poly M. | By Linear M. |\n",
       "|---|---|---|---|---|\n",
       "| 1 | 62 | 95.65697 | 95.58980 | 1077.233 |\n",
       "| 2 | 63 | 95.51095 | 95.43781 | 1077.233 |\n",
       "| 3 | 64 | 95.37514 | 95.29078 | 1077.233 |\n",
       "| 4 | 65 | 95.34773 | 95.14880 | 1077.233 |\n",
       "| 5 | 66 | 95.24803 | 95.01191 | 1077.233 |\n",
       "| 6 | 67 | 95.19580 | 94.88008 | 1077.233 |\n",
       "| 7 | 68 | 95.09325 | 94.75325 | 1077.233 |\n",
       "| 8 | 69 | 94.94680 | 94.63130 | 1077.233 |\n",
       "| 9 | 70 |      NaN | 94.51410 | 1077.233 |\n",
       "| 10 | 71 |      NaN | 94.40147 | 1077.233 |\n",
       "| 11 | 72 |      NaN | 94.29324 | 1077.233 |\n",
       "| 12 | 73 |      NaN | 94.18920 | 1077.233 |\n",
       "| 13 | 74 |      NaN | 94.08914 | 1077.233 |\n",
       "| 14 | 75 |      NaN | 93.99288 | 1077.233 |\n",
       "| 15 | 76 |      NaN | 93.90022 | 1077.233 |\n",
       "| 16 | 77 |      NaN | 93.81101 | 1077.233 |\n",
       "| 17 | 78 |      NaN | 93.72509 | 1077.233 |\n",
       "| 18 | 79 |      NaN | 93.64235 | 1077.233 |\n",
       "\n"
      ],
      "text/plain": [
       "   Day Active (%) By Poly M. By Linear M.\n",
       "1  62  95.65697   95.58980   1077.233    \n",
       "2  63  95.51095   95.43781   1077.233    \n",
       "3  64  95.37514   95.29078   1077.233    \n",
       "4  65  95.34773   95.14880   1077.233    \n",
       "5  66  95.24803   95.01191   1077.233    \n",
       "6  67  95.19580   94.88008   1077.233    \n",
       "7  68  95.09325   94.75325   1077.233    \n",
       "8  69  94.94680   94.63130   1077.233    \n",
       "9  70       NaN   94.51410   1077.233    \n",
       "10 71       NaN   94.40147   1077.233    \n",
       "11 72       NaN   94.29324   1077.233    \n",
       "12 73       NaN   94.18920   1077.233    \n",
       "13 74       NaN   94.08914   1077.233    \n",
       "14 75       NaN   93.99288   1077.233    \n",
       "15 76       NaN   93.90022   1077.233    \n",
       "16 77       NaN   93.81101   1077.233    \n",
       "17 78       NaN   93.72509   1077.233    \n",
       "18 79       NaN   93.64235   1077.233    "
      ]
     },
     "metadata": {},
     "output_type": "display_data"
    }
   ],
   "source": [
    "# modeling variable  --->  fit\n",
    "\n",
    "Prediction = cbind(\n",
    "                \"Day\" = 62:79,\n",
    "                \"Active (%)\" = c(region[62:69,\"percent_active\"],rep(NaN, 10)),\n",
    "                #\"By SVMK M.\" = as.numeric(predict(fit.svmk, test_Miscellaneous)),\n",
    "                #\"By KNN M.\" = predict(fit.knn, as.matrix(test_Miscellaneous[,1])),\n",
    "                \"By Poly M.\" = predict(fit.plm, test_Miscellaneous),\n",
    "                \"By Linear M.\" = predict(fit.lm, test_Miscellaneous)\n",
    "             )\n",
    "Prediction\n",
    "\n",
    "#train.data"
   ]
  },
  {
   "cell_type": "code",
   "execution_count": 50,
   "metadata": {},
   "outputs": [
    {
     "data": {
      "text/html": [
       "'numeric'"
      ],
      "text/latex": [
       "'numeric'"
      ],
      "text/markdown": [
       "'numeric'"
      ],
      "text/plain": [
       "[1] \"numeric\""
      ]
     },
     "metadata": {},
     "output_type": "display_data"
    }
   ],
   "source": [
    "class(predict(fit.knn, as.matrix(test_Miscellaneous[,1])))"
   ]
  },
  {
   "cell_type": "markdown",
   "metadata": {},
   "source": [
    "<br /> \n",
    "1. #### By Old Model"
   ]
  },
  {
   "cell_type": "code",
   "execution_count": 51,
   "metadata": {},
   "outputs": [
    {
     "name": "stderr",
     "output_type": "stream",
     "text": [
      "Warning message in cbind(Day = 55:67, `Active (%)` = c(region[55:61, \"percent_active\"], :\n",
      "“number of rows of result is not a multiple of vector length (arg 1)”\n"
     ]
    },
    {
     "data": {
      "text/html": [
       "<table>\n",
       "<caption>A matrix: 18 × 6 of type dbl</caption>\n",
       "<thead>\n",
       "\t<tr><th></th><th scope=col>Day</th><th scope=col>Active (%)</th><th scope=col>By SVMK M.</th><th scope=col>By KNN M.</th><th scope=col>By Poly M.</th><th scope=col>By Linear M.</th></tr>\n",
       "</thead>\n",
       "<tbody>\n",
       "\t<tr><th scope=row>1</th><td>55</td><td>96.54076</td><td>95.67230</td><td>4.374531</td><td>95.58980</td><td>1077.233</td></tr>\n",
       "\t<tr><th scope=row>2</th><td>56</td><td>96.34244</td><td>95.52885</td><td>4.485645</td><td>95.43781</td><td>1077.233</td></tr>\n",
       "\t<tr><th scope=row>3</th><td>57</td><td>96.20140</td><td>95.39080</td><td>4.556954</td><td>95.29078</td><td>1077.233</td></tr>\n",
       "\t<tr><th scope=row>4</th><td>58</td><td>96.16539</td><td>95.25789</td><td>4.639370</td><td>95.14880</td><td>1077.233</td></tr>\n",
       "\t<tr><th scope=row>5</th><td>59</td><td>96.00207</td><td>95.12978</td><td>4.778602</td><td>95.01191</td><td>1077.233</td></tr>\n",
       "\t<tr><th scope=row>6</th><td>60</td><td>95.83154</td><td>95.00613</td><td>4.855474</td><td>94.88008</td><td>1077.233</td></tr>\n",
       "\t<tr><th scope=row>7</th><td>61</td><td>95.70849</td><td>94.88657</td><td>4.921383</td><td>94.75325</td><td>1077.233</td></tr>\n",
       "\t<tr><th scope=row>8</th><td>62</td><td>     NaN</td><td>94.77079</td><td>4.979973</td><td>94.63130</td><td>1077.233</td></tr>\n",
       "\t<tr><th scope=row>9</th><td>63</td><td>     NaN</td><td>94.65851</td><td>4.979973</td><td>94.51410</td><td>1077.233</td></tr>\n",
       "\t<tr><th scope=row>10</th><td>64</td><td>     NaN</td><td>94.54952</td><td>4.979973</td><td>94.40147</td><td>1077.233</td></tr>\n",
       "\t<tr><th scope=row>11</th><td>65</td><td>     NaN</td><td>94.44367</td><td>5.475783</td><td>94.29324</td><td>1077.233</td></tr>\n",
       "\t<tr><th scope=row>12</th><td>66</td><td>     NaN</td><td>94.34092</td><td>5.956404</td><td>94.18920</td><td>1077.233</td></tr>\n",
       "\t<tr><th scope=row>13</th><td>67</td><td>     NaN</td><td>94.24125</td><td>5.956404</td><td>94.08914</td><td>1077.233</td></tr>\n",
       "\t<tr><th scope=row>14</th><td>55</td><td>     NaN</td><td>94.14477</td><td>5.956404</td><td>93.99288</td><td>1077.233</td></tr>\n",
       "\t<tr><th scope=row>15</th><td>56</td><td>96.54076</td><td>94.05159</td><td>5.956404</td><td>93.90022</td><td>1077.233</td></tr>\n",
       "\t<tr><th scope=row>16</th><td>57</td><td>96.34244</td><td>93.96189</td><td>6.192421</td><td>93.81101</td><td>1077.233</td></tr>\n",
       "\t<tr><th scope=row>17</th><td>58</td><td>96.20140</td><td>93.87588</td><td>6.439805</td><td>93.72509</td><td>1077.233</td></tr>\n",
       "\t<tr><th scope=row>18</th><td>59</td><td>96.16539</td><td>93.79377</td><td>6.488281</td><td>93.64235</td><td>1077.233</td></tr>\n",
       "</tbody>\n",
       "</table>\n"
      ],
      "text/latex": [
       "A matrix: 18 × 6 of type dbl\n",
       "\\begin{tabular}{r|llllll}\n",
       "  & Day & Active (\\%) & By SVMK M. & By KNN M. & By Poly M. & By Linear M.\\\\\n",
       "\\hline\n",
       "\t1 & 55 & 96.54076 & 95.67230 & 4.374531 & 95.58980 & 1077.233\\\\\n",
       "\t2 & 56 & 96.34244 & 95.52885 & 4.485645 & 95.43781 & 1077.233\\\\\n",
       "\t3 & 57 & 96.20140 & 95.39080 & 4.556954 & 95.29078 & 1077.233\\\\\n",
       "\t4 & 58 & 96.16539 & 95.25789 & 4.639370 & 95.14880 & 1077.233\\\\\n",
       "\t5 & 59 & 96.00207 & 95.12978 & 4.778602 & 95.01191 & 1077.233\\\\\n",
       "\t6 & 60 & 95.83154 & 95.00613 & 4.855474 & 94.88008 & 1077.233\\\\\n",
       "\t7 & 61 & 95.70849 & 94.88657 & 4.921383 & 94.75325 & 1077.233\\\\\n",
       "\t8 & 62 &      NaN & 94.77079 & 4.979973 & 94.63130 & 1077.233\\\\\n",
       "\t9 & 63 &      NaN & 94.65851 & 4.979973 & 94.51410 & 1077.233\\\\\n",
       "\t10 & 64 &      NaN & 94.54952 & 4.979973 & 94.40147 & 1077.233\\\\\n",
       "\t11 & 65 &      NaN & 94.44367 & 5.475783 & 94.29324 & 1077.233\\\\\n",
       "\t12 & 66 &      NaN & 94.34092 & 5.956404 & 94.18920 & 1077.233\\\\\n",
       "\t13 & 67 &      NaN & 94.24125 & 5.956404 & 94.08914 & 1077.233\\\\\n",
       "\t14 & 55 &      NaN & 94.14477 & 5.956404 & 93.99288 & 1077.233\\\\\n",
       "\t15 & 56 & 96.54076 & 94.05159 & 5.956404 & 93.90022 & 1077.233\\\\\n",
       "\t16 & 57 & 96.34244 & 93.96189 & 6.192421 & 93.81101 & 1077.233\\\\\n",
       "\t17 & 58 & 96.20140 & 93.87588 & 6.439805 & 93.72509 & 1077.233\\\\\n",
       "\t18 & 59 & 96.16539 & 93.79377 & 6.488281 & 93.64235 & 1077.233\\\\\n",
       "\\end{tabular}\n"
      ],
      "text/markdown": [
       "\n",
       "A matrix: 18 × 6 of type dbl\n",
       "\n",
       "| <!--/--> | Day | Active (%) | By SVMK M. | By KNN M. | By Poly M. | By Linear M. |\n",
       "|---|---|---|---|---|---|---|\n",
       "| 1 | 55 | 96.54076 | 95.67230 | 4.374531 | 95.58980 | 1077.233 |\n",
       "| 2 | 56 | 96.34244 | 95.52885 | 4.485645 | 95.43781 | 1077.233 |\n",
       "| 3 | 57 | 96.20140 | 95.39080 | 4.556954 | 95.29078 | 1077.233 |\n",
       "| 4 | 58 | 96.16539 | 95.25789 | 4.639370 | 95.14880 | 1077.233 |\n",
       "| 5 | 59 | 96.00207 | 95.12978 | 4.778602 | 95.01191 | 1077.233 |\n",
       "| 6 | 60 | 95.83154 | 95.00613 | 4.855474 | 94.88008 | 1077.233 |\n",
       "| 7 | 61 | 95.70849 | 94.88657 | 4.921383 | 94.75325 | 1077.233 |\n",
       "| 8 | 62 |      NaN | 94.77079 | 4.979973 | 94.63130 | 1077.233 |\n",
       "| 9 | 63 |      NaN | 94.65851 | 4.979973 | 94.51410 | 1077.233 |\n",
       "| 10 | 64 |      NaN | 94.54952 | 4.979973 | 94.40147 | 1077.233 |\n",
       "| 11 | 65 |      NaN | 94.44367 | 5.475783 | 94.29324 | 1077.233 |\n",
       "| 12 | 66 |      NaN | 94.34092 | 5.956404 | 94.18920 | 1077.233 |\n",
       "| 13 | 67 |      NaN | 94.24125 | 5.956404 | 94.08914 | 1077.233 |\n",
       "| 14 | 55 |      NaN | 94.14477 | 5.956404 | 93.99288 | 1077.233 |\n",
       "| 15 | 56 | 96.54076 | 94.05159 | 5.956404 | 93.90022 | 1077.233 |\n",
       "| 16 | 57 | 96.34244 | 93.96189 | 6.192421 | 93.81101 | 1077.233 |\n",
       "| 17 | 58 | 96.20140 | 93.87588 | 6.439805 | 93.72509 | 1077.233 |\n",
       "| 18 | 59 | 96.16539 | 93.79377 | 6.488281 | 93.64235 | 1077.233 |\n",
       "\n"
      ],
      "text/plain": [
       "   Day Active (%) By SVMK M. By KNN M. By Poly M. By Linear M.\n",
       "1  55  96.54076   95.67230   4.374531  95.58980   1077.233    \n",
       "2  56  96.34244   95.52885   4.485645  95.43781   1077.233    \n",
       "3  57  96.20140   95.39080   4.556954  95.29078   1077.233    \n",
       "4  58  96.16539   95.25789   4.639370  95.14880   1077.233    \n",
       "5  59  96.00207   95.12978   4.778602  95.01191   1077.233    \n",
       "6  60  95.83154   95.00613   4.855474  94.88008   1077.233    \n",
       "7  61  95.70849   94.88657   4.921383  94.75325   1077.233    \n",
       "8  62       NaN   94.77079   4.979973  94.63130   1077.233    \n",
       "9  63       NaN   94.65851   4.979973  94.51410   1077.233    \n",
       "10 64       NaN   94.54952   4.979973  94.40147   1077.233    \n",
       "11 65       NaN   94.44367   5.475783  94.29324   1077.233    \n",
       "12 66       NaN   94.34092   5.956404  94.18920   1077.233    \n",
       "13 67       NaN   94.24125   5.956404  94.08914   1077.233    \n",
       "14 55       NaN   94.14477   5.956404  93.99288   1077.233    \n",
       "15 56  96.54076   94.05159   5.956404  93.90022   1077.233    \n",
       "16 57  96.34244   93.96189   6.192421  93.81101   1077.233    \n",
       "17 58  96.20140   93.87588   6.439805  93.72509   1077.233    \n",
       "18 59  96.16539   93.79377   6.488281  93.64235   1077.233    "
      ]
     },
     "metadata": {},
     "output_type": "display_data"
    }
   ],
   "source": [
    "# modeling variable  --->  fit\n",
    "\n",
    "Prediction = cbind(\n",
    "                \"Day\" = 55:67,\n",
    "                \"Active (%)\" = c(region[55:61,\"percent_active\"],rep(NaN, 7)),\n",
    "                \"By SVMK M.\" = as.numeric(predict(fit.svmk, test_Miscellaneous)),\n",
    "                \"By KNN M.\" = predict(fit.knn, as.matrix(test_Miscellaneous[,1])),\n",
    "                \"By Poly M.\" = predict(fit.plm, test_Miscellaneous),\n",
    "                \"By Linear M.\" = predict(fit.lm, test_Miscellaneous)\n",
    "             )\n",
    "Prediction\n",
    "\n",
    "#train.data"
   ]
  },
  {
   "cell_type": "markdown",
   "metadata": {},
   "source": [
    "<br /> \n",
    "3. #### By SVMK Model"
   ]
  },
  {
   "cell_type": "code",
   "execution_count": 52,
   "metadata": {},
   "outputs": [
    {
     "data": {
      "text/html": [
       "<table>\n",
       "<caption>A data.frame: 18 × 3</caption>\n",
       "<thead>\n",
       "\t<tr><th scope=col>Day</th><th scope=col>percent_active</th><th scope=col>percent_pridicted</th></tr>\n",
       "\t<tr><th scope=col>&lt;int&gt;</th><th scope=col>&lt;dbl&gt;</th><th scope=col>&lt;dbl&gt;</th></tr>\n",
       "</thead>\n",
       "<tbody>\n",
       "\t<tr><td>62</td><td>8.2854</td><td>95.67230</td></tr>\n",
       "\t<tr><td>63</td><td>8.2854</td><td>95.52885</td></tr>\n",
       "\t<tr><td>64</td><td>8.2854</td><td>95.39080</td></tr>\n",
       "\t<tr><td>65</td><td>8.2854</td><td>95.25789</td></tr>\n",
       "\t<tr><td>66</td><td>8.2854</td><td>95.12978</td></tr>\n",
       "\t<tr><td>67</td><td>8.2854</td><td>95.00613</td></tr>\n",
       "\t<tr><td>68</td><td>8.2854</td><td>94.88657</td></tr>\n",
       "\t<tr><td>69</td><td>8.2854</td><td>94.77079</td></tr>\n",
       "\t<tr><td>70</td><td>8.2854</td><td>94.65851</td></tr>\n",
       "\t<tr><td>71</td><td>8.2854</td><td>94.54952</td></tr>\n",
       "\t<tr><td>72</td><td>8.2854</td><td>94.44367</td></tr>\n",
       "\t<tr><td>73</td><td>8.2854</td><td>94.34092</td></tr>\n",
       "\t<tr><td>74</td><td>8.2854</td><td>94.24125</td></tr>\n",
       "\t<tr><td>75</td><td>8.2854</td><td>94.14477</td></tr>\n",
       "\t<tr><td>76</td><td>8.2854</td><td>94.05159</td></tr>\n",
       "\t<tr><td>77</td><td>8.2854</td><td>93.96189</td></tr>\n",
       "\t<tr><td>78</td><td>8.2854</td><td>93.87588</td></tr>\n",
       "\t<tr><td>79</td><td>8.2854</td><td>93.79377</td></tr>\n",
       "</tbody>\n",
       "</table>\n"
      ],
      "text/latex": [
       "A data.frame: 18 × 3\n",
       "\\begin{tabular}{lll}\n",
       " Day & percent\\_active & percent\\_pridicted\\\\\n",
       " <int> & <dbl> & <dbl>\\\\\n",
       "\\hline\n",
       "\t 62 & 8.2854 & 95.67230\\\\\n",
       "\t 63 & 8.2854 & 95.52885\\\\\n",
       "\t 64 & 8.2854 & 95.39080\\\\\n",
       "\t 65 & 8.2854 & 95.25789\\\\\n",
       "\t 66 & 8.2854 & 95.12978\\\\\n",
       "\t 67 & 8.2854 & 95.00613\\\\\n",
       "\t 68 & 8.2854 & 94.88657\\\\\n",
       "\t 69 & 8.2854 & 94.77079\\\\\n",
       "\t 70 & 8.2854 & 94.65851\\\\\n",
       "\t 71 & 8.2854 & 94.54952\\\\\n",
       "\t 72 & 8.2854 & 94.44367\\\\\n",
       "\t 73 & 8.2854 & 94.34092\\\\\n",
       "\t 74 & 8.2854 & 94.24125\\\\\n",
       "\t 75 & 8.2854 & 94.14477\\\\\n",
       "\t 76 & 8.2854 & 94.05159\\\\\n",
       "\t 77 & 8.2854 & 93.96189\\\\\n",
       "\t 78 & 8.2854 & 93.87588\\\\\n",
       "\t 79 & 8.2854 & 93.79377\\\\\n",
       "\\end{tabular}\n"
      ],
      "text/markdown": [
       "\n",
       "A data.frame: 18 × 3\n",
       "\n",
       "| Day &lt;int&gt; | percent_active &lt;dbl&gt; | percent_pridicted &lt;dbl&gt; |\n",
       "|---|---|---|\n",
       "| 62 | 8.2854 | 95.67230 |\n",
       "| 63 | 8.2854 | 95.52885 |\n",
       "| 64 | 8.2854 | 95.39080 |\n",
       "| 65 | 8.2854 | 95.25789 |\n",
       "| 66 | 8.2854 | 95.12978 |\n",
       "| 67 | 8.2854 | 95.00613 |\n",
       "| 68 | 8.2854 | 94.88657 |\n",
       "| 69 | 8.2854 | 94.77079 |\n",
       "| 70 | 8.2854 | 94.65851 |\n",
       "| 71 | 8.2854 | 94.54952 |\n",
       "| 72 | 8.2854 | 94.44367 |\n",
       "| 73 | 8.2854 | 94.34092 |\n",
       "| 74 | 8.2854 | 94.24125 |\n",
       "| 75 | 8.2854 | 94.14477 |\n",
       "| 76 | 8.2854 | 94.05159 |\n",
       "| 77 | 8.2854 | 93.96189 |\n",
       "| 78 | 8.2854 | 93.87588 |\n",
       "| 79 | 8.2854 | 93.79377 |\n",
       "\n"
      ],
      "text/plain": [
       "   Day percent_active percent_pridicted\n",
       "1  62  8.2854         95.67230         \n",
       "2  63  8.2854         95.52885         \n",
       "3  64  8.2854         95.39080         \n",
       "4  65  8.2854         95.25789         \n",
       "5  66  8.2854         95.12978         \n",
       "6  67  8.2854         95.00613         \n",
       "7  68  8.2854         94.88657         \n",
       "8  69  8.2854         94.77079         \n",
       "9  70  8.2854         94.65851         \n",
       "10 71  8.2854         94.54952         \n",
       "11 72  8.2854         94.44367         \n",
       "12 73  8.2854         94.34092         \n",
       "13 74  8.2854         94.24125         \n",
       "14 75  8.2854         94.14477         \n",
       "15 76  8.2854         94.05159         \n",
       "16 77  8.2854         93.96189         \n",
       "17 78  8.2854         93.87588         \n",
       "18 79  8.2854         93.79377         "
      ]
     },
     "metadata": {},
     "output_type": "display_data"
    }
   ],
   "source": [
    "# modeling variable  --->  model\n",
    "Prediction = cbind(\n",
    "                test_Miscellaneous[,c(\"Day\", \"percent_active\")],\n",
    "                percent_pridicted = predict(fit.svmk, test_Miscellaneous)\n",
    "             )\n",
    "Prediction"
   ]
  },
  {
   "cell_type": "markdown",
   "metadata": {},
   "source": [
    "<br /> \n",
    "3. #### By KNN Model"
   ]
  },
  {
   "cell_type": "code",
   "execution_count": 53,
   "metadata": {},
   "outputs": [
    {
     "data": {
      "text/html": [
       "<table>\n",
       "<caption>A data.frame: 18 × 3</caption>\n",
       "<thead>\n",
       "\t<tr><th scope=col>Day</th><th scope=col>percent_active</th><th scope=col>percent_pridicted</th></tr>\n",
       "\t<tr><th scope=col>&lt;int&gt;</th><th scope=col>&lt;dbl&gt;</th><th scope=col>&lt;dbl&gt;</th></tr>\n",
       "</thead>\n",
       "<tbody>\n",
       "\t<tr><td>62</td><td>8.2854</td><td>4.374531</td></tr>\n",
       "\t<tr><td>63</td><td>8.2854</td><td>4.485645</td></tr>\n",
       "\t<tr><td>64</td><td>8.2854</td><td>4.556954</td></tr>\n",
       "\t<tr><td>65</td><td>8.2854</td><td>4.639370</td></tr>\n",
       "\t<tr><td>66</td><td>8.2854</td><td>4.778602</td></tr>\n",
       "\t<tr><td>67</td><td>8.2854</td><td>4.855474</td></tr>\n",
       "\t<tr><td>68</td><td>8.2854</td><td>4.921383</td></tr>\n",
       "\t<tr><td>69</td><td>8.2854</td><td>4.979973</td></tr>\n",
       "\t<tr><td>70</td><td>8.2854</td><td>4.979973</td></tr>\n",
       "\t<tr><td>71</td><td>8.2854</td><td>4.979973</td></tr>\n",
       "\t<tr><td>72</td><td>8.2854</td><td>5.475783</td></tr>\n",
       "\t<tr><td>73</td><td>8.2854</td><td>5.956404</td></tr>\n",
       "\t<tr><td>74</td><td>8.2854</td><td>5.956404</td></tr>\n",
       "\t<tr><td>75</td><td>8.2854</td><td>5.956404</td></tr>\n",
       "\t<tr><td>76</td><td>8.2854</td><td>5.956404</td></tr>\n",
       "\t<tr><td>77</td><td>8.2854</td><td>6.192421</td></tr>\n",
       "\t<tr><td>78</td><td>8.2854</td><td>6.439805</td></tr>\n",
       "\t<tr><td>79</td><td>8.2854</td><td>6.488281</td></tr>\n",
       "</tbody>\n",
       "</table>\n"
      ],
      "text/latex": [
       "A data.frame: 18 × 3\n",
       "\\begin{tabular}{lll}\n",
       " Day & percent\\_active & percent\\_pridicted\\\\\n",
       " <int> & <dbl> & <dbl>\\\\\n",
       "\\hline\n",
       "\t 62 & 8.2854 & 4.374531\\\\\n",
       "\t 63 & 8.2854 & 4.485645\\\\\n",
       "\t 64 & 8.2854 & 4.556954\\\\\n",
       "\t 65 & 8.2854 & 4.639370\\\\\n",
       "\t 66 & 8.2854 & 4.778602\\\\\n",
       "\t 67 & 8.2854 & 4.855474\\\\\n",
       "\t 68 & 8.2854 & 4.921383\\\\\n",
       "\t 69 & 8.2854 & 4.979973\\\\\n",
       "\t 70 & 8.2854 & 4.979973\\\\\n",
       "\t 71 & 8.2854 & 4.979973\\\\\n",
       "\t 72 & 8.2854 & 5.475783\\\\\n",
       "\t 73 & 8.2854 & 5.956404\\\\\n",
       "\t 74 & 8.2854 & 5.956404\\\\\n",
       "\t 75 & 8.2854 & 5.956404\\\\\n",
       "\t 76 & 8.2854 & 5.956404\\\\\n",
       "\t 77 & 8.2854 & 6.192421\\\\\n",
       "\t 78 & 8.2854 & 6.439805\\\\\n",
       "\t 79 & 8.2854 & 6.488281\\\\\n",
       "\\end{tabular}\n"
      ],
      "text/markdown": [
       "\n",
       "A data.frame: 18 × 3\n",
       "\n",
       "| Day &lt;int&gt; | percent_active &lt;dbl&gt; | percent_pridicted &lt;dbl&gt; |\n",
       "|---|---|---|\n",
       "| 62 | 8.2854 | 4.374531 |\n",
       "| 63 | 8.2854 | 4.485645 |\n",
       "| 64 | 8.2854 | 4.556954 |\n",
       "| 65 | 8.2854 | 4.639370 |\n",
       "| 66 | 8.2854 | 4.778602 |\n",
       "| 67 | 8.2854 | 4.855474 |\n",
       "| 68 | 8.2854 | 4.921383 |\n",
       "| 69 | 8.2854 | 4.979973 |\n",
       "| 70 | 8.2854 | 4.979973 |\n",
       "| 71 | 8.2854 | 4.979973 |\n",
       "| 72 | 8.2854 | 5.475783 |\n",
       "| 73 | 8.2854 | 5.956404 |\n",
       "| 74 | 8.2854 | 5.956404 |\n",
       "| 75 | 8.2854 | 5.956404 |\n",
       "| 76 | 8.2854 | 5.956404 |\n",
       "| 77 | 8.2854 | 6.192421 |\n",
       "| 78 | 8.2854 | 6.439805 |\n",
       "| 79 | 8.2854 | 6.488281 |\n",
       "\n"
      ],
      "text/plain": [
       "   Day percent_active percent_pridicted\n",
       "1  62  8.2854         4.374531         \n",
       "2  63  8.2854         4.485645         \n",
       "3  64  8.2854         4.556954         \n",
       "4  65  8.2854         4.639370         \n",
       "5  66  8.2854         4.778602         \n",
       "6  67  8.2854         4.855474         \n",
       "7  68  8.2854         4.921383         \n",
       "8  69  8.2854         4.979973         \n",
       "9  70  8.2854         4.979973         \n",
       "10 71  8.2854         4.979973         \n",
       "11 72  8.2854         5.475783         \n",
       "12 73  8.2854         5.956404         \n",
       "13 74  8.2854         5.956404         \n",
       "14 75  8.2854         5.956404         \n",
       "15 76  8.2854         5.956404         \n",
       "16 77  8.2854         6.192421         \n",
       "17 78  8.2854         6.439805         \n",
       "18 79  8.2854         6.488281         "
      ]
     },
     "metadata": {},
     "output_type": "display_data"
    }
   ],
   "source": [
    "# modeling variable  --->  model\n",
    "Prediction = cbind(\n",
    "                test_Miscellaneous[,c(\"Day\", \"percent_active\")],\n",
    "                percent_pridicted = predict(fit.knn, as.matrix(test_Miscellaneous[,1]))\n",
    "             )\n",
    "Prediction[]"
   ]
  },
  {
   "cell_type": "markdown",
   "metadata": {},
   "source": [
    "<hr /> <br />"
   ]
  },
  {
   "cell_type": "code",
   "execution_count": 45,
   "metadata": {},
   "outputs": [],
   "source": [
    "# world on day 58\n",
    "# 92.63192 ---> @deg = 16\n",
    "# 88.90763 ---> @deg = 19"
   ]
  }
 ],
 "metadata": {
  "kernelspec": {
   "display_name": "R",
   "language": "R",
   "name": "ir"
  },
  "language_info": {
   "codemirror_mode": "r",
   "file_extension": ".r",
   "mimetype": "text/x-r-source",
   "name": "R",
   "pygments_lexer": "r",
   "version": "3.6.1"
  }
 },
 "nbformat": 4,
 "nbformat_minor": 2
}
