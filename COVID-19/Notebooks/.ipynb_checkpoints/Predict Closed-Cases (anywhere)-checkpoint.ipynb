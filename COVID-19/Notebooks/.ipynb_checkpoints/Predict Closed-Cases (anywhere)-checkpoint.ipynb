{
 "cells": [
  {
   "cell_type": "markdown",
   "metadata": {},
   "source": [
    "<center><h1> <font color=\"green\"><u>Closed-Case Predictions ~ 19-nCoV</u></font> </h1></center>"
   ]
  },
  {
   "cell_type": "markdown",
   "metadata": {},
   "source": [
    "<center><h3> <font color=\"#cc0000\"><u>Closed Cases(%) out of Confirmed</u></font> </h3></center>"
   ]
  },
  {
   "cell_type": "markdown",
   "metadata": {},
   "source": [
    "<h3> <font color=\"purple\"><u>This section includes:</u></font> </h3>"
   ]
  },
  {
   "cell_type": "markdown",
   "metadata": {},
   "source": [
    "> * Data Filtering <br />\n",
    "> * Training & Testing datasets <br />\n",
    "> * Prediction <br />\n",
    "> * Visualization (Scatter Plots) <br />"
   ]
  },
  {
   "cell_type": "markdown",
   "metadata": {},
   "source": [
    "<br />"
   ]
  },
  {
   "cell_type": "markdown",
   "metadata": {},
   "source": [
    "## Creating Datasets"
   ]
  },
  {
   "cell_type": "code",
   "execution_count": 1,
   "metadata": {},
   "outputs": [],
   "source": [
    "# setting the working directory\n",
    "setwd(\"~/Documents/A-tracking-of-2019-nCoV/COVID-19/ready_to_use\")"
   ]
  },
  {
   "cell_type": "code",
   "execution_count": 2,
   "metadata": {},
   "outputs": [
    {
     "name": "stderr",
     "output_type": "stream",
     "text": [
      "Registered S3 methods overwritten by 'ggplot2':\n",
      "  method         from \n",
      "  [.quosures     rlang\n",
      "  c.quosures     rlang\n",
      "  print.quosures rlang\n",
      "\n"
     ]
    }
   ],
   "source": [
    "# Loading desired libraries\n",
    "library(readr)\n",
    "library(ggplot2)\n",
    "library(stringr)"
   ]
  },
  {
   "cell_type": "markdown",
   "metadata": {},
   "source": [
    "<hr />"
   ]
  },
  {
   "cell_type": "code",
   "execution_count": 3,
   "metadata": {},
   "outputs": [
    {
     "name": "stderr",
     "output_type": "stream",
     "text": [
      "Parsed with column specification:\n",
      "cols(\n",
      "  Country = \u001b[31mcol_character()\u001b[39m,\n",
      "  Day = \u001b[32mcol_double()\u001b[39m,\n",
      "  Date = \u001b[31mcol_character()\u001b[39m,\n",
      "  Confirmed = \u001b[32mcol_double()\u001b[39m,\n",
      "  Deaths = \u001b[32mcol_double()\u001b[39m,\n",
      "  Recovered = \u001b[32mcol_double()\u001b[39m,\n",
      "  Active.Cases = \u001b[32mcol_double()\u001b[39m,\n",
      "  Closed.Cases = \u001b[32mcol_double()\u001b[39m\n",
      ")\n",
      "\n",
      "Parsed with column specification:\n",
      "cols(\n",
      "  Location = \u001b[31mcol_character()\u001b[39m,\n",
      "  Day = \u001b[32mcol_double()\u001b[39m,\n",
      "  Date = \u001b[31mcol_character()\u001b[39m,\n",
      "  Confirmed = \u001b[32mcol_double()\u001b[39m,\n",
      "  Deaths = \u001b[32mcol_double()\u001b[39m,\n",
      "  Recovered = \u001b[32mcol_double()\u001b[39m,\n",
      "  Active.Cases = \u001b[32mcol_double()\u001b[39m,\n",
      "  Closed.Cases = \u001b[32mcol_double()\u001b[39m\n",
      ")\n",
      "\n"
     ]
    }
   ],
   "source": [
    "# includes data of all the countries\n",
    "all = read.csv('COVID-19/Mixed/countryWise_bulk_summary.csv')\n",
    "\n",
    "# includes data of four majour location\n",
    "four = read.csv('COVID-19/FOUR/Four_dataset_locationWise.csv')"
   ]
  },
  {
   "cell_type": "code",
   "execution_count": 4,
   "metadata": {},
   "outputs": [],
   "source": [
    "\n",
    "# extracting the desired dataset\n",
    "extractDatases <- function(region){\n",
    "    if(region %in% c(\"Hubei\", \"World\", \"Diamond Princess\")) {\n",
    "    temp = four[which(str_detect(four$Location, region)),]\n",
    "    row.names(temp) <- NULL\n",
    "} else {\n",
    "    temp = all[which(str_detect(all$Country, region)),]\n",
    "    row.names(temp) <- NULL\n",
    "}\n",
    "\n",
    "return(temp)\n",
    "}\n"
   ]
  },
  {
   "cell_type": "code",
   "execution_count": 5,
   "metadata": {},
   "outputs": [],
   "source": [
    "# country list\n",
    "countries = matrix(levels(as.factor(all$Country)))\n",
    "#head(countries, 10)\n",
    "\n",
    "# Four majour locations\n",
    "locations = matrix(levels(as.factor(four$Location)))\n",
    "#locations"
   ]
  },
  {
   "cell_type": "markdown",
   "metadata": {},
   "source": [
    "<br /> \n",
    "### Choosing desired Country/Region"
   ]
  },
  {
   "cell_type": "code",
   "execution_count": 6,
   "metadata": {},
   "outputs": [],
   "source": [
    "# country i.e. to be used throughout the analysis\n",
    " rName = \"China\" # without hubei\n",
    "\n",
    "# some other possible values of rName:\n",
    "# 'World', 'Hubei', 'Diamond Cruise', 'Italy', 'Japan'.....etc"
   ]
  },
  {
   "cell_type": "markdown",
   "metadata": {},
   "source": [
    "<hr />"
   ]
  },
  {
   "cell_type": "code",
   "execution_count": 7,
   "metadata": {},
   "outputs": [
    {
     "data": {
      "text/html": [
       "<table>\n",
       "<thead><tr><th scope=col>Country</th><th scope=col>Day</th><th scope=col>Date</th><th scope=col>Confirmed</th><th scope=col>Deaths</th><th scope=col>Recovered</th><th scope=col>Active.Cases</th><th scope=col>Closed.Cases</th></tr></thead>\n",
       "<tbody>\n",
       "\t<tr><td>China     </td><td>1         </td><td>22-01-2020</td><td> 104      </td><td>0         </td><td> 0        </td><td> 104      </td><td> 0        </td></tr>\n",
       "\t<tr><td>China     </td><td>2         </td><td>23-01-2020</td><td> 199      </td><td>1         </td><td> 2        </td><td> 196      </td><td> 3        </td></tr>\n",
       "\t<tr><td>China     </td><td>3         </td><td>24-01-2020</td><td> 371      </td><td>2         </td><td> 5        </td><td> 364      </td><td> 7        </td></tr>\n",
       "\t<tr><td>China     </td><td>4         </td><td>25-01-2020</td><td> 645      </td><td>2         </td><td> 7        </td><td> 636      </td><td> 9        </td></tr>\n",
       "\t<tr><td>China     </td><td>5         </td><td>26-01-2020</td><td>1017      </td><td>4         </td><td> 7        </td><td>1006      </td><td>11        </td></tr>\n",
       "\t<tr><td>China     </td><td>6         </td><td>27-01-2020</td><td>1454      </td><td>6         </td><td>13        </td><td>1435      </td><td>19        </td></tr>\n",
       "</tbody>\n",
       "</table>\n"
      ],
      "text/latex": [
       "\\begin{tabular}{r|llllllll}\n",
       " Country & Day & Date & Confirmed & Deaths & Recovered & Active.Cases & Closed.Cases\\\\\n",
       "\\hline\n",
       "\t China      & 1          & 22-01-2020 &  104       & 0          &  0         &  104       &  0        \\\\\n",
       "\t China      & 2          & 23-01-2020 &  199       & 1          &  2         &  196       &  3        \\\\\n",
       "\t China      & 3          & 24-01-2020 &  371       & 2          &  5         &  364       &  7        \\\\\n",
       "\t China      & 4          & 25-01-2020 &  645       & 2          &  7         &  636       &  9        \\\\\n",
       "\t China      & 5          & 26-01-2020 & 1017       & 4          &  7         & 1006       & 11        \\\\\n",
       "\t China      & 6          & 27-01-2020 & 1454       & 6          & 13         & 1435       & 19        \\\\\n",
       "\\end{tabular}\n"
      ],
      "text/markdown": [
       "\n",
       "| Country | Day | Date | Confirmed | Deaths | Recovered | Active.Cases | Closed.Cases |\n",
       "|---|---|---|---|---|---|---|---|\n",
       "| China      | 1          | 22-01-2020 |  104       | 0          |  0         |  104       |  0         |\n",
       "| China      | 2          | 23-01-2020 |  199       | 1          |  2         |  196       |  3         |\n",
       "| China      | 3          | 24-01-2020 |  371       | 2          |  5         |  364       |  7         |\n",
       "| China      | 4          | 25-01-2020 |  645       | 2          |  7         |  636       |  9         |\n",
       "| China      | 5          | 26-01-2020 | 1017       | 4          |  7         | 1006       | 11         |\n",
       "| China      | 6          | 27-01-2020 | 1454       | 6          | 13         | 1435       | 19         |\n",
       "\n"
      ],
      "text/plain": [
       "  Country Day Date       Confirmed Deaths Recovered Active.Cases Closed.Cases\n",
       "1 China   1   22-01-2020  104      0       0         104          0          \n",
       "2 China   2   23-01-2020  199      1       2         196          3          \n",
       "3 China   3   24-01-2020  371      2       5         364          7          \n",
       "4 China   4   25-01-2020  645      2       7         636          9          \n",
       "5 China   5   26-01-2020 1017      4       7        1006         11          \n",
       "6 China   6   27-01-2020 1454      6      13        1435         19          "
      ]
     },
     "metadata": {},
     "output_type": "display_data"
    }
   ],
   "source": [
    "# filtering out desired country/location \n",
    "region = extractDatases(rName)\n",
    "\n",
    "head(region)"
   ]
  },
  {
   "cell_type": "markdown",
   "metadata": {},
   "source": [
    "<hr />"
   ]
  },
  {
   "cell_type": "code",
   "execution_count": 8,
   "metadata": {},
   "outputs": [
    {
     "data": {
      "text/html": [
       "<table>\n",
       "<thead><tr><th scope=col>Day</th><th scope=col>Confirmed</th><th scope=col>Closed.Cases</th></tr></thead>\n",
       "<tbody>\n",
       "\t<tr><td> 1  </td><td> 104</td><td> 0  </td></tr>\n",
       "\t<tr><td> 2  </td><td> 199</td><td> 3  </td></tr>\n",
       "\t<tr><td> 3  </td><td> 371</td><td> 7  </td></tr>\n",
       "\t<tr><td> 4  </td><td> 645</td><td> 9  </td></tr>\n",
       "\t<tr><td> 5  </td><td>1017</td><td>11  </td></tr>\n",
       "\t<tr><td> 6  </td><td>1454</td><td>19  </td></tr>\n",
       "\t<tr><td> 7  </td><td>1955</td><td>27  </td></tr>\n",
       "\t<tr><td> 8  </td><td>2533</td><td>40  </td></tr>\n",
       "\t<tr><td> 9  </td><td>3238</td><td>54  </td></tr>\n",
       "\t<tr><td>10  </td><td>3996</td><td>82  </td></tr>\n",
       "</tbody>\n",
       "</table>\n"
      ],
      "text/latex": [
       "\\begin{tabular}{r|lll}\n",
       " Day & Confirmed & Closed.Cases\\\\\n",
       "\\hline\n",
       "\t  1   &  104 &  0  \\\\\n",
       "\t  2   &  199 &  3  \\\\\n",
       "\t  3   &  371 &  7  \\\\\n",
       "\t  4   &  645 &  9  \\\\\n",
       "\t  5   & 1017 & 11  \\\\\n",
       "\t  6   & 1454 & 19  \\\\\n",
       "\t  7   & 1955 & 27  \\\\\n",
       "\t  8   & 2533 & 40  \\\\\n",
       "\t  9   & 3238 & 54  \\\\\n",
       "\t 10   & 3996 & 82  \\\\\n",
       "\\end{tabular}\n"
      ],
      "text/markdown": [
       "\n",
       "| Day | Confirmed | Closed.Cases |\n",
       "|---|---|---|\n",
       "|  1   |  104 |  0   |\n",
       "|  2   |  199 |  3   |\n",
       "|  3   |  371 |  7   |\n",
       "|  4   |  645 |  9   |\n",
       "|  5   | 1017 | 11   |\n",
       "|  6   | 1454 | 19   |\n",
       "|  7   | 1955 | 27   |\n",
       "|  8   | 2533 | 40   |\n",
       "|  9   | 3238 | 54   |\n",
       "| 10   | 3996 | 82   |\n",
       "\n"
      ],
      "text/plain": [
       "   Day Confirmed Closed.Cases\n",
       "1   1   104       0          \n",
       "2   2   199       3          \n",
       "3   3   371       7          \n",
       "4   4   645       9          \n",
       "5   5  1017      11          \n",
       "6   6  1454      19          \n",
       "7   7  1955      27          \n",
       "8   8  2533      40          \n",
       "9   9  3238      54          \n",
       "10 10  3996      82          "
      ]
     },
     "metadata": {},
     "output_type": "display_data"
    }
   ],
   "source": [
    "region=region[,c('Day','Confirmed','Closed.Cases')]\n",
    "head(region, 10)"
   ]
  },
  {
   "cell_type": "code",
   "execution_count": 9,
   "metadata": {},
   "outputs": [],
   "source": [
    "# calculate the percent (using Confirmed cases as total)\n",
    "percent <- function(dfName){\n",
    "    get(dfName) -> df\n",
    "    part <- NULL\n",
    "    \n",
    "    for(i in 1:nrow(df)) {\n",
    "        val = df[i,\"Closed.Cases\"]\n",
    "        Total = df[i,\"Confirmed\"]\n",
    "        \n",
    "        \n",
    "        if(i == 1)\n",
    "            if(val==0)\n",
    "                part = 0\n",
    "            else\n",
    "                part = as.numeric((val*100)/Total)\n",
    "        else\n",
    "            if(val==0)\n",
    "                part = c(part, 0)\n",
    "            else\n",
    "                part <- c(part, as.numeric((val*100)/Total))\n",
    "    }\n",
    "        \n",
    "    return(part)\n",
    "}"
   ]
  },
  {
   "cell_type": "markdown",
   "metadata": {},
   "source": [
    "<hr />"
   ]
  },
  {
   "cell_type": "code",
   "execution_count": 10,
   "metadata": {},
   "outputs": [],
   "source": [
    "# CASES -> percentage\n",
    "region$'percent_active' = 100-percent(\"region\")     # Active cases, out of every 100 Confirmed cases\n",
    "region$'percent_closed' = percent(\"region\") # Closed cases, out of every 100 Confirmed cases"
   ]
  },
  {
   "cell_type": "code",
   "execution_count": 11,
   "metadata": {},
   "outputs": [
    {
     "data": {
      "text/html": [
       "<table>\n",
       "<thead><tr><th scope=col>Day</th><th scope=col>Confirmed</th><th scope=col>Closed.Cases</th><th scope=col>percent_active</th><th scope=col>percent_closed</th></tr></thead>\n",
       "<tbody>\n",
       "\t<tr><td>1        </td><td> 104     </td><td> 0       </td><td>100.00000</td><td>0.000000 </td></tr>\n",
       "\t<tr><td>2        </td><td> 199     </td><td> 3       </td><td> 98.49246</td><td>1.507538 </td></tr>\n",
       "\t<tr><td>3        </td><td> 371     </td><td> 7       </td><td> 98.11321</td><td>1.886792 </td></tr>\n",
       "\t<tr><td>4        </td><td> 645     </td><td> 9       </td><td> 98.60465</td><td>1.395349 </td></tr>\n",
       "\t<tr><td>5        </td><td>1017     </td><td>11       </td><td> 98.91839</td><td>1.081613 </td></tr>\n",
       "\t<tr><td>6        </td><td>1454     </td><td>19       </td><td> 98.69326</td><td>1.306740 </td></tr>\n",
       "</tbody>\n",
       "</table>\n"
      ],
      "text/latex": [
       "\\begin{tabular}{r|lllll}\n",
       " Day & Confirmed & Closed.Cases & percent\\_active & percent\\_closed\\\\\n",
       "\\hline\n",
       "\t 1         &  104      &  0        & 100.00000 & 0.000000 \\\\\n",
       "\t 2         &  199      &  3        &  98.49246 & 1.507538 \\\\\n",
       "\t 3         &  371      &  7        &  98.11321 & 1.886792 \\\\\n",
       "\t 4         &  645      &  9        &  98.60465 & 1.395349 \\\\\n",
       "\t 5         & 1017      & 11        &  98.91839 & 1.081613 \\\\\n",
       "\t 6         & 1454      & 19        &  98.69326 & 1.306740 \\\\\n",
       "\\end{tabular}\n"
      ],
      "text/markdown": [
       "\n",
       "| Day | Confirmed | Closed.Cases | percent_active | percent_closed |\n",
       "|---|---|---|---|---|\n",
       "| 1         |  104      |  0        | 100.00000 | 0.000000  |\n",
       "| 2         |  199      |  3        |  98.49246 | 1.507538  |\n",
       "| 3         |  371      |  7        |  98.11321 | 1.886792  |\n",
       "| 4         |  645      |  9        |  98.60465 | 1.395349  |\n",
       "| 5         | 1017      | 11        |  98.91839 | 1.081613  |\n",
       "| 6         | 1454      | 19        |  98.69326 | 1.306740  |\n",
       "\n"
      ],
      "text/plain": [
       "  Day Confirmed Closed.Cases percent_active percent_closed\n",
       "1 1    104       0           100.00000      0.000000      \n",
       "2 2    199       3            98.49246      1.507538      \n",
       "3 3    371       7            98.11321      1.886792      \n",
       "4 4    645       9            98.60465      1.395349      \n",
       "5 5   1017      11            98.91839      1.081613      \n",
       "6 6   1454      19            98.69326      1.306740      "
      ]
     },
     "metadata": {},
     "output_type": "display_data"
    }
   ],
   "source": [
    "head(region)"
   ]
  },
  {
   "cell_type": "markdown",
   "metadata": {},
   "source": [
    "<br />* Dataset is ready"
   ]
  },
  {
   "cell_type": "markdown",
   "metadata": {},
   "source": [
    "<hr /><br />"
   ]
  },
  {
   "cell_type": "markdown",
   "metadata": {},
   "source": [
    "### Understanding the plot"
   ]
  },
  {
   "cell_type": "code",
   "execution_count": 12,
   "metadata": {},
   "outputs": [
    {
     "data": {
      "image/png": "[encoded data removed]",
      "text/plain": [
       "plot without title"
      ]
     },
     "metadata": {
      "image/png": {
       "height": 420,
       "width": 420
      },
      "text/plain": {
       "height": 420,
       "width": 420
      }
     },
     "output_type": "display_data"
    }
   ],
   "source": [
    "# Day vs %Active Cases\n",
    "region.scatter.plot <- ggplot(region, aes(x = region$Day, y = region$percent_closed)) +\n",
    "                        geom_point()\n",
    "region.scatter.plot"
   ]
  },
  {
   "cell_type": "code",
   "execution_count": 13,
   "metadata": {},
   "outputs": [
    {
     "data": {
      "text/html": [
       "<table>\n",
       "<thead><tr><th scope=col>Day</th><th scope=col>Confirmed</th><th scope=col>Closed.Cases</th><th scope=col>percent_active</th><th scope=col>percent_closed</th></tr></thead>\n",
       "<tbody>\n",
       "\t<tr><td>53      </td><td>13187   </td><td>12818   </td><td>2.798210</td><td>97.20179</td></tr>\n",
       "\t<tr><td>54      </td><td>13209   </td><td>12847   </td><td>2.740556</td><td>97.25944</td></tr>\n",
       "\t<tr><td>55      </td><td>13235   </td><td>12886   </td><td>2.636947</td><td>97.36305</td></tr>\n",
       "\t<tr><td>56      </td><td>13259   </td><td>12914   </td><td>2.602006</td><td>97.39799</td></tr>\n",
       "\t<tr><td>57      </td><td>13303   </td><td>12947   </td><td>2.676088</td><td>97.32391</td></tr>\n",
       "\t<tr><td>58      </td><td>13357   </td><td>12972   </td><td>2.882384</td><td>97.11762</td></tr>\n",
       "</tbody>\n",
       "</table>\n"
      ],
      "text/latex": [
       "\\begin{tabular}{r|lllll}\n",
       " Day & Confirmed & Closed.Cases & percent\\_active & percent\\_closed\\\\\n",
       "\\hline\n",
       "\t 53       & 13187    & 12818    & 2.798210 & 97.20179\\\\\n",
       "\t 54       & 13209    & 12847    & 2.740556 & 97.25944\\\\\n",
       "\t 55       & 13235    & 12886    & 2.636947 & 97.36305\\\\\n",
       "\t 56       & 13259    & 12914    & 2.602006 & 97.39799\\\\\n",
       "\t 57       & 13303    & 12947    & 2.676088 & 97.32391\\\\\n",
       "\t 58       & 13357    & 12972    & 2.882384 & 97.11762\\\\\n",
       "\\end{tabular}\n"
      ],
      "text/markdown": [
       "\n",
       "| Day | Confirmed | Closed.Cases | percent_active | percent_closed |\n",
       "|---|---|---|---|---|\n",
       "| 53       | 13187    | 12818    | 2.798210 | 97.20179 |\n",
       "| 54       | 13209    | 12847    | 2.740556 | 97.25944 |\n",
       "| 55       | 13235    | 12886    | 2.636947 | 97.36305 |\n",
       "| 56       | 13259    | 12914    | 2.602006 | 97.39799 |\n",
       "| 57       | 13303    | 12947    | 2.676088 | 97.32391 |\n",
       "| 58       | 13357    | 12972    | 2.882384 | 97.11762 |\n",
       "\n"
      ],
      "text/plain": [
       "  Day Confirmed Closed.Cases percent_active percent_closed\n",
       "1 53  13187     12818        2.798210       97.20179      \n",
       "2 54  13209     12847        2.740556       97.25944      \n",
       "3 55  13235     12886        2.636947       97.36305      \n",
       "4 56  13259     12914        2.602006       97.39799      \n",
       "5 57  13303     12947        2.676088       97.32391      \n",
       "6 58  13357     12972        2.882384       97.11762      "
      ]
     },
     "metadata": {},
     "output_type": "display_data"
    }
   ],
   "source": [
    "tail(region)"
   ]
  },
  {
   "cell_type": "markdown",
   "metadata": {},
   "source": [
    "<br /><hr /><br />"
   ]
  },
  {
   "cell_type": "markdown",
   "metadata": {},
   "source": [
    "## Data-Analysis <br />"
   ]
  },
  {
   "cell_type": "code",
   "execution_count": 14,
   "metadata": {},
   "outputs": [
    {
     "name": "stderr",
     "output_type": "stream",
     "text": [
      "Registered S3 method overwritten by 'rvest':\n",
      "  method            from\n",
      "  read_xml.response xml2\n",
      "\n",
      "── \u001b[1mAttaching packages\u001b[22m ─────────────────────────────────────── tidyverse 1.2.1 ──\n",
      "\n",
      "\u001b[32m✔\u001b[39m \u001b[34mtibble \u001b[39m 2.1.1     \u001b[32m✔\u001b[39m \u001b[34mpurrr  \u001b[39m 0.3.3\n",
      "\u001b[32m✔\u001b[39m \u001b[34mtidyr  \u001b[39m 1.0.2     \u001b[32m✔\u001b[39m \u001b[34mdplyr  \u001b[39m 0.8.3\n",
      "\u001b[32m✔\u001b[39m \u001b[34mtibble \u001b[39m 2.1.1     \u001b[32m✔\u001b[39m \u001b[34mforcats\u001b[39m 0.4.0\n",
      "\n",
      "── \u001b[1mConflicts\u001b[22m ────────────────────────────────────────── tidyverse_conflicts() ──\n",
      "\u001b[31m✖\u001b[39m \u001b[34mdplyr\u001b[39m::\u001b[32mfilter()\u001b[39m masks \u001b[34mstats\u001b[39m::filter()\n",
      "\u001b[31m✖\u001b[39m \u001b[34mdplyr\u001b[39m::\u001b[32mlag()\u001b[39m    masks \u001b[34mstats\u001b[39m::lag()\n",
      "\n",
      "Loading required package: lattice\n",
      "\n",
      "\n",
      "Attaching package: ‘caret’\n",
      "\n",
      "\n",
      "The following object is masked from ‘package:purrr’:\n",
      "\n",
      "    lift\n",
      "\n",
      "\n"
     ]
    }
   ],
   "source": [
    "# loading plotting/machine learning\n",
    "library(tidyverse)\n",
    "library(caret)\n",
    "\n",
    "# setting the theme\n",
    "theme_set(theme_classic())"
   ]
  },
  {
   "cell_type": "code",
   "execution_count": 15,
   "metadata": {},
   "outputs": [],
   "source": [
    "set.seed(20) # generages same set of random sample every time\n",
    "\n",
    "training.samples <- region$Day %>%\n",
    "  createDataPartition(p = 0.8, list = FALSE)\n",
    "\n",
    "train.data  <- region[training.samples, ]\n",
    "test.data <- region[-training.samples, ]"
   ]
  },
  {
   "cell_type": "code",
   "execution_count": 16,
   "metadata": {},
   "outputs": [
    {
     "data": {
      "text/html": [
       "<table>\n",
       "<thead><tr><th scope=col>Day</th><th scope=col>Confirmed</th><th scope=col>Closed.Cases</th><th scope=col>percent_active</th><th scope=col>percent_closed</th></tr></thead>\n",
       "<tbody>\n",
       "\t<tr><td>1        </td><td>104      </td><td>0        </td><td>100.00000</td><td>0.000000 </td></tr>\n",
       "\t<tr><td>2        </td><td>199      </td><td>3        </td><td> 98.49246</td><td>1.507538 </td></tr>\n",
       "\t<tr><td>3        </td><td>371      </td><td>7        </td><td> 98.11321</td><td>1.886792 </td></tr>\n",
       "</tbody>\n",
       "</table>\n"
      ],
      "text/latex": [
       "\\begin{tabular}{r|lllll}\n",
       " Day & Confirmed & Closed.Cases & percent\\_active & percent\\_closed\\\\\n",
       "\\hline\n",
       "\t 1         & 104       & 0         & 100.00000 & 0.000000 \\\\\n",
       "\t 2         & 199       & 3         &  98.49246 & 1.507538 \\\\\n",
       "\t 3         & 371       & 7         &  98.11321 & 1.886792 \\\\\n",
       "\\end{tabular}\n"
      ],
      "text/markdown": [
       "\n",
       "| Day | Confirmed | Closed.Cases | percent_active | percent_closed |\n",
       "|---|---|---|---|---|\n",
       "| 1         | 104       | 0         | 100.00000 | 0.000000  |\n",
       "| 2         | 199       | 3         |  98.49246 | 1.507538  |\n",
       "| 3         | 371       | 7         |  98.11321 | 1.886792  |\n",
       "\n"
      ],
      "text/plain": [
       "  Day Confirmed Closed.Cases percent_active percent_closed\n",
       "1 1   104       0            100.00000      0.000000      \n",
       "2 2   199       3             98.49246      1.507538      \n",
       "3 3   371       7             98.11321      1.886792      "
      ]
     },
     "metadata": {},
     "output_type": "display_data"
    },
    {
     "data": {
      "text/html": [
       "<table>\n",
       "<thead><tr><th scope=col>Day</th><th scope=col>Confirmed</th><th scope=col>Closed.Cases</th><th scope=col>percent_active</th><th scope=col>percent_closed</th></tr></thead>\n",
       "<tbody>\n",
       "\t<tr><td> 4      </td><td> 645    </td><td>  9     </td><td>98.60465</td><td>1.395349</td></tr>\n",
       "\t<tr><td>13      </td><td>6194    </td><td>240     </td><td>96.12528</td><td>3.874717</td></tr>\n",
       "\t<tr><td>15      </td><td>7775    </td><td>496     </td><td>93.62058</td><td>6.379421</td></tr>\n",
       "</tbody>\n",
       "</table>\n"
      ],
      "text/latex": [
       "\\begin{tabular}{r|lllll}\n",
       " Day & Confirmed & Closed.Cases & percent\\_active & percent\\_closed\\\\\n",
       "\\hline\n",
       "\t  4       &  645     &   9      & 98.60465 & 1.395349\\\\\n",
       "\t 13       & 6194     & 240      & 96.12528 & 3.874717\\\\\n",
       "\t 15       & 7775     & 496      & 93.62058 & 6.379421\\\\\n",
       "\\end{tabular}\n"
      ],
      "text/markdown": [
       "\n",
       "| Day | Confirmed | Closed.Cases | percent_active | percent_closed |\n",
       "|---|---|---|---|---|\n",
       "|  4       |  645     |   9      | 98.60465 | 1.395349 |\n",
       "| 13       | 6194     | 240      | 96.12528 | 3.874717 |\n",
       "| 15       | 7775     | 496      | 93.62058 | 6.379421 |\n",
       "\n"
      ],
      "text/plain": [
       "  Day Confirmed Closed.Cases percent_active percent_closed\n",
       "1  4   645        9          98.60465       1.395349      \n",
       "2 13  6194      240          96.12528       3.874717      \n",
       "3 15  7775      496          93.62058       6.379421      "
      ]
     },
     "metadata": {},
     "output_type": "display_data"
    }
   ],
   "source": [
    "head(train.data, 3)\n",
    "head(test.data, 3)"
   ]
  },
  {
   "cell_type": "code",
   "execution_count": 17,
   "metadata": {},
   "outputs": [
    {
     "name": "stderr",
     "output_type": "stream",
     "text": [
      "`geom_smooth()` using method = 'loess' and formula 'y ~ x'\n",
      "\n"
     ]
    },
    {
     "data": {
      "image/png": "[encoded data removed]",
      "text/plain": [
       "plot without title"
      ]
     },
     "metadata": {
      "image/png": {
       "height": 420,
       "width": 420
      },
      "text/plain": {
       "height": 420,
       "width": 420
      }
     },
     "output_type": "display_data"
    }
   ],
   "source": [
    "ggplot(train.data, aes(Day, percent_closed) ) +\n",
    "  geom_point() +\n",
    "  stat_smooth()"
   ]
  },
  {
   "cell_type": "markdown",
   "metadata": {},
   "source": [
    "<br /><hr /><br />"
   ]
  },
  {
   "cell_type": "markdown",
   "metadata": {},
   "source": [
    "## Regrassion"
   ]
  },
  {
   "cell_type": "markdown",
   "metadata": {},
   "source": [
    "1. ### Linear regression"
   ]
  },
  {
   "cell_type": "code",
   "execution_count": 18,
   "metadata": {},
   "outputs": [],
   "source": [
    "# y = x\n",
    "# Build the model\n",
    "\n",
    "# pridiction by linear model\n",
    "fit = lm(Day ~ percent_closed, data = train.data)"
   ]
  },
  {
   "cell_type": "code",
   "execution_count": 19,
   "metadata": {},
   "outputs": [],
   "source": [
    "# Predicting\n",
    "predictions <- fit %>% predict(train.data)"
   ]
  },
  {
   "cell_type": "code",
   "execution_count": 20,
   "metadata": {},
   "outputs": [
    {
     "data": {
      "text/html": [
       "<table>\n",
       "<thead><tr><th scope=col>RMSE</th><th scope=col>R2</th></tr></thead>\n",
       "<tbody>\n",
       "\t<tr><td>3.698712</td><td>0.951119</td></tr>\n",
       "</tbody>\n",
       "</table>\n"
      ],
      "text/latex": [
       "\\begin{tabular}{r|ll}\n",
       " RMSE & R2\\\\\n",
       "\\hline\n",
       "\t 3.698712 & 0.951119\\\\\n",
       "\\end{tabular}\n"
      ],
      "text/markdown": [
       "\n",
       "| RMSE | R2 |\n",
       "|---|---|\n",
       "| 3.698712 | 0.951119 |\n",
       "\n"
      ],
      "text/plain": [
       "  RMSE     R2      \n",
       "1 3.698712 0.951119"
      ]
     },
     "metadata": {},
     "output_type": "display_data"
    }
   ],
   "source": [
    "# Model performance\n",
    "data.frame(\n",
    "  RMSE = RMSE(predictions, train.data$Day),\n",
    "  R2 = R2(predictions, train.data$Day)\n",
    ")"
   ]
  },
  {
   "cell_type": "markdown",
   "metadata": {},
   "source": [
    "<br />"
   ]
  },
  {
   "cell_type": "code",
   "execution_count": 21,
   "metadata": {},
   "outputs": [
    {
     "data": {
      "image/png": "[encoded data removed]",
      "text/plain": [
       "plot without title"
      ]
     },
     "metadata": {
      "image/png": {
       "height": 420,
       "width": 420
      },
      "text/plain": {
       "height": 420,
       "width": 420
      }
     },
     "output_type": "display_data"
    }
   ],
   "source": [
    "trainer <- ggplot(train.data, aes(Day, percent_closed) ) +\n",
    "              geom_point() +\n",
    "              stat_smooth(method = lm, formula = y ~ x) +   # linear function\n",
    "  \n",
    "              # decoration\n",
    "              labs( x = \"Days\", y = \"Closed Cases (%)\", title = paste(\"\\nTraining plot\", rName, sep = \" - \") ) +\n",
    "              theme( plot.title = element_text(size = 20, face = \"bold\")) \n",
    "trainer"
   ]
  },
  {
   "cell_type": "code",
   "execution_count": 22,
   "metadata": {},
   "outputs": [
    {
     "data": {
      "image/png": "[encoded data removed]",
      "text/plain": [
       "plot without title"
      ]
     },
     "metadata": {
      "image/png": {
       "height": 420,
       "width": 420
      },
      "text/plain": {
       "height": 420,
       "width": 420
      }
     },
     "output_type": "display_data"
    }
   ],
   "source": [
    "tester <- ggplot(test.data, aes(Day, percent_closed) ) +\n",
    "              geom_point() +\n",
    "              stat_smooth(method = lm, formula = y ~ x) +   # linear function\n",
    "  \n",
    "              # decoration\n",
    "              labs( x = \"Days\", y = \"Closed Cases (%)\", title = paste(\"\\nTesting plot\", rName, sep = \" - \") ) +\n",
    "              theme( plot.title = element_text(size = 20, face = \"bold\")) \n",
    "tester"
   ]
  },
  {
   "cell_type": "code",
   "execution_count": 23,
   "metadata": {},
   "outputs": [],
   "source": [
    "\n",
    "### can be TESTED in case of any problem in the ABOVE PLOT ###\n",
    "\n",
    "#  # pridiction by linear model\n",
    "#  pred <- predict(fit)   # fitting the model\n",
    "#\n",
    "#  plot(percent_closed ~ Day, data = test.data)     #  \"data = train.data\"    is also possible\n",
    "#  lines(train.data$Day, y=pred, col = \"blue\")\n"
   ]
  },
  {
   "cell_type": "markdown",
   "metadata": {},
   "source": [
    "<br />"
   ]
  },
  {
   "cell_type": "code",
   "execution_count": 24,
   "metadata": {},
   "outputs": [
    {
     "data": {
      "text/html": [
       "<table>\n",
       "<thead><tr><th></th><th scope=col>Day</th><th scope=col>percent_closed</th><th scope=col>Pridicted_percent_closed</th></tr></thead>\n",
       "<tbody>\n",
       "\t<tr><th scope=row>39</th><td>46      </td><td>92.73504</td><td>49      </td></tr>\n",
       "\t<tr><th scope=row>40</th><td>48      </td><td>94.77015</td><td>50      </td></tr>\n",
       "\t<tr><th scope=row>41</th><td>49      </td><td>95.62733</td><td>50      </td></tr>\n",
       "\t<tr><th scope=row>42</th><td>51      </td><td>96.56300</td><td>50      </td></tr>\n",
       "\t<tr><th scope=row>43</th><td>52      </td><td>96.97545</td><td>50      </td></tr>\n",
       "\t<tr><th scope=row>44</th><td>53      </td><td>97.20179</td><td>51      </td></tr>\n",
       "\t<tr><th scope=row>45</th><td>55      </td><td>97.36305</td><td>51      </td></tr>\n",
       "\t<tr><th scope=row>46</th><td>56      </td><td>97.39799</td><td>51      </td></tr>\n",
       "\t<tr><th scope=row>47</th><td>57      </td><td>97.32391</td><td>51      </td></tr>\n",
       "\t<tr><th scope=row>48</th><td>58      </td><td>97.11762</td><td>51      </td></tr>\n",
       "</tbody>\n",
       "</table>\n"
      ],
      "text/latex": [
       "\\begin{tabular}{r|lll}\n",
       "  & Day & percent\\_closed & Pridicted\\_percent\\_closed\\\\\n",
       "\\hline\n",
       "\t39 & 46       & 92.73504 & 49      \\\\\n",
       "\t40 & 48       & 94.77015 & 50      \\\\\n",
       "\t41 & 49       & 95.62733 & 50      \\\\\n",
       "\t42 & 51       & 96.56300 & 50      \\\\\n",
       "\t43 & 52       & 96.97545 & 50      \\\\\n",
       "\t44 & 53       & 97.20179 & 51      \\\\\n",
       "\t45 & 55       & 97.36305 & 51      \\\\\n",
       "\t46 & 56       & 97.39799 & 51      \\\\\n",
       "\t47 & 57       & 97.32391 & 51      \\\\\n",
       "\t48 & 58       & 97.11762 & 51      \\\\\n",
       "\\end{tabular}\n"
      ],
      "text/markdown": [
       "\n",
       "| <!--/--> | Day | percent_closed | Pridicted_percent_closed |\n",
       "|---|---|---|---|\n",
       "| 39 | 46       | 92.73504 | 49       |\n",
       "| 40 | 48       | 94.77015 | 50       |\n",
       "| 41 | 49       | 95.62733 | 50       |\n",
       "| 42 | 51       | 96.56300 | 50       |\n",
       "| 43 | 52       | 96.97545 | 50       |\n",
       "| 44 | 53       | 97.20179 | 51       |\n",
       "| 45 | 55       | 97.36305 | 51       |\n",
       "| 46 | 56       | 97.39799 | 51       |\n",
       "| 47 | 57       | 97.32391 | 51       |\n",
       "| 48 | 58       | 97.11762 | 51       |\n",
       "\n"
      ],
      "text/plain": [
       "   Day percent_closed Pridicted_percent_closed\n",
       "39 46  92.73504       49                      \n",
       "40 48  94.77015       50                      \n",
       "41 49  95.62733       50                      \n",
       "42 51  96.56300       50                      \n",
       "43 52  96.97545       50                      \n",
       "44 53  97.20179       51                      \n",
       "45 55  97.36305       51                      \n",
       "46 56  97.39799       51                      \n",
       "47 57  97.32391       51                      \n",
       "48 58  97.11762       51                      "
      ]
     },
     "metadata": {},
     "output_type": "display_data"
    },
    {
     "data": {
      "text/html": [
       "<table>\n",
       "<thead><tr><th scope=col>Day</th><th scope=col>percent_closed</th><th scope=col>Pridicted_percent_closed</th></tr></thead>\n",
       "<tbody>\n",
       "\t<tr><td> 4       </td><td> 1.395349</td><td> 9.2     </td></tr>\n",
       "\t<tr><td>13       </td><td> 3.874717</td><td>10.0     </td></tr>\n",
       "\t<tr><td>15       </td><td> 6.379421</td><td>11.0     </td></tr>\n",
       "\t<tr><td>18       </td><td>12.188594</td><td>14.0     </td></tr>\n",
       "\t<tr><td>28       </td><td>41.184452</td><td>26.0     </td></tr>\n",
       "\t<tr><td>39       </td><td>80.167448</td><td>43.0     </td></tr>\n",
       "\t<tr><td>41       </td><td>84.638993</td><td>45.0     </td></tr>\n",
       "\t<tr><td>47       </td><td>93.526990</td><td>49.0     </td></tr>\n",
       "\t<tr><td>50       </td><td>96.022209</td><td>50.0     </td></tr>\n",
       "\t<tr><td>54       </td><td>97.259444</td><td>51.0     </td></tr>\n",
       "</tbody>\n",
       "</table>\n"
      ],
      "text/latex": [
       "\\begin{tabular}{r|lll}\n",
       " Day & percent\\_closed & Pridicted\\_percent\\_closed\\\\\n",
       "\\hline\n",
       "\t  4        &  1.395349 &  9.2     \\\\\n",
       "\t 13        &  3.874717 & 10.0     \\\\\n",
       "\t 15        &  6.379421 & 11.0     \\\\\n",
       "\t 18        & 12.188594 & 14.0     \\\\\n",
       "\t 28        & 41.184452 & 26.0     \\\\\n",
       "\t 39        & 80.167448 & 43.0     \\\\\n",
       "\t 41        & 84.638993 & 45.0     \\\\\n",
       "\t 47        & 93.526990 & 49.0     \\\\\n",
       "\t 50        & 96.022209 & 50.0     \\\\\n",
       "\t 54        & 97.259444 & 51.0     \\\\\n",
       "\\end{tabular}\n"
      ],
      "text/markdown": [
       "\n",
       "| Day | percent_closed | Pridicted_percent_closed |\n",
       "|---|---|---|\n",
       "|  4        |  1.395349 |  9.2      |\n",
       "| 13        |  3.874717 | 10.0      |\n",
       "| 15        |  6.379421 | 11.0      |\n",
       "| 18        | 12.188594 | 14.0      |\n",
       "| 28        | 41.184452 | 26.0      |\n",
       "| 39        | 80.167448 | 43.0      |\n",
       "| 41        | 84.638993 | 45.0      |\n",
       "| 47        | 93.526990 | 49.0      |\n",
       "| 50        | 96.022209 | 50.0      |\n",
       "| 54        | 97.259444 | 51.0      |\n",
       "\n"
      ],
      "text/plain": [
       "   Day percent_closed Pridicted_percent_closed\n",
       "1   4   1.395349       9.2                    \n",
       "2  13   3.874717      10.0                    \n",
       "3  15   6.379421      11.0                    \n",
       "4  18  12.188594      14.0                    \n",
       "5  28  41.184452      26.0                    \n",
       "6  39  80.167448      43.0                    \n",
       "7  41  84.638993      45.0                    \n",
       "8  47  93.526990      49.0                    \n",
       "9  50  96.022209      50.0                    \n",
       "10 54  97.259444      51.0                    "
      ]
     },
     "metadata": {},
     "output_type": "display_data"
    }
   ],
   "source": [
    "trained = cbind( # Prediction for training data\n",
    "            train.data[,c(\"Day\", \"percent_closed\")],\n",
    "            Pridicted_percent_closed = signif(predict(fit, train.data), 2)\n",
    "          )\n",
    "\n",
    "tested = cbind(  # Prediction for tested data\n",
    "            test.data[,c(\"Day\", \"percent_closed\")],\n",
    "            Pridicted_percent_closed = signif(predict(fit, test.data), 2)\n",
    "         )\n",
    "\n",
    "\n",
    "tail(trained, 10)\n",
    "tail(tested, 10)"
   ]
  },
  {
   "cell_type": "markdown",
   "metadata": {},
   "source": [
    "<br />"
   ]
  },
  {
   "cell_type": "markdown",
   "metadata": {},
   "source": [
    "2. ### Polynomial regression"
   ]
  },
  {
   "cell_type": "code",
   "execution_count": 73,
   "metadata": {},
   "outputs": [],
   "source": [
    "# y = x + I(x^2)...   ---->   a polynomial function\n",
    "deg = 16        # degree of polynomial\n",
    "\n",
    "# better and alternate way for line i.e. above\n",
    "model = lm(percent_closed ~ poly(Day, deg, raw = TRUE), data = train.data)"
   ]
  },
  {
   "cell_type": "code",
   "execution_count": 74,
   "metadata": {},
   "outputs": [],
   "source": [
    "#head(test.data)\n",
    "#head(train.data)"
   ]
  },
  {
   "cell_type": "code",
   "execution_count": 75,
   "metadata": {},
   "outputs": [
    {
     "name": "stderr",
     "output_type": "stream",
     "text": [
      "Warning message in predict.lm(., train.data):\n",
      "“prediction from a rank-deficient fit may be misleading”\n"
     ]
    }
   ],
   "source": [
    "predictions <- model %>% predict(train.data)"
   ]
  },
  {
   "cell_type": "code",
   "execution_count": 76,
   "metadata": {},
   "outputs": [
    {
     "data": {
      "text/html": [
       "<table>\n",
       "<thead><tr><th scope=col>RMSE</th><th scope=col>R2</th></tr></thead>\n",
       "<tbody>\n",
       "\t<tr><td>28.56727 </td><td>0.9511412</td></tr>\n",
       "</tbody>\n",
       "</table>\n"
      ],
      "text/latex": [
       "\\begin{tabular}{r|ll}\n",
       " RMSE & R2\\\\\n",
       "\\hline\n",
       "\t 28.56727  & 0.9511412\\\\\n",
       "\\end{tabular}\n"
      ],
      "text/markdown": [
       "\n",
       "| RMSE | R2 |\n",
       "|---|---|\n",
       "| 28.56727  | 0.9511412 |\n",
       "\n"
      ],
      "text/plain": [
       "  RMSE     R2       \n",
       "1 28.56727 0.9511412"
      ]
     },
     "metadata": {},
     "output_type": "display_data"
    }
   ],
   "source": [
    "# Model performance\n",
    "data.frame(\n",
    "  RMSE = RMSE(predictions, train.data$Day),\n",
    "  R2 = R2(predictions, train.data$Day)\n",
    ")"
   ]
  },
  {
   "cell_type": "markdown",
   "metadata": {},
   "source": [
    "<br /><br />"
   ]
  },
  {
   "cell_type": "code",
   "execution_count": 77,
   "metadata": {},
   "outputs": [
    {
     "name": "stderr",
     "output_type": "stream",
     "text": [
      "Warning message in predict.lm(model, newdata = data.frame(x = xseq), se.fit = se, :\n",
      "“prediction from a rank-deficient fit may be misleading”\n"
     ]
    },
    {
     "data": {
      "image/png": "[encoded data removed]",
      "text/plain": [
       "plot without title"
      ]
     },
     "metadata": {
      "image/png": {
       "height": 420,
       "width": 420
      },
      "text/plain": {
       "height": 420,
       "width": 420
      }
     },
     "output_type": "display_data"
    }
   ],
   "source": [
    "trainer <- ggplot(train.data, aes(Day, percent_closed) ) +\n",
    "              geom_point() +\n",
    "              stat_smooth(method = lm, formula = y ~ poly(x, deg, raw = TRUE)) +   # polynomial function\n",
    "  \n",
    "              # decoration\n",
    "              labs( x = \"Days\", y = \"Closed Cases (%)\", title = paste(\"\\nTraining plot\", rName, sep = \" - \") ) +\n",
    "              theme( plot.title = element_text(size = 20, face = \"bold\")) \n",
    "trainer"
   ]
  },
  {
   "cell_type": "code",
   "execution_count": 78,
   "metadata": {},
   "outputs": [
    {
     "name": "stderr",
     "output_type": "stream",
     "text": [
      "Warning message in predict.lm(model, newdata = data.frame(x = xseq), se.fit = se, :\n",
      "“prediction from a rank-deficient fit may be misleading”\n",
      "Warning message in qt((1 - level)/2, df):\n",
      "“NaNs produced”\n"
     ]
    },
    {
     "data": {
      "image/png": "[encoded data removed]",
      "text/plain": [
       "plot without title"
      ]
     },
     "metadata": {
      "image/png": {
       "height": 420,
       "width": 420
      },
      "text/plain": {
       "height": 420,
       "width": 420
      }
     },
     "output_type": "display_data"
    }
   ],
   "source": [
    "tester <- ggplot(test.data, aes(Day, percent_closed) ) +\n",
    "              geom_point() +\n",
    "              stat_smooth(method = lm, formula = y ~ poly(x, deg, raw = TRUE)) +   # polynomial function\n",
    "  \n",
    "              # decoration\n",
    "              labs( x = \"Days\", y = \"Closed Cases (%)\", title = paste(\"\\nTesting plot\", rName, sep = \" - \") ) +\n",
    "              theme( plot.title = element_text(size = 20, face = \"bold\")) \n",
    "tester"
   ]
  },
  {
   "cell_type": "code",
   "execution_count": 79,
   "metadata": {},
   "outputs": [],
   "source": [
    "\n",
    "### can be TESTED in case of any problem in the ABOVE PLOT ###\n",
    "\n",
    "#  # pridiction by polynomial model\n",
    "#  pred <- predict(model)   # fitting the model\n",
    "#\n",
    "#  plot(percent_closed ~ Day, data = test.data)     #  \"data = train.data\"    is also possible\n",
    "#  lines(train.data$Day, y=pred, col = \"blue\")\n"
   ]
  },
  {
   "cell_type": "markdown",
   "metadata": {},
   "source": [
    "<br /><br />"
   ]
  },
  {
   "cell_type": "code",
   "execution_count": 80,
   "metadata": {},
   "outputs": [
    {
     "name": "stderr",
     "output_type": "stream",
     "text": [
      "Warning message in predict.lm(model, train.data):\n",
      "“prediction from a rank-deficient fit may be misleading”\n",
      "Warning message in predict.lm(model, test.data):\n",
      "“prediction from a rank-deficient fit may be misleading”\n"
     ]
    },
    {
     "data": {
      "text/html": [
       "<table>\n",
       "<thead><tr><th></th><th scope=col>Day</th><th scope=col>percent_closed</th><th scope=col>Pridicted_percent_closed</th></tr></thead>\n",
       "<tbody>\n",
       "\t<tr><th scope=row>39</th><td>46      </td><td>92.73504</td><td>92.97153</td></tr>\n",
       "\t<tr><th scope=row>40</th><td>48      </td><td>94.77015</td><td>94.79260</td></tr>\n",
       "\t<tr><th scope=row>41</th><td>49      </td><td>95.62733</td><td>95.48419</td></tr>\n",
       "\t<tr><th scope=row>42</th><td>51      </td><td>96.56300</td><td>96.56597</td></tr>\n",
       "\t<tr><th scope=row>43</th><td>52      </td><td>96.97545</td><td>96.96052</td></tr>\n",
       "\t<tr><th scope=row>44</th><td>53      </td><td>97.20179</td><td>97.23444</td></tr>\n",
       "\t<tr><th scope=row>45</th><td>55      </td><td>97.36305</td><td>97.39666</td></tr>\n",
       "\t<tr><th scope=row>46</th><td>56      </td><td>97.39799</td><td>97.36286</td></tr>\n",
       "\t<tr><th scope=row>47</th><td>57      </td><td>97.32391</td><td>97.32368</td></tr>\n",
       "\t<tr><th scope=row>48</th><td>58      </td><td>97.11762</td><td>97.12221</td></tr>\n",
       "</tbody>\n",
       "</table>\n"
      ],
      "text/latex": [
       "\\begin{tabular}{r|lll}\n",
       "  & Day & percent\\_closed & Pridicted\\_percent\\_closed\\\\\n",
       "\\hline\n",
       "\t39 & 46       & 92.73504 & 92.97153\\\\\n",
       "\t40 & 48       & 94.77015 & 94.79260\\\\\n",
       "\t41 & 49       & 95.62733 & 95.48419\\\\\n",
       "\t42 & 51       & 96.56300 & 96.56597\\\\\n",
       "\t43 & 52       & 96.97545 & 96.96052\\\\\n",
       "\t44 & 53       & 97.20179 & 97.23444\\\\\n",
       "\t45 & 55       & 97.36305 & 97.39666\\\\\n",
       "\t46 & 56       & 97.39799 & 97.36286\\\\\n",
       "\t47 & 57       & 97.32391 & 97.32368\\\\\n",
       "\t48 & 58       & 97.11762 & 97.12221\\\\\n",
       "\\end{tabular}\n"
      ],
      "text/markdown": [
       "\n",
       "| <!--/--> | Day | percent_closed | Pridicted_percent_closed |\n",
       "|---|---|---|---|\n",
       "| 39 | 46       | 92.73504 | 92.97153 |\n",
       "| 40 | 48       | 94.77015 | 94.79260 |\n",
       "| 41 | 49       | 95.62733 | 95.48419 |\n",
       "| 42 | 51       | 96.56300 | 96.56597 |\n",
       "| 43 | 52       | 96.97545 | 96.96052 |\n",
       "| 44 | 53       | 97.20179 | 97.23444 |\n",
       "| 45 | 55       | 97.36305 | 97.39666 |\n",
       "| 46 | 56       | 97.39799 | 97.36286 |\n",
       "| 47 | 57       | 97.32391 | 97.32368 |\n",
       "| 48 | 58       | 97.11762 | 97.12221 |\n",
       "\n"
      ],
      "text/plain": [
       "   Day percent_closed Pridicted_percent_closed\n",
       "39 46  92.73504       92.97153                \n",
       "40 48  94.77015       94.79260                \n",
       "41 49  95.62733       95.48419                \n",
       "42 51  96.56300       96.56597                \n",
       "43 52  96.97545       96.96052                \n",
       "44 53  97.20179       97.23444                \n",
       "45 55  97.36305       97.39666                \n",
       "46 56  97.39799       97.36286                \n",
       "47 57  97.32391       97.32368                \n",
       "48 58  97.11762       97.12221                "
      ]
     },
     "metadata": {},
     "output_type": "display_data"
    },
    {
     "data": {
      "text/html": [
       "<table>\n",
       "<thead><tr><th scope=col>Day</th><th scope=col>percent_closed</th><th scope=col>Pridicted_percent_closed</th></tr></thead>\n",
       "<tbody>\n",
       "\t<tr><td> 4       </td><td> 1.395349</td><td> 1.233642</td></tr>\n",
       "\t<tr><td>13       </td><td> 3.874717</td><td> 3.867483</td></tr>\n",
       "\t<tr><td>15       </td><td> 6.379421</td><td> 6.479980</td></tr>\n",
       "\t<tr><td>18       </td><td>12.188594</td><td>11.938976</td></tr>\n",
       "\t<tr><td>28       </td><td>41.184452</td><td>41.770940</td></tr>\n",
       "\t<tr><td>39       </td><td>80.167448</td><td>79.797800</td></tr>\n",
       "\t<tr><td>41       </td><td>84.638993</td><td>84.635290</td></tr>\n",
       "\t<tr><td>47       </td><td>93.526990</td><td>93.967398</td></tr>\n",
       "\t<tr><td>50       </td><td>96.022209</td><td>96.071260</td></tr>\n",
       "\t<tr><td>54       </td><td>97.259444</td><td>97.373855</td></tr>\n",
       "</tbody>\n",
       "</table>\n"
      ],
      "text/latex": [
       "\\begin{tabular}{r|lll}\n",
       " Day & percent\\_closed & Pridicted\\_percent\\_closed\\\\\n",
       "\\hline\n",
       "\t  4        &  1.395349 &  1.233642\\\\\n",
       "\t 13        &  3.874717 &  3.867483\\\\\n",
       "\t 15        &  6.379421 &  6.479980\\\\\n",
       "\t 18        & 12.188594 & 11.938976\\\\\n",
       "\t 28        & 41.184452 & 41.770940\\\\\n",
       "\t 39        & 80.167448 & 79.797800\\\\\n",
       "\t 41        & 84.638993 & 84.635290\\\\\n",
       "\t 47        & 93.526990 & 93.967398\\\\\n",
       "\t 50        & 96.022209 & 96.071260\\\\\n",
       "\t 54        & 97.259444 & 97.373855\\\\\n",
       "\\end{tabular}\n"
      ],
      "text/markdown": [
       "\n",
       "| Day | percent_closed | Pridicted_percent_closed |\n",
       "|---|---|---|\n",
       "|  4        |  1.395349 |  1.233642 |\n",
       "| 13        |  3.874717 |  3.867483 |\n",
       "| 15        |  6.379421 |  6.479980 |\n",
       "| 18        | 12.188594 | 11.938976 |\n",
       "| 28        | 41.184452 | 41.770940 |\n",
       "| 39        | 80.167448 | 79.797800 |\n",
       "| 41        | 84.638993 | 84.635290 |\n",
       "| 47        | 93.526990 | 93.967398 |\n",
       "| 50        | 96.022209 | 96.071260 |\n",
       "| 54        | 97.259444 | 97.373855 |\n",
       "\n"
      ],
      "text/plain": [
       "   Day percent_closed Pridicted_percent_closed\n",
       "1   4   1.395349       1.233642               \n",
       "2  13   3.874717       3.867483               \n",
       "3  15   6.379421       6.479980               \n",
       "4  18  12.188594      11.938976               \n",
       "5  28  41.184452      41.770940               \n",
       "6  39  80.167448      79.797800               \n",
       "7  41  84.638993      84.635290               \n",
       "8  47  93.526990      93.967398               \n",
       "9  50  96.022209      96.071260               \n",
       "10 54  97.259444      97.373855               "
      ]
     },
     "metadata": {},
     "output_type": "display_data"
    }
   ],
   "source": [
    "trained = cbind( # Prediction for training data\n",
    "            train.data[,c(\"Day\", \"percent_closed\")],\n",
    "            Pridicted_percent_closed = predict(model, train.data)\n",
    "          )\n",
    "\n",
    "tested = cbind(  # Prediction for tested data\n",
    "            test.data[,c(\"Day\", \"percent_closed\")],\n",
    "            Pridicted_percent_closed = predict(model, test.data)\n",
    "         )\n",
    "\n",
    "\n",
    "tail(trained, 10)\n",
    "tail(tested, 10)"
   ]
  },
  {
   "cell_type": "markdown",
   "metadata": {},
   "source": [
    "<br /><hr /><br />"
   ]
  },
  {
   "cell_type": "markdown",
   "metadata": {},
   "source": [
    "## Predictions"
   ]
  },
  {
   "cell_type": "code",
   "execution_count": 81,
   "metadata": {},
   "outputs": [],
   "source": [
    "test_Miscellaneous = data.frame(\n",
    "                        Day = NaN,\n",
    "                        Confirmed = NaN,\n",
    "                        Closed.Cases = NaN,\n",
    "                        percent_active = NaN,\n",
    "                        percent_closed = NaN\n",
    "                     )"
   ]
  },
  {
   "cell_type": "code",
   "execution_count": 82,
   "metadata": {},
   "outputs": [],
   "source": [
    "# 15th March ---> day 54\n",
    "dNo = 59    # get the day no. to pridict\n",
    "\n",
    "test_Miscellaneous$'Day' = dNo"
   ]
  },
  {
   "cell_type": "markdown",
   "metadata": {},
   "source": [
    "<br /> \n",
    "1. #### By Linear Model"
   ]
  },
  {
   "cell_type": "code",
   "execution_count": 83,
   "metadata": {},
   "outputs": [
    {
     "data": {
      "text/html": [
       "<table>\n",
       "<thead><tr><th scope=col>Day</th><th scope=col>percent_closed</th><th scope=col>percent_pridicted</th></tr></thead>\n",
       "<tbody>\n",
       "\t<tr><td>59 </td><td>NaN</td><td>NaN</td></tr>\n",
       "</tbody>\n",
       "</table>\n"
      ],
      "text/latex": [
       "\\begin{tabular}{r|lll}\n",
       " Day & percent\\_closed & percent\\_pridicted\\\\\n",
       "\\hline\n",
       "\t 59  & NaN & NaN\\\\\n",
       "\\end{tabular}\n"
      ],
      "text/markdown": [
       "\n",
       "| Day | percent_closed | percent_pridicted |\n",
       "|---|---|---|\n",
       "| 59  | NaN | NaN |\n",
       "\n"
      ],
      "text/plain": [
       "  Day percent_closed percent_pridicted\n",
       "1 59  NaN            NaN              "
      ]
     },
     "metadata": {},
     "output_type": "display_data"
    }
   ],
   "source": [
    "# modeling variable  --->  fit\n",
    "Prediction = cbind(\n",
    "                test_Miscellaneous[,c(\"Day\", \"percent_closed\")],\n",
    "                percent_pridicted = signif(predict(fit, test_Miscellaneous), 2)\n",
    "             )\n",
    "Prediction"
   ]
  },
  {
   "cell_type": "markdown",
   "metadata": {},
   "source": [
    "<br /> \n",
    "2. #### By Polynomial Model"
   ]
  },
  {
   "cell_type": "code",
   "execution_count": 84,
   "metadata": {},
   "outputs": [
    {
     "name": "stderr",
     "output_type": "stream",
     "text": [
      "Warning message in predict.lm(model, test_Miscellaneous):\n",
      "“prediction from a rank-deficient fit may be misleading”\n"
     ]
    },
    {
     "data": {
      "text/html": [
       "<table>\n",
       "<thead><tr><th scope=col>Day</th><th scope=col>percent_closed</th><th scope=col>percent_pridicted</th></tr></thead>\n",
       "<tbody>\n",
       "\t<tr><td>59      </td><td>NaN     </td><td>95.89602</td></tr>\n",
       "</tbody>\n",
       "</table>\n"
      ],
      "text/latex": [
       "\\begin{tabular}{r|lll}\n",
       " Day & percent\\_closed & percent\\_pridicted\\\\\n",
       "\\hline\n",
       "\t 59       & NaN      & 95.89602\\\\\n",
       "\\end{tabular}\n"
      ],
      "text/markdown": [
       "\n",
       "| Day | percent_closed | percent_pridicted |\n",
       "|---|---|---|\n",
       "| 59       | NaN      | 95.89602 |\n",
       "\n"
      ],
      "text/plain": [
       "  Day percent_closed percent_pridicted\n",
       "1 59  NaN            95.89602         "
      ]
     },
     "metadata": {},
     "output_type": "display_data"
    }
   ],
   "source": [
    "# modeling variable  --->  model\n",
    "Prediction = cbind(\n",
    "                test_Miscellaneous[,c(\"Day\", \"percent_closed\")],\n",
    "                percent_pridicted = predict(model, test_Miscellaneous)\n",
    "             )\n",
    "Prediction"
   ]
  },
  {
   "cell_type": "markdown",
   "metadata": {},
   "source": [
    "<hr /> <br />"
   ]
  },
  {
   "cell_type": "markdown",
   "metadata": {},
   "source": [
    "## for day 58 (19th march, in chaina) :\n",
    "> 97.32501 cases will be resolved <br />\n",
    "> 2.674994 cases will still be active"
   ]
  }
 ],
 "metadata": {
  "kernelspec": {
   "display_name": "R",
   "language": "R",
   "name": "ir"
  },
  "language_info": {
   "codemirror_mode": "r",
   "file_extension": ".r",
   "mimetype": "text/x-r-source",
   "name": "R",
   "pygments_lexer": "r",
   "version": "3.6.1"
  }
 },
 "nbformat": 4,
 "nbformat_minor": 2
}
