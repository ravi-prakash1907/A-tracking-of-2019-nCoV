{
 "cells": [
  {
   "cell_type": "markdown",
   "metadata": {},
   "source": [
    "<center><h1> <font color=\"green\"><u>Active-Case Predictions ~ 19-nCoV</u></font> </h1></center>"
   ]
  },
  {
   "cell_type": "markdown",
   "metadata": {},
   "source": [
    "<center><h3> <font color=\"#cc0000\"><u>Active Cases(%) out of Confirmed</u></font> </h3></center>"
   ]
  },
  {
   "cell_type": "markdown",
   "metadata": {},
   "source": [
    "<h3> <font color=\"purple\"><u>This section includes:</u></font> </h3>"
   ]
  },
  {
   "cell_type": "markdown",
   "metadata": {},
   "source": [
    "> * Data Filtering <br />\n",
    "> * Training & Testing datasets <br />\n",
    "> * Prediction <br />\n",
    "> * Visualization (Scatter Plots) <br />"
   ]
  },
  {
   "cell_type": "markdown",
   "metadata": {},
   "source": [
    "<br />"
   ]
  },
  {
   "cell_type": "markdown",
   "metadata": {},
   "source": [
    "## Creating Datasets"
   ]
  },
  {
   "cell_type": "code",
   "execution_count": 1,
   "metadata": {},
   "outputs": [],
   "source": [
    "# setting the working directory\n",
    "setwd(\"~/Documents/A-tracking-of-2019-nCoV/COVID-19/ready_to_use\")"
   ]
  },
  {
   "cell_type": "code",
   "execution_count": 2,
   "metadata": {},
   "outputs": [
    {
     "name": "stderr",
     "output_type": "stream",
     "text": [
      "Registered S3 methods overwritten by 'ggplot2':\n",
      "  method         from \n",
      "  [.quosures     rlang\n",
      "  c.quosures     rlang\n",
      "  print.quosures rlang\n",
      "\n"
     ]
    }
   ],
   "source": [
    "# Loading desired libraries\n",
    "library(readr)\n",
    "library(ggplot2)\n",
    "library(stringr)"
   ]
  },
  {
   "cell_type": "markdown",
   "metadata": {},
   "source": [
    "<hr />"
   ]
  },
  {
   "cell_type": "code",
   "execution_count": 3,
   "metadata": {},
   "outputs": [
    {
     "name": "stderr",
     "output_type": "stream",
     "text": [
      "Parsed with column specification:\n",
      "cols(\n",
      "  Country = \u001b[31mcol_character()\u001b[39m,\n",
      "  Day = \u001b[32mcol_double()\u001b[39m,\n",
      "  Date = \u001b[31mcol_character()\u001b[39m,\n",
      "  Confirmed = \u001b[32mcol_double()\u001b[39m,\n",
      "  Deaths = \u001b[32mcol_double()\u001b[39m,\n",
      "  Recovered = \u001b[32mcol_double()\u001b[39m,\n",
      "  Active.Cases = \u001b[32mcol_double()\u001b[39m,\n",
      "  Closed.Cases = \u001b[32mcol_double()\u001b[39m\n",
      ")\n",
      "\n",
      "Parsed with column specification:\n",
      "cols(\n",
      "  Location = \u001b[31mcol_character()\u001b[39m,\n",
      "  Day = \u001b[32mcol_double()\u001b[39m,\n",
      "  Date = \u001b[31mcol_character()\u001b[39m,\n",
      "  Confirmed = \u001b[32mcol_double()\u001b[39m,\n",
      "  Deaths = \u001b[32mcol_double()\u001b[39m,\n",
      "  Recovered = \u001b[32mcol_double()\u001b[39m,\n",
      "  Active.Cases = \u001b[32mcol_double()\u001b[39m,\n",
      "  Closed.Cases = \u001b[32mcol_double()\u001b[39m\n",
      ")\n",
      "\n",
      "Parsed with column specification:\n",
      "cols(\n",
      "  State = \u001b[31mcol_character()\u001b[39m,\n",
      "  Day = \u001b[32mcol_double()\u001b[39m,\n",
      "  Date = \u001b[31mcol_character()\u001b[39m,\n",
      "  Confirmed = \u001b[32mcol_double()\u001b[39m,\n",
      "  Deaths = \u001b[32mcol_double()\u001b[39m,\n",
      "  Recovered = \u001b[32mcol_double()\u001b[39m,\n",
      "  Active.Cases = \u001b[32mcol_double()\u001b[39m,\n",
      "  Closed.Cases = \u001b[32mcol_double()\u001b[39m\n",
      ")\n",
      "\n",
      "Parsed with column specification:\n",
      "cols(\n",
      "  State = \u001b[31mcol_character()\u001b[39m,\n",
      "  Day = \u001b[32mcol_double()\u001b[39m,\n",
      "  Date = \u001b[31mcol_character()\u001b[39m,\n",
      "  Confirmed = \u001b[32mcol_double()\u001b[39m,\n",
      "  Deaths = \u001b[32mcol_double()\u001b[39m,\n",
      "  Recovered = \u001b[32mcol_double()\u001b[39m,\n",
      "  Active.Cases = \u001b[32mcol_double()\u001b[39m,\n",
      "  Closed.Cases = \u001b[32mcol_double()\u001b[39m\n",
      ")\n",
      "\n"
     ]
    }
   ],
   "source": [
    "all = read_csv('COVID-19/Mixed/countryWise_bulk_summary.csv')\n",
    "world = read_csv('COVID-19/World/World_dataset_dateWise_summary.csv')\n",
    "\n",
    "hubei = read_csv('COVID-19/Hubei/Hubei_dataset_dateWise_summary.csv')\n",
    "cruise = read_csv('COVID-19/Cruise/Diamond_Princess_dataset_dateWise_summary.csv')"
   ]
  },
  {
   "cell_type": "code",
   "execution_count": 4,
   "metadata": {},
   "outputs": [],
   "source": [
    "# country list\n",
    "countries = matrix(levels(as.factor(all$Country)))\n",
    "\n",
    "#head(countries, 10)"
   ]
  },
  {
   "cell_type": "markdown",
   "metadata": {},
   "source": [
    "<br /> \n",
    "### Choosing desired Country/Region"
   ]
  },
  {
   "cell_type": "code",
   "execution_count": 5,
   "metadata": {},
   "outputs": [],
   "source": [
    "# country i.e. to be used throughout the analysis\n",
    " rName = 'China' # without hubei\n",
    "\n",
    "# rName = 'World'\n",
    "# rName = 'Hubei'\n",
    "# rName = 'Diamond Cruise'\n",
    "\n",
    "# whole_china --->  'China' + hubei"
   ]
  },
  {
   "cell_type": "markdown",
   "metadata": {},
   "source": [
    "<hr />"
   ]
  },
  {
   "cell_type": "code",
   "execution_count": 6,
   "metadata": {},
   "outputs": [
    {
     "data": {
      "text/html": [
       "<table>\n",
       "<thead><tr><th scope=col>Country</th><th scope=col>Day</th><th scope=col>Date</th><th scope=col>Confirmed</th><th scope=col>Deaths</th><th scope=col>Recovered</th><th scope=col>Active.Cases</th><th scope=col>Closed.Cases</th></tr></thead>\n",
       "<tbody>\n",
       "\t<tr><td>China     </td><td>1         </td><td>22-01-2020</td><td> 104      </td><td>0         </td><td> 0        </td><td> 104      </td><td> 0        </td></tr>\n",
       "\t<tr><td>China     </td><td>2         </td><td>23-01-2020</td><td> 199      </td><td>1         </td><td> 2        </td><td> 196      </td><td> 3        </td></tr>\n",
       "\t<tr><td>China     </td><td>3         </td><td>24-01-2020</td><td> 371      </td><td>2         </td><td> 5        </td><td> 364      </td><td> 7        </td></tr>\n",
       "\t<tr><td>China     </td><td>4         </td><td>25-01-2020</td><td> 645      </td><td>2         </td><td> 7        </td><td> 636      </td><td> 9        </td></tr>\n",
       "\t<tr><td>China     </td><td>5         </td><td>26-01-2020</td><td>1017      </td><td>4         </td><td> 7        </td><td>1006      </td><td>11        </td></tr>\n",
       "\t<tr><td>China     </td><td>6         </td><td>27-01-2020</td><td>1454      </td><td>6         </td><td>13        </td><td>1435      </td><td>19        </td></tr>\n",
       "</tbody>\n",
       "</table>\n"
      ],
      "text/latex": [
       "\\begin{tabular}{r|llllllll}\n",
       " Country & Day & Date & Confirmed & Deaths & Recovered & Active.Cases & Closed.Cases\\\\\n",
       "\\hline\n",
       "\t China      & 1          & 22-01-2020 &  104       & 0          &  0         &  104       &  0        \\\\\n",
       "\t China      & 2          & 23-01-2020 &  199       & 1          &  2         &  196       &  3        \\\\\n",
       "\t China      & 3          & 24-01-2020 &  371       & 2          &  5         &  364       &  7        \\\\\n",
       "\t China      & 4          & 25-01-2020 &  645       & 2          &  7         &  636       &  9        \\\\\n",
       "\t China      & 5          & 26-01-2020 & 1017       & 4          &  7         & 1006       & 11        \\\\\n",
       "\t China      & 6          & 27-01-2020 & 1454       & 6          & 13         & 1435       & 19        \\\\\n",
       "\\end{tabular}\n"
      ],
      "text/markdown": [
       "\n",
       "| Country | Day | Date | Confirmed | Deaths | Recovered | Active.Cases | Closed.Cases |\n",
       "|---|---|---|---|---|---|---|---|\n",
       "| China      | 1          | 22-01-2020 |  104       | 0          |  0         |  104       |  0         |\n",
       "| China      | 2          | 23-01-2020 |  199       | 1          |  2         |  196       |  3         |\n",
       "| China      | 3          | 24-01-2020 |  371       | 2          |  5         |  364       |  7         |\n",
       "| China      | 4          | 25-01-2020 |  645       | 2          |  7         |  636       |  9         |\n",
       "| China      | 5          | 26-01-2020 | 1017       | 4          |  7         | 1006       | 11         |\n",
       "| China      | 6          | 27-01-2020 | 1454       | 6          | 13         | 1435       | 19         |\n",
       "\n"
      ],
      "text/plain": [
       "  Country Day Date       Confirmed Deaths Recovered Active.Cases Closed.Cases\n",
       "1 China   1   22-01-2020  104      0       0         104          0          \n",
       "2 China   2   23-01-2020  199      1       2         196          3          \n",
       "3 China   3   24-01-2020  371      2       5         364          7          \n",
       "4 China   4   25-01-2020  645      2       7         636          9          \n",
       "5 China   5   26-01-2020 1017      4       7        1006         11          \n",
       "6 China   6   27-01-2020 1454      6      13        1435         19          "
      ]
     },
     "metadata": {},
     "output_type": "display_data"
    }
   ],
   "source": [
    "# filtering out desired country\n",
    "region = all[which(str_detect(all$Country, rName)),]\n",
    "\n",
    "# region = world\n",
    "# region = hubei\n",
    "# region = cruise[14:nrow(cruise),]\n",
    "\n",
    "head(region)"
   ]
  },
  {
   "cell_type": "markdown",
   "metadata": {},
   "source": [
    "<hr />"
   ]
  },
  {
   "cell_type": "code",
   "execution_count": 7,
   "metadata": {},
   "outputs": [
    {
     "data": {
      "text/html": [
       "<table>\n",
       "<thead><tr><th scope=col>Day</th><th scope=col>Confirmed</th><th scope=col>Active.Cases</th></tr></thead>\n",
       "<tbody>\n",
       "\t<tr><td> 1  </td><td> 104</td><td> 104</td></tr>\n",
       "\t<tr><td> 2  </td><td> 199</td><td> 196</td></tr>\n",
       "\t<tr><td> 3  </td><td> 371</td><td> 364</td></tr>\n",
       "\t<tr><td> 4  </td><td> 645</td><td> 636</td></tr>\n",
       "\t<tr><td> 5  </td><td>1017</td><td>1006</td></tr>\n",
       "\t<tr><td> 6  </td><td>1454</td><td>1435</td></tr>\n",
       "\t<tr><td> 7  </td><td>1955</td><td>1928</td></tr>\n",
       "\t<tr><td> 8  </td><td>2533</td><td>2493</td></tr>\n",
       "\t<tr><td> 9  </td><td>3238</td><td>3184</td></tr>\n",
       "\t<tr><td>10  </td><td>3996</td><td>3914</td></tr>\n",
       "</tbody>\n",
       "</table>\n"
      ],
      "text/latex": [
       "\\begin{tabular}{r|lll}\n",
       " Day & Confirmed & Active.Cases\\\\\n",
       "\\hline\n",
       "\t  1   &  104 &  104\\\\\n",
       "\t  2   &  199 &  196\\\\\n",
       "\t  3   &  371 &  364\\\\\n",
       "\t  4   &  645 &  636\\\\\n",
       "\t  5   & 1017 & 1006\\\\\n",
       "\t  6   & 1454 & 1435\\\\\n",
       "\t  7   & 1955 & 1928\\\\\n",
       "\t  8   & 2533 & 2493\\\\\n",
       "\t  9   & 3238 & 3184\\\\\n",
       "\t 10   & 3996 & 3914\\\\\n",
       "\\end{tabular}\n"
      ],
      "text/markdown": [
       "\n",
       "| Day | Confirmed | Active.Cases |\n",
       "|---|---|---|\n",
       "|  1   |  104 |  104 |\n",
       "|  2   |  199 |  196 |\n",
       "|  3   |  371 |  364 |\n",
       "|  4   |  645 |  636 |\n",
       "|  5   | 1017 | 1006 |\n",
       "|  6   | 1454 | 1435 |\n",
       "|  7   | 1955 | 1928 |\n",
       "|  8   | 2533 | 2493 |\n",
       "|  9   | 3238 | 3184 |\n",
       "| 10   | 3996 | 3914 |\n",
       "\n"
      ],
      "text/plain": [
       "   Day Confirmed Active.Cases\n",
       "1   1   104       104        \n",
       "2   2   199       196        \n",
       "3   3   371       364        \n",
       "4   4   645       636        \n",
       "5   5  1017      1006        \n",
       "6   6  1454      1435        \n",
       "7   7  1955      1928        \n",
       "8   8  2533      2493        \n",
       "9   9  3238      3184        \n",
       "10 10  3996      3914        "
      ]
     },
     "metadata": {},
     "output_type": "display_data"
    }
   ],
   "source": [
    "region=region[,c('Day','Confirmed','Active.Cases')]\n",
    "head(region, 10)"
   ]
  },
  {
   "cell_type": "code",
   "execution_count": 8,
   "metadata": {},
   "outputs": [],
   "source": [
    "# calculate the percent (using Confirmed cases as total)\n",
    "percent <- function(dfName){\n",
    "    get(dfName) -> df\n",
    "    part <- NULL\n",
    "    \n",
    "    for(i in 1:nrow(df)) {\n",
    "        val = df[i,\"Active.Cases\"]\n",
    "        Total = df[i,\"Confirmed\"]\n",
    "        \n",
    "        \n",
    "        if(i == 1)\n",
    "            if(val==0)\n",
    "                part = 0\n",
    "            else\n",
    "                part = signif(as.numeric((val*100)/Total),digits=2)\n",
    "        else\n",
    "            if(val==0)\n",
    "                part = c(part, 0)\n",
    "            else\n",
    "                part <- c(part, signif(as.numeric((val*100)/Total),digits=2))\n",
    "    }\n",
    "        \n",
    "    return(signif(part, digits = 2))\n",
    "}"
   ]
  },
  {
   "cell_type": "markdown",
   "metadata": {},
   "source": [
    "<hr />"
   ]
  },
  {
   "cell_type": "code",
   "execution_count": 9,
   "metadata": {},
   "outputs": [],
   "source": [
    "# CASES -> percentage\n",
    "region$'percent_active' = percent(\"region\")     # Active cases, out of every 100 Confirmed cases\n",
    "region$'percent_closed' = 100-percent(\"region\") # Closed cases, out of every 100 Confirmed cases"
   ]
  },
  {
   "cell_type": "code",
   "execution_count": 10,
   "metadata": {},
   "outputs": [
    {
     "data": {
      "text/html": [
       "<table>\n",
       "<thead><tr><th scope=col>Day</th><th scope=col>Confirmed</th><th scope=col>Active.Cases</th><th scope=col>percent_active</th><th scope=col>percent_closed</th></tr></thead>\n",
       "<tbody>\n",
       "\t<tr><td>1   </td><td> 104</td><td> 104</td><td>100 </td><td>0   </td></tr>\n",
       "\t<tr><td>2   </td><td> 199</td><td> 196</td><td> 98 </td><td>2   </td></tr>\n",
       "\t<tr><td>3   </td><td> 371</td><td> 364</td><td> 98 </td><td>2   </td></tr>\n",
       "\t<tr><td>4   </td><td> 645</td><td> 636</td><td> 99 </td><td>1   </td></tr>\n",
       "\t<tr><td>5   </td><td>1017</td><td>1006</td><td> 99 </td><td>1   </td></tr>\n",
       "\t<tr><td>6   </td><td>1454</td><td>1435</td><td> 99 </td><td>1   </td></tr>\n",
       "</tbody>\n",
       "</table>\n"
      ],
      "text/latex": [
       "\\begin{tabular}{r|lllll}\n",
       " Day & Confirmed & Active.Cases & percent\\_active & percent\\_closed\\\\\n",
       "\\hline\n",
       "\t 1    &  104 &  104 & 100  & 0   \\\\\n",
       "\t 2    &  199 &  196 &  98  & 2   \\\\\n",
       "\t 3    &  371 &  364 &  98  & 2   \\\\\n",
       "\t 4    &  645 &  636 &  99  & 1   \\\\\n",
       "\t 5    & 1017 & 1006 &  99  & 1   \\\\\n",
       "\t 6    & 1454 & 1435 &  99  & 1   \\\\\n",
       "\\end{tabular}\n"
      ],
      "text/markdown": [
       "\n",
       "| Day | Confirmed | Active.Cases | percent_active | percent_closed |\n",
       "|---|---|---|---|---|\n",
       "| 1    |  104 |  104 | 100  | 0    |\n",
       "| 2    |  199 |  196 |  98  | 2    |\n",
       "| 3    |  371 |  364 |  98  | 2    |\n",
       "| 4    |  645 |  636 |  99  | 1    |\n",
       "| 5    | 1017 | 1006 |  99  | 1    |\n",
       "| 6    | 1454 | 1435 |  99  | 1    |\n",
       "\n"
      ],
      "text/plain": [
       "  Day Confirmed Active.Cases percent_active percent_closed\n",
       "1 1    104       104         100            0             \n",
       "2 2    199       196          98            2             \n",
       "3 3    371       364          98            2             \n",
       "4 4    645       636          99            1             \n",
       "5 5   1017      1006          99            1             \n",
       "6 6   1454      1435          99            1             "
      ]
     },
     "metadata": {},
     "output_type": "display_data"
    }
   ],
   "source": [
    "head(region)"
   ]
  },
  {
   "cell_type": "markdown",
   "metadata": {},
   "source": [
    "<br />* Dataset is ready"
   ]
  },
  {
   "cell_type": "markdown",
   "metadata": {},
   "source": [
    "<hr /><br />"
   ]
  },
  {
   "cell_type": "markdown",
   "metadata": {},
   "source": [
    "### Understanding the plot"
   ]
  },
  {
   "cell_type": "code",
   "execution_count": 11,
   "metadata": {},
   "outputs": [
    {
     "data": {
      "image/png": "[encoded data removed]",
      "text/plain": [
       "plot without title"
      ]
     },
     "metadata": {
      "image/png": {
       "height": 420,
       "width": 420
      },
      "text/plain": {
       "height": 420,
       "width": 420
      }
     },
     "output_type": "display_data"
    }
   ],
   "source": [
    "# Day vs %Closed Cases\n",
    "region.scatter.plot <- ggplot(region, aes(x = region$Day, y = region$percent_active)) +\n",
    "                        geom_point()\n",
    "region.scatter.plot"
   ]
  },
  {
   "cell_type": "code",
   "execution_count": 12,
   "metadata": {},
   "outputs": [
    {
     "data": {
      "text/html": [
       "<table>\n",
       "<thead><tr><th scope=col>Day</th><th scope=col>Confirmed</th><th scope=col>Active.Cases</th><th scope=col>percent_active</th><th scope=col>percent_closed</th></tr></thead>\n",
       "<tbody>\n",
       "\t<tr><td>49   </td><td>13127</td><td>574  </td><td>4.4  </td><td>95.6 </td></tr>\n",
       "\t<tr><td>50   </td><td>13148</td><td>523  </td><td>4.0  </td><td>96.0 </td></tr>\n",
       "\t<tr><td>51   </td><td>13151</td><td>452  </td><td>3.4  </td><td>96.6 </td></tr>\n",
       "\t<tr><td>52   </td><td>13159</td><td>398  </td><td>3.0  </td><td>97.0 </td></tr>\n",
       "\t<tr><td>53   </td><td>13187</td><td>369  </td><td>2.8  </td><td>97.2 </td></tr>\n",
       "\t<tr><td>54   </td><td>13209</td><td>362  </td><td>2.7  </td><td>97.3 </td></tr>\n",
       "</tbody>\n",
       "</table>\n"
      ],
      "text/latex": [
       "\\begin{tabular}{r|lllll}\n",
       " Day & Confirmed & Active.Cases & percent\\_active & percent\\_closed\\\\\n",
       "\\hline\n",
       "\t 49    & 13127 & 574   & 4.4   & 95.6 \\\\\n",
       "\t 50    & 13148 & 523   & 4.0   & 96.0 \\\\\n",
       "\t 51    & 13151 & 452   & 3.4   & 96.6 \\\\\n",
       "\t 52    & 13159 & 398   & 3.0   & 97.0 \\\\\n",
       "\t 53    & 13187 & 369   & 2.8   & 97.2 \\\\\n",
       "\t 54    & 13209 & 362   & 2.7   & 97.3 \\\\\n",
       "\\end{tabular}\n"
      ],
      "text/markdown": [
       "\n",
       "| Day | Confirmed | Active.Cases | percent_active | percent_closed |\n",
       "|---|---|---|---|---|\n",
       "| 49    | 13127 | 574   | 4.4   | 95.6  |\n",
       "| 50    | 13148 | 523   | 4.0   | 96.0  |\n",
       "| 51    | 13151 | 452   | 3.4   | 96.6  |\n",
       "| 52    | 13159 | 398   | 3.0   | 97.0  |\n",
       "| 53    | 13187 | 369   | 2.8   | 97.2  |\n",
       "| 54    | 13209 | 362   | 2.7   | 97.3  |\n",
       "\n"
      ],
      "text/plain": [
       "  Day Confirmed Active.Cases percent_active percent_closed\n",
       "1 49  13127     574          4.4            95.6          \n",
       "2 50  13148     523          4.0            96.0          \n",
       "3 51  13151     452          3.4            96.6          \n",
       "4 52  13159     398          3.0            97.0          \n",
       "5 53  13187     369          2.8            97.2          \n",
       "6 54  13209     362          2.7            97.3          "
      ]
     },
     "metadata": {},
     "output_type": "display_data"
    }
   ],
   "source": [
    "tail(region)"
   ]
  },
  {
   "cell_type": "markdown",
   "metadata": {},
   "source": [
    "<br /><hr /><br />"
   ]
  },
  {
   "cell_type": "markdown",
   "metadata": {},
   "source": [
    "## Data-Analysis <br />"
   ]
  },
  {
   "cell_type": "code",
   "execution_count": 13,
   "metadata": {},
   "outputs": [
    {
     "name": "stderr",
     "output_type": "stream",
     "text": [
      "Registered S3 method overwritten by 'rvest':\n",
      "  method            from\n",
      "  read_xml.response xml2\n",
      "\n",
      "── \u001b[1mAttaching packages\u001b[22m ─────────────────────────────────────── tidyverse 1.2.1 ──\n",
      "\n",
      "\u001b[32m✔\u001b[39m \u001b[34mtibble \u001b[39m 2.1.1     \u001b[32m✔\u001b[39m \u001b[34mpurrr  \u001b[39m 0.3.3\n",
      "\u001b[32m✔\u001b[39m \u001b[34mtidyr  \u001b[39m 1.0.2     \u001b[32m✔\u001b[39m \u001b[34mdplyr  \u001b[39m 0.8.3\n",
      "\u001b[32m✔\u001b[39m \u001b[34mtibble \u001b[39m 2.1.1     \u001b[32m✔\u001b[39m \u001b[34mforcats\u001b[39m 0.4.0\n",
      "\n",
      "── \u001b[1mConflicts\u001b[22m ────────────────────────────────────────── tidyverse_conflicts() ──\n",
      "\u001b[31m✖\u001b[39m \u001b[34mdplyr\u001b[39m::\u001b[32mfilter()\u001b[39m masks \u001b[34mstats\u001b[39m::filter()\n",
      "\u001b[31m✖\u001b[39m \u001b[34mdplyr\u001b[39m::\u001b[32mlag()\u001b[39m    masks \u001b[34mstats\u001b[39m::lag()\n",
      "\n",
      "Loading required package: lattice\n",
      "\n",
      "\n",
      "Attaching package: ‘caret’\n",
      "\n",
      "\n",
      "The following object is masked from ‘package:purrr’:\n",
      "\n",
      "    lift\n",
      "\n",
      "\n"
     ]
    }
   ],
   "source": [
    "# loading plotting/machine learning\n",
    "library(tidyverse)\n",
    "library(caret)\n",
    "\n",
    "# setting the theme\n",
    "theme_set(theme_classic())"
   ]
  },
  {
   "cell_type": "code",
   "execution_count": 14,
   "metadata": {},
   "outputs": [],
   "source": [
    "set.seed(20) # generages same set of random sample every time\n",
    "\n",
    "training.samples <- region$Day %>%\n",
    "  createDataPartition(p = 0.8, list = FALSE)\n",
    "\n",
    "train.data  <- region[training.samples, ]\n",
    "test.data <- region[-training.samples, ]"
   ]
  },
  {
   "cell_type": "code",
   "execution_count": 15,
   "metadata": {},
   "outputs": [
    {
     "data": {
      "text/html": [
       "<table>\n",
       "<thead><tr><th scope=col>Day</th><th scope=col>Confirmed</th><th scope=col>Active.Cases</th><th scope=col>percent_active</th><th scope=col>percent_closed</th></tr></thead>\n",
       "<tbody>\n",
       "\t<tr><td>2  </td><td>199</td><td>196</td><td>98 </td><td>2  </td></tr>\n",
       "\t<tr><td>3  </td><td>371</td><td>364</td><td>98 </td><td>2  </td></tr>\n",
       "\t<tr><td>4  </td><td>645</td><td>636</td><td>99 </td><td>1  </td></tr>\n",
       "</tbody>\n",
       "</table>\n"
      ],
      "text/latex": [
       "\\begin{tabular}{r|lllll}\n",
       " Day & Confirmed & Active.Cases & percent\\_active & percent\\_closed\\\\\n",
       "\\hline\n",
       "\t 2   & 199 & 196 & 98  & 2  \\\\\n",
       "\t 3   & 371 & 364 & 98  & 2  \\\\\n",
       "\t 4   & 645 & 636 & 99  & 1  \\\\\n",
       "\\end{tabular}\n"
      ],
      "text/markdown": [
       "\n",
       "| Day | Confirmed | Active.Cases | percent_active | percent_closed |\n",
       "|---|---|---|---|---|\n",
       "| 2   | 199 | 196 | 98  | 2   |\n",
       "| 3   | 371 | 364 | 98  | 2   |\n",
       "| 4   | 645 | 636 | 99  | 1   |\n",
       "\n"
      ],
      "text/plain": [
       "  Day Confirmed Active.Cases percent_active percent_closed\n",
       "1 2   199       196          98             2             \n",
       "2 3   371       364          98             2             \n",
       "3 4   645       636          99             1             "
      ]
     },
     "metadata": {},
     "output_type": "display_data"
    },
    {
     "data": {
      "text/html": [
       "<table>\n",
       "<thead><tr><th scope=col>Day</th><th scope=col>Confirmed</th><th scope=col>Active.Cases</th><th scope=col>percent_active</th><th scope=col>percent_closed</th></tr></thead>\n",
       "<tbody>\n",
       "\t<tr><td> 1   </td><td>  104</td><td> 104 </td><td>100  </td><td> 0   </td></tr>\n",
       "\t<tr><td>10   </td><td> 3996</td><td>3914 </td><td> 98  </td><td> 2   </td></tr>\n",
       "\t<tr><td>25   </td><td>12164</td><td>8422 </td><td> 69  </td><td>31   </td></tr>\n",
       "</tbody>\n",
       "</table>\n"
      ],
      "text/latex": [
       "\\begin{tabular}{r|lllll}\n",
       " Day & Confirmed & Active.Cases & percent\\_active & percent\\_closed\\\\\n",
       "\\hline\n",
       "\t  1    &   104 &  104  & 100   &  0   \\\\\n",
       "\t 10    &  3996 & 3914  &  98   &  2   \\\\\n",
       "\t 25    & 12164 & 8422  &  69   & 31   \\\\\n",
       "\\end{tabular}\n"
      ],
      "text/markdown": [
       "\n",
       "| Day | Confirmed | Active.Cases | percent_active | percent_closed |\n",
       "|---|---|---|---|---|\n",
       "|  1    |   104 |  104  | 100   |  0    |\n",
       "| 10    |  3996 | 3914  |  98   |  2    |\n",
       "| 25    | 12164 | 8422  |  69   | 31    |\n",
       "\n"
      ],
      "text/plain": [
       "  Day Confirmed Active.Cases percent_active percent_closed\n",
       "1  1    104      104         100             0            \n",
       "2 10   3996     3914          98             2            \n",
       "3 25  12164     8422          69            31            "
      ]
     },
     "metadata": {},
     "output_type": "display_data"
    }
   ],
   "source": [
    "head(train.data, 3)\n",
    "head(test.data, 3)"
   ]
  },
  {
   "cell_type": "code",
   "execution_count": 16,
   "metadata": {},
   "outputs": [
    {
     "name": "stderr",
     "output_type": "stream",
     "text": [
      "`geom_smooth()` using method = 'loess' and formula 'y ~ x'\n",
      "\n"
     ]
    },
    {
     "data": {
      "image/png": "[encoded data removed]",
      "text/plain": [
       "plot without title"
      ]
     },
     "metadata": {
      "image/png": {
       "height": 420,
       "width": 420
      },
      "text/plain": {
       "height": 420,
       "width": 420
      }
     },
     "output_type": "display_data"
    }
   ],
   "source": [
    "ggplot(train.data, aes(Day, percent_active) ) +\n",
    "  geom_point() +\n",
    "  stat_smooth()"
   ]
  },
  {
   "cell_type": "markdown",
   "metadata": {},
   "source": [
    "<br /><hr /><br />"
   ]
  },
  {
   "cell_type": "markdown",
   "metadata": {},
   "source": [
    "## Regrassion"
   ]
  },
  {
   "cell_type": "markdown",
   "metadata": {},
   "source": [
    "1. ### Linear regression"
   ]
  },
  {
   "cell_type": "code",
   "execution_count": 17,
   "metadata": {},
   "outputs": [],
   "source": [
    "# y = x\n",
    "# Build the model\n",
    "\n",
    "# pridiction by linear model\n",
    "fit = lm(percent_active ~ Day, data = train.data)"
   ]
  },
  {
   "cell_type": "code",
   "execution_count": 18,
   "metadata": {},
   "outputs": [],
   "source": [
    "# Predicting\n",
    "predictions <- fit %>% predict(train.data)"
   ]
  },
  {
   "cell_type": "code",
   "execution_count": 19,
   "metadata": {},
   "outputs": [
    {
     "data": {
      "text/html": [
       "<table>\n",
       "<thead><tr><th scope=col>RMSE</th><th scope=col>R2</th></tr></thead>\n",
       "<tbody>\n",
       "\t<tr><td>59.37332</td><td>1       </td></tr>\n",
       "</tbody>\n",
       "</table>\n"
      ],
      "text/latex": [
       "\\begin{tabular}{r|ll}\n",
       " RMSE & R2\\\\\n",
       "\\hline\n",
       "\t 59.37332 & 1       \\\\\n",
       "\\end{tabular}\n"
      ],
      "text/markdown": [
       "\n",
       "| RMSE | R2 |\n",
       "|---|---|\n",
       "| 59.37332 | 1        |\n",
       "\n"
      ],
      "text/plain": [
       "  RMSE     R2\n",
       "1 59.37332 1 "
      ]
     },
     "metadata": {},
     "output_type": "display_data"
    }
   ],
   "source": [
    "# Model performance\n",
    "data.frame(\n",
    "  RMSE = RMSE(predictions, train.data$Day),\n",
    "  R2 = R2(predictions, train.data$Day)\n",
    ")"
   ]
  },
  {
   "cell_type": "markdown",
   "metadata": {},
   "source": [
    "<br />"
   ]
  },
  {
   "cell_type": "code",
   "execution_count": 20,
   "metadata": {},
   "outputs": [
    {
     "data": {
      "image/png": "[encoded data removed]",
      "text/plain": [
       "plot without title"
      ]
     },
     "metadata": {
      "image/png": {
       "height": 420,
       "width": 420
      },
      "text/plain": {
       "height": 420,
       "width": 420
      }
     },
     "output_type": "display_data"
    }
   ],
   "source": [
    "trainer <- ggplot(train.data, aes(Day, percent_active) ) +\n",
    "              geom_point() +\n",
    "              stat_smooth(method = lm, formula = y ~ x) +   # linear function\n",
    "  \n",
    "              # decoration\n",
    "              labs( x = \"Days\", y = \"Active Cases (%)\", title = paste(\"\\nTraining plot\", rName, sep = \" - \") ) +\n",
    "              theme( plot.title = element_text(size = 20, face = \"bold\")) \n",
    "trainer"
   ]
  },
  {
   "cell_type": "code",
   "execution_count": 21,
   "metadata": {},
   "outputs": [
    {
     "data": {
      "image/png": "[encoded data removed]",
      "text/plain": [
       "plot without title"
      ]
     },
     "metadata": {
      "image/png": {
       "height": 420,
       "width": 420
      },
      "text/plain": {
       "height": 420,
       "width": 420
      }
     },
     "output_type": "display_data"
    }
   ],
   "source": [
    "tester <- ggplot(test.data, aes(Day, percent_active) ) +\n",
    "              geom_point() +\n",
    "              stat_smooth(method = lm, formula = y ~ x) +   # linear function\n",
    "  \n",
    "              # decoration\n",
    "              labs( x = \"Days\", y = \"Active Cases (%)\", title = paste(\"\\nTesting plot\", rName, sep = \" - \") ) +\n",
    "              theme( plot.title = element_text(size = 20, face = \"bold\")) \n",
    "tester"
   ]
  },
  {
   "cell_type": "code",
   "execution_count": 22,
   "metadata": {},
   "outputs": [],
   "source": [
    "\n",
    "### can be TESTED in case of any problem in the ABOVE PLOT ###\n",
    "\n",
    "#  # pridiction by linear model\n",
    "#  pred <- predict(fit)   # fitting the model\n",
    "#\n",
    "#  plot(percent_active ~ Day, data = test.data)     #  \"data = train.data\"    is also possible\n",
    "#  lines(train.data$Day, y=pred, col = \"blue\")\n"
   ]
  },
  {
   "cell_type": "markdown",
   "metadata": {},
   "source": [
    "<br />"
   ]
  },
  {
   "cell_type": "code",
   "execution_count": 23,
   "metadata": {},
   "outputs": [],
   "source": [
    "trained = cbind( # Prediction for training data\n",
    "            train.data[,c(\"Day\", \"percent_active\")],\n",
    "            Pridicted_percent_closed = signif(predict(fit, train.data), 2)\n",
    "          )\n",
    "\n",
    "tested = cbind(  # Prediction for tested data\n",
    "            test.data[,c(\"Day\", \"percent_active\")],\n",
    "            Pridicted_percent_closed = signif(predict(fit, test.data), 2)\n",
    "         )\n",
    "\n",
    "\n",
    "#tail(trained, 10)\n",
    "#tail(tested, 10)"
   ]
  },
  {
   "cell_type": "markdown",
   "metadata": {},
   "source": [
    "<br />"
   ]
  },
  {
   "cell_type": "markdown",
   "metadata": {},
   "source": [
    "2. ### Polynomial regression"
   ]
  },
  {
   "cell_type": "code",
   "execution_count": 24,
   "metadata": {},
   "outputs": [],
   "source": [
    "# y = x + I(x^2)...   ---->   a polynomial function\n",
    "deg = 16        # degree of polynomial\n",
    "\n",
    "# better and alternate way for line i.e. above\n",
    "model = lm(percent_active ~ poly(Day, deg, raw = TRUE), data = train.data)"
   ]
  },
  {
   "cell_type": "code",
   "execution_count": 25,
   "metadata": {},
   "outputs": [],
   "source": [
    "#head(test.data)\n",
    "#head(train.data)"
   ]
  },
  {
   "cell_type": "code",
   "execution_count": 26,
   "metadata": {},
   "outputs": [
    {
     "name": "stderr",
     "output_type": "stream",
     "text": [
      "Warning message in predict.lm(., train.data):\n",
      "“prediction from a rank-deficient fit may be misleading”\n"
     ]
    }
   ],
   "source": [
    "predictions <- model %>% predict(train.data)"
   ]
  },
  {
   "cell_type": "code",
   "execution_count": 27,
   "metadata": {},
   "outputs": [
    {
     "data": {
      "text/html": [
       "<table>\n",
       "<thead><tr><th scope=col>RMSE</th><th scope=col>R2</th></tr></thead>\n",
       "<tbody>\n",
       "\t<tr><td>59.90122 </td><td>0.9554198</td></tr>\n",
       "</tbody>\n",
       "</table>\n"
      ],
      "text/latex": [
       "\\begin{tabular}{r|ll}\n",
       " RMSE & R2\\\\\n",
       "\\hline\n",
       "\t 59.90122  & 0.9554198\\\\\n",
       "\\end{tabular}\n"
      ],
      "text/markdown": [
       "\n",
       "| RMSE | R2 |\n",
       "|---|---|\n",
       "| 59.90122  | 0.9554198 |\n",
       "\n"
      ],
      "text/plain": [
       "  RMSE     R2       \n",
       "1 59.90122 0.9554198"
      ]
     },
     "metadata": {},
     "output_type": "display_data"
    }
   ],
   "source": [
    "# Model performance\n",
    "data.frame(\n",
    "  RMSE = RMSE(predictions, train.data$Day),\n",
    "  R2 = R2(predictions, train.data$Day)\n",
    ")"
   ]
  },
  {
   "cell_type": "markdown",
   "metadata": {},
   "source": [
    "<br /><br />"
   ]
  },
  {
   "cell_type": "code",
   "execution_count": 28,
   "metadata": {},
   "outputs": [
    {
     "name": "stderr",
     "output_type": "stream",
     "text": [
      "Warning message in predict.lm(model, newdata = data.frame(x = xseq), se.fit = se, :\n",
      "“prediction from a rank-deficient fit may be misleading”\n"
     ]
    },
    {
     "data": {
      "image/png": "[encoded data removed]",
      "text/plain": [
       "plot without title"
      ]
     },
     "metadata": {
      "image/png": {
       "height": 420,
       "width": 420
      },
      "text/plain": {
       "height": 420,
       "width": 420
      }
     },
     "output_type": "display_data"
    }
   ],
   "source": [
    "trainer <- ggplot(train.data, aes(Day, percent_active) ) +\n",
    "              geom_point() +\n",
    "              stat_smooth(method = lm, formula = y ~ poly(x, deg, raw = TRUE)) +   # polynomial function\n",
    "  \n",
    "              # decoration\n",
    "              labs( x = \"Days\", y = \"Active Cases (%)\", title = paste(\"\\nTraining plot\", rName, sep = \" - \") ) +\n",
    "              theme( plot.title = element_text(size = 20, face = \"bold\")) \n",
    "trainer"
   ]
  },
  {
   "cell_type": "code",
   "execution_count": 29,
   "metadata": {},
   "outputs": [
    {
     "name": "stderr",
     "output_type": "stream",
     "text": [
      "Warning message in predict.lm(model, newdata = data.frame(x = xseq), se.fit = se, :\n",
      "“prediction from a rank-deficient fit may be misleading”\n",
      "Warning message in qt((1 - level)/2, df):\n",
      "“NaNs produced”\n"
     ]
    },
    {
     "data": {
      "image/png": "[encoded data removed]",
      "text/plain": [
       "plot without title"
      ]
     },
     "metadata": {
      "image/png": {
       "height": 420,
       "width": 420
      },
      "text/plain": {
       "height": 420,
       "width": 420
      }
     },
     "output_type": "display_data"
    }
   ],
   "source": [
    "tester <- ggplot(test.data, aes(Day, percent_active) ) +\n",
    "              geom_point() +\n",
    "              stat_smooth(method = lm, formula = y ~ poly(x, deg, raw = TRUE)) +   # polynomial function\n",
    "  \n",
    "              # decoration\n",
    "              labs( x = \"Days\", y = \"Active Cases (%)\", title = paste(\"\\nTesting plot\", rName, sep = \" - \") ) +\n",
    "              theme( plot.title = element_text(size = 20, face = \"bold\")) \n",
    "tester"
   ]
  },
  {
   "cell_type": "code",
   "execution_count": 30,
   "metadata": {},
   "outputs": [],
   "source": [
    "\n",
    "### can be TESTED in case of any problem in the ABOVE PLOT ###\n",
    "\n",
    "#  # pridiction by polynomial model\n",
    "#  pred <- predict(model)   # fitting the model\n",
    "#\n",
    "#  plot(percent_active ~ Day, data = test.data)     #  \"data = train.data\"    is also possible\n",
    "#  lines(train.data$Day, y=pred, col = \"blue\")\n"
   ]
  },
  {
   "cell_type": "markdown",
   "metadata": {},
   "source": [
    "<br /><br />"
   ]
  },
  {
   "cell_type": "code",
   "execution_count": 31,
   "metadata": {},
   "outputs": [
    {
     "name": "stderr",
     "output_type": "stream",
     "text": [
      "Warning message in predict.lm(model, train.data):\n",
      "“prediction from a rank-deficient fit may be misleading”\n",
      "Warning message in predict.lm(model, test.data):\n",
      "“prediction from a rank-deficient fit may be misleading”\n"
     ]
    },
    {
     "data": {
      "text/html": [
       "<table>\n",
       "<thead><tr><th></th><th scope=col>Day</th><th scope=col>percent_active</th><th scope=col>Pridicted_percent_closed</th></tr></thead>\n",
       "<tbody>\n",
       "\t<tr><th scope=row>37</th><td>43  </td><td>11.0</td><td>11.0</td></tr>\n",
       "\t<tr><th scope=row>38</th><td>44  </td><td> 9.6</td><td> 9.5</td></tr>\n",
       "\t<tr><th scope=row>39</th><td>45  </td><td> 8.2</td><td> 8.2</td></tr>\n",
       "\t<tr><th scope=row>40</th><td>46  </td><td> 7.3</td><td> 7.1</td></tr>\n",
       "\t<tr><th scope=row>41</th><td>48  </td><td> 5.2</td><td> 5.3</td></tr>\n",
       "\t<tr><th scope=row>42</th><td>49  </td><td> 4.4</td><td> 4.6</td></tr>\n",
       "\t<tr><th scope=row>43</th><td>51  </td><td> 3.4</td><td> 3.3</td></tr>\n",
       "\t<tr><th scope=row>44</th><td>52  </td><td> 3.0</td><td> 2.9</td></tr>\n",
       "\t<tr><th scope=row>45</th><td>53  </td><td> 2.8</td><td> 2.9</td></tr>\n",
       "\t<tr><th scope=row>46</th><td>54  </td><td> 2.7</td><td> 2.7</td></tr>\n",
       "</tbody>\n",
       "</table>\n"
      ],
      "text/latex": [
       "\\begin{tabular}{r|lll}\n",
       "  & Day & percent\\_active & Pridicted\\_percent\\_closed\\\\\n",
       "\\hline\n",
       "\t37 & 43   & 11.0 & 11.0\\\\\n",
       "\t38 & 44   &  9.6 &  9.5\\\\\n",
       "\t39 & 45   &  8.2 &  8.2\\\\\n",
       "\t40 & 46   &  7.3 &  7.1\\\\\n",
       "\t41 & 48   &  5.2 &  5.3\\\\\n",
       "\t42 & 49   &  4.4 &  4.6\\\\\n",
       "\t43 & 51   &  3.4 &  3.3\\\\\n",
       "\t44 & 52   &  3.0 &  2.9\\\\\n",
       "\t45 & 53   &  2.8 &  2.9\\\\\n",
       "\t46 & 54   &  2.7 &  2.7\\\\\n",
       "\\end{tabular}\n"
      ],
      "text/markdown": [
       "\n",
       "| <!--/--> | Day | percent_active | Pridicted_percent_closed |\n",
       "|---|---|---|---|\n",
       "| 37 | 43   | 11.0 | 11.0 |\n",
       "| 38 | 44   |  9.6 |  9.5 |\n",
       "| 39 | 45   |  8.2 |  8.2 |\n",
       "| 40 | 46   |  7.3 |  7.1 |\n",
       "| 41 | 48   |  5.2 |  5.3 |\n",
       "| 42 | 49   |  4.4 |  4.6 |\n",
       "| 43 | 51   |  3.4 |  3.3 |\n",
       "| 44 | 52   |  3.0 |  2.9 |\n",
       "| 45 | 53   |  2.8 |  2.9 |\n",
       "| 46 | 54   |  2.7 |  2.7 |\n",
       "\n"
      ],
      "text/plain": [
       "   Day percent_active Pridicted_percent_closed\n",
       "37 43  11.0           11.0                    \n",
       "38 44   9.6            9.5                    \n",
       "39 45   8.2            8.2                    \n",
       "40 46   7.3            7.1                    \n",
       "41 48   5.2            5.3                    \n",
       "42 49   4.4            4.6                    \n",
       "43 51   3.4            3.3                    \n",
       "44 52   3.0            2.9                    \n",
       "45 53   2.8            2.9                    \n",
       "46 54   2.7            2.7                    "
      ]
     },
     "metadata": {},
     "output_type": "display_data"
    },
    {
     "data": {
      "text/html": [
       "<table>\n",
       "<thead><tr><th scope=col>Day</th><th scope=col>percent_active</th><th scope=col>Pridicted_percent_closed</th></tr></thead>\n",
       "<tbody>\n",
       "\t<tr><td> 1   </td><td>100.0</td><td>100.0</td></tr>\n",
       "\t<tr><td>10   </td><td> 98.0</td><td> 98.0</td></tr>\n",
       "\t<tr><td>25   </td><td> 69.0</td><td> 70.0</td></tr>\n",
       "\t<tr><td>26   </td><td> 66.0</td><td> 66.0</td></tr>\n",
       "\t<tr><td>30   </td><td> 50.0</td><td> 50.0</td></tr>\n",
       "\t<tr><td>34   </td><td> 35.0</td><td> 35.0</td></tr>\n",
       "\t<tr><td>47   </td><td>  6.5</td><td>  6.1</td></tr>\n",
       "\t<tr><td>50   </td><td>  4.0</td><td>  3.8</td></tr>\n",
       "</tbody>\n",
       "</table>\n"
      ],
      "text/latex": [
       "\\begin{tabular}{r|lll}\n",
       " Day & percent\\_active & Pridicted\\_percent\\_closed\\\\\n",
       "\\hline\n",
       "\t  1    & 100.0 & 100.0\\\\\n",
       "\t 10    &  98.0 &  98.0\\\\\n",
       "\t 25    &  69.0 &  70.0\\\\\n",
       "\t 26    &  66.0 &  66.0\\\\\n",
       "\t 30    &  50.0 &  50.0\\\\\n",
       "\t 34    &  35.0 &  35.0\\\\\n",
       "\t 47    &   6.5 &   6.1\\\\\n",
       "\t 50    &   4.0 &   3.8\\\\\n",
       "\\end{tabular}\n"
      ],
      "text/markdown": [
       "\n",
       "| Day | percent_active | Pridicted_percent_closed |\n",
       "|---|---|---|\n",
       "|  1    | 100.0 | 100.0 |\n",
       "| 10    |  98.0 |  98.0 |\n",
       "| 25    |  69.0 |  70.0 |\n",
       "| 26    |  66.0 |  66.0 |\n",
       "| 30    |  50.0 |  50.0 |\n",
       "| 34    |  35.0 |  35.0 |\n",
       "| 47    |   6.5 |   6.1 |\n",
       "| 50    |   4.0 |   3.8 |\n",
       "\n"
      ],
      "text/plain": [
       "  Day percent_active Pridicted_percent_closed\n",
       "1  1  100.0          100.0                   \n",
       "2 10   98.0           98.0                   \n",
       "3 25   69.0           70.0                   \n",
       "4 26   66.0           66.0                   \n",
       "5 30   50.0           50.0                   \n",
       "6 34   35.0           35.0                   \n",
       "7 47    6.5            6.1                   \n",
       "8 50    4.0            3.8                   "
      ]
     },
     "metadata": {},
     "output_type": "display_data"
    }
   ],
   "source": [
    "trained = cbind( # Prediction for training data\n",
    "            train.data[,c(\"Day\", \"percent_active\")],\n",
    "            Pridicted_percent_closed = signif(predict(model, train.data), 2)\n",
    "          )\n",
    "\n",
    "tested = cbind(  # Prediction for tested data\n",
    "            test.data[,c(\"Day\", \"percent_active\")],\n",
    "            Pridicted_percent_closed = signif(predict(model, test.data), 2)\n",
    "         )\n",
    "\n",
    "\n",
    "tail(trained, 10)\n",
    "tail(tested, 10)"
   ]
  },
  {
   "cell_type": "markdown",
   "metadata": {},
   "source": [
    "<br /><hr /><br />"
   ]
  },
  {
   "cell_type": "markdown",
   "metadata": {},
   "source": [
    "## Predictions"
   ]
  },
  {
   "cell_type": "code",
   "execution_count": 32,
   "metadata": {},
   "outputs": [],
   "source": [
    "test_Miscellaneous = data.frame(\n",
    "                        Day = NaN,\n",
    "                        Confirmed = NaN,\n",
    "                        Active.Cases = NaN,\n",
    "                        percent_active = NaN,\n",
    "                        percent_closed = NaN\n",
    "                     )"
   ]
  },
  {
   "cell_type": "code",
   "execution_count": 33,
   "metadata": {},
   "outputs": [],
   "source": [
    "# 13th March ---> day 52\n",
    "dNo = 55    # get the day no. to pridict\n",
    "\n",
    "test_Miscellaneous$'Day' = dNo"
   ]
  },
  {
   "cell_type": "markdown",
   "metadata": {},
   "source": [
    "<br /> \n",
    "1. #### By Linear Model"
   ]
  },
  {
   "cell_type": "code",
   "execution_count": 34,
   "metadata": {},
   "outputs": [
    {
     "data": {
      "text/html": [
       "<table>\n",
       "<thead><tr><th scope=col>Day</th><th scope=col>percent_active</th><th scope=col>percent_pridicted</th></tr></thead>\n",
       "<tbody>\n",
       "\t<tr><td>55  </td><td>NaN </td><td>-9.5</td></tr>\n",
       "</tbody>\n",
       "</table>\n"
      ],
      "text/latex": [
       "\\begin{tabular}{r|lll}\n",
       " Day & percent\\_active & percent\\_pridicted\\\\\n",
       "\\hline\n",
       "\t 55   & NaN  & -9.5\\\\\n",
       "\\end{tabular}\n"
      ],
      "text/markdown": [
       "\n",
       "| Day | percent_active | percent_pridicted |\n",
       "|---|---|---|\n",
       "| 55   | NaN  | -9.5 |\n",
       "\n"
      ],
      "text/plain": [
       "  Day percent_active percent_pridicted\n",
       "1 55  NaN            -9.5             "
      ]
     },
     "metadata": {},
     "output_type": "display_data"
    }
   ],
   "source": [
    "# modeling variable  --->  fit\n",
    "Prediction = cbind(\n",
    "                test_Miscellaneous[,c(\"Day\", \"percent_active\")],\n",
    "                percent_pridicted = signif(predict(fit, test_Miscellaneous), 2)\n",
    "             )\n",
    "Prediction"
   ]
  },
  {
   "cell_type": "markdown",
   "metadata": {},
   "source": [
    "<br /> \n",
    "2. #### By Polynomial Model"
   ]
  },
  {
   "cell_type": "code",
   "execution_count": 35,
   "metadata": {},
   "outputs": [
    {
     "name": "stderr",
     "output_type": "stream",
     "text": [
      "Warning message in predict.lm(model, test_Miscellaneous):\n",
      "“prediction from a rank-deficient fit may be misleading”\n"
     ]
    },
    {
     "data": {
      "text/html": [
       "<table>\n",
       "<thead><tr><th scope=col>Day</th><th scope=col>percent_active</th><th scope=col>percent_pridicted</th></tr></thead>\n",
       "<tbody>\n",
       "\t<tr><td>55  </td><td>NaN </td><td>0.48</td></tr>\n",
       "</tbody>\n",
       "</table>\n"
      ],
      "text/latex": [
       "\\begin{tabular}{r|lll}\n",
       " Day & percent\\_active & percent\\_pridicted\\\\\n",
       "\\hline\n",
       "\t 55   & NaN  & 0.48\\\\\n",
       "\\end{tabular}\n"
      ],
      "text/markdown": [
       "\n",
       "| Day | percent_active | percent_pridicted |\n",
       "|---|---|---|\n",
       "| 55   | NaN  | 0.48 |\n",
       "\n"
      ],
      "text/plain": [
       "  Day percent_active percent_pridicted\n",
       "1 55  NaN            0.48             "
      ]
     },
     "metadata": {},
     "output_type": "display_data"
    }
   ],
   "source": [
    "# modeling variable  --->  model\n",
    "Prediction = cbind(\n",
    "                test_Miscellaneous[,c(\"Day\", \"percent_active\")],\n",
    "                percent_pridicted = signif(predict(model, test_Miscellaneous), 2)\n",
    "             )\n",
    "Prediction"
   ]
  },
  {
   "cell_type": "markdown",
   "metadata": {},
   "source": [
    "<hr /> <br />"
   ]
  }
 ],
 "metadata": {
  "kernelspec": {
   "display_name": "R",
   "language": "R",
   "name": "ir"
  },
  "language_info": {
   "codemirror_mode": "r",
   "file_extension": ".r",
   "mimetype": "text/x-r-source",
   "name": "R",
   "pygments_lexer": "r",
   "version": "3.6.1"
  }
 },
 "nbformat": 4,
 "nbformat_minor": 2
}
