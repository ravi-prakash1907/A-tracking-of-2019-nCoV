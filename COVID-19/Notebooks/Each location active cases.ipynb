{
 "cells": [
  {
   "cell_type": "code",
   "execution_count": 13,
   "metadata": {},
   "outputs": [],
   "source": [
    "# setting the working directory\n",
    "setwd(\"~/Documents/A-tracking-of-COVID-19/COVID-19/ready_to_use\")"
   ]
  },
  {
   "cell_type": "code",
   "execution_count": 14,
   "metadata": {},
   "outputs": [],
   "source": [
    "# Loading desired libraries\n",
    "library(ggplot2)\n",
    "library(stringr)\n",
    "\n",
    "# loading plotting/machine learning\n",
    "library(tidyverse)\n",
    "library(caret)\n",
    "library(mlbench)\n",
    "library(kernlab)\n",
    "library(rpart)"
   ]
  },
  {
   "cell_type": "code",
   "execution_count": 18,
   "metadata": {},
   "outputs": [],
   "source": [
    "# includes data of all the countries\n",
    "all = read.csv('COVID-19/Mixed/countryWise_bulk_summary.csv')\n",
    "\n",
    "# includes data of four majour location\n",
    "three = read.csv('COVID-19/THREE/Three_dataset_locationWise.csv')\n",
    "#all\n",
    "#three"
   ]
  },
  {
   "cell_type": "code",
   "execution_count": 19,
   "metadata": {},
   "outputs": [],
   "source": [
    "\n",
    "# extracting the desired dataset\n",
    "extractDatases <- function(region){\n",
    "    if(region %in% c(\"Hubei\", \"World\")) {\n",
    "    temp = three[which(str_detect(three$Location, region)),]\n",
    "    row.names(temp) <- NULL\n",
    "} else {\n",
    "    temp = all[which(str_detect(all$Country, region)),]\n",
    "    row.names(temp) <- NULL\n",
    "}\n",
    "\n",
    "return(temp)\n",
    "}\n"
   ]
  },
  {
   "cell_type": "code",
   "execution_count": 20,
   "metadata": {},
   "outputs": [],
   "source": [
    "# country list\n",
    "countries = matrix(levels(as.factor(all$Country)))\n",
    "#head(countries, 10)\n",
    "\n",
    "# Four majour locations\n",
    "locations = matrix(levels(as.factor(three$Location)))\n",
    "#locations"
   ]
  },
  {
   "cell_type": "markdown",
   "metadata": {},
   "source": [
    "<br /> \n",
    "### Choosing desired Country/Region"
   ]
  },
  {
   "cell_type": "code",
   "execution_count": 21,
   "metadata": {},
   "outputs": [],
   "source": [
    "# country i.e. to be used throughout the analysis\n",
    " rName = \"World\" # without hubei\n",
    "\n",
    "# some other possible values of rName:\n",
    "# 'World', 'Hubei', 'Diamond Cruise', 'Italy', 'Japan'.....etc"
   ]
  },
  {
   "cell_type": "code",
   "execution_count": 22,
   "metadata": {},
   "outputs": [
    {
     "data": {
      "text/html": [
       "<table>\n",
       "<caption>A data.frame: 6 × 7</caption>\n",
       "<thead>\n",
       "\t<tr><th></th><th scope=col>Location</th><th scope=col>Day</th><th scope=col>Date</th><th scope=col>Confirmed</th><th scope=col>Deaths</th><th scope=col>Active.Cases</th><th scope=col>Closed.Cases</th></tr>\n",
       "\t<tr><th></th><th scope=col>&lt;fct&gt;</th><th scope=col>&lt;int&gt;</th><th scope=col>&lt;fct&gt;</th><th scope=col>&lt;int&gt;</th><th scope=col>&lt;int&gt;</th><th scope=col>&lt;int&gt;</th><th scope=col>&lt;int&gt;</th></tr>\n",
       "</thead>\n",
       "<tbody>\n",
       "\t<tr><th scope=row>121</th><td>World</td><td>121</td><td>21-05-2020</td><td>5057774</td><td>328998</td><td>4728776</td><td>328998</td></tr>\n",
       "\t<tr><th scope=row>122</th><td>World</td><td>122</td><td>22-05-2020</td><td>5166873</td><td>334255</td><td>4832618</td><td>334255</td></tr>\n",
       "\t<tr><th scope=row>123</th><td>World</td><td>123</td><td>23-05-2020</td><td>5267185</td><td>338196</td><td>4928989</td><td>338196</td></tr>\n",
       "\t<tr><th scope=row>124</th><td>World</td><td>124</td><td>24-05-2020</td><td>5365075</td><td>341137</td><td>5023938</td><td>341137</td></tr>\n",
       "\t<tr><th scope=row>125</th><td>World</td><td>125</td><td>25-05-2020</td><td>5453669</td><td>344241</td><td>5109428</td><td>344241</td></tr>\n",
       "\t<tr><th scope=row>126</th><td>World</td><td>126</td><td>26-05-2020</td><td>5548562</td><td>348200</td><td>5200362</td><td>348200</td></tr>\n",
       "</tbody>\n",
       "</table>\n"
      ],
      "text/latex": [
       "A data.frame: 6 × 7\n",
       "\\begin{tabular}{r|lllllll}\n",
       "  & Location & Day & Date & Confirmed & Deaths & Active.Cases & Closed.Cases\\\\\n",
       "  & <fct> & <int> & <fct> & <int> & <int> & <int> & <int>\\\\\n",
       "\\hline\n",
       "\t121 & World & 121 & 21-05-2020 & 5057774 & 328998 & 4728776 & 328998\\\\\n",
       "\t122 & World & 122 & 22-05-2020 & 5166873 & 334255 & 4832618 & 334255\\\\\n",
       "\t123 & World & 123 & 23-05-2020 & 5267185 & 338196 & 4928989 & 338196\\\\\n",
       "\t124 & World & 124 & 24-05-2020 & 5365075 & 341137 & 5023938 & 341137\\\\\n",
       "\t125 & World & 125 & 25-05-2020 & 5453669 & 344241 & 5109428 & 344241\\\\\n",
       "\t126 & World & 126 & 26-05-2020 & 5548562 & 348200 & 5200362 & 348200\\\\\n",
       "\\end{tabular}\n"
      ],
      "text/markdown": [
       "\n",
       "A data.frame: 6 × 7\n",
       "\n",
       "| <!--/--> | Location &lt;fct&gt; | Day &lt;int&gt; | Date &lt;fct&gt; | Confirmed &lt;int&gt; | Deaths &lt;int&gt; | Active.Cases &lt;int&gt; | Closed.Cases &lt;int&gt; |\n",
       "|---|---|---|---|---|---|---|---|\n",
       "| 121 | World | 121 | 21-05-2020 | 5057774 | 328998 | 4728776 | 328998 |\n",
       "| 122 | World | 122 | 22-05-2020 | 5166873 | 334255 | 4832618 | 334255 |\n",
       "| 123 | World | 123 | 23-05-2020 | 5267185 | 338196 | 4928989 | 338196 |\n",
       "| 124 | World | 124 | 24-05-2020 | 5365075 | 341137 | 5023938 | 341137 |\n",
       "| 125 | World | 125 | 25-05-2020 | 5453669 | 344241 | 5109428 | 344241 |\n",
       "| 126 | World | 126 | 26-05-2020 | 5548562 | 348200 | 5200362 | 348200 |\n",
       "\n"
      ],
      "text/plain": [
       "    Location Day Date       Confirmed Deaths Active.Cases Closed.Cases\n",
       "121 World    121 21-05-2020 5057774   328998 4728776      328998      \n",
       "122 World    122 22-05-2020 5166873   334255 4832618      334255      \n",
       "123 World    123 23-05-2020 5267185   338196 4928989      338196      \n",
       "124 World    124 24-05-2020 5365075   341137 5023938      341137      \n",
       "125 World    125 25-05-2020 5453669   344241 5109428      344241      \n",
       "126 World    126 26-05-2020 5548562   348200 5200362      348200      "
      ]
     },
     "metadata": {},
     "output_type": "display_data"
    }
   ],
   "source": [
    "# filtering out desired country/location \n",
    "if(rName == \"China\"){\n",
    "    region1 = extractDatases(rName)\n",
    "\n",
    "    # joining Hubei for complete data of china\n",
    "    region2 = extractDatases(\"Hubei\")\n",
    "\n",
    "    region = cbind(region1[,1:3], region1[,4:7]+region2[,4:7])\n",
    "    colnames(region) <- colnames(region1)\n",
    "} else {\n",
    "    region = extractDatases(rName)\n",
    "}\n",
    "\n",
    "tail(region)"
   ]
  },
  {
   "cell_type": "code",
   "execution_count": 23,
   "metadata": {},
   "outputs": [
    {
     "data": {
      "text/html": [
       "<table>\n",
       "<caption>A data.frame: 10 × 5</caption>\n",
       "<thead>\n",
       "\t<tr><th></th><th scope=col>Day</th><th scope=col>Confirmed</th><th scope=col>Deaths</th><th scope=col>Active.Cases</th><th scope=col>Closed.Cases</th></tr>\n",
       "\t<tr><th></th><th scope=col>&lt;int&gt;</th><th scope=col>&lt;int&gt;</th><th scope=col>&lt;int&gt;</th><th scope=col>&lt;int&gt;</th><th scope=col>&lt;int&gt;</th></tr>\n",
       "</thead>\n",
       "<tbody>\n",
       "\t<tr><th scope=row>1</th><td> 1</td><td> 111</td><td>0</td><td> 111</td><td>0</td></tr>\n",
       "\t<tr><th scope=row>2</th><td> 2</td><td> 210</td><td>0</td><td> 210</td><td>0</td></tr>\n",
       "\t<tr><th scope=row>3</th><td> 3</td><td> 392</td><td>0</td><td> 392</td><td>0</td></tr>\n",
       "\t<tr><th scope=row>4</th><td> 4</td><td> 673</td><td>0</td><td> 673</td><td>0</td></tr>\n",
       "\t<tr><th scope=row>5</th><td> 5</td><td>1060</td><td>0</td><td>1060</td><td>0</td></tr>\n",
       "\t<tr><th scope=row>6</th><td> 6</td><td>1504</td><td>0</td><td>1504</td><td>0</td></tr>\n",
       "\t<tr><th scope=row>7</th><td> 7</td><td>2024</td><td>0</td><td>2024</td><td>0</td></tr>\n",
       "\t<tr><th scope=row>8</th><td> 8</td><td>2612</td><td>0</td><td>2612</td><td>0</td></tr>\n",
       "\t<tr><th scope=row>9</th><td> 9</td><td>3331</td><td>0</td><td>3331</td><td>0</td></tr>\n",
       "\t<tr><th scope=row>10</th><td>10</td><td>4122</td><td>0</td><td>4122</td><td>0</td></tr>\n",
       "</tbody>\n",
       "</table>\n"
      ],
      "text/latex": [
       "A data.frame: 10 × 5\n",
       "\\begin{tabular}{r|lllll}\n",
       "  & Day & Confirmed & Deaths & Active.Cases & Closed.Cases\\\\\n",
       "  & <int> & <int> & <int> & <int> & <int>\\\\\n",
       "\\hline\n",
       "\t1 &  1 &  111 & 0 &  111 & 0\\\\\n",
       "\t2 &  2 &  210 & 0 &  210 & 0\\\\\n",
       "\t3 &  3 &  392 & 0 &  392 & 0\\\\\n",
       "\t4 &  4 &  673 & 0 &  673 & 0\\\\\n",
       "\t5 &  5 & 1060 & 0 & 1060 & 0\\\\\n",
       "\t6 &  6 & 1504 & 0 & 1504 & 0\\\\\n",
       "\t7 &  7 & 2024 & 0 & 2024 & 0\\\\\n",
       "\t8 &  8 & 2612 & 0 & 2612 & 0\\\\\n",
       "\t9 &  9 & 3331 & 0 & 3331 & 0\\\\\n",
       "\t10 & 10 & 4122 & 0 & 4122 & 0\\\\\n",
       "\\end{tabular}\n"
      ],
      "text/markdown": [
       "\n",
       "A data.frame: 10 × 5\n",
       "\n",
       "| <!--/--> | Day &lt;int&gt; | Confirmed &lt;int&gt; | Deaths &lt;int&gt; | Active.Cases &lt;int&gt; | Closed.Cases &lt;int&gt; |\n",
       "|---|---|---|---|---|---|\n",
       "| 1 |  1 |  111 | 0 |  111 | 0 |\n",
       "| 2 |  2 |  210 | 0 |  210 | 0 |\n",
       "| 3 |  3 |  392 | 0 |  392 | 0 |\n",
       "| 4 |  4 |  673 | 0 |  673 | 0 |\n",
       "| 5 |  5 | 1060 | 0 | 1060 | 0 |\n",
       "| 6 |  6 | 1504 | 0 | 1504 | 0 |\n",
       "| 7 |  7 | 2024 | 0 | 2024 | 0 |\n",
       "| 8 |  8 | 2612 | 0 | 2612 | 0 |\n",
       "| 9 |  9 | 3331 | 0 | 3331 | 0 |\n",
       "| 10 | 10 | 4122 | 0 | 4122 | 0 |\n",
       "\n"
      ],
      "text/plain": [
       "   Day Confirmed Deaths Active.Cases Closed.Cases\n",
       "1   1   111      0       111         0           \n",
       "2   2   210      0       210         0           \n",
       "3   3   392      0       392         0           \n",
       "4   4   673      0       673         0           \n",
       "5   5  1060      0      1060         0           \n",
       "6   6  1504      0      1504         0           \n",
       "7   7  2024      0      2024         0           \n",
       "8   8  2612      0      2612         0           \n",
       "9   9  3331      0      3331         0           \n",
       "10 10  4122      0      4122         0           "
      ]
     },
     "metadata": {},
     "output_type": "display_data"
    }
   ],
   "source": [
    "region=region[,c(2, 4:7)]\n",
    "head(region, 10)"
   ]
  },
  {
   "cell_type": "code",
   "execution_count": 24,
   "metadata": {},
   "outputs": [],
   "source": [
    "# calculate the percent (using Confirmed cases as total)\n",
    "percent <- function(dfName){\n",
    "    get(dfName) -> df\n",
    "    part <- NULL\n",
    "    \n",
    "    for(i in 1:nrow(df)) {\n",
    "        val = df[i,\"Active.Cases\"]\n",
    "        Total = df[i,\"Confirmed\"]\n",
    "        \n",
    "        \n",
    "        if(i == 1)\n",
    "            if(val==0)\n",
    "                part = 0\n",
    "            else\n",
    "                part = as.numeric((val*100)/Total)\n",
    "        else\n",
    "            if(val==0)\n",
    "                part = c(part, 0)\n",
    "            else\n",
    "                part <- c(part, as.numeric((val*100)/Total))\n",
    "    }\n",
    "        \n",
    "    return(part)\n",
    "}"
   ]
  },
  {
   "cell_type": "markdown",
   "metadata": {},
   "source": [
    "---"
   ]
  },
  {
   "cell_type": "code",
   "execution_count": 25,
   "metadata": {},
   "outputs": [],
   "source": [
    "# CASES -> percentage\n",
    "region$'percent_active' = percent(\"region\")     # Active cases, out of every 100 Confirmed cases\n",
    "region$'percent_closed' = 100-percent(\"region\") # Closed cases, out of every 100 Confirmed cases"
   ]
  },
  {
   "cell_type": "code",
   "execution_count": 26,
   "metadata": {},
   "outputs": [
    {
     "data": {
      "text/html": [
       "<table>\n",
       "<caption>A data.frame: 6 × 7</caption>\n",
       "<thead>\n",
       "\t<tr><th></th><th scope=col>Day</th><th scope=col>Confirmed</th><th scope=col>Deaths</th><th scope=col>Active.Cases</th><th scope=col>Closed.Cases</th><th scope=col>percent_active</th><th scope=col>percent_closed</th></tr>\n",
       "\t<tr><th></th><th scope=col>&lt;int&gt;</th><th scope=col>&lt;int&gt;</th><th scope=col>&lt;int&gt;</th><th scope=col>&lt;int&gt;</th><th scope=col>&lt;int&gt;</th><th scope=col>&lt;dbl&gt;</th><th scope=col>&lt;dbl&gt;</th></tr>\n",
       "</thead>\n",
       "<tbody>\n",
       "\t<tr><th scope=row>121</th><td>121</td><td>5057774</td><td>328998</td><td>4728776</td><td>328998</td><td>93.49520</td><td>6.504798</td></tr>\n",
       "\t<tr><th scope=row>122</th><td>122</td><td>5166873</td><td>334255</td><td>4832618</td><td>334255</td><td>93.53081</td><td>6.469193</td></tr>\n",
       "\t<tr><th scope=row>123</th><td>123</td><td>5267185</td><td>338196</td><td>4928989</td><td>338196</td><td>93.57919</td><td>6.420811</td></tr>\n",
       "\t<tr><th scope=row>124</th><td>124</td><td>5365075</td><td>341137</td><td>5023938</td><td>341137</td><td>93.64152</td><td>6.358476</td></tr>\n",
       "\t<tr><th scope=row>125</th><td>125</td><td>5453669</td><td>344241</td><td>5109428</td><td>344241</td><td>93.68790</td><td>6.312099</td></tr>\n",
       "\t<tr><th scope=row>126</th><td>126</td><td>5548562</td><td>348200</td><td>5200362</td><td>348200</td><td>93.72450</td><td>6.275500</td></tr>\n",
       "</tbody>\n",
       "</table>\n"
      ],
      "text/latex": [
       "A data.frame: 6 × 7\n",
       "\\begin{tabular}{r|lllllll}\n",
       "  & Day & Confirmed & Deaths & Active.Cases & Closed.Cases & percent\\_active & percent\\_closed\\\\\n",
       "  & <int> & <int> & <int> & <int> & <int> & <dbl> & <dbl>\\\\\n",
       "\\hline\n",
       "\t121 & 121 & 5057774 & 328998 & 4728776 & 328998 & 93.49520 & 6.504798\\\\\n",
       "\t122 & 122 & 5166873 & 334255 & 4832618 & 334255 & 93.53081 & 6.469193\\\\\n",
       "\t123 & 123 & 5267185 & 338196 & 4928989 & 338196 & 93.57919 & 6.420811\\\\\n",
       "\t124 & 124 & 5365075 & 341137 & 5023938 & 341137 & 93.64152 & 6.358476\\\\\n",
       "\t125 & 125 & 5453669 & 344241 & 5109428 & 344241 & 93.68790 & 6.312099\\\\\n",
       "\t126 & 126 & 5548562 & 348200 & 5200362 & 348200 & 93.72450 & 6.275500\\\\\n",
       "\\end{tabular}\n"
      ],
      "text/markdown": [
       "\n",
       "A data.frame: 6 × 7\n",
       "\n",
       "| <!--/--> | Day &lt;int&gt; | Confirmed &lt;int&gt; | Deaths &lt;int&gt; | Active.Cases &lt;int&gt; | Closed.Cases &lt;int&gt; | percent_active &lt;dbl&gt; | percent_closed &lt;dbl&gt; |\n",
       "|---|---|---|---|---|---|---|---|\n",
       "| 121 | 121 | 5057774 | 328998 | 4728776 | 328998 | 93.49520 | 6.504798 |\n",
       "| 122 | 122 | 5166873 | 334255 | 4832618 | 334255 | 93.53081 | 6.469193 |\n",
       "| 123 | 123 | 5267185 | 338196 | 4928989 | 338196 | 93.57919 | 6.420811 |\n",
       "| 124 | 124 | 5365075 | 341137 | 5023938 | 341137 | 93.64152 | 6.358476 |\n",
       "| 125 | 125 | 5453669 | 344241 | 5109428 | 344241 | 93.68790 | 6.312099 |\n",
       "| 126 | 126 | 5548562 | 348200 | 5200362 | 348200 | 93.72450 | 6.275500 |\n",
       "\n"
      ],
      "text/plain": [
       "    Day Confirmed Deaths Active.Cases Closed.Cases percent_active\n",
       "121 121 5057774   328998 4728776      328998       93.49520      \n",
       "122 122 5166873   334255 4832618      334255       93.53081      \n",
       "123 123 5267185   338196 4928989      338196       93.57919      \n",
       "124 124 5365075   341137 5023938      341137       93.64152      \n",
       "125 125 5453669   344241 5109428      344241       93.68790      \n",
       "126 126 5548562   348200 5200362      348200       93.72450      \n",
       "    percent_closed\n",
       "121 6.504798      \n",
       "122 6.469193      \n",
       "123 6.420811      \n",
       "124 6.358476      \n",
       "125 6.312099      \n",
       "126 6.275500      "
      ]
     },
     "metadata": {},
     "output_type": "display_data"
    }
   ],
   "source": [
    "tail(region)"
   ]
  },
  {
   "cell_type": "markdown",
   "metadata": {},
   "source": [
    "<br />* Dataset is ready\n",
    "\n",
    "---\n",
    "\n",
    "<br />\n",
    "\n",
    "### Understanding the plot"
   ]
  },
  {
   "cell_type": "code",
   "execution_count": 27,
   "metadata": {},
   "outputs": [
    {
     "name": "stderr",
     "output_type": "stream",
     "text": [
      "Warning message:\n",
      "“Use of `region$Day` is discouraged. Use `Day` instead.”\n",
      "Warning message:\n",
      "“Use of `region$percent_active` is discouraged. Use `percent_active` instead.”\n"
     ]
    },
    {
     "data": {
      "image/png": "[encoded data removed]",
      "text/plain": [
       "plot without title"
      ]
     },
     "metadata": {
      "image/png": {
       "height": 420,
       "width": 420
      },
      "text/plain": {
       "height": 420,
       "width": 420
      }
     },
     "output_type": "display_data"
    }
   ],
   "source": [
    "# Day vs %Closed Cases\n",
    "region.scatter.plot <- ggplot(region, aes(x = region$Day, y = region$percent_active)) +\n",
    "                        geom_point()\n",
    "region.scatter.plot"
   ]
  },
  {
   "cell_type": "code",
   "execution_count": null,
   "metadata": {},
   "outputs": [],
   "source": []
  }
 ],
 "metadata": {
  "kernelspec": {
   "display_name": "R",
   "language": "R",
   "name": "ir"
  },
  "language_info": {
   "codemirror_mode": "r",
   "file_extension": ".r",
   "mimetype": "text/x-r-source",
   "name": "R",
   "pygments_lexer": "r",
   "version": "3.6.1"
  }
 },
 "nbformat": 4,
 "nbformat_minor": 2
}
