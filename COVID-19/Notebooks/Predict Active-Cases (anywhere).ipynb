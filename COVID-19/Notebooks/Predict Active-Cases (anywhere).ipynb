{
 "cells": [
  {
   "cell_type": "markdown",
   "metadata": {},
   "source": [
    "<center><h1> <font color=\"green\"><u>Active-Case Predictions ~ 19-nCoV</u></font> </h1></center>"
   ]
  },
  {
   "cell_type": "markdown",
   "metadata": {},
   "source": [
    "<center><h3> <font color=\"#cc0000\"><u>Active Cases(%) out of Confirmed</u></font> </h3></center>"
   ]
  },
  {
   "cell_type": "markdown",
   "metadata": {},
   "source": [
    "<h3> <font color=\"purple\"><u>This section includes:</u></font> </h3>"
   ]
  },
  {
   "cell_type": "markdown",
   "metadata": {},
   "source": [
    "> * Data Filtering <br />\n",
    "> * Training & Testing datasets <br />\n",
    "> * Prediction <br />\n",
    "> * Visualization (Scatter Plots) <br />"
   ]
  },
  {
   "cell_type": "markdown",
   "metadata": {},
   "source": [
    "<br />"
   ]
  },
  {
   "cell_type": "markdown",
   "metadata": {},
   "source": [
    "## Creating Datasets"
   ]
  },
  {
   "cell_type": "code",
   "execution_count": 1,
   "metadata": {},
   "outputs": [],
   "source": [
    "# setting the working directory\n",
    "setwd(\"~/Documents/A-tracking-of-2019-nCoV/COVID-19/ready_to_use\")"
   ]
  },
  {
   "cell_type": "code",
   "execution_count": 2,
   "metadata": {},
   "outputs": [
    {
     "name": "stderr",
     "output_type": "stream",
     "text": [
      "Registered S3 methods overwritten by 'ggplot2':\n",
      "  method         from \n",
      "  [.quosures     rlang\n",
      "  c.quosures     rlang\n",
      "  print.quosures rlang\n",
      "\n"
     ]
    }
   ],
   "source": [
    "# Loading desired libraries\n",
    "library(ggplot2)\n",
    "library(stringr)"
   ]
  },
  {
   "cell_type": "markdown",
   "metadata": {},
   "source": [
    "<hr />"
   ]
  },
  {
   "cell_type": "code",
   "execution_count": 3,
   "metadata": {},
   "outputs": [],
   "source": [
    "# includes data of all the countries\n",
    "all = read.csv('COVID-19/Mixed/countryWise_bulk_summary.csv')\n",
    "\n",
    "# includes data of four majour location\n",
    "four = read.csv('COVID-19/FOUR/Four_dataset_locationWise.csv')"
   ]
  },
  {
   "cell_type": "code",
   "execution_count": 4,
   "metadata": {},
   "outputs": [],
   "source": [
    "\n",
    "# extracting the desired dataset\n",
    "extractDatases <- function(region){\n",
    "    if(region %in% c(\"Hubei\", \"World\", \"Diamond Princess\")) {\n",
    "    temp = four[which(str_detect(four$Location, region)),]\n",
    "    row.names(temp) <- NULL\n",
    "} else {\n",
    "    temp = all[which(str_detect(all$Country, region)),]\n",
    "    row.names(temp) <- NULL\n",
    "}\n",
    "\n",
    "return(temp)\n",
    "}\n"
   ]
  },
  {
   "cell_type": "code",
   "execution_count": 5,
   "metadata": {},
   "outputs": [],
   "source": [
    "# country list\n",
    "countries = matrix(levels(as.factor(all$Country)))\n",
    "#head(countries, 10)\n",
    "\n",
    "# Four majour locations\n",
    "locations = matrix(levels(as.factor(four$Location)))\n",
    "#locations"
   ]
  },
  {
   "cell_type": "markdown",
   "metadata": {},
   "source": [
    "<br /> \n",
    "### Choosing desired Country/Region"
   ]
  },
  {
   "cell_type": "code",
   "execution_count": 6,
   "metadata": {},
   "outputs": [],
   "source": [
    "# country i.e. to be used throughout the analysis\n",
    " rName = \"China\" # without hubei\n",
    "\n",
    "# some other possible values of rName:\n",
    "# 'World', 'Hubei', 'Diamond Cruise', 'Italy', 'Japan'.....etc"
   ]
  },
  {
   "cell_type": "markdown",
   "metadata": {},
   "source": [
    "<hr />"
   ]
  },
  {
   "cell_type": "code",
   "execution_count": 7,
   "metadata": {},
   "outputs": [
    {
     "data": {
      "text/html": [
       "<table>\n",
       "<thead><tr><th scope=col>Country</th><th scope=col>Day</th><th scope=col>Date</th><th scope=col>Confirmed</th><th scope=col>Deaths</th><th scope=col>Recovered</th><th scope=col>Active.Cases</th><th scope=col>Closed.Cases</th></tr></thead>\n",
       "<tbody>\n",
       "\t<tr><td>China     </td><td>1         </td><td>22-01-2020</td><td> 104      </td><td>0         </td><td> 0        </td><td> 104      </td><td> 0        </td></tr>\n",
       "\t<tr><td>China     </td><td>2         </td><td>23-01-2020</td><td> 199      </td><td>1         </td><td> 2        </td><td> 196      </td><td> 3        </td></tr>\n",
       "\t<tr><td>China     </td><td>3         </td><td>24-01-2020</td><td> 371      </td><td>2         </td><td> 5        </td><td> 364      </td><td> 7        </td></tr>\n",
       "\t<tr><td>China     </td><td>4         </td><td>25-01-2020</td><td> 645      </td><td>2         </td><td> 7        </td><td> 636      </td><td> 9        </td></tr>\n",
       "\t<tr><td>China     </td><td>5         </td><td>26-01-2020</td><td>1017      </td><td>4         </td><td> 7        </td><td>1006      </td><td>11        </td></tr>\n",
       "\t<tr><td>China     </td><td>6         </td><td>27-01-2020</td><td>1454      </td><td>6         </td><td>13        </td><td>1435      </td><td>19        </td></tr>\n",
       "</tbody>\n",
       "</table>\n"
      ],
      "text/latex": [
       "\\begin{tabular}{r|llllllll}\n",
       " Country & Day & Date & Confirmed & Deaths & Recovered & Active.Cases & Closed.Cases\\\\\n",
       "\\hline\n",
       "\t China      & 1          & 22-01-2020 &  104       & 0          &  0         &  104       &  0        \\\\\n",
       "\t China      & 2          & 23-01-2020 &  199       & 1          &  2         &  196       &  3        \\\\\n",
       "\t China      & 3          & 24-01-2020 &  371       & 2          &  5         &  364       &  7        \\\\\n",
       "\t China      & 4          & 25-01-2020 &  645       & 2          &  7         &  636       &  9        \\\\\n",
       "\t China      & 5          & 26-01-2020 & 1017       & 4          &  7         & 1006       & 11        \\\\\n",
       "\t China      & 6          & 27-01-2020 & 1454       & 6          & 13         & 1435       & 19        \\\\\n",
       "\\end{tabular}\n"
      ],
      "text/markdown": [
       "\n",
       "| Country | Day | Date | Confirmed | Deaths | Recovered | Active.Cases | Closed.Cases |\n",
       "|---|---|---|---|---|---|---|---|\n",
       "| China      | 1          | 22-01-2020 |  104       | 0          |  0         |  104       |  0         |\n",
       "| China      | 2          | 23-01-2020 |  199       | 1          |  2         |  196       |  3         |\n",
       "| China      | 3          | 24-01-2020 |  371       | 2          |  5         |  364       |  7         |\n",
       "| China      | 4          | 25-01-2020 |  645       | 2          |  7         |  636       |  9         |\n",
       "| China      | 5          | 26-01-2020 | 1017       | 4          |  7         | 1006       | 11         |\n",
       "| China      | 6          | 27-01-2020 | 1454       | 6          | 13         | 1435       | 19         |\n",
       "\n"
      ],
      "text/plain": [
       "  Country Day Date       Confirmed Deaths Recovered Active.Cases Closed.Cases\n",
       "1 China   1   22-01-2020  104      0       0         104          0          \n",
       "2 China   2   23-01-2020  199      1       2         196          3          \n",
       "3 China   3   24-01-2020  371      2       5         364          7          \n",
       "4 China   4   25-01-2020  645      2       7         636          9          \n",
       "5 China   5   26-01-2020 1017      4       7        1006         11          \n",
       "6 China   6   27-01-2020 1454      6      13        1435         19          "
      ]
     },
     "metadata": {},
     "output_type": "display_data"
    }
   ],
   "source": [
    "# filtering out desired country/location \n",
    "region = extractDatases(rName)\n",
    "\n",
    "head(region)"
   ]
  },
  {
   "cell_type": "markdown",
   "metadata": {},
   "source": [
    "<hr />"
   ]
  },
  {
   "cell_type": "code",
   "execution_count": 8,
   "metadata": {},
   "outputs": [
    {
     "data": {
      "text/html": [
       "<table>\n",
       "<thead><tr><th scope=col>Day</th><th scope=col>Confirmed</th><th scope=col>Deaths</th><th scope=col>Recovered</th><th scope=col>Active.Cases</th><th scope=col>Closed.Cases</th></tr></thead>\n",
       "<tbody>\n",
       "\t<tr><td> 1  </td><td> 104</td><td>0   </td><td> 0  </td><td> 104</td><td> 0  </td></tr>\n",
       "\t<tr><td> 2  </td><td> 199</td><td>1   </td><td> 2  </td><td> 196</td><td> 3  </td></tr>\n",
       "\t<tr><td> 3  </td><td> 371</td><td>2   </td><td> 5  </td><td> 364</td><td> 7  </td></tr>\n",
       "\t<tr><td> 4  </td><td> 645</td><td>2   </td><td> 7  </td><td> 636</td><td> 9  </td></tr>\n",
       "\t<tr><td> 5  </td><td>1017</td><td>4   </td><td> 7  </td><td>1006</td><td>11  </td></tr>\n",
       "\t<tr><td> 6  </td><td>1454</td><td>6   </td><td>13  </td><td>1435</td><td>19  </td></tr>\n",
       "\t<tr><td> 7  </td><td>1955</td><td>6   </td><td>21  </td><td>1928</td><td>27  </td></tr>\n",
       "\t<tr><td> 8  </td><td>2533</td><td>8   </td><td>32  </td><td>2493</td><td>40  </td></tr>\n",
       "\t<tr><td> 9  </td><td>3238</td><td>9   </td><td>45  </td><td>3184</td><td>54  </td></tr>\n",
       "\t<tr><td>10  </td><td>3996</td><td>9   </td><td>73  </td><td>3914</td><td>82  </td></tr>\n",
       "</tbody>\n",
       "</table>\n"
      ],
      "text/latex": [
       "\\begin{tabular}{r|llllll}\n",
       " Day & Confirmed & Deaths & Recovered & Active.Cases & Closed.Cases\\\\\n",
       "\\hline\n",
       "\t  1   &  104 & 0    &  0   &  104 &  0  \\\\\n",
       "\t  2   &  199 & 1    &  2   &  196 &  3  \\\\\n",
       "\t  3   &  371 & 2    &  5   &  364 &  7  \\\\\n",
       "\t  4   &  645 & 2    &  7   &  636 &  9  \\\\\n",
       "\t  5   & 1017 & 4    &  7   & 1006 & 11  \\\\\n",
       "\t  6   & 1454 & 6    & 13   & 1435 & 19  \\\\\n",
       "\t  7   & 1955 & 6    & 21   & 1928 & 27  \\\\\n",
       "\t  8   & 2533 & 8    & 32   & 2493 & 40  \\\\\n",
       "\t  9   & 3238 & 9    & 45   & 3184 & 54  \\\\\n",
       "\t 10   & 3996 & 9    & 73   & 3914 & 82  \\\\\n",
       "\\end{tabular}\n"
      ],
      "text/markdown": [
       "\n",
       "| Day | Confirmed | Deaths | Recovered | Active.Cases | Closed.Cases |\n",
       "|---|---|---|---|---|---|\n",
       "|  1   |  104 | 0    |  0   |  104 |  0   |\n",
       "|  2   |  199 | 1    |  2   |  196 |  3   |\n",
       "|  3   |  371 | 2    |  5   |  364 |  7   |\n",
       "|  4   |  645 | 2    |  7   |  636 |  9   |\n",
       "|  5   | 1017 | 4    |  7   | 1006 | 11   |\n",
       "|  6   | 1454 | 6    | 13   | 1435 | 19   |\n",
       "|  7   | 1955 | 6    | 21   | 1928 | 27   |\n",
       "|  8   | 2533 | 8    | 32   | 2493 | 40   |\n",
       "|  9   | 3238 | 9    | 45   | 3184 | 54   |\n",
       "| 10   | 3996 | 9    | 73   | 3914 | 82   |\n",
       "\n"
      ],
      "text/plain": [
       "   Day Confirmed Deaths Recovered Active.Cases Closed.Cases\n",
       "1   1   104      0       0         104          0          \n",
       "2   2   199      1       2         196          3          \n",
       "3   3   371      2       5         364          7          \n",
       "4   4   645      2       7         636          9          \n",
       "5   5  1017      4       7        1006         11          \n",
       "6   6  1454      6      13        1435         19          \n",
       "7   7  1955      6      21        1928         27          \n",
       "8   8  2533      8      32        2493         40          \n",
       "9   9  3238      9      45        3184         54          \n",
       "10 10  3996      9      73        3914         82          "
      ]
     },
     "metadata": {},
     "output_type": "display_data"
    }
   ],
   "source": [
    "region=region[,c(2, 4:8)]\n",
    "head(region, 10)"
   ]
  },
  {
   "cell_type": "code",
   "execution_count": 9,
   "metadata": {},
   "outputs": [],
   "source": [
    "# calculate the percent (using Confirmed cases as total)\n",
    "percent <- function(dfName){\n",
    "    get(dfName) -> df\n",
    "    part <- NULL\n",
    "    \n",
    "    for(i in 1:nrow(df)) {\n",
    "        val = df[i,\"Active.Cases\"]\n",
    "        Total = df[i,\"Confirmed\"]\n",
    "        \n",
    "        \n",
    "        if(i == 1)\n",
    "            if(val==0)\n",
    "                part = 0\n",
    "            else\n",
    "                part = as.numeric((val*100)/Total)\n",
    "        else\n",
    "            if(val==0)\n",
    "                part = c(part, 0)\n",
    "            else\n",
    "                part <- c(part, as.numeric((val*100)/Total))\n",
    "    }\n",
    "        \n",
    "    return(part)\n",
    "}"
   ]
  },
  {
   "cell_type": "markdown",
   "metadata": {},
   "source": [
    "<hr />"
   ]
  },
  {
   "cell_type": "code",
   "execution_count": 10,
   "metadata": {},
   "outputs": [],
   "source": [
    "# CASES -> percentage\n",
    "region$'percent_active' = percent(\"region\")     # Active cases, out of every 100 Confirmed cases\n",
    "region$'percent_closed' = 100-percent(\"region\") # Closed cases, out of every 100 Confirmed cases"
   ]
  },
  {
   "cell_type": "code",
   "execution_count": 11,
   "metadata": {},
   "outputs": [
    {
     "data": {
      "text/html": [
       "<table>\n",
       "<thead><tr><th scope=col>Day</th><th scope=col>Confirmed</th><th scope=col>Deaths</th><th scope=col>Recovered</th><th scope=col>Active.Cases</th><th scope=col>Closed.Cases</th><th scope=col>percent_active</th><th scope=col>percent_closed</th></tr></thead>\n",
       "<tbody>\n",
       "\t<tr><td>1        </td><td> 104     </td><td>0        </td><td> 0       </td><td> 104     </td><td> 0       </td><td>100.00000</td><td>0.000000 </td></tr>\n",
       "\t<tr><td>2        </td><td> 199     </td><td>1        </td><td> 2       </td><td> 196     </td><td> 3       </td><td> 98.49246</td><td>1.507538 </td></tr>\n",
       "\t<tr><td>3        </td><td> 371     </td><td>2        </td><td> 5       </td><td> 364     </td><td> 7       </td><td> 98.11321</td><td>1.886792 </td></tr>\n",
       "\t<tr><td>4        </td><td> 645     </td><td>2        </td><td> 7       </td><td> 636     </td><td> 9       </td><td> 98.60465</td><td>1.395349 </td></tr>\n",
       "\t<tr><td>5        </td><td>1017     </td><td>4        </td><td> 7       </td><td>1006     </td><td>11       </td><td> 98.91839</td><td>1.081613 </td></tr>\n",
       "\t<tr><td>6        </td><td>1454     </td><td>6        </td><td>13       </td><td>1435     </td><td>19       </td><td> 98.69326</td><td>1.306740 </td></tr>\n",
       "</tbody>\n",
       "</table>\n"
      ],
      "text/latex": [
       "\\begin{tabular}{r|llllllll}\n",
       " Day & Confirmed & Deaths & Recovered & Active.Cases & Closed.Cases & percent\\_active & percent\\_closed\\\\\n",
       "\\hline\n",
       "\t 1         &  104      & 0         &  0        &  104      &  0        & 100.00000 & 0.000000 \\\\\n",
       "\t 2         &  199      & 1         &  2        &  196      &  3        &  98.49246 & 1.507538 \\\\\n",
       "\t 3         &  371      & 2         &  5        &  364      &  7        &  98.11321 & 1.886792 \\\\\n",
       "\t 4         &  645      & 2         &  7        &  636      &  9        &  98.60465 & 1.395349 \\\\\n",
       "\t 5         & 1017      & 4         &  7        & 1006      & 11        &  98.91839 & 1.081613 \\\\\n",
       "\t 6         & 1454      & 6         & 13        & 1435      & 19        &  98.69326 & 1.306740 \\\\\n",
       "\\end{tabular}\n"
      ],
      "text/markdown": [
       "\n",
       "| Day | Confirmed | Deaths | Recovered | Active.Cases | Closed.Cases | percent_active | percent_closed |\n",
       "|---|---|---|---|---|---|---|---|\n",
       "| 1         |  104      | 0         |  0        |  104      |  0        | 100.00000 | 0.000000  |\n",
       "| 2         |  199      | 1         |  2        |  196      |  3        |  98.49246 | 1.507538  |\n",
       "| 3         |  371      | 2         |  5        |  364      |  7        |  98.11321 | 1.886792  |\n",
       "| 4         |  645      | 2         |  7        |  636      |  9        |  98.60465 | 1.395349  |\n",
       "| 5         | 1017      | 4         |  7        | 1006      | 11        |  98.91839 | 1.081613  |\n",
       "| 6         | 1454      | 6         | 13        | 1435      | 19        |  98.69326 | 1.306740  |\n",
       "\n"
      ],
      "text/plain": [
       "  Day Confirmed Deaths Recovered Active.Cases Closed.Cases percent_active\n",
       "1 1    104      0       0         104          0           100.00000     \n",
       "2 2    199      1       2         196          3            98.49246     \n",
       "3 3    371      2       5         364          7            98.11321     \n",
       "4 4    645      2       7         636          9            98.60465     \n",
       "5 5   1017      4       7        1006         11            98.91839     \n",
       "6 6   1454      6      13        1435         19            98.69326     \n",
       "  percent_closed\n",
       "1 0.000000      \n",
       "2 1.507538      \n",
       "3 1.886792      \n",
       "4 1.395349      \n",
       "5 1.081613      \n",
       "6 1.306740      "
      ]
     },
     "metadata": {},
     "output_type": "display_data"
    }
   ],
   "source": [
    "head(region)"
   ]
  },
  {
   "cell_type": "markdown",
   "metadata": {},
   "source": [
    "<br />* Dataset is ready"
   ]
  },
  {
   "cell_type": "markdown",
   "metadata": {},
   "source": [
    "<hr /><br />"
   ]
  },
  {
   "cell_type": "markdown",
   "metadata": {},
   "source": [
    "### Understanding the plot"
   ]
  },
  {
   "cell_type": "code",
   "execution_count": 12,
   "metadata": {},
   "outputs": [
    {
     "data": {
      "image/png": "[encoded data removed]",
      "text/plain": [
       "plot without title"
      ]
     },
     "metadata": {
      "image/png": {
       "height": 420,
       "width": 420
      },
      "text/plain": {
       "height": 420,
       "width": 420
      }
     },
     "output_type": "display_data"
    }
   ],
   "source": [
    "# Day vs %Closed Cases\n",
    "region.scatter.plot <- ggplot(region, aes(x = region$Day, y = region$percent_active)) +\n",
    "                        geom_point()\n",
    "region.scatter.plot"
   ]
  },
  {
   "cell_type": "code",
   "execution_count": 13,
   "metadata": {},
   "outputs": [
    {
     "data": {
      "text/html": [
       "<table>\n",
       "<thead><tr><th></th><th scope=col>Day</th><th scope=col>Confirmed</th><th scope=col>Deaths</th><th scope=col>Recovered</th><th scope=col>Active.Cases</th><th scope=col>Closed.Cases</th><th scope=col>percent_active</th><th scope=col>percent_closed</th></tr></thead>\n",
       "<tbody>\n",
       "\t<tr><th scope=row>53</th><td>53      </td><td>13187   </td><td>118     </td><td>12700   </td><td>369     </td><td>12818   </td><td>2.798210</td><td>97.20179</td></tr>\n",
       "\t<tr><th scope=row>54</th><td>54      </td><td>13209   </td><td>118     </td><td>12729   </td><td>362     </td><td>12847   </td><td>2.740556</td><td>97.25944</td></tr>\n",
       "\t<tr><th scope=row>55</th><td>55      </td><td>13235   </td><td>118     </td><td>12768   </td><td>349     </td><td>12886   </td><td>2.636947</td><td>97.36305</td></tr>\n",
       "\t<tr><th scope=row>56</th><td>56      </td><td>13259   </td><td>119     </td><td>12795   </td><td>345     </td><td>12914   </td><td>2.602006</td><td>97.39799</td></tr>\n",
       "\t<tr><th scope=row>57</th><td>57      </td><td>13303   </td><td>119     </td><td>12828   </td><td>356     </td><td>12947   </td><td>2.676088</td><td>97.32391</td></tr>\n",
       "\t<tr><th scope=row>58</th><td>58      </td><td>13357   </td><td>119     </td><td>12853   </td><td>385     </td><td>12972   </td><td>2.882384</td><td>97.11762</td></tr>\n",
       "</tbody>\n",
       "</table>\n"
      ],
      "text/latex": [
       "\\begin{tabular}{r|llllllll}\n",
       "  & Day & Confirmed & Deaths & Recovered & Active.Cases & Closed.Cases & percent\\_active & percent\\_closed\\\\\n",
       "\\hline\n",
       "\t53 & 53       & 13187    & 118      & 12700    & 369      & 12818    & 2.798210 & 97.20179\\\\\n",
       "\t54 & 54       & 13209    & 118      & 12729    & 362      & 12847    & 2.740556 & 97.25944\\\\\n",
       "\t55 & 55       & 13235    & 118      & 12768    & 349      & 12886    & 2.636947 & 97.36305\\\\\n",
       "\t56 & 56       & 13259    & 119      & 12795    & 345      & 12914    & 2.602006 & 97.39799\\\\\n",
       "\t57 & 57       & 13303    & 119      & 12828    & 356      & 12947    & 2.676088 & 97.32391\\\\\n",
       "\t58 & 58       & 13357    & 119      & 12853    & 385      & 12972    & 2.882384 & 97.11762\\\\\n",
       "\\end{tabular}\n"
      ],
      "text/markdown": [
       "\n",
       "| <!--/--> | Day | Confirmed | Deaths | Recovered | Active.Cases | Closed.Cases | percent_active | percent_closed |\n",
       "|---|---|---|---|---|---|---|---|---|\n",
       "| 53 | 53       | 13187    | 118      | 12700    | 369      | 12818    | 2.798210 | 97.20179 |\n",
       "| 54 | 54       | 13209    | 118      | 12729    | 362      | 12847    | 2.740556 | 97.25944 |\n",
       "| 55 | 55       | 13235    | 118      | 12768    | 349      | 12886    | 2.636947 | 97.36305 |\n",
       "| 56 | 56       | 13259    | 119      | 12795    | 345      | 12914    | 2.602006 | 97.39799 |\n",
       "| 57 | 57       | 13303    | 119      | 12828    | 356      | 12947    | 2.676088 | 97.32391 |\n",
       "| 58 | 58       | 13357    | 119      | 12853    | 385      | 12972    | 2.882384 | 97.11762 |\n",
       "\n"
      ],
      "text/plain": [
       "   Day Confirmed Deaths Recovered Active.Cases Closed.Cases percent_active\n",
       "53 53  13187     118    12700     369          12818        2.798210      \n",
       "54 54  13209     118    12729     362          12847        2.740556      \n",
       "55 55  13235     118    12768     349          12886        2.636947      \n",
       "56 56  13259     119    12795     345          12914        2.602006      \n",
       "57 57  13303     119    12828     356          12947        2.676088      \n",
       "58 58  13357     119    12853     385          12972        2.882384      \n",
       "   percent_closed\n",
       "53 97.20179      \n",
       "54 97.25944      \n",
       "55 97.36305      \n",
       "56 97.39799      \n",
       "57 97.32391      \n",
       "58 97.11762      "
      ]
     },
     "metadata": {},
     "output_type": "display_data"
    }
   ],
   "source": [
    "tail(region)"
   ]
  },
  {
   "cell_type": "code",
   "execution_count": 14,
   "metadata": {},
   "outputs": [
    {
     "name": "stderr",
     "output_type": "stream",
     "text": [
      "Warning message in summary.lm(fit):\n",
      "“essentially perfect fit: summary may be unreliable”\n"
     ]
    },
    {
     "data": {
      "text/plain": [
       "\n",
       "Call:\n",
       "lm(formula = percent_active ~ ., data = region)\n",
       "\n",
       "Residuals:\n",
       "       Min         1Q     Median         3Q        Max \n",
       "-9.237e-14 -7.731e-15  8.290e-16  1.260e-14  2.333e-14 \n",
       "\n",
       "Coefficients: (2 not defined because of singularities)\n",
       "                 Estimate Std. Error    t value Pr(>|t|)    \n",
       "(Intercept)     1.000e+02  1.202e-14  8.319e+15  < 2e-16 ***\n",
       "Day             5.221e-15  1.270e-15  4.112e+00 0.000140 ***\n",
       "Confirmed      -1.250e-17  4.269e-18 -2.927e+00 0.005067 ** \n",
       "Deaths          1.049e-15  4.976e-16  2.108e+00 0.039893 *  \n",
       "Recovered      -2.234e-16  6.176e-17 -3.617e+00 0.000674 ***\n",
       "Active.Cases           NA         NA         NA       NA    \n",
       "Closed.Cases           NA         NA         NA       NA    \n",
       "percent_closed -1.000e+00  7.930e-15 -1.261e+14  < 2e-16 ***\n",
       "---\n",
       "Signif. codes:  0 ‘***’ 0.001 ‘**’ 0.01 ‘*’ 0.05 ‘.’ 0.1 ‘ ’ 1\n",
       "\n",
       "Residual standard error: 1.804e-14 on 52 degrees of freedom\n",
       "Multiple R-squared:      1,\tAdjusted R-squared:      1 \n",
       "F-statistic: 5.204e+31 on 5 and 52 DF,  p-value: < 2.2e-16\n"
      ]
     },
     "metadata": {},
     "output_type": "display_data"
    }
   ],
   "source": [
    "fit = lm(percent_active ~ ., data = region, )\n",
    "summary(fit)"
   ]
  },
  {
   "cell_type": "code",
   "execution_count": 17,
   "metadata": {},
   "outputs": [
    {
     "data": {
      "text/html": [
       "<table>\n",
       "<thead><tr><th scope=col>Location</th><th scope=col>Confirmed</th><th scope=col>Active.Cases</th><th scope=col>percent_active</th></tr></thead>\n",
       "<tbody>\n",
       "\t<tr><td>Hubei   </td><td>  444   </td><td>  399   </td><td>89.86486</td></tr>\n",
       "\t<tr><td>Hubei   </td><td>  444   </td><td>  399   </td><td>89.86486</td></tr>\n",
       "\t<tr><td>Hubei   </td><td>  549   </td><td>  494   </td><td>89.98179</td></tr>\n",
       "\t<tr><td>Hubei   </td><td>  761   </td><td>  689   </td><td>90.53876</td></tr>\n",
       "\t<tr><td>Hubei   </td><td> 1058   </td><td>  964   </td><td>91.11531</td></tr>\n",
       "\t<tr><td>Hubei   </td><td> 1423   </td><td> 1302   </td><td>91.49684</td></tr>\n",
       "\t<tr><td>Hubei   </td><td> 3554   </td><td> 3349   </td><td>94.23185</td></tr>\n",
       "\t<tr><td>Hubei   </td><td> 3554   </td><td> 3341   </td><td>94.00675</td></tr>\n",
       "\t<tr><td>Hubei   </td><td> 4903   </td><td> 4651   </td><td>94.86029</td></tr>\n",
       "\t<tr><td>Hubei   </td><td> 5806   </td><td> 5461   </td><td>94.05787</td></tr>\n",
       "\t<tr><td>Hubei   </td><td> 7153   </td><td> 6736   </td><td>94.17028</td></tr>\n",
       "\t<tr><td>Hubei   </td><td>11177   </td><td>10532   </td><td>94.22922</td></tr>\n",
       "\t<tr><td>Hubei   </td><td>13522   </td><td>12722   </td><td>94.08372</td></tr>\n",
       "\t<tr><td>Hubei   </td><td>16678   </td><td>15677   </td><td>93.99808</td></tr>\n",
       "\t<tr><td>Hubei   </td><td>19665   </td><td>18483   </td><td>93.98932</td></tr>\n",
       "\t<tr><td>Hubei   </td><td>22112   </td><td>20677   </td><td>93.51031</td></tr>\n",
       "\t<tr><td>Hubei   </td><td>24953   </td><td>23139   </td><td>92.73033</td></tr>\n",
       "\t<tr><td>Hubei   </td><td>27100   </td><td>24881   </td><td>91.81181</td></tr>\n",
       "\t<tr><td>Hubei   </td><td>29631   </td><td>26965   </td><td>91.00267</td></tr>\n",
       "\t<tr><td>Hubei   </td><td>31728   </td><td>28532   </td><td>89.92688</td></tr>\n",
       "\t<tr><td>Hubei   </td><td>33366   </td><td>29659   </td><td>88.88989</td></tr>\n",
       "\t<tr><td>Hubei   </td><td>33366   </td><td>29612   </td><td>88.74903</td></tr>\n",
       "\t<tr><td>Hubei   </td><td>48206   </td><td>43437   </td><td>90.10704</td></tr>\n",
       "\t<tr><td>Hubei   </td><td>54406   </td><td>48175   </td><td>88.54722</td></tr>\n",
       "\t<tr><td>Hubei   </td><td>56249   </td><td>49030   </td><td>87.16599</td></tr>\n",
       "\t<tr><td>Hubei   </td><td>58182   </td><td>49847   </td><td>85.67426</td></tr>\n",
       "\t<tr><td>Hubei   </td><td>59989   </td><td>50338   </td><td>83.91205</td></tr>\n",
       "\t<tr><td>Hubei   </td><td>61682   </td><td>50633   </td><td>82.08716</td></tr>\n",
       "\t<tr><td>Hubei   </td><td>62031   </td><td>49665   </td><td>80.06481</td></tr>\n",
       "\t<tr><td>Hubei   </td><td>62442   </td><td>48510   </td><td>77.68809</td></tr>\n",
       "\t<tr><td>...</td><td>...</td><td>...</td><td>...</td></tr>\n",
       "\t<tr><td>Diamond Princess</td><td>621             </td><td>620             </td><td>99.83897        </td></tr>\n",
       "\t<tr><td>Diamond Princess</td><td>634             </td><td>631             </td><td>99.52681        </td></tr>\n",
       "\t<tr><td>Diamond Princess</td><td>634             </td><td>631             </td><td>99.52681        </td></tr>\n",
       "\t<tr><td>Diamond Princess</td><td>634             </td><td>631             </td><td>99.52681        </td></tr>\n",
       "\t<tr><td>Diamond Princess</td><td>691             </td><td>687             </td><td>99.42113        </td></tr>\n",
       "\t<tr><td>Diamond Princess</td><td>691             </td><td>687             </td><td>99.42113        </td></tr>\n",
       "\t<tr><td>Diamond Princess</td><td>691             </td><td>687             </td><td>99.42113        </td></tr>\n",
       "\t<tr><td>Diamond Princess</td><td>705             </td><td>691             </td><td>98.01418        </td></tr>\n",
       "\t<tr><td>Diamond Princess</td><td>705             </td><td>691             </td><td>98.01418        </td></tr>\n",
       "\t<tr><td>Diamond Princess</td><td>705             </td><td>689             </td><td>97.73050        </td></tr>\n",
       "\t<tr><td>Diamond Princess</td><td>705             </td><td>689             </td><td>97.73050        </td></tr>\n",
       "\t<tr><td>Diamond Princess</td><td>705             </td><td>689             </td><td>97.73050        </td></tr>\n",
       "\t<tr><td>Diamond Princess</td><td>705             </td><td>689             </td><td>97.73050        </td></tr>\n",
       "\t<tr><td>Diamond Princess</td><td>706             </td><td>690             </td><td>97.73371        </td></tr>\n",
       "\t<tr><td>Diamond Princess</td><td>706             </td><td>690             </td><td>97.73371        </td></tr>\n",
       "\t<tr><td>Diamond Princess</td><td>706             </td><td>690             </td><td>97.73371        </td></tr>\n",
       "\t<tr><td>Diamond Princess</td><td>706             </td><td>660             </td><td>93.48442        </td></tr>\n",
       "\t<tr><td>Diamond Princess</td><td>706             </td><td>660             </td><td>93.48442        </td></tr>\n",
       "\t<tr><td>Diamond Princess</td><td>706             </td><td>660             </td><td>93.48442        </td></tr>\n",
       "\t<tr><td>Diamond Princess</td><td>706             </td><td>660             </td><td>93.48442        </td></tr>\n",
       "\t<tr><td>Diamond Princess</td><td>706             </td><td>660             </td><td>93.48442        </td></tr>\n",
       "\t<tr><td>Diamond Princess</td><td>706             </td><td>374             </td><td>52.97450        </td></tr>\n",
       "\t<tr><td>Diamond Princess</td><td>706             </td><td>374             </td><td>52.97450        </td></tr>\n",
       "\t<tr><td>Diamond Princess</td><td>706             </td><td>374             </td><td>52.97450        </td></tr>\n",
       "\t<tr><td>Diamond Princess</td><td>706             </td><td>374             </td><td>52.97450        </td></tr>\n",
       "\t<tr><td>Diamond Princess</td><td>706             </td><td>374             </td><td>52.97450        </td></tr>\n",
       "\t<tr><td>Diamond Princess</td><td>706             </td><td>374             </td><td>52.97450        </td></tr>\n",
       "\t<tr><td>Diamond Princess</td><td>706             </td><td>374             </td><td>52.97450        </td></tr>\n",
       "\t<tr><td>Diamond Princess</td><td>712             </td><td>380             </td><td>53.37079        </td></tr>\n",
       "\t<tr><td>Diamond Princess</td><td>712             </td><td>380             </td><td>53.37079        </td></tr>\n",
       "</tbody>\n",
       "</table>\n"
      ],
      "text/latex": [
       "\\begin{tabular}{r|llll}\n",
       " Location & Confirmed & Active.Cases & percent\\_active\\\\\n",
       "\\hline\n",
       "\t Hubei    &   444    &   399    & 89.86486\\\\\n",
       "\t Hubei    &   444    &   399    & 89.86486\\\\\n",
       "\t Hubei    &   549    &   494    & 89.98179\\\\\n",
       "\t Hubei    &   761    &   689    & 90.53876\\\\\n",
       "\t Hubei    &  1058    &   964    & 91.11531\\\\\n",
       "\t Hubei    &  1423    &  1302    & 91.49684\\\\\n",
       "\t Hubei    &  3554    &  3349    & 94.23185\\\\\n",
       "\t Hubei    &  3554    &  3341    & 94.00675\\\\\n",
       "\t Hubei    &  4903    &  4651    & 94.86029\\\\\n",
       "\t Hubei    &  5806    &  5461    & 94.05787\\\\\n",
       "\t Hubei    &  7153    &  6736    & 94.17028\\\\\n",
       "\t Hubei    & 11177    & 10532    & 94.22922\\\\\n",
       "\t Hubei    & 13522    & 12722    & 94.08372\\\\\n",
       "\t Hubei    & 16678    & 15677    & 93.99808\\\\\n",
       "\t Hubei    & 19665    & 18483    & 93.98932\\\\\n",
       "\t Hubei    & 22112    & 20677    & 93.51031\\\\\n",
       "\t Hubei    & 24953    & 23139    & 92.73033\\\\\n",
       "\t Hubei    & 27100    & 24881    & 91.81181\\\\\n",
       "\t Hubei    & 29631    & 26965    & 91.00267\\\\\n",
       "\t Hubei    & 31728    & 28532    & 89.92688\\\\\n",
       "\t Hubei    & 33366    & 29659    & 88.88989\\\\\n",
       "\t Hubei    & 33366    & 29612    & 88.74903\\\\\n",
       "\t Hubei    & 48206    & 43437    & 90.10704\\\\\n",
       "\t Hubei    & 54406    & 48175    & 88.54722\\\\\n",
       "\t Hubei    & 56249    & 49030    & 87.16599\\\\\n",
       "\t Hubei    & 58182    & 49847    & 85.67426\\\\\n",
       "\t Hubei    & 59989    & 50338    & 83.91205\\\\\n",
       "\t Hubei    & 61682    & 50633    & 82.08716\\\\\n",
       "\t Hubei    & 62031    & 49665    & 80.06481\\\\\n",
       "\t Hubei    & 62442    & 48510    & 77.68809\\\\\n",
       "\t ... & ... & ... & ...\\\\\n",
       "\t Diamond Princess & 621              & 620              & 99.83897        \\\\\n",
       "\t Diamond Princess & 634              & 631              & 99.52681        \\\\\n",
       "\t Diamond Princess & 634              & 631              & 99.52681        \\\\\n",
       "\t Diamond Princess & 634              & 631              & 99.52681        \\\\\n",
       "\t Diamond Princess & 691              & 687              & 99.42113        \\\\\n",
       "\t Diamond Princess & 691              & 687              & 99.42113        \\\\\n",
       "\t Diamond Princess & 691              & 687              & 99.42113        \\\\\n",
       "\t Diamond Princess & 705              & 691              & 98.01418        \\\\\n",
       "\t Diamond Princess & 705              & 691              & 98.01418        \\\\\n",
       "\t Diamond Princess & 705              & 689              & 97.73050        \\\\\n",
       "\t Diamond Princess & 705              & 689              & 97.73050        \\\\\n",
       "\t Diamond Princess & 705              & 689              & 97.73050        \\\\\n",
       "\t Diamond Princess & 705              & 689              & 97.73050        \\\\\n",
       "\t Diamond Princess & 706              & 690              & 97.73371        \\\\\n",
       "\t Diamond Princess & 706              & 690              & 97.73371        \\\\\n",
       "\t Diamond Princess & 706              & 690              & 97.73371        \\\\\n",
       "\t Diamond Princess & 706              & 660              & 93.48442        \\\\\n",
       "\t Diamond Princess & 706              & 660              & 93.48442        \\\\\n",
       "\t Diamond Princess & 706              & 660              & 93.48442        \\\\\n",
       "\t Diamond Princess & 706              & 660              & 93.48442        \\\\\n",
       "\t Diamond Princess & 706              & 660              & 93.48442        \\\\\n",
       "\t Diamond Princess & 706              & 374              & 52.97450        \\\\\n",
       "\t Diamond Princess & 706              & 374              & 52.97450        \\\\\n",
       "\t Diamond Princess & 706              & 374              & 52.97450        \\\\\n",
       "\t Diamond Princess & 706              & 374              & 52.97450        \\\\\n",
       "\t Diamond Princess & 706              & 374              & 52.97450        \\\\\n",
       "\t Diamond Princess & 706              & 374              & 52.97450        \\\\\n",
       "\t Diamond Princess & 706              & 374              & 52.97450        \\\\\n",
       "\t Diamond Princess & 712              & 380              & 53.37079        \\\\\n",
       "\t Diamond Princess & 712              & 380              & 53.37079        \\\\\n",
       "\\end{tabular}\n"
      ],
      "text/markdown": [
       "\n",
       "| Location | Confirmed | Active.Cases | percent_active |\n",
       "|---|---|---|---|\n",
       "| Hubei    |   444    |   399    | 89.86486 |\n",
       "| Hubei    |   444    |   399    | 89.86486 |\n",
       "| Hubei    |   549    |   494    | 89.98179 |\n",
       "| Hubei    |   761    |   689    | 90.53876 |\n",
       "| Hubei    |  1058    |   964    | 91.11531 |\n",
       "| Hubei    |  1423    |  1302    | 91.49684 |\n",
       "| Hubei    |  3554    |  3349    | 94.23185 |\n",
       "| Hubei    |  3554    |  3341    | 94.00675 |\n",
       "| Hubei    |  4903    |  4651    | 94.86029 |\n",
       "| Hubei    |  5806    |  5461    | 94.05787 |\n",
       "| Hubei    |  7153    |  6736    | 94.17028 |\n",
       "| Hubei    | 11177    | 10532    | 94.22922 |\n",
       "| Hubei    | 13522    | 12722    | 94.08372 |\n",
       "| Hubei    | 16678    | 15677    | 93.99808 |\n",
       "| Hubei    | 19665    | 18483    | 93.98932 |\n",
       "| Hubei    | 22112    | 20677    | 93.51031 |\n",
       "| Hubei    | 24953    | 23139    | 92.73033 |\n",
       "| Hubei    | 27100    | 24881    | 91.81181 |\n",
       "| Hubei    | 29631    | 26965    | 91.00267 |\n",
       "| Hubei    | 31728    | 28532    | 89.92688 |\n",
       "| Hubei    | 33366    | 29659    | 88.88989 |\n",
       "| Hubei    | 33366    | 29612    | 88.74903 |\n",
       "| Hubei    | 48206    | 43437    | 90.10704 |\n",
       "| Hubei    | 54406    | 48175    | 88.54722 |\n",
       "| Hubei    | 56249    | 49030    | 87.16599 |\n",
       "| Hubei    | 58182    | 49847    | 85.67426 |\n",
       "| Hubei    | 59989    | 50338    | 83.91205 |\n",
       "| Hubei    | 61682    | 50633    | 82.08716 |\n",
       "| Hubei    | 62031    | 49665    | 80.06481 |\n",
       "| Hubei    | 62442    | 48510    | 77.68809 |\n",
       "| ... | ... | ... | ... |\n",
       "| Diamond Princess | 621              | 620              | 99.83897         |\n",
       "| Diamond Princess | 634              | 631              | 99.52681         |\n",
       "| Diamond Princess | 634              | 631              | 99.52681         |\n",
       "| Diamond Princess | 634              | 631              | 99.52681         |\n",
       "| Diamond Princess | 691              | 687              | 99.42113         |\n",
       "| Diamond Princess | 691              | 687              | 99.42113         |\n",
       "| Diamond Princess | 691              | 687              | 99.42113         |\n",
       "| Diamond Princess | 705              | 691              | 98.01418         |\n",
       "| Diamond Princess | 705              | 691              | 98.01418         |\n",
       "| Diamond Princess | 705              | 689              | 97.73050         |\n",
       "| Diamond Princess | 705              | 689              | 97.73050         |\n",
       "| Diamond Princess | 705              | 689              | 97.73050         |\n",
       "| Diamond Princess | 705              | 689              | 97.73050         |\n",
       "| Diamond Princess | 706              | 690              | 97.73371         |\n",
       "| Diamond Princess | 706              | 690              | 97.73371         |\n",
       "| Diamond Princess | 706              | 690              | 97.73371         |\n",
       "| Diamond Princess | 706              | 660              | 93.48442         |\n",
       "| Diamond Princess | 706              | 660              | 93.48442         |\n",
       "| Diamond Princess | 706              | 660              | 93.48442         |\n",
       "| Diamond Princess | 706              | 660              | 93.48442         |\n",
       "| Diamond Princess | 706              | 660              | 93.48442         |\n",
       "| Diamond Princess | 706              | 374              | 52.97450         |\n",
       "| Diamond Princess | 706              | 374              | 52.97450         |\n",
       "| Diamond Princess | 706              | 374              | 52.97450         |\n",
       "| Diamond Princess | 706              | 374              | 52.97450         |\n",
       "| Diamond Princess | 706              | 374              | 52.97450         |\n",
       "| Diamond Princess | 706              | 374              | 52.97450         |\n",
       "| Diamond Princess | 706              | 374              | 52.97450         |\n",
       "| Diamond Princess | 712              | 380              | 53.37079         |\n",
       "| Diamond Princess | 712              | 380              | 53.37079         |\n",
       "\n"
      ],
      "text/plain": [
       "    Location         Confirmed Active.Cases percent_active\n",
       "1   Hubei              444       399        89.86486      \n",
       "2   Hubei              444       399        89.86486      \n",
       "3   Hubei              549       494        89.98179      \n",
       "4   Hubei              761       689        90.53876      \n",
       "5   Hubei             1058       964        91.11531      \n",
       "6   Hubei             1423      1302        91.49684      \n",
       "7   Hubei             3554      3349        94.23185      \n",
       "8   Hubei             3554      3341        94.00675      \n",
       "9   Hubei             4903      4651        94.86029      \n",
       "10  Hubei             5806      5461        94.05787      \n",
       "11  Hubei             7153      6736        94.17028      \n",
       "12  Hubei            11177     10532        94.22922      \n",
       "13  Hubei            13522     12722        94.08372      \n",
       "14  Hubei            16678     15677        93.99808      \n",
       "15  Hubei            19665     18483        93.98932      \n",
       "16  Hubei            22112     20677        93.51031      \n",
       "17  Hubei            24953     23139        92.73033      \n",
       "18  Hubei            27100     24881        91.81181      \n",
       "19  Hubei            29631     26965        91.00267      \n",
       "20  Hubei            31728     28532        89.92688      \n",
       "21  Hubei            33366     29659        88.88989      \n",
       "22  Hubei            33366     29612        88.74903      \n",
       "23  Hubei            48206     43437        90.10704      \n",
       "24  Hubei            54406     48175        88.54722      \n",
       "25  Hubei            56249     49030        87.16599      \n",
       "26  Hubei            58182     49847        85.67426      \n",
       "27  Hubei            59989     50338        83.91205      \n",
       "28  Hubei            61682     50633        82.08716      \n",
       "29  Hubei            62031     49665        80.06481      \n",
       "30  Hubei            62442     48510        77.68809      \n",
       "... ...              ...       ...          ...           \n",
       "203 Diamond Princess 621       620          99.83897      \n",
       "204 Diamond Princess 634       631          99.52681      \n",
       "205 Diamond Princess 634       631          99.52681      \n",
       "206 Diamond Princess 634       631          99.52681      \n",
       "207 Diamond Princess 691       687          99.42113      \n",
       "208 Diamond Princess 691       687          99.42113      \n",
       "209 Diamond Princess 691       687          99.42113      \n",
       "210 Diamond Princess 705       691          98.01418      \n",
       "211 Diamond Princess 705       691          98.01418      \n",
       "212 Diamond Princess 705       689          97.73050      \n",
       "213 Diamond Princess 705       689          97.73050      \n",
       "214 Diamond Princess 705       689          97.73050      \n",
       "215 Diamond Princess 705       689          97.73050      \n",
       "216 Diamond Princess 706       690          97.73371      \n",
       "217 Diamond Princess 706       690          97.73371      \n",
       "218 Diamond Princess 706       690          97.73371      \n",
       "219 Diamond Princess 706       660          93.48442      \n",
       "220 Diamond Princess 706       660          93.48442      \n",
       "221 Diamond Princess 706       660          93.48442      \n",
       "222 Diamond Princess 706       660          93.48442      \n",
       "223 Diamond Princess 706       660          93.48442      \n",
       "224 Diamond Princess 706       374          52.97450      \n",
       "225 Diamond Princess 706       374          52.97450      \n",
       "226 Diamond Princess 706       374          52.97450      \n",
       "227 Diamond Princess 706       374          52.97450      \n",
       "228 Diamond Princess 706       374          52.97450      \n",
       "229 Diamond Princess 706       374          52.97450      \n",
       "230 Diamond Princess 706       374          52.97450      \n",
       "231 Diamond Princess 712       380          53.37079      \n",
       "232 Diamond Princess 712       380          53.37079      "
      ]
     },
     "metadata": {},
     "output_type": "display_data"
    }
   ],
   "source": [
    "r2 <- four[,c(1, 4, 7)]\n",
    "\n",
    "# CASES -> percentage\n",
    "r2$'percent_active' = percent(\"r2\")     # Active cases, out of every 100 Confirmed cases\n",
    "r2$'percent_closed' = 100-percent(\"r2\") # Closed cases, out of every 100 Confirmed cases\n",
    "\n",
    "r2 = r2[,1:4]\n",
    "r2"
   ]
  },
  {
   "cell_type": "code",
   "execution_count": 18,
   "metadata": {},
   "outputs": [
    {
     "name": "stdout",
     "output_type": "stream",
     "text": [
      "'data.frame':\t232 obs. of  4 variables:\n",
      " $ Location      : Factor w/ 4 levels \"China\",\"Diamond Princess\",..: 3 3 3 3 3 3 3 3 3 3 ...\n",
      " $ Confirmed     : int  444 444 549 761 1058 1423 3554 3554 4903 5806 ...\n",
      " $ Active.Cases  : int  399 399 494 689 964 1302 3349 3341 4651 5461 ...\n",
      " $ percent_active: num  89.9 89.9 90 90.5 91.1 ...\n"
     ]
    },
    {
     "data": {
      "text/html": [
       "<ol class=list-inline>\n",
       "\t<li>'China'</li>\n",
       "\t<li>'Diamond Princess'</li>\n",
       "\t<li>'Hubei'</li>\n",
       "\t<li>'World'</li>\n",
       "</ol>\n"
      ],
      "text/latex": [
       "\\begin{enumerate*}\n",
       "\\item 'China'\n",
       "\\item 'Diamond Princess'\n",
       "\\item 'Hubei'\n",
       "\\item 'World'\n",
       "\\end{enumerate*}\n"
      ],
      "text/markdown": [
       "1. 'China'\n",
       "2. 'Diamond Princess'\n",
       "3. 'Hubei'\n",
       "4. 'World'\n",
       "\n",
       "\n"
      ],
      "text/plain": [
       "[1] \"China\"            \"Diamond Princess\" \"Hubei\"            \"World\"           "
      ]
     },
     "metadata": {},
     "output_type": "display_data"
    }
   ],
   "source": [
    "r2$Location = as.factor(r2$Location)\n",
    "str(r2)\n",
    "levels(r2$Location)"
   ]
  },
  {
   "cell_type": "code",
   "execution_count": 19,
   "metadata": {},
   "outputs": [
    {
     "name": "stderr",
     "output_type": "stream",
     "text": [
      "Loading required package: lattice\n",
      "\n",
      "Loading required package: MASS\n",
      "\n"
     ]
    },
    {
     "data": {
      "text/html": [
       "<table>\n",
       "<thead><tr><th></th><th scope=col>Confirmed</th><th scope=col>Active.Cases</th><th scope=col>percent_active</th></tr></thead>\n",
       "<tbody>\n",
       "\t<tr><th scope=row>12</th><td>11177   </td><td>10532   </td><td>94.22922</td></tr>\n",
       "\t<tr><th scope=row>14</th><td>16678   </td><td>15677   </td><td>93.99808</td></tr>\n",
       "\t<tr><th scope=row>17</th><td>24953   </td><td>23139   </td><td>92.73033</td></tr>\n",
       "\t<tr><th scope=row>19</th><td>29631   </td><td>26965   </td><td>91.00267</td></tr>\n",
       "\t<tr><th scope=row>23</th><td>48206   </td><td>43437   </td><td>90.10704</td></tr>\n",
       "\t<tr><th scope=row>26</th><td>58182   </td><td>49847   </td><td>85.67426</td></tr>\n",
       "</tbody>\n",
       "</table>\n"
      ],
      "text/latex": [
       "\\begin{tabular}{r|lll}\n",
       "  & Confirmed & Active.Cases & percent\\_active\\\\\n",
       "\\hline\n",
       "\t12 & 11177    & 10532    & 94.22922\\\\\n",
       "\t14 & 16678    & 15677    & 93.99808\\\\\n",
       "\t17 & 24953    & 23139    & 92.73033\\\\\n",
       "\t19 & 29631    & 26965    & 91.00267\\\\\n",
       "\t23 & 48206    & 43437    & 90.10704\\\\\n",
       "\t26 & 58182    & 49847    & 85.67426\\\\\n",
       "\\end{tabular}\n"
      ],
      "text/markdown": [
       "\n",
       "| <!--/--> | Confirmed | Active.Cases | percent_active |\n",
       "|---|---|---|---|\n",
       "| 12 | 11177    | 10532    | 94.22922 |\n",
       "| 14 | 16678    | 15677    | 93.99808 |\n",
       "| 17 | 24953    | 23139    | 92.73033 |\n",
       "| 19 | 29631    | 26965    | 91.00267 |\n",
       "| 23 | 48206    | 43437    | 90.10704 |\n",
       "| 26 | 58182    | 49847    | 85.67426 |\n",
       "\n"
      ],
      "text/plain": [
       "   Confirmed Active.Cases percent_active\n",
       "12 11177     10532        94.22922      \n",
       "14 16678     15677        93.99808      \n",
       "17 24953     23139        92.73033      \n",
       "19 29631     26965        91.00267      \n",
       "23 48206     43437        90.10704      \n",
       "26 58182     49847        85.67426      "
      ]
     },
     "metadata": {},
     "output_type": "display_data"
    },
    {
     "data": {
      "text/html": [
       "<ol class=list-inline>\n",
       "\t<li>Hubei</li>\n",
       "\t<li>Hubei</li>\n",
       "\t<li>Hubei</li>\n",
       "\t<li>Hubei</li>\n",
       "\t<li>Hubei</li>\n",
       "\t<li>Hubei</li>\n",
       "\t<li>Hubei</li>\n",
       "\t<li>Hubei</li>\n",
       "\t<li>Hubei</li>\n",
       "\t<li>Hubei</li>\n",
       "\t<li>Hubei</li>\n",
       "\t<li>China</li>\n",
       "\t<li>China</li>\n",
       "\t<li>China</li>\n",
       "\t<li>China</li>\n",
       "\t<li>China</li>\n",
       "\t<li>China</li>\n",
       "\t<li>China</li>\n",
       "\t<li>China</li>\n",
       "\t<li>China</li>\n",
       "\t<li>China</li>\n",
       "\t<li>China</li>\n",
       "\t<li>World</li>\n",
       "\t<li>World</li>\n",
       "\t<li>World</li>\n",
       "\t<li>World</li>\n",
       "\t<li>World</li>\n",
       "\t<li>World</li>\n",
       "\t<li>World</li>\n",
       "\t<li>World</li>\n",
       "\t<li>World</li>\n",
       "\t<li>World</li>\n",
       "\t<li>World</li>\n",
       "\t<li>Diamond Princess</li>\n",
       "\t<li>Diamond Princess</li>\n",
       "\t<li>Diamond Princess</li>\n",
       "\t<li>Diamond Princess</li>\n",
       "\t<li>Diamond Princess</li>\n",
       "\t<li>Diamond Princess</li>\n",
       "\t<li>Diamond Princess</li>\n",
       "\t<li>Diamond Princess</li>\n",
       "\t<li>Diamond Princess</li>\n",
       "\t<li>Diamond Princess</li>\n",
       "\t<li>Diamond Princess</li>\n",
       "</ol>\n",
       "\n",
       "<details>\n",
       "\t<summary style=display:list-item;cursor:pointer>\n",
       "\t\t<strong>Levels</strong>:\n",
       "\t</summary>\n",
       "\t<ol class=list-inline>\n",
       "\t\t<li>'China'</li>\n",
       "\t\t<li>'Diamond Princess'</li>\n",
       "\t\t<li>'Hubei'</li>\n",
       "\t\t<li>'World'</li>\n",
       "\t</ol>\n",
       "</details>"
      ],
      "text/latex": [
       "\\begin{enumerate*}\n",
       "\\item Hubei\n",
       "\\item Hubei\n",
       "\\item Hubei\n",
       "\\item Hubei\n",
       "\\item Hubei\n",
       "\\item Hubei\n",
       "\\item Hubei\n",
       "\\item Hubei\n",
       "\\item Hubei\n",
       "\\item Hubei\n",
       "\\item Hubei\n",
       "\\item China\n",
       "\\item China\n",
       "\\item China\n",
       "\\item China\n",
       "\\item China\n",
       "\\item China\n",
       "\\item China\n",
       "\\item China\n",
       "\\item China\n",
       "\\item China\n",
       "\\item China\n",
       "\\item World\n",
       "\\item World\n",
       "\\item World\n",
       "\\item World\n",
       "\\item World\n",
       "\\item World\n",
       "\\item World\n",
       "\\item World\n",
       "\\item World\n",
       "\\item World\n",
       "\\item World\n",
       "\\item Diamond Princess\n",
       "\\item Diamond Princess\n",
       "\\item Diamond Princess\n",
       "\\item Diamond Princess\n",
       "\\item Diamond Princess\n",
       "\\item Diamond Princess\n",
       "\\item Diamond Princess\n",
       "\\item Diamond Princess\n",
       "\\item Diamond Princess\n",
       "\\item Diamond Princess\n",
       "\\item Diamond Princess\n",
       "\\end{enumerate*}\n",
       "\n",
       "\\emph{Levels}: \\begin{enumerate*}\n",
       "\\item 'China'\n",
       "\\item 'Diamond Princess'\n",
       "\\item 'Hubei'\n",
       "\\item 'World'\n",
       "\\end{enumerate*}\n"
      ],
      "text/markdown": [
       "1. Hubei\n",
       "2. Hubei\n",
       "3. Hubei\n",
       "4. Hubei\n",
       "5. Hubei\n",
       "6. Hubei\n",
       "7. Hubei\n",
       "8. Hubei\n",
       "9. Hubei\n",
       "10. Hubei\n",
       "11. Hubei\n",
       "12. China\n",
       "13. China\n",
       "14. China\n",
       "15. China\n",
       "16. China\n",
       "17. China\n",
       "18. China\n",
       "19. China\n",
       "20. China\n",
       "21. China\n",
       "22. China\n",
       "23. World\n",
       "24. World\n",
       "25. World\n",
       "26. World\n",
       "27. World\n",
       "28. World\n",
       "29. World\n",
       "30. World\n",
       "31. World\n",
       "32. World\n",
       "33. World\n",
       "34. Diamond Princess\n",
       "35. Diamond Princess\n",
       "36. Diamond Princess\n",
       "37. Diamond Princess\n",
       "38. Diamond Princess\n",
       "39. Diamond Princess\n",
       "40. Diamond Princess\n",
       "41. Diamond Princess\n",
       "42. Diamond Princess\n",
       "43. Diamond Princess\n",
       "44. Diamond Princess\n",
       "\n",
       "\n",
       "\n",
       "**Levels**: 1. 'China'\n",
       "2. 'Diamond Princess'\n",
       "3. 'Hubei'\n",
       "4. 'World'\n",
       "\n",
       "\n"
      ],
      "text/plain": [
       " [1] Hubei            Hubei            Hubei            Hubei           \n",
       " [5] Hubei            Hubei            Hubei            Hubei           \n",
       " [9] Hubei            Hubei            Hubei            China           \n",
       "[13] China            China            China            China           \n",
       "[17] China            China            China            China           \n",
       "[21] China            China            World            World           \n",
       "[25] World            World            World            World           \n",
       "[29] World            World            World            World           \n",
       "[33] World            Diamond Princess Diamond Princess Diamond Princess\n",
       "[37] Diamond Princess Diamond Princess Diamond Princess Diamond Princess\n",
       "[41] Diamond Princess Diamond Princess Diamond Princess Diamond Princess\n",
       "Levels: China Diamond Princess Hubei World"
      ]
     },
     "metadata": {},
     "output_type": "display_data"
    },
    {
     "name": "stderr",
     "output_type": "stream",
     "text": [
      "Warning message in FUN(X[[i]], ...):\n",
      "“Numerical 0 probability for all classes with observation 1”\n",
      "Warning message in FUN(X[[i]], ...):\n",
      "“Numerical 0 probability for all classes with observation 2”\n",
      "Warning message in FUN(X[[i]], ...):\n",
      "“Numerical 0 probability for all classes with observation 3”\n",
      "Warning message in FUN(X[[i]], ...):\n",
      "“Numerical 0 probability for all classes with observation 4”\n",
      "Warning message in FUN(X[[i]], ...):\n",
      "“Numerical 0 probability for all classes with observation 5”\n",
      "Warning message in FUN(X[[i]], ...):\n",
      "“Numerical 0 probability for all classes with observation 6”\n",
      "Warning message in FUN(X[[i]], ...):\n",
      "“Numerical 0 probability for all classes with observation 7”\n",
      "Warning message in FUN(X[[i]], ...):\n",
      "“Numerical 0 probability for all classes with observation 8”\n",
      "Warning message in FUN(X[[i]], ...):\n",
      "“Numerical 0 probability for all classes with observation 9”\n",
      "Warning message in FUN(X[[i]], ...):\n",
      "“Numerical 0 probability for all classes with observation 10”\n",
      "Warning message in FUN(X[[i]], ...):\n",
      "“Numerical 0 probability for all classes with observation 11”\n",
      "Warning message in FUN(X[[i]], ...):\n",
      "“Numerical 0 probability for all classes with observation 12”\n",
      "Warning message in FUN(X[[i]], ...):\n",
      "“Numerical 0 probability for all classes with observation 13”\n",
      "Warning message in FUN(X[[i]], ...):\n",
      "“Numerical 0 probability for all classes with observation 14”\n",
      "Warning message in FUN(X[[i]], ...):\n",
      "“Numerical 0 probability for all classes with observation 15”\n",
      "Warning message in FUN(X[[i]], ...):\n",
      "“Numerical 0 probability for all classes with observation 16”\n",
      "Warning message in FUN(X[[i]], ...):\n",
      "“Numerical 0 probability for all classes with observation 17”\n",
      "Warning message in FUN(X[[i]], ...):\n",
      "“Numerical 0 probability for all classes with observation 18”\n",
      "Warning message in FUN(X[[i]], ...):\n",
      "“Numerical 0 probability for all classes with observation 19”\n",
      "Warning message in FUN(X[[i]], ...):\n",
      "“Numerical 0 probability for all classes with observation 20”\n",
      "Warning message in FUN(X[[i]], ...):\n",
      "“Numerical 0 probability for all classes with observation 21”\n",
      "Warning message in FUN(X[[i]], ...):\n",
      "“Numerical 0 probability for all classes with observation 22”\n",
      "Warning message in FUN(X[[i]], ...):\n",
      "“Numerical 0 probability for all classes with observation 23”\n",
      "Warning message in FUN(X[[i]], ...):\n",
      "“Numerical 0 probability for all classes with observation 24”\n",
      "Warning message in FUN(X[[i]], ...):\n",
      "“Numerical 0 probability for all classes with observation 25”\n",
      "Warning message in FUN(X[[i]], ...):\n",
      "“Numerical 0 probability for all classes with observation 26”\n",
      "Warning message in FUN(X[[i]], ...):\n",
      "“Numerical 0 probability for all classes with observation 27”\n",
      "Warning message in FUN(X[[i]], ...):\n",
      "“Numerical 0 probability for all classes with observation 28”\n",
      "Warning message in FUN(X[[i]], ...):\n",
      "“Numerical 0 probability for all classes with observation 29”\n",
      "Warning message in FUN(X[[i]], ...):\n",
      "“Numerical 0 probability for all classes with observation 30”\n",
      "Warning message in FUN(X[[i]], ...):\n",
      "“Numerical 0 probability for all classes with observation 31”\n",
      "Warning message in FUN(X[[i]], ...):\n",
      "“Numerical 0 probability for all classes with observation 32”\n",
      "Warning message in FUN(X[[i]], ...):\n",
      "“Numerical 0 probability for all classes with observation 33”\n",
      "Warning message in FUN(X[[i]], ...):\n",
      "“Numerical 0 probability for all classes with observation 34”\n",
      "Warning message in FUN(X[[i]], ...):\n",
      "“Numerical 0 probability for all classes with observation 35”\n",
      "Warning message in FUN(X[[i]], ...):\n",
      "“Numerical 0 probability for all classes with observation 36”\n",
      "Warning message in FUN(X[[i]], ...):\n",
      "“Numerical 0 probability for all classes with observation 37”\n",
      "Warning message in FUN(X[[i]], ...):\n",
      "“Numerical 0 probability for all classes with observation 38”\n",
      "Warning message in FUN(X[[i]], ...):\n",
      "“Numerical 0 probability for all classes with observation 39”\n",
      "Warning message in FUN(X[[i]], ...):\n",
      "“Numerical 0 probability for all classes with observation 40”\n",
      "Warning message in FUN(X[[i]], ...):\n",
      "“Numerical 0 probability for all classes with observation 41”\n",
      "Warning message in FUN(X[[i]], ...):\n",
      "“Numerical 0 probability for all classes with observation 42”\n",
      "Warning message in FUN(X[[i]], ...):\n",
      "“Numerical 0 probability for all classes with observation 43”\n",
      "Warning message in FUN(X[[i]], ...):\n",
      "“Numerical 0 probability for all classes with observation 44”\n"
     ]
    }
   ],
   "source": [
    "library(caret)\n",
    "library(klaR)\n",
    "# load the iris dataset\n",
    "#data(iris)\n",
    "\n",
    "split=0.80\n",
    "trainIndex <- createDataPartition(r2$Location, p=split, list=FALSE)\n",
    "data_train <- r2[ trainIndex,]\n",
    "data_test <- r2[-trainIndex,]\n",
    "\n",
    "#str(r2)\n",
    "# train a naive bayes model\n",
    "model <- NaiveBayes(Location~., data=data_train)\n",
    "\n",
    "# make predictions\n",
    "x_test <- data_test[,2:4]\n",
    "y_test <- data_test[,1]\n",
    "\n",
    "head(x_test)\n",
    "y_test\n",
    "predictions <- predict(model, x_test)\n",
    "\n",
    "# summarize results\n",
    "#confusionMatrix(predictions$class, y_test)"
   ]
  },
  {
   "cell_type": "markdown",
   "metadata": {},
   "source": [
    "<br /><hr /><br />"
   ]
  },
  {
   "cell_type": "markdown",
   "metadata": {},
   "source": [
    "## Data-Analysis <br />"
   ]
  },
  {
   "cell_type": "code",
   "execution_count": 20,
   "metadata": {},
   "outputs": [
    {
     "name": "stderr",
     "output_type": "stream",
     "text": [
      "Registered S3 method overwritten by 'rvest':\n",
      "  method            from\n",
      "  read_xml.response xml2\n",
      "\n",
      "── \u001b[1mAttaching packages\u001b[22m ─────────────────────────────────────── tidyverse 1.2.1 ──\n",
      "\n",
      "\u001b[32m✔\u001b[39m \u001b[34mtibble \u001b[39m 2.1.1     \u001b[32m✔\u001b[39m \u001b[34mpurrr  \u001b[39m 0.3.3\n",
      "\u001b[32m✔\u001b[39m \u001b[34mtidyr  \u001b[39m 1.0.2     \u001b[32m✔\u001b[39m \u001b[34mdplyr  \u001b[39m 0.8.3\n",
      "\u001b[32m✔\u001b[39m \u001b[34mreadr  \u001b[39m 1.3.1     \u001b[32m✔\u001b[39m \u001b[34mforcats\u001b[39m 0.4.0\n",
      "\n",
      "── \u001b[1mConflicts\u001b[22m ────────────────────────────────────────── tidyverse_conflicts() ──\n",
      "\u001b[31m✖\u001b[39m \u001b[34mdplyr\u001b[39m::\u001b[32mfilter()\u001b[39m masks \u001b[34mstats\u001b[39m::filter()\n",
      "\u001b[31m✖\u001b[39m \u001b[34mdplyr\u001b[39m::\u001b[32mlag()\u001b[39m    masks \u001b[34mstats\u001b[39m::lag()\n",
      "\u001b[31m✖\u001b[39m \u001b[34mpurrr\u001b[39m::\u001b[32mlift()\u001b[39m   masks \u001b[34mcaret\u001b[39m::lift()\n",
      "\u001b[31m✖\u001b[39m \u001b[34mdplyr\u001b[39m::\u001b[32mselect()\u001b[39m masks \u001b[34mMASS\u001b[39m::select()\n",
      "\n"
     ]
    }
   ],
   "source": [
    "# loading plotting/machine learning\n",
    "library(tidyverse)\n",
    "library(caret)\n",
    "\n",
    "# setting the theme\n",
    "theme_set(theme_classic())"
   ]
  },
  {
   "cell_type": "code",
   "execution_count": 21,
   "metadata": {},
   "outputs": [],
   "source": [
    "set.seed(20) # generages same set of random sample every time\n",
    "\n",
    "training.samples <- region$Day %>%\n",
    "  createDataPartition(p = 0.8, list = FALSE)\n",
    "\n",
    "train.data  <- region[training.samples, ]\n",
    "test.data <- region[-training.samples, ]"
   ]
  },
  {
   "cell_type": "code",
   "execution_count": 22,
   "metadata": {},
   "outputs": [
    {
     "data": {
      "text/html": [
       "<table>\n",
       "<thead><tr><th scope=col>Day</th><th scope=col>Confirmed</th><th scope=col>Deaths</th><th scope=col>Recovered</th><th scope=col>Active.Cases</th><th scope=col>Closed.Cases</th><th scope=col>percent_active</th><th scope=col>percent_closed</th></tr></thead>\n",
       "<tbody>\n",
       "\t<tr><td>1        </td><td>104      </td><td>0        </td><td>0        </td><td>104      </td><td>0        </td><td>100.00000</td><td>0.000000 </td></tr>\n",
       "\t<tr><td>2        </td><td>199      </td><td>1        </td><td>2        </td><td>196      </td><td>3        </td><td> 98.49246</td><td>1.507538 </td></tr>\n",
       "\t<tr><td>3        </td><td>371      </td><td>2        </td><td>5        </td><td>364      </td><td>7        </td><td> 98.11321</td><td>1.886792 </td></tr>\n",
       "</tbody>\n",
       "</table>\n"
      ],
      "text/latex": [
       "\\begin{tabular}{r|llllllll}\n",
       " Day & Confirmed & Deaths & Recovered & Active.Cases & Closed.Cases & percent\\_active & percent\\_closed\\\\\n",
       "\\hline\n",
       "\t 1         & 104       & 0         & 0         & 104       & 0         & 100.00000 & 0.000000 \\\\\n",
       "\t 2         & 199       & 1         & 2         & 196       & 3         &  98.49246 & 1.507538 \\\\\n",
       "\t 3         & 371       & 2         & 5         & 364       & 7         &  98.11321 & 1.886792 \\\\\n",
       "\\end{tabular}\n"
      ],
      "text/markdown": [
       "\n",
       "| Day | Confirmed | Deaths | Recovered | Active.Cases | Closed.Cases | percent_active | percent_closed |\n",
       "|---|---|---|---|---|---|---|---|\n",
       "| 1         | 104       | 0         | 0         | 104       | 0         | 100.00000 | 0.000000  |\n",
       "| 2         | 199       | 1         | 2         | 196       | 3         |  98.49246 | 1.507538  |\n",
       "| 3         | 371       | 2         | 5         | 364       | 7         |  98.11321 | 1.886792  |\n",
       "\n"
      ],
      "text/plain": [
       "  Day Confirmed Deaths Recovered Active.Cases Closed.Cases percent_active\n",
       "1 1   104       0      0         104          0            100.00000     \n",
       "2 2   199       1      2         196          3             98.49246     \n",
       "3 3   371       2      5         364          7             98.11321     \n",
       "  percent_closed\n",
       "1 0.000000      \n",
       "2 1.507538      \n",
       "3 1.886792      "
      ]
     },
     "metadata": {},
     "output_type": "display_data"
    },
    {
     "data": {
      "text/html": [
       "<table>\n",
       "<thead><tr><th></th><th scope=col>Day</th><th scope=col>Confirmed</th><th scope=col>Deaths</th><th scope=col>Recovered</th><th scope=col>Active.Cases</th><th scope=col>Closed.Cases</th><th scope=col>percent_active</th><th scope=col>percent_closed</th></tr></thead>\n",
       "<tbody>\n",
       "\t<tr><th scope=row>4</th><td> 4      </td><td> 645    </td><td> 2      </td><td>  7     </td><td> 636    </td><td>  9     </td><td>98.60465</td><td>1.395349</td></tr>\n",
       "\t<tr><th scope=row>13</th><td>13      </td><td>6194    </td><td>11      </td><td>229     </td><td>5954    </td><td>240     </td><td>96.12528</td><td>3.874717</td></tr>\n",
       "\t<tr><th scope=row>15</th><td>15      </td><td>7775    </td><td>14      </td><td>482     </td><td>7279    </td><td>496     </td><td>93.62058</td><td>6.379421</td></tr>\n",
       "</tbody>\n",
       "</table>\n"
      ],
      "text/latex": [
       "\\begin{tabular}{r|llllllll}\n",
       "  & Day & Confirmed & Deaths & Recovered & Active.Cases & Closed.Cases & percent\\_active & percent\\_closed\\\\\n",
       "\\hline\n",
       "\t4 &  4       &  645     &  2       &   7      &  636     &   9      & 98.60465 & 1.395349\\\\\n",
       "\t13 & 13       & 6194     & 11       & 229      & 5954     & 240      & 96.12528 & 3.874717\\\\\n",
       "\t15 & 15       & 7775     & 14       & 482      & 7279     & 496      & 93.62058 & 6.379421\\\\\n",
       "\\end{tabular}\n"
      ],
      "text/markdown": [
       "\n",
       "| <!--/--> | Day | Confirmed | Deaths | Recovered | Active.Cases | Closed.Cases | percent_active | percent_closed |\n",
       "|---|---|---|---|---|---|---|---|---|\n",
       "| 4 |  4       |  645     |  2       |   7      |  636     |   9      | 98.60465 | 1.395349 |\n",
       "| 13 | 13       | 6194     | 11       | 229      | 5954     | 240      | 96.12528 | 3.874717 |\n",
       "| 15 | 15       | 7775     | 14       | 482      | 7279     | 496      | 93.62058 | 6.379421 |\n",
       "\n"
      ],
      "text/plain": [
       "   Day Confirmed Deaths Recovered Active.Cases Closed.Cases percent_active\n",
       "4   4   645       2       7        636           9          98.60465      \n",
       "13 13  6194      11     229       5954         240          96.12528      \n",
       "15 15  7775      14     482       7279         496          93.62058      \n",
       "   percent_closed\n",
       "4  1.395349      \n",
       "13 3.874717      \n",
       "15 6.379421      "
      ]
     },
     "metadata": {},
     "output_type": "display_data"
    }
   ],
   "source": [
    "head(train.data, 3)\n",
    "head(test.data, 3)"
   ]
  },
  {
   "cell_type": "code",
   "execution_count": 23,
   "metadata": {},
   "outputs": [
    {
     "name": "stderr",
     "output_type": "stream",
     "text": [
      "`geom_smooth()` using method = 'loess' and formula 'y ~ x'\n",
      "\n"
     ]
    },
    {
     "data": {
      "image/png": "[encoded data removed]",
      "text/plain": [
       "plot without title"
      ]
     },
     "metadata": {
      "image/png": {
       "height": 420,
       "width": 420
      },
      "text/plain": {
       "height": 420,
       "width": 420
      }
     },
     "output_type": "display_data"
    }
   ],
   "source": [
    "ggplot(train.data, aes(Day, percent_active) ) +\n",
    "  geom_point() +\n",
    "  stat_smooth()"
   ]
  },
  {
   "cell_type": "markdown",
   "metadata": {},
   "source": [
    "<br /><hr /><br />"
   ]
  },
  {
   "cell_type": "markdown",
   "metadata": {},
   "source": [
    "## Regrassion"
   ]
  },
  {
   "cell_type": "markdown",
   "metadata": {},
   "source": [
    "1. ### Linear regression"
   ]
  },
  {
   "cell_type": "code",
   "execution_count": 24,
   "metadata": {},
   "outputs": [],
   "source": [
    "# y = x\n",
    "# Build the model\n",
    "\n",
    "# pridiction by linear model\n",
    "fit = lm(Day ~ percent_active, data = train.data)"
   ]
  },
  {
   "cell_type": "code",
   "execution_count": 25,
   "metadata": {},
   "outputs": [],
   "source": [
    "# Predicting\n",
    "predictions <- fit %>% predict(train.data)"
   ]
  },
  {
   "cell_type": "code",
   "execution_count": 26,
   "metadata": {},
   "outputs": [
    {
     "data": {
      "text/html": [
       "<table>\n",
       "<thead><tr><th scope=col>RMSE</th><th scope=col>R2</th></tr></thead>\n",
       "<tbody>\n",
       "\t<tr><td>3.698712</td><td>0.951119</td></tr>\n",
       "</tbody>\n",
       "</table>\n"
      ],
      "text/latex": [
       "\\begin{tabular}{r|ll}\n",
       " RMSE & R2\\\\\n",
       "\\hline\n",
       "\t 3.698712 & 0.951119\\\\\n",
       "\\end{tabular}\n"
      ],
      "text/markdown": [
       "\n",
       "| RMSE | R2 |\n",
       "|---|---|\n",
       "| 3.698712 | 0.951119 |\n",
       "\n"
      ],
      "text/plain": [
       "  RMSE     R2      \n",
       "1 3.698712 0.951119"
      ]
     },
     "metadata": {},
     "output_type": "display_data"
    }
   ],
   "source": [
    "# Model performance\n",
    "data.frame(\n",
    "  RMSE = RMSE(predictions, train.data$Day),\n",
    "  R2 = R2(predictions, train.data$Day)\n",
    ")"
   ]
  },
  {
   "cell_type": "markdown",
   "metadata": {},
   "source": [
    "<br />"
   ]
  },
  {
   "cell_type": "code",
   "execution_count": 27,
   "metadata": {},
   "outputs": [
    {
     "data": {
      "image/png": "[encoded data removed]",
      "text/plain": [
       "plot without title"
      ]
     },
     "metadata": {
      "image/png": {
       "height": 420,
       "width": 420
      },
      "text/plain": {
       "height": 420,
       "width": 420
      }
     },
     "output_type": "display_data"
    }
   ],
   "source": [
    "trainer <- ggplot(train.data, aes(Day, percent_active) ) +\n",
    "              geom_point() +\n",
    "              stat_smooth(method = lm, formula = y ~ x) +   # linear function\n",
    "  \n",
    "              # decoration\n",
    "              labs( x = \"Days\", y = \"Active Cases (%)\", title = paste(\"\\nTraining plot\", rName, sep = \" - \") ) +\n",
    "              theme( plot.title = element_text(size = 20, face = \"bold\")) \n",
    "trainer"
   ]
  },
  {
   "cell_type": "code",
   "execution_count": 28,
   "metadata": {},
   "outputs": [
    {
     "data": {
      "image/png": "[encoded data removed]",
      "text/plain": [
       "plot without title"
      ]
     },
     "metadata": {
      "image/png": {
       "height": 420,
       "width": 420
      },
      "text/plain": {
       "height": 420,
       "width": 420
      }
     },
     "output_type": "display_data"
    }
   ],
   "source": [
    "tester <- ggplot(test.data, aes(Day, percent_active) ) +\n",
    "              geom_point() +\n",
    "              stat_smooth(method = lm, formula = y ~ x) +   # linear function\n",
    "  \n",
    "              # decoration\n",
    "              labs( x = \"Days\", y = \"Active Cases (%)\", title = paste(\"\\nTesting plot\", rName, sep = \" - \") ) +\n",
    "              theme( plot.title = element_text(size = 20, face = \"bold\")) \n",
    "tester"
   ]
  },
  {
   "cell_type": "code",
   "execution_count": 29,
   "metadata": {},
   "outputs": [],
   "source": [
    "\n",
    "### can be TESTED in case of any problem in the ABOVE PLOT ###\n",
    "\n",
    "#  # pridiction by linear model\n",
    "#  pred <- predict(fit)   # fitting the model\n",
    "#\n",
    "#  plot(percent_active ~ Day, data = test.data)     #  \"data = train.data\"    is also possible\n",
    "#  lines(train.data$Day, y=pred, col = \"blue\")\n"
   ]
  },
  {
   "cell_type": "markdown",
   "metadata": {},
   "source": [
    "<br />"
   ]
  },
  {
   "cell_type": "code",
   "execution_count": 30,
   "metadata": {},
   "outputs": [
    {
     "data": {
      "text/html": [
       "<table>\n",
       "<thead><tr><th></th><th scope=col>Day</th><th scope=col>percent_active</th><th scope=col>Pridicted_percent_active</th></tr></thead>\n",
       "<tbody>\n",
       "\t<tr><th scope=row>46</th><td>46      </td><td>7.264957</td><td>48.66021</td></tr>\n",
       "\t<tr><th scope=row>48</th><td>48      </td><td>5.229854</td><td>49.54015</td></tr>\n",
       "\t<tr><th scope=row>49</th><td>49      </td><td>4.372667</td><td>49.91078</td></tr>\n",
       "\t<tr><th scope=row>51</th><td>51      </td><td>3.437001</td><td>50.31535</td></tr>\n",
       "\t<tr><th scope=row>52</th><td>52      </td><td>3.024546</td><td>50.49369</td></tr>\n",
       "\t<tr><th scope=row>53</th><td>53      </td><td>2.798210</td><td>50.59155</td></tr>\n",
       "\t<tr><th scope=row>55</th><td>55      </td><td>2.636947</td><td>50.66128</td></tr>\n",
       "\t<tr><th scope=row>56</th><td>56      </td><td>2.602006</td><td>50.67639</td></tr>\n",
       "\t<tr><th scope=row>57</th><td>57      </td><td>2.676088</td><td>50.64435</td></tr>\n",
       "\t<tr><th scope=row>58</th><td>58      </td><td>2.882384</td><td>50.55515</td></tr>\n",
       "</tbody>\n",
       "</table>\n"
      ],
      "text/latex": [
       "\\begin{tabular}{r|lll}\n",
       "  & Day & percent\\_active & Pridicted\\_percent\\_active\\\\\n",
       "\\hline\n",
       "\t46 & 46       & 7.264957 & 48.66021\\\\\n",
       "\t48 & 48       & 5.229854 & 49.54015\\\\\n",
       "\t49 & 49       & 4.372667 & 49.91078\\\\\n",
       "\t51 & 51       & 3.437001 & 50.31535\\\\\n",
       "\t52 & 52       & 3.024546 & 50.49369\\\\\n",
       "\t53 & 53       & 2.798210 & 50.59155\\\\\n",
       "\t55 & 55       & 2.636947 & 50.66128\\\\\n",
       "\t56 & 56       & 2.602006 & 50.67639\\\\\n",
       "\t57 & 57       & 2.676088 & 50.64435\\\\\n",
       "\t58 & 58       & 2.882384 & 50.55515\\\\\n",
       "\\end{tabular}\n"
      ],
      "text/markdown": [
       "\n",
       "| <!--/--> | Day | percent_active | Pridicted_percent_active |\n",
       "|---|---|---|---|\n",
       "| 46 | 46       | 7.264957 | 48.66021 |\n",
       "| 48 | 48       | 5.229854 | 49.54015 |\n",
       "| 49 | 49       | 4.372667 | 49.91078 |\n",
       "| 51 | 51       | 3.437001 | 50.31535 |\n",
       "| 52 | 52       | 3.024546 | 50.49369 |\n",
       "| 53 | 53       | 2.798210 | 50.59155 |\n",
       "| 55 | 55       | 2.636947 | 50.66128 |\n",
       "| 56 | 56       | 2.602006 | 50.67639 |\n",
       "| 57 | 57       | 2.676088 | 50.64435 |\n",
       "| 58 | 58       | 2.882384 | 50.55515 |\n",
       "\n"
      ],
      "text/plain": [
       "   Day percent_active Pridicted_percent_active\n",
       "46 46  7.264957       48.66021                \n",
       "48 48  5.229854       49.54015                \n",
       "49 49  4.372667       49.91078                \n",
       "51 51  3.437001       50.31535                \n",
       "52 52  3.024546       50.49369                \n",
       "53 53  2.798210       50.59155                \n",
       "55 55  2.636947       50.66128                \n",
       "56 56  2.602006       50.67639                \n",
       "57 57  2.676088       50.64435                \n",
       "58 58  2.882384       50.55515                "
      ]
     },
     "metadata": {},
     "output_type": "display_data"
    },
    {
     "data": {
      "text/html": [
       "<table>\n",
       "<thead><tr><th></th><th scope=col>Day</th><th scope=col>percent_active</th><th scope=col>Pridicted_percent_active</th></tr></thead>\n",
       "<tbody>\n",
       "\t<tr><th scope=row>4</th><td> 4       </td><td>98.604651</td><td> 9.166548</td></tr>\n",
       "\t<tr><th scope=row>13</th><td>13       </td><td>96.125283</td><td>10.238583</td></tr>\n",
       "\t<tr><th scope=row>15</th><td>15       </td><td>93.620579</td><td>11.321572</td></tr>\n",
       "\t<tr><th scope=row>18</th><td>18       </td><td>87.811406</td><td>13.833355</td></tr>\n",
       "\t<tr><th scope=row>28</th><td>28       </td><td>58.815548</td><td>26.370649</td></tr>\n",
       "\t<tr><th scope=row>39</th><td>39       </td><td>19.832552</td><td>43.226203</td></tr>\n",
       "\t<tr><th scope=row>41</th><td>41       </td><td>15.361007</td><td>45.159620</td></tr>\n",
       "\t<tr><th scope=row>47</th><td>47       </td><td> 6.473010</td><td>49.002632</td></tr>\n",
       "\t<tr><th scope=row>50</th><td>50       </td><td> 3.977791</td><td>50.081520</td></tr>\n",
       "\t<tr><th scope=row>54</th><td>54       </td><td> 2.740556</td><td>50.616479</td></tr>\n",
       "</tbody>\n",
       "</table>\n"
      ],
      "text/latex": [
       "\\begin{tabular}{r|lll}\n",
       "  & Day & percent\\_active & Pridicted\\_percent\\_active\\\\\n",
       "\\hline\n",
       "\t4 &  4        & 98.604651 &  9.166548\\\\\n",
       "\t13 & 13        & 96.125283 & 10.238583\\\\\n",
       "\t15 & 15        & 93.620579 & 11.321572\\\\\n",
       "\t18 & 18        & 87.811406 & 13.833355\\\\\n",
       "\t28 & 28        & 58.815548 & 26.370649\\\\\n",
       "\t39 & 39        & 19.832552 & 43.226203\\\\\n",
       "\t41 & 41        & 15.361007 & 45.159620\\\\\n",
       "\t47 & 47        &  6.473010 & 49.002632\\\\\n",
       "\t50 & 50        &  3.977791 & 50.081520\\\\\n",
       "\t54 & 54        &  2.740556 & 50.616479\\\\\n",
       "\\end{tabular}\n"
      ],
      "text/markdown": [
       "\n",
       "| <!--/--> | Day | percent_active | Pridicted_percent_active |\n",
       "|---|---|---|---|\n",
       "| 4 |  4        | 98.604651 |  9.166548 |\n",
       "| 13 | 13        | 96.125283 | 10.238583 |\n",
       "| 15 | 15        | 93.620579 | 11.321572 |\n",
       "| 18 | 18        | 87.811406 | 13.833355 |\n",
       "| 28 | 28        | 58.815548 | 26.370649 |\n",
       "| 39 | 39        | 19.832552 | 43.226203 |\n",
       "| 41 | 41        | 15.361007 | 45.159620 |\n",
       "| 47 | 47        |  6.473010 | 49.002632 |\n",
       "| 50 | 50        |  3.977791 | 50.081520 |\n",
       "| 54 | 54        |  2.740556 | 50.616479 |\n",
       "\n"
      ],
      "text/plain": [
       "   Day percent_active Pridicted_percent_active\n",
       "4   4  98.604651       9.166548               \n",
       "13 13  96.125283      10.238583               \n",
       "15 15  93.620579      11.321572               \n",
       "18 18  87.811406      13.833355               \n",
       "28 28  58.815548      26.370649               \n",
       "39 39  19.832552      43.226203               \n",
       "41 41  15.361007      45.159620               \n",
       "47 47   6.473010      49.002632               \n",
       "50 50   3.977791      50.081520               \n",
       "54 54   2.740556      50.616479               "
      ]
     },
     "metadata": {},
     "output_type": "display_data"
    }
   ],
   "source": [
    "trained = cbind( # Prediction for training data\n",
    "            train.data[,c(\"Day\", \"percent_active\")],\n",
    "            Pridicted_percent_active = predict(fit, train.data)\n",
    "          )\n",
    "\n",
    "tested = cbind(  # Prediction for tested data\n",
    "            test.data[,c(\"Day\", \"percent_active\")],\n",
    "            Pridicted_percent_active = predict(fit, test.data)\n",
    "         )\n",
    "\n",
    "\n",
    "tail(trained, 10)\n",
    "tail(tested, 10)"
   ]
  },
  {
   "cell_type": "markdown",
   "metadata": {},
   "source": [
    "<br />"
   ]
  },
  {
   "cell_type": "markdown",
   "metadata": {},
   "source": [
    "2. ### Polynomial regression"
   ]
  },
  {
   "cell_type": "code",
   "execution_count": 31,
   "metadata": {},
   "outputs": [],
   "source": [
    "# y = x + I(x^2)...   ---->   a polynomial function\n",
    "deg = 16  # degree of polynomial\n",
    "\n",
    "# better and alternate way for line i.e. above\n",
    "model = lm(percent_active ~ poly(Day, deg, raw = TRUE), data = train.data)"
   ]
  },
  {
   "cell_type": "code",
   "execution_count": 32,
   "metadata": {},
   "outputs": [],
   "source": [
    "#head(test.data)\n",
    "#head(train.data)"
   ]
  },
  {
   "cell_type": "code",
   "execution_count": 33,
   "metadata": {},
   "outputs": [
    {
     "name": "stderr",
     "output_type": "stream",
     "text": [
      "Warning message in predict.lm(., train.data):\n",
      "“prediction from a rank-deficient fit may be misleading”\n"
     ]
    }
   ],
   "source": [
    "predictions <- model %>% predict(train.data)"
   ]
  },
  {
   "cell_type": "code",
   "execution_count": 34,
   "metadata": {},
   "outputs": [
    {
     "data": {
      "text/html": [
       "<table>\n",
       "<thead><tr><th scope=col>RMSE</th><th scope=col>R2</th></tr></thead>\n",
       "<tbody>\n",
       "\t<tr><td>58.87277 </td><td>0.9511412</td></tr>\n",
       "</tbody>\n",
       "</table>\n"
      ],
      "text/latex": [
       "\\begin{tabular}{r|ll}\n",
       " RMSE & R2\\\\\n",
       "\\hline\n",
       "\t 58.87277  & 0.9511412\\\\\n",
       "\\end{tabular}\n"
      ],
      "text/markdown": [
       "\n",
       "| RMSE | R2 |\n",
       "|---|---|\n",
       "| 58.87277  | 0.9511412 |\n",
       "\n"
      ],
      "text/plain": [
       "  RMSE     R2       \n",
       "1 58.87277 0.9511412"
      ]
     },
     "metadata": {},
     "output_type": "display_data"
    }
   ],
   "source": [
    "# Model performance\n",
    "data.frame(\n",
    "  RMSE = RMSE(predictions, train.data$Day),\n",
    "  R2 = R2(predictions, train.data$Day)\n",
    ")"
   ]
  },
  {
   "cell_type": "markdown",
   "metadata": {},
   "source": [
    "<br /><br />"
   ]
  },
  {
   "cell_type": "code",
   "execution_count": 35,
   "metadata": {},
   "outputs": [
    {
     "name": "stderr",
     "output_type": "stream",
     "text": [
      "Warning message in predict.lm(model, newdata = data.frame(x = xseq), se.fit = se, :\n",
      "“prediction from a rank-deficient fit may be misleading”\n"
     ]
    },
    {
     "data": {
      "image/png": "[encoded data removed]",
      "text/plain": [
       "plot without title"
      ]
     },
     "metadata": {
      "image/png": {
       "height": 420,
       "width": 420
      },
      "text/plain": {
       "height": 420,
       "width": 420
      }
     },
     "output_type": "display_data"
    }
   ],
   "source": [
    "trainer <- ggplot(train.data, aes(Day, percent_active) ) +\n",
    "              geom_point() +\n",
    "              stat_smooth(method = lm, formula = y ~ poly(x, deg, raw = TRUE)) +   # polynomial function\n",
    "  \n",
    "              # decoration\n",
    "              labs( x = \"Days\", y = \"Active Cases (%)\", title = paste(\"\\nTraining plot\", rName, sep = \" - \") ) +\n",
    "              theme( plot.title = element_text(size = 20, face = \"bold\")) \n",
    "trainer"
   ]
  },
  {
   "cell_type": "code",
   "execution_count": 36,
   "metadata": {},
   "outputs": [
    {
     "name": "stderr",
     "output_type": "stream",
     "text": [
      "Warning message in predict.lm(model, newdata = data.frame(x = xseq), se.fit = se, :\n",
      "“prediction from a rank-deficient fit may be misleading”\n",
      "Warning message in qt((1 - level)/2, df):\n",
      "“NaNs produced”\n"
     ]
    },
    {
     "data": {
      "image/png": "[encoded data removed]",
      "text/plain": [
       "plot without title"
      ]
     },
     "metadata": {
      "image/png": {
       "height": 420,
       "width": 420
      },
      "text/plain": {
       "height": 420,
       "width": 420
      }
     },
     "output_type": "display_data"
    }
   ],
   "source": [
    "tester <- ggplot(test.data, aes(Day, percent_active) ) +\n",
    "              geom_point() +\n",
    "              stat_smooth(method = lm, formula = y ~ poly(x, deg, raw = TRUE)) +   # polynomial function\n",
    "  \n",
    "              # decoration\n",
    "              labs( x = \"Days\", y = \"Active Cases (%)\", title = paste(\"\\nTesting plot\", rName, sep = \" - \") ) +\n",
    "              theme( plot.title = element_text(size = 20, face = \"bold\")) \n",
    "tester"
   ]
  },
  {
   "cell_type": "code",
   "execution_count": 37,
   "metadata": {},
   "outputs": [],
   "source": [
    "\n",
    "### can be TESTED in case of any problem in the ABOVE PLOT ###\n",
    "\n",
    "#  # pridiction by polynomial model\n",
    "#  pred <- predict(model)   # fitting the model\n",
    "#\n",
    "#  plot(percent_active ~ Day, data = test.data)     #  \"data = train.data\"    is also possible\n",
    "#  lines(train.data$Day, y=pred, col = \"blue\")\n"
   ]
  },
  {
   "cell_type": "markdown",
   "metadata": {},
   "source": [
    "<br /><br />"
   ]
  },
  {
   "cell_type": "code",
   "execution_count": 38,
   "metadata": {},
   "outputs": [
    {
     "name": "stderr",
     "output_type": "stream",
     "text": [
      "Warning message in predict.lm(model, train.data):\n",
      "“prediction from a rank-deficient fit may be misleading”\n",
      "Warning message in predict.lm(model, test.data):\n",
      "“prediction from a rank-deficient fit may be misleading”\n"
     ]
    },
    {
     "data": {
      "text/html": [
       "<table>\n",
       "<thead><tr><th></th><th scope=col>Day</th><th scope=col>percent_active</th><th scope=col>Pridicted_percent_active</th></tr></thead>\n",
       "<tbody>\n",
       "\t<tr><th scope=row>46</th><td>46      </td><td>7.264957</td><td>7.028472</td></tr>\n",
       "\t<tr><th scope=row>48</th><td>48      </td><td>5.229854</td><td>5.207400</td></tr>\n",
       "\t<tr><th scope=row>49</th><td>49      </td><td>4.372667</td><td>4.515810</td></tr>\n",
       "\t<tr><th scope=row>51</th><td>51      </td><td>3.437001</td><td>3.434026</td></tr>\n",
       "\t<tr><th scope=row>52</th><td>52      </td><td>3.024546</td><td>3.039478</td></tr>\n",
       "\t<tr><th scope=row>53</th><td>53      </td><td>2.798210</td><td>2.765560</td></tr>\n",
       "\t<tr><th scope=row>55</th><td>55      </td><td>2.636947</td><td>2.603338</td></tr>\n",
       "\t<tr><th scope=row>56</th><td>56      </td><td>2.602006</td><td>2.637141</td></tr>\n",
       "\t<tr><th scope=row>57</th><td>57      </td><td>2.676088</td><td>2.676320</td></tr>\n",
       "\t<tr><th scope=row>58</th><td>58      </td><td>2.882384</td><td>2.877786</td></tr>\n",
       "</tbody>\n",
       "</table>\n"
      ],
      "text/latex": [
       "\\begin{tabular}{r|lll}\n",
       "  & Day & percent\\_active & Pridicted\\_percent\\_active\\\\\n",
       "\\hline\n",
       "\t46 & 46       & 7.264957 & 7.028472\\\\\n",
       "\t48 & 48       & 5.229854 & 5.207400\\\\\n",
       "\t49 & 49       & 4.372667 & 4.515810\\\\\n",
       "\t51 & 51       & 3.437001 & 3.434026\\\\\n",
       "\t52 & 52       & 3.024546 & 3.039478\\\\\n",
       "\t53 & 53       & 2.798210 & 2.765560\\\\\n",
       "\t55 & 55       & 2.636947 & 2.603338\\\\\n",
       "\t56 & 56       & 2.602006 & 2.637141\\\\\n",
       "\t57 & 57       & 2.676088 & 2.676320\\\\\n",
       "\t58 & 58       & 2.882384 & 2.877786\\\\\n",
       "\\end{tabular}\n"
      ],
      "text/markdown": [
       "\n",
       "| <!--/--> | Day | percent_active | Pridicted_percent_active |\n",
       "|---|---|---|---|\n",
       "| 46 | 46       | 7.264957 | 7.028472 |\n",
       "| 48 | 48       | 5.229854 | 5.207400 |\n",
       "| 49 | 49       | 4.372667 | 4.515810 |\n",
       "| 51 | 51       | 3.437001 | 3.434026 |\n",
       "| 52 | 52       | 3.024546 | 3.039478 |\n",
       "| 53 | 53       | 2.798210 | 2.765560 |\n",
       "| 55 | 55       | 2.636947 | 2.603338 |\n",
       "| 56 | 56       | 2.602006 | 2.637141 |\n",
       "| 57 | 57       | 2.676088 | 2.676320 |\n",
       "| 58 | 58       | 2.882384 | 2.877786 |\n",
       "\n"
      ],
      "text/plain": [
       "   Day percent_active Pridicted_percent_active\n",
       "46 46  7.264957       7.028472                \n",
       "48 48  5.229854       5.207400                \n",
       "49 49  4.372667       4.515810                \n",
       "51 51  3.437001       3.434026                \n",
       "52 52  3.024546       3.039478                \n",
       "53 53  2.798210       2.765560                \n",
       "55 55  2.636947       2.603338                \n",
       "56 56  2.602006       2.637141                \n",
       "57 57  2.676088       2.676320                \n",
       "58 58  2.882384       2.877786                "
      ]
     },
     "metadata": {},
     "output_type": "display_data"
    },
    {
     "data": {
      "text/html": [
       "<table>\n",
       "<thead><tr><th></th><th scope=col>Day</th><th scope=col>percent_active</th><th scope=col>Pridicted_percent_active</th></tr></thead>\n",
       "<tbody>\n",
       "\t<tr><th scope=row>4</th><td> 4       </td><td>98.604651</td><td>98.766358</td></tr>\n",
       "\t<tr><th scope=row>13</th><td>13       </td><td>96.125283</td><td>96.132517</td></tr>\n",
       "\t<tr><th scope=row>15</th><td>15       </td><td>93.620579</td><td>93.520020</td></tr>\n",
       "\t<tr><th scope=row>18</th><td>18       </td><td>87.811406</td><td>88.061024</td></tr>\n",
       "\t<tr><th scope=row>28</th><td>28       </td><td>58.815548</td><td>58.229060</td></tr>\n",
       "\t<tr><th scope=row>39</th><td>39       </td><td>19.832552</td><td>20.202200</td></tr>\n",
       "\t<tr><th scope=row>41</th><td>41       </td><td>15.361007</td><td>15.364710</td></tr>\n",
       "\t<tr><th scope=row>47</th><td>47       </td><td> 6.473010</td><td> 6.032602</td></tr>\n",
       "\t<tr><th scope=row>50</th><td>50       </td><td> 3.977791</td><td> 3.928741</td></tr>\n",
       "\t<tr><th scope=row>54</th><td>54       </td><td> 2.740556</td><td> 2.626145</td></tr>\n",
       "</tbody>\n",
       "</table>\n"
      ],
      "text/latex": [
       "\\begin{tabular}{r|lll}\n",
       "  & Day & percent\\_active & Pridicted\\_percent\\_active\\\\\n",
       "\\hline\n",
       "\t4 &  4        & 98.604651 & 98.766358\\\\\n",
       "\t13 & 13        & 96.125283 & 96.132517\\\\\n",
       "\t15 & 15        & 93.620579 & 93.520020\\\\\n",
       "\t18 & 18        & 87.811406 & 88.061024\\\\\n",
       "\t28 & 28        & 58.815548 & 58.229060\\\\\n",
       "\t39 & 39        & 19.832552 & 20.202200\\\\\n",
       "\t41 & 41        & 15.361007 & 15.364710\\\\\n",
       "\t47 & 47        &  6.473010 &  6.032602\\\\\n",
       "\t50 & 50        &  3.977791 &  3.928741\\\\\n",
       "\t54 & 54        &  2.740556 &  2.626145\\\\\n",
       "\\end{tabular}\n"
      ],
      "text/markdown": [
       "\n",
       "| <!--/--> | Day | percent_active | Pridicted_percent_active |\n",
       "|---|---|---|---|\n",
       "| 4 |  4        | 98.604651 | 98.766358 |\n",
       "| 13 | 13        | 96.125283 | 96.132517 |\n",
       "| 15 | 15        | 93.620579 | 93.520020 |\n",
       "| 18 | 18        | 87.811406 | 88.061024 |\n",
       "| 28 | 28        | 58.815548 | 58.229060 |\n",
       "| 39 | 39        | 19.832552 | 20.202200 |\n",
       "| 41 | 41        | 15.361007 | 15.364710 |\n",
       "| 47 | 47        |  6.473010 |  6.032602 |\n",
       "| 50 | 50        |  3.977791 |  3.928741 |\n",
       "| 54 | 54        |  2.740556 |  2.626145 |\n",
       "\n"
      ],
      "text/plain": [
       "   Day percent_active Pridicted_percent_active\n",
       "4   4  98.604651      98.766358               \n",
       "13 13  96.125283      96.132517               \n",
       "15 15  93.620579      93.520020               \n",
       "18 18  87.811406      88.061024               \n",
       "28 28  58.815548      58.229060               \n",
       "39 39  19.832552      20.202200               \n",
       "41 41  15.361007      15.364710               \n",
       "47 47   6.473010       6.032602               \n",
       "50 50   3.977791       3.928741               \n",
       "54 54   2.740556       2.626145               "
      ]
     },
     "metadata": {},
     "output_type": "display_data"
    }
   ],
   "source": [
    "trained = cbind( # Prediction for training data\n",
    "            train.data[,c(\"Day\", \"percent_active\")],\n",
    "            Pridicted_percent_active = predict(model, train.data)\n",
    "          )\n",
    "\n",
    "tested = cbind(  # Prediction for tested data\n",
    "            test.data[,c(\"Day\", \"percent_active\")],\n",
    "            Pridicted_percent_active = predict(model, test.data)\n",
    "         )\n",
    "\n",
    "\n",
    "tail(trained, 10)\n",
    "tail(tested, 10)"
   ]
  },
  {
   "cell_type": "markdown",
   "metadata": {},
   "source": [
    "<br /><hr /><br />"
   ]
  },
  {
   "cell_type": "markdown",
   "metadata": {},
   "source": [
    "## Predictions"
   ]
  },
  {
   "cell_type": "code",
   "execution_count": 39,
   "metadata": {},
   "outputs": [],
   "source": [
    "test_Miscellaneous = data.frame(\n",
    "                        Day = NaN,\n",
    "                        Confirmed = NaN,\n",
    "                        Active.Cases = NaN,\n",
    "                        percent_active = NaN,\n",
    "                        percent_closed = NaN\n",
    "                     )"
   ]
  },
  {
   "cell_type": "code",
   "execution_count": 42,
   "metadata": {},
   "outputs": [],
   "source": [
    "# 13th March ---> day 52\n",
    "dNo = 59    # get the day no. to pridict\n",
    "\n",
    "test_Miscellaneous$'Day' = dNo"
   ]
  },
  {
   "cell_type": "markdown",
   "metadata": {},
   "source": [
    "<br /> \n",
    "1. #### By Linear Model"
   ]
  },
  {
   "cell_type": "code",
   "execution_count": 43,
   "metadata": {},
   "outputs": [
    {
     "data": {
      "text/html": [
       "<table>\n",
       "<thead><tr><th scope=col>Day</th><th scope=col>percent_active</th><th scope=col>percent_pridicted</th></tr></thead>\n",
       "<tbody>\n",
       "\t<tr><td>59 </td><td>NaN</td><td>NaN</td></tr>\n",
       "</tbody>\n",
       "</table>\n"
      ],
      "text/latex": [
       "\\begin{tabular}{r|lll}\n",
       " Day & percent\\_active & percent\\_pridicted\\\\\n",
       "\\hline\n",
       "\t 59  & NaN & NaN\\\\\n",
       "\\end{tabular}\n"
      ],
      "text/markdown": [
       "\n",
       "| Day | percent_active | percent_pridicted |\n",
       "|---|---|---|\n",
       "| 59  | NaN | NaN |\n",
       "\n"
      ],
      "text/plain": [
       "  Day percent_active percent_pridicted\n",
       "1 59  NaN            NaN              "
      ]
     },
     "metadata": {},
     "output_type": "display_data"
    }
   ],
   "source": [
    "# modeling variable  --->  fit\n",
    "Prediction = cbind(\n",
    "                test_Miscellaneous[,c(\"Day\", \"percent_active\")],\n",
    "                percent_pridicted = predict(fit, test_Miscellaneous)\n",
    "             )\n",
    "Prediction"
   ]
  },
  {
   "cell_type": "markdown",
   "metadata": {},
   "source": [
    "<br /> \n",
    "2. #### By Polynomial Model"
   ]
  },
  {
   "cell_type": "code",
   "execution_count": 44,
   "metadata": {},
   "outputs": [
    {
     "name": "stderr",
     "output_type": "stream",
     "text": [
      "Warning message in predict.lm(model, test_Miscellaneous):\n",
      "“prediction from a rank-deficient fit may be misleading”\n"
     ]
    },
    {
     "data": {
      "text/html": [
       "<table>\n",
       "<thead><tr><th scope=col>Day</th><th scope=col>percent_active</th><th scope=col>percent_pridicted</th></tr></thead>\n",
       "<tbody>\n",
       "\t<tr><td>59      </td><td>NaN     </td><td>4.103978</td></tr>\n",
       "</tbody>\n",
       "</table>\n"
      ],
      "text/latex": [
       "\\begin{tabular}{r|lll}\n",
       " Day & percent\\_active & percent\\_pridicted\\\\\n",
       "\\hline\n",
       "\t 59       & NaN      & 4.103978\\\\\n",
       "\\end{tabular}\n"
      ],
      "text/markdown": [
       "\n",
       "| Day | percent_active | percent_pridicted |\n",
       "|---|---|---|\n",
       "| 59       | NaN      | 4.103978 |\n",
       "\n"
      ],
      "text/plain": [
       "  Day percent_active percent_pridicted\n",
       "1 59  NaN            4.103978         "
      ]
     },
     "metadata": {},
     "output_type": "display_data"
    }
   ],
   "source": [
    "# modeling variable  --->  model\n",
    "Prediction = cbind(\n",
    "                test_Miscellaneous[,c(\"Day\", \"percent_active\")],\n",
    "                percent_pridicted = predict(model, test_Miscellaneous)\n",
    "             )\n",
    "Prediction"
   ]
  },
  {
   "cell_type": "markdown",
   "metadata": {},
   "source": [
    "<hr /> <br />"
   ]
  },
  {
   "cell_type": "code",
   "execution_count": 45,
   "metadata": {},
   "outputs": [],
   "source": [
    "# world on day 58\n",
    "# 92.63192 ---> @deg = 16\n",
    "# 88.90763 ---> @deg = 19"
   ]
  }
 ],
 "metadata": {
  "kernelspec": {
   "display_name": "R",
   "language": "R",
   "name": "ir"
  },
  "language_info": {
   "codemirror_mode": "r",
   "file_extension": ".r",
   "mimetype": "text/x-r-source",
   "name": "R",
   "pygments_lexer": "r",
   "version": "3.6.1"
  }
 },
 "nbformat": 4,
 "nbformat_minor": 2
}
