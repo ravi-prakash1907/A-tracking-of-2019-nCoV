{
 "cells": [
  {
   "cell_type": "markdown",
   "metadata": {},
   "source": [
    "<center><h1> <font color=\"green\"><u>Active-Case Predictions ~ 19-nCoV</u></font> </h1></center>"
   ]
  },
  {
   "cell_type": "markdown",
   "metadata": {},
   "source": [
    "<center><h3> <font color=\"#cc0000\"><u>Active Cases(%) out of Confirmed</u></font> </h3></center>"
   ]
  },
  {
   "cell_type": "markdown",
   "metadata": {},
   "source": [
    "<h3> <font color=\"purple\"><u>This section includes:</u></font> </h3>"
   ]
  },
  {
   "cell_type": "markdown",
   "metadata": {},
   "source": [
    "> * Data Filtering <br />\n",
    "> * Training & Testing datasets <br />\n",
    "> * Prediction <br />\n",
    "> * Visualization (Scatter Plots) <br />"
   ]
  },
  {
   "cell_type": "markdown",
   "metadata": {},
   "source": [
    "<br />"
   ]
  },
  {
   "cell_type": "markdown",
   "metadata": {},
   "source": [
    "## Creating Datasets"
   ]
  },
  {
   "cell_type": "code",
   "execution_count": 1,
   "metadata": {},
   "outputs": [],
   "source": [
    "# setting the working directory\n",
    "setwd(\"~/Documents/A-tracking-of-2019-nCoV/COVID-19/ready_to_use\")"
   ]
  },
  {
   "cell_type": "code",
   "execution_count": 2,
   "metadata": {},
   "outputs": [
    {
     "name": "stderr",
     "output_type": "stream",
     "text": [
      "Registered S3 methods overwritten by 'ggplot2':\n",
      "  method         from \n",
      "  [.quosures     rlang\n",
      "  c.quosures     rlang\n",
      "  print.quosures rlang\n",
      "\n"
     ]
    }
   ],
   "source": [
    "# Loading desired libraries\n",
    "library(readr)\n",
    "library(ggplot2)\n",
    "library(stringr)"
   ]
  },
  {
   "cell_type": "markdown",
   "metadata": {},
   "source": [
    "<hr />"
   ]
  },
  {
   "cell_type": "code",
   "execution_count": 3,
   "metadata": {},
   "outputs": [
    {
     "name": "stderr",
     "output_type": "stream",
     "text": [
      "Parsed with column specification:\n",
      "cols(\n",
      "  Country = \u001b[31mcol_character()\u001b[39m,\n",
      "  Day = \u001b[32mcol_double()\u001b[39m,\n",
      "  Date = \u001b[31mcol_character()\u001b[39m,\n",
      "  Confirmed = \u001b[32mcol_double()\u001b[39m,\n",
      "  Deaths = \u001b[32mcol_double()\u001b[39m,\n",
      "  Recovered = \u001b[32mcol_double()\u001b[39m,\n",
      "  Active.Cases = \u001b[32mcol_double()\u001b[39m,\n",
      "  Closed.Cases = \u001b[32mcol_double()\u001b[39m\n",
      ")\n",
      "\n",
      "Parsed with column specification:\n",
      "cols(\n",
      "  Location = \u001b[31mcol_character()\u001b[39m,\n",
      "  Day = \u001b[32mcol_double()\u001b[39m,\n",
      "  Date = \u001b[31mcol_character()\u001b[39m,\n",
      "  Confirmed = \u001b[32mcol_double()\u001b[39m,\n",
      "  Deaths = \u001b[32mcol_double()\u001b[39m,\n",
      "  Recovered = \u001b[32mcol_double()\u001b[39m,\n",
      "  Active.Cases = \u001b[32mcol_double()\u001b[39m,\n",
      "  Closed.Cases = \u001b[32mcol_double()\u001b[39m\n",
      ")\n",
      "\n",
      "Parsed with column specification:\n",
      "cols(\n",
      "  State = \u001b[31mcol_character()\u001b[39m,\n",
      "  Day = \u001b[32mcol_double()\u001b[39m,\n",
      "  Date = \u001b[31mcol_character()\u001b[39m,\n",
      "  Confirmed = \u001b[32mcol_double()\u001b[39m,\n",
      "  Deaths = \u001b[32mcol_double()\u001b[39m,\n",
      "  Recovered = \u001b[32mcol_double()\u001b[39m,\n",
      "  Active.Cases = \u001b[32mcol_double()\u001b[39m,\n",
      "  Closed.Cases = \u001b[32mcol_double()\u001b[39m\n",
      ")\n",
      "\n",
      "Parsed with column specification:\n",
      "cols(\n",
      "  State = \u001b[31mcol_character()\u001b[39m,\n",
      "  Day = \u001b[32mcol_double()\u001b[39m,\n",
      "  Date = \u001b[31mcol_character()\u001b[39m,\n",
      "  Confirmed = \u001b[32mcol_double()\u001b[39m,\n",
      "  Deaths = \u001b[32mcol_double()\u001b[39m,\n",
      "  Recovered = \u001b[32mcol_double()\u001b[39m,\n",
      "  Active.Cases = \u001b[32mcol_double()\u001b[39m,\n",
      "  Closed.Cases = \u001b[32mcol_double()\u001b[39m\n",
      ")\n",
      "\n"
     ]
    }
   ],
   "source": [
    "all = read_csv('COVID-19/Mixed/countryWise_bulk_summary.csv')\n",
    "world = read_csv('COVID-19/World/World_dataset_dateWise_summary.csv')\n",
    "\n",
    "hubei = read_csv('COVID-19/Hubei/Hubei_dataset_dateWise_summary.csv')\n",
    "cruise = read_csv('COVID-19/Cruise/Diamond_Princess_dataset_dateWise_summary.csv')"
   ]
  },
  {
   "cell_type": "code",
   "execution_count": 4,
   "metadata": {},
   "outputs": [],
   "source": [
    "# country list\n",
    "countries = matrix(levels(as.factor(all$Country)))\n",
    "\n",
    "#head(countries, 10)"
   ]
  },
  {
   "cell_type": "markdown",
   "metadata": {},
   "source": [
    "<br /> \n",
    "### Choosing desired Country/Region"
   ]
  },
  {
   "cell_type": "code",
   "execution_count": 5,
   "metadata": {},
   "outputs": [],
   "source": [
    "# country i.e. to be used throughout the analysis\n",
    " rName = 'China' # without hubei\n",
    "\n",
    "# rName = 'World'\n",
    "# rName = 'Hubei'\n",
    "# rName = 'Diamond Cruise'\n",
    "\n",
    "# whole_china --->  'China' + hubei"
   ]
  },
  {
   "cell_type": "markdown",
   "metadata": {},
   "source": [
    "<hr />"
   ]
  },
  {
   "cell_type": "code",
   "execution_count": 6,
   "metadata": {},
   "outputs": [
    {
     "data": {
      "text/html": [
       "<table>\n",
       "<thead><tr><th scope=col>Country</th><th scope=col>Day</th><th scope=col>Date</th><th scope=col>Confirmed</th><th scope=col>Deaths</th><th scope=col>Recovered</th><th scope=col>Active.Cases</th><th scope=col>Closed.Cases</th></tr></thead>\n",
       "<tbody>\n",
       "\t<tr><td>China     </td><td>1         </td><td>22-01-2020</td><td> 104      </td><td>0         </td><td> 0        </td><td> 104      </td><td> 0        </td></tr>\n",
       "\t<tr><td>China     </td><td>2         </td><td>23-01-2020</td><td> 199      </td><td>1         </td><td> 2        </td><td> 196      </td><td> 3        </td></tr>\n",
       "\t<tr><td>China     </td><td>3         </td><td>24-01-2020</td><td> 371      </td><td>2         </td><td> 5        </td><td> 364      </td><td> 7        </td></tr>\n",
       "\t<tr><td>China     </td><td>4         </td><td>25-01-2020</td><td> 645      </td><td>2         </td><td> 7        </td><td> 636      </td><td> 9        </td></tr>\n",
       "\t<tr><td>China     </td><td>5         </td><td>26-01-2020</td><td>1017      </td><td>4         </td><td> 7        </td><td>1006      </td><td>11        </td></tr>\n",
       "\t<tr><td>China     </td><td>6         </td><td>27-01-2020</td><td>1454      </td><td>6         </td><td>13        </td><td>1435      </td><td>19        </td></tr>\n",
       "</tbody>\n",
       "</table>\n"
      ],
      "text/latex": [
       "\\begin{tabular}{r|llllllll}\n",
       " Country & Day & Date & Confirmed & Deaths & Recovered & Active.Cases & Closed.Cases\\\\\n",
       "\\hline\n",
       "\t China      & 1          & 22-01-2020 &  104       & 0          &  0         &  104       &  0        \\\\\n",
       "\t China      & 2          & 23-01-2020 &  199       & 1          &  2         &  196       &  3        \\\\\n",
       "\t China      & 3          & 24-01-2020 &  371       & 2          &  5         &  364       &  7        \\\\\n",
       "\t China      & 4          & 25-01-2020 &  645       & 2          &  7         &  636       &  9        \\\\\n",
       "\t China      & 5          & 26-01-2020 & 1017       & 4          &  7         & 1006       & 11        \\\\\n",
       "\t China      & 6          & 27-01-2020 & 1454       & 6          & 13         & 1435       & 19        \\\\\n",
       "\\end{tabular}\n"
      ],
      "text/markdown": [
       "\n",
       "| Country | Day | Date | Confirmed | Deaths | Recovered | Active.Cases | Closed.Cases |\n",
       "|---|---|---|---|---|---|---|---|\n",
       "| China      | 1          | 22-01-2020 |  104       | 0          |  0         |  104       |  0         |\n",
       "| China      | 2          | 23-01-2020 |  199       | 1          |  2         |  196       |  3         |\n",
       "| China      | 3          | 24-01-2020 |  371       | 2          |  5         |  364       |  7         |\n",
       "| China      | 4          | 25-01-2020 |  645       | 2          |  7         |  636       |  9         |\n",
       "| China      | 5          | 26-01-2020 | 1017       | 4          |  7         | 1006       | 11         |\n",
       "| China      | 6          | 27-01-2020 | 1454       | 6          | 13         | 1435       | 19         |\n",
       "\n"
      ],
      "text/plain": [
       "  Country Day Date       Confirmed Deaths Recovered Active.Cases Closed.Cases\n",
       "1 China   1   22-01-2020  104      0       0         104          0          \n",
       "2 China   2   23-01-2020  199      1       2         196          3          \n",
       "3 China   3   24-01-2020  371      2       5         364          7          \n",
       "4 China   4   25-01-2020  645      2       7         636          9          \n",
       "5 China   5   26-01-2020 1017      4       7        1006         11          \n",
       "6 China   6   27-01-2020 1454      6      13        1435         19          "
      ]
     },
     "metadata": {},
     "output_type": "display_data"
    }
   ],
   "source": [
    "# filtering out desired country\n",
    "region = all[which(str_detect(all$Country, rName)),]\n",
    "\n",
    "# region = world\n",
    "# region = hubei\n",
    "# region = cruise[14:nrow(cruise),]\n",
    "\n",
    "head(region)"
   ]
  },
  {
   "cell_type": "markdown",
   "metadata": {},
   "source": [
    "<hr />"
   ]
  },
  {
   "cell_type": "code",
   "execution_count": 7,
   "metadata": {},
   "outputs": [
    {
     "data": {
      "text/html": [
       "<table>\n",
       "<thead><tr><th scope=col>Day</th><th scope=col>Confirmed</th><th scope=col>Active.Cases</th></tr></thead>\n",
       "<tbody>\n",
       "\t<tr><td> 1  </td><td> 104</td><td> 104</td></tr>\n",
       "\t<tr><td> 2  </td><td> 199</td><td> 196</td></tr>\n",
       "\t<tr><td> 3  </td><td> 371</td><td> 364</td></tr>\n",
       "\t<tr><td> 4  </td><td> 645</td><td> 636</td></tr>\n",
       "\t<tr><td> 5  </td><td>1017</td><td>1006</td></tr>\n",
       "\t<tr><td> 6  </td><td>1454</td><td>1435</td></tr>\n",
       "\t<tr><td> 7  </td><td>1955</td><td>1928</td></tr>\n",
       "\t<tr><td> 8  </td><td>2533</td><td>2493</td></tr>\n",
       "\t<tr><td> 9  </td><td>3238</td><td>3184</td></tr>\n",
       "\t<tr><td>10  </td><td>3996</td><td>3914</td></tr>\n",
       "</tbody>\n",
       "</table>\n"
      ],
      "text/latex": [
       "\\begin{tabular}{r|lll}\n",
       " Day & Confirmed & Active.Cases\\\\\n",
       "\\hline\n",
       "\t  1   &  104 &  104\\\\\n",
       "\t  2   &  199 &  196\\\\\n",
       "\t  3   &  371 &  364\\\\\n",
       "\t  4   &  645 &  636\\\\\n",
       "\t  5   & 1017 & 1006\\\\\n",
       "\t  6   & 1454 & 1435\\\\\n",
       "\t  7   & 1955 & 1928\\\\\n",
       "\t  8   & 2533 & 2493\\\\\n",
       "\t  9   & 3238 & 3184\\\\\n",
       "\t 10   & 3996 & 3914\\\\\n",
       "\\end{tabular}\n"
      ],
      "text/markdown": [
       "\n",
       "| Day | Confirmed | Active.Cases |\n",
       "|---|---|---|\n",
       "|  1   |  104 |  104 |\n",
       "|  2   |  199 |  196 |\n",
       "|  3   |  371 |  364 |\n",
       "|  4   |  645 |  636 |\n",
       "|  5   | 1017 | 1006 |\n",
       "|  6   | 1454 | 1435 |\n",
       "|  7   | 1955 | 1928 |\n",
       "|  8   | 2533 | 2493 |\n",
       "|  9   | 3238 | 3184 |\n",
       "| 10   | 3996 | 3914 |\n",
       "\n"
      ],
      "text/plain": [
       "   Day Confirmed Active.Cases\n",
       "1   1   104       104        \n",
       "2   2   199       196        \n",
       "3   3   371       364        \n",
       "4   4   645       636        \n",
       "5   5  1017      1006        \n",
       "6   6  1454      1435        \n",
       "7   7  1955      1928        \n",
       "8   8  2533      2493        \n",
       "9   9  3238      3184        \n",
       "10 10  3996      3914        "
      ]
     },
     "metadata": {},
     "output_type": "display_data"
    }
   ],
   "source": [
    "region=region[,c('Day','Confirmed','Active.Cases')]\n",
    "head(region, 10)"
   ]
  },
  {
   "cell_type": "code",
   "execution_count": 8,
   "metadata": {},
   "outputs": [],
   "source": [
    "# calculate the percent (using Confirmed cases as total)\n",
    "percent <- function(dfName){\n",
    "    get(dfName) -> df\n",
    "    part <- NULL\n",
    "    \n",
    "    for(i in 1:nrow(df)) {\n",
    "        val = df[i,\"Active.Cases\"]\n",
    "        Total = df[i,\"Confirmed\"]\n",
    "        \n",
    "        \n",
    "        if(i == 1)\n",
    "            if(val==0)\n",
    "                part = 0\n",
    "            else\n",
    "                part = as.numeric((val*100)/Total)\n",
    "        else\n",
    "            if(val==0)\n",
    "                part = c(part, 0)\n",
    "            else\n",
    "                part <- c(part, as.numeric((val*100)/Total))\n",
    "    }\n",
    "        \n",
    "    return(part)\n",
    "}"
   ]
  },
  {
   "cell_type": "markdown",
   "metadata": {},
   "source": [
    "<hr />"
   ]
  },
  {
   "cell_type": "code",
   "execution_count": 9,
   "metadata": {},
   "outputs": [],
   "source": [
    "# CASES -> percentage\n",
    "region$'percent_active' = percent(\"region\")     # Active cases, out of every 100 Confirmed cases\n",
    "region$'percent_closed' = 100-percent(\"region\") # Closed cases, out of every 100 Confirmed cases"
   ]
  },
  {
   "cell_type": "code",
   "execution_count": 10,
   "metadata": {},
   "outputs": [
    {
     "data": {
      "text/html": [
       "<table>\n",
       "<thead><tr><th scope=col>Day</th><th scope=col>Confirmed</th><th scope=col>Active.Cases</th><th scope=col>percent_active</th><th scope=col>percent_closed</th></tr></thead>\n",
       "<tbody>\n",
       "\t<tr><td>1        </td><td> 104     </td><td> 104     </td><td>100.00000</td><td>0.000000 </td></tr>\n",
       "\t<tr><td>2        </td><td> 199     </td><td> 196     </td><td> 98.49246</td><td>1.507538 </td></tr>\n",
       "\t<tr><td>3        </td><td> 371     </td><td> 364     </td><td> 98.11321</td><td>1.886792 </td></tr>\n",
       "\t<tr><td>4        </td><td> 645     </td><td> 636     </td><td> 98.60465</td><td>1.395349 </td></tr>\n",
       "\t<tr><td>5        </td><td>1017     </td><td>1006     </td><td> 98.91839</td><td>1.081613 </td></tr>\n",
       "\t<tr><td>6        </td><td>1454     </td><td>1435     </td><td> 98.69326</td><td>1.306740 </td></tr>\n",
       "</tbody>\n",
       "</table>\n"
      ],
      "text/latex": [
       "\\begin{tabular}{r|lllll}\n",
       " Day & Confirmed & Active.Cases & percent\\_active & percent\\_closed\\\\\n",
       "\\hline\n",
       "\t 1         &  104      &  104      & 100.00000 & 0.000000 \\\\\n",
       "\t 2         &  199      &  196      &  98.49246 & 1.507538 \\\\\n",
       "\t 3         &  371      &  364      &  98.11321 & 1.886792 \\\\\n",
       "\t 4         &  645      &  636      &  98.60465 & 1.395349 \\\\\n",
       "\t 5         & 1017      & 1006      &  98.91839 & 1.081613 \\\\\n",
       "\t 6         & 1454      & 1435      &  98.69326 & 1.306740 \\\\\n",
       "\\end{tabular}\n"
      ],
      "text/markdown": [
       "\n",
       "| Day | Confirmed | Active.Cases | percent_active | percent_closed |\n",
       "|---|---|---|---|---|\n",
       "| 1         |  104      |  104      | 100.00000 | 0.000000  |\n",
       "| 2         |  199      |  196      |  98.49246 | 1.507538  |\n",
       "| 3         |  371      |  364      |  98.11321 | 1.886792  |\n",
       "| 4         |  645      |  636      |  98.60465 | 1.395349  |\n",
       "| 5         | 1017      | 1006      |  98.91839 | 1.081613  |\n",
       "| 6         | 1454      | 1435      |  98.69326 | 1.306740  |\n",
       "\n"
      ],
      "text/plain": [
       "  Day Confirmed Active.Cases percent_active percent_closed\n",
       "1 1    104       104         100.00000      0.000000      \n",
       "2 2    199       196          98.49246      1.507538      \n",
       "3 3    371       364          98.11321      1.886792      \n",
       "4 4    645       636          98.60465      1.395349      \n",
       "5 5   1017      1006          98.91839      1.081613      \n",
       "6 6   1454      1435          98.69326      1.306740      "
      ]
     },
     "metadata": {},
     "output_type": "display_data"
    }
   ],
   "source": [
    "head(region)"
   ]
  },
  {
   "cell_type": "markdown",
   "metadata": {},
   "source": [
    "<br />* Dataset is ready"
   ]
  },
  {
   "cell_type": "markdown",
   "metadata": {},
   "source": [
    "<hr /><br />"
   ]
  },
  {
   "cell_type": "markdown",
   "metadata": {},
   "source": [
    "### Understanding the plot"
   ]
  },
  {
   "cell_type": "code",
   "execution_count": 11,
   "metadata": {},
   "outputs": [
    {
     "data": {
      "image/png": "[encoded data removed]",
      "text/plain": [
       "plot without title"
      ]
     },
     "metadata": {
      "image/png": {
       "height": 420,
       "width": 420
      },
      "text/plain": {
       "height": 420,
       "width": 420
      }
     },
     "output_type": "display_data"
    }
   ],
   "source": [
    "# Day vs %Closed Cases\n",
    "region.scatter.plot <- ggplot(region, aes(x = region$Day, y = region$percent_active)) +\n",
    "                        geom_point()\n",
    "region.scatter.plot"
   ]
  },
  {
   "cell_type": "code",
   "execution_count": 12,
   "metadata": {},
   "outputs": [
    {
     "data": {
      "text/html": [
       "<table>\n",
       "<thead><tr><th scope=col>Day</th><th scope=col>Confirmed</th><th scope=col>Active.Cases</th><th scope=col>percent_active</th><th scope=col>percent_closed</th></tr></thead>\n",
       "<tbody>\n",
       "\t<tr><td>51      </td><td>13151   </td><td>452     </td><td>3.437001</td><td>96.56300</td></tr>\n",
       "\t<tr><td>52      </td><td>13159   </td><td>398     </td><td>3.024546</td><td>96.97545</td></tr>\n",
       "\t<tr><td>53      </td><td>13187   </td><td>369     </td><td>2.798210</td><td>97.20179</td></tr>\n",
       "\t<tr><td>54      </td><td>13209   </td><td>362     </td><td>2.740556</td><td>97.25944</td></tr>\n",
       "\t<tr><td>55      </td><td>13235   </td><td>349     </td><td>2.636947</td><td>97.36305</td></tr>\n",
       "\t<tr><td>56      </td><td>13259   </td><td>345     </td><td>2.602006</td><td>97.39799</td></tr>\n",
       "</tbody>\n",
       "</table>\n"
      ],
      "text/latex": [
       "\\begin{tabular}{r|lllll}\n",
       " Day & Confirmed & Active.Cases & percent\\_active & percent\\_closed\\\\\n",
       "\\hline\n",
       "\t 51       & 13151    & 452      & 3.437001 & 96.56300\\\\\n",
       "\t 52       & 13159    & 398      & 3.024546 & 96.97545\\\\\n",
       "\t 53       & 13187    & 369      & 2.798210 & 97.20179\\\\\n",
       "\t 54       & 13209    & 362      & 2.740556 & 97.25944\\\\\n",
       "\t 55       & 13235    & 349      & 2.636947 & 97.36305\\\\\n",
       "\t 56       & 13259    & 345      & 2.602006 & 97.39799\\\\\n",
       "\\end{tabular}\n"
      ],
      "text/markdown": [
       "\n",
       "| Day | Confirmed | Active.Cases | percent_active | percent_closed |\n",
       "|---|---|---|---|---|\n",
       "| 51       | 13151    | 452      | 3.437001 | 96.56300 |\n",
       "| 52       | 13159    | 398      | 3.024546 | 96.97545 |\n",
       "| 53       | 13187    | 369      | 2.798210 | 97.20179 |\n",
       "| 54       | 13209    | 362      | 2.740556 | 97.25944 |\n",
       "| 55       | 13235    | 349      | 2.636947 | 97.36305 |\n",
       "| 56       | 13259    | 345      | 2.602006 | 97.39799 |\n",
       "\n"
      ],
      "text/plain": [
       "  Day Confirmed Active.Cases percent_active percent_closed\n",
       "1 51  13151     452          3.437001       96.56300      \n",
       "2 52  13159     398          3.024546       96.97545      \n",
       "3 53  13187     369          2.798210       97.20179      \n",
       "4 54  13209     362          2.740556       97.25944      \n",
       "5 55  13235     349          2.636947       97.36305      \n",
       "6 56  13259     345          2.602006       97.39799      "
      ]
     },
     "metadata": {},
     "output_type": "display_data"
    }
   ],
   "source": [
    "tail(region)"
   ]
  },
  {
   "cell_type": "markdown",
   "metadata": {},
   "source": [
    "<br /><hr /><br />"
   ]
  },
  {
   "cell_type": "markdown",
   "metadata": {},
   "source": [
    "## Data-Analysis <br />"
   ]
  },
  {
   "cell_type": "code",
   "execution_count": 13,
   "metadata": {},
   "outputs": [
    {
     "name": "stderr",
     "output_type": "stream",
     "text": [
      "Registered S3 method overwritten by 'rvest':\n",
      "  method            from\n",
      "  read_xml.response xml2\n",
      "\n",
      "── \u001b[1mAttaching packages\u001b[22m ─────────────────────────────────────── tidyverse 1.2.1 ──\n",
      "\n",
      "\u001b[32m✔\u001b[39m \u001b[34mtibble \u001b[39m 2.1.1     \u001b[32m✔\u001b[39m \u001b[34mpurrr  \u001b[39m 0.3.3\n",
      "\u001b[32m✔\u001b[39m \u001b[34mtidyr  \u001b[39m 1.0.2     \u001b[32m✔\u001b[39m \u001b[34mdplyr  \u001b[39m 0.8.3\n",
      "\u001b[32m✔\u001b[39m \u001b[34mtibble \u001b[39m 2.1.1     \u001b[32m✔\u001b[39m \u001b[34mforcats\u001b[39m 0.4.0\n",
      "\n",
      "── \u001b[1mConflicts\u001b[22m ────────────────────────────────────────── tidyverse_conflicts() ──\n",
      "\u001b[31m✖\u001b[39m \u001b[34mdplyr\u001b[39m::\u001b[32mfilter()\u001b[39m masks \u001b[34mstats\u001b[39m::filter()\n",
      "\u001b[31m✖\u001b[39m \u001b[34mdplyr\u001b[39m::\u001b[32mlag()\u001b[39m    masks \u001b[34mstats\u001b[39m::lag()\n",
      "\n",
      "Loading required package: lattice\n",
      "\n",
      "\n",
      "Attaching package: ‘caret’\n",
      "\n",
      "\n",
      "The following object is masked from ‘package:purrr’:\n",
      "\n",
      "    lift\n",
      "\n",
      "\n"
     ]
    }
   ],
   "source": [
    "# loading plotting/machine learning\n",
    "library(tidyverse)\n",
    "library(caret)\n",
    "\n",
    "# setting the theme\n",
    "theme_set(theme_classic())"
   ]
  },
  {
   "cell_type": "code",
   "execution_count": 14,
   "metadata": {},
   "outputs": [],
   "source": [
    "set.seed(20) # generages same set of random sample every time\n",
    "\n",
    "training.samples <- region$Day %>%\n",
    "  createDataPartition(p = 0.8, list = FALSE)\n",
    "\n",
    "train.data  <- region[training.samples, ]\n",
    "test.data <- region[-training.samples, ]"
   ]
  },
  {
   "cell_type": "code",
   "execution_count": 15,
   "metadata": {},
   "outputs": [
    {
     "data": {
      "text/html": [
       "<table>\n",
       "<thead><tr><th scope=col>Day</th><th scope=col>Confirmed</th><th scope=col>Active.Cases</th><th scope=col>percent_active</th><th scope=col>percent_closed</th></tr></thead>\n",
       "<tbody>\n",
       "\t<tr><td>2       </td><td>199     </td><td>196     </td><td>98.49246</td><td>1.507538</td></tr>\n",
       "\t<tr><td>3       </td><td>371     </td><td>364     </td><td>98.11321</td><td>1.886792</td></tr>\n",
       "\t<tr><td>4       </td><td>645     </td><td>636     </td><td>98.60465</td><td>1.395349</td></tr>\n",
       "</tbody>\n",
       "</table>\n"
      ],
      "text/latex": [
       "\\begin{tabular}{r|lllll}\n",
       " Day & Confirmed & Active.Cases & percent\\_active & percent\\_closed\\\\\n",
       "\\hline\n",
       "\t 2        & 199      & 196      & 98.49246 & 1.507538\\\\\n",
       "\t 3        & 371      & 364      & 98.11321 & 1.886792\\\\\n",
       "\t 4        & 645      & 636      & 98.60465 & 1.395349\\\\\n",
       "\\end{tabular}\n"
      ],
      "text/markdown": [
       "\n",
       "| Day | Confirmed | Active.Cases | percent_active | percent_closed |\n",
       "|---|---|---|---|---|\n",
       "| 2        | 199      | 196      | 98.49246 | 1.507538 |\n",
       "| 3        | 371      | 364      | 98.11321 | 1.886792 |\n",
       "| 4        | 645      | 636      | 98.60465 | 1.395349 |\n",
       "\n"
      ],
      "text/plain": [
       "  Day Confirmed Active.Cases percent_active percent_closed\n",
       "1 2   199       196          98.49246       1.507538      \n",
       "2 3   371       364          98.11321       1.886792      \n",
       "3 4   645       636          98.60465       1.395349      "
      ]
     },
     "metadata": {},
     "output_type": "display_data"
    },
    {
     "data": {
      "text/html": [
       "<table>\n",
       "<thead><tr><th scope=col>Day</th><th scope=col>Confirmed</th><th scope=col>Active.Cases</th><th scope=col>percent_active</th><th scope=col>percent_closed</th></tr></thead>\n",
       "<tbody>\n",
       "\t<tr><td> 1       </td><td>  104    </td><td> 104     </td><td>100.00000</td><td> 0.000000</td></tr>\n",
       "\t<tr><td>10       </td><td> 3996    </td><td>3914     </td><td> 97.94795</td><td> 2.052052</td></tr>\n",
       "\t<tr><td>21       </td><td>11020    </td><td>8979     </td><td> 81.47913</td><td>18.520871</td></tr>\n",
       "</tbody>\n",
       "</table>\n"
      ],
      "text/latex": [
       "\\begin{tabular}{r|lllll}\n",
       " Day & Confirmed & Active.Cases & percent\\_active & percent\\_closed\\\\\n",
       "\\hline\n",
       "\t  1        &   104     &  104      & 100.00000 &  0.000000\\\\\n",
       "\t 10        &  3996     & 3914      &  97.94795 &  2.052052\\\\\n",
       "\t 21        & 11020     & 8979      &  81.47913 & 18.520871\\\\\n",
       "\\end{tabular}\n"
      ],
      "text/markdown": [
       "\n",
       "| Day | Confirmed | Active.Cases | percent_active | percent_closed |\n",
       "|---|---|---|---|---|\n",
       "|  1        |   104     |  104      | 100.00000 |  0.000000 |\n",
       "| 10        |  3996     | 3914      |  97.94795 |  2.052052 |\n",
       "| 21        | 11020     | 8979      |  81.47913 | 18.520871 |\n",
       "\n"
      ],
      "text/plain": [
       "  Day Confirmed Active.Cases percent_active percent_closed\n",
       "1  1    104      104         100.00000       0.000000     \n",
       "2 10   3996     3914          97.94795       2.052052     \n",
       "3 21  11020     8979          81.47913      18.520871     "
      ]
     },
     "metadata": {},
     "output_type": "display_data"
    }
   ],
   "source": [
    "head(train.data, 3)\n",
    "head(test.data, 3)"
   ]
  },
  {
   "cell_type": "code",
   "execution_count": 16,
   "metadata": {},
   "outputs": [
    {
     "name": "stderr",
     "output_type": "stream",
     "text": [
      "`geom_smooth()` using method = 'loess' and formula 'y ~ x'\n",
      "\n"
     ]
    },
    {
     "data": {
      "image/png": "[encoded data removed]",
      "text/plain": [
       "plot without title"
      ]
     },
     "metadata": {
      "image/png": {
       "height": 420,
       "width": 420
      },
      "text/plain": {
       "height": 420,
       "width": 420
      }
     },
     "output_type": "display_data"
    }
   ],
   "source": [
    "ggplot(train.data, aes(Day, percent_active) ) +\n",
    "  geom_point() +\n",
    "  stat_smooth()"
   ]
  },
  {
   "cell_type": "markdown",
   "metadata": {},
   "source": [
    "<br /><hr /><br />"
   ]
  },
  {
   "cell_type": "markdown",
   "metadata": {},
   "source": [
    "## Regrassion"
   ]
  },
  {
   "cell_type": "markdown",
   "metadata": {},
   "source": [
    "1. ### Linear regression"
   ]
  },
  {
   "cell_type": "code",
   "execution_count": 20,
   "metadata": {},
   "outputs": [],
   "source": [
    "# y = x\n",
    "# Build the model\n",
    "\n",
    "# pridiction by linear model\n",
    "fit = lm(Day ~ percent_active, data = train.data)"
   ]
  },
  {
   "cell_type": "code",
   "execution_count": 21,
   "metadata": {},
   "outputs": [],
   "source": [
    "# Predicting\n",
    "predictions <- fit %>% predict(train.data)"
   ]
  },
  {
   "cell_type": "code",
   "execution_count": 22,
   "metadata": {},
   "outputs": [
    {
     "data": {
      "text/html": [
       "<table>\n",
       "<thead><tr><th scope=col>RMSE</th><th scope=col>R2</th></tr></thead>\n",
       "<tbody>\n",
       "\t<tr><td>3.363763 </td><td>0.9557099</td></tr>\n",
       "</tbody>\n",
       "</table>\n"
      ],
      "text/latex": [
       "\\begin{tabular}{r|ll}\n",
       " RMSE & R2\\\\\n",
       "\\hline\n",
       "\t 3.363763  & 0.9557099\\\\\n",
       "\\end{tabular}\n"
      ],
      "text/markdown": [
       "\n",
       "| RMSE | R2 |\n",
       "|---|---|\n",
       "| 3.363763  | 0.9557099 |\n",
       "\n"
      ],
      "text/plain": [
       "  RMSE     R2       \n",
       "1 3.363763 0.9557099"
      ]
     },
     "metadata": {},
     "output_type": "display_data"
    }
   ],
   "source": [
    "# Model performance\n",
    "data.frame(\n",
    "  RMSE = RMSE(predictions, train.data$Day),\n",
    "  R2 = R2(predictions, train.data$Day)\n",
    ")"
   ]
  },
  {
   "cell_type": "markdown",
   "metadata": {},
   "source": [
    "<br />"
   ]
  },
  {
   "cell_type": "code",
   "execution_count": 23,
   "metadata": {},
   "outputs": [
    {
     "data": {
      "image/png": "[encoded data removed]",
      "text/plain": [
       "plot without title"
      ]
     },
     "metadata": {
      "image/png": {
       "height": 420,
       "width": 420
      },
      "text/plain": {
       "height": 420,
       "width": 420
      }
     },
     "output_type": "display_data"
    }
   ],
   "source": [
    "trainer <- ggplot(train.data, aes(Day, percent_active) ) +\n",
    "              geom_point() +\n",
    "              stat_smooth(method = lm, formula = y ~ x) +   # linear function\n",
    "  \n",
    "              # decoration\n",
    "              labs( x = \"Days\", y = \"Active Cases (%)\", title = paste(\"\\nTraining plot\", rName, sep = \" - \") ) +\n",
    "              theme( plot.title = element_text(size = 20, face = \"bold\")) \n",
    "trainer"
   ]
  },
  {
   "cell_type": "code",
   "execution_count": 24,
   "metadata": {},
   "outputs": [
    {
     "data": {
      "image/png": "[encoded data removed]",
      "text/plain": [
       "plot without title"
      ]
     },
     "metadata": {
      "image/png": {
       "height": 420,
       "width": 420
      },
      "text/plain": {
       "height": 420,
       "width": 420
      }
     },
     "output_type": "display_data"
    }
   ],
   "source": [
    "tester <- ggplot(test.data, aes(Day, percent_active) ) +\n",
    "              geom_point() +\n",
    "              stat_smooth(method = lm, formula = y ~ x) +   # linear function\n",
    "  \n",
    "              # decoration\n",
    "              labs( x = \"Days\", y = \"Active Cases (%)\", title = paste(\"\\nTesting plot\", rName, sep = \" - \") ) +\n",
    "              theme( plot.title = element_text(size = 20, face = \"bold\")) \n",
    "tester"
   ]
  },
  {
   "cell_type": "code",
   "execution_count": 25,
   "metadata": {},
   "outputs": [],
   "source": [
    "\n",
    "### can be TESTED in case of any problem in the ABOVE PLOT ###\n",
    "\n",
    "#  # pridiction by linear model\n",
    "#  pred <- predict(fit)   # fitting the model\n",
    "#\n",
    "#  plot(percent_active ~ Day, data = test.data)     #  \"data = train.data\"    is also possible\n",
    "#  lines(train.data$Day, y=pred, col = \"blue\")\n"
   ]
  },
  {
   "cell_type": "markdown",
   "metadata": {},
   "source": [
    "<br />"
   ]
  },
  {
   "cell_type": "code",
   "execution_count": 32,
   "metadata": {},
   "outputs": [
    {
     "data": {
      "text/html": [
       "<table>\n",
       "<thead><tr><th></th><th scope=col>Day</th><th scope=col>percent_active</th><th scope=col>Pridicted_percent_closed</th></tr></thead>\n",
       "<tbody>\n",
       "\t<tr><th scope=row>39</th><td>45      </td><td>8.199725</td><td>47.26220</td></tr>\n",
       "\t<tr><th scope=row>40</th><td>46      </td><td>7.264957</td><td>47.64965</td></tr>\n",
       "\t<tr><th scope=row>41</th><td>47      </td><td>6.473010</td><td>47.97791</td></tr>\n",
       "\t<tr><th scope=row>42</th><td>48      </td><td>5.229854</td><td>48.49319</td></tr>\n",
       "\t<tr><th scope=row>43</th><td>49      </td><td>4.372667</td><td>48.84848</td></tr>\n",
       "\t<tr><th scope=row>44</th><td>51      </td><td>3.437001</td><td>49.23631</td></tr>\n",
       "\t<tr><th scope=row>45</th><td>52      </td><td>3.024546</td><td>49.40727</td></tr>\n",
       "\t<tr><th scope=row>46</th><td>54      </td><td>2.740556</td><td>49.52498</td></tr>\n",
       "\t<tr><th scope=row>47</th><td>55      </td><td>2.636947</td><td>49.56792</td></tr>\n",
       "\t<tr><th scope=row>48</th><td>56      </td><td>2.602006</td><td>49.58240</td></tr>\n",
       "</tbody>\n",
       "</table>\n"
      ],
      "text/latex": [
       "\\begin{tabular}{r|lll}\n",
       "  & Day & percent\\_active & Pridicted\\_percent\\_closed\\\\\n",
       "\\hline\n",
       "\t39 & 45       & 8.199725 & 47.26220\\\\\n",
       "\t40 & 46       & 7.264957 & 47.64965\\\\\n",
       "\t41 & 47       & 6.473010 & 47.97791\\\\\n",
       "\t42 & 48       & 5.229854 & 48.49319\\\\\n",
       "\t43 & 49       & 4.372667 & 48.84848\\\\\n",
       "\t44 & 51       & 3.437001 & 49.23631\\\\\n",
       "\t45 & 52       & 3.024546 & 49.40727\\\\\n",
       "\t46 & 54       & 2.740556 & 49.52498\\\\\n",
       "\t47 & 55       & 2.636947 & 49.56792\\\\\n",
       "\t48 & 56       & 2.602006 & 49.58240\\\\\n",
       "\\end{tabular}\n"
      ],
      "text/markdown": [
       "\n",
       "| <!--/--> | Day | percent_active | Pridicted_percent_closed |\n",
       "|---|---|---|---|\n",
       "| 39 | 45       | 8.199725 | 47.26220 |\n",
       "| 40 | 46       | 7.264957 | 47.64965 |\n",
       "| 41 | 47       | 6.473010 | 47.97791 |\n",
       "| 42 | 48       | 5.229854 | 48.49319 |\n",
       "| 43 | 49       | 4.372667 | 48.84848 |\n",
       "| 44 | 51       | 3.437001 | 49.23631 |\n",
       "| 45 | 52       | 3.024546 | 49.40727 |\n",
       "| 46 | 54       | 2.740556 | 49.52498 |\n",
       "| 47 | 55       | 2.636947 | 49.56792 |\n",
       "| 48 | 56       | 2.602006 | 49.58240 |\n",
       "\n"
      ],
      "text/plain": [
       "   Day percent_active Pridicted_percent_closed\n",
       "39 45  8.199725       47.26220                \n",
       "40 46  7.264957       47.64965                \n",
       "41 47  6.473010       47.97791                \n",
       "42 48  5.229854       48.49319                \n",
       "43 49  4.372667       48.84848                \n",
       "44 51  3.437001       49.23631                \n",
       "45 52  3.024546       49.40727                \n",
       "46 54  2.740556       49.52498                \n",
       "47 55  2.636947       49.56792                \n",
       "48 56  2.602006       49.58240                "
      ]
     },
     "metadata": {},
     "output_type": "display_data"
    },
    {
     "data": {
      "text/html": [
       "<table>\n",
       "<thead><tr><th scope=col>Day</th><th scope=col>percent_active</th><th scope=col>Pridicted_percent_closed</th></tr></thead>\n",
       "<tbody>\n",
       "\t<tr><td> 1        </td><td>100.000000</td><td> 9.211835 </td></tr>\n",
       "\t<tr><td>10        </td><td> 97.947948</td><td>10.062392 </td></tr>\n",
       "\t<tr><td>21        </td><td> 81.479129</td><td>16.888565 </td></tr>\n",
       "\t<tr><td>27        </td><td> 62.434713</td><td>24.782300 </td></tr>\n",
       "\t<tr><td>36        </td><td> 28.985284</td><td>38.646780 </td></tr>\n",
       "\t<tr><td>38        </td><td> 22.898417</td><td>41.169730 </td></tr>\n",
       "\t<tr><td>50        </td><td>  3.977791</td><td>49.012154 </td></tr>\n",
       "\t<tr><td>53        </td><td>  2.798210</td><td>49.501080 </td></tr>\n",
       "</tbody>\n",
       "</table>\n"
      ],
      "text/latex": [
       "\\begin{tabular}{r|lll}\n",
       " Day & percent\\_active & Pridicted\\_percent\\_closed\\\\\n",
       "\\hline\n",
       "\t  1         & 100.000000 &  9.211835 \\\\\n",
       "\t 10         &  97.947948 & 10.062392 \\\\\n",
       "\t 21         &  81.479129 & 16.888565 \\\\\n",
       "\t 27         &  62.434713 & 24.782300 \\\\\n",
       "\t 36         &  28.985284 & 38.646780 \\\\\n",
       "\t 38         &  22.898417 & 41.169730 \\\\\n",
       "\t 50         &   3.977791 & 49.012154 \\\\\n",
       "\t 53         &   2.798210 & 49.501080 \\\\\n",
       "\\end{tabular}\n"
      ],
      "text/markdown": [
       "\n",
       "| Day | percent_active | Pridicted_percent_closed |\n",
       "|---|---|---|\n",
       "|  1         | 100.000000 |  9.211835  |\n",
       "| 10         |  97.947948 | 10.062392  |\n",
       "| 21         |  81.479129 | 16.888565  |\n",
       "| 27         |  62.434713 | 24.782300  |\n",
       "| 36         |  28.985284 | 38.646780  |\n",
       "| 38         |  22.898417 | 41.169730  |\n",
       "| 50         |   3.977791 | 49.012154  |\n",
       "| 53         |   2.798210 | 49.501080  |\n",
       "\n"
      ],
      "text/plain": [
       "  Day percent_active Pridicted_percent_closed\n",
       "1  1  100.000000      9.211835               \n",
       "2 10   97.947948     10.062392               \n",
       "3 21   81.479129     16.888565               \n",
       "4 27   62.434713     24.782300               \n",
       "5 36   28.985284     38.646780               \n",
       "6 38   22.898417     41.169730               \n",
       "7 50    3.977791     49.012154               \n",
       "8 53    2.798210     49.501080               "
      ]
     },
     "metadata": {},
     "output_type": "display_data"
    }
   ],
   "source": [
    "trained = cbind( # Prediction for training data\n",
    "            train.data[,c(\"Day\", \"percent_active\")],\n",
    "            Pridicted_percent_active = predict(fit, train.data)\n",
    "          )\n",
    "\n",
    "tested = cbind(  # Prediction for tested data\n",
    "            test.data[,c(\"Day\", \"percent_active\")],\n",
    "            Pridicted_percent_active = predict(fit, test.data)\n",
    "         )\n",
    "\n",
    "\n",
    "tail(trained, 10)\n",
    "tail(tested, 10)"
   ]
  },
  {
   "cell_type": "markdown",
   "metadata": {},
   "source": [
    "<br />"
   ]
  },
  {
   "cell_type": "markdown",
   "metadata": {},
   "source": [
    "2. ### Polynomial regression"
   ]
  },
  {
   "cell_type": "code",
   "execution_count": 33,
   "metadata": {},
   "outputs": [],
   "source": [
    "# y = x + I(x^2)...   ---->   a polynomial function\n",
    "deg = 16        # degree of polynomial\n",
    "\n",
    "# better and alternate way for line i.e. above\n",
    "model = lm(percent_active ~ poly(Day, deg, raw = TRUE), data = train.data)"
   ]
  },
  {
   "cell_type": "code",
   "execution_count": 34,
   "metadata": {},
   "outputs": [],
   "source": [
    "#head(test.data)\n",
    "#head(train.data)"
   ]
  },
  {
   "cell_type": "code",
   "execution_count": 35,
   "metadata": {},
   "outputs": [
    {
     "name": "stderr",
     "output_type": "stream",
     "text": [
      "Warning message in predict.lm(., train.data):\n",
      "“prediction from a rank-deficient fit may be misleading”\n"
     ]
    }
   ],
   "source": [
    "predictions <- model %>% predict(train.data)"
   ]
  },
  {
   "cell_type": "code",
   "execution_count": 36,
   "metadata": {},
   "outputs": [
    {
     "data": {
      "text/html": [
       "<table>\n",
       "<thead><tr><th scope=col>RMSE</th><th scope=col>R2</th></tr></thead>\n",
       "<tbody>\n",
       "\t<tr><td>59.21731 </td><td>0.9557325</td></tr>\n",
       "</tbody>\n",
       "</table>\n"
      ],
      "text/latex": [
       "\\begin{tabular}{r|ll}\n",
       " RMSE & R2\\\\\n",
       "\\hline\n",
       "\t 59.21731  & 0.9557325\\\\\n",
       "\\end{tabular}\n"
      ],
      "text/markdown": [
       "\n",
       "| RMSE | R2 |\n",
       "|---|---|\n",
       "| 59.21731  | 0.9557325 |\n",
       "\n"
      ],
      "text/plain": [
       "  RMSE     R2       \n",
       "1 59.21731 0.9557325"
      ]
     },
     "metadata": {},
     "output_type": "display_data"
    }
   ],
   "source": [
    "# Model performance\n",
    "data.frame(\n",
    "  RMSE = RMSE(predictions, train.data$Day),\n",
    "  R2 = R2(predictions, train.data$Day)\n",
    ")"
   ]
  },
  {
   "cell_type": "markdown",
   "metadata": {},
   "source": [
    "<br /><br />"
   ]
  },
  {
   "cell_type": "code",
   "execution_count": 37,
   "metadata": {},
   "outputs": [
    {
     "name": "stderr",
     "output_type": "stream",
     "text": [
      "Warning message in predict.lm(model, newdata = data.frame(x = xseq), se.fit = se, :\n",
      "“prediction from a rank-deficient fit may be misleading”\n"
     ]
    },
    {
     "data": {
      "image/png": "[encoded data removed]",
      "text/plain": [
       "plot without title"
      ]
     },
     "metadata": {
      "image/png": {
       "height": 420,
       "width": 420
      },
      "text/plain": {
       "height": 420,
       "width": 420
      }
     },
     "output_type": "display_data"
    }
   ],
   "source": [
    "trainer <- ggplot(train.data, aes(Day, percent_active) ) +\n",
    "              geom_point() +\n",
    "              stat_smooth(method = lm, formula = y ~ poly(x, deg, raw = TRUE)) +   # polynomial function\n",
    "  \n",
    "              # decoration\n",
    "              labs( x = \"Days\", y = \"Active Cases (%)\", title = paste(\"\\nTraining plot\", rName, sep = \" - \") ) +\n",
    "              theme( plot.title = element_text(size = 20, face = \"bold\")) \n",
    "trainer"
   ]
  },
  {
   "cell_type": "code",
   "execution_count": 38,
   "metadata": {},
   "outputs": [
    {
     "name": "stderr",
     "output_type": "stream",
     "text": [
      "Warning message in predict.lm(model, newdata = data.frame(x = xseq), se.fit = se, :\n",
      "“prediction from a rank-deficient fit may be misleading”\n",
      "Warning message in qt((1 - level)/2, df):\n",
      "“NaNs produced”\n"
     ]
    },
    {
     "data": {
      "image/png": "[encoded data removed]",
      "text/plain": [
       "plot without title"
      ]
     },
     "metadata": {
      "image/png": {
       "height": 420,
       "width": 420
      },
      "text/plain": {
       "height": 420,
       "width": 420
      }
     },
     "output_type": "display_data"
    }
   ],
   "source": [
    "tester <- ggplot(test.data, aes(Day, percent_active) ) +\n",
    "              geom_point() +\n",
    "              stat_smooth(method = lm, formula = y ~ poly(x, deg, raw = TRUE)) +   # polynomial function\n",
    "  \n",
    "              # decoration\n",
    "              labs( x = \"Days\", y = \"Active Cases (%)\", title = paste(\"\\nTesting plot\", rName, sep = \" - \") ) +\n",
    "              theme( plot.title = element_text(size = 20, face = \"bold\")) \n",
    "tester"
   ]
  },
  {
   "cell_type": "code",
   "execution_count": 39,
   "metadata": {},
   "outputs": [],
   "source": [
    "\n",
    "### can be TESTED in case of any problem in the ABOVE PLOT ###\n",
    "\n",
    "#  # pridiction by polynomial model\n",
    "#  pred <- predict(model)   # fitting the model\n",
    "#\n",
    "#  plot(percent_active ~ Day, data = test.data)     #  \"data = train.data\"    is also possible\n",
    "#  lines(train.data$Day, y=pred, col = \"blue\")\n"
   ]
  },
  {
   "cell_type": "markdown",
   "metadata": {},
   "source": [
    "<br /><br />"
   ]
  },
  {
   "cell_type": "code",
   "execution_count": 42,
   "metadata": {},
   "outputs": [
    {
     "name": "stderr",
     "output_type": "stream",
     "text": [
      "Warning message in predict.lm(model, train.data):\n",
      "“prediction from a rank-deficient fit may be misleading”\n",
      "Warning message in predict.lm(model, test.data):\n",
      "“prediction from a rank-deficient fit may be misleading”\n"
     ]
    },
    {
     "data": {
      "text/html": [
       "<table>\n",
       "<thead><tr><th></th><th scope=col>Day</th><th scope=col>percent_active</th><th scope=col>Pridicted_percent_active</th></tr></thead>\n",
       "<tbody>\n",
       "\t<tr><th scope=row>39</th><td>45      </td><td>8.199725</td><td>8.320738</td></tr>\n",
       "\t<tr><th scope=row>40</th><td>46      </td><td>7.264957</td><td>7.155676</td></tr>\n",
       "\t<tr><th scope=row>41</th><td>47      </td><td>6.473010</td><td>6.170304</td></tr>\n",
       "\t<tr><th scope=row>42</th><td>48      </td><td>5.229854</td><td>5.324524</td></tr>\n",
       "\t<tr><th scope=row>43</th><td>49      </td><td>4.372667</td><td>4.585161</td></tr>\n",
       "\t<tr><th scope=row>44</th><td>51      </td><td>3.437001</td><td>3.397196</td></tr>\n",
       "\t<tr><th scope=row>45</th><td>52      </td><td>3.024546</td><td>2.995362</td></tr>\n",
       "\t<tr><th scope=row>46</th><td>54      </td><td>2.740556</td><td>2.697515</td></tr>\n",
       "\t<tr><th scope=row>47</th><td>55      </td><td>2.636947</td><td>2.698051</td></tr>\n",
       "\t<tr><th scope=row>48</th><td>56      </td><td>2.602006</td><td>2.583223</td></tr>\n",
       "</tbody>\n",
       "</table>\n"
      ],
      "text/latex": [
       "\\begin{tabular}{r|lll}\n",
       "  & Day & percent\\_active & Pridicted\\_percent\\_active\\\\\n",
       "\\hline\n",
       "\t39 & 45       & 8.199725 & 8.320738\\\\\n",
       "\t40 & 46       & 7.264957 & 7.155676\\\\\n",
       "\t41 & 47       & 6.473010 & 6.170304\\\\\n",
       "\t42 & 48       & 5.229854 & 5.324524\\\\\n",
       "\t43 & 49       & 4.372667 & 4.585161\\\\\n",
       "\t44 & 51       & 3.437001 & 3.397196\\\\\n",
       "\t45 & 52       & 3.024546 & 2.995362\\\\\n",
       "\t46 & 54       & 2.740556 & 2.697515\\\\\n",
       "\t47 & 55       & 2.636947 & 2.698051\\\\\n",
       "\t48 & 56       & 2.602006 & 2.583223\\\\\n",
       "\\end{tabular}\n"
      ],
      "text/markdown": [
       "\n",
       "| <!--/--> | Day | percent_active | Pridicted_percent_active |\n",
       "|---|---|---|---|\n",
       "| 39 | 45       | 8.199725 | 8.320738 |\n",
       "| 40 | 46       | 7.264957 | 7.155676 |\n",
       "| 41 | 47       | 6.473010 | 6.170304 |\n",
       "| 42 | 48       | 5.229854 | 5.324524 |\n",
       "| 43 | 49       | 4.372667 | 4.585161 |\n",
       "| 44 | 51       | 3.437001 | 3.397196 |\n",
       "| 45 | 52       | 3.024546 | 2.995362 |\n",
       "| 46 | 54       | 2.740556 | 2.697515 |\n",
       "| 47 | 55       | 2.636947 | 2.698051 |\n",
       "| 48 | 56       | 2.602006 | 2.583223 |\n",
       "\n"
      ],
      "text/plain": [
       "   Day percent_active Pridicted_percent_active\n",
       "39 45  8.199725       8.320738                \n",
       "40 46  7.264957       7.155676                \n",
       "41 47  6.473010       6.170304                \n",
       "42 48  5.229854       5.324524                \n",
       "43 49  4.372667       4.585161                \n",
       "44 51  3.437001       3.397196                \n",
       "45 52  3.024546       2.995362                \n",
       "46 54  2.740556       2.697515                \n",
       "47 55  2.636947       2.698051                \n",
       "48 56  2.602006       2.583223                "
      ]
     },
     "metadata": {},
     "output_type": "display_data"
    },
    {
     "data": {
      "text/html": [
       "<table>\n",
       "<thead><tr><th scope=col>Day</th><th scope=col>percent_active</th><th scope=col>Pridicted_percent_active</th></tr></thead>\n",
       "<tbody>\n",
       "\t<tr><td> 1        </td><td>100.000000</td><td>103.97304 </td></tr>\n",
       "\t<tr><td>10        </td><td> 97.947948</td><td> 97.92171 </td></tr>\n",
       "\t<tr><td>21        </td><td> 81.479129</td><td> 81.17207 </td></tr>\n",
       "\t<tr><td>27        </td><td> 62.434713</td><td> 62.22960 </td></tr>\n",
       "\t<tr><td>36        </td><td> 28.985284</td><td> 28.61583 </td></tr>\n",
       "\t<tr><td>38        </td><td> 22.898417</td><td> 22.74485 </td></tr>\n",
       "\t<tr><td>50        </td><td>  3.977791</td><td>  3.93847 </td></tr>\n",
       "\t<tr><td>53        </td><td>  2.798210</td><td>  2.76529 </td></tr>\n",
       "</tbody>\n",
       "</table>\n"
      ],
      "text/latex": [
       "\\begin{tabular}{r|lll}\n",
       " Day & percent\\_active & Pridicted\\_percent\\_active\\\\\n",
       "\\hline\n",
       "\t  1         & 100.000000 & 103.97304 \\\\\n",
       "\t 10         &  97.947948 &  97.92171 \\\\\n",
       "\t 21         &  81.479129 &  81.17207 \\\\\n",
       "\t 27         &  62.434713 &  62.22960 \\\\\n",
       "\t 36         &  28.985284 &  28.61583 \\\\\n",
       "\t 38         &  22.898417 &  22.74485 \\\\\n",
       "\t 50         &   3.977791 &   3.93847 \\\\\n",
       "\t 53         &   2.798210 &   2.76529 \\\\\n",
       "\\end{tabular}\n"
      ],
      "text/markdown": [
       "\n",
       "| Day | percent_active | Pridicted_percent_active |\n",
       "|---|---|---|\n",
       "|  1         | 100.000000 | 103.97304  |\n",
       "| 10         |  97.947948 |  97.92171  |\n",
       "| 21         |  81.479129 |  81.17207  |\n",
       "| 27         |  62.434713 |  62.22960  |\n",
       "| 36         |  28.985284 |  28.61583  |\n",
       "| 38         |  22.898417 |  22.74485  |\n",
       "| 50         |   3.977791 |   3.93847  |\n",
       "| 53         |   2.798210 |   2.76529  |\n",
       "\n"
      ],
      "text/plain": [
       "  Day percent_active Pridicted_percent_active\n",
       "1  1  100.000000     103.97304               \n",
       "2 10   97.947948      97.92171               \n",
       "3 21   81.479129      81.17207               \n",
       "4 27   62.434713      62.22960               \n",
       "5 36   28.985284      28.61583               \n",
       "6 38   22.898417      22.74485               \n",
       "7 50    3.977791       3.93847               \n",
       "8 53    2.798210       2.76529               "
      ]
     },
     "metadata": {},
     "output_type": "display_data"
    }
   ],
   "source": [
    "trained = cbind( # Prediction for training data\n",
    "            train.data[,c(\"Day\", \"percent_active\")],\n",
    "            Pridicted_percent_active = predict(model, train.data)\n",
    "          )\n",
    "\n",
    "tested = cbind(  # Prediction for tested data\n",
    "            test.data[,c(\"Day\", \"percent_active\")],\n",
    "            Pridicted_percent_active = predict(model, test.data)\n",
    "         )\n",
    "\n",
    "\n",
    "tail(trained, 10)\n",
    "tail(tested, 10)"
   ]
  },
  {
   "cell_type": "markdown",
   "metadata": {},
   "source": [
    "<br /><hr /><br />"
   ]
  },
  {
   "cell_type": "markdown",
   "metadata": {},
   "source": [
    "## Predictions"
   ]
  },
  {
   "cell_type": "code",
   "execution_count": 48,
   "metadata": {},
   "outputs": [],
   "source": [
    "test_Miscellaneous = data.frame(\n",
    "                        Day = NaN,\n",
    "                        Confirmed = NaN,\n",
    "                        Active.Cases = NaN,\n",
    "                        percent_active = NaN,\n",
    "                        percent_closed = NaN\n",
    "                     )"
   ]
  },
  {
   "cell_type": "code",
   "execution_count": 49,
   "metadata": {},
   "outputs": [],
   "source": [
    "# 13th March ---> day 52\n",
    "dNo = 57    # get the day no. to pridict\n",
    "\n",
    "test_Miscellaneous$'Day' = dNo"
   ]
  },
  {
   "cell_type": "markdown",
   "metadata": {},
   "source": [
    "<br /> \n",
    "1. #### By Linear Model"
   ]
  },
  {
   "cell_type": "code",
   "execution_count": 50,
   "metadata": {},
   "outputs": [
    {
     "data": {
      "text/html": [
       "<table>\n",
       "<thead><tr><th scope=col>Day</th><th scope=col>percent_active</th><th scope=col>percent_pridicted</th></tr></thead>\n",
       "<tbody>\n",
       "\t<tr><td>57 </td><td>NaN</td><td>NaN</td></tr>\n",
       "</tbody>\n",
       "</table>\n"
      ],
      "text/latex": [
       "\\begin{tabular}{r|lll}\n",
       " Day & percent\\_active & percent\\_pridicted\\\\\n",
       "\\hline\n",
       "\t 57  & NaN & NaN\\\\\n",
       "\\end{tabular}\n"
      ],
      "text/markdown": [
       "\n",
       "| Day | percent_active | percent_pridicted |\n",
       "|---|---|---|\n",
       "| 57  | NaN | NaN |\n",
       "\n"
      ],
      "text/plain": [
       "  Day percent_active percent_pridicted\n",
       "1 57  NaN            NaN              "
      ]
     },
     "metadata": {},
     "output_type": "display_data"
    }
   ],
   "source": [
    "# modeling variable  --->  fit\n",
    "Prediction = cbind(\n",
    "                test_Miscellaneous[,c(\"Day\", \"percent_active\")],\n",
    "                percent_pridicted = signif(predict(fit, test_Miscellaneous), 2)\n",
    "             )\n",
    "Prediction"
   ]
  },
  {
   "cell_type": "markdown",
   "metadata": {},
   "source": [
    "<br /> \n",
    "2. #### By Polynomial Model"
   ]
  },
  {
   "cell_type": "code",
   "execution_count": 51,
   "metadata": {},
   "outputs": [
    {
     "name": "stderr",
     "output_type": "stream",
     "text": [
      "Warning message in predict.lm(model, test_Miscellaneous):\n",
      "“prediction from a rank-deficient fit may be misleading”\n"
     ]
    },
    {
     "data": {
      "text/html": [
       "<table>\n",
       "<thead><tr><th scope=col>Day</th><th scope=col>percent_active</th><th scope=col>percent_pridicted</th></tr></thead>\n",
       "<tbody>\n",
       "\t<tr><td>57      </td><td>NaN     </td><td>2.195447</td></tr>\n",
       "</tbody>\n",
       "</table>\n"
      ],
      "text/latex": [
       "\\begin{tabular}{r|lll}\n",
       " Day & percent\\_active & percent\\_pridicted\\\\\n",
       "\\hline\n",
       "\t 57       & NaN      & 2.195447\\\\\n",
       "\\end{tabular}\n"
      ],
      "text/markdown": [
       "\n",
       "| Day | percent_active | percent_pridicted |\n",
       "|---|---|---|\n",
       "| 57       | NaN      | 2.195447 |\n",
       "\n"
      ],
      "text/plain": [
       "  Day percent_active percent_pridicted\n",
       "1 57  NaN            2.195447         "
      ]
     },
     "metadata": {},
     "output_type": "display_data"
    }
   ],
   "source": [
    "# modeling variable  --->  model\n",
    "Prediction = cbind(\n",
    "                test_Miscellaneous[,c(\"Day\", \"percent_active\")],\n",
    "                percent_pridicted = predict(model, test_Miscellaneous)\n",
    "             )\n",
    "Prediction"
   ]
  },
  {
   "cell_type": "markdown",
   "metadata": {},
   "source": [
    "<hr /> <br />"
   ]
  }
 ],
 "metadata": {
  "kernelspec": {
   "display_name": "R",
   "language": "R",
   "name": "ir"
  },
  "language_info": {
   "codemirror_mode": "r",
   "file_extension": ".r",
   "mimetype": "text/x-r-source",
   "name": "R",
   "pygments_lexer": "r",
   "version": "3.6.1"
  }
 },
 "nbformat": 4,
 "nbformat_minor": 2
}
