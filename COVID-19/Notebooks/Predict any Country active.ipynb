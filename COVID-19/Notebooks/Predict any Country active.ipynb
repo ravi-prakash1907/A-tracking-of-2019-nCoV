{
 "cells": [
  {
   "cell_type": "markdown",
   "metadata": {},
   "source": [
    "<center><h1> <font color=\"green\"><u>Active-Case Predictions ~ 19-nCoV</u></font> </h1></center>"
   ]
  },
  {
   "cell_type": "markdown",
   "metadata": {},
   "source": [
    "<center><h3> <font color=\"#cc0000\"><u>Active Cases(%) out of Confirmed</u></font> </h3></center>"
   ]
  },
  {
   "cell_type": "markdown",
   "metadata": {},
   "source": [
    "<h3> <font color=\"purple\"><u>This section includes:</u></font> </h3>"
   ]
  },
  {
   "cell_type": "markdown",
   "metadata": {},
   "source": [
    "> * Data Filtering <br />\n",
    "> * Training & Testing datasets <br />\n",
    "> * Prediction <br />\n",
    "> * Visualization (Scatter Plots) <br />"
   ]
  },
  {
   "cell_type": "markdown",
   "metadata": {},
   "source": [
    "<br />"
   ]
  },
  {
   "cell_type": "markdown",
   "metadata": {},
   "source": [
    "## Creating Datasets"
   ]
  },
  {
   "cell_type": "code",
   "execution_count": 1,
   "metadata": {},
   "outputs": [],
   "source": [
    "# setting the working directory\n",
    "setwd(\"~/Documents/A-tracking-of-2019-nCoV/COVID-19/ready_to_use\")"
   ]
  },
  {
   "cell_type": "code",
   "execution_count": 2,
   "metadata": {},
   "outputs": [
    {
     "name": "stderr",
     "output_type": "stream",
     "text": [
      "Registered S3 methods overwritten by 'ggplot2':\n",
      "  method         from \n",
      "  [.quosures     rlang\n",
      "  c.quosures     rlang\n",
      "  print.quosures rlang\n",
      "\n"
     ]
    }
   ],
   "source": [
    "# Loading desired libraries\n",
    "library(readr)\n",
    "library(ggplot2)\n",
    "library(stringr)"
   ]
  },
  {
   "cell_type": "markdown",
   "metadata": {},
   "source": [
    "<hr />"
   ]
  },
  {
   "cell_type": "code",
   "execution_count": 3,
   "metadata": {},
   "outputs": [
    {
     "name": "stderr",
     "output_type": "stream",
     "text": [
      "Parsed with column specification:\n",
      "cols(\n",
      "  Country = \u001b[31mcol_character()\u001b[39m,\n",
      "  Day = \u001b[32mcol_double()\u001b[39m,\n",
      "  Date = \u001b[31mcol_character()\u001b[39m,\n",
      "  Confirmed = \u001b[32mcol_double()\u001b[39m,\n",
      "  Deaths = \u001b[32mcol_double()\u001b[39m,\n",
      "  Recovered = \u001b[32mcol_double()\u001b[39m,\n",
      "  Active.Cases = \u001b[32mcol_double()\u001b[39m,\n",
      "  Closed.Cases = \u001b[32mcol_double()\u001b[39m\n",
      ")\n",
      "\n",
      "Parsed with column specification:\n",
      "cols(\n",
      "  Location = \u001b[31mcol_character()\u001b[39m,\n",
      "  Day = \u001b[32mcol_double()\u001b[39m,\n",
      "  Date = \u001b[31mcol_character()\u001b[39m,\n",
      "  Confirmed = \u001b[32mcol_double()\u001b[39m,\n",
      "  Deaths = \u001b[32mcol_double()\u001b[39m,\n",
      "  Recovered = \u001b[32mcol_double()\u001b[39m,\n",
      "  Active.Cases = \u001b[32mcol_double()\u001b[39m,\n",
      "  Closed.Cases = \u001b[32mcol_double()\u001b[39m\n",
      ")\n",
      "\n",
      "Parsed with column specification:\n",
      "cols(\n",
      "  State = \u001b[31mcol_character()\u001b[39m,\n",
      "  Day = \u001b[32mcol_double()\u001b[39m,\n",
      "  Date = \u001b[31mcol_character()\u001b[39m,\n",
      "  Confirmed = \u001b[32mcol_double()\u001b[39m,\n",
      "  Deaths = \u001b[32mcol_double()\u001b[39m,\n",
      "  Recovered = \u001b[32mcol_double()\u001b[39m,\n",
      "  Active.Cases = \u001b[32mcol_double()\u001b[39m,\n",
      "  Closed.Cases = \u001b[32mcol_double()\u001b[39m\n",
      ")\n",
      "\n",
      "Parsed with column specification:\n",
      "cols(\n",
      "  State = \u001b[31mcol_character()\u001b[39m,\n",
      "  Day = \u001b[32mcol_double()\u001b[39m,\n",
      "  Date = \u001b[31mcol_character()\u001b[39m,\n",
      "  Confirmed = \u001b[32mcol_double()\u001b[39m,\n",
      "  Deaths = \u001b[32mcol_double()\u001b[39m,\n",
      "  Recovered = \u001b[32mcol_double()\u001b[39m,\n",
      "  Active.Cases = \u001b[32mcol_double()\u001b[39m,\n",
      "  Closed.Cases = \u001b[32mcol_double()\u001b[39m\n",
      ")\n",
      "\n"
     ]
    }
   ],
   "source": [
    "all = read_csv('COVID-19/Mixed/countryWise_bulk_summary.csv')\n",
    "world = read_csv('COVID-19/World/World_dataset_dateWise_summary.csv')\n",
    "\n",
    "hubei = read_csv('COVID-19/Hubei/Hubei_dataset_dateWise_summary.csv')\n",
    "cruise = read_csv('COVID-19/Cruise/Diamond_Princess_dataset_dateWise_summary.csv')"
   ]
  },
  {
   "cell_type": "code",
   "execution_count": 4,
   "metadata": {},
   "outputs": [],
   "source": [
    "# country list\n",
    "countries = matrix(levels(as.factor(all$Country)))\n",
    "\n",
    "#head(countries, 10)"
   ]
  },
  {
   "cell_type": "markdown",
   "metadata": {},
   "source": [
    "<br /> \n",
    "### Choosing desired Country/Region"
   ]
  },
  {
   "cell_type": "code",
   "execution_count": 5,
   "metadata": {},
   "outputs": [],
   "source": [
    "# country i.e. to be used throughout the analysis\n",
    " rName = 'China' # without hubei\n",
    "\n",
    "# rName = 'World'\n",
    "# rName = 'Hubei'\n",
    "# rName = 'Diamond Cruise'\n",
    "\n",
    "# whole_china --->  'China' + hubei"
   ]
  },
  {
   "cell_type": "markdown",
   "metadata": {},
   "source": [
    "<hr />"
   ]
  },
  {
   "cell_type": "code",
   "execution_count": 6,
   "metadata": {},
   "outputs": [
    {
     "data": {
      "text/html": [
       "<table>\n",
       "<thead><tr><th scope=col>Country</th><th scope=col>Day</th><th scope=col>Date</th><th scope=col>Confirmed</th><th scope=col>Deaths</th><th scope=col>Recovered</th><th scope=col>Active.Cases</th><th scope=col>Closed.Cases</th></tr></thead>\n",
       "<tbody>\n",
       "\t<tr><td>China     </td><td>1         </td><td>22-01-2020</td><td> 104      </td><td>0         </td><td> 0        </td><td> 104      </td><td> 0        </td></tr>\n",
       "\t<tr><td>China     </td><td>2         </td><td>23-01-2020</td><td> 199      </td><td>1         </td><td> 2        </td><td> 196      </td><td> 3        </td></tr>\n",
       "\t<tr><td>China     </td><td>3         </td><td>24-01-2020</td><td> 371      </td><td>2         </td><td> 5        </td><td> 364      </td><td> 7        </td></tr>\n",
       "\t<tr><td>China     </td><td>4         </td><td>25-01-2020</td><td> 645      </td><td>2         </td><td> 7        </td><td> 636      </td><td> 9        </td></tr>\n",
       "\t<tr><td>China     </td><td>5         </td><td>26-01-2020</td><td>1017      </td><td>4         </td><td> 7        </td><td>1006      </td><td>11        </td></tr>\n",
       "\t<tr><td>China     </td><td>6         </td><td>27-01-2020</td><td>1454      </td><td>6         </td><td>13        </td><td>1435      </td><td>19        </td></tr>\n",
       "</tbody>\n",
       "</table>\n"
      ],
      "text/latex": [
       "\\begin{tabular}{r|llllllll}\n",
       " Country & Day & Date & Confirmed & Deaths & Recovered & Active.Cases & Closed.Cases\\\\\n",
       "\\hline\n",
       "\t China      & 1          & 22-01-2020 &  104       & 0          &  0         &  104       &  0        \\\\\n",
       "\t China      & 2          & 23-01-2020 &  199       & 1          &  2         &  196       &  3        \\\\\n",
       "\t China      & 3          & 24-01-2020 &  371       & 2          &  5         &  364       &  7        \\\\\n",
       "\t China      & 4          & 25-01-2020 &  645       & 2          &  7         &  636       &  9        \\\\\n",
       "\t China      & 5          & 26-01-2020 & 1017       & 4          &  7         & 1006       & 11        \\\\\n",
       "\t China      & 6          & 27-01-2020 & 1454       & 6          & 13         & 1435       & 19        \\\\\n",
       "\\end{tabular}\n"
      ],
      "text/markdown": [
       "\n",
       "| Country | Day | Date | Confirmed | Deaths | Recovered | Active.Cases | Closed.Cases |\n",
       "|---|---|---|---|---|---|---|---|\n",
       "| China      | 1          | 22-01-2020 |  104       | 0          |  0         |  104       |  0         |\n",
       "| China      | 2          | 23-01-2020 |  199       | 1          |  2         |  196       |  3         |\n",
       "| China      | 3          | 24-01-2020 |  371       | 2          |  5         |  364       |  7         |\n",
       "| China      | 4          | 25-01-2020 |  645       | 2          |  7         |  636       |  9         |\n",
       "| China      | 5          | 26-01-2020 | 1017       | 4          |  7         | 1006       | 11         |\n",
       "| China      | 6          | 27-01-2020 | 1454       | 6          | 13         | 1435       | 19         |\n",
       "\n"
      ],
      "text/plain": [
       "  Country Day Date       Confirmed Deaths Recovered Active.Cases Closed.Cases\n",
       "1 China   1   22-01-2020  104      0       0         104          0          \n",
       "2 China   2   23-01-2020  199      1       2         196          3          \n",
       "3 China   3   24-01-2020  371      2       5         364          7          \n",
       "4 China   4   25-01-2020  645      2       7         636          9          \n",
       "5 China   5   26-01-2020 1017      4       7        1006         11          \n",
       "6 China   6   27-01-2020 1454      6      13        1435         19          "
      ]
     },
     "metadata": {},
     "output_type": "display_data"
    }
   ],
   "source": [
    "# filtering out desired country\n",
    "region = all[which(str_detect(all$Country, rName)),]\n",
    "\n",
    "# region = world\n",
    "# region = hubei\n",
    "# region = cruise[14:nrow(cruise),]\n",
    "\n",
    "head(region)"
   ]
  },
  {
   "cell_type": "markdown",
   "metadata": {},
   "source": [
    "<hr />"
   ]
  },
  {
   "cell_type": "code",
   "execution_count": 7,
   "metadata": {},
   "outputs": [
    {
     "data": {
      "text/html": [
       "<table>\n",
       "<thead><tr><th scope=col>Day</th><th scope=col>Confirmed</th><th scope=col>Active.Cases</th></tr></thead>\n",
       "<tbody>\n",
       "\t<tr><td> 1  </td><td> 104</td><td> 104</td></tr>\n",
       "\t<tr><td> 2  </td><td> 199</td><td> 196</td></tr>\n",
       "\t<tr><td> 3  </td><td> 371</td><td> 364</td></tr>\n",
       "\t<tr><td> 4  </td><td> 645</td><td> 636</td></tr>\n",
       "\t<tr><td> 5  </td><td>1017</td><td>1006</td></tr>\n",
       "\t<tr><td> 6  </td><td>1454</td><td>1435</td></tr>\n",
       "\t<tr><td> 7  </td><td>1955</td><td>1928</td></tr>\n",
       "\t<tr><td> 8  </td><td>2533</td><td>2493</td></tr>\n",
       "\t<tr><td> 9  </td><td>3238</td><td>3184</td></tr>\n",
       "\t<tr><td>10  </td><td>3996</td><td>3914</td></tr>\n",
       "</tbody>\n",
       "</table>\n"
      ],
      "text/latex": [
       "\\begin{tabular}{r|lll}\n",
       " Day & Confirmed & Active.Cases\\\\\n",
       "\\hline\n",
       "\t  1   &  104 &  104\\\\\n",
       "\t  2   &  199 &  196\\\\\n",
       "\t  3   &  371 &  364\\\\\n",
       "\t  4   &  645 &  636\\\\\n",
       "\t  5   & 1017 & 1006\\\\\n",
       "\t  6   & 1454 & 1435\\\\\n",
       "\t  7   & 1955 & 1928\\\\\n",
       "\t  8   & 2533 & 2493\\\\\n",
       "\t  9   & 3238 & 3184\\\\\n",
       "\t 10   & 3996 & 3914\\\\\n",
       "\\end{tabular}\n"
      ],
      "text/markdown": [
       "\n",
       "| Day | Confirmed | Active.Cases |\n",
       "|---|---|---|\n",
       "|  1   |  104 |  104 |\n",
       "|  2   |  199 |  196 |\n",
       "|  3   |  371 |  364 |\n",
       "|  4   |  645 |  636 |\n",
       "|  5   | 1017 | 1006 |\n",
       "|  6   | 1454 | 1435 |\n",
       "|  7   | 1955 | 1928 |\n",
       "|  8   | 2533 | 2493 |\n",
       "|  9   | 3238 | 3184 |\n",
       "| 10   | 3996 | 3914 |\n",
       "\n"
      ],
      "text/plain": [
       "   Day Confirmed Active.Cases\n",
       "1   1   104       104        \n",
       "2   2   199       196        \n",
       "3   3   371       364        \n",
       "4   4   645       636        \n",
       "5   5  1017      1006        \n",
       "6   6  1454      1435        \n",
       "7   7  1955      1928        \n",
       "8   8  2533      2493        \n",
       "9   9  3238      3184        \n",
       "10 10  3996      3914        "
      ]
     },
     "metadata": {},
     "output_type": "display_data"
    }
   ],
   "source": [
    "region=region[,c('Day','Confirmed','Active.Cases')]\n",
    "head(region, 10)"
   ]
  },
  {
   "cell_type": "code",
   "execution_count": 8,
   "metadata": {},
   "outputs": [],
   "source": [
    "# calculate the percent (using Confirmed cases as total)\n",
    "percent <- function(dfName){\n",
    "    get(dfName) -> df\n",
    "    part <- NULL\n",
    "    \n",
    "    for(i in 1:nrow(df)) {\n",
    "        val = df[i,\"Active.Cases\"]\n",
    "        Total = df[i,\"Confirmed\"]\n",
    "        \n",
    "        \n",
    "        if(i == 1)\n",
    "            if(val==0)\n",
    "                part = 0\n",
    "            else\n",
    "                part = as.numeric((val*100)/Total)\n",
    "        else\n",
    "            if(val==0)\n",
    "                part = c(part, 0)\n",
    "            else\n",
    "                part <- c(part, as.numeric((val*100)/Total))\n",
    "    }\n",
    "        \n",
    "    return(part)\n",
    "}"
   ]
  },
  {
   "cell_type": "markdown",
   "metadata": {},
   "source": [
    "<hr />"
   ]
  },
  {
   "cell_type": "code",
   "execution_count": 9,
   "metadata": {},
   "outputs": [],
   "source": [
    "# CASES -> percentage\n",
    "region$'percent_active' = percent(\"region\")     # Active cases, out of every 100 Confirmed cases\n",
    "region$'percent_closed' = 100-percent(\"region\") # Closed cases, out of every 100 Confirmed cases"
   ]
  },
  {
   "cell_type": "code",
   "execution_count": 10,
   "metadata": {},
   "outputs": [
    {
     "data": {
      "text/html": [
       "<table>\n",
       "<thead><tr><th scope=col>Day</th><th scope=col>Confirmed</th><th scope=col>Active.Cases</th><th scope=col>percent_active</th><th scope=col>percent_closed</th></tr></thead>\n",
       "<tbody>\n",
       "\t<tr><td>1        </td><td> 104     </td><td> 104     </td><td>100.00000</td><td>0.000000 </td></tr>\n",
       "\t<tr><td>2        </td><td> 199     </td><td> 196     </td><td> 98.49246</td><td>1.507538 </td></tr>\n",
       "\t<tr><td>3        </td><td> 371     </td><td> 364     </td><td> 98.11321</td><td>1.886792 </td></tr>\n",
       "\t<tr><td>4        </td><td> 645     </td><td> 636     </td><td> 98.60465</td><td>1.395349 </td></tr>\n",
       "\t<tr><td>5        </td><td>1017     </td><td>1006     </td><td> 98.91839</td><td>1.081613 </td></tr>\n",
       "\t<tr><td>6        </td><td>1454     </td><td>1435     </td><td> 98.69326</td><td>1.306740 </td></tr>\n",
       "</tbody>\n",
       "</table>\n"
      ],
      "text/latex": [
       "\\begin{tabular}{r|lllll}\n",
       " Day & Confirmed & Active.Cases & percent\\_active & percent\\_closed\\\\\n",
       "\\hline\n",
       "\t 1         &  104      &  104      & 100.00000 & 0.000000 \\\\\n",
       "\t 2         &  199      &  196      &  98.49246 & 1.507538 \\\\\n",
       "\t 3         &  371      &  364      &  98.11321 & 1.886792 \\\\\n",
       "\t 4         &  645      &  636      &  98.60465 & 1.395349 \\\\\n",
       "\t 5         & 1017      & 1006      &  98.91839 & 1.081613 \\\\\n",
       "\t 6         & 1454      & 1435      &  98.69326 & 1.306740 \\\\\n",
       "\\end{tabular}\n"
      ],
      "text/markdown": [
       "\n",
       "| Day | Confirmed | Active.Cases | percent_active | percent_closed |\n",
       "|---|---|---|---|---|\n",
       "| 1         |  104      |  104      | 100.00000 | 0.000000  |\n",
       "| 2         |  199      |  196      |  98.49246 | 1.507538  |\n",
       "| 3         |  371      |  364      |  98.11321 | 1.886792  |\n",
       "| 4         |  645      |  636      |  98.60465 | 1.395349  |\n",
       "| 5         | 1017      | 1006      |  98.91839 | 1.081613  |\n",
       "| 6         | 1454      | 1435      |  98.69326 | 1.306740  |\n",
       "\n"
      ],
      "text/plain": [
       "  Day Confirmed Active.Cases percent_active percent_closed\n",
       "1 1    104       104         100.00000      0.000000      \n",
       "2 2    199       196          98.49246      1.507538      \n",
       "3 3    371       364          98.11321      1.886792      \n",
       "4 4    645       636          98.60465      1.395349      \n",
       "5 5   1017      1006          98.91839      1.081613      \n",
       "6 6   1454      1435          98.69326      1.306740      "
      ]
     },
     "metadata": {},
     "output_type": "display_data"
    }
   ],
   "source": [
    "head(region)"
   ]
  },
  {
   "cell_type": "markdown",
   "metadata": {},
   "source": [
    "<br />* Dataset is ready"
   ]
  },
  {
   "cell_type": "markdown",
   "metadata": {},
   "source": [
    "<hr /><br />"
   ]
  },
  {
   "cell_type": "markdown",
   "metadata": {},
   "source": [
    "### Understanding the plot"
   ]
  },
  {
   "cell_type": "code",
   "execution_count": 11,
   "metadata": {},
   "outputs": [
    {
     "data": {
      "image/png": "[encoded data removed]",
      "text/plain": [
       "plot without title"
      ]
     },
     "metadata": {
      "image/png": {
       "height": 420,
       "width": 420
      },
      "text/plain": {
       "height": 420,
       "width": 420
      }
     },
     "output_type": "display_data"
    }
   ],
   "source": [
    "# Day vs %Closed Cases\n",
    "region.scatter.plot <- ggplot(region, aes(x = region$Day, y = region$percent_active)) +\n",
    "                        geom_point()\n",
    "region.scatter.plot"
   ]
  },
  {
   "cell_type": "code",
   "execution_count": 12,
   "metadata": {},
   "outputs": [
    {
     "data": {
      "text/html": [
       "<table>\n",
       "<thead><tr><th scope=col>Day</th><th scope=col>Confirmed</th><th scope=col>Active.Cases</th><th scope=col>percent_active</th><th scope=col>percent_closed</th></tr></thead>\n",
       "<tbody>\n",
       "\t<tr><td>52      </td><td>13159   </td><td>398     </td><td>3.024546</td><td>96.97545</td></tr>\n",
       "\t<tr><td>53      </td><td>13187   </td><td>369     </td><td>2.798210</td><td>97.20179</td></tr>\n",
       "\t<tr><td>54      </td><td>13209   </td><td>362     </td><td>2.740556</td><td>97.25944</td></tr>\n",
       "\t<tr><td>55      </td><td>13235   </td><td>349     </td><td>2.636947</td><td>97.36305</td></tr>\n",
       "\t<tr><td>56      </td><td>13259   </td><td>345     </td><td>2.602006</td><td>97.39799</td></tr>\n",
       "\t<tr><td>57      </td><td>13303   </td><td>356     </td><td>2.676088</td><td>97.32391</td></tr>\n",
       "</tbody>\n",
       "</table>\n"
      ],
      "text/latex": [
       "\\begin{tabular}{r|lllll}\n",
       " Day & Confirmed & Active.Cases & percent\\_active & percent\\_closed\\\\\n",
       "\\hline\n",
       "\t 52       & 13159    & 398      & 3.024546 & 96.97545\\\\\n",
       "\t 53       & 13187    & 369      & 2.798210 & 97.20179\\\\\n",
       "\t 54       & 13209    & 362      & 2.740556 & 97.25944\\\\\n",
       "\t 55       & 13235    & 349      & 2.636947 & 97.36305\\\\\n",
       "\t 56       & 13259    & 345      & 2.602006 & 97.39799\\\\\n",
       "\t 57       & 13303    & 356      & 2.676088 & 97.32391\\\\\n",
       "\\end{tabular}\n"
      ],
      "text/markdown": [
       "\n",
       "| Day | Confirmed | Active.Cases | percent_active | percent_closed |\n",
       "|---|---|---|---|---|\n",
       "| 52       | 13159    | 398      | 3.024546 | 96.97545 |\n",
       "| 53       | 13187    | 369      | 2.798210 | 97.20179 |\n",
       "| 54       | 13209    | 362      | 2.740556 | 97.25944 |\n",
       "| 55       | 13235    | 349      | 2.636947 | 97.36305 |\n",
       "| 56       | 13259    | 345      | 2.602006 | 97.39799 |\n",
       "| 57       | 13303    | 356      | 2.676088 | 97.32391 |\n",
       "\n"
      ],
      "text/plain": [
       "  Day Confirmed Active.Cases percent_active percent_closed\n",
       "1 52  13159     398          3.024546       96.97545      \n",
       "2 53  13187     369          2.798210       97.20179      \n",
       "3 54  13209     362          2.740556       97.25944      \n",
       "4 55  13235     349          2.636947       97.36305      \n",
       "5 56  13259     345          2.602006       97.39799      \n",
       "6 57  13303     356          2.676088       97.32391      "
      ]
     },
     "metadata": {},
     "output_type": "display_data"
    }
   ],
   "source": [
    "tail(region)"
   ]
  },
  {
   "cell_type": "markdown",
   "metadata": {},
   "source": [
    "<br /><hr /><br />"
   ]
  },
  {
   "cell_type": "markdown",
   "metadata": {},
   "source": [
    "## Data-Analysis <br />"
   ]
  },
  {
   "cell_type": "code",
   "execution_count": 13,
   "metadata": {},
   "outputs": [
    {
     "name": "stderr",
     "output_type": "stream",
     "text": [
      "Registered S3 method overwritten by 'rvest':\n",
      "  method            from\n",
      "  read_xml.response xml2\n",
      "\n",
      "── \u001b[1mAttaching packages\u001b[22m ─────────────────────────────────────── tidyverse 1.2.1 ──\n",
      "\n",
      "\u001b[32m✔\u001b[39m \u001b[34mtibble \u001b[39m 2.1.1     \u001b[32m✔\u001b[39m \u001b[34mpurrr  \u001b[39m 0.3.3\n",
      "\u001b[32m✔\u001b[39m \u001b[34mtidyr  \u001b[39m 1.0.2     \u001b[32m✔\u001b[39m \u001b[34mdplyr  \u001b[39m 0.8.3\n",
      "\u001b[32m✔\u001b[39m \u001b[34mtibble \u001b[39m 2.1.1     \u001b[32m✔\u001b[39m \u001b[34mforcats\u001b[39m 0.4.0\n",
      "\n",
      "── \u001b[1mConflicts\u001b[22m ────────────────────────────────────────── tidyverse_conflicts() ──\n",
      "\u001b[31m✖\u001b[39m \u001b[34mdplyr\u001b[39m::\u001b[32mfilter()\u001b[39m masks \u001b[34mstats\u001b[39m::filter()\n",
      "\u001b[31m✖\u001b[39m \u001b[34mdplyr\u001b[39m::\u001b[32mlag()\u001b[39m    masks \u001b[34mstats\u001b[39m::lag()\n",
      "\n",
      "Loading required package: lattice\n",
      "\n",
      "\n",
      "Attaching package: ‘caret’\n",
      "\n",
      "\n",
      "The following object is masked from ‘package:purrr’:\n",
      "\n",
      "    lift\n",
      "\n",
      "\n"
     ]
    }
   ],
   "source": [
    "# loading plotting/machine learning\n",
    "library(tidyverse)\n",
    "library(caret)\n",
    "\n",
    "# setting the theme\n",
    "theme_set(theme_classic())"
   ]
  },
  {
   "cell_type": "code",
   "execution_count": 14,
   "metadata": {},
   "outputs": [],
   "source": [
    "set.seed(20) # generages same set of random sample every time\n",
    "\n",
    "training.samples <- region$Day %>%\n",
    "  createDataPartition(p = 0.8, list = FALSE)\n",
    "\n",
    "train.data  <- region[training.samples, ]\n",
    "test.data <- region[-training.samples, ]"
   ]
  },
  {
   "cell_type": "code",
   "execution_count": 15,
   "metadata": {},
   "outputs": [
    {
     "data": {
      "text/html": [
       "<table>\n",
       "<thead><tr><th scope=col>Day</th><th scope=col>Confirmed</th><th scope=col>Active.Cases</th><th scope=col>percent_active</th><th scope=col>percent_closed</th></tr></thead>\n",
       "<tbody>\n",
       "\t<tr><td>1        </td><td>104      </td><td>104      </td><td>100.00000</td><td>0.000000 </td></tr>\n",
       "\t<tr><td>2        </td><td>199      </td><td>196      </td><td> 98.49246</td><td>1.507538 </td></tr>\n",
       "\t<tr><td>3        </td><td>371      </td><td>364      </td><td> 98.11321</td><td>1.886792 </td></tr>\n",
       "</tbody>\n",
       "</table>\n"
      ],
      "text/latex": [
       "\\begin{tabular}{r|lllll}\n",
       " Day & Confirmed & Active.Cases & percent\\_active & percent\\_closed\\\\\n",
       "\\hline\n",
       "\t 1         & 104       & 104       & 100.00000 & 0.000000 \\\\\n",
       "\t 2         & 199       & 196       &  98.49246 & 1.507538 \\\\\n",
       "\t 3         & 371       & 364       &  98.11321 & 1.886792 \\\\\n",
       "\\end{tabular}\n"
      ],
      "text/markdown": [
       "\n",
       "| Day | Confirmed | Active.Cases | percent_active | percent_closed |\n",
       "|---|---|---|---|---|\n",
       "| 1         | 104       | 104       | 100.00000 | 0.000000  |\n",
       "| 2         | 199       | 196       |  98.49246 | 1.507538  |\n",
       "| 3         | 371       | 364       |  98.11321 | 1.886792  |\n",
       "\n"
      ],
      "text/plain": [
       "  Day Confirmed Active.Cases percent_active percent_closed\n",
       "1 1   104       104          100.00000      0.000000      \n",
       "2 2   199       196           98.49246      1.507538      \n",
       "3 3   371       364           98.11321      1.886792      "
      ]
     },
     "metadata": {},
     "output_type": "display_data"
    },
    {
     "data": {
      "text/html": [
       "<table>\n",
       "<thead><tr><th scope=col>Day</th><th scope=col>Confirmed</th><th scope=col>Active.Cases</th><th scope=col>percent_active</th><th scope=col>percent_closed</th></tr></thead>\n",
       "<tbody>\n",
       "\t<tr><td> 4      </td><td> 645    </td><td> 636    </td><td>98.60465</td><td>1.395349</td></tr>\n",
       "\t<tr><td>13      </td><td>6194    </td><td>5954    </td><td>96.12528</td><td>3.874717</td></tr>\n",
       "\t<tr><td>15      </td><td>7775    </td><td>7279    </td><td>93.62058</td><td>6.379421</td></tr>\n",
       "</tbody>\n",
       "</table>\n"
      ],
      "text/latex": [
       "\\begin{tabular}{r|lllll}\n",
       " Day & Confirmed & Active.Cases & percent\\_active & percent\\_closed\\\\\n",
       "\\hline\n",
       "\t  4       &  645     &  636     & 98.60465 & 1.395349\\\\\n",
       "\t 13       & 6194     & 5954     & 96.12528 & 3.874717\\\\\n",
       "\t 15       & 7775     & 7279     & 93.62058 & 6.379421\\\\\n",
       "\\end{tabular}\n"
      ],
      "text/markdown": [
       "\n",
       "| Day | Confirmed | Active.Cases | percent_active | percent_closed |\n",
       "|---|---|---|---|---|\n",
       "|  4       |  645     |  636     | 98.60465 | 1.395349 |\n",
       "| 13       | 6194     | 5954     | 96.12528 | 3.874717 |\n",
       "| 15       | 7775     | 7279     | 93.62058 | 6.379421 |\n",
       "\n"
      ],
      "text/plain": [
       "  Day Confirmed Active.Cases percent_active percent_closed\n",
       "1  4   645       636         98.60465       1.395349      \n",
       "2 13  6194      5954         96.12528       3.874717      \n",
       "3 15  7775      7279         93.62058       6.379421      "
      ]
     },
     "metadata": {},
     "output_type": "display_data"
    }
   ],
   "source": [
    "head(train.data, 3)\n",
    "head(test.data, 3)"
   ]
  },
  {
   "cell_type": "code",
   "execution_count": 16,
   "metadata": {},
   "outputs": [
    {
     "name": "stderr",
     "output_type": "stream",
     "text": [
      "`geom_smooth()` using method = 'loess' and formula 'y ~ x'\n",
      "\n"
     ]
    },
    {
     "data": {
      "image/png": "[encoded data removed]",
      "text/plain": [
       "plot without title"
      ]
     },
     "metadata": {
      "image/png": {
       "height": 420,
       "width": 420
      },
      "text/plain": {
       "height": 420,
       "width": 420
      }
     },
     "output_type": "display_data"
    }
   ],
   "source": [
    "ggplot(train.data, aes(Day, percent_active) ) +\n",
    "  geom_point() +\n",
    "  stat_smooth()"
   ]
  },
  {
   "cell_type": "markdown",
   "metadata": {},
   "source": [
    "<br /><hr /><br />"
   ]
  },
  {
   "cell_type": "markdown",
   "metadata": {},
   "source": [
    "## Regrassion"
   ]
  },
  {
   "cell_type": "markdown",
   "metadata": {},
   "source": [
    "1. ### Linear regression"
   ]
  },
  {
   "cell_type": "code",
   "execution_count": 58,
   "metadata": {},
   "outputs": [],
   "source": [
    "# y = x\n",
    "# Build the model\n",
    "\n",
    "# pridiction by linear model\n",
    "fit = lm(Day ~ percent_active, data = train.data)"
   ]
  },
  {
   "cell_type": "code",
   "execution_count": 59,
   "metadata": {},
   "outputs": [],
   "source": [
    "# Predicting\n",
    "predictions <- fit %>% predict(train.data)"
   ]
  },
  {
   "cell_type": "code",
   "execution_count": 60,
   "metadata": {},
   "outputs": [
    {
     "data": {
      "text/html": [
       "<table>\n",
       "<thead><tr><th scope=col>RMSE</th><th scope=col>R2</th></tr></thead>\n",
       "<tbody>\n",
       "\t<tr><td>3.532498 </td><td>0.9534814</td></tr>\n",
       "</tbody>\n",
       "</table>\n"
      ],
      "text/latex": [
       "\\begin{tabular}{r|ll}\n",
       " RMSE & R2\\\\\n",
       "\\hline\n",
       "\t 3.532498  & 0.9534814\\\\\n",
       "\\end{tabular}\n"
      ],
      "text/markdown": [
       "\n",
       "| RMSE | R2 |\n",
       "|---|---|\n",
       "| 3.532498  | 0.9534814 |\n",
       "\n"
      ],
      "text/plain": [
       "  RMSE     R2       \n",
       "1 3.532498 0.9534814"
      ]
     },
     "metadata": {},
     "output_type": "display_data"
    }
   ],
   "source": [
    "# Model performance\n",
    "data.frame(\n",
    "  RMSE = RMSE(predictions, train.data$Day),\n",
    "  R2 = R2(predictions, train.data$Day)\n",
    ")"
   ]
  },
  {
   "cell_type": "markdown",
   "metadata": {},
   "source": [
    "<br />"
   ]
  },
  {
   "cell_type": "code",
   "execution_count": 20,
   "metadata": {},
   "outputs": [
    {
     "data": {
      "image/png": "[encoded data removed]",
      "text/plain": [
       "plot without title"
      ]
     },
     "metadata": {
      "image/png": {
       "height": 420,
       "width": 420
      },
      "text/plain": {
       "height": 420,
       "width": 420
      }
     },
     "output_type": "display_data"
    }
   ],
   "source": [
    "trainer <- ggplot(train.data, aes(Day, percent_active) ) +\n",
    "              geom_point() +\n",
    "              stat_smooth(method = lm, formula = y ~ x) +   # linear function\n",
    "  \n",
    "              # decoration\n",
    "              labs( x = \"Days\", y = \"Active Cases (%)\", title = paste(\"\\nTraining plot\", rName, sep = \" - \") ) +\n",
    "              theme( plot.title = element_text(size = 20, face = \"bold\")) \n",
    "trainer"
   ]
  },
  {
   "cell_type": "code",
   "execution_count": 21,
   "metadata": {},
   "outputs": [
    {
     "data": {
      "image/png": "[encoded data removed]",
      "text/plain": [
       "plot without title"
      ]
     },
     "metadata": {
      "image/png": {
       "height": 420,
       "width": 420
      },
      "text/plain": {
       "height": 420,
       "width": 420
      }
     },
     "output_type": "display_data"
    }
   ],
   "source": [
    "tester <- ggplot(test.data, aes(Day, percent_active) ) +\n",
    "              geom_point() +\n",
    "              stat_smooth(method = lm, formula = y ~ x) +   # linear function\n",
    "  \n",
    "              # decoration\n",
    "              labs( x = \"Days\", y = \"Active Cases (%)\", title = paste(\"\\nTesting plot\", rName, sep = \" - \") ) +\n",
    "              theme( plot.title = element_text(size = 20, face = \"bold\")) \n",
    "tester"
   ]
  },
  {
   "cell_type": "code",
   "execution_count": 22,
   "metadata": {},
   "outputs": [],
   "source": [
    "\n",
    "### can be TESTED in case of any problem in the ABOVE PLOT ###\n",
    "\n",
    "#  # pridiction by linear model\n",
    "#  pred <- predict(fit)   # fitting the model\n",
    "#\n",
    "#  plot(percent_active ~ Day, data = test.data)     #  \"data = train.data\"    is also possible\n",
    "#  lines(train.data$Day, y=pred, col = \"blue\")\n"
   ]
  },
  {
   "cell_type": "markdown",
   "metadata": {},
   "source": [
    "<br />"
   ]
  },
  {
   "cell_type": "code",
   "execution_count": 23,
   "metadata": {},
   "outputs": [
    {
     "data": {
      "text/html": [
       "<table>\n",
       "<thead><tr><th></th><th scope=col>Day</th><th scope=col>percent_active</th><th scope=col>Pridicted_percent_active</th></tr></thead>\n",
       "<tbody>\n",
       "\t<tr><th scope=row>39</th><td>46      </td><td>7.264957</td><td>48.11743</td></tr>\n",
       "\t<tr><th scope=row>40</th><td>47      </td><td>6.473010</td><td>48.45406</td></tr>\n",
       "\t<tr><th scope=row>41</th><td>48      </td><td>5.229854</td><td>48.98247</td></tr>\n",
       "\t<tr><th scope=row>42</th><td>49      </td><td>4.372667</td><td>49.34683</td></tr>\n",
       "\t<tr><th scope=row>43</th><td>50      </td><td>3.977791</td><td>49.51468</td></tr>\n",
       "\t<tr><th scope=row>44</th><td>52      </td><td>3.024546</td><td>49.91987</td></tr>\n",
       "\t<tr><th scope=row>45</th><td>53      </td><td>2.798210</td><td>50.01607</td></tr>\n",
       "\t<tr><th scope=row>46</th><td>55      </td><td>2.636947</td><td>50.08462</td></tr>\n",
       "\t<tr><th scope=row>47</th><td>56      </td><td>2.602006</td><td>50.09947</td></tr>\n",
       "\t<tr><th scope=row>48</th><td>57      </td><td>2.676088</td><td>50.06798</td></tr>\n",
       "</tbody>\n",
       "</table>\n"
      ],
      "text/latex": [
       "\\begin{tabular}{r|lll}\n",
       "  & Day & percent\\_active & Pridicted\\_percent\\_active\\\\\n",
       "\\hline\n",
       "\t39 & 46       & 7.264957 & 48.11743\\\\\n",
       "\t40 & 47       & 6.473010 & 48.45406\\\\\n",
       "\t41 & 48       & 5.229854 & 48.98247\\\\\n",
       "\t42 & 49       & 4.372667 & 49.34683\\\\\n",
       "\t43 & 50       & 3.977791 & 49.51468\\\\\n",
       "\t44 & 52       & 3.024546 & 49.91987\\\\\n",
       "\t45 & 53       & 2.798210 & 50.01607\\\\\n",
       "\t46 & 55       & 2.636947 & 50.08462\\\\\n",
       "\t47 & 56       & 2.602006 & 50.09947\\\\\n",
       "\t48 & 57       & 2.676088 & 50.06798\\\\\n",
       "\\end{tabular}\n"
      ],
      "text/markdown": [
       "\n",
       "| <!--/--> | Day | percent_active | Pridicted_percent_active |\n",
       "|---|---|---|---|\n",
       "| 39 | 46       | 7.264957 | 48.11743 |\n",
       "| 40 | 47       | 6.473010 | 48.45406 |\n",
       "| 41 | 48       | 5.229854 | 48.98247 |\n",
       "| 42 | 49       | 4.372667 | 49.34683 |\n",
       "| 43 | 50       | 3.977791 | 49.51468 |\n",
       "| 44 | 52       | 3.024546 | 49.91987 |\n",
       "| 45 | 53       | 2.798210 | 50.01607 |\n",
       "| 46 | 55       | 2.636947 | 50.08462 |\n",
       "| 47 | 56       | 2.602006 | 50.09947 |\n",
       "| 48 | 57       | 2.676088 | 50.06798 |\n",
       "\n"
      ],
      "text/plain": [
       "   Day percent_active Pridicted_percent_active\n",
       "39 46  7.264957       48.11743                \n",
       "40 47  6.473010       48.45406                \n",
       "41 48  5.229854       48.98247                \n",
       "42 49  4.372667       49.34683                \n",
       "43 50  3.977791       49.51468                \n",
       "44 52  3.024546       49.91987                \n",
       "45 53  2.798210       50.01607                \n",
       "46 55  2.636947       50.08462                \n",
       "47 56  2.602006       50.09947                \n",
       "48 57  2.676088       50.06798                "
      ]
     },
     "metadata": {},
     "output_type": "display_data"
    },
    {
     "data": {
      "text/html": [
       "<table>\n",
       "<thead><tr><th scope=col>Day</th><th scope=col>percent_active</th><th scope=col>Pridicted_percent_active</th></tr></thead>\n",
       "<tbody>\n",
       "\t<tr><td> 4       </td><td>98.604651</td><td> 9.292483</td></tr>\n",
       "\t<tr><td>13       </td><td>96.125283</td><td>10.346367</td></tr>\n",
       "\t<tr><td>15       </td><td>93.620579</td><td>11.411019</td></tr>\n",
       "\t<tr><td>18       </td><td>87.811406</td><td>13.880272</td></tr>\n",
       "\t<tr><td>28       </td><td>58.815548</td><td>26.205282</td></tr>\n",
       "\t<tr><td>39       </td><td>19.832552</td><td>42.775436</td></tr>\n",
       "\t<tr><td>41       </td><td>15.361007</td><td>44.676116</td></tr>\n",
       "\t<tr><td>51       </td><td> 3.437001</td><td>49.744547</td></tr>\n",
       "\t<tr><td>54       </td><td> 2.740556</td><td>50.040579</td></tr>\n",
       "</tbody>\n",
       "</table>\n"
      ],
      "text/latex": [
       "\\begin{tabular}{r|lll}\n",
       " Day & percent\\_active & Pridicted\\_percent\\_active\\\\\n",
       "\\hline\n",
       "\t  4        & 98.604651 &  9.292483\\\\\n",
       "\t 13        & 96.125283 & 10.346367\\\\\n",
       "\t 15        & 93.620579 & 11.411019\\\\\n",
       "\t 18        & 87.811406 & 13.880272\\\\\n",
       "\t 28        & 58.815548 & 26.205282\\\\\n",
       "\t 39        & 19.832552 & 42.775436\\\\\n",
       "\t 41        & 15.361007 & 44.676116\\\\\n",
       "\t 51        &  3.437001 & 49.744547\\\\\n",
       "\t 54        &  2.740556 & 50.040579\\\\\n",
       "\\end{tabular}\n"
      ],
      "text/markdown": [
       "\n",
       "| Day | percent_active | Pridicted_percent_active |\n",
       "|---|---|---|\n",
       "|  4        | 98.604651 |  9.292483 |\n",
       "| 13        | 96.125283 | 10.346367 |\n",
       "| 15        | 93.620579 | 11.411019 |\n",
       "| 18        | 87.811406 | 13.880272 |\n",
       "| 28        | 58.815548 | 26.205282 |\n",
       "| 39        | 19.832552 | 42.775436 |\n",
       "| 41        | 15.361007 | 44.676116 |\n",
       "| 51        |  3.437001 | 49.744547 |\n",
       "| 54        |  2.740556 | 50.040579 |\n",
       "\n"
      ],
      "text/plain": [
       "  Day percent_active Pridicted_percent_active\n",
       "1  4  98.604651       9.292483               \n",
       "2 13  96.125283      10.346367               \n",
       "3 15  93.620579      11.411019               \n",
       "4 18  87.811406      13.880272               \n",
       "5 28  58.815548      26.205282               \n",
       "6 39  19.832552      42.775436               \n",
       "7 41  15.361007      44.676116               \n",
       "8 51   3.437001      49.744547               \n",
       "9 54   2.740556      50.040579               "
      ]
     },
     "metadata": {},
     "output_type": "display_data"
    }
   ],
   "source": [
    "trained = cbind( # Prediction for training data\n",
    "            train.data[,c(\"Day\", \"percent_active\")],\n",
    "            Pridicted_percent_active = predict(fit, train.data)\n",
    "          )\n",
    "\n",
    "tested = cbind(  # Prediction for tested data\n",
    "            test.data[,c(\"Day\", \"percent_active\")],\n",
    "            Pridicted_percent_active = predict(fit, test.data)\n",
    "         )\n",
    "\n",
    "\n",
    "tail(trained, 10)\n",
    "tail(tested, 10)"
   ]
  },
  {
   "cell_type": "markdown",
   "metadata": {},
   "source": [
    "<br />"
   ]
  },
  {
   "cell_type": "markdown",
   "metadata": {},
   "source": [
    "2. ### Polynomial regression"
   ]
  },
  {
   "cell_type": "code",
   "execution_count": 61,
   "metadata": {},
   "outputs": [],
   "source": [
    "# y = x + I(x^2)...   ---->   a polynomial function\n",
    "deg = 16        # degree of polynomial\n",
    "\n",
    "# better and alternate way for line i.e. above\n",
    "model = lm(percent_active ~ poly(Day, deg, raw = TRUE), data = train.data)"
   ]
  },
  {
   "cell_type": "code",
   "execution_count": 62,
   "metadata": {},
   "outputs": [],
   "source": [
    "#head(test.data)\n",
    "#head(train.data)"
   ]
  },
  {
   "cell_type": "code",
   "execution_count": 63,
   "metadata": {},
   "outputs": [
    {
     "name": "stderr",
     "output_type": "stream",
     "text": [
      "Warning message in predict.lm(., train.data):\n",
      "“prediction from a rank-deficient fit may be misleading”\n"
     ]
    }
   ],
   "source": [
    "predictions <- model %>% predict(train.data)"
   ]
  },
  {
   "cell_type": "code",
   "execution_count": 64,
   "metadata": {},
   "outputs": [
    {
     "data": {
      "text/html": [
       "<table>\n",
       "<thead><tr><th scope=col>RMSE</th><th scope=col>R2</th></tr></thead>\n",
       "<tbody>\n",
       "\t<tr><td>58.59968 </td><td>0.9535058</td></tr>\n",
       "</tbody>\n",
       "</table>\n"
      ],
      "text/latex": [
       "\\begin{tabular}{r|ll}\n",
       " RMSE & R2\\\\\n",
       "\\hline\n",
       "\t 58.59968  & 0.9535058\\\\\n",
       "\\end{tabular}\n"
      ],
      "text/markdown": [
       "\n",
       "| RMSE | R2 |\n",
       "|---|---|\n",
       "| 58.59968  | 0.9535058 |\n",
       "\n"
      ],
      "text/plain": [
       "  RMSE     R2       \n",
       "1 58.59968 0.9535058"
      ]
     },
     "metadata": {},
     "output_type": "display_data"
    }
   ],
   "source": [
    "# Model performance\n",
    "data.frame(\n",
    "  RMSE = RMSE(predictions, train.data$Day),\n",
    "  R2 = R2(predictions, train.data$Day)\n",
    ")"
   ]
  },
  {
   "cell_type": "markdown",
   "metadata": {},
   "source": [
    "<br /><br />"
   ]
  },
  {
   "cell_type": "code",
   "execution_count": 65,
   "metadata": {},
   "outputs": [
    {
     "name": "stderr",
     "output_type": "stream",
     "text": [
      "Warning message in predict.lm(model, newdata = data.frame(x = xseq), se.fit = se, :\n",
      "“prediction from a rank-deficient fit may be misleading”\n"
     ]
    },
    {
     "data": {
      "image/png": "[encoded data removed]",
      "text/plain": [
       "plot without title"
      ]
     },
     "metadata": {
      "image/png": {
       "height": 420,
       "width": 420
      },
      "text/plain": {
       "height": 420,
       "width": 420
      }
     },
     "output_type": "display_data"
    }
   ],
   "source": [
    "trainer <- ggplot(train.data, aes(Day, percent_active) ) +\n",
    "              geom_point() +\n",
    "              stat_smooth(method = lm, formula = y ~ poly(x, deg, raw = TRUE)) +   # polynomial function\n",
    "  \n",
    "              # decoration\n",
    "              labs( x = \"Days\", y = \"Active Cases (%)\", title = paste(\"\\nTraining plot\", rName, sep = \" - \") ) +\n",
    "              theme( plot.title = element_text(size = 20, face = \"bold\")) \n",
    "trainer"
   ]
  },
  {
   "cell_type": "code",
   "execution_count": 66,
   "metadata": {},
   "outputs": [
    {
     "name": "stderr",
     "output_type": "stream",
     "text": [
      "Warning message in predict.lm(model, newdata = data.frame(x = xseq), se.fit = se, :\n",
      "“prediction from a rank-deficient fit may be misleading”\n",
      "Warning message in qt((1 - level)/2, df):\n",
      "“NaNs produced”\n"
     ]
    },
    {
     "data": {
      "image/png": "[encoded data removed]",
      "text/plain": [
       "plot without title"
      ]
     },
     "metadata": {
      "image/png": {
       "height": 420,
       "width": 420
      },
      "text/plain": {
       "height": 420,
       "width": 420
      }
     },
     "output_type": "display_data"
    }
   ],
   "source": [
    "tester <- ggplot(test.data, aes(Day, percent_active) ) +\n",
    "              geom_point() +\n",
    "              stat_smooth(method = lm, formula = y ~ poly(x, deg, raw = TRUE)) +   # polynomial function\n",
    "  \n",
    "              # decoration\n",
    "              labs( x = \"Days\", y = \"Active Cases (%)\", title = paste(\"\\nTesting plot\", rName, sep = \" - \") ) +\n",
    "              theme( plot.title = element_text(size = 20, face = \"bold\")) \n",
    "tester"
   ]
  },
  {
   "cell_type": "code",
   "execution_count": 67,
   "metadata": {},
   "outputs": [],
   "source": [
    "\n",
    "### can be TESTED in case of any problem in the ABOVE PLOT ###\n",
    "\n",
    "#  # pridiction by polynomial model\n",
    "#  pred <- predict(model)   # fitting the model\n",
    "#\n",
    "#  plot(percent_active ~ Day, data = test.data)     #  \"data = train.data\"    is also possible\n",
    "#  lines(train.data$Day, y=pred, col = \"blue\")\n"
   ]
  },
  {
   "cell_type": "markdown",
   "metadata": {},
   "source": [
    "<br /><br />"
   ]
  },
  {
   "cell_type": "code",
   "execution_count": 68,
   "metadata": {},
   "outputs": [
    {
     "name": "stderr",
     "output_type": "stream",
     "text": [
      "Warning message in predict.lm(model, train.data):\n",
      "“prediction from a rank-deficient fit may be misleading”\n",
      "Warning message in predict.lm(model, test.data):\n",
      "“prediction from a rank-deficient fit may be misleading”\n"
     ]
    },
    {
     "data": {
      "text/html": [
       "<table>\n",
       "<thead><tr><th></th><th scope=col>Day</th><th scope=col>percent_active</th><th scope=col>Pridicted_percent_active</th></tr></thead>\n",
       "<tbody>\n",
       "\t<tr><th scope=row>39</th><td>46      </td><td>7.264957</td><td>7.116415</td></tr>\n",
       "\t<tr><th scope=row>40</th><td>47      </td><td>6.473010</td><td>6.135176</td></tr>\n",
       "\t<tr><th scope=row>41</th><td>48      </td><td>5.229854</td><td>5.310308</td></tr>\n",
       "\t<tr><th scope=row>42</th><td>49      </td><td>4.372667</td><td>4.602725</td></tr>\n",
       "\t<tr><th scope=row>43</th><td>50      </td><td>3.977791</td><td>3.985590</td></tr>\n",
       "\t<tr><th scope=row>44</th><td>52      </td><td>3.024546</td><td>3.026870</td></tr>\n",
       "\t<tr><th scope=row>45</th><td>53      </td><td>2.798210</td><td>2.737020</td></tr>\n",
       "\t<tr><th scope=row>46</th><td>55      </td><td>2.636947</td><td>2.609293</td></tr>\n",
       "\t<tr><th scope=row>47</th><td>56      </td><td>2.602006</td><td>2.660969</td></tr>\n",
       "\t<tr><th scope=row>48</th><td>57      </td><td>2.676088</td><td>2.655583</td></tr>\n",
       "</tbody>\n",
       "</table>\n"
      ],
      "text/latex": [
       "\\begin{tabular}{r|lll}\n",
       "  & Day & percent\\_active & Pridicted\\_percent\\_active\\\\\n",
       "\\hline\n",
       "\t39 & 46       & 7.264957 & 7.116415\\\\\n",
       "\t40 & 47       & 6.473010 & 6.135176\\\\\n",
       "\t41 & 48       & 5.229854 & 5.310308\\\\\n",
       "\t42 & 49       & 4.372667 & 4.602725\\\\\n",
       "\t43 & 50       & 3.977791 & 3.985590\\\\\n",
       "\t44 & 52       & 3.024546 & 3.026870\\\\\n",
       "\t45 & 53       & 2.798210 & 2.737020\\\\\n",
       "\t46 & 55       & 2.636947 & 2.609293\\\\\n",
       "\t47 & 56       & 2.602006 & 2.660969\\\\\n",
       "\t48 & 57       & 2.676088 & 2.655583\\\\\n",
       "\\end{tabular}\n"
      ],
      "text/markdown": [
       "\n",
       "| <!--/--> | Day | percent_active | Pridicted_percent_active |\n",
       "|---|---|---|---|\n",
       "| 39 | 46       | 7.264957 | 7.116415 |\n",
       "| 40 | 47       | 6.473010 | 6.135176 |\n",
       "| 41 | 48       | 5.229854 | 5.310308 |\n",
       "| 42 | 49       | 4.372667 | 4.602725 |\n",
       "| 43 | 50       | 3.977791 | 3.985590 |\n",
       "| 44 | 52       | 3.024546 | 3.026870 |\n",
       "| 45 | 53       | 2.798210 | 2.737020 |\n",
       "| 46 | 55       | 2.636947 | 2.609293 |\n",
       "| 47 | 56       | 2.602006 | 2.660969 |\n",
       "| 48 | 57       | 2.676088 | 2.655583 |\n",
       "\n"
      ],
      "text/plain": [
       "   Day percent_active Pridicted_percent_active\n",
       "39 46  7.264957       7.116415                \n",
       "40 47  6.473010       6.135176                \n",
       "41 48  5.229854       5.310308                \n",
       "42 49  4.372667       4.602725                \n",
       "43 50  3.977791       3.985590                \n",
       "44 52  3.024546       3.026870                \n",
       "45 53  2.798210       2.737020                \n",
       "46 55  2.636947       2.609293                \n",
       "47 56  2.602006       2.660969                \n",
       "48 57  2.676088       2.655583                "
      ]
     },
     "metadata": {},
     "output_type": "display_data"
    },
    {
     "data": {
      "text/html": [
       "<table>\n",
       "<thead><tr><th scope=col>Day</th><th scope=col>percent_active</th><th scope=col>Pridicted_percent_active</th></tr></thead>\n",
       "<tbody>\n",
       "\t<tr><td> 4       </td><td>98.604651</td><td>98.775524</td></tr>\n",
       "\t<tr><td>13       </td><td>96.125283</td><td>96.135424</td></tr>\n",
       "\t<tr><td>15       </td><td>93.620579</td><td>93.516263</td></tr>\n",
       "\t<tr><td>18       </td><td>87.811406</td><td>88.056481</td></tr>\n",
       "\t<tr><td>28       </td><td>58.815548</td><td>58.220623</td></tr>\n",
       "\t<tr><td>39       </td><td>19.832552</td><td>20.180574</td></tr>\n",
       "\t<tr><td>41       </td><td>15.361007</td><td>15.343639</td></tr>\n",
       "\t<tr><td>51       </td><td> 3.437001</td><td> 3.453946</td></tr>\n",
       "\t<tr><td>54       </td><td> 2.740556</td><td> 2.605630</td></tr>\n",
       "</tbody>\n",
       "</table>\n"
      ],
      "text/latex": [
       "\\begin{tabular}{r|lll}\n",
       " Day & percent\\_active & Pridicted\\_percent\\_active\\\\\n",
       "\\hline\n",
       "\t  4        & 98.604651 & 98.775524\\\\\n",
       "\t 13        & 96.125283 & 96.135424\\\\\n",
       "\t 15        & 93.620579 & 93.516263\\\\\n",
       "\t 18        & 87.811406 & 88.056481\\\\\n",
       "\t 28        & 58.815548 & 58.220623\\\\\n",
       "\t 39        & 19.832552 & 20.180574\\\\\n",
       "\t 41        & 15.361007 & 15.343639\\\\\n",
       "\t 51        &  3.437001 &  3.453946\\\\\n",
       "\t 54        &  2.740556 &  2.605630\\\\\n",
       "\\end{tabular}\n"
      ],
      "text/markdown": [
       "\n",
       "| Day | percent_active | Pridicted_percent_active |\n",
       "|---|---|---|\n",
       "|  4        | 98.604651 | 98.775524 |\n",
       "| 13        | 96.125283 | 96.135424 |\n",
       "| 15        | 93.620579 | 93.516263 |\n",
       "| 18        | 87.811406 | 88.056481 |\n",
       "| 28        | 58.815548 | 58.220623 |\n",
       "| 39        | 19.832552 | 20.180574 |\n",
       "| 41        | 15.361007 | 15.343639 |\n",
       "| 51        |  3.437001 |  3.453946 |\n",
       "| 54        |  2.740556 |  2.605630 |\n",
       "\n"
      ],
      "text/plain": [
       "  Day percent_active Pridicted_percent_active\n",
       "1  4  98.604651      98.775524               \n",
       "2 13  96.125283      96.135424               \n",
       "3 15  93.620579      93.516263               \n",
       "4 18  87.811406      88.056481               \n",
       "5 28  58.815548      58.220623               \n",
       "6 39  19.832552      20.180574               \n",
       "7 41  15.361007      15.343639               \n",
       "8 51   3.437001       3.453946               \n",
       "9 54   2.740556       2.605630               "
      ]
     },
     "metadata": {},
     "output_type": "display_data"
    }
   ],
   "source": [
    "trained = cbind( # Prediction for training data\n",
    "            train.data[,c(\"Day\", \"percent_active\")],\n",
    "            Pridicted_percent_active = predict(model, train.data)\n",
    "          )\n",
    "\n",
    "tested = cbind(  # Prediction for tested data\n",
    "            test.data[,c(\"Day\", \"percent_active\")],\n",
    "            Pridicted_percent_active = predict(model, test.data)\n",
    "         )\n",
    "\n",
    "\n",
    "tail(trained, 10)\n",
    "tail(tested, 10)"
   ]
  },
  {
   "cell_type": "markdown",
   "metadata": {},
   "source": [
    "<br /><hr /><br />"
   ]
  },
  {
   "cell_type": "markdown",
   "metadata": {},
   "source": [
    "## Predictions"
   ]
  },
  {
   "cell_type": "code",
   "execution_count": 36,
   "metadata": {},
   "outputs": [],
   "source": [
    "test_Miscellaneous = data.frame(\n",
    "                        Day = NaN,\n",
    "                        Confirmed = NaN,\n",
    "                        Active.Cases = NaN,\n",
    "                        percent_active = NaN,\n",
    "                        percent_closed = NaN\n",
    "                     )"
   ]
  },
  {
   "cell_type": "code",
   "execution_count": 37,
   "metadata": {},
   "outputs": [],
   "source": [
    "# 13th March ---> day 52\n",
    "dNo = 58    # get the day no. to pridict\n",
    "\n",
    "test_Miscellaneous$'Day' = dNo"
   ]
  },
  {
   "cell_type": "markdown",
   "metadata": {},
   "source": [
    "<br /> \n",
    "1. #### By Linear Model"
   ]
  },
  {
   "cell_type": "code",
   "execution_count": 40,
   "metadata": {},
   "outputs": [
    {
     "data": {
      "text/html": [
       "<table>\n",
       "<thead><tr><th scope=col>Day</th><th scope=col>percent_active</th><th scope=col>percent_pridicted</th></tr></thead>\n",
       "<tbody>\n",
       "\t<tr><td>58 </td><td>NaN</td><td>NaN</td></tr>\n",
       "</tbody>\n",
       "</table>\n"
      ],
      "text/latex": [
       "\\begin{tabular}{r|lll}\n",
       " Day & percent\\_active & percent\\_pridicted\\\\\n",
       "\\hline\n",
       "\t 58  & NaN & NaN\\\\\n",
       "\\end{tabular}\n"
      ],
      "text/markdown": [
       "\n",
       "| Day | percent_active | percent_pridicted |\n",
       "|---|---|---|\n",
       "| 58  | NaN | NaN |\n",
       "\n"
      ],
      "text/plain": [
       "  Day percent_active percent_pridicted\n",
       "1 58  NaN            NaN              "
      ]
     },
     "metadata": {},
     "output_type": "display_data"
    }
   ],
   "source": [
    "# modeling variable  --->  fit\n",
    "Prediction = cbind(\n",
    "                test_Miscellaneous[,c(\"Day\", \"percent_active\")],\n",
    "                percent_pridicted = predict(fit, test_Miscellaneous)\n",
    "             )\n",
    "Prediction"
   ]
  },
  {
   "cell_type": "markdown",
   "metadata": {},
   "source": [
    "<br /> \n",
    "2. #### By Polynomial Model"
   ]
  },
  {
   "cell_type": "code",
   "execution_count": 41,
   "metadata": {},
   "outputs": [
    {
     "name": "stderr",
     "output_type": "stream",
     "text": [
      "Warning message in predict.lm(model, test_Miscellaneous):\n",
      "“prediction from a rank-deficient fit may be misleading”\n"
     ]
    },
    {
     "data": {
      "text/html": [
       "<table>\n",
       "<thead><tr><th scope=col>Day</th><th scope=col>percent_active</th><th scope=col>percent_pridicted</th></tr></thead>\n",
       "<tbody>\n",
       "\t<tr><td>58      </td><td>NaN     </td><td>2.674994</td></tr>\n",
       "</tbody>\n",
       "</table>\n"
      ],
      "text/latex": [
       "\\begin{tabular}{r|lll}\n",
       " Day & percent\\_active & percent\\_pridicted\\\\\n",
       "\\hline\n",
       "\t 58       & NaN      & 2.674994\\\\\n",
       "\\end{tabular}\n"
      ],
      "text/markdown": [
       "\n",
       "| Day | percent_active | percent_pridicted |\n",
       "|---|---|---|\n",
       "| 58       | NaN      | 2.674994 |\n",
       "\n"
      ],
      "text/plain": [
       "  Day percent_active percent_pridicted\n",
       "1 58  NaN            2.674994         "
      ]
     },
     "metadata": {},
     "output_type": "display_data"
    }
   ],
   "source": [
    "# modeling variable  --->  model\n",
    "Prediction = cbind(\n",
    "                test_Miscellaneous[,c(\"Day\", \"percent_active\")],\n",
    "                percent_pridicted = predict(model, test_Miscellaneous)\n",
    "             )\n",
    "Prediction"
   ]
  },
  {
   "cell_type": "markdown",
   "metadata": {},
   "source": [
    "<hr /> <br />"
   ]
  }
 ],
 "metadata": {
  "kernelspec": {
   "display_name": "R",
   "language": "R",
   "name": "ir"
  },
  "language_info": {
   "codemirror_mode": "r",
   "file_extension": ".r",
   "mimetype": "text/x-r-source",
   "name": "R",
   "pygments_lexer": "r",
   "version": "3.6.1"
  }
 },
 "nbformat": 4,
 "nbformat_minor": 2
}
