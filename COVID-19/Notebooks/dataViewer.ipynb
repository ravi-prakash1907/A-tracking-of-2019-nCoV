{
 "cells": [
  {
   "cell_type": "markdown",
   "metadata": {},
   "source": [
    "<center> <h1><u>Datasets' Viewer</u></h1> </center>"
   ]
  },
  {
   "cell_type": "markdown",
   "metadata": {},
   "source": [
    "<br />"
   ]
  },
  {
   "cell_type": "code",
   "execution_count": 1,
   "metadata": {},
   "outputs": [],
   "source": [
    "# Setting the working directory\n",
    "setwd(\"~/Documents/A-tracking-of-2019-nCoV/COVID-19/\")"
   ]
  },
  {
   "cell_type": "markdown",
   "metadata": {},
   "source": [
    "## China (except Hubei)"
   ]
  },
  {
   "cell_type": "code",
   "execution_count": 2,
   "metadata": {},
   "outputs": [],
   "source": [
    "##    Loading\n",
    "China.States.daily.Confirmed = read.csv(\"ready_to_use/COVID-19/China/China_States_daily_Confirmed.csv\")\n",
    "China.States.daily.Deaths = read.csv(\"ready_to_use/COVID-19/China/China_States_daily_Deaths.csv\")\n",
    "China.States.daily.Recovered = read.csv(\"ready_to_use/COVID-19/China/China_States_daily_Recovered.csv\")\n",
    "\n",
    "China.Aggregate.daily.Confirmed = read.csv(\"ready_to_use/COVID-19/China/China_Aggregate_daily_Confirmed.csv\")\n",
    "China.Aggregate.daily.Deaths = read.csv(\"ready_to_use/COVID-19/China/China_Aggregate_daily_Deaths.csv\")\n",
    "China.Aggregate.daily.Recovered = read.csv(\"ready_to_use/COVID-19/China/China_Aggregate_daily_Recovered.csv\")\n",
    "\n",
    "China.States.summary = read.csv(\"ready_to_use/COVID-19/China/China_States_summary.csv\")\n",
    "China.Aggregate.summary = read.csv(\"ready_to_use/COVID-19/China/China_Aggregate_summary.csv\")\n",
    "China.dataset.dateWise = read.csv(\"ready_to_use/COVID-19/China/China_dataset_dateWise_summary.csv\")"
   ]
  },
  {
   "cell_type": "code",
   "execution_count": 3,
   "metadata": {},
   "outputs": [
    {
     "data": {
      "text/html": [
       "<table>\n",
       "<thead><tr><th scope=col>States</th><th scope=col>Country</th><th scope=col>X1.22.20</th><th scope=col>X1.23.20</th><th scope=col>X1.24.20</th><th scope=col>X1.25.20</th><th scope=col>X1.26.20</th><th scope=col>X1.27.20</th><th scope=col>X1.28.20</th><th scope=col>X1.29.20</th><th scope=col>...</th><th scope=col>X3.6.20</th><th scope=col>X3.7.20</th><th scope=col>X3.8.20</th><th scope=col>X3.9.20</th><th scope=col>X3.10.20</th><th scope=col>X3.11.20</th><th scope=col>X3.12.20</th><th scope=col>X3.13.20</th><th scope=col>X3.14.20</th><th scope=col>X3.15.20</th></tr></thead>\n",
       "<tbody>\n",
       "\t<tr><td>Guangdong</td><td>China    </td><td>26       </td><td>32       </td><td>53       </td><td>78       </td><td>111      </td><td>151      </td><td>207      </td><td>277      </td><td>...      </td><td>1352     </td><td>1352     </td><td>1352     </td><td>1352     </td><td>1353     </td><td>1356     </td><td>1356     </td><td>1356     </td><td>1356     </td><td>1360     </td></tr>\n",
       "\t<tr><td>Henan    </td><td>China    </td><td> 5       </td><td> 5       </td><td> 9       </td><td>32       </td><td> 83      </td><td>128      </td><td>168      </td><td>206      </td><td>...      </td><td>1272     </td><td>1272     </td><td>1272     </td><td>1272     </td><td>1272     </td><td>1273     </td><td>1273     </td><td>1273     </td><td>1273     </td><td>1273     </td></tr>\n",
       "\t<tr><td>Zhejiang </td><td>China    </td><td>10       </td><td>27       </td><td>43       </td><td>62       </td><td>104      </td><td>128      </td><td>173      </td><td>296      </td><td>...      </td><td>1215     </td><td>1215     </td><td>1215     </td><td>1215     </td><td>1215     </td><td>1215     </td><td>1215     </td><td>1215     </td><td>1227     </td><td>1231     </td></tr>\n",
       "\t<tr><td>Hunan    </td><td>China    </td><td> 4       </td><td> 9       </td><td>24       </td><td>43       </td><td> 69      </td><td>100      </td><td>143      </td><td>221      </td><td>...      </td><td>1018     </td><td>1018     </td><td>1018     </td><td>1018     </td><td>1018     </td><td>1018     </td><td>1018     </td><td>1018     </td><td>1018     </td><td>1018     </td></tr>\n",
       "\t<tr><td>Anhui    </td><td>China    </td><td> 1       </td><td> 9       </td><td>15       </td><td>39       </td><td> 60      </td><td> 70      </td><td>106      </td><td>152      </td><td>...      </td><td> 990     </td><td> 990     </td><td> 990     </td><td> 990     </td><td> 990     </td><td> 990     </td><td> 990     </td><td> 990     </td><td> 990     </td><td> 990     </td></tr>\n",
       "\t<tr><td>Jiangxi  </td><td>China    </td><td> 2       </td><td> 7       </td><td>18       </td><td>18       </td><td> 36      </td><td> 72      </td><td>109      </td><td>109      </td><td>...      </td><td> 935     </td><td> 935     </td><td> 935     </td><td> 935     </td><td> 935     </td><td> 935     </td><td> 935     </td><td> 935     </td><td> 935     </td><td> 935     </td></tr>\n",
       "</tbody>\n",
       "</table>\n"
      ],
      "text/latex": [
       "\\begin{tabular}{r|llllllllllllllllllllllllllllllllllllllllllllllllllllllll}\n",
       " States & Country & X1.22.20 & X1.23.20 & X1.24.20 & X1.25.20 & X1.26.20 & X1.27.20 & X1.28.20 & X1.29.20 & ... & X3.6.20 & X3.7.20 & X3.8.20 & X3.9.20 & X3.10.20 & X3.11.20 & X3.12.20 & X3.13.20 & X3.14.20 & X3.15.20\\\\\n",
       "\\hline\n",
       "\t Guangdong & China     & 26        & 32        & 53        & 78        & 111       & 151       & 207       & 277       & ...       & 1352      & 1352      & 1352      & 1352      & 1353      & 1356      & 1356      & 1356      & 1356      & 1360     \\\\\n",
       "\t Henan     & China     &  5        &  5        &  9        & 32        &  83       & 128       & 168       & 206       & ...       & 1272      & 1272      & 1272      & 1272      & 1272      & 1273      & 1273      & 1273      & 1273      & 1273     \\\\\n",
       "\t Zhejiang  & China     & 10        & 27        & 43        & 62        & 104       & 128       & 173       & 296       & ...       & 1215      & 1215      & 1215      & 1215      & 1215      & 1215      & 1215      & 1215      & 1227      & 1231     \\\\\n",
       "\t Hunan     & China     &  4        &  9        & 24        & 43        &  69       & 100       & 143       & 221       & ...       & 1018      & 1018      & 1018      & 1018      & 1018      & 1018      & 1018      & 1018      & 1018      & 1018     \\\\\n",
       "\t Anhui     & China     &  1        &  9        & 15        & 39        &  60       &  70       & 106       & 152       & ...       &  990      &  990      &  990      &  990      &  990      &  990      &  990      &  990      &  990      &  990     \\\\\n",
       "\t Jiangxi   & China     &  2        &  7        & 18        & 18        &  36       &  72       & 109       & 109       & ...       &  935      &  935      &  935      &  935      &  935      &  935      &  935      &  935      &  935      &  935     \\\\\n",
       "\\end{tabular}\n"
      ],
      "text/markdown": [
       "\n",
       "| States | Country | X1.22.20 | X1.23.20 | X1.24.20 | X1.25.20 | X1.26.20 | X1.27.20 | X1.28.20 | X1.29.20 | ... | X3.6.20 | X3.7.20 | X3.8.20 | X3.9.20 | X3.10.20 | X3.11.20 | X3.12.20 | X3.13.20 | X3.14.20 | X3.15.20 |\n",
       "|---|---|---|---|---|---|---|---|---|---|---|---|---|---|---|---|---|---|---|---|---|\n",
       "| Guangdong | China     | 26        | 32        | 53        | 78        | 111       | 151       | 207       | 277       | ...       | 1352      | 1352      | 1352      | 1352      | 1353      | 1356      | 1356      | 1356      | 1356      | 1360      |\n",
       "| Henan     | China     |  5        |  5        |  9        | 32        |  83       | 128       | 168       | 206       | ...       | 1272      | 1272      | 1272      | 1272      | 1272      | 1273      | 1273      | 1273      | 1273      | 1273      |\n",
       "| Zhejiang  | China     | 10        | 27        | 43        | 62        | 104       | 128       | 173       | 296       | ...       | 1215      | 1215      | 1215      | 1215      | 1215      | 1215      | 1215      | 1215      | 1227      | 1231      |\n",
       "| Hunan     | China     |  4        |  9        | 24        | 43        |  69       | 100       | 143       | 221       | ...       | 1018      | 1018      | 1018      | 1018      | 1018      | 1018      | 1018      | 1018      | 1018      | 1018      |\n",
       "| Anhui     | China     |  1        |  9        | 15        | 39        |  60       |  70       | 106       | 152       | ...       |  990      |  990      |  990      |  990      |  990      |  990      |  990      |  990      |  990      |  990      |\n",
       "| Jiangxi   | China     |  2        |  7        | 18        | 18        |  36       |  72       | 109       | 109       | ...       |  935      |  935      |  935      |  935      |  935      |  935      |  935      |  935      |  935      |  935      |\n",
       "\n"
      ],
      "text/plain": [
       "  States    Country X1.22.20 X1.23.20 X1.24.20 X1.25.20 X1.26.20 X1.27.20\n",
       "1 Guangdong China   26       32       53       78       111      151     \n",
       "2 Henan     China    5        5        9       32        83      128     \n",
       "3 Zhejiang  China   10       27       43       62       104      128     \n",
       "4 Hunan     China    4        9       24       43        69      100     \n",
       "5 Anhui     China    1        9       15       39        60       70     \n",
       "6 Jiangxi   China    2        7       18       18        36       72     \n",
       "  X1.28.20 X1.29.20 ... X3.6.20 X3.7.20 X3.8.20 X3.9.20 X3.10.20 X3.11.20\n",
       "1 207      277      ... 1352    1352    1352    1352    1353     1356    \n",
       "2 168      206      ... 1272    1272    1272    1272    1272     1273    \n",
       "3 173      296      ... 1215    1215    1215    1215    1215     1215    \n",
       "4 143      221      ... 1018    1018    1018    1018    1018     1018    \n",
       "5 106      152      ...  990     990     990     990     990      990    \n",
       "6 109      109      ...  935     935     935     935     935      935    \n",
       "  X3.12.20 X3.13.20 X3.14.20 X3.15.20\n",
       "1 1356     1356     1356     1360    \n",
       "2 1273     1273     1273     1273    \n",
       "3 1215     1215     1227     1231    \n",
       "4 1018     1018     1018     1018    \n",
       "5  990      990      990      990    \n",
       "6  935      935      935      935    "
      ]
     },
     "metadata": {},
     "output_type": "display_data"
    },
    {
     "data": {
      "text/html": [
       "<table>\n",
       "<thead><tr><th scope=col>States</th><th scope=col>Country</th><th scope=col>X1.22.20</th><th scope=col>X1.23.20</th><th scope=col>X1.24.20</th><th scope=col>X1.25.20</th><th scope=col>X1.26.20</th><th scope=col>X1.27.20</th><th scope=col>X1.28.20</th><th scope=col>X1.29.20</th><th scope=col>...</th><th scope=col>X3.6.20</th><th scope=col>X3.7.20</th><th scope=col>X3.8.20</th><th scope=col>X3.9.20</th><th scope=col>X3.10.20</th><th scope=col>X3.11.20</th><th scope=col>X3.12.20</th><th scope=col>X3.13.20</th><th scope=col>X3.14.20</th><th scope=col>X3.15.20</th></tr></thead>\n",
       "<tbody>\n",
       "\t<tr><td>Guangdong</td><td>China    </td><td>0        </td><td>0        </td><td>0        </td><td>0        </td><td>0        </td><td>0        </td><td>0        </td><td>0        </td><td>...      </td><td> 7       </td><td> 7       </td><td> 7       </td><td> 8       </td><td> 8       </td><td> 8       </td><td> 8       </td><td> 8       </td><td> 8       </td><td> 8       </td></tr>\n",
       "\t<tr><td>Henan    </td><td>China    </td><td>0        </td><td>0        </td><td>0        </td><td>0        </td><td>1        </td><td>1        </td><td>1        </td><td>2        </td><td>...      </td><td>22       </td><td>22       </td><td>22       </td><td>22       </td><td>22       </td><td>22       </td><td>22       </td><td>22       </td><td>22       </td><td>22       </td></tr>\n",
       "\t<tr><td>Zhejiang </td><td>China    </td><td>0        </td><td>0        </td><td>0        </td><td>0        </td><td>0        </td><td>0        </td><td>0        </td><td>0        </td><td>...      </td><td> 1       </td><td> 1       </td><td> 1       </td><td> 1       </td><td> 1       </td><td> 1       </td><td> 1       </td><td> 1       </td><td> 1       </td><td> 1       </td></tr>\n",
       "\t<tr><td>Hunan    </td><td>China    </td><td>0        </td><td>0        </td><td>0        </td><td>0        </td><td>0        </td><td>0        </td><td>0        </td><td>0        </td><td>...      </td><td> 4       </td><td> 4       </td><td> 4       </td><td> 4       </td><td> 4       </td><td> 4       </td><td> 4       </td><td> 4       </td><td> 4       </td><td> 4       </td></tr>\n",
       "\t<tr><td>Anhui    </td><td>China    </td><td>0        </td><td>0        </td><td>0        </td><td>0        </td><td>0        </td><td>0        </td><td>0        </td><td>0        </td><td>...      </td><td> 6       </td><td> 6       </td><td> 6       </td><td> 6       </td><td> 6       </td><td> 6       </td><td> 6       </td><td> 6       </td><td> 6       </td><td> 6       </td></tr>\n",
       "\t<tr><td>Jiangxi  </td><td>China    </td><td>0        </td><td>0        </td><td>0        </td><td>0        </td><td>0        </td><td>0        </td><td>0        </td><td>0        </td><td>...      </td><td> 1       </td><td> 1       </td><td> 1       </td><td> 1       </td><td> 1       </td><td> 1       </td><td> 1       </td><td> 1       </td><td> 1       </td><td> 1       </td></tr>\n",
       "</tbody>\n",
       "</table>\n"
      ],
      "text/latex": [
       "\\begin{tabular}{r|llllllllllllllllllllllllllllllllllllllllllllllllllllllll}\n",
       " States & Country & X1.22.20 & X1.23.20 & X1.24.20 & X1.25.20 & X1.26.20 & X1.27.20 & X1.28.20 & X1.29.20 & ... & X3.6.20 & X3.7.20 & X3.8.20 & X3.9.20 & X3.10.20 & X3.11.20 & X3.12.20 & X3.13.20 & X3.14.20 & X3.15.20\\\\\n",
       "\\hline\n",
       "\t Guangdong & China     & 0         & 0         & 0         & 0         & 0         & 0         & 0         & 0         & ...       &  7        &  7        &  7        &  8        &  8        &  8        &  8        &  8        &  8        &  8       \\\\\n",
       "\t Henan     & China     & 0         & 0         & 0         & 0         & 1         & 1         & 1         & 2         & ...       & 22        & 22        & 22        & 22        & 22        & 22        & 22        & 22        & 22        & 22       \\\\\n",
       "\t Zhejiang  & China     & 0         & 0         & 0         & 0         & 0         & 0         & 0         & 0         & ...       &  1        &  1        &  1        &  1        &  1        &  1        &  1        &  1        &  1        &  1       \\\\\n",
       "\t Hunan     & China     & 0         & 0         & 0         & 0         & 0         & 0         & 0         & 0         & ...       &  4        &  4        &  4        &  4        &  4        &  4        &  4        &  4        &  4        &  4       \\\\\n",
       "\t Anhui     & China     & 0         & 0         & 0         & 0         & 0         & 0         & 0         & 0         & ...       &  6        &  6        &  6        &  6        &  6        &  6        &  6        &  6        &  6        &  6       \\\\\n",
       "\t Jiangxi   & China     & 0         & 0         & 0         & 0         & 0         & 0         & 0         & 0         & ...       &  1        &  1        &  1        &  1        &  1        &  1        &  1        &  1        &  1        &  1       \\\\\n",
       "\\end{tabular}\n"
      ],
      "text/markdown": [
       "\n",
       "| States | Country | X1.22.20 | X1.23.20 | X1.24.20 | X1.25.20 | X1.26.20 | X1.27.20 | X1.28.20 | X1.29.20 | ... | X3.6.20 | X3.7.20 | X3.8.20 | X3.9.20 | X3.10.20 | X3.11.20 | X3.12.20 | X3.13.20 | X3.14.20 | X3.15.20 |\n",
       "|---|---|---|---|---|---|---|---|---|---|---|---|---|---|---|---|---|---|---|---|---|\n",
       "| Guangdong | China     | 0         | 0         | 0         | 0         | 0         | 0         | 0         | 0         | ...       |  7        |  7        |  7        |  8        |  8        |  8        |  8        |  8        |  8        |  8        |\n",
       "| Henan     | China     | 0         | 0         | 0         | 0         | 1         | 1         | 1         | 2         | ...       | 22        | 22        | 22        | 22        | 22        | 22        | 22        | 22        | 22        | 22        |\n",
       "| Zhejiang  | China     | 0         | 0         | 0         | 0         | 0         | 0         | 0         | 0         | ...       |  1        |  1        |  1        |  1        |  1        |  1        |  1        |  1        |  1        |  1        |\n",
       "| Hunan     | China     | 0         | 0         | 0         | 0         | 0         | 0         | 0         | 0         | ...       |  4        |  4        |  4        |  4        |  4        |  4        |  4        |  4        |  4        |  4        |\n",
       "| Anhui     | China     | 0         | 0         | 0         | 0         | 0         | 0         | 0         | 0         | ...       |  6        |  6        |  6        |  6        |  6        |  6        |  6        |  6        |  6        |  6        |\n",
       "| Jiangxi   | China     | 0         | 0         | 0         | 0         | 0         | 0         | 0         | 0         | ...       |  1        |  1        |  1        |  1        |  1        |  1        |  1        |  1        |  1        |  1        |\n",
       "\n"
      ],
      "text/plain": [
       "  States    Country X1.22.20 X1.23.20 X1.24.20 X1.25.20 X1.26.20 X1.27.20\n",
       "1 Guangdong China   0        0        0        0        0        0       \n",
       "2 Henan     China   0        0        0        0        1        1       \n",
       "3 Zhejiang  China   0        0        0        0        0        0       \n",
       "4 Hunan     China   0        0        0        0        0        0       \n",
       "5 Anhui     China   0        0        0        0        0        0       \n",
       "6 Jiangxi   China   0        0        0        0        0        0       \n",
       "  X1.28.20 X1.29.20 ... X3.6.20 X3.7.20 X3.8.20 X3.9.20 X3.10.20 X3.11.20\n",
       "1 0        0        ...  7       7       7       8       8        8      \n",
       "2 1        2        ... 22      22      22      22      22       22      \n",
       "3 0        0        ...  1       1       1       1       1        1      \n",
       "4 0        0        ...  4       4       4       4       4        4      \n",
       "5 0        0        ...  6       6       6       6       6        6      \n",
       "6 0        0        ...  1       1       1       1       1        1      \n",
       "  X3.12.20 X3.13.20 X3.14.20 X3.15.20\n",
       "1  8        8        8        8      \n",
       "2 22       22       22       22      \n",
       "3  1        1        1        1      \n",
       "4  4        4        4        4      \n",
       "5  6        6        6        6      \n",
       "6  1        1        1        1      "
      ]
     },
     "metadata": {},
     "output_type": "display_data"
    },
    {
     "data": {
      "text/html": [
       "<table>\n",
       "<thead><tr><th scope=col>States</th><th scope=col>Country</th><th scope=col>X1.22.20</th><th scope=col>X1.23.20</th><th scope=col>X1.24.20</th><th scope=col>X1.25.20</th><th scope=col>X1.26.20</th><th scope=col>X1.27.20</th><th scope=col>X1.28.20</th><th scope=col>X1.29.20</th><th scope=col>...</th><th scope=col>X3.6.20</th><th scope=col>X3.7.20</th><th scope=col>X3.8.20</th><th scope=col>X3.9.20</th><th scope=col>X3.10.20</th><th scope=col>X3.11.20</th><th scope=col>X3.12.20</th><th scope=col>X3.13.20</th><th scope=col>X3.14.20</th><th scope=col>X3.15.20</th></tr></thead>\n",
       "<tbody>\n",
       "\t<tr><td>Guangdong</td><td>China    </td><td>0        </td><td>2        </td><td>2        </td><td>2        </td><td>2        </td><td>4        </td><td>4        </td><td>5        </td><td>...      </td><td>1216     </td><td>1237     </td><td>1256     </td><td>1260     </td><td>1274     </td><td>1282     </td><td>1289     </td><td>1296     </td><td>1299     </td><td>1304     </td></tr>\n",
       "\t<tr><td>Henan    </td><td>China    </td><td>0        </td><td>0        </td><td>0        </td><td>0        </td><td>0        </td><td>0        </td><td>0        </td><td>1        </td><td>...      </td><td>1244     </td><td>1244     </td><td>1247     </td><td>1247     </td><td>1247     </td><td>1249     </td><td>1249     </td><td>1249     </td><td>1250     </td><td>1250     </td></tr>\n",
       "\t<tr><td>Zhejiang </td><td>China    </td><td>0        </td><td>0        </td><td>1        </td><td>1        </td><td>1        </td><td>1        </td><td>3        </td><td>3        </td><td>...      </td><td>1147     </td><td>1154     </td><td>1161     </td><td>1176     </td><td>1191     </td><td>1195     </td><td>1197     </td><td>1197     </td><td>1211     </td><td>1211     </td></tr>\n",
       "\t<tr><td>Hunan    </td><td>China    </td><td>0        </td><td>0        </td><td>0        </td><td>0        </td><td>0        </td><td>0        </td><td>0        </td><td>0        </td><td>...      </td><td> 955     </td><td> 960     </td><td> 968     </td><td> 979     </td><td> 990     </td><td> 995     </td><td> 999     </td><td>1005     </td><td>1014     </td><td>1014     </td></tr>\n",
       "\t<tr><td>Anhui    </td><td>China    </td><td>0        </td><td>0        </td><td>0        </td><td>0        </td><td>0        </td><td>0        </td><td>0        </td><td>2        </td><td>...      </td><td> 979     </td><td> 979     </td><td> 984     </td><td> 984     </td><td> 984     </td><td> 984     </td><td> 984     </td><td> 984     </td><td> 984     </td><td> 984     </td></tr>\n",
       "\t<tr><td>Jiangxi  </td><td>China    </td><td>0        </td><td>0        </td><td>0        </td><td>0        </td><td>0        </td><td>2        </td><td>3        </td><td>3        </td><td>...      </td><td> 909     </td><td> 916     </td><td> 919     </td><td> 923     </td><td> 927     </td><td> 932     </td><td> 934     </td><td> 934     </td><td> 934     </td><td> 934     </td></tr>\n",
       "</tbody>\n",
       "</table>\n"
      ],
      "text/latex": [
       "\\begin{tabular}{r|llllllllllllllllllllllllllllllllllllllllllllllllllllllll}\n",
       " States & Country & X1.22.20 & X1.23.20 & X1.24.20 & X1.25.20 & X1.26.20 & X1.27.20 & X1.28.20 & X1.29.20 & ... & X3.6.20 & X3.7.20 & X3.8.20 & X3.9.20 & X3.10.20 & X3.11.20 & X3.12.20 & X3.13.20 & X3.14.20 & X3.15.20\\\\\n",
       "\\hline\n",
       "\t Guangdong & China     & 0         & 2         & 2         & 2         & 2         & 4         & 4         & 5         & ...       & 1216      & 1237      & 1256      & 1260      & 1274      & 1282      & 1289      & 1296      & 1299      & 1304     \\\\\n",
       "\t Henan     & China     & 0         & 0         & 0         & 0         & 0         & 0         & 0         & 1         & ...       & 1244      & 1244      & 1247      & 1247      & 1247      & 1249      & 1249      & 1249      & 1250      & 1250     \\\\\n",
       "\t Zhejiang  & China     & 0         & 0         & 1         & 1         & 1         & 1         & 3         & 3         & ...       & 1147      & 1154      & 1161      & 1176      & 1191      & 1195      & 1197      & 1197      & 1211      & 1211     \\\\\n",
       "\t Hunan     & China     & 0         & 0         & 0         & 0         & 0         & 0         & 0         & 0         & ...       &  955      &  960      &  968      &  979      &  990      &  995      &  999      & 1005      & 1014      & 1014     \\\\\n",
       "\t Anhui     & China     & 0         & 0         & 0         & 0         & 0         & 0         & 0         & 2         & ...       &  979      &  979      &  984      &  984      &  984      &  984      &  984      &  984      &  984      &  984     \\\\\n",
       "\t Jiangxi   & China     & 0         & 0         & 0         & 0         & 0         & 2         & 3         & 3         & ...       &  909      &  916      &  919      &  923      &  927      &  932      &  934      &  934      &  934      &  934     \\\\\n",
       "\\end{tabular}\n"
      ],
      "text/markdown": [
       "\n",
       "| States | Country | X1.22.20 | X1.23.20 | X1.24.20 | X1.25.20 | X1.26.20 | X1.27.20 | X1.28.20 | X1.29.20 | ... | X3.6.20 | X3.7.20 | X3.8.20 | X3.9.20 | X3.10.20 | X3.11.20 | X3.12.20 | X3.13.20 | X3.14.20 | X3.15.20 |\n",
       "|---|---|---|---|---|---|---|---|---|---|---|---|---|---|---|---|---|---|---|---|---|\n",
       "| Guangdong | China     | 0         | 2         | 2         | 2         | 2         | 4         | 4         | 5         | ...       | 1216      | 1237      | 1256      | 1260      | 1274      | 1282      | 1289      | 1296      | 1299      | 1304      |\n",
       "| Henan     | China     | 0         | 0         | 0         | 0         | 0         | 0         | 0         | 1         | ...       | 1244      | 1244      | 1247      | 1247      | 1247      | 1249      | 1249      | 1249      | 1250      | 1250      |\n",
       "| Zhejiang  | China     | 0         | 0         | 1         | 1         | 1         | 1         | 3         | 3         | ...       | 1147      | 1154      | 1161      | 1176      | 1191      | 1195      | 1197      | 1197      | 1211      | 1211      |\n",
       "| Hunan     | China     | 0         | 0         | 0         | 0         | 0         | 0         | 0         | 0         | ...       |  955      |  960      |  968      |  979      |  990      |  995      |  999      | 1005      | 1014      | 1014      |\n",
       "| Anhui     | China     | 0         | 0         | 0         | 0         | 0         | 0         | 0         | 2         | ...       |  979      |  979      |  984      |  984      |  984      |  984      |  984      |  984      |  984      |  984      |\n",
       "| Jiangxi   | China     | 0         | 0         | 0         | 0         | 0         | 2         | 3         | 3         | ...       |  909      |  916      |  919      |  923      |  927      |  932      |  934      |  934      |  934      |  934      |\n",
       "\n"
      ],
      "text/plain": [
       "  States    Country X1.22.20 X1.23.20 X1.24.20 X1.25.20 X1.26.20 X1.27.20\n",
       "1 Guangdong China   0        2        2        2        2        4       \n",
       "2 Henan     China   0        0        0        0        0        0       \n",
       "3 Zhejiang  China   0        0        1        1        1        1       \n",
       "4 Hunan     China   0        0        0        0        0        0       \n",
       "5 Anhui     China   0        0        0        0        0        0       \n",
       "6 Jiangxi   China   0        0        0        0        0        2       \n",
       "  X1.28.20 X1.29.20 ... X3.6.20 X3.7.20 X3.8.20 X3.9.20 X3.10.20 X3.11.20\n",
       "1 4        5        ... 1216    1237    1256    1260    1274     1282    \n",
       "2 0        1        ... 1244    1244    1247    1247    1247     1249    \n",
       "3 3        3        ... 1147    1154    1161    1176    1191     1195    \n",
       "4 0        0        ...  955     960     968     979     990      995    \n",
       "5 0        2        ...  979     979     984     984     984      984    \n",
       "6 3        3        ...  909     916     919     923     927      932    \n",
       "  X3.12.20 X3.13.20 X3.14.20 X3.15.20\n",
       "1 1289     1296     1299     1304    \n",
       "2 1249     1249     1250     1250    \n",
       "3 1197     1197     1211     1211    \n",
       "4  999     1005     1014     1014    \n",
       "5  984      984      984      984    \n",
       "6  934      934      934      934    "
      ]
     },
     "metadata": {},
     "output_type": "display_data"
    },
    {
     "data": {
      "text/html": [
       "<table>\n",
       "<thead><tr><th scope=col>Country</th><th scope=col>X1.22.20</th><th scope=col>X1.23.20</th><th scope=col>X1.24.20</th><th scope=col>X1.25.20</th><th scope=col>X1.26.20</th><th scope=col>X1.27.20</th><th scope=col>X1.28.20</th><th scope=col>X1.29.20</th><th scope=col>X1.30.20</th><th scope=col>...</th><th scope=col>X3.6.20</th><th scope=col>X3.7.20</th><th scope=col>X3.8.20</th><th scope=col>X3.9.20</th><th scope=col>X3.10.20</th><th scope=col>X3.11.20</th><th scope=col>X3.12.20</th><th scope=col>X3.13.20</th><th scope=col>X3.14.20</th><th scope=col>X3.15.20</th></tr></thead>\n",
       "<tbody>\n",
       "\t<tr><td>China</td><td>104  </td><td>199  </td><td>371  </td><td>645  </td><td>1017 </td><td>1454 </td><td>1955 </td><td>2533 </td><td>3238 </td><td>...  </td><td>13098</td><td>13104</td><td>13116</td><td>13117</td><td>13127</td><td>13148</td><td>13151</td><td>13159</td><td>13187</td><td>13209</td></tr>\n",
       "</tbody>\n",
       "</table>\n"
      ],
      "text/latex": [
       "\\begin{tabular}{r|lllllllllllllllllllllllllllllllllllllllllllllllllllllll}\n",
       " Country & X1.22.20 & X1.23.20 & X1.24.20 & X1.25.20 & X1.26.20 & X1.27.20 & X1.28.20 & X1.29.20 & X1.30.20 & ... & X3.6.20 & X3.7.20 & X3.8.20 & X3.9.20 & X3.10.20 & X3.11.20 & X3.12.20 & X3.13.20 & X3.14.20 & X3.15.20\\\\\n",
       "\\hline\n",
       "\t China & 104   & 199   & 371   & 645   & 1017  & 1454  & 1955  & 2533  & 3238  & ...   & 13098 & 13104 & 13116 & 13117 & 13127 & 13148 & 13151 & 13159 & 13187 & 13209\\\\\n",
       "\\end{tabular}\n"
      ],
      "text/markdown": [
       "\n",
       "| Country | X1.22.20 | X1.23.20 | X1.24.20 | X1.25.20 | X1.26.20 | X1.27.20 | X1.28.20 | X1.29.20 | X1.30.20 | ... | X3.6.20 | X3.7.20 | X3.8.20 | X3.9.20 | X3.10.20 | X3.11.20 | X3.12.20 | X3.13.20 | X3.14.20 | X3.15.20 |\n",
       "|---|---|---|---|---|---|---|---|---|---|---|---|---|---|---|---|---|---|---|---|---|\n",
       "| China | 104   | 199   | 371   | 645   | 1017  | 1454  | 1955  | 2533  | 3238  | ...   | 13098 | 13104 | 13116 | 13117 | 13127 | 13148 | 13151 | 13159 | 13187 | 13209 |\n",
       "\n"
      ],
      "text/plain": [
       "  Country X1.22.20 X1.23.20 X1.24.20 X1.25.20 X1.26.20 X1.27.20 X1.28.20\n",
       "1 China   104      199      371      645      1017     1454     1955    \n",
       "  X1.29.20 X1.30.20 ... X3.6.20 X3.7.20 X3.8.20 X3.9.20 X3.10.20 X3.11.20\n",
       "1 2533     3238     ... 13098   13104   13116   13117   13127    13148   \n",
       "  X3.12.20 X3.13.20 X3.14.20 X3.15.20\n",
       "1 13151    13159    13187    13209   "
      ]
     },
     "metadata": {},
     "output_type": "display_data"
    },
    {
     "data": {
      "text/html": [
       "<table>\n",
       "<thead><tr><th scope=col>Country</th><th scope=col>X1.22.20</th><th scope=col>X1.23.20</th><th scope=col>X1.24.20</th><th scope=col>X1.25.20</th><th scope=col>X1.26.20</th><th scope=col>X1.27.20</th><th scope=col>X1.28.20</th><th scope=col>X1.29.20</th><th scope=col>X1.30.20</th><th scope=col>...</th><th scope=col>X3.6.20</th><th scope=col>X3.7.20</th><th scope=col>X3.8.20</th><th scope=col>X3.9.20</th><th scope=col>X3.10.20</th><th scope=col>X3.11.20</th><th scope=col>X3.12.20</th><th scope=col>X3.13.20</th><th scope=col>X3.14.20</th><th scope=col>X3.15.20</th></tr></thead>\n",
       "<tbody>\n",
       "\t<tr><td>China</td><td>0    </td><td>1    </td><td>2    </td><td>2    </td><td>4    </td><td>6    </td><td>6    </td><td>8    </td><td>9    </td><td>...  </td><td>113  </td><td>113  </td><td>114  </td><td>115  </td><td>115  </td><td>115  </td><td>116  </td><td>118  </td><td>118  </td><td>118  </td></tr>\n",
       "</tbody>\n",
       "</table>\n"
      ],
      "text/latex": [
       "\\begin{tabular}{r|lllllllllllllllllllllllllllllllllllllllllllllllllllllll}\n",
       " Country & X1.22.20 & X1.23.20 & X1.24.20 & X1.25.20 & X1.26.20 & X1.27.20 & X1.28.20 & X1.29.20 & X1.30.20 & ... & X3.6.20 & X3.7.20 & X3.8.20 & X3.9.20 & X3.10.20 & X3.11.20 & X3.12.20 & X3.13.20 & X3.14.20 & X3.15.20\\\\\n",
       "\\hline\n",
       "\t China & 0     & 1     & 2     & 2     & 4     & 6     & 6     & 8     & 9     & ...   & 113   & 113   & 114   & 115   & 115   & 115   & 116   & 118   & 118   & 118  \\\\\n",
       "\\end{tabular}\n"
      ],
      "text/markdown": [
       "\n",
       "| Country | X1.22.20 | X1.23.20 | X1.24.20 | X1.25.20 | X1.26.20 | X1.27.20 | X1.28.20 | X1.29.20 | X1.30.20 | ... | X3.6.20 | X3.7.20 | X3.8.20 | X3.9.20 | X3.10.20 | X3.11.20 | X3.12.20 | X3.13.20 | X3.14.20 | X3.15.20 |\n",
       "|---|---|---|---|---|---|---|---|---|---|---|---|---|---|---|---|---|---|---|---|---|\n",
       "| China | 0     | 1     | 2     | 2     | 4     | 6     | 6     | 8     | 9     | ...   | 113   | 113   | 114   | 115   | 115   | 115   | 116   | 118   | 118   | 118   |\n",
       "\n"
      ],
      "text/plain": [
       "  Country X1.22.20 X1.23.20 X1.24.20 X1.25.20 X1.26.20 X1.27.20 X1.28.20\n",
       "1 China   0        1        2        2        4        6        6       \n",
       "  X1.29.20 X1.30.20 ... X3.6.20 X3.7.20 X3.8.20 X3.9.20 X3.10.20 X3.11.20\n",
       "1 8        9        ... 113     113     114     115     115      115     \n",
       "  X3.12.20 X3.13.20 X3.14.20 X3.15.20\n",
       "1 116      118      118      118     "
      ]
     },
     "metadata": {},
     "output_type": "display_data"
    },
    {
     "data": {
      "text/html": [
       "<table>\n",
       "<thead><tr><th scope=col>Country</th><th scope=col>X1.22.20</th><th scope=col>X1.23.20</th><th scope=col>X1.24.20</th><th scope=col>X1.25.20</th><th scope=col>X1.26.20</th><th scope=col>X1.27.20</th><th scope=col>X1.28.20</th><th scope=col>X1.29.20</th><th scope=col>X1.30.20</th><th scope=col>...</th><th scope=col>X3.6.20</th><th scope=col>X3.7.20</th><th scope=col>X3.8.20</th><th scope=col>X3.9.20</th><th scope=col>X3.10.20</th><th scope=col>X3.11.20</th><th scope=col>X3.12.20</th><th scope=col>X3.13.20</th><th scope=col>X3.14.20</th><th scope=col>X3.15.20</th></tr></thead>\n",
       "<tbody>\n",
       "\t<tr><td>China</td><td>0    </td><td>2    </td><td>5    </td><td>7    </td><td>7    </td><td>13   </td><td>21   </td><td>32   </td><td>45   </td><td>...  </td><td>11911</td><td>12039</td><td>12153</td><td>12316</td><td>12438</td><td>12510</td><td>12583</td><td>12643</td><td>12700</td><td>12729</td></tr>\n",
       "</tbody>\n",
       "</table>\n"
      ],
      "text/latex": [
       "\\begin{tabular}{r|lllllllllllllllllllllllllllllllllllllllllllllllllllllll}\n",
       " Country & X1.22.20 & X1.23.20 & X1.24.20 & X1.25.20 & X1.26.20 & X1.27.20 & X1.28.20 & X1.29.20 & X1.30.20 & ... & X3.6.20 & X3.7.20 & X3.8.20 & X3.9.20 & X3.10.20 & X3.11.20 & X3.12.20 & X3.13.20 & X3.14.20 & X3.15.20\\\\\n",
       "\\hline\n",
       "\t China & 0     & 2     & 5     & 7     & 7     & 13    & 21    & 32    & 45    & ...   & 11911 & 12039 & 12153 & 12316 & 12438 & 12510 & 12583 & 12643 & 12700 & 12729\\\\\n",
       "\\end{tabular}\n"
      ],
      "text/markdown": [
       "\n",
       "| Country | X1.22.20 | X1.23.20 | X1.24.20 | X1.25.20 | X1.26.20 | X1.27.20 | X1.28.20 | X1.29.20 | X1.30.20 | ... | X3.6.20 | X3.7.20 | X3.8.20 | X3.9.20 | X3.10.20 | X3.11.20 | X3.12.20 | X3.13.20 | X3.14.20 | X3.15.20 |\n",
       "|---|---|---|---|---|---|---|---|---|---|---|---|---|---|---|---|---|---|---|---|---|\n",
       "| China | 0     | 2     | 5     | 7     | 7     | 13    | 21    | 32    | 45    | ...   | 11911 | 12039 | 12153 | 12316 | 12438 | 12510 | 12583 | 12643 | 12700 | 12729 |\n",
       "\n"
      ],
      "text/plain": [
       "  Country X1.22.20 X1.23.20 X1.24.20 X1.25.20 X1.26.20 X1.27.20 X1.28.20\n",
       "1 China   0        2        5        7        7        13       21      \n",
       "  X1.29.20 X1.30.20 ... X3.6.20 X3.7.20 X3.8.20 X3.9.20 X3.10.20 X3.11.20\n",
       "1 32       45       ... 11911   12039   12153   12316   12438    12510   \n",
       "  X3.12.20 X3.13.20 X3.14.20 X3.15.20\n",
       "1 12583    12643    12700    12729   "
      ]
     },
     "metadata": {},
     "output_type": "display_data"
    },
    {
     "data": {
      "text/html": [
       "<table>\n",
       "<thead><tr><th scope=col>States</th><th scope=col>Confirmed</th><th scope=col>Deaths</th><th scope=col>Recovered</th><th scope=col>Active.Cases</th><th scope=col>Closed.Cases</th></tr></thead>\n",
       "<tbody>\n",
       "\t<tr><td>Guangdong</td><td>1360     </td><td> 8       </td><td>1304     </td><td>48       </td><td>1312     </td></tr>\n",
       "\t<tr><td>Henan    </td><td>1273     </td><td>22       </td><td>1250     </td><td> 1       </td><td>1272     </td></tr>\n",
       "\t<tr><td>Zhejiang </td><td>1231     </td><td> 1       </td><td>1211     </td><td>19       </td><td>1212     </td></tr>\n",
       "\t<tr><td>Hunan    </td><td>1018     </td><td> 4       </td><td>1014     </td><td> 0       </td><td>1018     </td></tr>\n",
       "\t<tr><td>Anhui    </td><td> 990     </td><td> 6       </td><td> 984     </td><td> 0       </td><td> 990     </td></tr>\n",
       "\t<tr><td>Jiangxi  </td><td> 935     </td><td> 1       </td><td> 934     </td><td> 0       </td><td> 935     </td></tr>\n",
       "</tbody>\n",
       "</table>\n"
      ],
      "text/latex": [
       "\\begin{tabular}{r|llllll}\n",
       " States & Confirmed & Deaths & Recovered & Active.Cases & Closed.Cases\\\\\n",
       "\\hline\n",
       "\t Guangdong & 1360      &  8        & 1304      & 48        & 1312     \\\\\n",
       "\t Henan     & 1273      & 22        & 1250      &  1        & 1272     \\\\\n",
       "\t Zhejiang  & 1231      &  1        & 1211      & 19        & 1212     \\\\\n",
       "\t Hunan     & 1018      &  4        & 1014      &  0        & 1018     \\\\\n",
       "\t Anhui     &  990      &  6        &  984      &  0        &  990     \\\\\n",
       "\t Jiangxi   &  935      &  1        &  934      &  0        &  935     \\\\\n",
       "\\end{tabular}\n"
      ],
      "text/markdown": [
       "\n",
       "| States | Confirmed | Deaths | Recovered | Active.Cases | Closed.Cases |\n",
       "|---|---|---|---|---|---|\n",
       "| Guangdong | 1360      |  8        | 1304      | 48        | 1312      |\n",
       "| Henan     | 1273      | 22        | 1250      |  1        | 1272      |\n",
       "| Zhejiang  | 1231      |  1        | 1211      | 19        | 1212      |\n",
       "| Hunan     | 1018      |  4        | 1014      |  0        | 1018      |\n",
       "| Anhui     |  990      |  6        |  984      |  0        |  990      |\n",
       "| Jiangxi   |  935      |  1        |  934      |  0        |  935      |\n",
       "\n"
      ],
      "text/plain": [
       "  States    Confirmed Deaths Recovered Active.Cases Closed.Cases\n",
       "1 Guangdong 1360       8     1304      48           1312        \n",
       "2 Henan     1273      22     1250       1           1272        \n",
       "3 Zhejiang  1231       1     1211      19           1212        \n",
       "4 Hunan     1018       4     1014       0           1018        \n",
       "5 Anhui      990       6      984       0            990        \n",
       "6 Jiangxi    935       1      934       0            935        "
      ]
     },
     "metadata": {},
     "output_type": "display_data"
    },
    {
     "data": {
      "text/html": [
       "<table>\n",
       "<thead><tr><th scope=col>Country</th><th scope=col>Confirmed</th><th scope=col>Deaths</th><th scope=col>Recovered</th><th scope=col>Active.Cases</th><th scope=col>Closed.Cases</th></tr></thead>\n",
       "<tbody>\n",
       "\t<tr><td>China</td><td>13209</td><td>118  </td><td>12729</td><td>362  </td><td>12847</td></tr>\n",
       "</tbody>\n",
       "</table>\n"
      ],
      "text/latex": [
       "\\begin{tabular}{r|llllll}\n",
       " Country & Confirmed & Deaths & Recovered & Active.Cases & Closed.Cases\\\\\n",
       "\\hline\n",
       "\t China & 13209 & 118   & 12729 & 362   & 12847\\\\\n",
       "\\end{tabular}\n"
      ],
      "text/markdown": [
       "\n",
       "| Country | Confirmed | Deaths | Recovered | Active.Cases | Closed.Cases |\n",
       "|---|---|---|---|---|---|\n",
       "| China | 13209 | 118   | 12729 | 362   | 12847 |\n",
       "\n"
      ],
      "text/plain": [
       "  Country Confirmed Deaths Recovered Active.Cases Closed.Cases\n",
       "1 China   13209     118    12729     362          12847       "
      ]
     },
     "metadata": {},
     "output_type": "display_data"
    },
    {
     "data": {
      "text/html": [
       "<table>\n",
       "<thead><tr><th scope=col>Country</th><th scope=col>Day</th><th scope=col>Date</th><th scope=col>Confirmed</th><th scope=col>Deaths</th><th scope=col>Recovered</th><th scope=col>Active.Cases</th><th scope=col>Closed.Cases</th></tr></thead>\n",
       "<tbody>\n",
       "\t<tr><td>China     </td><td>1         </td><td>22-01-2020</td><td> 104      </td><td>0         </td><td> 0        </td><td> 104      </td><td> 0        </td></tr>\n",
       "\t<tr><td>China     </td><td>2         </td><td>23-01-2020</td><td> 199      </td><td>1         </td><td> 2        </td><td> 196      </td><td> 3        </td></tr>\n",
       "\t<tr><td>China     </td><td>3         </td><td>24-01-2020</td><td> 371      </td><td>2         </td><td> 5        </td><td> 364      </td><td> 7        </td></tr>\n",
       "\t<tr><td>China     </td><td>4         </td><td>25-01-2020</td><td> 645      </td><td>2         </td><td> 7        </td><td> 636      </td><td> 9        </td></tr>\n",
       "\t<tr><td>China     </td><td>5         </td><td>26-01-2020</td><td>1017      </td><td>4         </td><td> 7        </td><td>1006      </td><td>11        </td></tr>\n",
       "\t<tr><td>China     </td><td>6         </td><td>27-01-2020</td><td>1454      </td><td>6         </td><td>13        </td><td>1435      </td><td>19        </td></tr>\n",
       "</tbody>\n",
       "</table>\n"
      ],
      "text/latex": [
       "\\begin{tabular}{r|llllllll}\n",
       " Country & Day & Date & Confirmed & Deaths & Recovered & Active.Cases & Closed.Cases\\\\\n",
       "\\hline\n",
       "\t China      & 1          & 22-01-2020 &  104       & 0          &  0         &  104       &  0        \\\\\n",
       "\t China      & 2          & 23-01-2020 &  199       & 1          &  2         &  196       &  3        \\\\\n",
       "\t China      & 3          & 24-01-2020 &  371       & 2          &  5         &  364       &  7        \\\\\n",
       "\t China      & 4          & 25-01-2020 &  645       & 2          &  7         &  636       &  9        \\\\\n",
       "\t China      & 5          & 26-01-2020 & 1017       & 4          &  7         & 1006       & 11        \\\\\n",
       "\t China      & 6          & 27-01-2020 & 1454       & 6          & 13         & 1435       & 19        \\\\\n",
       "\\end{tabular}\n"
      ],
      "text/markdown": [
       "\n",
       "| Country | Day | Date | Confirmed | Deaths | Recovered | Active.Cases | Closed.Cases |\n",
       "|---|---|---|---|---|---|---|---|\n",
       "| China      | 1          | 22-01-2020 |  104       | 0          |  0         |  104       |  0         |\n",
       "| China      | 2          | 23-01-2020 |  199       | 1          |  2         |  196       |  3         |\n",
       "| China      | 3          | 24-01-2020 |  371       | 2          |  5         |  364       |  7         |\n",
       "| China      | 4          | 25-01-2020 |  645       | 2          |  7         |  636       |  9         |\n",
       "| China      | 5          | 26-01-2020 | 1017       | 4          |  7         | 1006       | 11         |\n",
       "| China      | 6          | 27-01-2020 | 1454       | 6          | 13         | 1435       | 19         |\n",
       "\n"
      ],
      "text/plain": [
       "  Country Day Date       Confirmed Deaths Recovered Active.Cases Closed.Cases\n",
       "1 China   1   22-01-2020  104      0       0         104          0          \n",
       "2 China   2   23-01-2020  199      1       2         196          3          \n",
       "3 China   3   24-01-2020  371      2       5         364          7          \n",
       "4 China   4   25-01-2020  645      2       7         636          9          \n",
       "5 China   5   26-01-2020 1017      4       7        1006         11          \n",
       "6 China   6   27-01-2020 1454      6      13        1435         19          "
      ]
     },
     "metadata": {},
     "output_type": "display_data"
    }
   ],
   "source": [
    "# Viewed\n",
    "head(China.States.daily.Confirmed)\n",
    "head(China.States.daily.Deaths)\n",
    "head(China.States.daily.Recovered)\n",
    "\n",
    "head(China.Aggregate.daily.Confirmed)\n",
    "head(China.Aggregate.daily.Deaths)\n",
    "head(China.Aggregate.daily.Recovered)\n",
    "\n",
    "head(China.States.summary)\n",
    "head(China.Aggregate.summary)\n",
    "head(China.dataset.dateWise)"
   ]
  },
  {
   "cell_type": "markdown",
   "metadata": {},
   "source": [
    "##    Diamond Princess (only)"
   ]
  },
  {
   "cell_type": "code",
   "execution_count": 4,
   "metadata": {},
   "outputs": [],
   "source": [
    "##    Loading\n",
    "Diamond.Princess.daily.Confirmed = read.csv(\"ready_to_use/COVID-19/Cruise/Diamond_Princess_daily_Confirmed.csv\")\n",
    "Diamond.Princess.daily.Deaths = read.csv(\"ready_to_use/COVID-19/Cruise/Diamond_Princess_daily_Deaths.csv\")\n",
    "Diamond.Princess.daily.Recovered = read.csv(\"ready_to_use/COVID-19/Cruise/Diamond_Princess_daily_Recovered.csv\")\n",
    "\n",
    "Diamond.Princess.summary = read.csv(\"ready_to_use/COVID-19/Cruise/Diamond_Princess_summary.csv\")\n",
    "Diamond.Princess.dataset.dateWise = read.csv(\"ready_to_use/COVID-19/Cruise/Diamond_Princess_dataset_dateWise_summary.csv\")"
   ]
  },
  {
   "cell_type": "code",
   "execution_count": 5,
   "metadata": {},
   "outputs": [
    {
     "data": {
      "text/html": [
       "<table>\n",
       "<thead><tr><th scope=col>Loaction</th><th scope=col>X1.22.20</th><th scope=col>X1.23.20</th><th scope=col>X1.24.20</th><th scope=col>X1.25.20</th><th scope=col>X1.26.20</th><th scope=col>X1.27.20</th><th scope=col>X1.28.20</th><th scope=col>X1.29.20</th><th scope=col>X1.30.20</th><th scope=col>...</th><th scope=col>X3.6.20</th><th scope=col>X3.7.20</th><th scope=col>X3.8.20</th><th scope=col>X3.9.20</th><th scope=col>X3.10.20</th><th scope=col>X3.11.20</th><th scope=col>X3.12.20</th><th scope=col>X3.13.20</th><th scope=col>X3.14.20</th><th scope=col>X3.15.20</th></tr></thead>\n",
       "<tbody>\n",
       "\t<tr><td>Diamond Princess</td><td>0               </td><td>0               </td><td>0               </td><td>0               </td><td>0               </td><td>0               </td><td>0               </td><td>0               </td><td>0               </td><td>...             </td><td>696             </td><td>696             </td><td>696             </td><td>696             </td><td>696             </td><td>696             </td><td>696             </td><td>696             </td><td>696             </td><td>696             </td></tr>\n",
       "</tbody>\n",
       "</table>\n"
      ],
      "text/latex": [
       "\\begin{tabular}{r|lllllllllllllllllllllllllllllllllllllllllllllllllllllll}\n",
       " Loaction & X1.22.20 & X1.23.20 & X1.24.20 & X1.25.20 & X1.26.20 & X1.27.20 & X1.28.20 & X1.29.20 & X1.30.20 & ... & X3.6.20 & X3.7.20 & X3.8.20 & X3.9.20 & X3.10.20 & X3.11.20 & X3.12.20 & X3.13.20 & X3.14.20 & X3.15.20\\\\\n",
       "\\hline\n",
       "\t Diamond Princess & 0                & 0                & 0                & 0                & 0                & 0                & 0                & 0                & 0                & ...              & 696              & 696              & 696              & 696              & 696              & 696              & 696              & 696              & 696              & 696             \\\\\n",
       "\\end{tabular}\n"
      ],
      "text/markdown": [
       "\n",
       "| Loaction | X1.22.20 | X1.23.20 | X1.24.20 | X1.25.20 | X1.26.20 | X1.27.20 | X1.28.20 | X1.29.20 | X1.30.20 | ... | X3.6.20 | X3.7.20 | X3.8.20 | X3.9.20 | X3.10.20 | X3.11.20 | X3.12.20 | X3.13.20 | X3.14.20 | X3.15.20 |\n",
       "|---|---|---|---|---|---|---|---|---|---|---|---|---|---|---|---|---|---|---|---|---|\n",
       "| Diamond Princess | 0                | 0                | 0                | 0                | 0                | 0                | 0                | 0                | 0                | ...              | 696              | 696              | 696              | 696              | 696              | 696              | 696              | 696              | 696              | 696              |\n",
       "\n"
      ],
      "text/plain": [
       "  Loaction         X1.22.20 X1.23.20 X1.24.20 X1.25.20 X1.26.20 X1.27.20\n",
       "1 Diamond Princess 0        0        0        0        0        0       \n",
       "  X1.28.20 X1.29.20 X1.30.20 ... X3.6.20 X3.7.20 X3.8.20 X3.9.20 X3.10.20\n",
       "1 0        0        0        ... 696     696     696     696     696     \n",
       "  X3.11.20 X3.12.20 X3.13.20 X3.14.20 X3.15.20\n",
       "1 696      696      696      696      696     "
      ]
     },
     "metadata": {},
     "output_type": "display_data"
    },
    {
     "data": {
      "text/html": [
       "<table>\n",
       "<thead><tr><th scope=col>Loaction</th><th scope=col>X1.22.20</th><th scope=col>X1.23.20</th><th scope=col>X1.24.20</th><th scope=col>X1.25.20</th><th scope=col>X1.26.20</th><th scope=col>X1.27.20</th><th scope=col>X1.28.20</th><th scope=col>X1.29.20</th><th scope=col>X1.30.20</th><th scope=col>...</th><th scope=col>X3.6.20</th><th scope=col>X3.7.20</th><th scope=col>X3.8.20</th><th scope=col>X3.9.20</th><th scope=col>X3.10.20</th><th scope=col>X3.11.20</th><th scope=col>X3.12.20</th><th scope=col>X3.13.20</th><th scope=col>X3.14.20</th><th scope=col>X3.15.20</th></tr></thead>\n",
       "<tbody>\n",
       "\t<tr><td>Diamond Princess</td><td>0               </td><td>0               </td><td>0               </td><td>0               </td><td>0               </td><td>0               </td><td>0               </td><td>0               </td><td>0               </td><td>...             </td><td>6               </td><td>6               </td><td>6               </td><td>6               </td><td>6               </td><td>7               </td><td>7               </td><td>7               </td><td>7               </td><td>7               </td></tr>\n",
       "</tbody>\n",
       "</table>\n"
      ],
      "text/latex": [
       "\\begin{tabular}{r|lllllllllllllllllllllllllllllllllllllllllllllllllllllll}\n",
       " Loaction & X1.22.20 & X1.23.20 & X1.24.20 & X1.25.20 & X1.26.20 & X1.27.20 & X1.28.20 & X1.29.20 & X1.30.20 & ... & X3.6.20 & X3.7.20 & X3.8.20 & X3.9.20 & X3.10.20 & X3.11.20 & X3.12.20 & X3.13.20 & X3.14.20 & X3.15.20\\\\\n",
       "\\hline\n",
       "\t Diamond Princess & 0                & 0                & 0                & 0                & 0                & 0                & 0                & 0                & 0                & ...              & 6                & 6                & 6                & 6                & 6                & 7                & 7                & 7                & 7                & 7               \\\\\n",
       "\\end{tabular}\n"
      ],
      "text/markdown": [
       "\n",
       "| Loaction | X1.22.20 | X1.23.20 | X1.24.20 | X1.25.20 | X1.26.20 | X1.27.20 | X1.28.20 | X1.29.20 | X1.30.20 | ... | X3.6.20 | X3.7.20 | X3.8.20 | X3.9.20 | X3.10.20 | X3.11.20 | X3.12.20 | X3.13.20 | X3.14.20 | X3.15.20 |\n",
       "|---|---|---|---|---|---|---|---|---|---|---|---|---|---|---|---|---|---|---|---|---|\n",
       "| Diamond Princess | 0                | 0                | 0                | 0                | 0                | 0                | 0                | 0                | 0                | ...              | 6                | 6                | 6                | 6                | 6                | 7                | 7                | 7                | 7                | 7                |\n",
       "\n"
      ],
      "text/plain": [
       "  Loaction         X1.22.20 X1.23.20 X1.24.20 X1.25.20 X1.26.20 X1.27.20\n",
       "1 Diamond Princess 0        0        0        0        0        0       \n",
       "  X1.28.20 X1.29.20 X1.30.20 ... X3.6.20 X3.7.20 X3.8.20 X3.9.20 X3.10.20\n",
       "1 0        0        0        ... 6       6       6       6       6       \n",
       "  X3.11.20 X3.12.20 X3.13.20 X3.14.20 X3.15.20\n",
       "1 7        7        7        7        7       "
      ]
     },
     "metadata": {},
     "output_type": "display_data"
    },
    {
     "data": {
      "text/html": [
       "<table>\n",
       "<thead><tr><th scope=col>Loaction</th><th scope=col>X1.22.20</th><th scope=col>X1.23.20</th><th scope=col>X1.24.20</th><th scope=col>X1.25.20</th><th scope=col>X1.26.20</th><th scope=col>X1.27.20</th><th scope=col>X1.28.20</th><th scope=col>X1.29.20</th><th scope=col>X1.30.20</th><th scope=col>...</th><th scope=col>X3.6.20</th><th scope=col>X3.7.20</th><th scope=col>X3.8.20</th><th scope=col>X3.9.20</th><th scope=col>X3.10.20</th><th scope=col>X3.11.20</th><th scope=col>X3.12.20</th><th scope=col>X3.13.20</th><th scope=col>X3.14.20</th><th scope=col>X3.15.20</th></tr></thead>\n",
       "<tbody>\n",
       "\t<tr><td>Diamond Princess</td><td>0               </td><td>0               </td><td>0               </td><td>0               </td><td>0               </td><td>0               </td><td>0               </td><td>0               </td><td>0               </td><td>...             </td><td>40              </td><td>40              </td><td>40              </td><td>40              </td><td>40              </td><td>325             </td><td>325             </td><td>325             </td><td>325             </td><td>325             </td></tr>\n",
       "</tbody>\n",
       "</table>\n"
      ],
      "text/latex": [
       "\\begin{tabular}{r|lllllllllllllllllllllllllllllllllllllllllllllllllllllll}\n",
       " Loaction & X1.22.20 & X1.23.20 & X1.24.20 & X1.25.20 & X1.26.20 & X1.27.20 & X1.28.20 & X1.29.20 & X1.30.20 & ... & X3.6.20 & X3.7.20 & X3.8.20 & X3.9.20 & X3.10.20 & X3.11.20 & X3.12.20 & X3.13.20 & X3.14.20 & X3.15.20\\\\\n",
       "\\hline\n",
       "\t Diamond Princess & 0                & 0                & 0                & 0                & 0                & 0                & 0                & 0                & 0                & ...              & 40               & 40               & 40               & 40               & 40               & 325              & 325              & 325              & 325              & 325             \\\\\n",
       "\\end{tabular}\n"
      ],
      "text/markdown": [
       "\n",
       "| Loaction | X1.22.20 | X1.23.20 | X1.24.20 | X1.25.20 | X1.26.20 | X1.27.20 | X1.28.20 | X1.29.20 | X1.30.20 | ... | X3.6.20 | X3.7.20 | X3.8.20 | X3.9.20 | X3.10.20 | X3.11.20 | X3.12.20 | X3.13.20 | X3.14.20 | X3.15.20 |\n",
       "|---|---|---|---|---|---|---|---|---|---|---|---|---|---|---|---|---|---|---|---|---|\n",
       "| Diamond Princess | 0                | 0                | 0                | 0                | 0                | 0                | 0                | 0                | 0                | ...              | 40               | 40               | 40               | 40               | 40               | 325              | 325              | 325              | 325              | 325              |\n",
       "\n"
      ],
      "text/plain": [
       "  Loaction         X1.22.20 X1.23.20 X1.24.20 X1.25.20 X1.26.20 X1.27.20\n",
       "1 Diamond Princess 0        0        0        0        0        0       \n",
       "  X1.28.20 X1.29.20 X1.30.20 ... X3.6.20 X3.7.20 X3.8.20 X3.9.20 X3.10.20\n",
       "1 0        0        0        ... 40      40      40      40      40      \n",
       "  X3.11.20 X3.12.20 X3.13.20 X3.14.20 X3.15.20\n",
       "1 325      325      325      325      325     "
      ]
     },
     "metadata": {},
     "output_type": "display_data"
    },
    {
     "data": {
      "text/html": [
       "<table>\n",
       "<thead><tr><th scope=col>Location</th><th scope=col>Confirmed</th><th scope=col>Deaths</th><th scope=col>Recovered</th><th scope=col>Active.Cases</th><th scope=col>Closed.Cases</th></tr></thead>\n",
       "<tbody>\n",
       "\t<tr><td>Diamond Princess</td><td>706             </td><td>7               </td><td>325             </td><td>374             </td><td>332             </td></tr>\n",
       "</tbody>\n",
       "</table>\n"
      ],
      "text/latex": [
       "\\begin{tabular}{r|llllll}\n",
       " Location & Confirmed & Deaths & Recovered & Active.Cases & Closed.Cases\\\\\n",
       "\\hline\n",
       "\t Diamond Princess & 706              & 7                & 325              & 374              & 332             \\\\\n",
       "\\end{tabular}\n"
      ],
      "text/markdown": [
       "\n",
       "| Location | Confirmed | Deaths | Recovered | Active.Cases | Closed.Cases |\n",
       "|---|---|---|---|---|---|\n",
       "| Diamond Princess | 706              | 7                | 325              | 374              | 332              |\n",
       "\n"
      ],
      "text/plain": [
       "  Location         Confirmed Deaths Recovered Active.Cases Closed.Cases\n",
       "1 Diamond Princess 706       7      325       374          332         "
      ]
     },
     "metadata": {},
     "output_type": "display_data"
    },
    {
     "data": {
      "text/html": [
       "<table>\n",
       "<thead><tr><th scope=col>State</th><th scope=col>Day</th><th scope=col>Date</th><th scope=col>Confirmed</th><th scope=col>Deaths</th><th scope=col>Recovered</th><th scope=col>Active.Cases</th><th scope=col>Closed.Cases</th></tr></thead>\n",
       "<tbody>\n",
       "\t<tr><td>Diamond Princess</td><td>1               </td><td>22-01-2020      </td><td>0               </td><td>0               </td><td>0               </td><td>0               </td><td>0               </td></tr>\n",
       "\t<tr><td>Diamond Princess</td><td>2               </td><td>23-01-2020      </td><td>0               </td><td>0               </td><td>0               </td><td>0               </td><td>0               </td></tr>\n",
       "\t<tr><td>Diamond Princess</td><td>3               </td><td>24-01-2020      </td><td>0               </td><td>0               </td><td>0               </td><td>0               </td><td>0               </td></tr>\n",
       "\t<tr><td>Diamond Princess</td><td>4               </td><td>25-01-2020      </td><td>0               </td><td>0               </td><td>0               </td><td>0               </td><td>0               </td></tr>\n",
       "\t<tr><td>Diamond Princess</td><td>5               </td><td>26-01-2020      </td><td>0               </td><td>0               </td><td>0               </td><td>0               </td><td>0               </td></tr>\n",
       "\t<tr><td>Diamond Princess</td><td>6               </td><td>27-01-2020      </td><td>0               </td><td>0               </td><td>0               </td><td>0               </td><td>0               </td></tr>\n",
       "</tbody>\n",
       "</table>\n"
      ],
      "text/latex": [
       "\\begin{tabular}{r|llllllll}\n",
       " State & Day & Date & Confirmed & Deaths & Recovered & Active.Cases & Closed.Cases\\\\\n",
       "\\hline\n",
       "\t Diamond Princess & 1                & 22-01-2020       & 0                & 0                & 0                & 0                & 0               \\\\\n",
       "\t Diamond Princess & 2                & 23-01-2020       & 0                & 0                & 0                & 0                & 0               \\\\\n",
       "\t Diamond Princess & 3                & 24-01-2020       & 0                & 0                & 0                & 0                & 0               \\\\\n",
       "\t Diamond Princess & 4                & 25-01-2020       & 0                & 0                & 0                & 0                & 0               \\\\\n",
       "\t Diamond Princess & 5                & 26-01-2020       & 0                & 0                & 0                & 0                & 0               \\\\\n",
       "\t Diamond Princess & 6                & 27-01-2020       & 0                & 0                & 0                & 0                & 0               \\\\\n",
       "\\end{tabular}\n"
      ],
      "text/markdown": [
       "\n",
       "| State | Day | Date | Confirmed | Deaths | Recovered | Active.Cases | Closed.Cases |\n",
       "|---|---|---|---|---|---|---|---|\n",
       "| Diamond Princess | 1                | 22-01-2020       | 0                | 0                | 0                | 0                | 0                |\n",
       "| Diamond Princess | 2                | 23-01-2020       | 0                | 0                | 0                | 0                | 0                |\n",
       "| Diamond Princess | 3                | 24-01-2020       | 0                | 0                | 0                | 0                | 0                |\n",
       "| Diamond Princess | 4                | 25-01-2020       | 0                | 0                | 0                | 0                | 0                |\n",
       "| Diamond Princess | 5                | 26-01-2020       | 0                | 0                | 0                | 0                | 0                |\n",
       "| Diamond Princess | 6                | 27-01-2020       | 0                | 0                | 0                | 0                | 0                |\n",
       "\n"
      ],
      "text/plain": [
       "  State            Day Date       Confirmed Deaths Recovered Active.Cases\n",
       "1 Diamond Princess 1   22-01-2020 0         0      0         0           \n",
       "2 Diamond Princess 2   23-01-2020 0         0      0         0           \n",
       "3 Diamond Princess 3   24-01-2020 0         0      0         0           \n",
       "4 Diamond Princess 4   25-01-2020 0         0      0         0           \n",
       "5 Diamond Princess 5   26-01-2020 0         0      0         0           \n",
       "6 Diamond Princess 6   27-01-2020 0         0      0         0           \n",
       "  Closed.Cases\n",
       "1 0           \n",
       "2 0           \n",
       "3 0           \n",
       "4 0           \n",
       "5 0           \n",
       "6 0           "
      ]
     },
     "metadata": {},
     "output_type": "display_data"
    }
   ],
   "source": [
    "##    Viewed\n",
    "head(Diamond.Princess.daily.Confirmed)\n",
    "head(Diamond.Princess.daily.Deaths)\n",
    "head(Diamond.Princess.daily.Recovered)\n",
    "\n",
    "head(Diamond.Princess.summary)\n",
    "head(Diamond.Princess.dataset.dateWise)"
   ]
  },
  {
   "cell_type": "markdown",
   "metadata": {},
   "source": [
    "##    FOUR"
   ]
  },
  {
   "cell_type": "code",
   "execution_count": 6,
   "metadata": {},
   "outputs": [],
   "source": [
    "## Loading\n",
    "FOUR.daily.Confirmed = read.csv(\"ready_to_use/COVID-19/FOUR/Four_daily_Confirmed.csv\")\n",
    "FOUR.daily.Deaths = read.csv(\"ready_to_use/COVID-19/FOUR/Four_daily_Deaths.csv\")\n",
    "FOUR.daily.Recovered = read.csv(\"ready_to_use/COVID-19/FOUR/Four_daily_Recovered.csv\")\n",
    "\n",
    "FOUR.summary = read.csv(\"ready_to_use/COVID-19/FOUR/Four_Summary.csv\")\n",
    "FOUR.dataset.dateWise = read.csv(\"ready_to_use/COVID-19/FOUR/Four_dataset_dateWise.csv\")\n",
    "FOUR.dataset.locationWise = read.csv(\"ready_to_use/COVID-19/FOUR/Four_dataset_locationWise.csv\")"
   ]
  },
  {
   "cell_type": "code",
   "execution_count": 7,
   "metadata": {},
   "outputs": [
    {
     "data": {
      "text/html": [
       "<table>\n",
       "<thead><tr><th scope=col>Location</th><th scope=col>X1.22.20</th><th scope=col>X1.23.20</th><th scope=col>X1.24.20</th><th scope=col>X1.25.20</th><th scope=col>X1.26.20</th><th scope=col>X1.27.20</th><th scope=col>X1.28.20</th><th scope=col>X1.29.20</th><th scope=col>X1.30.20</th><th scope=col>...</th><th scope=col>X3.6.20</th><th scope=col>X3.7.20</th><th scope=col>X3.8.20</th><th scope=col>X3.9.20</th><th scope=col>X3.10.20</th><th scope=col>X3.11.20</th><th scope=col>X3.12.20</th><th scope=col>X3.13.20</th><th scope=col>X3.14.20</th><th scope=col>X3.15.20</th></tr></thead>\n",
       "<tbody>\n",
       "\t<tr><td>Hubei           </td><td>444             </td><td>444             </td><td>549             </td><td>761             </td><td>1058            </td><td>1423            </td><td>3554            </td><td>3554            </td><td>4903            </td><td>...             </td><td>67592           </td><td>67666           </td><td>67707           </td><td>67743           </td><td>67760           </td><td>67773           </td><td>67781           </td><td>67786           </td><td>67790           </td><td>67794           </td></tr>\n",
       "\t<tr><td>China           </td><td>104             </td><td>199             </td><td>371             </td><td>645             </td><td>1017            </td><td>1454            </td><td>1955            </td><td>2533            </td><td>3238            </td><td>...             </td><td>13098           </td><td>13104           </td><td>13116           </td><td>13117           </td><td>13127           </td><td>13148           </td><td>13151           </td><td>13159           </td><td>13187           </td><td>13209           </td></tr>\n",
       "\t<tr><td>World           </td><td>111             </td><td>209             </td><td>392             </td><td>673             </td><td>1060            </td><td>1504            </td><td>2024            </td><td>2612            </td><td>3331            </td><td>...             </td><td>33496           </td><td>37459           </td><td>41392           </td><td>45122           </td><td>50136           </td><td>57396           </td><td>59866           </td><td>76711           </td><td>87611           </td><td>98960           </td></tr>\n",
       "\t<tr><td>Diamond Princess</td><td>  0             </td><td>  0             </td><td>  0             </td><td>  0             </td><td>   0            </td><td>   0            </td><td>   0            </td><td>   0            </td><td>   0            </td><td>...             </td><td>  696           </td><td>  696           </td><td>  696           </td><td>  696           </td><td>  696           </td><td>  696           </td><td>  696           </td><td>  696           </td><td>  696           </td><td>  696           </td></tr>\n",
       "</tbody>\n",
       "</table>\n"
      ],
      "text/latex": [
       "\\begin{tabular}{r|lllllllllllllllllllllllllllllllllllllllllllllllllllllll}\n",
       " Location & X1.22.20 & X1.23.20 & X1.24.20 & X1.25.20 & X1.26.20 & X1.27.20 & X1.28.20 & X1.29.20 & X1.30.20 & ... & X3.6.20 & X3.7.20 & X3.8.20 & X3.9.20 & X3.10.20 & X3.11.20 & X3.12.20 & X3.13.20 & X3.14.20 & X3.15.20\\\\\n",
       "\\hline\n",
       "\t Hubei            & 444              & 444              & 549              & 761              & 1058             & 1423             & 3554             & 3554             & 4903             & ...              & 67592            & 67666            & 67707            & 67743            & 67760            & 67773            & 67781            & 67786            & 67790            & 67794           \\\\\n",
       "\t China            & 104              & 199              & 371              & 645              & 1017             & 1454             & 1955             & 2533             & 3238             & ...              & 13098            & 13104            & 13116            & 13117            & 13127            & 13148            & 13151            & 13159            & 13187            & 13209           \\\\\n",
       "\t World            & 111              & 209              & 392              & 673              & 1060             & 1504             & 2024             & 2612             & 3331             & ...              & 33496            & 37459            & 41392            & 45122            & 50136            & 57396            & 59866            & 76711            & 87611            & 98960           \\\\\n",
       "\t Diamond Princess &   0              &   0              &   0              &   0              &    0             &    0             &    0             &    0             &    0             & ...              &   696            &   696            &   696            &   696            &   696            &   696            &   696            &   696            &   696            &   696           \\\\\n",
       "\\end{tabular}\n"
      ],
      "text/markdown": [
       "\n",
       "| Location | X1.22.20 | X1.23.20 | X1.24.20 | X1.25.20 | X1.26.20 | X1.27.20 | X1.28.20 | X1.29.20 | X1.30.20 | ... | X3.6.20 | X3.7.20 | X3.8.20 | X3.9.20 | X3.10.20 | X3.11.20 | X3.12.20 | X3.13.20 | X3.14.20 | X3.15.20 |\n",
       "|---|---|---|---|---|---|---|---|---|---|---|---|---|---|---|---|---|---|---|---|---|\n",
       "| Hubei            | 444              | 444              | 549              | 761              | 1058             | 1423             | 3554             | 3554             | 4903             | ...              | 67592            | 67666            | 67707            | 67743            | 67760            | 67773            | 67781            | 67786            | 67790            | 67794            |\n",
       "| China            | 104              | 199              | 371              | 645              | 1017             | 1454             | 1955             | 2533             | 3238             | ...              | 13098            | 13104            | 13116            | 13117            | 13127            | 13148            | 13151            | 13159            | 13187            | 13209            |\n",
       "| World            | 111              | 209              | 392              | 673              | 1060             | 1504             | 2024             | 2612             | 3331             | ...              | 33496            | 37459            | 41392            | 45122            | 50136            | 57396            | 59866            | 76711            | 87611            | 98960            |\n",
       "| Diamond Princess |   0              |   0              |   0              |   0              |    0             |    0             |    0             |    0             |    0             | ...              |   696            |   696            |   696            |   696            |   696            |   696            |   696            |   696            |   696            |   696            |\n",
       "\n"
      ],
      "text/plain": [
       "  Location         X1.22.20 X1.23.20 X1.24.20 X1.25.20 X1.26.20 X1.27.20\n",
       "1 Hubei            444      444      549      761      1058     1423    \n",
       "2 China            104      199      371      645      1017     1454    \n",
       "3 World            111      209      392      673      1060     1504    \n",
       "4 Diamond Princess   0        0        0        0         0        0    \n",
       "  X1.28.20 X1.29.20 X1.30.20 ... X3.6.20 X3.7.20 X3.8.20 X3.9.20 X3.10.20\n",
       "1 3554     3554     4903     ... 67592   67666   67707   67743   67760   \n",
       "2 1955     2533     3238     ... 13098   13104   13116   13117   13127   \n",
       "3 2024     2612     3331     ... 33496   37459   41392   45122   50136   \n",
       "4    0        0        0     ...   696     696     696     696     696   \n",
       "  X3.11.20 X3.12.20 X3.13.20 X3.14.20 X3.15.20\n",
       "1 67773    67781    67786    67790    67794   \n",
       "2 13148    13151    13159    13187    13209   \n",
       "3 57396    59866    76711    87611    98960   \n",
       "4   696      696      696      696      696   "
      ]
     },
     "metadata": {},
     "output_type": "display_data"
    },
    {
     "data": {
      "text/html": [
       "<table>\n",
       "<thead><tr><th scope=col>Location</th><th scope=col>X1.22.20</th><th scope=col>X1.23.20</th><th scope=col>X1.24.20</th><th scope=col>X1.25.20</th><th scope=col>X1.26.20</th><th scope=col>X1.27.20</th><th scope=col>X1.28.20</th><th scope=col>X1.29.20</th><th scope=col>X1.30.20</th><th scope=col>...</th><th scope=col>X3.6.20</th><th scope=col>X3.7.20</th><th scope=col>X3.8.20</th><th scope=col>X3.9.20</th><th scope=col>X3.10.20</th><th scope=col>X3.11.20</th><th scope=col>X3.12.20</th><th scope=col>X3.13.20</th><th scope=col>X3.14.20</th><th scope=col>X3.15.20</th></tr></thead>\n",
       "<tbody>\n",
       "\t<tr><td>Hubei           </td><td>17              </td><td>17              </td><td>24              </td><td>40              </td><td>52              </td><td>76              </td><td>125             </td><td>125             </td><td>162             </td><td>...             </td><td>2931            </td><td>2959            </td><td>2986            </td><td>3008            </td><td>3024            </td><td>3046            </td><td>3056            </td><td>3062            </td><td>3075            </td><td>3085            </td></tr>\n",
       "\t<tr><td>China           </td><td> 0              </td><td> 1              </td><td> 2              </td><td> 2              </td><td> 4              </td><td> 6              </td><td>  6             </td><td>  8             </td><td>  9             </td><td>...             </td><td> 113            </td><td> 113            </td><td> 114            </td><td> 115            </td><td> 115            </td><td> 115            </td><td> 116            </td><td> 118            </td><td> 118            </td><td> 118            </td></tr>\n",
       "\t<tr><td>World           </td><td> 0              </td><td> 0              </td><td> 0              </td><td> 0              </td><td> 0              </td><td> 0              </td><td>  0             </td><td>  0             </td><td>  0             </td><td>...             </td><td> 410            </td><td> 480            </td><td> 696            </td><td> 859            </td><td>1117            </td><td>1447            </td><td>1541            </td><td>2217            </td><td>2619            </td><td>3230            </td></tr>\n",
       "\t<tr><td>Diamond Princess</td><td> 0              </td><td> 0              </td><td> 0              </td><td> 0              </td><td> 0              </td><td> 0              </td><td>  0             </td><td>  0             </td><td>  0             </td><td>...             </td><td>   6            </td><td>   6            </td><td>   6            </td><td>   6            </td><td>   6            </td><td>   7            </td><td>   7            </td><td>   7            </td><td>   7            </td><td>   7            </td></tr>\n",
       "</tbody>\n",
       "</table>\n"
      ],
      "text/latex": [
       "\\begin{tabular}{r|lllllllllllllllllllllllllllllllllllllllllllllllllllllll}\n",
       " Location & X1.22.20 & X1.23.20 & X1.24.20 & X1.25.20 & X1.26.20 & X1.27.20 & X1.28.20 & X1.29.20 & X1.30.20 & ... & X3.6.20 & X3.7.20 & X3.8.20 & X3.9.20 & X3.10.20 & X3.11.20 & X3.12.20 & X3.13.20 & X3.14.20 & X3.15.20\\\\\n",
       "\\hline\n",
       "\t Hubei            & 17               & 17               & 24               & 40               & 52               & 76               & 125              & 125              & 162              & ...              & 2931             & 2959             & 2986             & 3008             & 3024             & 3046             & 3056             & 3062             & 3075             & 3085            \\\\\n",
       "\t China            &  0               &  1               &  2               &  2               &  4               &  6               &   6              &   8              &   9              & ...              &  113             &  113             &  114             &  115             &  115             &  115             &  116             &  118             &  118             &  118            \\\\\n",
       "\t World            &  0               &  0               &  0               &  0               &  0               &  0               &   0              &   0              &   0              & ...              &  410             &  480             &  696             &  859             & 1117             & 1447             & 1541             & 2217             & 2619             & 3230            \\\\\n",
       "\t Diamond Princess &  0               &  0               &  0               &  0               &  0               &  0               &   0              &   0              &   0              & ...              &    6             &    6             &    6             &    6             &    6             &    7             &    7             &    7             &    7             &    7            \\\\\n",
       "\\end{tabular}\n"
      ],
      "text/markdown": [
       "\n",
       "| Location | X1.22.20 | X1.23.20 | X1.24.20 | X1.25.20 | X1.26.20 | X1.27.20 | X1.28.20 | X1.29.20 | X1.30.20 | ... | X3.6.20 | X3.7.20 | X3.8.20 | X3.9.20 | X3.10.20 | X3.11.20 | X3.12.20 | X3.13.20 | X3.14.20 | X3.15.20 |\n",
       "|---|---|---|---|---|---|---|---|---|---|---|---|---|---|---|---|---|---|---|---|---|\n",
       "| Hubei            | 17               | 17               | 24               | 40               | 52               | 76               | 125              | 125              | 162              | ...              | 2931             | 2959             | 2986             | 3008             | 3024             | 3046             | 3056             | 3062             | 3075             | 3085             |\n",
       "| China            |  0               |  1               |  2               |  2               |  4               |  6               |   6              |   8              |   9              | ...              |  113             |  113             |  114             |  115             |  115             |  115             |  116             |  118             |  118             |  118             |\n",
       "| World            |  0               |  0               |  0               |  0               |  0               |  0               |   0              |   0              |   0              | ...              |  410             |  480             |  696             |  859             | 1117             | 1447             | 1541             | 2217             | 2619             | 3230             |\n",
       "| Diamond Princess |  0               |  0               |  0               |  0               |  0               |  0               |   0              |   0              |   0              | ...              |    6             |    6             |    6             |    6             |    6             |    7             |    7             |    7             |    7             |    7             |\n",
       "\n"
      ],
      "text/plain": [
       "  Location         X1.22.20 X1.23.20 X1.24.20 X1.25.20 X1.26.20 X1.27.20\n",
       "1 Hubei            17       17       24       40       52       76      \n",
       "2 China             0        1        2        2        4        6      \n",
       "3 World             0        0        0        0        0        0      \n",
       "4 Diamond Princess  0        0        0        0        0        0      \n",
       "  X1.28.20 X1.29.20 X1.30.20 ... X3.6.20 X3.7.20 X3.8.20 X3.9.20 X3.10.20\n",
       "1 125      125      162      ... 2931    2959    2986    3008    3024    \n",
       "2   6        8        9      ...  113     113     114     115     115    \n",
       "3   0        0        0      ...  410     480     696     859    1117    \n",
       "4   0        0        0      ...    6       6       6       6       6    \n",
       "  X3.11.20 X3.12.20 X3.13.20 X3.14.20 X3.15.20\n",
       "1 3046     3056     3062     3075     3085    \n",
       "2  115      116      118      118      118    \n",
       "3 1447     1541     2217     2619     3230    \n",
       "4    7        7        7        7        7    "
      ]
     },
     "metadata": {},
     "output_type": "display_data"
    },
    {
     "data": {
      "text/html": [
       "<table>\n",
       "<thead><tr><th scope=col>Location</th><th scope=col>X1.22.20</th><th scope=col>X1.23.20</th><th scope=col>X1.24.20</th><th scope=col>X1.25.20</th><th scope=col>X1.26.20</th><th scope=col>X1.27.20</th><th scope=col>X1.28.20</th><th scope=col>X1.29.20</th><th scope=col>X1.30.20</th><th scope=col>...</th><th scope=col>X3.6.20</th><th scope=col>X3.7.20</th><th scope=col>X3.8.20</th><th scope=col>X3.9.20</th><th scope=col>X3.10.20</th><th scope=col>X3.11.20</th><th scope=col>X3.12.20</th><th scope=col>X3.13.20</th><th scope=col>X3.14.20</th><th scope=col>X3.15.20</th></tr></thead>\n",
       "<tbody>\n",
       "\t<tr><td>Hubei           </td><td>28              </td><td>28              </td><td>31              </td><td>32              </td><td>42              </td><td>45              </td><td>80              </td><td>88              </td><td>90              </td><td>...             </td><td>42033           </td><td>43500           </td><td>45235           </td><td>46488           </td><td>47743           </td><td>49134           </td><td>50318           </td><td>51553           </td><td>52960           </td><td>54288           </td></tr>\n",
       "\t<tr><td>China           </td><td> 0              </td><td> 2              </td><td> 5              </td><td> 7              </td><td> 7              </td><td>13              </td><td>21              </td><td>32              </td><td>45              </td><td>...             </td><td>11911           </td><td>12039           </td><td>12153           </td><td>12316           </td><td>12438           </td><td>12510           </td><td>12583           </td><td>12643           </td><td>12700           </td><td>12729           </td></tr>\n",
       "\t<tr><td>World           </td><td> 0              </td><td> 0              </td><td> 0              </td><td> 0              </td><td> 3              </td><td> 3              </td><td> 6              </td><td> 6              </td><td> 8              </td><td>...             </td><td> 1881           </td><td> 2779           </td><td> 3266           </td><td> 3650           </td><td> 4183           </td><td> 5034           </td><td> 5098           </td><td> 5730           </td><td> 6639           </td><td> 8692           </td></tr>\n",
       "\t<tr><td>Diamond Princess</td><td> 0              </td><td> 0              </td><td> 0              </td><td> 0              </td><td> 0              </td><td> 0              </td><td> 0              </td><td> 0              </td><td> 0              </td><td>...             </td><td>   40           </td><td>   40           </td><td>   40           </td><td>   40           </td><td>   40           </td><td>  325           </td><td>  325           </td><td>  325           </td><td>  325           </td><td>  325           </td></tr>\n",
       "</tbody>\n",
       "</table>\n"
      ],
      "text/latex": [
       "\\begin{tabular}{r|lllllllllllllllllllllllllllllllllllllllllllllllllllllll}\n",
       " Location & X1.22.20 & X1.23.20 & X1.24.20 & X1.25.20 & X1.26.20 & X1.27.20 & X1.28.20 & X1.29.20 & X1.30.20 & ... & X3.6.20 & X3.7.20 & X3.8.20 & X3.9.20 & X3.10.20 & X3.11.20 & X3.12.20 & X3.13.20 & X3.14.20 & X3.15.20\\\\\n",
       "\\hline\n",
       "\t Hubei            & 28               & 28               & 31               & 32               & 42               & 45               & 80               & 88               & 90               & ...              & 42033            & 43500            & 45235            & 46488            & 47743            & 49134            & 50318            & 51553            & 52960            & 54288           \\\\\n",
       "\t China            &  0               &  2               &  5               &  7               &  7               & 13               & 21               & 32               & 45               & ...              & 11911            & 12039            & 12153            & 12316            & 12438            & 12510            & 12583            & 12643            & 12700            & 12729           \\\\\n",
       "\t World            &  0               &  0               &  0               &  0               &  3               &  3               &  6               &  6               &  8               & ...              &  1881            &  2779            &  3266            &  3650            &  4183            &  5034            &  5098            &  5730            &  6639            &  8692           \\\\\n",
       "\t Diamond Princess &  0               &  0               &  0               &  0               &  0               &  0               &  0               &  0               &  0               & ...              &    40            &    40            &    40            &    40            &    40            &   325            &   325            &   325            &   325            &   325           \\\\\n",
       "\\end{tabular}\n"
      ],
      "text/markdown": [
       "\n",
       "| Location | X1.22.20 | X1.23.20 | X1.24.20 | X1.25.20 | X1.26.20 | X1.27.20 | X1.28.20 | X1.29.20 | X1.30.20 | ... | X3.6.20 | X3.7.20 | X3.8.20 | X3.9.20 | X3.10.20 | X3.11.20 | X3.12.20 | X3.13.20 | X3.14.20 | X3.15.20 |\n",
       "|---|---|---|---|---|---|---|---|---|---|---|---|---|---|---|---|---|---|---|---|---|\n",
       "| Hubei            | 28               | 28               | 31               | 32               | 42               | 45               | 80               | 88               | 90               | ...              | 42033            | 43500            | 45235            | 46488            | 47743            | 49134            | 50318            | 51553            | 52960            | 54288            |\n",
       "| China            |  0               |  2               |  5               |  7               |  7               | 13               | 21               | 32               | 45               | ...              | 11911            | 12039            | 12153            | 12316            | 12438            | 12510            | 12583            | 12643            | 12700            | 12729            |\n",
       "| World            |  0               |  0               |  0               |  0               |  3               |  3               |  6               |  6               |  8               | ...              |  1881            |  2779            |  3266            |  3650            |  4183            |  5034            |  5098            |  5730            |  6639            |  8692            |\n",
       "| Diamond Princess |  0               |  0               |  0               |  0               |  0               |  0               |  0               |  0               |  0               | ...              |    40            |    40            |    40            |    40            |    40            |   325            |   325            |   325            |   325            |   325            |\n",
       "\n"
      ],
      "text/plain": [
       "  Location         X1.22.20 X1.23.20 X1.24.20 X1.25.20 X1.26.20 X1.27.20\n",
       "1 Hubei            28       28       31       32       42       45      \n",
       "2 China             0        2        5        7        7       13      \n",
       "3 World             0        0        0        0        3        3      \n",
       "4 Diamond Princess  0        0        0        0        0        0      \n",
       "  X1.28.20 X1.29.20 X1.30.20 ... X3.6.20 X3.7.20 X3.8.20 X3.9.20 X3.10.20\n",
       "1 80       88       90       ... 42033   43500   45235   46488   47743   \n",
       "2 21       32       45       ... 11911   12039   12153   12316   12438   \n",
       "3  6        6        8       ...  1881    2779    3266    3650    4183   \n",
       "4  0        0        0       ...    40      40      40      40      40   \n",
       "  X3.11.20 X3.12.20 X3.13.20 X3.14.20 X3.15.20\n",
       "1 49134    50318    51553    52960    54288   \n",
       "2 12510    12583    12643    12700    12729   \n",
       "3  5034     5098     5730     6639     8692   \n",
       "4   325      325      325      325      325   "
      ]
     },
     "metadata": {},
     "output_type": "display_data"
    },
    {
     "data": {
      "text/html": [
       "<table>\n",
       "<thead><tr><th scope=col>Location</th><th scope=col>Confirmed</th><th scope=col>Deaths</th><th scope=col>Recovered</th><th scope=col>Active.Cases</th><th scope=col>Closed.Cases</th></tr></thead>\n",
       "<tbody>\n",
       "\t<tr><td>Hubei           </td><td>67794           </td><td>3085            </td><td>54288           </td><td>10421           </td><td>57373           </td></tr>\n",
       "\t<tr><td>China           </td><td>13209           </td><td> 118            </td><td>12729           </td><td>  362           </td><td>12847           </td></tr>\n",
       "\t<tr><td>World           </td><td>86278           </td><td>3252            </td><td> 8705           </td><td>74321           </td><td>11957           </td></tr>\n",
       "\t<tr><td>Diamond Princess</td><td>  706           </td><td>   7            </td><td>  325           </td><td>  374           </td><td>  332           </td></tr>\n",
       "</tbody>\n",
       "</table>\n"
      ],
      "text/latex": [
       "\\begin{tabular}{r|llllll}\n",
       " Location & Confirmed & Deaths & Recovered & Active.Cases & Closed.Cases\\\\\n",
       "\\hline\n",
       "\t Hubei            & 67794            & 3085             & 54288            & 10421            & 57373           \\\\\n",
       "\t China            & 13209            &  118             & 12729            &   362            & 12847           \\\\\n",
       "\t World            & 86278            & 3252             &  8705            & 74321            & 11957           \\\\\n",
       "\t Diamond Princess &   706            &    7             &   325            &   374            &   332           \\\\\n",
       "\\end{tabular}\n"
      ],
      "text/markdown": [
       "\n",
       "| Location | Confirmed | Deaths | Recovered | Active.Cases | Closed.Cases |\n",
       "|---|---|---|---|---|---|\n",
       "| Hubei            | 67794            | 3085             | 54288            | 10421            | 57373            |\n",
       "| China            | 13209            |  118             | 12729            |   362            | 12847            |\n",
       "| World            | 86278            | 3252             |  8705            | 74321            | 11957            |\n",
       "| Diamond Princess |   706            |    7             |   325            |   374            |   332            |\n",
       "\n"
      ],
      "text/plain": [
       "  Location         Confirmed Deaths Recovered Active.Cases Closed.Cases\n",
       "1 Hubei            67794     3085   54288     10421        57373       \n",
       "2 China            13209      118   12729       362        12847       \n",
       "3 World            86278     3252    8705     74321        11957       \n",
       "4 Diamond Princess   706        7     325       374          332       "
      ]
     },
     "metadata": {},
     "output_type": "display_data"
    },
    {
     "data": {
      "text/html": [
       "<table>\n",
       "<thead><tr><th scope=col>Location</th><th scope=col>Day</th><th scope=col>Date</th><th scope=col>Confirmed</th><th scope=col>Deaths</th><th scope=col>Recovered</th><th scope=col>Active.Cases</th><th scope=col>Closed.Cases</th></tr></thead>\n",
       "<tbody>\n",
       "\t<tr><td>Hubei           </td><td>1               </td><td>22-01-2020      </td><td>444             </td><td>17              </td><td>28              </td><td>399             </td><td>45              </td></tr>\n",
       "\t<tr><td>China           </td><td>1               </td><td>22-01-2020      </td><td>104             </td><td> 0              </td><td> 0              </td><td>104             </td><td> 0              </td></tr>\n",
       "\t<tr><td>World           </td><td>1               </td><td>22-01-2020      </td><td>111             </td><td> 0              </td><td> 0              </td><td>111             </td><td> 0              </td></tr>\n",
       "\t<tr><td>Diamond Princess</td><td>1               </td><td>22-01-2020      </td><td>  0             </td><td> 0              </td><td> 0              </td><td>  0             </td><td> 0              </td></tr>\n",
       "\t<tr><td>Hubei           </td><td>2               </td><td>23-01-2020      </td><td>444             </td><td>17              </td><td>28              </td><td>399             </td><td>45              </td></tr>\n",
       "\t<tr><td>China           </td><td>2               </td><td>23-01-2020      </td><td>199             </td><td> 1              </td><td> 2              </td><td>196             </td><td> 3              </td></tr>\n",
       "</tbody>\n",
       "</table>\n"
      ],
      "text/latex": [
       "\\begin{tabular}{r|llllllll}\n",
       " Location & Day & Date & Confirmed & Deaths & Recovered & Active.Cases & Closed.Cases\\\\\n",
       "\\hline\n",
       "\t Hubei            & 1                & 22-01-2020       & 444              & 17               & 28               & 399              & 45              \\\\\n",
       "\t China            & 1                & 22-01-2020       & 104              &  0               &  0               & 104              &  0              \\\\\n",
       "\t World            & 1                & 22-01-2020       & 111              &  0               &  0               & 111              &  0              \\\\\n",
       "\t Diamond Princess & 1                & 22-01-2020       &   0              &  0               &  0               &   0              &  0              \\\\\n",
       "\t Hubei            & 2                & 23-01-2020       & 444              & 17               & 28               & 399              & 45              \\\\\n",
       "\t China            & 2                & 23-01-2020       & 199              &  1               &  2               & 196              &  3              \\\\\n",
       "\\end{tabular}\n"
      ],
      "text/markdown": [
       "\n",
       "| Location | Day | Date | Confirmed | Deaths | Recovered | Active.Cases | Closed.Cases |\n",
       "|---|---|---|---|---|---|---|---|\n",
       "| Hubei            | 1                | 22-01-2020       | 444              | 17               | 28               | 399              | 45               |\n",
       "| China            | 1                | 22-01-2020       | 104              |  0               |  0               | 104              |  0               |\n",
       "| World            | 1                | 22-01-2020       | 111              |  0               |  0               | 111              |  0               |\n",
       "| Diamond Princess | 1                | 22-01-2020       |   0              |  0               |  0               |   0              |  0               |\n",
       "| Hubei            | 2                | 23-01-2020       | 444              | 17               | 28               | 399              | 45               |\n",
       "| China            | 2                | 23-01-2020       | 199              |  1               |  2               | 196              |  3               |\n",
       "\n"
      ],
      "text/plain": [
       "  Location         Day Date       Confirmed Deaths Recovered Active.Cases\n",
       "1 Hubei            1   22-01-2020 444       17     28        399         \n",
       "2 China            1   22-01-2020 104        0      0        104         \n",
       "3 World            1   22-01-2020 111        0      0        111         \n",
       "4 Diamond Princess 1   22-01-2020   0        0      0          0         \n",
       "5 Hubei            2   23-01-2020 444       17     28        399         \n",
       "6 China            2   23-01-2020 199        1      2        196         \n",
       "  Closed.Cases\n",
       "1 45          \n",
       "2  0          \n",
       "3  0          \n",
       "4  0          \n",
       "5 45          \n",
       "6  3          "
      ]
     },
     "metadata": {},
     "output_type": "display_data"
    },
    {
     "data": {
      "text/html": [
       "<table>\n",
       "<thead><tr><th scope=col>Location</th><th scope=col>Day</th><th scope=col>Date</th><th scope=col>Confirmed</th><th scope=col>Deaths</th><th scope=col>Recovered</th><th scope=col>Active.Cases</th><th scope=col>Closed.Cases</th></tr></thead>\n",
       "<tbody>\n",
       "\t<tr><td>Hubei     </td><td>1         </td><td>22-01-2020</td><td> 444      </td><td>17        </td><td>28        </td><td> 399      </td><td> 45       </td></tr>\n",
       "\t<tr><td>Hubei     </td><td>2         </td><td>23-01-2020</td><td> 444      </td><td>17        </td><td>28        </td><td> 399      </td><td> 45       </td></tr>\n",
       "\t<tr><td>Hubei     </td><td>3         </td><td>24-01-2020</td><td> 549      </td><td>24        </td><td>31        </td><td> 494      </td><td> 55       </td></tr>\n",
       "\t<tr><td>Hubei     </td><td>4         </td><td>25-01-2020</td><td> 761      </td><td>40        </td><td>32        </td><td> 689      </td><td> 72       </td></tr>\n",
       "\t<tr><td>Hubei     </td><td>5         </td><td>26-01-2020</td><td>1058      </td><td>52        </td><td>42        </td><td> 964      </td><td> 94       </td></tr>\n",
       "\t<tr><td>Hubei     </td><td>6         </td><td>27-01-2020</td><td>1423      </td><td>76        </td><td>45        </td><td>1302      </td><td>121       </td></tr>\n",
       "</tbody>\n",
       "</table>\n"
      ],
      "text/latex": [
       "\\begin{tabular}{r|llllllll}\n",
       " Location & Day & Date & Confirmed & Deaths & Recovered & Active.Cases & Closed.Cases\\\\\n",
       "\\hline\n",
       "\t Hubei      & 1          & 22-01-2020 &  444       & 17         & 28         &  399       &  45       \\\\\n",
       "\t Hubei      & 2          & 23-01-2020 &  444       & 17         & 28         &  399       &  45       \\\\\n",
       "\t Hubei      & 3          & 24-01-2020 &  549       & 24         & 31         &  494       &  55       \\\\\n",
       "\t Hubei      & 4          & 25-01-2020 &  761       & 40         & 32         &  689       &  72       \\\\\n",
       "\t Hubei      & 5          & 26-01-2020 & 1058       & 52         & 42         &  964       &  94       \\\\\n",
       "\t Hubei      & 6          & 27-01-2020 & 1423       & 76         & 45         & 1302       & 121       \\\\\n",
       "\\end{tabular}\n"
      ],
      "text/markdown": [
       "\n",
       "| Location | Day | Date | Confirmed | Deaths | Recovered | Active.Cases | Closed.Cases |\n",
       "|---|---|---|---|---|---|---|---|\n",
       "| Hubei      | 1          | 22-01-2020 |  444       | 17         | 28         |  399       |  45        |\n",
       "| Hubei      | 2          | 23-01-2020 |  444       | 17         | 28         |  399       |  45        |\n",
       "| Hubei      | 3          | 24-01-2020 |  549       | 24         | 31         |  494       |  55        |\n",
       "| Hubei      | 4          | 25-01-2020 |  761       | 40         | 32         |  689       |  72        |\n",
       "| Hubei      | 5          | 26-01-2020 | 1058       | 52         | 42         |  964       |  94        |\n",
       "| Hubei      | 6          | 27-01-2020 | 1423       | 76         | 45         | 1302       | 121        |\n",
       "\n"
      ],
      "text/plain": [
       "  Location Day Date       Confirmed Deaths Recovered Active.Cases Closed.Cases\n",
       "1 Hubei    1   22-01-2020  444      17     28         399          45         \n",
       "2 Hubei    2   23-01-2020  444      17     28         399          45         \n",
       "3 Hubei    3   24-01-2020  549      24     31         494          55         \n",
       "4 Hubei    4   25-01-2020  761      40     32         689          72         \n",
       "5 Hubei    5   26-01-2020 1058      52     42         964          94         \n",
       "6 Hubei    6   27-01-2020 1423      76     45        1302         121         "
      ]
     },
     "metadata": {},
     "output_type": "display_data"
    }
   ],
   "source": [
    "## Viewed\n",
    "head(FOUR.daily.Confirmed)\n",
    "head(FOUR.daily.Deaths)\n",
    "head(FOUR.daily.Recovered)\n",
    "\n",
    "head(FOUR.summary)\n",
    "head(FOUR.dataset.dateWise)\n",
    "head(FOUR.dataset.locationWise)"
   ]
  },
  {
   "cell_type": "markdown",
   "metadata": {},
   "source": [
    "##    Mixed"
   ]
  },
  {
   "cell_type": "code",
   "execution_count": 8,
   "metadata": {},
   "outputs": [],
   "source": [
    "## Loading\n",
    "All.Countries.daily.Confirmed = read.csv(\"ready_to_use/COVID-19/Mixed/All_Countries_daily_Confirmed.csv\")\n",
    "All.Countries.daily.Deaths = read.csv(\"ready_to_use/COVID-19/Mixed/All_Countries_daily_Deaths.csv\")\n",
    "All.Countries.daily.Recovered = read.csv(\"ready_to_use/COVID-19/Mixed/All_Countries_daily_Recovered.csv\")\n",
    "\n",
    "All.Countries.summary = read.csv(\"ready_to_use/COVID-19/Mixed/All_Countries_summary.csv\")\n",
    "Mixed.summary = read.csv(\"ready_to_use/COVID-19/Mixed/bulk_summary.csv\")\n",
    "Mixed.countryWise.summary = read.csv(\"ready_to_use/COVID-19/Mixed/countryWise_bulk_summary.csv\")\n",
    "Mixed.dateWise.summary = read.csv(\"ready_to_use/COVID-19/Mixed/dateWise_bulk_summary.csv\")"
   ]
  },
  {
   "cell_type": "code",
   "execution_count": 9,
   "metadata": {},
   "outputs": [
    {
     "data": {
      "text/html": [
       "<table>\n",
       "<thead><tr><th scope=col>Country</th><th scope=col>X1.22.20</th><th scope=col>X1.23.20</th><th scope=col>X1.24.20</th><th scope=col>X1.25.20</th><th scope=col>X1.26.20</th><th scope=col>X1.27.20</th><th scope=col>X1.28.20</th><th scope=col>X1.29.20</th><th scope=col>X1.30.20</th><th scope=col>...</th><th scope=col>X3.6.20</th><th scope=col>X3.7.20</th><th scope=col>X3.8.20</th><th scope=col>X3.9.20</th><th scope=col>X3.10.20</th><th scope=col>X3.11.20</th><th scope=col>X3.12.20</th><th scope=col>X3.13.20</th><th scope=col>X3.14.20</th><th scope=col>X3.15.20</th></tr></thead>\n",
       "<tbody>\n",
       "\t<tr><td>Afghanistan        </td><td>0                  </td><td>0                  </td><td>0                  </td><td>0                  </td><td>0                  </td><td>0                  </td><td>0                  </td><td>0                  </td><td>0                  </td><td>...                </td><td> 1                 </td><td> 1                 </td><td> 4                 </td><td> 4                 </td><td> 5                 </td><td> 7                 </td><td> 7                 </td><td> 7                 </td><td>11                 </td><td>16                 </td></tr>\n",
       "\t<tr><td>Albania            </td><td>0                  </td><td>0                  </td><td>0                  </td><td>0                  </td><td>0                  </td><td>0                  </td><td>0                  </td><td>0                  </td><td>0                  </td><td>...                </td><td> 0                 </td><td> 0                 </td><td> 0                 </td><td> 2                 </td><td>10                 </td><td>12                 </td><td>23                 </td><td>33                 </td><td>38                 </td><td>42                 </td></tr>\n",
       "\t<tr><td>Algeria            </td><td>0                  </td><td>0                  </td><td>0                  </td><td>0                  </td><td>0                  </td><td>0                  </td><td>0                  </td><td>0                  </td><td>0                  </td><td>...                </td><td>17                 </td><td>17                 </td><td>19                 </td><td>20                 </td><td>20                 </td><td>20                 </td><td>24                 </td><td>26                 </td><td>37                 </td><td>48                 </td></tr>\n",
       "\t<tr><td>Andorra            </td><td>0                  </td><td>0                  </td><td>0                  </td><td>0                  </td><td>0                  </td><td>0                  </td><td>0                  </td><td>0                  </td><td>0                  </td><td>...                </td><td> 1                 </td><td> 1                 </td><td> 1                 </td><td> 1                 </td><td> 1                 </td><td> 1                 </td><td> 1                 </td><td> 1                 </td><td> 1                 </td><td> 1                 </td></tr>\n",
       "\t<tr><td>Antigua and Barbuda</td><td>0                  </td><td>0                  </td><td>0                  </td><td>0                  </td><td>0                  </td><td>0                  </td><td>0                  </td><td>0                  </td><td>0                  </td><td>...                </td><td> 0                 </td><td> 0                 </td><td> 0                 </td><td> 0                 </td><td> 0                 </td><td> 0                 </td><td> 0                 </td><td> 1                 </td><td> 1                 </td><td> 1                 </td></tr>\n",
       "\t<tr><td>Argentina          </td><td>0                  </td><td>0                  </td><td>0                  </td><td>0                  </td><td>0                  </td><td>0                  </td><td>0                  </td><td>0                  </td><td>0                  </td><td>...                </td><td> 2                 </td><td> 8                 </td><td>12                 </td><td>12                 </td><td>17                 </td><td>19                 </td><td>19                 </td><td>31                 </td><td>34                 </td><td>45                 </td></tr>\n",
       "</tbody>\n",
       "</table>\n"
      ],
      "text/latex": [
       "\\begin{tabular}{r|lllllllllllllllllllllllllllllllllllllllllllllllllllllll}\n",
       " Country & X1.22.20 & X1.23.20 & X1.24.20 & X1.25.20 & X1.26.20 & X1.27.20 & X1.28.20 & X1.29.20 & X1.30.20 & ... & X3.6.20 & X3.7.20 & X3.8.20 & X3.9.20 & X3.10.20 & X3.11.20 & X3.12.20 & X3.13.20 & X3.14.20 & X3.15.20\\\\\n",
       "\\hline\n",
       "\t Afghanistan         & 0                   & 0                   & 0                   & 0                   & 0                   & 0                   & 0                   & 0                   & 0                   & ...                 &  1                  &  1                  &  4                  &  4                  &  5                  &  7                  &  7                  &  7                  & 11                  & 16                 \\\\\n",
       "\t Albania             & 0                   & 0                   & 0                   & 0                   & 0                   & 0                   & 0                   & 0                   & 0                   & ...                 &  0                  &  0                  &  0                  &  2                  & 10                  & 12                  & 23                  & 33                  & 38                  & 42                 \\\\\n",
       "\t Algeria             & 0                   & 0                   & 0                   & 0                   & 0                   & 0                   & 0                   & 0                   & 0                   & ...                 & 17                  & 17                  & 19                  & 20                  & 20                  & 20                  & 24                  & 26                  & 37                  & 48                 \\\\\n",
       "\t Andorra             & 0                   & 0                   & 0                   & 0                   & 0                   & 0                   & 0                   & 0                   & 0                   & ...                 &  1                  &  1                  &  1                  &  1                  &  1                  &  1                  &  1                  &  1                  &  1                  &  1                 \\\\\n",
       "\t Antigua and Barbuda & 0                   & 0                   & 0                   & 0                   & 0                   & 0                   & 0                   & 0                   & 0                   & ...                 &  0                  &  0                  &  0                  &  0                  &  0                  &  0                  &  0                  &  1                  &  1                  &  1                 \\\\\n",
       "\t Argentina           & 0                   & 0                   & 0                   & 0                   & 0                   & 0                   & 0                   & 0                   & 0                   & ...                 &  2                  &  8                  & 12                  & 12                  & 17                  & 19                  & 19                  & 31                  & 34                  & 45                 \\\\\n",
       "\\end{tabular}\n"
      ],
      "text/markdown": [
       "\n",
       "| Country | X1.22.20 | X1.23.20 | X1.24.20 | X1.25.20 | X1.26.20 | X1.27.20 | X1.28.20 | X1.29.20 | X1.30.20 | ... | X3.6.20 | X3.7.20 | X3.8.20 | X3.9.20 | X3.10.20 | X3.11.20 | X3.12.20 | X3.13.20 | X3.14.20 | X3.15.20 |\n",
       "|---|---|---|---|---|---|---|---|---|---|---|---|---|---|---|---|---|---|---|---|---|\n",
       "| Afghanistan         | 0                   | 0                   | 0                   | 0                   | 0                   | 0                   | 0                   | 0                   | 0                   | ...                 |  1                  |  1                  |  4                  |  4                  |  5                  |  7                  |  7                  |  7                  | 11                  | 16                  |\n",
       "| Albania             | 0                   | 0                   | 0                   | 0                   | 0                   | 0                   | 0                   | 0                   | 0                   | ...                 |  0                  |  0                  |  0                  |  2                  | 10                  | 12                  | 23                  | 33                  | 38                  | 42                  |\n",
       "| Algeria             | 0                   | 0                   | 0                   | 0                   | 0                   | 0                   | 0                   | 0                   | 0                   | ...                 | 17                  | 17                  | 19                  | 20                  | 20                  | 20                  | 24                  | 26                  | 37                  | 48                  |\n",
       "| Andorra             | 0                   | 0                   | 0                   | 0                   | 0                   | 0                   | 0                   | 0                   | 0                   | ...                 |  1                  |  1                  |  1                  |  1                  |  1                  |  1                  |  1                  |  1                  |  1                  |  1                  |\n",
       "| Antigua and Barbuda | 0                   | 0                   | 0                   | 0                   | 0                   | 0                   | 0                   | 0                   | 0                   | ...                 |  0                  |  0                  |  0                  |  0                  |  0                  |  0                  |  0                  |  1                  |  1                  |  1                  |\n",
       "| Argentina           | 0                   | 0                   | 0                   | 0                   | 0                   | 0                   | 0                   | 0                   | 0                   | ...                 |  2                  |  8                  | 12                  | 12                  | 17                  | 19                  | 19                  | 31                  | 34                  | 45                  |\n",
       "\n"
      ],
      "text/plain": [
       "  Country             X1.22.20 X1.23.20 X1.24.20 X1.25.20 X1.26.20 X1.27.20\n",
       "1 Afghanistan         0        0        0        0        0        0       \n",
       "2 Albania             0        0        0        0        0        0       \n",
       "3 Algeria             0        0        0        0        0        0       \n",
       "4 Andorra             0        0        0        0        0        0       \n",
       "5 Antigua and Barbuda 0        0        0        0        0        0       \n",
       "6 Argentina           0        0        0        0        0        0       \n",
       "  X1.28.20 X1.29.20 X1.30.20 ... X3.6.20 X3.7.20 X3.8.20 X3.9.20 X3.10.20\n",
       "1 0        0        0        ...  1       1       4       4       5      \n",
       "2 0        0        0        ...  0       0       0       2      10      \n",
       "3 0        0        0        ... 17      17      19      20      20      \n",
       "4 0        0        0        ...  1       1       1       1       1      \n",
       "5 0        0        0        ...  0       0       0       0       0      \n",
       "6 0        0        0        ...  2       8      12      12      17      \n",
       "  X3.11.20 X3.12.20 X3.13.20 X3.14.20 X3.15.20\n",
       "1  7        7        7       11       16      \n",
       "2 12       23       33       38       42      \n",
       "3 20       24       26       37       48      \n",
       "4  1        1        1        1        1      \n",
       "5  0        0        1        1        1      \n",
       "6 19       19       31       34       45      "
      ]
     },
     "metadata": {},
     "output_type": "display_data"
    },
    {
     "data": {
      "text/html": [
       "<table>\n",
       "<thead><tr><th scope=col>Country</th><th scope=col>X1.22.20</th><th scope=col>X1.23.20</th><th scope=col>X1.24.20</th><th scope=col>X1.25.20</th><th scope=col>X1.26.20</th><th scope=col>X1.27.20</th><th scope=col>X1.28.20</th><th scope=col>X1.29.20</th><th scope=col>X1.30.20</th><th scope=col>...</th><th scope=col>X3.6.20</th><th scope=col>X3.7.20</th><th scope=col>X3.8.20</th><th scope=col>X3.9.20</th><th scope=col>X3.10.20</th><th scope=col>X3.11.20</th><th scope=col>X3.12.20</th><th scope=col>X3.13.20</th><th scope=col>X3.14.20</th><th scope=col>X3.15.20</th></tr></thead>\n",
       "<tbody>\n",
       "\t<tr><td>Afghanistan        </td><td>0                  </td><td>0                  </td><td>0                  </td><td>0                  </td><td>0                  </td><td>0                  </td><td>0                  </td><td>0                  </td><td>0                  </td><td>...                </td><td>0                  </td><td>0                  </td><td>0                  </td><td>0                  </td><td>0                  </td><td>0                  </td><td>0                  </td><td>0                  </td><td>0                  </td><td>0                  </td></tr>\n",
       "\t<tr><td>Albania            </td><td>0                  </td><td>0                  </td><td>0                  </td><td>0                  </td><td>0                  </td><td>0                  </td><td>0                  </td><td>0                  </td><td>0                  </td><td>...                </td><td>0                  </td><td>0                  </td><td>0                  </td><td>0                  </td><td>0                  </td><td>1                  </td><td>1                  </td><td>1                  </td><td>1                  </td><td>1                  </td></tr>\n",
       "\t<tr><td>Algeria            </td><td>0                  </td><td>0                  </td><td>0                  </td><td>0                  </td><td>0                  </td><td>0                  </td><td>0                  </td><td>0                  </td><td>0                  </td><td>...                </td><td>0                  </td><td>0                  </td><td>0                  </td><td>0                  </td><td>0                  </td><td>0                  </td><td>1                  </td><td>2                  </td><td>3                  </td><td>4                  </td></tr>\n",
       "\t<tr><td>Andorra            </td><td>0                  </td><td>0                  </td><td>0                  </td><td>0                  </td><td>0                  </td><td>0                  </td><td>0                  </td><td>0                  </td><td>0                  </td><td>...                </td><td>0                  </td><td>0                  </td><td>0                  </td><td>0                  </td><td>0                  </td><td>0                  </td><td>0                  </td><td>0                  </td><td>0                  </td><td>0                  </td></tr>\n",
       "\t<tr><td>Antigua and Barbuda</td><td>0                  </td><td>0                  </td><td>0                  </td><td>0                  </td><td>0                  </td><td>0                  </td><td>0                  </td><td>0                  </td><td>0                  </td><td>...                </td><td>0                  </td><td>0                  </td><td>0                  </td><td>0                  </td><td>0                  </td><td>0                  </td><td>0                  </td><td>0                  </td><td>0                  </td><td>0                  </td></tr>\n",
       "\t<tr><td>Argentina          </td><td>0                  </td><td>0                  </td><td>0                  </td><td>0                  </td><td>0                  </td><td>0                  </td><td>0                  </td><td>0                  </td><td>0                  </td><td>...                </td><td>0                  </td><td>0                  </td><td>1                  </td><td>1                  </td><td>1                  </td><td>1                  </td><td>1                  </td><td>2                  </td><td>2                  </td><td>2                  </td></tr>\n",
       "</tbody>\n",
       "</table>\n"
      ],
      "text/latex": [
       "\\begin{tabular}{r|lllllllllllllllllllllllllllllllllllllllllllllllllllllll}\n",
       " Country & X1.22.20 & X1.23.20 & X1.24.20 & X1.25.20 & X1.26.20 & X1.27.20 & X1.28.20 & X1.29.20 & X1.30.20 & ... & X3.6.20 & X3.7.20 & X3.8.20 & X3.9.20 & X3.10.20 & X3.11.20 & X3.12.20 & X3.13.20 & X3.14.20 & X3.15.20\\\\\n",
       "\\hline\n",
       "\t Afghanistan         & 0                   & 0                   & 0                   & 0                   & 0                   & 0                   & 0                   & 0                   & 0                   & ...                 & 0                   & 0                   & 0                   & 0                   & 0                   & 0                   & 0                   & 0                   & 0                   & 0                  \\\\\n",
       "\t Albania             & 0                   & 0                   & 0                   & 0                   & 0                   & 0                   & 0                   & 0                   & 0                   & ...                 & 0                   & 0                   & 0                   & 0                   & 0                   & 1                   & 1                   & 1                   & 1                   & 1                  \\\\\n",
       "\t Algeria             & 0                   & 0                   & 0                   & 0                   & 0                   & 0                   & 0                   & 0                   & 0                   & ...                 & 0                   & 0                   & 0                   & 0                   & 0                   & 0                   & 1                   & 2                   & 3                   & 4                  \\\\\n",
       "\t Andorra             & 0                   & 0                   & 0                   & 0                   & 0                   & 0                   & 0                   & 0                   & 0                   & ...                 & 0                   & 0                   & 0                   & 0                   & 0                   & 0                   & 0                   & 0                   & 0                   & 0                  \\\\\n",
       "\t Antigua and Barbuda & 0                   & 0                   & 0                   & 0                   & 0                   & 0                   & 0                   & 0                   & 0                   & ...                 & 0                   & 0                   & 0                   & 0                   & 0                   & 0                   & 0                   & 0                   & 0                   & 0                  \\\\\n",
       "\t Argentina           & 0                   & 0                   & 0                   & 0                   & 0                   & 0                   & 0                   & 0                   & 0                   & ...                 & 0                   & 0                   & 1                   & 1                   & 1                   & 1                   & 1                   & 2                   & 2                   & 2                  \\\\\n",
       "\\end{tabular}\n"
      ],
      "text/markdown": [
       "\n",
       "| Country | X1.22.20 | X1.23.20 | X1.24.20 | X1.25.20 | X1.26.20 | X1.27.20 | X1.28.20 | X1.29.20 | X1.30.20 | ... | X3.6.20 | X3.7.20 | X3.8.20 | X3.9.20 | X3.10.20 | X3.11.20 | X3.12.20 | X3.13.20 | X3.14.20 | X3.15.20 |\n",
       "|---|---|---|---|---|---|---|---|---|---|---|---|---|---|---|---|---|---|---|---|---|\n",
       "| Afghanistan         | 0                   | 0                   | 0                   | 0                   | 0                   | 0                   | 0                   | 0                   | 0                   | ...                 | 0                   | 0                   | 0                   | 0                   | 0                   | 0                   | 0                   | 0                   | 0                   | 0                   |\n",
       "| Albania             | 0                   | 0                   | 0                   | 0                   | 0                   | 0                   | 0                   | 0                   | 0                   | ...                 | 0                   | 0                   | 0                   | 0                   | 0                   | 1                   | 1                   | 1                   | 1                   | 1                   |\n",
       "| Algeria             | 0                   | 0                   | 0                   | 0                   | 0                   | 0                   | 0                   | 0                   | 0                   | ...                 | 0                   | 0                   | 0                   | 0                   | 0                   | 0                   | 1                   | 2                   | 3                   | 4                   |\n",
       "| Andorra             | 0                   | 0                   | 0                   | 0                   | 0                   | 0                   | 0                   | 0                   | 0                   | ...                 | 0                   | 0                   | 0                   | 0                   | 0                   | 0                   | 0                   | 0                   | 0                   | 0                   |\n",
       "| Antigua and Barbuda | 0                   | 0                   | 0                   | 0                   | 0                   | 0                   | 0                   | 0                   | 0                   | ...                 | 0                   | 0                   | 0                   | 0                   | 0                   | 0                   | 0                   | 0                   | 0                   | 0                   |\n",
       "| Argentina           | 0                   | 0                   | 0                   | 0                   | 0                   | 0                   | 0                   | 0                   | 0                   | ...                 | 0                   | 0                   | 1                   | 1                   | 1                   | 1                   | 1                   | 2                   | 2                   | 2                   |\n",
       "\n"
      ],
      "text/plain": [
       "  Country             X1.22.20 X1.23.20 X1.24.20 X1.25.20 X1.26.20 X1.27.20\n",
       "1 Afghanistan         0        0        0        0        0        0       \n",
       "2 Albania             0        0        0        0        0        0       \n",
       "3 Algeria             0        0        0        0        0        0       \n",
       "4 Andorra             0        0        0        0        0        0       \n",
       "5 Antigua and Barbuda 0        0        0        0        0        0       \n",
       "6 Argentina           0        0        0        0        0        0       \n",
       "  X1.28.20 X1.29.20 X1.30.20 ... X3.6.20 X3.7.20 X3.8.20 X3.9.20 X3.10.20\n",
       "1 0        0        0        ... 0       0       0       0       0       \n",
       "2 0        0        0        ... 0       0       0       0       0       \n",
       "3 0        0        0        ... 0       0       0       0       0       \n",
       "4 0        0        0        ... 0       0       0       0       0       \n",
       "5 0        0        0        ... 0       0       0       0       0       \n",
       "6 0        0        0        ... 0       0       1       1       1       \n",
       "  X3.11.20 X3.12.20 X3.13.20 X3.14.20 X3.15.20\n",
       "1 0        0        0        0        0       \n",
       "2 1        1        1        1        1       \n",
       "3 0        1        2        3        4       \n",
       "4 0        0        0        0        0       \n",
       "5 0        0        0        0        0       \n",
       "6 1        1        2        2        2       "
      ]
     },
     "metadata": {},
     "output_type": "display_data"
    },
    {
     "data": {
      "text/html": [
       "<table>\n",
       "<thead><tr><th scope=col>Country</th><th scope=col>X1.22.20</th><th scope=col>X1.23.20</th><th scope=col>X1.24.20</th><th scope=col>X1.25.20</th><th scope=col>X1.26.20</th><th scope=col>X1.27.20</th><th scope=col>X1.28.20</th><th scope=col>X1.29.20</th><th scope=col>X1.30.20</th><th scope=col>...</th><th scope=col>X3.6.20</th><th scope=col>X3.7.20</th><th scope=col>X3.8.20</th><th scope=col>X3.9.20</th><th scope=col>X3.10.20</th><th scope=col>X3.11.20</th><th scope=col>X3.12.20</th><th scope=col>X3.13.20</th><th scope=col>X3.14.20</th><th scope=col>X3.15.20</th></tr></thead>\n",
       "<tbody>\n",
       "\t<tr><td>Afghanistan        </td><td>0                  </td><td>0                  </td><td>0                  </td><td>0                  </td><td>0                  </td><td>0                  </td><td>0                  </td><td>0                  </td><td>0                  </td><td>...                </td><td>0                  </td><td>0                  </td><td>0                  </td><td>0                  </td><td>0                  </td><td>0                  </td><td>0                  </td><td>0                  </td><td> 0                 </td><td> 0                 </td></tr>\n",
       "\t<tr><td>Albania            </td><td>0                  </td><td>0                  </td><td>0                  </td><td>0                  </td><td>0                  </td><td>0                  </td><td>0                  </td><td>0                  </td><td>0                  </td><td>...                </td><td>0                  </td><td>0                  </td><td>0                  </td><td>0                  </td><td>0                  </td><td>0                  </td><td>0                  </td><td>0                  </td><td> 0                 </td><td> 0                 </td></tr>\n",
       "\t<tr><td>Algeria            </td><td>0                  </td><td>0                  </td><td>0                  </td><td>0                  </td><td>0                  </td><td>0                  </td><td>0                  </td><td>0                  </td><td>0                  </td><td>...                </td><td>0                  </td><td>0                  </td><td>0                  </td><td>0                  </td><td>0                  </td><td>0                  </td><td>8                  </td><td>8                  </td><td>12                 </td><td>12                 </td></tr>\n",
       "\t<tr><td>Andorra            </td><td>0                  </td><td>0                  </td><td>0                  </td><td>0                  </td><td>0                  </td><td>0                  </td><td>0                  </td><td>0                  </td><td>0                  </td><td>...                </td><td>0                  </td><td>0                  </td><td>0                  </td><td>0                  </td><td>0                  </td><td>0                  </td><td>1                  </td><td>0                  </td><td> 1                 </td><td> 1                 </td></tr>\n",
       "\t<tr><td>Antigua and Barbuda</td><td>0                  </td><td>0                  </td><td>0                  </td><td>0                  </td><td>0                  </td><td>0                  </td><td>0                  </td><td>0                  </td><td>0                  </td><td>...                </td><td>0                  </td><td>0                  </td><td>0                  </td><td>0                  </td><td>0                  </td><td>0                  </td><td>0                  </td><td>0                  </td><td> 0                 </td><td> 0                 </td></tr>\n",
       "\t<tr><td>Argentina          </td><td>0                  </td><td>0                  </td><td>0                  </td><td>0                  </td><td>0                  </td><td>0                  </td><td>0                  </td><td>0                  </td><td>0                  </td><td>...                </td><td>0                  </td><td>0                  </td><td>0                  </td><td>0                  </td><td>0                  </td><td>0                  </td><td>0                  </td><td>0                  </td><td> 1                 </td><td> 1                 </td></tr>\n",
       "</tbody>\n",
       "</table>\n"
      ],
      "text/latex": [
       "\\begin{tabular}{r|lllllllllllllllllllllllllllllllllllllllllllllllllllllll}\n",
       " Country & X1.22.20 & X1.23.20 & X1.24.20 & X1.25.20 & X1.26.20 & X1.27.20 & X1.28.20 & X1.29.20 & X1.30.20 & ... & X3.6.20 & X3.7.20 & X3.8.20 & X3.9.20 & X3.10.20 & X3.11.20 & X3.12.20 & X3.13.20 & X3.14.20 & X3.15.20\\\\\n",
       "\\hline\n",
       "\t Afghanistan         & 0                   & 0                   & 0                   & 0                   & 0                   & 0                   & 0                   & 0                   & 0                   & ...                 & 0                   & 0                   & 0                   & 0                   & 0                   & 0                   & 0                   & 0                   &  0                  &  0                 \\\\\n",
       "\t Albania             & 0                   & 0                   & 0                   & 0                   & 0                   & 0                   & 0                   & 0                   & 0                   & ...                 & 0                   & 0                   & 0                   & 0                   & 0                   & 0                   & 0                   & 0                   &  0                  &  0                 \\\\\n",
       "\t Algeria             & 0                   & 0                   & 0                   & 0                   & 0                   & 0                   & 0                   & 0                   & 0                   & ...                 & 0                   & 0                   & 0                   & 0                   & 0                   & 0                   & 8                   & 8                   & 12                  & 12                 \\\\\n",
       "\t Andorra             & 0                   & 0                   & 0                   & 0                   & 0                   & 0                   & 0                   & 0                   & 0                   & ...                 & 0                   & 0                   & 0                   & 0                   & 0                   & 0                   & 1                   & 0                   &  1                  &  1                 \\\\\n",
       "\t Antigua and Barbuda & 0                   & 0                   & 0                   & 0                   & 0                   & 0                   & 0                   & 0                   & 0                   & ...                 & 0                   & 0                   & 0                   & 0                   & 0                   & 0                   & 0                   & 0                   &  0                  &  0                 \\\\\n",
       "\t Argentina           & 0                   & 0                   & 0                   & 0                   & 0                   & 0                   & 0                   & 0                   & 0                   & ...                 & 0                   & 0                   & 0                   & 0                   & 0                   & 0                   & 0                   & 0                   &  1                  &  1                 \\\\\n",
       "\\end{tabular}\n"
      ],
      "text/markdown": [
       "\n",
       "| Country | X1.22.20 | X1.23.20 | X1.24.20 | X1.25.20 | X1.26.20 | X1.27.20 | X1.28.20 | X1.29.20 | X1.30.20 | ... | X3.6.20 | X3.7.20 | X3.8.20 | X3.9.20 | X3.10.20 | X3.11.20 | X3.12.20 | X3.13.20 | X3.14.20 | X3.15.20 |\n",
       "|---|---|---|---|---|---|---|---|---|---|---|---|---|---|---|---|---|---|---|---|---|\n",
       "| Afghanistan         | 0                   | 0                   | 0                   | 0                   | 0                   | 0                   | 0                   | 0                   | 0                   | ...                 | 0                   | 0                   | 0                   | 0                   | 0                   | 0                   | 0                   | 0                   |  0                  |  0                  |\n",
       "| Albania             | 0                   | 0                   | 0                   | 0                   | 0                   | 0                   | 0                   | 0                   | 0                   | ...                 | 0                   | 0                   | 0                   | 0                   | 0                   | 0                   | 0                   | 0                   |  0                  |  0                  |\n",
       "| Algeria             | 0                   | 0                   | 0                   | 0                   | 0                   | 0                   | 0                   | 0                   | 0                   | ...                 | 0                   | 0                   | 0                   | 0                   | 0                   | 0                   | 8                   | 8                   | 12                  | 12                  |\n",
       "| Andorra             | 0                   | 0                   | 0                   | 0                   | 0                   | 0                   | 0                   | 0                   | 0                   | ...                 | 0                   | 0                   | 0                   | 0                   | 0                   | 0                   | 1                   | 0                   |  1                  |  1                  |\n",
       "| Antigua and Barbuda | 0                   | 0                   | 0                   | 0                   | 0                   | 0                   | 0                   | 0                   | 0                   | ...                 | 0                   | 0                   | 0                   | 0                   | 0                   | 0                   | 0                   | 0                   |  0                  |  0                  |\n",
       "| Argentina           | 0                   | 0                   | 0                   | 0                   | 0                   | 0                   | 0                   | 0                   | 0                   | ...                 | 0                   | 0                   | 0                   | 0                   | 0                   | 0                   | 0                   | 0                   |  1                  |  1                  |\n",
       "\n"
      ],
      "text/plain": [
       "  Country             X1.22.20 X1.23.20 X1.24.20 X1.25.20 X1.26.20 X1.27.20\n",
       "1 Afghanistan         0        0        0        0        0        0       \n",
       "2 Albania             0        0        0        0        0        0       \n",
       "3 Algeria             0        0        0        0        0        0       \n",
       "4 Andorra             0        0        0        0        0        0       \n",
       "5 Antigua and Barbuda 0        0        0        0        0        0       \n",
       "6 Argentina           0        0        0        0        0        0       \n",
       "  X1.28.20 X1.29.20 X1.30.20 ... X3.6.20 X3.7.20 X3.8.20 X3.9.20 X3.10.20\n",
       "1 0        0        0        ... 0       0       0       0       0       \n",
       "2 0        0        0        ... 0       0       0       0       0       \n",
       "3 0        0        0        ... 0       0       0       0       0       \n",
       "4 0        0        0        ... 0       0       0       0       0       \n",
       "5 0        0        0        ... 0       0       0       0       0       \n",
       "6 0        0        0        ... 0       0       0       0       0       \n",
       "  X3.11.20 X3.12.20 X3.13.20 X3.14.20 X3.15.20\n",
       "1 0        0        0         0        0      \n",
       "2 0        0        0         0        0      \n",
       "3 0        8        8        12       12      \n",
       "4 0        1        0         1        1      \n",
       "5 0        0        0         0        0      \n",
       "6 0        0        0         1        1      "
      ]
     },
     "metadata": {},
     "output_type": "display_data"
    },
    {
     "data": {
      "text/html": [
       "<table>\n",
       "<thead><tr><th scope=col>Country</th><th scope=col>Confirmed</th><th scope=col>Deaths</th><th scope=col>Recovered</th><th scope=col>Active.Cases</th><th scope=col>Closed.Cases</th></tr></thead>\n",
       "<tbody>\n",
       "\t<tr><td>Afghanistan        </td><td>16                 </td><td>0                  </td><td> 0                 </td><td>16                 </td><td> 0                 </td></tr>\n",
       "\t<tr><td>Albania            </td><td>42                 </td><td>1                  </td><td> 0                 </td><td>41                 </td><td> 1                 </td></tr>\n",
       "\t<tr><td>Algeria            </td><td>48                 </td><td>4                  </td><td>12                 </td><td>32                 </td><td>16                 </td></tr>\n",
       "\t<tr><td>Andorra            </td><td> 1                 </td><td>0                  </td><td> 1                 </td><td> 0                 </td><td> 1                 </td></tr>\n",
       "\t<tr><td>Antigua and Barbuda</td><td> 1                 </td><td>0                  </td><td> 0                 </td><td> 1                 </td><td> 0                 </td></tr>\n",
       "\t<tr><td>Argentina          </td><td>45                 </td><td>2                  </td><td> 1                 </td><td>42                 </td><td> 3                 </td></tr>\n",
       "</tbody>\n",
       "</table>\n"
      ],
      "text/latex": [
       "\\begin{tabular}{r|llllll}\n",
       " Country & Confirmed & Deaths & Recovered & Active.Cases & Closed.Cases\\\\\n",
       "\\hline\n",
       "\t Afghanistan         & 16                  & 0                   &  0                  & 16                  &  0                 \\\\\n",
       "\t Albania             & 42                  & 1                   &  0                  & 41                  &  1                 \\\\\n",
       "\t Algeria             & 48                  & 4                   & 12                  & 32                  & 16                 \\\\\n",
       "\t Andorra             &  1                  & 0                   &  1                  &  0                  &  1                 \\\\\n",
       "\t Antigua and Barbuda &  1                  & 0                   &  0                  &  1                  &  0                 \\\\\n",
       "\t Argentina           & 45                  & 2                   &  1                  & 42                  &  3                 \\\\\n",
       "\\end{tabular}\n"
      ],
      "text/markdown": [
       "\n",
       "| Country | Confirmed | Deaths | Recovered | Active.Cases | Closed.Cases |\n",
       "|---|---|---|---|---|---|\n",
       "| Afghanistan         | 16                  | 0                   |  0                  | 16                  |  0                  |\n",
       "| Albania             | 42                  | 1                   |  0                  | 41                  |  1                  |\n",
       "| Algeria             | 48                  | 4                   | 12                  | 32                  | 16                  |\n",
       "| Andorra             |  1                  | 0                   |  1                  |  0                  |  1                  |\n",
       "| Antigua and Barbuda |  1                  | 0                   |  0                  |  1                  |  0                  |\n",
       "| Argentina           | 45                  | 2                   |  1                  | 42                  |  3                  |\n",
       "\n"
      ],
      "text/plain": [
       "  Country             Confirmed Deaths Recovered Active.Cases Closed.Cases\n",
       "1 Afghanistan         16        0       0        16            0          \n",
       "2 Albania             42        1       0        41            1          \n",
       "3 Algeria             48        4      12        32           16          \n",
       "4 Andorra              1        0       1         0            1          \n",
       "5 Antigua and Barbuda  1        0       0         1            0          \n",
       "6 Argentina           45        2       1        42            3          "
      ]
     },
     "metadata": {},
     "output_type": "display_data"
    },
    {
     "data": {
      "text/html": [
       "<table>\n",
       "<thead><tr><th scope=col>X</th><th scope=col>States</th><th scope=col>Country</th><th scope=col>Confirmed</th><th scope=col>Deaths</th><th scope=col>Recovered</th><th scope=col>Active.Cases</th><th scope=col>Closed.Cases</th></tr></thead>\n",
       "<tbody>\n",
       "\t<tr><td>1                  </td><td>Others             </td><td>Afghanistan        </td><td>16                 </td><td>0                  </td><td> 0                 </td><td>16                 </td><td> 0                 </td></tr>\n",
       "\t<tr><td>2                  </td><td>Others             </td><td>Albania            </td><td>42                 </td><td>1                  </td><td> 0                 </td><td>41                 </td><td> 1                 </td></tr>\n",
       "\t<tr><td>3                  </td><td>Others             </td><td>Algeria            </td><td>48                 </td><td>4                  </td><td>12                 </td><td>32                 </td><td>16                 </td></tr>\n",
       "\t<tr><td>4                  </td><td>Others             </td><td>Andorra            </td><td> 1                 </td><td>0                  </td><td> 1                 </td><td> 0                 </td><td> 1                 </td></tr>\n",
       "\t<tr><td>5                  </td><td>Others             </td><td>Antigua and Barbuda</td><td> 1                 </td><td>0                  </td><td> 0                 </td><td> 1                 </td><td> 0                 </td></tr>\n",
       "\t<tr><td>6                  </td><td>Others             </td><td>Argentina          </td><td>45                 </td><td>2                  </td><td> 1                 </td><td>42                 </td><td> 3                 </td></tr>\n",
       "</tbody>\n",
       "</table>\n"
      ],
      "text/latex": [
       "\\begin{tabular}{r|llllllll}\n",
       " X & States & Country & Confirmed & Deaths & Recovered & Active.Cases & Closed.Cases\\\\\n",
       "\\hline\n",
       "\t 1                   & Others              & Afghanistan         & 16                  & 0                   &  0                  & 16                  &  0                 \\\\\n",
       "\t 2                   & Others              & Albania             & 42                  & 1                   &  0                  & 41                  &  1                 \\\\\n",
       "\t 3                   & Others              & Algeria             & 48                  & 4                   & 12                  & 32                  & 16                 \\\\\n",
       "\t 4                   & Others              & Andorra             &  1                  & 0                   &  1                  &  0                  &  1                 \\\\\n",
       "\t 5                   & Others              & Antigua and Barbuda &  1                  & 0                   &  0                  &  1                  &  0                 \\\\\n",
       "\t 6                   & Others              & Argentina           & 45                  & 2                   &  1                  & 42                  &  3                 \\\\\n",
       "\\end{tabular}\n"
      ],
      "text/markdown": [
       "\n",
       "| X | States | Country | Confirmed | Deaths | Recovered | Active.Cases | Closed.Cases |\n",
       "|---|---|---|---|---|---|---|---|\n",
       "| 1                   | Others              | Afghanistan         | 16                  | 0                   |  0                  | 16                  |  0                  |\n",
       "| 2                   | Others              | Albania             | 42                  | 1                   |  0                  | 41                  |  1                  |\n",
       "| 3                   | Others              | Algeria             | 48                  | 4                   | 12                  | 32                  | 16                  |\n",
       "| 4                   | Others              | Andorra             |  1                  | 0                   |  1                  |  0                  |  1                  |\n",
       "| 5                   | Others              | Antigua and Barbuda |  1                  | 0                   |  0                  |  1                  |  0                  |\n",
       "| 6                   | Others              | Argentina           | 45                  | 2                   |  1                  | 42                  |  3                  |\n",
       "\n"
      ],
      "text/plain": [
       "  X States Country             Confirmed Deaths Recovered Active.Cases\n",
       "1 1 Others Afghanistan         16        0       0        16          \n",
       "2 2 Others Albania             42        1       0        41          \n",
       "3 3 Others Algeria             48        4      12        32          \n",
       "4 4 Others Andorra              1        0       1         0          \n",
       "5 5 Others Antigua and Barbuda  1        0       0         1          \n",
       "6 6 Others Argentina           45        2       1        42          \n",
       "  Closed.Cases\n",
       "1  0          \n",
       "2  1          \n",
       "3 16          \n",
       "4  1          \n",
       "5  0          \n",
       "6  3          "
      ]
     },
     "metadata": {},
     "output_type": "display_data"
    },
    {
     "data": {
      "text/html": [
       "<table>\n",
       "<thead><tr><th scope=col>Country</th><th scope=col>Day</th><th scope=col>Date</th><th scope=col>Confirmed</th><th scope=col>Deaths</th><th scope=col>Recovered</th><th scope=col>Active.Cases</th><th scope=col>Closed.Cases</th></tr></thead>\n",
       "<tbody>\n",
       "\t<tr><td>Afghanistan</td><td>1          </td><td>22-01-2020 </td><td>0          </td><td>0          </td><td>0          </td><td>0          </td><td>0          </td></tr>\n",
       "\t<tr><td>Afghanistan</td><td>2          </td><td>23-01-2020 </td><td>0          </td><td>0          </td><td>0          </td><td>0          </td><td>0          </td></tr>\n",
       "\t<tr><td>Afghanistan</td><td>3          </td><td>24-01-2020 </td><td>0          </td><td>0          </td><td>0          </td><td>0          </td><td>0          </td></tr>\n",
       "\t<tr><td>Afghanistan</td><td>4          </td><td>25-01-2020 </td><td>0          </td><td>0          </td><td>0          </td><td>0          </td><td>0          </td></tr>\n",
       "\t<tr><td>Afghanistan</td><td>5          </td><td>26-01-2020 </td><td>0          </td><td>0          </td><td>0          </td><td>0          </td><td>0          </td></tr>\n",
       "\t<tr><td>Afghanistan</td><td>6          </td><td>27-01-2020 </td><td>0          </td><td>0          </td><td>0          </td><td>0          </td><td>0          </td></tr>\n",
       "</tbody>\n",
       "</table>\n"
      ],
      "text/latex": [
       "\\begin{tabular}{r|llllllll}\n",
       " Country & Day & Date & Confirmed & Deaths & Recovered & Active.Cases & Closed.Cases\\\\\n",
       "\\hline\n",
       "\t Afghanistan & 1           & 22-01-2020  & 0           & 0           & 0           & 0           & 0          \\\\\n",
       "\t Afghanistan & 2           & 23-01-2020  & 0           & 0           & 0           & 0           & 0          \\\\\n",
       "\t Afghanistan & 3           & 24-01-2020  & 0           & 0           & 0           & 0           & 0          \\\\\n",
       "\t Afghanistan & 4           & 25-01-2020  & 0           & 0           & 0           & 0           & 0          \\\\\n",
       "\t Afghanistan & 5           & 26-01-2020  & 0           & 0           & 0           & 0           & 0          \\\\\n",
       "\t Afghanistan & 6           & 27-01-2020  & 0           & 0           & 0           & 0           & 0          \\\\\n",
       "\\end{tabular}\n"
      ],
      "text/markdown": [
       "\n",
       "| Country | Day | Date | Confirmed | Deaths | Recovered | Active.Cases | Closed.Cases |\n",
       "|---|---|---|---|---|---|---|---|\n",
       "| Afghanistan | 1           | 22-01-2020  | 0           | 0           | 0           | 0           | 0           |\n",
       "| Afghanistan | 2           | 23-01-2020  | 0           | 0           | 0           | 0           | 0           |\n",
       "| Afghanistan | 3           | 24-01-2020  | 0           | 0           | 0           | 0           | 0           |\n",
       "| Afghanistan | 4           | 25-01-2020  | 0           | 0           | 0           | 0           | 0           |\n",
       "| Afghanistan | 5           | 26-01-2020  | 0           | 0           | 0           | 0           | 0           |\n",
       "| Afghanistan | 6           | 27-01-2020  | 0           | 0           | 0           | 0           | 0           |\n",
       "\n"
      ],
      "text/plain": [
       "  Country     Day Date       Confirmed Deaths Recovered Active.Cases\n",
       "1 Afghanistan 1   22-01-2020 0         0      0         0           \n",
       "2 Afghanistan 2   23-01-2020 0         0      0         0           \n",
       "3 Afghanistan 3   24-01-2020 0         0      0         0           \n",
       "4 Afghanistan 4   25-01-2020 0         0      0         0           \n",
       "5 Afghanistan 5   26-01-2020 0         0      0         0           \n",
       "6 Afghanistan 6   27-01-2020 0         0      0         0           \n",
       "  Closed.Cases\n",
       "1 0           \n",
       "2 0           \n",
       "3 0           \n",
       "4 0           \n",
       "5 0           \n",
       "6 0           "
      ]
     },
     "metadata": {},
     "output_type": "display_data"
    },
    {
     "data": {
      "text/html": [
       "<table>\n",
       "<thead><tr><th scope=col>Country</th><th scope=col>Day</th><th scope=col>Date</th><th scope=col>Confirmed</th><th scope=col>Deaths</th><th scope=col>Recovered</th><th scope=col>Active.Cases</th><th scope=col>Closed.Cases</th></tr></thead>\n",
       "<tbody>\n",
       "\t<tr><td>Afghanistan        </td><td>1                  </td><td>22-01-2020         </td><td>0                  </td><td>0                  </td><td>0                  </td><td>0                  </td><td>0                  </td></tr>\n",
       "\t<tr><td>Albania            </td><td>1                  </td><td>22-01-2020         </td><td>0                  </td><td>0                  </td><td>0                  </td><td>0                  </td><td>0                  </td></tr>\n",
       "\t<tr><td>Algeria            </td><td>1                  </td><td>22-01-2020         </td><td>0                  </td><td>0                  </td><td>0                  </td><td>0                  </td><td>0                  </td></tr>\n",
       "\t<tr><td>Andorra            </td><td>1                  </td><td>22-01-2020         </td><td>0                  </td><td>0                  </td><td>0                  </td><td>0                  </td><td>0                  </td></tr>\n",
       "\t<tr><td>Antigua and Barbuda</td><td>1                  </td><td>22-01-2020         </td><td>0                  </td><td>0                  </td><td>0                  </td><td>0                  </td><td>0                  </td></tr>\n",
       "\t<tr><td>Argentina          </td><td>1                  </td><td>22-01-2020         </td><td>0                  </td><td>0                  </td><td>0                  </td><td>0                  </td><td>0                  </td></tr>\n",
       "</tbody>\n",
       "</table>\n"
      ],
      "text/latex": [
       "\\begin{tabular}{r|llllllll}\n",
       " Country & Day & Date & Confirmed & Deaths & Recovered & Active.Cases & Closed.Cases\\\\\n",
       "\\hline\n",
       "\t Afghanistan         & 1                   & 22-01-2020          & 0                   & 0                   & 0                   & 0                   & 0                  \\\\\n",
       "\t Albania             & 1                   & 22-01-2020          & 0                   & 0                   & 0                   & 0                   & 0                  \\\\\n",
       "\t Algeria             & 1                   & 22-01-2020          & 0                   & 0                   & 0                   & 0                   & 0                  \\\\\n",
       "\t Andorra             & 1                   & 22-01-2020          & 0                   & 0                   & 0                   & 0                   & 0                  \\\\\n",
       "\t Antigua and Barbuda & 1                   & 22-01-2020          & 0                   & 0                   & 0                   & 0                   & 0                  \\\\\n",
       "\t Argentina           & 1                   & 22-01-2020          & 0                   & 0                   & 0                   & 0                   & 0                  \\\\\n",
       "\\end{tabular}\n"
      ],
      "text/markdown": [
       "\n",
       "| Country | Day | Date | Confirmed | Deaths | Recovered | Active.Cases | Closed.Cases |\n",
       "|---|---|---|---|---|---|---|---|\n",
       "| Afghanistan         | 1                   | 22-01-2020          | 0                   | 0                   | 0                   | 0                   | 0                   |\n",
       "| Albania             | 1                   | 22-01-2020          | 0                   | 0                   | 0                   | 0                   | 0                   |\n",
       "| Algeria             | 1                   | 22-01-2020          | 0                   | 0                   | 0                   | 0                   | 0                   |\n",
       "| Andorra             | 1                   | 22-01-2020          | 0                   | 0                   | 0                   | 0                   | 0                   |\n",
       "| Antigua and Barbuda | 1                   | 22-01-2020          | 0                   | 0                   | 0                   | 0                   | 0                   |\n",
       "| Argentina           | 1                   | 22-01-2020          | 0                   | 0                   | 0                   | 0                   | 0                   |\n",
       "\n"
      ],
      "text/plain": [
       "  Country             Day Date       Confirmed Deaths Recovered Active.Cases\n",
       "1 Afghanistan         1   22-01-2020 0         0      0         0           \n",
       "2 Albania             1   22-01-2020 0         0      0         0           \n",
       "3 Algeria             1   22-01-2020 0         0      0         0           \n",
       "4 Andorra             1   22-01-2020 0         0      0         0           \n",
       "5 Antigua and Barbuda 1   22-01-2020 0         0      0         0           \n",
       "6 Argentina           1   22-01-2020 0         0      0         0           \n",
       "  Closed.Cases\n",
       "1 0           \n",
       "2 0           \n",
       "3 0           \n",
       "4 0           \n",
       "5 0           \n",
       "6 0           "
      ]
     },
     "metadata": {},
     "output_type": "display_data"
    }
   ],
   "source": [
    "## Viewed\n",
    "head(All.Countries.daily.Confirmed)\n",
    "head(All.Countries.daily.Deaths)\n",
    "head(All.Countries.daily.Recovered)\n",
    "head(All.Countries.summary)\n",
    "head(Mixed.summary)\n",
    "head(Mixed.countryWise.summary)\n",
    "head(Mixed.dateWise.summary)"
   ]
  },
  {
   "cell_type": "markdown",
   "metadata": {},
   "source": [
    "##    World (except China)"
   ]
  },
  {
   "cell_type": "code",
   "execution_count": 10,
   "metadata": {},
   "outputs": [],
   "source": [
    "## Loading\n",
    "World.Countries.daily.Confirmed = read.csv(\"ready_to_use/COVID-19/World/World_Countries_daily_Confirmed.csv\")\n",
    "World.Countries.daily.Deaths = read.csv(\"ready_to_use/COVID-19/World/World_Countries_daily_Deaths.csv\")\n",
    "World.Countries.daily.Recovered = read.csv(\"ready_to_use/COVID-19/World/World_Countries_daily_Recovered.csv\")\n",
    "\n",
    "World.Aggregate.daily.Confirmed = read.csv(\"ready_to_use/COVID-19/World/World_Aggregate_daily_Confirmed.csv\")\n",
    "World.Aggregate.daily.Deaths = read.csv(\"ready_to_use/COVID-19/World/World_Aggregate_daily_Deaths.csv\")\n",
    "World.Aggregate.daily.Recovered = read.csv(\"ready_to_use/COVID-19/World/World_Aggregate_daily_Recovered.csv\")\n",
    "\n",
    "World.Countries.summary = read.csv(\"ready_to_use/COVID-19/World/World_Countries_summary.csv\")\n",
    "World.Aggregate.summary = read.csv(\"ready_to_use/COVID-19/World/World_Aggregate_summary.csv\")\n",
    "World.dataset.dateWise = read.csv(\"ready_to_use/COVID-19/World/World_dataset_dateWise_summary.csv\")"
   ]
  },
  {
   "cell_type": "code",
   "execution_count": 11,
   "metadata": {},
   "outputs": [
    {
     "data": {
      "text/html": [
       "<table>\n",
       "<thead><tr><th scope=col>Country</th><th scope=col>X1.22.20</th><th scope=col>X1.23.20</th><th scope=col>X1.24.20</th><th scope=col>X1.25.20</th><th scope=col>X1.26.20</th><th scope=col>X1.27.20</th><th scope=col>X1.28.20</th><th scope=col>X1.29.20</th><th scope=col>X1.30.20</th><th scope=col>...</th><th scope=col>X3.6.20</th><th scope=col>X3.7.20</th><th scope=col>X3.8.20</th><th scope=col>X3.9.20</th><th scope=col>X3.10.20</th><th scope=col>X3.11.20</th><th scope=col>X3.12.20</th><th scope=col>X3.13.20</th><th scope=col>X3.14.20</th><th scope=col>X3.15.20</th></tr></thead>\n",
       "<tbody>\n",
       "\t<tr><td>Afghanistan        </td><td>0                  </td><td>0                  </td><td>0                  </td><td>0                  </td><td>0                  </td><td>0                  </td><td>0                  </td><td>0                  </td><td>0                  </td><td>...                </td><td> 1                 </td><td> 1                 </td><td> 4                 </td><td> 4                 </td><td> 5                 </td><td> 7                 </td><td> 7                 </td><td> 7                 </td><td>11                 </td><td>16                 </td></tr>\n",
       "\t<tr><td>Albania            </td><td>0                  </td><td>0                  </td><td>0                  </td><td>0                  </td><td>0                  </td><td>0                  </td><td>0                  </td><td>0                  </td><td>0                  </td><td>...                </td><td> 0                 </td><td> 0                 </td><td> 0                 </td><td> 2                 </td><td>10                 </td><td>12                 </td><td>23                 </td><td>33                 </td><td>38                 </td><td>42                 </td></tr>\n",
       "\t<tr><td>Algeria            </td><td>0                  </td><td>0                  </td><td>0                  </td><td>0                  </td><td>0                  </td><td>0                  </td><td>0                  </td><td>0                  </td><td>0                  </td><td>...                </td><td>17                 </td><td>17                 </td><td>19                 </td><td>20                 </td><td>20                 </td><td>20                 </td><td>24                 </td><td>26                 </td><td>37                 </td><td>48                 </td></tr>\n",
       "\t<tr><td>Andorra            </td><td>0                  </td><td>0                  </td><td>0                  </td><td>0                  </td><td>0                  </td><td>0                  </td><td>0                  </td><td>0                  </td><td>0                  </td><td>...                </td><td> 1                 </td><td> 1                 </td><td> 1                 </td><td> 1                 </td><td> 1                 </td><td> 1                 </td><td> 1                 </td><td> 1                 </td><td> 1                 </td><td> 1                 </td></tr>\n",
       "\t<tr><td>Antigua and Barbuda</td><td>0                  </td><td>0                  </td><td>0                  </td><td>0                  </td><td>0                  </td><td>0                  </td><td>0                  </td><td>0                  </td><td>0                  </td><td>...                </td><td> 0                 </td><td> 0                 </td><td> 0                 </td><td> 0                 </td><td> 0                 </td><td> 0                 </td><td> 0                 </td><td> 1                 </td><td> 1                 </td><td> 1                 </td></tr>\n",
       "\t<tr><td>Argentina          </td><td>0                  </td><td>0                  </td><td>0                  </td><td>0                  </td><td>0                  </td><td>0                  </td><td>0                  </td><td>0                  </td><td>0                  </td><td>...                </td><td> 2                 </td><td> 8                 </td><td>12                 </td><td>12                 </td><td>17                 </td><td>19                 </td><td>19                 </td><td>31                 </td><td>34                 </td><td>45                 </td></tr>\n",
       "</tbody>\n",
       "</table>\n"
      ],
      "text/latex": [
       "\\begin{tabular}{r|lllllllllllllllllllllllllllllllllllllllllllllllllllllll}\n",
       " Country & X1.22.20 & X1.23.20 & X1.24.20 & X1.25.20 & X1.26.20 & X1.27.20 & X1.28.20 & X1.29.20 & X1.30.20 & ... & X3.6.20 & X3.7.20 & X3.8.20 & X3.9.20 & X3.10.20 & X3.11.20 & X3.12.20 & X3.13.20 & X3.14.20 & X3.15.20\\\\\n",
       "\\hline\n",
       "\t Afghanistan         & 0                   & 0                   & 0                   & 0                   & 0                   & 0                   & 0                   & 0                   & 0                   & ...                 &  1                  &  1                  &  4                  &  4                  &  5                  &  7                  &  7                  &  7                  & 11                  & 16                 \\\\\n",
       "\t Albania             & 0                   & 0                   & 0                   & 0                   & 0                   & 0                   & 0                   & 0                   & 0                   & ...                 &  0                  &  0                  &  0                  &  2                  & 10                  & 12                  & 23                  & 33                  & 38                  & 42                 \\\\\n",
       "\t Algeria             & 0                   & 0                   & 0                   & 0                   & 0                   & 0                   & 0                   & 0                   & 0                   & ...                 & 17                  & 17                  & 19                  & 20                  & 20                  & 20                  & 24                  & 26                  & 37                  & 48                 \\\\\n",
       "\t Andorra             & 0                   & 0                   & 0                   & 0                   & 0                   & 0                   & 0                   & 0                   & 0                   & ...                 &  1                  &  1                  &  1                  &  1                  &  1                  &  1                  &  1                  &  1                  &  1                  &  1                 \\\\\n",
       "\t Antigua and Barbuda & 0                   & 0                   & 0                   & 0                   & 0                   & 0                   & 0                   & 0                   & 0                   & ...                 &  0                  &  0                  &  0                  &  0                  &  0                  &  0                  &  0                  &  1                  &  1                  &  1                 \\\\\n",
       "\t Argentina           & 0                   & 0                   & 0                   & 0                   & 0                   & 0                   & 0                   & 0                   & 0                   & ...                 &  2                  &  8                  & 12                  & 12                  & 17                  & 19                  & 19                  & 31                  & 34                  & 45                 \\\\\n",
       "\\end{tabular}\n"
      ],
      "text/markdown": [
       "\n",
       "| Country | X1.22.20 | X1.23.20 | X1.24.20 | X1.25.20 | X1.26.20 | X1.27.20 | X1.28.20 | X1.29.20 | X1.30.20 | ... | X3.6.20 | X3.7.20 | X3.8.20 | X3.9.20 | X3.10.20 | X3.11.20 | X3.12.20 | X3.13.20 | X3.14.20 | X3.15.20 |\n",
       "|---|---|---|---|---|---|---|---|---|---|---|---|---|---|---|---|---|---|---|---|---|\n",
       "| Afghanistan         | 0                   | 0                   | 0                   | 0                   | 0                   | 0                   | 0                   | 0                   | 0                   | ...                 |  1                  |  1                  |  4                  |  4                  |  5                  |  7                  |  7                  |  7                  | 11                  | 16                  |\n",
       "| Albania             | 0                   | 0                   | 0                   | 0                   | 0                   | 0                   | 0                   | 0                   | 0                   | ...                 |  0                  |  0                  |  0                  |  2                  | 10                  | 12                  | 23                  | 33                  | 38                  | 42                  |\n",
       "| Algeria             | 0                   | 0                   | 0                   | 0                   | 0                   | 0                   | 0                   | 0                   | 0                   | ...                 | 17                  | 17                  | 19                  | 20                  | 20                  | 20                  | 24                  | 26                  | 37                  | 48                  |\n",
       "| Andorra             | 0                   | 0                   | 0                   | 0                   | 0                   | 0                   | 0                   | 0                   | 0                   | ...                 |  1                  |  1                  |  1                  |  1                  |  1                  |  1                  |  1                  |  1                  |  1                  |  1                  |\n",
       "| Antigua and Barbuda | 0                   | 0                   | 0                   | 0                   | 0                   | 0                   | 0                   | 0                   | 0                   | ...                 |  0                  |  0                  |  0                  |  0                  |  0                  |  0                  |  0                  |  1                  |  1                  |  1                  |\n",
       "| Argentina           | 0                   | 0                   | 0                   | 0                   | 0                   | 0                   | 0                   | 0                   | 0                   | ...                 |  2                  |  8                  | 12                  | 12                  | 17                  | 19                  | 19                  | 31                  | 34                  | 45                  |\n",
       "\n"
      ],
      "text/plain": [
       "  Country             X1.22.20 X1.23.20 X1.24.20 X1.25.20 X1.26.20 X1.27.20\n",
       "1 Afghanistan         0        0        0        0        0        0       \n",
       "2 Albania             0        0        0        0        0        0       \n",
       "3 Algeria             0        0        0        0        0        0       \n",
       "4 Andorra             0        0        0        0        0        0       \n",
       "5 Antigua and Barbuda 0        0        0        0        0        0       \n",
       "6 Argentina           0        0        0        0        0        0       \n",
       "  X1.28.20 X1.29.20 X1.30.20 ... X3.6.20 X3.7.20 X3.8.20 X3.9.20 X3.10.20\n",
       "1 0        0        0        ...  1       1       4       4       5      \n",
       "2 0        0        0        ...  0       0       0       2      10      \n",
       "3 0        0        0        ... 17      17      19      20      20      \n",
       "4 0        0        0        ...  1       1       1       1       1      \n",
       "5 0        0        0        ...  0       0       0       0       0      \n",
       "6 0        0        0        ...  2       8      12      12      17      \n",
       "  X3.11.20 X3.12.20 X3.13.20 X3.14.20 X3.15.20\n",
       "1  7        7        7       11       16      \n",
       "2 12       23       33       38       42      \n",
       "3 20       24       26       37       48      \n",
       "4  1        1        1        1        1      \n",
       "5  0        0        1        1        1      \n",
       "6 19       19       31       34       45      "
      ]
     },
     "metadata": {},
     "output_type": "display_data"
    },
    {
     "data": {
      "text/html": [
       "<table>\n",
       "<thead><tr><th scope=col>Country</th><th scope=col>X1.22.20</th><th scope=col>X1.23.20</th><th scope=col>X1.24.20</th><th scope=col>X1.25.20</th><th scope=col>X1.26.20</th><th scope=col>X1.27.20</th><th scope=col>X1.28.20</th><th scope=col>X1.29.20</th><th scope=col>X1.30.20</th><th scope=col>...</th><th scope=col>X3.6.20</th><th scope=col>X3.7.20</th><th scope=col>X3.8.20</th><th scope=col>X3.9.20</th><th scope=col>X3.10.20</th><th scope=col>X3.11.20</th><th scope=col>X3.12.20</th><th scope=col>X3.13.20</th><th scope=col>X3.14.20</th><th scope=col>X3.15.20</th></tr></thead>\n",
       "<tbody>\n",
       "\t<tr><td>Afghanistan        </td><td>0                  </td><td>0                  </td><td>0                  </td><td>0                  </td><td>0                  </td><td>0                  </td><td>0                  </td><td>0                  </td><td>0                  </td><td>...                </td><td>0                  </td><td>0                  </td><td>0                  </td><td>0                  </td><td>0                  </td><td>0                  </td><td>0                  </td><td>0                  </td><td>0                  </td><td>0                  </td></tr>\n",
       "\t<tr><td>Albania            </td><td>0                  </td><td>0                  </td><td>0                  </td><td>0                  </td><td>0                  </td><td>0                  </td><td>0                  </td><td>0                  </td><td>0                  </td><td>...                </td><td>0                  </td><td>0                  </td><td>0                  </td><td>0                  </td><td>0                  </td><td>1                  </td><td>1                  </td><td>1                  </td><td>1                  </td><td>1                  </td></tr>\n",
       "\t<tr><td>Algeria            </td><td>0                  </td><td>0                  </td><td>0                  </td><td>0                  </td><td>0                  </td><td>0                  </td><td>0                  </td><td>0                  </td><td>0                  </td><td>...                </td><td>0                  </td><td>0                  </td><td>0                  </td><td>0                  </td><td>0                  </td><td>0                  </td><td>1                  </td><td>2                  </td><td>3                  </td><td>4                  </td></tr>\n",
       "\t<tr><td>Andorra            </td><td>0                  </td><td>0                  </td><td>0                  </td><td>0                  </td><td>0                  </td><td>0                  </td><td>0                  </td><td>0                  </td><td>0                  </td><td>...                </td><td>0                  </td><td>0                  </td><td>0                  </td><td>0                  </td><td>0                  </td><td>0                  </td><td>0                  </td><td>0                  </td><td>0                  </td><td>0                  </td></tr>\n",
       "\t<tr><td>Antigua and Barbuda</td><td>0                  </td><td>0                  </td><td>0                  </td><td>0                  </td><td>0                  </td><td>0                  </td><td>0                  </td><td>0                  </td><td>0                  </td><td>...                </td><td>0                  </td><td>0                  </td><td>0                  </td><td>0                  </td><td>0                  </td><td>0                  </td><td>0                  </td><td>0                  </td><td>0                  </td><td>0                  </td></tr>\n",
       "\t<tr><td>Argentina          </td><td>0                  </td><td>0                  </td><td>0                  </td><td>0                  </td><td>0                  </td><td>0                  </td><td>0                  </td><td>0                  </td><td>0                  </td><td>...                </td><td>0                  </td><td>0                  </td><td>1                  </td><td>1                  </td><td>1                  </td><td>1                  </td><td>1                  </td><td>2                  </td><td>2                  </td><td>2                  </td></tr>\n",
       "</tbody>\n",
       "</table>\n"
      ],
      "text/latex": [
       "\\begin{tabular}{r|lllllllllllllllllllllllllllllllllllllllllllllllllllllll}\n",
       " Country & X1.22.20 & X1.23.20 & X1.24.20 & X1.25.20 & X1.26.20 & X1.27.20 & X1.28.20 & X1.29.20 & X1.30.20 & ... & X3.6.20 & X3.7.20 & X3.8.20 & X3.9.20 & X3.10.20 & X3.11.20 & X3.12.20 & X3.13.20 & X3.14.20 & X3.15.20\\\\\n",
       "\\hline\n",
       "\t Afghanistan         & 0                   & 0                   & 0                   & 0                   & 0                   & 0                   & 0                   & 0                   & 0                   & ...                 & 0                   & 0                   & 0                   & 0                   & 0                   & 0                   & 0                   & 0                   & 0                   & 0                  \\\\\n",
       "\t Albania             & 0                   & 0                   & 0                   & 0                   & 0                   & 0                   & 0                   & 0                   & 0                   & ...                 & 0                   & 0                   & 0                   & 0                   & 0                   & 1                   & 1                   & 1                   & 1                   & 1                  \\\\\n",
       "\t Algeria             & 0                   & 0                   & 0                   & 0                   & 0                   & 0                   & 0                   & 0                   & 0                   & ...                 & 0                   & 0                   & 0                   & 0                   & 0                   & 0                   & 1                   & 2                   & 3                   & 4                  \\\\\n",
       "\t Andorra             & 0                   & 0                   & 0                   & 0                   & 0                   & 0                   & 0                   & 0                   & 0                   & ...                 & 0                   & 0                   & 0                   & 0                   & 0                   & 0                   & 0                   & 0                   & 0                   & 0                  \\\\\n",
       "\t Antigua and Barbuda & 0                   & 0                   & 0                   & 0                   & 0                   & 0                   & 0                   & 0                   & 0                   & ...                 & 0                   & 0                   & 0                   & 0                   & 0                   & 0                   & 0                   & 0                   & 0                   & 0                  \\\\\n",
       "\t Argentina           & 0                   & 0                   & 0                   & 0                   & 0                   & 0                   & 0                   & 0                   & 0                   & ...                 & 0                   & 0                   & 1                   & 1                   & 1                   & 1                   & 1                   & 2                   & 2                   & 2                  \\\\\n",
       "\\end{tabular}\n"
      ],
      "text/markdown": [
       "\n",
       "| Country | X1.22.20 | X1.23.20 | X1.24.20 | X1.25.20 | X1.26.20 | X1.27.20 | X1.28.20 | X1.29.20 | X1.30.20 | ... | X3.6.20 | X3.7.20 | X3.8.20 | X3.9.20 | X3.10.20 | X3.11.20 | X3.12.20 | X3.13.20 | X3.14.20 | X3.15.20 |\n",
       "|---|---|---|---|---|---|---|---|---|---|---|---|---|---|---|---|---|---|---|---|---|\n",
       "| Afghanistan         | 0                   | 0                   | 0                   | 0                   | 0                   | 0                   | 0                   | 0                   | 0                   | ...                 | 0                   | 0                   | 0                   | 0                   | 0                   | 0                   | 0                   | 0                   | 0                   | 0                   |\n",
       "| Albania             | 0                   | 0                   | 0                   | 0                   | 0                   | 0                   | 0                   | 0                   | 0                   | ...                 | 0                   | 0                   | 0                   | 0                   | 0                   | 1                   | 1                   | 1                   | 1                   | 1                   |\n",
       "| Algeria             | 0                   | 0                   | 0                   | 0                   | 0                   | 0                   | 0                   | 0                   | 0                   | ...                 | 0                   | 0                   | 0                   | 0                   | 0                   | 0                   | 1                   | 2                   | 3                   | 4                   |\n",
       "| Andorra             | 0                   | 0                   | 0                   | 0                   | 0                   | 0                   | 0                   | 0                   | 0                   | ...                 | 0                   | 0                   | 0                   | 0                   | 0                   | 0                   | 0                   | 0                   | 0                   | 0                   |\n",
       "| Antigua and Barbuda | 0                   | 0                   | 0                   | 0                   | 0                   | 0                   | 0                   | 0                   | 0                   | ...                 | 0                   | 0                   | 0                   | 0                   | 0                   | 0                   | 0                   | 0                   | 0                   | 0                   |\n",
       "| Argentina           | 0                   | 0                   | 0                   | 0                   | 0                   | 0                   | 0                   | 0                   | 0                   | ...                 | 0                   | 0                   | 1                   | 1                   | 1                   | 1                   | 1                   | 2                   | 2                   | 2                   |\n",
       "\n"
      ],
      "text/plain": [
       "  Country             X1.22.20 X1.23.20 X1.24.20 X1.25.20 X1.26.20 X1.27.20\n",
       "1 Afghanistan         0        0        0        0        0        0       \n",
       "2 Albania             0        0        0        0        0        0       \n",
       "3 Algeria             0        0        0        0        0        0       \n",
       "4 Andorra             0        0        0        0        0        0       \n",
       "5 Antigua and Barbuda 0        0        0        0        0        0       \n",
       "6 Argentina           0        0        0        0        0        0       \n",
       "  X1.28.20 X1.29.20 X1.30.20 ... X3.6.20 X3.7.20 X3.8.20 X3.9.20 X3.10.20\n",
       "1 0        0        0        ... 0       0       0       0       0       \n",
       "2 0        0        0        ... 0       0       0       0       0       \n",
       "3 0        0        0        ... 0       0       0       0       0       \n",
       "4 0        0        0        ... 0       0       0       0       0       \n",
       "5 0        0        0        ... 0       0       0       0       0       \n",
       "6 0        0        0        ... 0       0       1       1       1       \n",
       "  X3.11.20 X3.12.20 X3.13.20 X3.14.20 X3.15.20\n",
       "1 0        0        0        0        0       \n",
       "2 1        1        1        1        1       \n",
       "3 0        1        2        3        4       \n",
       "4 0        0        0        0        0       \n",
       "5 0        0        0        0        0       \n",
       "6 1        1        2        2        2       "
      ]
     },
     "metadata": {},
     "output_type": "display_data"
    },
    {
     "data": {
      "text/html": [
       "<table>\n",
       "<thead><tr><th scope=col>Country</th><th scope=col>X1.22.20</th><th scope=col>X1.23.20</th><th scope=col>X1.24.20</th><th scope=col>X1.25.20</th><th scope=col>X1.26.20</th><th scope=col>X1.27.20</th><th scope=col>X1.28.20</th><th scope=col>X1.29.20</th><th scope=col>X1.30.20</th><th scope=col>...</th><th scope=col>X3.6.20</th><th scope=col>X3.7.20</th><th scope=col>X3.8.20</th><th scope=col>X3.9.20</th><th scope=col>X3.10.20</th><th scope=col>X3.11.20</th><th scope=col>X3.12.20</th><th scope=col>X3.13.20</th><th scope=col>X3.14.20</th><th scope=col>X3.15.20</th></tr></thead>\n",
       "<tbody>\n",
       "\t<tr><td>Afghanistan        </td><td>0                  </td><td>0                  </td><td>0                  </td><td>0                  </td><td>0                  </td><td>0                  </td><td>0                  </td><td>0                  </td><td>0                  </td><td>...                </td><td>0                  </td><td>0                  </td><td>0                  </td><td>0                  </td><td>0                  </td><td>0                  </td><td>0                  </td><td>0                  </td><td> 0                 </td><td> 0                 </td></tr>\n",
       "\t<tr><td>Albania            </td><td>0                  </td><td>0                  </td><td>0                  </td><td>0                  </td><td>0                  </td><td>0                  </td><td>0                  </td><td>0                  </td><td>0                  </td><td>...                </td><td>0                  </td><td>0                  </td><td>0                  </td><td>0                  </td><td>0                  </td><td>0                  </td><td>0                  </td><td>0                  </td><td> 0                 </td><td> 0                 </td></tr>\n",
       "\t<tr><td>Algeria            </td><td>0                  </td><td>0                  </td><td>0                  </td><td>0                  </td><td>0                  </td><td>0                  </td><td>0                  </td><td>0                  </td><td>0                  </td><td>...                </td><td>0                  </td><td>0                  </td><td>0                  </td><td>0                  </td><td>0                  </td><td>0                  </td><td>8                  </td><td>8                  </td><td>12                 </td><td>12                 </td></tr>\n",
       "\t<tr><td>Andorra            </td><td>0                  </td><td>0                  </td><td>0                  </td><td>0                  </td><td>0                  </td><td>0                  </td><td>0                  </td><td>0                  </td><td>0                  </td><td>...                </td><td>0                  </td><td>0                  </td><td>0                  </td><td>0                  </td><td>0                  </td><td>0                  </td><td>1                  </td><td>0                  </td><td> 1                 </td><td> 1                 </td></tr>\n",
       "\t<tr><td>Antigua and Barbuda</td><td>0                  </td><td>0                  </td><td>0                  </td><td>0                  </td><td>0                  </td><td>0                  </td><td>0                  </td><td>0                  </td><td>0                  </td><td>...                </td><td>0                  </td><td>0                  </td><td>0                  </td><td>0                  </td><td>0                  </td><td>0                  </td><td>0                  </td><td>0                  </td><td> 0                 </td><td> 0                 </td></tr>\n",
       "\t<tr><td>Argentina          </td><td>0                  </td><td>0                  </td><td>0                  </td><td>0                  </td><td>0                  </td><td>0                  </td><td>0                  </td><td>0                  </td><td>0                  </td><td>...                </td><td>0                  </td><td>0                  </td><td>0                  </td><td>0                  </td><td>0                  </td><td>0                  </td><td>0                  </td><td>0                  </td><td> 1                 </td><td> 1                 </td></tr>\n",
       "</tbody>\n",
       "</table>\n"
      ],
      "text/latex": [
       "\\begin{tabular}{r|lllllllllllllllllllllllllllllllllllllllllllllllllllllll}\n",
       " Country & X1.22.20 & X1.23.20 & X1.24.20 & X1.25.20 & X1.26.20 & X1.27.20 & X1.28.20 & X1.29.20 & X1.30.20 & ... & X3.6.20 & X3.7.20 & X3.8.20 & X3.9.20 & X3.10.20 & X3.11.20 & X3.12.20 & X3.13.20 & X3.14.20 & X3.15.20\\\\\n",
       "\\hline\n",
       "\t Afghanistan         & 0                   & 0                   & 0                   & 0                   & 0                   & 0                   & 0                   & 0                   & 0                   & ...                 & 0                   & 0                   & 0                   & 0                   & 0                   & 0                   & 0                   & 0                   &  0                  &  0                 \\\\\n",
       "\t Albania             & 0                   & 0                   & 0                   & 0                   & 0                   & 0                   & 0                   & 0                   & 0                   & ...                 & 0                   & 0                   & 0                   & 0                   & 0                   & 0                   & 0                   & 0                   &  0                  &  0                 \\\\\n",
       "\t Algeria             & 0                   & 0                   & 0                   & 0                   & 0                   & 0                   & 0                   & 0                   & 0                   & ...                 & 0                   & 0                   & 0                   & 0                   & 0                   & 0                   & 8                   & 8                   & 12                  & 12                 \\\\\n",
       "\t Andorra             & 0                   & 0                   & 0                   & 0                   & 0                   & 0                   & 0                   & 0                   & 0                   & ...                 & 0                   & 0                   & 0                   & 0                   & 0                   & 0                   & 1                   & 0                   &  1                  &  1                 \\\\\n",
       "\t Antigua and Barbuda & 0                   & 0                   & 0                   & 0                   & 0                   & 0                   & 0                   & 0                   & 0                   & ...                 & 0                   & 0                   & 0                   & 0                   & 0                   & 0                   & 0                   & 0                   &  0                  &  0                 \\\\\n",
       "\t Argentina           & 0                   & 0                   & 0                   & 0                   & 0                   & 0                   & 0                   & 0                   & 0                   & ...                 & 0                   & 0                   & 0                   & 0                   & 0                   & 0                   & 0                   & 0                   &  1                  &  1                 \\\\\n",
       "\\end{tabular}\n"
      ],
      "text/markdown": [
       "\n",
       "| Country | X1.22.20 | X1.23.20 | X1.24.20 | X1.25.20 | X1.26.20 | X1.27.20 | X1.28.20 | X1.29.20 | X1.30.20 | ... | X3.6.20 | X3.7.20 | X3.8.20 | X3.9.20 | X3.10.20 | X3.11.20 | X3.12.20 | X3.13.20 | X3.14.20 | X3.15.20 |\n",
       "|---|---|---|---|---|---|---|---|---|---|---|---|---|---|---|---|---|---|---|---|---|\n",
       "| Afghanistan         | 0                   | 0                   | 0                   | 0                   | 0                   | 0                   | 0                   | 0                   | 0                   | ...                 | 0                   | 0                   | 0                   | 0                   | 0                   | 0                   | 0                   | 0                   |  0                  |  0                  |\n",
       "| Albania             | 0                   | 0                   | 0                   | 0                   | 0                   | 0                   | 0                   | 0                   | 0                   | ...                 | 0                   | 0                   | 0                   | 0                   | 0                   | 0                   | 0                   | 0                   |  0                  |  0                  |\n",
       "| Algeria             | 0                   | 0                   | 0                   | 0                   | 0                   | 0                   | 0                   | 0                   | 0                   | ...                 | 0                   | 0                   | 0                   | 0                   | 0                   | 0                   | 8                   | 8                   | 12                  | 12                  |\n",
       "| Andorra             | 0                   | 0                   | 0                   | 0                   | 0                   | 0                   | 0                   | 0                   | 0                   | ...                 | 0                   | 0                   | 0                   | 0                   | 0                   | 0                   | 1                   | 0                   |  1                  |  1                  |\n",
       "| Antigua and Barbuda | 0                   | 0                   | 0                   | 0                   | 0                   | 0                   | 0                   | 0                   | 0                   | ...                 | 0                   | 0                   | 0                   | 0                   | 0                   | 0                   | 0                   | 0                   |  0                  |  0                  |\n",
       "| Argentina           | 0                   | 0                   | 0                   | 0                   | 0                   | 0                   | 0                   | 0                   | 0                   | ...                 | 0                   | 0                   | 0                   | 0                   | 0                   | 0                   | 0                   | 0                   |  1                  |  1                  |\n",
       "\n"
      ],
      "text/plain": [
       "  Country             X1.22.20 X1.23.20 X1.24.20 X1.25.20 X1.26.20 X1.27.20\n",
       "1 Afghanistan         0        0        0        0        0        0       \n",
       "2 Albania             0        0        0        0        0        0       \n",
       "3 Algeria             0        0        0        0        0        0       \n",
       "4 Andorra             0        0        0        0        0        0       \n",
       "5 Antigua and Barbuda 0        0        0        0        0        0       \n",
       "6 Argentina           0        0        0        0        0        0       \n",
       "  X1.28.20 X1.29.20 X1.30.20 ... X3.6.20 X3.7.20 X3.8.20 X3.9.20 X3.10.20\n",
       "1 0        0        0        ... 0       0       0       0       0       \n",
       "2 0        0        0        ... 0       0       0       0       0       \n",
       "3 0        0        0        ... 0       0       0       0       0       \n",
       "4 0        0        0        ... 0       0       0       0       0       \n",
       "5 0        0        0        ... 0       0       0       0       0       \n",
       "6 0        0        0        ... 0       0       0       0       0       \n",
       "  X3.11.20 X3.12.20 X3.13.20 X3.14.20 X3.15.20\n",
       "1 0        0        0         0        0      \n",
       "2 0        0        0         0        0      \n",
       "3 0        8        8        12       12      \n",
       "4 0        1        0         1        1      \n",
       "5 0        0        0         0        0      \n",
       "6 0        0        0         1        1      "
      ]
     },
     "metadata": {},
     "output_type": "display_data"
    },
    {
     "data": {
      "text/html": [
       "<table>\n",
       "<thead><tr><th scope=col>Location</th><th scope=col>X1.22.20</th><th scope=col>X1.23.20</th><th scope=col>X1.24.20</th><th scope=col>X1.25.20</th><th scope=col>X1.26.20</th><th scope=col>X1.27.20</th><th scope=col>X1.28.20</th><th scope=col>X1.29.20</th><th scope=col>X1.30.20</th><th scope=col>...</th><th scope=col>X3.6.20</th><th scope=col>X3.7.20</th><th scope=col>X3.8.20</th><th scope=col>X3.9.20</th><th scope=col>X3.10.20</th><th scope=col>X3.11.20</th><th scope=col>X3.12.20</th><th scope=col>X3.13.20</th><th scope=col>X3.14.20</th><th scope=col>X3.15.20</th></tr></thead>\n",
       "<tbody>\n",
       "\t<tr><td>World</td><td>111  </td><td>209  </td><td>392  </td><td>673  </td><td>1060 </td><td>1504 </td><td>2024 </td><td>2612 </td><td>3331 </td><td>...  </td><td>33496</td><td>37459</td><td>41392</td><td>45122</td><td>50136</td><td>57396</td><td>59866</td><td>76711</td><td>87611</td><td>98960</td></tr>\n",
       "</tbody>\n",
       "</table>\n"
      ],
      "text/latex": [
       "\\begin{tabular}{r|lllllllllllllllllllllllllllllllllllllllllllllllllllllll}\n",
       " Location & X1.22.20 & X1.23.20 & X1.24.20 & X1.25.20 & X1.26.20 & X1.27.20 & X1.28.20 & X1.29.20 & X1.30.20 & ... & X3.6.20 & X3.7.20 & X3.8.20 & X3.9.20 & X3.10.20 & X3.11.20 & X3.12.20 & X3.13.20 & X3.14.20 & X3.15.20\\\\\n",
       "\\hline\n",
       "\t World & 111   & 209   & 392   & 673   & 1060  & 1504  & 2024  & 2612  & 3331  & ...   & 33496 & 37459 & 41392 & 45122 & 50136 & 57396 & 59866 & 76711 & 87611 & 98960\\\\\n",
       "\\end{tabular}\n"
      ],
      "text/markdown": [
       "\n",
       "| Location | X1.22.20 | X1.23.20 | X1.24.20 | X1.25.20 | X1.26.20 | X1.27.20 | X1.28.20 | X1.29.20 | X1.30.20 | ... | X3.6.20 | X3.7.20 | X3.8.20 | X3.9.20 | X3.10.20 | X3.11.20 | X3.12.20 | X3.13.20 | X3.14.20 | X3.15.20 |\n",
       "|---|---|---|---|---|---|---|---|---|---|---|---|---|---|---|---|---|---|---|---|---|\n",
       "| World | 111   | 209   | 392   | 673   | 1060  | 1504  | 2024  | 2612  | 3331  | ...   | 33496 | 37459 | 41392 | 45122 | 50136 | 57396 | 59866 | 76711 | 87611 | 98960 |\n",
       "\n"
      ],
      "text/plain": [
       "  Location X1.22.20 X1.23.20 X1.24.20 X1.25.20 X1.26.20 X1.27.20 X1.28.20\n",
       "1 World    111      209      392      673      1060     1504     2024    \n",
       "  X1.29.20 X1.30.20 ... X3.6.20 X3.7.20 X3.8.20 X3.9.20 X3.10.20 X3.11.20\n",
       "1 2612     3331     ... 33496   37459   41392   45122   50136    57396   \n",
       "  X3.12.20 X3.13.20 X3.14.20 X3.15.20\n",
       "1 59866    76711    87611    98960   "
      ]
     },
     "metadata": {},
     "output_type": "display_data"
    },
    {
     "data": {
      "text/html": [
       "<table>\n",
       "<thead><tr><th scope=col>Location</th><th scope=col>X1.22.20</th><th scope=col>X1.23.20</th><th scope=col>X1.24.20</th><th scope=col>X1.25.20</th><th scope=col>X1.26.20</th><th scope=col>X1.27.20</th><th scope=col>X1.28.20</th><th scope=col>X1.29.20</th><th scope=col>X1.30.20</th><th scope=col>...</th><th scope=col>X3.6.20</th><th scope=col>X3.7.20</th><th scope=col>X3.8.20</th><th scope=col>X3.9.20</th><th scope=col>X3.10.20</th><th scope=col>X3.11.20</th><th scope=col>X3.12.20</th><th scope=col>X3.13.20</th><th scope=col>X3.14.20</th><th scope=col>X3.15.20</th></tr></thead>\n",
       "<tbody>\n",
       "\t<tr><td>World</td><td>0    </td><td>0    </td><td>0    </td><td>0    </td><td>0    </td><td>0    </td><td>0    </td><td>0    </td><td>0    </td><td>...  </td><td>410  </td><td>480  </td><td>696  </td><td>859  </td><td>1117 </td><td>1447 </td><td>1541 </td><td>2217 </td><td>2619 </td><td>3230 </td></tr>\n",
       "</tbody>\n",
       "</table>\n"
      ],
      "text/latex": [
       "\\begin{tabular}{r|lllllllllllllllllllllllllllllllllllllllllllllllllllllll}\n",
       " Location & X1.22.20 & X1.23.20 & X1.24.20 & X1.25.20 & X1.26.20 & X1.27.20 & X1.28.20 & X1.29.20 & X1.30.20 & ... & X3.6.20 & X3.7.20 & X3.8.20 & X3.9.20 & X3.10.20 & X3.11.20 & X3.12.20 & X3.13.20 & X3.14.20 & X3.15.20\\\\\n",
       "\\hline\n",
       "\t World & 0     & 0     & 0     & 0     & 0     & 0     & 0     & 0     & 0     & ...   & 410   & 480   & 696   & 859   & 1117  & 1447  & 1541  & 2217  & 2619  & 3230 \\\\\n",
       "\\end{tabular}\n"
      ],
      "text/markdown": [
       "\n",
       "| Location | X1.22.20 | X1.23.20 | X1.24.20 | X1.25.20 | X1.26.20 | X1.27.20 | X1.28.20 | X1.29.20 | X1.30.20 | ... | X3.6.20 | X3.7.20 | X3.8.20 | X3.9.20 | X3.10.20 | X3.11.20 | X3.12.20 | X3.13.20 | X3.14.20 | X3.15.20 |\n",
       "|---|---|---|---|---|---|---|---|---|---|---|---|---|---|---|---|---|---|---|---|---|\n",
       "| World | 0     | 0     | 0     | 0     | 0     | 0     | 0     | 0     | 0     | ...   | 410   | 480   | 696   | 859   | 1117  | 1447  | 1541  | 2217  | 2619  | 3230  |\n",
       "\n"
      ],
      "text/plain": [
       "  Location X1.22.20 X1.23.20 X1.24.20 X1.25.20 X1.26.20 X1.27.20 X1.28.20\n",
       "1 World    0        0        0        0        0        0        0       \n",
       "  X1.29.20 X1.30.20 ... X3.6.20 X3.7.20 X3.8.20 X3.9.20 X3.10.20 X3.11.20\n",
       "1 0        0        ... 410     480     696     859     1117     1447    \n",
       "  X3.12.20 X3.13.20 X3.14.20 X3.15.20\n",
       "1 1541     2217     2619     3230    "
      ]
     },
     "metadata": {},
     "output_type": "display_data"
    },
    {
     "data": {
      "text/html": [
       "<table>\n",
       "<thead><tr><th scope=col>Location</th><th scope=col>X1.22.20</th><th scope=col>X1.23.20</th><th scope=col>X1.24.20</th><th scope=col>X1.25.20</th><th scope=col>X1.26.20</th><th scope=col>X1.27.20</th><th scope=col>X1.28.20</th><th scope=col>X1.29.20</th><th scope=col>X1.30.20</th><th scope=col>...</th><th scope=col>X3.6.20</th><th scope=col>X3.7.20</th><th scope=col>X3.8.20</th><th scope=col>X3.9.20</th><th scope=col>X3.10.20</th><th scope=col>X3.11.20</th><th scope=col>X3.12.20</th><th scope=col>X3.13.20</th><th scope=col>X3.14.20</th><th scope=col>X3.15.20</th></tr></thead>\n",
       "<tbody>\n",
       "\t<tr><td>World</td><td>0    </td><td>0    </td><td>0    </td><td>0    </td><td>3    </td><td>3    </td><td>6    </td><td>6    </td><td>8    </td><td>...  </td><td>1881 </td><td>2779 </td><td>3266 </td><td>3650 </td><td>4183 </td><td>5034 </td><td>5098 </td><td>5730 </td><td>6639 </td><td>8692 </td></tr>\n",
       "</tbody>\n",
       "</table>\n"
      ],
      "text/latex": [
       "\\begin{tabular}{r|lllllllllllllllllllllllllllllllllllllllllllllllllllllll}\n",
       " Location & X1.22.20 & X1.23.20 & X1.24.20 & X1.25.20 & X1.26.20 & X1.27.20 & X1.28.20 & X1.29.20 & X1.30.20 & ... & X3.6.20 & X3.7.20 & X3.8.20 & X3.9.20 & X3.10.20 & X3.11.20 & X3.12.20 & X3.13.20 & X3.14.20 & X3.15.20\\\\\n",
       "\\hline\n",
       "\t World & 0     & 0     & 0     & 0     & 3     & 3     & 6     & 6     & 8     & ...   & 1881  & 2779  & 3266  & 3650  & 4183  & 5034  & 5098  & 5730  & 6639  & 8692 \\\\\n",
       "\\end{tabular}\n"
      ],
      "text/markdown": [
       "\n",
       "| Location | X1.22.20 | X1.23.20 | X1.24.20 | X1.25.20 | X1.26.20 | X1.27.20 | X1.28.20 | X1.29.20 | X1.30.20 | ... | X3.6.20 | X3.7.20 | X3.8.20 | X3.9.20 | X3.10.20 | X3.11.20 | X3.12.20 | X3.13.20 | X3.14.20 | X3.15.20 |\n",
       "|---|---|---|---|---|---|---|---|---|---|---|---|---|---|---|---|---|---|---|---|---|\n",
       "| World | 0     | 0     | 0     | 0     | 3     | 3     | 6     | 6     | 8     | ...   | 1881  | 2779  | 3266  | 3650  | 4183  | 5034  | 5098  | 5730  | 6639  | 8692  |\n",
       "\n"
      ],
      "text/plain": [
       "  Location X1.22.20 X1.23.20 X1.24.20 X1.25.20 X1.26.20 X1.27.20 X1.28.20\n",
       "1 World    0        0        0        0        3        3        6       \n",
       "  X1.29.20 X1.30.20 ... X3.6.20 X3.7.20 X3.8.20 X3.9.20 X3.10.20 X3.11.20\n",
       "1 6        8        ... 1881    2779    3266    3650    4183     5034    \n",
       "  X3.12.20 X3.13.20 X3.14.20 X3.15.20\n",
       "1 5098     5730     6639     8692    "
      ]
     },
     "metadata": {},
     "output_type": "display_data"
    },
    {
     "data": {
      "text/html": [
       "<table>\n",
       "<thead><tr><th scope=col>Country</th><th scope=col>Confirmed</th><th scope=col>Deaths</th><th scope=col>Recovered</th><th scope=col>Active.Cases</th><th scope=col>Closed.Cases</th></tr></thead>\n",
       "<tbody>\n",
       "\t<tr><td>Afghanistan        </td><td>16                 </td><td>0                  </td><td> 0                 </td><td>16                 </td><td> 0                 </td></tr>\n",
       "\t<tr><td>Albania            </td><td>42                 </td><td>1                  </td><td> 0                 </td><td>41                 </td><td> 1                 </td></tr>\n",
       "\t<tr><td>Algeria            </td><td>48                 </td><td>4                  </td><td>12                 </td><td>32                 </td><td>16                 </td></tr>\n",
       "\t<tr><td>Andorra            </td><td> 1                 </td><td>0                  </td><td> 1                 </td><td> 0                 </td><td> 1                 </td></tr>\n",
       "\t<tr><td>Antigua and Barbuda</td><td> 1                 </td><td>0                  </td><td> 0                 </td><td> 1                 </td><td> 0                 </td></tr>\n",
       "\t<tr><td>Argentina          </td><td>45                 </td><td>2                  </td><td> 1                 </td><td>42                 </td><td> 3                 </td></tr>\n",
       "</tbody>\n",
       "</table>\n"
      ],
      "text/latex": [
       "\\begin{tabular}{r|llllll}\n",
       " Country & Confirmed & Deaths & Recovered & Active.Cases & Closed.Cases\\\\\n",
       "\\hline\n",
       "\t Afghanistan         & 16                  & 0                   &  0                  & 16                  &  0                 \\\\\n",
       "\t Albania             & 42                  & 1                   &  0                  & 41                  &  1                 \\\\\n",
       "\t Algeria             & 48                  & 4                   & 12                  & 32                  & 16                 \\\\\n",
       "\t Andorra             &  1                  & 0                   &  1                  &  0                  &  1                 \\\\\n",
       "\t Antigua and Barbuda &  1                  & 0                   &  0                  &  1                  &  0                 \\\\\n",
       "\t Argentina           & 45                  & 2                   &  1                  & 42                  &  3                 \\\\\n",
       "\\end{tabular}\n"
      ],
      "text/markdown": [
       "\n",
       "| Country | Confirmed | Deaths | Recovered | Active.Cases | Closed.Cases |\n",
       "|---|---|---|---|---|---|\n",
       "| Afghanistan         | 16                  | 0                   |  0                  | 16                  |  0                  |\n",
       "| Albania             | 42                  | 1                   |  0                  | 41                  |  1                  |\n",
       "| Algeria             | 48                  | 4                   | 12                  | 32                  | 16                  |\n",
       "| Andorra             |  1                  | 0                   |  1                  |  0                  |  1                  |\n",
       "| Antigua and Barbuda |  1                  | 0                   |  0                  |  1                  |  0                  |\n",
       "| Argentina           | 45                  | 2                   |  1                  | 42                  |  3                  |\n",
       "\n"
      ],
      "text/plain": [
       "  Country             Confirmed Deaths Recovered Active.Cases Closed.Cases\n",
       "1 Afghanistan         16        0       0        16            0          \n",
       "2 Albania             42        1       0        41            1          \n",
       "3 Algeria             48        4      12        32           16          \n",
       "4 Andorra              1        0       1         0            1          \n",
       "5 Antigua and Barbuda  1        0       0         1            0          \n",
       "6 Argentina           45        2       1        42            3          "
      ]
     },
     "metadata": {},
     "output_type": "display_data"
    },
    {
     "data": {
      "text/html": [
       "<table>\n",
       "<thead><tr><th scope=col>Location</th><th scope=col>Confirmed</th><th scope=col>Deaths</th><th scope=col>Recovered</th><th scope=col>Active.Cases</th><th scope=col>Closed.Cases</th></tr></thead>\n",
       "<tbody>\n",
       "\t<tr><td>World</td><td>86278</td><td>3252 </td><td>8705 </td><td>74321</td><td>11957</td></tr>\n",
       "</tbody>\n",
       "</table>\n"
      ],
      "text/latex": [
       "\\begin{tabular}{r|llllll}\n",
       " Location & Confirmed & Deaths & Recovered & Active.Cases & Closed.Cases\\\\\n",
       "\\hline\n",
       "\t World & 86278 & 3252  & 8705  & 74321 & 11957\\\\\n",
       "\\end{tabular}\n"
      ],
      "text/markdown": [
       "\n",
       "| Location | Confirmed | Deaths | Recovered | Active.Cases | Closed.Cases |\n",
       "|---|---|---|---|---|---|\n",
       "| World | 86278 | 3252  | 8705  | 74321 | 11957 |\n",
       "\n"
      ],
      "text/plain": [
       "  Location Confirmed Deaths Recovered Active.Cases Closed.Cases\n",
       "1 World    86278     3252   8705      74321        11957       "
      ]
     },
     "metadata": {},
     "output_type": "display_data"
    },
    {
     "data": {
      "text/html": [
       "<table>\n",
       "<thead><tr><th scope=col>Location</th><th scope=col>Day</th><th scope=col>Date</th><th scope=col>Confirmed</th><th scope=col>Deaths</th><th scope=col>Recovered</th><th scope=col>Active.Cases</th><th scope=col>Closed.Cases</th></tr></thead>\n",
       "<tbody>\n",
       "\t<tr><td>World     </td><td>1         </td><td>22-01-2020</td><td> 111      </td><td>0         </td><td>0         </td><td> 111      </td><td>0         </td></tr>\n",
       "\t<tr><td>World     </td><td>2         </td><td>23-01-2020</td><td> 209      </td><td>0         </td><td>0         </td><td> 209      </td><td>0         </td></tr>\n",
       "\t<tr><td>World     </td><td>3         </td><td>24-01-2020</td><td> 392      </td><td>0         </td><td>0         </td><td> 392      </td><td>0         </td></tr>\n",
       "\t<tr><td>World     </td><td>4         </td><td>25-01-2020</td><td> 673      </td><td>0         </td><td>0         </td><td> 673      </td><td>0         </td></tr>\n",
       "\t<tr><td>World     </td><td>5         </td><td>26-01-2020</td><td>1060      </td><td>0         </td><td>3         </td><td>1057      </td><td>3         </td></tr>\n",
       "\t<tr><td>World     </td><td>6         </td><td>27-01-2020</td><td>1504      </td><td>0         </td><td>3         </td><td>1501      </td><td>3         </td></tr>\n",
       "</tbody>\n",
       "</table>\n"
      ],
      "text/latex": [
       "\\begin{tabular}{r|llllllll}\n",
       " Location & Day & Date & Confirmed & Deaths & Recovered & Active.Cases & Closed.Cases\\\\\n",
       "\\hline\n",
       "\t World      & 1          & 22-01-2020 &  111       & 0          & 0          &  111       & 0         \\\\\n",
       "\t World      & 2          & 23-01-2020 &  209       & 0          & 0          &  209       & 0         \\\\\n",
       "\t World      & 3          & 24-01-2020 &  392       & 0          & 0          &  392       & 0         \\\\\n",
       "\t World      & 4          & 25-01-2020 &  673       & 0          & 0          &  673       & 0         \\\\\n",
       "\t World      & 5          & 26-01-2020 & 1060       & 0          & 3          & 1057       & 3         \\\\\n",
       "\t World      & 6          & 27-01-2020 & 1504       & 0          & 3          & 1501       & 3         \\\\\n",
       "\\end{tabular}\n"
      ],
      "text/markdown": [
       "\n",
       "| Location | Day | Date | Confirmed | Deaths | Recovered | Active.Cases | Closed.Cases |\n",
       "|---|---|---|---|---|---|---|---|\n",
       "| World      | 1          | 22-01-2020 |  111       | 0          | 0          |  111       | 0          |\n",
       "| World      | 2          | 23-01-2020 |  209       | 0          | 0          |  209       | 0          |\n",
       "| World      | 3          | 24-01-2020 |  392       | 0          | 0          |  392       | 0          |\n",
       "| World      | 4          | 25-01-2020 |  673       | 0          | 0          |  673       | 0          |\n",
       "| World      | 5          | 26-01-2020 | 1060       | 0          | 3          | 1057       | 3          |\n",
       "| World      | 6          | 27-01-2020 | 1504       | 0          | 3          | 1501       | 3          |\n",
       "\n"
      ],
      "text/plain": [
       "  Location Day Date       Confirmed Deaths Recovered Active.Cases Closed.Cases\n",
       "1 World    1   22-01-2020  111      0      0          111         0           \n",
       "2 World    2   23-01-2020  209      0      0          209         0           \n",
       "3 World    3   24-01-2020  392      0      0          392         0           \n",
       "4 World    4   25-01-2020  673      0      0          673         0           \n",
       "5 World    5   26-01-2020 1060      0      3         1057         3           \n",
       "6 World    6   27-01-2020 1504      0      3         1501         3           "
      ]
     },
     "metadata": {},
     "output_type": "display_data"
    }
   ],
   "source": [
    "## Viewed\n",
    "head(World.Countries.daily.Confirmed)\n",
    "head(World.Countries.daily.Deaths)\n",
    "head(World.Countries.daily.Recovered)\n",
    "head(World.Aggregate.daily.Confirmed)\n",
    "head(World.Aggregate.daily.Deaths)\n",
    "head(World.Aggregate.daily.Recovered)\n",
    "head(World.Countries.summary)\n",
    "head(World.Aggregate.summary)\n",
    "head(World.dataset.dateWise)"
   ]
  },
  {
   "cell_type": "markdown",
   "metadata": {},
   "source": [
    "##    Others"
   ]
  },
  {
   "cell_type": "code",
   "execution_count": 12,
   "metadata": {},
   "outputs": [],
   "source": [
    "## Code is yet to be written"
   ]
  },
  {
   "cell_type": "code",
   "execution_count": 13,
   "metadata": {},
   "outputs": [],
   "source": [
    "## Viewed"
   ]
  }
 ],
 "metadata": {
  "kernelspec": {
   "display_name": "R",
   "language": "R",
   "name": "ir"
  },
  "language_info": {
   "codemirror_mode": "r",
   "file_extension": ".r",
   "mimetype": "text/x-r-source",
   "name": "R",
   "pygments_lexer": "r",
   "version": "3.6.1"
  }
 },
 "nbformat": 4,
 "nbformat_minor": 2
}
