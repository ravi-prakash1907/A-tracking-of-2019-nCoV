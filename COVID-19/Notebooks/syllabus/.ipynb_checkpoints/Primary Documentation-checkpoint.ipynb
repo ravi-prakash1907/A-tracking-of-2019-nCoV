{
 "cells": [
  {
   "cell_type": "markdown",
   "metadata": {},
   "source": [
    "<center><h1> <font color=\"green\"><u>A Data-Science cum Data-Mining project ~ 19-nCoV</u></font> </h1></center>\n",
    "<a href=\"https://raviprakashravi.cf/\" target=\"_blank\"><code style=\"float:right; background:none\"> -Ravi Prakash</code></a>"
   ]
  },
  {
   "cell_type": "markdown",
   "metadata": {},
   "source": [
    "<h3> <font color=\"purple\"><u>This section includes:</u></font> </h3>"
   ]
  },
  {
   "cell_type": "markdown",
   "metadata": {},
   "source": [
    "> * Introduction to **COVID-19** <br />\n",
    "> * A well defined (and explained, as well) problem, that the whole world in going through, currently <br />\n",
    "> * Statistical models to understanding the unfolding of COVID-19, with days <br />\n",
    "> * A step-wise _data analysis_ approach to attaint the most feasible/optimal solution <br />\n",
    "> * Accurate and easily understandable visualizations to understand the scenerio, even better <br />\n",
    "> * Verious data-science _tests_ and _algorithms_ to bring sharpness and accurecy to the research <br />\n",
    "> * Predictions for upcomming based on the studies and scientific analysis done <br />\n",
    "\n",
    "* _This is a working project on the real time data_"
   ]
  },
  {
   "cell_type": "markdown",
   "metadata": {},
   "source": [
    "<hr />"
   ]
  },
  {
   "cell_type": "code",
   "execution_count": 955,
   "metadata": {},
   "outputs": [],
   "source": [
    "## stepping into data science...\n",
    "\n",
    "# types of data-analysis --> descriptive, diagnostic, predictive and prescriptive Analysis.\n",
    "# steps involved in an idal data science project\n",
    "# main steps involved in data preparation\n",
    "# 6-steps (major) steps involved in data-mining"
   ]
  },
  {
   "cell_type": "markdown",
   "metadata": {},
   "source": [
    "<br /><br />"
   ]
  },
  {
   "cell_type": "markdown",
   "metadata": {},
   "source": [
    "<center><u><h2>Data Mining (6-steps)</h2></u></center>"
   ]
  },
  {
   "cell_type": "markdown",
   "metadata": {},
   "source": [
    "## Business Understanding: <br />"
   ]
  },
  {
   "cell_type": "markdown",
   "metadata": {},
   "source": [
    "<center> <u><h1>Rate of growth of COVID-19 within next 10 days.</h1></u> <center/><br />\n",
    "    OR<br />\n",
    "<center> <u><h1>Expected time to elapse until we controle the COVID-19.</h1></u> <center/>"
   ]
  },
  {
   "cell_type": "markdown",
   "metadata": {},
   "source": [
    "<br />"
   ]
  },
  {
   "cell_type": "markdown",
   "metadata": {},
   "source": [
    "* This (above) is our problem statement - EXPLAINED"
   ]
  },
  {
   "cell_type": "code",
   "execution_count": 956,
   "metadata": {},
   "outputs": [],
   "source": [
    "# Setting the working directory\n",
    "setwd(\"~/Documents/A-tracking-of-2019-nCoV/COVID-19/\")\n",
    "\n",
    "#####  LIBRARIES  #####\n",
    "library(stringr)\n",
    "\n",
    "library(AUCRF)\n",
    "library(randomForest)\n",
    "library(RFmarkerDetector) # random forest  ---> for autoscale()"
   ]
  },
  {
   "cell_type": "code",
   "execution_count": null,
   "metadata": {},
   "outputs": [],
   "source": []
  },
  {
   "cell_type": "code",
   "execution_count": null,
   "metadata": {},
   "outputs": [],
   "source": []
  },
  {
   "cell_type": "code",
   "execution_count": null,
   "metadata": {},
   "outputs": [],
   "source": []
  },
  {
   "cell_type": "code",
   "execution_count": null,
   "metadata": {},
   "outputs": [],
   "source": []
  },
  {
   "cell_type": "code",
   "execution_count": null,
   "metadata": {},
   "outputs": [],
   "source": []
  },
  {
   "cell_type": "code",
   "execution_count": null,
   "metadata": {},
   "outputs": [],
   "source": []
  },
  {
   "cell_type": "code",
   "execution_count": null,
   "metadata": {},
   "outputs": [],
   "source": []
  },
  {
   "cell_type": "code",
   "execution_count": null,
   "metadata": {},
   "outputs": [],
   "source": []
  },
  {
   "cell_type": "code",
   "execution_count": null,
   "metadata": {},
   "outputs": [],
   "source": []
  },
  {
   "cell_type": "code",
   "execution_count": null,
   "metadata": {},
   "outputs": [],
   "source": []
  },
  {
   "cell_type": "markdown",
   "metadata": {},
   "source": [
    "<br /> \n",
    "#### All about covid-19, i.e."
   ]
  },
  {
   "cell_type": "code",
   "execution_count": 957,
   "metadata": {},
   "outputs": [],
   "source": [
    "# how came\n",
    "# how spreads\n",
    "# sympotams\n",
    "# why it's an epidemic (who decleared it an epidemic on 30th jan)\n",
    "\n",
    "# understanding reprodiction no. (R0)\n",
    "# why centuries penidemic (1720, 1820, 1920, 2020)\n",
    "# comerision to other epidemics (for R0)\n",
    "\n",
    "#####        andddddd.... amny more"
   ]
  },
  {
   "cell_type": "markdown",
   "metadata": {},
   "source": [
    "#### Contribuion of THIS project"
   ]
  },
  {
   "cell_type": "code",
   "execution_count": 958,
   "metadata": {},
   "outputs": [],
   "source": [
    "# required type of data for satisfying the problem"
   ]
  },
  {
   "cell_type": "markdown",
   "metadata": {},
   "source": [
    "#### * this section may include Text-Mining too"
   ]
  },
  {
   "cell_type": "code",
   "execution_count": 959,
   "metadata": {},
   "outputs": [],
   "source": [
    "# fact, reasons and explainations must have be visualized, too"
   ]
  },
  {
   "cell_type": "code",
   "execution_count": null,
   "metadata": {},
   "outputs": [],
   "source": []
  },
  {
   "cell_type": "markdown",
   "metadata": {},
   "source": [
    "<br />"
   ]
  },
  {
   "cell_type": "markdown",
   "metadata": {},
   "source": [
    "## Data Understanding:"
   ]
  },
  {
   "cell_type": "markdown",
   "metadata": {},
   "source": [
    "### * Relating with problem stmt."
   ]
  },
  {
   "cell_type": "code",
   "execution_count": 960,
   "metadata": {},
   "outputs": [],
   "source": [
    "# as our is aim to analyse that what would be the status of the the epidemic after certain time-duration\n",
    "    # and hence -> how log it might take tohave our controle on this infection\n",
    "\n",
    "# we need the data about:\n",
    "    # 1. Confirmed cases throughout the world\n",
    "    # 2. Death cases throughout the world\n",
    "    # 3. Recovery cases throughout the world"
   ]
  },
  {
   "cell_type": "code",
   "execution_count": 961,
   "metadata": {},
   "outputs": [],
   "source": [
    "# before we achieve our objective, we'd have to understand a few more things.\n",
    "# the best way to carry our study forward, is simply visualizing them.."
   ]
  },
  {
   "cell_type": "markdown",
   "metadata": {},
   "source": [
    "#### Code to visualize how fast has the COVID-19 grown, throughout the world"
   ]
  },
  {
   "cell_type": "markdown",
   "metadata": {},
   "source": [
    "<img src=\"pics/map-code.png\" height=\"75%\" alt=\"Code to generate the map-plot!!\"/>"
   ]
  },
  {
   "cell_type": "markdown",
   "metadata": {},
   "source": [
    "<center> <h3>Map Plot</h3> <center>\n",
    "<img src=\"pics/everAffected.gif\" height=\"75%\" width=\"75%\" alt=\"GIF\"/>"
   ]
  },
  {
   "cell_type": "code",
   "execution_count": 962,
   "metadata": {},
   "outputs": [],
   "source": [
    "    # what are the countries, that are highly affected by this viral infection"
   ]
  },
  {
   "cell_type": "markdown",
   "metadata": {},
   "source": [
    "<!--\n",
    "<div>\n",
    "    <div width=\"50%\" style=\"float:right\">\n",
    "        <center>\n",
    "            <h3>Confirmed Cases in various countries</h3>\n",
    "        <center>\n",
    "        <img src=\"pics/confirmed.png\" height=\"50%\" width=\"50%\" alt=\"GIF\"/>\n",
    "    </div>\n",
    "    <div width=\"50%\" style=\"float:left\">\n",
    "        <center>\n",
    "            <h3>Confirmed Cases in various countries</h3>\n",
    "        <center>\n",
    "        <img src=\"pics/confirmed.png\" height=\"50%\" width=\"50%\" alt=\"GIF\"/>\n",
    "    </div>\n",
    "</div>\n",
    "-->\n",
    "### make one pic of these 2 pics (commented)"
   ]
  },
  {
   "cell_type": "markdown",
   "metadata": {},
   "source": [
    "<br />"
   ]
  },
  {
   "cell_type": "code",
   "execution_count": 963,
   "metadata": {},
   "outputs": [],
   "source": [
    "#######  We'll be preparing saparete datasets for generating few of these plots, below\n",
    "# For understanding how these visuals are developed from scratch, please refer to     <<this link>>"
   ]
  },
  {
   "cell_type": "markdown",
   "metadata": {},
   "source": [
    "<br />"
   ]
  },
  {
   "cell_type": "markdown",
   "metadata": {},
   "source": [
    "<br />"
   ]
  },
  {
   "cell_type": "markdown",
   "metadata": {},
   "source": [
    "### * Data Collection"
   ]
  },
  {
   "cell_type": "code",
   "execution_count": 964,
   "metadata": {},
   "outputs": [],
   "source": [
    "# procedure to collect data\n",
    "\n",
    "# loading raw data - from source\n",
    "check.Confirmed = read.csv(\"Notebooks/syllabus/static/raw/time_series_19-covid-Confirmed.csv\")\n",
    "check.Deaths = read.csv(\"Notebooks/syllabus/static/raw/time_series_19-covid-Deaths.csv\")\n",
    "check.Recovered = read.csv(\"Notebooks/syllabus/static/raw/time_series_19-covid-Recovered.csv\")\n"
   ]
  },
  {
   "cell_type": "code",
   "execution_count": 965,
   "metadata": {},
   "outputs": [],
   "source": [
    "# method\n",
    "# explaination about dataset (format i.e. csv) and it's charectorecorstics\n",
    "\n",
    "# attatch a pic of raw .csv"
   ]
  },
  {
   "cell_type": "code",
   "execution_count": 966,
   "metadata": {
    "scrolled": true
   },
   "outputs": [
    {
     "data": {
      "text/html": [
       "<table>\n",
       "<thead><tr><th scope=col>Province.State</th><th scope=col>Country.Region</th><th scope=col>Lat</th><th scope=col>Long</th><th scope=col>X1.22.20</th><th scope=col>X1.23.20</th><th scope=col>X1.24.20</th><th scope=col>X1.25.20</th><th scope=col>X1.26.20</th><th scope=col>X1.27.20</th><th scope=col>...</th><th scope=col>X3.10.20</th><th scope=col>X3.11.20</th><th scope=col>X3.12.20</th><th scope=col>X3.13.20</th><th scope=col>X3.14.20</th><th scope=col>X3.15.20</th><th scope=col>X3.16.20</th><th scope=col>X3.17.20</th><th scope=col>X3.18.20</th><th scope=col>X3.19.20</th></tr></thead>\n",
       "<tbody>\n",
       "\t<tr><td>                </td><td>Thailand        </td><td>15.0000         </td><td> 101.0000       </td><td>2               </td><td>3               </td><td>5               </td><td>7               </td><td>8               </td><td>8               </td><td>...             </td><td> 53             </td><td> 59             </td><td> 70             </td><td> 75             </td><td> 82             </td><td>114             </td><td>147             </td><td>177             </td><td>212             </td><td>272             </td></tr>\n",
       "\t<tr><td>                </td><td>Japan           </td><td>36.0000         </td><td> 138.0000       </td><td>2               </td><td>1               </td><td>2               </td><td>2               </td><td>4               </td><td>4               </td><td>...             </td><td>581             </td><td>639             </td><td>639             </td><td>701             </td><td>773             </td><td>839             </td><td>825             </td><td>878             </td><td>889             </td><td>924             </td></tr>\n",
       "\t<tr><td>                </td><td>Singapore       </td><td> 1.2833         </td><td> 103.8333       </td><td>0               </td><td>1               </td><td>3               </td><td>3               </td><td>4               </td><td>5               </td><td>...             </td><td>160             </td><td>178             </td><td>178             </td><td>200             </td><td>212             </td><td>226             </td><td>243             </td><td>266             </td><td>313             </td><td>345             </td></tr>\n",
       "\t<tr><td>                </td><td>Nepal           </td><td>28.1667         </td><td>  84.2500       </td><td>0               </td><td>0               </td><td>0               </td><td>1               </td><td>1               </td><td>1               </td><td>...             </td><td>  1             </td><td>  1             </td><td>  1             </td><td>  1             </td><td>  1             </td><td>  1             </td><td>  1             </td><td>  1             </td><td>  1             </td><td>  1             </td></tr>\n",
       "\t<tr><td>                </td><td>Malaysia        </td><td> 2.5000         </td><td> 112.5000       </td><td>0               </td><td>0               </td><td>0               </td><td>3               </td><td>4               </td><td>4               </td><td>...             </td><td>129             </td><td>149             </td><td>149             </td><td>197             </td><td>238             </td><td>428             </td><td>566             </td><td>673             </td><td>790             </td><td>900             </td></tr>\n",
       "\t<tr><td>British Columbia</td><td>Canada          </td><td>49.2827         </td><td>-123.1207       </td><td>0               </td><td>0               </td><td>0               </td><td>0               </td><td>0               </td><td>0               </td><td>...             </td><td> 32             </td><td> 39             </td><td> 46             </td><td> 64             </td><td> 64             </td><td> 73             </td><td>103             </td><td>103             </td><td>186             </td><td>231             </td></tr>\n",
       "</tbody>\n",
       "</table>\n"
      ],
      "text/latex": [
       "\\begin{tabular}{r|llllllllllllllllllllllllllllllllllllllllllllllllllllllllllllll}\n",
       " Province.State & Country.Region & Lat & Long & X1.22.20 & X1.23.20 & X1.24.20 & X1.25.20 & X1.26.20 & X1.27.20 & ... & X3.10.20 & X3.11.20 & X3.12.20 & X3.13.20 & X3.14.20 & X3.15.20 & X3.16.20 & X3.17.20 & X3.18.20 & X3.19.20\\\\\n",
       "\\hline\n",
       "\t                  & Thailand         & 15.0000          &  101.0000        & 2                & 3                & 5                & 7                & 8                & 8                & ...              &  53              &  59              &  70              &  75              &  82              & 114              & 147              & 177              & 212              & 272             \\\\\n",
       "\t                  & Japan            & 36.0000          &  138.0000        & 2                & 1                & 2                & 2                & 4                & 4                & ...              & 581              & 639              & 639              & 701              & 773              & 839              & 825              & 878              & 889              & 924             \\\\\n",
       "\t                  & Singapore        &  1.2833          &  103.8333        & 0                & 1                & 3                & 3                & 4                & 5                & ...              & 160              & 178              & 178              & 200              & 212              & 226              & 243              & 266              & 313              & 345             \\\\\n",
       "\t                  & Nepal            & 28.1667          &   84.2500        & 0                & 0                & 0                & 1                & 1                & 1                & ...              &   1              &   1              &   1              &   1              &   1              &   1              &   1              &   1              &   1              &   1             \\\\\n",
       "\t                  & Malaysia         &  2.5000          &  112.5000        & 0                & 0                & 0                & 3                & 4                & 4                & ...              & 129              & 149              & 149              & 197              & 238              & 428              & 566              & 673              & 790              & 900             \\\\\n",
       "\t British Columbia & Canada           & 49.2827          & -123.1207        & 0                & 0                & 0                & 0                & 0                & 0                & ...              &  32              &  39              &  46              &  64              &  64              &  73              & 103              & 103              & 186              & 231             \\\\\n",
       "\\end{tabular}\n"
      ],
      "text/markdown": [
       "\n",
       "| Province.State | Country.Region | Lat | Long | X1.22.20 | X1.23.20 | X1.24.20 | X1.25.20 | X1.26.20 | X1.27.20 | ... | X3.10.20 | X3.11.20 | X3.12.20 | X3.13.20 | X3.14.20 | X3.15.20 | X3.16.20 | X3.17.20 | X3.18.20 | X3.19.20 |\n",
       "|---|---|---|---|---|---|---|---|---|---|---|---|---|---|---|---|---|---|---|---|---|\n",
       "|                  | Thailand         | 15.0000          |  101.0000        | 2                | 3                | 5                | 7                | 8                | 8                | ...              |  53              |  59              |  70              |  75              |  82              | 114              | 147              | 177              | 212              | 272              |\n",
       "|                  | Japan            | 36.0000          |  138.0000        | 2                | 1                | 2                | 2                | 4                | 4                | ...              | 581              | 639              | 639              | 701              | 773              | 839              | 825              | 878              | 889              | 924              |\n",
       "|                  | Singapore        |  1.2833          |  103.8333        | 0                | 1                | 3                | 3                | 4                | 5                | ...              | 160              | 178              | 178              | 200              | 212              | 226              | 243              | 266              | 313              | 345              |\n",
       "|                  | Nepal            | 28.1667          |   84.2500        | 0                | 0                | 0                | 1                | 1                | 1                | ...              |   1              |   1              |   1              |   1              |   1              |   1              |   1              |   1              |   1              |   1              |\n",
       "|                  | Malaysia         |  2.5000          |  112.5000        | 0                | 0                | 0                | 3                | 4                | 4                | ...              | 129              | 149              | 149              | 197              | 238              | 428              | 566              | 673              | 790              | 900              |\n",
       "| British Columbia | Canada           | 49.2827          | -123.1207        | 0                | 0                | 0                | 0                | 0                | 0                | ...              |  32              |  39              |  46              |  64              |  64              |  73              | 103              | 103              | 186              | 231              |\n",
       "\n"
      ],
      "text/plain": [
       "  Province.State   Country.Region Lat     Long      X1.22.20 X1.23.20 X1.24.20\n",
       "1                  Thailand       15.0000  101.0000 2        3        5       \n",
       "2                  Japan          36.0000  138.0000 2        1        2       \n",
       "3                  Singapore       1.2833  103.8333 0        1        3       \n",
       "4                  Nepal          28.1667   84.2500 0        0        0       \n",
       "5                  Malaysia        2.5000  112.5000 0        0        0       \n",
       "6 British Columbia Canada         49.2827 -123.1207 0        0        0       \n",
       "  X1.25.20 X1.26.20 X1.27.20 ... X3.10.20 X3.11.20 X3.12.20 X3.13.20 X3.14.20\n",
       "1 7        8        8        ...  53       59       70       75       82     \n",
       "2 2        4        4        ... 581      639      639      701      773     \n",
       "3 3        4        5        ... 160      178      178      200      212     \n",
       "4 1        1        1        ...   1        1        1        1        1     \n",
       "5 3        4        4        ... 129      149      149      197      238     \n",
       "6 0        0        0        ...  32       39       46       64       64     \n",
       "  X3.15.20 X3.16.20 X3.17.20 X3.18.20 X3.19.20\n",
       "1 114      147      177      212      272     \n",
       "2 839      825      878      889      924     \n",
       "3 226      243      266      313      345     \n",
       "4   1        1        1        1        1     \n",
       "5 428      566      673      790      900     \n",
       "6  73      103      103      186      231     "
      ]
     },
     "metadata": {},
     "output_type": "display_data"
    },
    {
     "data": {
      "text/html": [
       "<table>\n",
       "<thead><tr><th scope=col>Province.State</th><th scope=col>Country.Region</th><th scope=col>Lat</th><th scope=col>Long</th><th scope=col>X1.22.20</th><th scope=col>X1.23.20</th><th scope=col>X1.24.20</th><th scope=col>X1.25.20</th><th scope=col>X1.26.20</th><th scope=col>X1.27.20</th><th scope=col>...</th><th scope=col>X3.10.20</th><th scope=col>X3.11.20</th><th scope=col>X3.12.20</th><th scope=col>X3.13.20</th><th scope=col>X3.14.20</th><th scope=col>X3.15.20</th><th scope=col>X3.16.20</th><th scope=col>X3.17.20</th><th scope=col>X3.18.20</th><th scope=col>X3.19.20</th></tr></thead>\n",
       "<tbody>\n",
       "\t<tr><td>                </td><td>Thailand        </td><td>15.0000         </td><td> 101.0000       </td><td>0               </td><td>0               </td><td>0               </td><td>0               </td><td>0               </td><td>0               </td><td>...             </td><td> 1              </td><td> 1              </td><td> 1              </td><td> 1              </td><td> 1              </td><td> 1              </td><td> 1              </td><td> 1              </td><td> 1              </td><td> 1              </td></tr>\n",
       "\t<tr><td>                </td><td>Japan           </td><td>36.0000         </td><td> 138.0000       </td><td>0               </td><td>0               </td><td>0               </td><td>0               </td><td>0               </td><td>0               </td><td>...             </td><td>10              </td><td>15              </td><td>16              </td><td>19              </td><td>22              </td><td>22              </td><td>27              </td><td>29              </td><td>29              </td><td>29              </td></tr>\n",
       "\t<tr><td>                </td><td>Singapore       </td><td> 1.2833         </td><td> 103.8333       </td><td>0               </td><td>0               </td><td>0               </td><td>0               </td><td>0               </td><td>0               </td><td>...             </td><td> 0              </td><td> 0              </td><td> 0              </td><td> 0              </td><td> 0              </td><td> 0              </td><td> 0              </td><td> 0              </td><td> 0              </td><td> 0              </td></tr>\n",
       "\t<tr><td>                </td><td>Nepal           </td><td>28.1667         </td><td>  84.2500       </td><td>0               </td><td>0               </td><td>0               </td><td>0               </td><td>0               </td><td>0               </td><td>...             </td><td> 0              </td><td> 0              </td><td> 0              </td><td> 0              </td><td> 0              </td><td> 0              </td><td> 0              </td><td> 0              </td><td> 0              </td><td> 0              </td></tr>\n",
       "\t<tr><td>                </td><td>Malaysia        </td><td> 2.5000         </td><td> 112.5000       </td><td>0               </td><td>0               </td><td>0               </td><td>0               </td><td>0               </td><td>0               </td><td>...             </td><td> 0              </td><td> 0              </td><td> 0              </td><td> 0              </td><td> 0              </td><td> 0              </td><td> 0              </td><td> 2              </td><td> 2              </td><td> 2              </td></tr>\n",
       "\t<tr><td>British Columbia</td><td>Canada          </td><td>49.2827         </td><td>-123.1207       </td><td>0               </td><td>0               </td><td>0               </td><td>0               </td><td>0               </td><td>0               </td><td>...             </td><td> 1              </td><td> 1              </td><td> 1              </td><td> 1              </td><td> 1              </td><td> 1              </td><td> 4              </td><td> 4              </td><td> 7              </td><td> 7              </td></tr>\n",
       "</tbody>\n",
       "</table>\n"
      ],
      "text/latex": [
       "\\begin{tabular}{r|llllllllllllllllllllllllllllllllllllllllllllllllllllllllllllll}\n",
       " Province.State & Country.Region & Lat & Long & X1.22.20 & X1.23.20 & X1.24.20 & X1.25.20 & X1.26.20 & X1.27.20 & ... & X3.10.20 & X3.11.20 & X3.12.20 & X3.13.20 & X3.14.20 & X3.15.20 & X3.16.20 & X3.17.20 & X3.18.20 & X3.19.20\\\\\n",
       "\\hline\n",
       "\t                  & Thailand         & 15.0000          &  101.0000        & 0                & 0                & 0                & 0                & 0                & 0                & ...              &  1               &  1               &  1               &  1               &  1               &  1               &  1               &  1               &  1               &  1              \\\\\n",
       "\t                  & Japan            & 36.0000          &  138.0000        & 0                & 0                & 0                & 0                & 0                & 0                & ...              & 10               & 15               & 16               & 19               & 22               & 22               & 27               & 29               & 29               & 29              \\\\\n",
       "\t                  & Singapore        &  1.2833          &  103.8333        & 0                & 0                & 0                & 0                & 0                & 0                & ...              &  0               &  0               &  0               &  0               &  0               &  0               &  0               &  0               &  0               &  0              \\\\\n",
       "\t                  & Nepal            & 28.1667          &   84.2500        & 0                & 0                & 0                & 0                & 0                & 0                & ...              &  0               &  0               &  0               &  0               &  0               &  0               &  0               &  0               &  0               &  0              \\\\\n",
       "\t                  & Malaysia         &  2.5000          &  112.5000        & 0                & 0                & 0                & 0                & 0                & 0                & ...              &  0               &  0               &  0               &  0               &  0               &  0               &  0               &  2               &  2               &  2              \\\\\n",
       "\t British Columbia & Canada           & 49.2827          & -123.1207        & 0                & 0                & 0                & 0                & 0                & 0                & ...              &  1               &  1               &  1               &  1               &  1               &  1               &  4               &  4               &  7               &  7              \\\\\n",
       "\\end{tabular}\n"
      ],
      "text/markdown": [
       "\n",
       "| Province.State | Country.Region | Lat | Long | X1.22.20 | X1.23.20 | X1.24.20 | X1.25.20 | X1.26.20 | X1.27.20 | ... | X3.10.20 | X3.11.20 | X3.12.20 | X3.13.20 | X3.14.20 | X3.15.20 | X3.16.20 | X3.17.20 | X3.18.20 | X3.19.20 |\n",
       "|---|---|---|---|---|---|---|---|---|---|---|---|---|---|---|---|---|---|---|---|---|\n",
       "|                  | Thailand         | 15.0000          |  101.0000        | 0                | 0                | 0                | 0                | 0                | 0                | ...              |  1               |  1               |  1               |  1               |  1               |  1               |  1               |  1               |  1               |  1               |\n",
       "|                  | Japan            | 36.0000          |  138.0000        | 0                | 0                | 0                | 0                | 0                | 0                | ...              | 10               | 15               | 16               | 19               | 22               | 22               | 27               | 29               | 29               | 29               |\n",
       "|                  | Singapore        |  1.2833          |  103.8333        | 0                | 0                | 0                | 0                | 0                | 0                | ...              |  0               |  0               |  0               |  0               |  0               |  0               |  0               |  0               |  0               |  0               |\n",
       "|                  | Nepal            | 28.1667          |   84.2500        | 0                | 0                | 0                | 0                | 0                | 0                | ...              |  0               |  0               |  0               |  0               |  0               |  0               |  0               |  0               |  0               |  0               |\n",
       "|                  | Malaysia         |  2.5000          |  112.5000        | 0                | 0                | 0                | 0                | 0                | 0                | ...              |  0               |  0               |  0               |  0               |  0               |  0               |  0               |  2               |  2               |  2               |\n",
       "| British Columbia | Canada           | 49.2827          | -123.1207        | 0                | 0                | 0                | 0                | 0                | 0                | ...              |  1               |  1               |  1               |  1               |  1               |  1               |  4               |  4               |  7               |  7               |\n",
       "\n"
      ],
      "text/plain": [
       "  Province.State   Country.Region Lat     Long      X1.22.20 X1.23.20 X1.24.20\n",
       "1                  Thailand       15.0000  101.0000 0        0        0       \n",
       "2                  Japan          36.0000  138.0000 0        0        0       \n",
       "3                  Singapore       1.2833  103.8333 0        0        0       \n",
       "4                  Nepal          28.1667   84.2500 0        0        0       \n",
       "5                  Malaysia        2.5000  112.5000 0        0        0       \n",
       "6 British Columbia Canada         49.2827 -123.1207 0        0        0       \n",
       "  X1.25.20 X1.26.20 X1.27.20 ... X3.10.20 X3.11.20 X3.12.20 X3.13.20 X3.14.20\n",
       "1 0        0        0        ...  1        1        1        1        1      \n",
       "2 0        0        0        ... 10       15       16       19       22      \n",
       "3 0        0        0        ...  0        0        0        0        0      \n",
       "4 0        0        0        ...  0        0        0        0        0      \n",
       "5 0        0        0        ...  0        0        0        0        0      \n",
       "6 0        0        0        ...  1        1        1        1        1      \n",
       "  X3.15.20 X3.16.20 X3.17.20 X3.18.20 X3.19.20\n",
       "1  1        1        1        1        1      \n",
       "2 22       27       29       29       29      \n",
       "3  0        0        0        0        0      \n",
       "4  0        0        0        0        0      \n",
       "5  0        0        2        2        2      \n",
       "6  1        4        4        7        7      "
      ]
     },
     "metadata": {},
     "output_type": "display_data"
    },
    {
     "data": {
      "text/html": [
       "<table>\n",
       "<thead><tr><th scope=col>Province.State</th><th scope=col>Country.Region</th><th scope=col>Lat</th><th scope=col>Long</th><th scope=col>X1.22.20</th><th scope=col>X1.23.20</th><th scope=col>X1.24.20</th><th scope=col>X1.25.20</th><th scope=col>X1.26.20</th><th scope=col>X1.27.20</th><th scope=col>...</th><th scope=col>X3.10.20</th><th scope=col>X3.11.20</th><th scope=col>X3.12.20</th><th scope=col>X3.13.20</th><th scope=col>X3.14.20</th><th scope=col>X3.15.20</th><th scope=col>X3.16.20</th><th scope=col>X3.17.20</th><th scope=col>X3.18.20</th><th scope=col>X3.19.20</th></tr></thead>\n",
       "<tbody>\n",
       "\t<tr><td>                </td><td>Thailand        </td><td>15.0000         </td><td> 101.0000       </td><td>0               </td><td>0               </td><td>0               </td><td>0               </td><td>2               </td><td>2               </td><td>...             </td><td> 33             </td><td> 34             </td><td> 34             </td><td> 35             </td><td> 35             </td><td> 35             </td><td> 35             </td><td> 41             </td><td> 42             </td><td> 42             </td></tr>\n",
       "\t<tr><td>                </td><td>Japan           </td><td>36.0000         </td><td> 138.0000       </td><td>0               </td><td>0               </td><td>0               </td><td>0               </td><td>1               </td><td>1               </td><td>...             </td><td>101             </td><td>118             </td><td>118             </td><td>118             </td><td>118             </td><td>118             </td><td>144             </td><td>144             </td><td>144             </td><td>150             </td></tr>\n",
       "\t<tr><td>                </td><td>Singapore       </td><td> 1.2833         </td><td> 103.8333       </td><td>0               </td><td>0               </td><td>0               </td><td>0               </td><td>0               </td><td>0               </td><td>...             </td><td> 78             </td><td> 96             </td><td> 96             </td><td> 97             </td><td>105             </td><td>105             </td><td>109             </td><td>114             </td><td>114             </td><td>114             </td></tr>\n",
       "\t<tr><td>                </td><td>Nepal           </td><td>28.1667         </td><td>  84.2500       </td><td>0               </td><td>0               </td><td>0               </td><td>0               </td><td>0               </td><td>0               </td><td>...             </td><td>  1             </td><td>  1             </td><td>  1             </td><td>  1             </td><td>  1             </td><td>  1             </td><td>  1             </td><td>  1             </td><td>  1             </td><td>  1             </td></tr>\n",
       "\t<tr><td>                </td><td>Malaysia        </td><td> 2.5000         </td><td> 112.5000       </td><td>0               </td><td>0               </td><td>0               </td><td>0               </td><td>0               </td><td>0               </td><td>...             </td><td> 24             </td><td> 26             </td><td> 26             </td><td> 26             </td><td> 35             </td><td> 42             </td><td> 42             </td><td> 49             </td><td> 60             </td><td> 75             </td></tr>\n",
       "\t<tr><td>British Columbia</td><td>Canada          </td><td>49.2827         </td><td>-123.1207       </td><td>0               </td><td>0               </td><td>0               </td><td>0               </td><td>0               </td><td>0               </td><td>...             </td><td>  4             </td><td>  4             </td><td>  4             </td><td>  4             </td><td>  4             </td><td>  4             </td><td>  4             </td><td>  4             </td><td>  4             </td><td>  4             </td></tr>\n",
       "</tbody>\n",
       "</table>\n"
      ],
      "text/latex": [
       "\\begin{tabular}{r|llllllllllllllllllllllllllllllllllllllllllllllllllllllllllllll}\n",
       " Province.State & Country.Region & Lat & Long & X1.22.20 & X1.23.20 & X1.24.20 & X1.25.20 & X1.26.20 & X1.27.20 & ... & X3.10.20 & X3.11.20 & X3.12.20 & X3.13.20 & X3.14.20 & X3.15.20 & X3.16.20 & X3.17.20 & X3.18.20 & X3.19.20\\\\\n",
       "\\hline\n",
       "\t                  & Thailand         & 15.0000          &  101.0000        & 0                & 0                & 0                & 0                & 2                & 2                & ...              &  33              &  34              &  34              &  35              &  35              &  35              &  35              &  41              &  42              &  42             \\\\\n",
       "\t                  & Japan            & 36.0000          &  138.0000        & 0                & 0                & 0                & 0                & 1                & 1                & ...              & 101              & 118              & 118              & 118              & 118              & 118              & 144              & 144              & 144              & 150             \\\\\n",
       "\t                  & Singapore        &  1.2833          &  103.8333        & 0                & 0                & 0                & 0                & 0                & 0                & ...              &  78              &  96              &  96              &  97              & 105              & 105              & 109              & 114              & 114              & 114             \\\\\n",
       "\t                  & Nepal            & 28.1667          &   84.2500        & 0                & 0                & 0                & 0                & 0                & 0                & ...              &   1              &   1              &   1              &   1              &   1              &   1              &   1              &   1              &   1              &   1             \\\\\n",
       "\t                  & Malaysia         &  2.5000          &  112.5000        & 0                & 0                & 0                & 0                & 0                & 0                & ...              &  24              &  26              &  26              &  26              &  35              &  42              &  42              &  49              &  60              &  75             \\\\\n",
       "\t British Columbia & Canada           & 49.2827          & -123.1207        & 0                & 0                & 0                & 0                & 0                & 0                & ...              &   4              &   4              &   4              &   4              &   4              &   4              &   4              &   4              &   4              &   4             \\\\\n",
       "\\end{tabular}\n"
      ],
      "text/markdown": [
       "\n",
       "| Province.State | Country.Region | Lat | Long | X1.22.20 | X1.23.20 | X1.24.20 | X1.25.20 | X1.26.20 | X1.27.20 | ... | X3.10.20 | X3.11.20 | X3.12.20 | X3.13.20 | X3.14.20 | X3.15.20 | X3.16.20 | X3.17.20 | X3.18.20 | X3.19.20 |\n",
       "|---|---|---|---|---|---|---|---|---|---|---|---|---|---|---|---|---|---|---|---|---|\n",
       "|                  | Thailand         | 15.0000          |  101.0000        | 0                | 0                | 0                | 0                | 2                | 2                | ...              |  33              |  34              |  34              |  35              |  35              |  35              |  35              |  41              |  42              |  42              |\n",
       "|                  | Japan            | 36.0000          |  138.0000        | 0                | 0                | 0                | 0                | 1                | 1                | ...              | 101              | 118              | 118              | 118              | 118              | 118              | 144              | 144              | 144              | 150              |\n",
       "|                  | Singapore        |  1.2833          |  103.8333        | 0                | 0                | 0                | 0                | 0                | 0                | ...              |  78              |  96              |  96              |  97              | 105              | 105              | 109              | 114              | 114              | 114              |\n",
       "|                  | Nepal            | 28.1667          |   84.2500        | 0                | 0                | 0                | 0                | 0                | 0                | ...              |   1              |   1              |   1              |   1              |   1              |   1              |   1              |   1              |   1              |   1              |\n",
       "|                  | Malaysia         |  2.5000          |  112.5000        | 0                | 0                | 0                | 0                | 0                | 0                | ...              |  24              |  26              |  26              |  26              |  35              |  42              |  42              |  49              |  60              |  75              |\n",
       "| British Columbia | Canada           | 49.2827          | -123.1207        | 0                | 0                | 0                | 0                | 0                | 0                | ...              |   4              |   4              |   4              |   4              |   4              |   4              |   4              |   4              |   4              |   4              |\n",
       "\n"
      ],
      "text/plain": [
       "  Province.State   Country.Region Lat     Long      X1.22.20 X1.23.20 X1.24.20\n",
       "1                  Thailand       15.0000  101.0000 0        0        0       \n",
       "2                  Japan          36.0000  138.0000 0        0        0       \n",
       "3                  Singapore       1.2833  103.8333 0        0        0       \n",
       "4                  Nepal          28.1667   84.2500 0        0        0       \n",
       "5                  Malaysia        2.5000  112.5000 0        0        0       \n",
       "6 British Columbia Canada         49.2827 -123.1207 0        0        0       \n",
       "  X1.25.20 X1.26.20 X1.27.20 ... X3.10.20 X3.11.20 X3.12.20 X3.13.20 X3.14.20\n",
       "1 0        2        2        ...  33       34       34       35       35     \n",
       "2 0        1        1        ... 101      118      118      118      118     \n",
       "3 0        0        0        ...  78       96       96       97      105     \n",
       "4 0        0        0        ...   1        1        1        1        1     \n",
       "5 0        0        0        ...  24       26       26       26       35     \n",
       "6 0        0        0        ...   4        4        4        4        4     \n",
       "  X3.15.20 X3.16.20 X3.17.20 X3.18.20 X3.19.20\n",
       "1  35       35       41       42       42     \n",
       "2 118      144      144      144      150     \n",
       "3 105      109      114      114      114     \n",
       "4   1        1        1        1        1     \n",
       "5  42       42       49       60       75     \n",
       "6   4        4        4        4        4     "
      ]
     },
     "metadata": {},
     "output_type": "display_data"
    }
   ],
   "source": [
    "# view sample\n",
    "head(check.Confirmed)\n",
    "head(check.Deaths)\n",
    "head(check.Recovered)"
   ]
  },
  {
   "cell_type": "code",
   "execution_count": 967,
   "metadata": {},
   "outputs": [],
   "source": [
    "# type of collected data ---> time-series\n",
    "    # > * **Time series data:** A set of observations on the values that a variable takes at different times.<br />"
   ]
  },
  {
   "cell_type": "code",
   "execution_count": 968,
   "metadata": {},
   "outputs": [
    {
     "name": "stdout",
     "output_type": "stream",
     "text": [
      "Number of columns in all 3 datasets:-\n",
      "\n"
     ]
    },
    {
     "data": {
      "text/html": [
       "<table>\n",
       "<tbody>\n",
       "\t<tr><td>Confirmed</td><td>Deaths   </td><td>Recovered</td></tr>\n",
       "\t<tr><td>62       </td><td>62       </td><td>62       </td></tr>\n",
       "</tbody>\n",
       "</table>\n"
      ],
      "text/latex": [
       "\\begin{tabular}{lll}\n",
       "\t Confirmed & Deaths    & Recovered\\\\\n",
       "\t 62        & 62        & 62       \\\\\n",
       "\\end{tabular}\n"
      ],
      "text/markdown": [
       "\n",
       "| Confirmed | Deaths    | Recovered |\n",
       "| 62        | 62        | 62        |\n",
       "\n"
      ],
      "text/plain": [
       "     [,1]      [,2]   [,3]     \n",
       "[1,] Confirmed Deaths Recovered\n",
       "[2,] 62        62     62       "
      ]
     },
     "metadata": {},
     "output_type": "display_data"
    },
    {
     "name": "stdout",
     "output_type": "stream",
     "text": [
      "Dimentions of datasets:-\n"
     ]
    },
    {
     "data": {
      "text/html": [
       "<ol class=list-inline>\n",
       "\t<li>468</li>\n",
       "\t<li>62</li>\n",
       "</ol>\n"
      ],
      "text/latex": [
       "\\begin{enumerate*}\n",
       "\\item 468\n",
       "\\item 62\n",
       "\\end{enumerate*}\n"
      ],
      "text/markdown": [
       "1. 468\n",
       "2. 62\n",
       "\n",
       "\n"
      ],
      "text/plain": [
       "[1] 468  62"
      ]
     },
     "metadata": {},
     "output_type": "display_data"
    }
   ],
   "source": [
    "# columns\n",
    "cat(\"Number of columns in all 3 datasets:-\\n\\n\")\n",
    "\n",
    "matrix(\n",
    "    c(\"Confirmed\", \"Deaths\", \"Recovered\", ncol(check.Confirmed), ncol(check.Deaths), ncol(check.Recovered)),\n",
    "    nrow = 2, ncol = 3, byrow = T\n",
    ")\n",
    "\n",
    "# Dimention\n",
    "cat(\"Dimentions of datasets:-\\n\")   # same for all 3\n",
    "dim(check.Confirmed)\n",
    "\n",
    "\n",
    "######################\n",
    "# columns' name\n",
    "#cat(\"Name of columns in all 3 datasets:-\\n\")\n",
    "\n",
    "#colnames(check.Confirmed)\n",
    "#colnames(check.Deaths)\n",
    "#colnames(check.Recovered)"
   ]
  },
  {
   "cell_type": "code",
   "execution_count": 969,
   "metadata": {
    "scrolled": false
   },
   "outputs": [
    {
     "name": "stdout",
     "output_type": "stream",
     "text": [
      "'data.frame':\t468 obs. of  62 variables:\n",
      " $ Province.State: Factor w/ 321 levels \"\",\"Adams, IN\",..: 1 1 1 1 1 25 196 298 237 1 ...\n",
      " $ Country.Region: Factor w/ 155 levels \"Afghanistan\",..: 142 76 129 103 90 27 8 8 8 25 ...\n",
      " $ Lat           : num  15 36 1.28 28.17 2.5 ...\n",
      " $ Long          : num  101 138 103.8 84.2 112.5 ...\n",
      " $ X1.22.20      : int  2 2 0 0 0 0 0 0 0 0 ...\n",
      " $ X1.23.20      : int  3 1 1 0 0 0 0 0 0 0 ...\n",
      " $ X1.24.20      : int  5 2 3 0 0 0 0 0 0 0 ...\n",
      " $ X1.25.20      : int  7 2 3 1 3 0 0 0 0 0 ...\n",
      " $ X1.26.20      : int  8 4 4 1 4 0 3 1 0 0 ...\n",
      " $ X1.27.20      : int  8 4 5 1 4 0 4 1 0 1 ...\n",
      " $ X1.28.20      : int  14 7 7 1 4 1 4 1 0 1 ...\n",
      " $ X1.29.20      : int  14 7 7 1 7 1 4 1 1 1 ...\n",
      " $ X1.30.20      : int  14 11 10 1 8 1 4 2 3 1 ...\n",
      " $ X1.31.20      : int  19 15 13 1 8 1 4 3 2 1 ...\n",
      " $ X2.1.20       : int  19 20 16 1 8 1 4 4 3 1 ...\n",
      " $ X2.2.20       : int  19 20 18 1 8 1 4 4 2 1 ...\n",
      " $ X2.3.20       : int  19 20 18 1 8 1 4 4 2 1 ...\n",
      " $ X2.4.20       : int  25 22 24 1 10 1 4 4 3 1 ...\n",
      " $ X2.5.20       : int  25 22 28 1 12 2 4 4 3 1 ...\n",
      " $ X2.6.20       : int  25 45 28 1 12 2 4 4 4 1 ...\n",
      " $ X2.7.20       : int  25 25 30 1 12 4 4 4 5 1 ...\n",
      " $ X2.8.20       : int  32 25 33 1 16 4 4 4 5 1 ...\n",
      " $ X2.9.20       : int  32 26 40 1 16 4 4 4 5 1 ...\n",
      " $ X2.10.20      : int  32 26 45 1 18 4 4 4 5 1 ...\n",
      " $ X2.11.20      : int  33 26 47 1 18 4 4 4 5 1 ...\n",
      " $ X2.12.20      : int  33 28 50 1 18 4 4 4 5 1 ...\n",
      " $ X2.13.20      : int  33 28 58 1 19 4 4 4 5 1 ...\n",
      " $ X2.14.20      : int  33 29 67 1 19 4 4 4 5 1 ...\n",
      " $ X2.15.20      : int  33 43 72 1 22 4 4 4 5 1 ...\n",
      " $ X2.16.20      : int  34 59 75 1 22 4 4 4 5 1 ...\n",
      " $ X2.17.20      : int  35 66 77 1 22 5 4 4 5 1 ...\n",
      " $ X2.18.20      : int  35 74 81 1 22 5 4 4 5 1 ...\n",
      " $ X2.19.20      : int  35 84 84 1 22 5 4 4 5 1 ...\n",
      " $ X2.20.20      : int  35 94 84 1 22 5 4 4 5 1 ...\n",
      " $ X2.21.20      : int  35 105 85 1 22 6 4 4 5 1 ...\n",
      " $ X2.22.20      : int  35 122 85 1 22 6 4 4 5 1 ...\n",
      " $ X2.23.20      : int  35 147 89 1 22 6 4 4 5 1 ...\n",
      " $ X2.24.20      : int  35 159 89 1 22 6 4 4 5 1 ...\n",
      " $ X2.25.20      : int  37 170 91 1 22 7 4 4 5 1 ...\n",
      " $ X2.26.20      : int  40 189 93 1 22 7 4 4 5 1 ...\n",
      " $ X2.27.20      : int  40 214 93 1 23 7 4 4 5 1 ...\n",
      " $ X2.28.20      : int  41 228 93 1 23 7 4 4 5 1 ...\n",
      " $ X2.29.20      : int  42 241 102 1 25 8 4 7 9 1 ...\n",
      " $ X3.1.20       : int  42 256 106 1 29 8 6 7 9 1 ...\n",
      " $ X3.2.20       : int  43 274 108 1 29 8 6 9 9 1 ...\n",
      " $ X3.3.20       : int  43 293 110 1 36 9 13 9 11 1 ...\n",
      " $ X3.4.20       : int  43 331 110 1 50 12 22 10 11 1 ...\n",
      " $ X3.5.20       : int  47 360 117 1 50 13 22 10 13 1 ...\n",
      " $ X3.6.20       : int  48 420 130 1 83 21 26 10 13 1 ...\n",
      " $ X3.7.20       : int  50 461 138 1 93 21 28 11 13 1 ...\n",
      " $ X3.8.20       : int  50 502 150 1 99 27 38 11 15 2 ...\n",
      " $ X3.9.20       : int  50 511 150 1 117 32 48 15 15 2 ...\n",
      " $ X3.10.20      : int  53 581 160 1 129 32 55 18 18 2 ...\n",
      " $ X3.11.20      : int  59 639 178 1 149 39 65 21 20 3 ...\n",
      " $ X3.12.20      : int  70 639 178 1 149 46 65 21 20 3 ...\n",
      " $ X3.13.20      : int  75 701 200 1 197 64 92 36 35 5 ...\n",
      " $ X3.14.20      : int  82 773 212 1 238 64 112 49 46 7 ...\n",
      " $ X3.15.20      : int  114 839 226 1 428 73 134 57 61 7 ...\n",
      " $ X3.16.20      : int  147 825 243 1 566 103 171 71 68 7 ...\n",
      " $ X3.17.20      : int  177 878 266 1 673 103 210 94 78 33 ...\n",
      " $ X3.18.20      : int  212 889 313 1 790 186 267 121 94 35 ...\n",
      " $ X3.19.20      : int  272 924 345 1 900 231 307 121 144 37 ...\n"
     ]
    }
   ],
   "source": [
    "# as from viewing the datasets, no. and names of their columns, it's clear that all the data format is same\n",
    "\n",
    "# let's see the structure of these datasets\n",
    "str(check.Confirmed)\n",
    "#str(check.Deaths)\n",
    "#str(check.Recovered)"
   ]
  },
  {
   "cell_type": "markdown",
   "metadata": {},
   "source": [
    "### Explaination of each columns in fetched data:-\n",
    "* There are 3 dadicated databases for data about Confirmed/Death/Recovery cases, all around the world\n",
    "\n",
    "#### Province.State:\n",
    "   > * Dataype: **factor** ---> they can be specific, unique and valid names\n",
    "   > * Holds name of City/Province/State, where the data is coming from\n",
    "   > * Eg.: _Hubei_\n",
    "\n",
    "#### Country.Region:\n",
    "   > * Dataype: **factor** ---> they can be specific, unique and valid names\n",
    "   > * Holds name of the country, in which the reported area comes\n",
    "   > * Eg.: _China_ (Hubei is a Province of China)\n",
    "\n",
    "#### Lat:\n",
    "   > * Dataype: **numeric** (i.e. can have values in desimals, too)\n",
    "   > * Holds the Latitude position of the given place(as in col1)\n",
    "   > * Eg.: _Latitude_ position of Hubei = 30.9756\n",
    "\n",
    "#### Long:\n",
    "   > * Dataype: **numeric** (i.e. can have values in desimals, too)\n",
    "   > * Holds the longitude position of the given place(as in col1)\n",
    "   > * Eg.: _Longitude_ position of Hubei = 112.2707\n",
    "\n",
    "#### Col. 5 to 62:\n",
    "   > * Dataype: **integer** (i.e. discrete) and remains _always positive_ as it determines  the _no, of individuals_\n",
    "   > * as discussed earlier... it's a time series data where the data is collected at various interval of time\n",
    "   > * figures represent on different days in series (from 22/01/2020)\n",
    "   > * The constant entity is the location, whoes data is represented in every row"
   ]
  },
  {
   "cell_type": "code",
   "execution_count": 970,
   "metadata": {},
   "outputs": [
    {
     "name": "stdout",
     "output_type": "stream",
     "text": [
      "\n",
      "A sample data of a location from \"Confirmed Cases'\" dataset:\n"
     ]
    },
    {
     "data": {
      "text/html": [
       "<table>\n",
       "<thead><tr><th></th><th scope=col>Province.State</th><th scope=col>Country.Region</th><th scope=col>Lat</th><th scope=col>Long</th><th scope=col>X1.22.20</th><th scope=col>X1.23.20</th><th scope=col>X1.24.20</th><th scope=col>X1.25.20</th><th scope=col>X1.26.20</th><th scope=col>X1.27.20</th><th scope=col>...</th><th scope=col>X3.10.20</th><th scope=col>X3.11.20</th><th scope=col>X3.12.20</th><th scope=col>X3.13.20</th><th scope=col>X3.14.20</th><th scope=col>X3.15.20</th><th scope=col>X3.16.20</th><th scope=col>X3.17.20</th><th scope=col>X3.18.20</th><th scope=col>X3.19.20</th></tr></thead>\n",
       "<tbody>\n",
       "\t<tr><th scope=row>155</th><td>Hubei   </td><td>China   </td><td>30.9756 </td><td>112.2707</td><td>444     </td><td>444     </td><td>549     </td><td>761     </td><td>1058    </td><td>1423    </td><td>...     </td><td>67760   </td><td>67773   </td><td>67781   </td><td>67786   </td><td>67790   </td><td>67794   </td><td>67798   </td><td>67799   </td><td>67800   </td><td>67800   </td></tr>\n",
       "</tbody>\n",
       "</table>\n"
      ],
      "text/latex": [
       "\\begin{tabular}{r|llllllllllllllllllllllllllllllllllllllllllllllllllllllllllllll}\n",
       "  & Province.State & Country.Region & Lat & Long & X1.22.20 & X1.23.20 & X1.24.20 & X1.25.20 & X1.26.20 & X1.27.20 & ... & X3.10.20 & X3.11.20 & X3.12.20 & X3.13.20 & X3.14.20 & X3.15.20 & X3.16.20 & X3.17.20 & X3.18.20 & X3.19.20\\\\\n",
       "\\hline\n",
       "\t155 & Hubei    & China    & 30.9756  & 112.2707 & 444      & 444      & 549      & 761      & 1058     & 1423     & ...      & 67760    & 67773    & 67781    & 67786    & 67790    & 67794    & 67798    & 67799    & 67800    & 67800   \\\\\n",
       "\\end{tabular}\n"
      ],
      "text/markdown": [
       "\n",
       "| <!--/--> | Province.State | Country.Region | Lat | Long | X1.22.20 | X1.23.20 | X1.24.20 | X1.25.20 | X1.26.20 | X1.27.20 | ... | X3.10.20 | X3.11.20 | X3.12.20 | X3.13.20 | X3.14.20 | X3.15.20 | X3.16.20 | X3.17.20 | X3.18.20 | X3.19.20 |\n",
       "|---|---|---|---|---|---|---|---|---|---|---|---|---|---|---|---|---|---|---|---|---|---|\n",
       "| 155 | Hubei    | China    | 30.9756  | 112.2707 | 444      | 444      | 549      | 761      | 1058     | 1423     | ...      | 67760    | 67773    | 67781    | 67786    | 67790    | 67794    | 67798    | 67799    | 67800    | 67800    |\n",
       "\n"
      ],
      "text/plain": [
       "    Province.State Country.Region Lat     Long     X1.22.20 X1.23.20 X1.24.20\n",
       "155 Hubei          China          30.9756 112.2707 444      444      549     \n",
       "    X1.25.20 X1.26.20 X1.27.20 ... X3.10.20 X3.11.20 X3.12.20 X3.13.20 X3.14.20\n",
       "155 761      1058     1423     ... 67760    67773    67781    67786    67790   \n",
       "    X3.15.20 X3.16.20 X3.17.20 X3.18.20 X3.19.20\n",
       "155 67794    67798    67799    67800    67800   "
      ]
     },
     "metadata": {},
     "output_type": "display_data"
    }
   ],
   "source": [
    "# showing data of hubei\n",
    "cat(\"\\nA sample data of a location from \\\"Confirmed Cases\\'\\\" dataset:\\n\")\n",
    "check.Confirmed[which(str_detect(check.Confirmed$Province.State, \"Hubei\")),]"
   ]
  },
  {
   "cell_type": "markdown",
   "metadata": {},
   "source": [
    "<br />"
   ]
  },
  {
   "cell_type": "code",
   "execution_count": 971,
   "metadata": {},
   "outputs": [],
   "source": [
    "##### add required visualizations to understand why we are taking which specific step"
   ]
  },
  {
   "cell_type": "markdown",
   "metadata": {},
   "source": [
    "<br />"
   ]
  },
  {
   "cell_type": "markdown",
   "metadata": {},
   "source": [
    "## Data Preparation:"
   ]
  },
  {
   "cell_type": "code",
   "execution_count": 972,
   "metadata": {},
   "outputs": [],
   "source": [
    "# this is a very important, crusial and time-consuming task  --->  (takes roughly 90% of time)"
   ]
  },
  {
   "cell_type": "markdown",
   "metadata": {},
   "source": [
    "#### * Data Cleaning"
   ]
  },
  {
   "cell_type": "code",
   "execution_count": 973,
   "metadata": {},
   "outputs": [
    {
     "data": {
      "text/html": [
       "<table>\n",
       "<thead><tr><th></th><th scope=col>Province.State</th><th scope=col>Country.Region</th><th scope=col>Lat</th><th scope=col>Long</th><th scope=col>X1.22.20</th><th scope=col>X1.23.20</th><th scope=col>X1.24.20</th><th scope=col>X1.25.20</th><th scope=col>X1.26.20</th><th scope=col>X1.27.20</th><th scope=col>...</th><th scope=col>X3.10.20</th><th scope=col>X3.11.20</th><th scope=col>X3.12.20</th><th scope=col>X3.13.20</th><th scope=col>X3.14.20</th><th scope=col>X3.15.20</th><th scope=col>X3.16.20</th><th scope=col>X3.17.20</th><th scope=col>X3.18.20</th><th scope=col>X3.19.20</th></tr></thead>\n",
       "<tbody>\n",
       "\t<tr><th scope=row>166</th><td>Diamond Princess</td><td>Cruise Ship     </td><td>35.4437         </td><td>139.638         </td><td>NA              </td><td>NA              </td><td>NA              </td><td>NA              </td><td>NA              </td><td>NA              </td><td>...             </td><td>696             </td><td>696             </td><td>696             </td><td>696             </td><td>696             </td><td>696             </td><td>696             </td><td>696             </td><td>712             </td><td>712             </td></tr>\n",
       "</tbody>\n",
       "</table>\n"
      ],
      "text/latex": [
       "\\begin{tabular}{r|llllllllllllllllllllllllllllllllllllllllllllllllllllllllllllll}\n",
       "  & Province.State & Country.Region & Lat & Long & X1.22.20 & X1.23.20 & X1.24.20 & X1.25.20 & X1.26.20 & X1.27.20 & ... & X3.10.20 & X3.11.20 & X3.12.20 & X3.13.20 & X3.14.20 & X3.15.20 & X3.16.20 & X3.17.20 & X3.18.20 & X3.19.20\\\\\n",
       "\\hline\n",
       "\t166 & Diamond Princess & Cruise Ship      & 35.4437          & 139.638          & NA               & NA               & NA               & NA               & NA               & NA               & ...              & 696              & 696              & 696              & 696              & 696              & 696              & 696              & 696              & 712              & 712             \\\\\n",
       "\\end{tabular}\n"
      ],
      "text/markdown": [
       "\n",
       "| <!--/--> | Province.State | Country.Region | Lat | Long | X1.22.20 | X1.23.20 | X1.24.20 | X1.25.20 | X1.26.20 | X1.27.20 | ... | X3.10.20 | X3.11.20 | X3.12.20 | X3.13.20 | X3.14.20 | X3.15.20 | X3.16.20 | X3.17.20 | X3.18.20 | X3.19.20 |\n",
       "|---|---|---|---|---|---|---|---|---|---|---|---|---|---|---|---|---|---|---|---|---|---|\n",
       "| 166 | Diamond Princess | Cruise Ship      | 35.4437          | 139.638          | NA               | NA               | NA               | NA               | NA               | NA               | ...              | 696              | 696              | 696              | 696              | 696              | 696              | 696              | 696              | 712              | 712              |\n",
       "\n"
      ],
      "text/plain": [
       "    Province.State   Country.Region Lat     Long    X1.22.20 X1.23.20 X1.24.20\n",
       "166 Diamond Princess Cruise Ship    35.4437 139.638 NA       NA       NA      \n",
       "    X1.25.20 X1.26.20 X1.27.20 ... X3.10.20 X3.11.20 X3.12.20 X3.13.20 X3.14.20\n",
       "166 NA       NA       NA       ... 696      696      696      696      696     \n",
       "    X3.15.20 X3.16.20 X3.17.20 X3.18.20 X3.19.20\n",
       "166 696      696      696      712      712     "
      ]
     },
     "metadata": {},
     "output_type": "display_data"
    },
    {
     "data": {
      "text/html": [
       "<table>\n",
       "<thead><tr><th></th><th scope=col>Province.State</th><th scope=col>Country.Region</th><th scope=col>Lat</th><th scope=col>Long</th><th scope=col>X1.22.20</th><th scope=col>X1.23.20</th><th scope=col>X1.24.20</th><th scope=col>X1.25.20</th><th scope=col>X1.26.20</th><th scope=col>X1.27.20</th><th scope=col>...</th><th scope=col>X3.10.20</th><th scope=col>X3.11.20</th><th scope=col>X3.12.20</th><th scope=col>X3.13.20</th><th scope=col>X3.14.20</th><th scope=col>X3.15.20</th><th scope=col>X3.16.20</th><th scope=col>X3.17.20</th><th scope=col>X3.18.20</th><th scope=col>X3.19.20</th></tr></thead>\n",
       "<tbody>\n",
       "\t<tr><th scope=row>431</th><td>French Guiana</td><td>France       </td><td>3.9339       </td><td>-53.1258     </td><td>0            </td><td>0            </td><td>0            </td><td>0            </td><td>0            </td><td>0            </td><td>...          </td><td>5            </td><td>3            </td><td>5            </td><td>3            </td><td>5            </td><td>7            </td><td>11           </td><td>11           </td><td>11           </td><td>11           </td></tr>\n",
       "</tbody>\n",
       "</table>\n"
      ],
      "text/latex": [
       "\\begin{tabular}{r|llllllllllllllllllllllllllllllllllllllllllllllllllllllllllllll}\n",
       "  & Province.State & Country.Region & Lat & Long & X1.22.20 & X1.23.20 & X1.24.20 & X1.25.20 & X1.26.20 & X1.27.20 & ... & X3.10.20 & X3.11.20 & X3.12.20 & X3.13.20 & X3.14.20 & X3.15.20 & X3.16.20 & X3.17.20 & X3.18.20 & X3.19.20\\\\\n",
       "\\hline\n",
       "\t431 & French Guiana & France        & 3.9339        & -53.1258      & 0             & 0             & 0             & 0             & 0             & 0             & ...           & 5             & 3             & 5             & 3             & 5             & 7             & 11            & 11            & 11            & 11           \\\\\n",
       "\\end{tabular}\n"
      ],
      "text/markdown": [
       "\n",
       "| <!--/--> | Province.State | Country.Region | Lat | Long | X1.22.20 | X1.23.20 | X1.24.20 | X1.25.20 | X1.26.20 | X1.27.20 | ... | X3.10.20 | X3.11.20 | X3.12.20 | X3.13.20 | X3.14.20 | X3.15.20 | X3.16.20 | X3.17.20 | X3.18.20 | X3.19.20 |\n",
       "|---|---|---|---|---|---|---|---|---|---|---|---|---|---|---|---|---|---|---|---|---|---|\n",
       "| 431 | French Guiana | France        | 3.9339        | -53.1258      | 0             | 0             | 0             | 0             | 0             | 0             | ...           | 5             | 3             | 5             | 3             | 5             | 7             | 11            | 11            | 11            | 11            |\n",
       "\n"
      ],
      "text/plain": [
       "    Province.State Country.Region Lat    Long     X1.22.20 X1.23.20 X1.24.20\n",
       "431 French Guiana  France         3.9339 -53.1258 0        0        0       \n",
       "    X1.25.20 X1.26.20 X1.27.20 ... X3.10.20 X3.11.20 X3.12.20 X3.13.20 X3.14.20\n",
       "431 0        0        0        ... 5        3        5        3        5       \n",
       "    X3.15.20 X3.16.20 X3.17.20 X3.18.20 X3.19.20\n",
       "431 7        11       11       11       11      "
      ]
     },
     "metadata": {},
     "output_type": "display_data"
    },
    {
     "data": {
      "text/html": [
       "<table>\n",
       "<thead><tr><th scope=col>Province.State</th><th scope=col>Country.Region</th><th scope=col>Lat</th><th scope=col>Long</th><th scope=col>X1.22.20</th><th scope=col>X1.23.20</th><th scope=col>X1.24.20</th><th scope=col>X1.25.20</th><th scope=col>X1.26.20</th><th scope=col>X1.27.20</th><th scope=col>...</th><th scope=col>X3.10.20</th><th scope=col>X3.11.20</th><th scope=col>X3.12.20</th><th scope=col>X3.13.20</th><th scope=col>X3.14.20</th><th scope=col>X3.15.20</th><th scope=col>X3.16.20</th><th scope=col>X3.17.20</th><th scope=col>X3.18.20</th><th scope=col>X3.19.20</th></tr></thead>\n",
       "<tbody>\n",
       "\t<tr><td>                </td><td>Thailand        </td><td>15.0000         </td><td> 101.0000       </td><td>0               </td><td>0               </td><td>0               </td><td>0               </td><td>2               </td><td>2               </td><td>...             </td><td> 33             </td><td> 34             </td><td> 34             </td><td> 35             </td><td> 35             </td><td> 35             </td><td> 35             </td><td> 41             </td><td> 42             </td><td> 42             </td></tr>\n",
       "\t<tr><td>                </td><td>Japan           </td><td>36.0000         </td><td> 138.0000       </td><td>0               </td><td>0               </td><td>0               </td><td>0               </td><td>1               </td><td>1               </td><td>...             </td><td>101             </td><td>118             </td><td>118             </td><td>118             </td><td>118             </td><td>118             </td><td>144             </td><td>144             </td><td>144             </td><td>150             </td></tr>\n",
       "\t<tr><td>                </td><td>Singapore       </td><td> 1.2833         </td><td> 103.8333       </td><td>0               </td><td>0               </td><td>0               </td><td>0               </td><td>0               </td><td>0               </td><td>...             </td><td> 78             </td><td> 96             </td><td> 96             </td><td> 97             </td><td>105             </td><td>105             </td><td>109             </td><td>114             </td><td>114             </td><td>114             </td></tr>\n",
       "\t<tr><td>                </td><td>Nepal           </td><td>28.1667         </td><td>  84.2500       </td><td>0               </td><td>0               </td><td>0               </td><td>0               </td><td>0               </td><td>0               </td><td>...             </td><td>  1             </td><td>  1             </td><td>  1             </td><td>  1             </td><td>  1             </td><td>  1             </td><td>  1             </td><td>  1             </td><td>  1             </td><td>  1             </td></tr>\n",
       "\t<tr><td>                </td><td>Malaysia        </td><td> 2.5000         </td><td> 112.5000       </td><td>0               </td><td>0               </td><td>0               </td><td>0               </td><td>0               </td><td>0               </td><td>...             </td><td> 24             </td><td> 26             </td><td> 26             </td><td> 26             </td><td> 35             </td><td> 42             </td><td> 42             </td><td> 49             </td><td> 60             </td><td> 75             </td></tr>\n",
       "\t<tr><td>British Columbia</td><td>Canada          </td><td>49.2827         </td><td>-123.1207       </td><td>0               </td><td>0               </td><td>0               </td><td>0               </td><td>0               </td><td>0               </td><td>...             </td><td>  4             </td><td>  4             </td><td>  4             </td><td>  4             </td><td>  4             </td><td>  4             </td><td>  4             </td><td>  4             </td><td>  4             </td><td>  4             </td></tr>\n",
       "</tbody>\n",
       "</table>\n"
      ],
      "text/latex": [
       "\\begin{tabular}{r|llllllllllllllllllllllllllllllllllllllllllllllllllllllllllllll}\n",
       " Province.State & Country.Region & Lat & Long & X1.22.20 & X1.23.20 & X1.24.20 & X1.25.20 & X1.26.20 & X1.27.20 & ... & X3.10.20 & X3.11.20 & X3.12.20 & X3.13.20 & X3.14.20 & X3.15.20 & X3.16.20 & X3.17.20 & X3.18.20 & X3.19.20\\\\\n",
       "\\hline\n",
       "\t                  & Thailand         & 15.0000          &  101.0000        & 0                & 0                & 0                & 0                & 2                & 2                & ...              &  33              &  34              &  34              &  35              &  35              &  35              &  35              &  41              &  42              &  42             \\\\\n",
       "\t                  & Japan            & 36.0000          &  138.0000        & 0                & 0                & 0                & 0                & 1                & 1                & ...              & 101              & 118              & 118              & 118              & 118              & 118              & 144              & 144              & 144              & 150             \\\\\n",
       "\t                  & Singapore        &  1.2833          &  103.8333        & 0                & 0                & 0                & 0                & 0                & 0                & ...              &  78              &  96              &  96              &  97              & 105              & 105              & 109              & 114              & 114              & 114             \\\\\n",
       "\t                  & Nepal            & 28.1667          &   84.2500        & 0                & 0                & 0                & 0                & 0                & 0                & ...              &   1              &   1              &   1              &   1              &   1              &   1              &   1              &   1              &   1              &   1             \\\\\n",
       "\t                  & Malaysia         &  2.5000          &  112.5000        & 0                & 0                & 0                & 0                & 0                & 0                & ...              &  24              &  26              &  26              &  26              &  35              &  42              &  42              &  49              &  60              &  75             \\\\\n",
       "\t British Columbia & Canada           & 49.2827          & -123.1207        & 0                & 0                & 0                & 0                & 0                & 0                & ...              &   4              &   4              &   4              &   4              &   4              &   4              &   4              &   4              &   4              &   4             \\\\\n",
       "\\end{tabular}\n"
      ],
      "text/markdown": [
       "\n",
       "| Province.State | Country.Region | Lat | Long | X1.22.20 | X1.23.20 | X1.24.20 | X1.25.20 | X1.26.20 | X1.27.20 | ... | X3.10.20 | X3.11.20 | X3.12.20 | X3.13.20 | X3.14.20 | X3.15.20 | X3.16.20 | X3.17.20 | X3.18.20 | X3.19.20 |\n",
       "|---|---|---|---|---|---|---|---|---|---|---|---|---|---|---|---|---|---|---|---|---|\n",
       "|                  | Thailand         | 15.0000          |  101.0000        | 0                | 0                | 0                | 0                | 2                | 2                | ...              |  33              |  34              |  34              |  35              |  35              |  35              |  35              |  41              |  42              |  42              |\n",
       "|                  | Japan            | 36.0000          |  138.0000        | 0                | 0                | 0                | 0                | 1                | 1                | ...              | 101              | 118              | 118              | 118              | 118              | 118              | 144              | 144              | 144              | 150              |\n",
       "|                  | Singapore        |  1.2833          |  103.8333        | 0                | 0                | 0                | 0                | 0                | 0                | ...              |  78              |  96              |  96              |  97              | 105              | 105              | 109              | 114              | 114              | 114              |\n",
       "|                  | Nepal            | 28.1667          |   84.2500        | 0                | 0                | 0                | 0                | 0                | 0                | ...              |   1              |   1              |   1              |   1              |   1              |   1              |   1              |   1              |   1              |   1              |\n",
       "|                  | Malaysia         |  2.5000          |  112.5000        | 0                | 0                | 0                | 0                | 0                | 0                | ...              |  24              |  26              |  26              |  26              |  35              |  42              |  42              |  49              |  60              |  75              |\n",
       "| British Columbia | Canada           | 49.2827          | -123.1207        | 0                | 0                | 0                | 0                | 0                | 0                | ...              |   4              |   4              |   4              |   4              |   4              |   4              |   4              |   4              |   4              |   4              |\n",
       "\n"
      ],
      "text/plain": [
       "  Province.State   Country.Region Lat     Long      X1.22.20 X1.23.20 X1.24.20\n",
       "1                  Thailand       15.0000  101.0000 0        0        0       \n",
       "2                  Japan          36.0000  138.0000 0        0        0       \n",
       "3                  Singapore       1.2833  103.8333 0        0        0       \n",
       "4                  Nepal          28.1667   84.2500 0        0        0       \n",
       "5                  Malaysia        2.5000  112.5000 0        0        0       \n",
       "6 British Columbia Canada         49.2827 -123.1207 0        0        0       \n",
       "  X1.25.20 X1.26.20 X1.27.20 ... X3.10.20 X3.11.20 X3.12.20 X3.13.20 X3.14.20\n",
       "1 0        2        2        ...  33       34       34       35       35     \n",
       "2 0        1        1        ... 101      118      118      118      118     \n",
       "3 0        0        0        ...  78       96       96       97      105     \n",
       "4 0        0        0        ...   1        1        1        1        1     \n",
       "5 0        0        0        ...  24       26       26       26       35     \n",
       "6 0        0        0        ...   4        4        4        4        4     \n",
       "  X3.15.20 X3.16.20 X3.17.20 X3.18.20 X3.19.20\n",
       "1  35       35       41       42       42     \n",
       "2 118      144      144      144      150     \n",
       "3 105      109      114      114      114     \n",
       "4   1        1        1        1        1     \n",
       "5  42       42       49       60       75     \n",
       "6   4        4        4        4        4     "
      ]
     },
     "metadata": {},
     "output_type": "display_data"
    }
   ],
   "source": [
    "# from short of ***dataCleaner.R***\n",
    "\n",
    "# vulnaribilities in data & handling them (NAs, missing val..)\n",
    "# cleaning\n",
    "\n",
    "\n",
    "# sample NA val\n",
    "check.Confirmed[which(str_detect(check.Confirmed$Country.Region, \"Cruise Ship\")),]\n",
    "\n",
    "# sample wrong data \"french guiana\"\n",
    "check.Confirmed[which(str_detect(check.Confirmed$Province.State, \"French Guiana\")),]\n",
    "\n",
    "# sample blank data ---> State (replaced by 'Other')\n",
    "head(check.Recovered)"
   ]
  },
  {
   "cell_type": "code",
   "execution_count": 974,
   "metadata": {},
   "outputs": [],
   "source": [
    "# most known ways are:\n",
    "    # replacing/filling by Mean/Mode etc.. (benifits)\n",
    "    # dealing with na --> removing NA rows .... \n",
    "        # we can't do so, cuz' there are very few NAs,\n",
    "        # we can simply fill that place with smallest value in that series but time series data,\n",
    "        # ignoring a row in time-series dataset means removal of all the data of that location"
   ]
  },
  {
   "cell_type": "code",
   "execution_count": 975,
   "metadata": {},
   "outputs": [],
   "source": [
    "# removing NAs, replacing incorrect values\n",
    "\n",
    "for (i in 1:nrow(check.Confirmed)) {\n",
    "  for (j in 5:ncol(check.Confirmed)) {\n",
    "    if(j==5) {\n",
    "      check.Confirmed[i,j] = ifelse(is.na(check.Confirmed[i, j]), 0, check.Confirmed[i,j])\n",
    "    } else {\n",
    "      if(is.na(check.Confirmed[i, j])){\n",
    "        check.Confirmed[i,j] = check.Confirmed[i, (j-1)]\n",
    "      } else if(check.Confirmed[i, (j-1)] > check.Confirmed[i, j]){\n",
    "        check.Confirmed[i,j] = check.Confirmed[i, (j-1)]\n",
    "      }\n",
    "    }\n",
    "  }\n",
    "}\n",
    "\n",
    "for (i in 1:nrow(check.Deaths)) {\n",
    "  for (j in 5:ncol(check.Deaths)) {\n",
    "    if(j==5) {\n",
    "      check.Deaths[i,j] = ifelse(is.na(check.Deaths[i, j]), 0, check.Deaths[i,j])\n",
    "    } else {\n",
    "      if(is.na(check.Deaths[i, j])){\n",
    "        check.Deaths[i,j] = check.Deaths[i, (j-1)]\n",
    "      } else if(check.Deaths[i, (j-1)] > check.Deaths[i, j]){\n",
    "        check.Deaths[i,j] = check.Deaths[i, (j-1)]\n",
    "      }\n",
    "    }\n",
    "  }\n",
    "}\n",
    "\n",
    "for (i in 1:nrow(check.Recovered)) {\n",
    "  for (j in 5:ncol(check.Recovered)) {\n",
    "    if(j==5) {\n",
    "      check.Recovered[i,j] = ifelse(is.na(check.Recovered[i, j]), 0, check.Recovered[i,j])\n",
    "    } else {\n",
    "      if(is.na(check.Recovered[i, j])){\n",
    "        check.Recovered[i,j] = check.Recovered[i, (j-1)]\n",
    "      } else if(check.Recovered[i, (j-1)] > check.Recovered[i, j]){\n",
    "        check.Recovered[i,j] = check.Recovered[i, (j-1)]\n",
    "      }\n",
    "    }\n",
    "  }\n",
    "}\n",
    "\n",
    "\n",
    "\n"
   ]
  },
  {
   "cell_type": "code",
   "execution_count": 976,
   "metadata": {},
   "outputs": [],
   "source": [
    "# replace blanks and incorrect country/state names\n",
    "\n",
    "# replacing in states\n",
    "states = as.character(check.Confirmed$Province.State)\n",
    "states.levels = as.character(levels(check.Confirmed$Province.State))\n",
    "\n",
    "states[states %in% \"\"] = \"Others\"\n",
    "states.levels[states.levels %in% \"\"] = \"Others\"\n",
    "\n",
    "\n",
    "#######\n",
    "states[states %in% \"From Diamond Princess\"] = \"Diamond Princess\"\n",
    "states.levels = states.levels[!states.levels %in% \"From Diamond Princess\"]\n",
    "\n",
    "\n",
    "# replacing in countries\n",
    "countries = as.character(check.Confirmed$Country.Region)\n",
    "countries.levels = as.character(levels(check.Confirmed$Country.Region))\n",
    "\n",
    "countries[countries %in% \"US\"] = \"United States\"\n",
    "countries[countries %in% \"UK\"] = \"United Kingdom\"\n",
    "countries[countries %in% \"Taiwan*\"] = \"Taiwan\"\n",
    "countries[countries %in% \"The Bahamas\"] = \"Bahamas\"\n",
    "countries[countries %in% \"Gambia, The\"] = \"Gambia\"\n",
    "countries[countries %in% \"Korea, South\"] = \"South Korea\"\n",
    "countries[countries %in% c(\"Congo (Brazzaville)\", \"Congo (Kinshasa)\", \"Republic of the Congo\")] = \"Democratic Republic of the Congo\"\n",
    "###\n",
    "countries.levels[countries.levels %in% \"US\"] = \"United States\"\n",
    "countries.levels[countries.levels %in% \"UK\"] = \"United Kingdom\"\n",
    "countries.levels[countries.levels %in% \"Taiwan*\"] = \"Taiwan\"\n",
    "countries.levels[countries.levels %in% \"The Bahamas\"] = \"Bahamas\"\n",
    "countries.levels[countries.levels %in% \"Gambia, The\"] = \"Gambia\"\n",
    "countries.levels[countries.levels %in% \"Korea, South\"] = \"South Korea\"\n",
    "\n",
    "countries.levels = countries.levels[!countries.levels %in% c(\"Congo (Brazzaville)\", \"Congo (Kinshasa)\", \"Republic of the Congo\")]\n",
    "countries.levels = c(countries.levels, \"Democratic Republic of the Congo\")\n",
    "###############################"
   ]
  },
  {
   "cell_type": "code",
   "execution_count": 977,
   "metadata": {},
   "outputs": [],
   "source": [
    "# rectified fectors\n",
    "states.factor  = factor(c(states), levels = c(states.levels))\n",
    "countries.factor  = factor(countries, levels = countries.levels)\n",
    "\n",
    "\n",
    "## CUZ' INITIAL 4 COLUMNS ARE COMMON IN ALL 3 DATASETS ##\n",
    "\n",
    "# editing factors in datasets\n",
    "check.Confirmed = cbind(\n",
    "                    Province.State = states.factor,\n",
    "                    Country.Region = countries.factor,\n",
    "                    check.Confirmed[,3:ncol(check.Confirmed)]\n",
    "                  )\n",
    "\n",
    "check.Deaths = cbind(\n",
    "                    Province.State = states.factor,\n",
    "                    Country.Region = countries.factor,\n",
    "                    check.Deaths[,3:ncol(check.Deaths)]\n",
    "                  )\n",
    "\n",
    "check.Recovered = cbind(\n",
    "                    Province.State = states.factor,\n",
    "                    Country.Region = countries.factor,\n",
    "                    check.Recovered[,3:ncol(check.Recovered)]\n",
    "                  )\n",
    "\n"
   ]
  },
  {
   "cell_type": "code",
   "execution_count": 978,
   "metadata": {},
   "outputs": [
    {
     "data": {
      "text/html": [
       "<table>\n",
       "<thead><tr><th></th><th scope=col>Province.State</th><th scope=col>Country.Region</th><th scope=col>Lat</th><th scope=col>Long</th><th scope=col>X1.22.20</th><th scope=col>X1.23.20</th><th scope=col>X1.24.20</th><th scope=col>X1.25.20</th><th scope=col>X1.26.20</th><th scope=col>X1.27.20</th><th scope=col>...</th><th scope=col>X3.10.20</th><th scope=col>X3.11.20</th><th scope=col>X3.12.20</th><th scope=col>X3.13.20</th><th scope=col>X3.14.20</th><th scope=col>X3.15.20</th><th scope=col>X3.16.20</th><th scope=col>X3.17.20</th><th scope=col>X3.18.20</th><th scope=col>X3.19.20</th></tr></thead>\n",
       "<tbody>\n",
       "\t<tr><th scope=row>166</th><td>Diamond Princess</td><td>Cruise Ship     </td><td>35.4437         </td><td>139.638         </td><td>0               </td><td>0               </td><td>0               </td><td>0               </td><td>0               </td><td>0               </td><td>...             </td><td>706             </td><td>706             </td><td>706             </td><td>706             </td><td>706             </td><td>706             </td><td>706             </td><td>706             </td><td>712             </td><td>712             </td></tr>\n",
       "</tbody>\n",
       "</table>\n"
      ],
      "text/latex": [
       "\\begin{tabular}{r|llllllllllllllllllllllllllllllllllllllllllllllllllllllllllllll}\n",
       "  & Province.State & Country.Region & Lat & Long & X1.22.20 & X1.23.20 & X1.24.20 & X1.25.20 & X1.26.20 & X1.27.20 & ... & X3.10.20 & X3.11.20 & X3.12.20 & X3.13.20 & X3.14.20 & X3.15.20 & X3.16.20 & X3.17.20 & X3.18.20 & X3.19.20\\\\\n",
       "\\hline\n",
       "\t166 & Diamond Princess & Cruise Ship      & 35.4437          & 139.638          & 0                & 0                & 0                & 0                & 0                & 0                & ...              & 706              & 706              & 706              & 706              & 706              & 706              & 706              & 706              & 712              & 712             \\\\\n",
       "\\end{tabular}\n"
      ],
      "text/markdown": [
       "\n",
       "| <!--/--> | Province.State | Country.Region | Lat | Long | X1.22.20 | X1.23.20 | X1.24.20 | X1.25.20 | X1.26.20 | X1.27.20 | ... | X3.10.20 | X3.11.20 | X3.12.20 | X3.13.20 | X3.14.20 | X3.15.20 | X3.16.20 | X3.17.20 | X3.18.20 | X3.19.20 |\n",
       "|---|---|---|---|---|---|---|---|---|---|---|---|---|---|---|---|---|---|---|---|---|---|\n",
       "| 166 | Diamond Princess | Cruise Ship      | 35.4437          | 139.638          | 0                | 0                | 0                | 0                | 0                | 0                | ...              | 706              | 706              | 706              | 706              | 706              | 706              | 706              | 706              | 712              | 712              |\n",
       "\n"
      ],
      "text/plain": [
       "    Province.State   Country.Region Lat     Long    X1.22.20 X1.23.20 X1.24.20\n",
       "166 Diamond Princess Cruise Ship    35.4437 139.638 0        0        0       \n",
       "    X1.25.20 X1.26.20 X1.27.20 ... X3.10.20 X3.11.20 X3.12.20 X3.13.20 X3.14.20\n",
       "166 0        0        0        ... 706      706      706      706      706     \n",
       "    X3.15.20 X3.16.20 X3.17.20 X3.18.20 X3.19.20\n",
       "166 706      706      706      712      712     "
      ]
     },
     "metadata": {},
     "output_type": "display_data"
    },
    {
     "data": {
      "text/html": [
       "<table>\n",
       "<thead><tr><th></th><th scope=col>Province.State</th><th scope=col>Country.Region</th><th scope=col>Lat</th><th scope=col>Long</th><th scope=col>X1.22.20</th><th scope=col>X1.23.20</th><th scope=col>X1.24.20</th><th scope=col>X1.25.20</th><th scope=col>X1.26.20</th><th scope=col>X1.27.20</th><th scope=col>...</th><th scope=col>X3.10.20</th><th scope=col>X3.11.20</th><th scope=col>X3.12.20</th><th scope=col>X3.13.20</th><th scope=col>X3.14.20</th><th scope=col>X3.15.20</th><th scope=col>X3.16.20</th><th scope=col>X3.17.20</th><th scope=col>X3.18.20</th><th scope=col>X3.19.20</th></tr></thead>\n",
       "<tbody>\n",
       "\t<tr><th scope=row>431</th><td>French Guiana</td><td>France       </td><td>3.9339       </td><td>-53.1258     </td><td>0            </td><td>0            </td><td>0            </td><td>0            </td><td>0            </td><td>0            </td><td>...          </td><td>5            </td><td>5            </td><td>5            </td><td>5            </td><td>5            </td><td>7            </td><td>11           </td><td>11           </td><td>11           </td><td>11           </td></tr>\n",
       "</tbody>\n",
       "</table>\n"
      ],
      "text/latex": [
       "\\begin{tabular}{r|llllllllllllllllllllllllllllllllllllllllllllllllllllllllllllll}\n",
       "  & Province.State & Country.Region & Lat & Long & X1.22.20 & X1.23.20 & X1.24.20 & X1.25.20 & X1.26.20 & X1.27.20 & ... & X3.10.20 & X3.11.20 & X3.12.20 & X3.13.20 & X3.14.20 & X3.15.20 & X3.16.20 & X3.17.20 & X3.18.20 & X3.19.20\\\\\n",
       "\\hline\n",
       "\t431 & French Guiana & France        & 3.9339        & -53.1258      & 0             & 0             & 0             & 0             & 0             & 0             & ...           & 5             & 5             & 5             & 5             & 5             & 7             & 11            & 11            & 11            & 11           \\\\\n",
       "\\end{tabular}\n"
      ],
      "text/markdown": [
       "\n",
       "| <!--/--> | Province.State | Country.Region | Lat | Long | X1.22.20 | X1.23.20 | X1.24.20 | X1.25.20 | X1.26.20 | X1.27.20 | ... | X3.10.20 | X3.11.20 | X3.12.20 | X3.13.20 | X3.14.20 | X3.15.20 | X3.16.20 | X3.17.20 | X3.18.20 | X3.19.20 |\n",
       "|---|---|---|---|---|---|---|---|---|---|---|---|---|---|---|---|---|---|---|---|---|---|\n",
       "| 431 | French Guiana | France        | 3.9339        | -53.1258      | 0             | 0             | 0             | 0             | 0             | 0             | ...           | 5             | 5             | 5             | 5             | 5             | 7             | 11            | 11            | 11            | 11            |\n",
       "\n"
      ],
      "text/plain": [
       "    Province.State Country.Region Lat    Long     X1.22.20 X1.23.20 X1.24.20\n",
       "431 French Guiana  France         3.9339 -53.1258 0        0        0       \n",
       "    X1.25.20 X1.26.20 X1.27.20 ... X3.10.20 X3.11.20 X3.12.20 X3.13.20 X3.14.20\n",
       "431 0        0        0        ... 5        5        5        5        5       \n",
       "    X3.15.20 X3.16.20 X3.17.20 X3.18.20 X3.19.20\n",
       "431 7        11       11       11       11      "
      ]
     },
     "metadata": {},
     "output_type": "display_data"
    },
    {
     "data": {
      "text/html": [
       "<table>\n",
       "<thead><tr><th scope=col>Province.State</th><th scope=col>Country.Region</th><th scope=col>Lat</th><th scope=col>Long</th><th scope=col>X1.22.20</th><th scope=col>X1.23.20</th><th scope=col>X1.24.20</th><th scope=col>X1.25.20</th><th scope=col>X1.26.20</th><th scope=col>X1.27.20</th><th scope=col>...</th><th scope=col>X3.10.20</th><th scope=col>X3.11.20</th><th scope=col>X3.12.20</th><th scope=col>X3.13.20</th><th scope=col>X3.14.20</th><th scope=col>X3.15.20</th><th scope=col>X3.16.20</th><th scope=col>X3.17.20</th><th scope=col>X3.18.20</th><th scope=col>X3.19.20</th></tr></thead>\n",
       "<tbody>\n",
       "\t<tr><td>Others          </td><td>Thailand        </td><td>15.0000         </td><td> 101.0000       </td><td>0               </td><td>0               </td><td>0               </td><td>0               </td><td>2               </td><td>2               </td><td>...             </td><td> 33             </td><td> 34             </td><td> 34             </td><td> 35             </td><td> 35             </td><td> 35             </td><td> 35             </td><td> 41             </td><td> 42             </td><td> 42             </td></tr>\n",
       "\t<tr><td>Others          </td><td>Japan           </td><td>36.0000         </td><td> 138.0000       </td><td>0               </td><td>0               </td><td>0               </td><td>0               </td><td>1               </td><td>1               </td><td>...             </td><td>101             </td><td>118             </td><td>118             </td><td>118             </td><td>118             </td><td>118             </td><td>144             </td><td>144             </td><td>144             </td><td>150             </td></tr>\n",
       "\t<tr><td>Others          </td><td>Singapore       </td><td> 1.2833         </td><td> 103.8333       </td><td>0               </td><td>0               </td><td>0               </td><td>0               </td><td>0               </td><td>0               </td><td>...             </td><td> 78             </td><td> 96             </td><td> 96             </td><td> 97             </td><td>105             </td><td>105             </td><td>109             </td><td>114             </td><td>114             </td><td>114             </td></tr>\n",
       "\t<tr><td>Others          </td><td>Nepal           </td><td>28.1667         </td><td>  84.2500       </td><td>0               </td><td>0               </td><td>0               </td><td>0               </td><td>0               </td><td>0               </td><td>...             </td><td>  1             </td><td>  1             </td><td>  1             </td><td>  1             </td><td>  1             </td><td>  1             </td><td>  1             </td><td>  1             </td><td>  1             </td><td>  1             </td></tr>\n",
       "\t<tr><td>Others          </td><td>Malaysia        </td><td> 2.5000         </td><td> 112.5000       </td><td>0               </td><td>0               </td><td>0               </td><td>0               </td><td>0               </td><td>0               </td><td>...             </td><td> 24             </td><td> 26             </td><td> 26             </td><td> 26             </td><td> 35             </td><td> 42             </td><td> 42             </td><td> 49             </td><td> 60             </td><td> 75             </td></tr>\n",
       "\t<tr><td>British Columbia</td><td>Canada          </td><td>49.2827         </td><td>-123.1207       </td><td>0               </td><td>0               </td><td>0               </td><td>0               </td><td>0               </td><td>0               </td><td>...             </td><td>  4             </td><td>  4             </td><td>  4             </td><td>  4             </td><td>  4             </td><td>  4             </td><td>  4             </td><td>  4             </td><td>  4             </td><td>  4             </td></tr>\n",
       "</tbody>\n",
       "</table>\n"
      ],
      "text/latex": [
       "\\begin{tabular}{r|llllllllllllllllllllllllllllllllllllllllllllllllllllllllllllll}\n",
       " Province.State & Country.Region & Lat & Long & X1.22.20 & X1.23.20 & X1.24.20 & X1.25.20 & X1.26.20 & X1.27.20 & ... & X3.10.20 & X3.11.20 & X3.12.20 & X3.13.20 & X3.14.20 & X3.15.20 & X3.16.20 & X3.17.20 & X3.18.20 & X3.19.20\\\\\n",
       "\\hline\n",
       "\t Others           & Thailand         & 15.0000          &  101.0000        & 0                & 0                & 0                & 0                & 2                & 2                & ...              &  33              &  34              &  34              &  35              &  35              &  35              &  35              &  41              &  42              &  42             \\\\\n",
       "\t Others           & Japan            & 36.0000          &  138.0000        & 0                & 0                & 0                & 0                & 1                & 1                & ...              & 101              & 118              & 118              & 118              & 118              & 118              & 144              & 144              & 144              & 150             \\\\\n",
       "\t Others           & Singapore        &  1.2833          &  103.8333        & 0                & 0                & 0                & 0                & 0                & 0                & ...              &  78              &  96              &  96              &  97              & 105              & 105              & 109              & 114              & 114              & 114             \\\\\n",
       "\t Others           & Nepal            & 28.1667          &   84.2500        & 0                & 0                & 0                & 0                & 0                & 0                & ...              &   1              &   1              &   1              &   1              &   1              &   1              &   1              &   1              &   1              &   1             \\\\\n",
       "\t Others           & Malaysia         &  2.5000          &  112.5000        & 0                & 0                & 0                & 0                & 0                & 0                & ...              &  24              &  26              &  26              &  26              &  35              &  42              &  42              &  49              &  60              &  75             \\\\\n",
       "\t British Columbia & Canada           & 49.2827          & -123.1207        & 0                & 0                & 0                & 0                & 0                & 0                & ...              &   4              &   4              &   4              &   4              &   4              &   4              &   4              &   4              &   4              &   4             \\\\\n",
       "\\end{tabular}\n"
      ],
      "text/markdown": [
       "\n",
       "| Province.State | Country.Region | Lat | Long | X1.22.20 | X1.23.20 | X1.24.20 | X1.25.20 | X1.26.20 | X1.27.20 | ... | X3.10.20 | X3.11.20 | X3.12.20 | X3.13.20 | X3.14.20 | X3.15.20 | X3.16.20 | X3.17.20 | X3.18.20 | X3.19.20 |\n",
       "|---|---|---|---|---|---|---|---|---|---|---|---|---|---|---|---|---|---|---|---|---|\n",
       "| Others           | Thailand         | 15.0000          |  101.0000        | 0                | 0                | 0                | 0                | 2                | 2                | ...              |  33              |  34              |  34              |  35              |  35              |  35              |  35              |  41              |  42              |  42              |\n",
       "| Others           | Japan            | 36.0000          |  138.0000        | 0                | 0                | 0                | 0                | 1                | 1                | ...              | 101              | 118              | 118              | 118              | 118              | 118              | 144              | 144              | 144              | 150              |\n",
       "| Others           | Singapore        |  1.2833          |  103.8333        | 0                | 0                | 0                | 0                | 0                | 0                | ...              |  78              |  96              |  96              |  97              | 105              | 105              | 109              | 114              | 114              | 114              |\n",
       "| Others           | Nepal            | 28.1667          |   84.2500        | 0                | 0                | 0                | 0                | 0                | 0                | ...              |   1              |   1              |   1              |   1              |   1              |   1              |   1              |   1              |   1              |   1              |\n",
       "| Others           | Malaysia         |  2.5000          |  112.5000        | 0                | 0                | 0                | 0                | 0                | 0                | ...              |  24              |  26              |  26              |  26              |  35              |  42              |  42              |  49              |  60              |  75              |\n",
       "| British Columbia | Canada           | 49.2827          | -123.1207        | 0                | 0                | 0                | 0                | 0                | 0                | ...              |   4              |   4              |   4              |   4              |   4              |   4              |   4              |   4              |   4              |   4              |\n",
       "\n"
      ],
      "text/plain": [
       "  Province.State   Country.Region Lat     Long      X1.22.20 X1.23.20 X1.24.20\n",
       "1 Others           Thailand       15.0000  101.0000 0        0        0       \n",
       "2 Others           Japan          36.0000  138.0000 0        0        0       \n",
       "3 Others           Singapore       1.2833  103.8333 0        0        0       \n",
       "4 Others           Nepal          28.1667   84.2500 0        0        0       \n",
       "5 Others           Malaysia        2.5000  112.5000 0        0        0       \n",
       "6 British Columbia Canada         49.2827 -123.1207 0        0        0       \n",
       "  X1.25.20 X1.26.20 X1.27.20 ... X3.10.20 X3.11.20 X3.12.20 X3.13.20 X3.14.20\n",
       "1 0        2        2        ...  33       34       34       35       35     \n",
       "2 0        1        1        ... 101      118      118      118      118     \n",
       "3 0        0        0        ...  78       96       96       97      105     \n",
       "4 0        0        0        ...   1        1        1        1        1     \n",
       "5 0        0        0        ...  24       26       26       26       35     \n",
       "6 0        0        0        ...   4        4        4        4        4     \n",
       "  X3.15.20 X3.16.20 X3.17.20 X3.18.20 X3.19.20\n",
       "1  35       35       41       42       42     \n",
       "2 118      144      144      144      150     \n",
       "3 105      109      114      114      114     \n",
       "4   1        1        1        1        1     \n",
       "5  42       42       49       60       75     \n",
       "6   4        4        4        4        4     "
      ]
     },
     "metadata": {},
     "output_type": "display_data"
    }
   ],
   "source": [
    "# view cleaned sample\n",
    "\n",
    "# sample NA val\n",
    "check.Confirmed[which(str_detect(check.Confirmed$Country.Region, \"Cruise Ship\")),]\n",
    "\n",
    "# sample wrong data \"french guiana\"\n",
    "check.Confirmed[which(str_detect(check.Confirmed$Province.State, \"French Guiana\")),]\n",
    "\n",
    "# sample blank data ---> State (replaced by 'Other')\n",
    "head(check.Recovered)"
   ]
  },
  {
   "cell_type": "markdown",
   "metadata": {},
   "source": [
    "#### * Data Reduction"
   ]
  },
  {
   "cell_type": "code",
   "execution_count": 979,
   "metadata": {},
   "outputs": [],
   "source": [
    "# saparating outliers \n",
    "# 2 are sapratesd --> 'world' (& hence 'china') will be seperated after transformations\n",
    "# There is a flaw in the above dataset:\n",
    "    # Here we have the data of one _Cruise Ship_ called **Diamond Princess**\n",
    "    # which is enlisted with various countries, as well\n",
    "# Hence we need to reduce the data by saprating it from rest of the all 3 datasets\n",
    "\n",
    "# Though, it can be  helpful for furthes studies, hence we'll store it saperatly\n",
    "Diamond.Princess.Confirmed = check.Confirmed[ which(str_detect(check.Confirmed$Country.Region, \"Cruise Ship\", negate = F)), ]\n",
    "check.Confirmed = check.Confirmed[ which(str_detect(check.Confirmed$Country.Region, \"Cruise Ship\", negate = T)), ]\n",
    "\n",
    "Diamond.Princess.Deaths = check.Deaths[ which(str_detect(check.Deaths$Country.Region, \"Cruise Ship\", negate = F)),]\n",
    "check.Deaths = check.Deaths[ which(str_detect(check.Deaths$Country.Region, \"Cruise Ship\", negate = T)), ]\n",
    "\n",
    "Diamond.Princess.Recovered = check.Recovered[ which(str_detect(check.Recovered$Country.Region, \"Cruise Ship\", negate = F)), ]\n",
    "check.Recovered = check.Recovered[ which(str_detect(check.Recovered$Country.Region, \"Cruise Ship\", negate = T)), ]\n",
    "\n",
    "## Rectifying Row sequences\n",
    "row.names(check.Confirmed) <- NULL\n",
    "row.names(check.Deaths) <- NULL\n",
    "row.names(check.Recovered) <- NULL"
   ]
  },
  {
   "cell_type": "code",
   "execution_count": 980,
   "metadata": {},
   "outputs": [
    {
     "data": {
      "text/html": [
       "<table>\n",
       "<thead><tr><th></th><th scope=col>Province.State</th><th scope=col>Country.Region</th><th scope=col>Lat</th><th scope=col>Long</th><th scope=col>X1.22.20</th><th scope=col>X1.23.20</th><th scope=col>X1.24.20</th><th scope=col>X1.25.20</th><th scope=col>X1.26.20</th><th scope=col>X1.27.20</th><th scope=col>...</th><th scope=col>X3.10.20</th><th scope=col>X3.11.20</th><th scope=col>X3.12.20</th><th scope=col>X3.13.20</th><th scope=col>X3.14.20</th><th scope=col>X3.15.20</th><th scope=col>X3.16.20</th><th scope=col>X3.17.20</th><th scope=col>X3.18.20</th><th scope=col>X3.19.20</th></tr></thead>\n",
       "<tbody>\n",
       "\t<tr><th scope=row>166</th><td>Jiangsu</td><td>China  </td><td>32.9711</td><td>119.455</td><td>1      </td><td>5      </td><td>9      </td><td>18     </td><td>33     </td><td>47     </td><td>...    </td><td>631    </td><td>631    </td><td>631    </td><td>631    </td><td>631    </td><td>631    </td><td>631    </td><td>631    </td><td>631    </td><td>631    </td></tr>\n",
       "</tbody>\n",
       "</table>\n"
      ],
      "text/latex": [
       "\\begin{tabular}{r|llllllllllllllllllllllllllllllllllllllllllllllllllllllllllllll}\n",
       "  & Province.State & Country.Region & Lat & Long & X1.22.20 & X1.23.20 & X1.24.20 & X1.25.20 & X1.26.20 & X1.27.20 & ... & X3.10.20 & X3.11.20 & X3.12.20 & X3.13.20 & X3.14.20 & X3.15.20 & X3.16.20 & X3.17.20 & X3.18.20 & X3.19.20\\\\\n",
       "\\hline\n",
       "\t166 & Jiangsu & China   & 32.9711 & 119.455 & 1       & 5       & 9       & 18      & 33      & 47      & ...     & 631     & 631     & 631     & 631     & 631     & 631     & 631     & 631     & 631     & 631    \\\\\n",
       "\\end{tabular}\n"
      ],
      "text/markdown": [
       "\n",
       "| <!--/--> | Province.State | Country.Region | Lat | Long | X1.22.20 | X1.23.20 | X1.24.20 | X1.25.20 | X1.26.20 | X1.27.20 | ... | X3.10.20 | X3.11.20 | X3.12.20 | X3.13.20 | X3.14.20 | X3.15.20 | X3.16.20 | X3.17.20 | X3.18.20 | X3.19.20 |\n",
       "|---|---|---|---|---|---|---|---|---|---|---|---|---|---|---|---|---|---|---|---|---|---|\n",
       "| 166 | Jiangsu | China   | 32.9711 | 119.455 | 1       | 5       | 9       | 18      | 33      | 47      | ...     | 631     | 631     | 631     | 631     | 631     | 631     | 631     | 631     | 631     | 631     |\n",
       "\n"
      ],
      "text/plain": [
       "    Province.State Country.Region Lat     Long    X1.22.20 X1.23.20 X1.24.20\n",
       "166 Jiangsu        China          32.9711 119.455 1        5        9       \n",
       "    X1.25.20 X1.26.20 X1.27.20 ... X3.10.20 X3.11.20 X3.12.20 X3.13.20 X3.14.20\n",
       "166 18       33       47       ... 631      631      631      631      631     \n",
       "    X3.15.20 X3.16.20 X3.17.20 X3.18.20 X3.19.20\n",
       "166 631      631      631      631      631     "
      ]
     },
     "metadata": {},
     "output_type": "display_data"
    },
    {
     "name": "stdout",
     "output_type": "stream",
     "text": [
      "\n",
      "Earlier dimention: 468 X 62\n",
      "\n",
      "New dimention:  467 62"
     ]
    }
   ],
   "source": [
    "# Let's check whether Diamond Princess is still at row 166 or not\n",
    "check.Confirmed[166,]\n",
    "#check.Deaths[166,]\n",
    "#check.Recovered[166,]\n",
    "\n",
    "\n",
    "# also checking dimention\n",
    "cat(\"\\nEarlier dimention: 468 X 62\\n\\n\")    # as we saw initially\n",
    "\n",
    "cat(\"New dimention: \", dim(check.Confirmed))"
   ]
  },
  {
   "cell_type": "code",
   "execution_count": 981,
   "metadata": {},
   "outputs": [
    {
     "data": {
      "image/png": "[encoded data removed]",
      "text/plain": [
       "plot without title"
      ]
     },
     "metadata": {
      "image/png": {
       "height": 420,
       "width": 420
      },
      "text/plain": {
       "height": 420,
       "width": 420
      }
     },
     "output_type": "display_data"
    }
   ],
   "source": [
    "# OK! so it's gone!\n",
    "# Hopefully, now we can transform our data as per our requirement\n",
    "\n",
    "# Let's visualize our data to varify:\n",
    "library(ggplot2)\n",
    "\n",
    "ggplot(check.Confirmed) +\n",
    "  geom_point(aes(x=check.Confirmed$Province.State, y=check.Confirmed$X1.29.20), color=\"red\", size=2)\n",
    "\n",
    "#ggplot(check.Deaths) +\n",
    "#  geom_point(aes(x=check.Deaths$Province.State, y=check.Deaths$X1.29.20), color=\"red\", size=2)#\n",
    "\n",
    "#ggplot(check.Recovered) +\n",
    "#  geom_point(aes(x=check.Recovered$Province.State, y=check.Recovered$X1.29.20), color=\"red\", size=2)\n",
    "  "
   ]
  },
  {
   "cell_type": "code",
   "execution_count": 982,
   "metadata": {},
   "outputs": [
    {
     "data": {
      "text/html": [
       "<table>\n",
       "<thead><tr><th></th><th scope=col>Province.State</th><th scope=col>Country.Region</th></tr></thead>\n",
       "<tbody>\n",
       "\t<tr><th scope=row>155</th><td>Hubei</td><td>China</td></tr>\n",
       "</tbody>\n",
       "</table>\n"
      ],
      "text/latex": [
       "\\begin{tabular}{r|ll}\n",
       "  & Province.State & Country.Region\\\\\n",
       "\\hline\n",
       "\t155 & Hubei & China\\\\\n",
       "\\end{tabular}\n"
      ],
      "text/markdown": [
       "\n",
       "| <!--/--> | Province.State | Country.Region |\n",
       "|---|---|---|\n",
       "| 155 | Hubei | China |\n",
       "\n"
      ],
      "text/plain": [
       "    Province.State Country.Region\n",
       "155 Hubei          China         "
      ]
     },
     "metadata": {},
     "output_type": "display_data"
    }
   ],
   "source": [
    "# Still, there are some outliers... in-fact it's the single point having a far greater value then others\n",
    "# Let's find it out:-\n",
    "\n",
    "check.Confirmed[which(check.Confirmed$X1.29.20 > 400), c(\"Province.State\", \"Country.Region\")]\n",
    "#check.Deaths[which(check.Deaths$X1.29.20 > 15), c(\"Province.State\", \"Country.Region\")]\n",
    "#check.Recovered[which(check.Recovered$X1.29.20 > 20), c(\"Province.State\", \"Country.Region\")]"
   ]
  },
  {
   "cell_type": "code",
   "execution_count": 983,
   "metadata": {},
   "outputs": [
    {
     "data": {
      "text/html": [
       "<table>\n",
       "<thead><tr><th></th><th scope=col>Date</th><th scope=col>With.Hubei</th><th scope=col>Without.Hubei</th></tr></thead>\n",
       "<tbody>\n",
       "\t<tr><th scope=row>49</th><td>X3.10.20</td><td>253.5824</td><td>108.7189</td></tr>\n",
       "\t<tr><th scope=row>50</th><td>X3.11.20</td><td>269.1563</td><td>124.2983</td></tr>\n",
       "\t<tr><th scope=row>51</th><td>X3.12.20</td><td>274.4625</td><td>129.5987</td></tr>\n",
       "\t<tr><th scope=row>52</th><td>X3.13.20</td><td>310.5567</td><td>165.7597</td></tr>\n",
       "\t<tr><th scope=row>53</th><td>X3.14.20</td><td>333.8865</td><td>189.1309</td></tr>\n",
       "\t<tr><th scope=row>54</th><td>X3.15.20</td><td>358.1949</td><td>213.4828</td></tr>\n",
       "\t<tr><th scope=row>55</th><td>X3.16.20</td><td>388.4154</td><td>243.7597</td></tr>\n",
       "\t<tr><th scope=row>56</th><td>X3.17.20</td><td>421.7794</td><td>277.1931</td></tr>\n",
       "\t<tr><th scope=row>57</th><td>X3.18.20</td><td>459.9315</td><td>315.4249</td></tr>\n",
       "\t<tr><th scope=row>58</th><td>X3.19.20</td><td>519.3191</td><td>374.9399</td></tr>\n",
       "</tbody>\n",
       "</table>\n"
      ],
      "text/latex": [
       "\\begin{tabular}{r|lll}\n",
       "  & Date & With.Hubei & Without.Hubei\\\\\n",
       "\\hline\n",
       "\t49 & X3.10.20 & 253.5824 & 108.7189\\\\\n",
       "\t50 & X3.11.20 & 269.1563 & 124.2983\\\\\n",
       "\t51 & X3.12.20 & 274.4625 & 129.5987\\\\\n",
       "\t52 & X3.13.20 & 310.5567 & 165.7597\\\\\n",
       "\t53 & X3.14.20 & 333.8865 & 189.1309\\\\\n",
       "\t54 & X3.15.20 & 358.1949 & 213.4828\\\\\n",
       "\t55 & X3.16.20 & 388.4154 & 243.7597\\\\\n",
       "\t56 & X3.17.20 & 421.7794 & 277.1931\\\\\n",
       "\t57 & X3.18.20 & 459.9315 & 315.4249\\\\\n",
       "\t58 & X3.19.20 & 519.3191 & 374.9399\\\\\n",
       "\\end{tabular}\n"
      ],
      "text/markdown": [
       "\n",
       "| <!--/--> | Date | With.Hubei | Without.Hubei |\n",
       "|---|---|---|---|\n",
       "| 49 | X3.10.20 | 253.5824 | 108.7189 |\n",
       "| 50 | X3.11.20 | 269.1563 | 124.2983 |\n",
       "| 51 | X3.12.20 | 274.4625 | 129.5987 |\n",
       "| 52 | X3.13.20 | 310.5567 | 165.7597 |\n",
       "| 53 | X3.14.20 | 333.8865 | 189.1309 |\n",
       "| 54 | X3.15.20 | 358.1949 | 213.4828 |\n",
       "| 55 | X3.16.20 | 388.4154 | 243.7597 |\n",
       "| 56 | X3.17.20 | 421.7794 | 277.1931 |\n",
       "| 57 | X3.18.20 | 459.9315 | 315.4249 |\n",
       "| 58 | X3.19.20 | 519.3191 | 374.9399 |\n",
       "\n"
      ],
      "text/plain": [
       "   Date     With.Hubei Without.Hubei\n",
       "49 X3.10.20 253.5824   108.7189     \n",
       "50 X3.11.20 269.1563   124.2983     \n",
       "51 X3.12.20 274.4625   129.5987     \n",
       "52 X3.13.20 310.5567   165.7597     \n",
       "53 X3.14.20 333.8865   189.1309     \n",
       "54 X3.15.20 358.1949   213.4828     \n",
       "55 X3.16.20 388.4154   243.7597     \n",
       "56 X3.17.20 421.7794   277.1931     \n",
       "57 X3.18.20 459.9315   315.4249     \n",
       "58 X3.19.20 519.3191   374.9399     "
      ]
     },
     "metadata": {},
     "output_type": "display_data"
    }
   ],
   "source": [
    "# Let's analyse in more better way\n",
    "# Here we are trying to compare the mean values of everyday, including and excluding Hubei province\n",
    "With.Hubei = as.numeric(apply(check.Confirmed[,5:ncol(check.Confirmed)], 2, mean))\n",
    "\n",
    "exceptHubei = check.Confirmed[ which(str_detect(check.Confirmed$Province.State, \"Hubei\", negate = T)), ]\n",
    "Without.Hubei = as.numeric(apply(exceptHubei[,5:ncol(exceptHubei)], 2, mean))\n",
    "\n",
    "# creating a dataframe for comperision\n",
    "Mean.Comparision.Table = data.frame(\n",
    "              \"Date\" = as.character(colnames(check.Confirmed)[5:ncol(check.Confirmed)]),\n",
    "              \"With Hubei\" = c(With.Hubei),\n",
    "              \"Without Hubei\" = c(Without.Hubei))\n",
    "\n",
    "tail(Mean.Comparision.Table, 10)"
   ]
  },
  {
   "cell_type": "code",
   "execution_count": 984,
   "metadata": {},
   "outputs": [],
   "source": [
    "# So hubei is the outlier..\n",
    "# from the world clouds (above), we know that the China is the most affected country by Coronavirus\n",
    "    # also, due to some prior informations, we are all aware that it was Wuhan (in Hubei province),\n",
    "        # from where the COVID-19 started to spread, rapidly\n",
    "\n",
    "# But befor we remove Hubei, we'd have to create a separate dataset to make a map-plot on the daily.\n",
    "# It means, we wanna plot all countries/regions that are affected on a perticular day\n",
    "# It gives us an idea that - among all the given countries, either we are going to plot a selected country on world-map, or not, for a specfic day\n",
    "# the factor on which basis we'll be deciding is - whether country has any comfirmed case till that day or not\n",
    "\n",
    "# So, We'd also need the Latitude and Longitude position for those country\n",
    "# And finally, we can roughly estimate that we can have only 2 choices for any region, say 0 & 1, such that:\n",
    "    # 0 -> don't plot on map, if it has no confirm cases i.e. val for total confirm case on that day are 0\n",
    "    # 1 -> plot on map, if it has some confirm cases i.e. there is at least 1 confirm case on that day\n",
    "# In this case, we need SCALING"
   ]
  },
  {
   "cell_type": "code",
   "execution_count": 985,
   "metadata": {},
   "outputs": [
    {
     "data": {
      "text/html": [
       "<table>\n",
       "<thead><tr><th scope=col>Province.State</th><th scope=col>Country.Region</th><th scope=col>Lat</th><th scope=col>Long</th><th scope=col>X1.22.20</th><th scope=col>X1.23.20</th><th scope=col>X1.24.20</th><th scope=col>X1.25.20</th><th scope=col>X1.26.20</th><th scope=col>X1.27.20</th><th scope=col>...</th><th scope=col>X3.10.20</th><th scope=col>X3.11.20</th><th scope=col>X3.12.20</th><th scope=col>X3.13.20</th><th scope=col>X3.14.20</th><th scope=col>X3.15.20</th><th scope=col>X3.16.20</th><th scope=col>X3.17.20</th><th scope=col>X3.18.20</th><th scope=col>X3.19.20</th></tr></thead>\n",
       "<tbody>\n",
       "\t<tr><td>Others          </td><td>Thailand        </td><td>15.0000         </td><td> 101.0000       </td><td>1               </td><td>1               </td><td>1               </td><td>1               </td><td>1               </td><td>1               </td><td>...             </td><td>1               </td><td>1               </td><td>1               </td><td>1               </td><td>1               </td><td>1               </td><td>1               </td><td>1               </td><td>1               </td><td>1               </td></tr>\n",
       "\t<tr><td>Others          </td><td>Japan           </td><td>36.0000         </td><td> 138.0000       </td><td>1               </td><td>1               </td><td>1               </td><td>1               </td><td>1               </td><td>1               </td><td>...             </td><td>1               </td><td>1               </td><td>1               </td><td>1               </td><td>1               </td><td>1               </td><td>1               </td><td>1               </td><td>1               </td><td>1               </td></tr>\n",
       "\t<tr><td>Others          </td><td>Singapore       </td><td> 1.2833         </td><td> 103.8333       </td><td>0               </td><td>1               </td><td>1               </td><td>1               </td><td>1               </td><td>1               </td><td>...             </td><td>1               </td><td>1               </td><td>1               </td><td>1               </td><td>1               </td><td>1               </td><td>1               </td><td>1               </td><td>1               </td><td>1               </td></tr>\n",
       "\t<tr><td>Others          </td><td>Nepal           </td><td>28.1667         </td><td>  84.2500       </td><td>0               </td><td>0               </td><td>0               </td><td>1               </td><td>1               </td><td>1               </td><td>...             </td><td>1               </td><td>1               </td><td>1               </td><td>1               </td><td>1               </td><td>1               </td><td>1               </td><td>1               </td><td>1               </td><td>1               </td></tr>\n",
       "\t<tr><td>Others          </td><td>Malaysia        </td><td> 2.5000         </td><td> 112.5000       </td><td>0               </td><td>0               </td><td>0               </td><td>1               </td><td>1               </td><td>1               </td><td>...             </td><td>1               </td><td>1               </td><td>1               </td><td>1               </td><td>1               </td><td>1               </td><td>1               </td><td>1               </td><td>1               </td><td>1               </td></tr>\n",
       "\t<tr><td>British Columbia</td><td>Canada          </td><td>49.2827         </td><td>-123.1207       </td><td>0               </td><td>0               </td><td>0               </td><td>0               </td><td>0               </td><td>0               </td><td>...             </td><td>1               </td><td>1               </td><td>1               </td><td>1               </td><td>1               </td><td>1               </td><td>1               </td><td>1               </td><td>1               </td><td>1               </td></tr>\n",
       "</tbody>\n",
       "</table>\n"
      ],
      "text/latex": [
       "\\begin{tabular}{r|llllllllllllllllllllllllllllllllllllllllllllllllllllllllllllll}\n",
       " Province.State & Country.Region & Lat & Long & X1.22.20 & X1.23.20 & X1.24.20 & X1.25.20 & X1.26.20 & X1.27.20 & ... & X3.10.20 & X3.11.20 & X3.12.20 & X3.13.20 & X3.14.20 & X3.15.20 & X3.16.20 & X3.17.20 & X3.18.20 & X3.19.20\\\\\n",
       "\\hline\n",
       "\t Others           & Thailand         & 15.0000          &  101.0000        & 1                & 1                & 1                & 1                & 1                & 1                & ...              & 1                & 1                & 1                & 1                & 1                & 1                & 1                & 1                & 1                & 1               \\\\\n",
       "\t Others           & Japan            & 36.0000          &  138.0000        & 1                & 1                & 1                & 1                & 1                & 1                & ...              & 1                & 1                & 1                & 1                & 1                & 1                & 1                & 1                & 1                & 1               \\\\\n",
       "\t Others           & Singapore        &  1.2833          &  103.8333        & 0                & 1                & 1                & 1                & 1                & 1                & ...              & 1                & 1                & 1                & 1                & 1                & 1                & 1                & 1                & 1                & 1               \\\\\n",
       "\t Others           & Nepal            & 28.1667          &   84.2500        & 0                & 0                & 0                & 1                & 1                & 1                & ...              & 1                & 1                & 1                & 1                & 1                & 1                & 1                & 1                & 1                & 1               \\\\\n",
       "\t Others           & Malaysia         &  2.5000          &  112.5000        & 0                & 0                & 0                & 1                & 1                & 1                & ...              & 1                & 1                & 1                & 1                & 1                & 1                & 1                & 1                & 1                & 1               \\\\\n",
       "\t British Columbia & Canada           & 49.2827          & -123.1207        & 0                & 0                & 0                & 0                & 0                & 0                & ...              & 1                & 1                & 1                & 1                & 1                & 1                & 1                & 1                & 1                & 1               \\\\\n",
       "\\end{tabular}\n"
      ],
      "text/markdown": [
       "\n",
       "| Province.State | Country.Region | Lat | Long | X1.22.20 | X1.23.20 | X1.24.20 | X1.25.20 | X1.26.20 | X1.27.20 | ... | X3.10.20 | X3.11.20 | X3.12.20 | X3.13.20 | X3.14.20 | X3.15.20 | X3.16.20 | X3.17.20 | X3.18.20 | X3.19.20 |\n",
       "|---|---|---|---|---|---|---|---|---|---|---|---|---|---|---|---|---|---|---|---|---|\n",
       "| Others           | Thailand         | 15.0000          |  101.0000        | 1                | 1                | 1                | 1                | 1                | 1                | ...              | 1                | 1                | 1                | 1                | 1                | 1                | 1                | 1                | 1                | 1                |\n",
       "| Others           | Japan            | 36.0000          |  138.0000        | 1                | 1                | 1                | 1                | 1                | 1                | ...              | 1                | 1                | 1                | 1                | 1                | 1                | 1                | 1                | 1                | 1                |\n",
       "| Others           | Singapore        |  1.2833          |  103.8333        | 0                | 1                | 1                | 1                | 1                | 1                | ...              | 1                | 1                | 1                | 1                | 1                | 1                | 1                | 1                | 1                | 1                |\n",
       "| Others           | Nepal            | 28.1667          |   84.2500        | 0                | 0                | 0                | 1                | 1                | 1                | ...              | 1                | 1                | 1                | 1                | 1                | 1                | 1                | 1                | 1                | 1                |\n",
       "| Others           | Malaysia         |  2.5000          |  112.5000        | 0                | 0                | 0                | 1                | 1                | 1                | ...              | 1                | 1                | 1                | 1                | 1                | 1                | 1                | 1                | 1                | 1                |\n",
       "| British Columbia | Canada           | 49.2827          | -123.1207        | 0                | 0                | 0                | 0                | 0                | 0                | ...              | 1                | 1                | 1                | 1                | 1                | 1                | 1                | 1                | 1                | 1                |\n",
       "\n"
      ],
      "text/plain": [
       "  Province.State   Country.Region Lat     Long      X1.22.20 X1.23.20 X1.24.20\n",
       "1 Others           Thailand       15.0000  101.0000 1        1        1       \n",
       "2 Others           Japan          36.0000  138.0000 1        1        1       \n",
       "3 Others           Singapore       1.2833  103.8333 0        1        1       \n",
       "4 Others           Nepal          28.1667   84.2500 0        0        0       \n",
       "5 Others           Malaysia        2.5000  112.5000 0        0        0       \n",
       "6 British Columbia Canada         49.2827 -123.1207 0        0        0       \n",
       "  X1.25.20 X1.26.20 X1.27.20 ... X3.10.20 X3.11.20 X3.12.20 X3.13.20 X3.14.20\n",
       "1 1        1        1        ... 1        1        1        1        1       \n",
       "2 1        1        1        ... 1        1        1        1        1       \n",
       "3 1        1        1        ... 1        1        1        1        1       \n",
       "4 1        1        1        ... 1        1        1        1        1       \n",
       "5 1        1        1        ... 1        1        1        1        1       \n",
       "6 0        0        0        ... 1        1        1        1        1       \n",
       "  X3.15.20 X3.16.20 X3.17.20 X3.18.20 X3.19.20\n",
       "1 1        1        1        1        1       \n",
       "2 1        1        1        1        1       \n",
       "3 1        1        1        1        1       \n",
       "4 1        1        1        1        1       \n",
       "5 1        1        1        1        1       \n",
       "6 1        1        1        1        1       "
      ]
     },
     "metadata": {},
     "output_type": "display_data"
    }
   ],
   "source": [
    "\n",
    "# Therefor, We're going to use Unit scaling to set all the values from 5th to last column\n",
    "# in UNIT SCALING, all the data has either 0 or 1 value\n",
    "\n",
    "ever.Affected = check.Confirmed\n",
    "\n",
    "# Unit scaling\n",
    "for (i in row.names(ever.Affected)) {\n",
    "  for (j in 5:ncol(ever.Affected)) {\n",
    "    if(ever.Affected[i,j] != 0)\n",
    "      ever.Affected[i,j] = 1\n",
    "  }\n",
    "}\n",
    "\n",
    "head(ever.Affected)\n"
   ]
  },
  {
   "cell_type": "code",
   "execution_count": 986,
   "metadata": {},
   "outputs": [],
   "source": [
    "# now we can remove Hubei as well from our dataset:\n",
    "Hubei.Confirmed = check.Confirmed[ which(str_detect(check.Confirmed$Province.State, \"Hubei\", negate = F)), ]\n",
    "check.Confirmed = check.Confirmed[ which(str_detect(check.Confirmed$Province.State, \"Hubei\", negate = T)), ]\n",
    "\n",
    "Hubei.Deaths = check.Deaths[ which(str_detect(check.Deaths$Province.State, \"Hubei\", negate = F)),]\n",
    "check.Deaths = check.Deaths[ which(str_detect(check.Deaths$Province.State, \"Hubei\", negate = T)), ]\n",
    "\n",
    "Hubei.Recovered = check.Recovered[ which(str_detect(check.Recovered$Province.State, \"Hubei\", negate = F)), ]\n",
    "check.Recovered = check.Recovered[ which(str_detect(check.Recovered$Province.State, \"Hubei\", negate = T)), ]\n",
    "\n",
    "\n",
    "## Rectifying Row sequences\n",
    "row.names(check.Confirmed) <- NULL\n",
    "row.names(check.Deaths) <- NULL\n",
    "row.names(check.Recovered) <- NULL"
   ]
  },
  {
   "cell_type": "code",
   "execution_count": 987,
   "metadata": {},
   "outputs": [
    {
     "name": "stdout",
     "output_type": "stream",
     "text": [
      "\n",
      "Earlier dimention: 467 X 62\n",
      "\n",
      "New dimention:  466 62"
     ]
    }
   ],
   "source": [
    "# Let's check the once dimention more\n",
    "\n",
    "# also checking dimention\n",
    "cat(\"\\nEarlier dimention: 467 X 62\\n\\n\")    # after removing Cruis Ship\n",
    "\n",
    "cat(\"New dimention: \", dim(check.Confirmed))"
   ]
  },
  {
   "cell_type": "code",
   "execution_count": 988,
   "metadata": {},
   "outputs": [
    {
     "data": {
      "image/png": "[encoded data removed]",
      "text/plain": [
       "plot without title"
      ]
     },
     "metadata": {
      "image/png": {
       "height": 420,
       "width": 420
      },
      "text/plain": {
       "height": 420,
       "width": 420
      }
     },
     "output_type": "display_data"
    }
   ],
   "source": [
    "# Let's visualize once more\n",
    "library(ggplot2)\n",
    "\n",
    "ggplot(check.Confirmed) +\n",
    "  geom_point(aes(x=check.Confirmed$Province.State, y=check.Confirmed$X1.29.20), color=\"red\", size=2)\n"
   ]
  },
  {
   "cell_type": "code",
   "execution_count": 989,
   "metadata": {},
   "outputs": [
    {
     "data": {
      "text/html": [
       "<table>\n",
       "<thead><tr><th></th><th scope=col>Province.State</th><th scope=col>Country.Region</th></tr></thead>\n",
       "<tbody>\n",
       "\t<tr><th scope=row>158</th><td>Guangdong</td><td>China    </td></tr>\n",
       "\t<tr><th scope=row>159</th><td>Henan    </td><td>China    </td></tr>\n",
       "\t<tr><th scope=row>160</th><td>Zhejiang </td><td>China    </td></tr>\n",
       "\t<tr><th scope=row>161</th><td>Hunan    </td><td>China    </td></tr>\n",
       "\t<tr><th scope=row>162</th><td>Anhui    </td><td>China    </td></tr>\n",
       "\t<tr><th scope=row>163</th><td>Jiangxi  </td><td>China    </td></tr>\n",
       "\t<tr><th scope=row>164</th><td>Shandong </td><td>China    </td></tr>\n",
       "\t<tr><th scope=row>166</th><td>Chongqing</td><td>China    </td></tr>\n",
       "\t<tr><th scope=row>167</th><td>Sichuan  </td><td>China    </td></tr>\n",
       "\t<tr><th scope=row>170</th><td>Beijing  </td><td>China    </td></tr>\n",
       "</tbody>\n",
       "</table>\n"
      ],
      "text/latex": [
       "\\begin{tabular}{r|ll}\n",
       "  & Province.State & Country.Region\\\\\n",
       "\\hline\n",
       "\t158 & Guangdong & China    \\\\\n",
       "\t159 & Henan     & China    \\\\\n",
       "\t160 & Zhejiang  & China    \\\\\n",
       "\t161 & Hunan     & China    \\\\\n",
       "\t162 & Anhui     & China    \\\\\n",
       "\t163 & Jiangxi   & China    \\\\\n",
       "\t164 & Shandong  & China    \\\\\n",
       "\t166 & Chongqing & China    \\\\\n",
       "\t167 & Sichuan   & China    \\\\\n",
       "\t170 & Beijing   & China    \\\\\n",
       "\\end{tabular}\n"
      ],
      "text/markdown": [
       "\n",
       "| <!--/--> | Province.State | Country.Region |\n",
       "|---|---|---|\n",
       "| 158 | Guangdong | China     |\n",
       "| 159 | Henan     | China     |\n",
       "| 160 | Zhejiang  | China     |\n",
       "| 161 | Hunan     | China     |\n",
       "| 162 | Anhui     | China     |\n",
       "| 163 | Jiangxi   | China     |\n",
       "| 164 | Shandong  | China     |\n",
       "| 166 | Chongqing | China     |\n",
       "| 167 | Sichuan   | China     |\n",
       "| 170 | Beijing   | China     |\n",
       "\n"
      ],
      "text/plain": [
       "    Province.State Country.Region\n",
       "158 Guangdong      China         \n",
       "159 Henan          China         \n",
       "160 Zhejiang       China         \n",
       "161 Hunan          China         \n",
       "162 Anhui          China         \n",
       "163 Jiangxi        China         \n",
       "164 Shandong       China         \n",
       "166 Chongqing      China         \n",
       "167 Sichuan        China         \n",
       "170 Beijing        China         "
      ]
     },
     "metadata": {},
     "output_type": "display_data"
    }
   ],
   "source": [
    "# Now it's better, still have some outliers\n",
    "\n",
    "# Let's find them out, too:-\n",
    "check.Confirmed[which(check.Confirmed$X1.29.20 > 100), c(\"Province.State\", \"Country.Region\")]"
   ]
  },
  {
   "cell_type": "code",
   "execution_count": 990,
   "metadata": {},
   "outputs": [
    {
     "data": {
      "text/html": [
       "<table>\n",
       "<thead><tr><th scope=col>Date</th><th scope=col>With.China</th><th scope=col>Without.China</th></tr></thead>\n",
       "<tbody>\n",
       "\t<tr><td>X1.22.20  </td><td>0.2381974 </td><td>0.01612903</td></tr>\n",
       "\t<tr><td>X1.23.20  </td><td>0.4506438 </td><td>0.02534562</td></tr>\n",
       "\t<tr><td>X1.24.20  </td><td>0.8412017 </td><td>0.04838710</td></tr>\n",
       "\t<tr><td>X1.25.20  </td><td>1.4442060 </td><td>0.06451613</td></tr>\n",
       "\t<tr><td>X1.26.20  </td><td>2.2746781 </td><td>0.09907834</td></tr>\n",
       "\t<tr><td>X1.27.20  </td><td>3.2274678 </td><td>0.11520737</td></tr>\n",
       "\t<tr><td>X1.28.20  </td><td>4.3433476 </td><td>0.15898618</td></tr>\n",
       "\t<tr><td>X1.29.20  </td><td>5.6051502 </td><td>0.18202765</td></tr>\n",
       "\t<tr><td>X1.30.20  </td><td>7.1480687 </td><td>0.21428571</td></tr>\n",
       "\t<tr><td>X1.31.20  </td><td>8.8454936 </td><td>0.29032258</td></tr>\n",
       "</tbody>\n",
       "</table>\n"
      ],
      "text/latex": [
       "\\begin{tabular}{r|lll}\n",
       " Date & With.China & Without.China\\\\\n",
       "\\hline\n",
       "\t X1.22.20   & 0.2381974  & 0.01612903\\\\\n",
       "\t X1.23.20   & 0.4506438  & 0.02534562\\\\\n",
       "\t X1.24.20   & 0.8412017  & 0.04838710\\\\\n",
       "\t X1.25.20   & 1.4442060  & 0.06451613\\\\\n",
       "\t X1.26.20   & 2.2746781  & 0.09907834\\\\\n",
       "\t X1.27.20   & 3.2274678  & 0.11520737\\\\\n",
       "\t X1.28.20   & 4.3433476  & 0.15898618\\\\\n",
       "\t X1.29.20   & 5.6051502  & 0.18202765\\\\\n",
       "\t X1.30.20   & 7.1480687  & 0.21428571\\\\\n",
       "\t X1.31.20   & 8.8454936  & 0.29032258\\\\\n",
       "\\end{tabular}\n"
      ],
      "text/markdown": [
       "\n",
       "| Date | With.China | Without.China |\n",
       "|---|---|---|\n",
       "| X1.22.20   | 0.2381974  | 0.01612903 |\n",
       "| X1.23.20   | 0.4506438  | 0.02534562 |\n",
       "| X1.24.20   | 0.8412017  | 0.04838710 |\n",
       "| X1.25.20   | 1.4442060  | 0.06451613 |\n",
       "| X1.26.20   | 2.2746781  | 0.09907834 |\n",
       "| X1.27.20   | 3.2274678  | 0.11520737 |\n",
       "| X1.28.20   | 4.3433476  | 0.15898618 |\n",
       "| X1.29.20   | 5.6051502  | 0.18202765 |\n",
       "| X1.30.20   | 7.1480687  | 0.21428571 |\n",
       "| X1.31.20   | 8.8454936  | 0.29032258 |\n",
       "\n"
      ],
      "text/plain": [
       "   Date     With.China Without.China\n",
       "1  X1.22.20 0.2381974  0.01612903   \n",
       "2  X1.23.20 0.4506438  0.02534562   \n",
       "3  X1.24.20 0.8412017  0.04838710   \n",
       "4  X1.25.20 1.4442060  0.06451613   \n",
       "5  X1.26.20 2.2746781  0.09907834   \n",
       "6  X1.27.20 3.2274678  0.11520737   \n",
       "7  X1.28.20 4.3433476  0.15898618   \n",
       "8  X1.29.20 5.6051502  0.18202765   \n",
       "9  X1.30.20 7.1480687  0.21428571   \n",
       "10 X1.31.20 8.8454936  0.29032258   "
      ]
     },
     "metadata": {},
     "output_type": "display_data"
    }
   ],
   "source": [
    "# Checking for mean comperision\n",
    "With.China = as.numeric(apply(check.Confirmed[,5:ncol(check.Confirmed)], 2, mean))\n",
    "\n",
    "exceptChina = check.Confirmed[ which(str_detect(check.Confirmed$Country.Region, \"China\", negate = T)), ]\n",
    "Without.China = as.numeric(apply(exceptChina[,5:ncol(exceptChina)], 2, mean))\n",
    "\n",
    "# comperision\n",
    "Mean.Comparision.Table = data.frame(\n",
    "              \"Date\" = as.character(colnames(check.Confirmed)[5:ncol(check.Confirmed)]),\n",
    "              \"With China\" = c(With.China),\n",
    "              \"Without China\" = c(Without.China))\n",
    "\n",
    "head(Mean.Comparision.Table, 10)"
   ]
  },
  {
   "cell_type": "code",
   "execution_count": 991,
   "metadata": {},
   "outputs": [],
   "source": [
    "# And here we again see that the whole China is the outlier when we are dealing with the cases being reported around the world\n",
    "# Hence, still need to study China saperatly from rest of the world.\n",
    "\n",
    "# Yet, we'll do it later on."
   ]
  },
  {
   "cell_type": "code",
   "execution_count": 992,
   "metadata": {},
   "outputs": [
    {
     "data": {
      "text/html": [
       "<table>\n",
       "<thead><tr><th></th><th scope=col>Province.State</th><th scope=col>Country.Region</th><th scope=col>Lat</th><th scope=col>Long</th><th scope=col>X1.22.20</th><th scope=col>X1.23.20</th><th scope=col>X1.24.20</th><th scope=col>X1.25.20</th><th scope=col>X1.26.20</th><th scope=col>X1.27.20</th><th scope=col>...</th><th scope=col>X3.10.20</th><th scope=col>X3.11.20</th><th scope=col>X3.12.20</th><th scope=col>X3.13.20</th><th scope=col>X3.14.20</th><th scope=col>X3.15.20</th><th scope=col>X3.16.20</th><th scope=col>X3.17.20</th><th scope=col>X3.18.20</th><th scope=col>X3.19.20</th></tr></thead>\n",
       "<tbody>\n",
       "\t<tr><th scope=row>155</th><td>Hubei   </td><td>China   </td><td>30.9756 </td><td>112.2707</td><td>444     </td><td>444     </td><td>549     </td><td>761     </td><td>1058    </td><td>1423    </td><td>...     </td><td>67760   </td><td>67773   </td><td>67781   </td><td>67786   </td><td>67790   </td><td>67794   </td><td>67798   </td><td>67799   </td><td>67800   </td><td>67800   </td></tr>\n",
       "</tbody>\n",
       "</table>\n"
      ],
      "text/latex": [
       "\\begin{tabular}{r|llllllllllllllllllllllllllllllllllllllllllllllllllllllllllllll}\n",
       "  & Province.State & Country.Region & Lat & Long & X1.22.20 & X1.23.20 & X1.24.20 & X1.25.20 & X1.26.20 & X1.27.20 & ... & X3.10.20 & X3.11.20 & X3.12.20 & X3.13.20 & X3.14.20 & X3.15.20 & X3.16.20 & X3.17.20 & X3.18.20 & X3.19.20\\\\\n",
       "\\hline\n",
       "\t155 & Hubei    & China    & 30.9756  & 112.2707 & 444      & 444      & 549      & 761      & 1058     & 1423     & ...      & 67760    & 67773    & 67781    & 67786    & 67790    & 67794    & 67798    & 67799    & 67800    & 67800   \\\\\n",
       "\\end{tabular}\n"
      ],
      "text/markdown": [
       "\n",
       "| <!--/--> | Province.State | Country.Region | Lat | Long | X1.22.20 | X1.23.20 | X1.24.20 | X1.25.20 | X1.26.20 | X1.27.20 | ... | X3.10.20 | X3.11.20 | X3.12.20 | X3.13.20 | X3.14.20 | X3.15.20 | X3.16.20 | X3.17.20 | X3.18.20 | X3.19.20 |\n",
       "|---|---|---|---|---|---|---|---|---|---|---|---|---|---|---|---|---|---|---|---|---|---|\n",
       "| 155 | Hubei    | China    | 30.9756  | 112.2707 | 444      | 444      | 549      | 761      | 1058     | 1423     | ...      | 67760    | 67773    | 67781    | 67786    | 67790    | 67794    | 67798    | 67799    | 67800    | 67800    |\n",
       "\n"
      ],
      "text/plain": [
       "    Province.State Country.Region Lat     Long     X1.22.20 X1.23.20 X1.24.20\n",
       "155 Hubei          China          30.9756 112.2707 444      444      549     \n",
       "    X1.25.20 X1.26.20 X1.27.20 ... X3.10.20 X3.11.20 X3.12.20 X3.13.20 X3.14.20\n",
       "155 761      1058     1423     ... 67760    67773    67781    67786    67790   \n",
       "    X3.15.20 X3.16.20 X3.17.20 X3.18.20 X3.19.20\n",
       "155 67794    67798    67799    67800    67800   "
      ]
     },
     "metadata": {},
     "output_type": "display_data"
    }
   ],
   "source": [
    "Hubei.Confirmed"
   ]
  },
  {
   "cell_type": "markdown",
   "metadata": {},
   "source": [
    "<br />"
   ]
  },
  {
   "cell_type": "markdown",
   "metadata": {},
   "source": [
    "#### * Data transformation"
   ]
  },
  {
   "cell_type": "code",
   "execution_count": 993,
   "metadata": {},
   "outputs": [],
   "source": [
    "# We've already saved the cleaned version of the all the files\n",
    "# Loading the files in order to transform the dataset(s)\n",
    "\n",
    "# loading raw data - from source\n",
    "Confirmed = read.csv(\"Notebooks/syllabus/static/cleaned/time_series_19-covid-Confirmed.csv\")\n",
    "Deaths = read.csv(\"Notebooks/syllabus/static/cleaned/time_series_19-covid-Deaths.csv\")\n",
    "Recovered = read.csv(\"Notebooks/syllabus/static/cleaned/time_series_19-covid-Recovered.csv\")\n",
    "\n",
    "Hubei.Confirmed = read.csv(\"Notebooks/syllabus/static/cleaned/Hubei/time_series_19-covid-Confirmed.csv\")\n",
    "Hubei.Deaths = read.csv(\"Notebooks/syllabus/static/cleaned/Hubei/time_series_19-covid-Deaths.csv\")\n",
    "Hubei.Recovered = read.csv(\"Notebooks/syllabus/static/cleaned/Hubei/time_series_19-covid-Recovered.csv\")\n",
    "\n",
    "Diamond.Princess.Confirmed = read.csv(\"Notebooks/syllabus/static/cleaned/Diamond-Princess/time_series_19-covid-Confirmed.csv\")\n",
    "Diamond.Princess.Deaths = read.csv(\"Notebooks/syllabus/static/cleaned/Diamond-Princess/time_series_19-covid-Deaths.csv\")\n",
    "Diamond.Princess.Recovered = read.csv(\"Notebooks/syllabus/static/cleaned/Diamond-Princess/time_series_19-covid-Recovered.csv\")"
   ]
  },
  {
   "cell_type": "code",
   "execution_count": 995,
   "metadata": {
    "scrolled": false
   },
   "outputs": [
    {
     "name": "stdout",
     "output_type": "stream",
     "text": [
      "'data.frame':\t1 obs. of  62 variables:\n",
      " $ State         : Factor w/ 1 level \"Hubei\": 1\n",
      " $ Country.Region: Factor w/ 1 level \"China\": 1\n",
      " $ Lat           : num 31\n",
      " $ Long          : num 112\n",
      " $ X1.22.20      : int 28\n",
      " $ X1.23.20      : int 28\n",
      " $ X1.24.20      : int 31\n",
      " $ X1.25.20      : int 32\n",
      " $ X1.26.20      : int 42\n",
      " $ X1.27.20      : int 45\n",
      " $ X1.28.20      : int 80\n",
      " $ X1.29.20      : int 88\n",
      " $ X1.30.20      : int 90\n",
      " $ X1.31.20      : int 141\n",
      " $ X2.1.20       : int 168\n",
      " $ X2.2.20       : int 295\n",
      " $ X2.3.20       : int 386\n",
      " $ X2.4.20       : int 522\n",
      " $ X2.5.20       : int 633\n",
      " $ X2.6.20       : int 817\n",
      " $ X2.7.20       : int 1115\n",
      " $ X2.8.20       : int 1439\n",
      " $ X2.9.20       : int 1795\n",
      " $ X2.10.20      : int 2222\n",
      " $ X2.11.20      : int 2639\n",
      " $ X2.12.20      : int 2686\n",
      " $ X2.13.20      : int 3459\n",
      " $ X2.14.20      : int 4774\n",
      " $ X2.15.20      : int 5623\n",
      " $ X2.16.20      : int 6639\n",
      " $ X2.17.20      : int 7862\n",
      " $ X2.18.20      : int 9128\n",
      " $ X2.19.20      : int 10337\n",
      " $ X2.20.20      : int 11788\n",
      " $ X2.21.20      : int 11881\n",
      " $ X2.22.20      : int 15299\n",
      " $ X2.23.20      : int 15343\n",
      " $ X2.24.20      : int 16748\n",
      " $ X2.25.20      : int 18971\n",
      " $ X2.26.20      : int 20969\n",
      " $ X2.27.20      : int 23383\n",
      " $ X2.28.20      : int 26403\n",
      " $ X2.29.20      : int 28993\n",
      " $ X3.1.20       : int 31536\n",
      " $ X3.2.20       : int 33934\n",
      " $ X3.3.20       : int 36208\n",
      " $ X3.4.20       : int 38557\n",
      " $ X3.5.20       : int 40592\n",
      " $ X3.6.20       : int 42033\n",
      " $ X3.7.20       : int 43500\n",
      " $ X3.8.20       : int 45235\n",
      " $ X3.9.20       : int 46488\n",
      " $ X3.10.20      : int 47743\n",
      " $ X3.11.20      : int 49134\n",
      " $ X3.12.20      : int 50318\n",
      " $ X3.13.20      : int 51553\n",
      " $ X3.14.20      : int 52960\n",
      " $ X3.15.20      : int 54288\n",
      " $ X3.16.20      : int 55142\n",
      " $ X3.17.20      : int 56003\n",
      " $ X3.18.20      : int 56927\n",
      " $ X3.19.20      : int 57682\n"
     ]
    }
   ],
   "source": [
    "# as known, all of these files have same set of columns,\n",
    "# the only things that differ are data values in dates' columns\n",
    "\n",
    "# Let's see any one dataset's structure (as all are similer)\n",
    "str(Hubei.Recovered)"
   ]
  },
  {
   "cell_type": "code",
   "execution_count": 996,
   "metadata": {},
   "outputs": [],
   "source": [
    "# Now, recalling the Problem Statment, we aim to find out the status of COVID-19, within next 10 days\n",
    "# In order to do so, we need to analyse the status of COVID-19 on all the previous days\n",
    "\n",
    "# What would tell us?\n",
    "    # By this, we'd be capable enough to make an estimate by what RATE the Coroavirus is spreading since late January\n",
    "    # Hence, we need to transform the data in order:"
   ]
  },
  {
   "cell_type": "code",
   "execution_count": 997,
   "metadata": {},
   "outputs": [],
   "source": [
    "### 1. such that rows hold every country's data, instead of State wise\n",
    "### 2. to arrange datasets datewise"
   ]
  },
  {
   "cell_type": "code",
   "execution_count": 998,
   "metadata": {},
   "outputs": [
    {
     "data": {
      "text/html": [
       "<table>\n",
       "<thead><tr><th></th><th scope=col>Province.State</th><th scope=col>Country.Region</th><th scope=col>Lat</th><th scope=col>Long</th><th scope=col>X1.22.20</th><th scope=col>X1.23.20</th><th scope=col>X1.24.20</th><th scope=col>X1.25.20</th><th scope=col>X1.26.20</th><th scope=col>X1.27.20</th><th scope=col>...</th><th scope=col>X3.10.20</th><th scope=col>X3.11.20</th><th scope=col>X3.12.20</th><th scope=col>X3.13.20</th><th scope=col>X3.14.20</th><th scope=col>X3.15.20</th><th scope=col>X3.16.20</th><th scope=col>X3.17.20</th><th scope=col>X3.18.20</th><th scope=col>X3.19.20</th></tr></thead>\n",
       "<tbody>\n",
       "\t<tr><th scope=row>461</th><td>New Caledonia </td><td>France        </td><td>-20.9043      </td><td>165.6180      </td><td>0             </td><td>0             </td><td>0             </td><td>0             </td><td>0             </td><td>0             </td><td>...           </td><td>0             </td><td>0             </td><td>0             </td><td>0             </td><td>0             </td><td>0             </td><td>0             </td><td>0             </td><td>0             </td><td>2             </td></tr>\n",
       "\t<tr><th scope=row>462</th><td>Bermuda       </td><td>United Kingdom</td><td> 32.3078      </td><td>-64.7505      </td><td>0             </td><td>0             </td><td>0             </td><td>0             </td><td>0             </td><td>0             </td><td>...           </td><td>0             </td><td>0             </td><td>0             </td><td>0             </td><td>0             </td><td>0             </td><td>0             </td><td>0             </td><td>0             </td><td>2             </td></tr>\n",
       "\t<tr><th scope=row>463</th><td>Others        </td><td>Chad          </td><td> 15.4542      </td><td> 18.7322      </td><td>0             </td><td>0             </td><td>0             </td><td>0             </td><td>0             </td><td>0             </td><td>...           </td><td>0             </td><td>0             </td><td>0             </td><td>0             </td><td>0             </td><td>0             </td><td>0             </td><td>0             </td><td>0             </td><td>1             </td></tr>\n",
       "\t<tr><th scope=row>464</th><td>Others        </td><td>El Salvador   </td><td> 13.7942      </td><td>-88.8965      </td><td>0             </td><td>0             </td><td>0             </td><td>0             </td><td>0             </td><td>0             </td><td>...           </td><td>0             </td><td>0             </td><td>0             </td><td>0             </td><td>0             </td><td>0             </td><td>0             </td><td>0             </td><td>0             </td><td>1             </td></tr>\n",
       "\t<tr><th scope=row>465</th><td>Others        </td><td>Fiji          </td><td>-17.7134      </td><td>178.0650      </td><td>0             </td><td>0             </td><td>0             </td><td>0             </td><td>0             </td><td>0             </td><td>...           </td><td>0             </td><td>0             </td><td>0             </td><td>0             </td><td>0             </td><td>0             </td><td>0             </td><td>0             </td><td>0             </td><td>1             </td></tr>\n",
       "\t<tr><th scope=row>466</th><td>Others        </td><td>Nicaragua     </td><td> 12.8654      </td><td>-85.2072      </td><td>0             </td><td>0             </td><td>0             </td><td>0             </td><td>0             </td><td>0             </td><td>...           </td><td>0             </td><td>0             </td><td>0             </td><td>0             </td><td>0             </td><td>0             </td><td>0             </td><td>0             </td><td>0             </td><td>1             </td></tr>\n",
       "</tbody>\n",
       "</table>\n"
      ],
      "text/latex": [
       "\\begin{tabular}{r|llllllllllllllllllllllllllllllllllllllllllllllllllllllllllllll}\n",
       "  & Province.State & Country.Region & Lat & Long & X1.22.20 & X1.23.20 & X1.24.20 & X1.25.20 & X1.26.20 & X1.27.20 & ... & X3.10.20 & X3.11.20 & X3.12.20 & X3.13.20 & X3.14.20 & X3.15.20 & X3.16.20 & X3.17.20 & X3.18.20 & X3.19.20\\\\\n",
       "\\hline\n",
       "\t461 & New Caledonia  & France         & -20.9043       & 165.6180       & 0              & 0              & 0              & 0              & 0              & 0              & ...            & 0              & 0              & 0              & 0              & 0              & 0              & 0              & 0              & 0              & 2             \\\\\n",
       "\t462 & Bermuda        & United Kingdom &  32.3078       & -64.7505       & 0              & 0              & 0              & 0              & 0              & 0              & ...            & 0              & 0              & 0              & 0              & 0              & 0              & 0              & 0              & 0              & 2             \\\\\n",
       "\t463 & Others         & Chad           &  15.4542       &  18.7322       & 0              & 0              & 0              & 0              & 0              & 0              & ...            & 0              & 0              & 0              & 0              & 0              & 0              & 0              & 0              & 0              & 1             \\\\\n",
       "\t464 & Others         & El Salvador    &  13.7942       & -88.8965       & 0              & 0              & 0              & 0              & 0              & 0              & ...            & 0              & 0              & 0              & 0              & 0              & 0              & 0              & 0              & 0              & 1             \\\\\n",
       "\t465 & Others         & Fiji           & -17.7134       & 178.0650       & 0              & 0              & 0              & 0              & 0              & 0              & ...            & 0              & 0              & 0              & 0              & 0              & 0              & 0              & 0              & 0              & 1             \\\\\n",
       "\t466 & Others         & Nicaragua      &  12.8654       & -85.2072       & 0              & 0              & 0              & 0              & 0              & 0              & ...            & 0              & 0              & 0              & 0              & 0              & 0              & 0              & 0              & 0              & 1             \\\\\n",
       "\\end{tabular}\n"
      ],
      "text/markdown": [
       "\n",
       "| <!--/--> | Province.State | Country.Region | Lat | Long | X1.22.20 | X1.23.20 | X1.24.20 | X1.25.20 | X1.26.20 | X1.27.20 | ... | X3.10.20 | X3.11.20 | X3.12.20 | X3.13.20 | X3.14.20 | X3.15.20 | X3.16.20 | X3.17.20 | X3.18.20 | X3.19.20 |\n",
       "|---|---|---|---|---|---|---|---|---|---|---|---|---|---|---|---|---|---|---|---|---|---|\n",
       "| 461 | New Caledonia  | France         | -20.9043       | 165.6180       | 0              | 0              | 0              | 0              | 0              | 0              | ...            | 0              | 0              | 0              | 0              | 0              | 0              | 0              | 0              | 0              | 2              |\n",
       "| 462 | Bermuda        | United Kingdom |  32.3078       | -64.7505       | 0              | 0              | 0              | 0              | 0              | 0              | ...            | 0              | 0              | 0              | 0              | 0              | 0              | 0              | 0              | 0              | 2              |\n",
       "| 463 | Others         | Chad           |  15.4542       |  18.7322       | 0              | 0              | 0              | 0              | 0              | 0              | ...            | 0              | 0              | 0              | 0              | 0              | 0              | 0              | 0              | 0              | 1              |\n",
       "| 464 | Others         | El Salvador    |  13.7942       | -88.8965       | 0              | 0              | 0              | 0              | 0              | 0              | ...            | 0              | 0              | 0              | 0              | 0              | 0              | 0              | 0              | 0              | 1              |\n",
       "| 465 | Others         | Fiji           | -17.7134       | 178.0650       | 0              | 0              | 0              | 0              | 0              | 0              | ...            | 0              | 0              | 0              | 0              | 0              | 0              | 0              | 0              | 0              | 1              |\n",
       "| 466 | Others         | Nicaragua      |  12.8654       | -85.2072       | 0              | 0              | 0              | 0              | 0              | 0              | ...            | 0              | 0              | 0              | 0              | 0              | 0              | 0              | 0              | 0              | 1              |\n",
       "\n"
      ],
      "text/plain": [
       "    Province.State Country.Region Lat      Long     X1.22.20 X1.23.20 X1.24.20\n",
       "461 New Caledonia  France         -20.9043 165.6180 0        0        0       \n",
       "462 Bermuda        United Kingdom  32.3078 -64.7505 0        0        0       \n",
       "463 Others         Chad            15.4542  18.7322 0        0        0       \n",
       "464 Others         El Salvador     13.7942 -88.8965 0        0        0       \n",
       "465 Others         Fiji           -17.7134 178.0650 0        0        0       \n",
       "466 Others         Nicaragua       12.8654 -85.2072 0        0        0       \n",
       "    X1.25.20 X1.26.20 X1.27.20 ... X3.10.20 X3.11.20 X3.12.20 X3.13.20 X3.14.20\n",
       "461 0        0        0        ... 0        0        0        0        0       \n",
       "462 0        0        0        ... 0        0        0        0        0       \n",
       "463 0        0        0        ... 0        0        0        0        0       \n",
       "464 0        0        0        ... 0        0        0        0        0       \n",
       "465 0        0        0        ... 0        0        0        0        0       \n",
       "466 0        0        0        ... 0        0        0        0        0       \n",
       "    X3.15.20 X3.16.20 X3.17.20 X3.18.20 X3.19.20\n",
       "461 0        0        0        0        2       \n",
       "462 0        0        0        0        2       \n",
       "463 0        0        0        0        1       \n",
       "464 0        0        0        0        1       \n",
       "465 0        0        0        0        1       \n",
       "466 0        0        0        0        1       "
      ]
     },
     "metadata": {},
     "output_type": "display_data"
    },
    {
     "name": "stdout",
     "output_type": "stream",
     "text": [
      "146 / 466  States are NOT identified"
     ]
    }
   ],
   "source": [
    "# We need Countries' data:\n",
    "\n",
    "# It's because: many states have very few cases\n",
    "tail(Confirmed)\n",
    "\n",
    "# Most of the states' name is not identified\n",
    "unknown = nrow(Recovered[which(str_detect(Recovered$Province.State, \"Others\")),])\n",
    "cat(unknown, \"/\", nrow(Recovered), \" States are NOT identified\")\n",
    "\n",
    "# Ultimatly, any precaution/cure or action is more likely be taken onto the country level, rather than the individual state, as it's the case of a severe Epidemic\n",
    "# Only then it would be much easier for us to make any possible estimate for the world as well, due to not having really a huge data about each and every single state of the countries.\n",
    "\n",
    "# Also, there are some un-necessary columns i.e. States, Latitude& Longitude"
   ]
  },
  {
   "cell_type": "code",
   "execution_count": 999,
   "metadata": {},
   "outputs": [],
   "source": [
    "# Transforming the dataset to hold the countrywise data:"
   ]
  },
  {
   "cell_type": "code",
   "execution_count": 1000,
   "metadata": {},
   "outputs": [
    {
     "data": {
      "text/html": [
       "153"
      ],
      "text/latex": [
       "153"
      ],
      "text/markdown": [
       "153"
      ],
      "text/plain": [
       "[1] 153"
      ]
     },
     "metadata": {},
     "output_type": "display_data"
    },
    {
     "data": {
      "text/html": [
       "<table>\n",
       "<tbody>\n",
       "\t<tr><td>Afghanistan        </td></tr>\n",
       "\t<tr><td>Albania            </td></tr>\n",
       "\t<tr><td>Algeria            </td></tr>\n",
       "\t<tr><td>Andorra            </td></tr>\n",
       "\t<tr><td>Antigua and Barbuda</td></tr>\n",
       "</tbody>\n",
       "</table>\n"
      ],
      "text/latex": [
       "\\begin{tabular}{l}\n",
       "\t Afghanistan        \\\\\n",
       "\t Albania            \\\\\n",
       "\t Algeria            \\\\\n",
       "\t Andorra            \\\\\n",
       "\t Antigua and Barbuda\\\\\n",
       "\\end{tabular}\n"
      ],
      "text/markdown": [
       "\n",
       "| Afghanistan         |\n",
       "| Albania             |\n",
       "| Algeria             |\n",
       "| Andorra             |\n",
       "| Antigua and Barbuda |\n",
       "\n"
      ],
      "text/plain": [
       "     [,1]               \n",
       "[1,] Afghanistan        \n",
       "[2,] Albania            \n",
       "[3,] Algeria            \n",
       "[4,] Andorra            \n",
       "[5,] Antigua and Barbuda"
      ]
     },
     "metadata": {},
     "output_type": "display_data"
    }
   ],
   "source": [
    "# For this, we've to list those countries', who have reported Confirmed cases On the daily basis:\n",
    "# As we know that Country column is a **Factor**, hence it's an easy task. Therefor:\n",
    "\n",
    "Countries = levels(Confirmed$Country.Region)\n",
    "\n",
    "nlevels(Confirmed$Country.Region)     # total no. of affected countries\n",
    "head(as.matrix(Countries), 5)"
   ]
  },
  {
   "cell_type": "code",
   "execution_count": 1001,
   "metadata": {},
   "outputs": [],
   "source": [
    "## Functions\n",
    "\n",
    "\n",
    "# finds the total cases reported in given country \n",
    "    # (by Adding all the data of different states in it)\n",
    "country.aggregate.daily  <-  function(dfName, country) {\n",
    "  \n",
    "  df <- get(dfName)\n",
    "  df = df[which(str_detect(df$Country.Region, country)),]\n",
    "  df = cbind(States = df[,1], Country = df[,2], df[,5:ncol(df)])     # ELEMINATING LATITUDE/LONGITUDE Col.\n",
    "  \n",
    "  row.names(df) <- NULL    \n",
    "    \n",
    "  temp = df                                             # all states' data of a country\n",
    "  df = temp[1,] \n",
    "  \n",
    "  df[3:ncol(temp)] = apply(   temp[,3:ncol(temp)],\n",
    "                            2,\n",
    "                            sum\n",
    "                        )                               # applying sum of all the states' values\n",
    "  df = df[2:ncol(df)]                                   # removing column 'States'\n",
    "  \n",
    "  row.names(df) <- NULL\n",
    "  \n",
    "  return(df)\n",
    "}\n",
    "\n",
    "\n",
    "\n",
    "# generated a dataframe having required data arranged Country-Wise \n",
    "    # (by appending every single country's data)\n",
    "countries.daily <-  function(dfName, cList) {\n",
    "  \n",
    "  n = length(cList)       # number of countries\n",
    "  \n",
    "  flag = 0\n",
    "  \n",
    "  for (i in cList) {\n",
    "    \n",
    "    if(flag == 0) {\n",
    "      df = country.aggregate.daily(dfName, i)\n",
    "      flag = 1\n",
    "    } else {\n",
    "      temp = country.aggregate.daily(dfName, i)\n",
    "      df = rbind(df, temp)\n",
    "    }\n",
    "    \n",
    "  }\n",
    "  \n",
    "  row.names(df) <- NULL\n",
    "  \n",
    "  return(df)\n",
    "}"
   ]
  },
  {
   "cell_type": "code",
   "execution_count": 1002,
   "metadata": {},
   "outputs": [],
   "source": [
    "China.Confirmed = country.aggregate.daily(\"Confirmed\", \"China\")\n",
    "World.Confirmed = countries.daily(\"Confirmed\", Countries)\n",
    "\n",
    "#China\n",
    "#head(World)\n",
    "\n",
    "China.Deaths = country.aggregate.daily(\"Deaths\", \"China\")\n",
    "World.Deaths = countries.daily(\"Deaths\", Countries)\n",
    "China.Recovered = country.aggregate.daily(\"Recovered\", \"China\")\n",
    "World.Recovered = countries.daily(\"Recovered\", Countries)"
   ]
  },
  {
   "cell_type": "code",
   "execution_count": 1003,
   "metadata": {},
   "outputs": [],
   "source": [
    "## Now we are good to move to our 2nd step"
   ]
  },
  {
   "cell_type": "code",
   "execution_count": 1004,
   "metadata": {},
   "outputs": [],
   "source": [
    "# We need datewise data:\n",
    "\n",
    "## It's so because, we aim to analyse data on the daily basis\n",
    "    #  hence we'd have to add another column \"Date\" or simply \"Day\" (to hold day-> 1, 2...)\n",
    "\n",
    "# in order to do so, we'd have to transform our data into Cross-sectional (China, Hubei & Diamond Princess) or \n",
    "    # Pooled data (Countries of world other than China)\n",
    "\n",
    "# Let's understand what a Cross-sectional & a Pooled data is:-\n",
    "    # > * **Cross-sectional data:** Data of one or more variables, collected at the same point in time. <br />\n",
    "    # > * **Pooled data:** A combination of time series data and cross-sectional data.<br />"
   ]
  },
  {
   "cell_type": "code",
   "execution_count": 1005,
   "metadata": {},
   "outputs": [],
   "source": [
    "# Let's do this transformation:-\n",
    "## Functions\n",
    "\n",
    "countries.daily.bulk.summary = function(cList) { # date wise country data\n",
    "  \n",
    "  # structure of resulting dataset (initially blank)\n",
    "  df <- data.frame(\n",
    "    Country = NULL,\n",
    "    Day = NULL,           # day no.\n",
    "    Date = NULL,\n",
    "    Confirmed = NULL,\n",
    "    Deaths = NULL,\n",
    "    Recovered = NULL\n",
    "  )\n",
    "  \n",
    "  # calculating all countries' data (date wise) through iteration\n",
    "  for(i in cList) {\n",
    "    this.one.confirmed = country.aggregate.daily(\"Confirmed\", i)\n",
    "    this.one.deaths = country.aggregate.daily(\"Deaths\", i)\n",
    "    this.one.recovered = country.aggregate.daily(\"Recovered\", i)\n",
    "    \n",
    "    times = ncol(this.one.confirmed)-1      # no. of days\n",
    "    day = 1:times\n",
    "    d = as.Date(\"21-01-2020\", format(c(\"%d-%m-%Y\")))\n",
    "    \n",
    "    date = as.character((day + d), format(c(\"%d-%m-%Y\")))      # its lenngth is equal to --> no. of days\n",
    "    date = factor(c(date), levels = date)\n",
    "    \n",
    "    #max(Deaths.temp[1,5:ncol(Deaths.temp)])\n",
    "    confirmed = as.numeric(this.one.confirmed[1,2:ncol(this.one.confirmed)])\n",
    "    \n",
    "    deaths = as.numeric(this.one.deaths[1,2:ncol(this.one.deaths)])\n",
    "    \n",
    "    recovered = as.numeric(this.one.recovered[1,2:ncol(this.one.recovered)])\n",
    "    \n",
    "    dataset <- data.frame(\n",
    "      Country = rep(i, times),\n",
    "      Day = factor(c(1:length(date)), levels = 1:length(date)),\n",
    "      Date = date,\n",
    "      Confirmed = confirmed,\n",
    "      Deaths = deaths,\n",
    "      Recovered = recovered\n",
    "    )\n",
    "    \n",
    "    # joining this country\n",
    "    df = rbind(df, dataset)\n",
    "  }\n",
    "  \n",
    "  \n",
    "  return(df)\n",
    "}\n"
   ]
  },
  {
   "cell_type": "code",
   "execution_count": 1006,
   "metadata": {},
   "outputs": [
    {
     "data": {
      "text/html": [
       "<table>\n",
       "<thead><tr><th scope=col>Country</th><th scope=col>Day</th><th scope=col>Date</th><th scope=col>Confirmed</th><th scope=col>Deaths</th><th scope=col>Recovered</th></tr></thead>\n",
       "<tbody>\n",
       "\t<tr><td>Afghanistan</td><td>1          </td><td>22-01-2020 </td><td>0          </td><td>0          </td><td>0          </td></tr>\n",
       "\t<tr><td>Afghanistan</td><td>2          </td><td>23-01-2020 </td><td>0          </td><td>0          </td><td>0          </td></tr>\n",
       "\t<tr><td>Afghanistan</td><td>3          </td><td>24-01-2020 </td><td>0          </td><td>0          </td><td>0          </td></tr>\n",
       "\t<tr><td>Afghanistan</td><td>4          </td><td>25-01-2020 </td><td>0          </td><td>0          </td><td>0          </td></tr>\n",
       "\t<tr><td>Afghanistan</td><td>5          </td><td>26-01-2020 </td><td>0          </td><td>0          </td><td>0          </td></tr>\n",
       "\t<tr><td>Afghanistan</td><td>6          </td><td>27-01-2020 </td><td>0          </td><td>0          </td><td>0          </td></tr>\n",
       "</tbody>\n",
       "</table>\n"
      ],
      "text/latex": [
       "\\begin{tabular}{r|llllll}\n",
       " Country & Day & Date & Confirmed & Deaths & Recovered\\\\\n",
       "\\hline\n",
       "\t Afghanistan & 1           & 22-01-2020  & 0           & 0           & 0          \\\\\n",
       "\t Afghanistan & 2           & 23-01-2020  & 0           & 0           & 0          \\\\\n",
       "\t Afghanistan & 3           & 24-01-2020  & 0           & 0           & 0          \\\\\n",
       "\t Afghanistan & 4           & 25-01-2020  & 0           & 0           & 0          \\\\\n",
       "\t Afghanistan & 5           & 26-01-2020  & 0           & 0           & 0          \\\\\n",
       "\t Afghanistan & 6           & 27-01-2020  & 0           & 0           & 0          \\\\\n",
       "\\end{tabular}\n"
      ],
      "text/markdown": [
       "\n",
       "| Country | Day | Date | Confirmed | Deaths | Recovered |\n",
       "|---|---|---|---|---|---|\n",
       "| Afghanistan | 1           | 22-01-2020  | 0           | 0           | 0           |\n",
       "| Afghanistan | 2           | 23-01-2020  | 0           | 0           | 0           |\n",
       "| Afghanistan | 3           | 24-01-2020  | 0           | 0           | 0           |\n",
       "| Afghanistan | 4           | 25-01-2020  | 0           | 0           | 0           |\n",
       "| Afghanistan | 5           | 26-01-2020  | 0           | 0           | 0           |\n",
       "| Afghanistan | 6           | 27-01-2020  | 0           | 0           | 0           |\n",
       "\n"
      ],
      "text/plain": [
       "  Country     Day Date       Confirmed Deaths Recovered\n",
       "1 Afghanistan 1   22-01-2020 0         0      0        \n",
       "2 Afghanistan 2   23-01-2020 0         0      0        \n",
       "3 Afghanistan 3   24-01-2020 0         0      0        \n",
       "4 Afghanistan 4   25-01-2020 0         0      0        \n",
       "5 Afghanistan 5   26-01-2020 0         0      0        \n",
       "6 Afghanistan 6   27-01-2020 0         0      0        "
      ]
     },
     "metadata": {},
     "output_type": "display_data"
    },
    {
     "data": {
      "text/html": [
       "<table>\n",
       "<thead><tr><th></th><th scope=col>Country</th><th scope=col>Day</th><th scope=col>Date</th><th scope=col>Confirmed</th><th scope=col>Deaths</th><th scope=col>Recovered</th><th scope=col>Active.Cases</th><th scope=col>Closed.Cases</th></tr></thead>\n",
       "<tbody>\n",
       "\t<tr><th scope=row>8869</th><td>Zambia    </td><td>53        </td><td>14-03-2020</td><td>0         </td><td>0         </td><td>0         </td><td>0         </td><td>0         </td></tr>\n",
       "\t<tr><th scope=row>8870</th><td>Zambia    </td><td>54        </td><td>15-03-2020</td><td>0         </td><td>0         </td><td>0         </td><td>0         </td><td>0         </td></tr>\n",
       "\t<tr><th scope=row>8871</th><td>Zambia    </td><td>55        </td><td>16-03-2020</td><td>0         </td><td>0         </td><td>0         </td><td>0         </td><td>0         </td></tr>\n",
       "\t<tr><th scope=row>8872</th><td>Zambia    </td><td>56        </td><td>17-03-2020</td><td>0         </td><td>0         </td><td>0         </td><td>0         </td><td>0         </td></tr>\n",
       "\t<tr><th scope=row>8873</th><td>Zambia    </td><td>57        </td><td>18-03-2020</td><td>2         </td><td>0         </td><td>0         </td><td>2         </td><td>0         </td></tr>\n",
       "\t<tr><th scope=row>8874</th><td>Zambia    </td><td>58        </td><td>19-03-2020</td><td>2         </td><td>0         </td><td>0         </td><td>2         </td><td>0         </td></tr>\n",
       "</tbody>\n",
       "</table>\n"
      ],
      "text/latex": [
       "\\begin{tabular}{r|llllllll}\n",
       "  & Country & Day & Date & Confirmed & Deaths & Recovered & Active.Cases & Closed.Cases\\\\\n",
       "\\hline\n",
       "\t8869 & Zambia     & 53         & 14-03-2020 & 0          & 0          & 0          & 0          & 0         \\\\\n",
       "\t8870 & Zambia     & 54         & 15-03-2020 & 0          & 0          & 0          & 0          & 0         \\\\\n",
       "\t8871 & Zambia     & 55         & 16-03-2020 & 0          & 0          & 0          & 0          & 0         \\\\\n",
       "\t8872 & Zambia     & 56         & 17-03-2020 & 0          & 0          & 0          & 0          & 0         \\\\\n",
       "\t8873 & Zambia     & 57         & 18-03-2020 & 2          & 0          & 0          & 2          & 0         \\\\\n",
       "\t8874 & Zambia     & 58         & 19-03-2020 & 2          & 0          & 0          & 2          & 0         \\\\\n",
       "\\end{tabular}\n"
      ],
      "text/markdown": [
       "\n",
       "| <!--/--> | Country | Day | Date | Confirmed | Deaths | Recovered | Active.Cases | Closed.Cases |\n",
       "|---|---|---|---|---|---|---|---|---|\n",
       "| 8869 | Zambia     | 53         | 14-03-2020 | 0          | 0          | 0          | 0          | 0          |\n",
       "| 8870 | Zambia     | 54         | 15-03-2020 | 0          | 0          | 0          | 0          | 0          |\n",
       "| 8871 | Zambia     | 55         | 16-03-2020 | 0          | 0          | 0          | 0          | 0          |\n",
       "| 8872 | Zambia     | 56         | 17-03-2020 | 0          | 0          | 0          | 0          | 0          |\n",
       "| 8873 | Zambia     | 57         | 18-03-2020 | 2          | 0          | 0          | 2          | 0          |\n",
       "| 8874 | Zambia     | 58         | 19-03-2020 | 2          | 0          | 0          | 2          | 0          |\n",
       "\n"
      ],
      "text/plain": [
       "     Country Day Date       Confirmed Deaths Recovered Active.Cases\n",
       "8869 Zambia  53  14-03-2020 0         0      0         0           \n",
       "8870 Zambia  54  15-03-2020 0         0      0         0           \n",
       "8871 Zambia  55  16-03-2020 0         0      0         0           \n",
       "8872 Zambia  56  17-03-2020 0         0      0         0           \n",
       "8873 Zambia  57  18-03-2020 2         0      0         2           \n",
       "8874 Zambia  58  19-03-2020 2         0      0         2           \n",
       "     Closed.Cases\n",
       "8869 0           \n",
       "8870 0           \n",
       "8871 0           \n",
       "8872 0           \n",
       "8873 0           \n",
       "8874 0           "
      ]
     },
     "metadata": {},
     "output_type": "display_data"
    }
   ],
   "source": [
    "bulk = countries.daily.bulk.summary(Countries)\n",
    "head(bulk)\n",
    "\n",
    "# For better analysis, let's add 2 more columns i.e.:\n",
    "    # Closed.Cases = consists all cases, that are Expired or Recovered\n",
    "    # Active.Cases = cases that are nither Expired or Recovered\n",
    "bulk$Active.Cases = bulk$Confirmed - (bulk$Deaths + bulk$Recovered)\n",
    "bulk$Closed.Cases = bulk$Deaths + bulk$Recovered\n",
    "tail(bulk)"
   ]
  },
  {
   "cell_type": "code",
   "execution_count": 1007,
   "metadata": {},
   "outputs": [
    {
     "name": "stdout",
     "output_type": "stream",
     "text": [
      "'data.frame':\t8874 obs. of  8 variables:\n",
      " $ Country     : Factor w/ 153 levels \"Afghanistan\",..: 1 1 1 1 1 1 1 1 1 1 ...\n",
      " $ Day         : Factor w/ 58 levels \"1\",\"2\",\"3\",\"4\",..: 1 2 3 4 5 6 7 8 9 10 ...\n",
      " $ Date        : Factor w/ 58 levels \"22-01-2020\",\"23-01-2020\",..: 1 2 3 4 5 6 7 8 9 10 ...\n",
      " $ Confirmed   : num  0 0 0 0 0 0 0 0 0 0 ...\n",
      " $ Deaths      : num  0 0 0 0 0 0 0 0 0 0 ...\n",
      " $ Recovered   : num  0 0 0 0 0 0 0 0 0 0 ...\n",
      " $ Active.Cases: num  0 0 0 0 0 0 0 0 0 0 ...\n",
      " $ Closed.Cases: num  0 0 0 0 0 0 0 0 0 0 ...\n"
     ]
    }
   ],
   "source": [
    "# Analysing the new Pooled data\n",
    "str(bulk)"
   ]
  },
  {
   "cell_type": "code",
   "execution_count": 1008,
   "metadata": {},
   "outputs": [],
   "source": [
    "# structure & scope of all the datasets explained\n",
    "\n",
    "\n",
    "# Explaination of this Pooled dataset\n",
    "    # Number of columns: 8\n",
    "    # i.e. all eight cols (explained)"
   ]
  },
  {
   "cell_type": "code",
   "execution_count": 1009,
   "metadata": {},
   "outputs": [],
   "source": [
    "# filtering out the China\n",
    "China.dataset = bulk[which(str_detect(bulk$Country, 'China')),]\n",
    "\n",
    "# World Pooled dataset (except china)\n",
    "bulk = bulk[which(str_detect(bulk$Country, 'China', negate=T)),] # updating bulk itself"
   ]
  },
  {
   "cell_type": "code",
   "execution_count": 1010,
   "metadata": {},
   "outputs": [
    {
     "data": {
      "text/html": [
       "<table>\n",
       "<thead><tr><th></th><th scope=col>Country</th><th scope=col>Day</th><th scope=col>Date</th><th scope=col>Confirmed</th><th scope=col>Deaths</th><th scope=col>Recovered</th><th scope=col>Active.Cases</th><th scope=col>Closed.Cases</th></tr></thead>\n",
       "<tbody>\n",
       "\t<tr><th scope=row>1741</th><td>China     </td><td>1         </td><td>22-01-2020</td><td> 104      </td><td>0         </td><td> 0        </td><td> 104      </td><td> 0        </td></tr>\n",
       "\t<tr><th scope=row>1742</th><td>China     </td><td>2         </td><td>23-01-2020</td><td> 199      </td><td>1         </td><td> 2        </td><td> 196      </td><td> 3        </td></tr>\n",
       "\t<tr><th scope=row>1743</th><td>China     </td><td>3         </td><td>24-01-2020</td><td> 371      </td><td>2         </td><td> 5        </td><td> 364      </td><td> 7        </td></tr>\n",
       "\t<tr><th scope=row>1744</th><td>China     </td><td>4         </td><td>25-01-2020</td><td> 645      </td><td>2         </td><td> 7        </td><td> 636      </td><td> 9        </td></tr>\n",
       "\t<tr><th scope=row>1745</th><td>China     </td><td>5         </td><td>26-01-2020</td><td>1017      </td><td>4         </td><td> 7        </td><td>1006      </td><td>11        </td></tr>\n",
       "\t<tr><th scope=row>1746</th><td>China     </td><td>6         </td><td>27-01-2020</td><td>1454      </td><td>6         </td><td>13        </td><td>1435      </td><td>19        </td></tr>\n",
       "</tbody>\n",
       "</table>\n"
      ],
      "text/latex": [
       "\\begin{tabular}{r|llllllll}\n",
       "  & Country & Day & Date & Confirmed & Deaths & Recovered & Active.Cases & Closed.Cases\\\\\n",
       "\\hline\n",
       "\t1741 & China      & 1          & 22-01-2020 &  104       & 0          &  0         &  104       &  0        \\\\\n",
       "\t1742 & China      & 2          & 23-01-2020 &  199       & 1          &  2         &  196       &  3        \\\\\n",
       "\t1743 & China      & 3          & 24-01-2020 &  371       & 2          &  5         &  364       &  7        \\\\\n",
       "\t1744 & China      & 4          & 25-01-2020 &  645       & 2          &  7         &  636       &  9        \\\\\n",
       "\t1745 & China      & 5          & 26-01-2020 & 1017       & 4          &  7         & 1006       & 11        \\\\\n",
       "\t1746 & China      & 6          & 27-01-2020 & 1454       & 6          & 13         & 1435       & 19        \\\\\n",
       "\\end{tabular}\n"
      ],
      "text/markdown": [
       "\n",
       "| <!--/--> | Country | Day | Date | Confirmed | Deaths | Recovered | Active.Cases | Closed.Cases |\n",
       "|---|---|---|---|---|---|---|---|---|\n",
       "| 1741 | China      | 1          | 22-01-2020 |  104       | 0          |  0         |  104       |  0         |\n",
       "| 1742 | China      | 2          | 23-01-2020 |  199       | 1          |  2         |  196       |  3         |\n",
       "| 1743 | China      | 3          | 24-01-2020 |  371       | 2          |  5         |  364       |  7         |\n",
       "| 1744 | China      | 4          | 25-01-2020 |  645       | 2          |  7         |  636       |  9         |\n",
       "| 1745 | China      | 5          | 26-01-2020 | 1017       | 4          |  7         | 1006       | 11         |\n",
       "| 1746 | China      | 6          | 27-01-2020 | 1454       | 6          | 13         | 1435       | 19         |\n",
       "\n"
      ],
      "text/plain": [
       "     Country Day Date       Confirmed Deaths Recovered Active.Cases\n",
       "1741 China   1   22-01-2020  104      0       0         104        \n",
       "1742 China   2   23-01-2020  199      1       2         196        \n",
       "1743 China   3   24-01-2020  371      2       5         364        \n",
       "1744 China   4   25-01-2020  645      2       7         636        \n",
       "1745 China   5   26-01-2020 1017      4       7        1006        \n",
       "1746 China   6   27-01-2020 1454      6      13        1435        \n",
       "     Closed.Cases\n",
       "1741  0          \n",
       "1742  3          \n",
       "1743  7          \n",
       "1744  9          \n",
       "1745 11          \n",
       "1746 19          "
      ]
     },
     "metadata": {},
     "output_type": "display_data"
    }
   ],
   "source": [
    "head(China.dataset)"
   ]
  },
  {
   "cell_type": "code",
   "execution_count": 1011,
   "metadata": {},
   "outputs": [],
   "source": [
    "# In the same manner, we create to datasets\n",
    "    # 1st: that holds the data of all the countries except Hubei in China\n",
    "    # 2nd: that holds whole data catagorised into four locations.\n",
    "        # these four locations are:\n",
    "            # 1. Diamond Princess (explaine --> before, 14th feb, it's 0, and dataafter that)\n",
    "            # 2. Hubei province (alone) same as Diamond Princess Cruise Ship\n",
    "            # 3. China alone data (Except Hubei province)\n",
    "            # 4. World (Except China), collectively\n",
    "\n",
    "# The 2nd type of dataset is very necessary because it consists of all the Outliers as well...\n",
    "\n",
    "# Actually, here we can take them into consideration because:\n",
    "    # 1. Here we are comparing them with the whole World's data collectivally\n",
    "    # 2. It's that kind of MEDICAL Data, where outliers can not be ignored! In-fact this single country and that ship are spreading the disease, rapidly.\n",
    "    # 3. This 2nd dataset alone keeps trak on the whole data, reported till the last date"
   ]
  },
  {
   "cell_type": "code",
   "execution_count": 1012,
   "metadata": {},
   "outputs": [],
   "source": [
    "## Load both datewise-datasets (world & FOUR)\n",
    "# includes data of all the countries\n",
    "all = read.csv('Notebooks/syllabus/static/pooled/countryWise_bulk_summary.csv')\n",
    "\n",
    "# includes data of four majour location\n",
    "four = read.csv('Notebooks/syllabus/static/pooled/Four_dataset_locationWise.csv')"
   ]
  },
  {
   "cell_type": "code",
   "execution_count": 1017,
   "metadata": {},
   "outputs": [
    {
     "name": "stdout",
     "output_type": "stream",
     "text": [
      "'data.frame':\t8874 obs. of  8 variables:\n",
      " $ Country     : Factor w/ 153 levels \"Afghanistan\",..: 1 1 1 1 1 1 1 1 1 1 ...\n",
      " $ Day         : int  1 2 3 4 5 6 7 8 9 10 ...\n",
      " $ Date        : Factor w/ 58 levels \"01-02-2020\",\"01-03-2020\",..: 41 43 45 47 49 51 53 55 57 58 ...\n",
      " $ Confirmed   : int  0 0 0 0 0 0 0 0 0 0 ...\n",
      " $ Deaths      : int  0 0 0 0 0 0 0 0 0 0 ...\n",
      " $ Recovered   : int  0 0 0 0 0 0 0 0 0 0 ...\n",
      " $ Active.Cases: int  0 0 0 0 0 0 0 0 0 0 ...\n",
      " $ Closed.Cases: int  0 0 0 0 0 0 0 0 0 0 ...\n",
      "\n",
      "\n",
      "'data.frame':\t232 obs. of  8 variables:\n",
      " $ Location    : Factor w/ 4 levels \"China\",\"Diamond Princess\",..: 3 3 3 3 3 3 3 3 3 3 ...\n",
      " $ Day         : int  1 2 3 4 5 6 7 8 9 10 ...\n",
      " $ Date        : Factor w/ 58 levels \"01-02-2020\",\"01-03-2020\",..: 41 43 45 47 49 51 53 55 57 58 ...\n",
      " $ Confirmed   : int  444 444 549 761 1058 1423 3554 3554 4903 5806 ...\n",
      " $ Deaths      : int  17 17 24 40 52 76 125 125 162 204 ...\n",
      " $ Recovered   : int  28 28 31 32 42 45 80 88 90 141 ...\n",
      " $ Active.Cases: int  399 399 494 689 964 1302 3349 3341 4651 5461 ...\n",
      " $ Closed.Cases: int  45 45 55 72 94 121 205 213 252 345 ...\n"
     ]
    }
   ],
   "source": [
    "str(all)\n",
    "\n",
    "cat(\"\\n\\n\")\n",
    "\n",
    "str(four)"
   ]
  },
  {
   "cell_type": "code",
   "execution_count": 97,
   "metadata": {},
   "outputs": [],
   "source": [
    "# ***dataset.R***\n",
    "\n",
    "# ensuring the reusability of data (by saving)\n",
    "\n",
    "# Optional:-\n",
    "# saving and publishing the produced o/p or visuals"
   ]
  },
  {
   "cell_type": "markdown",
   "metadata": {},
   "source": [
    "<br />"
   ]
  },
  {
   "cell_type": "markdown",
   "metadata": {},
   "source": [
    "### * can include Text-Mining here -----> (CURRENTLY EXCLUDED)"
   ]
  },
  {
   "cell_type": "code",
   "execution_count": 61,
   "metadata": {},
   "outputs": [],
   "source": [
    "# OPTIONAL\n",
    "\n",
    "# choosing which data can be considered for the modeling and further analysis (country/world etc..   From word cloud)\n",
    "\n",
    "# verifying if the data is in required format or not --> (obviously it is, but proved)"
   ]
  },
  {
   "cell_type": "markdown",
   "metadata": {},
   "source": [
    "<br />"
   ]
  },
  {
   "cell_type": "markdown",
   "metadata": {},
   "source": [
    "## Modeling:"
   ]
  },
  {
   "cell_type": "code",
   "execution_count": 1018,
   "metadata": {},
   "outputs": [
    {
     "data": {
      "text/html": [
       "<table>\n",
       "<thead><tr><th scope=col>Country</th><th scope=col>Day</th><th scope=col>Date</th><th scope=col>Confirmed</th><th scope=col>Deaths</th><th scope=col>Recovered</th><th scope=col>Active.Cases</th><th scope=col>Closed.Cases</th></tr></thead>\n",
       "<tbody>\n",
       "\t<tr><td>Afghanistan</td><td>1          </td><td>22-01-2020 </td><td>0          </td><td>0          </td><td>0          </td><td>0          </td><td>0          </td></tr>\n",
       "\t<tr><td>Afghanistan</td><td>2          </td><td>23-01-2020 </td><td>0          </td><td>0          </td><td>0          </td><td>0          </td><td>0          </td></tr>\n",
       "\t<tr><td>Afghanistan</td><td>3          </td><td>24-01-2020 </td><td>0          </td><td>0          </td><td>0          </td><td>0          </td><td>0          </td></tr>\n",
       "\t<tr><td>Afghanistan</td><td>4          </td><td>25-01-2020 </td><td>0          </td><td>0          </td><td>0          </td><td>0          </td><td>0          </td></tr>\n",
       "\t<tr><td>Afghanistan</td><td>5          </td><td>26-01-2020 </td><td>0          </td><td>0          </td><td>0          </td><td>0          </td><td>0          </td></tr>\n",
       "\t<tr><td>Afghanistan</td><td>6          </td><td>27-01-2020 </td><td>0          </td><td>0          </td><td>0          </td><td>0          </td><td>0          </td></tr>\n",
       "</tbody>\n",
       "</table>\n"
      ],
      "text/latex": [
       "\\begin{tabular}{r|llllllll}\n",
       " Country & Day & Date & Confirmed & Deaths & Recovered & Active.Cases & Closed.Cases\\\\\n",
       "\\hline\n",
       "\t Afghanistan & 1           & 22-01-2020  & 0           & 0           & 0           & 0           & 0          \\\\\n",
       "\t Afghanistan & 2           & 23-01-2020  & 0           & 0           & 0           & 0           & 0          \\\\\n",
       "\t Afghanistan & 3           & 24-01-2020  & 0           & 0           & 0           & 0           & 0          \\\\\n",
       "\t Afghanistan & 4           & 25-01-2020  & 0           & 0           & 0           & 0           & 0          \\\\\n",
       "\t Afghanistan & 5           & 26-01-2020  & 0           & 0           & 0           & 0           & 0          \\\\\n",
       "\t Afghanistan & 6           & 27-01-2020  & 0           & 0           & 0           & 0           & 0          \\\\\n",
       "\\end{tabular}\n"
      ],
      "text/markdown": [
       "\n",
       "| Country | Day | Date | Confirmed | Deaths | Recovered | Active.Cases | Closed.Cases |\n",
       "|---|---|---|---|---|---|---|---|\n",
       "| Afghanistan | 1           | 22-01-2020  | 0           | 0           | 0           | 0           | 0           |\n",
       "| Afghanistan | 2           | 23-01-2020  | 0           | 0           | 0           | 0           | 0           |\n",
       "| Afghanistan | 3           | 24-01-2020  | 0           | 0           | 0           | 0           | 0           |\n",
       "| Afghanistan | 4           | 25-01-2020  | 0           | 0           | 0           | 0           | 0           |\n",
       "| Afghanistan | 5           | 26-01-2020  | 0           | 0           | 0           | 0           | 0           |\n",
       "| Afghanistan | 6           | 27-01-2020  | 0           | 0           | 0           | 0           | 0           |\n",
       "\n"
      ],
      "text/plain": [
       "  Country     Day Date       Confirmed Deaths Recovered Active.Cases\n",
       "1 Afghanistan 1   22-01-2020 0         0      0         0           \n",
       "2 Afghanistan 2   23-01-2020 0         0      0         0           \n",
       "3 Afghanistan 3   24-01-2020 0         0      0         0           \n",
       "4 Afghanistan 4   25-01-2020 0         0      0         0           \n",
       "5 Afghanistan 5   26-01-2020 0         0      0         0           \n",
       "6 Afghanistan 6   27-01-2020 0         0      0         0           \n",
       "  Closed.Cases\n",
       "1 0           \n",
       "2 0           \n",
       "3 0           \n",
       "4 0           \n",
       "5 0           \n",
       "6 0           "
      ]
     },
     "metadata": {},
     "output_type": "display_data"
    },
    {
     "data": {
      "text/html": [
       "<table>\n",
       "<thead><tr><th scope=col>Location</th><th scope=col>Day</th><th scope=col>Date</th><th scope=col>Confirmed</th><th scope=col>Deaths</th><th scope=col>Recovered</th><th scope=col>Active.Cases</th><th scope=col>Closed.Cases</th></tr></thead>\n",
       "<tbody>\n",
       "\t<tr><td>Hubei     </td><td>1         </td><td>22-01-2020</td><td> 444      </td><td>17        </td><td>28        </td><td> 399      </td><td> 45       </td></tr>\n",
       "\t<tr><td>Hubei     </td><td>2         </td><td>23-01-2020</td><td> 444      </td><td>17        </td><td>28        </td><td> 399      </td><td> 45       </td></tr>\n",
       "\t<tr><td>Hubei     </td><td>3         </td><td>24-01-2020</td><td> 549      </td><td>24        </td><td>31        </td><td> 494      </td><td> 55       </td></tr>\n",
       "\t<tr><td>Hubei     </td><td>4         </td><td>25-01-2020</td><td> 761      </td><td>40        </td><td>32        </td><td> 689      </td><td> 72       </td></tr>\n",
       "\t<tr><td>Hubei     </td><td>5         </td><td>26-01-2020</td><td>1058      </td><td>52        </td><td>42        </td><td> 964      </td><td> 94       </td></tr>\n",
       "\t<tr><td>Hubei     </td><td>6         </td><td>27-01-2020</td><td>1423      </td><td>76        </td><td>45        </td><td>1302      </td><td>121       </td></tr>\n",
       "</tbody>\n",
       "</table>\n"
      ],
      "text/latex": [
       "\\begin{tabular}{r|llllllll}\n",
       " Location & Day & Date & Confirmed & Deaths & Recovered & Active.Cases & Closed.Cases\\\\\n",
       "\\hline\n",
       "\t Hubei      & 1          & 22-01-2020 &  444       & 17         & 28         &  399       &  45       \\\\\n",
       "\t Hubei      & 2          & 23-01-2020 &  444       & 17         & 28         &  399       &  45       \\\\\n",
       "\t Hubei      & 3          & 24-01-2020 &  549       & 24         & 31         &  494       &  55       \\\\\n",
       "\t Hubei      & 4          & 25-01-2020 &  761       & 40         & 32         &  689       &  72       \\\\\n",
       "\t Hubei      & 5          & 26-01-2020 & 1058       & 52         & 42         &  964       &  94       \\\\\n",
       "\t Hubei      & 6          & 27-01-2020 & 1423       & 76         & 45         & 1302       & 121       \\\\\n",
       "\\end{tabular}\n"
      ],
      "text/markdown": [
       "\n",
       "| Location | Day | Date | Confirmed | Deaths | Recovered | Active.Cases | Closed.Cases |\n",
       "|---|---|---|---|---|---|---|---|\n",
       "| Hubei      | 1          | 22-01-2020 |  444       | 17         | 28         |  399       |  45        |\n",
       "| Hubei      | 2          | 23-01-2020 |  444       | 17         | 28         |  399       |  45        |\n",
       "| Hubei      | 3          | 24-01-2020 |  549       | 24         | 31         |  494       |  55        |\n",
       "| Hubei      | 4          | 25-01-2020 |  761       | 40         | 32         |  689       |  72        |\n",
       "| Hubei      | 5          | 26-01-2020 | 1058       | 52         | 42         |  964       |  94        |\n",
       "| Hubei      | 6          | 27-01-2020 | 1423       | 76         | 45         | 1302       | 121        |\n",
       "\n"
      ],
      "text/plain": [
       "  Location Day Date       Confirmed Deaths Recovered Active.Cases Closed.Cases\n",
       "1 Hubei    1   22-01-2020  444      17     28         399          45         \n",
       "2 Hubei    2   23-01-2020  444      17     28         399          45         \n",
       "3 Hubei    3   24-01-2020  549      24     31         494          55         \n",
       "4 Hubei    4   25-01-2020  761      40     32         689          72         \n",
       "5 Hubei    5   26-01-2020 1058      52     42         964          94         \n",
       "6 Hubei    6   27-01-2020 1423      76     45        1302         121         "
      ]
     },
     "metadata": {},
     "output_type": "display_data"
    }
   ],
   "source": [
    "# appending the %(Active/Closed) column(s)\n",
    "head(all)\n",
    "head(four)"
   ]
  },
  {
   "cell_type": "code",
   "execution_count": 1019,
   "metadata": {},
   "outputs": [],
   "source": [
    "\n",
    "# extracting the desired dataset\n",
    "extractDatases <- function(region){\n",
    "    if(region %in% c(\"Hubei\", \"World\", \"Diamond Princess\")) {\n",
    "    temp = four[which(str_detect(four$Location, region)),]\n",
    "    row.names(temp) <- NULL\n",
    "} else {\n",
    "    temp = all[which(str_detect(all$Country, region)),]\n",
    "    row.names(temp) <- NULL\n",
    "}\n",
    "\n",
    "return(temp)\n",
    "}\n"
   ]
  },
  {
   "cell_type": "code",
   "execution_count": 1021,
   "metadata": {},
   "outputs": [
    {
     "data": {
      "text/html": [
       "<table>\n",
       "<tbody>\n",
       "\t<tr><td>China           </td></tr>\n",
       "\t<tr><td>Diamond Princess</td></tr>\n",
       "\t<tr><td>Hubei           </td></tr>\n",
       "\t<tr><td>World           </td></tr>\n",
       "</tbody>\n",
       "</table>\n"
      ],
      "text/latex": [
       "\\begin{tabular}{l}\n",
       "\t China           \\\\\n",
       "\t Diamond Princess\\\\\n",
       "\t Hubei           \\\\\n",
       "\t World           \\\\\n",
       "\\end{tabular}\n"
      ],
      "text/markdown": [
       "\n",
       "| China            |\n",
       "| Diamond Princess |\n",
       "| Hubei            |\n",
       "| World            |\n",
       "\n"
      ],
      "text/plain": [
       "     [,1]            \n",
       "[1,] China           \n",
       "[2,] Diamond Princess\n",
       "[3,] Hubei           \n",
       "[4,] World           "
      ]
     },
     "metadata": {},
     "output_type": "display_data"
    }
   ],
   "source": [
    "# country list\n",
    "countries = matrix(levels(as.factor(all$Country)))\n",
    "#head(countries, 10)\n",
    "\n",
    "# Four majour locations\n",
    "locations = matrix(levels(as.factor(four$Location)))\n",
    "#locations"
   ]
  },
  {
   "cell_type": "markdown",
   "metadata": {},
   "source": [
    "<br /> \n",
    "### Choosing desired Country/Region"
   ]
  },
  {
   "cell_type": "code",
   "execution_count": 1026,
   "metadata": {},
   "outputs": [],
   "source": [
    "# plot a word-cloud"
   ]
  },
  {
   "cell_type": "code",
   "execution_count": 1024,
   "metadata": {},
   "outputs": [],
   "source": [
    "# country i.e. to be used throughout the analysis\n",
    " rName = \"China\" # without hubei\n",
    "\n",
    "# some other possible values of rName:\n",
    "# 'World', 'Hubei', 'Diamond Cruise', 'Italy', 'Japan'.....etc"
   ]
  },
  {
   "cell_type": "code",
   "execution_count": 1025,
   "metadata": {},
   "outputs": [
    {
     "data": {
      "text/html": [
       "<table>\n",
       "<thead><tr><th scope=col>Country</th><th scope=col>Day</th><th scope=col>Date</th><th scope=col>Confirmed</th><th scope=col>Deaths</th><th scope=col>Recovered</th><th scope=col>Active.Cases</th><th scope=col>Closed.Cases</th></tr></thead>\n",
       "<tbody>\n",
       "\t<tr><td>China     </td><td>1         </td><td>22-01-2020</td><td> 104      </td><td>0         </td><td> 0        </td><td> 104      </td><td> 0        </td></tr>\n",
       "\t<tr><td>China     </td><td>2         </td><td>23-01-2020</td><td> 199      </td><td>1         </td><td> 2        </td><td> 196      </td><td> 3        </td></tr>\n",
       "\t<tr><td>China     </td><td>3         </td><td>24-01-2020</td><td> 371      </td><td>2         </td><td> 5        </td><td> 364      </td><td> 7        </td></tr>\n",
       "\t<tr><td>China     </td><td>4         </td><td>25-01-2020</td><td> 645      </td><td>2         </td><td> 7        </td><td> 636      </td><td> 9        </td></tr>\n",
       "\t<tr><td>China     </td><td>5         </td><td>26-01-2020</td><td>1017      </td><td>4         </td><td> 7        </td><td>1006      </td><td>11        </td></tr>\n",
       "\t<tr><td>China     </td><td>6         </td><td>27-01-2020</td><td>1454      </td><td>6         </td><td>13        </td><td>1435      </td><td>19        </td></tr>\n",
       "</tbody>\n",
       "</table>\n"
      ],
      "text/latex": [
       "\\begin{tabular}{r|llllllll}\n",
       " Country & Day & Date & Confirmed & Deaths & Recovered & Active.Cases & Closed.Cases\\\\\n",
       "\\hline\n",
       "\t China      & 1          & 22-01-2020 &  104       & 0          &  0         &  104       &  0        \\\\\n",
       "\t China      & 2          & 23-01-2020 &  199       & 1          &  2         &  196       &  3        \\\\\n",
       "\t China      & 3          & 24-01-2020 &  371       & 2          &  5         &  364       &  7        \\\\\n",
       "\t China      & 4          & 25-01-2020 &  645       & 2          &  7         &  636       &  9        \\\\\n",
       "\t China      & 5          & 26-01-2020 & 1017       & 4          &  7         & 1006       & 11        \\\\\n",
       "\t China      & 6          & 27-01-2020 & 1454       & 6          & 13         & 1435       & 19        \\\\\n",
       "\\end{tabular}\n"
      ],
      "text/markdown": [
       "\n",
       "| Country | Day | Date | Confirmed | Deaths | Recovered | Active.Cases | Closed.Cases |\n",
       "|---|---|---|---|---|---|---|---|\n",
       "| China      | 1          | 22-01-2020 |  104       | 0          |  0         |  104       |  0         |\n",
       "| China      | 2          | 23-01-2020 |  199       | 1          |  2         |  196       |  3         |\n",
       "| China      | 3          | 24-01-2020 |  371       | 2          |  5         |  364       |  7         |\n",
       "| China      | 4          | 25-01-2020 |  645       | 2          |  7         |  636       |  9         |\n",
       "| China      | 5          | 26-01-2020 | 1017       | 4          |  7         | 1006       | 11         |\n",
       "| China      | 6          | 27-01-2020 | 1454       | 6          | 13         | 1435       | 19         |\n",
       "\n"
      ],
      "text/plain": [
       "  Country Day Date       Confirmed Deaths Recovered Active.Cases Closed.Cases\n",
       "1 China   1   22-01-2020  104      0       0         104          0          \n",
       "2 China   2   23-01-2020  199      1       2         196          3          \n",
       "3 China   3   24-01-2020  371      2       5         364          7          \n",
       "4 China   4   25-01-2020  645      2       7         636          9          \n",
       "5 China   5   26-01-2020 1017      4       7        1006         11          \n",
       "6 China   6   27-01-2020 1454      6      13        1435         19          "
      ]
     },
     "metadata": {},
     "output_type": "display_data"
    }
   ],
   "source": [
    "# filtering out desired country/location \n",
    "region = extractDatases(rName)\n",
    "\n",
    "head(region)"
   ]
  },
  {
   "cell_type": "code",
   "execution_count": 1027,
   "metadata": {},
   "outputs": [
    {
     "data": {
      "text/html": [
       "<table>\n",
       "<thead><tr><th scope=col>Day</th><th scope=col>Confirmed</th><th scope=col>Deaths</th><th scope=col>Recovered</th><th scope=col>Active.Cases</th><th scope=col>Closed.Cases</th></tr></thead>\n",
       "<tbody>\n",
       "\t<tr><td> 1  </td><td> 104</td><td>0   </td><td> 0  </td><td> 104</td><td> 0  </td></tr>\n",
       "\t<tr><td> 2  </td><td> 199</td><td>1   </td><td> 2  </td><td> 196</td><td> 3  </td></tr>\n",
       "\t<tr><td> 3  </td><td> 371</td><td>2   </td><td> 5  </td><td> 364</td><td> 7  </td></tr>\n",
       "\t<tr><td> 4  </td><td> 645</td><td>2   </td><td> 7  </td><td> 636</td><td> 9  </td></tr>\n",
       "\t<tr><td> 5  </td><td>1017</td><td>4   </td><td> 7  </td><td>1006</td><td>11  </td></tr>\n",
       "\t<tr><td> 6  </td><td>1454</td><td>6   </td><td>13  </td><td>1435</td><td>19  </td></tr>\n",
       "\t<tr><td> 7  </td><td>1955</td><td>6   </td><td>21  </td><td>1928</td><td>27  </td></tr>\n",
       "\t<tr><td> 8  </td><td>2533</td><td>8   </td><td>32  </td><td>2493</td><td>40  </td></tr>\n",
       "\t<tr><td> 9  </td><td>3238</td><td>9   </td><td>45  </td><td>3184</td><td>54  </td></tr>\n",
       "\t<tr><td>10  </td><td>3996</td><td>9   </td><td>73  </td><td>3914</td><td>82  </td></tr>\n",
       "</tbody>\n",
       "</table>\n"
      ],
      "text/latex": [
       "\\begin{tabular}{r|llllll}\n",
       " Day & Confirmed & Deaths & Recovered & Active.Cases & Closed.Cases\\\\\n",
       "\\hline\n",
       "\t  1   &  104 & 0    &  0   &  104 &  0  \\\\\n",
       "\t  2   &  199 & 1    &  2   &  196 &  3  \\\\\n",
       "\t  3   &  371 & 2    &  5   &  364 &  7  \\\\\n",
       "\t  4   &  645 & 2    &  7   &  636 &  9  \\\\\n",
       "\t  5   & 1017 & 4    &  7   & 1006 & 11  \\\\\n",
       "\t  6   & 1454 & 6    & 13   & 1435 & 19  \\\\\n",
       "\t  7   & 1955 & 6    & 21   & 1928 & 27  \\\\\n",
       "\t  8   & 2533 & 8    & 32   & 2493 & 40  \\\\\n",
       "\t  9   & 3238 & 9    & 45   & 3184 & 54  \\\\\n",
       "\t 10   & 3996 & 9    & 73   & 3914 & 82  \\\\\n",
       "\\end{tabular}\n"
      ],
      "text/markdown": [
       "\n",
       "| Day | Confirmed | Deaths | Recovered | Active.Cases | Closed.Cases |\n",
       "|---|---|---|---|---|---|\n",
       "|  1   |  104 | 0    |  0   |  104 |  0   |\n",
       "|  2   |  199 | 1    |  2   |  196 |  3   |\n",
       "|  3   |  371 | 2    |  5   |  364 |  7   |\n",
       "|  4   |  645 | 2    |  7   |  636 |  9   |\n",
       "|  5   | 1017 | 4    |  7   | 1006 | 11   |\n",
       "|  6   | 1454 | 6    | 13   | 1435 | 19   |\n",
       "|  7   | 1955 | 6    | 21   | 1928 | 27   |\n",
       "|  8   | 2533 | 8    | 32   | 2493 | 40   |\n",
       "|  9   | 3238 | 9    | 45   | 3184 | 54   |\n",
       "| 10   | 3996 | 9    | 73   | 3914 | 82   |\n",
       "\n"
      ],
      "text/plain": [
       "   Day Confirmed Deaths Recovered Active.Cases Closed.Cases\n",
       "1   1   104      0       0         104          0          \n",
       "2   2   199      1       2         196          3          \n",
       "3   3   371      2       5         364          7          \n",
       "4   4   645      2       7         636          9          \n",
       "5   5  1017      4       7        1006         11          \n",
       "6   6  1454      6      13        1435         19          \n",
       "7   7  1955      6      21        1928         27          \n",
       "8   8  2533      8      32        2493         40          \n",
       "9   9  3238      9      45        3184         54          \n",
       "10 10  3996      9      73        3914         82          "
      ]
     },
     "metadata": {},
     "output_type": "display_data"
    }
   ],
   "source": [
    "region=region[,c(2, 4:8)]\n",
    "head(region, 10)"
   ]
  },
  {
   "cell_type": "code",
   "execution_count": 1028,
   "metadata": {},
   "outputs": [],
   "source": [
    "# calculate the percent (using Confirmed cases as total)\n",
    "percent <- function(dfName){\n",
    "    get(dfName) -> df\n",
    "    part <- NULL\n",
    "    \n",
    "    for(i in 1:nrow(df)) {\n",
    "        val = df[i,\"Active.Cases\"]\n",
    "        Total = df[i,\"Confirmed\"]\n",
    "        \n",
    "        \n",
    "        if(i == 1)\n",
    "            if(val==0)\n",
    "                part = 0\n",
    "            else\n",
    "                part = as.numeric((val*100)/Total)\n",
    "        else\n",
    "            if(val==0)\n",
    "                part = c(part, 0)\n",
    "            else\n",
    "                part <- c(part, as.numeric((val*100)/Total))\n",
    "    }\n",
    "        \n",
    "    return(part)\n",
    "}"
   ]
  },
  {
   "cell_type": "code",
   "execution_count": 1029,
   "metadata": {},
   "outputs": [],
   "source": [
    "# CASES -> percentage\n",
    "region$'percent_active' = percent(\"region\")     # Active cases, out of every 100 Confirmed cases\n",
    "region$'percent_closed' = 100-percent(\"region\") # Closed cases, out of every 100 Confirmed cases"
   ]
  },
  {
   "cell_type": "code",
   "execution_count": 1030,
   "metadata": {},
   "outputs": [
    {
     "data": {
      "text/html": [
       "<table>\n",
       "<thead><tr><th scope=col>Day</th><th scope=col>Confirmed</th><th scope=col>Deaths</th><th scope=col>Recovered</th><th scope=col>Active.Cases</th><th scope=col>Closed.Cases</th><th scope=col>percent_active</th><th scope=col>percent_closed</th></tr></thead>\n",
       "<tbody>\n",
       "\t<tr><td>1        </td><td> 104     </td><td>0        </td><td> 0       </td><td> 104     </td><td> 0       </td><td>100.00000</td><td>0.000000 </td></tr>\n",
       "\t<tr><td>2        </td><td> 199     </td><td>1        </td><td> 2       </td><td> 196     </td><td> 3       </td><td> 98.49246</td><td>1.507538 </td></tr>\n",
       "\t<tr><td>3        </td><td> 371     </td><td>2        </td><td> 5       </td><td> 364     </td><td> 7       </td><td> 98.11321</td><td>1.886792 </td></tr>\n",
       "\t<tr><td>4        </td><td> 645     </td><td>2        </td><td> 7       </td><td> 636     </td><td> 9       </td><td> 98.60465</td><td>1.395349 </td></tr>\n",
       "\t<tr><td>5        </td><td>1017     </td><td>4        </td><td> 7       </td><td>1006     </td><td>11       </td><td> 98.91839</td><td>1.081613 </td></tr>\n",
       "\t<tr><td>6        </td><td>1454     </td><td>6        </td><td>13       </td><td>1435     </td><td>19       </td><td> 98.69326</td><td>1.306740 </td></tr>\n",
       "</tbody>\n",
       "</table>\n"
      ],
      "text/latex": [
       "\\begin{tabular}{r|llllllll}\n",
       " Day & Confirmed & Deaths & Recovered & Active.Cases & Closed.Cases & percent\\_active & percent\\_closed\\\\\n",
       "\\hline\n",
       "\t 1         &  104      & 0         &  0        &  104      &  0        & 100.00000 & 0.000000 \\\\\n",
       "\t 2         &  199      & 1         &  2        &  196      &  3        &  98.49246 & 1.507538 \\\\\n",
       "\t 3         &  371      & 2         &  5        &  364      &  7        &  98.11321 & 1.886792 \\\\\n",
       "\t 4         &  645      & 2         &  7        &  636      &  9        &  98.60465 & 1.395349 \\\\\n",
       "\t 5         & 1017      & 4         &  7        & 1006      & 11        &  98.91839 & 1.081613 \\\\\n",
       "\t 6         & 1454      & 6         & 13        & 1435      & 19        &  98.69326 & 1.306740 \\\\\n",
       "\\end{tabular}\n"
      ],
      "text/markdown": [
       "\n",
       "| Day | Confirmed | Deaths | Recovered | Active.Cases | Closed.Cases | percent_active | percent_closed |\n",
       "|---|---|---|---|---|---|---|---|\n",
       "| 1         |  104      | 0         |  0        |  104      |  0        | 100.00000 | 0.000000  |\n",
       "| 2         |  199      | 1         |  2        |  196      |  3        |  98.49246 | 1.507538  |\n",
       "| 3         |  371      | 2         |  5        |  364      |  7        |  98.11321 | 1.886792  |\n",
       "| 4         |  645      | 2         |  7        |  636      |  9        |  98.60465 | 1.395349  |\n",
       "| 5         | 1017      | 4         |  7        | 1006      | 11        |  98.91839 | 1.081613  |\n",
       "| 6         | 1454      | 6         | 13        | 1435      | 19        |  98.69326 | 1.306740  |\n",
       "\n"
      ],
      "text/plain": [
       "  Day Confirmed Deaths Recovered Active.Cases Closed.Cases percent_active\n",
       "1 1    104      0       0         104          0           100.00000     \n",
       "2 2    199      1       2         196          3            98.49246     \n",
       "3 3    371      2       5         364          7            98.11321     \n",
       "4 4    645      2       7         636          9            98.60465     \n",
       "5 5   1017      4       7        1006         11            98.91839     \n",
       "6 6   1454      6      13        1435         19            98.69326     \n",
       "  percent_closed\n",
       "1 0.000000      \n",
       "2 1.507538      \n",
       "3 1.886792      \n",
       "4 1.395349      \n",
       "5 1.081613      \n",
       "6 1.306740      "
      ]
     },
     "metadata": {},
     "output_type": "display_data"
    }
   ],
   "source": [
    "head(region)"
   ]
  },
  {
   "cell_type": "code",
   "execution_count": 44,
   "metadata": {},
   "outputs": [],
   "source": [
    "# modeling and analysing the summary\n",
    "\n",
    "# Understanding the variation of timesirese-data with days"
   ]
  },
  {
   "cell_type": "code",
   "execution_count": 45,
   "metadata": {},
   "outputs": [],
   "source": [
    "# splitting data - explained\n",
    "# choosing an algo (logistic, NaiveBays etc...)"
   ]
  },
  {
   "cell_type": "code",
   "execution_count": null,
   "metadata": {},
   "outputs": [],
   "source": [
    "# choosing best degree for poly. regrassion"
   ]
  },
  {
   "cell_type": "markdown",
   "metadata": {},
   "source": [
    "## Evaluation:"
   ]
  },
  {
   "cell_type": "code",
   "execution_count": 46,
   "metadata": {},
   "outputs": [],
   "source": [
    "# training & testing the model\n",
    "# evaluation of model/algo"
   ]
  },
  {
   "cell_type": "code",
   "execution_count": null,
   "metadata": {},
   "outputs": [],
   "source": [
    "# comparision of different algo(s)\n",
    "# selecting best one"
   ]
  },
  {
   "cell_type": "markdown",
   "metadata": {},
   "source": [
    "<br />"
   ]
  },
  {
   "cell_type": "markdown",
   "metadata": {},
   "source": [
    "## Deployment:"
   ]
  },
  {
   "cell_type": "code",
   "execution_count": 54,
   "metadata": {},
   "outputs": [],
   "source": [
    "# real predictions\n",
    "# sharing the output of research (github etc..)"
   ]
  },
  {
   "cell_type": "code",
   "execution_count": 55,
   "metadata": {},
   "outputs": [],
   "source": [
    "# source, copyright and bibliograpgy/citation\n",
    "\n",
    "# Optional:-\n",
    "# thanksgiving"
   ]
  },
  {
   "cell_type": "markdown",
   "metadata": {},
   "source": [
    "<hr />"
   ]
  }
 ],
 "metadata": {
  "kernelspec": {
   "display_name": "R",
   "language": "R",
   "name": "ir"
  },
  "language_info": {
   "codemirror_mode": "r",
   "file_extension": ".r",
   "mimetype": "text/x-r-source",
   "name": "R",
   "pygments_lexer": "r",
   "version": "3.6.1"
  }
 },
 "nbformat": 4,
 "nbformat_minor": 2
}
