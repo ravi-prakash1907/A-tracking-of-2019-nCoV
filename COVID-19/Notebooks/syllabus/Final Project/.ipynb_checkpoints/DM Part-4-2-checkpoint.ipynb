{
 "cells": [
  {
   "cell_type": "markdown",
   "metadata": {},
   "source": [
    "We'll be comparing 4 regression algorithms including **SVMK** and **kNN**, although these two are mainly known for classification problems."
   ]
  },
  {
   "cell_type": "markdown",
   "metadata": {},
   "source": [
    "### 1. Support Vector Machine - Kernel Regression"
   ]
  },
  {
   "cell_type": "code",
   "execution_count": 1,
   "metadata": {},
   "outputs": [
    {
     "ename": "ERROR",
     "evalue": "Error in ksvm(percent_active ~ Day, train.data, kernel = \"rbfdot\"): could not find function \"ksvm\"\n",
     "output_type": "error",
     "traceback": [
      "Error in ksvm(percent_active ~ Day, train.data, kernel = \"rbfdot\"): could not find function \"ksvm\"\nTraceback:\n"
     ]
    }
   ],
   "source": [
    "# model\n",
    "fit.svmk <- ksvm(percent_active~Day, train.data, kernel=\"rbfdot\")\n",
    "#summary(fit.svmk)"
   ]
  },
  {
   "cell_type": "code",
   "execution_count": 2,
   "metadata": {},
   "outputs": [
    {
     "ename": "ERROR",
     "evalue": "Error in fit.svmk %>% predict(train.data): could not find function \"%>%\"\n",
     "output_type": "error",
     "traceback": [
      "Error in fit.svmk %>% predict(train.data): could not find function \"%>%\"\nTraceback:\n"
     ]
    }
   ],
   "source": [
    "predictions <- fit.svmk %>% predict(train.data)"
   ]
  },
  {
   "cell_type": "code",
   "execution_count": 3,
   "metadata": {},
   "outputs": [
    {
     "ename": "ERROR",
     "evalue": "Error in RMSE(predictions, train.data$Day): could not find function \"RMSE\"\n",
     "output_type": "error",
     "traceback": [
      "Error in RMSE(predictions, train.data$Day): could not find function \"RMSE\"\nTraceback:\n",
      "1. data.frame(RMSE = RMSE(predictions, train.data$Day), R2 = R2(predictions, \n .     train.data$Day))"
     ]
    }
   ],
   "source": [
    "# Model performance\n",
    "svm.predictions <- data.frame(\n",
    "  RMSE = RMSE(predictions, train.data$Day),\n",
    "  R2 = R2(predictions, train.data$Day)\n",
    ")"
   ]
  },
  {
   "cell_type": "code",
   "execution_count": 4,
   "metadata": {},
   "outputs": [
    {
     "ename": "ERROR",
     "evalue": "Error in cbind(train.data[, c(\"Day\", \"percent_active\")], Pridicted_percent_active = predict(fit.svmk, : object 'train.data' not found\n",
     "output_type": "error",
     "traceback": [
      "Error in cbind(train.data[, c(\"Day\", \"percent_active\")], Pridicted_percent_active = predict(fit.svmk, : object 'train.data' not found\nTraceback:\n",
      "1. cbind(train.data[, c(\"Day\", \"percent_active\")], Pridicted_percent_active = predict(fit.svmk, \n .     train.data))"
     ]
    }
   ],
   "source": [
    "svmk.trained = cbind( # Prediction for training data\n",
    "            train.data[,c(\"Day\", \"percent_active\")],\n",
    "            Pridicted_percent_active = predict(fit.svmk, train.data)\n",
    "          )\n",
    "\n",
    "svmk.tested = cbind(  # Prediction for tested data\n",
    "            test.data[,c(\"Day\", \"percent_active\")],\n",
    "            Pridicted_percent_active = predict(fit.svmk, test.data)\n",
    "         )\n",
    "\n",
    "\n",
    "tail(svmk.trained, 5)\n",
    "tail(svmk.tested, 5)"
   ]
  },
  {
   "cell_type": "code",
   "execution_count": 1,
   "metadata": {},
   "outputs": [
    {
     "ename": "ERROR",
     "evalue": "Error in ggplot(train.data, aes(Day, percent_active)): could not find function \"ggplot\"\n",
     "output_type": "error",
     "traceback": [
      "Error in ggplot(train.data, aes(Day, percent_active)): could not find function \"ggplot\"\nTraceback:\n"
     ]
    }
   ],
   "source": [
    "# Visualizations\n",
    "\n",
    "svmk.trainer <- ggplot(train.data, aes(Day, percent_active) ) +\n",
    "              geom_point() +\n",
    "              geom_smooth(data=svmk.trained, method=\"loess\", size=0) +\n",
    "              geom_line(data = svmk.trained, aes(Day, Pridicted_percent_active), color=\"#3366fe\", size=1) +   # polynomial function\n",
    "  \n",
    "              # decoration\n",
    "              labs( x = \"Days\", y = \"Active Cases (%)\", title = paste(\"\\nTraining plot\", rName, sep = \" - \") ) +\n",
    "              theme( plot.title = element_text(size = 20, face = \"bold\")) \n",
    "\n",
    "svmk.tester <- ggplot(test.data, aes(Day, percent_active) ) +\n",
    "              geom_point() +\n",
    "              geom_smooth(data=svmk.tested, method=\"loess\", size=0) +\n",
    "              geom_line(data = svmk.tested, aes(Day, Pridicted_percent_active), color=\"#3366fe\", size=1) +   # polynomial function\n",
    "  \n",
    "              # decoration\n",
    "              labs( x = \"Days\", y = \"Active Cases (%)\", title = paste(\"\\nTesting plot\", rName, sep = \" - \") ) +\n",
    "              theme( plot.title = element_text(size = 20, face = \"bold\")) \n",
    "\n"
   ]
  },
  {
   "cell_type": "code",
   "execution_count": 2,
   "metadata": {},
   "outputs": [
    {
     "ename": "ERROR",
     "evalue": "Error in eval(expr, envir, enclos): object 'svmk.trainer' not found\n",
     "output_type": "error",
     "traceback": [
      "Error in eval(expr, envir, enclos): object 'svmk.trainer' not found\nTraceback:\n"
     ]
    }
   ],
   "source": [
    "#  Plotting\n",
    "svmk.trainer\n",
    "svmk.tester"
   ]
  },
  {
   "cell_type": "markdown",
   "metadata": {},
   "source": [
    "<br /><br /> \n",
    "\n",
    "### 2. KNN Regression"
   ]
  },
  {
   "cell_type": "code",
   "execution_count": 3,
   "metadata": {},
   "outputs": [
    {
     "ename": "ERROR",
     "evalue": "Error in as.matrix(train.data[, 1]): object 'train.data' not found\n",
     "output_type": "error",
     "traceback": [
      "Error in as.matrix(train.data[, 1]): object 'train.data' not found\nTraceback:\n",
      "1. as.matrix(train.data[, 1])"
     ]
    }
   ],
   "source": [
    "x <- as.matrix(train.data[,1])\n",
    "y <- as.matrix(train.data[,7])\n",
    "\n",
    "# fit model\n",
    "fit.knn <- knnreg(x, y, k=3)\n",
    "#summary(fit.knn)"
   ]
  },
  {
   "cell_type": "code",
   "execution_count": 4,
   "metadata": {},
   "outputs": [
    {
     "ename": "ERROR",
     "evalue": "Error in fit.knn %>% predict(x): could not find function \"%>%\"\n",
     "output_type": "error",
     "traceback": [
      "Error in fit.knn %>% predict(x): could not find function \"%>%\"\nTraceback:\n"
     ]
    }
   ],
   "source": [
    "predictions <- fit.knn %>% predict(x)"
   ]
  },
  {
   "cell_type": "code",
   "execution_count": 5,
   "metadata": {},
   "outputs": [
    {
     "ename": "ERROR",
     "evalue": "Error in RMSE(predictions, x): could not find function \"RMSE\"\n",
     "output_type": "error",
     "traceback": [
      "Error in RMSE(predictions, x): could not find function \"RMSE\"\nTraceback:\n",
      "1. data.frame(RMSE = RMSE(predictions, x), R2 = R2(predictions, \n .     x))"
     ]
    }
   ],
   "source": [
    "knn.predictions <- data.frame(\n",
    "  RMSE = RMSE(predictions, x),\n",
    "  R2 = R2(predictions, x)\n",
    ")"
   ]
  },
  {
   "cell_type": "code",
   "execution_count": 10,
   "metadata": {},
   "outputs": [
    {
     "ename": "ERROR",
     "evalue": "Error in cbind(train.data[, c(\"Day\", \"percent_active\")], Pridicted_percent_active = predict(fit.knn, : object 'train.data' not found\n",
     "output_type": "error",
     "traceback": [
      "Error in cbind(train.data[, c(\"Day\", \"percent_active\")], Pridicted_percent_active = predict(fit.knn, : object 'train.data' not found\nTraceback:\n",
      "1. cbind(train.data[, c(\"Day\", \"percent_active\")], Pridicted_percent_active = predict(fit.knn, \n .     as.matrix(train.data[, 1])))"
     ]
    }
   ],
   "source": [
    "knn.trained = cbind( # Prediction for training data\n",
    "            train.data[,c(\"Day\", \"percent_active\")],\n",
    "            Pridicted_percent_active = predict(fit.knn, as.matrix(train.data[,1]))\n",
    "          )\n",
    "\n",
    "knn.tested = cbind(  # Prediction for tested data\n",
    "            test.data[,c(\"Day\", \"percent_active\")],\n",
    "            Pridicted_percent_active = predict(fit.knn, as.matrix(test.data[,1]))\n",
    "         )\n",
    "\n",
    "\n",
    "tail(knn.trained, 5)\n",
    "tail(knn.tested, 5)"
   ]
  },
  {
   "cell_type": "code",
   "execution_count": 11,
   "metadata": {},
   "outputs": [
    {
     "ename": "ERROR",
     "evalue": "Error in ggplot(train.data, aes(Day, percent_active)): could not find function \"ggplot\"\n",
     "output_type": "error",
     "traceback": [
      "Error in ggplot(train.data, aes(Day, percent_active)): could not find function \"ggplot\"\nTraceback:\n"
     ]
    }
   ],
   "source": [
    "# Visualizations\n",
    "knn.trainer <- ggplot(train.data, aes(Day, percent_active) ) +\n",
    "              geom_point() +\n",
    "              geom_smooth(data=knn.tested, method=\"loess\", size=0) +\n",
    "              geom_line(data = knn.trained, aes(Day, Pridicted_percent_active), color=\"#3366fe\", size=1) +   # polynomial function\n",
    "  \n",
    "              # decoration\n",
    "              labs( x = \"Days\", y = \"Active Cases (%)\", title = paste(\"\\nTraining plot\", rName, sep = \" - \") ) +\n",
    "              theme( plot.title = element_text(size = 20, face = \"bold\")) \n",
    "\n",
    "knn.tester <- ggplot(test.data, aes(Day, percent_active) ) +\n",
    "              geom_point() +\n",
    "              geom_smooth(data=knn.tested, method=\"loess\", size=0) +\n",
    "              geom_line(data = knn.tested, aes(Day, Pridicted_percent_active), color=\"#3366fe\", size=1) +   # polynomial function\n",
    "  \n",
    "              # decoration\n",
    "              labs( x = \"Days\", y = \"Active Cases (%)\", title = paste(\"\\nTesting plot\", rName, sep = \" - \") ) +\n",
    "              theme( plot.title = element_text(size = 20, face = \"bold\")) \n",
    "\n"
   ]
  },
  {
   "cell_type": "code",
   "execution_count": 12,
   "metadata": {},
   "outputs": [
    {
     "ename": "ERROR",
     "evalue": "Error in eval(expr, envir, enclos): object 'knn.trainer' not found\n",
     "output_type": "error",
     "traceback": [
      "Error in eval(expr, envir, enclos): object 'knn.trainer' not found\nTraceback:\n"
     ]
    }
   ],
   "source": [
    "# Plotting\n",
    "knn.trainer\n",
    "knn.tester"
   ]
  },
  {
   "cell_type": "markdown",
   "metadata": {},
   "source": [
    "<br /><br />\n",
    "\n",
    "### 3. Linear Regression"
   ]
  },
  {
   "cell_type": "code",
   "execution_count": 6,
   "metadata": {},
   "outputs": [
    {
     "ename": "ERROR",
     "evalue": "Error in is.data.frame(data): object 'train.data' not found\n",
     "output_type": "error",
     "traceback": [
      "Error in is.data.frame(data): object 'train.data' not found\nTraceback:\n",
      "1. lm(Day ~ percent_active, data = train.data)",
      "2. eval(mf, parent.frame())",
      "3. eval(mf, parent.frame())",
      "4. stats::model.frame(formula = Day ~ percent_active, data = train.data, \n .     drop.unused.levels = TRUE)",
      "5. model.frame.default(formula = Day ~ percent_active, data = train.data, \n .     drop.unused.levels = TRUE)",
      "6. is.data.frame(data)"
     ]
    }
   ],
   "source": [
    "# building linear model\n",
    "fit.lm = lm(Day ~ percent_active, data = train.data)\n",
    "#summary(fit.lm)"
   ]
  },
  {
   "cell_type": "code",
   "execution_count": 14,
   "metadata": {},
   "outputs": [
    {
     "ename": "ERROR",
     "evalue": "Error in fit.lm %>% predict(train.data): could not find function \"%>%\"\n",
     "output_type": "error",
     "traceback": [
      "Error in fit.lm %>% predict(train.data): could not find function \"%>%\"\nTraceback:\n"
     ]
    }
   ],
   "source": [
    "# Predicting\n",
    "predictions <- fit.lm %>% predict(train.data)"
   ]
  },
  {
   "cell_type": "code",
   "execution_count": 15,
   "metadata": {},
   "outputs": [
    {
     "ename": "ERROR",
     "evalue": "Error in RMSE(predictions, train.data$Day): could not find function \"RMSE\"\n",
     "output_type": "error",
     "traceback": [
      "Error in RMSE(predictions, train.data$Day): could not find function \"RMSE\"\nTraceback:\n",
      "1. data.frame(RMSE = RMSE(predictions, train.data$Day), R2 = R2(predictions, \n .     train.data$Day))"
     ]
    }
   ],
   "source": [
    "# Model performance\n",
    "lm.predictions <- data.frame(\n",
    "  RMSE = RMSE(predictions, train.data$Day),\n",
    "  R2 = R2(predictions, train.data$Day)\n",
    ")"
   ]
  },
  {
   "cell_type": "code",
   "execution_count": 16,
   "metadata": {},
   "outputs": [
    {
     "ename": "ERROR",
     "evalue": "Error in cbind(train.data[, c(\"Day\", \"percent_active\")], Pridicted_percent_active = predict(fit.lm, : object 'train.data' not found\n",
     "output_type": "error",
     "traceback": [
      "Error in cbind(train.data[, c(\"Day\", \"percent_active\")], Pridicted_percent_active = predict(fit.lm, : object 'train.data' not found\nTraceback:\n",
      "1. cbind(train.data[, c(\"Day\", \"percent_active\")], Pridicted_percent_active = predict(fit.lm, \n .     train.data))"
     ]
    }
   ],
   "source": [
    "lm.trained = cbind( # Prediction for training data\n",
    "            train.data[,c(\"Day\", \"percent_active\")],\n",
    "            Pridicted_percent_active = predict(fit.lm, train.data)\n",
    "          )\n",
    "\n",
    "lm.tested = cbind(  # Prediction for tested data\n",
    "            test.data[,c(\"Day\", \"percent_active\")],\n",
    "            Pridicted_percent_active = predict(fit.lm, test.data)\n",
    "         )\n",
    "\n",
    "\n",
    "tail(lm.trained, 5)\n",
    "tail(lm.tested, 5)"
   ]
  },
  {
   "cell_type": "code",
   "execution_count": 17,
   "metadata": {},
   "outputs": [
    {
     "ename": "ERROR",
     "evalue": "Error in ggplot(train.data, aes(Day, percent_active)): could not find function \"ggplot\"\n",
     "output_type": "error",
     "traceback": [
      "Error in ggplot(train.data, aes(Day, percent_active)): could not find function \"ggplot\"\nTraceback:\n"
     ]
    }
   ],
   "source": [
    "# Visualizations\n",
    "lm.trainer <- ggplot(train.data, aes(Day, percent_active) ) +\n",
    "              geom_point() +\n",
    "              stat_smooth(method = lm, formula = y ~ x) +   # linear function\n",
    "  \n",
    "              # decoration\n",
    "              labs( x = \"Days\", y = \"Active Cases (%)\", title = paste(\"\\nTraining plot\", rName, sep = \" - \") ) +\n",
    "              theme( plot.title = element_text(size = 20, face = \"bold\")) \n",
    "\n",
    "lm.tester <- ggplot(test.data, aes(Day, percent_active) ) +\n",
    "              geom_point() +\n",
    "              stat_smooth(method = lm, formula = y ~ x) +   # linear function\n",
    "  \n",
    "              # decoration\n",
    "              labs( x = \"Days\", y = \"Active Cases (%)\", title = paste(\"\\nTesting plot\", rName, sep = \" - \") ) +\n",
    "              theme( plot.title = element_text(size = 20, face = \"bold\")) "
   ]
  },
  {
   "cell_type": "code",
   "execution_count": null,
   "metadata": {},
   "outputs": [],
   "source": [
    "# Plotting\n",
    "lm.trainer\n",
    "lm.tester"
   ]
  },
  {
   "cell_type": "markdown",
   "metadata": {},
   "source": [
    "<br /><br />\n",
    "\n",
    "### 4. Polynomial regression\n",
    "\n",
    "Checking for the best degree.."
   ]
  },
  {
   "cell_type": "code",
   "execution_count": 7,
   "metadata": {},
   "outputs": [
    {
     "ename": "ERROR",
     "evalue": "Error in is.data.frame(data): object 'train.data' not found\n",
     "output_type": "error",
     "traceback": [
      "Error in is.data.frame(data): object 'train.data' not found\nTraceback:\n",
      "1. lm(percent_active ~ poly(Day, deg, raw = TRUE), data = train.data)",
      "2. eval(mf, parent.frame())",
      "3. eval(mf, parent.frame())",
      "4. stats::model.frame(formula = percent_active ~ poly(Day, deg, \n .     raw = TRUE), data = train.data, drop.unused.levels = TRUE)",
      "5. model.frame.default(formula = percent_active ~ poly(Day, deg, \n .     raw = TRUE), data = train.data, drop.unused.levels = TRUE)",
      "6. is.data.frame(data)"
     ]
    }
   ],
   "source": [
    "# Model performance\n",
    "plm.predictions = data.frame(\n",
    "  Degree = NULL,\n",
    "  RMSE = NULL,\n",
    "  RSE = NULL,\n",
    "  R2 = NULL\n",
    ")\n",
    "\n",
    "\n",
    "for(deg in 1:20){\n",
    "    \n",
    "    # building polynomial model\n",
    "    fit.plm = lm(percent_active ~ poly(Day, deg, raw = TRUE), data = train.data)\n",
    "    #summary(fit.plm)\n",
    "\n",
    "    \n",
    "    #Residual Standard error (Like Standard Deviation)\n",
    "    k=length(fit.plm$coefficients)-1\n",
    "    #Multiple R-Squared (Coefficient of Determination)\n",
    "    SSyy=sum((train.data$percent_active-mean(train.data$percent_active))**2)\n",
    "    \n",
    "    SSE=sum(fit.plm$residuals**2)\n",
    "    n=length(fit.plm$residuals)\n",
    "    \n",
    "    \n",
    "    # final\n",
    "    rmse = sqrt(SSE/(n-1))\n",
    "    rse = sqrt(SSE/(n-(1+k))) #Residual Standard Error\n",
    "    r2 = (SSyy-SSE)/SSyy\n",
    "    \n",
    "    temp <- data.frame(\n",
    "                        Degree = deg,\n",
    "                        RMSE = rmse,\n",
    "                        RSE = rse,\n",
    "                        R2 = r2\n",
    "                      )\n",
    "    \n",
    "    plm.predictions = rbind(plm.predictions, temp)\n",
    "}\n",
    "\n",
    "plm.predictions"
   ]
  },
  {
   "cell_type": "markdown",
   "metadata": {},
   "source": [
    "Form above, at around Degree 16, model attains R-Squared score = 0.999733, as well as the RMSE is also very low\n",
    "So we'd try taking degree = 16\n",
    "\n",
    "At **Degree = 16**\n",
    "> * R<sup>2</sup> = 0.999733\n",
    "> * RMSE = 0.5051696\n",
    "\n",
    "<br /> \n",
    "So, taking degree of polynomial regression as **16**"
   ]
  },
  {
   "cell_type": "code",
   "execution_count": 8,
   "metadata": {},
   "outputs": [],
   "source": [
    "deg = 16"
   ]
  },
  {
   "cell_type": "code",
   "execution_count": 21,
   "metadata": {},
   "outputs": [
    {
     "ename": "ERROR",
     "evalue": "Error in is.data.frame(data): object 'train.data' not found\n",
     "output_type": "error",
     "traceback": [
      "Error in is.data.frame(data): object 'train.data' not found\nTraceback:\n",
      "1. lm(percent_active ~ poly(Day, deg, raw = TRUE), data = train.data)",
      "2. eval(mf, parent.frame())",
      "3. eval(mf, parent.frame())",
      "4. stats::model.frame(formula = percent_active ~ poly(Day, deg, \n .     raw = TRUE), data = train.data, drop.unused.levels = TRUE)",
      "5. model.frame.default(formula = percent_active ~ poly(Day, deg, \n .     raw = TRUE), data = train.data, drop.unused.levels = TRUE)",
      "6. is.data.frame(data)"
     ]
    }
   ],
   "source": [
    "# building polynomial model\n",
    "fit.plm = lm(percent_active ~ poly(Day, deg, raw = TRUE), data = train.data)\n",
    "#summary(fit.plm)"
   ]
  },
  {
   "cell_type": "code",
   "execution_count": 22,
   "metadata": {},
   "outputs": [
    {
     "ename": "ERROR",
     "evalue": "Error in cbind(train.data[, c(\"Day\", \"percent_active\")], Pridicted_percent_active = predict(fit.plm, : object 'train.data' not found\n",
     "output_type": "error",
     "traceback": [
      "Error in cbind(train.data[, c(\"Day\", \"percent_active\")], Pridicted_percent_active = predict(fit.plm, : object 'train.data' not found\nTraceback:\n",
      "1. cbind(train.data[, c(\"Day\", \"percent_active\")], Pridicted_percent_active = predict(fit.plm, \n .     train.data))"
     ]
    }
   ],
   "source": [
    "plm.trained = cbind( # Prediction for training data\n",
    "            train.data[,c(\"Day\", \"percent_active\")],\n",
    "            Pridicted_percent_active = predict(fit.plm, train.data)  # predicting the values\n",
    "          )\n",
    "\n",
    "plm.tested = cbind(  # Prediction for tested data\n",
    "            test.data[,c(\"Day\", \"percent_active\")],\n",
    "            Pridicted_percent_active = predict(fit.plm, test.data)   # predicting the values\n",
    "         )\n",
    "\n",
    "\n",
    "tail(plm.trained, 5)\n",
    "tail(plm.tested, 5)"
   ]
  },
  {
   "cell_type": "code",
   "execution_count": 9,
   "metadata": {},
   "outputs": [
    {
     "ename": "ERROR",
     "evalue": "Error in ggplot(train.data, aes(Day, percent_active)): could not find function \"ggplot\"\n",
     "output_type": "error",
     "traceback": [
      "Error in ggplot(train.data, aes(Day, percent_active)): could not find function \"ggplot\"\nTraceback:\n"
     ]
    }
   ],
   "source": [
    "# Visualizations of the predictions for Training as well as Testing datasets to see fit\n",
    "plm.trainer <- ggplot(train.data, aes(Day, percent_active) ) +\n",
    "              geom_point() +\n",
    "              stat_smooth(method = lm, formula = y ~ poly(x, deg, raw = TRUE)) +   # polynomial function\n",
    "  \n",
    "              # decoration\n",
    "              labs( x = \"Days\", y = \"Active Cases (%)\", title = paste(\"\\nTraining plot\", rName, sep = \" - \") ) +\n",
    "              theme( plot.title = element_text(size = 20, face = \"bold\")) \n",
    "\n",
    "plm.tester <- ggplot(test.data, aes(Day, percent_active) ) +\n",
    "              geom_point() +\n",
    "              stat_smooth(method = lm, formula = y ~ poly(x, deg, raw = TRUE)) +   # polynomial function\n",
    "  \n",
    "              # decoration\n",
    "              labs( x = \"Days\", y = \"Active Cases (%)\", title = paste(\"\\nTesting plot\", rName, sep = \" - \") ) +\n",
    "              theme( plot.title = element_text(size = 20, face = \"bold\")) \n"
   ]
  },
  {
   "cell_type": "code",
   "execution_count": 24,
   "metadata": {},
   "outputs": [
    {
     "ename": "ERROR",
     "evalue": "Error in eval(expr, envir, enclos): object 'plm.trainer' not found\n",
     "output_type": "error",
     "traceback": [
      "Error in eval(expr, envir, enclos): object 'plm.trainer' not found\nTraceback:\n"
     ]
    }
   ],
   "source": [
    "# Plotting\n",
    "plm.trainer\n",
    "plm.tester"
   ]
  },
  {
   "cell_type": "markdown",
   "metadata": {},
   "source": [
    "<br /> \n",
    "<font size=\"3\">\n",
    "So we can see, here our model fits best for a polynomial regression having degree = 16<br />\n",
    "\n",
    "> We already have the data of **Day 59: i.e. 8.285436**<br />\n",
    "> To finalize the model, we will perform a final testing by predicting the Active Cases(%) for Day: 59, 60, 61\n",
    "\n",
    "</font>\n",
    "\n",
    "Creating A temporary dataset for this prediction"
   ]
  },
  {
   "cell_type": "code",
   "execution_count": 10,
   "metadata": {},
   "outputs": [
    {
     "data": {
      "text/html": [
       "<table>\n",
       "<thead><tr><th scope=col>Day</th><th scope=col>Confirmed</th><th scope=col>Deaths</th><th scope=col>Recovered</th><th scope=col>Active.Cases</th><th scope=col>Closed.Cases</th><th scope=col>percent_active</th><th scope=col>percent_closed</th></tr></thead>\n",
       "<tbody>\n",
       "\t<tr><td>59      </td><td>81251   </td><td>3253    </td><td>71266   </td><td>6732    </td><td>74519   </td><td>8.285436</td><td>91.7145 </td></tr>\n",
       "\t<tr><td>60      </td><td>  NaN   </td><td> NaN    </td><td>  NaN   </td><td> NaN    </td><td>  NaN   </td><td>     NaN</td><td>    NaN </td></tr>\n",
       "\t<tr><td>61      </td><td>  NaN   </td><td> NaN    </td><td>  NaN   </td><td> NaN    </td><td>  NaN   </td><td>     NaN</td><td>    NaN </td></tr>\n",
       "</tbody>\n",
       "</table>\n"
      ],
      "text/latex": [
       "\\begin{tabular}{r|llllllll}\n",
       " Day & Confirmed & Deaths & Recovered & Active.Cases & Closed.Cases & percent\\_active & percent\\_closed\\\\\n",
       "\\hline\n",
       "\t 59       & 81251    & 3253     & 71266    & 6732     & 74519    & 8.285436 & 91.7145 \\\\\n",
       "\t 60       &   NaN    &  NaN     &   NaN    &  NaN     &   NaN    &      NaN &     NaN \\\\\n",
       "\t 61       &   NaN    &  NaN     &   NaN    &  NaN     &   NaN    &      NaN &     NaN \\\\\n",
       "\\end{tabular}\n"
      ],
      "text/markdown": [
       "\n",
       "| Day | Confirmed | Deaths | Recovered | Active.Cases | Closed.Cases | percent_active | percent_closed |\n",
       "|---|---|---|---|---|---|---|---|\n",
       "| 59       | 81251    | 3253     | 71266    | 6732     | 74519    | 8.285436 | 91.7145  |\n",
       "| 60       |   NaN    |  NaN     |   NaN    |  NaN     |   NaN    |      NaN |     NaN  |\n",
       "| 61       |   NaN    |  NaN     |   NaN    |  NaN     |   NaN    |      NaN |     NaN  |\n",
       "\n"
      ],
      "text/plain": [
       "  Day Confirmed Deaths Recovered Active.Cases Closed.Cases percent_active\n",
       "1 59  81251     3253   71266     6732         74519        8.285436      \n",
       "2 60    NaN      NaN     NaN      NaN           NaN             NaN      \n",
       "3 61    NaN      NaN     NaN      NaN           NaN             NaN      \n",
       "  percent_closed\n",
       "1 91.7145       \n",
       "2     NaN       \n",
       "3     NaN       "
      ]
     },
     "metadata": {},
     "output_type": "display_data"
    }
   ],
   "source": [
    "# Available data for 59th day (i.e. 20-03-2020)\n",
    "temp.test = data.frame(\n",
    "                        Day = 59:61,\n",
    "                        Confirmed = c(81251, NaN, NaN),\n",
    "                        Deaths = c(3253, NaN, NaN),\n",
    "                        Recovered = c(71266, NaN, NaN),\n",
    "                        Active.Cases = c(6732, NaN, NaN),\n",
    "                        Closed.Cases = c(74519, NaN, NaN),\n",
    "                        percent_active =  c(8.285436, NaN, NaN),\n",
    "                        percent_closed = c(91.7145, NaN, NaN)\n",
    "                     )\n",
    "\n",
    "temp.test"
   ]
  },
  {
   "cell_type": "code",
   "execution_count": 26,
   "metadata": {},
   "outputs": [
    {
     "ename": "ERROR",
     "evalue": "Error in predict(fit.plm, temp.test): object 'fit.plm' not found\n",
     "output_type": "error",
     "traceback": [
      "Error in predict(fit.plm, temp.test): object 'fit.plm' not found\nTraceback:\n",
      "1. predict(fit.plm, temp.test)"
     ]
    }
   ],
   "source": [
    "# Now, we'll find the Active case(%) from all the four algorithms\n",
    "temp.required <- temp.test[,c(1, 7)]\n",
    "temp.required$\"Polynomial Model\" <- predict(fit.plm, temp.test)"
   ]
  },
  {
   "cell_type": "code",
   "execution_count": 27,
   "metadata": {},
   "outputs": [
    {
     "data": {
      "text/html": [
       "<table>\n",
       "<thead><tr><th scope=col>Day</th><th scope=col>percent_active</th></tr></thead>\n",
       "<tbody>\n",
       "\t<tr><td>59      </td><td>8.285436</td></tr>\n",
       "\t<tr><td>60      </td><td>     NaN</td></tr>\n",
       "\t<tr><td>61      </td><td>     NaN</td></tr>\n",
       "</tbody>\n",
       "</table>\n"
      ],
      "text/latex": [
       "\\begin{tabular}{r|ll}\n",
       " Day & percent\\_active\\\\\n",
       "\\hline\n",
       "\t 59       & 8.285436\\\\\n",
       "\t 60       &      NaN\\\\\n",
       "\t 61       &      NaN\\\\\n",
       "\\end{tabular}\n"
      ],
      "text/markdown": [
       "\n",
       "| Day | percent_active |\n",
       "|---|---|\n",
       "| 59       | 8.285436 |\n",
       "| 60       |      NaN |\n",
       "| 61       |      NaN |\n",
       "\n"
      ],
      "text/plain": [
       "  Day percent_active\n",
       "1 59  8.285436      \n",
       "2 60       NaN      \n",
       "3 61       NaN      "
      ]
     },
     "metadata": {},
     "output_type": "display_data"
    }
   ],
   "source": [
    "temp.required"
   ]
  },
  {
   "cell_type": "markdown",
   "metadata": {},
   "source": [
    "<br /> \n",
    "Here we see a <u>high rise in the predicted values of Active Case(%)</u>, which seems very strange because we already know that China has been very successful to have control over this epidemic.<br />\n",
    "* It means that - although our model fits best in this scenario, yet <u>there's some problem behind this sudden rise</u> in new Cases.<br /><br />\n",
    "\n",
    "### Then how our model fits so perfectly??\n",
    "> * Here comes the term: **Model Overfitting**!\n",
    "> * Because, we have trained our model to perform such a higher degree, it predicts almost the actual values.\n",
    "> * That's why, though our model fits very accurate on the training and testing (that has value of dependent variable belonging to the same domain i.e. **[1,58]**) \n",
    "    * Yet, whenever it gets any new value (60, 61..) due to **overfitting**, our model fails to give right prediction.\n",
    "    \n",
    "<br />\n",
    "\n",
    "<font size=\"3\">\n",
    "<u>In overfitting, a model works with almost 100% accuracy, but fails to give right output on unseen data.</u>\n",
    "</font>\n",
    "\n",
    "<br /><br /> \n",
    "Hence, we'll have to choose some other degree..<br />\n",
    "From the degree accuracy table (we generated early), having a look for **Degree = 11**"
   ]
  },
  {
   "cell_type": "code",
   "execution_count": 28,
   "metadata": {},
   "outputs": [
    {
     "data": {
      "text/html": [],
      "text/latex": [],
      "text/markdown": [],
      "text/plain": [
       "<0 x 0 matrix>"
      ]
     },
     "metadata": {},
     "output_type": "display_data"
    }
   ],
   "source": [
    "plm.predictions[which(plm.predictions$Degree == 11),]"
   ]
  },
  {
   "cell_type": "markdown",
   "metadata": {},
   "source": [
    "<br /> \n",
    "It seems a little better, so we'll choose 11 as our degree of polynomial regression."
   ]
  },
  {
   "cell_type": "code",
   "execution_count": 31,
   "metadata": {},
   "outputs": [],
   "source": [
    "deg = 11"
   ]
  },
  {
   "cell_type": "code",
   "execution_count": 32,
   "metadata": {},
   "outputs": [
    {
     "ename": "ERROR",
     "evalue": "Error in is.data.frame(data): object 'train.data' not found\n",
     "output_type": "error",
     "traceback": [
      "Error in is.data.frame(data): object 'train.data' not found\nTraceback:\n",
      "1. lm(percent_active ~ poly(Day, deg, raw = TRUE), data = train.data)",
      "2. eval(mf, parent.frame())",
      "3. eval(mf, parent.frame())",
      "4. stats::model.frame(formula = percent_active ~ poly(Day, deg, \n .     raw = TRUE), data = train.data, drop.unused.levels = TRUE)",
      "5. model.frame.default(formula = percent_active ~ poly(Day, deg, \n .     raw = TRUE), data = train.data, drop.unused.levels = TRUE)",
      "6. is.data.frame(data)"
     ]
    }
   ],
   "source": [
    "# building polynomial model\n",
    "fit.plm = lm(percent_active ~ poly(Day, deg, raw = TRUE), data = train.data)\n",
    "#summary(fit.plm)\n",
    "\n",
    "########################\n",
    "\n",
    "## Prediction table\n",
    "plm.trained = cbind( # Prediction for training data\n",
    "            train.data[,c(\"Day\", \"percent_active\")],\n",
    "            Pridicted_percent_active = predict(fit.plm, train.data)  # predicting the values\n",
    "          )\n",
    "\n",
    "plm.tested = cbind(  # Prediction for tested data\n",
    "            test.data[,c(\"Day\", \"percent_active\")],\n",
    "            Pridicted_percent_active = predict(fit.plm, test.data)   # predicting the values\n",
    "         )\n",
    "\n",
    "\n",
    "########################\n",
    "\n",
    "# Graphs for prediction\n",
    "plm.trainer <- ggplot(train.data, aes(Day, percent_active) ) +\n",
    "              geom_point() +\n",
    "              stat_smooth(method = lm, formula = y ~ poly(x, deg, raw = TRUE)) +   # polynomial function\n",
    "  \n",
    "              # decoration\n",
    "              labs( x = \"Days\", y = \"Active Cases (%)\", title = paste(\"\\nTraining plot\", rName, sep = \" - \") ) +\n",
    "              theme( plot.title = element_text(size = 20, face = \"bold\")) \n",
    "\n",
    "plm.tester <- ggplot(test.data, aes(Day, percent_active) ) +\n",
    "              geom_point() +\n",
    "              stat_smooth(method = lm, formula = y ~ poly(x, deg, raw = TRUE)) +   # polynomial function\n",
    "  \n",
    "              # decoration\n",
    "              labs( x = \"Days\", y = \"Active Cases (%)\", title = paste(\"\\nTesting plot\", rName, sep = \" - \") ) +\n",
    "              theme( plot.title = element_text(size = 20, face = \"bold\")) \n"
   ]
  },
  {
   "cell_type": "code",
   "execution_count": 33,
   "metadata": {},
   "outputs": [
    {
     "ename": "ERROR",
     "evalue": "Error in tail(plm.trained, 5): object 'plm.trained' not found\n",
     "output_type": "error",
     "traceback": [
      "Error in tail(plm.trained, 5): object 'plm.trained' not found\nTraceback:\n",
      "1. tail(plm.trained, 5)"
     ]
    }
   ],
   "source": [
    "# Prediction table at degree = 6\n",
    "tail(plm.trained, 5)\n",
    "tail(plm.tested, 5)"
   ]
  },
  {
   "cell_type": "code",
   "execution_count": 34,
   "metadata": {},
   "outputs": [
    {
     "ename": "ERROR",
     "evalue": "Error in eval(expr, envir, enclos): object 'plm.trainer' not found\n",
     "output_type": "error",
     "traceback": [
      "Error in eval(expr, envir, enclos): object 'plm.trainer' not found\nTraceback:\n"
     ]
    }
   ],
   "source": [
    "# New visualization for prediction\n",
    "plm.trainer\n",
    "plm.tester"
   ]
  },
  {
   "cell_type": "code",
   "execution_count": 35,
   "metadata": {},
   "outputs": [
    {
     "ename": "ERROR",
     "evalue": "Error in predict(fit.plm, temp.test): object 'fit.plm' not found\n",
     "output_type": "error",
     "traceback": [
      "Error in predict(fit.plm, temp.test): object 'fit.plm' not found\nTraceback:\n",
      "1. predict(fit.plm, temp.test)"
     ]
    }
   ],
   "source": [
    "temp.required$\"Polynomial Model\" <- predict(fit.plm, temp.test)\n",
    "temp.required"
   ]
  },
  {
   "cell_type": "markdown",
   "metadata": {},
   "source": [
    "### _So, now it's much better!_\n",
    "\n",
    "<hr /><br />"
   ]
  }
 ],
 "metadata": {
  "kernelspec": {
   "display_name": "R",
   "language": "R",
   "name": "ir"
  },
  "language_info": {
   "codemirror_mode": "r",
   "file_extension": ".r",
   "mimetype": "text/x-r-source",
   "name": "R",
   "pygments_lexer": "r",
   "version": "3.6.1"
  }
 },
 "nbformat": 4,
 "nbformat_minor": 2
}
