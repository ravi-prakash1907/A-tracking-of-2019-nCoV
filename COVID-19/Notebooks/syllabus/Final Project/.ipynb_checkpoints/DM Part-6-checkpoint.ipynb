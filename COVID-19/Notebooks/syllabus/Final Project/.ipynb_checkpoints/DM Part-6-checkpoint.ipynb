{
 "cells": [
  {
   "cell_type": "markdown",
   "metadata": {},
   "source": [
    "## <u>Deployment:</u>\n",
    "\n",
    "> * <a href=\"#*-Summary\">SUMMARY</a>\n",
    "> * <a href=\"#Viewing-the-result:\">FINAL RESULT</a>"
   ]
  },
  {
   "cell_type": "markdown",
   "metadata": {},
   "source": [
    "### * Summary\n",
    "<br />\n",
    "<font size=\"3\">\n",
    "    \n",
    "We have trained our model by Polynomial Regression Algorithm<br />\n",
    "@**Degree:** 11\n",
    "\n",
    "</font>"
   ]
  },
  {
   "cell_type": "code",
   "execution_count": 1,
   "metadata": {},
   "outputs": [
    {
     "ename": "ERROR",
     "evalue": "Error in summary(fit.plm): object 'fit.plm' not found\n",
     "output_type": "error",
     "traceback": [
      "Error in summary(fit.plm): object 'fit.plm' not found\nTraceback:\n",
      "1. summary(fit.plm)"
     ]
    }
   ],
   "source": [
    "# Summary of trained model\n",
    "summary(fit.plm)"
   ]
  },
  {
   "cell_type": "code",
   "execution_count": 2,
   "metadata": {},
   "outputs": [
    {
     "ename": "ERROR",
     "evalue": "Error in eval(expr, envir, enclos): object 'plm.predictions' not found\n",
     "output_type": "error",
     "traceback": [
      "Error in eval(expr, envir, enclos): object 'plm.predictions' not found\nTraceback:\n"
     ]
    }
   ],
   "source": [
    "# Accurecy\n",
    "plm.predictions[which(plm.predictions$Degree == deg),]"
   ]
  },
  {
   "cell_type": "markdown",
   "metadata": {},
   "source": [
    "<br /> <hr />\n",
    "\n",
    "<font size=\"3\">\n",
    "    \n",
    "**It was all about the overview of our model!**<br />\n",
    "\n",
    "    Now we ready to find the estimate of next one week's status of China about Active Case(%)\n",
    "\n",
    "</font>"
   ]
  },
  {
   "cell_type": "code",
   "execution_count": 5,
   "metadata": {},
   "outputs": [],
   "source": [
    "# Preparing our dataset to store next 7 days' estimate\n",
    "\n",
    "d = as.Date(\"21/01/2020\", format(c(\"%d/%m/%Y\")))\n",
    "date = as.character((c(1:7) + d), format(c(\"%d/%m/%Y\")))\n",
    "\n",
    "finalEstimate <- data.frame(\n",
    "                             Day = 59:65,\n",
    "                             Date = date\n",
    "                           )\n"
   ]
  },
  {
   "cell_type": "markdown",
   "metadata": {},
   "source": [
    "<br />\n",
    "Predicting the estimate for the Active Case percentage, that is likely to be on the next 1 week:"
   ]
  },
  {
   "cell_type": "code",
   "execution_count": 6,
   "metadata": {},
   "outputs": [
    {
     "ename": "ERROR",
     "evalue": "Error in predict(fit.plm, finalEstimate): object 'fit.plm' not found\n",
     "output_type": "error",
     "traceback": [
      "Error in predict(fit.plm, finalEstimate): object 'fit.plm' not found\nTraceback:\n",
      "1. predict(fit.plm, finalEstimate)"
     ]
    }
   ],
   "source": [
    "finalEstimate$\"Estimated Active Case(%)\" = predict(fit.plm, finalEstimate)"
   ]
  },
  {
   "cell_type": "markdown",
   "metadata": {},
   "source": [
    "<br />\n",
    "\n",
    "### <center> <u>Finally! We have estimated the possible % of Active Cases for next 7 week for China</u> </center>\n",
    "\n",
    "#### Viewing the result: "
   ]
  },
  {
   "cell_type": "code",
   "execution_count": 1,
   "metadata": {},
   "outputs": [
    {
     "ename": "ERROR",
     "evalue": "Error in eval(expr, envir, enclos): object 'finalEstimate' not found\n",
     "output_type": "error",
     "traceback": [
      "Error in eval(expr, envir, enclos): object 'finalEstimate' not found\nTraceback:\n"
     ]
    }
   ],
   "source": [
    "finalEstimate"
   ]
  },
  {
   "cell_type": "markdown",
   "metadata": {},
   "source": [
    "<br />\n",
    "\n",
    "#### As per the sources, we can verify that -\n",
    "on **25 March**: Hubei lift the lockdown outside of Wuhan that was the most affected state in the whole China.\n",
    "and on 8th Aplril the total lockdown will be removed. [[source]](https://en.wikipedia.org/wiki/2020_Hubei_lockdowns)"
   ]
  },
  {
   "cell_type": "markdown",
   "metadata": {},
   "source": [
    "<br /><hr /><br />"
   ]
  }
 ],
 "metadata": {
  "kernelspec": {
   "display_name": "R",
   "language": "R",
   "name": "ir"
  },
  "language_info": {
   "codemirror_mode": "r",
   "file_extension": ".r",
   "mimetype": "text/x-r-source",
   "name": "R",
   "pygments_lexer": "r",
   "version": "3.6.1"
  }
 },
 "nbformat": 4,
 "nbformat_minor": 2
}
