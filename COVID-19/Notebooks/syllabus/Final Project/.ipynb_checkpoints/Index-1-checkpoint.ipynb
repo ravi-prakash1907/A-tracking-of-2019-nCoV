{
 "cells": [
  {
   "cell_type": "markdown",
   "metadata": {},
   "source": [
    "**1**"
   ]
  },
  {
   "cell_type": "markdown",
   "metadata": {},
   "source": [
    "<center>\n",
    "    <font color=\"green\"> \n",
    "        \n",
    "# <u>A Predictive Data Analysis ~ 19-nCoV</u>\n",
    "        \n",
    "   </font>\n",
    "</center><br />\n",
    "\n",
    "<center>(Data-Science cum Data-Mining project in R)</center> <br />\n",
    "<a href=\"https://raviprakashravi.cf/\" target=\"_blank\">\n",
    "    <code style=\"float:right; background:none\"> -Ravi Prakash</code>\n",
    "</a>"
   ]
  },
  {
   "cell_type": "markdown",
   "metadata": {},
   "source": [
    "<hr />"
   ]
  },
  {
   "cell_type": "markdown",
   "metadata": {},
   "source": [
    "<font size=\"4\">\n",
    "    \n",
    "A <font color=\"purple\"><u><b> Predictive Data Analysis </b></u></font> is a type of data-analysis where after the complete statistical study of the data, the model predicts some estimate when it receives a new datum.\n",
    "It can be for various types of predictions categorization.\n",
    "\n",
    "* Some other types of data-analysis can be <i>Descriptive, Diagnostic or Prescriptive Analysis.</i>\n",
    "\n",
    "This <b>Data Mining Project</b> involves a sequence of (<i>six</i>) steps i.e. <br />\n",
    "<i>    \n",
    "> a) Business Understanding <br />\n",
    "> b) Data Understanding <br />\n",
    "> c) Data Preparation <br />\n",
    "> d) Modeling <br />\n",
    "> e) Evaluation <br />\n",
    "> f) Deployment </i></font>"
   ]
  },
  {
   "cell_type": "markdown",
   "metadata": {},
   "source": [
    "<br /><br />\n",
    "## Main Data-Mining Concepts Used"
   ]
  },
  {
   "cell_type": "markdown",
   "metadata": {},
   "source": [
    "In this project, I will be using the _**time series dataset(s)**_ that will consist of the data values of different locations, worldwide."
   ]
  },
  {
   "cell_type": "markdown",
   "metadata": {},
   "source": [
    "\n",
    "### <a href=\"#Data-Understanding:\">DATA PREPROCESSIG &amp; POSTPROCESSING</a>\n",
    "\n",
    "> #### <a href=\"#Data-Understanding:\">Data Understanding</a> & <a href=\"#Data-Preparation:\">Data Preparation</a>\n",
    "> 1. Anomaly/Outliers - identification, varification & removal\n",
    "> 2. Data Reduction\n",
    "> 3. Exploratory Data Analysis (EDA) - using **boxplots** & **scatter-plots**"
   ]
  },
  {
   "cell_type": "markdown",
   "metadata": {},
   "source": [
    "### <a href=\"#Choosing-the-Right-Algo.\">MODLING</a>\n",
    "> 1. Regression\n",
    "> 2. Model **overfitting**\n",
    "> 3. SVMK, KNN, Linear &amp; Polynomial Regression"
   ]
  },
  {
   "cell_type": "markdown",
   "metadata": {},
   "source": [
    "### <a href=\"#Evaluation:\">RESULT EVALUATION</a>\n",
    "\n",
    "> #### <a href=\"h#4.-Polynomial-regression\">Selection of best fitting algorithm based on:</a>\n",
    "> * RMSE\n",
    "> * R<sup>2</sup>"
   ]
  },
  {
   "cell_type": "markdown",
   "metadata": {},
   "source": [
    "<hr /><br />"
   ]
  },
  {
   "cell_type": "markdown",
   "metadata": {},
   "source": [
    "<hr />"
   ]
  }
 ],
 "metadata": {
  "kernelspec": {
   "display_name": "R",
   "language": "R",
   "name": "ir"
  },
  "language_info": {
   "codemirror_mode": "r",
   "file_extension": ".r",
   "mimetype": "text/x-r-source",
   "name": "R",
   "pygments_lexer": "r",
   "version": "3.6.1"
  }
 },
 "nbformat": 4,
 "nbformat_minor": 2
}
