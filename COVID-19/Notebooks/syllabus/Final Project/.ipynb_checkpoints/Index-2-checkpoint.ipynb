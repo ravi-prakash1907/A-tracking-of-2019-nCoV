{
 "cells": [
  {
   "cell_type": "markdown",
   "metadata": {},
   "source": [
    "<center>\n",
    "    <h1><u>Table of Contents</u></h1>\n",
    "</center>\n",
    "\n",
    "> #### 1. <a href=\"#Introduction\">Introduction</a>\n",
    "> #### 2. <a href=\"#Business-Understanding:\">Business Understanding</a>\n",
    "> #### 3. <a href=\"#Data-Understanding:\">Data Understanding</a>\n",
    "> #### 4. <a href=\"#Data-Preparation:\">Data Preparation</a>\n",
    "> #### 5. <a href=\"#Modeling:\">Modeling</a>\n",
    "> #### 6. <a href=\"#Evaluation:\">Evaluation</a>\n",
    "> #### 7. <a href=\"#Deployment:\">Deployment</a>\n",
    "> #### 8. <a href=\"#Conclusion:\">Conclusion</a>\n",
    "> #### 9. <a href=\"#Bibliography:\">Bibliography</a>"
   ]
  },
  {
   "cell_type": "markdown",
   "metadata": {},
   "source": [
    "<hr />"
   ]
  }
 ],
 "metadata": {
  "kernelspec": {
   "display_name": "R",
   "language": "R",
   "name": "ir"
  },
  "language_info": {
   "codemirror_mode": "r",
   "file_extension": ".r",
   "mimetype": "text/x-r-source",
   "name": "R",
   "pygments_lexer": "r",
   "version": "3.6.1"
  }
 },
 "nbformat": 4,
 "nbformat_minor": 2
}
