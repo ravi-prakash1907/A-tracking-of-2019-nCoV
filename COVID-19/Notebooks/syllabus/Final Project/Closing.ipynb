{
 "cells": [
  {
   "cell_type": "markdown",
   "metadata": {},
   "source": [
    "**11**"
   ]
  },
  {
   "cell_type": "markdown",
   "metadata": {},
   "source": [
    "# <u>Conclusion:</u>"
   ]
  },
  {
   "cell_type": "markdown",
   "metadata": {},
   "source": [
    "<br /> \n",
    "<font size=\"3\">\n",
    "\n",
    "<u>So by this whole analysis, we come to a conclusion that</u>:\n",
    "\n",
    "1. there will be a little increase in  the new cases\n",
    "2. by the end of this week, rate of new confirmed cases will decrease in China\n",
    "3. after there the rate of Active Cases(%) will decrease more fastly i.e. China will attain the control over the COVID-19 in it's provinces\n",
    "</font>\n",
    "\n",
    "<font size=\"3\">\n",
    "\n",
    "Hence now <u>China</u> should start to focus on:\n",
    "1. taking precautions in most sensitive areas in order to ensure no new COVID-19 case.\n",
    "2. should focus even more to maintain the current status, else new cases might increase again within a few days\n",
    "3. the majors, that the country has taken till date, should be followed more strictly, for a few more days\n",
    "\n",
    "Now, a far more COVID-19 cases are closing as compared to those that are being reported, newly.<br />\n",
    "It is supposed to decrease even more if China focused onto the precautions.<br />\n",
    "<br />\n",
    "By the end of this week, the cure of infected patient will prove to be more beneficial then construction even more hospitals/isolation centers etc..\n",
    "</font>\n",
    "\n",
    "### <center>Following word-cloud Visualization tells how fastly, the China is overcoming the COVID-19</center>\n",
    "\n",
    "<img src=\"../pics/recovery.png\" height=\"75%\" width=\"90%\" alt=\"Code to generate the map-plot!!\"/>"
   ]
  },
  {
   "cell_type": "markdown",
   "metadata": {},
   "source": [
    "<hr /><br />"
   ]
  },
  {
   "cell_type": "markdown",
   "metadata": {},
   "source": [
    "# <u>Bibliography:</u>"
   ]
  },
  {
   "cell_type": "markdown",
   "metadata": {},
   "source": [
    "### Data Sources:\n",
    "\n",
    "<font size=\"4\">\n",
    "    \n",
    "> 1. <a href=\"https://www.who.int/emergencies/diseases/novel-coronavirus-2019\" target=\"_blank\">World Health Organization</a>\n",
    "> 2. <a href=\"https://www.arcgis.com/apps/opsdashboard/index.html#/bda7594740fd40299423467b48e9ecf6\" target=\"_blank\">Johns Hopkins University</a>\n",
    "> 3. <a href=\"https://www.mohfw.gov.in/\" target=\"_blank\">Ministry of Human Resource & Developmant - India</a>\n",
    "> 4. <a href=\"https://www.imperial.ac.uk/about/covid-19/\" target=\"_blank\">Imperial College of London</a>\n",
    "> 5. <a href=\"https://www.worldometers.info/coronavirus/\" target=\"_blank\">Worldometers</a>\n",
    "\n",
    "</font>"
   ]
  },
  {
   "cell_type": "markdown",
   "metadata": {},
   "source": [
    "<hr />"
   ]
  }
 ],
 "metadata": {
  "kernelspec": {
   "display_name": "R",
   "language": "R",
   "name": "ir"
  },
  "language_info": {
   "codemirror_mode": "r",
   "file_extension": ".r",
   "mimetype": "text/x-r-source",
   "name": "R",
   "pygments_lexer": "r",
   "version": "3.6.1"
  }
 },
 "nbformat": 4,
 "nbformat_minor": 2
}
