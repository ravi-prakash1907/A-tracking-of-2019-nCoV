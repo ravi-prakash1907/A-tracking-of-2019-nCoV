{
 "cells": [
  {
   "cell_type": "markdown",
   "metadata": {},
   "source": [
    "## <u>Business Understanding:</u>"
   ]
  },
  {
   "cell_type": "markdown",
   "metadata": {},
   "source": [
    "<font size=\"3\">\n",
    "    Now we all are well aware that this is a very severe pandemic i.e. the <u>pandemic of 21<sup>st</sup> century</u>. Not only this but another major problem is that it has been around <b>5 months</b>, since when the <i>2019-nCoV</i> appeared, first.<br /><br /> \n",
    "    Scientists are still trying to create the vaccine as soon as possible, but for now, no final cure is up.<br /><hr /><br />\n",
    "</font>"
   ]
  },
  {
   "cell_type": "markdown",
   "metadata": {},
   "source": [
    "## <center><u><b>Why do this analysis?</b></u></center>"
   ]
  },
  {
   "cell_type": "markdown",
   "metadata": {},
   "source": [
    "<font size=\"3\">\n",
    "<b>Due to this pandemic:</b>\n",
    "</font><br /> \n",
    "\n",
    "> 1. Almost every country in the world has atleast one confirm case of COVID-19<br />\n",
    "> 2. The diseases is spreading very rapidly<br />\n",
    "> 3. Economy of various countries is going down<br />\n",
    "> 4. Casualties are increasing even more fastly etc..<br />\n",
    "\n",
    "China, being the origin of the COVID-19, is the most affected country, in the world.<br/><br />\n"
   ]
  },
  {
   "cell_type": "markdown",
   "metadata": {},
   "source": [
    "#### * This becomes more clear from the following  wordclouds\n",
    "(total confirmed cases & deaths due to coronavirus till 21/03/2020) <br /><br />\n",
    "\n",
    "<img src=\"../pics/deaths.png\" height=\"75%\" width=\"90%\" alt=\"Code to generate the map-plot!!\"/>\n",
    "\n",
    "<br />\n",
    "<center> <i>* Here we find the China to be the most affected country!</i> </center>\n",
    "<br />"
   ]
  },
  {
   "cell_type": "markdown",
   "metadata": {},
   "source": [
    "## <center><u><b>CONTRIBUTION OF THIS PROJECT</b></u></center>"
   ]
  },
  {
   "cell_type": "markdown",
   "metadata": {},
   "source": [
    "<font size=\"4\">\n",
    "<u>Finds an estimate about the rate of increase/decrease in appearance of new cases for next one week, in case of China.</u><br /><br />\n",
    "</font>\n",
    "<font size=\"4\">\n",
    "    \n",
    "> 1. This estimate can help the country to know how much new beds/hospitals are going to be required within next few days.<br />\n",
    "> 2. Helpful for the country in terms of the financial planning, as the economy is also going down.<br />\n",
    "> 3. Directs where the **focus** has to be driven **first**.\n",
    "> 4. It would convey a more precise information for deciding that how the money has to be divided for the constructions of new hospitals/isolation centers, COVID-19 test kits, other medical equipments, caring and treatments, etc.. <br />\n",
    "\n",
    "</font>\n",
    "<font size=\"4\">\n",
    "<u>This all would be helpful for other countries as well, in order to bring the Reproducibility Score (<b>R-naught</b>) down to an acceptable limit.</u> (by applying useful strategies of China)\n",
    "</font>"
   ]
  },
  {
   "cell_type": "markdown",
   "metadata": {},
   "source": [
    "<hr />\n",
    "* We'll be preparing separate datasets for generating few of these visualization, while data-preparation phase.<br />\n",
    "* For understanding how these visuals are developed from scratch, please refer to <a href=\"#\">this link</a>."
   ]
  },
  {
   "cell_type": "markdown",
   "metadata": {},
   "source": [
    "<br />"
   ]
  }
 ],
 "metadata": {
  "kernelspec": {
   "display_name": "R",
   "language": "R",
   "name": "ir"
  },
  "language_info": {
   "codemirror_mode": "r",
   "file_extension": ".r",
   "mimetype": "text/x-r-source",
   "name": "R",
   "pygments_lexer": "r",
   "version": "3.6.1"
  }
 },
 "nbformat": 4,
 "nbformat_minor": 2
}
