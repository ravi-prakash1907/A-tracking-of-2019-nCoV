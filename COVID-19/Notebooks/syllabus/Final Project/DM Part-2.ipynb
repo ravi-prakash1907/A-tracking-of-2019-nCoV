{
 "cells": [
  {
   "cell_type": "markdown",
   "metadata": {},
   "source": [
    "## <u>Data Understanding:</u>\n",
    "\n",
    "> * <a href=\"#*-Data-&-Problem-Statement\">DATA &AMP; PROBLEM STATEMENT</a>\n",
    "> * <a href=\"#Beginning-with-the-coading-section:\">BEGINNING WITH THE CODING SECTION</a>\n",
    "> * <a href=\"#*-Data-Collection\">DATA COLLECTION</a>"
   ]
  },
  {
   "cell_type": "markdown",
   "metadata": {},
   "source": [
    "### * Data & Problem Statement"
   ]
  },
  {
   "cell_type": "markdown",
   "metadata": {},
   "source": [
    "Our is aim to analyze that what would be the status of the epidemic will change, within a week and hence, how log it might take to China to have its control over this infection<br />\n",
    "Further, we'd aim to generalize it for any of the country, so that we could find the status of the same, whenever required. Obviously, we'd have to change few parameters, tho' we won't have to waste our time again and again in data preparation for a particular country.<br /><br />\n",
    "\n",
    "<b>Hence we need the data about:</b>\n",
    "> 1. <u>Confirmed</u> cases of COVID-19, throughout the world\n",
    "> 2. <u>Death</u> cases due to COVID-19, throughout the world\n",
    "> 3. Total <u>Recovery</u> from COVID-19, throughout the world\n",
    "\n",
    "We've collected this data from various sources including <a href=\"https://www.arcgis.com/apps/opsdashboard/index.html#/bda7594740fd40299423467b48e9ecf6\" target=\"_blank\">CSSE @Johns Hopkins University</a>, <a href=\"https://www.who.int/emergencies/diseases/novel-coronavirus-2019\" target=\"_blank\">WHO</a> & <a href=\"https://www.mohfw.gov.in/\" target=\"_blank\">MoHFW - India</a>.<br />\n",
    "<br /> "
   ]
  },
  {
   "cell_type": "markdown",
   "metadata": {},
   "source": [
    "#### Beginning with the coding section:"
   ]
  },
  {
   "cell_type": "markdown",
   "metadata": {},
   "source": [
    "> Let's start with setting-up our working directory and load all the required packages, that we would be required:"
   ]
  },
  {
   "cell_type": "markdown",
   "metadata": {},
   "source": [
    "### Initial Project Setup"
   ]
  },
  {
   "cell_type": "code",
   "execution_count": 2,
   "metadata": {},
   "outputs": [
    {
     "name": "stderr",
     "output_type": "stream",
     "text": [
      "Loading required package: randomForest\n",
      "\n",
      "randomForest 4.6-14\n",
      "\n",
      "Type rfNews() to see new features/changes/bug fixes.\n",
      "\n",
      "AUCRF 1.1\n",
      "\n",
      "\n",
      "Attaching package: ‘RFmarkerDetector’\n",
      "\n",
      "\n",
      "The following object is masked from ‘package:stats’:\n",
      "\n",
      "    screeplot\n",
      "\n",
      "\n",
      "Loading required package: lattice\n",
      "\n",
      "Loading required package: ggplot2\n",
      "\n",
      "\n",
      "Attaching package: ‘ggplot2’\n",
      "\n",
      "\n",
      "The following object is masked from ‘package:randomForest’:\n",
      "\n",
      "    margin\n",
      "\n",
      "\n",
      "\n",
      "Attaching package: ‘kernlab’\n",
      "\n",
      "\n",
      "The following object is masked from ‘package:ggplot2’:\n",
      "\n",
      "    alpha\n",
      "\n",
      "\n"
     ]
    }
   ],
   "source": [
    "# Setting the working directory\n",
    "options(warn=-1)\n",
    "setwd(\"~/Documents/A-tracking-of-2019-nCoV/COVID-19/\")\n",
    "\n",
    "#####  Loading LIBRARIES  #####\n",
    "library(stringr)\n",
    "\n",
    "library(AUCRF)\n",
    "library(randomForest)\n",
    "library(RFmarkerDetector)\n",
    "\n",
    "library(caret)\n",
    "library(mlbench)\n",
    "library(kernlab)"
   ]
  },
  {
   "cell_type": "markdown",
   "metadata": {},
   "source": [
    "<br />"
   ]
  },
  {
   "cell_type": "markdown",
   "metadata": {},
   "source": [
    "### * Data Collection"
   ]
  },
  {
   "cell_type": "markdown",
   "metadata": {},
   "source": [
    "Basically, we have collected the <b>raw data</b> from websites and GitHub repository."
   ]
  },
  {
   "cell_type": "code",
   "execution_count": 4,
   "metadata": {},
   "outputs": [],
   "source": [
    "# loading raw data\n",
    "check.Confirmed = read.csv(\"Notebooks/syllabus/static/raw/time_series_19-covid-Confirmed.csv\")\n",
    "check.Deaths = read.csv(\"Notebooks/syllabus/static/raw/time_series_19-covid-Deaths.csv\")\n",
    "check.Recovered = read.csv(\"Notebooks/syllabus/static/raw/time_series_19-covid-Recovered.csv\")"
   ]
  },
  {
   "cell_type": "markdown",
   "metadata": {},
   "source": [
    "The data, that we have collected is in the <b>CSV</b> (i.e. \"<u><i>comma-separated values</i></u>\") format.<br />\n",
    "A CSV file is used to store the <i>structured data</i> row-wise, where the data elements in each rows are separated by a comma (,).\n",
    "\n",
    "It's pretty similar to the following:\n",
    "```\n",
    "Belinda Jameson,2017,Cushing House,148,3.52\n",
    "Jeff Smith,2018,Prescott House,17-D,3.20\n",
    "```\n",
    "<br />\n",
    "Let's view the head portion of our raw data:"
   ]
  },
  {
   "cell_type": "code",
   "execution_count": 5,
   "metadata": {},
   "outputs": [
    {
     "data": {
      "text/html": [
       "<table>\n",
       "<thead><tr><th scope=col>Province.State</th><th scope=col>Country.Region</th><th scope=col>Lat</th><th scope=col>Long</th><th scope=col>X1.22.20</th><th scope=col>X1.23.20</th><th scope=col>X1.24.20</th><th scope=col>X1.25.20</th><th scope=col>X1.26.20</th><th scope=col>X1.27.20</th><th scope=col>...</th><th scope=col>X3.10.20</th><th scope=col>X3.11.20</th><th scope=col>X3.12.20</th><th scope=col>X3.13.20</th><th scope=col>X3.14.20</th><th scope=col>X3.15.20</th><th scope=col>X3.16.20</th><th scope=col>X3.17.20</th><th scope=col>X3.18.20</th><th scope=col>X3.19.20</th></tr></thead>\n",
       "<tbody>\n",
       "\t<tr><td>                </td><td>Thailand        </td><td>15.0000         </td><td> 101.0000       </td><td>2               </td><td>3               </td><td>5               </td><td>7               </td><td>8               </td><td>8               </td><td>...             </td><td> 53             </td><td> 59             </td><td> 70             </td><td> 75             </td><td> 82             </td><td>114             </td><td>147             </td><td>177             </td><td>212             </td><td>272             </td></tr>\n",
       "\t<tr><td>                </td><td>Japan           </td><td>36.0000         </td><td> 138.0000       </td><td>2               </td><td>1               </td><td>2               </td><td>2               </td><td>4               </td><td>4               </td><td>...             </td><td>581             </td><td>639             </td><td>639             </td><td>701             </td><td>773             </td><td>839             </td><td>825             </td><td>878             </td><td>889             </td><td>924             </td></tr>\n",
       "\t<tr><td>                </td><td>Singapore       </td><td> 1.2833         </td><td> 103.8333       </td><td>0               </td><td>1               </td><td>3               </td><td>3               </td><td>4               </td><td>5               </td><td>...             </td><td>160             </td><td>178             </td><td>178             </td><td>200             </td><td>212             </td><td>226             </td><td>243             </td><td>266             </td><td>313             </td><td>345             </td></tr>\n",
       "\t<tr><td>                </td><td>Nepal           </td><td>28.1667         </td><td>  84.2500       </td><td>0               </td><td>0               </td><td>0               </td><td>1               </td><td>1               </td><td>1               </td><td>...             </td><td>  1             </td><td>  1             </td><td>  1             </td><td>  1             </td><td>  1             </td><td>  1             </td><td>  1             </td><td>  1             </td><td>  1             </td><td>  1             </td></tr>\n",
       "\t<tr><td>                </td><td>Malaysia        </td><td> 2.5000         </td><td> 112.5000       </td><td>0               </td><td>0               </td><td>0               </td><td>3               </td><td>4               </td><td>4               </td><td>...             </td><td>129             </td><td>149             </td><td>149             </td><td>197             </td><td>238             </td><td>428             </td><td>566             </td><td>673             </td><td>790             </td><td>900             </td></tr>\n",
       "\t<tr><td>British Columbia</td><td>Canada          </td><td>49.2827         </td><td>-123.1207       </td><td>0               </td><td>0               </td><td>0               </td><td>0               </td><td>0               </td><td>0               </td><td>...             </td><td> 32             </td><td> 39             </td><td> 46             </td><td> 64             </td><td> 64             </td><td> 73             </td><td>103             </td><td>103             </td><td>186             </td><td>231             </td></tr>\n",
       "</tbody>\n",
       "</table>\n"
      ],
      "text/latex": [
       "\\begin{tabular}{r|llllllllllllllllllllllllllllllllllllllllllllllllllllllllllllll}\n",
       " Province.State & Country.Region & Lat & Long & X1.22.20 & X1.23.20 & X1.24.20 & X1.25.20 & X1.26.20 & X1.27.20 & ... & X3.10.20 & X3.11.20 & X3.12.20 & X3.13.20 & X3.14.20 & X3.15.20 & X3.16.20 & X3.17.20 & X3.18.20 & X3.19.20\\\\\n",
       "\\hline\n",
       "\t                  & Thailand         & 15.0000          &  101.0000        & 2                & 3                & 5                & 7                & 8                & 8                & ...              &  53              &  59              &  70              &  75              &  82              & 114              & 147              & 177              & 212              & 272             \\\\\n",
       "\t                  & Japan            & 36.0000          &  138.0000        & 2                & 1                & 2                & 2                & 4                & 4                & ...              & 581              & 639              & 639              & 701              & 773              & 839              & 825              & 878              & 889              & 924             \\\\\n",
       "\t                  & Singapore        &  1.2833          &  103.8333        & 0                & 1                & 3                & 3                & 4                & 5                & ...              & 160              & 178              & 178              & 200              & 212              & 226              & 243              & 266              & 313              & 345             \\\\\n",
       "\t                  & Nepal            & 28.1667          &   84.2500        & 0                & 0                & 0                & 1                & 1                & 1                & ...              &   1              &   1              &   1              &   1              &   1              &   1              &   1              &   1              &   1              &   1             \\\\\n",
       "\t                  & Malaysia         &  2.5000          &  112.5000        & 0                & 0                & 0                & 3                & 4                & 4                & ...              & 129              & 149              & 149              & 197              & 238              & 428              & 566              & 673              & 790              & 900             \\\\\n",
       "\t British Columbia & Canada           & 49.2827          & -123.1207        & 0                & 0                & 0                & 0                & 0                & 0                & ...              &  32              &  39              &  46              &  64              &  64              &  73              & 103              & 103              & 186              & 231             \\\\\n",
       "\\end{tabular}\n"
      ],
      "text/markdown": [
       "\n",
       "| Province.State | Country.Region | Lat | Long | X1.22.20 | X1.23.20 | X1.24.20 | X1.25.20 | X1.26.20 | X1.27.20 | ... | X3.10.20 | X3.11.20 | X3.12.20 | X3.13.20 | X3.14.20 | X3.15.20 | X3.16.20 | X3.17.20 | X3.18.20 | X3.19.20 |\n",
       "|---|---|---|---|---|---|---|---|---|---|---|---|---|---|---|---|---|---|---|---|---|\n",
       "|                  | Thailand         | 15.0000          |  101.0000        | 2                | 3                | 5                | 7                | 8                | 8                | ...              |  53              |  59              |  70              |  75              |  82              | 114              | 147              | 177              | 212              | 272              |\n",
       "|                  | Japan            | 36.0000          |  138.0000        | 2                | 1                | 2                | 2                | 4                | 4                | ...              | 581              | 639              | 639              | 701              | 773              | 839              | 825              | 878              | 889              | 924              |\n",
       "|                  | Singapore        |  1.2833          |  103.8333        | 0                | 1                | 3                | 3                | 4                | 5                | ...              | 160              | 178              | 178              | 200              | 212              | 226              | 243              | 266              | 313              | 345              |\n",
       "|                  | Nepal            | 28.1667          |   84.2500        | 0                | 0                | 0                | 1                | 1                | 1                | ...              |   1              |   1              |   1              |   1              |   1              |   1              |   1              |   1              |   1              |   1              |\n",
       "|                  | Malaysia         |  2.5000          |  112.5000        | 0                | 0                | 0                | 3                | 4                | 4                | ...              | 129              | 149              | 149              | 197              | 238              | 428              | 566              | 673              | 790              | 900              |\n",
       "| British Columbia | Canada           | 49.2827          | -123.1207        | 0                | 0                | 0                | 0                | 0                | 0                | ...              |  32              |  39              |  46              |  64              |  64              |  73              | 103              | 103              | 186              | 231              |\n",
       "\n"
      ],
      "text/plain": [
       "  Province.State   Country.Region Lat     Long      X1.22.20 X1.23.20 X1.24.20\n",
       "1                  Thailand       15.0000  101.0000 2        3        5       \n",
       "2                  Japan          36.0000  138.0000 2        1        2       \n",
       "3                  Singapore       1.2833  103.8333 0        1        3       \n",
       "4                  Nepal          28.1667   84.2500 0        0        0       \n",
       "5                  Malaysia        2.5000  112.5000 0        0        0       \n",
       "6 British Columbia Canada         49.2827 -123.1207 0        0        0       \n",
       "  X1.25.20 X1.26.20 X1.27.20 ... X3.10.20 X3.11.20 X3.12.20 X3.13.20 X3.14.20\n",
       "1 7        8        8        ...  53       59       70       75       82     \n",
       "2 2        4        4        ... 581      639      639      701      773     \n",
       "3 3        4        5        ... 160      178      178      200      212     \n",
       "4 1        1        1        ...   1        1        1        1        1     \n",
       "5 3        4        4        ... 129      149      149      197      238     \n",
       "6 0        0        0        ...  32       39       46       64       64     \n",
       "  X3.15.20 X3.16.20 X3.17.20 X3.18.20 X3.19.20\n",
       "1 114      147      177      212      272     \n",
       "2 839      825      878      889      924     \n",
       "3 226      243      266      313      345     \n",
       "4   1        1        1        1        1     \n",
       "5 428      566      673      790      900     \n",
       "6  73      103      103      186      231     "
      ]
     },
     "metadata": {},
     "output_type": "display_data"
    },
    {
     "data": {
      "text/html": [
       "<table>\n",
       "<thead><tr><th scope=col>Province.State</th><th scope=col>Country.Region</th><th scope=col>Lat</th><th scope=col>Long</th><th scope=col>X1.22.20</th><th scope=col>X1.23.20</th><th scope=col>X1.24.20</th><th scope=col>X1.25.20</th><th scope=col>X1.26.20</th><th scope=col>X1.27.20</th><th scope=col>...</th><th scope=col>X3.10.20</th><th scope=col>X3.11.20</th><th scope=col>X3.12.20</th><th scope=col>X3.13.20</th><th scope=col>X3.14.20</th><th scope=col>X3.15.20</th><th scope=col>X3.16.20</th><th scope=col>X3.17.20</th><th scope=col>X3.18.20</th><th scope=col>X3.19.20</th></tr></thead>\n",
       "<tbody>\n",
       "\t<tr><td>                </td><td>Thailand        </td><td>15.0000         </td><td> 101.0000       </td><td>0               </td><td>0               </td><td>0               </td><td>0               </td><td>0               </td><td>0               </td><td>...             </td><td> 1              </td><td> 1              </td><td> 1              </td><td> 1              </td><td> 1              </td><td> 1              </td><td> 1              </td><td> 1              </td><td> 1              </td><td> 1              </td></tr>\n",
       "\t<tr><td>                </td><td>Japan           </td><td>36.0000         </td><td> 138.0000       </td><td>0               </td><td>0               </td><td>0               </td><td>0               </td><td>0               </td><td>0               </td><td>...             </td><td>10              </td><td>15              </td><td>16              </td><td>19              </td><td>22              </td><td>22              </td><td>27              </td><td>29              </td><td>29              </td><td>29              </td></tr>\n",
       "\t<tr><td>                </td><td>Singapore       </td><td> 1.2833         </td><td> 103.8333       </td><td>0               </td><td>0               </td><td>0               </td><td>0               </td><td>0               </td><td>0               </td><td>...             </td><td> 0              </td><td> 0              </td><td> 0              </td><td> 0              </td><td> 0              </td><td> 0              </td><td> 0              </td><td> 0              </td><td> 0              </td><td> 0              </td></tr>\n",
       "\t<tr><td>                </td><td>Nepal           </td><td>28.1667         </td><td>  84.2500       </td><td>0               </td><td>0               </td><td>0               </td><td>0               </td><td>0               </td><td>0               </td><td>...             </td><td> 0              </td><td> 0              </td><td> 0              </td><td> 0              </td><td> 0              </td><td> 0              </td><td> 0              </td><td> 0              </td><td> 0              </td><td> 0              </td></tr>\n",
       "\t<tr><td>                </td><td>Malaysia        </td><td> 2.5000         </td><td> 112.5000       </td><td>0               </td><td>0               </td><td>0               </td><td>0               </td><td>0               </td><td>0               </td><td>...             </td><td> 0              </td><td> 0              </td><td> 0              </td><td> 0              </td><td> 0              </td><td> 0              </td><td> 0              </td><td> 2              </td><td> 2              </td><td> 2              </td></tr>\n",
       "\t<tr><td>British Columbia</td><td>Canada          </td><td>49.2827         </td><td>-123.1207       </td><td>0               </td><td>0               </td><td>0               </td><td>0               </td><td>0               </td><td>0               </td><td>...             </td><td> 1              </td><td> 1              </td><td> 1              </td><td> 1              </td><td> 1              </td><td> 1              </td><td> 4              </td><td> 4              </td><td> 7              </td><td> 7              </td></tr>\n",
       "</tbody>\n",
       "</table>\n"
      ],
      "text/latex": [
       "\\begin{tabular}{r|llllllllllllllllllllllllllllllllllllllllllllllllllllllllllllll}\n",
       " Province.State & Country.Region & Lat & Long & X1.22.20 & X1.23.20 & X1.24.20 & X1.25.20 & X1.26.20 & X1.27.20 & ... & X3.10.20 & X3.11.20 & X3.12.20 & X3.13.20 & X3.14.20 & X3.15.20 & X3.16.20 & X3.17.20 & X3.18.20 & X3.19.20\\\\\n",
       "\\hline\n",
       "\t                  & Thailand         & 15.0000          &  101.0000        & 0                & 0                & 0                & 0                & 0                & 0                & ...              &  1               &  1               &  1               &  1               &  1               &  1               &  1               &  1               &  1               &  1              \\\\\n",
       "\t                  & Japan            & 36.0000          &  138.0000        & 0                & 0                & 0                & 0                & 0                & 0                & ...              & 10               & 15               & 16               & 19               & 22               & 22               & 27               & 29               & 29               & 29              \\\\\n",
       "\t                  & Singapore        &  1.2833          &  103.8333        & 0                & 0                & 0                & 0                & 0                & 0                & ...              &  0               &  0               &  0               &  0               &  0               &  0               &  0               &  0               &  0               &  0              \\\\\n",
       "\t                  & Nepal            & 28.1667          &   84.2500        & 0                & 0                & 0                & 0                & 0                & 0                & ...              &  0               &  0               &  0               &  0               &  0               &  0               &  0               &  0               &  0               &  0              \\\\\n",
       "\t                  & Malaysia         &  2.5000          &  112.5000        & 0                & 0                & 0                & 0                & 0                & 0                & ...              &  0               &  0               &  0               &  0               &  0               &  0               &  0               &  2               &  2               &  2              \\\\\n",
       "\t British Columbia & Canada           & 49.2827          & -123.1207        & 0                & 0                & 0                & 0                & 0                & 0                & ...              &  1               &  1               &  1               &  1               &  1               &  1               &  4               &  4               &  7               &  7              \\\\\n",
       "\\end{tabular}\n"
      ],
      "text/markdown": [
       "\n",
       "| Province.State | Country.Region | Lat | Long | X1.22.20 | X1.23.20 | X1.24.20 | X1.25.20 | X1.26.20 | X1.27.20 | ... | X3.10.20 | X3.11.20 | X3.12.20 | X3.13.20 | X3.14.20 | X3.15.20 | X3.16.20 | X3.17.20 | X3.18.20 | X3.19.20 |\n",
       "|---|---|---|---|---|---|---|---|---|---|---|---|---|---|---|---|---|---|---|---|---|\n",
       "|                  | Thailand         | 15.0000          |  101.0000        | 0                | 0                | 0                | 0                | 0                | 0                | ...              |  1               |  1               |  1               |  1               |  1               |  1               |  1               |  1               |  1               |  1               |\n",
       "|                  | Japan            | 36.0000          |  138.0000        | 0                | 0                | 0                | 0                | 0                | 0                | ...              | 10               | 15               | 16               | 19               | 22               | 22               | 27               | 29               | 29               | 29               |\n",
       "|                  | Singapore        |  1.2833          |  103.8333        | 0                | 0                | 0                | 0                | 0                | 0                | ...              |  0               |  0               |  0               |  0               |  0               |  0               |  0               |  0               |  0               |  0               |\n",
       "|                  | Nepal            | 28.1667          |   84.2500        | 0                | 0                | 0                | 0                | 0                | 0                | ...              |  0               |  0               |  0               |  0               |  0               |  0               |  0               |  0               |  0               |  0               |\n",
       "|                  | Malaysia         |  2.5000          |  112.5000        | 0                | 0                | 0                | 0                | 0                | 0                | ...              |  0               |  0               |  0               |  0               |  0               |  0               |  0               |  2               |  2               |  2               |\n",
       "| British Columbia | Canada           | 49.2827          | -123.1207        | 0                | 0                | 0                | 0                | 0                | 0                | ...              |  1               |  1               |  1               |  1               |  1               |  1               |  4               |  4               |  7               |  7               |\n",
       "\n"
      ],
      "text/plain": [
       "  Province.State   Country.Region Lat     Long      X1.22.20 X1.23.20 X1.24.20\n",
       "1                  Thailand       15.0000  101.0000 0        0        0       \n",
       "2                  Japan          36.0000  138.0000 0        0        0       \n",
       "3                  Singapore       1.2833  103.8333 0        0        0       \n",
       "4                  Nepal          28.1667   84.2500 0        0        0       \n",
       "5                  Malaysia        2.5000  112.5000 0        0        0       \n",
       "6 British Columbia Canada         49.2827 -123.1207 0        0        0       \n",
       "  X1.25.20 X1.26.20 X1.27.20 ... X3.10.20 X3.11.20 X3.12.20 X3.13.20 X3.14.20\n",
       "1 0        0        0        ...  1        1        1        1        1      \n",
       "2 0        0        0        ... 10       15       16       19       22      \n",
       "3 0        0        0        ...  0        0        0        0        0      \n",
       "4 0        0        0        ...  0        0        0        0        0      \n",
       "5 0        0        0        ...  0        0        0        0        0      \n",
       "6 0        0        0        ...  1        1        1        1        1      \n",
       "  X3.15.20 X3.16.20 X3.17.20 X3.18.20 X3.19.20\n",
       "1  1        1        1        1        1      \n",
       "2 22       27       29       29       29      \n",
       "3  0        0        0        0        0      \n",
       "4  0        0        0        0        0      \n",
       "5  0        0        2        2        2      \n",
       "6  1        4        4        7        7      "
      ]
     },
     "metadata": {},
     "output_type": "display_data"
    },
    {
     "data": {
      "text/html": [
       "<table>\n",
       "<thead><tr><th scope=col>Province.State</th><th scope=col>Country.Region</th><th scope=col>Lat</th><th scope=col>Long</th><th scope=col>X1.22.20</th><th scope=col>X1.23.20</th><th scope=col>X1.24.20</th><th scope=col>X1.25.20</th><th scope=col>X1.26.20</th><th scope=col>X1.27.20</th><th scope=col>...</th><th scope=col>X3.10.20</th><th scope=col>X3.11.20</th><th scope=col>X3.12.20</th><th scope=col>X3.13.20</th><th scope=col>X3.14.20</th><th scope=col>X3.15.20</th><th scope=col>X3.16.20</th><th scope=col>X3.17.20</th><th scope=col>X3.18.20</th><th scope=col>X3.19.20</th></tr></thead>\n",
       "<tbody>\n",
       "\t<tr><td>                </td><td>Thailand        </td><td>15.0000         </td><td> 101.0000       </td><td>0               </td><td>0               </td><td>0               </td><td>0               </td><td>2               </td><td>2               </td><td>...             </td><td> 33             </td><td> 34             </td><td> 34             </td><td> 35             </td><td> 35             </td><td> 35             </td><td> 35             </td><td> 41             </td><td> 42             </td><td> 42             </td></tr>\n",
       "\t<tr><td>                </td><td>Japan           </td><td>36.0000         </td><td> 138.0000       </td><td>0               </td><td>0               </td><td>0               </td><td>0               </td><td>1               </td><td>1               </td><td>...             </td><td>101             </td><td>118             </td><td>118             </td><td>118             </td><td>118             </td><td>118             </td><td>144             </td><td>144             </td><td>144             </td><td>150             </td></tr>\n",
       "\t<tr><td>                </td><td>Singapore       </td><td> 1.2833         </td><td> 103.8333       </td><td>0               </td><td>0               </td><td>0               </td><td>0               </td><td>0               </td><td>0               </td><td>...             </td><td> 78             </td><td> 96             </td><td> 96             </td><td> 97             </td><td>105             </td><td>105             </td><td>109             </td><td>114             </td><td>114             </td><td>114             </td></tr>\n",
       "\t<tr><td>                </td><td>Nepal           </td><td>28.1667         </td><td>  84.2500       </td><td>0               </td><td>0               </td><td>0               </td><td>0               </td><td>0               </td><td>0               </td><td>...             </td><td>  1             </td><td>  1             </td><td>  1             </td><td>  1             </td><td>  1             </td><td>  1             </td><td>  1             </td><td>  1             </td><td>  1             </td><td>  1             </td></tr>\n",
       "\t<tr><td>                </td><td>Malaysia        </td><td> 2.5000         </td><td> 112.5000       </td><td>0               </td><td>0               </td><td>0               </td><td>0               </td><td>0               </td><td>0               </td><td>...             </td><td> 24             </td><td> 26             </td><td> 26             </td><td> 26             </td><td> 35             </td><td> 42             </td><td> 42             </td><td> 49             </td><td> 60             </td><td> 75             </td></tr>\n",
       "\t<tr><td>British Columbia</td><td>Canada          </td><td>49.2827         </td><td>-123.1207       </td><td>0               </td><td>0               </td><td>0               </td><td>0               </td><td>0               </td><td>0               </td><td>...             </td><td>  4             </td><td>  4             </td><td>  4             </td><td>  4             </td><td>  4             </td><td>  4             </td><td>  4             </td><td>  4             </td><td>  4             </td><td>  4             </td></tr>\n",
       "</tbody>\n",
       "</table>\n"
      ],
      "text/latex": [
       "\\begin{tabular}{r|llllllllllllllllllllllllllllllllllllllllllllllllllllllllllllll}\n",
       " Province.State & Country.Region & Lat & Long & X1.22.20 & X1.23.20 & X1.24.20 & X1.25.20 & X1.26.20 & X1.27.20 & ... & X3.10.20 & X3.11.20 & X3.12.20 & X3.13.20 & X3.14.20 & X3.15.20 & X3.16.20 & X3.17.20 & X3.18.20 & X3.19.20\\\\\n",
       "\\hline\n",
       "\t                  & Thailand         & 15.0000          &  101.0000        & 0                & 0                & 0                & 0                & 2                & 2                & ...              &  33              &  34              &  34              &  35              &  35              &  35              &  35              &  41              &  42              &  42             \\\\\n",
       "\t                  & Japan            & 36.0000          &  138.0000        & 0                & 0                & 0                & 0                & 1                & 1                & ...              & 101              & 118              & 118              & 118              & 118              & 118              & 144              & 144              & 144              & 150             \\\\\n",
       "\t                  & Singapore        &  1.2833          &  103.8333        & 0                & 0                & 0                & 0                & 0                & 0                & ...              &  78              &  96              &  96              &  97              & 105              & 105              & 109              & 114              & 114              & 114             \\\\\n",
       "\t                  & Nepal            & 28.1667          &   84.2500        & 0                & 0                & 0                & 0                & 0                & 0                & ...              &   1              &   1              &   1              &   1              &   1              &   1              &   1              &   1              &   1              &   1             \\\\\n",
       "\t                  & Malaysia         &  2.5000          &  112.5000        & 0                & 0                & 0                & 0                & 0                & 0                & ...              &  24              &  26              &  26              &  26              &  35              &  42              &  42              &  49              &  60              &  75             \\\\\n",
       "\t British Columbia & Canada           & 49.2827          & -123.1207        & 0                & 0                & 0                & 0                & 0                & 0                & ...              &   4              &   4              &   4              &   4              &   4              &   4              &   4              &   4              &   4              &   4             \\\\\n",
       "\\end{tabular}\n"
      ],
      "text/markdown": [
       "\n",
       "| Province.State | Country.Region | Lat | Long | X1.22.20 | X1.23.20 | X1.24.20 | X1.25.20 | X1.26.20 | X1.27.20 | ... | X3.10.20 | X3.11.20 | X3.12.20 | X3.13.20 | X3.14.20 | X3.15.20 | X3.16.20 | X3.17.20 | X3.18.20 | X3.19.20 |\n",
       "|---|---|---|---|---|---|---|---|---|---|---|---|---|---|---|---|---|---|---|---|---|\n",
       "|                  | Thailand         | 15.0000          |  101.0000        | 0                | 0                | 0                | 0                | 2                | 2                | ...              |  33              |  34              |  34              |  35              |  35              |  35              |  35              |  41              |  42              |  42              |\n",
       "|                  | Japan            | 36.0000          |  138.0000        | 0                | 0                | 0                | 0                | 1                | 1                | ...              | 101              | 118              | 118              | 118              | 118              | 118              | 144              | 144              | 144              | 150              |\n",
       "|                  | Singapore        |  1.2833          |  103.8333        | 0                | 0                | 0                | 0                | 0                | 0                | ...              |  78              |  96              |  96              |  97              | 105              | 105              | 109              | 114              | 114              | 114              |\n",
       "|                  | Nepal            | 28.1667          |   84.2500        | 0                | 0                | 0                | 0                | 0                | 0                | ...              |   1              |   1              |   1              |   1              |   1              |   1              |   1              |   1              |   1              |   1              |\n",
       "|                  | Malaysia         |  2.5000          |  112.5000        | 0                | 0                | 0                | 0                | 0                | 0                | ...              |  24              |  26              |  26              |  26              |  35              |  42              |  42              |  49              |  60              |  75              |\n",
       "| British Columbia | Canada           | 49.2827          | -123.1207        | 0                | 0                | 0                | 0                | 0                | 0                | ...              |   4              |   4              |   4              |   4              |   4              |   4              |   4              |   4              |   4              |   4              |\n",
       "\n"
      ],
      "text/plain": [
       "  Province.State   Country.Region Lat     Long      X1.22.20 X1.23.20 X1.24.20\n",
       "1                  Thailand       15.0000  101.0000 0        0        0       \n",
       "2                  Japan          36.0000  138.0000 0        0        0       \n",
       "3                  Singapore       1.2833  103.8333 0        0        0       \n",
       "4                  Nepal          28.1667   84.2500 0        0        0       \n",
       "5                  Malaysia        2.5000  112.5000 0        0        0       \n",
       "6 British Columbia Canada         49.2827 -123.1207 0        0        0       \n",
       "  X1.25.20 X1.26.20 X1.27.20 ... X3.10.20 X3.11.20 X3.12.20 X3.13.20 X3.14.20\n",
       "1 0        2        2        ...  33       34       34       35       35     \n",
       "2 0        1        1        ... 101      118      118      118      118     \n",
       "3 0        0        0        ...  78       96       96       97      105     \n",
       "4 0        0        0        ...   1        1        1        1        1     \n",
       "5 0        0        0        ...  24       26       26       26       35     \n",
       "6 0        0        0        ...   4        4        4        4        4     \n",
       "  X3.15.20 X3.16.20 X3.17.20 X3.18.20 X3.19.20\n",
       "1  35       35       41       42       42     \n",
       "2 118      144      144      144      150     \n",
       "3 105      109      114      114      114     \n",
       "4   1        1        1        1        1     \n",
       "5  42       42       49       60       75     \n",
       "6   4        4        4        4        4     "
      ]
     },
     "metadata": {},
     "output_type": "display_data"
    }
   ],
   "source": [
    "# view sample\n",
    "head(check.Confirmed)\n",
    "head(check.Deaths)\n",
    "head(check.Recovered)"
   ]
  },
  {
   "cell_type": "markdown",
   "metadata": {},
   "source": [
    "#### We can see that type of collected data is: <u>time-series</u>\n",
    "> A <b>Time series data</b> of a variable have a set of observations on values at different points of time. They are usually collected at fixed intervals, such as daily, weekly, monthly, annually, quarterly, etc.\n",
    "\n",
    "<br />\n",
    "We observe that all the three datasets have same columns as well as the same type of data."
   ]
  },
  {
   "cell_type": "code",
   "execution_count": 6,
   "metadata": {},
   "outputs": [
    {
     "name": "stdout",
     "output_type": "stream",
     "text": [
      "Number of columns in all 3 datasets:-\n",
      "\n"
     ]
    },
    {
     "data": {
      "text/html": [
       "<table>\n",
       "<tbody>\n",
       "\t<tr><td>Confirmed</td><td>Deaths   </td><td>Recovered</td></tr>\n",
       "\t<tr><td>62       </td><td>62       </td><td>62       </td></tr>\n",
       "</tbody>\n",
       "</table>\n"
      ],
      "text/latex": [
       "\\begin{tabular}{lll}\n",
       "\t Confirmed & Deaths    & Recovered\\\\\n",
       "\t 62        & 62        & 62       \\\\\n",
       "\\end{tabular}\n"
      ],
      "text/markdown": [
       "\n",
       "| Confirmed | Deaths    | Recovered |\n",
       "| 62        | 62        | 62        |\n",
       "\n"
      ],
      "text/plain": [
       "     [,1]      [,2]   [,3]     \n",
       "[1,] Confirmed Deaths Recovered\n",
       "[2,] 62        62     62       "
      ]
     },
     "metadata": {},
     "output_type": "display_data"
    },
    {
     "name": "stdout",
     "output_type": "stream",
     "text": [
      "Dimentions of datasets:-\n"
     ]
    },
    {
     "data": {
      "text/html": [
       "<ol class=list-inline>\n",
       "\t<li>468</li>\n",
       "\t<li>62</li>\n",
       "</ol>\n"
      ],
      "text/latex": [
       "\\begin{enumerate*}\n",
       "\\item 468\n",
       "\\item 62\n",
       "\\end{enumerate*}\n"
      ],
      "text/markdown": [
       "1. 468\n",
       "2. 62\n",
       "\n",
       "\n"
      ],
      "text/plain": [
       "[1] 468  62"
      ]
     },
     "metadata": {},
     "output_type": "display_data"
    }
   ],
   "source": [
    "# columns\n",
    "cat(\"Number of columns in all 3 datasets:-\\n\\n\")\n",
    "\n",
    "matrix(\n",
    "    c(\"Confirmed\", \"Deaths\", \"Recovered\", ncol(check.Confirmed), ncol(check.Deaths), ncol(check.Recovered)),\n",
    "    nrow = 2, ncol = 3, byrow = T\n",
    ")\n",
    "\n",
    "# Dimention\n",
    "cat(\"Dimentions of datasets:-\\n\")   # same for all 3\n",
    "dim(check.Confirmed)\n",
    "\n",
    "\n",
    "######################\n",
    "# columns' name\n",
    "#cat(\"Name of columns in all 3 datasets:-\\n\")\n",
    "\n",
    "#colnames(check.Confirmed)\n",
    "#colnames(check.Deaths)\n",
    "#colnames(check.Recovered)"
   ]
  },
  {
   "cell_type": "markdown",
   "metadata": {},
   "source": [
    "<br />\n",
    "Let's see the structure of these datasets:"
   ]
  },
  {
   "cell_type": "code",
   "execution_count": 7,
   "metadata": {},
   "outputs": [
    {
     "name": "stdout",
     "output_type": "stream",
     "text": [
      "'data.frame':\t468 obs. of  62 variables:\n",
      " $ Province.State: Factor w/ 321 levels \"\",\"Adams, IN\",..: 1 1 1 1 1 25 196 298 237 1 ...\n",
      " $ Country.Region: Factor w/ 155 levels \"Afghanistan\",..: 142 76 129 103 90 27 8 8 8 25 ...\n",
      " $ Lat           : num  15 36 1.28 28.17 2.5 ...\n",
      " $ Long          : num  101 138 103.8 84.2 112.5 ...\n",
      " $ X1.22.20      : int  2 2 0 0 0 0 0 0 0 0 ...\n",
      " $ X1.23.20      : int  3 1 1 0 0 0 0 0 0 0 ...\n",
      " $ X1.24.20      : int  5 2 3 0 0 0 0 0 0 0 ...\n",
      " $ X1.25.20      : int  7 2 3 1 3 0 0 0 0 0 ...\n",
      " $ X1.26.20      : int  8 4 4 1 4 0 3 1 0 0 ...\n",
      " $ X1.27.20      : int  8 4 5 1 4 0 4 1 0 1 ...\n",
      " $ X1.28.20      : int  14 7 7 1 4 1 4 1 0 1 ...\n",
      " $ X1.29.20      : int  14 7 7 1 7 1 4 1 1 1 ...\n",
      " $ X1.30.20      : int  14 11 10 1 8 1 4 2 3 1 ...\n",
      " $ X1.31.20      : int  19 15 13 1 8 1 4 3 2 1 ...\n",
      " $ X2.1.20       : int  19 20 16 1 8 1 4 4 3 1 ...\n",
      " $ X2.2.20       : int  19 20 18 1 8 1 4 4 2 1 ...\n",
      " $ X2.3.20       : int  19 20 18 1 8 1 4 4 2 1 ...\n",
      " $ X2.4.20       : int  25 22 24 1 10 1 4 4 3 1 ...\n",
      " $ X2.5.20       : int  25 22 28 1 12 2 4 4 3 1 ...\n",
      " $ X2.6.20       : int  25 45 28 1 12 2 4 4 4 1 ...\n",
      " $ X2.7.20       : int  25 25 30 1 12 4 4 4 5 1 ...\n",
      " $ X2.8.20       : int  32 25 33 1 16 4 4 4 5 1 ...\n",
      " $ X2.9.20       : int  32 26 40 1 16 4 4 4 5 1 ...\n",
      " $ X2.10.20      : int  32 26 45 1 18 4 4 4 5 1 ...\n",
      " $ X2.11.20      : int  33 26 47 1 18 4 4 4 5 1 ...\n",
      " $ X2.12.20      : int  33 28 50 1 18 4 4 4 5 1 ...\n",
      " $ X2.13.20      : int  33 28 58 1 19 4 4 4 5 1 ...\n",
      " $ X2.14.20      : int  33 29 67 1 19 4 4 4 5 1 ...\n",
      " $ X2.15.20      : int  33 43 72 1 22 4 4 4 5 1 ...\n",
      " $ X2.16.20      : int  34 59 75 1 22 4 4 4 5 1 ...\n",
      " $ X2.17.20      : int  35 66 77 1 22 5 4 4 5 1 ...\n",
      " $ X2.18.20      : int  35 74 81 1 22 5 4 4 5 1 ...\n",
      " $ X2.19.20      : int  35 84 84 1 22 5 4 4 5 1 ...\n",
      " $ X2.20.20      : int  35 94 84 1 22 5 4 4 5 1 ...\n",
      " $ X2.21.20      : int  35 105 85 1 22 6 4 4 5 1 ...\n",
      " $ X2.22.20      : int  35 122 85 1 22 6 4 4 5 1 ...\n",
      " $ X2.23.20      : int  35 147 89 1 22 6 4 4 5 1 ...\n",
      " $ X2.24.20      : int  35 159 89 1 22 6 4 4 5 1 ...\n",
      " $ X2.25.20      : int  37 170 91 1 22 7 4 4 5 1 ...\n",
      " $ X2.26.20      : int  40 189 93 1 22 7 4 4 5 1 ...\n",
      " $ X2.27.20      : int  40 214 93 1 23 7 4 4 5 1 ...\n",
      " $ X2.28.20      : int  41 228 93 1 23 7 4 4 5 1 ...\n",
      " $ X2.29.20      : int  42 241 102 1 25 8 4 7 9 1 ...\n",
      " $ X3.1.20       : int  42 256 106 1 29 8 6 7 9 1 ...\n",
      " $ X3.2.20       : int  43 274 108 1 29 8 6 9 9 1 ...\n",
      " $ X3.3.20       : int  43 293 110 1 36 9 13 9 11 1 ...\n",
      " $ X3.4.20       : int  43 331 110 1 50 12 22 10 11 1 ...\n",
      " $ X3.5.20       : int  47 360 117 1 50 13 22 10 13 1 ...\n",
      " $ X3.6.20       : int  48 420 130 1 83 21 26 10 13 1 ...\n",
      " $ X3.7.20       : int  50 461 138 1 93 21 28 11 13 1 ...\n",
      " $ X3.8.20       : int  50 502 150 1 99 27 38 11 15 2 ...\n",
      " $ X3.9.20       : int  50 511 150 1 117 32 48 15 15 2 ...\n",
      " $ X3.10.20      : int  53 581 160 1 129 32 55 18 18 2 ...\n",
      " $ X3.11.20      : int  59 639 178 1 149 39 65 21 20 3 ...\n",
      " $ X3.12.20      : int  70 639 178 1 149 46 65 21 20 3 ...\n",
      " $ X3.13.20      : int  75 701 200 1 197 64 92 36 35 5 ...\n",
      " $ X3.14.20      : int  82 773 212 1 238 64 112 49 46 7 ...\n",
      " $ X3.15.20      : int  114 839 226 1 428 73 134 57 61 7 ...\n",
      " $ X3.16.20      : int  147 825 243 1 566 103 171 71 68 7 ...\n",
      " $ X3.17.20      : int  177 878 266 1 673 103 210 94 78 33 ...\n",
      " $ X3.18.20      : int  212 889 313 1 790 186 267 121 94 35 ...\n",
      " $ X3.19.20      : int  272 924 345 1 900 231 307 121 144 37 ...\n"
     ]
    }
   ],
   "source": [
    "str(check.Confirmed)\n",
    "#str(check.Deaths)\n",
    "#str(check.Recovered)"
   ]
  },
  {
   "cell_type": "markdown",
   "metadata": {},
   "source": [
    "<br />\n",
    "\n",
    "### Explanation of each columns in fetched data:-\n",
    "* There are 3 dedicated databases for data about Confirmed/Death/Recovery cases, all around the world\n",
    "\n",
    "> #### Province.State:\n",
    "   > * Data-type: **factor** they can be specific, unique and valid names\n",
    "   > * Holds name of City/Province/State, where the data is coming from\n",
    "   > * Eg.: _Hubei_\n",
    ">\n",
    "> #### Country.Region:\n",
    "   > * Data-type: **factor** they can be specific, unique and valid names\n",
    "   > * Holds name of the country, in which the reported area comes\n",
    "   > * Eg.: _China_ (Hubei is a Province of China)\n",
    ">\n",
    "> #### Lat:\n",
    "   > * Data-type: **numeric** (i.e. can have values in decimals, too)\n",
    "   > * Holds the Latitude position of the given place(as in col1)\n",
    "   > * Eg.: _Latitude_ position of Hubei = 30.9756\n",
    ">\n",
    "> #### Long:\n",
    "   > * Data-type: **numeric** (i.e. can have values in decimals, too)\n",
    "   > * Holds the longitude position of the given place(as in col1)\n",
    "   > * Eg.: _Longitude_ position of Hubei = 112.2707\n",
    ">\n",
    "> #### Col. 5 to 62:\n",
    "   > * Data-type: **integer** (i.e. discrete) and remains _always positive_ as it determines  the _no, of individuals_\n",
    "   > * It's a time series data where the data is collected at various interval of time\n",
    "   > * Each datum value is represented, based on the different days in series (from 22/01/2020)\n",
    "   > * The constant entity is the location, whose data is represented in every row"
   ]
  },
  {
   "cell_type": "code",
   "execution_count": 13,
   "metadata": {},
   "outputs": [
    {
     "name": "stdout",
     "output_type": "stream",
     "text": [
      "\n",
      "A sample data of a location from \"Confirmed Cases'\" dataset:\n"
     ]
    },
    {
     "data": {
      "text/html": [
       "<table>\n",
       "<thead><tr><th></th><th scope=col>Province.State</th><th scope=col>Country.Region</th><th scope=col>Lat</th><th scope=col>Long</th><th scope=col>X1.22.20</th><th scope=col>X1.23.20</th><th scope=col>X1.24.20</th><th scope=col>X1.25.20</th><th scope=col>X1.26.20</th><th scope=col>X1.27.20</th><th scope=col>...</th><th scope=col>X3.10.20</th><th scope=col>X3.11.20</th><th scope=col>X3.12.20</th><th scope=col>X3.13.20</th><th scope=col>X3.14.20</th><th scope=col>X3.15.20</th><th scope=col>X3.16.20</th><th scope=col>X3.17.20</th><th scope=col>X3.18.20</th><th scope=col>X3.19.20</th></tr></thead>\n",
       "<tbody>\n",
       "\t<tr><th scope=row>155</th><td>Hubei   </td><td>China   </td><td>30.9756 </td><td>112.2707</td><td>444     </td><td>444     </td><td>549     </td><td>761     </td><td>1058    </td><td>1423    </td><td>...     </td><td>67760   </td><td>67773   </td><td>67781   </td><td>67786   </td><td>67790   </td><td>67794   </td><td>67798   </td><td>67799   </td><td>67800   </td><td>67800   </td></tr>\n",
       "</tbody>\n",
       "</table>\n"
      ],
      "text/latex": [
       "\\begin{tabular}{r|llllllllllllllllllllllllllllllllllllllllllllllllllllllllllllll}\n",
       "  & Province.State & Country.Region & Lat & Long & X1.22.20 & X1.23.20 & X1.24.20 & X1.25.20 & X1.26.20 & X1.27.20 & ... & X3.10.20 & X3.11.20 & X3.12.20 & X3.13.20 & X3.14.20 & X3.15.20 & X3.16.20 & X3.17.20 & X3.18.20 & X3.19.20\\\\\n",
       "\\hline\n",
       "\t155 & Hubei    & China    & 30.9756  & 112.2707 & 444      & 444      & 549      & 761      & 1058     & 1423     & ...      & 67760    & 67773    & 67781    & 67786    & 67790    & 67794    & 67798    & 67799    & 67800    & 67800   \\\\\n",
       "\\end{tabular}\n"
      ],
      "text/markdown": [
       "\n",
       "| <!--/--> | Province.State | Country.Region | Lat | Long | X1.22.20 | X1.23.20 | X1.24.20 | X1.25.20 | X1.26.20 | X1.27.20 | ... | X3.10.20 | X3.11.20 | X3.12.20 | X3.13.20 | X3.14.20 | X3.15.20 | X3.16.20 | X3.17.20 | X3.18.20 | X3.19.20 |\n",
       "|---|---|---|---|---|---|---|---|---|---|---|---|---|---|---|---|---|---|---|---|---|---|\n",
       "| 155 | Hubei    | China    | 30.9756  | 112.2707 | 444      | 444      | 549      | 761      | 1058     | 1423     | ...      | 67760    | 67773    | 67781    | 67786    | 67790    | 67794    | 67798    | 67799    | 67800    | 67800    |\n",
       "\n"
      ],
      "text/plain": [
       "    Province.State Country.Region Lat     Long     X1.22.20 X1.23.20 X1.24.20\n",
       "155 Hubei          China          30.9756 112.2707 444      444      549     \n",
       "    X1.25.20 X1.26.20 X1.27.20 ... X3.10.20 X3.11.20 X3.12.20 X3.13.20 X3.14.20\n",
       "155 761      1058     1423     ... 67760    67773    67781    67786    67790   \n",
       "    X3.15.20 X3.16.20 X3.17.20 X3.18.20 X3.19.20\n",
       "155 67794    67798    67799    67800    67800   "
      ]
     },
     "metadata": {},
     "output_type": "display_data"
    }
   ],
   "source": [
    "# showing data of Hubei\n",
    "cat(\"\\nA sample data of a location from \\\"Confirmed Cases\\'\\\" dataset:\\n\")\n",
    "check.Confirmed[which(str_detect(check.Confirmed$Province.State, \"Hubei\")),]"
   ]
  },
  {
   "cell_type": "markdown",
   "metadata": {},
   "source": [
    "<br />"
   ]
  }
 ],
 "metadata": {
  "kernelspec": {
   "display_name": "R",
   "language": "R",
   "name": "ir"
  },
  "language_info": {
   "codemirror_mode": "r",
   "file_extension": ".r",
   "mimetype": "text/x-r-source",
   "name": "R",
   "pygments_lexer": "r",
   "version": "3.6.1"
  }
 },
 "nbformat": 4,
 "nbformat_minor": 2
}
