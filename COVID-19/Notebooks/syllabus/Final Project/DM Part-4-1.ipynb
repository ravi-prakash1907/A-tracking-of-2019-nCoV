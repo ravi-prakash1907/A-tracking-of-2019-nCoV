{
 "cells": [
  {
   "cell_type": "markdown",
   "metadata": {},
   "source": [
    "## <u>Modeling:</u>\n",
    "\n",
    "> * <a href=\"#Extracting-China\">EXTRACTING CHINA</a>\n",
    "> * <a href=\"#Choosing-the-Right-Algo.\">CHOOSING THE RIGHT ALGO.</a>\n",
    "> * <a href=\"#Data-Splitting:-train-test\">DATA SPLITTING: Train-Test</a>\n",
    "> * <a href=\"#Selection-of-an-algorithm\">ALGORITHMS</a>\n",
    "    * <a href=\"#1.-SVMK-Regression\">SVMK Regression</a>\n",
    "    * <a href=\"#2.-KNN-Regression\">KNN Regression</a>\n",
    "    * <a href=\"#3.-Linear-Regression\">Linear Regression</a>\n",
    "    * <a href=\"#4.-Polynomial-regression\">Polynomial Regression</a>\n"
   ]
  },
  {
   "cell_type": "markdown",
   "metadata": {},
   "source": [
    "* Now we have the data of all the different countries as well as the aggregate date-wise data of the whole world, too.\n",
    "* Also, we have data of some special locations, lying far away from the trend (say outliers)\n",
    "<br /><br /> \n",
    "* So, we have to decide that which Country, we are going to do our analysis\n",
    "    * It can be chosen with the help of the following function"
   ]
  },
  {
   "cell_type": "code",
   "execution_count": 1,
   "metadata": {},
   "outputs": [],
   "source": [
    "\n",
    "# extracting the desired dataset\n",
    "extractDatases <- function(region){\n",
    "    if(region %in% c(\"Hubei\", \"World\", \"Diamond Princess\")) {\n",
    "    temp = four[which(str_detect(four$Location, region)),]\n",
    "    row.names(temp) <- NULL\n",
    "} else {\n",
    "    temp = all[which(str_detect(all$Country, region)),]\n",
    "    row.names(temp) <- NULL\n",
    "}\n",
    "\n",
    "return(temp)\n",
    "}\n"
   ]
  },
  {
   "cell_type": "markdown",
   "metadata": {},
   "source": [
    "<br /> \n",
    "### Extracting China"
   ]
  },
  {
   "cell_type": "code",
   "execution_count": 3,
   "metadata": {},
   "outputs": [],
   "source": [
    "# country i.e. to be used throughout the analysis\n",
    "rName = \"China\" # without hubei"
   ]
  },
  {
   "cell_type": "code",
   "execution_count": 2,
   "metadata": {},
   "outputs": [
    {
     "ename": "ERROR",
     "evalue": "Error in region %in% c(\"Hubei\", \"World\", \"Diamond Princess\"): object 'rName' not found\n",
     "output_type": "error",
     "traceback": [
      "Error in region %in% c(\"Hubei\", \"World\", \"Diamond Princess\"): object 'rName' not found\nTraceback:\n",
      "1. extractDatases(rName)",
      "2. region %in% c(\"Hubei\", \"World\", \"Diamond Princess\")   # at line 4-10 of file <text>"
     ]
    }
   ],
   "source": [
    "# filtering out desired country/location \n",
    "region1 = extractDatases(rName)"
   ]
  },
  {
   "cell_type": "code",
   "execution_count": 5,
   "metadata": {},
   "outputs": [
    {
     "ename": "ERROR",
     "evalue": "Error in extractDatases(\"Hubei\"): object 'four' not found\n",
     "output_type": "error",
     "traceback": [
      "Error in extractDatases(\"Hubei\"): object 'four' not found\nTraceback:\n",
      "1. extractDatases(\"Hubei\")"
     ]
    }
   ],
   "source": [
    "# so we are missing something, when we have outliers saperatly,\n",
    "    # better is that we join Hubei data in China so that our Countries' dataset don't have any vulnarability\n",
    "\n",
    "# joining Hubei for complete data of china\n",
    "region2 = extractDatases(\"Hubei\")\n",
    "region = cbind(region1[,1:3], region1[,4:8]+region2[,4:8])"
   ]
  },
  {
   "cell_type": "code",
   "execution_count": 6,
   "metadata": {},
   "outputs": [
    {
     "ename": "ERROR",
     "evalue": "Error in percent(\"region\"): could not find function \"percent\"\n",
     "output_type": "error",
     "traceback": [
      "Error in percent(\"region\"): could not find function \"percent\"\nTraceback:\n"
     ]
    }
   ],
   "source": [
    "# filtering out desired country/location \n",
    "\n",
    "region$'percent_active' = percent(\"region\")     # Active cases, out of every 100 Confirmed cases\n",
    "region$'percent_closed' = 100-percent(\"region\") # Closed cases, out of every 100 Confirmed cases\n",
    "\n",
    "head(region)"
   ]
  },
  {
   "cell_type": "markdown",
   "metadata": {},
   "source": [
    "<br /> \n",
    "Because, it is the dataset of China, the **Country** column is not necessary.<br />\n",
    "Simillarly, there is no need of **Date**, when we have <u>Day</u>"
   ]
  },
  {
   "cell_type": "code",
   "execution_count": 3,
   "metadata": {},
   "outputs": [
    {
     "ename": "ERROR",
     "evalue": "Error in eval(expr, envir, enclos): object 'region' not found\n",
     "output_type": "error",
     "traceback": [
      "Error in eval(expr, envir, enclos): object 'region' not found\nTraceback:\n"
     ]
    }
   ],
   "source": [
    "region=region[,c(-1, -3)]\n",
    "head(region, 10)"
   ]
  },
  {
   "cell_type": "markdown",
   "metadata": {},
   "source": [
    "<br /> \n",
    "<center> <u><em>Now our Dataset is ready for modling</em></u> </center>\n",
    "<br />"
   ]
  },
  {
   "cell_type": "markdown",
   "metadata": {},
   "source": [
    "### Choosing the Right Algo."
   ]
  },
  {
   "cell_type": "code",
   "execution_count": 4,
   "metadata": {},
   "outputs": [
    {
     "ename": "ERROR",
     "evalue": "Error in theme_set(theme_classic()): could not find function \"theme_set\"\n",
     "output_type": "error",
     "traceback": [
      "Error in theme_set(theme_classic()): could not find function \"theme_set\"\nTraceback:\n"
     ]
    }
   ],
   "source": [
    "# setting the theme\n",
    "theme_set(theme_classic())\n",
    "# setting plot size\n",
    "options(repr.plot.width=8, repr.plot.height=8)"
   ]
  },
  {
   "cell_type": "markdown",
   "metadata": {},
   "source": [
    "<br /> <br /> \n",
    "We are working onto a **Predictive Data Analysis** (as discussed earlier) project.<br />\n",
    "So, in this situation, we can choose between two types of predictive algorithms, based on our objective.<br />\n",
    "<br /> \n",
    "<font size=\"3\">\n",
    "<u>These 2 categories are</u>:-<br />\n",
    "    \n",
    "1. Classification\n",
    "2. Regression\n",
    "</font>\n",
    "\n",
    "\n",
    "\n",
    "<center>\n",
    "    <u>To estimate the future status of COVID-19 cases in China - we'll be using <b>Regression</b></u>\n",
    "</center>\n",
    "\n",
    "\n",
    "\n",
    "<br /> \n",
    "## * Why Regression and not Classification?\n",
    "<br /> \n",
    "<font size=\"3\">\n",
    "* <u>Classification</u>:\n",
    "    * It is used to categorize the given data-points, there are discrete (i.e. selective) number of the categories.<br />\n",
    "    * Every new data point (for which the estimation is being made) must belong to any of the existing class/category, only.<br />\n",
    "<br /><br /> \n",
    "* <u>Regression</u>:\n",
    "    * It predicts the new possible outcome, based on the earlier trend.<br />\n",
    "    * There is NO such necessity for the predicted value that it must be one among the given set of categories.<br />\n",
    "</font>\n",
    "\n",
    "<hr /><br /> <br /> \n",
    "<center>\n",
    "    <i>We want to calculate that what might be the upcoming figure for <em>Active Cases' %</em> in China, particularly; that ain't be limited values.</i>\n",
    "    <br /> <br /> \n",
    "    <font size=\"4\">\n",
    "        <u>That's why, Regression has to be used!!</u>\n",
    "    </font>\n",
    "</center>\n",
    "\n",
    "\n",
    "\n",
    "<br /> \n",
    "We will compare mainly <u>3 regression algorithms</u> to predict the required value from rest all of the columns.<br />\n",
    "Then based onto the accuracy of the prediction using different columns, we'll choose the column that has to be used for prediction."
   ]
  },
  {
   "cell_type": "code",
   "execution_count": 5,
   "metadata": {},
   "outputs": [
    {
     "ename": "ERROR",
     "evalue": "Error in eval(expr, envir, enclos): object 'region' not found\n",
     "output_type": "error",
     "traceback": [
      "Error in eval(expr, envir, enclos): object 'region' not found\nTraceback:\n"
     ]
    }
   ],
   "source": [
    "## REGRASSIONs\n",
    "\n",
    "# converting from Factor\n",
    "region$Day <- as.numeric(as.character(region$Day))\n",
    "\n",
    "x <- as.matrix(region[,1:6, 8])\n",
    "y <- as.matrix(region[,7])\n",
    "\n",
    "end = \"\\n\\n#############################################################\\n\\n\\n\"\n",
    "\n",
    "cat(\"\\n\\nLinear Regression:\\n------------------\\n\")\n",
    "# fit model\n",
    "fit <- lm(percent_active~., region)\n",
    "# summarize the fit\n",
    "summary(fit)\n",
    "# make predictions\n",
    "predictions <- predict(fit, region)\n",
    "# summarize accuracy\n",
    "mse <- sqrt(mean((region$percent_active - predictions)^2))\n",
    "cat(\"RMSE: \", mse)\n",
    "\n",
    "\n",
    "\n",
    "cat(end, \"k-Nearest Neighbors:\\n--------------------\\n\")\n",
    "# load the libraries\n",
    "# fit model\n",
    "fit <- knnreg(x, y, k=3)\n",
    "# summarize the fit\n",
    "summary(fit)\n",
    "# make predictions\n",
    "predictions <- predict(fit, x)\n",
    "# summarize accuracy\n",
    "mse <- sqrt(mean((y - predictions)^2))\n",
    "cat(\"RMSE: \", mse)\n",
    "\n",
    "\n",
    "\n",
    "cat(end, \"Support Vector Machine:\\n-----------------------\\n\")\n",
    "# fit model\n",
    "fit <- ksvm(percent_active~., region, kernel=\"rbfdot\")\n",
    "# summarize the fit\n",
    "summary(fit)\n",
    "# make predictions\n",
    "predictions <- predict(fit, region)\n",
    "# summarize accuracy\n",
    "mse <- sqrt(mean((y - predictions)^2))\n",
    "cat(\"RMSE: \", mse)\n",
    "\n",
    "\n",
    "\n",
    "\n",
    "#############################################################"
   ]
  },
  {
   "cell_type": "markdown",
   "metadata": {},
   "source": [
    "<hr />\n",
    "<br /><br /> \n",
    "<font size=\"3\">\n",
    "    From the summary of different regression algorithms above, we find that <b>Day</b> column should be given the priority.\n",
    "\n",
    "As inn the summary of linear regression:<br /><br /> \n",
    "```\n",
    "                  | Estimate Std.|  Error    |  t value  |  Pr(>|t|)  \n",
    "     -------------|--------------|-----------|-----------|-----------\n",
    "     (Intercept)  |  1.000e+02   | 1.202e-14 | 8.319e+15 |   < 2e-16  ***\n",
    "     Day          |  5.221e-15   | 1.270e-15 | 4.112e+00 |  0.000140  ***\n",
    "```\n",
    "<br /> \n",
    "\n",
    "* Though, Active Case(%) can easily be calculated if we know Closed Case(%) or data About Confirmed/Death/Recovered cases data\n",
    "    * but we actually don't have any of these things, because once we know that we'd have the future estimate as well.\n",
    "    * and won't even this whole analysis.\n",
    "<br /><br /> \n",
    "* So, finally we know that we should choose **Days** for Active Case(%).<br />\n",
    "</font>"
   ]
  },
  {
   "cell_type": "code",
   "execution_count": 13,
   "metadata": {},
   "outputs": [
    {
     "ename": "ERROR",
     "evalue": "Error in ggplot(region, aes(x = region$Day, y = region$percent_active)): could not find function \"ggplot\"\n",
     "output_type": "error",
     "traceback": [
      "Error in ggplot(region, aes(x = region$Day, y = region$percent_active)): could not find function \"ggplot\"\nTraceback:\n"
     ]
    }
   ],
   "source": [
    "# Visualizing the available data as a scatter plot to see how the Active Cases(%) in China has varied over days, since 22nd January, 2020\n",
    "\n",
    "# Day vs Active Cases(%)\n",
    "region.scatter.plot <- ggplot(region, aes(x = region$Day, y = region$percent_active)) +\n",
    "                        geom_point() +\n",
    "                        labs( x = \"Days\", y = \"Active Cases (%)\") +\n",
    "                        theme(\n",
    "                              text = element_text(family = \"Gill Sans\")\n",
    "                              ,plot.title = element_text(size = 20, face = \"bold\", hjust = 0.5)\n",
    "                              ,plot.subtitle = element_text(size = 25, family = \"Courier\", face = \"bold\", hjust = 0.5)\n",
    "                              ,axis.text = element_text(size = 12)\n",
    "                              ,axis.title = element_text(size = 20)\n",
    "                              )\n",
    "              \n",
    "region.scatter.plot"
   ]
  },
  {
   "cell_type": "markdown",
   "metadata": {},
   "source": [
    "<br /> \n",
    "From the above visualization, it's clear that on an average, the active case percentage has kept on decreasing over the days<br />\n",
    "\n",
    "Now we'll **split** our China dataset for <u>*training(80%) &amp; testing(20%)*</u> "
   ]
  },
  {
   "cell_type": "markdown",
   "metadata": {},
   "source": [
    "<br /> \n",
    "### Data Splitting: train-test"
   ]
  },
  {
   "cell_type": "code",
   "execution_count": 6,
   "metadata": {},
   "outputs": [
    {
     "ename": "ERROR",
     "evalue": "Error in region$Day %>% createDataPartition(p = 0.8, list = FALSE): could not find function \"%>%\"\n",
     "output_type": "error",
     "traceback": [
      "Error in region$Day %>% createDataPartition(p = 0.8, list = FALSE): could not find function \"%>%\"\nTraceback:\n"
     ]
    }
   ],
   "source": [
    "set.seed(20) # generages same set of random sample every time\n",
    "\n",
    "training.samples <- region$Day %>%\n",
    "  createDataPartition(p = 0.8, list = FALSE)\n",
    "\n",
    "train.data  <- region[training.samples, ]\n",
    "test.data <- region[-training.samples, ]\n",
    "\n",
    "# Dimentions of the splitted datasets\n",
    "dim(train.data)\n",
    "dim(test.data)"
   ]
  },
  {
   "cell_type": "code",
   "execution_count": 7,
   "metadata": {},
   "outputs": [
    {
     "ename": "ERROR",
     "evalue": "Error in head(train.data, 3): object 'train.data' not found\n",
     "output_type": "error",
     "traceback": [
      "Error in head(train.data, 3): object 'train.data' not found\nTraceback:\n",
      "1. head(train.data, 3)"
     ]
    }
   ],
   "source": [
    "head(train.data, 3)\n",
    "head(test.data, 3)"
   ]
  },
  {
   "cell_type": "markdown",
   "metadata": {},
   "source": [
    "<br />\n",
    "\n",
    "### Selection of an algorithm\n",
    "As our training & testing datasets are ready, now we have to select the <u>right regression algorithm to train our model</u><br /> \n",
    "<br />\n",
    "<font size=\"3\">\n",
    "\n",
    "For this, we will compare four regression algorithms i.e.\n",
    "    1. Support Vector Machines Regression\n",
    "    2. k-Nearest Neighbor Regression\n",
    "    3. Linear Regression\n",
    "    4. Polynomial Regression\n",
    "    \n",
    "<br /> \n",
    "### What should be compared?\n",
    "* Errors (should be minimized)\n",
    "* Accuracy (should be maximized)\n",
    "* R-Squared (R<sup>2</sup>)\n",
    "* How perfectly the model fits while testing (as in the graphs) etc..\n",
    "</font>\n",
    "\n",
    "<hr /><br /> "
   ]
  }
 ],
 "metadata": {
  "kernelspec": {
   "display_name": "R",
   "language": "R",
   "name": "ir"
  },
  "language_info": {
   "codemirror_mode": "r",
   "file_extension": ".r",
   "mimetype": "text/x-r-source",
   "name": "R",
   "pygments_lexer": "r",
   "version": "3.6.1"
  }
 },
 "nbformat": 4,
 "nbformat_minor": 2
}
