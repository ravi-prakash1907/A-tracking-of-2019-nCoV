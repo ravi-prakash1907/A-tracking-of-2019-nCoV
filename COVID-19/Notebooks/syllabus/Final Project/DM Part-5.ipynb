{
 "cells": [
  {
   "cell_type": "markdown",
   "metadata": {},
   "source": [
    "## <u>Evaluation:</u>\n",
    "\n",
    "> * <a href=\"#*-Comparision:-Among-Algorithms\">COMPARISION</a>\n",
    "> * <a href=\"#*-Finalized-Algo\">FINALIZED ALGO.</a>"
   ]
  },
  {
   "cell_type": "markdown",
   "metadata": {},
   "source": [
    "### * Comparison: Among Algorithms"
   ]
  },
  {
   "cell_type": "code",
   "execution_count": 1,
   "metadata": {},
   "outputs": [
    {
     "name": "stdout",
     "output_type": "stream",
     "text": [
      "\n",
      "Support Vector Machine Regression"
     ]
    },
    {
     "ename": "ERROR",
     "evalue": "Error in eval(expr, envir, enclos): object 'svm.predictions' not found\n",
     "output_type": "error",
     "traceback": [
      "Error in eval(expr, envir, enclos): object 'svm.predictions' not found\nTraceback:\n"
     ]
    }
   ],
   "source": [
    "# Let's evaluate and compare the 4 model algorithms\n",
    "\n",
    "# Performance (Accurecy) table\n",
    "cat(\"\\nSupport Vector Machine Regression\")\n",
    "svm.predictions\n",
    "cat(\"\\nk-Nearest Neighbour Regression\")\n",
    "knn.predictions\n",
    "cat(\"\\nLinear Regression\")\n",
    "lm.predictions\n",
    "cat(\"\\nPolynomial Regression\")\n",
    "plm.predictions[which(plm.predictions$Degree == deg),c('RMSE', 'R2')]"
   ]
  },
  {
   "cell_type": "code",
   "execution_count": 3,
   "metadata": {},
   "outputs": [
    {
     "ename": "ERROR",
     "evalue": "Error in cbind(Day = test.data$Day, `Actual Active Case(%)` = test.data$percent_active, : object 'test.data' not found\n",
     "output_type": "error",
     "traceback": [
      "Error in cbind(Day = test.data$Day, `Actual Active Case(%)` = test.data$percent_active, : object 'test.data' not found\nTraceback:\n",
      "1. cbind(Day = test.data$Day, `Actual Active Case(%)` = test.data$percent_active, \n .     `Predicted by SVMK` = svmk.tested$Pridicted_percent_active, \n .     `Predicted by KNN` = knn.tested$Pridicted_percent_active, \n .     `Predicted by LM` = lm.tested$Pridicted_percent_active, `Predicted by Poly LM` = plm.tested$Pridicted_percent_active)"
     ]
    }
   ],
   "source": [
    "# Creating a comparision table to compare the predicted values by all four models\n",
    "Prediction = cbind(\n",
    "                \"Day\" = test.data$Day,\n",
    "                \"Actual Active Case(%)\" = test.data$percent_active,\n",
    "                \"Predicted by SVMK\" = svmk.tested$Pridicted_percent_active,\n",
    "                \"Predicted by kNN\" = knn.tested$Pridicted_percent_active,\n",
    "                \"Predicted by LM\" = lm.tested$Pridicted_percent_active,\n",
    "                \"Predicted by Poly LM\" = plm.tested$Pridicted_percent_active\n",
    "             )\n",
    "Prediction"
   ]
  },
  {
   "cell_type": "markdown",
   "metadata": {},
   "source": [
    "<br /><br /> \n",
    "### * Finalized Algo\n",
    "<br />\n",
    "<font size=\"3\">\n",
    "\n",
    "Among these **four** algorithms, our study leads us to choose the <u>Polynomial Regression</u> for modeling.<br /><br />\n",
    "    \n",
    "**It is so because:**\n",
    "> * <u>Based on all four models' performance, it has:</u>\n",
    "    1. Comparatively better values Root Mean Squared Error (**RMSE**) and R-Squared values (**R<sup>2</sup>**)\n",
    "    2. Comparatively better predictions  \n",
    "><br /> \n",
    "> * <u>In general:</u>\n",
    "    1. Polynomial provides the **best approximation of the relationship** between the dependent and independent variable.\n",
    "    2. A Broad range of function can be fit under it.\n",
    "    3. Polynomial basically **fits a wide range of curvature**, hence has a better fit.\n",
    "\n",
    "</font>\n",
    "\n",
    "<br />\n",
    "<font size=\"3\"> \n",
    "\n",
    "**We have NOT chosen kNN-Regression because:**\n",
    "> 1. It is a complex algorithm\n",
    "> 2. kNN usually works better for classification, because it mainly focuses on its surrounding values, for prediction.\n",
    "\n",
    "</font>"
   ]
  },
  {
   "cell_type": "code",
   "execution_count": 2,
   "metadata": {},
   "outputs": [
    {
     "ename": "ERROR",
     "evalue": "Error in rbind(train.data, temp.test[1, ]): object 'train.data' not found\n",
     "output_type": "error",
     "traceback": [
      "Error in rbind(train.data, temp.test[1, ]): object 'train.data' not found\nTraceback:\n",
      "1. rbind(train.data, temp.test[1, ])"
     ]
    }
   ],
   "source": [
    "# Appending 59th day's data to our training dataset\n",
    "train.data = rbind(train.data, temp.test[1,])            # RUN ONCE!!"
   ]
  },
  {
   "cell_type": "code",
   "execution_count": 5,
   "metadata": {},
   "outputs": [
    {
     "ename": "ERROR",
     "evalue": "Error in row.names(train.data) <- NULL: object 'train.data' not found\n",
     "output_type": "error",
     "traceback": [
      "Error in row.names(train.data) <- NULL: object 'train.data' not found\nTraceback:\n"
     ]
    }
   ],
   "source": [
    "# Renaming row sequence\n",
    "row.names(train.data) <- NULL\n",
    "tail(train.data)"
   ]
  },
  {
   "cell_type": "code",
   "execution_count": 6,
   "metadata": {},
   "outputs": [
    {
     "ename": "ERROR",
     "evalue": "Error in is.data.frame(data): object 'train.data' not found\n",
     "output_type": "error",
     "traceback": [
      "Error in is.data.frame(data): object 'train.data' not found\nTraceback:\n",
      "1. lm(percent_active ~ poly(Day, deg, raw = TRUE), data = train.data)",
      "2. eval(mf, parent.frame())",
      "3. eval(mf, parent.frame())",
      "4. stats::model.frame(formula = percent_active ~ poly(Day, deg, \n .     raw = TRUE), data = train.data, drop.unused.levels = TRUE)",
      "5. model.frame.default(formula = percent_active ~ poly(Day, deg, \n .     raw = TRUE), data = train.data, drop.unused.levels = TRUE)",
      "6. is.data.frame(data)"
     ]
    }
   ],
   "source": [
    "# training once more on updated training dataset\n",
    "fit.plm = lm(percent_active ~ poly(Day, deg, raw = TRUE), data = train.data)"
   ]
  },
  {
   "cell_type": "markdown",
   "metadata": {},
   "source": [
    "<br /><br />"
   ]
  },
  {
   "cell_type": "code",
   "execution_count": 8,
   "metadata": {},
   "outputs": [],
   "source": [
    "# At this point, we can clearly see that we should one among Polynomial Regession and KNN algo.\n",
    "# But, we also know that Polynomial Regression better fits into trend as compared to KNN, as per the visualization, above.\n",
    "# So, we find that Polynomial regression is best\n",
    "\n",
    "# Hence, we'll be choosing Polynomial Regression with Degree = 16\n",
    "\n",
    "# now we are ready to go for the last step in our COVID-19 analysis i.e. Deployment & hence, to get the status of China, in few of the upcoming days:"
   ]
  },
  {
   "cell_type": "markdown",
   "metadata": {},
   "source": [
    "<hr /><br />"
   ]
  }
 ],
 "metadata": {
  "kernelspec": {
   "display_name": "R",
   "language": "R",
   "name": "ir"
  },
  "language_info": {
   "codemirror_mode": "r",
   "file_extension": ".r",
   "mimetype": "text/x-r-source",
   "name": "R",
   "pygments_lexer": "r",
   "version": "3.6.1"
  }
 },
 "nbformat": 4,
 "nbformat_minor": 2
}
