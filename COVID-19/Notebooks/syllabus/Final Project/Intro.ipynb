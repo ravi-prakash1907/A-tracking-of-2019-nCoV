{
 "cells": [
  {
   "cell_type": "markdown",
   "metadata": {},
   "source": [
    "### _Stepping into the project..._"
   ]
  },
  {
   "cell_type": "markdown",
   "metadata": {},
   "source": [
    "<br /><br />"
   ]
  },
  {
   "cell_type": "markdown",
   "metadata": {},
   "source": [
    "<center>\n",
    "    <font color=\"teal\">\n",
    "        <h1>\"<u>Rate of growth of COVID-19 in China : within next one week</u>\"</h1>\n",
    "   </font>\n",
    "<center/>\n",
    "\n",
    "<br />"
   ]
  },
  {
   "cell_type": "markdown",
   "metadata": {},
   "source": [
    "<br />"
   ]
  },
  {
   "cell_type": "markdown",
   "metadata": {},
   "source": [
    "<br /> \n",
    "\n",
    "<h2><u>Introduction</u></h2>\n",
    "\n",
    "> * <a href=\"#History-of-Pendemics:\">History of Pandemics</a>\n",
    "> * <a href=\"#novel-Coronavirus:-2020\">novel Coronavirus Diseases: 2020</a>\n",
    "> * <a href=\"#The-Outbreak---COVID-19:\">The Outbreak - COVID-19</a>"
   ]
  },
  {
   "cell_type": "markdown",
   "metadata": {},
   "source": [
    "### History of Pandemics: \n",
    "\n",
    "<br />\n",
    "\n",
    "> * #### <u>Great Plague of Marseille: 1720</u>\n",
    "> <br />\n",
    "> <font size=\"3\" style=\"padding: 2%;\"> \n",
    "As per the records <u>Great Plague of Marseille</u> started when a ship called <u>Grand-Saint-Antoine</u> docked in Marseille, France, carrying a cargo of goods from the eastern Mediterranean. <br />\n",
    "It continued for the next three years, <u>killing up to <b>30%</b> of the population of Marseille</u>.<br /> \n",
    "</font>\n",
    "> * #### <u>First Cholera Pandemic: 1820</u>\n",
    "> <br />\n",
    "> <font size=\"3\" style=\"padding: 2%;\"> \n",
    "In 1820 the <i>First Cholera Pandemic</i> occurred, in <u>Asia</u>, affecting countries, mainly <u>Indonesia, Thailand and the Philippines</u>. This pandemic has also <u>killed about <b>100,000</b></u> as declared officially. It was a bacterial infection caused due to the contaminated water.\n",
    "<br />\n",
    "</font>\n",
    "> * #### <u>Spanish Influenza/Flu: 1920</u>\n",
    "> <br />\n",
    "> <font size=\"3\" style=\"padding: 2%;\"> \n",
    "<u>Spanish Flu</u> was the mose recent and the most unrelenting pandemics. It has infected about half <u>a billion people</u> and <b>killed 100 million</b>. The Spanish flu holds the official record for the deadliest pandemic officially recorded in history.\n",
    "</font>\n",
    "\n",
    "<br /><hr /><br />"
   ]
  },
  {
   "cell_type": "markdown",
   "metadata": {},
   "source": [
    "## <u>novel Coronavirus Disease: 2020</u> \n",
    "<br /> \n",
    "<font size=\"4\" style=\"padding: 2%;\"> \n",
    "\n",
    "In the 21<sup>st</sup> century, novel **Co**rona**vi**rus **D**isease (COVID-19) has appeared as the most severe pandemic, originated from <b>Hubei</b> province of China.<br /><br /> \n",
    "    Caused by: **novel Coronavirus - 2**\n",
    "    \n",
    "</font>\n",
    "\n",
    "<br />"
   ]
  },
  {
   "cell_type": "markdown",
   "metadata": {},
   "source": [
    "### <u>Story of its origin</u>  - \n",
    "> <font size=\"3\" style=\"padding: 2%;\">    \n",
    "During November, 2019 - a severe viral infection was noticed in <b>Wuhan</b>, a city in <u>Hubei provinces of China</u>. On November 17<sup>th</sup> 2019, the first case this infection was reported. Doctor's initially took it lightly as if it was a normal fever/cold. But, when a wide range of patients reported similar symptoms, a doctor - <b>Dr. Li Wenliang</b> of <u>Chinese Academy of Sciences (<b>CAS</b>)</u> Lab, claimed that it was a type of <i>severe acute respiratory syndrome</i>, spreading through a new coronavirus transmission in the whole Hubei province, very rapidly. Reportedly, chainese government warned him not to leak this anywhere. But anyhow, this news got exposed during the late December, 2019. <br /><br />\n",
    "As per the sources, in 2003, the same lab found first deadly SARS Coronavirus, led to 813 casualties, all over the world, within two months! <br /><br />\n",
    "Initially, it was named as \"<u>Wuhan Virus</u>\". But, as it started spreading rapidly from Hubei to the whole mainland of China, its name got replaced by term \"<u>China Virus</u>\".<br />\n",
    "</font>\n",
    "> <br />"
   ]
  },
  {
   "cell_type": "markdown",
   "metadata": {},
   "source": [
    "Finally, on <b>Feb. 11<sup>th</sup> 2020</b>, the World Health Organization (WHO) gave the disease an official name: <u><b>COVID-19</b></u>.<br />\n",
    "WHO has also declared the COVID-19 as a <u><b>pandemic</b></u>. \n",
    "<br /><br /> \n",
    "\n",
    "Since the outbreak of COVID-19, over 350000 people have been infected throughout the world and <b>over 15000 people</b> have been <b>killed</b>.<br /><br />"
   ]
  },
  {
   "cell_type": "markdown",
   "metadata": {},
   "source": [
    "#### <center>This map shows the daily spread of the 2019-vCoV</center>\n",
    "<img src=\"../pics/everAffected.gif\" height=\"75%\" width=\"75%\" alt=\"GIF\"/> <br /><br />\n",
    "\n",
    "### <u>COVID-19: Outbreak in world</u> -\n",
    "> <font size=\"3\" style=\"padding: 2%;\">    \n",
    "A grand Cruise Ship called <b>Diamond Princess</b> was all set for it's two weeks' journey from <u><b>Yokohama</b> (Japan) to China, Vietnam, Taiwan and back to Japan</u>. Guests boarded it on January 20<sup>th</sup>, but as the journey was about to end, on <b>February 1<sup>st</sup></b> tested positive for coronavirus, who disembarked in <u>Hong Kong on January 25<sup>th</sup></u>.<br /><br />\n",
    "The cruise was cancelled from sailing as Japanese health instructors asked to check all the passengers, along with the crew.<br /><br />\n",
    "And since then, the number of confirmed cases for COVID-19 kept increasing. Currently, the ship was carrying over 3500 people.\n",
    "</font>\n",
    "\n",
    "<br />"
   ]
  },
  {
   "cell_type": "markdown",
   "metadata": {},
   "source": [
    "<font size=\"3\"> \n",
    "<h5>As per the data available, following graphs show the 2019-nCoV cases have increased since Jan. 22<sup>nd</sup>:</h5> <br /><br />\n",
    "</font>\n",
    "* Confirmed Cases:\n",
    "  <img src=\"../pics/tracker/confirmed.png\" height=\"75%\" width=\"90%\" alt=\"Code to generate the map-plot!!\"/>\n",
    "* Death Cases:\n",
    "  <img src=\"../pics/tracker/deaths.png\" height=\"75%\" width=\"90%\" alt=\"Code to generate the map-plot!!\"/>\n",
    "  \n",
    "<br /><br />"
   ]
  },
  {
   "cell_type": "markdown",
   "metadata": {},
   "source": [
    "### About the Disease\n",
    "\n",
    "<font size=\"3\"> \n",
    "    The COVID-19 is spread as rapidly as it has the <u><b>Reproducibility Score</b> (R-naught) <b>2.5</b></u>.\n",
    "    <img src=\"../pics/rnaught.png\" height=\"75%\" width=\"90%\" alt=\"Code to generate the map-plot!!\"/>\n",
    "    <br /><br />\n",
    "    <b>Reproducibility Score:</b> is meant for the number of average persons, whom an infected person is further infecting. In more generalized language, on an average, from every COVID-19 patient, virus are getting transmitted to at least 2.5 fit persons.<br />\n",
    "    For <u>Ebola</u>, this number is <u>appx. 1.7</u><br /><br />\n",
    "    In order to have controle on any epidemic, the reproducibility score has to be decreased as much as possible.<br /><br />\n",
    "    That's why, most of the highly countries are locked down. In many of them, there are the shortage of hospitals/beds/doctors, too.<br />\n",
    "    Due to the lockdown, the market is also going down.<br /><br />\n",
    "</font>"
   ]
  },
  {
   "cell_type": "markdown",
   "metadata": {},
   "source": [
    "<br /> \n",
    "### Symptoms: \n",
    "<br /> \n",
    "<font size=\"3\">\n",
    "    The <i>severe acute respiratory syndrome COVID-19</i> <b>(SARS-CoV-19)</b>, which is often termed as <u>2019-nCoV</u>, as well, is basically a viral disease spread by the <u>novel coronavirus</u> in which the virus tend to attack onto the respiratory system of the patient.<br />\n",
    "\n",
    "Though the studies are still going on, following are some most common symptoms of COVID-19, known so far:\n",
    "> 1. Fever\n",
    "> 2. Dry Cough\n",
    "> 3. Fatigue\n",
    "> 4. Shortness of Breath\n",
    "> 5. Nasal Congestion etc..\n",
    "\n",
    "These are the symptoms that are reported by most of the patients. Apart from these, few patients also found to develop <u>aches and pains</u> and <u>get the sniffles</u>, according to data from China.\n",
    "</font>\n",
    "\n",
    "<hr />\n",
    "<br />"
   ]
  }
 ],
 "metadata": {
  "kernelspec": {
   "display_name": "R",
   "language": "R",
   "name": "ir"
  },
  "language_info": {
   "codemirror_mode": "r",
   "file_extension": ".r",
   "mimetype": "text/x-r-source",
   "name": "R",
   "pygments_lexer": "r",
   "version": "3.6.1"
  }
 },
 "nbformat": 4,
 "nbformat_minor": 2
}
