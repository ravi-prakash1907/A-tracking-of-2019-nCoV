{
 "cells": [
  {
   "cell_type": "markdown",
   "metadata": {},
   "source": [
    "<center><h1> <font color=\"green\"><u>A Data-Science cum Data-Mining project ~ 19-nCoV</u></font> </h1></center>\n",
    "<a href=\"https://raviprakashravi.cf/\" target=\"_blank\"><code style=\"float:right; background:none\"> -Ravi Prakash</code></a>"
   ]
  },
  {
   "cell_type": "markdown",
   "metadata": {},
   "source": [
    "<h3> <font color=\"purple\"><u>This section includes:</u></font> </h3>"
   ]
  },
  {
   "cell_type": "markdown",
   "metadata": {},
   "source": [
    "> * Introduction to **COVID-19** <br />\n",
    "> * A well defined (and explained, as well) problem, that the whole world in going through, currently <br />\n",
    "> * Statistical models to understanding the unfolding of COVID-19, with days <br />\n",
    "> * A step-wise _data analysis_ approach to attaint the most feasible/optimal solution <br />\n",
    "> * Accurate and easily understandable visualizations to understand the scenerio, even better <br />\n",
    "> * Verious data-science _tests_ and _algorithms_ to bring sharpness and accurecy to the research <br />\n",
    "> * Predictions for upcomming based on the studies and scientific analysis done <br />\n",
    "\n",
    "* _This is a working project on the real time data_"
   ]
  },
  {
   "cell_type": "markdown",
   "metadata": {},
   "source": [
    "<hr />"
   ]
  },
  {
   "cell_type": "code",
   "execution_count": 482,
   "metadata": {},
   "outputs": [],
   "source": [
    "## stepping into data science...\n",
    "\n",
    "# types of data-analysis --> descriptive, diagnostic, predictive and prescriptive Analysis.\n",
    "# steps involved in an idal data science project\n",
    "# main steps involved in data preparation\n",
    "# 6-steps (major) steps involved in data-mining"
   ]
  },
  {
   "cell_type": "markdown",
   "metadata": {},
   "source": [
    "<br /><br />"
   ]
  },
  {
   "cell_type": "markdown",
   "metadata": {},
   "source": [
    "<center><u><h2>Data Mining (6-steps)</h2></u></center>"
   ]
  },
  {
   "cell_type": "markdown",
   "metadata": {},
   "source": [
    "## Business Understanding: <br />"
   ]
  },
  {
   "cell_type": "markdown",
   "metadata": {},
   "source": [
    "<center> <u><h1>Rate of growth of COVID-19 within next 10 days.</h1></u> <center/><br />\n",
    "    OR<br />\n",
    "<center> <u><h1>Expected time to elapse until we controle the COVID-19.</h1></u> <center/>"
   ]
  },
  {
   "cell_type": "markdown",
   "metadata": {},
   "source": [
    "<br />"
   ]
  },
  {
   "cell_type": "markdown",
   "metadata": {},
   "source": [
    "* This (above) is our problem statement - EXPLAINED"
   ]
  },
  {
   "cell_type": "code",
   "execution_count": 136,
   "metadata": {},
   "outputs": [],
   "source": [
    "# Setting the working directory\n",
    "options(warn=-1)\n",
    "setwd(\"~/Documents/A-tracking-of-2019-nCoV/COVID-19/\")\n",
    "\n",
    "#####  LIBRARIES  #####\n",
    "library(stringr)\n",
    "\n",
    "library(AUCRF)\n",
    "library(randomForest)\n",
    "library(RFmarkerDetector)\n",
    "\n",
    "library(caret)\n",
    "library(mlbench)\n",
    "library(kernlab)"
   ]
  },
  {
   "cell_type": "code",
   "execution_count": null,
   "metadata": {},
   "outputs": [],
   "source": []
  },
  {
   "cell_type": "code",
   "execution_count": null,
   "metadata": {},
   "outputs": [],
   "source": []
  },
  {
   "cell_type": "code",
   "execution_count": null,
   "metadata": {},
   "outputs": [],
   "source": []
  },
  {
   "cell_type": "code",
   "execution_count": null,
   "metadata": {},
   "outputs": [],
   "source": []
  },
  {
   "cell_type": "code",
   "execution_count": null,
   "metadata": {},
   "outputs": [],
   "source": []
  },
  {
   "cell_type": "code",
   "execution_count": null,
   "metadata": {},
   "outputs": [],
   "source": []
  },
  {
   "cell_type": "code",
   "execution_count": null,
   "metadata": {},
   "outputs": [],
   "source": []
  },
  {
   "cell_type": "code",
   "execution_count": null,
   "metadata": {},
   "outputs": [],
   "source": []
  },
  {
   "cell_type": "code",
   "execution_count": null,
   "metadata": {},
   "outputs": [],
   "source": []
  },
  {
   "cell_type": "code",
   "execution_count": null,
   "metadata": {},
   "outputs": [],
   "source": []
  },
  {
   "cell_type": "markdown",
   "metadata": {},
   "source": [
    "<br /> \n",
    "#### All about covid-19, i.e."
   ]
  },
  {
   "cell_type": "code",
   "execution_count": 484,
   "metadata": {},
   "outputs": [],
   "source": [
    "# how came\n",
    "# how spreads\n",
    "# sympotams\n",
    "# why it's an epidemic (who decleared it an epidemic on 30th jan)\n",
    "\n",
    "# understanding reprodiction no. (R0)\n",
    "# why centuries penidemic (1720, 1820, 1920, 2020)\n",
    "# comerision to other epidemics (for R0)\n",
    "\n",
    "#####        andddddd.... many more"
   ]
  },
  {
   "cell_type": "markdown",
   "metadata": {},
   "source": [
    "#### Contribuion of THIS project"
   ]
  },
  {
   "cell_type": "code",
   "execution_count": 485,
   "metadata": {},
   "outputs": [],
   "source": [
    "# required type of data for satisfying the problem"
   ]
  },
  {
   "cell_type": "markdown",
   "metadata": {},
   "source": [
    "#### * this section may include Text-Mining too"
   ]
  },
  {
   "cell_type": "code",
   "execution_count": 486,
   "metadata": {},
   "outputs": [],
   "source": [
    "# fact, reasons and explainations must have be visualized, too"
   ]
  },
  {
   "cell_type": "code",
   "execution_count": null,
   "metadata": {},
   "outputs": [],
   "source": []
  },
  {
   "cell_type": "markdown",
   "metadata": {},
   "source": [
    "<br />"
   ]
  },
  {
   "cell_type": "markdown",
   "metadata": {},
   "source": [
    "## Data Understanding:"
   ]
  },
  {
   "cell_type": "markdown",
   "metadata": {},
   "source": [
    "### * Relating with problem stmt."
   ]
  },
  {
   "cell_type": "code",
   "execution_count": 487,
   "metadata": {},
   "outputs": [],
   "source": [
    "# as our is aim to analyse that what would be the status of the the epidemic after certain time-duration\n",
    "    # and hence -> how log it might take tohave our controle on this infection\n",
    "\n",
    "# we need the data about:\n",
    "    # 1. Confirmed cases throughout the world\n",
    "    # 2. Death cases throughout the world\n",
    "    # 3. Recovery cases throughout the world"
   ]
  },
  {
   "cell_type": "code",
   "execution_count": 488,
   "metadata": {},
   "outputs": [],
   "source": [
    "# before we achieve our objective, we'd have to understand a few more things.\n",
    "# the best way to carry our study forward, is simply visualizing them.."
   ]
  },
  {
   "cell_type": "markdown",
   "metadata": {},
   "source": [
    "#### Code to visualize how fast has the COVID-19 grown, throughout the world"
   ]
  },
  {
   "cell_type": "markdown",
   "metadata": {},
   "source": [
    "<img src=\"pics/map-code.png\" height=\"75%\" alt=\"Code to generate the map-plot!!\"/>"
   ]
  },
  {
   "cell_type": "markdown",
   "metadata": {},
   "source": [
    "<center> <h3>Map Plot</h3> <center>\n",
    "<img src=\"pics/everAffected.gif\" height=\"75%\" width=\"75%\" alt=\"GIF\"/>"
   ]
  },
  {
   "cell_type": "code",
   "execution_count": 489,
   "metadata": {},
   "outputs": [],
   "source": [
    "    # what are the countries, that are highly affected by this viral infection"
   ]
  },
  {
   "cell_type": "markdown",
   "metadata": {},
   "source": [
    "<!--\n",
    "<div>\n",
    "    <div width=\"50%\" style=\"float:right\">\n",
    "        <center>\n",
    "            <h3>Confirmed Cases in various countries</h3>\n",
    "        <center>\n",
    "        <img src=\"pics/confirmed.png\" height=\"50%\" width=\"50%\" alt=\"GIF\"/>\n",
    "    </div>\n",
    "    <div width=\"50%\" style=\"float:left\">\n",
    "        <center>\n",
    "            <h3>Confirmed Cases in various countries</h3>\n",
    "        <center>\n",
    "        <img src=\"pics/confirmed.png\" height=\"50%\" width=\"50%\" alt=\"GIF\"/>\n",
    "    </div>\n",
    "</div>\n",
    "-->\n",
    "### make one pic of these 2 pics (commented)"
   ]
  },
  {
   "cell_type": "markdown",
   "metadata": {},
   "source": [
    "<br />"
   ]
  },
  {
   "cell_type": "code",
   "execution_count": 490,
   "metadata": {},
   "outputs": [],
   "source": [
    "#######  We'll be preparing saparete datasets for generating few of these plots, below\n",
    "# For understanding how these visuals are developed from scratch, please refer to     <<this link>>"
   ]
  },
  {
   "cell_type": "markdown",
   "metadata": {},
   "source": [
    "<br />"
   ]
  },
  {
   "cell_type": "markdown",
   "metadata": {},
   "source": [
    "<br />"
   ]
  },
  {
   "cell_type": "markdown",
   "metadata": {},
   "source": [
    "### * Data Collection"
   ]
  },
  {
   "cell_type": "code",
   "execution_count": 491,
   "metadata": {},
   "outputs": [],
   "source": [
    "# procedure to collect data\n",
    "\n",
    "# loading raw data - from source\n",
    "check.Confirmed = read.csv(\"Notebooks/syllabus/static/raw/time_series_19-covid-Confirmed.csv\")\n",
    "check.Deaths = read.csv(\"Notebooks/syllabus/static/raw/time_series_19-covid-Deaths.csv\")\n",
    "check.Recovered = read.csv(\"Notebooks/syllabus/static/raw/time_series_19-covid-Recovered.csv\")\n"
   ]
  },
  {
   "cell_type": "code",
   "execution_count": 342,
   "metadata": {},
   "outputs": [],
   "source": [
    "# method\n",
    "# explaination about dataset (format i.e. csv) and it's charectorecorstics\n",
    "\n",
    "# attatch a pic of raw .csv"
   ]
  },
  {
   "cell_type": "code",
   "execution_count": 343,
   "metadata": {
    "scrolled": true
   },
   "outputs": [
    {
     "data": {
      "text/html": [
       "<table>\n",
       "<thead><tr><th scope=col>Province.State</th><th scope=col>Country.Region</th><th scope=col>Lat</th><th scope=col>Long</th><th scope=col>X1.22.20</th><th scope=col>X1.23.20</th><th scope=col>X1.24.20</th><th scope=col>X1.25.20</th><th scope=col>X1.26.20</th><th scope=col>X1.27.20</th><th scope=col>...</th><th scope=col>X3.10.20</th><th scope=col>X3.11.20</th><th scope=col>X3.12.20</th><th scope=col>X3.13.20</th><th scope=col>X3.14.20</th><th scope=col>X3.15.20</th><th scope=col>X3.16.20</th><th scope=col>X3.17.20</th><th scope=col>X3.18.20</th><th scope=col>X3.19.20</th></tr></thead>\n",
       "<tbody>\n",
       "\t<tr><td>                </td><td>Thailand        </td><td>15.0000         </td><td> 101.0000       </td><td>2               </td><td>3               </td><td>5               </td><td>7               </td><td>8               </td><td>8               </td><td>...             </td><td> 53             </td><td> 59             </td><td> 70             </td><td> 75             </td><td> 82             </td><td>114             </td><td>147             </td><td>177             </td><td>212             </td><td>272             </td></tr>\n",
       "\t<tr><td>                </td><td>Japan           </td><td>36.0000         </td><td> 138.0000       </td><td>2               </td><td>1               </td><td>2               </td><td>2               </td><td>4               </td><td>4               </td><td>...             </td><td>581             </td><td>639             </td><td>639             </td><td>701             </td><td>773             </td><td>839             </td><td>825             </td><td>878             </td><td>889             </td><td>924             </td></tr>\n",
       "\t<tr><td>                </td><td>Singapore       </td><td> 1.2833         </td><td> 103.8333       </td><td>0               </td><td>1               </td><td>3               </td><td>3               </td><td>4               </td><td>5               </td><td>...             </td><td>160             </td><td>178             </td><td>178             </td><td>200             </td><td>212             </td><td>226             </td><td>243             </td><td>266             </td><td>313             </td><td>345             </td></tr>\n",
       "\t<tr><td>                </td><td>Nepal           </td><td>28.1667         </td><td>  84.2500       </td><td>0               </td><td>0               </td><td>0               </td><td>1               </td><td>1               </td><td>1               </td><td>...             </td><td>  1             </td><td>  1             </td><td>  1             </td><td>  1             </td><td>  1             </td><td>  1             </td><td>  1             </td><td>  1             </td><td>  1             </td><td>  1             </td></tr>\n",
       "\t<tr><td>                </td><td>Malaysia        </td><td> 2.5000         </td><td> 112.5000       </td><td>0               </td><td>0               </td><td>0               </td><td>3               </td><td>4               </td><td>4               </td><td>...             </td><td>129             </td><td>149             </td><td>149             </td><td>197             </td><td>238             </td><td>428             </td><td>566             </td><td>673             </td><td>790             </td><td>900             </td></tr>\n",
       "\t<tr><td>British Columbia</td><td>Canada          </td><td>49.2827         </td><td>-123.1207       </td><td>0               </td><td>0               </td><td>0               </td><td>0               </td><td>0               </td><td>0               </td><td>...             </td><td> 32             </td><td> 39             </td><td> 46             </td><td> 64             </td><td> 64             </td><td> 73             </td><td>103             </td><td>103             </td><td>186             </td><td>231             </td></tr>\n",
       "</tbody>\n",
       "</table>\n"
      ],
      "text/latex": [
       "\\begin{tabular}{r|llllllllllllllllllllllllllllllllllllllllllllllllllllllllllllll}\n",
       " Province.State & Country.Region & Lat & Long & X1.22.20 & X1.23.20 & X1.24.20 & X1.25.20 & X1.26.20 & X1.27.20 & ... & X3.10.20 & X3.11.20 & X3.12.20 & X3.13.20 & X3.14.20 & X3.15.20 & X3.16.20 & X3.17.20 & X3.18.20 & X3.19.20\\\\\n",
       "\\hline\n",
       "\t                  & Thailand         & 15.0000          &  101.0000        & 2                & 3                & 5                & 7                & 8                & 8                & ...              &  53              &  59              &  70              &  75              &  82              & 114              & 147              & 177              & 212              & 272             \\\\\n",
       "\t                  & Japan            & 36.0000          &  138.0000        & 2                & 1                & 2                & 2                & 4                & 4                & ...              & 581              & 639              & 639              & 701              & 773              & 839              & 825              & 878              & 889              & 924             \\\\\n",
       "\t                  & Singapore        &  1.2833          &  103.8333        & 0                & 1                & 3                & 3                & 4                & 5                & ...              & 160              & 178              & 178              & 200              & 212              & 226              & 243              & 266              & 313              & 345             \\\\\n",
       "\t                  & Nepal            & 28.1667          &   84.2500        & 0                & 0                & 0                & 1                & 1                & 1                & ...              &   1              &   1              &   1              &   1              &   1              &   1              &   1              &   1              &   1              &   1             \\\\\n",
       "\t                  & Malaysia         &  2.5000          &  112.5000        & 0                & 0                & 0                & 3                & 4                & 4                & ...              & 129              & 149              & 149              & 197              & 238              & 428              & 566              & 673              & 790              & 900             \\\\\n",
       "\t British Columbia & Canada           & 49.2827          & -123.1207        & 0                & 0                & 0                & 0                & 0                & 0                & ...              &  32              &  39              &  46              &  64              &  64              &  73              & 103              & 103              & 186              & 231             \\\\\n",
       "\\end{tabular}\n"
      ],
      "text/markdown": [
       "\n",
       "| Province.State | Country.Region | Lat | Long | X1.22.20 | X1.23.20 | X1.24.20 | X1.25.20 | X1.26.20 | X1.27.20 | ... | X3.10.20 | X3.11.20 | X3.12.20 | X3.13.20 | X3.14.20 | X3.15.20 | X3.16.20 | X3.17.20 | X3.18.20 | X3.19.20 |\n",
       "|---|---|---|---|---|---|---|---|---|---|---|---|---|---|---|---|---|---|---|---|---|\n",
       "|                  | Thailand         | 15.0000          |  101.0000        | 2                | 3                | 5                | 7                | 8                | 8                | ...              |  53              |  59              |  70              |  75              |  82              | 114              | 147              | 177              | 212              | 272              |\n",
       "|                  | Japan            | 36.0000          |  138.0000        | 2                | 1                | 2                | 2                | 4                | 4                | ...              | 581              | 639              | 639              | 701              | 773              | 839              | 825              | 878              | 889              | 924              |\n",
       "|                  | Singapore        |  1.2833          |  103.8333        | 0                | 1                | 3                | 3                | 4                | 5                | ...              | 160              | 178              | 178              | 200              | 212              | 226              | 243              | 266              | 313              | 345              |\n",
       "|                  | Nepal            | 28.1667          |   84.2500        | 0                | 0                | 0                | 1                | 1                | 1                | ...              |   1              |   1              |   1              |   1              |   1              |   1              |   1              |   1              |   1              |   1              |\n",
       "|                  | Malaysia         |  2.5000          |  112.5000        | 0                | 0                | 0                | 3                | 4                | 4                | ...              | 129              | 149              | 149              | 197              | 238              | 428              | 566              | 673              | 790              | 900              |\n",
       "| British Columbia | Canada           | 49.2827          | -123.1207        | 0                | 0                | 0                | 0                | 0                | 0                | ...              |  32              |  39              |  46              |  64              |  64              |  73              | 103              | 103              | 186              | 231              |\n",
       "\n"
      ],
      "text/plain": [
       "  Province.State   Country.Region Lat     Long      X1.22.20 X1.23.20 X1.24.20\n",
       "1                  Thailand       15.0000  101.0000 2        3        5       \n",
       "2                  Japan          36.0000  138.0000 2        1        2       \n",
       "3                  Singapore       1.2833  103.8333 0        1        3       \n",
       "4                  Nepal          28.1667   84.2500 0        0        0       \n",
       "5                  Malaysia        2.5000  112.5000 0        0        0       \n",
       "6 British Columbia Canada         49.2827 -123.1207 0        0        0       \n",
       "  X1.25.20 X1.26.20 X1.27.20 ... X3.10.20 X3.11.20 X3.12.20 X3.13.20 X3.14.20\n",
       "1 7        8        8        ...  53       59       70       75       82     \n",
       "2 2        4        4        ... 581      639      639      701      773     \n",
       "3 3        4        5        ... 160      178      178      200      212     \n",
       "4 1        1        1        ...   1        1        1        1        1     \n",
       "5 3        4        4        ... 129      149      149      197      238     \n",
       "6 0        0        0        ...  32       39       46       64       64     \n",
       "  X3.15.20 X3.16.20 X3.17.20 X3.18.20 X3.19.20\n",
       "1 114      147      177      212      272     \n",
       "2 839      825      878      889      924     \n",
       "3 226      243      266      313      345     \n",
       "4   1        1        1        1        1     \n",
       "5 428      566      673      790      900     \n",
       "6  73      103      103      186      231     "
      ]
     },
     "metadata": {},
     "output_type": "display_data"
    },
    {
     "data": {
      "text/html": [
       "<table>\n",
       "<thead><tr><th scope=col>Province.State</th><th scope=col>Country.Region</th><th scope=col>Lat</th><th scope=col>Long</th><th scope=col>X1.22.20</th><th scope=col>X1.23.20</th><th scope=col>X1.24.20</th><th scope=col>X1.25.20</th><th scope=col>X1.26.20</th><th scope=col>X1.27.20</th><th scope=col>...</th><th scope=col>X3.10.20</th><th scope=col>X3.11.20</th><th scope=col>X3.12.20</th><th scope=col>X3.13.20</th><th scope=col>X3.14.20</th><th scope=col>X3.15.20</th><th scope=col>X3.16.20</th><th scope=col>X3.17.20</th><th scope=col>X3.18.20</th><th scope=col>X3.19.20</th></tr></thead>\n",
       "<tbody>\n",
       "\t<tr><td>                </td><td>Thailand        </td><td>15.0000         </td><td> 101.0000       </td><td>0               </td><td>0               </td><td>0               </td><td>0               </td><td>0               </td><td>0               </td><td>...             </td><td> 1              </td><td> 1              </td><td> 1              </td><td> 1              </td><td> 1              </td><td> 1              </td><td> 1              </td><td> 1              </td><td> 1              </td><td> 1              </td></tr>\n",
       "\t<tr><td>                </td><td>Japan           </td><td>36.0000         </td><td> 138.0000       </td><td>0               </td><td>0               </td><td>0               </td><td>0               </td><td>0               </td><td>0               </td><td>...             </td><td>10              </td><td>15              </td><td>16              </td><td>19              </td><td>22              </td><td>22              </td><td>27              </td><td>29              </td><td>29              </td><td>29              </td></tr>\n",
       "\t<tr><td>                </td><td>Singapore       </td><td> 1.2833         </td><td> 103.8333       </td><td>0               </td><td>0               </td><td>0               </td><td>0               </td><td>0               </td><td>0               </td><td>...             </td><td> 0              </td><td> 0              </td><td> 0              </td><td> 0              </td><td> 0              </td><td> 0              </td><td> 0              </td><td> 0              </td><td> 0              </td><td> 0              </td></tr>\n",
       "\t<tr><td>                </td><td>Nepal           </td><td>28.1667         </td><td>  84.2500       </td><td>0               </td><td>0               </td><td>0               </td><td>0               </td><td>0               </td><td>0               </td><td>...             </td><td> 0              </td><td> 0              </td><td> 0              </td><td> 0              </td><td> 0              </td><td> 0              </td><td> 0              </td><td> 0              </td><td> 0              </td><td> 0              </td></tr>\n",
       "\t<tr><td>                </td><td>Malaysia        </td><td> 2.5000         </td><td> 112.5000       </td><td>0               </td><td>0               </td><td>0               </td><td>0               </td><td>0               </td><td>0               </td><td>...             </td><td> 0              </td><td> 0              </td><td> 0              </td><td> 0              </td><td> 0              </td><td> 0              </td><td> 0              </td><td> 2              </td><td> 2              </td><td> 2              </td></tr>\n",
       "\t<tr><td>British Columbia</td><td>Canada          </td><td>49.2827         </td><td>-123.1207       </td><td>0               </td><td>0               </td><td>0               </td><td>0               </td><td>0               </td><td>0               </td><td>...             </td><td> 1              </td><td> 1              </td><td> 1              </td><td> 1              </td><td> 1              </td><td> 1              </td><td> 4              </td><td> 4              </td><td> 7              </td><td> 7              </td></tr>\n",
       "</tbody>\n",
       "</table>\n"
      ],
      "text/latex": [
       "\\begin{tabular}{r|llllllllllllllllllllllllllllllllllllllllllllllllllllllllllllll}\n",
       " Province.State & Country.Region & Lat & Long & X1.22.20 & X1.23.20 & X1.24.20 & X1.25.20 & X1.26.20 & X1.27.20 & ... & X3.10.20 & X3.11.20 & X3.12.20 & X3.13.20 & X3.14.20 & X3.15.20 & X3.16.20 & X3.17.20 & X3.18.20 & X3.19.20\\\\\n",
       "\\hline\n",
       "\t                  & Thailand         & 15.0000          &  101.0000        & 0                & 0                & 0                & 0                & 0                & 0                & ...              &  1               &  1               &  1               &  1               &  1               &  1               &  1               &  1               &  1               &  1              \\\\\n",
       "\t                  & Japan            & 36.0000          &  138.0000        & 0                & 0                & 0                & 0                & 0                & 0                & ...              & 10               & 15               & 16               & 19               & 22               & 22               & 27               & 29               & 29               & 29              \\\\\n",
       "\t                  & Singapore        &  1.2833          &  103.8333        & 0                & 0                & 0                & 0                & 0                & 0                & ...              &  0               &  0               &  0               &  0               &  0               &  0               &  0               &  0               &  0               &  0              \\\\\n",
       "\t                  & Nepal            & 28.1667          &   84.2500        & 0                & 0                & 0                & 0                & 0                & 0                & ...              &  0               &  0               &  0               &  0               &  0               &  0               &  0               &  0               &  0               &  0              \\\\\n",
       "\t                  & Malaysia         &  2.5000          &  112.5000        & 0                & 0                & 0                & 0                & 0                & 0                & ...              &  0               &  0               &  0               &  0               &  0               &  0               &  0               &  2               &  2               &  2              \\\\\n",
       "\t British Columbia & Canada           & 49.2827          & -123.1207        & 0                & 0                & 0                & 0                & 0                & 0                & ...              &  1               &  1               &  1               &  1               &  1               &  1               &  4               &  4               &  7               &  7              \\\\\n",
       "\\end{tabular}\n"
      ],
      "text/markdown": [
       "\n",
       "| Province.State | Country.Region | Lat | Long | X1.22.20 | X1.23.20 | X1.24.20 | X1.25.20 | X1.26.20 | X1.27.20 | ... | X3.10.20 | X3.11.20 | X3.12.20 | X3.13.20 | X3.14.20 | X3.15.20 | X3.16.20 | X3.17.20 | X3.18.20 | X3.19.20 |\n",
       "|---|---|---|---|---|---|---|---|---|---|---|---|---|---|---|---|---|---|---|---|---|\n",
       "|                  | Thailand         | 15.0000          |  101.0000        | 0                | 0                | 0                | 0                | 0                | 0                | ...              |  1               |  1               |  1               |  1               |  1               |  1               |  1               |  1               |  1               |  1               |\n",
       "|                  | Japan            | 36.0000          |  138.0000        | 0                | 0                | 0                | 0                | 0                | 0                | ...              | 10               | 15               | 16               | 19               | 22               | 22               | 27               | 29               | 29               | 29               |\n",
       "|                  | Singapore        |  1.2833          |  103.8333        | 0                | 0                | 0                | 0                | 0                | 0                | ...              |  0               |  0               |  0               |  0               |  0               |  0               |  0               |  0               |  0               |  0               |\n",
       "|                  | Nepal            | 28.1667          |   84.2500        | 0                | 0                | 0                | 0                | 0                | 0                | ...              |  0               |  0               |  0               |  0               |  0               |  0               |  0               |  0               |  0               |  0               |\n",
       "|                  | Malaysia         |  2.5000          |  112.5000        | 0                | 0                | 0                | 0                | 0                | 0                | ...              |  0               |  0               |  0               |  0               |  0               |  0               |  0               |  2               |  2               |  2               |\n",
       "| British Columbia | Canada           | 49.2827          | -123.1207        | 0                | 0                | 0                | 0                | 0                | 0                | ...              |  1               |  1               |  1               |  1               |  1               |  1               |  4               |  4               |  7               |  7               |\n",
       "\n"
      ],
      "text/plain": [
       "  Province.State   Country.Region Lat     Long      X1.22.20 X1.23.20 X1.24.20\n",
       "1                  Thailand       15.0000  101.0000 0        0        0       \n",
       "2                  Japan          36.0000  138.0000 0        0        0       \n",
       "3                  Singapore       1.2833  103.8333 0        0        0       \n",
       "4                  Nepal          28.1667   84.2500 0        0        0       \n",
       "5                  Malaysia        2.5000  112.5000 0        0        0       \n",
       "6 British Columbia Canada         49.2827 -123.1207 0        0        0       \n",
       "  X1.25.20 X1.26.20 X1.27.20 ... X3.10.20 X3.11.20 X3.12.20 X3.13.20 X3.14.20\n",
       "1 0        0        0        ...  1        1        1        1        1      \n",
       "2 0        0        0        ... 10       15       16       19       22      \n",
       "3 0        0        0        ...  0        0        0        0        0      \n",
       "4 0        0        0        ...  0        0        0        0        0      \n",
       "5 0        0        0        ...  0        0        0        0        0      \n",
       "6 0        0        0        ...  1        1        1        1        1      \n",
       "  X3.15.20 X3.16.20 X3.17.20 X3.18.20 X3.19.20\n",
       "1  1        1        1        1        1      \n",
       "2 22       27       29       29       29      \n",
       "3  0        0        0        0        0      \n",
       "4  0        0        0        0        0      \n",
       "5  0        0        2        2        2      \n",
       "6  1        4        4        7        7      "
      ]
     },
     "metadata": {},
     "output_type": "display_data"
    },
    {
     "data": {
      "text/html": [
       "<table>\n",
       "<thead><tr><th scope=col>Province.State</th><th scope=col>Country.Region</th><th scope=col>Lat</th><th scope=col>Long</th><th scope=col>X1.22.20</th><th scope=col>X1.23.20</th><th scope=col>X1.24.20</th><th scope=col>X1.25.20</th><th scope=col>X1.26.20</th><th scope=col>X1.27.20</th><th scope=col>...</th><th scope=col>X3.10.20</th><th scope=col>X3.11.20</th><th scope=col>X3.12.20</th><th scope=col>X3.13.20</th><th scope=col>X3.14.20</th><th scope=col>X3.15.20</th><th scope=col>X3.16.20</th><th scope=col>X3.17.20</th><th scope=col>X3.18.20</th><th scope=col>X3.19.20</th></tr></thead>\n",
       "<tbody>\n",
       "\t<tr><td>                </td><td>Thailand        </td><td>15.0000         </td><td> 101.0000       </td><td>0               </td><td>0               </td><td>0               </td><td>0               </td><td>2               </td><td>2               </td><td>...             </td><td> 33             </td><td> 34             </td><td> 34             </td><td> 35             </td><td> 35             </td><td> 35             </td><td> 35             </td><td> 41             </td><td> 42             </td><td> 42             </td></tr>\n",
       "\t<tr><td>                </td><td>Japan           </td><td>36.0000         </td><td> 138.0000       </td><td>0               </td><td>0               </td><td>0               </td><td>0               </td><td>1               </td><td>1               </td><td>...             </td><td>101             </td><td>118             </td><td>118             </td><td>118             </td><td>118             </td><td>118             </td><td>144             </td><td>144             </td><td>144             </td><td>150             </td></tr>\n",
       "\t<tr><td>                </td><td>Singapore       </td><td> 1.2833         </td><td> 103.8333       </td><td>0               </td><td>0               </td><td>0               </td><td>0               </td><td>0               </td><td>0               </td><td>...             </td><td> 78             </td><td> 96             </td><td> 96             </td><td> 97             </td><td>105             </td><td>105             </td><td>109             </td><td>114             </td><td>114             </td><td>114             </td></tr>\n",
       "\t<tr><td>                </td><td>Nepal           </td><td>28.1667         </td><td>  84.2500       </td><td>0               </td><td>0               </td><td>0               </td><td>0               </td><td>0               </td><td>0               </td><td>...             </td><td>  1             </td><td>  1             </td><td>  1             </td><td>  1             </td><td>  1             </td><td>  1             </td><td>  1             </td><td>  1             </td><td>  1             </td><td>  1             </td></tr>\n",
       "\t<tr><td>                </td><td>Malaysia        </td><td> 2.5000         </td><td> 112.5000       </td><td>0               </td><td>0               </td><td>0               </td><td>0               </td><td>0               </td><td>0               </td><td>...             </td><td> 24             </td><td> 26             </td><td> 26             </td><td> 26             </td><td> 35             </td><td> 42             </td><td> 42             </td><td> 49             </td><td> 60             </td><td> 75             </td></tr>\n",
       "\t<tr><td>British Columbia</td><td>Canada          </td><td>49.2827         </td><td>-123.1207       </td><td>0               </td><td>0               </td><td>0               </td><td>0               </td><td>0               </td><td>0               </td><td>...             </td><td>  4             </td><td>  4             </td><td>  4             </td><td>  4             </td><td>  4             </td><td>  4             </td><td>  4             </td><td>  4             </td><td>  4             </td><td>  4             </td></tr>\n",
       "</tbody>\n",
       "</table>\n"
      ],
      "text/latex": [
       "\\begin{tabular}{r|llllllllllllllllllllllllllllllllllllllllllllllllllllllllllllll}\n",
       " Province.State & Country.Region & Lat & Long & X1.22.20 & X1.23.20 & X1.24.20 & X1.25.20 & X1.26.20 & X1.27.20 & ... & X3.10.20 & X3.11.20 & X3.12.20 & X3.13.20 & X3.14.20 & X3.15.20 & X3.16.20 & X3.17.20 & X3.18.20 & X3.19.20\\\\\n",
       "\\hline\n",
       "\t                  & Thailand         & 15.0000          &  101.0000        & 0                & 0                & 0                & 0                & 2                & 2                & ...              &  33              &  34              &  34              &  35              &  35              &  35              &  35              &  41              &  42              &  42             \\\\\n",
       "\t                  & Japan            & 36.0000          &  138.0000        & 0                & 0                & 0                & 0                & 1                & 1                & ...              & 101              & 118              & 118              & 118              & 118              & 118              & 144              & 144              & 144              & 150             \\\\\n",
       "\t                  & Singapore        &  1.2833          &  103.8333        & 0                & 0                & 0                & 0                & 0                & 0                & ...              &  78              &  96              &  96              &  97              & 105              & 105              & 109              & 114              & 114              & 114             \\\\\n",
       "\t                  & Nepal            & 28.1667          &   84.2500        & 0                & 0                & 0                & 0                & 0                & 0                & ...              &   1              &   1              &   1              &   1              &   1              &   1              &   1              &   1              &   1              &   1             \\\\\n",
       "\t                  & Malaysia         &  2.5000          &  112.5000        & 0                & 0                & 0                & 0                & 0                & 0                & ...              &  24              &  26              &  26              &  26              &  35              &  42              &  42              &  49              &  60              &  75             \\\\\n",
       "\t British Columbia & Canada           & 49.2827          & -123.1207        & 0                & 0                & 0                & 0                & 0                & 0                & ...              &   4              &   4              &   4              &   4              &   4              &   4              &   4              &   4              &   4              &   4             \\\\\n",
       "\\end{tabular}\n"
      ],
      "text/markdown": [
       "\n",
       "| Province.State | Country.Region | Lat | Long | X1.22.20 | X1.23.20 | X1.24.20 | X1.25.20 | X1.26.20 | X1.27.20 | ... | X3.10.20 | X3.11.20 | X3.12.20 | X3.13.20 | X3.14.20 | X3.15.20 | X3.16.20 | X3.17.20 | X3.18.20 | X3.19.20 |\n",
       "|---|---|---|---|---|---|---|---|---|---|---|---|---|---|---|---|---|---|---|---|---|\n",
       "|                  | Thailand         | 15.0000          |  101.0000        | 0                | 0                | 0                | 0                | 2                | 2                | ...              |  33              |  34              |  34              |  35              |  35              |  35              |  35              |  41              |  42              |  42              |\n",
       "|                  | Japan            | 36.0000          |  138.0000        | 0                | 0                | 0                | 0                | 1                | 1                | ...              | 101              | 118              | 118              | 118              | 118              | 118              | 144              | 144              | 144              | 150              |\n",
       "|                  | Singapore        |  1.2833          |  103.8333        | 0                | 0                | 0                | 0                | 0                | 0                | ...              |  78              |  96              |  96              |  97              | 105              | 105              | 109              | 114              | 114              | 114              |\n",
       "|                  | Nepal            | 28.1667          |   84.2500        | 0                | 0                | 0                | 0                | 0                | 0                | ...              |   1              |   1              |   1              |   1              |   1              |   1              |   1              |   1              |   1              |   1              |\n",
       "|                  | Malaysia         |  2.5000          |  112.5000        | 0                | 0                | 0                | 0                | 0                | 0                | ...              |  24              |  26              |  26              |  26              |  35              |  42              |  42              |  49              |  60              |  75              |\n",
       "| British Columbia | Canada           | 49.2827          | -123.1207        | 0                | 0                | 0                | 0                | 0                | 0                | ...              |   4              |   4              |   4              |   4              |   4              |   4              |   4              |   4              |   4              |   4              |\n",
       "\n"
      ],
      "text/plain": [
       "  Province.State   Country.Region Lat     Long      X1.22.20 X1.23.20 X1.24.20\n",
       "1                  Thailand       15.0000  101.0000 0        0        0       \n",
       "2                  Japan          36.0000  138.0000 0        0        0       \n",
       "3                  Singapore       1.2833  103.8333 0        0        0       \n",
       "4                  Nepal          28.1667   84.2500 0        0        0       \n",
       "5                  Malaysia        2.5000  112.5000 0        0        0       \n",
       "6 British Columbia Canada         49.2827 -123.1207 0        0        0       \n",
       "  X1.25.20 X1.26.20 X1.27.20 ... X3.10.20 X3.11.20 X3.12.20 X3.13.20 X3.14.20\n",
       "1 0        2        2        ...  33       34       34       35       35     \n",
       "2 0        1        1        ... 101      118      118      118      118     \n",
       "3 0        0        0        ...  78       96       96       97      105     \n",
       "4 0        0        0        ...   1        1        1        1        1     \n",
       "5 0        0        0        ...  24       26       26       26       35     \n",
       "6 0        0        0        ...   4        4        4        4        4     \n",
       "  X3.15.20 X3.16.20 X3.17.20 X3.18.20 X3.19.20\n",
       "1  35       35       41       42       42     \n",
       "2 118      144      144      144      150     \n",
       "3 105      109      114      114      114     \n",
       "4   1        1        1        1        1     \n",
       "5  42       42       49       60       75     \n",
       "6   4        4        4        4        4     "
      ]
     },
     "metadata": {},
     "output_type": "display_data"
    }
   ],
   "source": [
    "# view sample\n",
    "head(check.Confirmed)\n",
    "head(check.Deaths)\n",
    "head(check.Recovered)"
   ]
  },
  {
   "cell_type": "code",
   "execution_count": 344,
   "metadata": {},
   "outputs": [],
   "source": [
    "# type of collected data ---> time-series\n",
    "    # > * **Time series data:** A set of observations on the values that a variable takes at different times.<br />"
   ]
  },
  {
   "cell_type": "code",
   "execution_count": 345,
   "metadata": {},
   "outputs": [
    {
     "name": "stdout",
     "output_type": "stream",
     "text": [
      "Number of columns in all 3 datasets:-\n",
      "\n"
     ]
    },
    {
     "data": {
      "text/html": [
       "<table>\n",
       "<tbody>\n",
       "\t<tr><td>Confirmed</td><td>Deaths   </td><td>Recovered</td></tr>\n",
       "\t<tr><td>62       </td><td>62       </td><td>62       </td></tr>\n",
       "</tbody>\n",
       "</table>\n"
      ],
      "text/latex": [
       "\\begin{tabular}{lll}\n",
       "\t Confirmed & Deaths    & Recovered\\\\\n",
       "\t 62        & 62        & 62       \\\\\n",
       "\\end{tabular}\n"
      ],
      "text/markdown": [
       "\n",
       "| Confirmed | Deaths    | Recovered |\n",
       "| 62        | 62        | 62        |\n",
       "\n"
      ],
      "text/plain": [
       "     [,1]      [,2]   [,3]     \n",
       "[1,] Confirmed Deaths Recovered\n",
       "[2,] 62        62     62       "
      ]
     },
     "metadata": {},
     "output_type": "display_data"
    },
    {
     "name": "stdout",
     "output_type": "stream",
     "text": [
      "Dimentions of datasets:-\n"
     ]
    },
    {
     "data": {
      "text/html": [
       "<ol class=list-inline>\n",
       "\t<li>468</li>\n",
       "\t<li>62</li>\n",
       "</ol>\n"
      ],
      "text/latex": [
       "\\begin{enumerate*}\n",
       "\\item 468\n",
       "\\item 62\n",
       "\\end{enumerate*}\n"
      ],
      "text/markdown": [
       "1. 468\n",
       "2. 62\n",
       "\n",
       "\n"
      ],
      "text/plain": [
       "[1] 468  62"
      ]
     },
     "metadata": {},
     "output_type": "display_data"
    }
   ],
   "source": [
    "# columns\n",
    "cat(\"Number of columns in all 3 datasets:-\\n\\n\")\n",
    "\n",
    "matrix(\n",
    "    c(\"Confirmed\", \"Deaths\", \"Recovered\", ncol(check.Confirmed), ncol(check.Deaths), ncol(check.Recovered)),\n",
    "    nrow = 2, ncol = 3, byrow = T\n",
    ")\n",
    "\n",
    "# Dimention\n",
    "cat(\"Dimentions of datasets:-\\n\")   # same for all 3\n",
    "dim(check.Confirmed)\n",
    "\n",
    "\n",
    "######################\n",
    "# columns' name\n",
    "#cat(\"Name of columns in all 3 datasets:-\\n\")\n",
    "\n",
    "#colnames(check.Confirmed)\n",
    "#colnames(check.Deaths)\n",
    "#colnames(check.Recovered)"
   ]
  },
  {
   "cell_type": "code",
   "execution_count": 346,
   "metadata": {
    "scrolled": false
   },
   "outputs": [
    {
     "name": "stdout",
     "output_type": "stream",
     "text": [
      "'data.frame':\t468 obs. of  62 variables:\n",
      " $ Province.State: Factor w/ 321 levels \"\",\"Adams, IN\",..: 1 1 1 1 1 25 196 298 237 1 ...\n",
      " $ Country.Region: Factor w/ 155 levels \"Afghanistan\",..: 142 76 129 103 90 27 8 8 8 25 ...\n",
      " $ Lat           : num  15 36 1.28 28.17 2.5 ...\n",
      " $ Long          : num  101 138 103.8 84.2 112.5 ...\n",
      " $ X1.22.20      : int  2 2 0 0 0 0 0 0 0 0 ...\n",
      " $ X1.23.20      : int  3 1 1 0 0 0 0 0 0 0 ...\n",
      " $ X1.24.20      : int  5 2 3 0 0 0 0 0 0 0 ...\n",
      " $ X1.25.20      : int  7 2 3 1 3 0 0 0 0 0 ...\n",
      " $ X1.26.20      : int  8 4 4 1 4 0 3 1 0 0 ...\n",
      " $ X1.27.20      : int  8 4 5 1 4 0 4 1 0 1 ...\n",
      " $ X1.28.20      : int  14 7 7 1 4 1 4 1 0 1 ...\n",
      " $ X1.29.20      : int  14 7 7 1 7 1 4 1 1 1 ...\n",
      " $ X1.30.20      : int  14 11 10 1 8 1 4 2 3 1 ...\n",
      " $ X1.31.20      : int  19 15 13 1 8 1 4 3 2 1 ...\n",
      " $ X2.1.20       : int  19 20 16 1 8 1 4 4 3 1 ...\n",
      " $ X2.2.20       : int  19 20 18 1 8 1 4 4 2 1 ...\n",
      " $ X2.3.20       : int  19 20 18 1 8 1 4 4 2 1 ...\n",
      " $ X2.4.20       : int  25 22 24 1 10 1 4 4 3 1 ...\n",
      " $ X2.5.20       : int  25 22 28 1 12 2 4 4 3 1 ...\n",
      " $ X2.6.20       : int  25 45 28 1 12 2 4 4 4 1 ...\n",
      " $ X2.7.20       : int  25 25 30 1 12 4 4 4 5 1 ...\n",
      " $ X2.8.20       : int  32 25 33 1 16 4 4 4 5 1 ...\n",
      " $ X2.9.20       : int  32 26 40 1 16 4 4 4 5 1 ...\n",
      " $ X2.10.20      : int  32 26 45 1 18 4 4 4 5 1 ...\n",
      " $ X2.11.20      : int  33 26 47 1 18 4 4 4 5 1 ...\n",
      " $ X2.12.20      : int  33 28 50 1 18 4 4 4 5 1 ...\n",
      " $ X2.13.20      : int  33 28 58 1 19 4 4 4 5 1 ...\n",
      " $ X2.14.20      : int  33 29 67 1 19 4 4 4 5 1 ...\n",
      " $ X2.15.20      : int  33 43 72 1 22 4 4 4 5 1 ...\n",
      " $ X2.16.20      : int  34 59 75 1 22 4 4 4 5 1 ...\n",
      " $ X2.17.20      : int  35 66 77 1 22 5 4 4 5 1 ...\n",
      " $ X2.18.20      : int  35 74 81 1 22 5 4 4 5 1 ...\n",
      " $ X2.19.20      : int  35 84 84 1 22 5 4 4 5 1 ...\n",
      " $ X2.20.20      : int  35 94 84 1 22 5 4 4 5 1 ...\n",
      " $ X2.21.20      : int  35 105 85 1 22 6 4 4 5 1 ...\n",
      " $ X2.22.20      : int  35 122 85 1 22 6 4 4 5 1 ...\n",
      " $ X2.23.20      : int  35 147 89 1 22 6 4 4 5 1 ...\n",
      " $ X2.24.20      : int  35 159 89 1 22 6 4 4 5 1 ...\n",
      " $ X2.25.20      : int  37 170 91 1 22 7 4 4 5 1 ...\n",
      " $ X2.26.20      : int  40 189 93 1 22 7 4 4 5 1 ...\n",
      " $ X2.27.20      : int  40 214 93 1 23 7 4 4 5 1 ...\n",
      " $ X2.28.20      : int  41 228 93 1 23 7 4 4 5 1 ...\n",
      " $ X2.29.20      : int  42 241 102 1 25 8 4 7 9 1 ...\n",
      " $ X3.1.20       : int  42 256 106 1 29 8 6 7 9 1 ...\n",
      " $ X3.2.20       : int  43 274 108 1 29 8 6 9 9 1 ...\n",
      " $ X3.3.20       : int  43 293 110 1 36 9 13 9 11 1 ...\n",
      " $ X3.4.20       : int  43 331 110 1 50 12 22 10 11 1 ...\n",
      " $ X3.5.20       : int  47 360 117 1 50 13 22 10 13 1 ...\n",
      " $ X3.6.20       : int  48 420 130 1 83 21 26 10 13 1 ...\n",
      " $ X3.7.20       : int  50 461 138 1 93 21 28 11 13 1 ...\n",
      " $ X3.8.20       : int  50 502 150 1 99 27 38 11 15 2 ...\n",
      " $ X3.9.20       : int  50 511 150 1 117 32 48 15 15 2 ...\n",
      " $ X3.10.20      : int  53 581 160 1 129 32 55 18 18 2 ...\n",
      " $ X3.11.20      : int  59 639 178 1 149 39 65 21 20 3 ...\n",
      " $ X3.12.20      : int  70 639 178 1 149 46 65 21 20 3 ...\n",
      " $ X3.13.20      : int  75 701 200 1 197 64 92 36 35 5 ...\n",
      " $ X3.14.20      : int  82 773 212 1 238 64 112 49 46 7 ...\n",
      " $ X3.15.20      : int  114 839 226 1 428 73 134 57 61 7 ...\n",
      " $ X3.16.20      : int  147 825 243 1 566 103 171 71 68 7 ...\n",
      " $ X3.17.20      : int  177 878 266 1 673 103 210 94 78 33 ...\n",
      " $ X3.18.20      : int  212 889 313 1 790 186 267 121 94 35 ...\n",
      " $ X3.19.20      : int  272 924 345 1 900 231 307 121 144 37 ...\n"
     ]
    }
   ],
   "source": [
    "# as from viewing the datasets, no. and names of their columns, it's clear that all the data format is same\n",
    "\n",
    "# let's see the structure of these datasets\n",
    "str(check.Confirmed)\n",
    "#str(check.Deaths)\n",
    "#str(check.Recovered)"
   ]
  },
  {
   "cell_type": "markdown",
   "metadata": {},
   "source": [
    "### Explaination of each columns in fetched data:-\n",
    "* There are 3 dadicated databases for data about Confirmed/Death/Recovery cases, all around the world\n",
    "\n",
    "> #### Province.State:\n",
    "   > * Dataype: **factor** ---> they can be specific, unique and valid names\n",
    "   > * Holds name of City/Province/State, where the data is coming from\n",
    "   > * Eg.: _Hubei_\n",
    ">\n",
    "> #### Country.Region:\n",
    "   > * Dataype: **factor** ---> they can be specific, unique and valid names\n",
    "   > * Holds name of the country, in which the reported area comes\n",
    "   > * Eg.: _China_ (Hubei is a Province of China)\n",
    ">\n",
    "> #### Lat:\n",
    "   > * Dataype: **numeric** (i.e. can have values in desimals, too)\n",
    "   > * Holds the Latitude position of the given place(as in col1)\n",
    "   > * Eg.: _Latitude_ position of Hubei = 30.9756\n",
    ">\n",
    "> #### Long:\n",
    "   > * Dataype: **numeric** (i.e. can have values in desimals, too)\n",
    "   > * Holds the longitude position of the given place(as in col1)\n",
    "   > * Eg.: _Longitude_ position of Hubei = 112.2707\n",
    ">\n",
    "> #### Col. 5 to 62:\n",
    "   > * Dataype: **integer** (i.e. discrete) and remains _always positive_ as it determines  the _no, of individuals_\n",
    "   > * as discussed earlier... it's a time series data where the data is collected at various interval of time\n",
    "   > * figures represent on different days in series (from 22/01/2020)\n",
    "   > * The constant entity is the location, whoes data is represented in every row"
   ]
  },
  {
   "cell_type": "code",
   "execution_count": 347,
   "metadata": {},
   "outputs": [
    {
     "name": "stdout",
     "output_type": "stream",
     "text": [
      "\n",
      "A sample data of a location from \"Confirmed Cases'\" dataset:\n"
     ]
    },
    {
     "data": {
      "text/html": [
       "<table>\n",
       "<thead><tr><th></th><th scope=col>Province.State</th><th scope=col>Country.Region</th><th scope=col>Lat</th><th scope=col>Long</th><th scope=col>X1.22.20</th><th scope=col>X1.23.20</th><th scope=col>X1.24.20</th><th scope=col>X1.25.20</th><th scope=col>X1.26.20</th><th scope=col>X1.27.20</th><th scope=col>...</th><th scope=col>X3.10.20</th><th scope=col>X3.11.20</th><th scope=col>X3.12.20</th><th scope=col>X3.13.20</th><th scope=col>X3.14.20</th><th scope=col>X3.15.20</th><th scope=col>X3.16.20</th><th scope=col>X3.17.20</th><th scope=col>X3.18.20</th><th scope=col>X3.19.20</th></tr></thead>\n",
       "<tbody>\n",
       "\t<tr><th scope=row>155</th><td>Hubei   </td><td>China   </td><td>30.9756 </td><td>112.2707</td><td>444     </td><td>444     </td><td>549     </td><td>761     </td><td>1058    </td><td>1423    </td><td>...     </td><td>67760   </td><td>67773   </td><td>67781   </td><td>67786   </td><td>67790   </td><td>67794   </td><td>67798   </td><td>67799   </td><td>67800   </td><td>67800   </td></tr>\n",
       "</tbody>\n",
       "</table>\n"
      ],
      "text/latex": [
       "\\begin{tabular}{r|llllllllllllllllllllllllllllllllllllllllllllllllllllllllllllll}\n",
       "  & Province.State & Country.Region & Lat & Long & X1.22.20 & X1.23.20 & X1.24.20 & X1.25.20 & X1.26.20 & X1.27.20 & ... & X3.10.20 & X3.11.20 & X3.12.20 & X3.13.20 & X3.14.20 & X3.15.20 & X3.16.20 & X3.17.20 & X3.18.20 & X3.19.20\\\\\n",
       "\\hline\n",
       "\t155 & Hubei    & China    & 30.9756  & 112.2707 & 444      & 444      & 549      & 761      & 1058     & 1423     & ...      & 67760    & 67773    & 67781    & 67786    & 67790    & 67794    & 67798    & 67799    & 67800    & 67800   \\\\\n",
       "\\end{tabular}\n"
      ],
      "text/markdown": [
       "\n",
       "| <!--/--> | Province.State | Country.Region | Lat | Long | X1.22.20 | X1.23.20 | X1.24.20 | X1.25.20 | X1.26.20 | X1.27.20 | ... | X3.10.20 | X3.11.20 | X3.12.20 | X3.13.20 | X3.14.20 | X3.15.20 | X3.16.20 | X3.17.20 | X3.18.20 | X3.19.20 |\n",
       "|---|---|---|---|---|---|---|---|---|---|---|---|---|---|---|---|---|---|---|---|---|---|\n",
       "| 155 | Hubei    | China    | 30.9756  | 112.2707 | 444      | 444      | 549      | 761      | 1058     | 1423     | ...      | 67760    | 67773    | 67781    | 67786    | 67790    | 67794    | 67798    | 67799    | 67800    | 67800    |\n",
       "\n"
      ],
      "text/plain": [
       "    Province.State Country.Region Lat     Long     X1.22.20 X1.23.20 X1.24.20\n",
       "155 Hubei          China          30.9756 112.2707 444      444      549     \n",
       "    X1.25.20 X1.26.20 X1.27.20 ... X3.10.20 X3.11.20 X3.12.20 X3.13.20 X3.14.20\n",
       "155 761      1058     1423     ... 67760    67773    67781    67786    67790   \n",
       "    X3.15.20 X3.16.20 X3.17.20 X3.18.20 X3.19.20\n",
       "155 67794    67798    67799    67800    67800   "
      ]
     },
     "metadata": {},
     "output_type": "display_data"
    }
   ],
   "source": [
    "# showing data of hubei\n",
    "cat(\"\\nA sample data of a location from \\\"Confirmed Cases\\'\\\" dataset:\\n\")\n",
    "check.Confirmed[which(str_detect(check.Confirmed$Province.State, \"Hubei\")),]"
   ]
  },
  {
   "cell_type": "markdown",
   "metadata": {},
   "source": [
    "<br />"
   ]
  },
  {
   "cell_type": "code",
   "execution_count": 348,
   "metadata": {},
   "outputs": [],
   "source": [
    "##### add required visualizations to understand why we are taking which specific step"
   ]
  },
  {
   "cell_type": "markdown",
   "metadata": {},
   "source": [
    "<br />"
   ]
  },
  {
   "cell_type": "markdown",
   "metadata": {},
   "source": [
    "## Data Preparation:"
   ]
  },
  {
   "cell_type": "code",
   "execution_count": 349,
   "metadata": {},
   "outputs": [],
   "source": [
    "# this is a very important, crusial and time-consuming task  --->  (takes roughly 90% of time)"
   ]
  },
  {
   "cell_type": "markdown",
   "metadata": {},
   "source": [
    "#### * Data Cleaning"
   ]
  },
  {
   "cell_type": "code",
   "execution_count": 350,
   "metadata": {},
   "outputs": [
    {
     "data": {
      "text/html": [
       "<table>\n",
       "<thead><tr><th></th><th scope=col>Province.State</th><th scope=col>Country.Region</th><th scope=col>Lat</th><th scope=col>Long</th><th scope=col>X1.22.20</th><th scope=col>X1.23.20</th><th scope=col>X1.24.20</th><th scope=col>X1.25.20</th><th scope=col>X1.26.20</th><th scope=col>X1.27.20</th><th scope=col>...</th><th scope=col>X3.10.20</th><th scope=col>X3.11.20</th><th scope=col>X3.12.20</th><th scope=col>X3.13.20</th><th scope=col>X3.14.20</th><th scope=col>X3.15.20</th><th scope=col>X3.16.20</th><th scope=col>X3.17.20</th><th scope=col>X3.18.20</th><th scope=col>X3.19.20</th></tr></thead>\n",
       "<tbody>\n",
       "\t<tr><th scope=row>166</th><td>Diamond Princess</td><td>Cruise Ship     </td><td>35.4437         </td><td>139.638         </td><td>NA              </td><td>NA              </td><td>NA              </td><td>NA              </td><td>NA              </td><td>NA              </td><td>...             </td><td>696             </td><td>696             </td><td>696             </td><td>696             </td><td>696             </td><td>696             </td><td>696             </td><td>696             </td><td>712             </td><td>712             </td></tr>\n",
       "</tbody>\n",
       "</table>\n"
      ],
      "text/latex": [
       "\\begin{tabular}{r|llllllllllllllllllllllllllllllllllllllllllllllllllllllllllllll}\n",
       "  & Province.State & Country.Region & Lat & Long & X1.22.20 & X1.23.20 & X1.24.20 & X1.25.20 & X1.26.20 & X1.27.20 & ... & X3.10.20 & X3.11.20 & X3.12.20 & X3.13.20 & X3.14.20 & X3.15.20 & X3.16.20 & X3.17.20 & X3.18.20 & X3.19.20\\\\\n",
       "\\hline\n",
       "\t166 & Diamond Princess & Cruise Ship      & 35.4437          & 139.638          & NA               & NA               & NA               & NA               & NA               & NA               & ...              & 696              & 696              & 696              & 696              & 696              & 696              & 696              & 696              & 712              & 712             \\\\\n",
       "\\end{tabular}\n"
      ],
      "text/markdown": [
       "\n",
       "| <!--/--> | Province.State | Country.Region | Lat | Long | X1.22.20 | X1.23.20 | X1.24.20 | X1.25.20 | X1.26.20 | X1.27.20 | ... | X3.10.20 | X3.11.20 | X3.12.20 | X3.13.20 | X3.14.20 | X3.15.20 | X3.16.20 | X3.17.20 | X3.18.20 | X3.19.20 |\n",
       "|---|---|---|---|---|---|---|---|---|---|---|---|---|---|---|---|---|---|---|---|---|---|\n",
       "| 166 | Diamond Princess | Cruise Ship      | 35.4437          | 139.638          | NA               | NA               | NA               | NA               | NA               | NA               | ...              | 696              | 696              | 696              | 696              | 696              | 696              | 696              | 696              | 712              | 712              |\n",
       "\n"
      ],
      "text/plain": [
       "    Province.State   Country.Region Lat     Long    X1.22.20 X1.23.20 X1.24.20\n",
       "166 Diamond Princess Cruise Ship    35.4437 139.638 NA       NA       NA      \n",
       "    X1.25.20 X1.26.20 X1.27.20 ... X3.10.20 X3.11.20 X3.12.20 X3.13.20 X3.14.20\n",
       "166 NA       NA       NA       ... 696      696      696      696      696     \n",
       "    X3.15.20 X3.16.20 X3.17.20 X3.18.20 X3.19.20\n",
       "166 696      696      696      712      712     "
      ]
     },
     "metadata": {},
     "output_type": "display_data"
    },
    {
     "data": {
      "text/html": [
       "<table>\n",
       "<thead><tr><th></th><th scope=col>Province.State</th><th scope=col>Country.Region</th><th scope=col>Lat</th><th scope=col>Long</th><th scope=col>X1.22.20</th><th scope=col>X1.23.20</th><th scope=col>X1.24.20</th><th scope=col>X1.25.20</th><th scope=col>X1.26.20</th><th scope=col>X1.27.20</th><th scope=col>...</th><th scope=col>X3.10.20</th><th scope=col>X3.11.20</th><th scope=col>X3.12.20</th><th scope=col>X3.13.20</th><th scope=col>X3.14.20</th><th scope=col>X3.15.20</th><th scope=col>X3.16.20</th><th scope=col>X3.17.20</th><th scope=col>X3.18.20</th><th scope=col>X3.19.20</th></tr></thead>\n",
       "<tbody>\n",
       "\t<tr><th scope=row>431</th><td>French Guiana</td><td>France       </td><td>3.9339       </td><td>-53.1258     </td><td>0            </td><td>0            </td><td>0            </td><td>0            </td><td>0            </td><td>0            </td><td>...          </td><td>5            </td><td>3            </td><td>5            </td><td>3            </td><td>5            </td><td>7            </td><td>11           </td><td>11           </td><td>11           </td><td>11           </td></tr>\n",
       "</tbody>\n",
       "</table>\n"
      ],
      "text/latex": [
       "\\begin{tabular}{r|llllllllllllllllllllllllllllllllllllllllllllllllllllllllllllll}\n",
       "  & Province.State & Country.Region & Lat & Long & X1.22.20 & X1.23.20 & X1.24.20 & X1.25.20 & X1.26.20 & X1.27.20 & ... & X3.10.20 & X3.11.20 & X3.12.20 & X3.13.20 & X3.14.20 & X3.15.20 & X3.16.20 & X3.17.20 & X3.18.20 & X3.19.20\\\\\n",
       "\\hline\n",
       "\t431 & French Guiana & France        & 3.9339        & -53.1258      & 0             & 0             & 0             & 0             & 0             & 0             & ...           & 5             & 3             & 5             & 3             & 5             & 7             & 11            & 11            & 11            & 11           \\\\\n",
       "\\end{tabular}\n"
      ],
      "text/markdown": [
       "\n",
       "| <!--/--> | Province.State | Country.Region | Lat | Long | X1.22.20 | X1.23.20 | X1.24.20 | X1.25.20 | X1.26.20 | X1.27.20 | ... | X3.10.20 | X3.11.20 | X3.12.20 | X3.13.20 | X3.14.20 | X3.15.20 | X3.16.20 | X3.17.20 | X3.18.20 | X3.19.20 |\n",
       "|---|---|---|---|---|---|---|---|---|---|---|---|---|---|---|---|---|---|---|---|---|---|\n",
       "| 431 | French Guiana | France        | 3.9339        | -53.1258      | 0             | 0             | 0             | 0             | 0             | 0             | ...           | 5             | 3             | 5             | 3             | 5             | 7             | 11            | 11            | 11            | 11            |\n",
       "\n"
      ],
      "text/plain": [
       "    Province.State Country.Region Lat    Long     X1.22.20 X1.23.20 X1.24.20\n",
       "431 French Guiana  France         3.9339 -53.1258 0        0        0       \n",
       "    X1.25.20 X1.26.20 X1.27.20 ... X3.10.20 X3.11.20 X3.12.20 X3.13.20 X3.14.20\n",
       "431 0        0        0        ... 5        3        5        3        5       \n",
       "    X3.15.20 X3.16.20 X3.17.20 X3.18.20 X3.19.20\n",
       "431 7        11       11       11       11      "
      ]
     },
     "metadata": {},
     "output_type": "display_data"
    },
    {
     "data": {
      "text/html": [
       "<table>\n",
       "<thead><tr><th scope=col>Province.State</th><th scope=col>Country.Region</th><th scope=col>Lat</th><th scope=col>Long</th><th scope=col>X1.22.20</th><th scope=col>X1.23.20</th><th scope=col>X1.24.20</th><th scope=col>X1.25.20</th><th scope=col>X1.26.20</th><th scope=col>X1.27.20</th><th scope=col>...</th><th scope=col>X3.10.20</th><th scope=col>X3.11.20</th><th scope=col>X3.12.20</th><th scope=col>X3.13.20</th><th scope=col>X3.14.20</th><th scope=col>X3.15.20</th><th scope=col>X3.16.20</th><th scope=col>X3.17.20</th><th scope=col>X3.18.20</th><th scope=col>X3.19.20</th></tr></thead>\n",
       "<tbody>\n",
       "\t<tr><td>                </td><td>Thailand        </td><td>15.0000         </td><td> 101.0000       </td><td>0               </td><td>0               </td><td>0               </td><td>0               </td><td>2               </td><td>2               </td><td>...             </td><td> 33             </td><td> 34             </td><td> 34             </td><td> 35             </td><td> 35             </td><td> 35             </td><td> 35             </td><td> 41             </td><td> 42             </td><td> 42             </td></tr>\n",
       "\t<tr><td>                </td><td>Japan           </td><td>36.0000         </td><td> 138.0000       </td><td>0               </td><td>0               </td><td>0               </td><td>0               </td><td>1               </td><td>1               </td><td>...             </td><td>101             </td><td>118             </td><td>118             </td><td>118             </td><td>118             </td><td>118             </td><td>144             </td><td>144             </td><td>144             </td><td>150             </td></tr>\n",
       "\t<tr><td>                </td><td>Singapore       </td><td> 1.2833         </td><td> 103.8333       </td><td>0               </td><td>0               </td><td>0               </td><td>0               </td><td>0               </td><td>0               </td><td>...             </td><td> 78             </td><td> 96             </td><td> 96             </td><td> 97             </td><td>105             </td><td>105             </td><td>109             </td><td>114             </td><td>114             </td><td>114             </td></tr>\n",
       "\t<tr><td>                </td><td>Nepal           </td><td>28.1667         </td><td>  84.2500       </td><td>0               </td><td>0               </td><td>0               </td><td>0               </td><td>0               </td><td>0               </td><td>...             </td><td>  1             </td><td>  1             </td><td>  1             </td><td>  1             </td><td>  1             </td><td>  1             </td><td>  1             </td><td>  1             </td><td>  1             </td><td>  1             </td></tr>\n",
       "\t<tr><td>                </td><td>Malaysia        </td><td> 2.5000         </td><td> 112.5000       </td><td>0               </td><td>0               </td><td>0               </td><td>0               </td><td>0               </td><td>0               </td><td>...             </td><td> 24             </td><td> 26             </td><td> 26             </td><td> 26             </td><td> 35             </td><td> 42             </td><td> 42             </td><td> 49             </td><td> 60             </td><td> 75             </td></tr>\n",
       "\t<tr><td>British Columbia</td><td>Canada          </td><td>49.2827         </td><td>-123.1207       </td><td>0               </td><td>0               </td><td>0               </td><td>0               </td><td>0               </td><td>0               </td><td>...             </td><td>  4             </td><td>  4             </td><td>  4             </td><td>  4             </td><td>  4             </td><td>  4             </td><td>  4             </td><td>  4             </td><td>  4             </td><td>  4             </td></tr>\n",
       "</tbody>\n",
       "</table>\n"
      ],
      "text/latex": [
       "\\begin{tabular}{r|llllllllllllllllllllllllllllllllllllllllllllllllllllllllllllll}\n",
       " Province.State & Country.Region & Lat & Long & X1.22.20 & X1.23.20 & X1.24.20 & X1.25.20 & X1.26.20 & X1.27.20 & ... & X3.10.20 & X3.11.20 & X3.12.20 & X3.13.20 & X3.14.20 & X3.15.20 & X3.16.20 & X3.17.20 & X3.18.20 & X3.19.20\\\\\n",
       "\\hline\n",
       "\t                  & Thailand         & 15.0000          &  101.0000        & 0                & 0                & 0                & 0                & 2                & 2                & ...              &  33              &  34              &  34              &  35              &  35              &  35              &  35              &  41              &  42              &  42             \\\\\n",
       "\t                  & Japan            & 36.0000          &  138.0000        & 0                & 0                & 0                & 0                & 1                & 1                & ...              & 101              & 118              & 118              & 118              & 118              & 118              & 144              & 144              & 144              & 150             \\\\\n",
       "\t                  & Singapore        &  1.2833          &  103.8333        & 0                & 0                & 0                & 0                & 0                & 0                & ...              &  78              &  96              &  96              &  97              & 105              & 105              & 109              & 114              & 114              & 114             \\\\\n",
       "\t                  & Nepal            & 28.1667          &   84.2500        & 0                & 0                & 0                & 0                & 0                & 0                & ...              &   1              &   1              &   1              &   1              &   1              &   1              &   1              &   1              &   1              &   1             \\\\\n",
       "\t                  & Malaysia         &  2.5000          &  112.5000        & 0                & 0                & 0                & 0                & 0                & 0                & ...              &  24              &  26              &  26              &  26              &  35              &  42              &  42              &  49              &  60              &  75             \\\\\n",
       "\t British Columbia & Canada           & 49.2827          & -123.1207        & 0                & 0                & 0                & 0                & 0                & 0                & ...              &   4              &   4              &   4              &   4              &   4              &   4              &   4              &   4              &   4              &   4             \\\\\n",
       "\\end{tabular}\n"
      ],
      "text/markdown": [
       "\n",
       "| Province.State | Country.Region | Lat | Long | X1.22.20 | X1.23.20 | X1.24.20 | X1.25.20 | X1.26.20 | X1.27.20 | ... | X3.10.20 | X3.11.20 | X3.12.20 | X3.13.20 | X3.14.20 | X3.15.20 | X3.16.20 | X3.17.20 | X3.18.20 | X3.19.20 |\n",
       "|---|---|---|---|---|---|---|---|---|---|---|---|---|---|---|---|---|---|---|---|---|\n",
       "|                  | Thailand         | 15.0000          |  101.0000        | 0                | 0                | 0                | 0                | 2                | 2                | ...              |  33              |  34              |  34              |  35              |  35              |  35              |  35              |  41              |  42              |  42              |\n",
       "|                  | Japan            | 36.0000          |  138.0000        | 0                | 0                | 0                | 0                | 1                | 1                | ...              | 101              | 118              | 118              | 118              | 118              | 118              | 144              | 144              | 144              | 150              |\n",
       "|                  | Singapore        |  1.2833          |  103.8333        | 0                | 0                | 0                | 0                | 0                | 0                | ...              |  78              |  96              |  96              |  97              | 105              | 105              | 109              | 114              | 114              | 114              |\n",
       "|                  | Nepal            | 28.1667          |   84.2500        | 0                | 0                | 0                | 0                | 0                | 0                | ...              |   1              |   1              |   1              |   1              |   1              |   1              |   1              |   1              |   1              |   1              |\n",
       "|                  | Malaysia         |  2.5000          |  112.5000        | 0                | 0                | 0                | 0                | 0                | 0                | ...              |  24              |  26              |  26              |  26              |  35              |  42              |  42              |  49              |  60              |  75              |\n",
       "| British Columbia | Canada           | 49.2827          | -123.1207        | 0                | 0                | 0                | 0                | 0                | 0                | ...              |   4              |   4              |   4              |   4              |   4              |   4              |   4              |   4              |   4              |   4              |\n",
       "\n"
      ],
      "text/plain": [
       "  Province.State   Country.Region Lat     Long      X1.22.20 X1.23.20 X1.24.20\n",
       "1                  Thailand       15.0000  101.0000 0        0        0       \n",
       "2                  Japan          36.0000  138.0000 0        0        0       \n",
       "3                  Singapore       1.2833  103.8333 0        0        0       \n",
       "4                  Nepal          28.1667   84.2500 0        0        0       \n",
       "5                  Malaysia        2.5000  112.5000 0        0        0       \n",
       "6 British Columbia Canada         49.2827 -123.1207 0        0        0       \n",
       "  X1.25.20 X1.26.20 X1.27.20 ... X3.10.20 X3.11.20 X3.12.20 X3.13.20 X3.14.20\n",
       "1 0        2        2        ...  33       34       34       35       35     \n",
       "2 0        1        1        ... 101      118      118      118      118     \n",
       "3 0        0        0        ...  78       96       96       97      105     \n",
       "4 0        0        0        ...   1        1        1        1        1     \n",
       "5 0        0        0        ...  24       26       26       26       35     \n",
       "6 0        0        0        ...   4        4        4        4        4     \n",
       "  X3.15.20 X3.16.20 X3.17.20 X3.18.20 X3.19.20\n",
       "1  35       35       41       42       42     \n",
       "2 118      144      144      144      150     \n",
       "3 105      109      114      114      114     \n",
       "4   1        1        1        1        1     \n",
       "5  42       42       49       60       75     \n",
       "6   4        4        4        4        4     "
      ]
     },
     "metadata": {},
     "output_type": "display_data"
    }
   ],
   "source": [
    "# from short of ***dataCleaner.R***\n",
    "\n",
    "# vulnaribilities in data & handling them (NAs, missing val..)\n",
    "# cleaning\n",
    "\n",
    "\n",
    "# sample NA val\n",
    "check.Confirmed[which(str_detect(check.Confirmed$Country.Region, \"Cruise Ship\")),]\n",
    "\n",
    "# sample wrong data \"french guiana\" the data value can not decrease on next day\n",
    "check.Confirmed[which(str_detect(check.Confirmed$Province.State, \"French Guiana\")),]\n",
    "\n",
    "# sample blank data ---> State (to be replaced by 'Other')\n",
    "head(check.Recovered)"
   ]
  },
  {
   "cell_type": "code",
   "execution_count": 351,
   "metadata": {},
   "outputs": [],
   "source": [
    "# most known ways are:\n",
    "    # replacing/filling by Mean/Mode etc.. (benifits)\n",
    "    # dealing with na --> removing NA rows .... \n",
    "        # we can't do so, cuz' there are very few NAs,\n",
    "        # we can simply fill that place with smallest value in that series but time series data,\n",
    "        # ignoring a row in time-series dataset means removal of all the data of that location"
   ]
  },
  {
   "cell_type": "code",
   "execution_count": 352,
   "metadata": {},
   "outputs": [],
   "source": [
    "# removing NAs, replacing incorrect values\n",
    "\n",
    "for (i in 1:nrow(check.Confirmed)) {\n",
    "  for (j in 5:ncol(check.Confirmed)) {\n",
    "    if(j==5) {\n",
    "      check.Confirmed[i,j] = ifelse(is.na(check.Confirmed[i, j]), 0, check.Confirmed[i,j])\n",
    "    } else {\n",
    "      if(is.na(check.Confirmed[i, j])){\n",
    "        check.Confirmed[i,j] = check.Confirmed[i, (j-1)]\n",
    "      } else if(check.Confirmed[i, (j-1)] > check.Confirmed[i, j]){\n",
    "        check.Confirmed[i,j] = check.Confirmed[i, (j-1)]\n",
    "      }\n",
    "    }\n",
    "  }\n",
    "}\n",
    "\n",
    "for (i in 1:nrow(check.Deaths)) {\n",
    "  for (j in 5:ncol(check.Deaths)) {\n",
    "    if(j==5) {\n",
    "      check.Deaths[i,j] = ifelse(is.na(check.Deaths[i, j]), 0, check.Deaths[i,j])\n",
    "    } else {\n",
    "      if(is.na(check.Deaths[i, j])){\n",
    "        check.Deaths[i,j] = check.Deaths[i, (j-1)]\n",
    "      } else if(check.Deaths[i, (j-1)] > check.Deaths[i, j]){\n",
    "        check.Deaths[i,j] = check.Deaths[i, (j-1)]\n",
    "      }\n",
    "    }\n",
    "  }\n",
    "}\n",
    "\n",
    "for (i in 1:nrow(check.Recovered)) {\n",
    "  for (j in 5:ncol(check.Recovered)) {\n",
    "    if(j==5) {\n",
    "      check.Recovered[i,j] = ifelse(is.na(check.Recovered[i, j]), 0, check.Recovered[i,j])\n",
    "    } else {\n",
    "      if(is.na(check.Recovered[i, j])){\n",
    "        check.Recovered[i,j] = check.Recovered[i, (j-1)]\n",
    "      } else if(check.Recovered[i, (j-1)] > check.Recovered[i, j]){\n",
    "        check.Recovered[i,j] = check.Recovered[i, (j-1)]\n",
    "      }\n",
    "    }\n",
    "  }\n",
    "}\n",
    "\n",
    "\n",
    "\n"
   ]
  },
  {
   "cell_type": "code",
   "execution_count": 353,
   "metadata": {},
   "outputs": [],
   "source": [
    "# replace blanks and incorrect country/state names\n",
    "\n",
    "# replacing in states\n",
    "states = as.character(check.Confirmed$Province.State)\n",
    "states.levels = as.character(levels(check.Confirmed$Province.State))\n",
    "\n",
    "states[states %in% \"\"] = \"Others\"\n",
    "states.levels[states.levels %in% \"\"] = \"Others\"\n",
    "\n",
    "\n",
    "#######\n",
    "states[states %in% \"From Diamond Princess\"] = \"Diamond Princess\"\n",
    "states.levels = states.levels[!states.levels %in% \"From Diamond Princess\"]\n",
    "\n",
    "\n",
    "# replacing in countries\n",
    "countries = as.character(check.Confirmed$Country.Region)\n",
    "countries.levels = as.character(levels(check.Confirmed$Country.Region))\n",
    "\n",
    "countries[countries %in% \"US\"] = \"United States\"\n",
    "countries[countries %in% \"UK\"] = \"United Kingdom\"\n",
    "countries[countries %in% \"Taiwan*\"] = \"Taiwan\"\n",
    "countries[countries %in% \"The Bahamas\"] = \"Bahamas\"\n",
    "countries[countries %in% \"Gambia, The\"] = \"Gambia\"\n",
    "countries[countries %in% \"Korea, South\"] = \"South Korea\"\n",
    "countries[countries %in% c(\"Congo (Brazzaville)\", \"Congo (Kinshasa)\", \"Republic of the Congo\")] = \"Democratic Republic of the Congo\"\n",
    "###\n",
    "countries.levels[countries.levels %in% \"US\"] = \"United States\"\n",
    "countries.levels[countries.levels %in% \"UK\"] = \"United Kingdom\"\n",
    "countries.levels[countries.levels %in% \"Taiwan*\"] = \"Taiwan\"\n",
    "countries.levels[countries.levels %in% \"The Bahamas\"] = \"Bahamas\"\n",
    "countries.levels[countries.levels %in% \"Gambia, The\"] = \"Gambia\"\n",
    "countries.levels[countries.levels %in% \"Korea, South\"] = \"South Korea\"\n",
    "\n",
    "countries.levels = countries.levels[!countries.levels %in% c(\"Congo (Brazzaville)\", \"Congo (Kinshasa)\", \"Republic of the Congo\")]\n",
    "countries.levels = c(countries.levels, \"Democratic Republic of the Congo\")\n",
    "###############################"
   ]
  },
  {
   "cell_type": "code",
   "execution_count": 354,
   "metadata": {},
   "outputs": [],
   "source": [
    "# rectified fectors\n",
    "states.factor  = factor(c(states), levels = c(states.levels))\n",
    "countries.factor  = factor(countries, levels = countries.levels)\n",
    "\n",
    "\n",
    "## CUZ' INITIAL 4 COLUMNS ARE COMMON IN ALL 3 DATASETS ##\n",
    "\n",
    "# editing factors in datasets\n",
    "check.Confirmed = cbind(\n",
    "                    Province.State = states.factor,\n",
    "                    Country.Region = countries.factor,\n",
    "                    check.Confirmed[,3:ncol(check.Confirmed)]\n",
    "                  )\n",
    "\n",
    "check.Deaths = cbind(\n",
    "                    Province.State = states.factor,\n",
    "                    Country.Region = countries.factor,\n",
    "                    check.Deaths[,3:ncol(check.Deaths)]\n",
    "                  )\n",
    "\n",
    "check.Recovered = cbind(\n",
    "                    Province.State = states.factor,\n",
    "                    Country.Region = countries.factor,\n",
    "                    check.Recovered[,3:ncol(check.Recovered)]\n",
    "                  )\n",
    "\n"
   ]
  },
  {
   "cell_type": "code",
   "execution_count": 355,
   "metadata": {},
   "outputs": [
    {
     "data": {
      "text/html": [
       "<table>\n",
       "<thead><tr><th></th><th scope=col>Province.State</th><th scope=col>Country.Region</th><th scope=col>Lat</th><th scope=col>Long</th><th scope=col>X1.22.20</th><th scope=col>X1.23.20</th><th scope=col>X1.24.20</th><th scope=col>X1.25.20</th><th scope=col>X1.26.20</th><th scope=col>X1.27.20</th><th scope=col>...</th><th scope=col>X3.10.20</th><th scope=col>X3.11.20</th><th scope=col>X3.12.20</th><th scope=col>X3.13.20</th><th scope=col>X3.14.20</th><th scope=col>X3.15.20</th><th scope=col>X3.16.20</th><th scope=col>X3.17.20</th><th scope=col>X3.18.20</th><th scope=col>X3.19.20</th></tr></thead>\n",
       "<tbody>\n",
       "\t<tr><th scope=row>166</th><td>Diamond Princess</td><td>Cruise Ship     </td><td>35.4437         </td><td>139.638         </td><td>0               </td><td>0               </td><td>0               </td><td>0               </td><td>0               </td><td>0               </td><td>...             </td><td>706             </td><td>706             </td><td>706             </td><td>706             </td><td>706             </td><td>706             </td><td>706             </td><td>706             </td><td>712             </td><td>712             </td></tr>\n",
       "</tbody>\n",
       "</table>\n"
      ],
      "text/latex": [
       "\\begin{tabular}{r|llllllllllllllllllllllllllllllllllllllllllllllllllllllllllllll}\n",
       "  & Province.State & Country.Region & Lat & Long & X1.22.20 & X1.23.20 & X1.24.20 & X1.25.20 & X1.26.20 & X1.27.20 & ... & X3.10.20 & X3.11.20 & X3.12.20 & X3.13.20 & X3.14.20 & X3.15.20 & X3.16.20 & X3.17.20 & X3.18.20 & X3.19.20\\\\\n",
       "\\hline\n",
       "\t166 & Diamond Princess & Cruise Ship      & 35.4437          & 139.638          & 0                & 0                & 0                & 0                & 0                & 0                & ...              & 706              & 706              & 706              & 706              & 706              & 706              & 706              & 706              & 712              & 712             \\\\\n",
       "\\end{tabular}\n"
      ],
      "text/markdown": [
       "\n",
       "| <!--/--> | Province.State | Country.Region | Lat | Long | X1.22.20 | X1.23.20 | X1.24.20 | X1.25.20 | X1.26.20 | X1.27.20 | ... | X3.10.20 | X3.11.20 | X3.12.20 | X3.13.20 | X3.14.20 | X3.15.20 | X3.16.20 | X3.17.20 | X3.18.20 | X3.19.20 |\n",
       "|---|---|---|---|---|---|---|---|---|---|---|---|---|---|---|---|---|---|---|---|---|---|\n",
       "| 166 | Diamond Princess | Cruise Ship      | 35.4437          | 139.638          | 0                | 0                | 0                | 0                | 0                | 0                | ...              | 706              | 706              | 706              | 706              | 706              | 706              | 706              | 706              | 712              | 712              |\n",
       "\n"
      ],
      "text/plain": [
       "    Province.State   Country.Region Lat     Long    X1.22.20 X1.23.20 X1.24.20\n",
       "166 Diamond Princess Cruise Ship    35.4437 139.638 0        0        0       \n",
       "    X1.25.20 X1.26.20 X1.27.20 ... X3.10.20 X3.11.20 X3.12.20 X3.13.20 X3.14.20\n",
       "166 0        0        0        ... 706      706      706      706      706     \n",
       "    X3.15.20 X3.16.20 X3.17.20 X3.18.20 X3.19.20\n",
       "166 706      706      706      712      712     "
      ]
     },
     "metadata": {},
     "output_type": "display_data"
    },
    {
     "data": {
      "text/html": [
       "<table>\n",
       "<thead><tr><th></th><th scope=col>Province.State</th><th scope=col>Country.Region</th><th scope=col>Lat</th><th scope=col>Long</th><th scope=col>X1.22.20</th><th scope=col>X1.23.20</th><th scope=col>X1.24.20</th><th scope=col>X1.25.20</th><th scope=col>X1.26.20</th><th scope=col>X1.27.20</th><th scope=col>...</th><th scope=col>X3.10.20</th><th scope=col>X3.11.20</th><th scope=col>X3.12.20</th><th scope=col>X3.13.20</th><th scope=col>X3.14.20</th><th scope=col>X3.15.20</th><th scope=col>X3.16.20</th><th scope=col>X3.17.20</th><th scope=col>X3.18.20</th><th scope=col>X3.19.20</th></tr></thead>\n",
       "<tbody>\n",
       "\t<tr><th scope=row>431</th><td>French Guiana</td><td>France       </td><td>3.9339       </td><td>-53.1258     </td><td>0            </td><td>0            </td><td>0            </td><td>0            </td><td>0            </td><td>0            </td><td>...          </td><td>5            </td><td>5            </td><td>5            </td><td>5            </td><td>5            </td><td>7            </td><td>11           </td><td>11           </td><td>11           </td><td>11           </td></tr>\n",
       "</tbody>\n",
       "</table>\n"
      ],
      "text/latex": [
       "\\begin{tabular}{r|llllllllllllllllllllllllllllllllllllllllllllllllllllllllllllll}\n",
       "  & Province.State & Country.Region & Lat & Long & X1.22.20 & X1.23.20 & X1.24.20 & X1.25.20 & X1.26.20 & X1.27.20 & ... & X3.10.20 & X3.11.20 & X3.12.20 & X3.13.20 & X3.14.20 & X3.15.20 & X3.16.20 & X3.17.20 & X3.18.20 & X3.19.20\\\\\n",
       "\\hline\n",
       "\t431 & French Guiana & France        & 3.9339        & -53.1258      & 0             & 0             & 0             & 0             & 0             & 0             & ...           & 5             & 5             & 5             & 5             & 5             & 7             & 11            & 11            & 11            & 11           \\\\\n",
       "\\end{tabular}\n"
      ],
      "text/markdown": [
       "\n",
       "| <!--/--> | Province.State | Country.Region | Lat | Long | X1.22.20 | X1.23.20 | X1.24.20 | X1.25.20 | X1.26.20 | X1.27.20 | ... | X3.10.20 | X3.11.20 | X3.12.20 | X3.13.20 | X3.14.20 | X3.15.20 | X3.16.20 | X3.17.20 | X3.18.20 | X3.19.20 |\n",
       "|---|---|---|---|---|---|---|---|---|---|---|---|---|---|---|---|---|---|---|---|---|---|\n",
       "| 431 | French Guiana | France        | 3.9339        | -53.1258      | 0             | 0             | 0             | 0             | 0             | 0             | ...           | 5             | 5             | 5             | 5             | 5             | 7             | 11            | 11            | 11            | 11            |\n",
       "\n"
      ],
      "text/plain": [
       "    Province.State Country.Region Lat    Long     X1.22.20 X1.23.20 X1.24.20\n",
       "431 French Guiana  France         3.9339 -53.1258 0        0        0       \n",
       "    X1.25.20 X1.26.20 X1.27.20 ... X3.10.20 X3.11.20 X3.12.20 X3.13.20 X3.14.20\n",
       "431 0        0        0        ... 5        5        5        5        5       \n",
       "    X3.15.20 X3.16.20 X3.17.20 X3.18.20 X3.19.20\n",
       "431 7        11       11       11       11      "
      ]
     },
     "metadata": {},
     "output_type": "display_data"
    },
    {
     "data": {
      "text/html": [
       "<table>\n",
       "<thead><tr><th scope=col>Province.State</th><th scope=col>Country.Region</th><th scope=col>Lat</th><th scope=col>Long</th><th scope=col>X1.22.20</th><th scope=col>X1.23.20</th><th scope=col>X1.24.20</th><th scope=col>X1.25.20</th><th scope=col>X1.26.20</th><th scope=col>X1.27.20</th><th scope=col>...</th><th scope=col>X3.10.20</th><th scope=col>X3.11.20</th><th scope=col>X3.12.20</th><th scope=col>X3.13.20</th><th scope=col>X3.14.20</th><th scope=col>X3.15.20</th><th scope=col>X3.16.20</th><th scope=col>X3.17.20</th><th scope=col>X3.18.20</th><th scope=col>X3.19.20</th></tr></thead>\n",
       "<tbody>\n",
       "\t<tr><td>Others          </td><td>Thailand        </td><td>15.0000         </td><td> 101.0000       </td><td>0               </td><td>0               </td><td>0               </td><td>0               </td><td>2               </td><td>2               </td><td>...             </td><td> 33             </td><td> 34             </td><td> 34             </td><td> 35             </td><td> 35             </td><td> 35             </td><td> 35             </td><td> 41             </td><td> 42             </td><td> 42             </td></tr>\n",
       "\t<tr><td>Others          </td><td>Japan           </td><td>36.0000         </td><td> 138.0000       </td><td>0               </td><td>0               </td><td>0               </td><td>0               </td><td>1               </td><td>1               </td><td>...             </td><td>101             </td><td>118             </td><td>118             </td><td>118             </td><td>118             </td><td>118             </td><td>144             </td><td>144             </td><td>144             </td><td>150             </td></tr>\n",
       "\t<tr><td>Others          </td><td>Singapore       </td><td> 1.2833         </td><td> 103.8333       </td><td>0               </td><td>0               </td><td>0               </td><td>0               </td><td>0               </td><td>0               </td><td>...             </td><td> 78             </td><td> 96             </td><td> 96             </td><td> 97             </td><td>105             </td><td>105             </td><td>109             </td><td>114             </td><td>114             </td><td>114             </td></tr>\n",
       "\t<tr><td>Others          </td><td>Nepal           </td><td>28.1667         </td><td>  84.2500       </td><td>0               </td><td>0               </td><td>0               </td><td>0               </td><td>0               </td><td>0               </td><td>...             </td><td>  1             </td><td>  1             </td><td>  1             </td><td>  1             </td><td>  1             </td><td>  1             </td><td>  1             </td><td>  1             </td><td>  1             </td><td>  1             </td></tr>\n",
       "\t<tr><td>Others          </td><td>Malaysia        </td><td> 2.5000         </td><td> 112.5000       </td><td>0               </td><td>0               </td><td>0               </td><td>0               </td><td>0               </td><td>0               </td><td>...             </td><td> 24             </td><td> 26             </td><td> 26             </td><td> 26             </td><td> 35             </td><td> 42             </td><td> 42             </td><td> 49             </td><td> 60             </td><td> 75             </td></tr>\n",
       "\t<tr><td>British Columbia</td><td>Canada          </td><td>49.2827         </td><td>-123.1207       </td><td>0               </td><td>0               </td><td>0               </td><td>0               </td><td>0               </td><td>0               </td><td>...             </td><td>  4             </td><td>  4             </td><td>  4             </td><td>  4             </td><td>  4             </td><td>  4             </td><td>  4             </td><td>  4             </td><td>  4             </td><td>  4             </td></tr>\n",
       "</tbody>\n",
       "</table>\n"
      ],
      "text/latex": [
       "\\begin{tabular}{r|llllllllllllllllllllllllllllllllllllllllllllllllllllllllllllll}\n",
       " Province.State & Country.Region & Lat & Long & X1.22.20 & X1.23.20 & X1.24.20 & X1.25.20 & X1.26.20 & X1.27.20 & ... & X3.10.20 & X3.11.20 & X3.12.20 & X3.13.20 & X3.14.20 & X3.15.20 & X3.16.20 & X3.17.20 & X3.18.20 & X3.19.20\\\\\n",
       "\\hline\n",
       "\t Others           & Thailand         & 15.0000          &  101.0000        & 0                & 0                & 0                & 0                & 2                & 2                & ...              &  33              &  34              &  34              &  35              &  35              &  35              &  35              &  41              &  42              &  42             \\\\\n",
       "\t Others           & Japan            & 36.0000          &  138.0000        & 0                & 0                & 0                & 0                & 1                & 1                & ...              & 101              & 118              & 118              & 118              & 118              & 118              & 144              & 144              & 144              & 150             \\\\\n",
       "\t Others           & Singapore        &  1.2833          &  103.8333        & 0                & 0                & 0                & 0                & 0                & 0                & ...              &  78              &  96              &  96              &  97              & 105              & 105              & 109              & 114              & 114              & 114             \\\\\n",
       "\t Others           & Nepal            & 28.1667          &   84.2500        & 0                & 0                & 0                & 0                & 0                & 0                & ...              &   1              &   1              &   1              &   1              &   1              &   1              &   1              &   1              &   1              &   1             \\\\\n",
       "\t Others           & Malaysia         &  2.5000          &  112.5000        & 0                & 0                & 0                & 0                & 0                & 0                & ...              &  24              &  26              &  26              &  26              &  35              &  42              &  42              &  49              &  60              &  75             \\\\\n",
       "\t British Columbia & Canada           & 49.2827          & -123.1207        & 0                & 0                & 0                & 0                & 0                & 0                & ...              &   4              &   4              &   4              &   4              &   4              &   4              &   4              &   4              &   4              &   4             \\\\\n",
       "\\end{tabular}\n"
      ],
      "text/markdown": [
       "\n",
       "| Province.State | Country.Region | Lat | Long | X1.22.20 | X1.23.20 | X1.24.20 | X1.25.20 | X1.26.20 | X1.27.20 | ... | X3.10.20 | X3.11.20 | X3.12.20 | X3.13.20 | X3.14.20 | X3.15.20 | X3.16.20 | X3.17.20 | X3.18.20 | X3.19.20 |\n",
       "|---|---|---|---|---|---|---|---|---|---|---|---|---|---|---|---|---|---|---|---|---|\n",
       "| Others           | Thailand         | 15.0000          |  101.0000        | 0                | 0                | 0                | 0                | 2                | 2                | ...              |  33              |  34              |  34              |  35              |  35              |  35              |  35              |  41              |  42              |  42              |\n",
       "| Others           | Japan            | 36.0000          |  138.0000        | 0                | 0                | 0                | 0                | 1                | 1                | ...              | 101              | 118              | 118              | 118              | 118              | 118              | 144              | 144              | 144              | 150              |\n",
       "| Others           | Singapore        |  1.2833          |  103.8333        | 0                | 0                | 0                | 0                | 0                | 0                | ...              |  78              |  96              |  96              |  97              | 105              | 105              | 109              | 114              | 114              | 114              |\n",
       "| Others           | Nepal            | 28.1667          |   84.2500        | 0                | 0                | 0                | 0                | 0                | 0                | ...              |   1              |   1              |   1              |   1              |   1              |   1              |   1              |   1              |   1              |   1              |\n",
       "| Others           | Malaysia         |  2.5000          |  112.5000        | 0                | 0                | 0                | 0                | 0                | 0                | ...              |  24              |  26              |  26              |  26              |  35              |  42              |  42              |  49              |  60              |  75              |\n",
       "| British Columbia | Canada           | 49.2827          | -123.1207        | 0                | 0                | 0                | 0                | 0                | 0                | ...              |   4              |   4              |   4              |   4              |   4              |   4              |   4              |   4              |   4              |   4              |\n",
       "\n"
      ],
      "text/plain": [
       "  Province.State   Country.Region Lat     Long      X1.22.20 X1.23.20 X1.24.20\n",
       "1 Others           Thailand       15.0000  101.0000 0        0        0       \n",
       "2 Others           Japan          36.0000  138.0000 0        0        0       \n",
       "3 Others           Singapore       1.2833  103.8333 0        0        0       \n",
       "4 Others           Nepal          28.1667   84.2500 0        0        0       \n",
       "5 Others           Malaysia        2.5000  112.5000 0        0        0       \n",
       "6 British Columbia Canada         49.2827 -123.1207 0        0        0       \n",
       "  X1.25.20 X1.26.20 X1.27.20 ... X3.10.20 X3.11.20 X3.12.20 X3.13.20 X3.14.20\n",
       "1 0        2        2        ...  33       34       34       35       35     \n",
       "2 0        1        1        ... 101      118      118      118      118     \n",
       "3 0        0        0        ...  78       96       96       97      105     \n",
       "4 0        0        0        ...   1        1        1        1        1     \n",
       "5 0        0        0        ...  24       26       26       26       35     \n",
       "6 0        0        0        ...   4        4        4        4        4     \n",
       "  X3.15.20 X3.16.20 X3.17.20 X3.18.20 X3.19.20\n",
       "1  35       35       41       42       42     \n",
       "2 118      144      144      144      150     \n",
       "3 105      109      114      114      114     \n",
       "4   1        1        1        1        1     \n",
       "5  42       42       49       60       75     \n",
       "6   4        4        4        4        4     "
      ]
     },
     "metadata": {},
     "output_type": "display_data"
    }
   ],
   "source": [
    "# view cleaned sample\n",
    "\n",
    "# sample NA val\n",
    "check.Confirmed[which(str_detect(check.Confirmed$Country.Region, \"Cruise Ship\")),]\n",
    "\n",
    "# sample wrong data \"french guiana\"\n",
    "check.Confirmed[which(str_detect(check.Confirmed$Province.State, \"French Guiana\")),]\n",
    "\n",
    "# sample blank data ---> State (replaced by 'Other')\n",
    "head(check.Recovered)"
   ]
  },
  {
   "cell_type": "markdown",
   "metadata": {},
   "source": [
    "#### * Data Reduction"
   ]
  },
  {
   "cell_type": "code",
   "execution_count": 356,
   "metadata": {},
   "outputs": [],
   "source": [
    "# saparating outliers \n",
    "# 2 are sapratesd --> 'world' (& hence 'china') will be seperated after transformations\n",
    "# There is a flaw in the above dataset:\n",
    "    # Here we have the data of one _Cruise Ship_ called **Diamond Princess**\n",
    "    # which is enlisted with various countries, as well\n",
    "# Hence we need to reduce the data by saprating it from rest of the all 3 datasets\n",
    "\n",
    "# Though, it can be  helpful for furthes studies, hence we'll store it saperatly\n",
    "Diamond.Princess.Confirmed = check.Confirmed[ which(str_detect(check.Confirmed$Country.Region, \"Cruise Ship\", negate = F)), ]\n",
    "check.Confirmed = check.Confirmed[ which(str_detect(check.Confirmed$Country.Region, \"Cruise Ship\", negate = T)), ]\n",
    "\n",
    "Diamond.Princess.Deaths = check.Deaths[ which(str_detect(check.Deaths$Country.Region, \"Cruise Ship\", negate = F)),]\n",
    "check.Deaths = check.Deaths[ which(str_detect(check.Deaths$Country.Region, \"Cruise Ship\", negate = T)), ]\n",
    "\n",
    "Diamond.Princess.Recovered = check.Recovered[ which(str_detect(check.Recovered$Country.Region, \"Cruise Ship\", negate = F)), ]\n",
    "check.Recovered = check.Recovered[ which(str_detect(check.Recovered$Country.Region, \"Cruise Ship\", negate = T)), ]\n",
    "\n",
    "## Rectifying Row sequences\n",
    "row.names(check.Confirmed) <- NULL\n",
    "row.names(check.Deaths) <- NULL\n",
    "row.names(check.Recovered) <- NULL"
   ]
  },
  {
   "cell_type": "code",
   "execution_count": 357,
   "metadata": {},
   "outputs": [
    {
     "data": {
      "text/html": [
       "<table>\n",
       "<thead><tr><th></th><th scope=col>Province.State</th><th scope=col>Country.Region</th><th scope=col>Lat</th><th scope=col>Long</th><th scope=col>X1.22.20</th><th scope=col>X1.23.20</th><th scope=col>X1.24.20</th><th scope=col>X1.25.20</th><th scope=col>X1.26.20</th><th scope=col>X1.27.20</th><th scope=col>...</th><th scope=col>X3.10.20</th><th scope=col>X3.11.20</th><th scope=col>X3.12.20</th><th scope=col>X3.13.20</th><th scope=col>X3.14.20</th><th scope=col>X3.15.20</th><th scope=col>X3.16.20</th><th scope=col>X3.17.20</th><th scope=col>X3.18.20</th><th scope=col>X3.19.20</th></tr></thead>\n",
       "<tbody>\n",
       "\t<tr><th scope=row>166</th><td>Jiangsu</td><td>China  </td><td>32.9711</td><td>119.455</td><td>1      </td><td>5      </td><td>9      </td><td>18     </td><td>33     </td><td>47     </td><td>...    </td><td>631    </td><td>631    </td><td>631    </td><td>631    </td><td>631    </td><td>631    </td><td>631    </td><td>631    </td><td>631    </td><td>631    </td></tr>\n",
       "</tbody>\n",
       "</table>\n"
      ],
      "text/latex": [
       "\\begin{tabular}{r|llllllllllllllllllllllllllllllllllllllllllllllllllllllllllllll}\n",
       "  & Province.State & Country.Region & Lat & Long & X1.22.20 & X1.23.20 & X1.24.20 & X1.25.20 & X1.26.20 & X1.27.20 & ... & X3.10.20 & X3.11.20 & X3.12.20 & X3.13.20 & X3.14.20 & X3.15.20 & X3.16.20 & X3.17.20 & X3.18.20 & X3.19.20\\\\\n",
       "\\hline\n",
       "\t166 & Jiangsu & China   & 32.9711 & 119.455 & 1       & 5       & 9       & 18      & 33      & 47      & ...     & 631     & 631     & 631     & 631     & 631     & 631     & 631     & 631     & 631     & 631    \\\\\n",
       "\\end{tabular}\n"
      ],
      "text/markdown": [
       "\n",
       "| <!--/--> | Province.State | Country.Region | Lat | Long | X1.22.20 | X1.23.20 | X1.24.20 | X1.25.20 | X1.26.20 | X1.27.20 | ... | X3.10.20 | X3.11.20 | X3.12.20 | X3.13.20 | X3.14.20 | X3.15.20 | X3.16.20 | X3.17.20 | X3.18.20 | X3.19.20 |\n",
       "|---|---|---|---|---|---|---|---|---|---|---|---|---|---|---|---|---|---|---|---|---|---|\n",
       "| 166 | Jiangsu | China   | 32.9711 | 119.455 | 1       | 5       | 9       | 18      | 33      | 47      | ...     | 631     | 631     | 631     | 631     | 631     | 631     | 631     | 631     | 631     | 631     |\n",
       "\n"
      ],
      "text/plain": [
       "    Province.State Country.Region Lat     Long    X1.22.20 X1.23.20 X1.24.20\n",
       "166 Jiangsu        China          32.9711 119.455 1        5        9       \n",
       "    X1.25.20 X1.26.20 X1.27.20 ... X3.10.20 X3.11.20 X3.12.20 X3.13.20 X3.14.20\n",
       "166 18       33       47       ... 631      631      631      631      631     \n",
       "    X3.15.20 X3.16.20 X3.17.20 X3.18.20 X3.19.20\n",
       "166 631      631      631      631      631     "
      ]
     },
     "metadata": {},
     "output_type": "display_data"
    },
    {
     "name": "stdout",
     "output_type": "stream",
     "text": [
      "\n",
      "Earlier dimention: 468 X 62\n",
      "\n",
      "New dimention:  467 62"
     ]
    }
   ],
   "source": [
    "# Let's check whether Diamond Princess is still at row 166 or not\n",
    "check.Confirmed[166,]\n",
    "#check.Deaths[166,]\n",
    "#check.Recovered[166,]\n",
    "\n",
    "\n",
    "# also checking dimention\n",
    "cat(\"\\nEarlier dimention: 468 X 62\\n\\n\")    # as we saw initially\n",
    "\n",
    "cat(\"New dimention: \", dim(check.Confirmed))"
   ]
  },
  {
   "cell_type": "code",
   "execution_count": 358,
   "metadata": {},
   "outputs": [
    {
     "data": {
      "image/png": "[encoded data removed]",
      "text/plain": [
       "plot without title"
      ]
     },
     "metadata": {
      "image/png": {
       "height": 420,
       "width": 420
      },
      "text/plain": {
       "height": 420,
       "width": 420
      }
     },
     "output_type": "display_data"
    }
   ],
   "source": [
    "# OK! so it's gone!\n",
    "# Hopefully, now we can transform our data as per our requirement\n",
    "\n",
    "# Let's visualize our data to varify:\n",
    "library(ggplot2)\n",
    "\n",
    "ggplot(check.Confirmed) +\n",
    "  geom_point(aes(x=check.Confirmed$Province.State, y=check.Confirmed$X1.29.20), color=\"red\", size=2)\n",
    "\n",
    "#ggplot(check.Deaths) +\n",
    "#  geom_point(aes(x=check.Deaths$Province.State, y=check.Deaths$X1.29.20), color=\"red\", size=2)#\n",
    "\n",
    "#ggplot(check.Recovered) +\n",
    "#  geom_point(aes(x=check.Recovered$Province.State, y=check.Recovered$X1.29.20), color=\"red\", size=2)\n",
    "  "
   ]
  },
  {
   "cell_type": "code",
   "execution_count": 359,
   "metadata": {},
   "outputs": [
    {
     "data": {
      "text/html": [
       "<table>\n",
       "<thead><tr><th></th><th scope=col>Province.State</th><th scope=col>Country.Region</th></tr></thead>\n",
       "<tbody>\n",
       "\t<tr><th scope=row>155</th><td>Hubei</td><td>China</td></tr>\n",
       "</tbody>\n",
       "</table>\n"
      ],
      "text/latex": [
       "\\begin{tabular}{r|ll}\n",
       "  & Province.State & Country.Region\\\\\n",
       "\\hline\n",
       "\t155 & Hubei & China\\\\\n",
       "\\end{tabular}\n"
      ],
      "text/markdown": [
       "\n",
       "| <!--/--> | Province.State | Country.Region |\n",
       "|---|---|---|\n",
       "| 155 | Hubei | China |\n",
       "\n"
      ],
      "text/plain": [
       "    Province.State Country.Region\n",
       "155 Hubei          China         "
      ]
     },
     "metadata": {},
     "output_type": "display_data"
    }
   ],
   "source": [
    "# Still, there are some outliers... in-fact it's the single point having a far greater value then others\n",
    "# Let's find it out:-\n",
    "\n",
    "check.Confirmed[which(check.Confirmed$X1.29.20 > 400), c(\"Province.State\", \"Country.Region\")]\n",
    "#check.Deaths[which(check.Deaths$X1.29.20 > 15), c(\"Province.State\", \"Country.Region\")]\n",
    "#check.Recovered[which(check.Recovered$X1.29.20 > 20), c(\"Province.State\", \"Country.Region\")]"
   ]
  },
  {
   "cell_type": "code",
   "execution_count": 360,
   "metadata": {},
   "outputs": [
    {
     "data": {
      "text/html": [
       "<table>\n",
       "<thead><tr><th></th><th scope=col>Date</th><th scope=col>With.Hubei</th><th scope=col>Without.Hubei</th></tr></thead>\n",
       "<tbody>\n",
       "\t<tr><th scope=row>49</th><td>X3.10.20</td><td>253.5824</td><td>108.7189</td></tr>\n",
       "\t<tr><th scope=row>50</th><td>X3.11.20</td><td>269.1563</td><td>124.2983</td></tr>\n",
       "\t<tr><th scope=row>51</th><td>X3.12.20</td><td>274.4625</td><td>129.5987</td></tr>\n",
       "\t<tr><th scope=row>52</th><td>X3.13.20</td><td>310.5567</td><td>165.7597</td></tr>\n",
       "\t<tr><th scope=row>53</th><td>X3.14.20</td><td>333.8865</td><td>189.1309</td></tr>\n",
       "\t<tr><th scope=row>54</th><td>X3.15.20</td><td>358.1949</td><td>213.4828</td></tr>\n",
       "\t<tr><th scope=row>55</th><td>X3.16.20</td><td>388.4154</td><td>243.7597</td></tr>\n",
       "\t<tr><th scope=row>56</th><td>X3.17.20</td><td>421.7794</td><td>277.1931</td></tr>\n",
       "\t<tr><th scope=row>57</th><td>X3.18.20</td><td>459.9315</td><td>315.4249</td></tr>\n",
       "\t<tr><th scope=row>58</th><td>X3.19.20</td><td>519.3191</td><td>374.9399</td></tr>\n",
       "</tbody>\n",
       "</table>\n"
      ],
      "text/latex": [
       "\\begin{tabular}{r|lll}\n",
       "  & Date & With.Hubei & Without.Hubei\\\\\n",
       "\\hline\n",
       "\t49 & X3.10.20 & 253.5824 & 108.7189\\\\\n",
       "\t50 & X3.11.20 & 269.1563 & 124.2983\\\\\n",
       "\t51 & X3.12.20 & 274.4625 & 129.5987\\\\\n",
       "\t52 & X3.13.20 & 310.5567 & 165.7597\\\\\n",
       "\t53 & X3.14.20 & 333.8865 & 189.1309\\\\\n",
       "\t54 & X3.15.20 & 358.1949 & 213.4828\\\\\n",
       "\t55 & X3.16.20 & 388.4154 & 243.7597\\\\\n",
       "\t56 & X3.17.20 & 421.7794 & 277.1931\\\\\n",
       "\t57 & X3.18.20 & 459.9315 & 315.4249\\\\\n",
       "\t58 & X3.19.20 & 519.3191 & 374.9399\\\\\n",
       "\\end{tabular}\n"
      ],
      "text/markdown": [
       "\n",
       "| <!--/--> | Date | With.Hubei | Without.Hubei |\n",
       "|---|---|---|---|\n",
       "| 49 | X3.10.20 | 253.5824 | 108.7189 |\n",
       "| 50 | X3.11.20 | 269.1563 | 124.2983 |\n",
       "| 51 | X3.12.20 | 274.4625 | 129.5987 |\n",
       "| 52 | X3.13.20 | 310.5567 | 165.7597 |\n",
       "| 53 | X3.14.20 | 333.8865 | 189.1309 |\n",
       "| 54 | X3.15.20 | 358.1949 | 213.4828 |\n",
       "| 55 | X3.16.20 | 388.4154 | 243.7597 |\n",
       "| 56 | X3.17.20 | 421.7794 | 277.1931 |\n",
       "| 57 | X3.18.20 | 459.9315 | 315.4249 |\n",
       "| 58 | X3.19.20 | 519.3191 | 374.9399 |\n",
       "\n"
      ],
      "text/plain": [
       "   Date     With.Hubei Without.Hubei\n",
       "49 X3.10.20 253.5824   108.7189     \n",
       "50 X3.11.20 269.1563   124.2983     \n",
       "51 X3.12.20 274.4625   129.5987     \n",
       "52 X3.13.20 310.5567   165.7597     \n",
       "53 X3.14.20 333.8865   189.1309     \n",
       "54 X3.15.20 358.1949   213.4828     \n",
       "55 X3.16.20 388.4154   243.7597     \n",
       "56 X3.17.20 421.7794   277.1931     \n",
       "57 X3.18.20 459.9315   315.4249     \n",
       "58 X3.19.20 519.3191   374.9399     "
      ]
     },
     "metadata": {},
     "output_type": "display_data"
    }
   ],
   "source": [
    "# Let's analyse in more better way\n",
    "# Here we are trying to compare the mean values of everyday, including and excluding Hubei province\n",
    "With.Hubei = as.numeric(apply(check.Confirmed[,5:ncol(check.Confirmed)], 2, mean))\n",
    "\n",
    "exceptHubei = check.Confirmed[ which(str_detect(check.Confirmed$Province.State, \"Hubei\", negate = T)), ]\n",
    "Without.Hubei = as.numeric(apply(exceptHubei[,5:ncol(exceptHubei)], 2, mean))\n",
    "\n",
    "# creating a dataframe for comperision\n",
    "Mean.Comparision.Table = data.frame(\n",
    "              \"Date\" = as.character(colnames(check.Confirmed)[5:ncol(check.Confirmed)]),\n",
    "              \"With Hubei\" = c(With.Hubei),\n",
    "              \"Without Hubei\" = c(Without.Hubei))\n",
    "\n",
    "tail(Mean.Comparision.Table, 10)"
   ]
  },
  {
   "cell_type": "code",
   "execution_count": 361,
   "metadata": {},
   "outputs": [],
   "source": [
    "# So hubei is the outlier..\n",
    "# from the world clouds (above), we know that the China is the most affected country by Coronavirus\n",
    "    # also, due to some prior informations, we are all aware that it was Wuhan (in Hubei province),\n",
    "        # from where the COVID-19 started to spread, rapidly\n",
    "\n",
    "# But befor we remove Hubei, we'd have to create a separate dataset to make a map-plot on the daily.\n",
    "# It means, we wanna plot all countries/regions that are affected on a perticular day\n",
    "# It gives us an idea that - among all the given countries, either we are going to plot a selected country on world-map, or not, for a specfic day\n",
    "# the factor on which basis we'll be deciding is - whether country has any comfirmed case till that day or not\n",
    "\n",
    "# So, We'd also need the Latitude and Longitude position for those country\n",
    "# And finally, we can roughly estimate that we can have only 2 choices for any region, say 0 & 1, such that:\n",
    "    # 0 -> don't plot on map, if it has no confirm cases i.e. val for total confirm case on that day are 0\n",
    "    # 1 -> plot on map, if it has some confirm cases i.e. there is at least 1 confirm case on that day\n",
    "# In this case, we need SCALING"
   ]
  },
  {
   "cell_type": "code",
   "execution_count": 362,
   "metadata": {},
   "outputs": [
    {
     "data": {
      "text/html": [
       "<table>\n",
       "<thead><tr><th scope=col>Province.State</th><th scope=col>Country.Region</th><th scope=col>Lat</th><th scope=col>Long</th><th scope=col>X1.22.20</th><th scope=col>X1.23.20</th><th scope=col>X1.24.20</th><th scope=col>X1.25.20</th><th scope=col>X1.26.20</th><th scope=col>X1.27.20</th><th scope=col>...</th><th scope=col>X3.10.20</th><th scope=col>X3.11.20</th><th scope=col>X3.12.20</th><th scope=col>X3.13.20</th><th scope=col>X3.14.20</th><th scope=col>X3.15.20</th><th scope=col>X3.16.20</th><th scope=col>X3.17.20</th><th scope=col>X3.18.20</th><th scope=col>X3.19.20</th></tr></thead>\n",
       "<tbody>\n",
       "\t<tr><td>Others          </td><td>Thailand        </td><td>15.0000         </td><td> 101.0000       </td><td>1               </td><td>1               </td><td>1               </td><td>1               </td><td>1               </td><td>1               </td><td>...             </td><td>1               </td><td>1               </td><td>1               </td><td>1               </td><td>1               </td><td>1               </td><td>1               </td><td>1               </td><td>1               </td><td>1               </td></tr>\n",
       "\t<tr><td>Others          </td><td>Japan           </td><td>36.0000         </td><td> 138.0000       </td><td>1               </td><td>1               </td><td>1               </td><td>1               </td><td>1               </td><td>1               </td><td>...             </td><td>1               </td><td>1               </td><td>1               </td><td>1               </td><td>1               </td><td>1               </td><td>1               </td><td>1               </td><td>1               </td><td>1               </td></tr>\n",
       "\t<tr><td>Others          </td><td>Singapore       </td><td> 1.2833         </td><td> 103.8333       </td><td>0               </td><td>1               </td><td>1               </td><td>1               </td><td>1               </td><td>1               </td><td>...             </td><td>1               </td><td>1               </td><td>1               </td><td>1               </td><td>1               </td><td>1               </td><td>1               </td><td>1               </td><td>1               </td><td>1               </td></tr>\n",
       "\t<tr><td>Others          </td><td>Nepal           </td><td>28.1667         </td><td>  84.2500       </td><td>0               </td><td>0               </td><td>0               </td><td>1               </td><td>1               </td><td>1               </td><td>...             </td><td>1               </td><td>1               </td><td>1               </td><td>1               </td><td>1               </td><td>1               </td><td>1               </td><td>1               </td><td>1               </td><td>1               </td></tr>\n",
       "\t<tr><td>Others          </td><td>Malaysia        </td><td> 2.5000         </td><td> 112.5000       </td><td>0               </td><td>0               </td><td>0               </td><td>1               </td><td>1               </td><td>1               </td><td>...             </td><td>1               </td><td>1               </td><td>1               </td><td>1               </td><td>1               </td><td>1               </td><td>1               </td><td>1               </td><td>1               </td><td>1               </td></tr>\n",
       "\t<tr><td>British Columbia</td><td>Canada          </td><td>49.2827         </td><td>-123.1207       </td><td>0               </td><td>0               </td><td>0               </td><td>0               </td><td>0               </td><td>0               </td><td>...             </td><td>1               </td><td>1               </td><td>1               </td><td>1               </td><td>1               </td><td>1               </td><td>1               </td><td>1               </td><td>1               </td><td>1               </td></tr>\n",
       "</tbody>\n",
       "</table>\n"
      ],
      "text/latex": [
       "\\begin{tabular}{r|llllllllllllllllllllllllllllllllllllllllllllllllllllllllllllll}\n",
       " Province.State & Country.Region & Lat & Long & X1.22.20 & X1.23.20 & X1.24.20 & X1.25.20 & X1.26.20 & X1.27.20 & ... & X3.10.20 & X3.11.20 & X3.12.20 & X3.13.20 & X3.14.20 & X3.15.20 & X3.16.20 & X3.17.20 & X3.18.20 & X3.19.20\\\\\n",
       "\\hline\n",
       "\t Others           & Thailand         & 15.0000          &  101.0000        & 1                & 1                & 1                & 1                & 1                & 1                & ...              & 1                & 1                & 1                & 1                & 1                & 1                & 1                & 1                & 1                & 1               \\\\\n",
       "\t Others           & Japan            & 36.0000          &  138.0000        & 1                & 1                & 1                & 1                & 1                & 1                & ...              & 1                & 1                & 1                & 1                & 1                & 1                & 1                & 1                & 1                & 1               \\\\\n",
       "\t Others           & Singapore        &  1.2833          &  103.8333        & 0                & 1                & 1                & 1                & 1                & 1                & ...              & 1                & 1                & 1                & 1                & 1                & 1                & 1                & 1                & 1                & 1               \\\\\n",
       "\t Others           & Nepal            & 28.1667          &   84.2500        & 0                & 0                & 0                & 1                & 1                & 1                & ...              & 1                & 1                & 1                & 1                & 1                & 1                & 1                & 1                & 1                & 1               \\\\\n",
       "\t Others           & Malaysia         &  2.5000          &  112.5000        & 0                & 0                & 0                & 1                & 1                & 1                & ...              & 1                & 1                & 1                & 1                & 1                & 1                & 1                & 1                & 1                & 1               \\\\\n",
       "\t British Columbia & Canada           & 49.2827          & -123.1207        & 0                & 0                & 0                & 0                & 0                & 0                & ...              & 1                & 1                & 1                & 1                & 1                & 1                & 1                & 1                & 1                & 1               \\\\\n",
       "\\end{tabular}\n"
      ],
      "text/markdown": [
       "\n",
       "| Province.State | Country.Region | Lat | Long | X1.22.20 | X1.23.20 | X1.24.20 | X1.25.20 | X1.26.20 | X1.27.20 | ... | X3.10.20 | X3.11.20 | X3.12.20 | X3.13.20 | X3.14.20 | X3.15.20 | X3.16.20 | X3.17.20 | X3.18.20 | X3.19.20 |\n",
       "|---|---|---|---|---|---|---|---|---|---|---|---|---|---|---|---|---|---|---|---|---|\n",
       "| Others           | Thailand         | 15.0000          |  101.0000        | 1                | 1                | 1                | 1                | 1                | 1                | ...              | 1                | 1                | 1                | 1                | 1                | 1                | 1                | 1                | 1                | 1                |\n",
       "| Others           | Japan            | 36.0000          |  138.0000        | 1                | 1                | 1                | 1                | 1                | 1                | ...              | 1                | 1                | 1                | 1                | 1                | 1                | 1                | 1                | 1                | 1                |\n",
       "| Others           | Singapore        |  1.2833          |  103.8333        | 0                | 1                | 1                | 1                | 1                | 1                | ...              | 1                | 1                | 1                | 1                | 1                | 1                | 1                | 1                | 1                | 1                |\n",
       "| Others           | Nepal            | 28.1667          |   84.2500        | 0                | 0                | 0                | 1                | 1                | 1                | ...              | 1                | 1                | 1                | 1                | 1                | 1                | 1                | 1                | 1                | 1                |\n",
       "| Others           | Malaysia         |  2.5000          |  112.5000        | 0                | 0                | 0                | 1                | 1                | 1                | ...              | 1                | 1                | 1                | 1                | 1                | 1                | 1                | 1                | 1                | 1                |\n",
       "| British Columbia | Canada           | 49.2827          | -123.1207        | 0                | 0                | 0                | 0                | 0                | 0                | ...              | 1                | 1                | 1                | 1                | 1                | 1                | 1                | 1                | 1                | 1                |\n",
       "\n"
      ],
      "text/plain": [
       "  Province.State   Country.Region Lat     Long      X1.22.20 X1.23.20 X1.24.20\n",
       "1 Others           Thailand       15.0000  101.0000 1        1        1       \n",
       "2 Others           Japan          36.0000  138.0000 1        1        1       \n",
       "3 Others           Singapore       1.2833  103.8333 0        1        1       \n",
       "4 Others           Nepal          28.1667   84.2500 0        0        0       \n",
       "5 Others           Malaysia        2.5000  112.5000 0        0        0       \n",
       "6 British Columbia Canada         49.2827 -123.1207 0        0        0       \n",
       "  X1.25.20 X1.26.20 X1.27.20 ... X3.10.20 X3.11.20 X3.12.20 X3.13.20 X3.14.20\n",
       "1 1        1        1        ... 1        1        1        1        1       \n",
       "2 1        1        1        ... 1        1        1        1        1       \n",
       "3 1        1        1        ... 1        1        1        1        1       \n",
       "4 1        1        1        ... 1        1        1        1        1       \n",
       "5 1        1        1        ... 1        1        1        1        1       \n",
       "6 0        0        0        ... 1        1        1        1        1       \n",
       "  X3.15.20 X3.16.20 X3.17.20 X3.18.20 X3.19.20\n",
       "1 1        1        1        1        1       \n",
       "2 1        1        1        1        1       \n",
       "3 1        1        1        1        1       \n",
       "4 1        1        1        1        1       \n",
       "5 1        1        1        1        1       \n",
       "6 1        1        1        1        1       "
      ]
     },
     "metadata": {},
     "output_type": "display_data"
    }
   ],
   "source": [
    "\n",
    "# Therefor, We're going to use Unit scaling to set all the values from 5th to last column\n",
    "# in UNIT SCALING, all the data has either 0 or 1 value\n",
    "\n",
    "ever.Affected = check.Confirmed\n",
    "\n",
    "# Unit scaling\n",
    "for (i in row.names(ever.Affected)) {\n",
    "  for (j in 5:ncol(ever.Affected)) {\n",
    "    if(ever.Affected[i,j] != 0)\n",
    "      ever.Affected[i,j] = 1\n",
    "  }\n",
    "}\n",
    "\n",
    "head(ever.Affected)\n"
   ]
  },
  {
   "cell_type": "code",
   "execution_count": 363,
   "metadata": {},
   "outputs": [],
   "source": [
    "# now we can remove Hubei as well from our dataset:\n",
    "Hubei.Confirmed = check.Confirmed[ which(str_detect(check.Confirmed$Province.State, \"Hubei\", negate = F)), ]\n",
    "check.Confirmed = check.Confirmed[ which(str_detect(check.Confirmed$Province.State, \"Hubei\", negate = T)), ]\n",
    "\n",
    "Hubei.Deaths = check.Deaths[ which(str_detect(check.Deaths$Province.State, \"Hubei\", negate = F)),]\n",
    "check.Deaths = check.Deaths[ which(str_detect(check.Deaths$Province.State, \"Hubei\", negate = T)), ]\n",
    "\n",
    "Hubei.Recovered = check.Recovered[ which(str_detect(check.Recovered$Province.State, \"Hubei\", negate = F)), ]\n",
    "check.Recovered = check.Recovered[ which(str_detect(check.Recovered$Province.State, \"Hubei\", negate = T)), ]\n",
    "\n",
    "\n",
    "## Rectifying Row sequences\n",
    "row.names(check.Confirmed) <- NULL\n",
    "row.names(check.Deaths) <- NULL\n",
    "row.names(check.Recovered) <- NULL"
   ]
  },
  {
   "cell_type": "code",
   "execution_count": 364,
   "metadata": {},
   "outputs": [
    {
     "name": "stdout",
     "output_type": "stream",
     "text": [
      "\n",
      "Earlier dimention: 467 X 62\n",
      "\n",
      "New dimention:  466 62"
     ]
    }
   ],
   "source": [
    "# Let's check the once dimention more\n",
    "\n",
    "# also checking dimention\n",
    "cat(\"\\nEarlier dimention: 467 X 62\\n\\n\")    # after removing Cruis Ship\n",
    "\n",
    "cat(\"New dimention: \", dim(check.Confirmed))"
   ]
  },
  {
   "cell_type": "code",
   "execution_count": 365,
   "metadata": {},
   "outputs": [
    {
     "data": {
      "image/png": "[encoded data removed]",
      "text/plain": [
       "plot without title"
      ]
     },
     "metadata": {
      "image/png": {
       "height": 420,
       "width": 420
      },
      "text/plain": {
       "height": 420,
       "width": 420
      }
     },
     "output_type": "display_data"
    }
   ],
   "source": [
    "# Let's visualize once more\n",
    "library(ggplot2)\n",
    "\n",
    "ggplot(check.Confirmed) +\n",
    "  geom_point(aes(x=check.Confirmed$Province.State, y=check.Confirmed$X1.29.20), color=\"red\", size=2)\n"
   ]
  },
  {
   "cell_type": "code",
   "execution_count": 366,
   "metadata": {},
   "outputs": [
    {
     "data": {
      "text/html": [
       "<table>\n",
       "<thead><tr><th></th><th scope=col>Province.State</th><th scope=col>Country.Region</th></tr></thead>\n",
       "<tbody>\n",
       "\t<tr><th scope=row>158</th><td>Guangdong</td><td>China    </td></tr>\n",
       "\t<tr><th scope=row>159</th><td>Henan    </td><td>China    </td></tr>\n",
       "\t<tr><th scope=row>160</th><td>Zhejiang </td><td>China    </td></tr>\n",
       "\t<tr><th scope=row>161</th><td>Hunan    </td><td>China    </td></tr>\n",
       "\t<tr><th scope=row>162</th><td>Anhui    </td><td>China    </td></tr>\n",
       "\t<tr><th scope=row>163</th><td>Jiangxi  </td><td>China    </td></tr>\n",
       "\t<tr><th scope=row>164</th><td>Shandong </td><td>China    </td></tr>\n",
       "\t<tr><th scope=row>166</th><td>Chongqing</td><td>China    </td></tr>\n",
       "\t<tr><th scope=row>167</th><td>Sichuan  </td><td>China    </td></tr>\n",
       "\t<tr><th scope=row>170</th><td>Beijing  </td><td>China    </td></tr>\n",
       "</tbody>\n",
       "</table>\n"
      ],
      "text/latex": [
       "\\begin{tabular}{r|ll}\n",
       "  & Province.State & Country.Region\\\\\n",
       "\\hline\n",
       "\t158 & Guangdong & China    \\\\\n",
       "\t159 & Henan     & China    \\\\\n",
       "\t160 & Zhejiang  & China    \\\\\n",
       "\t161 & Hunan     & China    \\\\\n",
       "\t162 & Anhui     & China    \\\\\n",
       "\t163 & Jiangxi   & China    \\\\\n",
       "\t164 & Shandong  & China    \\\\\n",
       "\t166 & Chongqing & China    \\\\\n",
       "\t167 & Sichuan   & China    \\\\\n",
       "\t170 & Beijing   & China    \\\\\n",
       "\\end{tabular}\n"
      ],
      "text/markdown": [
       "\n",
       "| <!--/--> | Province.State | Country.Region |\n",
       "|---|---|---|\n",
       "| 158 | Guangdong | China     |\n",
       "| 159 | Henan     | China     |\n",
       "| 160 | Zhejiang  | China     |\n",
       "| 161 | Hunan     | China     |\n",
       "| 162 | Anhui     | China     |\n",
       "| 163 | Jiangxi   | China     |\n",
       "| 164 | Shandong  | China     |\n",
       "| 166 | Chongqing | China     |\n",
       "| 167 | Sichuan   | China     |\n",
       "| 170 | Beijing   | China     |\n",
       "\n"
      ],
      "text/plain": [
       "    Province.State Country.Region\n",
       "158 Guangdong      China         \n",
       "159 Henan          China         \n",
       "160 Zhejiang       China         \n",
       "161 Hunan          China         \n",
       "162 Anhui          China         \n",
       "163 Jiangxi        China         \n",
       "164 Shandong       China         \n",
       "166 Chongqing      China         \n",
       "167 Sichuan        China         \n",
       "170 Beijing        China         "
      ]
     },
     "metadata": {},
     "output_type": "display_data"
    }
   ],
   "source": [
    "# Now it's better, still have some outliers\n",
    "\n",
    "# Let's find them out, too:-\n",
    "check.Confirmed[which(check.Confirmed$X1.29.20 > 100), c(\"Province.State\", \"Country.Region\")]"
   ]
  },
  {
   "cell_type": "code",
   "execution_count": 367,
   "metadata": {},
   "outputs": [
    {
     "data": {
      "text/html": [
       "<table>\n",
       "<thead><tr><th scope=col>Date</th><th scope=col>With.China</th><th scope=col>Without.China</th></tr></thead>\n",
       "<tbody>\n",
       "\t<tr><td>X1.22.20  </td><td>0.2381974 </td><td>0.01612903</td></tr>\n",
       "\t<tr><td>X1.23.20  </td><td>0.4506438 </td><td>0.02534562</td></tr>\n",
       "\t<tr><td>X1.24.20  </td><td>0.8412017 </td><td>0.04838710</td></tr>\n",
       "\t<tr><td>X1.25.20  </td><td>1.4442060 </td><td>0.06451613</td></tr>\n",
       "\t<tr><td>X1.26.20  </td><td>2.2746781 </td><td>0.09907834</td></tr>\n",
       "\t<tr><td>X1.27.20  </td><td>3.2274678 </td><td>0.11520737</td></tr>\n",
       "\t<tr><td>X1.28.20  </td><td>4.3433476 </td><td>0.15898618</td></tr>\n",
       "\t<tr><td>X1.29.20  </td><td>5.6051502 </td><td>0.18202765</td></tr>\n",
       "\t<tr><td>X1.30.20  </td><td>7.1480687 </td><td>0.21428571</td></tr>\n",
       "\t<tr><td>X1.31.20  </td><td>8.8454936 </td><td>0.29032258</td></tr>\n",
       "</tbody>\n",
       "</table>\n"
      ],
      "text/latex": [
       "\\begin{tabular}{r|lll}\n",
       " Date & With.China & Without.China\\\\\n",
       "\\hline\n",
       "\t X1.22.20   & 0.2381974  & 0.01612903\\\\\n",
       "\t X1.23.20   & 0.4506438  & 0.02534562\\\\\n",
       "\t X1.24.20   & 0.8412017  & 0.04838710\\\\\n",
       "\t X1.25.20   & 1.4442060  & 0.06451613\\\\\n",
       "\t X1.26.20   & 2.2746781  & 0.09907834\\\\\n",
       "\t X1.27.20   & 3.2274678  & 0.11520737\\\\\n",
       "\t X1.28.20   & 4.3433476  & 0.15898618\\\\\n",
       "\t X1.29.20   & 5.6051502  & 0.18202765\\\\\n",
       "\t X1.30.20   & 7.1480687  & 0.21428571\\\\\n",
       "\t X1.31.20   & 8.8454936  & 0.29032258\\\\\n",
       "\\end{tabular}\n"
      ],
      "text/markdown": [
       "\n",
       "| Date | With.China | Without.China |\n",
       "|---|---|---|\n",
       "| X1.22.20   | 0.2381974  | 0.01612903 |\n",
       "| X1.23.20   | 0.4506438  | 0.02534562 |\n",
       "| X1.24.20   | 0.8412017  | 0.04838710 |\n",
       "| X1.25.20   | 1.4442060  | 0.06451613 |\n",
       "| X1.26.20   | 2.2746781  | 0.09907834 |\n",
       "| X1.27.20   | 3.2274678  | 0.11520737 |\n",
       "| X1.28.20   | 4.3433476  | 0.15898618 |\n",
       "| X1.29.20   | 5.6051502  | 0.18202765 |\n",
       "| X1.30.20   | 7.1480687  | 0.21428571 |\n",
       "| X1.31.20   | 8.8454936  | 0.29032258 |\n",
       "\n"
      ],
      "text/plain": [
       "   Date     With.China Without.China\n",
       "1  X1.22.20 0.2381974  0.01612903   \n",
       "2  X1.23.20 0.4506438  0.02534562   \n",
       "3  X1.24.20 0.8412017  0.04838710   \n",
       "4  X1.25.20 1.4442060  0.06451613   \n",
       "5  X1.26.20 2.2746781  0.09907834   \n",
       "6  X1.27.20 3.2274678  0.11520737   \n",
       "7  X1.28.20 4.3433476  0.15898618   \n",
       "8  X1.29.20 5.6051502  0.18202765   \n",
       "9  X1.30.20 7.1480687  0.21428571   \n",
       "10 X1.31.20 8.8454936  0.29032258   "
      ]
     },
     "metadata": {},
     "output_type": "display_data"
    }
   ],
   "source": [
    "# Checking for mean comperision\n",
    "With.China = as.numeric(apply(check.Confirmed[,5:ncol(check.Confirmed)], 2, mean))\n",
    "\n",
    "exceptChina = check.Confirmed[ which(str_detect(check.Confirmed$Country.Region, \"China\", negate = T)), ]\n",
    "Without.China = as.numeric(apply(exceptChina[,5:ncol(exceptChina)], 2, mean))\n",
    "\n",
    "# comperision\n",
    "Mean.Comparision.Table = data.frame(\n",
    "              \"Date\" = as.character(colnames(check.Confirmed)[5:ncol(check.Confirmed)]),\n",
    "              \"With China\" = c(With.China),\n",
    "              \"Without China\" = c(Without.China))\n",
    "\n",
    "head(Mean.Comparision.Table, 10)"
   ]
  },
  {
   "cell_type": "code",
   "execution_count": 368,
   "metadata": {},
   "outputs": [],
   "source": [
    "# And here we again see that the whole China is the outlier when we are dealing with the cases being reported around the world\n",
    "# Hence, still need to study China saperatly from rest of the world.\n",
    "\n",
    "# Yet, we'll do it later on."
   ]
  },
  {
   "cell_type": "code",
   "execution_count": 369,
   "metadata": {},
   "outputs": [
    {
     "data": {
      "text/html": [
       "<table>\n",
       "<thead><tr><th></th><th scope=col>Province.State</th><th scope=col>Country.Region</th><th scope=col>Lat</th><th scope=col>Long</th><th scope=col>X1.22.20</th><th scope=col>X1.23.20</th><th scope=col>X1.24.20</th><th scope=col>X1.25.20</th><th scope=col>X1.26.20</th><th scope=col>X1.27.20</th><th scope=col>...</th><th scope=col>X3.10.20</th><th scope=col>X3.11.20</th><th scope=col>X3.12.20</th><th scope=col>X3.13.20</th><th scope=col>X3.14.20</th><th scope=col>X3.15.20</th><th scope=col>X3.16.20</th><th scope=col>X3.17.20</th><th scope=col>X3.18.20</th><th scope=col>X3.19.20</th></tr></thead>\n",
       "<tbody>\n",
       "\t<tr><th scope=row>155</th><td>Hubei   </td><td>China   </td><td>30.9756 </td><td>112.2707</td><td>444     </td><td>444     </td><td>549     </td><td>761     </td><td>1058    </td><td>1423    </td><td>...     </td><td>67760   </td><td>67773   </td><td>67781   </td><td>67786   </td><td>67790   </td><td>67794   </td><td>67798   </td><td>67799   </td><td>67800   </td><td>67800   </td></tr>\n",
       "</tbody>\n",
       "</table>\n"
      ],
      "text/latex": [
       "\\begin{tabular}{r|llllllllllllllllllllllllllllllllllllllllllllllllllllllllllllll}\n",
       "  & Province.State & Country.Region & Lat & Long & X1.22.20 & X1.23.20 & X1.24.20 & X1.25.20 & X1.26.20 & X1.27.20 & ... & X3.10.20 & X3.11.20 & X3.12.20 & X3.13.20 & X3.14.20 & X3.15.20 & X3.16.20 & X3.17.20 & X3.18.20 & X3.19.20\\\\\n",
       "\\hline\n",
       "\t155 & Hubei    & China    & 30.9756  & 112.2707 & 444      & 444      & 549      & 761      & 1058     & 1423     & ...      & 67760    & 67773    & 67781    & 67786    & 67790    & 67794    & 67798    & 67799    & 67800    & 67800   \\\\\n",
       "\\end{tabular}\n"
      ],
      "text/markdown": [
       "\n",
       "| <!--/--> | Province.State | Country.Region | Lat | Long | X1.22.20 | X1.23.20 | X1.24.20 | X1.25.20 | X1.26.20 | X1.27.20 | ... | X3.10.20 | X3.11.20 | X3.12.20 | X3.13.20 | X3.14.20 | X3.15.20 | X3.16.20 | X3.17.20 | X3.18.20 | X3.19.20 |\n",
       "|---|---|---|---|---|---|---|---|---|---|---|---|---|---|---|---|---|---|---|---|---|---|\n",
       "| 155 | Hubei    | China    | 30.9756  | 112.2707 | 444      | 444      | 549      | 761      | 1058     | 1423     | ...      | 67760    | 67773    | 67781    | 67786    | 67790    | 67794    | 67798    | 67799    | 67800    | 67800    |\n",
       "\n"
      ],
      "text/plain": [
       "    Province.State Country.Region Lat     Long     X1.22.20 X1.23.20 X1.24.20\n",
       "155 Hubei          China          30.9756 112.2707 444      444      549     \n",
       "    X1.25.20 X1.26.20 X1.27.20 ... X3.10.20 X3.11.20 X3.12.20 X3.13.20 X3.14.20\n",
       "155 761      1058     1423     ... 67760    67773    67781    67786    67790   \n",
       "    X3.15.20 X3.16.20 X3.17.20 X3.18.20 X3.19.20\n",
       "155 67794    67798    67799    67800    67800   "
      ]
     },
     "metadata": {},
     "output_type": "display_data"
    }
   ],
   "source": [
    "Hubei.Confirmed"
   ]
  },
  {
   "cell_type": "markdown",
   "metadata": {},
   "source": [
    "<br />"
   ]
  },
  {
   "cell_type": "markdown",
   "metadata": {},
   "source": [
    "#### * Data transformation"
   ]
  },
  {
   "cell_type": "code",
   "execution_count": 370,
   "metadata": {},
   "outputs": [],
   "source": [
    "# We've already saved the cleaned version of the all the files\n",
    "# Loading the files in order to transform the dataset(s)\n",
    "\n",
    "# loading raw data - from source\n",
    "Confirmed = read.csv(\"Notebooks/syllabus/static/cleaned/time_series_19-covid-Confirmed.csv\")\n",
    "Deaths = read.csv(\"Notebooks/syllabus/static/cleaned/time_series_19-covid-Deaths.csv\")\n",
    "Recovered = read.csv(\"Notebooks/syllabus/static/cleaned/time_series_19-covid-Recovered.csv\")\n",
    "\n",
    "Hubei.Confirmed = read.csv(\"Notebooks/syllabus/static/cleaned/Hubei/time_series_19-covid-Confirmed.csv\")\n",
    "Hubei.Deaths = read.csv(\"Notebooks/syllabus/static/cleaned/Hubei/time_series_19-covid-Deaths.csv\")\n",
    "Hubei.Recovered = read.csv(\"Notebooks/syllabus/static/cleaned/Hubei/time_series_19-covid-Recovered.csv\")\n",
    "\n",
    "Diamond.Princess.Confirmed = read.csv(\"Notebooks/syllabus/static/cleaned/Diamond-Princess/time_series_19-covid-Confirmed.csv\")\n",
    "Diamond.Princess.Deaths = read.csv(\"Notebooks/syllabus/static/cleaned/Diamond-Princess/time_series_19-covid-Deaths.csv\")\n",
    "Diamond.Princess.Recovered = read.csv(\"Notebooks/syllabus/static/cleaned/Diamond-Princess/time_series_19-covid-Recovered.csv\")"
   ]
  },
  {
   "cell_type": "code",
   "execution_count": 371,
   "metadata": {
    "scrolled": false
   },
   "outputs": [
    {
     "name": "stdout",
     "output_type": "stream",
     "text": [
      "'data.frame':\t1 obs. of  62 variables:\n",
      " $ State         : Factor w/ 1 level \"Hubei\": 1\n",
      " $ Country.Region: Factor w/ 1 level \"China\": 1\n",
      " $ Lat           : num 31\n",
      " $ Long          : num 112\n",
      " $ X1.22.20      : int 28\n",
      " $ X1.23.20      : int 28\n",
      " $ X1.24.20      : int 31\n",
      " $ X1.25.20      : int 32\n",
      " $ X1.26.20      : int 42\n",
      " $ X1.27.20      : int 45\n",
      " $ X1.28.20      : int 80\n",
      " $ X1.29.20      : int 88\n",
      " $ X1.30.20      : int 90\n",
      " $ X1.31.20      : int 141\n",
      " $ X2.1.20       : int 168\n",
      " $ X2.2.20       : int 295\n",
      " $ X2.3.20       : int 386\n",
      " $ X2.4.20       : int 522\n",
      " $ X2.5.20       : int 633\n",
      " $ X2.6.20       : int 817\n",
      " $ X2.7.20       : int 1115\n",
      " $ X2.8.20       : int 1439\n",
      " $ X2.9.20       : int 1795\n",
      " $ X2.10.20      : int 2222\n",
      " $ X2.11.20      : int 2639\n",
      " $ X2.12.20      : int 2686\n",
      " $ X2.13.20      : int 3459\n",
      " $ X2.14.20      : int 4774\n",
      " $ X2.15.20      : int 5623\n",
      " $ X2.16.20      : int 6639\n",
      " $ X2.17.20      : int 7862\n",
      " $ X2.18.20      : int 9128\n",
      " $ X2.19.20      : int 10337\n",
      " $ X2.20.20      : int 11788\n",
      " $ X2.21.20      : int 11881\n",
      " $ X2.22.20      : int 15299\n",
      " $ X2.23.20      : int 15343\n",
      " $ X2.24.20      : int 16748\n",
      " $ X2.25.20      : int 18971\n",
      " $ X2.26.20      : int 20969\n",
      " $ X2.27.20      : int 23383\n",
      " $ X2.28.20      : int 26403\n",
      " $ X2.29.20      : int 28993\n",
      " $ X3.1.20       : int 31536\n",
      " $ X3.2.20       : int 33934\n",
      " $ X3.3.20       : int 36208\n",
      " $ X3.4.20       : int 38557\n",
      " $ X3.5.20       : int 40592\n",
      " $ X3.6.20       : int 42033\n",
      " $ X3.7.20       : int 43500\n",
      " $ X3.8.20       : int 45235\n",
      " $ X3.9.20       : int 46488\n",
      " $ X3.10.20      : int 47743\n",
      " $ X3.11.20      : int 49134\n",
      " $ X3.12.20      : int 50318\n",
      " $ X3.13.20      : int 51553\n",
      " $ X3.14.20      : int 52960\n",
      " $ X3.15.20      : int 54288\n",
      " $ X3.16.20      : int 55142\n",
      " $ X3.17.20      : int 56003\n",
      " $ X3.18.20      : int 56927\n",
      " $ X3.19.20      : int 57682\n"
     ]
    }
   ],
   "source": [
    "# as known, all of these files have same set of columns,\n",
    "# the only things that differ are data values in dates' columns\n",
    "\n",
    "# Let's see any one dataset's structure (as all are similer)\n",
    "str(Hubei.Recovered)"
   ]
  },
  {
   "cell_type": "code",
   "execution_count": 372,
   "metadata": {},
   "outputs": [],
   "source": [
    "# Now, recalling the Problem Statment, we aim to find out the status of COVID-19, within next 10 days\n",
    "# In order to do so, we need to analyse the status of COVID-19 on all the previous days\n",
    "\n",
    "# What would tell us?\n",
    "    # By this, we'd be capable enough to make an estimate by what RATE the Coroavirus is spreading since late January\n",
    "    # Hence, we need to transform the data in order:"
   ]
  },
  {
   "cell_type": "code",
   "execution_count": 373,
   "metadata": {},
   "outputs": [],
   "source": [
    "### 1. such that rows hold every country's data, instead of State wise\n",
    "### 2. to arrange datasets datewise"
   ]
  },
  {
   "cell_type": "code",
   "execution_count": 374,
   "metadata": {},
   "outputs": [
    {
     "data": {
      "text/html": [
       "<table>\n",
       "<thead><tr><th></th><th scope=col>Province.State</th><th scope=col>Country.Region</th><th scope=col>Lat</th><th scope=col>Long</th><th scope=col>X1.22.20</th><th scope=col>X1.23.20</th><th scope=col>X1.24.20</th><th scope=col>X1.25.20</th><th scope=col>X1.26.20</th><th scope=col>X1.27.20</th><th scope=col>...</th><th scope=col>X3.10.20</th><th scope=col>X3.11.20</th><th scope=col>X3.12.20</th><th scope=col>X3.13.20</th><th scope=col>X3.14.20</th><th scope=col>X3.15.20</th><th scope=col>X3.16.20</th><th scope=col>X3.17.20</th><th scope=col>X3.18.20</th><th scope=col>X3.19.20</th></tr></thead>\n",
       "<tbody>\n",
       "\t<tr><th scope=row>461</th><td>New Caledonia </td><td>France        </td><td>-20.9043      </td><td>165.6180      </td><td>0             </td><td>0             </td><td>0             </td><td>0             </td><td>0             </td><td>0             </td><td>...           </td><td>0             </td><td>0             </td><td>0             </td><td>0             </td><td>0             </td><td>0             </td><td>0             </td><td>0             </td><td>0             </td><td>2             </td></tr>\n",
       "\t<tr><th scope=row>462</th><td>Bermuda       </td><td>United Kingdom</td><td> 32.3078      </td><td>-64.7505      </td><td>0             </td><td>0             </td><td>0             </td><td>0             </td><td>0             </td><td>0             </td><td>...           </td><td>0             </td><td>0             </td><td>0             </td><td>0             </td><td>0             </td><td>0             </td><td>0             </td><td>0             </td><td>0             </td><td>2             </td></tr>\n",
       "\t<tr><th scope=row>463</th><td>Others        </td><td>Chad          </td><td> 15.4542      </td><td> 18.7322      </td><td>0             </td><td>0             </td><td>0             </td><td>0             </td><td>0             </td><td>0             </td><td>...           </td><td>0             </td><td>0             </td><td>0             </td><td>0             </td><td>0             </td><td>0             </td><td>0             </td><td>0             </td><td>0             </td><td>1             </td></tr>\n",
       "\t<tr><th scope=row>464</th><td>Others        </td><td>El Salvador   </td><td> 13.7942      </td><td>-88.8965      </td><td>0             </td><td>0             </td><td>0             </td><td>0             </td><td>0             </td><td>0             </td><td>...           </td><td>0             </td><td>0             </td><td>0             </td><td>0             </td><td>0             </td><td>0             </td><td>0             </td><td>0             </td><td>0             </td><td>1             </td></tr>\n",
       "\t<tr><th scope=row>465</th><td>Others        </td><td>Fiji          </td><td>-17.7134      </td><td>178.0650      </td><td>0             </td><td>0             </td><td>0             </td><td>0             </td><td>0             </td><td>0             </td><td>...           </td><td>0             </td><td>0             </td><td>0             </td><td>0             </td><td>0             </td><td>0             </td><td>0             </td><td>0             </td><td>0             </td><td>1             </td></tr>\n",
       "\t<tr><th scope=row>466</th><td>Others        </td><td>Nicaragua     </td><td> 12.8654      </td><td>-85.2072      </td><td>0             </td><td>0             </td><td>0             </td><td>0             </td><td>0             </td><td>0             </td><td>...           </td><td>0             </td><td>0             </td><td>0             </td><td>0             </td><td>0             </td><td>0             </td><td>0             </td><td>0             </td><td>0             </td><td>1             </td></tr>\n",
       "</tbody>\n",
       "</table>\n"
      ],
      "text/latex": [
       "\\begin{tabular}{r|llllllllllllllllllllllllllllllllllllllllllllllllllllllllllllll}\n",
       "  & Province.State & Country.Region & Lat & Long & X1.22.20 & X1.23.20 & X1.24.20 & X1.25.20 & X1.26.20 & X1.27.20 & ... & X3.10.20 & X3.11.20 & X3.12.20 & X3.13.20 & X3.14.20 & X3.15.20 & X3.16.20 & X3.17.20 & X3.18.20 & X3.19.20\\\\\n",
       "\\hline\n",
       "\t461 & New Caledonia  & France         & -20.9043       & 165.6180       & 0              & 0              & 0              & 0              & 0              & 0              & ...            & 0              & 0              & 0              & 0              & 0              & 0              & 0              & 0              & 0              & 2             \\\\\n",
       "\t462 & Bermuda        & United Kingdom &  32.3078       & -64.7505       & 0              & 0              & 0              & 0              & 0              & 0              & ...            & 0              & 0              & 0              & 0              & 0              & 0              & 0              & 0              & 0              & 2             \\\\\n",
       "\t463 & Others         & Chad           &  15.4542       &  18.7322       & 0              & 0              & 0              & 0              & 0              & 0              & ...            & 0              & 0              & 0              & 0              & 0              & 0              & 0              & 0              & 0              & 1             \\\\\n",
       "\t464 & Others         & El Salvador    &  13.7942       & -88.8965       & 0              & 0              & 0              & 0              & 0              & 0              & ...            & 0              & 0              & 0              & 0              & 0              & 0              & 0              & 0              & 0              & 1             \\\\\n",
       "\t465 & Others         & Fiji           & -17.7134       & 178.0650       & 0              & 0              & 0              & 0              & 0              & 0              & ...            & 0              & 0              & 0              & 0              & 0              & 0              & 0              & 0              & 0              & 1             \\\\\n",
       "\t466 & Others         & Nicaragua      &  12.8654       & -85.2072       & 0              & 0              & 0              & 0              & 0              & 0              & ...            & 0              & 0              & 0              & 0              & 0              & 0              & 0              & 0              & 0              & 1             \\\\\n",
       "\\end{tabular}\n"
      ],
      "text/markdown": [
       "\n",
       "| <!--/--> | Province.State | Country.Region | Lat | Long | X1.22.20 | X1.23.20 | X1.24.20 | X1.25.20 | X1.26.20 | X1.27.20 | ... | X3.10.20 | X3.11.20 | X3.12.20 | X3.13.20 | X3.14.20 | X3.15.20 | X3.16.20 | X3.17.20 | X3.18.20 | X3.19.20 |\n",
       "|---|---|---|---|---|---|---|---|---|---|---|---|---|---|---|---|---|---|---|---|---|---|\n",
       "| 461 | New Caledonia  | France         | -20.9043       | 165.6180       | 0              | 0              | 0              | 0              | 0              | 0              | ...            | 0              | 0              | 0              | 0              | 0              | 0              | 0              | 0              | 0              | 2              |\n",
       "| 462 | Bermuda        | United Kingdom |  32.3078       | -64.7505       | 0              | 0              | 0              | 0              | 0              | 0              | ...            | 0              | 0              | 0              | 0              | 0              | 0              | 0              | 0              | 0              | 2              |\n",
       "| 463 | Others         | Chad           |  15.4542       |  18.7322       | 0              | 0              | 0              | 0              | 0              | 0              | ...            | 0              | 0              | 0              | 0              | 0              | 0              | 0              | 0              | 0              | 1              |\n",
       "| 464 | Others         | El Salvador    |  13.7942       | -88.8965       | 0              | 0              | 0              | 0              | 0              | 0              | ...            | 0              | 0              | 0              | 0              | 0              | 0              | 0              | 0              | 0              | 1              |\n",
       "| 465 | Others         | Fiji           | -17.7134       | 178.0650       | 0              | 0              | 0              | 0              | 0              | 0              | ...            | 0              | 0              | 0              | 0              | 0              | 0              | 0              | 0              | 0              | 1              |\n",
       "| 466 | Others         | Nicaragua      |  12.8654       | -85.2072       | 0              | 0              | 0              | 0              | 0              | 0              | ...            | 0              | 0              | 0              | 0              | 0              | 0              | 0              | 0              | 0              | 1              |\n",
       "\n"
      ],
      "text/plain": [
       "    Province.State Country.Region Lat      Long     X1.22.20 X1.23.20 X1.24.20\n",
       "461 New Caledonia  France         -20.9043 165.6180 0        0        0       \n",
       "462 Bermuda        United Kingdom  32.3078 -64.7505 0        0        0       \n",
       "463 Others         Chad            15.4542  18.7322 0        0        0       \n",
       "464 Others         El Salvador     13.7942 -88.8965 0        0        0       \n",
       "465 Others         Fiji           -17.7134 178.0650 0        0        0       \n",
       "466 Others         Nicaragua       12.8654 -85.2072 0        0        0       \n",
       "    X1.25.20 X1.26.20 X1.27.20 ... X3.10.20 X3.11.20 X3.12.20 X3.13.20 X3.14.20\n",
       "461 0        0        0        ... 0        0        0        0        0       \n",
       "462 0        0        0        ... 0        0        0        0        0       \n",
       "463 0        0        0        ... 0        0        0        0        0       \n",
       "464 0        0        0        ... 0        0        0        0        0       \n",
       "465 0        0        0        ... 0        0        0        0        0       \n",
       "466 0        0        0        ... 0        0        0        0        0       \n",
       "    X3.15.20 X3.16.20 X3.17.20 X3.18.20 X3.19.20\n",
       "461 0        0        0        0        2       \n",
       "462 0        0        0        0        2       \n",
       "463 0        0        0        0        1       \n",
       "464 0        0        0        0        1       \n",
       "465 0        0        0        0        1       \n",
       "466 0        0        0        0        1       "
      ]
     },
     "metadata": {},
     "output_type": "display_data"
    },
    {
     "name": "stdout",
     "output_type": "stream",
     "text": [
      "146 / 466  States are NOT identified"
     ]
    }
   ],
   "source": [
    "# We need Countries' data:\n",
    "\n",
    "# It's because: many states have very few cases\n",
    "tail(Confirmed)\n",
    "\n",
    "# Most of the states' name is not identified\n",
    "unknown = nrow(Recovered[which(str_detect(Recovered$Province.State, \"Others\")),])\n",
    "cat(unknown, \"/\", nrow(Recovered), \" States are NOT identified\")\n",
    "\n",
    "# Ultimatly, any precaution/cure or action is more likely be taken onto the country level, rather than the individual state, as it's the case of a severe Epidemic\n",
    "# Only then it would be much easier for us to make any possible estimate for the world as well, due to not having really a huge data about each and every single state of the countries.\n",
    "\n",
    "# Also, there are some un-necessary columns i.e. States, Latitude& Longitude"
   ]
  },
  {
   "cell_type": "code",
   "execution_count": 375,
   "metadata": {},
   "outputs": [],
   "source": [
    "# Transforming the dataset to hold the countrywise data:"
   ]
  },
  {
   "cell_type": "code",
   "execution_count": 376,
   "metadata": {},
   "outputs": [
    {
     "data": {
      "text/html": [
       "153"
      ],
      "text/latex": [
       "153"
      ],
      "text/markdown": [
       "153"
      ],
      "text/plain": [
       "[1] 153"
      ]
     },
     "metadata": {},
     "output_type": "display_data"
    },
    {
     "data": {
      "text/html": [
       "<table>\n",
       "<tbody>\n",
       "\t<tr><td>Afghanistan        </td></tr>\n",
       "\t<tr><td>Albania            </td></tr>\n",
       "\t<tr><td>Algeria            </td></tr>\n",
       "\t<tr><td>Andorra            </td></tr>\n",
       "\t<tr><td>Antigua and Barbuda</td></tr>\n",
       "</tbody>\n",
       "</table>\n"
      ],
      "text/latex": [
       "\\begin{tabular}{l}\n",
       "\t Afghanistan        \\\\\n",
       "\t Albania            \\\\\n",
       "\t Algeria            \\\\\n",
       "\t Andorra            \\\\\n",
       "\t Antigua and Barbuda\\\\\n",
       "\\end{tabular}\n"
      ],
      "text/markdown": [
       "\n",
       "| Afghanistan         |\n",
       "| Albania             |\n",
       "| Algeria             |\n",
       "| Andorra             |\n",
       "| Antigua and Barbuda |\n",
       "\n"
      ],
      "text/plain": [
       "     [,1]               \n",
       "[1,] Afghanistan        \n",
       "[2,] Albania            \n",
       "[3,] Algeria            \n",
       "[4,] Andorra            \n",
       "[5,] Antigua and Barbuda"
      ]
     },
     "metadata": {},
     "output_type": "display_data"
    }
   ],
   "source": [
    "# For this, we've to list those countries', who have reported Confirmed cases On the daily basis:\n",
    "# As we know that Country column is a **Factor**, hence it's an easy task. Therefor:\n",
    "\n",
    "Countries = levels(Confirmed$Country.Region)\n",
    "\n",
    "nlevels(Confirmed$Country.Region)     # total no. of affected countries\n",
    "head(as.matrix(Countries), 5)"
   ]
  },
  {
   "cell_type": "code",
   "execution_count": 377,
   "metadata": {},
   "outputs": [],
   "source": [
    "## Functions\n",
    "\n",
    "\n",
    "# finds the total cases reported in given country \n",
    "    # (by Adding all the data of different states in it)\n",
    "country.aggregate.daily  <-  function(dfName, country) {\n",
    "  \n",
    "  df <- get(dfName)\n",
    "  df = df[which(str_detect(df$Country.Region, country)),]\n",
    "  df = cbind(States = df[,1], Country = df[,2], df[,5:ncol(df)])     # ELEMINATING LATITUDE/LONGITUDE Col.\n",
    "  \n",
    "  row.names(df) <- NULL    \n",
    "    \n",
    "  temp = df                                             # all states' data of a country\n",
    "  df = temp[1,] \n",
    "  \n",
    "  df[3:ncol(temp)] = apply(   temp[,3:ncol(temp)],\n",
    "                            2,\n",
    "                            sum\n",
    "                        )                               # applying sum of all the states' values\n",
    "  df = df[2:ncol(df)]                                   # removing column 'States'  \n",
    "  row.names(df) <- NULL  \n",
    "  return(df)\n",
    "}\n",
    "\n",
    "\n",
    "\n",
    "# generated a dataframe having required data arranged Country-Wise \n",
    "    # (by appending every single country's data)\n",
    "countries.daily <-  function(dfName, cList) {\n",
    "  \n",
    "  n = length(cList)       # number of countries\n",
    "  \n",
    "  flag = 0\n",
    "  \n",
    "  for (i in cList) {\n",
    "    \n",
    "    if(flag == 0) {\n",
    "      df = country.aggregate.daily(dfName, i)\n",
    "      flag = 1\n",
    "    } else {\n",
    "      temp = country.aggregate.daily(dfName, i)\n",
    "      df = rbind(df, temp)\n",
    "    }    \n",
    "  }\n",
    "  \n",
    "  row.names(df) <- NULL  \n",
    "  return(df)\n",
    "}"
   ]
  },
  {
   "cell_type": "code",
   "execution_count": 136,
   "metadata": {},
   "outputs": [
    {
     "ename": "ERROR",
     "evalue": "Error in country.aggregate.daily(\"Confirmed\", \"China\"): could not find function \"country.aggregate.daily\"\n",
     "output_type": "error",
     "traceback": [
      "Error in country.aggregate.daily(\"Confirmed\", \"China\"): could not find function \"country.aggregate.daily\"\nTraceback:\n"
     ]
    }
   ],
   "source": [
    "China.Confirmed = country.aggregate.daily(\"Confirmed\", \"China\")\n",
    "World.Confirmed = countries.daily(\"Confirmed\", Countries)\n",
    "\n",
    "#China\n",
    "#head(World)\n",
    "\n",
    "China.Deaths = country.aggregate.daily(\"Deaths\", \"China\")\n",
    "World.Deaths = countries.daily(\"Deaths\", Countries)\n",
    "China.Recovered = country.aggregate.daily(\"Recovered\", \"China\")\n",
    "World.Recovered = countries.daily(\"Recovered\", Countries)"
   ]
  },
  {
   "cell_type": "code",
   "execution_count": 379,
   "metadata": {},
   "outputs": [],
   "source": [
    "## Now we are good to move to our 2nd step"
   ]
  },
  {
   "cell_type": "code",
   "execution_count": 380,
   "metadata": {},
   "outputs": [],
   "source": [
    "# We need datewise data:\n",
    "\n",
    "## It's so because, we aim to analyse data on the daily basis\n",
    "    #  hence we'd have to add another column \"Date\" or simply \"Day\" (to hold day-> 1, 2...)\n",
    "\n",
    "# in order to do so, we'd have to transform our data into Cross-sectional (China, Hubei & Diamond Princess) or \n",
    "    # Pooled data (Countries of world other than China)\n",
    "\n",
    "# Let's understand what a Cross-sectional & a Pooled data is:-\n",
    "    # > * **Cross-sectional data:** Data of one or more variables, collected at the same point in time. <br />\n",
    "    # > * **Pooled data:** A combination of time series data and cross-sectional data.<br />"
   ]
  },
  {
   "cell_type": "code",
   "execution_count": 381,
   "metadata": {},
   "outputs": [],
   "source": [
    "# Let's do this transformation:-\n",
    "## Functions\n",
    "\n",
    "countries.daily.bulk.summary = function(cList) { # date wise country data\n",
    "  \n",
    "  # structure of resulting dataset (initially blank)\n",
    "  df <- data.frame(\n",
    "    Country = NULL,\n",
    "    Day = NULL,           # day no.\n",
    "    Date = NULL,\n",
    "    Confirmed = NULL,\n",
    "    Deaths = NULL,\n",
    "    Recovered = NULL\n",
    "  )\n",
    "  \n",
    "  # calculating all countries' data (date wise) through iteration\n",
    "  for(i in cList) {\n",
    "    this.one.confirmed = country.aggregate.daily(\"Confirmed\", i)\n",
    "    this.one.deaths = country.aggregate.daily(\"Deaths\", i)\n",
    "    this.one.recovered = country.aggregate.daily(\"Recovered\", i)\n",
    "    \n",
    "    times = ncol(this.one.confirmed)-1      # no. of days\n",
    "    day = 1:times\n",
    "    d = as.Date(\"21-01-2020\", format(c(\"%d-%m-%Y\")))\n",
    "    \n",
    "    date = as.character((day + d), format(c(\"%d-%m-%Y\")))      # its lenngth is equal to --> no. of days\n",
    "    date = factor(c(date), levels = date)\n",
    "    \n",
    "    #max(Deaths.temp[1,5:ncol(Deaths.temp)])\n",
    "    confirmed = as.numeric(this.one.confirmed[1,2:ncol(this.one.confirmed)])\n",
    "    \n",
    "    deaths = as.numeric(this.one.deaths[1,2:ncol(this.one.deaths)])\n",
    "    \n",
    "    recovered = as.numeric(this.one.recovered[1,2:ncol(this.one.recovered)])\n",
    "    \n",
    "    dataset <- data.frame(\n",
    "      Country = rep(i, times),\n",
    "      Day = factor(c(1:length(date)), levels = 1:length(date)),\n",
    "      Date = date,\n",
    "      Confirmed = confirmed,\n",
    "      Deaths = deaths,\n",
    "      Recovered = recovered\n",
    "    )\n",
    "    \n",
    "    # joining this country\n",
    "    df = rbind(df, dataset)\n",
    "  }\n",
    "    \n",
    "  return(df)\n",
    "}\n"
   ]
  },
  {
   "cell_type": "code",
   "execution_count": 382,
   "metadata": {},
   "outputs": [
    {
     "data": {
      "text/html": [
       "<table>\n",
       "<thead><tr><th scope=col>Country</th><th scope=col>Day</th><th scope=col>Date</th><th scope=col>Confirmed</th><th scope=col>Deaths</th><th scope=col>Recovered</th></tr></thead>\n",
       "<tbody>\n",
       "\t<tr><td>Afghanistan</td><td>1          </td><td>22-01-2020 </td><td>0          </td><td>0          </td><td>0          </td></tr>\n",
       "\t<tr><td>Afghanistan</td><td>2          </td><td>23-01-2020 </td><td>0          </td><td>0          </td><td>0          </td></tr>\n",
       "\t<tr><td>Afghanistan</td><td>3          </td><td>24-01-2020 </td><td>0          </td><td>0          </td><td>0          </td></tr>\n",
       "\t<tr><td>Afghanistan</td><td>4          </td><td>25-01-2020 </td><td>0          </td><td>0          </td><td>0          </td></tr>\n",
       "\t<tr><td>Afghanistan</td><td>5          </td><td>26-01-2020 </td><td>0          </td><td>0          </td><td>0          </td></tr>\n",
       "\t<tr><td>Afghanistan</td><td>6          </td><td>27-01-2020 </td><td>0          </td><td>0          </td><td>0          </td></tr>\n",
       "</tbody>\n",
       "</table>\n"
      ],
      "text/latex": [
       "\\begin{tabular}{r|llllll}\n",
       " Country & Day & Date & Confirmed & Deaths & Recovered\\\\\n",
       "\\hline\n",
       "\t Afghanistan & 1           & 22-01-2020  & 0           & 0           & 0          \\\\\n",
       "\t Afghanistan & 2           & 23-01-2020  & 0           & 0           & 0          \\\\\n",
       "\t Afghanistan & 3           & 24-01-2020  & 0           & 0           & 0          \\\\\n",
       "\t Afghanistan & 4           & 25-01-2020  & 0           & 0           & 0          \\\\\n",
       "\t Afghanistan & 5           & 26-01-2020  & 0           & 0           & 0          \\\\\n",
       "\t Afghanistan & 6           & 27-01-2020  & 0           & 0           & 0          \\\\\n",
       "\\end{tabular}\n"
      ],
      "text/markdown": [
       "\n",
       "| Country | Day | Date | Confirmed | Deaths | Recovered |\n",
       "|---|---|---|---|---|---|\n",
       "| Afghanistan | 1           | 22-01-2020  | 0           | 0           | 0           |\n",
       "| Afghanistan | 2           | 23-01-2020  | 0           | 0           | 0           |\n",
       "| Afghanistan | 3           | 24-01-2020  | 0           | 0           | 0           |\n",
       "| Afghanistan | 4           | 25-01-2020  | 0           | 0           | 0           |\n",
       "| Afghanistan | 5           | 26-01-2020  | 0           | 0           | 0           |\n",
       "| Afghanistan | 6           | 27-01-2020  | 0           | 0           | 0           |\n",
       "\n"
      ],
      "text/plain": [
       "  Country     Day Date       Confirmed Deaths Recovered\n",
       "1 Afghanistan 1   22-01-2020 0         0      0        \n",
       "2 Afghanistan 2   23-01-2020 0         0      0        \n",
       "3 Afghanistan 3   24-01-2020 0         0      0        \n",
       "4 Afghanistan 4   25-01-2020 0         0      0        \n",
       "5 Afghanistan 5   26-01-2020 0         0      0        \n",
       "6 Afghanistan 6   27-01-2020 0         0      0        "
      ]
     },
     "metadata": {},
     "output_type": "display_data"
    },
    {
     "data": {
      "text/html": [
       "<table>\n",
       "<thead><tr><th></th><th scope=col>Country</th><th scope=col>Day</th><th scope=col>Date</th><th scope=col>Confirmed</th><th scope=col>Deaths</th><th scope=col>Recovered</th><th scope=col>Active.Cases</th><th scope=col>Closed.Cases</th></tr></thead>\n",
       "<tbody>\n",
       "\t<tr><th scope=row>8869</th><td>Zambia    </td><td>53        </td><td>14-03-2020</td><td>0         </td><td>0         </td><td>0         </td><td>0         </td><td>0         </td></tr>\n",
       "\t<tr><th scope=row>8870</th><td>Zambia    </td><td>54        </td><td>15-03-2020</td><td>0         </td><td>0         </td><td>0         </td><td>0         </td><td>0         </td></tr>\n",
       "\t<tr><th scope=row>8871</th><td>Zambia    </td><td>55        </td><td>16-03-2020</td><td>0         </td><td>0         </td><td>0         </td><td>0         </td><td>0         </td></tr>\n",
       "\t<tr><th scope=row>8872</th><td>Zambia    </td><td>56        </td><td>17-03-2020</td><td>0         </td><td>0         </td><td>0         </td><td>0         </td><td>0         </td></tr>\n",
       "\t<tr><th scope=row>8873</th><td>Zambia    </td><td>57        </td><td>18-03-2020</td><td>2         </td><td>0         </td><td>0         </td><td>2         </td><td>0         </td></tr>\n",
       "\t<tr><th scope=row>8874</th><td>Zambia    </td><td>58        </td><td>19-03-2020</td><td>2         </td><td>0         </td><td>0         </td><td>2         </td><td>0         </td></tr>\n",
       "</tbody>\n",
       "</table>\n"
      ],
      "text/latex": [
       "\\begin{tabular}{r|llllllll}\n",
       "  & Country & Day & Date & Confirmed & Deaths & Recovered & Active.Cases & Closed.Cases\\\\\n",
       "\\hline\n",
       "\t8869 & Zambia     & 53         & 14-03-2020 & 0          & 0          & 0          & 0          & 0         \\\\\n",
       "\t8870 & Zambia     & 54         & 15-03-2020 & 0          & 0          & 0          & 0          & 0         \\\\\n",
       "\t8871 & Zambia     & 55         & 16-03-2020 & 0          & 0          & 0          & 0          & 0         \\\\\n",
       "\t8872 & Zambia     & 56         & 17-03-2020 & 0          & 0          & 0          & 0          & 0         \\\\\n",
       "\t8873 & Zambia     & 57         & 18-03-2020 & 2          & 0          & 0          & 2          & 0         \\\\\n",
       "\t8874 & Zambia     & 58         & 19-03-2020 & 2          & 0          & 0          & 2          & 0         \\\\\n",
       "\\end{tabular}\n"
      ],
      "text/markdown": [
       "\n",
       "| <!--/--> | Country | Day | Date | Confirmed | Deaths | Recovered | Active.Cases | Closed.Cases |\n",
       "|---|---|---|---|---|---|---|---|---|\n",
       "| 8869 | Zambia     | 53         | 14-03-2020 | 0          | 0          | 0          | 0          | 0          |\n",
       "| 8870 | Zambia     | 54         | 15-03-2020 | 0          | 0          | 0          | 0          | 0          |\n",
       "| 8871 | Zambia     | 55         | 16-03-2020 | 0          | 0          | 0          | 0          | 0          |\n",
       "| 8872 | Zambia     | 56         | 17-03-2020 | 0          | 0          | 0          | 0          | 0          |\n",
       "| 8873 | Zambia     | 57         | 18-03-2020 | 2          | 0          | 0          | 2          | 0          |\n",
       "| 8874 | Zambia     | 58         | 19-03-2020 | 2          | 0          | 0          | 2          | 0          |\n",
       "\n"
      ],
      "text/plain": [
       "     Country Day Date       Confirmed Deaths Recovered Active.Cases\n",
       "8869 Zambia  53  14-03-2020 0         0      0         0           \n",
       "8870 Zambia  54  15-03-2020 0         0      0         0           \n",
       "8871 Zambia  55  16-03-2020 0         0      0         0           \n",
       "8872 Zambia  56  17-03-2020 0         0      0         0           \n",
       "8873 Zambia  57  18-03-2020 2         0      0         2           \n",
       "8874 Zambia  58  19-03-2020 2         0      0         2           \n",
       "     Closed.Cases\n",
       "8869 0           \n",
       "8870 0           \n",
       "8871 0           \n",
       "8872 0           \n",
       "8873 0           \n",
       "8874 0           "
      ]
     },
     "metadata": {},
     "output_type": "display_data"
    }
   ],
   "source": [
    "bulk = countries.daily.bulk.summary(Countries)\n",
    "head(bulk)\n",
    "\n",
    "# For better analysis, let's add 2 more columns i.e.:\n",
    "    # Closed.Cases = consists all cases, that are Expired or Recovered\n",
    "    # Active.Cases = cases that are nither Expired or Recovered\n",
    "bulk$Active.Cases = bulk$Confirmed - (bulk$Deaths + bulk$Recovered)\n",
    "bulk$Closed.Cases = bulk$Deaths + bulk$Recovered\n",
    "tail(bulk)"
   ]
  },
  {
   "cell_type": "code",
   "execution_count": 383,
   "metadata": {},
   "outputs": [
    {
     "name": "stdout",
     "output_type": "stream",
     "text": [
      "'data.frame':\t8874 obs. of  8 variables:\n",
      " $ Country     : Factor w/ 153 levels \"Afghanistan\",..: 1 1 1 1 1 1 1 1 1 1 ...\n",
      " $ Day         : Factor w/ 58 levels \"1\",\"2\",\"3\",\"4\",..: 1 2 3 4 5 6 7 8 9 10 ...\n",
      " $ Date        : Factor w/ 58 levels \"22-01-2020\",\"23-01-2020\",..: 1 2 3 4 5 6 7 8 9 10 ...\n",
      " $ Confirmed   : num  0 0 0 0 0 0 0 0 0 0 ...\n",
      " $ Deaths      : num  0 0 0 0 0 0 0 0 0 0 ...\n",
      " $ Recovered   : num  0 0 0 0 0 0 0 0 0 0 ...\n",
      " $ Active.Cases: num  0 0 0 0 0 0 0 0 0 0 ...\n",
      " $ Closed.Cases: num  0 0 0 0 0 0 0 0 0 0 ...\n"
     ]
    }
   ],
   "source": [
    "# Analysing the new Pooled data\n",
    "str(bulk)"
   ]
  },
  {
   "cell_type": "markdown",
   "metadata": {},
   "source": [
    "## Explaination of Pooled datasets (bulk & four)\n",
    "   Number of columns: 8 <br /> \n",
    "   Here we are discussing about the _**Bulk** dataset_\n",
    "   \n",
    "> #### Country:\n",
    "   > * Datatype: **Factor** with 153-levels <br /> \n",
    "   > * Holds the name of Countries for daily data<br /> \n",
    "   > * Eg.: Japan\n",
    ">\n",
    "> #### Day:\n",
    "   > * Datatype: **Factor** with 58-levels <br /> \n",
    "   > * Holds days numbered from 1 upto the last day <br /> \n",
    "   > * Eg.: for Jan 22<sup>nd</sup>, Day is 1, Jan 23<sup>rd</sup>, Day is 2 and so on..\n",
    ">\n",
    "> #### Date:\n",
    "   > * Datatype: **Factor** with 58-levels <br /> \n",
    "   > * Holds dates in format **dd-mm-yyyy** and where individual level has the datatype _Date_ <br /> \n",
    "   > * Eg.: 22-01-2020\n",
    ">\n",
    "> #### Confirmed:\n",
    "   > * Datatype: **num** <br /> \n",
    "   > * Holds total number of confirm cases in a couuntry, upto the given date/day <br /> \n",
    "   > * Eg.: upto 01-02-2020, Japan reported\t20 COVID-19 cases\n",
    ">\n",
    "> #### Deaths:\n",
    "   > * Datatype: **num** <br /> \n",
    "   > * Holds total number of deaths in a couuntry, upto the given date/day <br /> \n",
    "   > * Eg.: upto 01-02-2020, Japan reported\tno Deaths\n",
    ">\n",
    "> #### Recovered:\n",
    "   > * Datatype: **num** <br /> \n",
    "   > * Holds total number of recoveries in a couuntry, upto the given date/day <br /> \n",
    "   > * Eg.: upto 01-02-2020, Japan reported\t1 Recoveries\n",
    ">\n",
    "> #### Active.Cases:\n",
    "   > * Datatype: **num** <br /> \n",
    "   > * Holds total Confirmed cases, except except Deaths & Recoveries in a couuntry, upto the given date/day <br /> \n",
    "   > * Eg.: upto 01-02-2020, Japan had 19 Active cases\n",
    ">\n",
    "> #### Closed.Cases:\n",
    "   > * Datatype: **num** <br /> \n",
    "   > * Holds total number of Recoveries or Deaths in a couuntry, upto the given date/day <br /> \n",
    "   > * Eg.: upto 01-02-2020, Japan had closed 1 COVID-19 case"
   ]
  },
  {
   "cell_type": "code",
   "execution_count": 384,
   "metadata": {},
   "outputs": [],
   "source": [
    "# filtering out the China\n",
    "China.dataset = bulk[which(str_detect(bulk$Country, 'China')),]\n",
    "\n",
    "# World Pooled dataset (except china)\n",
    "bulk = bulk[which(str_detect(bulk$Country, 'China', negate=T)),] # updating bulk itself"
   ]
  },
  {
   "cell_type": "code",
   "execution_count": 385,
   "metadata": {},
   "outputs": [
    {
     "data": {
      "text/html": [
       "<table>\n",
       "<thead><tr><th></th><th scope=col>Country</th><th scope=col>Day</th><th scope=col>Date</th><th scope=col>Confirmed</th><th scope=col>Deaths</th><th scope=col>Recovered</th><th scope=col>Active.Cases</th><th scope=col>Closed.Cases</th></tr></thead>\n",
       "<tbody>\n",
       "\t<tr><th scope=row>1741</th><td>China     </td><td>1         </td><td>22-01-2020</td><td> 104      </td><td>0         </td><td> 0        </td><td> 104      </td><td> 0        </td></tr>\n",
       "\t<tr><th scope=row>1742</th><td>China     </td><td>2         </td><td>23-01-2020</td><td> 199      </td><td>1         </td><td> 2        </td><td> 196      </td><td> 3        </td></tr>\n",
       "\t<tr><th scope=row>1743</th><td>China     </td><td>3         </td><td>24-01-2020</td><td> 371      </td><td>2         </td><td> 5        </td><td> 364      </td><td> 7        </td></tr>\n",
       "\t<tr><th scope=row>1744</th><td>China     </td><td>4         </td><td>25-01-2020</td><td> 645      </td><td>2         </td><td> 7        </td><td> 636      </td><td> 9        </td></tr>\n",
       "\t<tr><th scope=row>1745</th><td>China     </td><td>5         </td><td>26-01-2020</td><td>1017      </td><td>4         </td><td> 7        </td><td>1006      </td><td>11        </td></tr>\n",
       "\t<tr><th scope=row>1746</th><td>China     </td><td>6         </td><td>27-01-2020</td><td>1454      </td><td>6         </td><td>13        </td><td>1435      </td><td>19        </td></tr>\n",
       "</tbody>\n",
       "</table>\n"
      ],
      "text/latex": [
       "\\begin{tabular}{r|llllllll}\n",
       "  & Country & Day & Date & Confirmed & Deaths & Recovered & Active.Cases & Closed.Cases\\\\\n",
       "\\hline\n",
       "\t1741 & China      & 1          & 22-01-2020 &  104       & 0          &  0         &  104       &  0        \\\\\n",
       "\t1742 & China      & 2          & 23-01-2020 &  199       & 1          &  2         &  196       &  3        \\\\\n",
       "\t1743 & China      & 3          & 24-01-2020 &  371       & 2          &  5         &  364       &  7        \\\\\n",
       "\t1744 & China      & 4          & 25-01-2020 &  645       & 2          &  7         &  636       &  9        \\\\\n",
       "\t1745 & China      & 5          & 26-01-2020 & 1017       & 4          &  7         & 1006       & 11        \\\\\n",
       "\t1746 & China      & 6          & 27-01-2020 & 1454       & 6          & 13         & 1435       & 19        \\\\\n",
       "\\end{tabular}\n"
      ],
      "text/markdown": [
       "\n",
       "| <!--/--> | Country | Day | Date | Confirmed | Deaths | Recovered | Active.Cases | Closed.Cases |\n",
       "|---|---|---|---|---|---|---|---|---|\n",
       "| 1741 | China      | 1          | 22-01-2020 |  104       | 0          |  0         |  104       |  0         |\n",
       "| 1742 | China      | 2          | 23-01-2020 |  199       | 1          |  2         |  196       |  3         |\n",
       "| 1743 | China      | 3          | 24-01-2020 |  371       | 2          |  5         |  364       |  7         |\n",
       "| 1744 | China      | 4          | 25-01-2020 |  645       | 2          |  7         |  636       |  9         |\n",
       "| 1745 | China      | 5          | 26-01-2020 | 1017       | 4          |  7         | 1006       | 11         |\n",
       "| 1746 | China      | 6          | 27-01-2020 | 1454       | 6          | 13         | 1435       | 19         |\n",
       "\n"
      ],
      "text/plain": [
       "     Country Day Date       Confirmed Deaths Recovered Active.Cases\n",
       "1741 China   1   22-01-2020  104      0       0         104        \n",
       "1742 China   2   23-01-2020  199      1       2         196        \n",
       "1743 China   3   24-01-2020  371      2       5         364        \n",
       "1744 China   4   25-01-2020  645      2       7         636        \n",
       "1745 China   5   26-01-2020 1017      4       7        1006        \n",
       "1746 China   6   27-01-2020 1454      6      13        1435        \n",
       "     Closed.Cases\n",
       "1741  0          \n",
       "1742  3          \n",
       "1743  7          \n",
       "1744  9          \n",
       "1745 11          \n",
       "1746 19          "
      ]
     },
     "metadata": {},
     "output_type": "display_data"
    }
   ],
   "source": [
    "head(China.dataset)"
   ]
  },
  {
   "cell_type": "code",
   "execution_count": 386,
   "metadata": {},
   "outputs": [],
   "source": [
    "# In the same manner, we create to datasets\n",
    "    # 1st: that holds the data of all the countries except Hubei in China\n",
    "    # 2nd: that holds whole data catagorised into four locations.\n",
    "        # these four locations are:\n",
    "            # 1. Diamond Princess (explaine --> before, 14th feb, it's 0, and dataafter that)\n",
    "            # 2. Hubei province (alone) same as Diamond Princess Cruise Ship\n",
    "            # 3. China alone data (Except Hubei province)\n",
    "            # 4. World (Except China), collectively\n",
    "\n",
    "# The 2nd type of dataset is very necessary because it consists of all the Outliers as well...\n",
    "\n",
    "# Actually, here we can take them into consideration because:\n",
    "    # 1. Here we are comparing them with the whole World's data collectivally\n",
    "    # 2. It's that kind of MEDICAL Data, where outliers can not be ignored! In-fact this single country and that ship are spreading the disease, rapidly.\n",
    "    # 3. This 2nd dataset alone keeps trak on the whole data, reported till the last date"
   ]
  },
  {
   "cell_type": "code",
   "execution_count": 5,
   "metadata": {},
   "outputs": [],
   "source": [
    "## Load both datewise-datasets (world & FOUR)\n",
    "# includes data of all the countries\n",
    "all = read.csv('Notebooks/syllabus/static/pooled/countryWise_bulk_summary.csv')\n",
    "\n",
    "# includes data of four majour location\n",
    "four = read.csv('Notebooks/syllabus/static/pooled/Four_dataset_locationWise.csv')"
   ]
  },
  {
   "cell_type": "code",
   "execution_count": 6,
   "metadata": {},
   "outputs": [
    {
     "name": "stdout",
     "output_type": "stream",
     "text": [
      "'data.frame':\t8874 obs. of  8 variables:\n",
      " $ Country     : Factor w/ 153 levels \"Afghanistan\",..: 1 1 1 1 1 1 1 1 1 1 ...\n",
      " $ Day         : int  1 2 3 4 5 6 7 8 9 10 ...\n",
      " $ Date        : Factor w/ 58 levels \"01-02-2020\",\"01-03-2020\",..: 41 43 45 47 49 51 53 55 57 58 ...\n",
      " $ Confirmed   : int  0 0 0 0 0 0 0 0 0 0 ...\n",
      " $ Deaths      : int  0 0 0 0 0 0 0 0 0 0 ...\n",
      " $ Recovered   : int  0 0 0 0 0 0 0 0 0 0 ...\n",
      " $ Active.Cases: int  0 0 0 0 0 0 0 0 0 0 ...\n",
      " $ Closed.Cases: int  0 0 0 0 0 0 0 0 0 0 ...\n",
      "\n",
      "\n",
      "'data.frame':\t232 obs. of  8 variables:\n",
      " $ Location    : Factor w/ 4 levels \"China\",\"Diamond Princess\",..: 3 3 3 3 3 3 3 3 3 3 ...\n",
      " $ Day         : int  1 2 3 4 5 6 7 8 9 10 ...\n",
      " $ Date        : Factor w/ 58 levels \"01-02-2020\",\"01-03-2020\",..: 41 43 45 47 49 51 53 55 57 58 ...\n",
      " $ Confirmed   : int  444 444 549 761 1058 1423 3554 3554 4903 5806 ...\n",
      " $ Deaths      : int  17 17 24 40 52 76 125 125 162 204 ...\n",
      " $ Recovered   : int  28 28 31 32 42 45 80 88 90 141 ...\n",
      " $ Active.Cases: int  399 399 494 689 964 1302 3349 3341 4651 5461 ...\n",
      " $ Closed.Cases: int  45 45 55 72 94 121 205 213 252 345 ...\n"
     ]
    }
   ],
   "source": [
    "str(all)\n",
    "\n",
    "cat(\"\\n\\n\")\n",
    "\n",
    "str(four)"
   ]
  },
  {
   "cell_type": "markdown",
   "metadata": {},
   "source": [
    "In the _**All** dataset_, everuthing is same as in 'Bulk' dataset <br />\n",
    "\n",
    "In the _**Four** dataset_: <br />\n",
    "\n",
    "> #### Location:\n",
    "   > * Datatype: **Factor** with 4-levels <br /> \n",
    "   > * Holds the name of Locations (as Countries in 'Bulk') for daily data <br /> \n",
    "   > * Levels: World, China, Hubei & Diamond Princess <br /> <br />\n",
    "Rest **7** columns are same as those of 'Bulk' dataset"
   ]
  },
  {
   "cell_type": "markdown",
   "metadata": {},
   "source": [
    "### Let's analyse that how China differ from rest of the data using Boxplots\n",
    "#### Why Boxplot:-  <br /> \n",
    "> * It's a single visualization that tells about many statistical quantifiers <br />\n",
    "> <img src=\"pics/boxplot.png\" height=\"50%\" width=\"50%\" alt=\"Boxplot explained\"/> <br />\n",
    "> * It's very easy to detect Outliers through boxplot <br />"
   ]
  },
  {
   "cell_type": "code",
   "execution_count": 7,
   "metadata": {},
   "outputs": [
    {
     "ename": "ERROR",
     "evalue": "Error in ggplot(four, aes(x = Day, y = Confirmed, color = Day)): could not find function \"ggplot\"\n",
     "output_type": "error",
     "traceback": [
      "Error in ggplot(four, aes(x = Day, y = Confirmed, color = Day)): could not find function \"ggplot\"\nTraceback:\n"
     ]
    }
   ],
   "source": [
    "# Initially we plot dataset with majour Locations\n",
    "withChina<-ggplot(four, aes(x=Day, y=Confirmed, color=Day)) +\n",
    "  geom_boxplot(aes(group=Day)) +\n",
    "  labs(title=\"Including China\") +\n",
    "  theme_classic()\n",
    "\n",
    "withChina"
   ]
  },
  {
   "cell_type": "code",
   "execution_count": 8,
   "metadata": {},
   "outputs": [
    {
     "ename": "ERROR",
     "evalue": "Error in ggplot(four[which(str_detect(four$Location, \"China\", negate = F)), : could not find function \"ggplot\"\n",
     "output_type": "error",
     "traceback": [
      "Error in ggplot(four[which(str_detect(four$Location, \"China\", negate = F)), : could not find function \"ggplot\"\nTraceback:\n"
     ]
    }
   ],
   "source": [
    "# Here we get a continuous sequence of outliers, for roughly upto 45 days\n",
    "# Now, as per our previous analysis (through word-clouds and mean-comperision, China might be this outlier)\n",
    "# In order to Test our hypothesis, let's plot China alone, as well as Rest of all data except China\n",
    "chinaAlone<-ggplot(four[which(str_detect(four$Location, \"China\", negate=F)),], aes(x=Day, y=Confirmed, color=Day)) +\n",
    "  geom_boxplot(aes(group=Day)) +\n",
    "  labs(title=\"Only China\") +\n",
    "  theme_classic()\n",
    "\n",
    "withoutChina<-ggplot(four[which(str_detect(four$Location, \"China\", negate=T)),], aes(x=Day, y=Confirmed, color=Day)) +\n",
    "  geom_boxplot(aes(group=Day)) +\n",
    "  labs(title=\"Exclude China\") +\n",
    "  theme_classic()\n",
    "\n",
    "chinaAlone\n",
    "withoutChina"
   ]
  },
  {
   "cell_type": "code",
   "execution_count": 9,
   "metadata": {},
   "outputs": [],
   "source": [
    "# Comparing above 2 plots with our previous single plot of the whole (4) data catagories, collectivaly:-\n",
    "    # First box plots resembles the sequence, that is far more similar to the Outliers' sequence\n",
    "    # Along with this, when we try plotting the whole data again, after removing the China, we find that there is no outlier, at all\n",
    "\n",
    "# So, finally we can say that the China is an outlier, and hence we'll study China, saperatly!"
   ]
  },
  {
   "cell_type": "code",
   "execution_count": 10,
   "metadata": {},
   "outputs": [
    {
     "data": {
      "text/html": [
       "<table>\n",
       "<thead><tr><th scope=col>Country</th><th scope=col>Day</th><th scope=col>Date</th><th scope=col>Confirmed</th><th scope=col>Deaths</th><th scope=col>Recovered</th><th scope=col>Active.Cases</th><th scope=col>Closed.Cases</th></tr></thead>\n",
       "<tbody>\n",
       "\t<tr><td>Afghanistan</td><td>1          </td><td>22-01-2020 </td><td>0          </td><td>0          </td><td>0          </td><td>0          </td><td>0          </td></tr>\n",
       "\t<tr><td>Afghanistan</td><td>2          </td><td>23-01-2020 </td><td>0          </td><td>0          </td><td>0          </td><td>0          </td><td>0          </td></tr>\n",
       "\t<tr><td>Afghanistan</td><td>3          </td><td>24-01-2020 </td><td>0          </td><td>0          </td><td>0          </td><td>0          </td><td>0          </td></tr>\n",
       "\t<tr><td>Afghanistan</td><td>4          </td><td>25-01-2020 </td><td>0          </td><td>0          </td><td>0          </td><td>0          </td><td>0          </td></tr>\n",
       "\t<tr><td>Afghanistan</td><td>5          </td><td>26-01-2020 </td><td>0          </td><td>0          </td><td>0          </td><td>0          </td><td>0          </td></tr>\n",
       "\t<tr><td>Afghanistan</td><td>6          </td><td>27-01-2020 </td><td>0          </td><td>0          </td><td>0          </td><td>0          </td><td>0          </td></tr>\n",
       "</tbody>\n",
       "</table>\n"
      ],
      "text/latex": [
       "\\begin{tabular}{r|llllllll}\n",
       " Country & Day & Date & Confirmed & Deaths & Recovered & Active.Cases & Closed.Cases\\\\\n",
       "\\hline\n",
       "\t Afghanistan & 1           & 22-01-2020  & 0           & 0           & 0           & 0           & 0          \\\\\n",
       "\t Afghanistan & 2           & 23-01-2020  & 0           & 0           & 0           & 0           & 0          \\\\\n",
       "\t Afghanistan & 3           & 24-01-2020  & 0           & 0           & 0           & 0           & 0          \\\\\n",
       "\t Afghanistan & 4           & 25-01-2020  & 0           & 0           & 0           & 0           & 0          \\\\\n",
       "\t Afghanistan & 5           & 26-01-2020  & 0           & 0           & 0           & 0           & 0          \\\\\n",
       "\t Afghanistan & 6           & 27-01-2020  & 0           & 0           & 0           & 0           & 0          \\\\\n",
       "\\end{tabular}\n"
      ],
      "text/markdown": [
       "\n",
       "| Country | Day | Date | Confirmed | Deaths | Recovered | Active.Cases | Closed.Cases |\n",
       "|---|---|---|---|---|---|---|---|\n",
       "| Afghanistan | 1           | 22-01-2020  | 0           | 0           | 0           | 0           | 0           |\n",
       "| Afghanistan | 2           | 23-01-2020  | 0           | 0           | 0           | 0           | 0           |\n",
       "| Afghanistan | 3           | 24-01-2020  | 0           | 0           | 0           | 0           | 0           |\n",
       "| Afghanistan | 4           | 25-01-2020  | 0           | 0           | 0           | 0           | 0           |\n",
       "| Afghanistan | 5           | 26-01-2020  | 0           | 0           | 0           | 0           | 0           |\n",
       "| Afghanistan | 6           | 27-01-2020  | 0           | 0           | 0           | 0           | 0           |\n",
       "\n"
      ],
      "text/plain": [
       "  Country     Day Date       Confirmed Deaths Recovered Active.Cases\n",
       "1 Afghanistan 1   22-01-2020 0         0      0         0           \n",
       "2 Afghanistan 2   23-01-2020 0         0      0         0           \n",
       "3 Afghanistan 3   24-01-2020 0         0      0         0           \n",
       "4 Afghanistan 4   25-01-2020 0         0      0         0           \n",
       "5 Afghanistan 5   26-01-2020 0         0      0         0           \n",
       "6 Afghanistan 6   27-01-2020 0         0      0         0           \n",
       "  Closed.Cases\n",
       "1 0           \n",
       "2 0           \n",
       "3 0           \n",
       "4 0           \n",
       "5 0           \n",
       "6 0           "
      ]
     },
     "metadata": {},
     "output_type": "display_data"
    },
    {
     "data": {
      "text/html": [
       "<table>\n",
       "<thead><tr><th scope=col>Location</th><th scope=col>Day</th><th scope=col>Date</th><th scope=col>Confirmed</th><th scope=col>Deaths</th><th scope=col>Recovered</th><th scope=col>Active.Cases</th><th scope=col>Closed.Cases</th></tr></thead>\n",
       "<tbody>\n",
       "\t<tr><td>Hubei     </td><td>1         </td><td>22-01-2020</td><td> 444      </td><td>17        </td><td>28        </td><td> 399      </td><td> 45       </td></tr>\n",
       "\t<tr><td>Hubei     </td><td>2         </td><td>23-01-2020</td><td> 444      </td><td>17        </td><td>28        </td><td> 399      </td><td> 45       </td></tr>\n",
       "\t<tr><td>Hubei     </td><td>3         </td><td>24-01-2020</td><td> 549      </td><td>24        </td><td>31        </td><td> 494      </td><td> 55       </td></tr>\n",
       "\t<tr><td>Hubei     </td><td>4         </td><td>25-01-2020</td><td> 761      </td><td>40        </td><td>32        </td><td> 689      </td><td> 72       </td></tr>\n",
       "\t<tr><td>Hubei     </td><td>5         </td><td>26-01-2020</td><td>1058      </td><td>52        </td><td>42        </td><td> 964      </td><td> 94       </td></tr>\n",
       "\t<tr><td>Hubei     </td><td>6         </td><td>27-01-2020</td><td>1423      </td><td>76        </td><td>45        </td><td>1302      </td><td>121       </td></tr>\n",
       "</tbody>\n",
       "</table>\n"
      ],
      "text/latex": [
       "\\begin{tabular}{r|llllllll}\n",
       " Location & Day & Date & Confirmed & Deaths & Recovered & Active.Cases & Closed.Cases\\\\\n",
       "\\hline\n",
       "\t Hubei      & 1          & 22-01-2020 &  444       & 17         & 28         &  399       &  45       \\\\\n",
       "\t Hubei      & 2          & 23-01-2020 &  444       & 17         & 28         &  399       &  45       \\\\\n",
       "\t Hubei      & 3          & 24-01-2020 &  549       & 24         & 31         &  494       &  55       \\\\\n",
       "\t Hubei      & 4          & 25-01-2020 &  761       & 40         & 32         &  689       &  72       \\\\\n",
       "\t Hubei      & 5          & 26-01-2020 & 1058       & 52         & 42         &  964       &  94       \\\\\n",
       "\t Hubei      & 6          & 27-01-2020 & 1423       & 76         & 45         & 1302       & 121       \\\\\n",
       "\\end{tabular}\n"
      ],
      "text/markdown": [
       "\n",
       "| Location | Day | Date | Confirmed | Deaths | Recovered | Active.Cases | Closed.Cases |\n",
       "|---|---|---|---|---|---|---|---|\n",
       "| Hubei      | 1          | 22-01-2020 |  444       | 17         | 28         |  399       |  45        |\n",
       "| Hubei      | 2          | 23-01-2020 |  444       | 17         | 28         |  399       |  45        |\n",
       "| Hubei      | 3          | 24-01-2020 |  549       | 24         | 31         |  494       |  55        |\n",
       "| Hubei      | 4          | 25-01-2020 |  761       | 40         | 32         |  689       |  72        |\n",
       "| Hubei      | 5          | 26-01-2020 | 1058       | 52         | 42         |  964       |  94        |\n",
       "| Hubei      | 6          | 27-01-2020 | 1423       | 76         | 45         | 1302       | 121        |\n",
       "\n"
      ],
      "text/plain": [
       "  Location Day Date       Confirmed Deaths Recovered Active.Cases Closed.Cases\n",
       "1 Hubei    1   22-01-2020  444      17     28         399          45         \n",
       "2 Hubei    2   23-01-2020  444      17     28         399          45         \n",
       "3 Hubei    3   24-01-2020  549      24     31         494          55         \n",
       "4 Hubei    4   25-01-2020  761      40     32         689          72         \n",
       "5 Hubei    5   26-01-2020 1058      52     42         964          94         \n",
       "6 Hubei    6   27-01-2020 1423      76     45        1302         121         "
      ]
     },
     "metadata": {},
     "output_type": "display_data"
    }
   ],
   "source": [
    "# Let's view few of the rows in existing datasets\n",
    "head(all)\n",
    "head(four)"
   ]
  },
  {
   "cell_type": "code",
   "execution_count": 11,
   "metadata": {},
   "outputs": [],
   "source": [
    "# Now, as we aim to analyse the status of COVID-19 within next 10 days, which means that we basically want to analyse the active or closed cases within that time duration.\n",
    "# But, as these 2 are just discrete figures and hance can vary depending upon the Confirmed, Recovery & Death cases\n",
    "# It means all these figures can vary dynamicaly\n",
    "\n",
    "# So, in this situation, finding any internal relation between the columns Confirmed/Recovery/Death and Active/Closed cases ain't an easy task.\n",
    "# Now, in order to esteblish a relationship between these, the can take **Rate of Increase** in Active/Closed cases\n",
    "    # i.e. what percent (%) of Confirmed cases are Active/Closed, and which would simply be depand upon total Confirmed cases"
   ]
  },
  {
   "cell_type": "code",
   "execution_count": 12,
   "metadata": {},
   "outputs": [],
   "source": [
    "#Hence, before we move towards creating a suitable modle for our problem form available dataset, we'd have to do one last transformation, by adding two more columns to our existing dataset i.e.\n",
    "    # 1. Active Cases (%)\n",
    "    # 2. Closed Cases (%)"
   ]
  },
  {
   "cell_type": "code",
   "execution_count": 13,
   "metadata": {},
   "outputs": [],
   "source": [
    "# calculate the percent (using Confirmed cases as total)\n",
    "percent <- function(dfName){\n",
    "    get(dfName) -> df\n",
    "    part <- NULL\n",
    "    \n",
    "    for(i in 1:nrow(df)) {\n",
    "        val = df[i,\"Active.Cases\"]\n",
    "        Total = df[i,\"Confirmed\"]\n",
    "        \n",
    "        \n",
    "        if(i == 1)\n",
    "            if(val==0)\n",
    "                part = 0\n",
    "            else\n",
    "                part = as.numeric((val*100)/Total)\n",
    "        else\n",
    "            if(val==0)\n",
    "                part = c(part, 0)\n",
    "            else\n",
    "                part <- c(part, as.numeric((val*100)/Total))\n",
    "    }\n",
    "        \n",
    "    return(part)\n",
    "}"
   ]
  },
  {
   "cell_type": "code",
   "execution_count": 14,
   "metadata": {},
   "outputs": [],
   "source": [
    "# CASES -> percentage\n",
    "four$'percent_active' = percent(\"four\")     # Active cases, out of every 100 Confirmed cases\n",
    "four$'percent_closed' = 100-percent(\"four\") # Closed cases, out of every 100 Confirmed cases\n",
    "\n",
    "\n",
    "all$'percent_active' = percent(\"all\")     # Active cases, out of every 100 Confirmed cases\n",
    "all$'percent_closed' = 100-percent(\"all\") # Closed cases, out of every 100 Confirmed cases\n"
   ]
  },
  {
   "cell_type": "code",
   "execution_count": 15,
   "metadata": {},
   "outputs": [
    {
     "name": "stdout",
     "output_type": "stream",
     "text": [
      "'data.frame':\t8874 obs. of  10 variables:\n",
      " $ Country       : Factor w/ 153 levels \"Afghanistan\",..: 1 1 1 1 1 1 1 1 1 1 ...\n",
      " $ Day           : int  1 2 3 4 5 6 7 8 9 10 ...\n",
      " $ Date          : Factor w/ 58 levels \"01-02-2020\",\"01-03-2020\",..: 41 43 45 47 49 51 53 55 57 58 ...\n",
      " $ Confirmed     : int  0 0 0 0 0 0 0 0 0 0 ...\n",
      " $ Deaths        : int  0 0 0 0 0 0 0 0 0 0 ...\n",
      " $ Recovered     : int  0 0 0 0 0 0 0 0 0 0 ...\n",
      " $ Active.Cases  : int  0 0 0 0 0 0 0 0 0 0 ...\n",
      " $ Closed.Cases  : int  0 0 0 0 0 0 0 0 0 0 ...\n",
      " $ percent_active: num  0 0 0 0 0 0 0 0 0 0 ...\n",
      " $ percent_closed: num  100 100 100 100 100 100 100 100 100 100 ...\n",
      "\n",
      "\n",
      "'data.frame':\t232 obs. of  10 variables:\n",
      " $ Location      : Factor w/ 4 levels \"China\",\"Diamond Princess\",..: 3 3 3 3 3 3 3 3 3 3 ...\n",
      " $ Day           : int  1 2 3 4 5 6 7 8 9 10 ...\n",
      " $ Date          : Factor w/ 58 levels \"01-02-2020\",\"01-03-2020\",..: 41 43 45 47 49 51 53 55 57 58 ...\n",
      " $ Confirmed     : int  444 444 549 761 1058 1423 3554 3554 4903 5806 ...\n",
      " $ Deaths        : int  17 17 24 40 52 76 125 125 162 204 ...\n",
      " $ Recovered     : int  28 28 31 32 42 45 80 88 90 141 ...\n",
      " $ Active.Cases  : int  399 399 494 689 964 1302 3349 3341 4651 5461 ...\n",
      " $ Closed.Cases  : int  45 45 55 72 94 121 205 213 252 345 ...\n",
      " $ percent_active: num  89.9 89.9 90 90.5 91.1 ...\n",
      " $ percent_closed: num  10.14 10.14 10.02 9.46 8.88 ...\n"
     ]
    }
   ],
   "source": [
    "# Look onto the structure whether the things are updated or not\n",
    "str(all)\n",
    "\n",
    "cat(\"\\n\\n\")\n",
    "\n",
    "str(four)"
   ]
  },
  {
   "cell_type": "code",
   "execution_count": 16,
   "metadata": {},
   "outputs": [],
   "source": [
    "#OK! Everything is set. Now we can go for creating a model"
   ]
  },
  {
   "cell_type": "markdown",
   "metadata": {},
   "source": [
    "<br />"
   ]
  },
  {
   "cell_type": "markdown",
   "metadata": {},
   "source": [
    "### * can include Text-Mining here -----> (CURRENTLY EXCLUDED)"
   ]
  },
  {
   "cell_type": "code",
   "execution_count": 17,
   "metadata": {},
   "outputs": [],
   "source": [
    "# OPTIONAL\n",
    "\n",
    "# choosing which data can be considered for the modeling and further analysis (country/world etc..   From word cloud)\n",
    "\n",
    "# verifying if the data is in required format or not --> (obviously it is, but proved)"
   ]
  },
  {
   "cell_type": "markdown",
   "metadata": {},
   "source": [
    "<br />"
   ]
  },
  {
   "cell_type": "markdown",
   "metadata": {},
   "source": [
    "## Modeling:"
   ]
  },
  {
   "cell_type": "code",
   "execution_count": 18,
   "metadata": {},
   "outputs": [],
   "source": [
    "# Now we have the data of all the different countries as well as the aggrigate datewise data of the whole world, too.\n",
    "# Also, we have data of some specil locations, lying far away from the trend (say outliers)\n",
    "\n",
    "# So, we have to decide that which Country, we are going to do our analysis\n",
    "    # It can be choosen with the help of the following function"
   ]
  },
  {
   "cell_type": "code",
   "execution_count": 19,
   "metadata": {},
   "outputs": [],
   "source": [
    "\n",
    "# extracting the desired dataset\n",
    "extractDatases <- function(region){\n",
    "    if(region %in% c(\"Hubei\", \"World\", \"Diamond Princess\")) {\n",
    "    temp = four[which(str_detect(four$Location, region)),]\n",
    "    row.names(temp) <- NULL\n",
    "} else {\n",
    "    temp = all[which(str_detect(all$Country, region)),]\n",
    "    row.names(temp) <- NULL\n",
    "}\n",
    "\n",
    "return(temp)\n",
    "}\n"
   ]
  },
  {
   "cell_type": "markdown",
   "metadata": {},
   "source": [
    "<br /> \n",
    "### Choosing desired Location"
   ]
  },
  {
   "cell_type": "code",
   "execution_count": 20,
   "metadata": {},
   "outputs": [],
   "source": [
    "# Having a look onto the following cloud can help us to choose a country\n",
    "# plot a word-cloud"
   ]
  },
  {
   "cell_type": "code",
   "execution_count": 21,
   "metadata": {},
   "outputs": [],
   "source": [
    "# country i.e. to be used throughout the analysis\n",
    "rName = \"China\" # without hubei"
   ]
  },
  {
   "cell_type": "code",
   "execution_count": 22,
   "metadata": {},
   "outputs": [],
   "source": [
    "# filtering out desired country/location \n",
    "region1 = extractDatases(rName)"
   ]
  },
  {
   "cell_type": "code",
   "execution_count": 23,
   "metadata": {},
   "outputs": [],
   "source": [
    "# so we are missing something, when we have outliers saperatly,\n",
    "    # better is that we join Hubei data in China so that our Countries' dataset don't have any vulnarability\n",
    "\n",
    "# joining Hubei for complete data of china\n",
    "region2 = extractDatases(\"Hubei\")\n",
    "region = cbind(region1[,1:3], region1[,4:8]+region2[,4:8])"
   ]
  },
  {
   "cell_type": "code",
   "execution_count": 24,
   "metadata": {},
   "outputs": [
    {
     "data": {
      "text/html": [
       "<table>\n",
       "<thead><tr><th scope=col>Country</th><th scope=col>Day</th><th scope=col>Date</th><th scope=col>Confirmed</th><th scope=col>Deaths</th><th scope=col>Recovered</th><th scope=col>Active.Cases</th><th scope=col>Closed.Cases</th><th scope=col>percent_active</th><th scope=col>percent_closed</th></tr></thead>\n",
       "<tbody>\n",
       "\t<tr><td>China     </td><td>1         </td><td>22-01-2020</td><td> 548      </td><td>17        </td><td>28        </td><td> 503      </td><td> 45       </td><td>91.78832  </td><td>8.211679  </td></tr>\n",
       "\t<tr><td>China     </td><td>2         </td><td>23-01-2020</td><td> 643      </td><td>18        </td><td>30        </td><td> 595      </td><td> 48       </td><td>92.53499  </td><td>7.465008  </td></tr>\n",
       "\t<tr><td>China     </td><td>3         </td><td>24-01-2020</td><td> 920      </td><td>26        </td><td>36        </td><td> 858      </td><td> 62       </td><td>93.26087  </td><td>6.739130  </td></tr>\n",
       "\t<tr><td>China     </td><td>4         </td><td>25-01-2020</td><td>1406      </td><td>42        </td><td>39        </td><td>1325      </td><td> 81       </td><td>94.23898  </td><td>5.761024  </td></tr>\n",
       "\t<tr><td>China     </td><td>5         </td><td>26-01-2020</td><td>2075      </td><td>56        </td><td>49        </td><td>1970      </td><td>105       </td><td>94.93976  </td><td>5.060241  </td></tr>\n",
       "\t<tr><td>China     </td><td>6         </td><td>27-01-2020</td><td>2877      </td><td>82        </td><td>58        </td><td>2737      </td><td>140       </td><td>95.13382  </td><td>4.866180  </td></tr>\n",
       "</tbody>\n",
       "</table>\n"
      ],
      "text/latex": [
       "\\begin{tabular}{r|llllllllll}\n",
       " Country & Day & Date & Confirmed & Deaths & Recovered & Active.Cases & Closed.Cases & percent\\_active & percent\\_closed\\\\\n",
       "\\hline\n",
       "\t China      & 1          & 22-01-2020 &  548       & 17         & 28         &  503       &  45        & 91.78832   & 8.211679  \\\\\n",
       "\t China      & 2          & 23-01-2020 &  643       & 18         & 30         &  595       &  48        & 92.53499   & 7.465008  \\\\\n",
       "\t China      & 3          & 24-01-2020 &  920       & 26         & 36         &  858       &  62        & 93.26087   & 6.739130  \\\\\n",
       "\t China      & 4          & 25-01-2020 & 1406       & 42         & 39         & 1325       &  81        & 94.23898   & 5.761024  \\\\\n",
       "\t China      & 5          & 26-01-2020 & 2075       & 56         & 49         & 1970       & 105        & 94.93976   & 5.060241  \\\\\n",
       "\t China      & 6          & 27-01-2020 & 2877       & 82         & 58         & 2737       & 140        & 95.13382   & 4.866180  \\\\\n",
       "\\end{tabular}\n"
      ],
      "text/markdown": [
       "\n",
       "| Country | Day | Date | Confirmed | Deaths | Recovered | Active.Cases | Closed.Cases | percent_active | percent_closed |\n",
       "|---|---|---|---|---|---|---|---|---|---|\n",
       "| China      | 1          | 22-01-2020 |  548       | 17         | 28         |  503       |  45        | 91.78832   | 8.211679   |\n",
       "| China      | 2          | 23-01-2020 |  643       | 18         | 30         |  595       |  48        | 92.53499   | 7.465008   |\n",
       "| China      | 3          | 24-01-2020 |  920       | 26         | 36         |  858       |  62        | 93.26087   | 6.739130   |\n",
       "| China      | 4          | 25-01-2020 | 1406       | 42         | 39         | 1325       |  81        | 94.23898   | 5.761024   |\n",
       "| China      | 5          | 26-01-2020 | 2075       | 56         | 49         | 1970       | 105        | 94.93976   | 5.060241   |\n",
       "| China      | 6          | 27-01-2020 | 2877       | 82         | 58         | 2737       | 140        | 95.13382   | 4.866180   |\n",
       "\n"
      ],
      "text/plain": [
       "  Country Day Date       Confirmed Deaths Recovered Active.Cases Closed.Cases\n",
       "1 China   1   22-01-2020  548      17     28         503          45         \n",
       "2 China   2   23-01-2020  643      18     30         595          48         \n",
       "3 China   3   24-01-2020  920      26     36         858          62         \n",
       "4 China   4   25-01-2020 1406      42     39        1325          81         \n",
       "5 China   5   26-01-2020 2075      56     49        1970         105         \n",
       "6 China   6   27-01-2020 2877      82     58        2737         140         \n",
       "  percent_active percent_closed\n",
       "1 91.78832       8.211679      \n",
       "2 92.53499       7.465008      \n",
       "3 93.26087       6.739130      \n",
       "4 94.23898       5.761024      \n",
       "5 94.93976       5.060241      \n",
       "6 95.13382       4.866180      "
      ]
     },
     "metadata": {},
     "output_type": "display_data"
    }
   ],
   "source": [
    "# filtering out desired country/location \n",
    "\n",
    "region$'percent_active' = percent(\"region\")     # Active cases, out of every 100 Confirmed cases\n",
    "region$'percent_closed' = 100-percent(\"region\") # Closed cases, out of every 100 Confirmed cases\n",
    "\n",
    "head(region)"
   ]
  },
  {
   "cell_type": "code",
   "execution_count": 25,
   "metadata": {},
   "outputs": [
    {
     "data": {
      "text/html": [
       "<table>\n",
       "<thead><tr><th scope=col>Day</th><th scope=col>Confirmed</th><th scope=col>Deaths</th><th scope=col>Recovered</th><th scope=col>Active.Cases</th><th scope=col>Closed.Cases</th><th scope=col>percent_active</th><th scope=col>percent_closed</th></tr></thead>\n",
       "<tbody>\n",
       "\t<tr><td> 1      </td><td> 548    </td><td> 17     </td><td> 28     </td><td> 503    </td><td> 45     </td><td>91.78832</td><td>8.211679</td></tr>\n",
       "\t<tr><td> 2      </td><td> 643    </td><td> 18     </td><td> 30     </td><td> 595    </td><td> 48     </td><td>92.53499</td><td>7.465008</td></tr>\n",
       "\t<tr><td> 3      </td><td> 920    </td><td> 26     </td><td> 36     </td><td> 858    </td><td> 62     </td><td>93.26087</td><td>6.739130</td></tr>\n",
       "\t<tr><td> 4      </td><td>1406    </td><td> 42     </td><td> 39     </td><td>1325    </td><td> 81     </td><td>94.23898</td><td>5.761024</td></tr>\n",
       "\t<tr><td> 5      </td><td>2075    </td><td> 56     </td><td> 49     </td><td>1970    </td><td>105     </td><td>94.93976</td><td>5.060241</td></tr>\n",
       "\t<tr><td> 6      </td><td>2877    </td><td> 82     </td><td> 58     </td><td>2737    </td><td>140     </td><td>95.13382</td><td>4.866180</td></tr>\n",
       "\t<tr><td> 7      </td><td>5509    </td><td>131     </td><td>101     </td><td>5277    </td><td>232     </td><td>95.78871</td><td>4.211291</td></tr>\n",
       "\t<tr><td> 8      </td><td>6087    </td><td>133     </td><td>120     </td><td>5834    </td><td>253     </td><td>95.84360</td><td>4.156399</td></tr>\n",
       "\t<tr><td> 9      </td><td>8141    </td><td>171     </td><td>135     </td><td>7835    </td><td>306     </td><td>96.24125</td><td>3.758752</td></tr>\n",
       "\t<tr><td>10      </td><td>9802    </td><td>213     </td><td>214     </td><td>9375    </td><td>427     </td><td>95.64375</td><td>4.356254</td></tr>\n",
       "</tbody>\n",
       "</table>\n"
      ],
      "text/latex": [
       "\\begin{tabular}{r|llllllll}\n",
       " Day & Confirmed & Deaths & Recovered & Active.Cases & Closed.Cases & percent\\_active & percent\\_closed\\\\\n",
       "\\hline\n",
       "\t  1       &  548     &  17      &  28      &  503     &  45      & 91.78832 & 8.211679\\\\\n",
       "\t  2       &  643     &  18      &  30      &  595     &  48      & 92.53499 & 7.465008\\\\\n",
       "\t  3       &  920     &  26      &  36      &  858     &  62      & 93.26087 & 6.739130\\\\\n",
       "\t  4       & 1406     &  42      &  39      & 1325     &  81      & 94.23898 & 5.761024\\\\\n",
       "\t  5       & 2075     &  56      &  49      & 1970     & 105      & 94.93976 & 5.060241\\\\\n",
       "\t  6       & 2877     &  82      &  58      & 2737     & 140      & 95.13382 & 4.866180\\\\\n",
       "\t  7       & 5509     & 131      & 101      & 5277     & 232      & 95.78871 & 4.211291\\\\\n",
       "\t  8       & 6087     & 133      & 120      & 5834     & 253      & 95.84360 & 4.156399\\\\\n",
       "\t  9       & 8141     & 171      & 135      & 7835     & 306      & 96.24125 & 3.758752\\\\\n",
       "\t 10       & 9802     & 213      & 214      & 9375     & 427      & 95.64375 & 4.356254\\\\\n",
       "\\end{tabular}\n"
      ],
      "text/markdown": [
       "\n",
       "| Day | Confirmed | Deaths | Recovered | Active.Cases | Closed.Cases | percent_active | percent_closed |\n",
       "|---|---|---|---|---|---|---|---|\n",
       "|  1       |  548     |  17      |  28      |  503     |  45      | 91.78832 | 8.211679 |\n",
       "|  2       |  643     |  18      |  30      |  595     |  48      | 92.53499 | 7.465008 |\n",
       "|  3       |  920     |  26      |  36      |  858     |  62      | 93.26087 | 6.739130 |\n",
       "|  4       | 1406     |  42      |  39      | 1325     |  81      | 94.23898 | 5.761024 |\n",
       "|  5       | 2075     |  56      |  49      | 1970     | 105      | 94.93976 | 5.060241 |\n",
       "|  6       | 2877     |  82      |  58      | 2737     | 140      | 95.13382 | 4.866180 |\n",
       "|  7       | 5509     | 131      | 101      | 5277     | 232      | 95.78871 | 4.211291 |\n",
       "|  8       | 6087     | 133      | 120      | 5834     | 253      | 95.84360 | 4.156399 |\n",
       "|  9       | 8141     | 171      | 135      | 7835     | 306      | 96.24125 | 3.758752 |\n",
       "| 10       | 9802     | 213      | 214      | 9375     | 427      | 95.64375 | 4.356254 |\n",
       "\n"
      ],
      "text/plain": [
       "   Day Confirmed Deaths Recovered Active.Cases Closed.Cases percent_active\n",
       "1   1   548       17     28        503          45          91.78832      \n",
       "2   2   643       18     30        595          48          92.53499      \n",
       "3   3   920       26     36        858          62          93.26087      \n",
       "4   4  1406       42     39       1325          81          94.23898      \n",
       "5   5  2075       56     49       1970         105          94.93976      \n",
       "6   6  2877       82     58       2737         140          95.13382      \n",
       "7   7  5509      131    101       5277         232          95.78871      \n",
       "8   8  6087      133    120       5834         253          95.84360      \n",
       "9   9  8141      171    135       7835         306          96.24125      \n",
       "10 10  9802      213    214       9375         427          95.64375      \n",
       "   percent_closed\n",
       "1  8.211679      \n",
       "2  7.465008      \n",
       "3  6.739130      \n",
       "4  5.761024      \n",
       "5  5.060241      \n",
       "6  4.866180      \n",
       "7  4.211291      \n",
       "8  4.156399      \n",
       "9  3.758752      \n",
       "10 4.356254      "
      ]
     },
     "metadata": {},
     "output_type": "display_data"
    }
   ],
   "source": [
    "region=region[,c(-1, -3)]\n",
    "head(region, 10)"
   ]
  },
  {
   "cell_type": "markdown",
   "metadata": {},
   "source": [
    "<br />* Dataset is ready"
   ]
  },
  {
   "cell_type": "markdown",
   "metadata": {},
   "source": [
    "##### Understanding the variation of timesirese-data with days"
   ]
  },
  {
   "cell_type": "code",
   "execution_count": 26,
   "metadata": {},
   "outputs": [
    {
     "name": "stderr",
     "output_type": "stream",
     "text": [
      "Loading required package: lattice\n",
      "\n",
      "Loading required package: ggplot2\n",
      "\n",
      "\n",
      "Attaching package: ‘ggplot2’\n",
      "\n",
      "\n",
      "The following object is masked from ‘package:randomForest’:\n",
      "\n",
      "    margin\n",
      "\n",
      "\n",
      "\n",
      "Attaching package: ‘kernlab’\n",
      "\n",
      "\n",
      "The following object is masked from ‘package:ggplot2’:\n",
      "\n",
      "    alpha\n",
      "\n",
      "\n",
      "Loading required package: Matrix\n",
      "\n",
      "Loading required package: foreach\n",
      "\n",
      "Loaded glmnet 2.0-16\n",
      "\n",
      "\n"
     ]
    }
   ],
   "source": [
    "# Begining the work from model creation\n",
    "# setting the theme\n",
    "theme_set(theme_classic())"
   ]
  },
  {
   "cell_type": "code",
   "execution_count": 27,
   "metadata": {},
   "outputs": [],
   "source": [
    "# Here, we can apply regression to estimate the future status of COVID-19 cases in china"
   ]
  },
  {
   "cell_type": "code",
   "execution_count": 28,
   "metadata": {},
   "outputs": [],
   "source": [
    "# Why regression and not classification?\n",
    "    # Our aime is not to identify that which Country (or say.Location) the data is coming from.\n",
    "    # Instead, we wanna calculate that what might be the upcoming figure for active cases' % in China, particularly;\n",
    "    # which is a predictive alasysis.\n",
    "\n",
    "# To know the status of total %age of ative cases,\n",
    "    # we'll need to perform regression\n",
    "\n",
    "# There are many linear as well as non-linear regression algorithms algorithms.\n",
    "# But, before we choose model, we'd have to select the column (for x-axis) along with that, we'll plot the Active Cases(%)"
   ]
  },
  {
   "cell_type": "code",
   "execution_count": 29,
   "metadata": {},
   "outputs": [],
   "source": [
    "# For this task we'll try to fit many regression models and\n",
    "    #find out that which column sould be choosen"
   ]
  },
  {
   "cell_type": "code",
   "execution_count": 30,
   "metadata": {
    "scrolled": false
   },
   "outputs": [
    {
     "name": "stdout",
     "output_type": "stream",
     "text": [
      "\n",
      "\n",
      "Linear Regression:\n",
      "------------------\n"
     ]
    },
    {
     "name": "stderr",
     "output_type": "stream",
     "text": [
      "Warning message in summary.lm(fit):\n",
      "“essentially perfect fit: summary may be unreliable”\n"
     ]
    },
    {
     "data": {
      "text/plain": [
       "\n",
       "Call:\n",
       "lm(formula = percent_active ~ ., data = region)\n",
       "\n",
       "Residuals:\n",
       "       Min         1Q     Median         3Q        Max \n",
       "-1.142e-13 -5.385e-15 -1.048e-15  7.607e-15  5.031e-14 \n",
       "\n",
       "Coefficients: (2 not defined because of singularities)\n",
       "                 Estimate Std. Error    t value Pr(>|t|)    \n",
       "(Intercept)     1.000e+02  2.119e-14  4.718e+15  < 2e-16 ***\n",
       "Day             6.411e-15  1.560e-15  4.109e+00 0.000141 ***\n",
       "Confirmed      -1.740e-18  9.716e-19 -1.791e+00 0.079073 .  \n",
       "Deaths          2.854e-17  2.979e-17  9.580e-01 0.342505    \n",
       "Recovered       1.375e-17  4.069e-18  3.379e+00 0.001385 ** \n",
       "Active.Cases           NA         NA         NA       NA    \n",
       "Closed.Cases           NA         NA         NA       NA    \n",
       "percent_closed -1.000e+00  3.169e-15 -3.155e+14  < 2e-16 ***\n",
       "---\n",
       "Signif. codes:  0 ‘***’ 0.001 ‘**’ 0.01 ‘*’ 0.05 ‘.’ 0.1 ‘ ’ 1\n",
       "\n",
       "Residual standard error: 2.061e-14 on 52 degrees of freedom\n",
       "Multiple R-squared:      1,\tAdjusted R-squared:      1 \n",
       "F-statistic: 2.615e+31 on 5 and 52 DF,  p-value: < 2.2e-16\n"
      ]
     },
     "metadata": {},
     "output_type": "display_data"
    },
    {
     "name": "stderr",
     "output_type": "stream",
     "text": [
      "Warning message in predict.lm(fit, region):\n",
      "“prediction from a rank-deficient fit may be misleading”\n"
     ]
    },
    {
     "name": "stdout",
     "output_type": "stream",
     "text": [
      "RMSE:  4.812696e-14\n",
      "\n",
      " ############################################################# \n",
      "\n",
      "k-Nearest Neighbors:\n",
      "--------------------\n"
     ]
    },
    {
     "data": {
      "text/plain": [
       "        Length Class  Mode   \n",
       "learn   2      -none- list   \n",
       "k       1      -none- numeric\n",
       "theDots 0      -none- list   "
      ]
     },
     "metadata": {},
     "output_type": "display_data"
    },
    {
     "name": "stdout",
     "output_type": "stream",
     "text": [
      "RMSE:  0.5710865\n",
      "\n",
      " ############################################################# \n",
      "\n",
      "Support Vector Machine:\n",
      "-----------------------\n"
     ]
    },
    {
     "data": {
      "text/plain": [
       "Length  Class   Mode \n",
       "     1   ksvm     S4 "
      ]
     },
     "metadata": {},
     "output_type": "display_data"
    },
    {
     "name": "stdout",
     "output_type": "stream",
     "text": [
      "RMSE:  2.50388"
     ]
    }
   ],
   "source": [
    "## REGRASSIONs\n",
    "\n",
    "# converting from Factor\n",
    "region$Day <- as.numeric(as.character(region$Day))\n",
    "\n",
    "x <- as.matrix(region[,1:6, 8])\n",
    "y <- as.matrix(region[,7])\n",
    "\n",
    "end = \"#############################################################\"\n",
    "\n",
    "cat(\"\\n\\nLinear Regression:\\n------------------\\n\")\n",
    "# fit model\n",
    "fit <- lm(percent_active~., region)\n",
    "# summarize the fit\n",
    "summary(fit)\n",
    "# make predictions\n",
    "predictions <- predict(fit, region)\n",
    "# summarize accuracy\n",
    "mse <- sqrt(mean((region$percent_active - predictions)^2))\n",
    "cat(\"RMSE: \", mse)\n",
    "\n",
    "\n",
    "\n",
    "cat(\"\\n\\n\", end, \"\\n\\nk-Nearest Neighbors:\\n--------------------\\n\")\n",
    "# load the libraries\n",
    "# fit model\n",
    "fit <- knnreg(x, y, k=3)\n",
    "# summarize the fit\n",
    "summary(fit)\n",
    "# make predictions\n",
    "predictions <- predict(fit, x)\n",
    "# summarize accuracy\n",
    "mse <- sqrt(mean((y - predictions)^2))\n",
    "cat(\"RMSE: \", mse)\n",
    "\n",
    "\n",
    "\n",
    "cat(\"\\n\\n\", end, \"\\n\\nSupport Vector Machine:\\n-----------------------\\n\")\n",
    "# fit model\n",
    "fit <- ksvm(percent_active~., region, kernel=\"rbfdot\")\n",
    "# summarize the fit\n",
    "summary(fit)\n",
    "# make predictions\n",
    "predictions <- predict(fit, region)\n",
    "# summarize accuracy\n",
    "mse <- sqrt(mean((y - predictions)^2))\n",
    "cat(\"RMSE: \", mse)\n",
    "\n",
    "\n",
    "\n",
    "\n",
    "#############################################################"
   ]
  },
  {
   "cell_type": "code",
   "execution_count": 31,
   "metadata": {},
   "outputs": [],
   "source": [
    "# From the summary of different regression algorithms above, we find that 'Day' column should be given the priority.\n",
    "    # and more preciously, Linear & KNN regression model give better estimate:\n",
    "    # eg. In the case of linear regression,\n",
    "\n",
    "    #                Estimate Std. Error     t value    Pr(>|t|)    \n",
    "    # (Intercept)     1.000e+02  1.202e-14  8.319e+15  < 2e-16 ***\n",
    "    # Day             5.221e-15  1.270e-15  4.112e+00 0.000140 ***\n",
    "\n",
    "# Also, Active Case(%) can easily be calculated if we know Closed Case(%) or data About Confirmed/Death/Recovered cases data\n",
    "    # but we actually don't know any of these things, because once we know that we'd have the future estimate as well.\n",
    "    # and won't even this whole analysis.\n",
    "\n",
    "# So, finally we know that we'll choose Active Cases(%) to plot with respect to Days"
   ]
  },
  {
   "cell_type": "code",
   "execution_count": 32,
   "metadata": {},
   "outputs": [
    {
     "data": {
      "image/png": "[encoded data removed]",
      "text/plain": [
       "plot without title"
      ]
     },
     "metadata": {
      "image/png": {
       "height": 420,
       "width": 420
      },
      "text/plain": {
       "height": 420,
       "width": 420
      }
     },
     "output_type": "display_data"
    }
   ],
   "source": [
    "# Visualizing the available data as a scatter plot to see how the Active Cases(%) in China has varied over days, since 22nd January, 2020\n",
    "\n",
    "# Day vs Active Cases(%)\n",
    "region.scatter.plot <- ggplot(region, aes(x = region$Day, y = region$percent_active)) +\n",
    "                        geom_point() +\n",
    "                        labs( x = \"Days\", y = \"Active Cases (%)\")\n",
    "              \n",
    "region.scatter.plot"
   ]
  },
  {
   "cell_type": "code",
   "execution_count": 33,
   "metadata": {},
   "outputs": [],
   "source": [
    "# Hmm..! It means that the it has decreased veri rapidly over days\n",
    "# Now we'll split our china dataset for training(80%) & testing(20%) \n",
    "\n",
    "\n",
    "# Now, we move ahead to select the model for training and further testing"
   ]
  },
  {
   "cell_type": "code",
   "execution_count": 121,
   "metadata": {},
   "outputs": [
    {
     "data": {
      "text/html": [
       "<ol class=list-inline>\n",
       "\t<li>48</li>\n",
       "\t<li>8</li>\n",
       "</ol>\n"
      ],
      "text/latex": [
       "\\begin{enumerate*}\n",
       "\\item 48\n",
       "\\item 8\n",
       "\\end{enumerate*}\n"
      ],
      "text/markdown": [
       "1. 48\n",
       "2. 8\n",
       "\n",
       "\n"
      ],
      "text/plain": [
       "[1] 48  8"
      ]
     },
     "metadata": {},
     "output_type": "display_data"
    },
    {
     "data": {
      "text/html": [
       "<ol class=list-inline>\n",
       "\t<li>10</li>\n",
       "\t<li>8</li>\n",
       "</ol>\n"
      ],
      "text/latex": [
       "\\begin{enumerate*}\n",
       "\\item 10\n",
       "\\item 8\n",
       "\\end{enumerate*}\n"
      ],
      "text/markdown": [
       "1. 10\n",
       "2. 8\n",
       "\n",
       "\n"
      ],
      "text/plain": [
       "[1] 10  8"
      ]
     },
     "metadata": {},
     "output_type": "display_data"
    }
   ],
   "source": [
    "set.seed(20) # generages same set of random sample every time\n",
    "\n",
    "training.samples <- region$Day %>%\n",
    "  createDataPartition(p = 0.8, list = FALSE)\n",
    "\n",
    "train.data  <- region[training.samples, ]\n",
    "test.data <- region[-training.samples, ]\n",
    "\n",
    "# Dimentions of the splitted datasets\n",
    "dim(train.data)\n",
    "dim(test.data)"
   ]
  },
  {
   "cell_type": "code",
   "execution_count": 35,
   "metadata": {},
   "outputs": [
    {
     "data": {
      "text/html": [
       "<table>\n",
       "<thead><tr><th scope=col>Day</th><th scope=col>Confirmed</th><th scope=col>Deaths</th><th scope=col>Recovered</th><th scope=col>Active.Cases</th><th scope=col>Closed.Cases</th><th scope=col>percent_active</th><th scope=col>percent_closed</th></tr></thead>\n",
       "<tbody>\n",
       "\t<tr><td>1       </td><td>548     </td><td>17      </td><td>28      </td><td>503     </td><td>45      </td><td>91.78832</td><td>8.211679</td></tr>\n",
       "\t<tr><td>2       </td><td>643     </td><td>18      </td><td>30      </td><td>595     </td><td>48      </td><td>92.53499</td><td>7.465008</td></tr>\n",
       "\t<tr><td>3       </td><td>920     </td><td>26      </td><td>36      </td><td>858     </td><td>62      </td><td>93.26087</td><td>6.739130</td></tr>\n",
       "</tbody>\n",
       "</table>\n"
      ],
      "text/latex": [
       "\\begin{tabular}{r|llllllll}\n",
       " Day & Confirmed & Deaths & Recovered & Active.Cases & Closed.Cases & percent\\_active & percent\\_closed\\\\\n",
       "\\hline\n",
       "\t 1        & 548      & 17       & 28       & 503      & 45       & 91.78832 & 8.211679\\\\\n",
       "\t 2        & 643      & 18       & 30       & 595      & 48       & 92.53499 & 7.465008\\\\\n",
       "\t 3        & 920      & 26       & 36       & 858      & 62       & 93.26087 & 6.739130\\\\\n",
       "\\end{tabular}\n"
      ],
      "text/markdown": [
       "\n",
       "| Day | Confirmed | Deaths | Recovered | Active.Cases | Closed.Cases | percent_active | percent_closed |\n",
       "|---|---|---|---|---|---|---|---|\n",
       "| 1        | 548      | 17       | 28       | 503      | 45       | 91.78832 | 8.211679 |\n",
       "| 2        | 643      | 18       | 30       | 595      | 48       | 92.53499 | 7.465008 |\n",
       "| 3        | 920      | 26       | 36       | 858      | 62       | 93.26087 | 6.739130 |\n",
       "\n"
      ],
      "text/plain": [
       "  Day Confirmed Deaths Recovered Active.Cases Closed.Cases percent_active\n",
       "1 1   548       17     28        503          45           91.78832      \n",
       "2 2   643       18     30        595          48           92.53499      \n",
       "3 3   920       26     36        858          62           93.26087      \n",
       "  percent_closed\n",
       "1 8.211679      \n",
       "2 7.465008      \n",
       "3 6.739130      "
      ]
     },
     "metadata": {},
     "output_type": "display_data"
    },
    {
     "data": {
      "text/html": [
       "<table>\n",
       "<thead><tr><th></th><th scope=col>Day</th><th scope=col>Confirmed</th><th scope=col>Deaths</th><th scope=col>Recovered</th><th scope=col>Active.Cases</th><th scope=col>Closed.Cases</th><th scope=col>percent_active</th><th scope=col>percent_closed</th></tr></thead>\n",
       "<tbody>\n",
       "\t<tr><th scope=row>4</th><td> 4      </td><td> 1406   </td><td> 42     </td><td>  39    </td><td> 1325   </td><td>  81    </td><td>94.23898</td><td>5.761024</td></tr>\n",
       "\t<tr><th scope=row>13</th><td>13      </td><td>19716   </td><td>425     </td><td> 615    </td><td>18676   </td><td>1040    </td><td>94.72510</td><td>5.274904</td></tr>\n",
       "\t<tr><th scope=row>15</th><td>15      </td><td>27440   </td><td>563     </td><td>1115    </td><td>25762   </td><td>1678    </td><td>93.88484</td><td>6.115160</td></tr>\n",
       "</tbody>\n",
       "</table>\n"
      ],
      "text/latex": [
       "\\begin{tabular}{r|llllllll}\n",
       "  & Day & Confirmed & Deaths & Recovered & Active.Cases & Closed.Cases & percent\\_active & percent\\_closed\\\\\n",
       "\\hline\n",
       "\t4 &  4       &  1406    &  42      &   39     &  1325    &   81     & 94.23898 & 5.761024\\\\\n",
       "\t13 & 13       & 19716    & 425      &  615     & 18676    & 1040     & 94.72510 & 5.274904\\\\\n",
       "\t15 & 15       & 27440    & 563      & 1115     & 25762    & 1678     & 93.88484 & 6.115160\\\\\n",
       "\\end{tabular}\n"
      ],
      "text/markdown": [
       "\n",
       "| <!--/--> | Day | Confirmed | Deaths | Recovered | Active.Cases | Closed.Cases | percent_active | percent_closed |\n",
       "|---|---|---|---|---|---|---|---|---|\n",
       "| 4 |  4       |  1406    |  42      |   39     |  1325    |   81     | 94.23898 | 5.761024 |\n",
       "| 13 | 13       | 19716    | 425      |  615     | 18676    | 1040     | 94.72510 | 5.274904 |\n",
       "| 15 | 15       | 27440    | 563      | 1115     | 25762    | 1678     | 93.88484 | 6.115160 |\n",
       "\n"
      ],
      "text/plain": [
       "   Day Confirmed Deaths Recovered Active.Cases Closed.Cases percent_active\n",
       "4   4   1406      42      39       1325          81         94.23898      \n",
       "13 13  19716     425     615      18676        1040         94.72510      \n",
       "15 15  27440     563    1115      25762        1678         93.88484      \n",
       "   percent_closed\n",
       "4  5.761024      \n",
       "13 5.274904      \n",
       "15 6.115160      "
      ]
     },
     "metadata": {},
     "output_type": "display_data"
    }
   ],
   "source": [
    "head(train.data, 3)\n",
    "head(test.data, 3)"
   ]
  },
  {
   "cell_type": "markdown",
   "metadata": {},
   "source": [
    "<br />"
   ]
  },
  {
   "cell_type": "code",
   "execution_count": 36,
   "metadata": {},
   "outputs": [],
   "source": [
    "# Now we will compare few Linear and non-linear regression algorithms\n",
    "# it will help us to choose right algorithm to train our model, so that we could get optimal and more accurate results/estimates\n",
    "\n"
   ]
  },
  {
   "cell_type": "markdown",
   "metadata": {},
   "source": [
    "<br /> \n",
    "## Non-Linear Regression"
   ]
  },
  {
   "cell_type": "markdown",
   "metadata": {},
   "source": [
    "### 1. SVMK Regression"
   ]
  },
  {
   "cell_type": "code",
   "execution_count": 85,
   "metadata": {},
   "outputs": [],
   "source": [
    "# model\n",
    "fit.svmk <- ksvm(percent_active~Day, train.data, kernel=\"rbfdot\")\n",
    "#summary(fit.svmk)"
   ]
  },
  {
   "cell_type": "code",
   "execution_count": 86,
   "metadata": {},
   "outputs": [],
   "source": [
    "predictions <- fit.svmk %>% predict(train.data)"
   ]
  },
  {
   "cell_type": "code",
   "execution_count": 87,
   "metadata": {},
   "outputs": [],
   "source": [
    "# Model performance\n",
    "svm.predictions <- data.frame(\n",
    "  RMSE = RMSE(predictions, train.data$Day),\n",
    "  R2 = R2(predictions, train.data$Day)\n",
    ")"
   ]
  },
  {
   "cell_type": "code",
   "execution_count": 88,
   "metadata": {},
   "outputs": [
    {
     "data": {
      "text/html": [
       "<table>\n",
       "<thead><tr><th></th><th scope=col>Day</th><th scope=col>percent_active</th><th scope=col>Pridicted_percent_active</th></tr></thead>\n",
       "<tbody>\n",
       "\t<tr><th scope=row>55</th><td>55       </td><td>12.224649</td><td>13.85456 </td></tr>\n",
       "\t<tr><th scope=row>56</th><td>56       </td><td>11.140171</td><td>12.44972 </td></tr>\n",
       "\t<tr><th scope=row>57</th><td>57       </td><td> 9.995931</td><td>11.81435 </td></tr>\n",
       "\t<tr><th scope=row>58</th><td>58       </td><td> 9.084860</td><td>12.26067 </td></tr>\n",
       "\t<tr><th scope=row>13</th><td>59       </td><td> 8.285436</td><td>14.00421 </td></tr>\n",
       "</tbody>\n",
       "</table>\n"
      ],
      "text/latex": [
       "\\begin{tabular}{r|lll}\n",
       "  & Day & percent\\_active & Pridicted\\_percent\\_active\\\\\n",
       "\\hline\n",
       "\t55 & 55        & 12.224649 & 13.85456 \\\\\n",
       "\t56 & 56        & 11.140171 & 12.44972 \\\\\n",
       "\t57 & 57        &  9.995931 & 11.81435 \\\\\n",
       "\t58 & 58        &  9.084860 & 12.26067 \\\\\n",
       "\t13 & 59        &  8.285436 & 14.00421 \\\\\n",
       "\\end{tabular}\n"
      ],
      "text/markdown": [
       "\n",
       "| <!--/--> | Day | percent_active | Pridicted_percent_active |\n",
       "|---|---|---|---|\n",
       "| 55 | 55        | 12.224649 | 13.85456  |\n",
       "| 56 | 56        | 11.140171 | 12.44972  |\n",
       "| 57 | 57        |  9.995931 | 11.81435  |\n",
       "| 58 | 58        |  9.084860 | 12.26067  |\n",
       "| 13 | 59        |  8.285436 | 14.00421  |\n",
       "\n"
      ],
      "text/plain": [
       "   Day percent_active Pridicted_percent_active\n",
       "55 55  12.224649      13.85456                \n",
       "56 56  11.140171      12.44972                \n",
       "57 57   9.995931      11.81435                \n",
       "58 58   9.084860      12.26067                \n",
       "13 59   8.285436      14.00421                "
      ]
     },
     "metadata": {},
     "output_type": "display_data"
    },
    {
     "data": {
      "text/html": [
       "<table>\n",
       "<thead><tr><th></th><th scope=col>Day</th><th scope=col>percent_active</th><th scope=col>Pridicted_percent_active</th></tr></thead>\n",
       "<tbody>\n",
       "\t<tr><th scope=row>39</th><td>39      </td><td>46.87610</td><td>50.12958</td></tr>\n",
       "\t<tr><th scope=row>41</th><td>41      </td><td>40.39133</td><td>43.48440</td></tr>\n",
       "\t<tr><th scope=row>47</th><td>47      </td><td>25.15992</td><td>28.17537</td></tr>\n",
       "\t<tr><th scope=row>50</th><td>50      </td><td>19.91572</td><td>23.25383</td></tr>\n",
       "\t<tr><th scope=row>54</th><td>54      </td><td>13.31185</td><td>15.69915</td></tr>\n",
       "</tbody>\n",
       "</table>\n"
      ],
      "text/latex": [
       "\\begin{tabular}{r|lll}\n",
       "  & Day & percent\\_active & Pridicted\\_percent\\_active\\\\\n",
       "\\hline\n",
       "\t39 & 39       & 46.87610 & 50.12958\\\\\n",
       "\t41 & 41       & 40.39133 & 43.48440\\\\\n",
       "\t47 & 47       & 25.15992 & 28.17537\\\\\n",
       "\t50 & 50       & 19.91572 & 23.25383\\\\\n",
       "\t54 & 54       & 13.31185 & 15.69915\\\\\n",
       "\\end{tabular}\n"
      ],
      "text/markdown": [
       "\n",
       "| <!--/--> | Day | percent_active | Pridicted_percent_active |\n",
       "|---|---|---|---|\n",
       "| 39 | 39       | 46.87610 | 50.12958 |\n",
       "| 41 | 41       | 40.39133 | 43.48440 |\n",
       "| 47 | 47       | 25.15992 | 28.17537 |\n",
       "| 50 | 50       | 19.91572 | 23.25383 |\n",
       "| 54 | 54       | 13.31185 | 15.69915 |\n",
       "\n"
      ],
      "text/plain": [
       "   Day percent_active Pridicted_percent_active\n",
       "39 39  46.87610       50.12958                \n",
       "41 41  40.39133       43.48440                \n",
       "47 47  25.15992       28.17537                \n",
       "50 50  19.91572       23.25383                \n",
       "54 54  13.31185       15.69915                "
      ]
     },
     "metadata": {},
     "output_type": "display_data"
    }
   ],
   "source": [
    "svmk.trained = cbind( # Prediction for training data\n",
    "            train.data[,c(\"Day\", \"percent_active\")],\n",
    "            Pridicted_percent_active = predict(fit.svmk, train.data)\n",
    "          )\n",
    "\n",
    "svmk.tested = cbind(  # Prediction for tested data\n",
    "            test.data[,c(\"Day\", \"percent_active\")],\n",
    "            Pridicted_percent_active = predict(fit.svmk, test.data)\n",
    "         )\n",
    "\n",
    "\n",
    "tail(svmk.trained, 5)\n",
    "tail(svmk.tested, 5)"
   ]
  },
  {
   "cell_type": "code",
   "execution_count": 89,
   "metadata": {},
   "outputs": [],
   "source": [
    "# Visualizations\n",
    "svmk.trainer <- ggplot(train.data, aes(Day, percent_active) ) +\n",
    "              geom_point() +\n",
    "              geom_smooth(data=svmk.trained, method=\"loess\", size=0) +\n",
    "              geom_line(data = svmk.trained, aes(Day, Pridicted_percent_active), color=\"#3366fe\", size=1) +   # polynomial function\n",
    "  \n",
    "              # decoration\n",
    "              labs( x = \"Days\", y = \"Active Cases (%)\", title = paste(\"\\nTraining plot\", rName, sep = \" - \") ) +\n",
    "              theme( plot.title = element_text(size = 20, face = \"bold\")) \n",
    "\n",
    "svmk.tester <- ggplot(test.data, aes(Day, percent_active) ) +\n",
    "              geom_point() +\n",
    "              geom_smooth(data=svmk.tested, method=\"loess\", size=0) +\n",
    "              geom_line(data = svmk.tested, aes(Day, Pridicted_percent_active), color=\"#3366fe\", size=1) +   # polynomial function\n",
    "  \n",
    "              # decoration\n",
    "              labs( x = \"Days\", y = \"Active Cases (%)\", title = paste(\"\\nTesting plot\", rName, sep = \" - \") ) +\n",
    "              theme( plot.title = element_text(size = 20, face = \"bold\")) \n",
    "\n"
   ]
  },
  {
   "cell_type": "code",
   "execution_count": 90,
   "metadata": {},
   "outputs": [
    {
     "data": {
      "image/png": "[encoded data removed]",
      "text/plain": [
       "plot without title"
      ]
     },
     "metadata": {
      "image/png": {
       "height": 420,
       "width": 420
      },
      "text/plain": {
       "height": 420,
       "width": 420
      }
     },
     "output_type": "display_data"
    },
    {
     "data": {
      "image/png": "[encoded data removed]",
      "text/plain": [
       "plot without title"
      ]
     },
     "metadata": {
      "image/png": {
       "height": 420,
       "width": 420
      },
      "text/plain": {
       "height": 420,
       "width": 420
      }
     },
     "output_type": "display_data"
    }
   ],
   "source": [
    "#  Plotting\n",
    "svmk.trainer\n",
    "svmk.tester"
   ]
  },
  {
   "cell_type": "markdown",
   "metadata": {},
   "source": [
    "<br />"
   ]
  },
  {
   "cell_type": "markdown",
   "metadata": {},
   "source": [
    "<br /> \n",
    "### 2. KNN Regression"
   ]
  },
  {
   "cell_type": "code",
   "execution_count": 77,
   "metadata": {},
   "outputs": [],
   "source": [
    "x <- as.matrix(train.data[,1])\n",
    "y <- as.matrix(train.data[,7])\n",
    "\n",
    "# fit model\n",
    "fit.knn <- knnreg(x, y, k=3)\n",
    "#summary(fit.knn)"
   ]
  },
  {
   "cell_type": "code",
   "execution_count": 78,
   "metadata": {},
   "outputs": [],
   "source": [
    "predictions <- fit.knn %>% predict(x)"
   ]
  },
  {
   "cell_type": "code",
   "execution_count": 79,
   "metadata": {},
   "outputs": [],
   "source": [
    "knn.predictions <- data.frame(\n",
    "  RMSE = RMSE(predictions, x),\n",
    "  R2 = R2(predictions, x)\n",
    ")"
   ]
  },
  {
   "cell_type": "code",
   "execution_count": 80,
   "metadata": {},
   "outputs": [
    {
     "data": {
      "text/html": [
       "<table>\n",
       "<thead><tr><th></th><th scope=col>Day</th><th scope=col>percent_active</th><th scope=col>Pridicted_percent_active</th></tr></thead>\n",
       "<tbody>\n",
       "\t<tr><th scope=row>55</th><td>55       </td><td>12.224649</td><td>12.083226</td></tr>\n",
       "\t<tr><th scope=row>56</th><td>56       </td><td>11.140171</td><td>11.120251</td></tr>\n",
       "\t<tr><th scope=row>57</th><td>57       </td><td> 9.995931</td><td>10.073654</td></tr>\n",
       "\t<tr><th scope=row>58</th><td>58       </td><td> 9.084860</td><td> 9.122076</td></tr>\n",
       "\t<tr><th scope=row>13</th><td>59       </td><td> 8.285436</td><td> 9.122076</td></tr>\n",
       "</tbody>\n",
       "</table>\n"
      ],
      "text/latex": [
       "\\begin{tabular}{r|lll}\n",
       "  & Day & percent\\_active & Pridicted\\_percent\\_active\\\\\n",
       "\\hline\n",
       "\t55 & 55        & 12.224649 & 12.083226\\\\\n",
       "\t56 & 56        & 11.140171 & 11.120251\\\\\n",
       "\t57 & 57        &  9.995931 & 10.073654\\\\\n",
       "\t58 & 58        &  9.084860 &  9.122076\\\\\n",
       "\t13 & 59        &  8.285436 &  9.122076\\\\\n",
       "\\end{tabular}\n"
      ],
      "text/markdown": [
       "\n",
       "| <!--/--> | Day | percent_active | Pridicted_percent_active |\n",
       "|---|---|---|---|\n",
       "| 55 | 55        | 12.224649 | 12.083226 |\n",
       "| 56 | 56        | 11.140171 | 11.120251 |\n",
       "| 57 | 57        |  9.995931 | 10.073654 |\n",
       "| 58 | 58        |  9.084860 |  9.122076 |\n",
       "| 13 | 59        |  8.285436 |  9.122076 |\n",
       "\n"
      ],
      "text/plain": [
       "   Day percent_active Pridicted_percent_active\n",
       "55 55  12.224649      12.083226               \n",
       "56 56  11.140171      11.120251               \n",
       "57 57   9.995931      10.073654               \n",
       "58 58   9.084860       9.122076               \n",
       "13 59   8.285436       9.122076               "
      ]
     },
     "metadata": {},
     "output_type": "display_data"
    },
    {
     "data": {
      "text/html": [
       "<table>\n",
       "<thead><tr><th></th><th scope=col>Day</th><th scope=col>percent_active</th><th scope=col>Pridicted_percent_active</th></tr></thead>\n",
       "<tbody>\n",
       "\t<tr><th scope=row>39</th><td>39      </td><td>46.87610</td><td>49.56913</td></tr>\n",
       "\t<tr><th scope=row>41</th><td>41      </td><td>40.39133</td><td>38.31875</td></tr>\n",
       "\t<tr><th scope=row>47</th><td>47      </td><td>25.15992</td><td>25.48533</td></tr>\n",
       "\t<tr><th scope=row>50</th><td>50      </td><td>19.91572</td><td>20.06390</td></tr>\n",
       "\t<tr><th scope=row>54</th><td>54      </td><td>13.31185</td><td>13.77505</td></tr>\n",
       "</tbody>\n",
       "</table>\n"
      ],
      "text/latex": [
       "\\begin{tabular}{r|lll}\n",
       "  & Day & percent\\_active & Pridicted\\_percent\\_active\\\\\n",
       "\\hline\n",
       "\t39 & 39       & 46.87610 & 49.56913\\\\\n",
       "\t41 & 41       & 40.39133 & 38.31875\\\\\n",
       "\t47 & 47       & 25.15992 & 25.48533\\\\\n",
       "\t50 & 50       & 19.91572 & 20.06390\\\\\n",
       "\t54 & 54       & 13.31185 & 13.77505\\\\\n",
       "\\end{tabular}\n"
      ],
      "text/markdown": [
       "\n",
       "| <!--/--> | Day | percent_active | Pridicted_percent_active |\n",
       "|---|---|---|---|\n",
       "| 39 | 39       | 46.87610 | 49.56913 |\n",
       "| 41 | 41       | 40.39133 | 38.31875 |\n",
       "| 47 | 47       | 25.15992 | 25.48533 |\n",
       "| 50 | 50       | 19.91572 | 20.06390 |\n",
       "| 54 | 54       | 13.31185 | 13.77505 |\n",
       "\n"
      ],
      "text/plain": [
       "   Day percent_active Pridicted_percent_active\n",
       "39 39  46.87610       49.56913                \n",
       "41 41  40.39133       38.31875                \n",
       "47 47  25.15992       25.48533                \n",
       "50 50  19.91572       20.06390                \n",
       "54 54  13.31185       13.77505                "
      ]
     },
     "metadata": {},
     "output_type": "display_data"
    }
   ],
   "source": [
    "knn.trained = cbind( # Prediction for training data\n",
    "            train.data[,c(\"Day\", \"percent_active\")],\n",
    "            Pridicted_percent_active = predict(fit.knn, as.matrix(train.data[,1]))\n",
    "          )\n",
    "\n",
    "knn.tested = cbind(  # Prediction for tested data\n",
    "            test.data[,c(\"Day\", \"percent_active\")],\n",
    "            Pridicted_percent_active = predict(fit.knn, as.matrix(test.data[,1]))\n",
    "         )\n",
    "\n",
    "\n",
    "tail(knn.trained, 5)\n",
    "tail(knn.tested, 5)"
   ]
  },
  {
   "cell_type": "code",
   "execution_count": 83,
   "metadata": {},
   "outputs": [],
   "source": [
    "# Visualizations\n",
    "knn.trainer <- ggplot(train.data, aes(Day, percent_active) ) +\n",
    "              geom_point() +\n",
    "              geom_smooth(data=knn.tested, method=\"loess\", size=0) +\n",
    "              geom_line(data = knn.trained, aes(Day, Pridicted_percent_active), color=\"#3366fe\", size=1) +   # polynomial function\n",
    "  \n",
    "              # decoration\n",
    "              labs( x = \"Days\", y = \"Active Cases (%)\", title = paste(\"\\nTraining plot\", rName, sep = \" - \") ) +\n",
    "              theme( plot.title = element_text(size = 20, face = \"bold\")) \n",
    "\n",
    "knn.tester <- ggplot(test.data, aes(Day, percent_active) ) +\n",
    "              geom_point() +\n",
    "              geom_smooth(data=knn.tested, method=\"loess\", size=0) +\n",
    "              geom_line(data = knn.tested, aes(Day, Pridicted_percent_active), color=\"#3366fe\", size=1) +   # polynomial function\n",
    "  \n",
    "              # decoration\n",
    "              labs( x = \"Days\", y = \"Active Cases (%)\", title = paste(\"\\nTesting plot\", rName, sep = \" - \") ) +\n",
    "              theme( plot.title = element_text(size = 20, face = \"bold\")) \n",
    "\n"
   ]
  },
  {
   "cell_type": "code",
   "execution_count": 84,
   "metadata": {},
   "outputs": [
    {
     "data": {
      "image/png": "[encoded data removed]",
      "text/plain": [
       "plot without title"
      ]
     },
     "metadata": {
      "image/png": {
       "height": 420,
       "width": 420
      },
      "text/plain": {
       "height": 420,
       "width": 420
      }
     },
     "output_type": "display_data"
    },
    {
     "data": {
      "image/png": "[encoded data removed]",
      "text/plain": [
       "plot without title"
      ]
     },
     "metadata": {
      "image/png": {
       "height": 420,
       "width": 420
      },
      "text/plain": {
       "height": 420,
       "width": 420
      }
     },
     "output_type": "display_data"
    }
   ],
   "source": [
    "# Plotting\n",
    "knn.trainer\n",
    "knn.tester"
   ]
  },
  {
   "cell_type": "markdown",
   "metadata": {},
   "source": [
    "<br />"
   ]
  },
  {
   "cell_type": "markdown",
   "metadata": {},
   "source": [
    "## Linear Regression"
   ]
  },
  {
   "cell_type": "markdown",
   "metadata": {},
   "source": [
    "### 1. Linear Regression"
   ]
  },
  {
   "cell_type": "code",
   "execution_count": 45,
   "metadata": {},
   "outputs": [],
   "source": [
    "# building linear model\n",
    "fit.lm = lm(Day ~ percent_active, data = train.data)\n",
    "#summary(fit.lm)"
   ]
  },
  {
   "cell_type": "code",
   "execution_count": 46,
   "metadata": {},
   "outputs": [],
   "source": [
    "# Predicting\n",
    "predictions <- fit.lm %>% predict(train.data)"
   ]
  },
  {
   "cell_type": "code",
   "execution_count": 47,
   "metadata": {},
   "outputs": [],
   "source": [
    "# Model performance\n",
    "lm.predictions <- data.frame(\n",
    "  RMSE = RMSE(predictions, train.data$Day),\n",
    "  R2 = R2(predictions, train.data$Day)\n",
    ")"
   ]
  },
  {
   "cell_type": "code",
   "execution_count": 48,
   "metadata": {},
   "outputs": [
    {
     "data": {
      "text/html": [
       "<table>\n",
       "<thead><tr><th></th><th scope=col>Day</th><th scope=col>percent_active</th><th scope=col>Pridicted_percent_active</th></tr></thead>\n",
       "<tbody>\n",
       "\t<tr><th scope=row>53</th><td>53       </td><td>14.972153</td><td>54.83990 </td></tr>\n",
       "\t<tr><th scope=row>55</th><td>55       </td><td>12.224649</td><td>56.27379 </td></tr>\n",
       "\t<tr><th scope=row>56</th><td>56       </td><td>11.140171</td><td>56.83977 </td></tr>\n",
       "\t<tr><th scope=row>57</th><td>57       </td><td> 9.995931</td><td>57.43693 </td></tr>\n",
       "\t<tr><th scope=row>58</th><td>58       </td><td> 9.084860</td><td>57.91241 </td></tr>\n",
       "</tbody>\n",
       "</table>\n"
      ],
      "text/latex": [
       "\\begin{tabular}{r|lll}\n",
       "  & Day & percent\\_active & Pridicted\\_percent\\_active\\\\\n",
       "\\hline\n",
       "\t53 & 53        & 14.972153 & 54.83990 \\\\\n",
       "\t55 & 55        & 12.224649 & 56.27379 \\\\\n",
       "\t56 & 56        & 11.140171 & 56.83977 \\\\\n",
       "\t57 & 57        &  9.995931 & 57.43693 \\\\\n",
       "\t58 & 58        &  9.084860 & 57.91241 \\\\\n",
       "\\end{tabular}\n"
      ],
      "text/markdown": [
       "\n",
       "| <!--/--> | Day | percent_active | Pridicted_percent_active |\n",
       "|---|---|---|---|\n",
       "| 53 | 53        | 14.972153 | 54.83990  |\n",
       "| 55 | 55        | 12.224649 | 56.27379  |\n",
       "| 56 | 56        | 11.140171 | 56.83977  |\n",
       "| 57 | 57        |  9.995931 | 57.43693  |\n",
       "| 58 | 58        |  9.084860 | 57.91241  |\n",
       "\n"
      ],
      "text/plain": [
       "   Day percent_active Pridicted_percent_active\n",
       "53 53  14.972153      54.83990                \n",
       "55 55  12.224649      56.27379                \n",
       "56 56  11.140171      56.83977                \n",
       "57 57   9.995931      57.43693                \n",
       "58 58   9.084860      57.91241                "
      ]
     },
     "metadata": {},
     "output_type": "display_data"
    },
    {
     "data": {
      "text/html": [
       "<table>\n",
       "<thead><tr><th></th><th scope=col>Day</th><th scope=col>percent_active</th><th scope=col>Pridicted_percent_active</th></tr></thead>\n",
       "<tbody>\n",
       "\t<tr><th scope=row>39</th><td>39      </td><td>46.87610</td><td>38.18960</td></tr>\n",
       "\t<tr><th scope=row>41</th><td>41      </td><td>40.39133</td><td>41.57392</td></tr>\n",
       "\t<tr><th scope=row>47</th><td>47      </td><td>25.15992</td><td>49.52302</td></tr>\n",
       "\t<tr><th scope=row>50</th><td>50      </td><td>19.91572</td><td>52.25991</td></tr>\n",
       "\t<tr><th scope=row>54</th><td>54      </td><td>13.31185</td><td>55.70639</td></tr>\n",
       "</tbody>\n",
       "</table>\n"
      ],
      "text/latex": [
       "\\begin{tabular}{r|lll}\n",
       "  & Day & percent\\_active & Pridicted\\_percent\\_active\\\\\n",
       "\\hline\n",
       "\t39 & 39       & 46.87610 & 38.18960\\\\\n",
       "\t41 & 41       & 40.39133 & 41.57392\\\\\n",
       "\t47 & 47       & 25.15992 & 49.52302\\\\\n",
       "\t50 & 50       & 19.91572 & 52.25991\\\\\n",
       "\t54 & 54       & 13.31185 & 55.70639\\\\\n",
       "\\end{tabular}\n"
      ],
      "text/markdown": [
       "\n",
       "| <!--/--> | Day | percent_active | Pridicted_percent_active |\n",
       "|---|---|---|---|\n",
       "| 39 | 39       | 46.87610 | 38.18960 |\n",
       "| 41 | 41       | 40.39133 | 41.57392 |\n",
       "| 47 | 47       | 25.15992 | 49.52302 |\n",
       "| 50 | 50       | 19.91572 | 52.25991 |\n",
       "| 54 | 54       | 13.31185 | 55.70639 |\n",
       "\n"
      ],
      "text/plain": [
       "   Day percent_active Pridicted_percent_active\n",
       "39 39  46.87610       38.18960                \n",
       "41 41  40.39133       41.57392                \n",
       "47 47  25.15992       49.52302                \n",
       "50 50  19.91572       52.25991                \n",
       "54 54  13.31185       55.70639                "
      ]
     },
     "metadata": {},
     "output_type": "display_data"
    }
   ],
   "source": [
    "lm.trained = cbind( # Prediction for training data\n",
    "            train.data[,c(\"Day\", \"percent_active\")],\n",
    "            Pridicted_percent_active = predict(fit.lm, train.data)\n",
    "          )\n",
    "\n",
    "lm.tested = cbind(  # Prediction for tested data\n",
    "            test.data[,c(\"Day\", \"percent_active\")],\n",
    "            Pridicted_percent_active = predict(fit.lm, test.data)\n",
    "         )\n",
    "\n",
    "\n",
    "tail(lm.trained, 5)\n",
    "tail(lm.tested, 5)"
   ]
  },
  {
   "cell_type": "code",
   "execution_count": 49,
   "metadata": {},
   "outputs": [],
   "source": [
    "# Visualizations\n",
    "lm.trainer <- ggplot(train.data, aes(Day, percent_active) ) +\n",
    "              geom_point() +\n",
    "              stat_smooth(method = lm, formula = y ~ x) +   # linear function\n",
    "  \n",
    "              # decoration\n",
    "              labs( x = \"Days\", y = \"Active Cases (%)\", title = paste(\"\\nTraining plot\", rName, sep = \" - \") ) +\n",
    "              theme( plot.title = element_text(size = 20, face = \"bold\")) \n",
    "\n",
    "lm.tester <- ggplot(test.data, aes(Day, percent_active) ) +\n",
    "              geom_point() +\n",
    "              stat_smooth(method = lm, formula = y ~ x) +   # linear function\n",
    "  \n",
    "              # decoration\n",
    "              labs( x = \"Days\", y = \"Active Cases (%)\", title = paste(\"\\nTesting plot\", rName, sep = \" - \") ) +\n",
    "              theme( plot.title = element_text(size = 20, face = \"bold\")) "
   ]
  },
  {
   "cell_type": "code",
   "execution_count": 50,
   "metadata": {},
   "outputs": [
    {
     "data": {
      "image/png": "[encoded data removed]",
      "text/plain": [
       "plot without title"
      ]
     },
     "metadata": {
      "image/png": {
       "height": 420,
       "width": 420
      },
      "text/plain": {
       "height": 420,
       "width": 420
      }
     },
     "output_type": "display_data"
    },
    {
     "data": {
      "image/png": "[encoded data removed]",
      "text/plain": [
       "plot without title"
      ]
     },
     "metadata": {
      "image/png": {
       "height": 420,
       "width": 420
      },
      "text/plain": {
       "height": 420,
       "width": 420
      }
     },
     "output_type": "display_data"
    }
   ],
   "source": [
    "# Plotting\n",
    "lm.trainer\n",
    "lm.tester"
   ]
  },
  {
   "cell_type": "markdown",
   "metadata": {},
   "source": [
    "<br />"
   ]
  },
  {
   "cell_type": "code",
   "execution_count": 51,
   "metadata": {},
   "outputs": [],
   "source": [
    "# There are many fluctuations in the data, as we can see in the graph.\n",
    "# So, we decide to use 'Polynomial Regression', as well"
   ]
  },
  {
   "cell_type": "markdown",
   "metadata": {},
   "source": [
    "### 2. Polynomial regression"
   ]
  },
  {
   "cell_type": "code",
   "execution_count": 122,
   "metadata": {
    "scrolled": false
   },
   "outputs": [
    {
     "data": {
      "text/html": [
       "<table>\n",
       "<thead><tr><th scope=col>Degree</th><th scope=col>RMSE</th><th scope=col>RSE</th><th scope=col>R2</th></tr></thead>\n",
       "<tbody>\n",
       "\t<tr><td> 1       </td><td>9.1213834</td><td>9.2199958</td><td>0.9131809</td></tr>\n",
       "\t<tr><td> 2       </td><td>4.6663640</td><td>4.7689337</td><td>0.9772778</td></tr>\n",
       "\t<tr><td> 3       </td><td>2.2460160</td><td>2.3213223</td><td>0.9947360</td></tr>\n",
       "\t<tr><td> 4       </td><td>1.2378209</td><td>1.2941140</td><td>0.9984011</td></tr>\n",
       "\t<tr><td> 5       </td><td>1.2360031</td><td>1.3075064</td><td>0.9984058</td></tr>\n",
       "\t<tr><td> 6       </td><td>0.7801015</td><td>0.8352339</td><td>0.9993650</td></tr>\n",
       "\t<tr><td> 7       </td><td>0.7221723</td><td>0.7828161</td><td>0.9994558</td></tr>\n",
       "\t<tr><td> 8       </td><td>0.6092638</td><td>0.6688397</td><td>0.9996126</td></tr>\n",
       "\t<tr><td> 9       </td><td>0.5836966</td><td>0.6491489</td><td>0.9996445</td></tr>\n",
       "\t<tr><td>10       </td><td>0.5823322</td><td>0.6563249</td><td>0.9996461</td></tr>\n",
       "\t<tr><td>11       </td><td>0.5819927</td><td>0.6649901</td><td>0.9996465</td></tr>\n",
       "\t<tr><td>12       </td><td>0.5591038</td><td>0.6478991</td><td>0.9996738</td></tr>\n",
       "\t<tr><td>13       </td><td>0.5591038</td><td>0.6573579</td><td>0.9996738</td></tr>\n",
       "\t<tr><td>14       </td><td>0.5386723</td><td>0.6428603</td><td>0.9996972</td></tr>\n",
       "\t<tr><td>15       </td><td>0.5386723</td><td>0.6528277</td><td>0.9996972</td></tr>\n",
       "\t<tr><td>16       </td><td>0.5051696</td><td>0.6220214</td><td>0.9997337</td></tr>\n",
       "\t<tr><td>17       </td><td>0.5051696</td><td>0.6323034</td><td>0.9997337</td></tr>\n",
       "\t<tr><td>18       </td><td>0.4912791</td><td>0.6254293</td><td>0.9997481</td></tr>\n",
       "\t<tr><td>19       </td><td>0.4912791</td><td>0.6364997</td><td>0.9997481</td></tr>\n",
       "\t<tr><td>20       </td><td>0.4912791</td><td>0.6481795</td><td>0.9997481</td></tr>\n",
       "</tbody>\n",
       "</table>\n"
      ],
      "text/latex": [
       "\\begin{tabular}{r|llll}\n",
       " Degree & RMSE & RSE & R2\\\\\n",
       "\\hline\n",
       "\t  1        & 9.1213834 & 9.2199958 & 0.9131809\\\\\n",
       "\t  2        & 4.6663640 & 4.7689337 & 0.9772778\\\\\n",
       "\t  3        & 2.2460160 & 2.3213223 & 0.9947360\\\\\n",
       "\t  4        & 1.2378209 & 1.2941140 & 0.9984011\\\\\n",
       "\t  5        & 1.2360031 & 1.3075064 & 0.9984058\\\\\n",
       "\t  6        & 0.7801015 & 0.8352339 & 0.9993650\\\\\n",
       "\t  7        & 0.7221723 & 0.7828161 & 0.9994558\\\\\n",
       "\t  8        & 0.6092638 & 0.6688397 & 0.9996126\\\\\n",
       "\t  9        & 0.5836966 & 0.6491489 & 0.9996445\\\\\n",
       "\t 10        & 0.5823322 & 0.6563249 & 0.9996461\\\\\n",
       "\t 11        & 0.5819927 & 0.6649901 & 0.9996465\\\\\n",
       "\t 12        & 0.5591038 & 0.6478991 & 0.9996738\\\\\n",
       "\t 13        & 0.5591038 & 0.6573579 & 0.9996738\\\\\n",
       "\t 14        & 0.5386723 & 0.6428603 & 0.9996972\\\\\n",
       "\t 15        & 0.5386723 & 0.6528277 & 0.9996972\\\\\n",
       "\t 16        & 0.5051696 & 0.6220214 & 0.9997337\\\\\n",
       "\t 17        & 0.5051696 & 0.6323034 & 0.9997337\\\\\n",
       "\t 18        & 0.4912791 & 0.6254293 & 0.9997481\\\\\n",
       "\t 19        & 0.4912791 & 0.6364997 & 0.9997481\\\\\n",
       "\t 20        & 0.4912791 & 0.6481795 & 0.9997481\\\\\n",
       "\\end{tabular}\n"
      ],
      "text/markdown": [
       "\n",
       "| Degree | RMSE | RSE | R2 |\n",
       "|---|---|---|---|\n",
       "|  1        | 9.1213834 | 9.2199958 | 0.9131809 |\n",
       "|  2        | 4.6663640 | 4.7689337 | 0.9772778 |\n",
       "|  3        | 2.2460160 | 2.3213223 | 0.9947360 |\n",
       "|  4        | 1.2378209 | 1.2941140 | 0.9984011 |\n",
       "|  5        | 1.2360031 | 1.3075064 | 0.9984058 |\n",
       "|  6        | 0.7801015 | 0.8352339 | 0.9993650 |\n",
       "|  7        | 0.7221723 | 0.7828161 | 0.9994558 |\n",
       "|  8        | 0.6092638 | 0.6688397 | 0.9996126 |\n",
       "|  9        | 0.5836966 | 0.6491489 | 0.9996445 |\n",
       "| 10        | 0.5823322 | 0.6563249 | 0.9996461 |\n",
       "| 11        | 0.5819927 | 0.6649901 | 0.9996465 |\n",
       "| 12        | 0.5591038 | 0.6478991 | 0.9996738 |\n",
       "| 13        | 0.5591038 | 0.6573579 | 0.9996738 |\n",
       "| 14        | 0.5386723 | 0.6428603 | 0.9996972 |\n",
       "| 15        | 0.5386723 | 0.6528277 | 0.9996972 |\n",
       "| 16        | 0.5051696 | 0.6220214 | 0.9997337 |\n",
       "| 17        | 0.5051696 | 0.6323034 | 0.9997337 |\n",
       "| 18        | 0.4912791 | 0.6254293 | 0.9997481 |\n",
       "| 19        | 0.4912791 | 0.6364997 | 0.9997481 |\n",
       "| 20        | 0.4912791 | 0.6481795 | 0.9997481 |\n",
       "\n"
      ],
      "text/plain": [
       "   Degree RMSE      RSE       R2       \n",
       "1   1     9.1213834 9.2199958 0.9131809\n",
       "2   2     4.6663640 4.7689337 0.9772778\n",
       "3   3     2.2460160 2.3213223 0.9947360\n",
       "4   4     1.2378209 1.2941140 0.9984011\n",
       "5   5     1.2360031 1.3075064 0.9984058\n",
       "6   6     0.7801015 0.8352339 0.9993650\n",
       "7   7     0.7221723 0.7828161 0.9994558\n",
       "8   8     0.6092638 0.6688397 0.9996126\n",
       "9   9     0.5836966 0.6491489 0.9996445\n",
       "10 10     0.5823322 0.6563249 0.9996461\n",
       "11 11     0.5819927 0.6649901 0.9996465\n",
       "12 12     0.5591038 0.6478991 0.9996738\n",
       "13 13     0.5591038 0.6573579 0.9996738\n",
       "14 14     0.5386723 0.6428603 0.9996972\n",
       "15 15     0.5386723 0.6528277 0.9996972\n",
       "16 16     0.5051696 0.6220214 0.9997337\n",
       "17 17     0.5051696 0.6323034 0.9997337\n",
       "18 18     0.4912791 0.6254293 0.9997481\n",
       "19 19     0.4912791 0.6364997 0.9997481\n",
       "20 20     0.4912791 0.6481795 0.9997481"
      ]
     },
     "metadata": {},
     "output_type": "display_data"
    }
   ],
   "source": [
    "# Model performance\n",
    "plm.predictions = data.frame(\n",
    "  Degree = NULL,\n",
    "  RMSE = NULL,\n",
    "  RSE = NULL,\n",
    "  R2 = NULL\n",
    ")\n",
    "\n",
    "\n",
    "for(deg in 1:20){\n",
    "    \n",
    "    # building polynomial model\n",
    "    fit.plm = lm(percent_active ~ poly(Day, deg, raw = TRUE), data = train.data)\n",
    "    #summary(fit.plm)\n",
    "\n",
    "    \n",
    "    #Residual Standard error (Like Standard Deviation)\n",
    "    k=length(fit.plm$coefficients)-1\n",
    "    #Multiple R-Squared (Coefficient of Determination)\n",
    "    SSyy=sum((train.data$percent_active-mean(train.data$percent_active))**2)\n",
    "    \n",
    "    SSE=sum(fit.plm$residuals**2)\n",
    "    n=length(fit.plm$residuals)\n",
    "    \n",
    "    \n",
    "    # final\n",
    "    rmse = sqrt(SSE/(n-1))\n",
    "    rse = sqrt(SSE/(n-(1+k))) #Residual Standard Error\n",
    "    r2 = (SSyy-SSE)/SSyy\n",
    "    \n",
    "    temp <- data.frame(\n",
    "                        Degree = deg,\n",
    "                        RMSE = rmse,\n",
    "                        RSE = rse,\n",
    "                        R2 = r2\n",
    "                      )\n",
    "    \n",
    "    plm.predictions = rbind(plm.predictions, temp)\n",
    "}\n",
    "\n",
    "plm.predictions#[which(plm.predictions$RMSE == min(plm.predictions$RMSE)),]"
   ]
  },
  {
   "cell_type": "code",
   "execution_count": 123,
   "metadata": {},
   "outputs": [],
   "source": [
    "# Form above, at around Degree 16, model attains R-Squared score = 0.999733, as well as the RMSE is also very low\n",
    "# So we'd try takin degree = 16\n",
    "deg = 7 #16"
   ]
  },
  {
   "cell_type": "code",
   "execution_count": 124,
   "metadata": {},
   "outputs": [],
   "source": [
    "# building polynomial model\n",
    "fit.plm = lm(percent_active ~ poly(Day, deg, raw = TRUE), data = train.data)\n",
    "#summary(fit.plm)"
   ]
  },
  {
   "cell_type": "code",
   "execution_count": 125,
   "metadata": {},
   "outputs": [],
   "source": [
    "# We'll generate a table for the predicted values on for training ang testing datasets"
   ]
  },
  {
   "cell_type": "code",
   "execution_count": 126,
   "metadata": {
    "scrolled": true
   },
   "outputs": [
    {
     "data": {
      "text/html": [
       "<table>\n",
       "<thead><tr><th></th><th scope=col>Day</th><th scope=col>percent_active</th><th scope=col>Pridicted_percent_active</th></tr></thead>\n",
       "<tbody>\n",
       "\t<tr><th scope=row>53</th><td>53       </td><td>14.972153</td><td>15.345674</td></tr>\n",
       "\t<tr><th scope=row>55</th><td>55       </td><td>12.224649</td><td>13.212303</td></tr>\n",
       "\t<tr><th scope=row>56</th><td>56       </td><td>11.140171</td><td>11.929335</td></tr>\n",
       "\t<tr><th scope=row>57</th><td>57       </td><td> 9.995931</td><td>10.289741</td></tr>\n",
       "\t<tr><th scope=row>58</th><td>58       </td><td> 9.084860</td><td> 8.087265</td></tr>\n",
       "</tbody>\n",
       "</table>\n"
      ],
      "text/latex": [
       "\\begin{tabular}{r|lll}\n",
       "  & Day & percent\\_active & Pridicted\\_percent\\_active\\\\\n",
       "\\hline\n",
       "\t53 & 53        & 14.972153 & 15.345674\\\\\n",
       "\t55 & 55        & 12.224649 & 13.212303\\\\\n",
       "\t56 & 56        & 11.140171 & 11.929335\\\\\n",
       "\t57 & 57        &  9.995931 & 10.289741\\\\\n",
       "\t58 & 58        &  9.084860 &  8.087265\\\\\n",
       "\\end{tabular}\n"
      ],
      "text/markdown": [
       "\n",
       "| <!--/--> | Day | percent_active | Pridicted_percent_active |\n",
       "|---|---|---|---|\n",
       "| 53 | 53        | 14.972153 | 15.345674 |\n",
       "| 55 | 55        | 12.224649 | 13.212303 |\n",
       "| 56 | 56        | 11.140171 | 11.929335 |\n",
       "| 57 | 57        |  9.995931 | 10.289741 |\n",
       "| 58 | 58        |  9.084860 |  8.087265 |\n",
       "\n"
      ],
      "text/plain": [
       "   Day percent_active Pridicted_percent_active\n",
       "53 53  14.972153      15.345674               \n",
       "55 55  12.224649      13.212303               \n",
       "56 56  11.140171      11.929335               \n",
       "57 57   9.995931      10.289741               \n",
       "58 58   9.084860       8.087265               "
      ]
     },
     "metadata": {},
     "output_type": "display_data"
    },
    {
     "data": {
      "text/html": [
       "<table>\n",
       "<thead><tr><th></th><th scope=col>Day</th><th scope=col>percent_active</th><th scope=col>Pridicted_percent_active</th></tr></thead>\n",
       "<tbody>\n",
       "\t<tr><th scope=row>39</th><td>39      </td><td>46.87610</td><td>47.69623</td></tr>\n",
       "\t<tr><th scope=row>41</th><td>41      </td><td>40.39133</td><td>41.24904</td></tr>\n",
       "\t<tr><th scope=row>47</th><td>47      </td><td>25.15992</td><td>24.58684</td></tr>\n",
       "\t<tr><th scope=row>50</th><td>50      </td><td>19.91572</td><td>19.04299</td></tr>\n",
       "\t<tr><th scope=row>54</th><td>54      </td><td>13.31185</td><td>14.30649</td></tr>\n",
       "</tbody>\n",
       "</table>\n"
      ],
      "text/latex": [
       "\\begin{tabular}{r|lll}\n",
       "  & Day & percent\\_active & Pridicted\\_percent\\_active\\\\\n",
       "\\hline\n",
       "\t39 & 39       & 46.87610 & 47.69623\\\\\n",
       "\t41 & 41       & 40.39133 & 41.24904\\\\\n",
       "\t47 & 47       & 25.15992 & 24.58684\\\\\n",
       "\t50 & 50       & 19.91572 & 19.04299\\\\\n",
       "\t54 & 54       & 13.31185 & 14.30649\\\\\n",
       "\\end{tabular}\n"
      ],
      "text/markdown": [
       "\n",
       "| <!--/--> | Day | percent_active | Pridicted_percent_active |\n",
       "|---|---|---|---|\n",
       "| 39 | 39       | 46.87610 | 47.69623 |\n",
       "| 41 | 41       | 40.39133 | 41.24904 |\n",
       "| 47 | 47       | 25.15992 | 24.58684 |\n",
       "| 50 | 50       | 19.91572 | 19.04299 |\n",
       "| 54 | 54       | 13.31185 | 14.30649 |\n",
       "\n"
      ],
      "text/plain": [
       "   Day percent_active Pridicted_percent_active\n",
       "39 39  46.87610       47.69623                \n",
       "41 41  40.39133       41.24904                \n",
       "47 47  25.15992       24.58684                \n",
       "50 50  19.91572       19.04299                \n",
       "54 54  13.31185       14.30649                "
      ]
     },
     "metadata": {},
     "output_type": "display_data"
    }
   ],
   "source": [
    "plm.trained = cbind( # Prediction for training data\n",
    "            train.data[,c(\"Day\", \"percent_active\")],\n",
    "            Pridicted_percent_active = predict(fit.plm, train.data)  # predicting the values\n",
    "          )\n",
    "\n",
    "plm.tested = cbind(  # Prediction for tested data\n",
    "            test.data[,c(\"Day\", \"percent_active\")],\n",
    "            Pridicted_percent_active = predict(fit.plm, test.data)   # predicting the values\n",
    "         )\n",
    "\n",
    "\n",
    "tail(plm.trained, 5)\n",
    "tail(plm.tested, 5)"
   ]
  },
  {
   "cell_type": "code",
   "execution_count": 127,
   "metadata": {},
   "outputs": [],
   "source": [
    "# Visualizations of the predictions for Training as well as Testing datasets to see fit\n",
    "plm.trainer <- ggplot(train.data, aes(Day, percent_active) ) +\n",
    "              geom_point() +\n",
    "              stat_smooth(method = lm, formula = y ~ poly(x, deg, raw = TRUE)) +   # polynomial function\n",
    "  \n",
    "              # decoration\n",
    "              labs( x = \"Days\", y = \"Active Cases (%)\", title = paste(\"\\nTraining plot\", rName, sep = \" - \") ) +\n",
    "              theme( plot.title = element_text(size = 20, face = \"bold\")) \n",
    "\n",
    "plm.tester <- ggplot(test.data, aes(Day, percent_active) ) +\n",
    "              geom_point() +\n",
    "              stat_smooth(method = lm, formula = y ~ poly(x, deg, raw = TRUE)) +   # polynomial function\n",
    "  \n",
    "              # decoration\n",
    "              labs( x = \"Days\", y = \"Active Cases (%)\", title = paste(\"\\nTesting plot\", rName, sep = \" - \") ) +\n",
    "              theme( plot.title = element_text(size = 20, face = \"bold\")) \n"
   ]
  },
  {
   "cell_type": "code",
   "execution_count": 128,
   "metadata": {},
   "outputs": [
    {
     "data": {
      "image/png": "[encoded data removed]",
      "text/plain": [
       "plot without title"
      ]
     },
     "metadata": {
      "image/png": {
       "height": 420,
       "width": 420
      },
      "text/plain": {
       "height": 420,
       "width": 420
      }
     },
     "output_type": "display_data"
    },
    {
     "data": {
      "image/png": "[encoded data removed]",
      "text/plain": [
       "plot without title"
      ]
     },
     "metadata": {
      "image/png": {
       "height": 420,
       "width": 420
      },
      "text/plain": {
       "height": 420,
       "width": 420
      }
     },
     "output_type": "display_data"
    }
   ],
   "source": [
    "# Plotting\n",
    "plm.trainer\n",
    "plm.tester"
   ]
  },
  {
   "cell_type": "code",
   "execution_count": 129,
   "metadata": {},
   "outputs": [],
   "source": [
    "# So we can see, here our model fits best for a polynomial regression having degree = 16\n",
    "# We already have the data of Day 59: i.e. 8.285436\n",
    "\n",
    "# To finalize the model, we will perform a final testing by predicting the Active Cases(%) for Day: 59, 60, 61"
   ]
  },
  {
   "cell_type": "code",
   "execution_count": 130,
   "metadata": {},
   "outputs": [],
   "source": [
    "# Creating A temporary dataset for this prediction: "
   ]
  },
  {
   "cell_type": "code",
   "execution_count": 131,
   "metadata": {},
   "outputs": [
    {
     "data": {
      "text/html": [
       "<table>\n",
       "<thead><tr><th scope=col>Day</th><th scope=col>Confirmed</th><th scope=col>Deaths</th><th scope=col>Recovered</th><th scope=col>Active.Cases</th><th scope=col>Closed.Cases</th><th scope=col>percent_active</th><th scope=col>percent_closed</th></tr></thead>\n",
       "<tbody>\n",
       "\t<tr><td>59      </td><td>81251   </td><td>3253    </td><td>71266   </td><td>6732    </td><td>74519   </td><td>8.285436</td><td>91.7145 </td></tr>\n",
       "\t<tr><td>60      </td><td>  NaN   </td><td> NaN    </td><td>  NaN   </td><td> NaN    </td><td>  NaN   </td><td>     NaN</td><td>    NaN </td></tr>\n",
       "\t<tr><td>61      </td><td>  NaN   </td><td> NaN    </td><td>  NaN   </td><td> NaN    </td><td>  NaN   </td><td>     NaN</td><td>    NaN </td></tr>\n",
       "</tbody>\n",
       "</table>\n"
      ],
      "text/latex": [
       "\\begin{tabular}{r|llllllll}\n",
       " Day & Confirmed & Deaths & Recovered & Active.Cases & Closed.Cases & percent\\_active & percent\\_closed\\\\\n",
       "\\hline\n",
       "\t 59       & 81251    & 3253     & 71266    & 6732     & 74519    & 8.285436 & 91.7145 \\\\\n",
       "\t 60       &   NaN    &  NaN     &   NaN    &  NaN     &   NaN    &      NaN &     NaN \\\\\n",
       "\t 61       &   NaN    &  NaN     &   NaN    &  NaN     &   NaN    &      NaN &     NaN \\\\\n",
       "\\end{tabular}\n"
      ],
      "text/markdown": [
       "\n",
       "| Day | Confirmed | Deaths | Recovered | Active.Cases | Closed.Cases | percent_active | percent_closed |\n",
       "|---|---|---|---|---|---|---|---|\n",
       "| 59       | 81251    | 3253     | 71266    | 6732     | 74519    | 8.285436 | 91.7145  |\n",
       "| 60       |   NaN    |  NaN     |   NaN    |  NaN     |   NaN    |      NaN |     NaN  |\n",
       "| 61       |   NaN    |  NaN     |   NaN    |  NaN     |   NaN    |      NaN |     NaN  |\n",
       "\n"
      ],
      "text/plain": [
       "  Day Confirmed Deaths Recovered Active.Cases Closed.Cases percent_active\n",
       "1 59  81251     3253   71266     6732         74519        8.285436      \n",
       "2 60    NaN      NaN     NaN      NaN           NaN             NaN      \n",
       "3 61    NaN      NaN     NaN      NaN           NaN             NaN      \n",
       "  percent_closed\n",
       "1 91.7145       \n",
       "2     NaN       \n",
       "3     NaN       "
      ]
     },
     "metadata": {},
     "output_type": "display_data"
    }
   ],
   "source": [
    "# Available data for 59th day (i.e. 20-03-2020)\n",
    "temp.test = data.frame(\n",
    "                        Day = 59:61,\n",
    "                        Confirmed = c(81251, NaN, NaN),\n",
    "                        Deaths = c(3253, NaN, NaN),\n",
    "                        Recovered = c(71266, NaN, NaN),\n",
    "                        Active.Cases = c(6732, NaN, NaN),\n",
    "                        Closed.Cases = c(74519, NaN, NaN),\n",
    "                        percent_active =  c(8.285436, NaN, NaN),\n",
    "                        percent_closed = c(91.7145, NaN, NaN)\n",
    "                     )\n",
    "\n",
    "temp.test"
   ]
  },
  {
   "cell_type": "code",
   "execution_count": 132,
   "metadata": {},
   "outputs": [],
   "source": [
    "# Now, we'll find the Active case(%) from all the four algorithms\n",
    "temp.required <- temp.test[,c(1, 7)]\n",
    "temp.required$\"Polynomial Model\" <- predict(fit.plm, temp.test)"
   ]
  },
  {
   "cell_type": "code",
   "execution_count": 133,
   "metadata": {},
   "outputs": [
    {
     "data": {
      "text/html": [
       "<table>\n",
       "<thead><tr><th scope=col>Day</th><th scope=col>percent_active</th><th scope=col>Polynomial Model</th></tr></thead>\n",
       "<tbody>\n",
       "\t<tr><td>59        </td><td>8.285436  </td><td> 5.0725944</td></tr>\n",
       "\t<tr><td>60        </td><td>     NaN  </td><td> 0.9484048</td></tr>\n",
       "\t<tr><td>61        </td><td>     NaN  </td><td>-4.6359109</td></tr>\n",
       "</tbody>\n",
       "</table>\n"
      ],
      "text/latex": [
       "\\begin{tabular}{r|lll}\n",
       " Day & percent\\_active & Polynomial Model\\\\\n",
       "\\hline\n",
       "\t 59         & 8.285436   &  5.0725944\\\\\n",
       "\t 60         &      NaN   &  0.9484048\\\\\n",
       "\t 61         &      NaN   & -4.6359109\\\\\n",
       "\\end{tabular}\n"
      ],
      "text/markdown": [
       "\n",
       "| Day | percent_active | Polynomial Model |\n",
       "|---|---|---|\n",
       "| 59         | 8.285436   |  5.0725944 |\n",
       "| 60         |      NaN   |  0.9484048 |\n",
       "| 61         |      NaN   | -4.6359109 |\n",
       "\n"
      ],
      "text/plain": [
       "  Day percent_active Polynomial Model\n",
       "1 59  8.285436        5.0725944      \n",
       "2 60       NaN        0.9484048      \n",
       "3 61       NaN       -4.6359109      "
      ]
     },
     "metadata": {},
     "output_type": "display_data"
    }
   ],
   "source": [
    "temp.required"
   ]
  },
  {
   "cell_type": "code",
   "execution_count": 64,
   "metadata": {},
   "outputs": [],
   "source": [
    "# But, here we see a sudden rise in the predicted value of Active Case(%), which seems highly impossible because we already know that China has been very successful to have controle over this epidemic\n",
    "\n",
    "# Then how our model fit so fantastically on our training and testing dataset??"
   ]
  },
  {
   "cell_type": "code",
   "execution_count": 65,
   "metadata": {},
   "outputs": [],
   "source": [
    "# Here comes the term: Model Overfitting!\n",
    "# Because, we have trained our model to perform almost perfectly, having R2 = 0.9997 (i.e. ~1).\n",
    "# That's why, though our model fits very accurate on the training and testing (that has value of dependent variable belonging to the same domain i.e. [1,58]) but\n",
    "    # whenever it gets any new value (60, 61..) due to overfitting, our model fails to give right prediction."
   ]
  },
  {
   "cell_type": "code",
   "execution_count": 66,
   "metadata": {},
   "outputs": [
    {
     "data": {
      "text/html": [
       "<table>\n",
       "<thead><tr><th scope=col>Degree</th><th scope=col>RMSE</th><th scope=col>RSE</th><th scope=col>R2</th></tr></thead>\n",
       "<tbody>\n",
       "\t<tr><td> 1       </td><td>9.1213834</td><td>9.2199958</td><td>0.9131809</td></tr>\n",
       "\t<tr><td> 2       </td><td>4.6663640</td><td>4.7689337</td><td>0.9772778</td></tr>\n",
       "\t<tr><td> 3       </td><td>2.2460160</td><td>2.3213223</td><td>0.9947360</td></tr>\n",
       "\t<tr><td> 4       </td><td>1.2378209</td><td>1.2941140</td><td>0.9984011</td></tr>\n",
       "\t<tr><td> 5       </td><td>1.2360031</td><td>1.3075064</td><td>0.9984058</td></tr>\n",
       "\t<tr><td> 6       </td><td>0.7801015</td><td>0.8352339</td><td>0.9993650</td></tr>\n",
       "\t<tr><td> 7       </td><td>0.7221723</td><td>0.7828161</td><td>0.9994558</td></tr>\n",
       "\t<tr><td> 8       </td><td>0.6092638</td><td>0.6688397</td><td>0.9996126</td></tr>\n",
       "\t<tr><td> 9       </td><td>0.5836966</td><td>0.6491489</td><td>0.9996445</td></tr>\n",
       "\t<tr><td>10       </td><td>0.5823322</td><td>0.6563249</td><td>0.9996461</td></tr>\n",
       "\t<tr><td>11       </td><td>0.5819927</td><td>0.6649901</td><td>0.9996465</td></tr>\n",
       "\t<tr><td>12       </td><td>0.5591038</td><td>0.6478991</td><td>0.9996738</td></tr>\n",
       "\t<tr><td>13       </td><td>0.5591038</td><td>0.6573579</td><td>0.9996738</td></tr>\n",
       "\t<tr><td>14       </td><td>0.5386723</td><td>0.6428603</td><td>0.9996972</td></tr>\n",
       "\t<tr><td>15       </td><td>0.5386723</td><td>0.6528277</td><td>0.9996972</td></tr>\n",
       "\t<tr><td>16       </td><td>0.5051696</td><td>0.6220214</td><td>0.9997337</td></tr>\n",
       "\t<tr><td>17       </td><td>0.5051696</td><td>0.6323034</td><td>0.9997337</td></tr>\n",
       "\t<tr><td>18       </td><td>0.4912791</td><td>0.6254293</td><td>0.9997481</td></tr>\n",
       "\t<tr><td>19       </td><td>0.4912791</td><td>0.6364997</td><td>0.9997481</td></tr>\n",
       "\t<tr><td>20       </td><td>0.4912791</td><td>0.6481795</td><td>0.9997481</td></tr>\n",
       "</tbody>\n",
       "</table>\n"
      ],
      "text/latex": [
       "\\begin{tabular}{r|llll}\n",
       " Degree & RMSE & RSE & R2\\\\\n",
       "\\hline\n",
       "\t  1        & 9.1213834 & 9.2199958 & 0.9131809\\\\\n",
       "\t  2        & 4.6663640 & 4.7689337 & 0.9772778\\\\\n",
       "\t  3        & 2.2460160 & 2.3213223 & 0.9947360\\\\\n",
       "\t  4        & 1.2378209 & 1.2941140 & 0.9984011\\\\\n",
       "\t  5        & 1.2360031 & 1.3075064 & 0.9984058\\\\\n",
       "\t  6        & 0.7801015 & 0.8352339 & 0.9993650\\\\\n",
       "\t  7        & 0.7221723 & 0.7828161 & 0.9994558\\\\\n",
       "\t  8        & 0.6092638 & 0.6688397 & 0.9996126\\\\\n",
       "\t  9        & 0.5836966 & 0.6491489 & 0.9996445\\\\\n",
       "\t 10        & 0.5823322 & 0.6563249 & 0.9996461\\\\\n",
       "\t 11        & 0.5819927 & 0.6649901 & 0.9996465\\\\\n",
       "\t 12        & 0.5591038 & 0.6478991 & 0.9996738\\\\\n",
       "\t 13        & 0.5591038 & 0.6573579 & 0.9996738\\\\\n",
       "\t 14        & 0.5386723 & 0.6428603 & 0.9996972\\\\\n",
       "\t 15        & 0.5386723 & 0.6528277 & 0.9996972\\\\\n",
       "\t 16        & 0.5051696 & 0.6220214 & 0.9997337\\\\\n",
       "\t 17        & 0.5051696 & 0.6323034 & 0.9997337\\\\\n",
       "\t 18        & 0.4912791 & 0.6254293 & 0.9997481\\\\\n",
       "\t 19        & 0.4912791 & 0.6364997 & 0.9997481\\\\\n",
       "\t 20        & 0.4912791 & 0.6481795 & 0.9997481\\\\\n",
       "\\end{tabular}\n"
      ],
      "text/markdown": [
       "\n",
       "| Degree | RMSE | RSE | R2 |\n",
       "|---|---|---|---|\n",
       "|  1        | 9.1213834 | 9.2199958 | 0.9131809 |\n",
       "|  2        | 4.6663640 | 4.7689337 | 0.9772778 |\n",
       "|  3        | 2.2460160 | 2.3213223 | 0.9947360 |\n",
       "|  4        | 1.2378209 | 1.2941140 | 0.9984011 |\n",
       "|  5        | 1.2360031 | 1.3075064 | 0.9984058 |\n",
       "|  6        | 0.7801015 | 0.8352339 | 0.9993650 |\n",
       "|  7        | 0.7221723 | 0.7828161 | 0.9994558 |\n",
       "|  8        | 0.6092638 | 0.6688397 | 0.9996126 |\n",
       "|  9        | 0.5836966 | 0.6491489 | 0.9996445 |\n",
       "| 10        | 0.5823322 | 0.6563249 | 0.9996461 |\n",
       "| 11        | 0.5819927 | 0.6649901 | 0.9996465 |\n",
       "| 12        | 0.5591038 | 0.6478991 | 0.9996738 |\n",
       "| 13        | 0.5591038 | 0.6573579 | 0.9996738 |\n",
       "| 14        | 0.5386723 | 0.6428603 | 0.9996972 |\n",
       "| 15        | 0.5386723 | 0.6528277 | 0.9996972 |\n",
       "| 16        | 0.5051696 | 0.6220214 | 0.9997337 |\n",
       "| 17        | 0.5051696 | 0.6323034 | 0.9997337 |\n",
       "| 18        | 0.4912791 | 0.6254293 | 0.9997481 |\n",
       "| 19        | 0.4912791 | 0.6364997 | 0.9997481 |\n",
       "| 20        | 0.4912791 | 0.6481795 | 0.9997481 |\n",
       "\n"
      ],
      "text/plain": [
       "   Degree RMSE      RSE       R2       \n",
       "1   1     9.1213834 9.2199958 0.9131809\n",
       "2   2     4.6663640 4.7689337 0.9772778\n",
       "3   3     2.2460160 2.3213223 0.9947360\n",
       "4   4     1.2378209 1.2941140 0.9984011\n",
       "5   5     1.2360031 1.3075064 0.9984058\n",
       "6   6     0.7801015 0.8352339 0.9993650\n",
       "7   7     0.7221723 0.7828161 0.9994558\n",
       "8   8     0.6092638 0.6688397 0.9996126\n",
       "9   9     0.5836966 0.6491489 0.9996445\n",
       "10 10     0.5823322 0.6563249 0.9996461\n",
       "11 11     0.5819927 0.6649901 0.9996465\n",
       "12 12     0.5591038 0.6478991 0.9996738\n",
       "13 13     0.5591038 0.6573579 0.9996738\n",
       "14 14     0.5386723 0.6428603 0.9996972\n",
       "15 15     0.5386723 0.6528277 0.9996972\n",
       "16 16     0.5051696 0.6220214 0.9997337\n",
       "17 17     0.5051696 0.6323034 0.9997337\n",
       "18 18     0.4912791 0.6254293 0.9997481\n",
       "19 19     0.4912791 0.6364997 0.9997481\n",
       "20 20     0.4912791 0.6481795 0.9997481"
      ]
     },
     "metadata": {},
     "output_type": "display_data"
    }
   ],
   "source": [
    "# Hence we have to select a degree that can fit better but avoide the overfitting\n",
    "# Let's have a look on the Evaluation Dataframe for different degrees\n",
    "plm.predictions"
   ]
  },
  {
   "cell_type": "code",
   "execution_count": 97,
   "metadata": {},
   "outputs": [],
   "source": [
    "# Here, we can see that choosing a degree equals to 7 can fit better\n",
    "# So, let's do the same thing for degree = 7\n",
    "deg = 7"
   ]
  },
  {
   "cell_type": "code",
   "execution_count": 98,
   "metadata": {},
   "outputs": [],
   "source": [
    "# building polynomial model\n",
    "fit.plm = lm(percent_active ~ poly(Day, deg, raw = TRUE), data = train.data)\n",
    "#summary(fit.plm)\n",
    "\n",
    "########################\n",
    "\n",
    "## Prediction table\n",
    "plm.trained = cbind( # Prediction for training data\n",
    "            train.data[,c(\"Day\", \"percent_active\")],\n",
    "            Pridicted_percent_active = predict(fit.plm, train.data)  # predicting the values\n",
    "          )\n",
    "\n",
    "plm.tested = cbind(  # Prediction for tested data\n",
    "            test.data[,c(\"Day\", \"percent_active\")],\n",
    "            Pridicted_percent_active = predict(fit.plm, test.data)   # predicting the values\n",
    "         )\n",
    "\n",
    "\n",
    "########################\n",
    "\n",
    "# Graphs for prediction\n",
    "plm.trainer <- ggplot(train.data, aes(Day, percent_active) ) +\n",
    "              geom_point() +\n",
    "              stat_smooth(method = lm, formula = y ~ poly(x, deg, raw = TRUE)) +   # polynomial function\n",
    "  \n",
    "              # decoration\n",
    "              labs( x = \"Days\", y = \"Active Cases (%)\", title = paste(\"\\nTraining plot\", rName, sep = \" - \") ) +\n",
    "              theme( plot.title = element_text(size = 20, face = \"bold\")) \n",
    "\n",
    "plm.tester <- ggplot(test.data, aes(Day, percent_active) ) +\n",
    "              geom_point() +\n",
    "              stat_smooth(method = lm, formula = y ~ poly(x, deg, raw = TRUE)) +   # polynomial function\n",
    "  \n",
    "              # decoration\n",
    "              labs( x = \"Days\", y = \"Active Cases (%)\", title = paste(\"\\nTesting plot\", rName, sep = \" - \") ) +\n",
    "              theme( plot.title = element_text(size = 20, face = \"bold\")) \n"
   ]
  },
  {
   "cell_type": "code",
   "execution_count": 99,
   "metadata": {},
   "outputs": [
    {
     "data": {
      "text/html": [
       "<table>\n",
       "<thead><tr><th></th><th scope=col>Day</th><th scope=col>percent_active</th><th scope=col>Pridicted_percent_active</th></tr></thead>\n",
       "<tbody>\n",
       "\t<tr><th scope=row>55</th><td>55       </td><td>12.224649</td><td>13.003667</td></tr>\n",
       "\t<tr><th scope=row>56</th><td>56       </td><td>11.140171</td><td>11.972201</td></tr>\n",
       "\t<tr><th scope=row>57</th><td>57       </td><td> 9.995931</td><td>10.771461</td></tr>\n",
       "\t<tr><th scope=row>58</th><td>58       </td><td> 9.084860</td><td> 9.258067</td></tr>\n",
       "\t<tr><th scope=row>13</th><td>59       </td><td> 8.285436</td><td> 7.258271</td></tr>\n",
       "</tbody>\n",
       "</table>\n"
      ],
      "text/latex": [
       "\\begin{tabular}{r|lll}\n",
       "  & Day & percent\\_active & Pridicted\\_percent\\_active\\\\\n",
       "\\hline\n",
       "\t55 & 55        & 12.224649 & 13.003667\\\\\n",
       "\t56 & 56        & 11.140171 & 11.972201\\\\\n",
       "\t57 & 57        &  9.995931 & 10.771461\\\\\n",
       "\t58 & 58        &  9.084860 &  9.258067\\\\\n",
       "\t13 & 59        &  8.285436 &  7.258271\\\\\n",
       "\\end{tabular}\n"
      ],
      "text/markdown": [
       "\n",
       "| <!--/--> | Day | percent_active | Pridicted_percent_active |\n",
       "|---|---|---|---|\n",
       "| 55 | 55        | 12.224649 | 13.003667 |\n",
       "| 56 | 56        | 11.140171 | 11.972201 |\n",
       "| 57 | 57        |  9.995931 | 10.771461 |\n",
       "| 58 | 58        |  9.084860 |  9.258067 |\n",
       "| 13 | 59        |  8.285436 |  7.258271 |\n",
       "\n"
      ],
      "text/plain": [
       "   Day percent_active Pridicted_percent_active\n",
       "55 55  12.224649      13.003667               \n",
       "56 56  11.140171      11.972201               \n",
       "57 57   9.995931      10.771461               \n",
       "58 58   9.084860       9.258067               \n",
       "13 59   8.285436       7.258271               "
      ]
     },
     "metadata": {},
     "output_type": "display_data"
    },
    {
     "data": {
      "text/html": [
       "<table>\n",
       "<thead><tr><th></th><th scope=col>Day</th><th scope=col>percent_active</th><th scope=col>Pridicted_percent_active</th></tr></thead>\n",
       "<tbody>\n",
       "\t<tr><th scope=row>39</th><td>39      </td><td>46.87610</td><td>47.73483</td></tr>\n",
       "\t<tr><th scope=row>41</th><td>41      </td><td>40.39133</td><td>41.36274</td></tr>\n",
       "\t<tr><th scope=row>47</th><td>47      </td><td>25.15992</td><td>24.67430</td></tr>\n",
       "\t<tr><th scope=row>50</th><td>50      </td><td>19.91572</td><td>18.89645</td></tr>\n",
       "\t<tr><th scope=row>54</th><td>54      </td><td>13.31185</td><td>13.98203</td></tr>\n",
       "</tbody>\n",
       "</table>\n"
      ],
      "text/latex": [
       "\\begin{tabular}{r|lll}\n",
       "  & Day & percent\\_active & Pridicted\\_percent\\_active\\\\\n",
       "\\hline\n",
       "\t39 & 39       & 46.87610 & 47.73483\\\\\n",
       "\t41 & 41       & 40.39133 & 41.36274\\\\\n",
       "\t47 & 47       & 25.15992 & 24.67430\\\\\n",
       "\t50 & 50       & 19.91572 & 18.89645\\\\\n",
       "\t54 & 54       & 13.31185 & 13.98203\\\\\n",
       "\\end{tabular}\n"
      ],
      "text/markdown": [
       "\n",
       "| <!--/--> | Day | percent_active | Pridicted_percent_active |\n",
       "|---|---|---|---|\n",
       "| 39 | 39       | 46.87610 | 47.73483 |\n",
       "| 41 | 41       | 40.39133 | 41.36274 |\n",
       "| 47 | 47       | 25.15992 | 24.67430 |\n",
       "| 50 | 50       | 19.91572 | 18.89645 |\n",
       "| 54 | 54       | 13.31185 | 13.98203 |\n",
       "\n"
      ],
      "text/plain": [
       "   Day percent_active Pridicted_percent_active\n",
       "39 39  46.87610       47.73483                \n",
       "41 41  40.39133       41.36274                \n",
       "47 47  25.15992       24.67430                \n",
       "50 50  19.91572       18.89645                \n",
       "54 54  13.31185       13.98203                "
      ]
     },
     "metadata": {},
     "output_type": "display_data"
    }
   ],
   "source": [
    "# Prediction table at degree = 6\n",
    "tail(plm.trained, 5)\n",
    "tail(plm.tested, 5)"
   ]
  },
  {
   "cell_type": "code",
   "execution_count": 100,
   "metadata": {},
   "outputs": [
    {
     "data": {
      "image/png": "[encoded data removed]",
      "text/plain": [
       "plot without title"
      ]
     },
     "metadata": {
      "image/png": {
       "height": 420,
       "width": 420
      },
      "text/plain": {
       "height": 420,
       "width": 420
      }
     },
     "output_type": "display_data"
    },
    {
     "data": {
      "image/png": "[encoded data removed]",
      "text/plain": [
       "plot without title"
      ]
     },
     "metadata": {
      "image/png": {
       "height": 420,
       "width": 420
      },
      "text/plain": {
       "height": 420,
       "width": 420
      }
     },
     "output_type": "display_data"
    }
   ],
   "source": [
    "# New visualization for prediction\n",
    "plm.trainer\n",
    "plm.tester"
   ]
  },
  {
   "cell_type": "code",
   "execution_count": 101,
   "metadata": {},
   "outputs": [],
   "source": [
    "# So, now it's much better!"
   ]
  },
  {
   "cell_type": "markdown",
   "metadata": {},
   "source": [
    "<br />"
   ]
  },
  {
   "cell_type": "code",
   "execution_count": null,
   "metadata": {},
   "outputs": [],
   "source": []
  },
  {
   "cell_type": "markdown",
   "metadata": {},
   "source": [
    "## Evaluation:"
   ]
  },
  {
   "cell_type": "code",
   "execution_count": 102,
   "metadata": {},
   "outputs": [],
   "source": [
    "# Let's evaluate and compare the 4 model algorithms"
   ]
  },
  {
   "cell_type": "code",
   "execution_count": 103,
   "metadata": {},
   "outputs": [
    {
     "name": "stdout",
     "output_type": "stream",
     "text": [
      "\n",
      "Support Vector Machine Regression"
     ]
    },
    {
     "data": {
      "text/html": [
       "<table>\n",
       "<thead><tr><th scope=col>RMSE</th><th scope=col>R2</th></tr></thead>\n",
       "<tbody>\n",
       "\t<tr><td>56.16077 </td><td>0.9207047</td></tr>\n",
       "</tbody>\n",
       "</table>\n"
      ],
      "text/latex": [
       "\\begin{tabular}{r|ll}\n",
       " RMSE & R2\\\\\n",
       "\\hline\n",
       "\t 56.16077  & 0.9207047\\\\\n",
       "\\end{tabular}\n"
      ],
      "text/markdown": [
       "\n",
       "| RMSE | R2 |\n",
       "|---|---|\n",
       "| 56.16077  | 0.9207047 |\n",
       "\n"
      ],
      "text/plain": [
       "  RMSE     R2       \n",
       "1 56.16077 0.9207047"
      ]
     },
     "metadata": {},
     "output_type": "display_data"
    },
    {
     "name": "stdout",
     "output_type": "stream",
     "text": [
      "\n",
      "k-Nearest Neighbour Regression"
     ]
    },
    {
     "data": {
      "text/html": [
       "<table>\n",
       "<thead><tr><th scope=col>RMSE</th><th scope=col>R2</th></tr></thead>\n",
       "<tbody>\n",
       "\t<tr><td>58.24367 </td><td>0.9193376</td></tr>\n",
       "</tbody>\n",
       "</table>\n"
      ],
      "text/latex": [
       "\\begin{tabular}{r|ll}\n",
       " RMSE & R2\\\\\n",
       "\\hline\n",
       "\t 58.24367  & 0.9193376\\\\\n",
       "\\end{tabular}\n"
      ],
      "text/markdown": [
       "\n",
       "| RMSE | R2 |\n",
       "|---|---|\n",
       "| 58.24367  | 0.9193376 |\n",
       "\n"
      ],
      "text/plain": [
       "  RMSE     R2       \n",
       "1 58.24367 0.9193376"
      ]
     },
     "metadata": {},
     "output_type": "display_data"
    },
    {
     "name": "stdout",
     "output_type": "stream",
     "text": [
      "\n",
      "Linear Regression"
     ]
    },
    {
     "data": {
      "text/html": [
       "<table>\n",
       "<thead><tr><th scope=col>RMSE</th><th scope=col>R2</th></tr></thead>\n",
       "<tbody>\n",
       "\t<tr><td>4.929334 </td><td>0.9131809</td></tr>\n",
       "</tbody>\n",
       "</table>\n"
      ],
      "text/latex": [
       "\\begin{tabular}{r|ll}\n",
       " RMSE & R2\\\\\n",
       "\\hline\n",
       "\t 4.929334  & 0.9131809\\\\\n",
       "\\end{tabular}\n"
      ],
      "text/markdown": [
       "\n",
       "| RMSE | R2 |\n",
       "|---|---|\n",
       "| 4.929334  | 0.9131809 |\n",
       "\n"
      ],
      "text/plain": [
       "  RMSE     R2       \n",
       "1 4.929334 0.9131809"
      ]
     },
     "metadata": {},
     "output_type": "display_data"
    },
    {
     "name": "stdout",
     "output_type": "stream",
     "text": [
      "\n",
      "Polynomial Regression"
     ]
    },
    {
     "data": {
      "text/html": [
       "<table>\n",
       "<thead><tr><th></th><th scope=col>RMSE</th><th scope=col>R2</th></tr></thead>\n",
       "<tbody>\n",
       "\t<tr><th scope=row>7</th><td>0.7221723</td><td>0.9994558</td></tr>\n",
       "</tbody>\n",
       "</table>\n"
      ],
      "text/latex": [
       "\\begin{tabular}{r|ll}\n",
       "  & RMSE & R2\\\\\n",
       "\\hline\n",
       "\t7 & 0.7221723 & 0.9994558\\\\\n",
       "\\end{tabular}\n"
      ],
      "text/markdown": [
       "\n",
       "| <!--/--> | RMSE | R2 |\n",
       "|---|---|---|\n",
       "| 7 | 0.7221723 | 0.9994558 |\n",
       "\n"
      ],
      "text/plain": [
       "  RMSE      R2       \n",
       "7 0.7221723 0.9994558"
      ]
     },
     "metadata": {},
     "output_type": "display_data"
    }
   ],
   "source": [
    "# Performance (Accurecy) table\n",
    "cat(\"\\nSupport Vector Machine Regression\")\n",
    "svm.predictions\n",
    "cat(\"\\nk-Nearest Neighbour Regression\")\n",
    "knn.predictions\n",
    "cat(\"\\nLinear Regression\")\n",
    "lm.predictions\n",
    "cat(\"\\nPolynomial Regression\")\n",
    "plm.predictions[which(plm.predictions$Degree == deg),c('RMSE', 'R2')]"
   ]
  },
  {
   "cell_type": "code",
   "execution_count": 104,
   "metadata": {},
   "outputs": [],
   "source": [
    "# as far as concerned about Root Mean Squared Error (RMSE) and R-Squared values(R<sup>2</sup>)\n",
    "# Polynomial Regression is best among all models 4\n",
    "\n",
    "# Finally we'll also do a comparision among the predicted values by these 4 regression algorithms, as well"
   ]
  },
  {
   "cell_type": "code",
   "execution_count": 105,
   "metadata": {},
   "outputs": [
    {
     "data": {
      "text/html": [
       "<table>\n",
       "<thead><tr><th scope=col>Day</th><th scope=col>Actual Active Case(%)</th><th scope=col>Predicted by SVMK</th><th scope=col>Predicted by KNN</th><th scope=col>Predicted by LM</th><th scope=col>Predicted by Poly LM</th></tr></thead>\n",
       "<tbody>\n",
       "\t<tr><td> 4      </td><td>94.23898</td><td>91.97202</td><td>93.96736</td><td>13.47147</td><td>94.69941</td></tr>\n",
       "\t<tr><td>13      </td><td>94.72510</td><td>91.80645</td><td>94.97576</td><td>13.21776</td><td>94.30868</td></tr>\n",
       "\t<tr><td>15      </td><td>93.88484</td><td>90.57056</td><td>93.16354</td><td>13.65628</td><td>93.24725</td></tr>\n",
       "\t<tr><td>18      </td><td>90.75623</td><td>88.62389</td><td>90.77715</td><td>15.28907</td><td>91.22001</td></tr>\n",
       "\t<tr><td>28      </td><td>78.15822</td><td>74.98581</td><td>77.81573</td><td>21.86382</td><td>78.07654</td></tr>\n",
       "\t<tr><td>39      </td><td>46.87610</td><td>50.12958</td><td>49.56913</td><td>38.18960</td><td>47.73483</td></tr>\n",
       "\t<tr><td>41      </td><td>40.39133</td><td>43.48440</td><td>38.31875</td><td>41.57392</td><td>41.36274</td></tr>\n",
       "\t<tr><td>47      </td><td>25.15992</td><td>28.17537</td><td>25.48533</td><td>49.52302</td><td>24.67430</td></tr>\n",
       "\t<tr><td>50      </td><td>19.91572</td><td>23.25383</td><td>20.06390</td><td>52.25991</td><td>18.89645</td></tr>\n",
       "\t<tr><td>54      </td><td>13.31185</td><td>15.69915</td><td>13.77505</td><td>55.70639</td><td>13.98203</td></tr>\n",
       "</tbody>\n",
       "</table>\n"
      ],
      "text/latex": [
       "\\begin{tabular}{llllll}\n",
       " Day & Actual Active Case(\\%) & Predicted by SVMK & Predicted by KNN & Predicted by LM & Predicted by Poly LM\\\\\n",
       "\\hline\n",
       "\t  4       & 94.23898 & 91.97202 & 93.96736 & 13.47147 & 94.69941\\\\\n",
       "\t 13       & 94.72510 & 91.80645 & 94.97576 & 13.21776 & 94.30868\\\\\n",
       "\t 15       & 93.88484 & 90.57056 & 93.16354 & 13.65628 & 93.24725\\\\\n",
       "\t 18       & 90.75623 & 88.62389 & 90.77715 & 15.28907 & 91.22001\\\\\n",
       "\t 28       & 78.15822 & 74.98581 & 77.81573 & 21.86382 & 78.07654\\\\\n",
       "\t 39       & 46.87610 & 50.12958 & 49.56913 & 38.18960 & 47.73483\\\\\n",
       "\t 41       & 40.39133 & 43.48440 & 38.31875 & 41.57392 & 41.36274\\\\\n",
       "\t 47       & 25.15992 & 28.17537 & 25.48533 & 49.52302 & 24.67430\\\\\n",
       "\t 50       & 19.91572 & 23.25383 & 20.06390 & 52.25991 & 18.89645\\\\\n",
       "\t 54       & 13.31185 & 15.69915 & 13.77505 & 55.70639 & 13.98203\\\\\n",
       "\\end{tabular}\n"
      ],
      "text/markdown": [
       "\n",
       "| Day | Actual Active Case(%) | Predicted by SVMK | Predicted by KNN | Predicted by LM | Predicted by Poly LM |\n",
       "|---|---|---|---|---|---|\n",
       "|  4       | 94.23898 | 91.97202 | 93.96736 | 13.47147 | 94.69941 |\n",
       "| 13       | 94.72510 | 91.80645 | 94.97576 | 13.21776 | 94.30868 |\n",
       "| 15       | 93.88484 | 90.57056 | 93.16354 | 13.65628 | 93.24725 |\n",
       "| 18       | 90.75623 | 88.62389 | 90.77715 | 15.28907 | 91.22001 |\n",
       "| 28       | 78.15822 | 74.98581 | 77.81573 | 21.86382 | 78.07654 |\n",
       "| 39       | 46.87610 | 50.12958 | 49.56913 | 38.18960 | 47.73483 |\n",
       "| 41       | 40.39133 | 43.48440 | 38.31875 | 41.57392 | 41.36274 |\n",
       "| 47       | 25.15992 | 28.17537 | 25.48533 | 49.52302 | 24.67430 |\n",
       "| 50       | 19.91572 | 23.25383 | 20.06390 | 52.25991 | 18.89645 |\n",
       "| 54       | 13.31185 | 15.69915 | 13.77505 | 55.70639 | 13.98203 |\n",
       "\n"
      ],
      "text/plain": [
       "      Day Actual Active Case(%) Predicted by SVMK Predicted by KNN\n",
       " [1,]  4  94.23898              91.97202          93.96736        \n",
       " [2,] 13  94.72510              91.80645          94.97576        \n",
       " [3,] 15  93.88484              90.57056          93.16354        \n",
       " [4,] 18  90.75623              88.62389          90.77715        \n",
       " [5,] 28  78.15822              74.98581          77.81573        \n",
       " [6,] 39  46.87610              50.12958          49.56913        \n",
       " [7,] 41  40.39133              43.48440          38.31875        \n",
       " [8,] 47  25.15992              28.17537          25.48533        \n",
       " [9,] 50  19.91572              23.25383          20.06390        \n",
       "[10,] 54  13.31185              15.69915          13.77505        \n",
       "      Predicted by LM Predicted by Poly LM\n",
       " [1,] 13.47147        94.69941            \n",
       " [2,] 13.21776        94.30868            \n",
       " [3,] 13.65628        93.24725            \n",
       " [4,] 15.28907        91.22001            \n",
       " [5,] 21.86382        78.07654            \n",
       " [6,] 38.18960        47.73483            \n",
       " [7,] 41.57392        41.36274            \n",
       " [8,] 49.52302        24.67430            \n",
       " [9,] 52.25991        18.89645            \n",
       "[10,] 55.70639        13.98203            "
      ]
     },
     "metadata": {},
     "output_type": "display_data"
    }
   ],
   "source": [
    "# Creating a comparision table\n",
    "Prediction = cbind(\n",
    "                \"Day\" = test.data$Day,\n",
    "                \"Actual Active Case(%)\" = test.data$percent_active,\n",
    "                \"Predicted by SVMK\" = svmk.tested$Pridicted_percent_active,\n",
    "                \"Predicted by KNN\" = knn.tested$Pridicted_percent_active,\n",
    "                \"Predicted by LM\" = lm.tested$Pridicted_percent_active,\n",
    "                \"Predicted by Poly LM\" = plm.tested$Pridicted_percent_active\n",
    "             )\n",
    "Prediction"
   ]
  },
  {
   "cell_type": "code",
   "execution_count": 106,
   "metadata": {},
   "outputs": [],
   "source": [
    "# Appending 59th day's data to our training dataset\n",
    "train.data = rbind(train.data, temp.test[1,])            # RUN ONCE!!"
   ]
  },
  {
   "cell_type": "code",
   "execution_count": 107,
   "metadata": {},
   "outputs": [
    {
     "data": {
      "text/html": [
       "<table>\n",
       "<thead><tr><th></th><th scope=col>Day</th><th scope=col>Confirmed</th><th scope=col>Deaths</th><th scope=col>Recovered</th><th scope=col>Active.Cases</th><th scope=col>Closed.Cases</th><th scope=col>percent_active</th><th scope=col>percent_closed</th></tr></thead>\n",
       "<tbody>\n",
       "\t<tr><th scope=row>45</th><td>55       </td><td>81033    </td><td>3217     </td><td>67910    </td><td>9906     </td><td>71127    </td><td>12.224649</td><td>87.77535 </td></tr>\n",
       "\t<tr><th scope=row>46</th><td>56       </td><td>81058    </td><td>3230     </td><td>68798    </td><td>9030     </td><td>72028    </td><td>11.140171</td><td>88.85983 </td></tr>\n",
       "\t<tr><th scope=row>47</th><td>57       </td><td>81103    </td><td>3241     </td><td>69755    </td><td>8107     </td><td>72996    </td><td> 9.995931</td><td>90.00407 </td></tr>\n",
       "\t<tr><th scope=row>48</th><td>58       </td><td>81157    </td><td>3249     </td><td>70535    </td><td>7373     </td><td>73784    </td><td> 9.084860</td><td>90.91514 </td></tr>\n",
       "\t<tr><th scope=row>49</th><td>59       </td><td>81251    </td><td>3253     </td><td>71266    </td><td>6732     </td><td>74519    </td><td> 8.285436</td><td>91.71450 </td></tr>\n",
       "\t<tr><th scope=row>50</th><td>59       </td><td>81251    </td><td>3253     </td><td>71266    </td><td>6732     </td><td>74519    </td><td> 8.285436</td><td>91.71450 </td></tr>\n",
       "</tbody>\n",
       "</table>\n"
      ],
      "text/latex": [
       "\\begin{tabular}{r|llllllll}\n",
       "  & Day & Confirmed & Deaths & Recovered & Active.Cases & Closed.Cases & percent\\_active & percent\\_closed\\\\\n",
       "\\hline\n",
       "\t45 & 55        & 81033     & 3217      & 67910     & 9906      & 71127     & 12.224649 & 87.77535 \\\\\n",
       "\t46 & 56        & 81058     & 3230      & 68798     & 9030      & 72028     & 11.140171 & 88.85983 \\\\\n",
       "\t47 & 57        & 81103     & 3241      & 69755     & 8107      & 72996     &  9.995931 & 90.00407 \\\\\n",
       "\t48 & 58        & 81157     & 3249      & 70535     & 7373      & 73784     &  9.084860 & 90.91514 \\\\\n",
       "\t49 & 59        & 81251     & 3253      & 71266     & 6732      & 74519     &  8.285436 & 91.71450 \\\\\n",
       "\t50 & 59        & 81251     & 3253      & 71266     & 6732      & 74519     &  8.285436 & 91.71450 \\\\\n",
       "\\end{tabular}\n"
      ],
      "text/markdown": [
       "\n",
       "| <!--/--> | Day | Confirmed | Deaths | Recovered | Active.Cases | Closed.Cases | percent_active | percent_closed |\n",
       "|---|---|---|---|---|---|---|---|---|\n",
       "| 45 | 55        | 81033     | 3217      | 67910     | 9906      | 71127     | 12.224649 | 87.77535  |\n",
       "| 46 | 56        | 81058     | 3230      | 68798     | 9030      | 72028     | 11.140171 | 88.85983  |\n",
       "| 47 | 57        | 81103     | 3241      | 69755     | 8107      | 72996     |  9.995931 | 90.00407  |\n",
       "| 48 | 58        | 81157     | 3249      | 70535     | 7373      | 73784     |  9.084860 | 90.91514  |\n",
       "| 49 | 59        | 81251     | 3253      | 71266     | 6732      | 74519     |  8.285436 | 91.71450  |\n",
       "| 50 | 59        | 81251     | 3253      | 71266     | 6732      | 74519     |  8.285436 | 91.71450  |\n",
       "\n"
      ],
      "text/plain": [
       "   Day Confirmed Deaths Recovered Active.Cases Closed.Cases percent_active\n",
       "45 55  81033     3217   67910     9906         71127        12.224649     \n",
       "46 56  81058     3230   68798     9030         72028        11.140171     \n",
       "47 57  81103     3241   69755     8107         72996         9.995931     \n",
       "48 58  81157     3249   70535     7373         73784         9.084860     \n",
       "49 59  81251     3253   71266     6732         74519         8.285436     \n",
       "50 59  81251     3253   71266     6732         74519         8.285436     \n",
       "   percent_closed\n",
       "45 87.77535      \n",
       "46 88.85983      \n",
       "47 90.00407      \n",
       "48 90.91514      \n",
       "49 91.71450      \n",
       "50 91.71450      "
      ]
     },
     "metadata": {},
     "output_type": "display_data"
    }
   ],
   "source": [
    "# Renaming row sequence\n",
    "row.names(train.data) <- NULL\n",
    "tail(train.data)"
   ]
  },
  {
   "cell_type": "code",
   "execution_count": 108,
   "metadata": {},
   "outputs": [],
   "source": [
    "# training once more on updated training dataset\n",
    "fit.plm = lm(percent_active ~ poly(Day, deg, raw = TRUE), data = train.data)"
   ]
  },
  {
   "cell_type": "code",
   "execution_count": null,
   "metadata": {},
   "outputs": [],
   "source": []
  },
  {
   "cell_type": "code",
   "execution_count": null,
   "metadata": {},
   "outputs": [],
   "source": []
  },
  {
   "cell_type": "code",
   "execution_count": null,
   "metadata": {},
   "outputs": [],
   "source": []
  },
  {
   "cell_type": "code",
   "execution_count": 109,
   "metadata": {},
   "outputs": [],
   "source": [
    "# At this point, we can clearly see that we should one among Polynomial Regession and KNN algo.\n",
    "# But, we also know that Polynomial Regression better fits into trend as compared to KNN, as per the visualization, above.\n",
    "# So, we find that Polynomial regression is best\n",
    "\n",
    "# Hence, we'll be choosing Polynomial Regression with Degree = 16\n",
    "\n",
    "# now we are ready to go for the last step in our COVID-19 analysis i.e. Deployment & hence, to get the status of China, in few of the upcoming days:"
   ]
  },
  {
   "cell_type": "markdown",
   "metadata": {},
   "source": [
    "<br />"
   ]
  },
  {
   "cell_type": "markdown",
   "metadata": {},
   "source": [
    "## Deployment:"
   ]
  },
  {
   "cell_type": "code",
   "execution_count": 110,
   "metadata": {},
   "outputs": [],
   "source": [
    "# We have trained our model by Polynomial Regression Algorithm"
   ]
  },
  {
   "cell_type": "code",
   "execution_count": 111,
   "metadata": {},
   "outputs": [],
   "source": [
    "# Degree: 7"
   ]
  },
  {
   "cell_type": "code",
   "execution_count": 112,
   "metadata": {},
   "outputs": [
    {
     "data": {
      "text/plain": [
       "\n",
       "Call:\n",
       "lm(formula = percent_active ~ poly(Day, deg, raw = TRUE), data = train.data)\n",
       "\n",
       "Residuals:\n",
       "    Min      1Q  Median      3Q     Max \n",
       "-1.4902 -0.6773  0.1370  0.6113  1.1320 \n",
       "\n",
       "Coefficients:\n",
       "                              Estimate Std. Error t value Pr(>|t|)    \n",
       "(Intercept)                  8.910e+01  1.176e+00  75.750  < 2e-16 ***\n",
       "poly(Day, deg, raw = TRUE)1  2.273e+00  7.054e-01   3.222  0.00246 ** \n",
       "poly(Day, deg, raw = TRUE)2 -2.622e-01  1.336e-01  -1.963  0.05624 .  \n",
       "poly(Day, deg, raw = TRUE)3  1.233e-02  1.124e-02   1.097  0.27878    \n",
       "poly(Day, deg, raw = TRUE)4 -2.433e-04  4.863e-04  -0.500  0.61951    \n",
       "poly(Day, deg, raw = TRUE)5 -1.787e-06  1.127e-05  -0.159  0.87471    \n",
       "poly(Day, deg, raw = TRUE)6  1.086e-07  1.328e-07   0.817  0.41828    \n",
       "poly(Day, deg, raw = TRUE)7 -8.796e-10  6.252e-10  -1.407  0.16681    \n",
       "---\n",
       "Signif. codes:  0 ‘***’ 0.001 ‘**’ 0.01 ‘*’ 0.05 ‘.’ 0.1 ‘ ’ 1\n",
       "\n",
       "Residual standard error: 0.8229 on 42 degrees of freedom\n",
       "Multiple R-squared:  0.9994,\tAdjusted R-squared:  0.9993 \n",
       "F-statistic: 1.076e+04 on 7 and 42 DF,  p-value: < 2.2e-16\n"
      ]
     },
     "metadata": {},
     "output_type": "display_data"
    }
   ],
   "source": [
    "# Summary of trained model\n",
    "summary(fit.plm)"
   ]
  },
  {
   "cell_type": "code",
   "execution_count": 113,
   "metadata": {},
   "outputs": [
    {
     "data": {
      "text/html": [
       "<table>\n",
       "<thead><tr><th></th><th scope=col>Degree</th><th scope=col>RMSE</th><th scope=col>RSE</th><th scope=col>R2</th></tr></thead>\n",
       "<tbody>\n",
       "\t<tr><th scope=row>7</th><td>7        </td><td>0.7221723</td><td>0.7828161</td><td>0.9994558</td></tr>\n",
       "</tbody>\n",
       "</table>\n"
      ],
      "text/latex": [
       "\\begin{tabular}{r|llll}\n",
       "  & Degree & RMSE & RSE & R2\\\\\n",
       "\\hline\n",
       "\t7 & 7         & 0.7221723 & 0.7828161 & 0.9994558\\\\\n",
       "\\end{tabular}\n"
      ],
      "text/markdown": [
       "\n",
       "| <!--/--> | Degree | RMSE | RSE | R2 |\n",
       "|---|---|---|---|---|\n",
       "| 7 | 7         | 0.7221723 | 0.7828161 | 0.9994558 |\n",
       "\n"
      ],
      "text/plain": [
       "  Degree RMSE      RSE       R2       \n",
       "7 7      0.7221723 0.7828161 0.9994558"
      ]
     },
     "metadata": {},
     "output_type": "display_data"
    }
   ],
   "source": [
    "# Accurecy\n",
    "plm.predictions[which(plm.predictions$Degree == deg),]"
   ]
  },
  {
   "cell_type": "code",
   "execution_count": 114,
   "metadata": {},
   "outputs": [
    {
     "data": {
      "image/png": "[encoded data removed]",
      "text/plain": [
       "plot without title"
      ]
     },
     "metadata": {
      "image/png": {
       "height": 420,
       "width": 420
      },
      "text/plain": {
       "height": 420,
       "width": 420
      }
     },
     "output_type": "display_data"
    }
   ],
   "source": [
    "# Visualization to see how accuratly our model fits while testing\n",
    "ggplot(test.data, aes(Day, percent_active) ) +\n",
    "    geom_point() +\n",
    "    stat_smooth(method = lm, formula = y ~ poly(x, deg, raw = TRUE)) +   # polynomial function\n",
    "  \n",
    "    # decoration\n",
    "    labs( x = \"Days\", y = \"Active Cases (%)\", title = paste(\"\\nTesting plot\", rName, sep = \" - \") ) +\n",
    "    theme( plot.title = element_text(size = 20, face = \"bold\")) "
   ]
  },
  {
   "cell_type": "markdown",
   "metadata": {},
   "source": [
    "<br /> <hr />"
   ]
  },
  {
   "cell_type": "code",
   "execution_count": 115,
   "metadata": {},
   "outputs": [],
   "source": [
    "# Now we ready to find the estimate of next one week's status of China about Active Case(%)"
   ]
  },
  {
   "cell_type": "code",
   "execution_count": 116,
   "metadata": {},
   "outputs": [],
   "source": [
    "# Preparing our dataset to store next 7 days' estimate"
   ]
  },
  {
   "cell_type": "code",
   "execution_count": 117,
   "metadata": {},
   "outputs": [],
   "source": [
    "\n",
    "d = as.Date(\"20/01/2020\", format(c(\"%d/%m/%Y\")))\n",
    "date = as.character((c(1:7) + d), format(c(\"%d/%m/%Y\")))\n",
    "\n",
    "finalEstimate <- data.frame(\n",
    "                             Day = 60:66,\n",
    "                             Date = date\n",
    "                           )\n"
   ]
  },
  {
   "cell_type": "code",
   "execution_count": 118,
   "metadata": {},
   "outputs": [],
   "source": [
    "# Predicting the estimate for the Active Case percentage, that is likely to be on the following week"
   ]
  },
  {
   "cell_type": "code",
   "execution_count": 119,
   "metadata": {},
   "outputs": [],
   "source": [
    "finalEstimate$\"Estimated Active Case(%)\" = predict(fit.plm, finalEstimate)"
   ]
  },
  {
   "cell_type": "code",
   "execution_count": 120,
   "metadata": {},
   "outputs": [
    {
     "data": {
      "text/html": [
       "<table>\n",
       "<thead><tr><th scope=col>Day</th><th scope=col>Date</th><th scope=col>Estimated Active Case(%)</th></tr></thead>\n",
       "<tbody>\n",
       "\t<tr><td>60        </td><td>21/01/2020</td><td>  5.252649</td></tr>\n",
       "\t<tr><td>61        </td><td>22/01/2020</td><td>  1.991766</td></tr>\n",
       "\t<tr><td>62        </td><td>23/01/2020</td><td> -2.370763</td></tr>\n",
       "\t<tr><td>63        </td><td>24/01/2020</td><td> -8.138436</td></tr>\n",
       "\t<tr><td>64        </td><td>25/01/2020</td><td>-15.659784</td></tr>\n",
       "\t<tr><td>65        </td><td>26/01/2020</td><td>-25.332365</td></tr>\n",
       "\t<tr><td>66        </td><td>27/01/2020</td><td>-37.606953</td></tr>\n",
       "</tbody>\n",
       "</table>\n"
      ],
      "text/latex": [
       "\\begin{tabular}{r|lll}\n",
       " Day & Date & Estimated Active Case(\\%)\\\\\n",
       "\\hline\n",
       "\t 60         & 21/01/2020 &   5.252649\\\\\n",
       "\t 61         & 22/01/2020 &   1.991766\\\\\n",
       "\t 62         & 23/01/2020 &  -2.370763\\\\\n",
       "\t 63         & 24/01/2020 &  -8.138436\\\\\n",
       "\t 64         & 25/01/2020 & -15.659784\\\\\n",
       "\t 65         & 26/01/2020 & -25.332365\\\\\n",
       "\t 66         & 27/01/2020 & -37.606953\\\\\n",
       "\\end{tabular}\n"
      ],
      "text/markdown": [
       "\n",
       "| Day | Date | Estimated Active Case(%) |\n",
       "|---|---|---|\n",
       "| 60         | 21/01/2020 |   5.252649 |\n",
       "| 61         | 22/01/2020 |   1.991766 |\n",
       "| 62         | 23/01/2020 |  -2.370763 |\n",
       "| 63         | 24/01/2020 |  -8.138436 |\n",
       "| 64         | 25/01/2020 | -15.659784 |\n",
       "| 65         | 26/01/2020 | -25.332365 |\n",
       "| 66         | 27/01/2020 | -37.606953 |\n",
       "\n"
      ],
      "text/plain": [
       "  Day Date       Estimated Active Case(%)\n",
       "1 60  21/01/2020   5.252649              \n",
       "2 61  22/01/2020   1.991766              \n",
       "3 62  23/01/2020  -2.370763              \n",
       "4 63  24/01/2020  -8.138436              \n",
       "5 64  25/01/2020 -15.659784              \n",
       "6 65  26/01/2020 -25.332365              \n",
       "7 66  27/01/2020 -37.606953              "
      ]
     },
     "metadata": {},
     "output_type": "display_data"
    }
   ],
   "source": [
    "# Viewing the predictions\n",
    "finalEstimate"
   ]
  },
  {
   "cell_type": "code",
   "execution_count": null,
   "metadata": {},
   "outputs": [],
   "source": []
  },
  {
   "cell_type": "code",
   "execution_count": null,
   "metadata": {},
   "outputs": [],
   "source": []
  },
  {
   "cell_type": "markdown",
   "metadata": {},
   "source": [
    "<hr />"
   ]
  },
  {
   "cell_type": "code",
   "execution_count": 694,
   "metadata": {},
   "outputs": [],
   "source": [
    "# Conclusion"
   ]
  },
  {
   "cell_type": "code",
   "execution_count": null,
   "metadata": {},
   "outputs": [],
   "source": [
    "# So by this whole analysis we come to a conclusion that within next 3-days, China is likely to declear that it has controled the spread of the COVID-19 in it's provinces\n",
    "# as well as hopefully all the current cases would be closed within next one week!"
   ]
  },
  {
   "cell_type": "code",
   "execution_count": 134,
   "metadata": {},
   "outputs": [],
   "source": [
    "# Hence now China should start to focus on taking precautions in most sensitive areas in order to ensere no new COVID-19 case.\n",
    "# Now, a far more COVID-19 cases are closing as compared to those that are being reported, newly."
   ]
  },
  {
   "cell_type": "code",
   "execution_count": 135,
   "metadata": {},
   "outputs": [],
   "source": [
    "# Following word-cloud Visualizations can support our analysis"
   ]
  },
  {
   "cell_type": "code",
   "execution_count": null,
   "metadata": {},
   "outputs": [],
   "source": []
  },
  {
   "cell_type": "code",
   "execution_count": null,
   "metadata": {},
   "outputs": [],
   "source": []
  },
  {
   "cell_type": "markdown",
   "metadata": {},
   "source": [
    "<hr />"
   ]
  }
 ],
 "metadata": {
  "kernelspec": {
   "display_name": "R",
   "language": "R",
   "name": "ir"
  },
  "language_info": {
   "codemirror_mode": "r",
   "file_extension": ".r",
   "mimetype": "text/x-r-source",
   "name": "R",
   "pygments_lexer": "r",
   "version": "3.6.1"
  }
 },
 "nbformat": 4,
 "nbformat_minor": 2
}
