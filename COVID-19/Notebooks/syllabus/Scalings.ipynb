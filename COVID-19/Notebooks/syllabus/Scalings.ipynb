{
 "cells": [
  {
   "cell_type": "markdown",
   "metadata": {},
   "source": [
    "# Scaling & its types"
   ]
  },
  {
   "cell_type": "markdown",
   "metadata": {},
   "source": [
    "> * This file implements all (important) scaling methods\n",
    "> * Talks about there effects on the datasets\n",
    "> * When which method can be used"
   ]
  },
  {
   "cell_type": "code",
   "execution_count": 5,
   "metadata": {},
   "outputs": [],
   "source": [
    "setwd(\"~/Documents/A-tracking-of-2019-nCoV/COVID-19\")"
   ]
  },
  {
   "cell_type": "code",
   "execution_count": 6,
   "metadata": {},
   "outputs": [],
   "source": [
    "bulk = read.csv(\"ready_to_use/COVID-19//Mixed/countryWise_bulk_summary.csv\")"
   ]
  },
  {
   "cell_type": "code",
   "execution_count": 7,
   "metadata": {},
   "outputs": [
    {
     "data": {
      "text/html": [
       "<table>\n",
       "<thead><tr><th scope=col>Country</th><th scope=col>Day</th><th scope=col>Date</th><th scope=col>Confirmed</th><th scope=col>Deaths</th><th scope=col>Recovered</th><th scope=col>Active.Cases</th><th scope=col>Closed.Cases</th></tr></thead>\n",
       "<tbody>\n",
       "\t<tr><td>Afghanistan</td><td>1          </td><td>22-01-2020 </td><td>0          </td><td>0          </td><td>0          </td><td>0          </td><td>0          </td></tr>\n",
       "\t<tr><td>Afghanistan</td><td>2          </td><td>23-01-2020 </td><td>0          </td><td>0          </td><td>0          </td><td>0          </td><td>0          </td></tr>\n",
       "\t<tr><td>Afghanistan</td><td>3          </td><td>24-01-2020 </td><td>0          </td><td>0          </td><td>0          </td><td>0          </td><td>0          </td></tr>\n",
       "\t<tr><td>Afghanistan</td><td>4          </td><td>25-01-2020 </td><td>0          </td><td>0          </td><td>0          </td><td>0          </td><td>0          </td></tr>\n",
       "\t<tr><td>Afghanistan</td><td>5          </td><td>26-01-2020 </td><td>0          </td><td>0          </td><td>0          </td><td>0          </td><td>0          </td></tr>\n",
       "\t<tr><td>Afghanistan</td><td>6          </td><td>27-01-2020 </td><td>0          </td><td>0          </td><td>0          </td><td>0          </td><td>0          </td></tr>\n",
       "</tbody>\n",
       "</table>\n"
      ],
      "text/latex": [
       "\\begin{tabular}{r|llllllll}\n",
       " Country & Day & Date & Confirmed & Deaths & Recovered & Active.Cases & Closed.Cases\\\\\n",
       "\\hline\n",
       "\t Afghanistan & 1           & 22-01-2020  & 0           & 0           & 0           & 0           & 0          \\\\\n",
       "\t Afghanistan & 2           & 23-01-2020  & 0           & 0           & 0           & 0           & 0          \\\\\n",
       "\t Afghanistan & 3           & 24-01-2020  & 0           & 0           & 0           & 0           & 0          \\\\\n",
       "\t Afghanistan & 4           & 25-01-2020  & 0           & 0           & 0           & 0           & 0          \\\\\n",
       "\t Afghanistan & 5           & 26-01-2020  & 0           & 0           & 0           & 0           & 0          \\\\\n",
       "\t Afghanistan & 6           & 27-01-2020  & 0           & 0           & 0           & 0           & 0          \\\\\n",
       "\\end{tabular}\n"
      ],
      "text/markdown": [
       "\n",
       "| Country | Day | Date | Confirmed | Deaths | Recovered | Active.Cases | Closed.Cases |\n",
       "|---|---|---|---|---|---|---|---|\n",
       "| Afghanistan | 1           | 22-01-2020  | 0           | 0           | 0           | 0           | 0           |\n",
       "| Afghanistan | 2           | 23-01-2020  | 0           | 0           | 0           | 0           | 0           |\n",
       "| Afghanistan | 3           | 24-01-2020  | 0           | 0           | 0           | 0           | 0           |\n",
       "| Afghanistan | 4           | 25-01-2020  | 0           | 0           | 0           | 0           | 0           |\n",
       "| Afghanistan | 5           | 26-01-2020  | 0           | 0           | 0           | 0           | 0           |\n",
       "| Afghanistan | 6           | 27-01-2020  | 0           | 0           | 0           | 0           | 0           |\n",
       "\n"
      ],
      "text/plain": [
       "  Country     Day Date       Confirmed Deaths Recovered Active.Cases\n",
       "1 Afghanistan 1   22-01-2020 0         0      0         0           \n",
       "2 Afghanistan 2   23-01-2020 0         0      0         0           \n",
       "3 Afghanistan 3   24-01-2020 0         0      0         0           \n",
       "4 Afghanistan 4   25-01-2020 0         0      0         0           \n",
       "5 Afghanistan 5   26-01-2020 0         0      0         0           \n",
       "6 Afghanistan 6   27-01-2020 0         0      0         0           \n",
       "  Closed.Cases\n",
       "1 0           \n",
       "2 0           \n",
       "3 0           \n",
       "4 0           \n",
       "5 0           \n",
       "6 0           "
      ]
     },
     "metadata": {},
     "output_type": "display_data"
    }
   ],
   "source": [
    "head(bulk)"
   ]
  },
  {
   "cell_type": "code",
   "execution_count": 8,
   "metadata": {},
   "outputs": [
    {
     "data": {
      "text/html": [
       "<table>\n",
       "<thead><tr><th></th><th scope=col>Country</th><th scope=col>Day</th><th scope=col>Date</th><th scope=col>Confirmed</th><th scope=col>Deaths</th><th scope=col>Recovered</th><th scope=col>Active.Cases</th><th scope=col>Closed.Cases</th></tr></thead>\n",
       "<tbody>\n",
       "\t<tr><th scope=row>8520</th><td>Vietnam   </td><td>50        </td><td>11-03-2020</td><td>38        </td><td>0         </td><td>16        </td><td>22        </td><td>16        </td></tr>\n",
       "\t<tr><th scope=row>8521</th><td>Vietnam   </td><td>51        </td><td>12-03-2020</td><td>39        </td><td>0         </td><td>16        </td><td>23        </td><td>16        </td></tr>\n",
       "\t<tr><th scope=row>8522</th><td>Vietnam   </td><td>52        </td><td>13-03-2020</td><td>47        </td><td>0         </td><td>16        </td><td>31        </td><td>16        </td></tr>\n",
       "\t<tr><th scope=row>8523</th><td>Vietnam   </td><td>53        </td><td>14-03-2020</td><td>53        </td><td>0         </td><td>16        </td><td>37        </td><td>16        </td></tr>\n",
       "\t<tr><th scope=row>8524</th><td>Vietnam   </td><td>54        </td><td>15-03-2020</td><td>56        </td><td>0         </td><td>16        </td><td>40        </td><td>16        </td></tr>\n",
       "\t<tr><th scope=row>8525</th><td>Vietnam   </td><td>55        </td><td>16-03-2020</td><td>61        </td><td>0         </td><td>16        </td><td>45        </td><td>16        </td></tr>\n",
       "</tbody>\n",
       "</table>\n"
      ],
      "text/latex": [
       "\\begin{tabular}{r|llllllll}\n",
       "  & Country & Day & Date & Confirmed & Deaths & Recovered & Active.Cases & Closed.Cases\\\\\n",
       "\\hline\n",
       "\t8520 & Vietnam    & 50         & 11-03-2020 & 38         & 0          & 16         & 22         & 16        \\\\\n",
       "\t8521 & Vietnam    & 51         & 12-03-2020 & 39         & 0          & 16         & 23         & 16        \\\\\n",
       "\t8522 & Vietnam    & 52         & 13-03-2020 & 47         & 0          & 16         & 31         & 16        \\\\\n",
       "\t8523 & Vietnam    & 53         & 14-03-2020 & 53         & 0          & 16         & 37         & 16        \\\\\n",
       "\t8524 & Vietnam    & 54         & 15-03-2020 & 56         & 0          & 16         & 40         & 16        \\\\\n",
       "\t8525 & Vietnam    & 55         & 16-03-2020 & 61         & 0          & 16         & 45         & 16        \\\\\n",
       "\\end{tabular}\n"
      ],
      "text/markdown": [
       "\n",
       "| <!--/--> | Country | Day | Date | Confirmed | Deaths | Recovered | Active.Cases | Closed.Cases |\n",
       "|---|---|---|---|---|---|---|---|---|\n",
       "| 8520 | Vietnam    | 50         | 11-03-2020 | 38         | 0          | 16         | 22         | 16         |\n",
       "| 8521 | Vietnam    | 51         | 12-03-2020 | 39         | 0          | 16         | 23         | 16         |\n",
       "| 8522 | Vietnam    | 52         | 13-03-2020 | 47         | 0          | 16         | 31         | 16         |\n",
       "| 8523 | Vietnam    | 53         | 14-03-2020 | 53         | 0          | 16         | 37         | 16         |\n",
       "| 8524 | Vietnam    | 54         | 15-03-2020 | 56         | 0          | 16         | 40         | 16         |\n",
       "| 8525 | Vietnam    | 55         | 16-03-2020 | 61         | 0          | 16         | 45         | 16         |\n",
       "\n"
      ],
      "text/plain": [
       "     Country Day Date       Confirmed Deaths Recovered Active.Cases\n",
       "8520 Vietnam 50  11-03-2020 38        0      16        22          \n",
       "8521 Vietnam 51  12-03-2020 39        0      16        23          \n",
       "8522 Vietnam 52  13-03-2020 47        0      16        31          \n",
       "8523 Vietnam 53  14-03-2020 53        0      16        37          \n",
       "8524 Vietnam 54  15-03-2020 56        0      16        40          \n",
       "8525 Vietnam 55  16-03-2020 61        0      16        45          \n",
       "     Closed.Cases\n",
       "8520 16          \n",
       "8521 16          \n",
       "8522 16          \n",
       "8523 16          \n",
       "8524 16          \n",
       "8525 16          "
      ]
     },
     "metadata": {},
     "output_type": "display_data"
    }
   ],
   "source": [
    "tail(bulk)"
   ]
  },
  {
   "cell_type": "code",
   "execution_count": null,
   "metadata": {},
   "outputs": [],
   "source": []
  },
  {
   "cell_type": "markdown",
   "metadata": {},
   "source": [
    "#### scaling (various types):"
   ]
  },
  {
   "cell_type": "code",
   "execution_count": null,
   "metadata": {},
   "outputs": [],
   "source": [
    "#"
   ]
  }
 ],
 "metadata": {
  "kernelspec": {
   "display_name": "R",
   "language": "R",
   "name": "ir"
  },
  "language_info": {
   "codemirror_mode": "r",
   "file_extension": ".r",
   "mimetype": "text/x-r-source",
   "name": "R",
   "pygments_lexer": "r",
   "version": "3.6.1"
  }
 },
 "nbformat": 4,
 "nbformat_minor": 2
}
