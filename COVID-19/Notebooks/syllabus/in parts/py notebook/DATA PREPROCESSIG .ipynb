{
 "cells": [
  {
   "cell_type": "markdown",
   "metadata": {},
   "source": [
    "# DATA PREPROCESSIG "
   ]
  },
  {
   "cell_type": "markdown",
   "metadata": {},
   "source": [
    "#### Setup"
   ]
  },
  {
   "cell_type": "code",
   "execution_count": null,
   "metadata": {},
   "outputs": [],
   "source": [
    "# loading library for string operations\n",
    "library(stringr)\n",
    "\n",
    "library(AUCRF)\n",
    "library(randomForest)\n",
    "library(RFmarkerDetector) "
   ]
  },
  {
   "cell_type": "code",
   "execution_count": null,
   "metadata": {},
   "outputs": [],
   "source": [
    "check.Confirmed = read.csv(\"Johns H. University/csse_covid_19_time_series/time_series_19-covid-Confirmed.csv\")\n",
    "  check.Deaths = read.csv(\"Johns H. University/csse_covid_19_time_series/time_series_19-covid-Deaths.csv\")\n",
    "  check.Recovered = read.csv(\"Johns H. University/csse_covid_19_time_series/time_series_19-covid-Recovered.csv\")\n"
   ]
  },
  {
   "cell_type": "code",
   "execution_count": null,
   "metadata": {},
   "outputs": [],
   "source": []
  },
  {
   "cell_type": "code",
   "execution_count": null,
   "metadata": {},
   "outputs": [],
   "source": []
  },
  {
   "cell_type": "code",
   "execution_count": null,
   "metadata": {},
   "outputs": [],
   "source": []
  },
  {
   "cell_type": "code",
   "execution_count": null,
   "metadata": {},
   "outputs": [],
   "source": []
  },
  {
   "cell_type": "code",
   "execution_count": null,
   "metadata": {},
   "outputs": [],
   "source": []
  },
  {
   "cell_type": "markdown",
   "metadata": {},
   "source": [
    "<br /><br /><br />"
   ]
  },
  {
   "cell_type": "markdown",
   "metadata": {},
   "source": [
    "## Pre-Processing"
   ]
  },
  {
   "cell_type": "markdown",
   "metadata": {},
   "source": [
    "#### NA"
   ]
  },
  {
   "cell_type": "code",
   "execution_count": null,
   "metadata": {},
   "outputs": [],
   "source": [
    "for (i in 1:nrow(check.Confirmed)) {\n",
    "  for (j in 5:ncol(check.Confirmed)) {\n",
    "    if(j==5) {\n",
    "      check.Confirmed[i,j] = ifelse(is.na(check.Confirmed[i, j]), 0, check.Confirmed[i,j])\n",
    "    } else {\n",
    "      if(is.na(check.Confirmed[i, j])){\n",
    "        check.Confirmed[i,j] = check.Confirmed[i, (j-1)]\n",
    "      } else if(check.Confirmed[i, (j-1)] > check.Confirmed[i, j]){\n",
    "        check.Confirmed[i,j] = check.Confirmed[i, (j-1)]\n",
    "      }\n",
    "    }\n",
    "  }\n",
    "}\n",
    "\n",
    "for (i in 1:nrow(check.Deaths)) {\n",
    "  for (j in 5:ncol(check.Deaths)) {\n",
    "    if(j==5) {\n",
    "      check.Deaths[i,j] = ifelse(is.na(check.Deaths[i, j]), 0, check.Deaths[i,j])\n",
    "    } else {\n",
    "      if(is.na(check.Deaths[i, j])){\n",
    "        check.Deaths[i,j] = check.Deaths[i, (j-1)]\n",
    "      } else if(check.Deaths[i, (j-1)] > check.Deaths[i, j]){\n",
    "        check.Deaths[i,j] = check.Deaths[i, (j-1)]\n",
    "      }\n",
    "    }\n",
    "  }\n",
    "}\n",
    "\n",
    "for (i in 1:nrow(check.Recovered)) {\n",
    "  for (j in 5:ncol(check.Recovered)) {\n",
    "    if(j==5) {\n",
    "      check.Recovered[i,j] = ifelse(is.na(check.Recovered[i, j]), 0, check.Recovered[i,j])\n",
    "    } else {\n",
    "      if(is.na(check.Recovered[i, j])){\n",
    "        check.Recovered[i,j] = check.Recovered[i, (j-1)]\n",
    "      } else if(check.Recovered[i, (j-1)] > check.Recovered[i, j]){\n",
    "        check.Recovered[i,j] = check.Recovered[i, (j-1)]\n",
    "      }\n",
    "    }\n",
    "  }\n",
    "}\n",
    "\n",
    "####################\n",
    "#View(check.Confirmed)\n",
    "#View(check.Deaths)\n",
    "#View(check.Recovered)\n"
   ]
  },
  {
   "cell_type": "markdown",
   "metadata": {},
   "source": [
    "<br /><br />"
   ]
  },
  {
   "cell_type": "markdown",
   "metadata": {},
   "source": [
    "#### Replacement"
   ]
  },
  {
   "cell_type": "code",
   "execution_count": null,
   "metadata": {},
   "outputs": [],
   "source": [
    "# replacing in states\n",
    "states = as.character(check.Confirmed$Province.State)\n",
    "states.levels = as.character(levels(check.Confirmed$Province.State))\n",
    "\n",
    "states[states %in% \"\"] = \"Others\"\n",
    "states[states %in% \"From Diamond Princess\"] = \"Diamond Princess\"\n",
    "states.levels[states.levels %in% \"\"] = \"Others\"\n",
    "states.levels = states.levels[!states.levels %in% \"From Diamond Princess\"]\n",
    "\n",
    "# replacing in countries\n",
    "countries = as.character(check.Confirmed$Country.Region)\n",
    "countries.levels = as.character(levels(check.Confirmed$Country.Region))\n",
    "\n",
    "countries[countries %in% \"US\"] = \"United States\"\n",
    "countries[countries %in% \"UK\"] = \"United Kingdom\"\n",
    "countries[countries %in% \"Taiwan*\"] = \"Taiwan\"\n",
    "countries[countries %in% \"The Bahamas\"] = \"Bahamas\"\n",
    "countries[countries %in% \"Gambia, The\"] = \"Gambia\"\n",
    "countries[countries %in% \"Korea, South\"] = \"South Korea\"\n",
    "countries[countries %in% c(\"Congo (Brazzaville)\", \"Congo (Kinshasa)\", \"Republic of the Congo\")] = \"Democratic Republic of the Congo\"\n",
    "###\n",
    "countries.levels[countries.levels %in% \"US\"] = \"United States\"\n",
    "countries.levels[countries.levels %in% \"UK\"] = \"United Kingdom\"\n",
    "countries.levels[countries.levels %in% \"Taiwan*\"] = \"Taiwan\"\n",
    "countries.levels[countries.levels %in% \"The Bahamas\"] = \"Bahamas\"\n",
    "countries.levels[countries.levels %in% \"Gambia, The\"] = \"Gambia\"\n",
    "countries.levels[countries.levels %in% \"Korea, South\"] = \"South Korea\"\n",
    "\n",
    "countries.levels = countries.levels[!countries.levels %in% c(\"Congo (Brazzaville)\", \"Congo (Kinshasa)\", \"Republic of the Congo\")]\n",
    "countries.levels = c(countries.levels, \"Democratic Republic of the Congo\")\n",
    "\n",
    "###############################\n",
    "\n",
    "# rectified fectors\n",
    "states.factor  = factor(c(states), levels = c(states.levels))\n",
    "countries.factor  = factor(countries, levels = countries.levels)\n",
    "\n",
    "\n",
    "# editing factors in datasets\n",
    "check.Confirmed = cbind(\n",
    "                    Province.State = states.factor,\n",
    "                    Country.Region = countries.factor,\n",
    "                    check.Confirmed[,3:ncol(check.Confirmed)]\n",
    "                  )\n",
    "\n",
    "check.Deaths = cbind(\n",
    "                    Province.State = states.factor,\n",
    "                    Country.Region = countries.factor,\n",
    "                    check.Deaths[,3:ncol(check.Deaths)]\n",
    "                  )\n",
    "\n",
    "check.Recovered = cbind(\n",
    "                    Province.State = states.factor,\n",
    "                    Country.Region = countries.factor,\n",
    "                    check.Recovered[,3:ncol(check.Recovered)]\n",
    "                  )\n",
    "\n"
   ]
  },
  {
   "cell_type": "code",
   "execution_count": null,
   "metadata": {},
   "outputs": [],
   "source": [
    "\n",
    "## Closed cases (i.e. Recovered or Death cases)\n",
    "cases.Closed = cbind(check.Confirmed[,1:4],  (check.Deaths[,5:ncol(check.Deaths)] + check.Recovered[,5:ncol(check.Recovered)]))\n",
    "## Active cases \n",
    "cases.Active = cbind(check.Confirmed[,1:4],  (check.Confirmed[,5:ncol(check.Confirmed)] - cases.Closed[,5:ncol(cases.Closed)]))\n",
    "\n",
    "\n",
    "###  When and Where COVID-19 ever.Affected / still.Affected  --->  excluding Diamond Princess\n",
    "ever.Affected = check.Confirmed\n",
    "# Unit scaling\n",
    "for (i in row.names(ever.Affected)) {\n",
    "  for (j in 5:ncol(ever.Affected)) {\n",
    "    if(ever.Affected[i,j] != 0)\n",
    "      ever.Affected[i,j] = 1\n",
    "  }\n",
    "}\n",
    "\n",
    "still.Affected = check.Confirmed\n",
    "# Unit scaling\n",
    "for (i in row.names(still.Affected)) {\n",
    "  for (j in 5:ncol(still.Affected)) {\n",
    "    if(still.Affected[i,j] != 0)\n",
    "      still.Affected[i,j] = 1\n",
    "  }\n",
    "}"
   ]
  },
  {
   "cell_type": "markdown",
   "metadata": {},
   "source": [
    "<br /><br />"
   ]
  },
  {
   "cell_type": "markdown",
   "metadata": {},
   "source": [
    "#### Reduction"
   ]
  },
  {
   "cell_type": "code",
   "execution_count": null,
   "metadata": {},
   "outputs": [],
   "source": [
    "# Removing outlier i.e. Diamond.Princess\n",
    "Diamond.Princess.Confirmed = check.Confirmed[ which(str_detect(check.Confirmed$Country.Region, \"Cruise Ship\", negate = F)), ]\n",
    "check.Confirmed = check.Confirmed[ which(str_detect(check.Confirmed$Country.Region, \"Cruise Ship\", negate = T)), ]\n",
    "\n",
    "Diamond.Princess.Deaths = check.Deaths[ which(str_detect(check.Deaths$Country.Region, \"Cruise Ship\", negate = F)),]\n",
    "check.Deaths = check.Deaths[ which(str_detect(check.Deaths$Country.Region, \"Cruise Ship\", negate = T)), ]\n",
    "\n",
    "Diamond.Princess.Recovered = check.Recovered[ which(str_detect(check.Recovered$Country.Region, \"Cruise Ship\", negate = F)), ]\n",
    "check.Recovered = check.Recovered[ which(str_detect(check.Recovered$Country.Region, \"Cruise Ship\", negate = T)), ]\n",
    "\n",
    "\n",
    "\n",
    "## Rectifying Row sequences\n",
    "row.names(check.Confirmed) <- NULL\n",
    "row.names(check.Deaths) <- NULL\n",
    "row.names(check.Recovered) <- NULL\n",
    "\n",
    "\n",
    "# Removing outlier i.e. Hubei\n",
    "Hubei.Confirmed = check.Confirmed[ which(str_detect(check.Confirmed$Province.State, \"Hubei\", negate = F)), ]\n",
    "check.Confirmed = check.Confirmed[ which(str_detect(check.Confirmed$Province.State, \"Hubei\", negate = T)), ]\n",
    "\n",
    "Hubei.Deaths = check.Deaths[ which(str_detect(check.Deaths$Province.State, \"Hubei\", negate = F)),]\n",
    "check.Deaths = check.Deaths[ which(str_detect(check.Deaths$Province.State, \"Hubei\", negate = T)), ]\n",
    "\n",
    "Hubei.Recovered = check.Recovered[ which(str_detect(check.Recovered$Province.State, \"Hubei\", negate = F)), ]\n",
    "check.Recovered = check.Recovered[ which(str_detect(check.Recovered$Province.State, \"Hubei\", negate = T)), ]\n",
    "\n",
    "\n",
    "\n",
    "## Rectifying Row sequences\n",
    "row.names(check.Confirmed) <- NULL\n",
    "row.names(check.Deaths) <- NULL\n",
    "row.names(check.Recovered) <- NULL\n",
    "\n",
    "row.names(Diamond.Princess.Confirmed) <- NULL\n",
    "row.names(Diamond.Princess.Deaths) <- NULL\n",
    "row.names(Diamond.Princess.Recovered) <- NULL\n",
    "\n",
    "row.names(Hubei.Confirmed) <- NULL\n",
    "row.names(Hubei.Deaths) <- NULL\n",
    "row.names(Hubei.Recovered) <- NULL\n",
    "\n",
    "\n",
    "###\n",
    "\n",
    "\n",
    "#----------------------------------------------#\n",
    "\n",
    "\n",
    "\n",
    "\n",
    "# creating new .csv file after cleaning the data\n",
    "\n",
    "## Diamond Princess\n",
    "write.csv(Diamond.Princess.Confirmed, file = \"cleaned/Diamond-Princess/time_series_19-covid-Confirmed.csv\", row.names = FALSE)\n",
    "write.csv(Diamond.Princess.Deaths, file = \"cleaned/Diamond-Princess/time_series_19-covid-Deaths.csv\", row.names = FALSE)\n",
    "write.csv(Diamond.Princess.Recovered, file = \"cleaned/Diamond-Princess/time_series_19-covid-Recovered.csv\", row.names = FALSE)\n",
    "\n",
    "## Hubei\n",
    "write.csv(Hubei.Confirmed, file = \"cleaned/Hubei/time_series_19-covid-Confirmed.csv\", row.names = FALSE)\n",
    "write.csv(Hubei.Deaths, file = \"cleaned/Hubei/time_series_19-covid-Deaths.csv\", row.names = FALSE)\n",
    "write.csv(Hubei.Recovered, file = \"cleaned/Hubei/time_series_19-covid-Recovered.csv\", row.names = FALSE)\n",
    "\n",
    "\n",
    "## Main files\n",
    "write.csv(check.Confirmed, file = \"cleaned/time_series_19-covid-Confirmed.csv\", row.names = FALSE)\n",
    "write.csv(check.Deaths, file = \"cleaned/time_series_19-covid-Deaths.csv\", row.names = FALSE)\n",
    "write.csv(check.Recovered, file = \"cleaned/time_series_19-covid-Recovered.csv\", row.names = FALSE)\n",
    "\n",
    "###   For map plot & gif\n",
    "write.csv(ever.Affected, file = \"cleaned/ever.Affected.csv\", row.names = FALSE)\n",
    "write.csv(still.Affected, file = \"cleaned/still.Affected.csv\", row.names = FALSE)\n",
    "\n",
    "\n"
   ]
  },
  {
   "cell_type": "markdown",
   "metadata": {},
   "source": [
    "<br /><br />"
   ]
  },
  {
   "cell_type": "markdown",
   "metadata": {},
   "source": [
    "### Visualization"
   ]
  },
  {
   "cell_type": "code",
   "execution_count": 1,
   "metadata": {},
   "outputs": [],
   "source": [
    "## Graphg.."
   ]
  }
 ],
 "metadata": {
  "kernelspec": {
   "display_name": "R",
   "language": "R",
   "name": "ir"
  },
  "language_info": {
   "codemirror_mode": "r",
   "file_extension": ".r",
   "mimetype": "text/x-r-source",
   "name": "R",
   "pygments_lexer": "r",
   "version": "3.6.1"
  }
 },
 "nbformat": 4,
 "nbformat_minor": 2
}
