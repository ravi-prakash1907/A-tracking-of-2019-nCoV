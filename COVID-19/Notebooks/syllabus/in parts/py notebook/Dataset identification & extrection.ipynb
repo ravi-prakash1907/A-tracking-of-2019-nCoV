{
 "cells": [
  {
   "cell_type": "markdown",
   "metadata": {},
   "source": [
    "# Dataset Identification & Extrection"
   ]
  },
  {
   "cell_type": "code",
   "execution_count": 1,
   "metadata": {},
   "outputs": [],
   "source": [
    "setwd(\"~/Documents/A-tracking-of-2019-nCoV/COVID-19/\")"
   ]
  },
  {
   "cell_type": "code",
   "execution_count": null,
   "metadata": {},
   "outputs": [],
   "source": [
    "if(url.exists(\"https://raviprakashravi.cf/\")){  # Internet is available!\n",
    "  \n",
    "  # names\n",
    "  confirmLocation = \"Johns H. University/csse_covid_19_time_series/time_series_19-covid-Confirmed.csv\"\n",
    "  deathsLocation = \"Johns H. University/csse_covid_19_time_series/time_series_19-covid-Deaths.csv\"\n",
    "  recoveredLocation = \"Johns H. University/csse_covid_19_time_series/time_series_19-covid-Recovered.csv\"\n",
    "  \n",
    "  ##########################\n",
    "  \n",
    "  # having backup\n",
    "  write.csv(read.csv(confirmLocation), \"Johns H. University/csse_covid_19_time_series/backup/time_series_19-covid-Confirmed.csv\")\n",
    "  write.csv(read.csv(deathsLocation), \"Johns H. University/csse_covid_19_time_series/backup/time_series_19-covid-Deaths.csv\")\n",
    "  write.csv(read.csv(recoveredLocation), \"Johns H. University/csse_covid_19_time_series/backup/time_series_19-covid-Recovered.csv\")\n",
    "  \n",
    "  # loading new data\n",
    "  check.Confirmed <- read.csv(text = getURL(\"https://raw.githubusercontent.com/CSSEGISandData/COVID-19/master/csse_covid_19_data/csse_covid_19_time_series/time_series_19-covid-Confirmed.csv\"))\n",
    "  check.Deaths <- read.csv(text = getURL(\"https://raw.githubusercontent.com/CSSEGISandData/COVID-19/master/csse_covid_19_data/csse_covid_19_time_series/time_series_19-covid-Deaths.csv\"))\n",
    "  check.Recovered <- read.csv(text = getURL(\"https://raw.githubusercontent.com/CSSEGISandData/COVID-19/master/csse_covid_19_data/csse_covid_19_time_series/time_series_19-covid-Recovered.csv\"))\n",
    "  \n",
    "  # saving new data\n",
    "  write.csv(check.Confirmed, confirmLocation, row.names = F)\n",
    "  write.csv(check.Deaths, deathsLocation, row.names = F)\n",
    "  write.csv(check.Recovered, recoveredLocation, row.names = F)\n",
    "  \n",
    "} else {  # Internet is NOT available!!!\n",
    "  \n",
    "  check.Confirmed = read.csv(\"Johns H. University/csse_covid_19_time_series/time_series_19-covid-Confirmed.csv\")\n",
    "  check.Deaths = read.csv(\"Johns H. University/csse_covid_19_time_series/time_series_19-covid-Deaths.csv\")\n",
    "  check.Recovered = read.csv(\"Johns H. University/csse_covid_19_time_series/time_series_19-covid-Recovered.csv\")\n",
    "}  \n"
   ]
  },
  {
   "cell_type": "code",
   "execution_count": null,
   "metadata": {},
   "outputs": [],
   "source": []
  },
  {
   "cell_type": "code",
   "execution_count": null,
   "metadata": {},
   "outputs": [],
   "source": []
  },
  {
   "cell_type": "code",
   "execution_count": null,
   "metadata": {},
   "outputs": [],
   "source": []
  },
  {
   "cell_type": "code",
   "execution_count": null,
   "metadata": {},
   "outputs": [],
   "source": []
  },
  {
   "cell_type": "code",
   "execution_count": null,
   "metadata": {},
   "outputs": [],
   "source": []
  },
  {
   "cell_type": "code",
   "execution_count": null,
   "metadata": {},
   "outputs": [],
   "source": []
  },
  {
   "cell_type": "code",
   "execution_count": null,
   "metadata": {},
   "outputs": [],
   "source": []
  }
 ],
 "metadata": {
  "kernelspec": {
   "display_name": "R",
   "language": "R",
   "name": "ir"
  },
  "language_info": {
   "codemirror_mode": "r",
   "file_extension": ".r",
   "mimetype": "text/x-r-source",
   "name": "R",
   "pygments_lexer": "r",
   "version": "3.6.1"
  }
 },
 "nbformat": 4,
 "nbformat_minor": 2
}
