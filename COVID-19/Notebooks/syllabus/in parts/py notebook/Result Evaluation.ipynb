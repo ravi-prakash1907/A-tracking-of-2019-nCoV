{
 "cells": [
  {
   "cell_type": "markdown",
   "metadata": {},
   "source": [
    "# Result Evaluation"
   ]
  },
  {
   "cell_type": "code",
   "execution_count": null,
   "metadata": {},
   "outputs": [],
   "source": [
    "# Model performance\n",
    "plm.predictions = data.frame(\n",
    "  Degree = NULL,\n",
    "  RMSE = NULL,\n",
    "  RSE = NULL,\n",
    "  R2 = NULL\n",
    ")\n",
    "\n",
    "\n",
    "for(deg in 1:20){\n",
    "    \n",
    "    # building polynomial model\n",
    "    fit.plm = lm(percent_active ~ poly(Day, deg, raw = TRUE), data = train.data)\n",
    "    #summary(fit.plm)\n",
    "\n",
    "    \n",
    "    #Residual Standard error (Like Standard Deviation)\n",
    "    k=length(fit.plm$coefficients)-1\n",
    "    #Multiple R-Squared (Coefficient of Determination)\n",
    "    SSyy=sum((train.data$percent_active-mean(train.data$percent_active))**2)\n",
    "    \n",
    "    SSE=sum(fit.plm$residuals**2)\n",
    "    n=length(fit.plm$residuals)\n",
    "    \n",
    "    \n",
    "    # final\n",
    "    rmse = sqrt(SSE/(n-1))\n",
    "    rse = sqrt(SSE/(n-(1+k))) #Residual Standard Error\n",
    "    r2 = (SSyy-SSE)/SSyy\n",
    "    \n",
    "    temp <- data.frame(\n",
    "                        Degree = deg,\n",
    "                        RMSE = rmse,\n",
    "                        RSE = rse,\n",
    "                        R2 = r2\n",
    "                      )\n",
    "    \n",
    "    plm.predictions = rbind(plm.predictions, temp)\n",
    "}\n",
    "\n",
    "plm.predictions"
   ]
  },
  {
   "cell_type": "code",
   "execution_count": null,
   "metadata": {},
   "outputs": [],
   "source": [
    "# Summary of trained model\n",
    "summary(fit.plm)"
   ]
  },
  {
   "cell_type": "code",
   "execution_count": null,
   "metadata": {},
   "outputs": [],
   "source": [
    "# Accurecy\n",
    "plm.predictions[which(plm.predictions$Degree == deg),]"
   ]
  },
  {
   "cell_type": "code",
   "execution_count": null,
   "metadata": {},
   "outputs": [],
   "source": []
  },
  {
   "cell_type": "code",
   "execution_count": null,
   "metadata": {},
   "outputs": [],
   "source": []
  },
  {
   "cell_type": "code",
   "execution_count": null,
   "metadata": {},
   "outputs": [],
   "source": []
  }
 ],
 "metadata": {
  "kernelspec": {
   "display_name": "R",
   "language": "R",
   "name": "ir"
  },
  "language_info": {
   "codemirror_mode": "r",
   "file_extension": ".r",
   "mimetype": "text/x-r-source",
   "name": "R",
   "pygments_lexer": "r",
   "version": "3.6.1"
  }
 },
 "nbformat": 4,
 "nbformat_minor": 2
}
