{
 "cells": [
  {
   "cell_type": "code",
   "execution_count": 10,
   "metadata": {},
   "outputs": [],
   "source": [
    "library(readr)\n",
    "library(ggplot2)"
   ]
  },
  {
   "cell_type": "code",
   "execution_count": 11,
   "metadata": {},
   "outputs": [
    {
     "name": "stderr",
     "output_type": "stream",
     "text": [
      "Parsed with column specification:\n",
      "cols(\n",
      "  State = \u001b[31mcol_character()\u001b[39m,\n",
      "  Day = \u001b[32mcol_double()\u001b[39m,\n",
      "  Date = \u001b[31mcol_character()\u001b[39m,\n",
      "  Confirmed = \u001b[32mcol_double()\u001b[39m,\n",
      "  Deaths = \u001b[32mcol_double()\u001b[39m,\n",
      "  Recovered = \u001b[32mcol_double()\u001b[39m,\n",
      "  Active.Cases = \u001b[32mcol_double()\u001b[39m,\n",
      "  Closed.Cases = \u001b[32mcol_double()\u001b[39m\n",
      ")\n",
      "\n",
      "Parsed with column specification:\n",
      "cols(\n",
      "  State = \u001b[31mcol_character()\u001b[39m,\n",
      "  Day = \u001b[32mcol_double()\u001b[39m,\n",
      "  Date = \u001b[31mcol_character()\u001b[39m,\n",
      "  Confirmed = \u001b[32mcol_double()\u001b[39m,\n",
      "  Deaths = \u001b[32mcol_double()\u001b[39m,\n",
      "  Recovered = \u001b[32mcol_double()\u001b[39m,\n",
      "  Active.Cases = \u001b[32mcol_double()\u001b[39m,\n",
      "  Closed.Cases = \u001b[32mcol_double()\u001b[39m\n",
      ")\n",
      "\n"
     ]
    }
   ],
   "source": [
    "cruise=read_csv('COVID-19/Cruise/Diamond_Princess_dataset_dateWise_summary.csv')\n",
    "hubei=read_csv('COVID-19/Hubei/Hubei_dataset_dateWise_summary.csv')\n",
    "all = read_csv('COVID-19/FOUR/f_dataset_dateWise_summary.csv')"
   ]
  },
  {
   "cell_type": "code",
   "execution_count": 12,
   "metadata": {},
   "outputs": [
    {
     "data": {
      "text/html": [
       "<table>\n",
       "<thead><tr><th scope=col>State</th><th scope=col>Day</th><th scope=col>Date</th><th scope=col>Confirmed</th><th scope=col>Deaths</th><th scope=col>Recovered</th><th scope=col>Active.Cases</th><th scope=col>Closed.Cases</th></tr></thead>\n",
       "<tbody>\n",
       "\t<tr><td>Diamond Princess</td><td>1               </td><td>21-01-2020      </td><td>0               </td><td>0               </td><td>0               </td><td>0               </td><td>0               </td></tr>\n",
       "\t<tr><td>Diamond Princess</td><td>2               </td><td>22-01-2020      </td><td>0               </td><td>0               </td><td>0               </td><td>0               </td><td>0               </td></tr>\n",
       "\t<tr><td>Diamond Princess</td><td>3               </td><td>23-01-2020      </td><td>0               </td><td>0               </td><td>0               </td><td>0               </td><td>0               </td></tr>\n",
       "\t<tr><td>Diamond Princess</td><td>4               </td><td>24-01-2020      </td><td>0               </td><td>0               </td><td>0               </td><td>0               </td><td>0               </td></tr>\n",
       "\t<tr><td>Diamond Princess</td><td>5               </td><td>25-01-2020      </td><td>0               </td><td>0               </td><td>0               </td><td>0               </td><td>0               </td></tr>\n",
       "\t<tr><td>Diamond Princess</td><td>6               </td><td>26-01-2020      </td><td>0               </td><td>0               </td><td>0               </td><td>0               </td><td>0               </td></tr>\n",
       "</tbody>\n",
       "</table>\n"
      ],
      "text/latex": [
       "\\begin{tabular}{r|llllllll}\n",
       " State & Day & Date & Confirmed & Deaths & Recovered & Active.Cases & Closed.Cases\\\\\n",
       "\\hline\n",
       "\t Diamond Princess & 1                & 21-01-2020       & 0                & 0                & 0                & 0                & 0               \\\\\n",
       "\t Diamond Princess & 2                & 22-01-2020       & 0                & 0                & 0                & 0                & 0               \\\\\n",
       "\t Diamond Princess & 3                & 23-01-2020       & 0                & 0                & 0                & 0                & 0               \\\\\n",
       "\t Diamond Princess & 4                & 24-01-2020       & 0                & 0                & 0                & 0                & 0               \\\\\n",
       "\t Diamond Princess & 5                & 25-01-2020       & 0                & 0                & 0                & 0                & 0               \\\\\n",
       "\t Diamond Princess & 6                & 26-01-2020       & 0                & 0                & 0                & 0                & 0               \\\\\n",
       "\\end{tabular}\n"
      ],
      "text/markdown": [
       "\n",
       "| State | Day | Date | Confirmed | Deaths | Recovered | Active.Cases | Closed.Cases |\n",
       "|---|---|---|---|---|---|---|---|\n",
       "| Diamond Princess | 1                | 21-01-2020       | 0                | 0                | 0                | 0                | 0                |\n",
       "| Diamond Princess | 2                | 22-01-2020       | 0                | 0                | 0                | 0                | 0                |\n",
       "| Diamond Princess | 3                | 23-01-2020       | 0                | 0                | 0                | 0                | 0                |\n",
       "| Diamond Princess | 4                | 24-01-2020       | 0                | 0                | 0                | 0                | 0                |\n",
       "| Diamond Princess | 5                | 25-01-2020       | 0                | 0                | 0                | 0                | 0                |\n",
       "| Diamond Princess | 6                | 26-01-2020       | 0                | 0                | 0                | 0                | 0                |\n",
       "\n"
      ],
      "text/plain": [
       "  State            Day Date       Confirmed Deaths Recovered Active.Cases\n",
       "1 Diamond Princess 1   21-01-2020 0         0      0         0           \n",
       "2 Diamond Princess 2   22-01-2020 0         0      0         0           \n",
       "3 Diamond Princess 3   23-01-2020 0         0      0         0           \n",
       "4 Diamond Princess 4   24-01-2020 0         0      0         0           \n",
       "5 Diamond Princess 5   25-01-2020 0         0      0         0           \n",
       "6 Diamond Princess 6   26-01-2020 0         0      0         0           \n",
       "  Closed.Cases\n",
       "1 0           \n",
       "2 0           \n",
       "3 0           \n",
       "4 0           \n",
       "5 0           \n",
       "6 0           "
      ]
     },
     "metadata": {},
     "output_type": "display_data"
    },
    {
     "data": {
      "text/html": [
       "<table>\n",
       "<thead><tr><th scope=col>State</th><th scope=col>Day</th><th scope=col>Date</th><th scope=col>Confirmed</th><th scope=col>Deaths</th><th scope=col>Recovered</th><th scope=col>Active.Cases</th><th scope=col>Closed.Cases</th></tr></thead>\n",
       "<tbody>\n",
       "\t<tr><td>Hubei     </td><td>1         </td><td>21-01-2020</td><td> 270      </td><td> 0        </td><td>25        </td><td>245       </td><td>25        </td></tr>\n",
       "\t<tr><td>Hubei     </td><td>2         </td><td>22-01-2020</td><td> 444      </td><td>17        </td><td>28        </td><td>399       </td><td>45        </td></tr>\n",
       "\t<tr><td>Hubei     </td><td>3         </td><td>23-01-2020</td><td> 444      </td><td>17        </td><td>28        </td><td>399       </td><td>45        </td></tr>\n",
       "\t<tr><td>Hubei     </td><td>4         </td><td>24-01-2020</td><td> 549      </td><td>24        </td><td>31        </td><td>494       </td><td>55        </td></tr>\n",
       "\t<tr><td>Hubei     </td><td>5         </td><td>25-01-2020</td><td> 761      </td><td>40        </td><td>32        </td><td>689       </td><td>72        </td></tr>\n",
       "\t<tr><td>Hubei     </td><td>6         </td><td>26-01-2020</td><td>1058      </td><td>52        </td><td>42        </td><td>964       </td><td>94        </td></tr>\n",
       "</tbody>\n",
       "</table>\n"
      ],
      "text/latex": [
       "\\begin{tabular}{r|llllllll}\n",
       " State & Day & Date & Confirmed & Deaths & Recovered & Active.Cases & Closed.Cases\\\\\n",
       "\\hline\n",
       "\t Hubei      & 1          & 21-01-2020 &  270       &  0         & 25         & 245        & 25        \\\\\n",
       "\t Hubei      & 2          & 22-01-2020 &  444       & 17         & 28         & 399        & 45        \\\\\n",
       "\t Hubei      & 3          & 23-01-2020 &  444       & 17         & 28         & 399        & 45        \\\\\n",
       "\t Hubei      & 4          & 24-01-2020 &  549       & 24         & 31         & 494        & 55        \\\\\n",
       "\t Hubei      & 5          & 25-01-2020 &  761       & 40         & 32         & 689        & 72        \\\\\n",
       "\t Hubei      & 6          & 26-01-2020 & 1058       & 52         & 42         & 964        & 94        \\\\\n",
       "\\end{tabular}\n"
      ],
      "text/markdown": [
       "\n",
       "| State | Day | Date | Confirmed | Deaths | Recovered | Active.Cases | Closed.Cases |\n",
       "|---|---|---|---|---|---|---|---|\n",
       "| Hubei      | 1          | 21-01-2020 |  270       |  0         | 25         | 245        | 25         |\n",
       "| Hubei      | 2          | 22-01-2020 |  444       | 17         | 28         | 399        | 45         |\n",
       "| Hubei      | 3          | 23-01-2020 |  444       | 17         | 28         | 399        | 45         |\n",
       "| Hubei      | 4          | 24-01-2020 |  549       | 24         | 31         | 494        | 55         |\n",
       "| Hubei      | 5          | 25-01-2020 |  761       | 40         | 32         | 689        | 72         |\n",
       "| Hubei      | 6          | 26-01-2020 | 1058       | 52         | 42         | 964        | 94         |\n",
       "\n"
      ],
      "text/plain": [
       "  State Day Date       Confirmed Deaths Recovered Active.Cases Closed.Cases\n",
       "1 Hubei 1   21-01-2020  270       0     25        245          25          \n",
       "2 Hubei 2   22-01-2020  444      17     28        399          45          \n",
       "3 Hubei 3   23-01-2020  444      17     28        399          45          \n",
       "4 Hubei 4   24-01-2020  549      24     31        494          55          \n",
       "5 Hubei 5   25-01-2020  761      40     32        689          72          \n",
       "6 Hubei 6   26-01-2020 1058      52     42        964          94          "
      ]
     },
     "metadata": {},
     "output_type": "display_data"
    }
   ],
   "source": [
    "head(cruise)\n",
    "head(hubei)"
   ]
  },
  {
   "cell_type": "code",
   "execution_count": 14,
   "metadata": {},
   "outputs": [
    {
     "data": {
      "text/html": [
       "<ol class=list-inline>\n",
       "\t<li>'State'</li>\n",
       "\t<li>'Day'</li>\n",
       "\t<li>'Date'</li>\n",
       "\t<li>'Confirmed'</li>\n",
       "\t<li>'Deaths'</li>\n",
       "\t<li>'Recovered'</li>\n",
       "\t<li>'Active.Cases'</li>\n",
       "\t<li>'Closed.Cases'</li>\n",
       "</ol>\n"
      ],
      "text/latex": [
       "\\begin{enumerate*}\n",
       "\\item 'State'\n",
       "\\item 'Day'\n",
       "\\item 'Date'\n",
       "\\item 'Confirmed'\n",
       "\\item 'Deaths'\n",
       "\\item 'Recovered'\n",
       "\\item 'Active.Cases'\n",
       "\\item 'Closed.Cases'\n",
       "\\end{enumerate*}\n"
      ],
      "text/markdown": [
       "1. 'State'\n",
       "2. 'Day'\n",
       "3. 'Date'\n",
       "4. 'Confirmed'\n",
       "5. 'Deaths'\n",
       "6. 'Recovered'\n",
       "7. 'Active.Cases'\n",
       "8. 'Closed.Cases'\n",
       "\n",
       "\n"
      ],
      "text/plain": [
       "[1] \"State\"        \"Day\"          \"Date\"         \"Confirmed\"    \"Deaths\"      \n",
       "[6] \"Recovered\"    \"Active.Cases\" \"Closed.Cases\""
      ]
     },
     "metadata": {},
     "output_type": "display_data"
    },
    {
     "data": {
      "text/html": [
       "<ol class=list-inline>\n",
       "\t<li>'State'</li>\n",
       "\t<li>'Day'</li>\n",
       "\t<li>'Date'</li>\n",
       "\t<li>'Confirmed'</li>\n",
       "\t<li>'Deaths'</li>\n",
       "\t<li>'Recovered'</li>\n",
       "\t<li>'Active.Cases'</li>\n",
       "\t<li>'Closed.Cases'</li>\n",
       "</ol>\n"
      ],
      "text/latex": [
       "\\begin{enumerate*}\n",
       "\\item 'State'\n",
       "\\item 'Day'\n",
       "\\item 'Date'\n",
       "\\item 'Confirmed'\n",
       "\\item 'Deaths'\n",
       "\\item 'Recovered'\n",
       "\\item 'Active.Cases'\n",
       "\\item 'Closed.Cases'\n",
       "\\end{enumerate*}\n"
      ],
      "text/markdown": [
       "1. 'State'\n",
       "2. 'Day'\n",
       "3. 'Date'\n",
       "4. 'Confirmed'\n",
       "5. 'Deaths'\n",
       "6. 'Recovered'\n",
       "7. 'Active.Cases'\n",
       "8. 'Closed.Cases'\n",
       "\n",
       "\n"
      ],
      "text/plain": [
       "[1] \"State\"        \"Day\"          \"Date\"         \"Confirmed\"    \"Deaths\"      \n",
       "[6] \"Recovered\"    \"Active.Cases\" \"Closed.Cases\""
      ]
     },
     "metadata": {},
     "output_type": "display_data"
    }
   ],
   "source": [
    "colnames(cruise)\n",
    "colnames(hubei)"
   ]
  },
  {
   "cell_type": "code",
   "execution_count": 15,
   "metadata": {},
   "outputs": [],
   "source": [
    "cruise=cruise[,c('Day','Confirmed')]\n",
    "hubei=hubei[,c('Day','Confirmed')]"
   ]
  },
  {
   "cell_type": "code",
   "execution_count": 16,
   "metadata": {},
   "outputs": [],
   "source": [
    "percent_affected <- function(val){\n",
    "    return((val*100)/Total)\n",
    "}"
   ]
  },
  {
   "cell_type": "code",
   "execution_count": 17,
   "metadata": {},
   "outputs": [],
   "source": [
    "Total = 3711\n",
    "cruise$'percent_affected' = apply(cruise[,'Confirmed'],1,percent_affected)"
   ]
  },
  {
   "cell_type": "code",
   "execution_count": 18,
   "metadata": {},
   "outputs": [
    {
     "data": {
      "text/html": [
       "<table>\n",
       "<thead><tr><th scope=col>Day</th><th scope=col>Confirmed</th><th scope=col>percent_affected</th></tr></thead>\n",
       "<tbody>\n",
       "\t<tr><td>44      </td><td>706     </td><td>19.02452</td></tr>\n",
       "\t<tr><td>45      </td><td>706     </td><td>19.02452</td></tr>\n",
       "\t<tr><td>46      </td><td>696     </td><td>18.75505</td></tr>\n",
       "\t<tr><td>47      </td><td>696     </td><td>18.75505</td></tr>\n",
       "\t<tr><td>48      </td><td>696     </td><td>18.75505</td></tr>\n",
       "\t<tr><td>49      </td><td>696     </td><td>18.75505</td></tr>\n",
       "</tbody>\n",
       "</table>\n"
      ],
      "text/latex": [
       "\\begin{tabular}{r|lll}\n",
       " Day & Confirmed & percent\\_affected\\\\\n",
       "\\hline\n",
       "\t 44       & 706      & 19.02452\\\\\n",
       "\t 45       & 706      & 19.02452\\\\\n",
       "\t 46       & 696      & 18.75505\\\\\n",
       "\t 47       & 696      & 18.75505\\\\\n",
       "\t 48       & 696      & 18.75505\\\\\n",
       "\t 49       & 696      & 18.75505\\\\\n",
       "\\end{tabular}\n"
      ],
      "text/markdown": [
       "\n",
       "| Day | Confirmed | percent_affected |\n",
       "|---|---|---|\n",
       "| 44       | 706      | 19.02452 |\n",
       "| 45       | 706      | 19.02452 |\n",
       "| 46       | 696      | 18.75505 |\n",
       "| 47       | 696      | 18.75505 |\n",
       "| 48       | 696      | 18.75505 |\n",
       "| 49       | 696      | 18.75505 |\n",
       "\n"
      ],
      "text/plain": [
       "  Day Confirmed percent_affected\n",
       "1 44  706       19.02452        \n",
       "2 45  706       19.02452        \n",
       "3 46  696       18.75505        \n",
       "4 47  696       18.75505        \n",
       "5 48  696       18.75505        \n",
       "6 49  696       18.75505        "
      ]
     },
     "metadata": {},
     "output_type": "display_data"
    }
   ],
   "source": [
    "tail(cruise)"
   ]
  },
  {
   "cell_type": "code",
   "execution_count": 19,
   "metadata": {},
   "outputs": [],
   "source": [
    "Total = 60057550\n",
    "hubei$'percent_affected' = apply(hubei[,'Confirmed'],1,percent_affected)"
   ]
  },
  {
   "cell_type": "code",
   "execution_count": 20,
   "metadata": {},
   "outputs": [
    {
     "data": {
      "text/html": [
       "<table>\n",
       "<thead><tr><th scope=col>Day</th><th scope=col>Confirmed</th><th scope=col>percent_affected</th></tr></thead>\n",
       "<tbody>\n",
       "\t<tr><td>44       </td><td>67332    </td><td>0.1121125</td></tr>\n",
       "\t<tr><td>45       </td><td>67466    </td><td>0.1123356</td></tr>\n",
       "\t<tr><td>46       </td><td>67592    </td><td>0.1125454</td></tr>\n",
       "\t<tr><td>47       </td><td>67666    </td><td>0.1126686</td></tr>\n",
       "\t<tr><td>48       </td><td>67707    </td><td>0.1127369</td></tr>\n",
       "\t<tr><td>49       </td><td>67743    </td><td>0.1127968</td></tr>\n",
       "</tbody>\n",
       "</table>\n"
      ],
      "text/latex": [
       "\\begin{tabular}{r|lll}\n",
       " Day & Confirmed & percent\\_affected\\\\\n",
       "\\hline\n",
       "\t 44        & 67332     & 0.1121125\\\\\n",
       "\t 45        & 67466     & 0.1123356\\\\\n",
       "\t 46        & 67592     & 0.1125454\\\\\n",
       "\t 47        & 67666     & 0.1126686\\\\\n",
       "\t 48        & 67707     & 0.1127369\\\\\n",
       "\t 49        & 67743     & 0.1127968\\\\\n",
       "\\end{tabular}\n"
      ],
      "text/markdown": [
       "\n",
       "| Day | Confirmed | percent_affected |\n",
       "|---|---|---|\n",
       "| 44        | 67332     | 0.1121125 |\n",
       "| 45        | 67466     | 0.1123356 |\n",
       "| 46        | 67592     | 0.1125454 |\n",
       "| 47        | 67666     | 0.1126686 |\n",
       "| 48        | 67707     | 0.1127369 |\n",
       "| 49        | 67743     | 0.1127968 |\n",
       "\n"
      ],
      "text/plain": [
       "  Day Confirmed percent_affected\n",
       "1 44  67332     0.1121125       \n",
       "2 45  67466     0.1123356       \n",
       "3 46  67592     0.1125454       \n",
       "4 47  67666     0.1126686       \n",
       "5 48  67707     0.1127369       \n",
       "6 49  67743     0.1127968       "
      ]
     },
     "metadata": {},
     "output_type": "display_data"
    }
   ],
   "source": [
    "tail(hubei)"
   ]
  },
  {
   "cell_type": "code",
   "execution_count": 29,
   "metadata": {},
   "outputs": [
    {
     "data": {
      "image/png": "[encoded data removed]",
      "text/plain": [
       "plot without title"
      ]
     },
     "metadata": {
      "image/png": {
       "height": 420,
       "width": 420
      },
      "text/plain": {
       "height": 420,
       "width": 420
      }
     },
     "output_type": "display_data"
    }
   ],
   "source": [
    "hubei.scatter.plot <- ggplot(hubei, aes(x = hubei$Day, y = hubei$percent_affected), color=\"black\") +\n",
    "                        geom_point(color=\"red\")\n",
    "hubei.scatter.plot"
   ]
  },
  {
   "cell_type": "code",
   "execution_count": 26,
   "metadata": {},
   "outputs": [
    {
     "data": {
      "text/html": [
       "<ol class=list-inline>\n",
       "\t<li>1</li>\n",
       "\t<li>2</li>\n",
       "\t<li>3</li>\n",
       "\t<li>4</li>\n",
       "\t<li>5</li>\n",
       "\t<li>6</li>\n",
       "\t<li>7</li>\n",
       "\t<li>8</li>\n",
       "\t<li>9</li>\n",
       "\t<li>10</li>\n",
       "\t<li>11</li>\n",
       "\t<li>12</li>\n",
       "\t<li>13</li>\n",
       "\t<li>14</li>\n",
       "\t<li>15</li>\n",
       "\t<li>16</li>\n",
       "\t<li>17</li>\n",
       "\t<li>18</li>\n",
       "\t<li>19</li>\n",
       "\t<li>20</li>\n",
       "\t<li>21</li>\n",
       "\t<li>22</li>\n",
       "\t<li>23</li>\n",
       "\t<li>24</li>\n",
       "\t<li>25</li>\n",
       "\t<li>26</li>\n",
       "\t<li>27</li>\n",
       "\t<li>28</li>\n",
       "\t<li>29</li>\n",
       "\t<li>30</li>\n",
       "\t<li>31</li>\n",
       "\t<li>32</li>\n",
       "\t<li>33</li>\n",
       "\t<li>34</li>\n",
       "\t<li>35</li>\n",
       "\t<li>36</li>\n",
       "\t<li>37</li>\n",
       "\t<li>38</li>\n",
       "\t<li>39</li>\n",
       "\t<li>40</li>\n",
       "\t<li>41</li>\n",
       "\t<li>42</li>\n",
       "\t<li>43</li>\n",
       "\t<li>44</li>\n",
       "\t<li>45</li>\n",
       "\t<li>46</li>\n",
       "\t<li>47</li>\n",
       "\t<li>48</li>\n",
       "\t<li>49</li>\n",
       "</ol>\n"
      ],
      "text/latex": [
       "\\begin{enumerate*}\n",
       "\\item 1\n",
       "\\item 2\n",
       "\\item 3\n",
       "\\item 4\n",
       "\\item 5\n",
       "\\item 6\n",
       "\\item 7\n",
       "\\item 8\n",
       "\\item 9\n",
       "\\item 10\n",
       "\\item 11\n",
       "\\item 12\n",
       "\\item 13\n",
       "\\item 14\n",
       "\\item 15\n",
       "\\item 16\n",
       "\\item 17\n",
       "\\item 18\n",
       "\\item 19\n",
       "\\item 20\n",
       "\\item 21\n",
       "\\item 22\n",
       "\\item 23\n",
       "\\item 24\n",
       "\\item 25\n",
       "\\item 26\n",
       "\\item 27\n",
       "\\item 28\n",
       "\\item 29\n",
       "\\item 30\n",
       "\\item 31\n",
       "\\item 32\n",
       "\\item 33\n",
       "\\item 34\n",
       "\\item 35\n",
       "\\item 36\n",
       "\\item 37\n",
       "\\item 38\n",
       "\\item 39\n",
       "\\item 40\n",
       "\\item 41\n",
       "\\item 42\n",
       "\\item 43\n",
       "\\item 44\n",
       "\\item 45\n",
       "\\item 46\n",
       "\\item 47\n",
       "\\item 48\n",
       "\\item 49\n",
       "\\end{enumerate*}\n"
      ],
      "text/markdown": [
       "1. 1\n",
       "2. 2\n",
       "3. 3\n",
       "4. 4\n",
       "5. 5\n",
       "6. 6\n",
       "7. 7\n",
       "8. 8\n",
       "9. 9\n",
       "10. 10\n",
       "11. 11\n",
       "12. 12\n",
       "13. 13\n",
       "14. 14\n",
       "15. 15\n",
       "16. 16\n",
       "17. 17\n",
       "18. 18\n",
       "19. 19\n",
       "20. 20\n",
       "21. 21\n",
       "22. 22\n",
       "23. 23\n",
       "24. 24\n",
       "25. 25\n",
       "26. 26\n",
       "27. 27\n",
       "28. 28\n",
       "29. 29\n",
       "30. 30\n",
       "31. 31\n",
       "32. 32\n",
       "33. 33\n",
       "34. 34\n",
       "35. 35\n",
       "36. 36\n",
       "37. 37\n",
       "38. 38\n",
       "39. 39\n",
       "40. 40\n",
       "41. 41\n",
       "42. 42\n",
       "43. 43\n",
       "44. 44\n",
       "45. 45\n",
       "46. 46\n",
       "47. 47\n",
       "48. 48\n",
       "49. 49\n",
       "\n",
       "\n"
      ],
      "text/plain": [
       " [1]  1  2  3  4  5  6  7  8  9 10 11 12 13 14 15 16 17 18 19 20 21 22 23 24 25\n",
       "[26] 26 27 28 29 30 31 32 33 34 35 36 37 38 39 40 41 42 43 44 45 46 47 48 49"
      ]
     },
     "metadata": {},
     "output_type": "display_data"
    }
   ],
   "source": [
    "hubei$Day"
   ]
  },
  {
   "cell_type": "code",
   "execution_count": null,
   "metadata": {},
   "outputs": [],
   "source": []
  }
 ],
 "metadata": {
  "kernelspec": {
   "display_name": "R",
   "language": "R",
   "name": "ir"
  },
  "language_info": {
   "codemirror_mode": "r",
   "file_extension": ".r",
   "mimetype": "text/x-r-source",
   "name": "R",
   "pygments_lexer": "r",
   "version": "3.6.1"
  }
 },
 "nbformat": 4,
 "nbformat_minor": 2
}
