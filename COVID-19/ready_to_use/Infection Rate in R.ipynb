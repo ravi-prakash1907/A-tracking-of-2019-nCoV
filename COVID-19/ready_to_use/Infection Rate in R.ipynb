{
 "cells": [
  {
   "cell_type": "code",
   "execution_count": 115,
   "metadata": {},
   "outputs": [],
   "source": [
    "library(readr)\n",
    "library(ggplot2)"
   ]
  },
  {
   "cell_type": "code",
   "execution_count": 116,
   "metadata": {},
   "outputs": [
    {
     "name": "stderr",
     "output_type": "stream",
     "text": [
      "Parsed with column specification:\n",
      "cols(\n",
      "  State = \u001b[31mcol_character()\u001b[39m,\n",
      "  Day = \u001b[32mcol_double()\u001b[39m,\n",
      "  Date = \u001b[31mcol_character()\u001b[39m,\n",
      "  Confirmed = \u001b[32mcol_double()\u001b[39m,\n",
      "  Deaths = \u001b[32mcol_double()\u001b[39m,\n",
      "  Recovered = \u001b[32mcol_double()\u001b[39m,\n",
      "  Active.Cases = \u001b[32mcol_double()\u001b[39m,\n",
      "  Closed.Cases = \u001b[32mcol_double()\u001b[39m\n",
      ")\n",
      "\n",
      "Parsed with column specification:\n",
      "cols(\n",
      "  State = \u001b[31mcol_character()\u001b[39m,\n",
      "  Day = \u001b[32mcol_double()\u001b[39m,\n",
      "  Date = \u001b[31mcol_character()\u001b[39m,\n",
      "  Confirmed = \u001b[32mcol_double()\u001b[39m,\n",
      "  Deaths = \u001b[32mcol_double()\u001b[39m,\n",
      "  Recovered = \u001b[32mcol_double()\u001b[39m,\n",
      "  Active.Cases = \u001b[32mcol_double()\u001b[39m,\n",
      "  Closed.Cases = \u001b[32mcol_double()\u001b[39m\n",
      ")\n",
      "\n"
     ]
    }
   ],
   "source": [
    "cruise=read_csv('COVID-19/Cruise/Diamond_Princess_dataset_dateWise_summary.csv')\n",
    "hubei=read_csv('COVID-19/Hubei/Hubei_dataset_dateWise_summary.csv')"
   ]
  },
  {
   "cell_type": "code",
   "execution_count": 117,
   "metadata": {},
   "outputs": [
    {
     "data": {
      "text/html": [
       "<table>\n",
       "<thead><tr><th scope=col>State</th><th scope=col>Day</th><th scope=col>Date</th><th scope=col>Confirmed</th><th scope=col>Deaths</th><th scope=col>Recovered</th><th scope=col>Active.Cases</th><th scope=col>Closed.Cases</th></tr></thead>\n",
       "<tbody>\n",
       "\t<tr><td>Diamond Princess</td><td>1               </td><td>21-01-2020      </td><td>0               </td><td>0               </td><td>0               </td><td>0               </td><td>0               </td></tr>\n",
       "\t<tr><td>Diamond Princess</td><td>2               </td><td>22-01-2020      </td><td>0               </td><td>0               </td><td>0               </td><td>0               </td><td>0               </td></tr>\n",
       "\t<tr><td>Diamond Princess</td><td>3               </td><td>23-01-2020      </td><td>0               </td><td>0               </td><td>0               </td><td>0               </td><td>0               </td></tr>\n",
       "\t<tr><td>Diamond Princess</td><td>4               </td><td>24-01-2020      </td><td>0               </td><td>0               </td><td>0               </td><td>0               </td><td>0               </td></tr>\n",
       "\t<tr><td>Diamond Princess</td><td>5               </td><td>25-01-2020      </td><td>0               </td><td>0               </td><td>0               </td><td>0               </td><td>0               </td></tr>\n",
       "\t<tr><td>Diamond Princess</td><td>6               </td><td>26-01-2020      </td><td>0               </td><td>0               </td><td>0               </td><td>0               </td><td>0               </td></tr>\n",
       "</tbody>\n",
       "</table>\n"
      ],
      "text/latex": [
       "\\begin{tabular}{r|llllllll}\n",
       " State & Day & Date & Confirmed & Deaths & Recovered & Active.Cases & Closed.Cases\\\\\n",
       "\\hline\n",
       "\t Diamond Princess & 1                & 21-01-2020       & 0                & 0                & 0                & 0                & 0               \\\\\n",
       "\t Diamond Princess & 2                & 22-01-2020       & 0                & 0                & 0                & 0                & 0               \\\\\n",
       "\t Diamond Princess & 3                & 23-01-2020       & 0                & 0                & 0                & 0                & 0               \\\\\n",
       "\t Diamond Princess & 4                & 24-01-2020       & 0                & 0                & 0                & 0                & 0               \\\\\n",
       "\t Diamond Princess & 5                & 25-01-2020       & 0                & 0                & 0                & 0                & 0               \\\\\n",
       "\t Diamond Princess & 6                & 26-01-2020       & 0                & 0                & 0                & 0                & 0               \\\\\n",
       "\\end{tabular}\n"
      ],
      "text/markdown": [
       "\n",
       "| State | Day | Date | Confirmed | Deaths | Recovered | Active.Cases | Closed.Cases |\n",
       "|---|---|---|---|---|---|---|---|\n",
       "| Diamond Princess | 1                | 21-01-2020       | 0                | 0                | 0                | 0                | 0                |\n",
       "| Diamond Princess | 2                | 22-01-2020       | 0                | 0                | 0                | 0                | 0                |\n",
       "| Diamond Princess | 3                | 23-01-2020       | 0                | 0                | 0                | 0                | 0                |\n",
       "| Diamond Princess | 4                | 24-01-2020       | 0                | 0                | 0                | 0                | 0                |\n",
       "| Diamond Princess | 5                | 25-01-2020       | 0                | 0                | 0                | 0                | 0                |\n",
       "| Diamond Princess | 6                | 26-01-2020       | 0                | 0                | 0                | 0                | 0                |\n",
       "\n"
      ],
      "text/plain": [
       "  State            Day Date       Confirmed Deaths Recovered Active.Cases\n",
       "1 Diamond Princess 1   21-01-2020 0         0      0         0           \n",
       "2 Diamond Princess 2   22-01-2020 0         0      0         0           \n",
       "3 Diamond Princess 3   23-01-2020 0         0      0         0           \n",
       "4 Diamond Princess 4   24-01-2020 0         0      0         0           \n",
       "5 Diamond Princess 5   25-01-2020 0         0      0         0           \n",
       "6 Diamond Princess 6   26-01-2020 0         0      0         0           \n",
       "  Closed.Cases\n",
       "1 0           \n",
       "2 0           \n",
       "3 0           \n",
       "4 0           \n",
       "5 0           \n",
       "6 0           "
      ]
     },
     "metadata": {},
     "output_type": "display_data"
    },
    {
     "data": {
      "text/html": [
       "<table>\n",
       "<thead><tr><th scope=col>State</th><th scope=col>Day</th><th scope=col>Date</th><th scope=col>Confirmed</th><th scope=col>Deaths</th><th scope=col>Recovered</th><th scope=col>Active.Cases</th><th scope=col>Closed.Cases</th></tr></thead>\n",
       "<tbody>\n",
       "\t<tr><td>Hubei     </td><td>1         </td><td>21-01-2020</td><td> 270      </td><td> 0        </td><td>25        </td><td>245       </td><td>25        </td></tr>\n",
       "\t<tr><td>Hubei     </td><td>2         </td><td>22-01-2020</td><td> 444      </td><td>17        </td><td>28        </td><td>399       </td><td>45        </td></tr>\n",
       "\t<tr><td>Hubei     </td><td>3         </td><td>23-01-2020</td><td> 444      </td><td>17        </td><td>28        </td><td>399       </td><td>45        </td></tr>\n",
       "\t<tr><td>Hubei     </td><td>4         </td><td>24-01-2020</td><td> 549      </td><td>24        </td><td>31        </td><td>494       </td><td>55        </td></tr>\n",
       "\t<tr><td>Hubei     </td><td>5         </td><td>25-01-2020</td><td> 761      </td><td>40        </td><td>32        </td><td>689       </td><td>72        </td></tr>\n",
       "\t<tr><td>Hubei     </td><td>6         </td><td>26-01-2020</td><td>1058      </td><td>52        </td><td>42        </td><td>964       </td><td>94        </td></tr>\n",
       "</tbody>\n",
       "</table>\n"
      ],
      "text/latex": [
       "\\begin{tabular}{r|llllllll}\n",
       " State & Day & Date & Confirmed & Deaths & Recovered & Active.Cases & Closed.Cases\\\\\n",
       "\\hline\n",
       "\t Hubei      & 1          & 21-01-2020 &  270       &  0         & 25         & 245        & 25        \\\\\n",
       "\t Hubei      & 2          & 22-01-2020 &  444       & 17         & 28         & 399        & 45        \\\\\n",
       "\t Hubei      & 3          & 23-01-2020 &  444       & 17         & 28         & 399        & 45        \\\\\n",
       "\t Hubei      & 4          & 24-01-2020 &  549       & 24         & 31         & 494        & 55        \\\\\n",
       "\t Hubei      & 5          & 25-01-2020 &  761       & 40         & 32         & 689        & 72        \\\\\n",
       "\t Hubei      & 6          & 26-01-2020 & 1058       & 52         & 42         & 964        & 94        \\\\\n",
       "\\end{tabular}\n"
      ],
      "text/markdown": [
       "\n",
       "| State | Day | Date | Confirmed | Deaths | Recovered | Active.Cases | Closed.Cases |\n",
       "|---|---|---|---|---|---|---|---|\n",
       "| Hubei      | 1          | 21-01-2020 |  270       |  0         | 25         | 245        | 25         |\n",
       "| Hubei      | 2          | 22-01-2020 |  444       | 17         | 28         | 399        | 45         |\n",
       "| Hubei      | 3          | 23-01-2020 |  444       | 17         | 28         | 399        | 45         |\n",
       "| Hubei      | 4          | 24-01-2020 |  549       | 24         | 31         | 494        | 55         |\n",
       "| Hubei      | 5          | 25-01-2020 |  761       | 40         | 32         | 689        | 72         |\n",
       "| Hubei      | 6          | 26-01-2020 | 1058       | 52         | 42         | 964        | 94         |\n",
       "\n"
      ],
      "text/plain": [
       "  State Day Date       Confirmed Deaths Recovered Active.Cases Closed.Cases\n",
       "1 Hubei 1   21-01-2020  270       0     25        245          25          \n",
       "2 Hubei 2   22-01-2020  444      17     28        399          45          \n",
       "3 Hubei 3   23-01-2020  444      17     28        399          45          \n",
       "4 Hubei 4   24-01-2020  549      24     31        494          55          \n",
       "5 Hubei 5   25-01-2020  761      40     32        689          72          \n",
       "6 Hubei 6   26-01-2020 1058      52     42        964          94          "
      ]
     },
     "metadata": {},
     "output_type": "display_data"
    }
   ],
   "source": [
    "head(cruise)\n",
    "head(hubei)"
   ]
  },
  {
   "cell_type": "code",
   "execution_count": 118,
   "metadata": {},
   "outputs": [
    {
     "data": {
      "text/html": [
       "<ol class=list-inline>\n",
       "\t<li>'State'</li>\n",
       "\t<li>'Day'</li>\n",
       "\t<li>'Date'</li>\n",
       "\t<li>'Confirmed'</li>\n",
       "\t<li>'Deaths'</li>\n",
       "\t<li>'Recovered'</li>\n",
       "\t<li>'Active.Cases'</li>\n",
       "\t<li>'Closed.Cases'</li>\n",
       "</ol>\n"
      ],
      "text/latex": [
       "\\begin{enumerate*}\n",
       "\\item 'State'\n",
       "\\item 'Day'\n",
       "\\item 'Date'\n",
       "\\item 'Confirmed'\n",
       "\\item 'Deaths'\n",
       "\\item 'Recovered'\n",
       "\\item 'Active.Cases'\n",
       "\\item 'Closed.Cases'\n",
       "\\end{enumerate*}\n"
      ],
      "text/markdown": [
       "1. 'State'\n",
       "2. 'Day'\n",
       "3. 'Date'\n",
       "4. 'Confirmed'\n",
       "5. 'Deaths'\n",
       "6. 'Recovered'\n",
       "7. 'Active.Cases'\n",
       "8. 'Closed.Cases'\n",
       "\n",
       "\n"
      ],
      "text/plain": [
       "[1] \"State\"        \"Day\"          \"Date\"         \"Confirmed\"    \"Deaths\"      \n",
       "[6] \"Recovered\"    \"Active.Cases\" \"Closed.Cases\""
      ]
     },
     "metadata": {},
     "output_type": "display_data"
    },
    {
     "data": {
      "text/html": [
       "<ol class=list-inline>\n",
       "\t<li>'Day'</li>\n",
       "\t<li>'Confirmed'</li>\n",
       "</ol>\n"
      ],
      "text/latex": [
       "\\begin{enumerate*}\n",
       "\\item 'Day'\n",
       "\\item 'Confirmed'\n",
       "\\end{enumerate*}\n"
      ],
      "text/markdown": [
       "1. 'Day'\n",
       "2. 'Confirmed'\n",
       "\n",
       "\n"
      ],
      "text/plain": [
       "[1] \"Day\"       \"Confirmed\""
      ]
     },
     "metadata": {},
     "output_type": "display_data"
    }
   ],
   "source": [
    "colnames(cruise)\n",
    "colnames(wuhan)"
   ]
  },
  {
   "cell_type": "code",
   "execution_count": 119,
   "metadata": {},
   "outputs": [],
   "source": [
    "cruise=cruise[,c('Day','Confirmed')]\n",
    "hubei=hubei[,c('Day','Confirmed')]"
   ]
  },
  {
   "cell_type": "code",
   "execution_count": 120,
   "metadata": {},
   "outputs": [],
   "source": [
    "percent_affected <- function(val){\n",
    "    return((val*100)/Total)\n",
    "}"
   ]
  },
  {
   "cell_type": "code",
   "execution_count": 121,
   "metadata": {},
   "outputs": [],
   "source": [
    "Total = 3711\n",
    "cruise$'percent_affected' = apply(cruise[,'Confirmed'],1,percent_affected)"
   ]
  },
  {
   "cell_type": "code",
   "execution_count": 122,
   "metadata": {},
   "outputs": [
    {
     "data": {
      "text/html": [
       "<table>\n",
       "<thead><tr><th scope=col>Day</th><th scope=col>Confirmed</th><th scope=col>percent_affected</th></tr></thead>\n",
       "<tbody>\n",
       "\t<tr><td>43      </td><td>706     </td><td>19.02452</td></tr>\n",
       "\t<tr><td>44      </td><td>706     </td><td>19.02452</td></tr>\n",
       "\t<tr><td>45      </td><td>706     </td><td>19.02452</td></tr>\n",
       "\t<tr><td>46      </td><td>696     </td><td>18.75505</td></tr>\n",
       "\t<tr><td>47      </td><td>696     </td><td>18.75505</td></tr>\n",
       "\t<tr><td>48      </td><td>696     </td><td>18.75505</td></tr>\n",
       "</tbody>\n",
       "</table>\n"
      ],
      "text/latex": [
       "\\begin{tabular}{r|lll}\n",
       " Day & Confirmed & percent\\_affected\\\\\n",
       "\\hline\n",
       "\t 43       & 706      & 19.02452\\\\\n",
       "\t 44       & 706      & 19.02452\\\\\n",
       "\t 45       & 706      & 19.02452\\\\\n",
       "\t 46       & 696      & 18.75505\\\\\n",
       "\t 47       & 696      & 18.75505\\\\\n",
       "\t 48       & 696      & 18.75505\\\\\n",
       "\\end{tabular}\n"
      ],
      "text/markdown": [
       "\n",
       "| Day | Confirmed | percent_affected |\n",
       "|---|---|---|\n",
       "| 43       | 706      | 19.02452 |\n",
       "| 44       | 706      | 19.02452 |\n",
       "| 45       | 706      | 19.02452 |\n",
       "| 46       | 696      | 18.75505 |\n",
       "| 47       | 696      | 18.75505 |\n",
       "| 48       | 696      | 18.75505 |\n",
       "\n"
      ],
      "text/plain": [
       "  Day Confirmed percent_affected\n",
       "1 43  706       19.02452        \n",
       "2 44  706       19.02452        \n",
       "3 45  706       19.02452        \n",
       "4 46  696       18.75505        \n",
       "5 47  696       18.75505        \n",
       "6 48  696       18.75505        "
      ]
     },
     "metadata": {},
     "output_type": "display_data"
    }
   ],
   "source": [
    "tail(cruise)"
   ]
  },
  {
   "cell_type": "code",
   "execution_count": 123,
   "metadata": {},
   "outputs": [],
   "source": [
    "Total = 60057550\n",
    "hubei$'percent_affected' = apply(hubei[,'Confirmed'],1,percent_affected)"
   ]
  },
  {
   "cell_type": "code",
   "execution_count": 112,
   "metadata": {},
   "outputs": [
    {
     "data": {
      "text/html": [
       "<table>\n",
       "<thead><tr><th scope=col>Day</th><th scope=col>Confirmed</th><th scope=col>percent_affected</th></tr></thead>\n",
       "<tbody>\n",
       "\t<tr><td>43       </td><td>67217    </td><td>0.1119210</td></tr>\n",
       "\t<tr><td>44       </td><td>67332    </td><td>0.1121125</td></tr>\n",
       "\t<tr><td>45       </td><td>67466    </td><td>0.1123356</td></tr>\n",
       "\t<tr><td>46       </td><td>67592    </td><td>0.1125454</td></tr>\n",
       "\t<tr><td>47       </td><td>67666    </td><td>0.1126686</td></tr>\n",
       "\t<tr><td>48       </td><td>67707    </td><td>0.1127369</td></tr>\n",
       "</tbody>\n",
       "</table>\n"
      ],
      "text/latex": [
       "\\begin{tabular}{r|lll}\n",
       " Day & Confirmed & percent\\_affected\\\\\n",
       "\\hline\n",
       "\t 43        & 67217     & 0.1119210\\\\\n",
       "\t 44        & 67332     & 0.1121125\\\\\n",
       "\t 45        & 67466     & 0.1123356\\\\\n",
       "\t 46        & 67592     & 0.1125454\\\\\n",
       "\t 47        & 67666     & 0.1126686\\\\\n",
       "\t 48        & 67707     & 0.1127369\\\\\n",
       "\\end{tabular}\n"
      ],
      "text/markdown": [
       "\n",
       "| Day | Confirmed | percent_affected |\n",
       "|---|---|---|\n",
       "| 43        | 67217     | 0.1119210 |\n",
       "| 44        | 67332     | 0.1121125 |\n",
       "| 45        | 67466     | 0.1123356 |\n",
       "| 46        | 67592     | 0.1125454 |\n",
       "| 47        | 67666     | 0.1126686 |\n",
       "| 48        | 67707     | 0.1127369 |\n",
       "\n"
      ],
      "text/plain": [
       "  Day Confirmed percent_affected\n",
       "1 43  67217     0.1119210       \n",
       "2 44  67332     0.1121125       \n",
       "3 45  67466     0.1123356       \n",
       "4 46  67592     0.1125454       \n",
       "5 47  67666     0.1126686       \n",
       "6 48  67707     0.1127369       "
      ]
     },
     "metadata": {},
     "output_type": "display_data"
    }
   ],
   "source": [
    "tail(hubei)"
   ]
  },
  {
   "cell_type": "code",
   "execution_count": 113,
   "metadata": {},
   "outputs": [
    {
     "ename": "ERROR",
     "evalue": "Error in plot(x = ceuise$Day, y = cruise$percent_affected, xlab = \"Day\", : object 'ceuise' not found\n",
     "output_type": "error",
     "traceback": [
      "Error in plot(x = ceuise$Day, y = cruise$percent_affected, xlab = \"Day\", : object 'ceuise' not found\nTraceback:\n",
      "1. plot(x = ceuise$Day, y = cruise$percent_affected, xlab = \"Day\", \n .     ylab = \"% Affected\", main = \"Days vs % Affected\")"
     ]
    },
    {
     "data": {
      "image/png": "[encoded data removed]",
      "text/plain": [
       "Plot with title “Days vs % Affected”"
      ]
     },
     "metadata": {
      "image/png": {
       "height": 420,
       "width": 420
      },
      "text/plain": {
       "height": 420,
       "width": 420
      }
     },
     "output_type": "display_data"
    }
   ],
   "source": [
    "hubei.scatter.plot <- ggplot(hubei, aes(x = hubei$Day,y = hubei$percent_affected)) +\n",
    "                        geom_points(color=black) \n",
    "   xlab = \"Day\",\n",
    "   ylab = \"% Affected\",\n",
    ")\n",
    "\n",
    "cruise.scatter.plot <- plot(x = ceuise$Day,y = cruise$percent_affected,\n",
    "   xlab = \"Day\",\n",
    "   ylab = \"% Affected\",\n",
    "   main = \"Days vs % Affected\"\n",
    ")"
   ]
  },
  {
   "cell_type": "code",
   "execution_count": null,
   "metadata": {},
   "outputs": [],
   "source": []
  },
  {
   "cell_type": "code",
   "execution_count": null,
   "metadata": {},
   "outputs": [],
   "source": []
  }
 ],
 "metadata": {
  "kernelspec": {
   "display_name": "R",
   "language": "R",
   "name": "ir"
  },
  "language_info": {
   "codemirror_mode": "r",
   "file_extension": ".r",
   "mimetype": "text/x-r-source",
   "name": "R",
   "pygments_lexer": "r",
   "version": "3.6.1"
  }
 },
 "nbformat": 4,
 "nbformat_minor": 2
}
