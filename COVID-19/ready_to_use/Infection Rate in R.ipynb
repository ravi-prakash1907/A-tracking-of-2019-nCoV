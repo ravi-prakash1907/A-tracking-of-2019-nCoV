{
 "cells": [
  {
   "cell_type": "code",
   "execution_count": 1,
   "metadata": {},
   "outputs": [
    {
     "name": "stderr",
     "output_type": "stream",
     "text": [
      "Registered S3 methods overwritten by 'ggplot2':\n",
      "  method         from \n",
      "  [.quosures     rlang\n",
      "  c.quosures     rlang\n",
      "  print.quosures rlang\n",
      "\n"
     ]
    }
   ],
   "source": [
    "library(readr)\n",
    "library(ggplot2)"
   ]
  },
  {
   "cell_type": "code",
   "execution_count": 2,
   "metadata": {},
   "outputs": [
    {
     "name": "stderr",
     "output_type": "stream",
     "text": [
      "Parsed with column specification:\n",
      "cols(\n",
      "  State = \u001b[31mcol_character()\u001b[39m,\n",
      "  Day = \u001b[32mcol_double()\u001b[39m,\n",
      "  Date = \u001b[31mcol_character()\u001b[39m,\n",
      "  Confirmed = \u001b[32mcol_double()\u001b[39m,\n",
      "  Deaths = \u001b[32mcol_double()\u001b[39m,\n",
      "  Recovered = \u001b[32mcol_double()\u001b[39m,\n",
      "  Active.Cases = \u001b[32mcol_double()\u001b[39m,\n",
      "  Closed.Cases = \u001b[32mcol_double()\u001b[39m\n",
      ")\n",
      "\n",
      "Parsed with column specification:\n",
      "cols(\n",
      "  State = \u001b[31mcol_character()\u001b[39m,\n",
      "  Day = \u001b[32mcol_double()\u001b[39m,\n",
      "  Date = \u001b[31mcol_character()\u001b[39m,\n",
      "  Confirmed = \u001b[32mcol_double()\u001b[39m,\n",
      "  Deaths = \u001b[32mcol_double()\u001b[39m,\n",
      "  Recovered = \u001b[32mcol_double()\u001b[39m,\n",
      "  Active.Cases = \u001b[32mcol_double()\u001b[39m,\n",
      "  Closed.Cases = \u001b[32mcol_double()\u001b[39m\n",
      ")\n",
      "\n",
      "Parsed with column specification:\n",
      "cols(\n",
      "  Location = \u001b[31mcol_character()\u001b[39m,\n",
      "  Day = \u001b[32mcol_double()\u001b[39m,\n",
      "  Date = \u001b[31mcol_character()\u001b[39m,\n",
      "  Confirmed = \u001b[32mcol_double()\u001b[39m,\n",
      "  Deaths = \u001b[32mcol_double()\u001b[39m,\n",
      "  Recovered = \u001b[32mcol_double()\u001b[39m,\n",
      "  Active.Cases = \u001b[32mcol_double()\u001b[39m,\n",
      "  Closed.Cases = \u001b[32mcol_double()\u001b[39m\n",
      ")\n",
      "\n"
     ]
    }
   ],
   "source": [
    "cruise=read_csv('COVID-19/Cruise/Diamond_Princess_dataset_dateWise_summary.csv')\n",
    "hubei=read_csv('COVID-19/Hubei/Hubei_dataset_dateWise_summary.csv')\n",
    "all = read_csv('COVID-19/World/World_dataset_dateWise_summary.csv')"
   ]
  },
  {
   "cell_type": "code",
   "execution_count": 3,
   "metadata": {},
   "outputs": [
    {
     "data": {
      "text/html": [
       "<table>\n",
       "<thead><tr><th scope=col>State</th><th scope=col>Day</th><th scope=col>Date</th><th scope=col>Confirmed</th><th scope=col>Deaths</th><th scope=col>Recovered</th><th scope=col>Active.Cases</th><th scope=col>Closed.Cases</th></tr></thead>\n",
       "<tbody>\n",
       "\t<tr><td>Diamond Princess</td><td>1               </td><td>21-01-2020      </td><td>0               </td><td>0               </td><td>0               </td><td>0               </td><td>0               </td></tr>\n",
       "\t<tr><td>Diamond Princess</td><td>2               </td><td>22-01-2020      </td><td>0               </td><td>0               </td><td>0               </td><td>0               </td><td>0               </td></tr>\n",
       "\t<tr><td>Diamond Princess</td><td>3               </td><td>23-01-2020      </td><td>0               </td><td>0               </td><td>0               </td><td>0               </td><td>0               </td></tr>\n",
       "\t<tr><td>Diamond Princess</td><td>4               </td><td>24-01-2020      </td><td>0               </td><td>0               </td><td>0               </td><td>0               </td><td>0               </td></tr>\n",
       "\t<tr><td>Diamond Princess</td><td>5               </td><td>25-01-2020      </td><td>0               </td><td>0               </td><td>0               </td><td>0               </td><td>0               </td></tr>\n",
       "\t<tr><td>Diamond Princess</td><td>6               </td><td>26-01-2020      </td><td>0               </td><td>0               </td><td>0               </td><td>0               </td><td>0               </td></tr>\n",
       "</tbody>\n",
       "</table>\n"
      ],
      "text/latex": [
       "\\begin{tabular}{r|llllllll}\n",
       " State & Day & Date & Confirmed & Deaths & Recovered & Active.Cases & Closed.Cases\\\\\n",
       "\\hline\n",
       "\t Diamond Princess & 1                & 21-01-2020       & 0                & 0                & 0                & 0                & 0               \\\\\n",
       "\t Diamond Princess & 2                & 22-01-2020       & 0                & 0                & 0                & 0                & 0               \\\\\n",
       "\t Diamond Princess & 3                & 23-01-2020       & 0                & 0                & 0                & 0                & 0               \\\\\n",
       "\t Diamond Princess & 4                & 24-01-2020       & 0                & 0                & 0                & 0                & 0               \\\\\n",
       "\t Diamond Princess & 5                & 25-01-2020       & 0                & 0                & 0                & 0                & 0               \\\\\n",
       "\t Diamond Princess & 6                & 26-01-2020       & 0                & 0                & 0                & 0                & 0               \\\\\n",
       "\\end{tabular}\n"
      ],
      "text/markdown": [
       "\n",
       "| State | Day | Date | Confirmed | Deaths | Recovered | Active.Cases | Closed.Cases |\n",
       "|---|---|---|---|---|---|---|---|\n",
       "| Diamond Princess | 1                | 21-01-2020       | 0                | 0                | 0                | 0                | 0                |\n",
       "| Diamond Princess | 2                | 22-01-2020       | 0                | 0                | 0                | 0                | 0                |\n",
       "| Diamond Princess | 3                | 23-01-2020       | 0                | 0                | 0                | 0                | 0                |\n",
       "| Diamond Princess | 4                | 24-01-2020       | 0                | 0                | 0                | 0                | 0                |\n",
       "| Diamond Princess | 5                | 25-01-2020       | 0                | 0                | 0                | 0                | 0                |\n",
       "| Diamond Princess | 6                | 26-01-2020       | 0                | 0                | 0                | 0                | 0                |\n",
       "\n"
      ],
      "text/plain": [
       "  State            Day Date       Confirmed Deaths Recovered Active.Cases\n",
       "1 Diamond Princess 1   21-01-2020 0         0      0         0           \n",
       "2 Diamond Princess 2   22-01-2020 0         0      0         0           \n",
       "3 Diamond Princess 3   23-01-2020 0         0      0         0           \n",
       "4 Diamond Princess 4   24-01-2020 0         0      0         0           \n",
       "5 Diamond Princess 5   25-01-2020 0         0      0         0           \n",
       "6 Diamond Princess 6   26-01-2020 0         0      0         0           \n",
       "  Closed.Cases\n",
       "1 0           \n",
       "2 0           \n",
       "3 0           \n",
       "4 0           \n",
       "5 0           \n",
       "6 0           "
      ]
     },
     "metadata": {},
     "output_type": "display_data"
    },
    {
     "data": {
      "text/html": [
       "<table>\n",
       "<thead><tr><th scope=col>State</th><th scope=col>Day</th><th scope=col>Date</th><th scope=col>Confirmed</th><th scope=col>Deaths</th><th scope=col>Recovered</th><th scope=col>Active.Cases</th><th scope=col>Closed.Cases</th></tr></thead>\n",
       "<tbody>\n",
       "\t<tr><td>Hubei     </td><td>1         </td><td>21-01-2020</td><td> 270      </td><td> 0        </td><td>25        </td><td>245       </td><td>25        </td></tr>\n",
       "\t<tr><td>Hubei     </td><td>2         </td><td>22-01-2020</td><td> 444      </td><td>17        </td><td>28        </td><td>399       </td><td>45        </td></tr>\n",
       "\t<tr><td>Hubei     </td><td>3         </td><td>23-01-2020</td><td> 444      </td><td>17        </td><td>28        </td><td>399       </td><td>45        </td></tr>\n",
       "\t<tr><td>Hubei     </td><td>4         </td><td>24-01-2020</td><td> 549      </td><td>24        </td><td>31        </td><td>494       </td><td>55        </td></tr>\n",
       "\t<tr><td>Hubei     </td><td>5         </td><td>25-01-2020</td><td> 761      </td><td>40        </td><td>32        </td><td>689       </td><td>72        </td></tr>\n",
       "\t<tr><td>Hubei     </td><td>6         </td><td>26-01-2020</td><td>1058      </td><td>52        </td><td>42        </td><td>964       </td><td>94        </td></tr>\n",
       "</tbody>\n",
       "</table>\n"
      ],
      "text/latex": [
       "\\begin{tabular}{r|llllllll}\n",
       " State & Day & Date & Confirmed & Deaths & Recovered & Active.Cases & Closed.Cases\\\\\n",
       "\\hline\n",
       "\t Hubei      & 1          & 21-01-2020 &  270       &  0         & 25         & 245        & 25        \\\\\n",
       "\t Hubei      & 2          & 22-01-2020 &  444       & 17         & 28         & 399        & 45        \\\\\n",
       "\t Hubei      & 3          & 23-01-2020 &  444       & 17         & 28         & 399        & 45        \\\\\n",
       "\t Hubei      & 4          & 24-01-2020 &  549       & 24         & 31         & 494        & 55        \\\\\n",
       "\t Hubei      & 5          & 25-01-2020 &  761       & 40         & 32         & 689        & 72        \\\\\n",
       "\t Hubei      & 6          & 26-01-2020 & 1058       & 52         & 42         & 964        & 94        \\\\\n",
       "\\end{tabular}\n"
      ],
      "text/markdown": [
       "\n",
       "| State | Day | Date | Confirmed | Deaths | Recovered | Active.Cases | Closed.Cases |\n",
       "|---|---|---|---|---|---|---|---|\n",
       "| Hubei      | 1          | 21-01-2020 |  270       |  0         | 25         | 245        | 25         |\n",
       "| Hubei      | 2          | 22-01-2020 |  444       | 17         | 28         | 399        | 45         |\n",
       "| Hubei      | 3          | 23-01-2020 |  444       | 17         | 28         | 399        | 45         |\n",
       "| Hubei      | 4          | 24-01-2020 |  549       | 24         | 31         | 494        | 55         |\n",
       "| Hubei      | 5          | 25-01-2020 |  761       | 40         | 32         | 689        | 72         |\n",
       "| Hubei      | 6          | 26-01-2020 | 1058       | 52         | 42         | 964        | 94         |\n",
       "\n"
      ],
      "text/plain": [
       "  State Day Date       Confirmed Deaths Recovered Active.Cases Closed.Cases\n",
       "1 Hubei 1   21-01-2020  270       0     25        245          25          \n",
       "2 Hubei 2   22-01-2020  444      17     28        399          45          \n",
       "3 Hubei 3   23-01-2020  444      17     28        399          45          \n",
       "4 Hubei 4   24-01-2020  549      24     31        494          55          \n",
       "5 Hubei 5   25-01-2020  761      40     32        689          72          \n",
       "6 Hubei 6   26-01-2020 1058      52     42        964          94          "
      ]
     },
     "metadata": {},
     "output_type": "display_data"
    },
    {
     "data": {
      "text/html": [
       "<table>\n",
       "<thead><tr><th scope=col>Location</th><th scope=col>Day</th><th scope=col>Date</th><th scope=col>Confirmed</th><th scope=col>Deaths</th><th scope=col>Recovered</th><th scope=col>Active.Cases</th><th scope=col>Closed.Cases</th></tr></thead>\n",
       "<tbody>\n",
       "\t<tr><td>World     </td><td>1         </td><td>21-01-2020</td><td>  60      </td><td>0         </td><td>0         </td><td>  60      </td><td>0         </td></tr>\n",
       "\t<tr><td>World     </td><td>2         </td><td>22-01-2020</td><td> 111      </td><td>0         </td><td>0         </td><td> 111      </td><td>0         </td></tr>\n",
       "\t<tr><td>World     </td><td>3         </td><td>23-01-2020</td><td> 209      </td><td>0         </td><td>0         </td><td> 209      </td><td>0         </td></tr>\n",
       "\t<tr><td>World     </td><td>4         </td><td>24-01-2020</td><td> 392      </td><td>0         </td><td>0         </td><td> 392      </td><td>0         </td></tr>\n",
       "\t<tr><td>World     </td><td>5         </td><td>25-01-2020</td><td> 673      </td><td>0         </td><td>0         </td><td> 673      </td><td>0         </td></tr>\n",
       "\t<tr><td>World     </td><td>6         </td><td>26-01-2020</td><td>1060      </td><td>0         </td><td>3         </td><td>1057      </td><td>3         </td></tr>\n",
       "</tbody>\n",
       "</table>\n"
      ],
      "text/latex": [
       "\\begin{tabular}{r|llllllll}\n",
       " Location & Day & Date & Confirmed & Deaths & Recovered & Active.Cases & Closed.Cases\\\\\n",
       "\\hline\n",
       "\t World      & 1          & 21-01-2020 &   60       & 0          & 0          &   60       & 0         \\\\\n",
       "\t World      & 2          & 22-01-2020 &  111       & 0          & 0          &  111       & 0         \\\\\n",
       "\t World      & 3          & 23-01-2020 &  209       & 0          & 0          &  209       & 0         \\\\\n",
       "\t World      & 4          & 24-01-2020 &  392       & 0          & 0          &  392       & 0         \\\\\n",
       "\t World      & 5          & 25-01-2020 &  673       & 0          & 0          &  673       & 0         \\\\\n",
       "\t World      & 6          & 26-01-2020 & 1060       & 0          & 3          & 1057       & 3         \\\\\n",
       "\\end{tabular}\n"
      ],
      "text/markdown": [
       "\n",
       "| Location | Day | Date | Confirmed | Deaths | Recovered | Active.Cases | Closed.Cases |\n",
       "|---|---|---|---|---|---|---|---|\n",
       "| World      | 1          | 21-01-2020 |   60       | 0          | 0          |   60       | 0          |\n",
       "| World      | 2          | 22-01-2020 |  111       | 0          | 0          |  111       | 0          |\n",
       "| World      | 3          | 23-01-2020 |  209       | 0          | 0          |  209       | 0          |\n",
       "| World      | 4          | 24-01-2020 |  392       | 0          | 0          |  392       | 0          |\n",
       "| World      | 5          | 25-01-2020 |  673       | 0          | 0          |  673       | 0          |\n",
       "| World      | 6          | 26-01-2020 | 1060       | 0          | 3          | 1057       | 3          |\n",
       "\n"
      ],
      "text/plain": [
       "  Location Day Date       Confirmed Deaths Recovered Active.Cases Closed.Cases\n",
       "1 World    1   21-01-2020   60      0      0           60         0           \n",
       "2 World    2   22-01-2020  111      0      0          111         0           \n",
       "3 World    3   23-01-2020  209      0      0          209         0           \n",
       "4 World    4   24-01-2020  392      0      0          392         0           \n",
       "5 World    5   25-01-2020  673      0      0          673         0           \n",
       "6 World    6   26-01-2020 1060      0      3         1057         3           "
      ]
     },
     "metadata": {},
     "output_type": "display_data"
    }
   ],
   "source": [
    "head(cruise)\n",
    "head(hubei)\n",
    "head(all)"
   ]
  },
  {
   "cell_type": "code",
   "execution_count": 4,
   "metadata": {},
   "outputs": [],
   "source": [
    "cruise=cruise[,c('Day','Confirmed')]\n",
    "hubei=hubei[,c('Day','Confirmed')]\n",
    "all=all[,c('Day','Confirmed')]"
   ]
  },
  {
   "cell_type": "code",
   "execution_count": 5,
   "metadata": {},
   "outputs": [],
   "source": [
    "# calculate the percent of the affected people\n",
    "percent <- function(val){\n",
    "    return((val*100)/Total)\n",
    "}"
   ]
  },
  {
   "cell_type": "code",
   "execution_count": 6,
   "metadata": {},
   "outputs": [],
   "source": [
    "Total = 3711 # cruise\n",
    "cruise$'percent_affected' = apply(cruise[,'Confirmed'],1,percent)\n",
    "\n",
    "Total = 60057550 # hubei\n",
    "hubei$'percent_affected' = apply(hubei[,'Confirmed'],1,percent)\n",
    "\n",
    "Total = 6360676224-3711 # world\n",
    "all$'percent_affected' = apply(all[,'Confirmed'],1,percent)"
   ]
  },
  {
   "cell_type": "code",
   "execution_count": 7,
   "metadata": {},
   "outputs": [
    {
     "data": {
      "text/html": [
       "<ol class=list-inline>\n",
       "\t<li>50</li>\n",
       "\t<li>3</li>\n",
       "</ol>\n"
      ],
      "text/latex": [
       "\\begin{enumerate*}\n",
       "\\item 50\n",
       "\\item 3\n",
       "\\end{enumerate*}\n"
      ],
      "text/markdown": [
       "1. 50\n",
       "2. 3\n",
       "\n",
       "\n"
      ],
      "text/plain": [
       "[1] 50  3"
      ]
     },
     "metadata": {},
     "output_type": "display_data"
    }
   ],
   "source": [
    "dim(hubei)"
   ]
  },
  {
   "cell_type": "code",
   "execution_count": 8,
   "metadata": {},
   "outputs": [],
   "source": [
    "hubei$'totalpop'=60057550\n",
    "cruise$'totalpop'=3711\n",
    "all$'totalpop'=6360676224-3711"
   ]
  },
  {
   "cell_type": "code",
   "execution_count": 9,
   "metadata": {},
   "outputs": [
    {
     "data": {
      "text/html": [
       "<table>\n",
       "<thead><tr><th scope=col>Day</th><th scope=col>Confirmed</th><th scope=col>percent_affected</th><th scope=col>totalpop</th></tr></thead>\n",
       "<tbody>\n",
       "\t<tr><td>45       </td><td>67466    </td><td>0.1123356</td><td>60057550 </td></tr>\n",
       "\t<tr><td>46       </td><td>67592    </td><td>0.1125454</td><td>60057550 </td></tr>\n",
       "\t<tr><td>47       </td><td>67666    </td><td>0.1126686</td><td>60057550 </td></tr>\n",
       "\t<tr><td>48       </td><td>67707    </td><td>0.1127369</td><td>60057550 </td></tr>\n",
       "\t<tr><td>49       </td><td>67743    </td><td>0.1127968</td><td>60057550 </td></tr>\n",
       "\t<tr><td>50       </td><td>67760    </td><td>0.1128251</td><td>60057550 </td></tr>\n",
       "</tbody>\n",
       "</table>\n"
      ],
      "text/latex": [
       "\\begin{tabular}{r|llll}\n",
       " Day & Confirmed & percent\\_affected & totalpop\\\\\n",
       "\\hline\n",
       "\t 45        & 67466     & 0.1123356 & 60057550 \\\\\n",
       "\t 46        & 67592     & 0.1125454 & 60057550 \\\\\n",
       "\t 47        & 67666     & 0.1126686 & 60057550 \\\\\n",
       "\t 48        & 67707     & 0.1127369 & 60057550 \\\\\n",
       "\t 49        & 67743     & 0.1127968 & 60057550 \\\\\n",
       "\t 50        & 67760     & 0.1128251 & 60057550 \\\\\n",
       "\\end{tabular}\n"
      ],
      "text/markdown": [
       "\n",
       "| Day | Confirmed | percent_affected | totalpop |\n",
       "|---|---|---|---|\n",
       "| 45        | 67466     | 0.1123356 | 60057550  |\n",
       "| 46        | 67592     | 0.1125454 | 60057550  |\n",
       "| 47        | 67666     | 0.1126686 | 60057550  |\n",
       "| 48        | 67707     | 0.1127369 | 60057550  |\n",
       "| 49        | 67743     | 0.1127968 | 60057550  |\n",
       "| 50        | 67760     | 0.1128251 | 60057550  |\n",
       "\n"
      ],
      "text/plain": [
       "  Day Confirmed percent_affected totalpop\n",
       "1 45  67466     0.1123356        60057550\n",
       "2 46  67592     0.1125454        60057550\n",
       "3 47  67666     0.1126686        60057550\n",
       "4 48  67707     0.1127369        60057550\n",
       "5 49  67743     0.1127968        60057550\n",
       "6 50  67760     0.1128251        60057550"
      ]
     },
     "metadata": {},
     "output_type": "display_data"
    }
   ],
   "source": [
    "tail(hubei)"
   ]
  },
  {
   "cell_type": "code",
   "execution_count": 189,
   "metadata": {},
   "outputs": [
    {
     "data": {
      "image/png": "[encoded data removed]",
      "text/plain": [
       "plot without title"
      ]
     },
     "metadata": {
      "image/png": {
       "height": 420,
       "width": 420
      },
      "text/plain": {
       "height": 420,
       "width": 420
      }
     },
     "output_type": "display_data"
    }
   ],
   "source": [
    "hubei.scatter.plot <- ggplot(hubei, aes(x = hubei$Day, y = hubei$percent_affected)) +\n",
    "                        geom_point()\n",
    "hubei.scatter.plot"
   ]
  },
  {
   "cell_type": "code",
   "execution_count": 188,
   "metadata": {},
   "outputs": [
    {
     "data": {
      "image/png": "[encoded data removed]",
      "text/plain": [
       "plot without title"
      ]
     },
     "metadata": {
      "image/png": {
       "height": 420,
       "width": 420
      },
      "text/plain": {
       "height": 420,
       "width": 420
      }
     },
     "output_type": "display_data"
    }
   ],
   "source": [
    "cruise.scatter.plot <- ggplot(cruise, aes(x = cruise$Day, y = cruise$percent_affected)) +\n",
    "                        geom_point()\n",
    "cruise.scatter.plot"
   ]
  },
  {
   "cell_type": "code",
   "execution_count": 376,
   "metadata": {},
   "outputs": [
    {
     "data": {
      "image/png": "[encoded data removed]",
      "text/plain": [
       "plot without title"
      ]
     },
     "metadata": {
      "image/png": {
       "height": 420,
       "width": 420
      },
      "text/plain": {
       "height": 420,
       "width": 420
      }
     },
     "output_type": "display_data"
    }
   ],
   "source": [
    "all.scatter.plot <- ggplot(all, aes(x = Day, y = percent_affected)) +\n",
    "                        geom_point()\n",
    "all.scatter.plot"
   ]
  },
  {
   "cell_type": "code",
   "execution_count": 13,
   "metadata": {},
   "outputs": [
    {
     "data": {
      "text/html": [
       "<table>\n",
       "<thead><tr><th scope=col>Day</th><th scope=col>Confirmed</th><th scope=col>percent_affected</th><th scope=col>totalpop</th></tr></thead>\n",
       "<tbody>\n",
       "\t<tr><td>45          </td><td>29713       </td><td>0.0004671361</td><td>6360672513  </td></tr>\n",
       "\t<tr><td>46          </td><td>33511       </td><td>0.0005268468</td><td>6360672513  </td></tr>\n",
       "\t<tr><td>47          </td><td>37473       </td><td>0.0005891358</td><td>6360672513  </td></tr>\n",
       "\t<tr><td>48          </td><td>41411       </td><td>0.0006510475</td><td>6360672513  </td></tr>\n",
       "\t<tr><td>49          </td><td>45144       </td><td>0.0007097363</td><td>6360672513  </td></tr>\n",
       "\t<tr><td>50          </td><td>50259       </td><td>0.0007901523</td><td>6360672513  </td></tr>\n",
       "</tbody>\n",
       "</table>\n"
      ],
      "text/latex": [
       "\\begin{tabular}{r|llll}\n",
       " Day & Confirmed & percent\\_affected & totalpop\\\\\n",
       "\\hline\n",
       "\t 45           & 29713        & 0.0004671361 & 6360672513  \\\\\n",
       "\t 46           & 33511        & 0.0005268468 & 6360672513  \\\\\n",
       "\t 47           & 37473        & 0.0005891358 & 6360672513  \\\\\n",
       "\t 48           & 41411        & 0.0006510475 & 6360672513  \\\\\n",
       "\t 49           & 45144        & 0.0007097363 & 6360672513  \\\\\n",
       "\t 50           & 50259        & 0.0007901523 & 6360672513  \\\\\n",
       "\\end{tabular}\n"
      ],
      "text/markdown": [
       "\n",
       "| Day | Confirmed | percent_affected | totalpop |\n",
       "|---|---|---|---|\n",
       "| 45           | 29713        | 0.0004671361 | 6360672513   |\n",
       "| 46           | 33511        | 0.0005268468 | 6360672513   |\n",
       "| 47           | 37473        | 0.0005891358 | 6360672513   |\n",
       "| 48           | 41411        | 0.0006510475 | 6360672513   |\n",
       "| 49           | 45144        | 0.0007097363 | 6360672513   |\n",
       "| 50           | 50259        | 0.0007901523 | 6360672513   |\n",
       "\n"
      ],
      "text/plain": [
       "  Day Confirmed percent_affected totalpop  \n",
       "1 45  29713     0.0004671361     6360672513\n",
       "2 46  33511     0.0005268468     6360672513\n",
       "3 47  37473     0.0005891358     6360672513\n",
       "4 48  41411     0.0006510475     6360672513\n",
       "5 49  45144     0.0007097363     6360672513\n",
       "6 50  50259     0.0007901523     6360672513"
      ]
     },
     "metadata": {},
     "output_type": "display_data"
    }
   ],
   "source": [
    "tail(all)"
   ]
  },
  {
   "cell_type": "code",
   "execution_count": null,
   "metadata": {},
   "outputs": [],
   "source": []
  },
  {
   "cell_type": "code",
   "execution_count": null,
   "metadata": {},
   "outputs": [],
   "source": []
  },
  {
   "cell_type": "code",
   "execution_count": null,
   "metadata": {},
   "outputs": [],
   "source": []
  },
  {
   "cell_type": "code",
   "execution_count": null,
   "metadata": {},
   "outputs": [],
   "source": []
  },
  {
   "cell_type": "markdown",
   "metadata": {},
   "source": [
    "# Data-Analysis"
   ]
  },
  {
   "cell_type": "code",
   "execution_count": 462,
   "metadata": {},
   "outputs": [],
   "source": [
    "library(tidyverse)\n",
    "library(caret)\n",
    "theme_set(theme_classic())"
   ]
  },
  {
   "cell_type": "code",
   "execution_count": 463,
   "metadata": {},
   "outputs": [],
   "source": [
    "set.seed(20) # generages same set of random sample every time\n",
    "training.samples <- hubei$Day %>%\n",
    "  createDataPartition(p = 0.8, list = FALSE)\n",
    "\n",
    "train.data  <- hubei[training.samples, ]\n",
    "test.data <- hubei[-training.samples, ]"
   ]
  },
  {
   "cell_type": "code",
   "execution_count": 464,
   "metadata": {},
   "outputs": [
    {
     "data": {
      "text/html": [
       "<table>\n",
       "<thead><tr><th scope=col>Day</th><th scope=col>Confirmed</th><th scope=col>percent_affected</th><th scope=col>totalpop</th></tr></thead>\n",
       "<tbody>\n",
       "\t<tr><td>2           </td><td> 444        </td><td>0.0007392909</td><td>60057550    </td></tr>\n",
       "\t<tr><td>3           </td><td> 444        </td><td>0.0007392909</td><td>60057550    </td></tr>\n",
       "\t<tr><td>4           </td><td> 549        </td><td>0.0009141232</td><td>60057550    </td></tr>\n",
       "\t<tr><td>5           </td><td> 761        </td><td>0.0012671180</td><td>60057550    </td></tr>\n",
       "\t<tr><td>6           </td><td>1058        </td><td>0.0017616436</td><td>60057550    </td></tr>\n",
       "\t<tr><td>7           </td><td>1423        </td><td>0.0023693940</td><td>60057550    </td></tr>\n",
       "</tbody>\n",
       "</table>\n"
      ],
      "text/latex": [
       "\\begin{tabular}{r|llll}\n",
       " Day & Confirmed & percent\\_affected & totalpop\\\\\n",
       "\\hline\n",
       "\t 2            &  444         & 0.0007392909 & 60057550    \\\\\n",
       "\t 3            &  444         & 0.0007392909 & 60057550    \\\\\n",
       "\t 4            &  549         & 0.0009141232 & 60057550    \\\\\n",
       "\t 5            &  761         & 0.0012671180 & 60057550    \\\\\n",
       "\t 6            & 1058         & 0.0017616436 & 60057550    \\\\\n",
       "\t 7            & 1423         & 0.0023693940 & 60057550    \\\\\n",
       "\\end{tabular}\n"
      ],
      "text/markdown": [
       "\n",
       "| Day | Confirmed | percent_affected | totalpop |\n",
       "|---|---|---|---|\n",
       "| 2            |  444         | 0.0007392909 | 60057550     |\n",
       "| 3            |  444         | 0.0007392909 | 60057550     |\n",
       "| 4            |  549         | 0.0009141232 | 60057550     |\n",
       "| 5            |  761         | 0.0012671180 | 60057550     |\n",
       "| 6            | 1058         | 0.0017616436 | 60057550     |\n",
       "| 7            | 1423         | 0.0023693940 | 60057550     |\n",
       "\n"
      ],
      "text/plain": [
       "  Day Confirmed percent_affected totalpop\n",
       "1 2    444      0.0007392909     60057550\n",
       "2 3    444      0.0007392909     60057550\n",
       "3 4    549      0.0009141232     60057550\n",
       "4 5    761      0.0012671180     60057550\n",
       "5 6   1058      0.0017616436     60057550\n",
       "6 7   1423      0.0023693940     60057550"
      ]
     },
     "metadata": {},
     "output_type": "display_data"
    },
    {
     "data": {
      "text/html": [
       "<table>\n",
       "<thead><tr><th scope=col>Day</th><th scope=col>Confirmed</th><th scope=col>percent_affected</th><th scope=col>totalpop</th></tr></thead>\n",
       "<tbody>\n",
       "\t<tr><td> 1          </td><td>  270       </td><td>0.0004495688</td><td>60057550    </td></tr>\n",
       "\t<tr><td>12          </td><td> 7153       </td><td>0.0119102428</td><td>60057550    </td></tr>\n",
       "\t<tr><td>23          </td><td>33366       </td><td>0.0555567119</td><td>60057550    </td></tr>\n",
       "\t<tr><td>24          </td><td>48206       </td><td>0.0802663445</td><td>60057550    </td></tr>\n",
       "\t<tr><td>28          </td><td>59989       </td><td>0.0998858595</td><td>60057550    </td></tr>\n",
       "\t<tr><td>37          </td><td>65187       </td><td>0.1085408912</td><td>60057550    </td></tr>\n",
       "</tbody>\n",
       "</table>\n"
      ],
      "text/latex": [
       "\\begin{tabular}{r|llll}\n",
       " Day & Confirmed & percent\\_affected & totalpop\\\\\n",
       "\\hline\n",
       "\t  1           &   270        & 0.0004495688 & 60057550    \\\\\n",
       "\t 12           &  7153        & 0.0119102428 & 60057550    \\\\\n",
       "\t 23           & 33366        & 0.0555567119 & 60057550    \\\\\n",
       "\t 24           & 48206        & 0.0802663445 & 60057550    \\\\\n",
       "\t 28           & 59989        & 0.0998858595 & 60057550    \\\\\n",
       "\t 37           & 65187        & 0.1085408912 & 60057550    \\\\\n",
       "\\end{tabular}\n"
      ],
      "text/markdown": [
       "\n",
       "| Day | Confirmed | percent_affected | totalpop |\n",
       "|---|---|---|---|\n",
       "|  1           |   270        | 0.0004495688 | 60057550     |\n",
       "| 12           |  7153        | 0.0119102428 | 60057550     |\n",
       "| 23           | 33366        | 0.0555567119 | 60057550     |\n",
       "| 24           | 48206        | 0.0802663445 | 60057550     |\n",
       "| 28           | 59989        | 0.0998858595 | 60057550     |\n",
       "| 37           | 65187        | 0.1085408912 | 60057550     |\n",
       "\n"
      ],
      "text/plain": [
       "  Day Confirmed percent_affected totalpop\n",
       "1  1    270     0.0004495688     60057550\n",
       "2 12   7153     0.0119102428     60057550\n",
       "3 23  33366     0.0555567119     60057550\n",
       "4 24  48206     0.0802663445     60057550\n",
       "5 28  59989     0.0998858595     60057550\n",
       "6 37  65187     0.1085408912     60057550"
      ]
     },
     "metadata": {},
     "output_type": "display_data"
    },
    {
     "data": {
      "text/html": [
       "<ol class=list-inline>\n",
       "\t<li>42</li>\n",
       "\t<li>4</li>\n",
       "</ol>\n"
      ],
      "text/latex": [
       "\\begin{enumerate*}\n",
       "\\item 42\n",
       "\\item 4\n",
       "\\end{enumerate*}\n"
      ],
      "text/markdown": [
       "1. 42\n",
       "2. 4\n",
       "\n",
       "\n"
      ],
      "text/plain": [
       "[1] 42  4"
      ]
     },
     "metadata": {},
     "output_type": "display_data"
    },
    {
     "data": {
      "text/html": [
       "<ol class=list-inline>\n",
       "\t<li>8</li>\n",
       "\t<li>4</li>\n",
       "</ol>\n"
      ],
      "text/latex": [
       "\\begin{enumerate*}\n",
       "\\item 8\n",
       "\\item 4\n",
       "\\end{enumerate*}\n"
      ],
      "text/markdown": [
       "1. 8\n",
       "2. 4\n",
       "\n",
       "\n"
      ],
      "text/plain": [
       "[1] 8 4"
      ]
     },
     "metadata": {},
     "output_type": "display_data"
    }
   ],
   "source": [
    "head(train.data)\n",
    "head(test.data)\n",
    "\n",
    "dim(train.data)\n",
    "dim(test.data)"
   ]
  },
  {
   "cell_type": "code",
   "execution_count": 465,
   "metadata": {},
   "outputs": [
    {
     "name": "stderr",
     "output_type": "stream",
     "text": [
      "`geom_smooth()` using method = 'loess' and formula 'y ~ x'\n",
      "\n"
     ]
    },
    {
     "data": {
      "image/png": "[encoded data removed]",
      "text/plain": [
       "plot without title"
      ]
     },
     "metadata": {
      "image/png": {
       "height": 420,
       "width": 420
      },
      "text/plain": {
       "height": 420,
       "width": 420
      }
     },
     "output_type": "display_data"
    }
   ],
   "source": [
    "ggplot(train.data, aes(Day, percent_affected) ) +\n",
    "  geom_point() +\n",
    "  stat_smooth()"
   ]
  },
  {
   "cell_type": "markdown",
   "metadata": {},
   "source": [
    "#### Linear regression {linear-reg}"
   ]
  },
  {
   "cell_type": "code",
   "execution_count": 466,
   "metadata": {},
   "outputs": [],
   "source": [
    "# a regrassion for polynomial reg. eq. --> \n",
    "# y = x + I(x^2)...\n",
    "\n",
    "# Build the model\n",
    "model <- lm(Day ~ percent_affected, data = train.data)"
   ]
  },
  {
   "cell_type": "code",
   "execution_count": 467,
   "metadata": {},
   "outputs": [],
   "source": [
    "# Make predictions\n",
    "predictions <- model %>% predict(test.data)"
   ]
  },
  {
   "cell_type": "code",
   "execution_count": 468,
   "metadata": {},
   "outputs": [
    {
     "data": {
      "text/html": [
       "<table>\n",
       "<thead><tr><th scope=col>RMSE</th><th scope=col>R2</th></tr></thead>\n",
       "<tbody>\n",
       "\t<tr><td>4.814445 </td><td>0.8930732</td></tr>\n",
       "</tbody>\n",
       "</table>\n"
      ],
      "text/latex": [
       "\\begin{tabular}{r|ll}\n",
       " RMSE & R2\\\\\n",
       "\\hline\n",
       "\t 4.814445  & 0.8930732\\\\\n",
       "\\end{tabular}\n"
      ],
      "text/markdown": [
       "\n",
       "| RMSE | R2 |\n",
       "|---|---|\n",
       "| 4.814445  | 0.8930732 |\n",
       "\n"
      ],
      "text/plain": [
       "  RMSE     R2       \n",
       "1 4.814445 0.8930732"
      ]
     },
     "metadata": {},
     "output_type": "display_data"
    }
   ],
   "source": [
    "# Model performance\n",
    "data.frame(\n",
    "  RMSE = RMSE(predictions, test.data$Day),\n",
    "  R2 = R2(predictions, test.data$Day)\n",
    ")"
   ]
  },
  {
   "cell_type": "code",
   "execution_count": 469,
   "metadata": {},
   "outputs": [
    {
     "data": {
      "image/png": "[encoded data removed]",
      "text/plain": [
       "plot without title"
      ]
     },
     "metadata": {
      "image/png": {
       "height": 420,
       "width": 420
      },
      "text/plain": {
       "height": 420,
       "width": 420
      }
     },
     "output_type": "display_data"
    }
   ],
   "source": [
    "ggplot(train.data, aes(Day, percent_affected) ) +\n",
    "  geom_point() +\n",
    "  stat_smooth(method = lm, formula = y ~ x)"
   ]
  },
  {
   "cell_type": "code",
   "execution_count": null,
   "metadata": {},
   "outputs": [],
   "source": []
  },
  {
   "cell_type": "code",
   "execution_count": null,
   "metadata": {},
   "outputs": [],
   "source": []
  },
  {
   "cell_type": "code",
   "execution_count": null,
   "metadata": {},
   "outputs": [],
   "source": []
  },
  {
   "cell_type": "code",
   "execution_count": null,
   "metadata": {},
   "outputs": [],
   "source": []
  },
  {
   "cell_type": "markdown",
   "metadata": {},
   "source": [
    "#### Polynomial regression"
   ]
  },
  {
   "cell_type": "code",
   "execution_count": 488,
   "metadata": {},
   "outputs": [],
   "source": [
    "deg = 20"
   ]
  },
  {
   "cell_type": "code",
   "execution_count": 496,
   "metadata": {},
   "outputs": [
    {
     "data": {
      "text/plain": [
       "\n",
       "Call:\n",
       "lm(formula = percent_affected ~ poly(Day, deg, raw = TRUE), data = train.data)\n",
       "\n",
       "Coefficients:\n",
       "                 (Intercept)   poly(Day, deg, raw = TRUE)1  \n",
       "                  -2.184e-01                     3.137e-01  \n",
       " poly(Day, deg, raw = TRUE)2   poly(Day, deg, raw = TRUE)3  \n",
       "                  -1.816e-01                     5.689e-02  \n",
       " poly(Day, deg, raw = TRUE)4   poly(Day, deg, raw = TRUE)5  \n",
       "                  -1.090e-02                     1.369e-03  \n",
       " poly(Day, deg, raw = TRUE)6   poly(Day, deg, raw = TRUE)7  \n",
       "                  -1.174e-04                     7.033e-06  \n",
       " poly(Day, deg, raw = TRUE)8   poly(Day, deg, raw = TRUE)9  \n",
       "                  -2.977e-07                     8.860e-09  \n",
       "poly(Day, deg, raw = TRUE)10  poly(Day, deg, raw = TRUE)11  \n",
       "                  -1.807e-10                     2.362e-12  \n",
       "poly(Day, deg, raw = TRUE)12  poly(Day, deg, raw = TRUE)13  \n",
       "                  -1.612e-14                            NA  \n",
       "poly(Day, deg, raw = TRUE)14  poly(Day, deg, raw = TRUE)15  \n",
       "                   6.528e-19                            NA  \n",
       "poly(Day, deg, raw = TRUE)16  poly(Day, deg, raw = TRUE)17  \n",
       "                  -3.399e-23                            NA  \n",
       "poly(Day, deg, raw = TRUE)18  poly(Day, deg, raw = TRUE)19  \n",
       "                   9.768e-28                            NA  \n",
       "poly(Day, deg, raw = TRUE)20  \n",
       "                          NA  \n"
      ]
     },
     "metadata": {},
     "output_type": "display_data"
    }
   ],
   "source": [
    "# a regrassion for polynomial reg. eq. --> \n",
    "# y = x + I(x^2)...\n",
    "\n",
    "# lm(medv ~ Day + I(Day^2), data = train.data)\n",
    "\n",
    "# better and alternate way for line i.e. above\n",
    "lm(percent_affected ~ poly(Day, deg, raw = TRUE), data = train.data)\n",
    "fit = lm(percent_affected ~ poly(Day, deg, raw = TRUE), data = train.data)"
   ]
  },
  {
   "cell_type": "code",
   "execution_count": 490,
   "metadata": {},
   "outputs": [],
   "source": [
    "# Make predictions\n",
    "predictions <- model %>% predict(train.data)\n",
    "#predictions"
   ]
  },
  {
   "cell_type": "code",
   "execution_count": 491,
   "metadata": {},
   "outputs": [
    {
     "data": {
      "text/html": [
       "<table>\n",
       "<thead><tr><th scope=col>RMSE</th><th scope=col>R2</th></tr></thead>\n",
       "<tbody>\n",
       "\t<tr><td>4.423086 </td><td>0.9057455</td></tr>\n",
       "</tbody>\n",
       "</table>\n"
      ],
      "text/latex": [
       "\\begin{tabular}{r|ll}\n",
       " RMSE & R2\\\\\n",
       "\\hline\n",
       "\t 4.423086  & 0.9057455\\\\\n",
       "\\end{tabular}\n"
      ],
      "text/markdown": [
       "\n",
       "| RMSE | R2 |\n",
       "|---|---|\n",
       "| 4.423086  | 0.9057455 |\n",
       "\n"
      ],
      "text/plain": [
       "  RMSE     R2       \n",
       "1 4.423086 0.9057455"
      ]
     },
     "metadata": {},
     "output_type": "display_data"
    }
   ],
   "source": [
    "# Model performance\n",
    "data.frame(\n",
    "  RMSE = RMSE(predictions, train.data$Day),\n",
    "  R2 = R2(predictions, train.data$Day)\n",
    ")"
   ]
  },
  {
   "cell_type": "code",
   "execution_count": 495,
   "metadata": {},
   "outputs": [
    {
     "name": "stderr",
     "output_type": "stream",
     "text": [
      "Warning message in predict.lm(model, newdata = data.frame(x = xseq), se.fit = se, :\n",
      "“prediction from a rank-deficient fit may be misleading”\n"
     ]
    },
    {
     "data": {
      "image/png": "[encoded data removed]",
      "text/plain": [
       "plot without title"
      ]
     },
     "metadata": {
      "image/png": {
       "height": 420,
       "width": 420
      },
      "text/plain": {
       "height": 420,
       "width": 420
      }
     },
     "output_type": "display_data"
    }
   ],
   "source": [
    "ggplot(train.data, aes(Day, percent_affected) ) +\n",
    "  geom_point() +\n",
    "  stat_smooth(method = lm, formula = y ~ poly(x, deg, raw = TRUE))"
   ]
  },
  {
   "cell_type": "code",
   "execution_count": null,
   "metadata": {},
   "outputs": [],
   "source": []
  },
  {
   "cell_type": "raw",
   "metadata": {},
   "source": []
  },
  {
   "cell_type": "code",
   "execution_count": null,
   "metadata": {},
   "outputs": [],
   "source": []
  },
  {
   "cell_type": "markdown",
   "metadata": {},
   "source": [
    "#### Log Transformation"
   ]
  },
  {
   "cell_type": "code",
   "execution_count": 307,
   "metadata": {},
   "outputs": [],
   "source": [
    "# Build the model\n",
    "model <- lm(Day ~ log(percent_affected), data = train.data)"
   ]
  },
  {
   "cell_type": "code",
   "execution_count": 308,
   "metadata": {},
   "outputs": [],
   "source": [
    "# Make predictions\n",
    "predictions <- model %>% predict(test.data)"
   ]
  },
  {
   "cell_type": "code",
   "execution_count": 309,
   "metadata": {},
   "outputs": [
    {
     "data": {
      "text/html": [
       "<table>\n",
       "<thead><tr><th scope=col>RMSE</th><th scope=col>R2</th></tr></thead>\n",
       "<tbody>\n",
       "\t<tr><td>7.651882 </td><td>0.7354638</td></tr>\n",
       "</tbody>\n",
       "</table>\n"
      ],
      "text/latex": [
       "\\begin{tabular}{r|ll}\n",
       " RMSE & R2\\\\\n",
       "\\hline\n",
       "\t 7.651882  & 0.7354638\\\\\n",
       "\\end{tabular}\n"
      ],
      "text/markdown": [
       "\n",
       "| RMSE | R2 |\n",
       "|---|---|\n",
       "| 7.651882  | 0.7354638 |\n",
       "\n"
      ],
      "text/plain": [
       "  RMSE     R2       \n",
       "1 7.651882 0.7354638"
      ]
     },
     "metadata": {},
     "output_type": "display_data"
    }
   ],
   "source": [
    "# Model performance\n",
    "data.frame(\n",
    "  RMSE = RMSE(predictions, test.data$Day),\n",
    "  R2 = R2(predictions, test.data$Day)\n",
    ")"
   ]
  },
  {
   "cell_type": "markdown",
   "metadata": {},
   "source": [
    "ggplot(train.data, aes(Day, percent_affected) ) +\n",
    "  geom_point() +\n",
    "  stat_smooth(method = lm, formula = y ~ log(x))"
   ]
  },
  {
   "cell_type": "code",
   "execution_count": null,
   "metadata": {},
   "outputs": [],
   "source": []
  },
  {
   "cell_type": "code",
   "execution_count": 501,
   "metadata": {},
   "outputs": [
    {
     "data": {
      "text/html": [
       "<table>\n",
       "<thead><tr><th scope=col>Day</th><th scope=col>Confirmed</th><th scope=col>percent_affected</th><th scope=col>totalpop</th></tr></thead>\n",
       "<tbody>\n",
       "\t<tr><td>2           </td><td> 444        </td><td>0.0007392909</td><td>60057550    </td></tr>\n",
       "\t<tr><td>3           </td><td> 444        </td><td>0.0007392909</td><td>60057550    </td></tr>\n",
       "\t<tr><td>4           </td><td> 549        </td><td>0.0009141232</td><td>60057550    </td></tr>\n",
       "\t<tr><td>5           </td><td> 761        </td><td>0.0012671180</td><td>60057550    </td></tr>\n",
       "\t<tr><td>6           </td><td>1058        </td><td>0.0017616436</td><td>60057550    </td></tr>\n",
       "\t<tr><td>7           </td><td>1423        </td><td>0.0023693940</td><td>60057550    </td></tr>\n",
       "</tbody>\n",
       "</table>\n"
      ],
      "text/latex": [
       "\\begin{tabular}{r|llll}\n",
       " Day & Confirmed & percent\\_affected & totalpop\\\\\n",
       "\\hline\n",
       "\t 2            &  444         & 0.0007392909 & 60057550    \\\\\n",
       "\t 3            &  444         & 0.0007392909 & 60057550    \\\\\n",
       "\t 4            &  549         & 0.0009141232 & 60057550    \\\\\n",
       "\t 5            &  761         & 0.0012671180 & 60057550    \\\\\n",
       "\t 6            & 1058         & 0.0017616436 & 60057550    \\\\\n",
       "\t 7            & 1423         & 0.0023693940 & 60057550    \\\\\n",
       "\\end{tabular}\n"
      ],
      "text/markdown": [
       "\n",
       "| Day | Confirmed | percent_affected | totalpop |\n",
       "|---|---|---|---|\n",
       "| 2            |  444         | 0.0007392909 | 60057550     |\n",
       "| 3            |  444         | 0.0007392909 | 60057550     |\n",
       "| 4            |  549         | 0.0009141232 | 60057550     |\n",
       "| 5            |  761         | 0.0012671180 | 60057550     |\n",
       "| 6            | 1058         | 0.0017616436 | 60057550     |\n",
       "| 7            | 1423         | 0.0023693940 | 60057550     |\n",
       "\n"
      ],
      "text/plain": [
       "  Day Confirmed percent_affected totalpop\n",
       "1 2    444      0.0007392909     60057550\n",
       "2 3    444      0.0007392909     60057550\n",
       "3 4    549      0.0009141232     60057550\n",
       "4 5    761      0.0012671180     60057550\n",
       "5 6   1058      0.0017616436     60057550\n",
       "6 7   1423      0.0023693940     60057550"
      ]
     },
     "metadata": {},
     "output_type": "display_data"
    }
   ],
   "source": [
    "head(train.data)"
   ]
  },
  {
   "cell_type": "code",
   "execution_count": null,
   "metadata": {},
   "outputs": [],
   "source": []
  },
  {
   "cell_type": "code",
   "execution_count": null,
   "metadata": {},
   "outputs": [],
   "source": []
  },
  {
   "cell_type": "code",
   "execution_count": 503,
   "metadata": {},
   "outputs": [],
   "source": [
    "fit = lm(percent_affected ~ ., data = train.data)"
   ]
  },
  {
   "cell_type": "code",
   "execution_count": 498,
   "metadata": {},
   "outputs": [],
   "source": [
    "data2 = data.frame(x=c(5:11))"
   ]
  },
  {
   "cell_type": "code",
   "execution_count": 505,
   "metadata": {},
   "outputs": [
    {
     "name": "stderr",
     "output_type": "stream",
     "text": [
      "Warning message in predict.lm(fit, test.data):\n",
      "“prediction from a rank-deficient fit may be misleading”\n"
     ]
    },
    {
     "data": {
      "text/html": [
       "<dl class=dl-horizontal>\n",
       "\t<dt>1</dt>\n",
       "\t\t<dd>0.000449568788603589</dd>\n",
       "\t<dt>2</dt>\n",
       "\t\t<dd>0.0119102427588205</dd>\n",
       "\t<dt>3</dt>\n",
       "\t\t<dd>0.0555567118538801</dd>\n",
       "\t<dt>4</dt>\n",
       "\t\t<dd>0.0802663445312038</dd>\n",
       "\t<dt>5</dt>\n",
       "\t\t<dd>0.0998858594797823</dd>\n",
       "\t<dt>6</dt>\n",
       "\t\t<dd>0.108540891195195</dd>\n",
       "\t<dt>7</dt>\n",
       "\t\t<dd>0.112112465460213</dd>\n",
       "\t<dt>8</dt>\n",
       "\t\t<dd>0.112545383552942</dd>\n",
       "</dl>\n"
      ],
      "text/latex": [
       "\\begin{description*}\n",
       "\\item[1] 0.000449568788603589\n",
       "\\item[2] 0.0119102427588205\n",
       "\\item[3] 0.0555567118538801\n",
       "\\item[4] 0.0802663445312038\n",
       "\\item[5] 0.0998858594797823\n",
       "\\item[6] 0.108540891195195\n",
       "\\item[7] 0.112112465460213\n",
       "\\item[8] 0.112545383552942\n",
       "\\end{description*}\n"
      ],
      "text/markdown": [
       "1\n",
       ":   0.0004495687886035892\n",
       ":   0.01191024275882053\n",
       ":   0.05555671185388014\n",
       ":   0.08026634453120385\n",
       ":   0.09988585947978236\n",
       ":   0.1085408911951957\n",
       ":   0.1121124654602138\n",
       ":   0.112545383552942\n",
       "\n"
      ],
      "text/plain": [
       "           1            2            3            4            5            6 \n",
       "0.0004495688 0.0119102428 0.0555567119 0.0802663445 0.0998858595 0.1085408912 \n",
       "           7            8 \n",
       "0.1121124655 0.1125453836 "
      ]
     },
     "metadata": {},
     "output_type": "display_data"
    }
   ],
   "source": [
    "predict(fit, test.data)"
   ]
  },
  {
   "cell_type": "code",
   "execution_count": null,
   "metadata": {},
   "outputs": [],
   "source": []
  }
 ],
 "metadata": {
  "kernelspec": {
   "display_name": "R",
   "language": "R",
   "name": "ir"
  },
  "language_info": {
   "codemirror_mode": "r",
   "file_extension": ".r",
   "mimetype": "text/x-r-source",
   "name": "R",
   "pygments_lexer": "r",
   "version": "3.6.1"
  }
 },
 "nbformat": 4,
 "nbformat_minor": 2
}
