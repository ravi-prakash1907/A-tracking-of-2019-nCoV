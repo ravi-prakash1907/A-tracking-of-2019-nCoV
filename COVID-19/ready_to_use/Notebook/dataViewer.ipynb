{
 "cells": [
  {
   "cell_type": "code",
   "execution_count": 1,
   "metadata": {},
   "outputs": [],
   "source": [
    "# Setting the working directory\n",
    "setwd(\"/home/ravi/Documents/A-tracking-of-2019-nCoV/COVID-19/\")"
   ]
  },
  {
   "cell_type": "markdown",
   "metadata": {},
   "source": [
    "## China (except Hubei)"
   ]
  },
  {
   "cell_type": "code",
   "execution_count": 2,
   "metadata": {},
   "outputs": [],
   "source": [
    "##    Loading\n",
    "China.States.daily.Confirmed = read.csv(\"ready_to_use/COVID-19/China/China_States_daily_Confirmed.csv\")\n",
    "China.States.daily.Deaths = read.csv(\"ready_to_use/COVID-19/China/China_States_daily_Deaths.csv\")\n",
    "China.States.daily.Recovered = read.csv(\"ready_to_use/COVID-19/China/China_States_daily_Recovered.csv\")\n",
    "China.Aggregate.daily.Confirmed = read.csv(\"ready_to_use/COVID-19/China/China_Aggregate_daily_Confirmed.csv\")\n",
    "China.Aggregate.daily.Deaths = read.csv(\"ready_to_use/COVID-19/China/China_Aggregate_daily_Deaths.csv\")\n",
    "China.Aggregate.daily.Recovered = read.csv(\"ready_to_use/COVID-19/China/China_Aggregate_daily_Recovered.csv\")\n",
    "China.States.summary = read.csv(\"ready_to_use/COVID-19/China/China_States_summary.csv\")\n",
    "China.Aggregate.summary = read.csv(\"ready_to_use/COVID-19/China/China_Aggregate_summary.csv\")\n",
    "China.dataset.dateWise = read.csv(\"ready_to_use/COVID-19/China/China_dataset_dateWise_summary.csv\")"
   ]
  },
  {
   "cell_type": "code",
   "execution_count": 6,
   "metadata": {},
   "outputs": [
    {
     "data": {
      "text/html": [
       "<table>\n",
       "<thead><tr><th scope=col>States</th><th scope=col>Country</th><th scope=col>X1.21.20</th><th scope=col>X1.22.20</th><th scope=col>X1.23.20</th><th scope=col>X1.24.20</th><th scope=col>X1.25.20</th><th scope=col>X1.26.20</th><th scope=col>X1.27.20</th><th scope=col>X1.28.20</th><th scope=col>...</th><th scope=col>X3.1.20</th><th scope=col>X3.2.20</th><th scope=col>X3.3.20</th><th scope=col>X3.4.20</th><th scope=col>X3.5.20</th><th scope=col>X3.6.20</th><th scope=col>X3.7.20</th><th scope=col>X3.8.20</th><th scope=col>X3.9.20</th><th scope=col>X3.10.20</th></tr></thead>\n",
       "<tbody>\n",
       "\t<tr><td>Anhui    </td><td>China    </td><td> 0       </td><td> 1       </td><td> 9       </td><td>15       </td><td>39       </td><td> 60      </td><td> 70      </td><td>106      </td><td>...      </td><td> 990     </td><td> 990     </td><td> 990     </td><td> 990     </td><td> 990     </td><td> 990     </td><td> 990     </td><td> 990     </td><td> 990     </td><td> 990     </td></tr>\n",
       "\t<tr><td>Beijing  </td><td>China    </td><td>10       </td><td>14       </td><td>22       </td><td>36       </td><td>41       </td><td> 68      </td><td> 80      </td><td> 91      </td><td>...      </td><td> 413     </td><td> 414     </td><td> 414     </td><td> 418     </td><td> 418     </td><td> 422     </td><td> 426     </td><td> 428     </td><td> 428     </td><td> 429     </td></tr>\n",
       "\t<tr><td>Chongqing</td><td>China    </td><td> 5       </td><td> 6       </td><td> 9       </td><td>27       </td><td>57       </td><td> 75      </td><td>110      </td><td>132      </td><td>...      </td><td> 576     </td><td> 576     </td><td> 576     </td><td> 576     </td><td> 576     </td><td> 576     </td><td> 576     </td><td> 576     </td><td> 576     </td><td> 576     </td></tr>\n",
       "\t<tr><td>Fujian   </td><td>China    </td><td> 0       </td><td> 1       </td><td> 5       </td><td>10       </td><td>18       </td><td> 35      </td><td> 59      </td><td> 80      </td><td>...      </td><td> 296     </td><td> 296     </td><td> 296     </td><td> 296     </td><td> 296     </td><td> 296     </td><td> 296     </td><td> 296     </td><td> 296     </td><td> 296     </td></tr>\n",
       "\t<tr><td>Gansu    </td><td>China    </td><td> 0       </td><td> 0       </td><td> 2       </td><td> 2       </td><td> 4       </td><td>  7      </td><td> 14      </td><td> 19      </td><td>...      </td><td>  91     </td><td>  91     </td><td>  91     </td><td>  91     </td><td> 102     </td><td> 119     </td><td> 120     </td><td> 124     </td><td> 124     </td><td> 125     </td></tr>\n",
       "\t<tr><td>Guangdong</td><td>China    </td><td>17       </td><td>26       </td><td>32       </td><td>53       </td><td>78       </td><td>111      </td><td>151      </td><td>207      </td><td>...      </td><td>1349     </td><td>1350     </td><td>1350     </td><td>1350     </td><td>1351     </td><td>1352     </td><td>1352     </td><td>1352     </td><td>1352     </td><td>1353     </td></tr>\n",
       "</tbody>\n",
       "</table>\n"
      ],
      "text/latex": [
       "\\begin{tabular}{r|llllllllllllllllllllllllllllllllllllllllllllllllllll}\n",
       " States & Country & X1.21.20 & X1.22.20 & X1.23.20 & X1.24.20 & X1.25.20 & X1.26.20 & X1.27.20 & X1.28.20 & ... & X3.1.20 & X3.2.20 & X3.3.20 & X3.4.20 & X3.5.20 & X3.6.20 & X3.7.20 & X3.8.20 & X3.9.20 & X3.10.20\\\\\n",
       "\\hline\n",
       "\t Anhui     & China     &  0        &  1        &  9        & 15        & 39        &  60       &  70       & 106       & ...       &  990      &  990      &  990      &  990      &  990      &  990      &  990      &  990      &  990      &  990     \\\\\n",
       "\t Beijing   & China     & 10        & 14        & 22        & 36        & 41        &  68       &  80       &  91       & ...       &  413      &  414      &  414      &  418      &  418      &  422      &  426      &  428      &  428      &  429     \\\\\n",
       "\t Chongqing & China     &  5        &  6        &  9        & 27        & 57        &  75       & 110       & 132       & ...       &  576      &  576      &  576      &  576      &  576      &  576      &  576      &  576      &  576      &  576     \\\\\n",
       "\t Fujian    & China     &  0        &  1        &  5        & 10        & 18        &  35       &  59       &  80       & ...       &  296      &  296      &  296      &  296      &  296      &  296      &  296      &  296      &  296      &  296     \\\\\n",
       "\t Gansu     & China     &  0        &  0        &  2        &  2        &  4        &   7       &  14       &  19       & ...       &   91      &   91      &   91      &   91      &  102      &  119      &  120      &  124      &  124      &  125     \\\\\n",
       "\t Guangdong & China     & 17        & 26        & 32        & 53        & 78        & 111       & 151       & 207       & ...       & 1349      & 1350      & 1350      & 1350      & 1351      & 1352      & 1352      & 1352      & 1352      & 1353     \\\\\n",
       "\\end{tabular}\n"
      ],
      "text/markdown": [
       "\n",
       "| States | Country | X1.21.20 | X1.22.20 | X1.23.20 | X1.24.20 | X1.25.20 | X1.26.20 | X1.27.20 | X1.28.20 | ... | X3.1.20 | X3.2.20 | X3.3.20 | X3.4.20 | X3.5.20 | X3.6.20 | X3.7.20 | X3.8.20 | X3.9.20 | X3.10.20 |\n",
       "|---|---|---|---|---|---|---|---|---|---|---|---|---|---|---|---|---|---|---|---|---|\n",
       "| Anhui     | China     |  0        |  1        |  9        | 15        | 39        |  60       |  70       | 106       | ...       |  990      |  990      |  990      |  990      |  990      |  990      |  990      |  990      |  990      |  990      |\n",
       "| Beijing   | China     | 10        | 14        | 22        | 36        | 41        |  68       |  80       |  91       | ...       |  413      |  414      |  414      |  418      |  418      |  422      |  426      |  428      |  428      |  429      |\n",
       "| Chongqing | China     |  5        |  6        |  9        | 27        | 57        |  75       | 110       | 132       | ...       |  576      |  576      |  576      |  576      |  576      |  576      |  576      |  576      |  576      |  576      |\n",
       "| Fujian    | China     |  0        |  1        |  5        | 10        | 18        |  35       |  59       |  80       | ...       |  296      |  296      |  296      |  296      |  296      |  296      |  296      |  296      |  296      |  296      |\n",
       "| Gansu     | China     |  0        |  0        |  2        |  2        |  4        |   7       |  14       |  19       | ...       |   91      |   91      |   91      |   91      |  102      |  119      |  120      |  124      |  124      |  125      |\n",
       "| Guangdong | China     | 17        | 26        | 32        | 53        | 78        | 111       | 151       | 207       | ...       | 1349      | 1350      | 1350      | 1350      | 1351      | 1352      | 1352      | 1352      | 1352      | 1353      |\n",
       "\n"
      ],
      "text/plain": [
       "  States    Country X1.21.20 X1.22.20 X1.23.20 X1.24.20 X1.25.20 X1.26.20\n",
       "1 Anhui     China    0        1        9       15       39        60     \n",
       "2 Beijing   China   10       14       22       36       41        68     \n",
       "3 Chongqing China    5        6        9       27       57        75     \n",
       "4 Fujian    China    0        1        5       10       18        35     \n",
       "5 Gansu     China    0        0        2        2        4         7     \n",
       "6 Guangdong China   17       26       32       53       78       111     \n",
       "  X1.27.20 X1.28.20 ... X3.1.20 X3.2.20 X3.3.20 X3.4.20 X3.5.20 X3.6.20 X3.7.20\n",
       "1  70      106      ...  990     990     990     990     990     990     990   \n",
       "2  80       91      ...  413     414     414     418     418     422     426   \n",
       "3 110      132      ...  576     576     576     576     576     576     576   \n",
       "4  59       80      ...  296     296     296     296     296     296     296   \n",
       "5  14       19      ...   91      91      91      91     102     119     120   \n",
       "6 151      207      ... 1349    1350    1350    1350    1351    1352    1352   \n",
       "  X3.8.20 X3.9.20 X3.10.20\n",
       "1  990     990     990    \n",
       "2  428     428     429    \n",
       "3  576     576     576    \n",
       "4  296     296     296    \n",
       "5  124     124     125    \n",
       "6 1352    1352    1353    "
      ]
     },
     "metadata": {},
     "output_type": "display_data"
    },
    {
     "data": {
      "text/html": [
       "<table>\n",
       "<thead><tr><th scope=col>States</th><th scope=col>Country</th><th scope=col>X1.21.20</th><th scope=col>X1.22.20</th><th scope=col>X1.23.20</th><th scope=col>X1.24.20</th><th scope=col>X1.25.20</th><th scope=col>X1.26.20</th><th scope=col>X1.27.20</th><th scope=col>X1.28.20</th><th scope=col>...</th><th scope=col>X3.1.20</th><th scope=col>X3.2.20</th><th scope=col>X3.3.20</th><th scope=col>X3.4.20</th><th scope=col>X3.5.20</th><th scope=col>X3.6.20</th><th scope=col>X3.7.20</th><th scope=col>X3.8.20</th><th scope=col>X3.9.20</th><th scope=col>X3.10.20</th></tr></thead>\n",
       "<tbody>\n",
       "\t<tr><td>Anhui    </td><td>China    </td><td>0        </td><td>0        </td><td>0        </td><td>0        </td><td>0        </td><td>0        </td><td>0        </td><td>0        </td><td>...      </td><td>6        </td><td>6        </td><td>6        </td><td>6        </td><td>6        </td><td>6        </td><td>6        </td><td>6        </td><td>6        </td><td>6        </td></tr>\n",
       "\t<tr><td>Beijing  </td><td>China    </td><td>0        </td><td>0        </td><td>0        </td><td>0        </td><td>0        </td><td>0        </td><td>1        </td><td>1        </td><td>...      </td><td>8        </td><td>8        </td><td>8        </td><td>8        </td><td>8        </td><td>8        </td><td>8        </td><td>8        </td><td>8        </td><td>8        </td></tr>\n",
       "\t<tr><td>Chongqing</td><td>China    </td><td>0        </td><td>0        </td><td>0        </td><td>0        </td><td>0        </td><td>0        </td><td>0        </td><td>0        </td><td>...      </td><td>6        </td><td>6        </td><td>6        </td><td>6        </td><td>6        </td><td>6        </td><td>6        </td><td>6        </td><td>6        </td><td>6        </td></tr>\n",
       "\t<tr><td>Fujian   </td><td>China    </td><td>0        </td><td>0        </td><td>0        </td><td>0        </td><td>0        </td><td>0        </td><td>0        </td><td>0        </td><td>...      </td><td>1        </td><td>1        </td><td>1        </td><td>1        </td><td>1        </td><td>1        </td><td>1        </td><td>1        </td><td>1        </td><td>1        </td></tr>\n",
       "\t<tr><td>Gansu    </td><td>China    </td><td>0        </td><td>0        </td><td>0        </td><td>0        </td><td>0        </td><td>0        </td><td>0        </td><td>0        </td><td>...      </td><td>2        </td><td>2        </td><td>2        </td><td>2        </td><td>2        </td><td>2        </td><td>2        </td><td>2        </td><td>2        </td><td>2        </td></tr>\n",
       "\t<tr><td>Guangdong</td><td>China    </td><td>0        </td><td>0        </td><td>0        </td><td>0        </td><td>0        </td><td>0        </td><td>0        </td><td>0        </td><td>...      </td><td>7        </td><td>7        </td><td>7        </td><td>7        </td><td>7        </td><td>7        </td><td>7        </td><td>7        </td><td>8        </td><td>8        </td></tr>\n",
       "</tbody>\n",
       "</table>\n"
      ],
      "text/latex": [
       "\\begin{tabular}{r|llllllllllllllllllllllllllllllllllllllllllllllllllll}\n",
       " States & Country & X1.21.20 & X1.22.20 & X1.23.20 & X1.24.20 & X1.25.20 & X1.26.20 & X1.27.20 & X1.28.20 & ... & X3.1.20 & X3.2.20 & X3.3.20 & X3.4.20 & X3.5.20 & X3.6.20 & X3.7.20 & X3.8.20 & X3.9.20 & X3.10.20\\\\\n",
       "\\hline\n",
       "\t Anhui     & China     & 0         & 0         & 0         & 0         & 0         & 0         & 0         & 0         & ...       & 6         & 6         & 6         & 6         & 6         & 6         & 6         & 6         & 6         & 6        \\\\\n",
       "\t Beijing   & China     & 0         & 0         & 0         & 0         & 0         & 0         & 1         & 1         & ...       & 8         & 8         & 8         & 8         & 8         & 8         & 8         & 8         & 8         & 8        \\\\\n",
       "\t Chongqing & China     & 0         & 0         & 0         & 0         & 0         & 0         & 0         & 0         & ...       & 6         & 6         & 6         & 6         & 6         & 6         & 6         & 6         & 6         & 6        \\\\\n",
       "\t Fujian    & China     & 0         & 0         & 0         & 0         & 0         & 0         & 0         & 0         & ...       & 1         & 1         & 1         & 1         & 1         & 1         & 1         & 1         & 1         & 1        \\\\\n",
       "\t Gansu     & China     & 0         & 0         & 0         & 0         & 0         & 0         & 0         & 0         & ...       & 2         & 2         & 2         & 2         & 2         & 2         & 2         & 2         & 2         & 2        \\\\\n",
       "\t Guangdong & China     & 0         & 0         & 0         & 0         & 0         & 0         & 0         & 0         & ...       & 7         & 7         & 7         & 7         & 7         & 7         & 7         & 7         & 8         & 8        \\\\\n",
       "\\end{tabular}\n"
      ],
      "text/markdown": [
       "\n",
       "| States | Country | X1.21.20 | X1.22.20 | X1.23.20 | X1.24.20 | X1.25.20 | X1.26.20 | X1.27.20 | X1.28.20 | ... | X3.1.20 | X3.2.20 | X3.3.20 | X3.4.20 | X3.5.20 | X3.6.20 | X3.7.20 | X3.8.20 | X3.9.20 | X3.10.20 |\n",
       "|---|---|---|---|---|---|---|---|---|---|---|---|---|---|---|---|---|---|---|---|---|\n",
       "| Anhui     | China     | 0         | 0         | 0         | 0         | 0         | 0         | 0         | 0         | ...       | 6         | 6         | 6         | 6         | 6         | 6         | 6         | 6         | 6         | 6         |\n",
       "| Beijing   | China     | 0         | 0         | 0         | 0         | 0         | 0         | 1         | 1         | ...       | 8         | 8         | 8         | 8         | 8         | 8         | 8         | 8         | 8         | 8         |\n",
       "| Chongqing | China     | 0         | 0         | 0         | 0         | 0         | 0         | 0         | 0         | ...       | 6         | 6         | 6         | 6         | 6         | 6         | 6         | 6         | 6         | 6         |\n",
       "| Fujian    | China     | 0         | 0         | 0         | 0         | 0         | 0         | 0         | 0         | ...       | 1         | 1         | 1         | 1         | 1         | 1         | 1         | 1         | 1         | 1         |\n",
       "| Gansu     | China     | 0         | 0         | 0         | 0         | 0         | 0         | 0         | 0         | ...       | 2         | 2         | 2         | 2         | 2         | 2         | 2         | 2         | 2         | 2         |\n",
       "| Guangdong | China     | 0         | 0         | 0         | 0         | 0         | 0         | 0         | 0         | ...       | 7         | 7         | 7         | 7         | 7         | 7         | 7         | 7         | 8         | 8         |\n",
       "\n"
      ],
      "text/plain": [
       "  States    Country X1.21.20 X1.22.20 X1.23.20 X1.24.20 X1.25.20 X1.26.20\n",
       "1 Anhui     China   0        0        0        0        0        0       \n",
       "2 Beijing   China   0        0        0        0        0        0       \n",
       "3 Chongqing China   0        0        0        0        0        0       \n",
       "4 Fujian    China   0        0        0        0        0        0       \n",
       "5 Gansu     China   0        0        0        0        0        0       \n",
       "6 Guangdong China   0        0        0        0        0        0       \n",
       "  X1.27.20 X1.28.20 ... X3.1.20 X3.2.20 X3.3.20 X3.4.20 X3.5.20 X3.6.20 X3.7.20\n",
       "1 0        0        ... 6       6       6       6       6       6       6      \n",
       "2 1        1        ... 8       8       8       8       8       8       8      \n",
       "3 0        0        ... 6       6       6       6       6       6       6      \n",
       "4 0        0        ... 1       1       1       1       1       1       1      \n",
       "5 0        0        ... 2       2       2       2       2       2       2      \n",
       "6 0        0        ... 7       7       7       7       7       7       7      \n",
       "  X3.8.20 X3.9.20 X3.10.20\n",
       "1 6       6       6       \n",
       "2 8       8       8       \n",
       "3 6       6       6       \n",
       "4 1       1       1       \n",
       "5 2       2       2       \n",
       "6 7       8       8       "
      ]
     },
     "metadata": {},
     "output_type": "display_data"
    },
    {
     "data": {
      "text/html": [
       "<table>\n",
       "<thead><tr><th scope=col>States</th><th scope=col>Country</th><th scope=col>X1.21.20</th><th scope=col>X1.22.20</th><th scope=col>X1.23.20</th><th scope=col>X1.24.20</th><th scope=col>X1.25.20</th><th scope=col>X1.26.20</th><th scope=col>X1.27.20</th><th scope=col>X1.28.20</th><th scope=col>...</th><th scope=col>X3.1.20</th><th scope=col>X3.2.20</th><th scope=col>X3.3.20</th><th scope=col>X3.4.20</th><th scope=col>X3.5.20</th><th scope=col>X3.6.20</th><th scope=col>X3.7.20</th><th scope=col>X3.8.20</th><th scope=col>X3.9.20</th><th scope=col>X3.10.20</th></tr></thead>\n",
       "<tbody>\n",
       "\t<tr><td>Anhui    </td><td>China    </td><td>0        </td><td>0        </td><td>0        </td><td>0        </td><td>0        </td><td>0        </td><td>0        </td><td>0        </td><td>...      </td><td> 873     </td><td> 917     </td><td> 936     </td><td> 956     </td><td> 970     </td><td> 979     </td><td> 979     </td><td> 984     </td><td> 984     </td><td> 984     </td></tr>\n",
       "\t<tr><td>Beijing  </td><td>China    </td><td>0        </td><td>0        </td><td>0        </td><td>1        </td><td>2        </td><td>2        </td><td>2        </td><td>4        </td><td>...      </td><td> 276     </td><td> 282     </td><td> 288     </td><td> 297     </td><td> 297     </td><td> 299     </td><td> 303     </td><td> 308     </td><td> 315     </td><td> 320     </td></tr>\n",
       "\t<tr><td>Chongqing</td><td>China    </td><td>0        </td><td>0        </td><td>0        </td><td>0        </td><td>0        </td><td>0        </td><td>0        </td><td>0        </td><td>...      </td><td> 450     </td><td> 469     </td><td> 490     </td><td> 502     </td><td> 512     </td><td> 513     </td><td> 526     </td><td> 527     </td><td> 542     </td><td> 547     </td></tr>\n",
       "\t<tr><td>Fujian   </td><td>China    </td><td>0        </td><td>0        </td><td>0        </td><td>0        </td><td>0        </td><td>0        </td><td>0        </td><td>0        </td><td>...      </td><td> 247     </td><td> 255     </td><td> 260     </td><td> 270     </td><td> 277     </td><td> 284     </td><td> 295     </td><td> 295     </td><td> 295     </td><td> 295     </td></tr>\n",
       "\t<tr><td>Gansu    </td><td>China    </td><td>0        </td><td>0        </td><td>0        </td><td>0        </td><td>0        </td><td>0        </td><td>0        </td><td>0        </td><td>...      </td><td>  84     </td><td>  85     </td><td>  86     </td><td>  87     </td><td>  87     </td><td>  87     </td><td>  87     </td><td>  87     </td><td>  88     </td><td>  88     </td></tr>\n",
       "\t<tr><td>Guangdong</td><td>China    </td><td>0        </td><td>0        </td><td>2        </td><td>2        </td><td>2        </td><td>2        </td><td>4        </td><td>4        </td><td>...      </td><td>1016     </td><td>1059     </td><td>1101     </td><td>1133     </td><td>1181     </td><td>1216     </td><td>1237     </td><td>1256     </td><td>1260     </td><td>1274     </td></tr>\n",
       "</tbody>\n",
       "</table>\n"
      ],
      "text/latex": [
       "\\begin{tabular}{r|llllllllllllllllllllllllllllllllllllllllllllllllllll}\n",
       " States & Country & X1.21.20 & X1.22.20 & X1.23.20 & X1.24.20 & X1.25.20 & X1.26.20 & X1.27.20 & X1.28.20 & ... & X3.1.20 & X3.2.20 & X3.3.20 & X3.4.20 & X3.5.20 & X3.6.20 & X3.7.20 & X3.8.20 & X3.9.20 & X3.10.20\\\\\n",
       "\\hline\n",
       "\t Anhui     & China     & 0         & 0         & 0         & 0         & 0         & 0         & 0         & 0         & ...       &  873      &  917      &  936      &  956      &  970      &  979      &  979      &  984      &  984      &  984     \\\\\n",
       "\t Beijing   & China     & 0         & 0         & 0         & 1         & 2         & 2         & 2         & 4         & ...       &  276      &  282      &  288      &  297      &  297      &  299      &  303      &  308      &  315      &  320     \\\\\n",
       "\t Chongqing & China     & 0         & 0         & 0         & 0         & 0         & 0         & 0         & 0         & ...       &  450      &  469      &  490      &  502      &  512      &  513      &  526      &  527      &  542      &  547     \\\\\n",
       "\t Fujian    & China     & 0         & 0         & 0         & 0         & 0         & 0         & 0         & 0         & ...       &  247      &  255      &  260      &  270      &  277      &  284      &  295      &  295      &  295      &  295     \\\\\n",
       "\t Gansu     & China     & 0         & 0         & 0         & 0         & 0         & 0         & 0         & 0         & ...       &   84      &   85      &   86      &   87      &   87      &   87      &   87      &   87      &   88      &   88     \\\\\n",
       "\t Guangdong & China     & 0         & 0         & 2         & 2         & 2         & 2         & 4         & 4         & ...       & 1016      & 1059      & 1101      & 1133      & 1181      & 1216      & 1237      & 1256      & 1260      & 1274     \\\\\n",
       "\\end{tabular}\n"
      ],
      "text/markdown": [
       "\n",
       "| States | Country | X1.21.20 | X1.22.20 | X1.23.20 | X1.24.20 | X1.25.20 | X1.26.20 | X1.27.20 | X1.28.20 | ... | X3.1.20 | X3.2.20 | X3.3.20 | X3.4.20 | X3.5.20 | X3.6.20 | X3.7.20 | X3.8.20 | X3.9.20 | X3.10.20 |\n",
       "|---|---|---|---|---|---|---|---|---|---|---|---|---|---|---|---|---|---|---|---|---|\n",
       "| Anhui     | China     | 0         | 0         | 0         | 0         | 0         | 0         | 0         | 0         | ...       |  873      |  917      |  936      |  956      |  970      |  979      |  979      |  984      |  984      |  984      |\n",
       "| Beijing   | China     | 0         | 0         | 0         | 1         | 2         | 2         | 2         | 4         | ...       |  276      |  282      |  288      |  297      |  297      |  299      |  303      |  308      |  315      |  320      |\n",
       "| Chongqing | China     | 0         | 0         | 0         | 0         | 0         | 0         | 0         | 0         | ...       |  450      |  469      |  490      |  502      |  512      |  513      |  526      |  527      |  542      |  547      |\n",
       "| Fujian    | China     | 0         | 0         | 0         | 0         | 0         | 0         | 0         | 0         | ...       |  247      |  255      |  260      |  270      |  277      |  284      |  295      |  295      |  295      |  295      |\n",
       "| Gansu     | China     | 0         | 0         | 0         | 0         | 0         | 0         | 0         | 0         | ...       |   84      |   85      |   86      |   87      |   87      |   87      |   87      |   87      |   88      |   88      |\n",
       "| Guangdong | China     | 0         | 0         | 2         | 2         | 2         | 2         | 4         | 4         | ...       | 1016      | 1059      | 1101      | 1133      | 1181      | 1216      | 1237      | 1256      | 1260      | 1274      |\n",
       "\n"
      ],
      "text/plain": [
       "  States    Country X1.21.20 X1.22.20 X1.23.20 X1.24.20 X1.25.20 X1.26.20\n",
       "1 Anhui     China   0        0        0        0        0        0       \n",
       "2 Beijing   China   0        0        0        1        2        2       \n",
       "3 Chongqing China   0        0        0        0        0        0       \n",
       "4 Fujian    China   0        0        0        0        0        0       \n",
       "5 Gansu     China   0        0        0        0        0        0       \n",
       "6 Guangdong China   0        0        2        2        2        2       \n",
       "  X1.27.20 X1.28.20 ... X3.1.20 X3.2.20 X3.3.20 X3.4.20 X3.5.20 X3.6.20 X3.7.20\n",
       "1 0        0        ...  873     917     936     956     970     979     979   \n",
       "2 2        4        ...  276     282     288     297     297     299     303   \n",
       "3 0        0        ...  450     469     490     502     512     513     526   \n",
       "4 0        0        ...  247     255     260     270     277     284     295   \n",
       "5 0        0        ...   84      85      86      87      87      87      87   \n",
       "6 4        4        ... 1016    1059    1101    1133    1181    1216    1237   \n",
       "  X3.8.20 X3.9.20 X3.10.20\n",
       "1  984     984     984    \n",
       "2  308     315     320    \n",
       "3  527     542     547    \n",
       "4  295     295     295    \n",
       "5   87      88      88    \n",
       "6 1256    1260    1274    "
      ]
     },
     "metadata": {},
     "output_type": "display_data"
    },
    {
     "data": {
      "text/html": [
       "<table>\n",
       "<thead><tr><th scope=col>Country</th><th scope=col>X1.21.20</th><th scope=col>X1.22.20</th><th scope=col>X1.23.20</th><th scope=col>X1.24.20</th><th scope=col>X1.25.20</th><th scope=col>X1.26.20</th><th scope=col>X1.27.20</th><th scope=col>X1.28.20</th><th scope=col>X1.29.20</th><th scope=col>...</th><th scope=col>X3.1.20</th><th scope=col>X3.2.20</th><th scope=col>X3.3.20</th><th scope=col>X3.4.20</th><th scope=col>X3.5.20</th><th scope=col>X3.6.20</th><th scope=col>X3.7.20</th><th scope=col>X3.8.20</th><th scope=col>X3.9.20</th><th scope=col>X3.10.20</th></tr></thead>\n",
       "<tbody>\n",
       "\t<tr><td>China</td><td>55   </td><td>103  </td><td>195  </td><td>367  </td><td>638  </td><td>1004 </td><td>1440 </td><td>1940 </td><td>2516 </td><td>...  </td><td>12919</td><td>12923</td><td>12934</td><td>12939</td><td>12956</td><td>12981</td><td>12986</td><td>12992</td><td>12992</td><td>12997</td></tr>\n",
       "</tbody>\n",
       "</table>\n"
      ],
      "text/latex": [
       "\\begin{tabular}{r|lllllllllllllllllllllllllllllllllllllllllllllllllll}\n",
       " Country & X1.21.20 & X1.22.20 & X1.23.20 & X1.24.20 & X1.25.20 & X1.26.20 & X1.27.20 & X1.28.20 & X1.29.20 & ... & X3.1.20 & X3.2.20 & X3.3.20 & X3.4.20 & X3.5.20 & X3.6.20 & X3.7.20 & X3.8.20 & X3.9.20 & X3.10.20\\\\\n",
       "\\hline\n",
       "\t China & 55    & 103   & 195   & 367   & 638   & 1004  & 1440  & 1940  & 2516  & ...   & 12919 & 12923 & 12934 & 12939 & 12956 & 12981 & 12986 & 12992 & 12992 & 12997\\\\\n",
       "\\end{tabular}\n"
      ],
      "text/markdown": [
       "\n",
       "| Country | X1.21.20 | X1.22.20 | X1.23.20 | X1.24.20 | X1.25.20 | X1.26.20 | X1.27.20 | X1.28.20 | X1.29.20 | ... | X3.1.20 | X3.2.20 | X3.3.20 | X3.4.20 | X3.5.20 | X3.6.20 | X3.7.20 | X3.8.20 | X3.9.20 | X3.10.20 |\n",
       "|---|---|---|---|---|---|---|---|---|---|---|---|---|---|---|---|---|---|---|---|---|\n",
       "| China | 55    | 103   | 195   | 367   | 638   | 1004  | 1440  | 1940  | 2516  | ...   | 12919 | 12923 | 12934 | 12939 | 12956 | 12981 | 12986 | 12992 | 12992 | 12997 |\n",
       "\n"
      ],
      "text/plain": [
       "  Country X1.21.20 X1.22.20 X1.23.20 X1.24.20 X1.25.20 X1.26.20 X1.27.20\n",
       "1 China   55       103      195      367      638      1004     1440    \n",
       "  X1.28.20 X1.29.20 ... X3.1.20 X3.2.20 X3.3.20 X3.4.20 X3.5.20 X3.6.20 X3.7.20\n",
       "1 1940     2516     ... 12919   12923   12934   12939   12956   12981   12986  \n",
       "  X3.8.20 X3.9.20 X3.10.20\n",
       "1 12992   12992   12997   "
      ]
     },
     "metadata": {},
     "output_type": "display_data"
    },
    {
     "data": {
      "text/html": [
       "<table>\n",
       "<thead><tr><th scope=col>Country</th><th scope=col>X1.21.20</th><th scope=col>X1.22.20</th><th scope=col>X1.23.20</th><th scope=col>X1.24.20</th><th scope=col>X1.25.20</th><th scope=col>X1.26.20</th><th scope=col>X1.27.20</th><th scope=col>X1.28.20</th><th scope=col>X1.29.20</th><th scope=col>...</th><th scope=col>X3.1.20</th><th scope=col>X3.2.20</th><th scope=col>X3.3.20</th><th scope=col>X3.4.20</th><th scope=col>X3.5.20</th><th scope=col>X3.6.20</th><th scope=col>X3.7.20</th><th scope=col>X3.8.20</th><th scope=col>X3.9.20</th><th scope=col>X3.10.20</th></tr></thead>\n",
       "<tbody>\n",
       "\t<tr><td>China</td><td>0    </td><td>0    </td><td>1    </td><td>2    </td><td>2    </td><td>4    </td><td>6    </td><td>6    </td><td>8    </td><td>...  </td><td>109  </td><td>109  </td><td>110  </td><td>110  </td><td>111  </td><td>111  </td><td>111  </td><td>111  </td><td>112  </td><td>112  </td></tr>\n",
       "</tbody>\n",
       "</table>\n"
      ],
      "text/latex": [
       "\\begin{tabular}{r|lllllllllllllllllllllllllllllllllllllllllllllllllll}\n",
       " Country & X1.21.20 & X1.22.20 & X1.23.20 & X1.24.20 & X1.25.20 & X1.26.20 & X1.27.20 & X1.28.20 & X1.29.20 & ... & X3.1.20 & X3.2.20 & X3.3.20 & X3.4.20 & X3.5.20 & X3.6.20 & X3.7.20 & X3.8.20 & X3.9.20 & X3.10.20\\\\\n",
       "\\hline\n",
       "\t China & 0     & 0     & 1     & 2     & 2     & 4     & 6     & 6     & 8     & ...   & 109   & 109   & 110   & 110   & 111   & 111   & 111   & 111   & 112   & 112  \\\\\n",
       "\\end{tabular}\n"
      ],
      "text/markdown": [
       "\n",
       "| Country | X1.21.20 | X1.22.20 | X1.23.20 | X1.24.20 | X1.25.20 | X1.26.20 | X1.27.20 | X1.28.20 | X1.29.20 | ... | X3.1.20 | X3.2.20 | X3.3.20 | X3.4.20 | X3.5.20 | X3.6.20 | X3.7.20 | X3.8.20 | X3.9.20 | X3.10.20 |\n",
       "|---|---|---|---|---|---|---|---|---|---|---|---|---|---|---|---|---|---|---|---|---|\n",
       "| China | 0     | 0     | 1     | 2     | 2     | 4     | 6     | 6     | 8     | ...   | 109   | 109   | 110   | 110   | 111   | 111   | 111   | 111   | 112   | 112   |\n",
       "\n"
      ],
      "text/plain": [
       "  Country X1.21.20 X1.22.20 X1.23.20 X1.24.20 X1.25.20 X1.26.20 X1.27.20\n",
       "1 China   0        0        1        2        2        4        6       \n",
       "  X1.28.20 X1.29.20 ... X3.1.20 X3.2.20 X3.3.20 X3.4.20 X3.5.20 X3.6.20 X3.7.20\n",
       "1 6        8        ... 109     109     110     110     111     111     111    \n",
       "  X3.8.20 X3.9.20 X3.10.20\n",
       "1 111     112     112     "
      ]
     },
     "metadata": {},
     "output_type": "display_data"
    },
    {
     "data": {
      "text/html": [
       "<table>\n",
       "<thead><tr><th scope=col>Country</th><th scope=col>X1.21.20</th><th scope=col>X1.22.20</th><th scope=col>X1.23.20</th><th scope=col>X1.24.20</th><th scope=col>X1.25.20</th><th scope=col>X1.26.20</th><th scope=col>X1.27.20</th><th scope=col>X1.28.20</th><th scope=col>X1.29.20</th><th scope=col>...</th><th scope=col>X3.1.20</th><th scope=col>X3.2.20</th><th scope=col>X3.3.20</th><th scope=col>X3.4.20</th><th scope=col>X3.5.20</th><th scope=col>X3.6.20</th><th scope=col>X3.7.20</th><th scope=col>X3.8.20</th><th scope=col>X3.9.20</th><th scope=col>X3.10.20</th></tr></thead>\n",
       "<tbody>\n",
       "\t<tr><td>China</td><td>0    </td><td>0    </td><td>2    </td><td>5    </td><td>7    </td><td>7    </td><td>13   </td><td>21   </td><td>32   </td><td>...  </td><td>10582</td><td>10876</td><td>11196</td><td>11398</td><td>11648</td><td>11855</td><td>11978</td><td>12085</td><td>12247</td><td>12363</td></tr>\n",
       "</tbody>\n",
       "</table>\n"
      ],
      "text/latex": [
       "\\begin{tabular}{r|lllllllllllllllllllllllllllllllllllllllllllllllllll}\n",
       " Country & X1.21.20 & X1.22.20 & X1.23.20 & X1.24.20 & X1.25.20 & X1.26.20 & X1.27.20 & X1.28.20 & X1.29.20 & ... & X3.1.20 & X3.2.20 & X3.3.20 & X3.4.20 & X3.5.20 & X3.6.20 & X3.7.20 & X3.8.20 & X3.9.20 & X3.10.20\\\\\n",
       "\\hline\n",
       "\t China & 0     & 0     & 2     & 5     & 7     & 7     & 13    & 21    & 32    & ...   & 10582 & 10876 & 11196 & 11398 & 11648 & 11855 & 11978 & 12085 & 12247 & 12363\\\\\n",
       "\\end{tabular}\n"
      ],
      "text/markdown": [
       "\n",
       "| Country | X1.21.20 | X1.22.20 | X1.23.20 | X1.24.20 | X1.25.20 | X1.26.20 | X1.27.20 | X1.28.20 | X1.29.20 | ... | X3.1.20 | X3.2.20 | X3.3.20 | X3.4.20 | X3.5.20 | X3.6.20 | X3.7.20 | X3.8.20 | X3.9.20 | X3.10.20 |\n",
       "|---|---|---|---|---|---|---|---|---|---|---|---|---|---|---|---|---|---|---|---|---|\n",
       "| China | 0     | 0     | 2     | 5     | 7     | 7     | 13    | 21    | 32    | ...   | 10582 | 10876 | 11196 | 11398 | 11648 | 11855 | 11978 | 12085 | 12247 | 12363 |\n",
       "\n"
      ],
      "text/plain": [
       "  Country X1.21.20 X1.22.20 X1.23.20 X1.24.20 X1.25.20 X1.26.20 X1.27.20\n",
       "1 China   0        0        2        5        7        7        13      \n",
       "  X1.28.20 X1.29.20 ... X3.1.20 X3.2.20 X3.3.20 X3.4.20 X3.5.20 X3.6.20 X3.7.20\n",
       "1 21       32       ... 10582   10876   11196   11398   11648   11855   11978  \n",
       "  X3.8.20 X3.9.20 X3.10.20\n",
       "1 12085   12247   12363   "
      ]
     },
     "metadata": {},
     "output_type": "display_data"
    },
    {
     "data": {
      "text/html": [
       "<table>\n",
       "<thead><tr><th scope=col>States</th><th scope=col>Confirmed</th><th scope=col>Deaths</th><th scope=col>Recovered</th><th scope=col>Active.Cases</th><th scope=col>Closed.Cases</th></tr></thead>\n",
       "<tbody>\n",
       "\t<tr><td>Anhui    </td><td> 990     </td><td>6        </td><td> 984     </td><td>  0      </td><td> 990     </td></tr>\n",
       "\t<tr><td>Beijing  </td><td> 429     </td><td>8        </td><td> 320     </td><td>101      </td><td> 328     </td></tr>\n",
       "\t<tr><td>Chongqing</td><td> 576     </td><td>6        </td><td> 547     </td><td> 23      </td><td> 553     </td></tr>\n",
       "\t<tr><td>Fujian   </td><td> 296     </td><td>1        </td><td> 295     </td><td>  0      </td><td> 296     </td></tr>\n",
       "\t<tr><td>Gansu    </td><td> 125     </td><td>2        </td><td>  88     </td><td> 35      </td><td>  90     </td></tr>\n",
       "\t<tr><td>Guangdong</td><td>1353     </td><td>8        </td><td>1274     </td><td> 71      </td><td>1282     </td></tr>\n",
       "</tbody>\n",
       "</table>\n"
      ],
      "text/latex": [
       "\\begin{tabular}{r|llllll}\n",
       " States & Confirmed & Deaths & Recovered & Active.Cases & Closed.Cases\\\\\n",
       "\\hline\n",
       "\t Anhui     &  990      & 6         &  984      &   0       &  990     \\\\\n",
       "\t Beijing   &  429      & 8         &  320      & 101       &  328     \\\\\n",
       "\t Chongqing &  576      & 6         &  547      &  23       &  553     \\\\\n",
       "\t Fujian    &  296      & 1         &  295      &   0       &  296     \\\\\n",
       "\t Gansu     &  125      & 2         &   88      &  35       &   90     \\\\\n",
       "\t Guangdong & 1353      & 8         & 1274      &  71       & 1282     \\\\\n",
       "\\end{tabular}\n"
      ],
      "text/markdown": [
       "\n",
       "| States | Confirmed | Deaths | Recovered | Active.Cases | Closed.Cases |\n",
       "|---|---|---|---|---|---|\n",
       "| Anhui     |  990      | 6         |  984      |   0       |  990      |\n",
       "| Beijing   |  429      | 8         |  320      | 101       |  328      |\n",
       "| Chongqing |  576      | 6         |  547      |  23       |  553      |\n",
       "| Fujian    |  296      | 1         |  295      |   0       |  296      |\n",
       "| Gansu     |  125      | 2         |   88      |  35       |   90      |\n",
       "| Guangdong | 1353      | 8         | 1274      |  71       | 1282      |\n",
       "\n"
      ],
      "text/plain": [
       "  States    Confirmed Deaths Recovered Active.Cases Closed.Cases\n",
       "1 Anhui      990      6       984        0           990        \n",
       "2 Beijing    429      8       320      101           328        \n",
       "3 Chongqing  576      6       547       23           553        \n",
       "4 Fujian     296      1       295        0           296        \n",
       "5 Gansu      125      2        88       35            90        \n",
       "6 Guangdong 1353      8      1274       71          1282        "
      ]
     },
     "metadata": {},
     "output_type": "display_data"
    },
    {
     "data": {
      "text/html": [
       "<table>\n",
       "<thead><tr><th scope=col>Country</th><th scope=col>Confirmed</th><th scope=col>Deaths</th><th scope=col>Recovered</th><th scope=col>Active.Cases</th><th scope=col>Closed.Cases</th></tr></thead>\n",
       "<tbody>\n",
       "\t<tr><td>China</td><td>12997</td><td>112  </td><td>12363</td><td>522  </td><td>12475</td></tr>\n",
       "</tbody>\n",
       "</table>\n"
      ],
      "text/latex": [
       "\\begin{tabular}{r|llllll}\n",
       " Country & Confirmed & Deaths & Recovered & Active.Cases & Closed.Cases\\\\\n",
       "\\hline\n",
       "\t China & 12997 & 112   & 12363 & 522   & 12475\\\\\n",
       "\\end{tabular}\n"
      ],
      "text/markdown": [
       "\n",
       "| Country | Confirmed | Deaths | Recovered | Active.Cases | Closed.Cases |\n",
       "|---|---|---|---|---|---|\n",
       "| China | 12997 | 112   | 12363 | 522   | 12475 |\n",
       "\n"
      ],
      "text/plain": [
       "  Country Confirmed Deaths Recovered Active.Cases Closed.Cases\n",
       "1 China   12997     112    12363     522          12475       "
      ]
     },
     "metadata": {},
     "output_type": "display_data"
    },
    {
     "data": {
      "text/html": [
       "<table>\n",
       "<thead><tr><th scope=col>Country</th><th scope=col>Day</th><th scope=col>Date</th><th scope=col>Confirmed</th><th scope=col>Deaths</th><th scope=col>Recovered</th><th scope=col>Active.Cases</th><th scope=col>Closed.Cases</th></tr></thead>\n",
       "<tbody>\n",
       "\t<tr><td>China     </td><td>1         </td><td>21-01-2020</td><td>  55      </td><td>0         </td><td>0         </td><td> 55       </td><td> 0        </td></tr>\n",
       "\t<tr><td>China     </td><td>2         </td><td>22-01-2020</td><td> 103      </td><td>0         </td><td>0         </td><td>103       </td><td> 0        </td></tr>\n",
       "\t<tr><td>China     </td><td>3         </td><td>23-01-2020</td><td> 195      </td><td>1         </td><td>2         </td><td>192       </td><td> 3        </td></tr>\n",
       "\t<tr><td>China     </td><td>4         </td><td>24-01-2020</td><td> 367      </td><td>2         </td><td>5         </td><td>360       </td><td> 7        </td></tr>\n",
       "\t<tr><td>China     </td><td>5         </td><td>25-01-2020</td><td> 638      </td><td>2         </td><td>7         </td><td>629       </td><td> 9        </td></tr>\n",
       "\t<tr><td>China     </td><td>6         </td><td>26-01-2020</td><td>1004      </td><td>4         </td><td>7         </td><td>993       </td><td>11        </td></tr>\n",
       "</tbody>\n",
       "</table>\n"
      ],
      "text/latex": [
       "\\begin{tabular}{r|llllllll}\n",
       " Country & Day & Date & Confirmed & Deaths & Recovered & Active.Cases & Closed.Cases\\\\\n",
       "\\hline\n",
       "\t China      & 1          & 21-01-2020 &   55       & 0          & 0          &  55        &  0        \\\\\n",
       "\t China      & 2          & 22-01-2020 &  103       & 0          & 0          & 103        &  0        \\\\\n",
       "\t China      & 3          & 23-01-2020 &  195       & 1          & 2          & 192        &  3        \\\\\n",
       "\t China      & 4          & 24-01-2020 &  367       & 2          & 5          & 360        &  7        \\\\\n",
       "\t China      & 5          & 25-01-2020 &  638       & 2          & 7          & 629        &  9        \\\\\n",
       "\t China      & 6          & 26-01-2020 & 1004       & 4          & 7          & 993        & 11        \\\\\n",
       "\\end{tabular}\n"
      ],
      "text/markdown": [
       "\n",
       "| Country | Day | Date | Confirmed | Deaths | Recovered | Active.Cases | Closed.Cases |\n",
       "|---|---|---|---|---|---|---|---|\n",
       "| China      | 1          | 21-01-2020 |   55       | 0          | 0          |  55        |  0         |\n",
       "| China      | 2          | 22-01-2020 |  103       | 0          | 0          | 103        |  0         |\n",
       "| China      | 3          | 23-01-2020 |  195       | 1          | 2          | 192        |  3         |\n",
       "| China      | 4          | 24-01-2020 |  367       | 2          | 5          | 360        |  7         |\n",
       "| China      | 5          | 25-01-2020 |  638       | 2          | 7          | 629        |  9         |\n",
       "| China      | 6          | 26-01-2020 | 1004       | 4          | 7          | 993        | 11         |\n",
       "\n"
      ],
      "text/plain": [
       "  Country Day Date       Confirmed Deaths Recovered Active.Cases Closed.Cases\n",
       "1 China   1   21-01-2020   55      0      0          55           0          \n",
       "2 China   2   22-01-2020  103      0      0         103           0          \n",
       "3 China   3   23-01-2020  195      1      2         192           3          \n",
       "4 China   4   24-01-2020  367      2      5         360           7          \n",
       "5 China   5   25-01-2020  638      2      7         629           9          \n",
       "6 China   6   26-01-2020 1004      4      7         993          11          "
      ]
     },
     "metadata": {},
     "output_type": "display_data"
    }
   ],
   "source": [
    "# Viewed\n",
    "head(China.States.daily.Confirmed)\n",
    "head(China.States.daily.Deaths)\n",
    "head(China.States.daily.Recovered)\n",
    "head(China.Aggregate.daily.Confirmed)\n",
    "head(China.Aggregate.daily.Deaths)\n",
    "head(China.Aggregate.daily.Recovered)\n",
    "head(China.States.summary)\n",
    "head(China.Aggregate.summary)\n",
    "head(China.dataset.dateWise)"
   ]
  },
  {
   "cell_type": "markdown",
   "metadata": {},
   "source": [
    "##    Diamond Princess (only)"
   ]
  },
  {
   "cell_type": "code",
   "execution_count": 7,
   "metadata": {},
   "outputs": [],
   "source": [
    "##    Loading\n",
    "Diamond.Princess.daily.Confirmed = read.csv(\"ready_to_use/COVID-19/Cruise/Diamond_Princess_daily_Confirmed.csv\")\n",
    "Diamond.Princess.daily.Deaths = read.csv(\"ready_to_use/COVID-19/Cruise/Diamond_Princess_daily_Deaths.csv\")\n",
    "Diamond.Princess.daily.Recovered = read.csv(\"ready_to_use/COVID-19/Cruise/Diamond_Princess_daily_Recovered.csv\")\n",
    "Diamond.Princess.summary = read.csv(\"ready_to_use/COVID-19/Cruise/Diamond_Princess_summary.csv\")\n",
    "Diamond.Princess.dataset.dateWise = read.csv(\"ready_to_use/COVID-19/Cruise/Diamond_Princess_dataset_dateWise_summary.csv\")"
   ]
  },
  {
   "cell_type": "code",
   "execution_count": 8,
   "metadata": {},
   "outputs": [
    {
     "data": {
      "text/html": [
       "<table>\n",
       "<thead><tr><th scope=col>Loaction</th><th scope=col>X1.21.20</th><th scope=col>X1.22.20</th><th scope=col>X1.23.20</th><th scope=col>X1.24.20</th><th scope=col>X1.25.20</th><th scope=col>X1.26.20</th><th scope=col>X1.27.20</th><th scope=col>X1.28.20</th><th scope=col>X1.29.20</th><th scope=col>...</th><th scope=col>X3.1.20</th><th scope=col>X3.2.20</th><th scope=col>X3.3.20</th><th scope=col>X3.4.20</th><th scope=col>X3.5.20</th><th scope=col>X3.6.20</th><th scope=col>X3.7.20</th><th scope=col>X3.8.20</th><th scope=col>X3.9.20</th><th scope=col>X3.10.20</th></tr></thead>\n",
       "<tbody>\n",
       "\t<tr><td>Diamond Princess cruise ship</td><td>0                           </td><td>0                           </td><td>0                           </td><td>0                           </td><td>0                           </td><td>0                           </td><td>0                           </td><td>0                           </td><td>0                           </td><td>...                         </td><td>705                         </td><td>705                         </td><td>706                         </td><td>706                         </td><td>706                         </td><td>696                         </td><td>696                         </td><td>696                         </td><td>696                         </td><td>696                         </td></tr>\n",
       "</tbody>\n",
       "</table>\n"
      ],
      "text/latex": [
       "\\begin{tabular}{r|lllllllllllllllllllllllllllllllllllllllllllllllllll}\n",
       " Loaction & X1.21.20 & X1.22.20 & X1.23.20 & X1.24.20 & X1.25.20 & X1.26.20 & X1.27.20 & X1.28.20 & X1.29.20 & ... & X3.1.20 & X3.2.20 & X3.3.20 & X3.4.20 & X3.5.20 & X3.6.20 & X3.7.20 & X3.8.20 & X3.9.20 & X3.10.20\\\\\n",
       "\\hline\n",
       "\t Diamond Princess cruise ship & 0                            & 0                            & 0                            & 0                            & 0                            & 0                            & 0                            & 0                            & 0                            & ...                          & 705                          & 705                          & 706                          & 706                          & 706                          & 696                          & 696                          & 696                          & 696                          & 696                         \\\\\n",
       "\\end{tabular}\n"
      ],
      "text/markdown": [
       "\n",
       "| Loaction | X1.21.20 | X1.22.20 | X1.23.20 | X1.24.20 | X1.25.20 | X1.26.20 | X1.27.20 | X1.28.20 | X1.29.20 | ... | X3.1.20 | X3.2.20 | X3.3.20 | X3.4.20 | X3.5.20 | X3.6.20 | X3.7.20 | X3.8.20 | X3.9.20 | X3.10.20 |\n",
       "|---|---|---|---|---|---|---|---|---|---|---|---|---|---|---|---|---|---|---|---|---|\n",
       "| Diamond Princess cruise ship | 0                            | 0                            | 0                            | 0                            | 0                            | 0                            | 0                            | 0                            | 0                            | ...                          | 705                          | 705                          | 706                          | 706                          | 706                          | 696                          | 696                          | 696                          | 696                          | 696                          |\n",
       "\n"
      ],
      "text/plain": [
       "  Loaction                     X1.21.20 X1.22.20 X1.23.20 X1.24.20 X1.25.20\n",
       "1 Diamond Princess cruise ship 0        0        0        0        0       \n",
       "  X1.26.20 X1.27.20 X1.28.20 X1.29.20 ... X3.1.20 X3.2.20 X3.3.20 X3.4.20\n",
       "1 0        0        0        0        ... 705     705     706     706    \n",
       "  X3.5.20 X3.6.20 X3.7.20 X3.8.20 X3.9.20 X3.10.20\n",
       "1 706     696     696     696     696     696     "
      ]
     },
     "metadata": {},
     "output_type": "display_data"
    },
    {
     "data": {
      "text/html": [
       "<table>\n",
       "<thead><tr><th scope=col>Loaction</th><th scope=col>X1.21.20</th><th scope=col>X1.22.20</th><th scope=col>X1.23.20</th><th scope=col>X1.24.20</th><th scope=col>X1.25.20</th><th scope=col>X1.26.20</th><th scope=col>X1.27.20</th><th scope=col>X1.28.20</th><th scope=col>X1.29.20</th><th scope=col>...</th><th scope=col>X3.1.20</th><th scope=col>X3.2.20</th><th scope=col>X3.3.20</th><th scope=col>X3.4.20</th><th scope=col>X3.5.20</th><th scope=col>X3.6.20</th><th scope=col>X3.7.20</th><th scope=col>X3.8.20</th><th scope=col>X3.9.20</th><th scope=col>X3.10.20</th></tr></thead>\n",
       "<tbody>\n",
       "\t<tr><td>Diamond Princess cruise ship</td><td>0                           </td><td>0                           </td><td>0                           </td><td>0                           </td><td>0                           </td><td>0                           </td><td>0                           </td><td>0                           </td><td>0                           </td><td>...                         </td><td>6                           </td><td>6                           </td><td>6                           </td><td>6                           </td><td>6                           </td><td>6                           </td><td>6                           </td><td>6                           </td><td>6                           </td><td>6                           </td></tr>\n",
       "</tbody>\n",
       "</table>\n"
      ],
      "text/latex": [
       "\\begin{tabular}{r|lllllllllllllllllllllllllllllllllllllllllllllllllll}\n",
       " Loaction & X1.21.20 & X1.22.20 & X1.23.20 & X1.24.20 & X1.25.20 & X1.26.20 & X1.27.20 & X1.28.20 & X1.29.20 & ... & X3.1.20 & X3.2.20 & X3.3.20 & X3.4.20 & X3.5.20 & X3.6.20 & X3.7.20 & X3.8.20 & X3.9.20 & X3.10.20\\\\\n",
       "\\hline\n",
       "\t Diamond Princess cruise ship & 0                            & 0                            & 0                            & 0                            & 0                            & 0                            & 0                            & 0                            & 0                            & ...                          & 6                            & 6                            & 6                            & 6                            & 6                            & 6                            & 6                            & 6                            & 6                            & 6                           \\\\\n",
       "\\end{tabular}\n"
      ],
      "text/markdown": [
       "\n",
       "| Loaction | X1.21.20 | X1.22.20 | X1.23.20 | X1.24.20 | X1.25.20 | X1.26.20 | X1.27.20 | X1.28.20 | X1.29.20 | ... | X3.1.20 | X3.2.20 | X3.3.20 | X3.4.20 | X3.5.20 | X3.6.20 | X3.7.20 | X3.8.20 | X3.9.20 | X3.10.20 |\n",
       "|---|---|---|---|---|---|---|---|---|---|---|---|---|---|---|---|---|---|---|---|---|\n",
       "| Diamond Princess cruise ship | 0                            | 0                            | 0                            | 0                            | 0                            | 0                            | 0                            | 0                            | 0                            | ...                          | 6                            | 6                            | 6                            | 6                            | 6                            | 6                            | 6                            | 6                            | 6                            | 6                            |\n",
       "\n"
      ],
      "text/plain": [
       "  Loaction                     X1.21.20 X1.22.20 X1.23.20 X1.24.20 X1.25.20\n",
       "1 Diamond Princess cruise ship 0        0        0        0        0       \n",
       "  X1.26.20 X1.27.20 X1.28.20 X1.29.20 ... X3.1.20 X3.2.20 X3.3.20 X3.4.20\n",
       "1 0        0        0        0        ... 6       6       6       6      \n",
       "  X3.5.20 X3.6.20 X3.7.20 X3.8.20 X3.9.20 X3.10.20\n",
       "1 6       6       6       6       6       6       "
      ]
     },
     "metadata": {},
     "output_type": "display_data"
    },
    {
     "data": {
      "text/html": [
       "<table>\n",
       "<thead><tr><th scope=col>Loaction</th><th scope=col>X1.21.20</th><th scope=col>X1.22.20</th><th scope=col>X1.23.20</th><th scope=col>X1.24.20</th><th scope=col>X1.25.20</th><th scope=col>X1.26.20</th><th scope=col>X1.27.20</th><th scope=col>X1.28.20</th><th scope=col>X1.29.20</th><th scope=col>...</th><th scope=col>X3.1.20</th><th scope=col>X3.2.20</th><th scope=col>X3.3.20</th><th scope=col>X3.4.20</th><th scope=col>X3.5.20</th><th scope=col>X3.6.20</th><th scope=col>X3.7.20</th><th scope=col>X3.8.20</th><th scope=col>X3.9.20</th><th scope=col>X3.10.20</th></tr></thead>\n",
       "<tbody>\n",
       "\t<tr><td>Diamond Princess cruise ship</td><td>0                           </td><td>0                           </td><td>0                           </td><td>0                           </td><td>0                           </td><td>0                           </td><td>0                           </td><td>0                           </td><td>0                           </td><td>...                         </td><td>10                          </td><td>10                          </td><td>10                          </td><td>10                          </td><td>10                          </td><td>40                          </td><td>40                          </td><td>40                          </td><td>40                          </td><td>40                          </td></tr>\n",
       "</tbody>\n",
       "</table>\n"
      ],
      "text/latex": [
       "\\begin{tabular}{r|lllllllllllllllllllllllllllllllllllllllllllllllllll}\n",
       " Loaction & X1.21.20 & X1.22.20 & X1.23.20 & X1.24.20 & X1.25.20 & X1.26.20 & X1.27.20 & X1.28.20 & X1.29.20 & ... & X3.1.20 & X3.2.20 & X3.3.20 & X3.4.20 & X3.5.20 & X3.6.20 & X3.7.20 & X3.8.20 & X3.9.20 & X3.10.20\\\\\n",
       "\\hline\n",
       "\t Diamond Princess cruise ship & 0                            & 0                            & 0                            & 0                            & 0                            & 0                            & 0                            & 0                            & 0                            & ...                          & 10                           & 10                           & 10                           & 10                           & 10                           & 40                           & 40                           & 40                           & 40                           & 40                          \\\\\n",
       "\\end{tabular}\n"
      ],
      "text/markdown": [
       "\n",
       "| Loaction | X1.21.20 | X1.22.20 | X1.23.20 | X1.24.20 | X1.25.20 | X1.26.20 | X1.27.20 | X1.28.20 | X1.29.20 | ... | X3.1.20 | X3.2.20 | X3.3.20 | X3.4.20 | X3.5.20 | X3.6.20 | X3.7.20 | X3.8.20 | X3.9.20 | X3.10.20 |\n",
       "|---|---|---|---|---|---|---|---|---|---|---|---|---|---|---|---|---|---|---|---|---|\n",
       "| Diamond Princess cruise ship | 0                            | 0                            | 0                            | 0                            | 0                            | 0                            | 0                            | 0                            | 0                            | ...                          | 10                           | 10                           | 10                           | 10                           | 10                           | 40                           | 40                           | 40                           | 40                           | 40                           |\n",
       "\n"
      ],
      "text/plain": [
       "  Loaction                     X1.21.20 X1.22.20 X1.23.20 X1.24.20 X1.25.20\n",
       "1 Diamond Princess cruise ship 0        0        0        0        0       \n",
       "  X1.26.20 X1.27.20 X1.28.20 X1.29.20 ... X3.1.20 X3.2.20 X3.3.20 X3.4.20\n",
       "1 0        0        0        0        ... 10      10      10      10     \n",
       "  X3.5.20 X3.6.20 X3.7.20 X3.8.20 X3.9.20 X3.10.20\n",
       "1 10      40      40      40      40      40      "
      ]
     },
     "metadata": {},
     "output_type": "display_data"
    },
    {
     "data": {
      "text/html": [
       "<table>\n",
       "<thead><tr><th scope=col>Location</th><th scope=col>Confirmed</th><th scope=col>Deaths</th><th scope=col>Recovered</th><th scope=col>Active.Cases</th><th scope=col>Closed.Cases</th></tr></thead>\n",
       "<tbody>\n",
       "\t<tr><td>Diamond Princess</td><td>696             </td><td>6               </td><td>40              </td><td>-40             </td><td>80              </td></tr>\n",
       "</tbody>\n",
       "</table>\n"
      ],
      "text/latex": [
       "\\begin{tabular}{r|llllll}\n",
       " Location & Confirmed & Deaths & Recovered & Active.Cases & Closed.Cases\\\\\n",
       "\\hline\n",
       "\t Diamond Princess & 696              & 6                & 40               & -40              & 80              \\\\\n",
       "\\end{tabular}\n"
      ],
      "text/markdown": [
       "\n",
       "| Location | Confirmed | Deaths | Recovered | Active.Cases | Closed.Cases |\n",
       "|---|---|---|---|---|---|\n",
       "| Diamond Princess | 696              | 6                | 40               | -40              | 80               |\n",
       "\n"
      ],
      "text/plain": [
       "  Location         Confirmed Deaths Recovered Active.Cases Closed.Cases\n",
       "1 Diamond Princess 696       6      40        -40          80          "
      ]
     },
     "metadata": {},
     "output_type": "display_data"
    },
    {
     "data": {
      "text/html": [
       "<table>\n",
       "<thead><tr><th scope=col>State</th><th scope=col>Day</th><th scope=col>Date</th><th scope=col>Confirmed</th><th scope=col>Deaths</th><th scope=col>Recovered</th><th scope=col>Active.Cases</th><th scope=col>Closed.Cases</th></tr></thead>\n",
       "<tbody>\n",
       "\t<tr><td>Diamond Princess</td><td>1               </td><td>21-01-2020      </td><td>0               </td><td>0               </td><td>0               </td><td>0               </td><td>0               </td></tr>\n",
       "\t<tr><td>Diamond Princess</td><td>2               </td><td>22-01-2020      </td><td>0               </td><td>0               </td><td>0               </td><td>0               </td><td>0               </td></tr>\n",
       "\t<tr><td>Diamond Princess</td><td>3               </td><td>23-01-2020      </td><td>0               </td><td>0               </td><td>0               </td><td>0               </td><td>0               </td></tr>\n",
       "\t<tr><td>Diamond Princess</td><td>4               </td><td>24-01-2020      </td><td>0               </td><td>0               </td><td>0               </td><td>0               </td><td>0               </td></tr>\n",
       "\t<tr><td>Diamond Princess</td><td>5               </td><td>25-01-2020      </td><td>0               </td><td>0               </td><td>0               </td><td>0               </td><td>0               </td></tr>\n",
       "\t<tr><td>Diamond Princess</td><td>6               </td><td>26-01-2020      </td><td>0               </td><td>0               </td><td>0               </td><td>0               </td><td>0               </td></tr>\n",
       "</tbody>\n",
       "</table>\n"
      ],
      "text/latex": [
       "\\begin{tabular}{r|llllllll}\n",
       " State & Day & Date & Confirmed & Deaths & Recovered & Active.Cases & Closed.Cases\\\\\n",
       "\\hline\n",
       "\t Diamond Princess & 1                & 21-01-2020       & 0                & 0                & 0                & 0                & 0               \\\\\n",
       "\t Diamond Princess & 2                & 22-01-2020       & 0                & 0                & 0                & 0                & 0               \\\\\n",
       "\t Diamond Princess & 3                & 23-01-2020       & 0                & 0                & 0                & 0                & 0               \\\\\n",
       "\t Diamond Princess & 4                & 24-01-2020       & 0                & 0                & 0                & 0                & 0               \\\\\n",
       "\t Diamond Princess & 5                & 25-01-2020       & 0                & 0                & 0                & 0                & 0               \\\\\n",
       "\t Diamond Princess & 6                & 26-01-2020       & 0                & 0                & 0                & 0                & 0               \\\\\n",
       "\\end{tabular}\n"
      ],
      "text/markdown": [
       "\n",
       "| State | Day | Date | Confirmed | Deaths | Recovered | Active.Cases | Closed.Cases |\n",
       "|---|---|---|---|---|---|---|---|\n",
       "| Diamond Princess | 1                | 21-01-2020       | 0                | 0                | 0                | 0                | 0                |\n",
       "| Diamond Princess | 2                | 22-01-2020       | 0                | 0                | 0                | 0                | 0                |\n",
       "| Diamond Princess | 3                | 23-01-2020       | 0                | 0                | 0                | 0                | 0                |\n",
       "| Diamond Princess | 4                | 24-01-2020       | 0                | 0                | 0                | 0                | 0                |\n",
       "| Diamond Princess | 5                | 25-01-2020       | 0                | 0                | 0                | 0                | 0                |\n",
       "| Diamond Princess | 6                | 26-01-2020       | 0                | 0                | 0                | 0                | 0                |\n",
       "\n"
      ],
      "text/plain": [
       "  State            Day Date       Confirmed Deaths Recovered Active.Cases\n",
       "1 Diamond Princess 1   21-01-2020 0         0      0         0           \n",
       "2 Diamond Princess 2   22-01-2020 0         0      0         0           \n",
       "3 Diamond Princess 3   23-01-2020 0         0      0         0           \n",
       "4 Diamond Princess 4   24-01-2020 0         0      0         0           \n",
       "5 Diamond Princess 5   25-01-2020 0         0      0         0           \n",
       "6 Diamond Princess 6   26-01-2020 0         0      0         0           \n",
       "  Closed.Cases\n",
       "1 0           \n",
       "2 0           \n",
       "3 0           \n",
       "4 0           \n",
       "5 0           \n",
       "6 0           "
      ]
     },
     "metadata": {},
     "output_type": "display_data"
    }
   ],
   "source": [
    "##    Viewed\n",
    "head(Diamond.Princess.daily.Confirmed)\n",
    "head(Diamond.Princess.daily.Deaths)\n",
    "head(Diamond.Princess.daily.Recovered)\n",
    "head(Diamond.Princess.summary)\n",
    "head(Diamond.Princess.dataset.dateWise)"
   ]
  },
  {
   "cell_type": "markdown",
   "metadata": {},
   "source": [
    "##    FOUR"
   ]
  },
  {
   "cell_type": "code",
   "execution_count": 9,
   "metadata": {},
   "outputs": [],
   "source": [
    "## Loading\n",
    "FOUR.daily.Confirmed = read.csv(\"ready_to_use/COVID-19/FOUR/Four_daily_Confirmed.csv\")\n",
    "FOUR.daily.Deaths = read.csv(\"ready_to_use/COVID-19/FOUR/Four_daily_Deaths.csv\")\n",
    "FOUR.daily.Recovered = read.csv(\"ready_to_use/COVID-19/FOUR/Four_daily_Recovered.csv\")\n",
    "FOUR.summary = read.csv(\"ready_to_use/COVID-19/FOUR/Four_Summary.csv\")\n",
    "FOUR.dataset.dateWise = read.csv(\"ready_to_use/COVID-19/FOUR/Four_dataset_dateWise.csv\")\n",
    "FOUR.dataset.locationWise = read.csv(\"ready_to_use/COVID-19/FOUR/Four_dataset_locationWise.csv\")"
   ]
  },
  {
   "cell_type": "code",
   "execution_count": 10,
   "metadata": {},
   "outputs": [
    {
     "data": {
      "text/html": [
       "<table>\n",
       "<thead><tr><th scope=col>Location</th><th scope=col>X1.21.20</th><th scope=col>X1.22.20</th><th scope=col>X1.23.20</th><th scope=col>X1.24.20</th><th scope=col>X1.25.20</th><th scope=col>X1.26.20</th><th scope=col>X1.27.20</th><th scope=col>X1.28.20</th><th scope=col>X1.29.20</th><th scope=col>...</th><th scope=col>X3.1.20</th><th scope=col>X3.2.20</th><th scope=col>X3.3.20</th><th scope=col>X3.4.20</th><th scope=col>X3.5.20</th><th scope=col>X3.6.20</th><th scope=col>X3.7.20</th><th scope=col>X3.8.20</th><th scope=col>X3.9.20</th><th scope=col>X3.10.20</th></tr></thead>\n",
       "<tbody>\n",
       "\t<tr><td>Hubei                       </td><td>270                         </td><td>444                         </td><td>444                         </td><td>549                         </td><td>761                         </td><td>1058                        </td><td>1423                        </td><td>3554                        </td><td>3554                        </td><td>...                         </td><td>66907                       </td><td>67103                       </td><td>67217                       </td><td>67332                       </td><td>67466                       </td><td>67592                       </td><td>67666                       </td><td>67707                       </td><td>67743                       </td><td>67760                       </td></tr>\n",
       "\t<tr><td>China                       </td><td> 55                         </td><td>103                         </td><td>195                         </td><td>367                         </td><td>638                         </td><td>1004                        </td><td>1440                        </td><td>1940                        </td><td>2516                        </td><td>...                         </td><td>12919                       </td><td>12923                       </td><td>12934                       </td><td>12939                       </td><td>12956                       </td><td>12981                       </td><td>12986                       </td><td>12992                       </td><td>12992                       </td><td>12997                       </td></tr>\n",
       "\t<tr><td>World                       </td><td> 60                         </td><td>111                         </td><td>209                         </td><td>392                         </td><td>673                         </td><td>1060                        </td><td>1504                        </td><td>2024                        </td><td>2612                        </td><td>...                         </td><td>20759                       </td><td>22501                       </td><td>24920                       </td><td>27085                       </td><td>29713                       </td><td>33511                       </td><td>37473                       </td><td>41411                       </td><td>45144                       </td><td>50259                       </td></tr>\n",
       "\t<tr><td>Diamond Princess cruise ship</td><td>  0                         </td><td>  0                         </td><td>  0                         </td><td>  0                         </td><td>  0                         </td><td>   0                        </td><td>   0                        </td><td>   0                        </td><td>   0                        </td><td>...                         </td><td>  705                       </td><td>  705                       </td><td>  706                       </td><td>  706                       </td><td>  706                       </td><td>  696                       </td><td>  696                       </td><td>  696                       </td><td>  696                       </td><td>  696                       </td></tr>\n",
       "</tbody>\n",
       "</table>\n"
      ],
      "text/latex": [
       "\\begin{tabular}{r|lllllllllllllllllllllllllllllllllllllllllllllllllll}\n",
       " Location & X1.21.20 & X1.22.20 & X1.23.20 & X1.24.20 & X1.25.20 & X1.26.20 & X1.27.20 & X1.28.20 & X1.29.20 & ... & X3.1.20 & X3.2.20 & X3.3.20 & X3.4.20 & X3.5.20 & X3.6.20 & X3.7.20 & X3.8.20 & X3.9.20 & X3.10.20\\\\\n",
       "\\hline\n",
       "\t Hubei                        & 270                          & 444                          & 444                          & 549                          & 761                          & 1058                         & 1423                         & 3554                         & 3554                         & ...                          & 66907                        & 67103                        & 67217                        & 67332                        & 67466                        & 67592                        & 67666                        & 67707                        & 67743                        & 67760                       \\\\\n",
       "\t China                        &  55                          & 103                          & 195                          & 367                          & 638                          & 1004                         & 1440                         & 1940                         & 2516                         & ...                          & 12919                        & 12923                        & 12934                        & 12939                        & 12956                        & 12981                        & 12986                        & 12992                        & 12992                        & 12997                       \\\\\n",
       "\t World                        &  60                          & 111                          & 209                          & 392                          & 673                          & 1060                         & 1504                         & 2024                         & 2612                         & ...                          & 20759                        & 22501                        & 24920                        & 27085                        & 29713                        & 33511                        & 37473                        & 41411                        & 45144                        & 50259                       \\\\\n",
       "\t Diamond Princess cruise ship &   0                          &   0                          &   0                          &   0                          &   0                          &    0                         &    0                         &    0                         &    0                         & ...                          &   705                        &   705                        &   706                        &   706                        &   706                        &   696                        &   696                        &   696                        &   696                        &   696                       \\\\\n",
       "\\end{tabular}\n"
      ],
      "text/markdown": [
       "\n",
       "| Location | X1.21.20 | X1.22.20 | X1.23.20 | X1.24.20 | X1.25.20 | X1.26.20 | X1.27.20 | X1.28.20 | X1.29.20 | ... | X3.1.20 | X3.2.20 | X3.3.20 | X3.4.20 | X3.5.20 | X3.6.20 | X3.7.20 | X3.8.20 | X3.9.20 | X3.10.20 |\n",
       "|---|---|---|---|---|---|---|---|---|---|---|---|---|---|---|---|---|---|---|---|---|\n",
       "| Hubei                        | 270                          | 444                          | 444                          | 549                          | 761                          | 1058                         | 1423                         | 3554                         | 3554                         | ...                          | 66907                        | 67103                        | 67217                        | 67332                        | 67466                        | 67592                        | 67666                        | 67707                        | 67743                        | 67760                        |\n",
       "| China                        |  55                          | 103                          | 195                          | 367                          | 638                          | 1004                         | 1440                         | 1940                         | 2516                         | ...                          | 12919                        | 12923                        | 12934                        | 12939                        | 12956                        | 12981                        | 12986                        | 12992                        | 12992                        | 12997                        |\n",
       "| World                        |  60                          | 111                          | 209                          | 392                          | 673                          | 1060                         | 1504                         | 2024                         | 2612                         | ...                          | 20759                        | 22501                        | 24920                        | 27085                        | 29713                        | 33511                        | 37473                        | 41411                        | 45144                        | 50259                        |\n",
       "| Diamond Princess cruise ship |   0                          |   0                          |   0                          |   0                          |   0                          |    0                         |    0                         |    0                         |    0                         | ...                          |   705                        |   705                        |   706                        |   706                        |   706                        |   696                        |   696                        |   696                        |   696                        |   696                        |\n",
       "\n"
      ],
      "text/plain": [
       "  Location                     X1.21.20 X1.22.20 X1.23.20 X1.24.20 X1.25.20\n",
       "1 Hubei                        270      444      444      549      761     \n",
       "2 China                         55      103      195      367      638     \n",
       "3 World                         60      111      209      392      673     \n",
       "4 Diamond Princess cruise ship   0        0        0        0        0     \n",
       "  X1.26.20 X1.27.20 X1.28.20 X1.29.20 ... X3.1.20 X3.2.20 X3.3.20 X3.4.20\n",
       "1 1058     1423     3554     3554     ... 66907   67103   67217   67332  \n",
       "2 1004     1440     1940     2516     ... 12919   12923   12934   12939  \n",
       "3 1060     1504     2024     2612     ... 20759   22501   24920   27085  \n",
       "4    0        0        0        0     ...   705     705     706     706  \n",
       "  X3.5.20 X3.6.20 X3.7.20 X3.8.20 X3.9.20 X3.10.20\n",
       "1 67466   67592   67666   67707   67743   67760   \n",
       "2 12956   12981   12986   12992   12992   12997   \n",
       "3 29713   33511   37473   41411   45144   50259   \n",
       "4   706     696     696     696     696     696   "
      ]
     },
     "metadata": {},
     "output_type": "display_data"
    },
    {
     "data": {
      "text/html": [
       "<table>\n",
       "<thead><tr><th scope=col>Location</th><th scope=col>X1.21.20</th><th scope=col>X1.22.20</th><th scope=col>X1.23.20</th><th scope=col>X1.24.20</th><th scope=col>X1.25.20</th><th scope=col>X1.26.20</th><th scope=col>X1.27.20</th><th scope=col>X1.28.20</th><th scope=col>X1.29.20</th><th scope=col>...</th><th scope=col>X3.1.20</th><th scope=col>X3.2.20</th><th scope=col>X3.3.20</th><th scope=col>X3.4.20</th><th scope=col>X3.5.20</th><th scope=col>X3.6.20</th><th scope=col>X3.7.20</th><th scope=col>X3.8.20</th><th scope=col>X3.9.20</th><th scope=col>X3.10.20</th></tr></thead>\n",
       "<tbody>\n",
       "\t<tr><td>Hubei                       </td><td>0                           </td><td>17                          </td><td>17                          </td><td>24                          </td><td>40                          </td><td>52                          </td><td>76                          </td><td>125                         </td><td>125                         </td><td>...                         </td><td>2761                        </td><td>2803                        </td><td>2835                        </td><td>2871                        </td><td>2902                        </td><td>2931                        </td><td>2959                        </td><td>2986                        </td><td>3008                        </td><td>3024                        </td></tr>\n",
       "\t<tr><td>China                       </td><td>0                           </td><td> 0                          </td><td> 1                          </td><td> 2                          </td><td> 2                          </td><td> 4                          </td><td> 6                          </td><td>  6                         </td><td>  8                         </td><td>...                         </td><td> 109                        </td><td> 109                        </td><td> 110                        </td><td> 110                        </td><td> 111                        </td><td> 111                        </td><td> 111                        </td><td> 111                        </td><td> 112                        </td><td> 112                        </td></tr>\n",
       "\t<tr><td>World                       </td><td>0                           </td><td> 0                          </td><td> 0                          </td><td> 0                          </td><td> 0                          </td><td> 0                          </td><td> 0                          </td><td>  0                         </td><td>  0                         </td><td>...                         </td><td> 120                        </td><td> 167                        </td><td> 209                        </td><td> 267                        </td><td> 329                        </td><td> 412                        </td><td> 482                        </td><td> 700                        </td><td> 870                        </td><td>1123                        </td></tr>\n",
       "\t<tr><td>Diamond Princess cruise ship</td><td>0                           </td><td> 0                          </td><td> 0                          </td><td> 0                          </td><td> 0                          </td><td> 0                          </td><td> 0                          </td><td>  0                         </td><td>  0                         </td><td>...                         </td><td>   6                        </td><td>   6                        </td><td>   6                        </td><td>   6                        </td><td>   6                        </td><td>   6                        </td><td>   6                        </td><td>   6                        </td><td>   6                        </td><td>   6                        </td></tr>\n",
       "</tbody>\n",
       "</table>\n"
      ],
      "text/latex": [
       "\\begin{tabular}{r|lllllllllllllllllllllllllllllllllllllllllllllllllll}\n",
       " Location & X1.21.20 & X1.22.20 & X1.23.20 & X1.24.20 & X1.25.20 & X1.26.20 & X1.27.20 & X1.28.20 & X1.29.20 & ... & X3.1.20 & X3.2.20 & X3.3.20 & X3.4.20 & X3.5.20 & X3.6.20 & X3.7.20 & X3.8.20 & X3.9.20 & X3.10.20\\\\\n",
       "\\hline\n",
       "\t Hubei                        & 0                            & 17                           & 17                           & 24                           & 40                           & 52                           & 76                           & 125                          & 125                          & ...                          & 2761                         & 2803                         & 2835                         & 2871                         & 2902                         & 2931                         & 2959                         & 2986                         & 3008                         & 3024                        \\\\\n",
       "\t China                        & 0                            &  0                           &  1                           &  2                           &  2                           &  4                           &  6                           &   6                          &   8                          & ...                          &  109                         &  109                         &  110                         &  110                         &  111                         &  111                         &  111                         &  111                         &  112                         &  112                        \\\\\n",
       "\t World                        & 0                            &  0                           &  0                           &  0                           &  0                           &  0                           &  0                           &   0                          &   0                          & ...                          &  120                         &  167                         &  209                         &  267                         &  329                         &  412                         &  482                         &  700                         &  870                         & 1123                        \\\\\n",
       "\t Diamond Princess cruise ship & 0                            &  0                           &  0                           &  0                           &  0                           &  0                           &  0                           &   0                          &   0                          & ...                          &    6                         &    6                         &    6                         &    6                         &    6                         &    6                         &    6                         &    6                         &    6                         &    6                        \\\\\n",
       "\\end{tabular}\n"
      ],
      "text/markdown": [
       "\n",
       "| Location | X1.21.20 | X1.22.20 | X1.23.20 | X1.24.20 | X1.25.20 | X1.26.20 | X1.27.20 | X1.28.20 | X1.29.20 | ... | X3.1.20 | X3.2.20 | X3.3.20 | X3.4.20 | X3.5.20 | X3.6.20 | X3.7.20 | X3.8.20 | X3.9.20 | X3.10.20 |\n",
       "|---|---|---|---|---|---|---|---|---|---|---|---|---|---|---|---|---|---|---|---|---|\n",
       "| Hubei                        | 0                            | 17                           | 17                           | 24                           | 40                           | 52                           | 76                           | 125                          | 125                          | ...                          | 2761                         | 2803                         | 2835                         | 2871                         | 2902                         | 2931                         | 2959                         | 2986                         | 3008                         | 3024                         |\n",
       "| China                        | 0                            |  0                           |  1                           |  2                           |  2                           |  4                           |  6                           |   6                          |   8                          | ...                          |  109                         |  109                         |  110                         |  110                         |  111                         |  111                         |  111                         |  111                         |  112                         |  112                         |\n",
       "| World                        | 0                            |  0                           |  0                           |  0                           |  0                           |  0                           |  0                           |   0                          |   0                          | ...                          |  120                         |  167                         |  209                         |  267                         |  329                         |  412                         |  482                         |  700                         |  870                         | 1123                         |\n",
       "| Diamond Princess cruise ship | 0                            |  0                           |  0                           |  0                           |  0                           |  0                           |  0                           |   0                          |   0                          | ...                          |    6                         |    6                         |    6                         |    6                         |    6                         |    6                         |    6                         |    6                         |    6                         |    6                         |\n",
       "\n"
      ],
      "text/plain": [
       "  Location                     X1.21.20 X1.22.20 X1.23.20 X1.24.20 X1.25.20\n",
       "1 Hubei                        0        17       17       24       40      \n",
       "2 China                        0         0        1        2        2      \n",
       "3 World                        0         0        0        0        0      \n",
       "4 Diamond Princess cruise ship 0         0        0        0        0      \n",
       "  X1.26.20 X1.27.20 X1.28.20 X1.29.20 ... X3.1.20 X3.2.20 X3.3.20 X3.4.20\n",
       "1 52       76       125      125      ... 2761    2803    2835    2871   \n",
       "2  4        6         6        8      ...  109     109     110     110   \n",
       "3  0        0         0        0      ...  120     167     209     267   \n",
       "4  0        0         0        0      ...    6       6       6       6   \n",
       "  X3.5.20 X3.6.20 X3.7.20 X3.8.20 X3.9.20 X3.10.20\n",
       "1 2902    2931    2959    2986    3008    3024    \n",
       "2  111     111     111     111     112     112    \n",
       "3  329     412     482     700     870    1123    \n",
       "4    6       6       6       6       6       6    "
      ]
     },
     "metadata": {},
     "output_type": "display_data"
    },
    {
     "data": {
      "text/html": [
       "<table>\n",
       "<thead><tr><th scope=col>Location</th><th scope=col>X1.21.20</th><th scope=col>X1.22.20</th><th scope=col>X1.23.20</th><th scope=col>X1.24.20</th><th scope=col>X1.25.20</th><th scope=col>X1.26.20</th><th scope=col>X1.27.20</th><th scope=col>X1.28.20</th><th scope=col>X1.29.20</th><th scope=col>...</th><th scope=col>X3.1.20</th><th scope=col>X3.2.20</th><th scope=col>X3.3.20</th><th scope=col>X3.4.20</th><th scope=col>X3.5.20</th><th scope=col>X3.6.20</th><th scope=col>X3.7.20</th><th scope=col>X3.8.20</th><th scope=col>X3.9.20</th><th scope=col>X3.10.20</th></tr></thead>\n",
       "<tbody>\n",
       "\t<tr><td>Hubei                       </td><td>25                          </td><td>28                          </td><td>28                          </td><td>31                          </td><td>32                          </td><td>42                          </td><td>45                          </td><td>80                          </td><td>88                          </td><td>...                         </td><td>31536                       </td><td>33934                       </td><td>36208                       </td><td>38557                       </td><td>40592                       </td><td>42033                       </td><td>43500                       </td><td>45235                       </td><td>46488                       </td><td>47743                       </td></tr>\n",
       "\t<tr><td>China                       </td><td> 0                          </td><td> 0                          </td><td> 2                          </td><td> 5                          </td><td> 7                          </td><td> 7                          </td><td>13                          </td><td>21                          </td><td>32                          </td><td>...                         </td><td>10582                       </td><td>10876                       </td><td>11196                       </td><td>11398                       </td><td>11648                       </td><td>11855                       </td><td>11978                       </td><td>12085                       </td><td>12247                       </td><td>12363                       </td></tr>\n",
       "\t<tr><td>World                       </td><td> 0                          </td><td> 0                          </td><td> 0                          </td><td> 0                          </td><td> 0                          </td><td> 3                          </td><td> 3                          </td><td> 6                          </td><td> 6                          </td><td>...                         </td><td>  588                       </td><td>  782                       </td><td>  815                       </td><td> 1206                       </td><td> 1547                       </td><td> 1938                       </td><td> 2841                       </td><td> 3335                       </td><td> 3737                       </td><td> 4326                       </td></tr>\n",
       "\t<tr><td>Diamond Princess cruise ship</td><td> 0                          </td><td> 0                          </td><td> 0                          </td><td> 0                          </td><td> 0                          </td><td> 0                          </td><td> 0                          </td><td> 0                          </td><td> 0                          </td><td>...                         </td><td>   10                       </td><td>   10                       </td><td>   10                       </td><td>   10                       </td><td>   10                       </td><td>   40                       </td><td>   40                       </td><td>   40                       </td><td>   40                       </td><td>   40                       </td></tr>\n",
       "</tbody>\n",
       "</table>\n"
      ],
      "text/latex": [
       "\\begin{tabular}{r|lllllllllllllllllllllllllllllllllllllllllllllllllll}\n",
       " Location & X1.21.20 & X1.22.20 & X1.23.20 & X1.24.20 & X1.25.20 & X1.26.20 & X1.27.20 & X1.28.20 & X1.29.20 & ... & X3.1.20 & X3.2.20 & X3.3.20 & X3.4.20 & X3.5.20 & X3.6.20 & X3.7.20 & X3.8.20 & X3.9.20 & X3.10.20\\\\\n",
       "\\hline\n",
       "\t Hubei                        & 25                           & 28                           & 28                           & 31                           & 32                           & 42                           & 45                           & 80                           & 88                           & ...                          & 31536                        & 33934                        & 36208                        & 38557                        & 40592                        & 42033                        & 43500                        & 45235                        & 46488                        & 47743                       \\\\\n",
       "\t China                        &  0                           &  0                           &  2                           &  5                           &  7                           &  7                           & 13                           & 21                           & 32                           & ...                          & 10582                        & 10876                        & 11196                        & 11398                        & 11648                        & 11855                        & 11978                        & 12085                        & 12247                        & 12363                       \\\\\n",
       "\t World                        &  0                           &  0                           &  0                           &  0                           &  0                           &  3                           &  3                           &  6                           &  6                           & ...                          &   588                        &   782                        &   815                        &  1206                        &  1547                        &  1938                        &  2841                        &  3335                        &  3737                        &  4326                       \\\\\n",
       "\t Diamond Princess cruise ship &  0                           &  0                           &  0                           &  0                           &  0                           &  0                           &  0                           &  0                           &  0                           & ...                          &    10                        &    10                        &    10                        &    10                        &    10                        &    40                        &    40                        &    40                        &    40                        &    40                       \\\\\n",
       "\\end{tabular}\n"
      ],
      "text/markdown": [
       "\n",
       "| Location | X1.21.20 | X1.22.20 | X1.23.20 | X1.24.20 | X1.25.20 | X1.26.20 | X1.27.20 | X1.28.20 | X1.29.20 | ... | X3.1.20 | X3.2.20 | X3.3.20 | X3.4.20 | X3.5.20 | X3.6.20 | X3.7.20 | X3.8.20 | X3.9.20 | X3.10.20 |\n",
       "|---|---|---|---|---|---|---|---|---|---|---|---|---|---|---|---|---|---|---|---|---|\n",
       "| Hubei                        | 25                           | 28                           | 28                           | 31                           | 32                           | 42                           | 45                           | 80                           | 88                           | ...                          | 31536                        | 33934                        | 36208                        | 38557                        | 40592                        | 42033                        | 43500                        | 45235                        | 46488                        | 47743                        |\n",
       "| China                        |  0                           |  0                           |  2                           |  5                           |  7                           |  7                           | 13                           | 21                           | 32                           | ...                          | 10582                        | 10876                        | 11196                        | 11398                        | 11648                        | 11855                        | 11978                        | 12085                        | 12247                        | 12363                        |\n",
       "| World                        |  0                           |  0                           |  0                           |  0                           |  0                           |  3                           |  3                           |  6                           |  6                           | ...                          |   588                        |   782                        |   815                        |  1206                        |  1547                        |  1938                        |  2841                        |  3335                        |  3737                        |  4326                        |\n",
       "| Diamond Princess cruise ship |  0                           |  0                           |  0                           |  0                           |  0                           |  0                           |  0                           |  0                           |  0                           | ...                          |    10                        |    10                        |    10                        |    10                        |    10                        |    40                        |    40                        |    40                        |    40                        |    40                        |\n",
       "\n"
      ],
      "text/plain": [
       "  Location                     X1.21.20 X1.22.20 X1.23.20 X1.24.20 X1.25.20\n",
       "1 Hubei                        25       28       28       31       32      \n",
       "2 China                         0        0        2        5        7      \n",
       "3 World                         0        0        0        0        0      \n",
       "4 Diamond Princess cruise ship  0        0        0        0        0      \n",
       "  X1.26.20 X1.27.20 X1.28.20 X1.29.20 ... X3.1.20 X3.2.20 X3.3.20 X3.4.20\n",
       "1 42       45       80       88       ... 31536   33934   36208   38557  \n",
       "2  7       13       21       32       ... 10582   10876   11196   11398  \n",
       "3  3        3        6        6       ...   588     782     815    1206  \n",
       "4  0        0        0        0       ...    10      10      10      10  \n",
       "  X3.5.20 X3.6.20 X3.7.20 X3.8.20 X3.9.20 X3.10.20\n",
       "1 40592   42033   43500   45235   46488   47743   \n",
       "2 11648   11855   11978   12085   12247   12363   \n",
       "3  1547    1938    2841    3335    3737    4326   \n",
       "4    10      40      40      40      40      40   "
      ]
     },
     "metadata": {},
     "output_type": "display_data"
    },
    {
     "data": {
      "text/html": [
       "<table>\n",
       "<thead><tr><th scope=col>Location</th><th scope=col>Confirmed</th><th scope=col>Deaths</th><th scope=col>Recovered</th><th scope=col>Active.Cases</th><th scope=col>Closed.Cases</th></tr></thead>\n",
       "<tbody>\n",
       "\t<tr><td>Hubei           </td><td>67760           </td><td>3024            </td><td>47743           </td><td>16993           </td><td>50767           </td></tr>\n",
       "\t<tr><td>China           </td><td>12997           </td><td> 112            </td><td>12363           </td><td>  522           </td><td>12475           </td></tr>\n",
       "\t<tr><td>World           </td><td>37262           </td><td>1123            </td><td> 4326           </td><td>31813           </td><td> 5449           </td></tr>\n",
       "\t<tr><td>Diamond Princess</td><td>  696           </td><td>   6            </td><td>   40           </td><td>  -40           </td><td>   80           </td></tr>\n",
       "</tbody>\n",
       "</table>\n"
      ],
      "text/latex": [
       "\\begin{tabular}{r|llllll}\n",
       " Location & Confirmed & Deaths & Recovered & Active.Cases & Closed.Cases\\\\\n",
       "\\hline\n",
       "\t Hubei            & 67760            & 3024             & 47743            & 16993            & 50767           \\\\\n",
       "\t China            & 12997            &  112             & 12363            &   522            & 12475           \\\\\n",
       "\t World            & 37262            & 1123             &  4326            & 31813            &  5449           \\\\\n",
       "\t Diamond Princess &   696            &    6             &    40            &   -40            &    80           \\\\\n",
       "\\end{tabular}\n"
      ],
      "text/markdown": [
       "\n",
       "| Location | Confirmed | Deaths | Recovered | Active.Cases | Closed.Cases |\n",
       "|---|---|---|---|---|---|\n",
       "| Hubei            | 67760            | 3024             | 47743            | 16993            | 50767            |\n",
       "| China            | 12997            |  112             | 12363            |   522            | 12475            |\n",
       "| World            | 37262            | 1123             |  4326            | 31813            |  5449            |\n",
       "| Diamond Princess |   696            |    6             |    40            |   -40            |    80            |\n",
       "\n"
      ],
      "text/plain": [
       "  Location         Confirmed Deaths Recovered Active.Cases Closed.Cases\n",
       "1 Hubei            67760     3024   47743     16993        50767       \n",
       "2 China            12997      112   12363       522        12475       \n",
       "3 World            37262     1123    4326     31813         5449       \n",
       "4 Diamond Princess   696        6      40       -40           80       "
      ]
     },
     "metadata": {},
     "output_type": "display_data"
    },
    {
     "data": {
      "text/html": [
       "<table>\n",
       "<thead><tr><th scope=col>Location</th><th scope=col>Day</th><th scope=col>Date</th><th scope=col>Confirmed</th><th scope=col>Deaths</th><th scope=col>Recovered</th><th scope=col>Active.Cases</th><th scope=col>Closed.Cases</th></tr></thead>\n",
       "<tbody>\n",
       "\t<tr><td>Hubei           </td><td>1               </td><td>21-01-2020      </td><td>270             </td><td> 0              </td><td>25              </td><td>245             </td><td>25              </td></tr>\n",
       "\t<tr><td>China           </td><td>1               </td><td>21-01-2020      </td><td> 55             </td><td> 0              </td><td> 0              </td><td> 55             </td><td> 0              </td></tr>\n",
       "\t<tr><td>World           </td><td>1               </td><td>21-01-2020      </td><td> 60             </td><td> 0              </td><td> 0              </td><td> 60             </td><td> 0              </td></tr>\n",
       "\t<tr><td>Diamond Princess</td><td>1               </td><td>21-01-2020      </td><td>  0             </td><td> 0              </td><td> 0              </td><td>  0             </td><td> 0              </td></tr>\n",
       "\t<tr><td>Hubei           </td><td>2               </td><td>22-01-2020      </td><td>444             </td><td>17              </td><td>28              </td><td>399             </td><td>45              </td></tr>\n",
       "\t<tr><td>China           </td><td>2               </td><td>22-01-2020      </td><td>103             </td><td> 0              </td><td> 0              </td><td>103             </td><td> 0              </td></tr>\n",
       "</tbody>\n",
       "</table>\n"
      ],
      "text/latex": [
       "\\begin{tabular}{r|llllllll}\n",
       " Location & Day & Date & Confirmed & Deaths & Recovered & Active.Cases & Closed.Cases\\\\\n",
       "\\hline\n",
       "\t Hubei            & 1                & 21-01-2020       & 270              &  0               & 25               & 245              & 25              \\\\\n",
       "\t China            & 1                & 21-01-2020       &  55              &  0               &  0               &  55              &  0              \\\\\n",
       "\t World            & 1                & 21-01-2020       &  60              &  0               &  0               &  60              &  0              \\\\\n",
       "\t Diamond Princess & 1                & 21-01-2020       &   0              &  0               &  0               &   0              &  0              \\\\\n",
       "\t Hubei            & 2                & 22-01-2020       & 444              & 17               & 28               & 399              & 45              \\\\\n",
       "\t China            & 2                & 22-01-2020       & 103              &  0               &  0               & 103              &  0              \\\\\n",
       "\\end{tabular}\n"
      ],
      "text/markdown": [
       "\n",
       "| Location | Day | Date | Confirmed | Deaths | Recovered | Active.Cases | Closed.Cases |\n",
       "|---|---|---|---|---|---|---|---|\n",
       "| Hubei            | 1                | 21-01-2020       | 270              |  0               | 25               | 245              | 25               |\n",
       "| China            | 1                | 21-01-2020       |  55              |  0               |  0               |  55              |  0               |\n",
       "| World            | 1                | 21-01-2020       |  60              |  0               |  0               |  60              |  0               |\n",
       "| Diamond Princess | 1                | 21-01-2020       |   0              |  0               |  0               |   0              |  0               |\n",
       "| Hubei            | 2                | 22-01-2020       | 444              | 17               | 28               | 399              | 45               |\n",
       "| China            | 2                | 22-01-2020       | 103              |  0               |  0               | 103              |  0               |\n",
       "\n"
      ],
      "text/plain": [
       "  Location         Day Date       Confirmed Deaths Recovered Active.Cases\n",
       "1 Hubei            1   21-01-2020 270        0     25        245         \n",
       "2 China            1   21-01-2020  55        0      0         55         \n",
       "3 World            1   21-01-2020  60        0      0         60         \n",
       "4 Diamond Princess 1   21-01-2020   0        0      0          0         \n",
       "5 Hubei            2   22-01-2020 444       17     28        399         \n",
       "6 China            2   22-01-2020 103        0      0        103         \n",
       "  Closed.Cases\n",
       "1 25          \n",
       "2  0          \n",
       "3  0          \n",
       "4  0          \n",
       "5 45          \n",
       "6  0          "
      ]
     },
     "metadata": {},
     "output_type": "display_data"
    },
    {
     "data": {
      "text/html": [
       "<table>\n",
       "<thead><tr><th scope=col>Location</th><th scope=col>Day</th><th scope=col>Date</th><th scope=col>Confirmed</th><th scope=col>Deaths</th><th scope=col>Recovered</th><th scope=col>Active.Cases</th><th scope=col>Closed.Cases</th></tr></thead>\n",
       "<tbody>\n",
       "\t<tr><td>Hubei     </td><td>1         </td><td>21-01-2020</td><td> 270      </td><td> 0        </td><td>25        </td><td>245       </td><td>25        </td></tr>\n",
       "\t<tr><td>Hubei     </td><td>2         </td><td>22-01-2020</td><td> 444      </td><td>17        </td><td>28        </td><td>399       </td><td>45        </td></tr>\n",
       "\t<tr><td>Hubei     </td><td>3         </td><td>23-01-2020</td><td> 444      </td><td>17        </td><td>28        </td><td>399       </td><td>45        </td></tr>\n",
       "\t<tr><td>Hubei     </td><td>4         </td><td>24-01-2020</td><td> 549      </td><td>24        </td><td>31        </td><td>494       </td><td>55        </td></tr>\n",
       "\t<tr><td>Hubei     </td><td>5         </td><td>25-01-2020</td><td> 761      </td><td>40        </td><td>32        </td><td>689       </td><td>72        </td></tr>\n",
       "\t<tr><td>Hubei     </td><td>6         </td><td>26-01-2020</td><td>1058      </td><td>52        </td><td>42        </td><td>964       </td><td>94        </td></tr>\n",
       "</tbody>\n",
       "</table>\n"
      ],
      "text/latex": [
       "\\begin{tabular}{r|llllllll}\n",
       " Location & Day & Date & Confirmed & Deaths & Recovered & Active.Cases & Closed.Cases\\\\\n",
       "\\hline\n",
       "\t Hubei      & 1          & 21-01-2020 &  270       &  0         & 25         & 245        & 25        \\\\\n",
       "\t Hubei      & 2          & 22-01-2020 &  444       & 17         & 28         & 399        & 45        \\\\\n",
       "\t Hubei      & 3          & 23-01-2020 &  444       & 17         & 28         & 399        & 45        \\\\\n",
       "\t Hubei      & 4          & 24-01-2020 &  549       & 24         & 31         & 494        & 55        \\\\\n",
       "\t Hubei      & 5          & 25-01-2020 &  761       & 40         & 32         & 689        & 72        \\\\\n",
       "\t Hubei      & 6          & 26-01-2020 & 1058       & 52         & 42         & 964        & 94        \\\\\n",
       "\\end{tabular}\n"
      ],
      "text/markdown": [
       "\n",
       "| Location | Day | Date | Confirmed | Deaths | Recovered | Active.Cases | Closed.Cases |\n",
       "|---|---|---|---|---|---|---|---|\n",
       "| Hubei      | 1          | 21-01-2020 |  270       |  0         | 25         | 245        | 25         |\n",
       "| Hubei      | 2          | 22-01-2020 |  444       | 17         | 28         | 399        | 45         |\n",
       "| Hubei      | 3          | 23-01-2020 |  444       | 17         | 28         | 399        | 45         |\n",
       "| Hubei      | 4          | 24-01-2020 |  549       | 24         | 31         | 494        | 55         |\n",
       "| Hubei      | 5          | 25-01-2020 |  761       | 40         | 32         | 689        | 72         |\n",
       "| Hubei      | 6          | 26-01-2020 | 1058       | 52         | 42         | 964        | 94         |\n",
       "\n"
      ],
      "text/plain": [
       "  Location Day Date       Confirmed Deaths Recovered Active.Cases Closed.Cases\n",
       "1 Hubei    1   21-01-2020  270       0     25        245          25          \n",
       "2 Hubei    2   22-01-2020  444      17     28        399          45          \n",
       "3 Hubei    3   23-01-2020  444      17     28        399          45          \n",
       "4 Hubei    4   24-01-2020  549      24     31        494          55          \n",
       "5 Hubei    5   25-01-2020  761      40     32        689          72          \n",
       "6 Hubei    6   26-01-2020 1058      52     42        964          94          "
      ]
     },
     "metadata": {},
     "output_type": "display_data"
    }
   ],
   "source": [
    "## Viewed\n",
    "head(FOUR.daily.Confirmed)\n",
    "head(FOUR.daily.Deaths)\n",
    "head(FOUR.daily.Recovered)\n",
    "head(FOUR.summary)\n",
    "head(FOUR.dataset.dateWise)\n",
    "head(FOUR.dataset.locationWise)"
   ]
  },
  {
   "cell_type": "markdown",
   "metadata": {},
   "source": [
    "##    Mixed"
   ]
  },
  {
   "cell_type": "code",
   "execution_count": 11,
   "metadata": {},
   "outputs": [],
   "source": [
    "## Loading\n",
    "All.Countries.daily.Confirmed = read.csv(\"ready_to_use/COVID-19/Mixed/All_Countries_daily_Confirmed.csv\")\n",
    "All.Countries.daily.Deaths = read.csv(\"ready_to_use/COVID-19/Mixed/All_Countries_daily_Deaths.csv\")\n",
    "All.Countries.daily.Recovered = read.csv(\"ready_to_use/COVID-19/Mixed/All_Countries_daily_Recovered.csv\")\n",
    "All.Countries.summary = read.csv(\"ready_to_use/COVID-19/Mixed/All_Countries_summary.csv\")\n",
    "Mixed.summary = read.csv(\"ready_to_use/COVID-19/Mixed/bulk_summary.csv\")\n",
    "Mixed.countryWise.summary = read.csv(\"ready_to_use/COVID-19/Mixed/countryWise_bulk_summary.csv\")\n",
    "Mixed.dateWise.summary = read.csv(\"ready_to_use/COVID-19/Mixed/dateWise_bulk_summary.csv\")"
   ]
  },
  {
   "cell_type": "code",
   "execution_count": 12,
   "metadata": {},
   "outputs": [
    {
     "data": {
      "text/html": [
       "<table>\n",
       "<thead><tr><th scope=col>Country</th><th scope=col>X1.21.20</th><th scope=col>X1.22.20</th><th scope=col>X1.23.20</th><th scope=col>X1.24.20</th><th scope=col>X1.25.20</th><th scope=col>X1.26.20</th><th scope=col>X1.27.20</th><th scope=col>X1.28.20</th><th scope=col>X1.29.20</th><th scope=col>...</th><th scope=col>X3.1.20</th><th scope=col>X3.2.20</th><th scope=col>X3.3.20</th><th scope=col>X3.4.20</th><th scope=col>X3.5.20</th><th scope=col>X3.6.20</th><th scope=col>X3.7.20</th><th scope=col>X3.8.20</th><th scope=col>X3.9.20</th><th scope=col>X3.10.20</th></tr></thead>\n",
       "<tbody>\n",
       "\t<tr><td>Afghanistan</td><td>0          </td><td>0          </td><td>0          </td><td>0          </td><td>0          </td><td>0          </td><td>0          </td><td>0          </td><td>0          </td><td>...        </td><td>1          </td><td>1          </td><td>1          </td><td> 1         </td><td> 1         </td><td> 1         </td><td> 1         </td><td> 4         </td><td> 4         </td><td> 5         </td></tr>\n",
       "\t<tr><td>Albania    </td><td>0          </td><td>0          </td><td>0          </td><td>0          </td><td>0          </td><td>0          </td><td>0          </td><td>0          </td><td>0          </td><td>...        </td><td>0          </td><td>0          </td><td>0          </td><td> 0         </td><td> 0         </td><td> 0         </td><td> 0         </td><td> 0         </td><td> 2         </td><td>10         </td></tr>\n",
       "\t<tr><td>Algeria    </td><td>0          </td><td>0          </td><td>0          </td><td>0          </td><td>0          </td><td>0          </td><td>0          </td><td>0          </td><td>0          </td><td>...        </td><td>1          </td><td>3          </td><td>5          </td><td>12         </td><td>12         </td><td>17         </td><td>17         </td><td>19         </td><td>20         </td><td>20         </td></tr>\n",
       "\t<tr><td>Andorra    </td><td>0          </td><td>0          </td><td>0          </td><td>0          </td><td>0          </td><td>0          </td><td>0          </td><td>0          </td><td>0          </td><td>...        </td><td>0          </td><td>1          </td><td>1          </td><td> 1         </td><td> 1         </td><td> 1         </td><td> 1         </td><td> 1         </td><td> 1         </td><td> 1         </td></tr>\n",
       "\t<tr><td>Argentina  </td><td>0          </td><td>0          </td><td>0          </td><td>0          </td><td>0          </td><td>0          </td><td>0          </td><td>0          </td><td>0          </td><td>...        </td><td>0          </td><td>0          </td><td>1          </td><td> 1         </td><td> 1         </td><td> 2         </td><td> 8         </td><td>12         </td><td>12         </td><td>17         </td></tr>\n",
       "\t<tr><td>Armenia    </td><td>0          </td><td>0          </td><td>0          </td><td>0          </td><td>0          </td><td>0          </td><td>0          </td><td>0          </td><td>0          </td><td>...        </td><td>1          </td><td>1          </td><td>1          </td><td> 1         </td><td> 1         </td><td> 1         </td><td> 1         </td><td> 1         </td><td> 1         </td><td> 1         </td></tr>\n",
       "</tbody>\n",
       "</table>\n"
      ],
      "text/latex": [
       "\\begin{tabular}{r|lllllllllllllllllllllllllllllllllllllllllllllllllll}\n",
       " Country & X1.21.20 & X1.22.20 & X1.23.20 & X1.24.20 & X1.25.20 & X1.26.20 & X1.27.20 & X1.28.20 & X1.29.20 & ... & X3.1.20 & X3.2.20 & X3.3.20 & X3.4.20 & X3.5.20 & X3.6.20 & X3.7.20 & X3.8.20 & X3.9.20 & X3.10.20\\\\\n",
       "\\hline\n",
       "\t Afghanistan & 0           & 0           & 0           & 0           & 0           & 0           & 0           & 0           & 0           & ...         & 1           & 1           & 1           &  1          &  1          &  1          &  1          &  4          &  4          &  5         \\\\\n",
       "\t Albania     & 0           & 0           & 0           & 0           & 0           & 0           & 0           & 0           & 0           & ...         & 0           & 0           & 0           &  0          &  0          &  0          &  0          &  0          &  2          & 10         \\\\\n",
       "\t Algeria     & 0           & 0           & 0           & 0           & 0           & 0           & 0           & 0           & 0           & ...         & 1           & 3           & 5           & 12          & 12          & 17          & 17          & 19          & 20          & 20         \\\\\n",
       "\t Andorra     & 0           & 0           & 0           & 0           & 0           & 0           & 0           & 0           & 0           & ...         & 0           & 1           & 1           &  1          &  1          &  1          &  1          &  1          &  1          &  1         \\\\\n",
       "\t Argentina   & 0           & 0           & 0           & 0           & 0           & 0           & 0           & 0           & 0           & ...         & 0           & 0           & 1           &  1          &  1          &  2          &  8          & 12          & 12          & 17         \\\\\n",
       "\t Armenia     & 0           & 0           & 0           & 0           & 0           & 0           & 0           & 0           & 0           & ...         & 1           & 1           & 1           &  1          &  1          &  1          &  1          &  1          &  1          &  1         \\\\\n",
       "\\end{tabular}\n"
      ],
      "text/markdown": [
       "\n",
       "| Country | X1.21.20 | X1.22.20 | X1.23.20 | X1.24.20 | X1.25.20 | X1.26.20 | X1.27.20 | X1.28.20 | X1.29.20 | ... | X3.1.20 | X3.2.20 | X3.3.20 | X3.4.20 | X3.5.20 | X3.6.20 | X3.7.20 | X3.8.20 | X3.9.20 | X3.10.20 |\n",
       "|---|---|---|---|---|---|---|---|---|---|---|---|---|---|---|---|---|---|---|---|---|\n",
       "| Afghanistan | 0           | 0           | 0           | 0           | 0           | 0           | 0           | 0           | 0           | ...         | 1           | 1           | 1           |  1          |  1          |  1          |  1          |  4          |  4          |  5          |\n",
       "| Albania     | 0           | 0           | 0           | 0           | 0           | 0           | 0           | 0           | 0           | ...         | 0           | 0           | 0           |  0          |  0          |  0          |  0          |  0          |  2          | 10          |\n",
       "| Algeria     | 0           | 0           | 0           | 0           | 0           | 0           | 0           | 0           | 0           | ...         | 1           | 3           | 5           | 12          | 12          | 17          | 17          | 19          | 20          | 20          |\n",
       "| Andorra     | 0           | 0           | 0           | 0           | 0           | 0           | 0           | 0           | 0           | ...         | 0           | 1           | 1           |  1          |  1          |  1          |  1          |  1          |  1          |  1          |\n",
       "| Argentina   | 0           | 0           | 0           | 0           | 0           | 0           | 0           | 0           | 0           | ...         | 0           | 0           | 1           |  1          |  1          |  2          |  8          | 12          | 12          | 17          |\n",
       "| Armenia     | 0           | 0           | 0           | 0           | 0           | 0           | 0           | 0           | 0           | ...         | 1           | 1           | 1           |  1          |  1          |  1          |  1          |  1          |  1          |  1          |\n",
       "\n"
      ],
      "text/plain": [
       "  Country     X1.21.20 X1.22.20 X1.23.20 X1.24.20 X1.25.20 X1.26.20 X1.27.20\n",
       "1 Afghanistan 0        0        0        0        0        0        0       \n",
       "2 Albania     0        0        0        0        0        0        0       \n",
       "3 Algeria     0        0        0        0        0        0        0       \n",
       "4 Andorra     0        0        0        0        0        0        0       \n",
       "5 Argentina   0        0        0        0        0        0        0       \n",
       "6 Armenia     0        0        0        0        0        0        0       \n",
       "  X1.28.20 X1.29.20 ... X3.1.20 X3.2.20 X3.3.20 X3.4.20 X3.5.20 X3.6.20 X3.7.20\n",
       "1 0        0        ... 1       1       1        1       1       1       1     \n",
       "2 0        0        ... 0       0       0        0       0       0       0     \n",
       "3 0        0        ... 1       3       5       12      12      17      17     \n",
       "4 0        0        ... 0       1       1        1       1       1       1     \n",
       "5 0        0        ... 0       0       1        1       1       2       8     \n",
       "6 0        0        ... 1       1       1        1       1       1       1     \n",
       "  X3.8.20 X3.9.20 X3.10.20\n",
       "1  4       4       5      \n",
       "2  0       2      10      \n",
       "3 19      20      20      \n",
       "4  1       1       1      \n",
       "5 12      12      17      \n",
       "6  1       1       1      "
      ]
     },
     "metadata": {},
     "output_type": "display_data"
    },
    {
     "data": {
      "text/html": [
       "<table>\n",
       "<thead><tr><th scope=col>Country</th><th scope=col>X1.21.20</th><th scope=col>X1.22.20</th><th scope=col>X1.23.20</th><th scope=col>X1.24.20</th><th scope=col>X1.25.20</th><th scope=col>X1.26.20</th><th scope=col>X1.27.20</th><th scope=col>X1.28.20</th><th scope=col>X1.29.20</th><th scope=col>...</th><th scope=col>X3.1.20</th><th scope=col>X3.2.20</th><th scope=col>X3.3.20</th><th scope=col>X3.4.20</th><th scope=col>X3.5.20</th><th scope=col>X3.6.20</th><th scope=col>X3.7.20</th><th scope=col>X3.8.20</th><th scope=col>X3.9.20</th><th scope=col>X3.10.20</th></tr></thead>\n",
       "<tbody>\n",
       "\t<tr><td>Afghanistan</td><td>0          </td><td>0          </td><td>0          </td><td>0          </td><td>0          </td><td>0          </td><td>0          </td><td>0          </td><td>0          </td><td>...        </td><td>0          </td><td>0          </td><td>0          </td><td>0          </td><td>0          </td><td>0          </td><td>0          </td><td>0          </td><td>0          </td><td>0          </td></tr>\n",
       "\t<tr><td>Albania    </td><td>0          </td><td>0          </td><td>0          </td><td>0          </td><td>0          </td><td>0          </td><td>0          </td><td>0          </td><td>0          </td><td>...        </td><td>0          </td><td>0          </td><td>0          </td><td>0          </td><td>0          </td><td>0          </td><td>0          </td><td>0          </td><td>0          </td><td>0          </td></tr>\n",
       "\t<tr><td>Algeria    </td><td>0          </td><td>0          </td><td>0          </td><td>0          </td><td>0          </td><td>0          </td><td>0          </td><td>0          </td><td>0          </td><td>...        </td><td>0          </td><td>0          </td><td>0          </td><td>0          </td><td>0          </td><td>0          </td><td>0          </td><td>0          </td><td>0          </td><td>0          </td></tr>\n",
       "\t<tr><td>Andorra    </td><td>0          </td><td>0          </td><td>0          </td><td>0          </td><td>0          </td><td>0          </td><td>0          </td><td>0          </td><td>0          </td><td>...        </td><td>0          </td><td>0          </td><td>0          </td><td>0          </td><td>0          </td><td>0          </td><td>0          </td><td>0          </td><td>0          </td><td>0          </td></tr>\n",
       "\t<tr><td>Argentina  </td><td>0          </td><td>0          </td><td>0          </td><td>0          </td><td>0          </td><td>0          </td><td>0          </td><td>0          </td><td>0          </td><td>...        </td><td>0          </td><td>0          </td><td>0          </td><td>0          </td><td>0          </td><td>0          </td><td>0          </td><td>0          </td><td>0          </td><td>0          </td></tr>\n",
       "\t<tr><td>Armenia    </td><td>0          </td><td>0          </td><td>0          </td><td>0          </td><td>0          </td><td>0          </td><td>0          </td><td>0          </td><td>0          </td><td>...        </td><td>0          </td><td>0          </td><td>0          </td><td>0          </td><td>0          </td><td>0          </td><td>0          </td><td>0          </td><td>0          </td><td>0          </td></tr>\n",
       "</tbody>\n",
       "</table>\n"
      ],
      "text/latex": [
       "\\begin{tabular}{r|lllllllllllllllllllllllllllllllllllllllllllllllllll}\n",
       " Country & X1.21.20 & X1.22.20 & X1.23.20 & X1.24.20 & X1.25.20 & X1.26.20 & X1.27.20 & X1.28.20 & X1.29.20 & ... & X3.1.20 & X3.2.20 & X3.3.20 & X3.4.20 & X3.5.20 & X3.6.20 & X3.7.20 & X3.8.20 & X3.9.20 & X3.10.20\\\\\n",
       "\\hline\n",
       "\t Afghanistan & 0           & 0           & 0           & 0           & 0           & 0           & 0           & 0           & 0           & ...         & 0           & 0           & 0           & 0           & 0           & 0           & 0           & 0           & 0           & 0          \\\\\n",
       "\t Albania     & 0           & 0           & 0           & 0           & 0           & 0           & 0           & 0           & 0           & ...         & 0           & 0           & 0           & 0           & 0           & 0           & 0           & 0           & 0           & 0          \\\\\n",
       "\t Algeria     & 0           & 0           & 0           & 0           & 0           & 0           & 0           & 0           & 0           & ...         & 0           & 0           & 0           & 0           & 0           & 0           & 0           & 0           & 0           & 0          \\\\\n",
       "\t Andorra     & 0           & 0           & 0           & 0           & 0           & 0           & 0           & 0           & 0           & ...         & 0           & 0           & 0           & 0           & 0           & 0           & 0           & 0           & 0           & 0          \\\\\n",
       "\t Argentina   & 0           & 0           & 0           & 0           & 0           & 0           & 0           & 0           & 0           & ...         & 0           & 0           & 0           & 0           & 0           & 0           & 0           & 0           & 0           & 0          \\\\\n",
       "\t Armenia     & 0           & 0           & 0           & 0           & 0           & 0           & 0           & 0           & 0           & ...         & 0           & 0           & 0           & 0           & 0           & 0           & 0           & 0           & 0           & 0          \\\\\n",
       "\\end{tabular}\n"
      ],
      "text/markdown": [
       "\n",
       "| Country | X1.21.20 | X1.22.20 | X1.23.20 | X1.24.20 | X1.25.20 | X1.26.20 | X1.27.20 | X1.28.20 | X1.29.20 | ... | X3.1.20 | X3.2.20 | X3.3.20 | X3.4.20 | X3.5.20 | X3.6.20 | X3.7.20 | X3.8.20 | X3.9.20 | X3.10.20 |\n",
       "|---|---|---|---|---|---|---|---|---|---|---|---|---|---|---|---|---|---|---|---|---|\n",
       "| Afghanistan | 0           | 0           | 0           | 0           | 0           | 0           | 0           | 0           | 0           | ...         | 0           | 0           | 0           | 0           | 0           | 0           | 0           | 0           | 0           | 0           |\n",
       "| Albania     | 0           | 0           | 0           | 0           | 0           | 0           | 0           | 0           | 0           | ...         | 0           | 0           | 0           | 0           | 0           | 0           | 0           | 0           | 0           | 0           |\n",
       "| Algeria     | 0           | 0           | 0           | 0           | 0           | 0           | 0           | 0           | 0           | ...         | 0           | 0           | 0           | 0           | 0           | 0           | 0           | 0           | 0           | 0           |\n",
       "| Andorra     | 0           | 0           | 0           | 0           | 0           | 0           | 0           | 0           | 0           | ...         | 0           | 0           | 0           | 0           | 0           | 0           | 0           | 0           | 0           | 0           |\n",
       "| Argentina   | 0           | 0           | 0           | 0           | 0           | 0           | 0           | 0           | 0           | ...         | 0           | 0           | 0           | 0           | 0           | 0           | 0           | 0           | 0           | 0           |\n",
       "| Armenia     | 0           | 0           | 0           | 0           | 0           | 0           | 0           | 0           | 0           | ...         | 0           | 0           | 0           | 0           | 0           | 0           | 0           | 0           | 0           | 0           |\n",
       "\n"
      ],
      "text/plain": [
       "  Country     X1.21.20 X1.22.20 X1.23.20 X1.24.20 X1.25.20 X1.26.20 X1.27.20\n",
       "1 Afghanistan 0        0        0        0        0        0        0       \n",
       "2 Albania     0        0        0        0        0        0        0       \n",
       "3 Algeria     0        0        0        0        0        0        0       \n",
       "4 Andorra     0        0        0        0        0        0        0       \n",
       "5 Argentina   0        0        0        0        0        0        0       \n",
       "6 Armenia     0        0        0        0        0        0        0       \n",
       "  X1.28.20 X1.29.20 ... X3.1.20 X3.2.20 X3.3.20 X3.4.20 X3.5.20 X3.6.20 X3.7.20\n",
       "1 0        0        ... 0       0       0       0       0       0       0      \n",
       "2 0        0        ... 0       0       0       0       0       0       0      \n",
       "3 0        0        ... 0       0       0       0       0       0       0      \n",
       "4 0        0        ... 0       0       0       0       0       0       0      \n",
       "5 0        0        ... 0       0       0       0       0       0       0      \n",
       "6 0        0        ... 0       0       0       0       0       0       0      \n",
       "  X3.8.20 X3.9.20 X3.10.20\n",
       "1 0       0       0       \n",
       "2 0       0       0       \n",
       "3 0       0       0       \n",
       "4 0       0       0       \n",
       "5 0       0       0       \n",
       "6 0       0       0       "
      ]
     },
     "metadata": {},
     "output_type": "display_data"
    },
    {
     "data": {
      "text/html": [
       "<table>\n",
       "<thead><tr><th scope=col>Country</th><th scope=col>X1.21.20</th><th scope=col>X1.22.20</th><th scope=col>X1.23.20</th><th scope=col>X1.24.20</th><th scope=col>X1.25.20</th><th scope=col>X1.26.20</th><th scope=col>X1.27.20</th><th scope=col>X1.28.20</th><th scope=col>X1.29.20</th><th scope=col>...</th><th scope=col>X3.1.20</th><th scope=col>X3.2.20</th><th scope=col>X3.3.20</th><th scope=col>X3.4.20</th><th scope=col>X3.5.20</th><th scope=col>X3.6.20</th><th scope=col>X3.7.20</th><th scope=col>X3.8.20</th><th scope=col>X3.9.20</th><th scope=col>X3.10.20</th></tr></thead>\n",
       "<tbody>\n",
       "\t<tr><td>Afghanistan</td><td>0          </td><td>0          </td><td>0          </td><td>0          </td><td>0          </td><td>0          </td><td>0          </td><td>0          </td><td>0          </td><td>...        </td><td>0          </td><td>0          </td><td>0          </td><td>0          </td><td>0          </td><td>0          </td><td>0          </td><td>0          </td><td>0          </td><td>0          </td></tr>\n",
       "\t<tr><td>Albania    </td><td>0          </td><td>0          </td><td>0          </td><td>0          </td><td>0          </td><td>0          </td><td>0          </td><td>0          </td><td>0          </td><td>...        </td><td>0          </td><td>0          </td><td>0          </td><td>0          </td><td>0          </td><td>0          </td><td>0          </td><td>0          </td><td>0          </td><td>0          </td></tr>\n",
       "\t<tr><td>Algeria    </td><td>0          </td><td>0          </td><td>0          </td><td>0          </td><td>0          </td><td>0          </td><td>0          </td><td>0          </td><td>0          </td><td>...        </td><td>0          </td><td>0          </td><td>0          </td><td>0          </td><td>0          </td><td>0          </td><td>0          </td><td>0          </td><td>0          </td><td>0          </td></tr>\n",
       "\t<tr><td>Andorra    </td><td>0          </td><td>0          </td><td>0          </td><td>0          </td><td>0          </td><td>0          </td><td>0          </td><td>0          </td><td>0          </td><td>...        </td><td>0          </td><td>0          </td><td>0          </td><td>0          </td><td>0          </td><td>0          </td><td>0          </td><td>0          </td><td>0          </td><td>0          </td></tr>\n",
       "\t<tr><td>Argentina  </td><td>0          </td><td>0          </td><td>0          </td><td>0          </td><td>0          </td><td>0          </td><td>0          </td><td>0          </td><td>0          </td><td>...        </td><td>0          </td><td>0          </td><td>0          </td><td>0          </td><td>0          </td><td>0          </td><td>0          </td><td>1          </td><td>1          </td><td>1          </td></tr>\n",
       "\t<tr><td>Armenia    </td><td>0          </td><td>0          </td><td>0          </td><td>0          </td><td>0          </td><td>0          </td><td>0          </td><td>0          </td><td>0          </td><td>...        </td><td>0          </td><td>0          </td><td>0          </td><td>0          </td><td>0          </td><td>0          </td><td>0          </td><td>0          </td><td>0          </td><td>0          </td></tr>\n",
       "</tbody>\n",
       "</table>\n"
      ],
      "text/latex": [
       "\\begin{tabular}{r|lllllllllllllllllllllllllllllllllllllllllllllllllll}\n",
       " Country & X1.21.20 & X1.22.20 & X1.23.20 & X1.24.20 & X1.25.20 & X1.26.20 & X1.27.20 & X1.28.20 & X1.29.20 & ... & X3.1.20 & X3.2.20 & X3.3.20 & X3.4.20 & X3.5.20 & X3.6.20 & X3.7.20 & X3.8.20 & X3.9.20 & X3.10.20\\\\\n",
       "\\hline\n",
       "\t Afghanistan & 0           & 0           & 0           & 0           & 0           & 0           & 0           & 0           & 0           & ...         & 0           & 0           & 0           & 0           & 0           & 0           & 0           & 0           & 0           & 0          \\\\\n",
       "\t Albania     & 0           & 0           & 0           & 0           & 0           & 0           & 0           & 0           & 0           & ...         & 0           & 0           & 0           & 0           & 0           & 0           & 0           & 0           & 0           & 0          \\\\\n",
       "\t Algeria     & 0           & 0           & 0           & 0           & 0           & 0           & 0           & 0           & 0           & ...         & 0           & 0           & 0           & 0           & 0           & 0           & 0           & 0           & 0           & 0          \\\\\n",
       "\t Andorra     & 0           & 0           & 0           & 0           & 0           & 0           & 0           & 0           & 0           & ...         & 0           & 0           & 0           & 0           & 0           & 0           & 0           & 0           & 0           & 0          \\\\\n",
       "\t Argentina   & 0           & 0           & 0           & 0           & 0           & 0           & 0           & 0           & 0           & ...         & 0           & 0           & 0           & 0           & 0           & 0           & 0           & 1           & 1           & 1          \\\\\n",
       "\t Armenia     & 0           & 0           & 0           & 0           & 0           & 0           & 0           & 0           & 0           & ...         & 0           & 0           & 0           & 0           & 0           & 0           & 0           & 0           & 0           & 0          \\\\\n",
       "\\end{tabular}\n"
      ],
      "text/markdown": [
       "\n",
       "| Country | X1.21.20 | X1.22.20 | X1.23.20 | X1.24.20 | X1.25.20 | X1.26.20 | X1.27.20 | X1.28.20 | X1.29.20 | ... | X3.1.20 | X3.2.20 | X3.3.20 | X3.4.20 | X3.5.20 | X3.6.20 | X3.7.20 | X3.8.20 | X3.9.20 | X3.10.20 |\n",
       "|---|---|---|---|---|---|---|---|---|---|---|---|---|---|---|---|---|---|---|---|---|\n",
       "| Afghanistan | 0           | 0           | 0           | 0           | 0           | 0           | 0           | 0           | 0           | ...         | 0           | 0           | 0           | 0           | 0           | 0           | 0           | 0           | 0           | 0           |\n",
       "| Albania     | 0           | 0           | 0           | 0           | 0           | 0           | 0           | 0           | 0           | ...         | 0           | 0           | 0           | 0           | 0           | 0           | 0           | 0           | 0           | 0           |\n",
       "| Algeria     | 0           | 0           | 0           | 0           | 0           | 0           | 0           | 0           | 0           | ...         | 0           | 0           | 0           | 0           | 0           | 0           | 0           | 0           | 0           | 0           |\n",
       "| Andorra     | 0           | 0           | 0           | 0           | 0           | 0           | 0           | 0           | 0           | ...         | 0           | 0           | 0           | 0           | 0           | 0           | 0           | 0           | 0           | 0           |\n",
       "| Argentina   | 0           | 0           | 0           | 0           | 0           | 0           | 0           | 0           | 0           | ...         | 0           | 0           | 0           | 0           | 0           | 0           | 0           | 1           | 1           | 1           |\n",
       "| Armenia     | 0           | 0           | 0           | 0           | 0           | 0           | 0           | 0           | 0           | ...         | 0           | 0           | 0           | 0           | 0           | 0           | 0           | 0           | 0           | 0           |\n",
       "\n"
      ],
      "text/plain": [
       "  Country     X1.21.20 X1.22.20 X1.23.20 X1.24.20 X1.25.20 X1.26.20 X1.27.20\n",
       "1 Afghanistan 0        0        0        0        0        0        0       \n",
       "2 Albania     0        0        0        0        0        0        0       \n",
       "3 Algeria     0        0        0        0        0        0        0       \n",
       "4 Andorra     0        0        0        0        0        0        0       \n",
       "5 Argentina   0        0        0        0        0        0        0       \n",
       "6 Armenia     0        0        0        0        0        0        0       \n",
       "  X1.28.20 X1.29.20 ... X3.1.20 X3.2.20 X3.3.20 X3.4.20 X3.5.20 X3.6.20 X3.7.20\n",
       "1 0        0        ... 0       0       0       0       0       0       0      \n",
       "2 0        0        ... 0       0       0       0       0       0       0      \n",
       "3 0        0        ... 0       0       0       0       0       0       0      \n",
       "4 0        0        ... 0       0       0       0       0       0       0      \n",
       "5 0        0        ... 0       0       0       0       0       0       0      \n",
       "6 0        0        ... 0       0       0       0       0       0       0      \n",
       "  X3.8.20 X3.9.20 X3.10.20\n",
       "1 0       0       0       \n",
       "2 0       0       0       \n",
       "3 0       0       0       \n",
       "4 0       0       0       \n",
       "5 1       1       1       \n",
       "6 0       0       0       "
      ]
     },
     "metadata": {},
     "output_type": "display_data"
    },
    {
     "data": {
      "text/html": [
       "<table>\n",
       "<thead><tr><th scope=col>Country</th><th scope=col>Confirmed</th><th scope=col>Deaths</th><th scope=col>Recovered</th><th scope=col>Active.Cases</th><th scope=col>Closed.Cases</th></tr></thead>\n",
       "<tbody>\n",
       "\t<tr><td>Afghanistan</td><td> 5         </td><td>0          </td><td>0          </td><td> 5         </td><td>0          </td></tr>\n",
       "\t<tr><td>Albania    </td><td>10         </td><td>0          </td><td>0          </td><td>10         </td><td>0          </td></tr>\n",
       "\t<tr><td>Algeria    </td><td>20         </td><td>0          </td><td>0          </td><td>20         </td><td>0          </td></tr>\n",
       "\t<tr><td>Andorra    </td><td> 1         </td><td>0          </td><td>0          </td><td> 1         </td><td>0          </td></tr>\n",
       "\t<tr><td>Argentina  </td><td>17         </td><td>1          </td><td>0          </td><td>16         </td><td>1          </td></tr>\n",
       "\t<tr><td>Armenia    </td><td> 1         </td><td>0          </td><td>0          </td><td> 1         </td><td>0          </td></tr>\n",
       "</tbody>\n",
       "</table>\n"
      ],
      "text/latex": [
       "\\begin{tabular}{r|llllll}\n",
       " Country & Confirmed & Deaths & Recovered & Active.Cases & Closed.Cases\\\\\n",
       "\\hline\n",
       "\t Afghanistan &  5          & 0           & 0           &  5          & 0          \\\\\n",
       "\t Albania     & 10          & 0           & 0           & 10          & 0          \\\\\n",
       "\t Algeria     & 20          & 0           & 0           & 20          & 0          \\\\\n",
       "\t Andorra     &  1          & 0           & 0           &  1          & 0          \\\\\n",
       "\t Argentina   & 17          & 1           & 0           & 16          & 1          \\\\\n",
       "\t Armenia     &  1          & 0           & 0           &  1          & 0          \\\\\n",
       "\\end{tabular}\n"
      ],
      "text/markdown": [
       "\n",
       "| Country | Confirmed | Deaths | Recovered | Active.Cases | Closed.Cases |\n",
       "|---|---|---|---|---|---|\n",
       "| Afghanistan |  5          | 0           | 0           |  5          | 0           |\n",
       "| Albania     | 10          | 0           | 0           | 10          | 0           |\n",
       "| Algeria     | 20          | 0           | 0           | 20          | 0           |\n",
       "| Andorra     |  1          | 0           | 0           |  1          | 0           |\n",
       "| Argentina   | 17          | 1           | 0           | 16          | 1           |\n",
       "| Armenia     |  1          | 0           | 0           |  1          | 0           |\n",
       "\n"
      ],
      "text/plain": [
       "  Country     Confirmed Deaths Recovered Active.Cases Closed.Cases\n",
       "1 Afghanistan  5        0      0          5           0           \n",
       "2 Albania     10        0      0         10           0           \n",
       "3 Algeria     20        0      0         20           0           \n",
       "4 Andorra      1        0      0          1           0           \n",
       "5 Argentina   17        1      0         16           1           \n",
       "6 Armenia      1        0      0          1           0           "
      ]
     },
     "metadata": {},
     "output_type": "display_data"
    },
    {
     "data": {
      "text/html": [
       "<table>\n",
       "<thead><tr><th scope=col>X</th><th scope=col>States</th><th scope=col>Country</th><th scope=col>Confirmed</th><th scope=col>Deaths</th><th scope=col>Recovered</th></tr></thead>\n",
       "<tbody>\n",
       "\t<tr><td>1          </td><td>Others     </td><td>Afghanistan</td><td> 5         </td><td>0          </td><td>0          </td></tr>\n",
       "\t<tr><td>2          </td><td>Others     </td><td>Albania    </td><td>10         </td><td>0          </td><td>0          </td></tr>\n",
       "\t<tr><td>3          </td><td>Others     </td><td>Algeria    </td><td>20         </td><td>0          </td><td>0          </td></tr>\n",
       "\t<tr><td>4          </td><td>Others     </td><td>Andorra    </td><td> 1         </td><td>0          </td><td>0          </td></tr>\n",
       "\t<tr><td>5          </td><td>Others     </td><td>Argentina  </td><td>17         </td><td>1          </td><td>0          </td></tr>\n",
       "\t<tr><td>6          </td><td>Others     </td><td>Armenia    </td><td> 1         </td><td>0          </td><td>0          </td></tr>\n",
       "</tbody>\n",
       "</table>\n"
      ],
      "text/latex": [
       "\\begin{tabular}{r|llllll}\n",
       " X & States & Country & Confirmed & Deaths & Recovered\\\\\n",
       "\\hline\n",
       "\t 1           & Others      & Afghanistan &  5          & 0           & 0          \\\\\n",
       "\t 2           & Others      & Albania     & 10          & 0           & 0          \\\\\n",
       "\t 3           & Others      & Algeria     & 20          & 0           & 0          \\\\\n",
       "\t 4           & Others      & Andorra     &  1          & 0           & 0          \\\\\n",
       "\t 5           & Others      & Argentina   & 17          & 1           & 0          \\\\\n",
       "\t 6           & Others      & Armenia     &  1          & 0           & 0          \\\\\n",
       "\\end{tabular}\n"
      ],
      "text/markdown": [
       "\n",
       "| X | States | Country | Confirmed | Deaths | Recovered |\n",
       "|---|---|---|---|---|---|\n",
       "| 1           | Others      | Afghanistan |  5          | 0           | 0           |\n",
       "| 2           | Others      | Albania     | 10          | 0           | 0           |\n",
       "| 3           | Others      | Algeria     | 20          | 0           | 0           |\n",
       "| 4           | Others      | Andorra     |  1          | 0           | 0           |\n",
       "| 5           | Others      | Argentina   | 17          | 1           | 0           |\n",
       "| 6           | Others      | Armenia     |  1          | 0           | 0           |\n",
       "\n"
      ],
      "text/plain": [
       "  X States Country     Confirmed Deaths Recovered\n",
       "1 1 Others Afghanistan  5        0      0        \n",
       "2 2 Others Albania     10        0      0        \n",
       "3 3 Others Algeria     20        0      0        \n",
       "4 4 Others Andorra      1        0      0        \n",
       "5 5 Others Argentina   17        1      0        \n",
       "6 6 Others Armenia      1        0      0        "
      ]
     },
     "metadata": {},
     "output_type": "display_data"
    },
    {
     "data": {
      "text/html": [
       "<table>\n",
       "<thead><tr><th scope=col>Country</th><th scope=col>Day</th><th scope=col>Date</th><th scope=col>Confirmed</th><th scope=col>Deaths</th><th scope=col>Recovered</th><th scope=col>Active.Cases</th><th scope=col>Closed.Cases</th></tr></thead>\n",
       "<tbody>\n",
       "\t<tr><td>Afghanistan</td><td>1          </td><td>21-01-2020 </td><td>0          </td><td>0          </td><td>0          </td><td>0          </td><td>0          </td></tr>\n",
       "\t<tr><td>Afghanistan</td><td>2          </td><td>22-01-2020 </td><td>0          </td><td>0          </td><td>0          </td><td>0          </td><td>0          </td></tr>\n",
       "\t<tr><td>Afghanistan</td><td>3          </td><td>23-01-2020 </td><td>0          </td><td>0          </td><td>0          </td><td>0          </td><td>0          </td></tr>\n",
       "\t<tr><td>Afghanistan</td><td>4          </td><td>24-01-2020 </td><td>0          </td><td>0          </td><td>0          </td><td>0          </td><td>0          </td></tr>\n",
       "\t<tr><td>Afghanistan</td><td>5          </td><td>25-01-2020 </td><td>0          </td><td>0          </td><td>0          </td><td>0          </td><td>0          </td></tr>\n",
       "\t<tr><td>Afghanistan</td><td>6          </td><td>26-01-2020 </td><td>0          </td><td>0          </td><td>0          </td><td>0          </td><td>0          </td></tr>\n",
       "</tbody>\n",
       "</table>\n"
      ],
      "text/latex": [
       "\\begin{tabular}{r|llllllll}\n",
       " Country & Day & Date & Confirmed & Deaths & Recovered & Active.Cases & Closed.Cases\\\\\n",
       "\\hline\n",
       "\t Afghanistan & 1           & 21-01-2020  & 0           & 0           & 0           & 0           & 0          \\\\\n",
       "\t Afghanistan & 2           & 22-01-2020  & 0           & 0           & 0           & 0           & 0          \\\\\n",
       "\t Afghanistan & 3           & 23-01-2020  & 0           & 0           & 0           & 0           & 0          \\\\\n",
       "\t Afghanistan & 4           & 24-01-2020  & 0           & 0           & 0           & 0           & 0          \\\\\n",
       "\t Afghanistan & 5           & 25-01-2020  & 0           & 0           & 0           & 0           & 0          \\\\\n",
       "\t Afghanistan & 6           & 26-01-2020  & 0           & 0           & 0           & 0           & 0          \\\\\n",
       "\\end{tabular}\n"
      ],
      "text/markdown": [
       "\n",
       "| Country | Day | Date | Confirmed | Deaths | Recovered | Active.Cases | Closed.Cases |\n",
       "|---|---|---|---|---|---|---|---|\n",
       "| Afghanistan | 1           | 21-01-2020  | 0           | 0           | 0           | 0           | 0           |\n",
       "| Afghanistan | 2           | 22-01-2020  | 0           | 0           | 0           | 0           | 0           |\n",
       "| Afghanistan | 3           | 23-01-2020  | 0           | 0           | 0           | 0           | 0           |\n",
       "| Afghanistan | 4           | 24-01-2020  | 0           | 0           | 0           | 0           | 0           |\n",
       "| Afghanistan | 5           | 25-01-2020  | 0           | 0           | 0           | 0           | 0           |\n",
       "| Afghanistan | 6           | 26-01-2020  | 0           | 0           | 0           | 0           | 0           |\n",
       "\n"
      ],
      "text/plain": [
       "  Country     Day Date       Confirmed Deaths Recovered Active.Cases\n",
       "1 Afghanistan 1   21-01-2020 0         0      0         0           \n",
       "2 Afghanistan 2   22-01-2020 0         0      0         0           \n",
       "3 Afghanistan 3   23-01-2020 0         0      0         0           \n",
       "4 Afghanistan 4   24-01-2020 0         0      0         0           \n",
       "5 Afghanistan 5   25-01-2020 0         0      0         0           \n",
       "6 Afghanistan 6   26-01-2020 0         0      0         0           \n",
       "  Closed.Cases\n",
       "1 0           \n",
       "2 0           \n",
       "3 0           \n",
       "4 0           \n",
       "5 0           \n",
       "6 0           "
      ]
     },
     "metadata": {},
     "output_type": "display_data"
    },
    {
     "data": {
      "text/html": [
       "<table>\n",
       "<thead><tr><th scope=col>Country</th><th scope=col>Day</th><th scope=col>Date</th><th scope=col>Confirmed</th><th scope=col>Deaths</th><th scope=col>Recovered</th><th scope=col>Active.Cases</th><th scope=col>Closed.Cases</th></tr></thead>\n",
       "<tbody>\n",
       "\t<tr><td>Afghanistan</td><td>1          </td><td>21-01-2020 </td><td>0          </td><td>0          </td><td>0          </td><td>0          </td><td>0          </td></tr>\n",
       "\t<tr><td>Albania    </td><td>1          </td><td>21-01-2020 </td><td>0          </td><td>0          </td><td>0          </td><td>0          </td><td>0          </td></tr>\n",
       "\t<tr><td>Algeria    </td><td>1          </td><td>21-01-2020 </td><td>0          </td><td>0          </td><td>0          </td><td>0          </td><td>0          </td></tr>\n",
       "\t<tr><td>Andorra    </td><td>1          </td><td>21-01-2020 </td><td>0          </td><td>0          </td><td>0          </td><td>0          </td><td>0          </td></tr>\n",
       "\t<tr><td>Argentina  </td><td>1          </td><td>21-01-2020 </td><td>0          </td><td>0          </td><td>0          </td><td>0          </td><td>0          </td></tr>\n",
       "\t<tr><td>Armenia    </td><td>1          </td><td>21-01-2020 </td><td>0          </td><td>0          </td><td>0          </td><td>0          </td><td>0          </td></tr>\n",
       "</tbody>\n",
       "</table>\n"
      ],
      "text/latex": [
       "\\begin{tabular}{r|llllllll}\n",
       " Country & Day & Date & Confirmed & Deaths & Recovered & Active.Cases & Closed.Cases\\\\\n",
       "\\hline\n",
       "\t Afghanistan & 1           & 21-01-2020  & 0           & 0           & 0           & 0           & 0          \\\\\n",
       "\t Albania     & 1           & 21-01-2020  & 0           & 0           & 0           & 0           & 0          \\\\\n",
       "\t Algeria     & 1           & 21-01-2020  & 0           & 0           & 0           & 0           & 0          \\\\\n",
       "\t Andorra     & 1           & 21-01-2020  & 0           & 0           & 0           & 0           & 0          \\\\\n",
       "\t Argentina   & 1           & 21-01-2020  & 0           & 0           & 0           & 0           & 0          \\\\\n",
       "\t Armenia     & 1           & 21-01-2020  & 0           & 0           & 0           & 0           & 0          \\\\\n",
       "\\end{tabular}\n"
      ],
      "text/markdown": [
       "\n",
       "| Country | Day | Date | Confirmed | Deaths | Recovered | Active.Cases | Closed.Cases |\n",
       "|---|---|---|---|---|---|---|---|\n",
       "| Afghanistan | 1           | 21-01-2020  | 0           | 0           | 0           | 0           | 0           |\n",
       "| Albania     | 1           | 21-01-2020  | 0           | 0           | 0           | 0           | 0           |\n",
       "| Algeria     | 1           | 21-01-2020  | 0           | 0           | 0           | 0           | 0           |\n",
       "| Andorra     | 1           | 21-01-2020  | 0           | 0           | 0           | 0           | 0           |\n",
       "| Argentina   | 1           | 21-01-2020  | 0           | 0           | 0           | 0           | 0           |\n",
       "| Armenia     | 1           | 21-01-2020  | 0           | 0           | 0           | 0           | 0           |\n",
       "\n"
      ],
      "text/plain": [
       "  Country     Day Date       Confirmed Deaths Recovered Active.Cases\n",
       "1 Afghanistan 1   21-01-2020 0         0      0         0           \n",
       "2 Albania     1   21-01-2020 0         0      0         0           \n",
       "3 Algeria     1   21-01-2020 0         0      0         0           \n",
       "4 Andorra     1   21-01-2020 0         0      0         0           \n",
       "5 Argentina   1   21-01-2020 0         0      0         0           \n",
       "6 Armenia     1   21-01-2020 0         0      0         0           \n",
       "  Closed.Cases\n",
       "1 0           \n",
       "2 0           \n",
       "3 0           \n",
       "4 0           \n",
       "5 0           \n",
       "6 0           "
      ]
     },
     "metadata": {},
     "output_type": "display_data"
    }
   ],
   "source": [
    "## Viewed\n",
    "head(All.Countries.daily.Confirmed)\n",
    "head(All.Countries.daily.Deaths)\n",
    "head(All.Countries.daily.Recovered)\n",
    "head(All.Countries.summary)\n",
    "head(Mixed.summary)\n",
    "head(Mixed.countryWise.summary)\n",
    "head(Mixed.dateWise.summary)"
   ]
  },
  {
   "cell_type": "markdown",
   "metadata": {},
   "source": [
    "##    World (except China)"
   ]
  },
  {
   "cell_type": "code",
   "execution_count": 13,
   "metadata": {},
   "outputs": [],
   "source": [
    "## Loading\n",
    "World.Countries.daily.Confirmed = read.csv(\"ready_to_use/COVID-19/World/World_Countries_daily_Confirmed.csv\")\n",
    "World.Countries.daily.Deaths = read.csv(\"ready_to_use/COVID-19/World/World_Countries_daily_Deaths.csv\")\n",
    "World.Countries.daily.Recovered = read.csv(\"ready_to_use/COVID-19/World/World_Countries_daily_Recovered.csv\")\n",
    "World.Aggregate.daily.Confirmed = read.csv(\"ready_to_use/COVID-19/World/World_Aggregate_daily_Confirmed.csv\")\n",
    "World.Aggregate.daily.Deaths = read.csv(\"ready_to_use/COVID-19/World/World_Aggregate_daily_Deaths.csv\")\n",
    "World.Aggregate.daily.Recovered = read.csv(\"ready_to_use/COVID-19/World/World_Aggregate_daily_Recovered.csv\")\n",
    "World.Countries.summary = read.csv(\"ready_to_use/COVID-19/World/World_Countries_summary.csv\")\n",
    "World.Aggregate.summary = read.csv(\"ready_to_use/COVID-19/World/World_Aggregate_summary.csv\")\n",
    "World.dataset.dateWise = read.csv(\"ready_to_use/COVID-19/World/World_dataset_dateWise_summary.csv\")"
   ]
  },
  {
   "cell_type": "code",
   "execution_count": 14,
   "metadata": {},
   "outputs": [
    {
     "data": {
      "text/html": [
       "<table>\n",
       "<thead><tr><th scope=col>Country</th><th scope=col>X1.21.20</th><th scope=col>X1.22.20</th><th scope=col>X1.23.20</th><th scope=col>X1.24.20</th><th scope=col>X1.25.20</th><th scope=col>X1.26.20</th><th scope=col>X1.27.20</th><th scope=col>X1.28.20</th><th scope=col>X1.29.20</th><th scope=col>...</th><th scope=col>X3.1.20</th><th scope=col>X3.2.20</th><th scope=col>X3.3.20</th><th scope=col>X3.4.20</th><th scope=col>X3.5.20</th><th scope=col>X3.6.20</th><th scope=col>X3.7.20</th><th scope=col>X3.8.20</th><th scope=col>X3.9.20</th><th scope=col>X3.10.20</th></tr></thead>\n",
       "<tbody>\n",
       "\t<tr><td>Afghanistan</td><td>0          </td><td>0          </td><td>0          </td><td>0          </td><td>0          </td><td>0          </td><td>0          </td><td>0          </td><td>0          </td><td>...        </td><td>1          </td><td>1          </td><td>1          </td><td> 1         </td><td> 1         </td><td> 1         </td><td> 1         </td><td> 4         </td><td> 4         </td><td> 5         </td></tr>\n",
       "\t<tr><td>Albania    </td><td>0          </td><td>0          </td><td>0          </td><td>0          </td><td>0          </td><td>0          </td><td>0          </td><td>0          </td><td>0          </td><td>...        </td><td>0          </td><td>0          </td><td>0          </td><td> 0         </td><td> 0         </td><td> 0         </td><td> 0         </td><td> 0         </td><td> 2         </td><td>10         </td></tr>\n",
       "\t<tr><td>Algeria    </td><td>0          </td><td>0          </td><td>0          </td><td>0          </td><td>0          </td><td>0          </td><td>0          </td><td>0          </td><td>0          </td><td>...        </td><td>1          </td><td>3          </td><td>5          </td><td>12         </td><td>12         </td><td>17         </td><td>17         </td><td>19         </td><td>20         </td><td>20         </td></tr>\n",
       "\t<tr><td>Andorra    </td><td>0          </td><td>0          </td><td>0          </td><td>0          </td><td>0          </td><td>0          </td><td>0          </td><td>0          </td><td>0          </td><td>...        </td><td>0          </td><td>1          </td><td>1          </td><td> 1         </td><td> 1         </td><td> 1         </td><td> 1         </td><td> 1         </td><td> 1         </td><td> 1         </td></tr>\n",
       "\t<tr><td>Argentina  </td><td>0          </td><td>0          </td><td>0          </td><td>0          </td><td>0          </td><td>0          </td><td>0          </td><td>0          </td><td>0          </td><td>...        </td><td>0          </td><td>0          </td><td>1          </td><td> 1         </td><td> 1         </td><td> 2         </td><td> 8         </td><td>12         </td><td>12         </td><td>17         </td></tr>\n",
       "\t<tr><td>Armenia    </td><td>0          </td><td>0          </td><td>0          </td><td>0          </td><td>0          </td><td>0          </td><td>0          </td><td>0          </td><td>0          </td><td>...        </td><td>1          </td><td>1          </td><td>1          </td><td> 1         </td><td> 1         </td><td> 1         </td><td> 1         </td><td> 1         </td><td> 1         </td><td> 1         </td></tr>\n",
       "</tbody>\n",
       "</table>\n"
      ],
      "text/latex": [
       "\\begin{tabular}{r|lllllllllllllllllllllllllllllllllllllllllllllllllll}\n",
       " Country & X1.21.20 & X1.22.20 & X1.23.20 & X1.24.20 & X1.25.20 & X1.26.20 & X1.27.20 & X1.28.20 & X1.29.20 & ... & X3.1.20 & X3.2.20 & X3.3.20 & X3.4.20 & X3.5.20 & X3.6.20 & X3.7.20 & X3.8.20 & X3.9.20 & X3.10.20\\\\\n",
       "\\hline\n",
       "\t Afghanistan & 0           & 0           & 0           & 0           & 0           & 0           & 0           & 0           & 0           & ...         & 1           & 1           & 1           &  1          &  1          &  1          &  1          &  4          &  4          &  5         \\\\\n",
       "\t Albania     & 0           & 0           & 0           & 0           & 0           & 0           & 0           & 0           & 0           & ...         & 0           & 0           & 0           &  0          &  0          &  0          &  0          &  0          &  2          & 10         \\\\\n",
       "\t Algeria     & 0           & 0           & 0           & 0           & 0           & 0           & 0           & 0           & 0           & ...         & 1           & 3           & 5           & 12          & 12          & 17          & 17          & 19          & 20          & 20         \\\\\n",
       "\t Andorra     & 0           & 0           & 0           & 0           & 0           & 0           & 0           & 0           & 0           & ...         & 0           & 1           & 1           &  1          &  1          &  1          &  1          &  1          &  1          &  1         \\\\\n",
       "\t Argentina   & 0           & 0           & 0           & 0           & 0           & 0           & 0           & 0           & 0           & ...         & 0           & 0           & 1           &  1          &  1          &  2          &  8          & 12          & 12          & 17         \\\\\n",
       "\t Armenia     & 0           & 0           & 0           & 0           & 0           & 0           & 0           & 0           & 0           & ...         & 1           & 1           & 1           &  1          &  1          &  1          &  1          &  1          &  1          &  1         \\\\\n",
       "\\end{tabular}\n"
      ],
      "text/markdown": [
       "\n",
       "| Country | X1.21.20 | X1.22.20 | X1.23.20 | X1.24.20 | X1.25.20 | X1.26.20 | X1.27.20 | X1.28.20 | X1.29.20 | ... | X3.1.20 | X3.2.20 | X3.3.20 | X3.4.20 | X3.5.20 | X3.6.20 | X3.7.20 | X3.8.20 | X3.9.20 | X3.10.20 |\n",
       "|---|---|---|---|---|---|---|---|---|---|---|---|---|---|---|---|---|---|---|---|---|\n",
       "| Afghanistan | 0           | 0           | 0           | 0           | 0           | 0           | 0           | 0           | 0           | ...         | 1           | 1           | 1           |  1          |  1          |  1          |  1          |  4          |  4          |  5          |\n",
       "| Albania     | 0           | 0           | 0           | 0           | 0           | 0           | 0           | 0           | 0           | ...         | 0           | 0           | 0           |  0          |  0          |  0          |  0          |  0          |  2          | 10          |\n",
       "| Algeria     | 0           | 0           | 0           | 0           | 0           | 0           | 0           | 0           | 0           | ...         | 1           | 3           | 5           | 12          | 12          | 17          | 17          | 19          | 20          | 20          |\n",
       "| Andorra     | 0           | 0           | 0           | 0           | 0           | 0           | 0           | 0           | 0           | ...         | 0           | 1           | 1           |  1          |  1          |  1          |  1          |  1          |  1          |  1          |\n",
       "| Argentina   | 0           | 0           | 0           | 0           | 0           | 0           | 0           | 0           | 0           | ...         | 0           | 0           | 1           |  1          |  1          |  2          |  8          | 12          | 12          | 17          |\n",
       "| Armenia     | 0           | 0           | 0           | 0           | 0           | 0           | 0           | 0           | 0           | ...         | 1           | 1           | 1           |  1          |  1          |  1          |  1          |  1          |  1          |  1          |\n",
       "\n"
      ],
      "text/plain": [
       "  Country     X1.21.20 X1.22.20 X1.23.20 X1.24.20 X1.25.20 X1.26.20 X1.27.20\n",
       "1 Afghanistan 0        0        0        0        0        0        0       \n",
       "2 Albania     0        0        0        0        0        0        0       \n",
       "3 Algeria     0        0        0        0        0        0        0       \n",
       "4 Andorra     0        0        0        0        0        0        0       \n",
       "5 Argentina   0        0        0        0        0        0        0       \n",
       "6 Armenia     0        0        0        0        0        0        0       \n",
       "  X1.28.20 X1.29.20 ... X3.1.20 X3.2.20 X3.3.20 X3.4.20 X3.5.20 X3.6.20 X3.7.20\n",
       "1 0        0        ... 1       1       1        1       1       1       1     \n",
       "2 0        0        ... 0       0       0        0       0       0       0     \n",
       "3 0        0        ... 1       3       5       12      12      17      17     \n",
       "4 0        0        ... 0       1       1        1       1       1       1     \n",
       "5 0        0        ... 0       0       1        1       1       2       8     \n",
       "6 0        0        ... 1       1       1        1       1       1       1     \n",
       "  X3.8.20 X3.9.20 X3.10.20\n",
       "1  4       4       5      \n",
       "2  0       2      10      \n",
       "3 19      20      20      \n",
       "4  1       1       1      \n",
       "5 12      12      17      \n",
       "6  1       1       1      "
      ]
     },
     "metadata": {},
     "output_type": "display_data"
    },
    {
     "data": {
      "text/html": [
       "<table>\n",
       "<thead><tr><th scope=col>Country</th><th scope=col>X1.21.20</th><th scope=col>X1.22.20</th><th scope=col>X1.23.20</th><th scope=col>X1.24.20</th><th scope=col>X1.25.20</th><th scope=col>X1.26.20</th><th scope=col>X1.27.20</th><th scope=col>X1.28.20</th><th scope=col>X1.29.20</th><th scope=col>...</th><th scope=col>X3.1.20</th><th scope=col>X3.2.20</th><th scope=col>X3.3.20</th><th scope=col>X3.4.20</th><th scope=col>X3.5.20</th><th scope=col>X3.6.20</th><th scope=col>X3.7.20</th><th scope=col>X3.8.20</th><th scope=col>X3.9.20</th><th scope=col>X3.10.20</th></tr></thead>\n",
       "<tbody>\n",
       "\t<tr><td>Afghanistan</td><td>0          </td><td>0          </td><td>0          </td><td>0          </td><td>0          </td><td>0          </td><td>0          </td><td>0          </td><td>0          </td><td>...        </td><td>0          </td><td>0          </td><td>0          </td><td>0          </td><td>0          </td><td>0          </td><td>0          </td><td>0          </td><td>0          </td><td>0          </td></tr>\n",
       "\t<tr><td>Albania    </td><td>0          </td><td>0          </td><td>0          </td><td>0          </td><td>0          </td><td>0          </td><td>0          </td><td>0          </td><td>0          </td><td>...        </td><td>0          </td><td>0          </td><td>0          </td><td>0          </td><td>0          </td><td>0          </td><td>0          </td><td>0          </td><td>0          </td><td>0          </td></tr>\n",
       "\t<tr><td>Algeria    </td><td>0          </td><td>0          </td><td>0          </td><td>0          </td><td>0          </td><td>0          </td><td>0          </td><td>0          </td><td>0          </td><td>...        </td><td>0          </td><td>0          </td><td>0          </td><td>0          </td><td>0          </td><td>0          </td><td>0          </td><td>0          </td><td>0          </td><td>0          </td></tr>\n",
       "\t<tr><td>Andorra    </td><td>0          </td><td>0          </td><td>0          </td><td>0          </td><td>0          </td><td>0          </td><td>0          </td><td>0          </td><td>0          </td><td>...        </td><td>0          </td><td>0          </td><td>0          </td><td>0          </td><td>0          </td><td>0          </td><td>0          </td><td>0          </td><td>0          </td><td>0          </td></tr>\n",
       "\t<tr><td>Argentina  </td><td>0          </td><td>0          </td><td>0          </td><td>0          </td><td>0          </td><td>0          </td><td>0          </td><td>0          </td><td>0          </td><td>...        </td><td>0          </td><td>0          </td><td>0          </td><td>0          </td><td>0          </td><td>0          </td><td>0          </td><td>1          </td><td>1          </td><td>1          </td></tr>\n",
       "\t<tr><td>Armenia    </td><td>0          </td><td>0          </td><td>0          </td><td>0          </td><td>0          </td><td>0          </td><td>0          </td><td>0          </td><td>0          </td><td>...        </td><td>0          </td><td>0          </td><td>0          </td><td>0          </td><td>0          </td><td>0          </td><td>0          </td><td>0          </td><td>0          </td><td>0          </td></tr>\n",
       "</tbody>\n",
       "</table>\n"
      ],
      "text/latex": [
       "\\begin{tabular}{r|lllllllllllllllllllllllllllllllllllllllllllllllllll}\n",
       " Country & X1.21.20 & X1.22.20 & X1.23.20 & X1.24.20 & X1.25.20 & X1.26.20 & X1.27.20 & X1.28.20 & X1.29.20 & ... & X3.1.20 & X3.2.20 & X3.3.20 & X3.4.20 & X3.5.20 & X3.6.20 & X3.7.20 & X3.8.20 & X3.9.20 & X3.10.20\\\\\n",
       "\\hline\n",
       "\t Afghanistan & 0           & 0           & 0           & 0           & 0           & 0           & 0           & 0           & 0           & ...         & 0           & 0           & 0           & 0           & 0           & 0           & 0           & 0           & 0           & 0          \\\\\n",
       "\t Albania     & 0           & 0           & 0           & 0           & 0           & 0           & 0           & 0           & 0           & ...         & 0           & 0           & 0           & 0           & 0           & 0           & 0           & 0           & 0           & 0          \\\\\n",
       "\t Algeria     & 0           & 0           & 0           & 0           & 0           & 0           & 0           & 0           & 0           & ...         & 0           & 0           & 0           & 0           & 0           & 0           & 0           & 0           & 0           & 0          \\\\\n",
       "\t Andorra     & 0           & 0           & 0           & 0           & 0           & 0           & 0           & 0           & 0           & ...         & 0           & 0           & 0           & 0           & 0           & 0           & 0           & 0           & 0           & 0          \\\\\n",
       "\t Argentina   & 0           & 0           & 0           & 0           & 0           & 0           & 0           & 0           & 0           & ...         & 0           & 0           & 0           & 0           & 0           & 0           & 0           & 1           & 1           & 1          \\\\\n",
       "\t Armenia     & 0           & 0           & 0           & 0           & 0           & 0           & 0           & 0           & 0           & ...         & 0           & 0           & 0           & 0           & 0           & 0           & 0           & 0           & 0           & 0          \\\\\n",
       "\\end{tabular}\n"
      ],
      "text/markdown": [
       "\n",
       "| Country | X1.21.20 | X1.22.20 | X1.23.20 | X1.24.20 | X1.25.20 | X1.26.20 | X1.27.20 | X1.28.20 | X1.29.20 | ... | X3.1.20 | X3.2.20 | X3.3.20 | X3.4.20 | X3.5.20 | X3.6.20 | X3.7.20 | X3.8.20 | X3.9.20 | X3.10.20 |\n",
       "|---|---|---|---|---|---|---|---|---|---|---|---|---|---|---|---|---|---|---|---|---|\n",
       "| Afghanistan | 0           | 0           | 0           | 0           | 0           | 0           | 0           | 0           | 0           | ...         | 0           | 0           | 0           | 0           | 0           | 0           | 0           | 0           | 0           | 0           |\n",
       "| Albania     | 0           | 0           | 0           | 0           | 0           | 0           | 0           | 0           | 0           | ...         | 0           | 0           | 0           | 0           | 0           | 0           | 0           | 0           | 0           | 0           |\n",
       "| Algeria     | 0           | 0           | 0           | 0           | 0           | 0           | 0           | 0           | 0           | ...         | 0           | 0           | 0           | 0           | 0           | 0           | 0           | 0           | 0           | 0           |\n",
       "| Andorra     | 0           | 0           | 0           | 0           | 0           | 0           | 0           | 0           | 0           | ...         | 0           | 0           | 0           | 0           | 0           | 0           | 0           | 0           | 0           | 0           |\n",
       "| Argentina   | 0           | 0           | 0           | 0           | 0           | 0           | 0           | 0           | 0           | ...         | 0           | 0           | 0           | 0           | 0           | 0           | 0           | 1           | 1           | 1           |\n",
       "| Armenia     | 0           | 0           | 0           | 0           | 0           | 0           | 0           | 0           | 0           | ...         | 0           | 0           | 0           | 0           | 0           | 0           | 0           | 0           | 0           | 0           |\n",
       "\n"
      ],
      "text/plain": [
       "  Country     X1.21.20 X1.22.20 X1.23.20 X1.24.20 X1.25.20 X1.26.20 X1.27.20\n",
       "1 Afghanistan 0        0        0        0        0        0        0       \n",
       "2 Albania     0        0        0        0        0        0        0       \n",
       "3 Algeria     0        0        0        0        0        0        0       \n",
       "4 Andorra     0        0        0        0        0        0        0       \n",
       "5 Argentina   0        0        0        0        0        0        0       \n",
       "6 Armenia     0        0        0        0        0        0        0       \n",
       "  X1.28.20 X1.29.20 ... X3.1.20 X3.2.20 X3.3.20 X3.4.20 X3.5.20 X3.6.20 X3.7.20\n",
       "1 0        0        ... 0       0       0       0       0       0       0      \n",
       "2 0        0        ... 0       0       0       0       0       0       0      \n",
       "3 0        0        ... 0       0       0       0       0       0       0      \n",
       "4 0        0        ... 0       0       0       0       0       0       0      \n",
       "5 0        0        ... 0       0       0       0       0       0       0      \n",
       "6 0        0        ... 0       0       0       0       0       0       0      \n",
       "  X3.8.20 X3.9.20 X3.10.20\n",
       "1 0       0       0       \n",
       "2 0       0       0       \n",
       "3 0       0       0       \n",
       "4 0       0       0       \n",
       "5 1       1       1       \n",
       "6 0       0       0       "
      ]
     },
     "metadata": {},
     "output_type": "display_data"
    },
    {
     "data": {
      "text/html": [
       "<table>\n",
       "<thead><tr><th scope=col>Country</th><th scope=col>X1.21.20</th><th scope=col>X1.22.20</th><th scope=col>X1.23.20</th><th scope=col>X1.24.20</th><th scope=col>X1.25.20</th><th scope=col>X1.26.20</th><th scope=col>X1.27.20</th><th scope=col>X1.28.20</th><th scope=col>X1.29.20</th><th scope=col>...</th><th scope=col>X3.1.20</th><th scope=col>X3.2.20</th><th scope=col>X3.3.20</th><th scope=col>X3.4.20</th><th scope=col>X3.5.20</th><th scope=col>X3.6.20</th><th scope=col>X3.7.20</th><th scope=col>X3.8.20</th><th scope=col>X3.9.20</th><th scope=col>X3.10.20</th></tr></thead>\n",
       "<tbody>\n",
       "\t<tr><td>Afghanistan</td><td>0          </td><td>0          </td><td>0          </td><td>0          </td><td>0          </td><td>0          </td><td>0          </td><td>0          </td><td>0          </td><td>...        </td><td>0          </td><td>0          </td><td>0          </td><td>0          </td><td>0          </td><td>0          </td><td>0          </td><td>0          </td><td>0          </td><td>0          </td></tr>\n",
       "\t<tr><td>Albania    </td><td>0          </td><td>0          </td><td>0          </td><td>0          </td><td>0          </td><td>0          </td><td>0          </td><td>0          </td><td>0          </td><td>...        </td><td>0          </td><td>0          </td><td>0          </td><td>0          </td><td>0          </td><td>0          </td><td>0          </td><td>0          </td><td>0          </td><td>0          </td></tr>\n",
       "\t<tr><td>Algeria    </td><td>0          </td><td>0          </td><td>0          </td><td>0          </td><td>0          </td><td>0          </td><td>0          </td><td>0          </td><td>0          </td><td>...        </td><td>0          </td><td>0          </td><td>0          </td><td>0          </td><td>0          </td><td>0          </td><td>0          </td><td>0          </td><td>0          </td><td>0          </td></tr>\n",
       "\t<tr><td>Andorra    </td><td>0          </td><td>0          </td><td>0          </td><td>0          </td><td>0          </td><td>0          </td><td>0          </td><td>0          </td><td>0          </td><td>...        </td><td>0          </td><td>0          </td><td>0          </td><td>0          </td><td>0          </td><td>0          </td><td>0          </td><td>0          </td><td>0          </td><td>0          </td></tr>\n",
       "\t<tr><td>Argentina  </td><td>0          </td><td>0          </td><td>0          </td><td>0          </td><td>0          </td><td>0          </td><td>0          </td><td>0          </td><td>0          </td><td>...        </td><td>0          </td><td>0          </td><td>0          </td><td>0          </td><td>0          </td><td>0          </td><td>0          </td><td>0          </td><td>0          </td><td>0          </td></tr>\n",
       "\t<tr><td>Armenia    </td><td>0          </td><td>0          </td><td>0          </td><td>0          </td><td>0          </td><td>0          </td><td>0          </td><td>0          </td><td>0          </td><td>...        </td><td>0          </td><td>0          </td><td>0          </td><td>0          </td><td>0          </td><td>0          </td><td>0          </td><td>0          </td><td>0          </td><td>0          </td></tr>\n",
       "</tbody>\n",
       "</table>\n"
      ],
      "text/latex": [
       "\\begin{tabular}{r|lllllllllllllllllllllllllllllllllllllllllllllllllll}\n",
       " Country & X1.21.20 & X1.22.20 & X1.23.20 & X1.24.20 & X1.25.20 & X1.26.20 & X1.27.20 & X1.28.20 & X1.29.20 & ... & X3.1.20 & X3.2.20 & X3.3.20 & X3.4.20 & X3.5.20 & X3.6.20 & X3.7.20 & X3.8.20 & X3.9.20 & X3.10.20\\\\\n",
       "\\hline\n",
       "\t Afghanistan & 0           & 0           & 0           & 0           & 0           & 0           & 0           & 0           & 0           & ...         & 0           & 0           & 0           & 0           & 0           & 0           & 0           & 0           & 0           & 0          \\\\\n",
       "\t Albania     & 0           & 0           & 0           & 0           & 0           & 0           & 0           & 0           & 0           & ...         & 0           & 0           & 0           & 0           & 0           & 0           & 0           & 0           & 0           & 0          \\\\\n",
       "\t Algeria     & 0           & 0           & 0           & 0           & 0           & 0           & 0           & 0           & 0           & ...         & 0           & 0           & 0           & 0           & 0           & 0           & 0           & 0           & 0           & 0          \\\\\n",
       "\t Andorra     & 0           & 0           & 0           & 0           & 0           & 0           & 0           & 0           & 0           & ...         & 0           & 0           & 0           & 0           & 0           & 0           & 0           & 0           & 0           & 0          \\\\\n",
       "\t Argentina   & 0           & 0           & 0           & 0           & 0           & 0           & 0           & 0           & 0           & ...         & 0           & 0           & 0           & 0           & 0           & 0           & 0           & 0           & 0           & 0          \\\\\n",
       "\t Armenia     & 0           & 0           & 0           & 0           & 0           & 0           & 0           & 0           & 0           & ...         & 0           & 0           & 0           & 0           & 0           & 0           & 0           & 0           & 0           & 0          \\\\\n",
       "\\end{tabular}\n"
      ],
      "text/markdown": [
       "\n",
       "| Country | X1.21.20 | X1.22.20 | X1.23.20 | X1.24.20 | X1.25.20 | X1.26.20 | X1.27.20 | X1.28.20 | X1.29.20 | ... | X3.1.20 | X3.2.20 | X3.3.20 | X3.4.20 | X3.5.20 | X3.6.20 | X3.7.20 | X3.8.20 | X3.9.20 | X3.10.20 |\n",
       "|---|---|---|---|---|---|---|---|---|---|---|---|---|---|---|---|---|---|---|---|---|\n",
       "| Afghanistan | 0           | 0           | 0           | 0           | 0           | 0           | 0           | 0           | 0           | ...         | 0           | 0           | 0           | 0           | 0           | 0           | 0           | 0           | 0           | 0           |\n",
       "| Albania     | 0           | 0           | 0           | 0           | 0           | 0           | 0           | 0           | 0           | ...         | 0           | 0           | 0           | 0           | 0           | 0           | 0           | 0           | 0           | 0           |\n",
       "| Algeria     | 0           | 0           | 0           | 0           | 0           | 0           | 0           | 0           | 0           | ...         | 0           | 0           | 0           | 0           | 0           | 0           | 0           | 0           | 0           | 0           |\n",
       "| Andorra     | 0           | 0           | 0           | 0           | 0           | 0           | 0           | 0           | 0           | ...         | 0           | 0           | 0           | 0           | 0           | 0           | 0           | 0           | 0           | 0           |\n",
       "| Argentina   | 0           | 0           | 0           | 0           | 0           | 0           | 0           | 0           | 0           | ...         | 0           | 0           | 0           | 0           | 0           | 0           | 0           | 0           | 0           | 0           |\n",
       "| Armenia     | 0           | 0           | 0           | 0           | 0           | 0           | 0           | 0           | 0           | ...         | 0           | 0           | 0           | 0           | 0           | 0           | 0           | 0           | 0           | 0           |\n",
       "\n"
      ],
      "text/plain": [
       "  Country     X1.21.20 X1.22.20 X1.23.20 X1.24.20 X1.25.20 X1.26.20 X1.27.20\n",
       "1 Afghanistan 0        0        0        0        0        0        0       \n",
       "2 Albania     0        0        0        0        0        0        0       \n",
       "3 Algeria     0        0        0        0        0        0        0       \n",
       "4 Andorra     0        0        0        0        0        0        0       \n",
       "5 Argentina   0        0        0        0        0        0        0       \n",
       "6 Armenia     0        0        0        0        0        0        0       \n",
       "  X1.28.20 X1.29.20 ... X3.1.20 X3.2.20 X3.3.20 X3.4.20 X3.5.20 X3.6.20 X3.7.20\n",
       "1 0        0        ... 0       0       0       0       0       0       0      \n",
       "2 0        0        ... 0       0       0       0       0       0       0      \n",
       "3 0        0        ... 0       0       0       0       0       0       0      \n",
       "4 0        0        ... 0       0       0       0       0       0       0      \n",
       "5 0        0        ... 0       0       0       0       0       0       0      \n",
       "6 0        0        ... 0       0       0       0       0       0       0      \n",
       "  X3.8.20 X3.9.20 X3.10.20\n",
       "1 0       0       0       \n",
       "2 0       0       0       \n",
       "3 0       0       0       \n",
       "4 0       0       0       \n",
       "5 0       0       0       \n",
       "6 0       0       0       "
      ]
     },
     "metadata": {},
     "output_type": "display_data"
    },
    {
     "data": {
      "text/html": [
       "<table>\n",
       "<thead><tr><th scope=col>Location</th><th scope=col>X1.21.20</th><th scope=col>X1.22.20</th><th scope=col>X1.23.20</th><th scope=col>X1.24.20</th><th scope=col>X1.25.20</th><th scope=col>X1.26.20</th><th scope=col>X1.27.20</th><th scope=col>X1.28.20</th><th scope=col>X1.29.20</th><th scope=col>...</th><th scope=col>X3.1.20</th><th scope=col>X3.2.20</th><th scope=col>X3.3.20</th><th scope=col>X3.4.20</th><th scope=col>X3.5.20</th><th scope=col>X3.6.20</th><th scope=col>X3.7.20</th><th scope=col>X3.8.20</th><th scope=col>X3.9.20</th><th scope=col>X3.10.20</th></tr></thead>\n",
       "<tbody>\n",
       "\t<tr><td>World</td><td>60   </td><td>111  </td><td>209  </td><td>392  </td><td>673  </td><td>1060 </td><td>1504 </td><td>2024 </td><td>2612 </td><td>...  </td><td>20759</td><td>22501</td><td>24920</td><td>27085</td><td>29713</td><td>33511</td><td>37473</td><td>41411</td><td>45144</td><td>50259</td></tr>\n",
       "</tbody>\n",
       "</table>\n"
      ],
      "text/latex": [
       "\\begin{tabular}{r|lllllllllllllllllllllllllllllllllllllllllllllllllll}\n",
       " Location & X1.21.20 & X1.22.20 & X1.23.20 & X1.24.20 & X1.25.20 & X1.26.20 & X1.27.20 & X1.28.20 & X1.29.20 & ... & X3.1.20 & X3.2.20 & X3.3.20 & X3.4.20 & X3.5.20 & X3.6.20 & X3.7.20 & X3.8.20 & X3.9.20 & X3.10.20\\\\\n",
       "\\hline\n",
       "\t World & 60    & 111   & 209   & 392   & 673   & 1060  & 1504  & 2024  & 2612  & ...   & 20759 & 22501 & 24920 & 27085 & 29713 & 33511 & 37473 & 41411 & 45144 & 50259\\\\\n",
       "\\end{tabular}\n"
      ],
      "text/markdown": [
       "\n",
       "| Location | X1.21.20 | X1.22.20 | X1.23.20 | X1.24.20 | X1.25.20 | X1.26.20 | X1.27.20 | X1.28.20 | X1.29.20 | ... | X3.1.20 | X3.2.20 | X3.3.20 | X3.4.20 | X3.5.20 | X3.6.20 | X3.7.20 | X3.8.20 | X3.9.20 | X3.10.20 |\n",
       "|---|---|---|---|---|---|---|---|---|---|---|---|---|---|---|---|---|---|---|---|---|\n",
       "| World | 60    | 111   | 209   | 392   | 673   | 1060  | 1504  | 2024  | 2612  | ...   | 20759 | 22501 | 24920 | 27085 | 29713 | 33511 | 37473 | 41411 | 45144 | 50259 |\n",
       "\n"
      ],
      "text/plain": [
       "  Location X1.21.20 X1.22.20 X1.23.20 X1.24.20 X1.25.20 X1.26.20 X1.27.20\n",
       "1 World    60       111      209      392      673      1060     1504    \n",
       "  X1.28.20 X1.29.20 ... X3.1.20 X3.2.20 X3.3.20 X3.4.20 X3.5.20 X3.6.20 X3.7.20\n",
       "1 2024     2612     ... 20759   22501   24920   27085   29713   33511   37473  \n",
       "  X3.8.20 X3.9.20 X3.10.20\n",
       "1 41411   45144   50259   "
      ]
     },
     "metadata": {},
     "output_type": "display_data"
    },
    {
     "data": {
      "text/html": [
       "<table>\n",
       "<thead><tr><th scope=col>Location</th><th scope=col>X1.21.20</th><th scope=col>X1.22.20</th><th scope=col>X1.23.20</th><th scope=col>X1.24.20</th><th scope=col>X1.25.20</th><th scope=col>X1.26.20</th><th scope=col>X1.27.20</th><th scope=col>X1.28.20</th><th scope=col>X1.29.20</th><th scope=col>...</th><th scope=col>X3.1.20</th><th scope=col>X3.2.20</th><th scope=col>X3.3.20</th><th scope=col>X3.4.20</th><th scope=col>X3.5.20</th><th scope=col>X3.6.20</th><th scope=col>X3.7.20</th><th scope=col>X3.8.20</th><th scope=col>X3.9.20</th><th scope=col>X3.10.20</th></tr></thead>\n",
       "<tbody>\n",
       "\t<tr><td>World</td><td>0    </td><td>0    </td><td>0    </td><td>0    </td><td>0    </td><td>0    </td><td>0    </td><td>0    </td><td>0    </td><td>...  </td><td>120  </td><td>167  </td><td>209  </td><td>267  </td><td>329  </td><td>412  </td><td>482  </td><td>700  </td><td>870  </td><td>1123 </td></tr>\n",
       "</tbody>\n",
       "</table>\n"
      ],
      "text/latex": [
       "\\begin{tabular}{r|lllllllllllllllllllllllllllllllllllllllllllllllllll}\n",
       " Location & X1.21.20 & X1.22.20 & X1.23.20 & X1.24.20 & X1.25.20 & X1.26.20 & X1.27.20 & X1.28.20 & X1.29.20 & ... & X3.1.20 & X3.2.20 & X3.3.20 & X3.4.20 & X3.5.20 & X3.6.20 & X3.7.20 & X3.8.20 & X3.9.20 & X3.10.20\\\\\n",
       "\\hline\n",
       "\t World & 0     & 0     & 0     & 0     & 0     & 0     & 0     & 0     & 0     & ...   & 120   & 167   & 209   & 267   & 329   & 412   & 482   & 700   & 870   & 1123 \\\\\n",
       "\\end{tabular}\n"
      ],
      "text/markdown": [
       "\n",
       "| Location | X1.21.20 | X1.22.20 | X1.23.20 | X1.24.20 | X1.25.20 | X1.26.20 | X1.27.20 | X1.28.20 | X1.29.20 | ... | X3.1.20 | X3.2.20 | X3.3.20 | X3.4.20 | X3.5.20 | X3.6.20 | X3.7.20 | X3.8.20 | X3.9.20 | X3.10.20 |\n",
       "|---|---|---|---|---|---|---|---|---|---|---|---|---|---|---|---|---|---|---|---|---|\n",
       "| World | 0     | 0     | 0     | 0     | 0     | 0     | 0     | 0     | 0     | ...   | 120   | 167   | 209   | 267   | 329   | 412   | 482   | 700   | 870   | 1123  |\n",
       "\n"
      ],
      "text/plain": [
       "  Location X1.21.20 X1.22.20 X1.23.20 X1.24.20 X1.25.20 X1.26.20 X1.27.20\n",
       "1 World    0        0        0        0        0        0        0       \n",
       "  X1.28.20 X1.29.20 ... X3.1.20 X3.2.20 X3.3.20 X3.4.20 X3.5.20 X3.6.20 X3.7.20\n",
       "1 0        0        ... 120     167     209     267     329     412     482    \n",
       "  X3.8.20 X3.9.20 X3.10.20\n",
       "1 700     870     1123    "
      ]
     },
     "metadata": {},
     "output_type": "display_data"
    },
    {
     "data": {
      "text/html": [
       "<table>\n",
       "<thead><tr><th scope=col>Location</th><th scope=col>X1.21.20</th><th scope=col>X1.22.20</th><th scope=col>X1.23.20</th><th scope=col>X1.24.20</th><th scope=col>X1.25.20</th><th scope=col>X1.26.20</th><th scope=col>X1.27.20</th><th scope=col>X1.28.20</th><th scope=col>X1.29.20</th><th scope=col>...</th><th scope=col>X3.1.20</th><th scope=col>X3.2.20</th><th scope=col>X3.3.20</th><th scope=col>X3.4.20</th><th scope=col>X3.5.20</th><th scope=col>X3.6.20</th><th scope=col>X3.7.20</th><th scope=col>X3.8.20</th><th scope=col>X3.9.20</th><th scope=col>X3.10.20</th></tr></thead>\n",
       "<tbody>\n",
       "\t<tr><td>World</td><td>0    </td><td>0    </td><td>0    </td><td>0    </td><td>0    </td><td>3    </td><td>3    </td><td>6    </td><td>6    </td><td>...  </td><td>588  </td><td>782  </td><td>815  </td><td>1206 </td><td>1547 </td><td>1938 </td><td>2841 </td><td>3335 </td><td>3737 </td><td>4326 </td></tr>\n",
       "</tbody>\n",
       "</table>\n"
      ],
      "text/latex": [
       "\\begin{tabular}{r|lllllllllllllllllllllllllllllllllllllllllllllllllll}\n",
       " Location & X1.21.20 & X1.22.20 & X1.23.20 & X1.24.20 & X1.25.20 & X1.26.20 & X1.27.20 & X1.28.20 & X1.29.20 & ... & X3.1.20 & X3.2.20 & X3.3.20 & X3.4.20 & X3.5.20 & X3.6.20 & X3.7.20 & X3.8.20 & X3.9.20 & X3.10.20\\\\\n",
       "\\hline\n",
       "\t World & 0     & 0     & 0     & 0     & 0     & 3     & 3     & 6     & 6     & ...   & 588   & 782   & 815   & 1206  & 1547  & 1938  & 2841  & 3335  & 3737  & 4326 \\\\\n",
       "\\end{tabular}\n"
      ],
      "text/markdown": [
       "\n",
       "| Location | X1.21.20 | X1.22.20 | X1.23.20 | X1.24.20 | X1.25.20 | X1.26.20 | X1.27.20 | X1.28.20 | X1.29.20 | ... | X3.1.20 | X3.2.20 | X3.3.20 | X3.4.20 | X3.5.20 | X3.6.20 | X3.7.20 | X3.8.20 | X3.9.20 | X3.10.20 |\n",
       "|---|---|---|---|---|---|---|---|---|---|---|---|---|---|---|---|---|---|---|---|---|\n",
       "| World | 0     | 0     | 0     | 0     | 0     | 3     | 3     | 6     | 6     | ...   | 588   | 782   | 815   | 1206  | 1547  | 1938  | 2841  | 3335  | 3737  | 4326  |\n",
       "\n"
      ],
      "text/plain": [
       "  Location X1.21.20 X1.22.20 X1.23.20 X1.24.20 X1.25.20 X1.26.20 X1.27.20\n",
       "1 World    0        0        0        0        0        3        3       \n",
       "  X1.28.20 X1.29.20 ... X3.1.20 X3.2.20 X3.3.20 X3.4.20 X3.5.20 X3.6.20 X3.7.20\n",
       "1 6        6        ... 588     782     815     1206    1547    1938    2841   \n",
       "  X3.8.20 X3.9.20 X3.10.20\n",
       "1 3335    3737    4326    "
      ]
     },
     "metadata": {},
     "output_type": "display_data"
    },
    {
     "data": {
      "text/html": [
       "<table>\n",
       "<thead><tr><th scope=col>Country</th><th scope=col>Confirmed</th><th scope=col>Deaths</th><th scope=col>Recovered</th><th scope=col>Active.Cases</th><th scope=col>Closed.Cases</th></tr></thead>\n",
       "<tbody>\n",
       "\t<tr><td>Afghanistan</td><td> 5         </td><td>0          </td><td>0          </td><td> 5         </td><td>0          </td></tr>\n",
       "\t<tr><td>Albania    </td><td>10         </td><td>0          </td><td>0          </td><td>10         </td><td>0          </td></tr>\n",
       "\t<tr><td>Algeria    </td><td>20         </td><td>0          </td><td>0          </td><td>20         </td><td>0          </td></tr>\n",
       "\t<tr><td>Andorra    </td><td> 1         </td><td>0          </td><td>0          </td><td> 1         </td><td>0          </td></tr>\n",
       "\t<tr><td>Argentina  </td><td>17         </td><td>1          </td><td>0          </td><td>16         </td><td>1          </td></tr>\n",
       "\t<tr><td>Armenia    </td><td> 1         </td><td>0          </td><td>0          </td><td> 1         </td><td>0          </td></tr>\n",
       "</tbody>\n",
       "</table>\n"
      ],
      "text/latex": [
       "\\begin{tabular}{r|llllll}\n",
       " Country & Confirmed & Deaths & Recovered & Active.Cases & Closed.Cases\\\\\n",
       "\\hline\n",
       "\t Afghanistan &  5          & 0           & 0           &  5          & 0          \\\\\n",
       "\t Albania     & 10          & 0           & 0           & 10          & 0          \\\\\n",
       "\t Algeria     & 20          & 0           & 0           & 20          & 0          \\\\\n",
       "\t Andorra     &  1          & 0           & 0           &  1          & 0          \\\\\n",
       "\t Argentina   & 17          & 1           & 0           & 16          & 1          \\\\\n",
       "\t Armenia     &  1          & 0           & 0           &  1          & 0          \\\\\n",
       "\\end{tabular}\n"
      ],
      "text/markdown": [
       "\n",
       "| Country | Confirmed | Deaths | Recovered | Active.Cases | Closed.Cases |\n",
       "|---|---|---|---|---|---|\n",
       "| Afghanistan |  5          | 0           | 0           |  5          | 0           |\n",
       "| Albania     | 10          | 0           | 0           | 10          | 0           |\n",
       "| Algeria     | 20          | 0           | 0           | 20          | 0           |\n",
       "| Andorra     |  1          | 0           | 0           |  1          | 0           |\n",
       "| Argentina   | 17          | 1           | 0           | 16          | 1           |\n",
       "| Armenia     |  1          | 0           | 0           |  1          | 0           |\n",
       "\n"
      ],
      "text/plain": [
       "  Country     Confirmed Deaths Recovered Active.Cases Closed.Cases\n",
       "1 Afghanistan  5        0      0          5           0           \n",
       "2 Albania     10        0      0         10           0           \n",
       "3 Algeria     20        0      0         20           0           \n",
       "4 Andorra      1        0      0          1           0           \n",
       "5 Argentina   17        1      0         16           1           \n",
       "6 Armenia      1        0      0          1           0           "
      ]
     },
     "metadata": {},
     "output_type": "display_data"
    },
    {
     "data": {
      "text/html": [
       "<table>\n",
       "<thead><tr><th scope=col>Location</th><th scope=col>Confirmed</th><th scope=col>Deaths</th><th scope=col>Recovered</th><th scope=col>Active.Cases</th><th scope=col>Closed.Cases</th></tr></thead>\n",
       "<tbody>\n",
       "\t<tr><td>World</td><td>37262</td><td>1123 </td><td>4326 </td><td>31813</td><td>5449 </td></tr>\n",
       "</tbody>\n",
       "</table>\n"
      ],
      "text/latex": [
       "\\begin{tabular}{r|llllll}\n",
       " Location & Confirmed & Deaths & Recovered & Active.Cases & Closed.Cases\\\\\n",
       "\\hline\n",
       "\t World & 37262 & 1123  & 4326  & 31813 & 5449 \\\\\n",
       "\\end{tabular}\n"
      ],
      "text/markdown": [
       "\n",
       "| Location | Confirmed | Deaths | Recovered | Active.Cases | Closed.Cases |\n",
       "|---|---|---|---|---|---|\n",
       "| World | 37262 | 1123  | 4326  | 31813 | 5449  |\n",
       "\n"
      ],
      "text/plain": [
       "  Location Confirmed Deaths Recovered Active.Cases Closed.Cases\n",
       "1 World    37262     1123   4326      31813        5449        "
      ]
     },
     "metadata": {},
     "output_type": "display_data"
    },
    {
     "data": {
      "text/html": [
       "<table>\n",
       "<thead><tr><th scope=col>Location</th><th scope=col>Day</th><th scope=col>Date</th><th scope=col>Confirmed</th><th scope=col>Deaths</th><th scope=col>Recovered</th><th scope=col>Active.Cases</th><th scope=col>Closed.Cases</th></tr></thead>\n",
       "<tbody>\n",
       "\t<tr><td>World     </td><td>1         </td><td>21-01-2020</td><td>  60      </td><td>0         </td><td>0         </td><td>  60      </td><td>0         </td></tr>\n",
       "\t<tr><td>World     </td><td>2         </td><td>22-01-2020</td><td> 111      </td><td>0         </td><td>0         </td><td> 111      </td><td>0         </td></tr>\n",
       "\t<tr><td>World     </td><td>3         </td><td>23-01-2020</td><td> 209      </td><td>0         </td><td>0         </td><td> 209      </td><td>0         </td></tr>\n",
       "\t<tr><td>World     </td><td>4         </td><td>24-01-2020</td><td> 392      </td><td>0         </td><td>0         </td><td> 392      </td><td>0         </td></tr>\n",
       "\t<tr><td>World     </td><td>5         </td><td>25-01-2020</td><td> 673      </td><td>0         </td><td>0         </td><td> 673      </td><td>0         </td></tr>\n",
       "\t<tr><td>World     </td><td>6         </td><td>26-01-2020</td><td>1060      </td><td>0         </td><td>3         </td><td>1057      </td><td>3         </td></tr>\n",
       "</tbody>\n",
       "</table>\n"
      ],
      "text/latex": [
       "\\begin{tabular}{r|llllllll}\n",
       " Location & Day & Date & Confirmed & Deaths & Recovered & Active.Cases & Closed.Cases\\\\\n",
       "\\hline\n",
       "\t World      & 1          & 21-01-2020 &   60       & 0          & 0          &   60       & 0         \\\\\n",
       "\t World      & 2          & 22-01-2020 &  111       & 0          & 0          &  111       & 0         \\\\\n",
       "\t World      & 3          & 23-01-2020 &  209       & 0          & 0          &  209       & 0         \\\\\n",
       "\t World      & 4          & 24-01-2020 &  392       & 0          & 0          &  392       & 0         \\\\\n",
       "\t World      & 5          & 25-01-2020 &  673       & 0          & 0          &  673       & 0         \\\\\n",
       "\t World      & 6          & 26-01-2020 & 1060       & 0          & 3          & 1057       & 3         \\\\\n",
       "\\end{tabular}\n"
      ],
      "text/markdown": [
       "\n",
       "| Location | Day | Date | Confirmed | Deaths | Recovered | Active.Cases | Closed.Cases |\n",
       "|---|---|---|---|---|---|---|---|\n",
       "| World      | 1          | 21-01-2020 |   60       | 0          | 0          |   60       | 0          |\n",
       "| World      | 2          | 22-01-2020 |  111       | 0          | 0          |  111       | 0          |\n",
       "| World      | 3          | 23-01-2020 |  209       | 0          | 0          |  209       | 0          |\n",
       "| World      | 4          | 24-01-2020 |  392       | 0          | 0          |  392       | 0          |\n",
       "| World      | 5          | 25-01-2020 |  673       | 0          | 0          |  673       | 0          |\n",
       "| World      | 6          | 26-01-2020 | 1060       | 0          | 3          | 1057       | 3          |\n",
       "\n"
      ],
      "text/plain": [
       "  Location Day Date       Confirmed Deaths Recovered Active.Cases Closed.Cases\n",
       "1 World    1   21-01-2020   60      0      0           60         0           \n",
       "2 World    2   22-01-2020  111      0      0          111         0           \n",
       "3 World    3   23-01-2020  209      0      0          209         0           \n",
       "4 World    4   24-01-2020  392      0      0          392         0           \n",
       "5 World    5   25-01-2020  673      0      0          673         0           \n",
       "6 World    6   26-01-2020 1060      0      3         1057         3           "
      ]
     },
     "metadata": {},
     "output_type": "display_data"
    }
   ],
   "source": [
    "## Viewed\n",
    "head(World.Countries.daily.Confirmed)\n",
    "head(World.Countries.daily.Deaths)\n",
    "head(World.Countries.daily.Recovered)\n",
    "head(World.Aggregate.daily.Confirmed)\n",
    "head(World.Aggregate.daily.Deaths)\n",
    "head(World.Aggregate.daily.Recovered)\n",
    "head(World.Countries.summary)\n",
    "head(World.Aggregate.summary)\n",
    "head(World.dataset.dateWise)"
   ]
  },
  {
   "cell_type": "markdown",
   "metadata": {},
   "source": [
    "##    Others"
   ]
  },
  {
   "cell_type": "code",
   "execution_count": 15,
   "metadata": {},
   "outputs": [],
   "source": [
    "## Code is yet to be written"
   ]
  },
  {
   "cell_type": "code",
   "execution_count": 16,
   "metadata": {},
   "outputs": [],
   "source": [
    "## Viewed"
   ]
  },
  {
   "cell_type": "code",
   "execution_count": null,
   "metadata": {},
   "outputs": [],
   "source": []
  }
 ],
 "metadata": {
  "kernelspec": {
   "display_name": "R",
   "language": "R",
   "name": "ir"
  },
  "language_info": {
   "codemirror_mode": "r",
   "file_extension": ".r",
   "mimetype": "text/x-r-source",
   "name": "R",
   "pygments_lexer": "r",
   "version": "3.6.1"
  }
 },
 "nbformat": 4,
 "nbformat_minor": 2
}
