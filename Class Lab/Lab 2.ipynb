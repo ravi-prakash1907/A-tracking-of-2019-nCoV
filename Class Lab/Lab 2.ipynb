{
  "nbformat": 4,
  "nbformat_minor": 0,
  "metadata": {
    "colab": {
      "name": "Lab 2.ipynb",
      "provenance": [],
      "authorship_tag": "ABX9TyOC7WI5bGuac66EeSkuazYW",
      "include_colab_link": true
    },
    "kernelspec": {
      "name": "python3",
      "display_name": "Python 3"
    }
  },
  "cells": [
    {
      "cell_type": "markdown",
      "metadata": {
        "id": "view-in-github",
        "colab_type": "text"
      },
      "source": [
        "<a href=\"https://colab.research.google.com/github/ravi-prakash1907/A-tracking-of-COVID-19/blob/master/Class%20Lab/Lab%202.ipynb\" target=\"_parent\"><img src=\"https://colab.research.google.com/assets/colab-badge.svg\" alt=\"Open In Colab\"/></a>"
      ]
    },
    {
      "cell_type": "markdown",
      "metadata": {
        "id": "7WOhdmLZnNIt"
      },
      "source": [
        "# Lab 2"
      ]
    },
    {
      "cell_type": "markdown",
      "metadata": {
        "id": "EaCll028napf"
      },
      "source": [
        "### Array\n",
        "\n",
        "* Holds only homogenious datatype"
      ]
    },
    {
      "cell_type": "code",
      "metadata": {
        "id": "Mw5aXFOpflOm",
        "outputId": "749580fc-5cff-442e-fda7-9332ffc0f470",
        "colab": {
          "base_uri": "https://localhost:8080/",
          "height": 34
        }
      },
      "source": [
        "import array as arr\n",
        "\n",
        "##  array.array('dayatype', <actual array>)\n",
        "a=arr.array(\"I\", [1,2,3]) # 'I' indecates we'll store integer\n",
        "\n",
        "type(a)"
      ],
      "execution_count": 6,
      "outputs": [
        {
          "output_type": "execute_result",
          "data": {
            "text/plain": [
              "array.array"
            ]
          },
          "metadata": {
            "tags": []
          },
          "execution_count": 6
        }
      ]
    },
    {
      "cell_type": "code",
      "metadata": {
        "id": "OKVes8rkn7ij",
        "outputId": "12aafd1c-3a97-4327-b25c-c999b38b74d5",
        "colab": {
          "base_uri": "https://localhost:8080/",
          "height": 68
        }
      },
      "source": [
        "# Numpy is an array module\n",
        "import numpy as np\n",
        "\n",
        "arr = np.array([1,2,3])\n",
        "print(type(arr))\n",
        "\n",
        "print(arr)\n",
        "arr[2]"
      ],
      "execution_count": 10,
      "outputs": [
        {
          "output_type": "stream",
          "text": [
            "<class 'numpy.ndarray'>\n",
            "[1 2 3]\n"
          ],
          "name": "stdout"
        },
        {
          "output_type": "execute_result",
          "data": {
            "text/plain": [
              "3"
            ]
          },
          "metadata": {
            "tags": []
          },
          "execution_count": 10
        }
      ]
    },
    {
      "cell_type": "code",
      "metadata": {
        "id": "n0pU7Et0n7sv",
        "outputId": "aec43047-e122-484f-bc34-f837cb014e62",
        "colab": {
          "base_uri": "https://localhost:8080/",
          "height": 34
        }
      },
      "source": [
        "x = [1,2,3]\n",
        "type(x)  # no array, it's list"
      ],
      "execution_count": 11,
      "outputs": [
        {
          "output_type": "execute_result",
          "data": {
            "text/plain": [
              "list"
            ]
          },
          "metadata": {
            "tags": []
          },
          "execution_count": 11
        }
      ]
    },
    {
      "cell_type": "markdown",
      "metadata": {
        "id": "m1k-bYDmqYDF"
      },
      "source": [
        "### Lists\n",
        "\n",
        "* Can hold elements with multiple datatype"
      ]
    },
    {
      "cell_type": "code",
      "metadata": {
        "id": "Urf7lfB6n7pv",
        "outputId": "1d423bda-059d-4078-f609-f8a520b53405",
        "colab": {
          "base_uri": "https://localhost:8080/",
          "height": 68
        }
      },
      "source": [
        "data = list([1, 'book', 3])\n",
        "\n",
        "print(type(data))\n",
        "data[1]  # accessing elements of list\n",
        "\n",
        "######################\n",
        "\n",
        "list1 = [1,2,3,4,5,6]\n",
        "list1.append(7)  ## add at the end\n",
        "print(list1)\n",
        "\n",
        "list1.insert(0,0) # .insert(<pos>,<data>)\n",
        "print(list1)"
      ],
      "execution_count": 20,
      "outputs": [
        {
          "output_type": "stream",
          "text": [
            "<class 'list'>\n",
            "[1, 2, 3, 4, 5, 6, 7]\n",
            "[0, 1, 2, 3, 4, 5, 6, 7]\n"
          ],
          "name": "stdout"
        }
      ]
    },
    {
      "cell_type": "code",
      "metadata": {
        "id": "Jt_7t1L6n7nV",
        "outputId": "8cac602a-3ac6-4c55-e58d-8c962f5050ac",
        "colab": {
          "base_uri": "https://localhost:8080/",
          "height": 34
        }
      },
      "source": [
        "# remoing elements from list\n",
        "list1.remove(0) # specify element\n",
        "list1"
      ],
      "execution_count": 21,
      "outputs": [
        {
          "output_type": "execute_result",
          "data": {
            "text/plain": [
              "[1, 2, 3, 4, 5, 6, 7]"
            ]
          },
          "metadata": {
            "tags": []
          },
          "execution_count": 21
        }
      ]
    },
    {
      "cell_type": "code",
      "metadata": {
        "id": "h0h8hIHnn7f5",
        "outputId": "f3bf19ed-998d-4e6a-9cb5-d4bfc2bbad7d",
        "colab": {
          "base_uri": "https://localhost:8080/",
          "height": 51
        }
      },
      "source": [
        "# arrangment\n",
        "list1.reverse()\n",
        "print(list1)\n",
        "\n",
        "list1.sort()\n",
        "print(list1) # in assending order"
      ],
      "execution_count": 24,
      "outputs": [
        {
          "output_type": "stream",
          "text": [
            "[7, 6, 5, 4, 3, 2, 1]\n",
            "[1, 2, 3, 4, 5, 6, 7]\n"
          ],
          "name": "stdout"
        }
      ]
    },
    {
      "cell_type": "code",
      "metadata": {
        "id": "YQRyysLHneOE"
      },
      "source": [
        ""
      ],
      "execution_count": null,
      "outputs": []
    },
    {
      "cell_type": "markdown",
      "metadata": {
        "id": "_xukxBGprfmj"
      },
      "source": [
        "---\n",
        "\n",
        "## Linked List\n",
        "\n",
        "### Singly Linked Lists\n",
        "* Elements are stored in NODEs\n",
        "* Each nodes have two fields:\n",
        "  * Data\n",
        "  * Next\n",
        "* Hlods link to only one next node  \n",
        "\n",
        "\n",
        "##### **Insertions:**\n",
        "1. Can be done in 3 ways:  \n",
        "  * At top (begining)\n",
        "  * At bottom (end)\n",
        "  * In between\n",
        "2. There can be following situations:\n",
        "  * Linked List is empty\n",
        "  * Linked List Already has any element at that place\n",
        "    * Remove\n",
        "    * Replace\n",
        "3. Decision making for head/rear position change\n",
        "\n",
        "\n",
        "##### **Deletion:**\n",
        "1. Can be done in 3 ways:  \n",
        "  * From top (begining)\n",
        "  * From bottom (end)\n",
        "  * From between\n",
        "2. There can be following situations:\n",
        "  * Linked List is Empty\n",
        "  * Linked List has any element at that place\n",
        "3. Decision making for head/rear position change\n",
        "4. Positioning the links of adjacent nodes\n",
        "\n",
        "\n",
        "##### **Display:**\n",
        "1. Navigation through the sequence untill NULL encounters\n",
        "2. There can be following situations:\n",
        "  * Linked List is Empty\n",
        "  * Linked List has some element(s) to display"
      ]
    },
    {
      "cell_type": "code",
      "metadata": {
        "id": "acDZV3Q1rjb5"
      },
      "source": [
        "## QUEUE using Linked List Construction\n",
        "## FIFO\n",
        "\n",
        "# NODE\n",
        "class Node:\n",
        "  def __init__(self):\n",
        "    tempData = input(\"Enter the data: \")\n",
        "    self.data = tempData\n",
        "    self.next = None\n",
        "\n",
        "# STACK\n",
        "class Queue:\n",
        "  def __init__(self):\n",
        "    self.head = None\n",
        "    self.tail = None\n",
        "    \n",
        "  ## Print\n",
        "  def traverse(self):\n",
        "    temp=self.head\n",
        "    while(temp):\n",
        "      print(temp.data)\n",
        "      temp = temp.next\n",
        "    \n",
        "  ## to add data\n",
        "  def push(self):\n",
        "    temp = Node()\n",
        "    if self.head is None:\n",
        "      self.head = temp\n",
        "      self.tail = temp\n",
        "    else:\n",
        "      self.tail.next = temp\n",
        "      self.tail = temp\n",
        "    print(\"Pushed!!\\n\\n\")\n",
        "  \n",
        "  ## to delete the element(s)\n",
        "  def pop(self):\n",
        "    if self.head is None:\n",
        "      print(\"Stack Underflow!!\\n\\n\")\n",
        "    else:\n",
        "      if self.head == self.tail:\n",
        "        self.head = self.tail = None\n",
        "      else:\n",
        "        temp = self.head\n",
        "        while(temp.next != self.tail):\n",
        "          temp = temp.next\n",
        "        temp.next = None\n",
        "        self.tail = temp\n",
        "      print(\"Popped!!\\n\\n\")"
      ],
      "execution_count": null,
      "outputs": []
    }
  ]
}