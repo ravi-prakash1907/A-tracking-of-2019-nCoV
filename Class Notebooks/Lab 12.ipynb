{
  "nbformat": 4,
  "nbformat_minor": 0,
  "metadata": {
    "colab": {
      "name": "Lab 12.ipynb",
      "provenance": [],
      "authorship_tag": "ABX9TyMSZA7FbCinezIlSbZumOkp",
      "include_colab_link": true
    },
    "kernelspec": {
      "name": "python3",
      "display_name": "Python 3"
    }
  },
  "cells": [
    {
      "cell_type": "markdown",
      "metadata": {
        "id": "view-in-github",
        "colab_type": "text"
      },
      "source": [
        "<a href=\"https://colab.research.google.com/github/ravi-prakash1907/A-tracking-of-COVID-19/blob/master/Class%20Notebooks/Lab%2012.ipynb\" target=\"_parent\"><img src=\"https://colab.research.google.com/assets/colab-badge.svg\" alt=\"Open In Colab\"/></a>"
      ]
    },
    {
      "cell_type": "markdown",
      "metadata": {
        "id": "_623QeFqQ_B5"
      },
      "source": [
        "# Lec 12"
      ]
    },
    {
      "cell_type": "markdown",
      "metadata": {
        "id": "mXiQYC2fRCR1"
      },
      "source": [
        "## Polymorphism  \n",
        "\n",
        "Python does not support:  \n",
        "1. Method Overloading based on _arguments_ and _number of args._"
      ]
    },
    {
      "cell_type": "code",
      "metadata": {
        "colab": {
          "base_uri": "https://localhost:8080/"
        },
        "id": "FoDoh9PvQwlH",
        "outputId": "01492412-439c-4930-8b67-f2bf04779469"
      },
      "source": [
        "class cls:\n",
        "  # error\n",
        "  def greet(self):\n",
        "    print(\"Welcome!\")\n",
        "  \n",
        "  # error\n",
        "  def greet(self, name):\n",
        "    print(\"Welcome\",name+\"!\")\n",
        "  \n",
        "  def greet(self, name = \"\"):\n",
        "    print(\"Welcome\",name+\"!\")\n",
        "\n",
        "\n",
        "c = cls()\n",
        "c.greet() \n",
        "c.greet(\"Ravi\")"
      ],
      "execution_count": 4,
      "outputs": [
        {
          "output_type": "stream",
          "text": [
            "Welcome !\n",
            "Welcome Ravi!\n"
          ],
          "name": "stdout"
        }
      ]
    },
    {
      "cell_type": "code",
      "metadata": {
        "id": "oNFW_hW_SFxq"
      },
      "source": [
        ""
      ],
      "execution_count": null,
      "outputs": []
    }
  ]
}