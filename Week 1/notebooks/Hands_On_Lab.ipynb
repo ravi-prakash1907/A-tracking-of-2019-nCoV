{
  "nbformat": 4,
  "nbformat_minor": 0,
  "metadata": {
    "colab": {
      "name": "Hands-On Lab.ipynb",
      "provenance": [],
      "authorship_tag": "ABX9TyOK4ijVHrueyc5T8Fwr8wTv",
      "include_colab_link": true
    },
    "kernelspec": {
      "name": "python3",
      "display_name": "Python 3"
    }
  },
  "cells": [
    {
      "cell_type": "markdown",
      "metadata": {
        "id": "view-in-github",
        "colab_type": "text"
      },
      "source": [
        "<a href=\"https://colab.research.google.com/github/ravi-prakash1907/A-tracking-of-COVID-19/blob/master/Week%201/notebooks/Hands_On_Lab.ipynb\" target=\"_parent\"><img src=\"https://colab.research.google.com/assets/colab-badge.svg\" alt=\"Open In Colab\"/></a>"
      ]
    },
    {
      "cell_type": "markdown",
      "metadata": {
        "id": "OE7_03xeC6jT"
      },
      "source": [
        "### Unpacking tuples"
      ]
    },
    {
      "cell_type": "code",
      "metadata": {
        "id": "J2qhL2kYC0cA"
      },
      "source": [
        "myName = (\"Ravi\", \"Prakash\", \"Tripathi\")\n",
        "first, mid, last = myName"
      ],
      "execution_count": 1,
      "outputs": []
    },
    {
      "cell_type": "code",
      "metadata": {
        "colab": {
          "base_uri": "https://localhost:8080/"
        },
        "id": "zBwpWtFuDN-D",
        "outputId": "57c5eef8-ea2a-43d1-c61d-a56508ad31c2"
      },
      "source": [
        "print(\"\"\"\n",
        "      First name: {}\n",
        "      Middle name: {}\n",
        "      Last name: {}\n",
        "      \"\"\".format(first, mid, last))"
      ],
      "execution_count": 2,
      "outputs": [
        {
          "output_type": "stream",
          "text": [
            "\n",
            "      First name: Ravi\n",
            "      Middle name: Prakash\n",
            "      Last name: Tripathi\n",
            "      \n"
          ],
          "name": "stdout"
        }
      ]
    },
    {
      "cell_type": "code",
      "metadata": {
        "id": "yk3D5-gADd_v"
      },
      "source": [
        ""
      ],
      "execution_count": null,
      "outputs": []
    }
  ]
}