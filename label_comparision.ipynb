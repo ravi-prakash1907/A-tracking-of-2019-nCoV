{
  "nbformat": 4,
  "nbformat_minor": 0,
  "metadata": {
    "colab": {
      "name": "label comparision.ipynb",
      "provenance": [],
      "authorship_tag": "ABX9TyO9uhXa44vqslKlZzBFp9TI",
      "include_colab_link": true
    },
    "kernelspec": {
      "name": "python3",
      "display_name": "Python 3"
    },
    "language_info": {
      "name": "python"
    }
  },
  "cells": [
    {
      "cell_type": "markdown",
      "metadata": {
        "id": "view-in-github",
        "colab_type": "text"
      },
      "source": [
        "<a href=\"https://colab.research.google.com/github/ravi-prakash1907/A-tracking-of-COVID-19/blob/master/label_comparision.ipynb\" target=\"_parent\"><img src=\"https://colab.research.google.com/assets/colab-badge.svg\" alt=\"Open In Colab\"/></a>"
      ]
    },
    {
      "cell_type": "markdown",
      "metadata": {
        "id": "j2sgvzg2KOC0"
      },
      "source": [
        "## Finding Best Way of Image Classification"
      ]
    },
    {
      "cell_type": "code",
      "metadata": {
        "id": "KGBs2sFGJIvX"
      },
      "source": [
        "## libraries\n",
        "import pandas as pd\n",
        "import numpy as np\n",
        "\n",
        "import os\n",
        "import re\n",
        "import math\n",
        "import random\n",
        "import requests\n",
        "import matplotlib.pyplot as plt\n",
        "from statistics import mean"
      ],
      "execution_count": 13,
      "outputs": []
    },
    {
      "cell_type": "code",
      "metadata": {
        "id": "eKDY8NelKrPk"
      },
      "source": [
        "## data downloader\n",
        "def downloadCSV(fileURL, saveAs='downloaded.csv'):\n",
        "  req = requests.get(fileURL)\n",
        "  fileURLContent = req.content\n",
        "  csv_file = open(saveAs, 'wb')\n",
        "  \n",
        "  csv_file.write(fileURLContent)\n",
        "  csv_file.close()"
      ],
      "execution_count": 14,
      "outputs": []
    },
    {
      "cell_type": "code",
      "metadata": {
        "id": "fZHNFSsiKwXy"
      },
      "source": [
        "kmeans='https://raw.githubusercontent.com/ravi-prakash1907/Adaptive-Fingerprint-Enhancement/main/modelPredictions/groups/kMeansResults.csv?token=AJGAAOGDTHNBR3O455IOI7LA2BZQ4'\n",
        "tagged='https://raw.githubusercontent.com/ravi-prakash1907/Adaptive-Fingerprint-Enhancement/main/foundDS/tagged.csv?token=AJGAAOCQDJZXFBJO4EZ75ULAZ5EUY'"
      ],
      "execution_count": 17,
      "outputs": []
    },
    {
      "cell_type": "code",
      "metadata": {
        "id": "SE8zCfoCKzZb"
      },
      "source": [
        "downloadCSV(kmeans, saveAs='predictedClusters.csv')\n",
        "downloadCSV(tagged, saveAs='tagged.csv')"
      ],
      "execution_count": 18,
      "outputs": []
    },
    {
      "cell_type": "markdown",
      "metadata": {
        "id": "tYJVerkSLeLp"
      },
      "source": [
        "---"
      ]
    },
    {
      "cell_type": "code",
      "metadata": {
        "colab": {
          "base_uri": "https://localhost:8080/",
          "height": 137
        },
        "id": "mmQpabrsR9JH",
        "outputId": "136eae5b-ba8c-409f-e2de-cfd5c44d959e"
      },
      "source": [
        "predictedClusters = pd.read_csv('predictedClusters.csv')\n",
        "predictedClusters.head(3)"
      ],
      "execution_count": 20,
      "outputs": [
        {
          "output_type": "execute_result",
          "data": {
            "text/html": [
              "<div>\n",
              "<style scoped>\n",
              "    .dataframe tbody tr th:only-of-type {\n",
              "        vertical-align: middle;\n",
              "    }\n",
              "\n",
              "    .dataframe tbody tr th {\n",
              "        vertical-align: top;\n",
              "    }\n",
              "\n",
              "    .dataframe thead th {\n",
              "        text-align: right;\n",
              "    }\n",
              "</style>\n",
              "<table border=\"1\" class=\"dataframe\">\n",
              "  <thead>\n",
              "    <tr style=\"text-align: right;\">\n",
              "      <th></th>\n",
              "      <th>image_name</th>\n",
              "      <th>by_kMeans1</th>\n",
              "      <th>by_kMeans2</th>\n",
              "      <th>by_kMeans3</th>\n",
              "      <th>by_kMeans4</th>\n",
              "      <th>by_kMeans5</th>\n",
              "      <th>by_kMeans6</th>\n",
              "      <th>by_kMeans7</th>\n",
              "      <th>by_kMeans8</th>\n",
              "      <th>by_kMeans9</th>\n",
              "      <th>by_kMeans10</th>\n",
              "    </tr>\n",
              "  </thead>\n",
              "  <tbody>\n",
              "    <tr>\n",
              "      <th>0</th>\n",
              "      <td>00000_00.bmp</td>\n",
              "      <td>2</td>\n",
              "      <td>1</td>\n",
              "      <td>2</td>\n",
              "      <td>3</td>\n",
              "      <td>3</td>\n",
              "      <td>2</td>\n",
              "      <td>3</td>\n",
              "      <td>1</td>\n",
              "      <td>3</td>\n",
              "      <td>1</td>\n",
              "    </tr>\n",
              "    <tr>\n",
              "      <th>1</th>\n",
              "      <td>00000_01.bmp</td>\n",
              "      <td>2</td>\n",
              "      <td>1</td>\n",
              "      <td>2</td>\n",
              "      <td>3</td>\n",
              "      <td>3</td>\n",
              "      <td>2</td>\n",
              "      <td>3</td>\n",
              "      <td>1</td>\n",
              "      <td>3</td>\n",
              "      <td>1</td>\n",
              "    </tr>\n",
              "    <tr>\n",
              "      <th>2</th>\n",
              "      <td>00000_02.bmp</td>\n",
              "      <td>2</td>\n",
              "      <td>1</td>\n",
              "      <td>2</td>\n",
              "      <td>1</td>\n",
              "      <td>3</td>\n",
              "      <td>2</td>\n",
              "      <td>3</td>\n",
              "      <td>1</td>\n",
              "      <td>3</td>\n",
              "      <td>2</td>\n",
              "    </tr>\n",
              "  </tbody>\n",
              "</table>\n",
              "</div>"
            ],
            "text/plain": [
              "     image_name  by_kMeans1  by_kMeans2  ...  by_kMeans8  by_kMeans9  by_kMeans10\n",
              "0  00000_00.bmp           2           1  ...           1           3            1\n",
              "1  00000_01.bmp           2           1  ...           1           3            1\n",
              "2  00000_02.bmp           2           1  ...           1           3            2\n",
              "\n",
              "[3 rows x 11 columns]"
            ]
          },
          "metadata": {
            "tags": []
          },
          "execution_count": 20
        }
      ]
    },
    {
      "cell_type": "code",
      "metadata": {
        "colab": {
          "base_uri": "https://localhost:8080/"
        },
        "id": "y-JKqxeNLvE2",
        "outputId": "542cd2bf-16b5-4cd2-9fb1-32a39d743f6c"
      },
      "source": [
        "## count of values in each cluster\n",
        "for colName in predictedClusters.columns[1:]:\n",
        "  print(predictedClusters.value_counts(colName), end=\"\\n\\n\")"
      ],
      "execution_count": 19,
      "outputs": [
        {
          "output_type": "stream",
          "text": [
            "by_kMeans1\n",
            "3    480\n",
            "1    219\n",
            "2    101\n",
            "dtype: int64\n",
            "\n",
            "by_kMeans2\n",
            "2    472\n",
            "3    167\n",
            "1    161\n",
            "dtype: int64\n",
            "\n",
            "by_kMeans3\n",
            "3    474\n",
            "1    172\n",
            "2    154\n",
            "dtype: int64\n",
            "\n",
            "by_kMeans4\n",
            "2    478\n",
            "3    209\n",
            "1    113\n",
            "dtype: int64\n",
            "\n",
            "by_kMeans5\n",
            "2    480\n",
            "1    219\n",
            "3    101\n",
            "dtype: int64\n",
            "\n",
            "by_kMeans6\n",
            "3    399\n",
            "2    320\n",
            "1     81\n",
            "dtype: int64\n",
            "\n",
            "by_kMeans7\n",
            "2    399\n",
            "3    320\n",
            "1     81\n",
            "dtype: int64\n",
            "\n",
            "by_kMeans8\n",
            "3    339\n",
            "1    307\n",
            "2    154\n",
            "dtype: int64\n",
            "\n",
            "by_kMeans9\n",
            "1    470\n",
            "2    167\n",
            "3    163\n",
            "dtype: int64\n",
            "\n",
            "by_kMeans10\n",
            "3    375\n",
            "1    305\n",
            "2    120\n",
            "dtype: int64\n",
            "\n"
          ],
          "name": "stdout"
        }
      ]
    },
    {
      "cell_type": "markdown",
      "metadata": {
        "id": "JqmK5fa8Lw1X"
      },
      "source": [
        "---"
      ]
    },
    {
      "cell_type": "code",
      "metadata": {
        "colab": {
          "base_uri": "https://localhost:8080/",
          "height": 234
        },
        "id": "mTQ1-1-3LKrh",
        "outputId": "0ac9bf0a-809a-4880-f949-b999ef96de3d"
      },
      "source": [
        "tagged = pd.read_csv('tagged.csv')\n",
        "tagged.sort_values('imageName',inplace=True)\n",
        "tagged.head()"
      ],
      "execution_count": 72,
      "outputs": [
        {
          "output_type": "execute_result",
          "data": {
            "text/html": [
              "<div>\n",
              "<style scoped>\n",
              "    .dataframe tbody tr th:only-of-type {\n",
              "        vertical-align: middle;\n",
              "    }\n",
              "\n",
              "    .dataframe tbody tr th {\n",
              "        vertical-align: top;\n",
              "    }\n",
              "\n",
              "    .dataframe thead th {\n",
              "        text-align: right;\n",
              "    }\n",
              "</style>\n",
              "<table border=\"1\" class=\"dataframe\">\n",
              "  <thead>\n",
              "    <tr style=\"text-align: right;\">\n",
              "      <th></th>\n",
              "      <th>tagName</th>\n",
              "      <th>imageName</th>\n",
              "      <th>Ravi Prakash</th>\n",
              "      <th>Gyan</th>\n",
              "      <th>Shivom</th>\n",
              "      <th>Aleena Rodrigues</th>\n",
              "      <th>Juby jose</th>\n",
              "      <th>Dhanya</th>\n",
              "      <th>Prajwal Nimje</th>\n",
              "      <th>Sonu Tewatia</th>\n",
              "      <th>Keerthana S</th>\n",
              "      <th>dryCount</th>\n",
              "      <th>normalCount</th>\n",
              "      <th>wetCount</th>\n",
              "    </tr>\n",
              "  </thead>\n",
              "  <tbody>\n",
              "    <tr>\n",
              "      <th>545</th>\n",
              "      <td>tag546</td>\n",
              "      <td>00000_00.bmp</td>\n",
              "      <td>dry</td>\n",
              "      <td>NaN</td>\n",
              "      <td>NaN</td>\n",
              "      <td>NaN</td>\n",
              "      <td>NaN</td>\n",
              "      <td>dry</td>\n",
              "      <td>NaN</td>\n",
              "      <td>dry</td>\n",
              "      <td>NaN</td>\n",
              "      <td>3</td>\n",
              "      <td>0</td>\n",
              "      <td>0</td>\n",
              "    </tr>\n",
              "    <tr>\n",
              "      <th>110</th>\n",
              "      <td>tag111</td>\n",
              "      <td>00000_01.bmp</td>\n",
              "      <td>dry</td>\n",
              "      <td>NaN</td>\n",
              "      <td>NaN</td>\n",
              "      <td>dry</td>\n",
              "      <td>normal</td>\n",
              "      <td>NaN</td>\n",
              "      <td>NaN</td>\n",
              "      <td>normal</td>\n",
              "      <td>dry</td>\n",
              "      <td>3</td>\n",
              "      <td>2</td>\n",
              "      <td>0</td>\n",
              "    </tr>\n",
              "    <tr>\n",
              "      <th>65</th>\n",
              "      <td>tag66</td>\n",
              "      <td>00000_02.bmp</td>\n",
              "      <td>dry</td>\n",
              "      <td>dry</td>\n",
              "      <td>dry</td>\n",
              "      <td>dry</td>\n",
              "      <td>NaN</td>\n",
              "      <td>NaN</td>\n",
              "      <td>NaN</td>\n",
              "      <td>dry</td>\n",
              "      <td>dry</td>\n",
              "      <td>6</td>\n",
              "      <td>0</td>\n",
              "      <td>0</td>\n",
              "    </tr>\n",
              "    <tr>\n",
              "      <th>135</th>\n",
              "      <td>tag136</td>\n",
              "      <td>00000_03.bmp</td>\n",
              "      <td>dry</td>\n",
              "      <td>NaN</td>\n",
              "      <td>NaN</td>\n",
              "      <td>dry</td>\n",
              "      <td>normal</td>\n",
              "      <td>NaN</td>\n",
              "      <td>NaN</td>\n",
              "      <td>dry</td>\n",
              "      <td>dry</td>\n",
              "      <td>4</td>\n",
              "      <td>1</td>\n",
              "      <td>0</td>\n",
              "    </tr>\n",
              "    <tr>\n",
              "      <th>546</th>\n",
              "      <td>tag547</td>\n",
              "      <td>00000_04.bmp</td>\n",
              "      <td>wet</td>\n",
              "      <td>NaN</td>\n",
              "      <td>NaN</td>\n",
              "      <td>NaN</td>\n",
              "      <td>NaN</td>\n",
              "      <td>dry</td>\n",
              "      <td>NaN</td>\n",
              "      <td>wet</td>\n",
              "      <td>NaN</td>\n",
              "      <td>1</td>\n",
              "      <td>0</td>\n",
              "      <td>2</td>\n",
              "    </tr>\n",
              "  </tbody>\n",
              "</table>\n",
              "</div>"
            ],
            "text/plain": [
              "    tagName     imageName Ravi Prakash  ... dryCount normalCount wetCount\n",
              "545  tag546  00000_00.bmp          dry  ...        3           0        0\n",
              "110  tag111  00000_01.bmp          dry  ...        3           2        0\n",
              "65    tag66  00000_02.bmp          dry  ...        6           0        0\n",
              "135  tag136  00000_03.bmp          dry  ...        4           1        0\n",
              "546  tag547  00000_04.bmp          wet  ...        1           0        2\n",
              "\n",
              "[5 rows x 14 columns]"
            ]
          },
          "metadata": {
            "tags": []
          },
          "execution_count": 72
        }
      ]
    },
    {
      "cell_type": "code",
      "metadata": {
        "colab": {
          "base_uri": "https://localhost:8080/",
          "height": 154
        },
        "id": "uU3uoQflWifq",
        "outputId": "98debc8c-dba9-4796-e8b8-fb77b484c7f6"
      },
      "source": [
        "tagged.drop(axis=1, columns=['tagName'], inplace=True)\n",
        "tagged.head(3)"
      ],
      "execution_count": 73,
      "outputs": [
        {
          "output_type": "execute_result",
          "data": {
            "text/html": [
              "<div>\n",
              "<style scoped>\n",
              "    .dataframe tbody tr th:only-of-type {\n",
              "        vertical-align: middle;\n",
              "    }\n",
              "\n",
              "    .dataframe tbody tr th {\n",
              "        vertical-align: top;\n",
              "    }\n",
              "\n",
              "    .dataframe thead th {\n",
              "        text-align: right;\n",
              "    }\n",
              "</style>\n",
              "<table border=\"1\" class=\"dataframe\">\n",
              "  <thead>\n",
              "    <tr style=\"text-align: right;\">\n",
              "      <th></th>\n",
              "      <th>imageName</th>\n",
              "      <th>Ravi Prakash</th>\n",
              "      <th>Gyan</th>\n",
              "      <th>Shivom</th>\n",
              "      <th>Aleena Rodrigues</th>\n",
              "      <th>Juby jose</th>\n",
              "      <th>Dhanya</th>\n",
              "      <th>Prajwal Nimje</th>\n",
              "      <th>Sonu Tewatia</th>\n",
              "      <th>Keerthana S</th>\n",
              "      <th>dryCount</th>\n",
              "      <th>normalCount</th>\n",
              "      <th>wetCount</th>\n",
              "    </tr>\n",
              "  </thead>\n",
              "  <tbody>\n",
              "    <tr>\n",
              "      <th>545</th>\n",
              "      <td>00000_00.bmp</td>\n",
              "      <td>dry</td>\n",
              "      <td>NaN</td>\n",
              "      <td>NaN</td>\n",
              "      <td>NaN</td>\n",
              "      <td>NaN</td>\n",
              "      <td>dry</td>\n",
              "      <td>NaN</td>\n",
              "      <td>dry</td>\n",
              "      <td>NaN</td>\n",
              "      <td>3</td>\n",
              "      <td>0</td>\n",
              "      <td>0</td>\n",
              "    </tr>\n",
              "    <tr>\n",
              "      <th>110</th>\n",
              "      <td>00000_01.bmp</td>\n",
              "      <td>dry</td>\n",
              "      <td>NaN</td>\n",
              "      <td>NaN</td>\n",
              "      <td>dry</td>\n",
              "      <td>normal</td>\n",
              "      <td>NaN</td>\n",
              "      <td>NaN</td>\n",
              "      <td>normal</td>\n",
              "      <td>dry</td>\n",
              "      <td>3</td>\n",
              "      <td>2</td>\n",
              "      <td>0</td>\n",
              "    </tr>\n",
              "    <tr>\n",
              "      <th>65</th>\n",
              "      <td>00000_02.bmp</td>\n",
              "      <td>dry</td>\n",
              "      <td>dry</td>\n",
              "      <td>dry</td>\n",
              "      <td>dry</td>\n",
              "      <td>NaN</td>\n",
              "      <td>NaN</td>\n",
              "      <td>NaN</td>\n",
              "      <td>dry</td>\n",
              "      <td>dry</td>\n",
              "      <td>6</td>\n",
              "      <td>0</td>\n",
              "      <td>0</td>\n",
              "    </tr>\n",
              "  </tbody>\n",
              "</table>\n",
              "</div>"
            ],
            "text/plain": [
              "        imageName Ravi Prakash Gyan  ... dryCount normalCount wetCount\n",
              "545  00000_00.bmp          dry  NaN  ...        3           0        0\n",
              "110  00000_01.bmp          dry  NaN  ...        3           2        0\n",
              "65   00000_02.bmp          dry  dry  ...        6           0        0\n",
              "\n",
              "[3 rows x 13 columns]"
            ]
          },
          "metadata": {
            "tags": []
          },
          "execution_count": 73
        }
      ]
    },
    {
      "cell_type": "code",
      "metadata": {
        "id": "babRudqfUs3q"
      },
      "source": [
        "def getLabel(df, colList):\n",
        "  df = df[colList]\n",
        "  lbls = []\n",
        "  for i in df.index:\n",
        "    row = list(df.loc[i])\n",
        "    #print(\"row = {}\\ni = {}\\n\".format(row, i))\n",
        "    maxIndex = row.index(max(row))\n",
        "    col = colList[maxIndex][:-5] # 'Count' substring is ommitted\n",
        "    lbls.append(col)\n",
        "  return lbls"
      ],
      "execution_count": 74,
      "outputs": []
    },
    {
      "cell_type": "code",
      "metadata": {
        "colab": {
          "base_uri": "https://localhost:8080/",
          "height": 234
        },
        "id": "A2gT0DfGU-NF",
        "outputId": "d5259c97-ecca-408a-84f7-2b23e173767f"
      },
      "source": [
        "counterCol = ['dryCount', 'normalCount', 'wetCount']\n",
        "\n",
        "labelsForAll = getLabel(tagged, counterCol)\n",
        "tagged['aggrLabel'] = labelsForAll\n",
        "tagged.head()"
      ],
      "execution_count": 75,
      "outputs": [
        {
          "output_type": "execute_result",
          "data": {
            "text/html": [
              "<div>\n",
              "<style scoped>\n",
              "    .dataframe tbody tr th:only-of-type {\n",
              "        vertical-align: middle;\n",
              "    }\n",
              "\n",
              "    .dataframe tbody tr th {\n",
              "        vertical-align: top;\n",
              "    }\n",
              "\n",
              "    .dataframe thead th {\n",
              "        text-align: right;\n",
              "    }\n",
              "</style>\n",
              "<table border=\"1\" class=\"dataframe\">\n",
              "  <thead>\n",
              "    <tr style=\"text-align: right;\">\n",
              "      <th></th>\n",
              "      <th>imageName</th>\n",
              "      <th>Ravi Prakash</th>\n",
              "      <th>Gyan</th>\n",
              "      <th>Shivom</th>\n",
              "      <th>Aleena Rodrigues</th>\n",
              "      <th>Juby jose</th>\n",
              "      <th>Dhanya</th>\n",
              "      <th>Prajwal Nimje</th>\n",
              "      <th>Sonu Tewatia</th>\n",
              "      <th>Keerthana S</th>\n",
              "      <th>dryCount</th>\n",
              "      <th>normalCount</th>\n",
              "      <th>wetCount</th>\n",
              "      <th>aggrLabel</th>\n",
              "    </tr>\n",
              "  </thead>\n",
              "  <tbody>\n",
              "    <tr>\n",
              "      <th>545</th>\n",
              "      <td>00000_00.bmp</td>\n",
              "      <td>dry</td>\n",
              "      <td>NaN</td>\n",
              "      <td>NaN</td>\n",
              "      <td>NaN</td>\n",
              "      <td>NaN</td>\n",
              "      <td>dry</td>\n",
              "      <td>NaN</td>\n",
              "      <td>dry</td>\n",
              "      <td>NaN</td>\n",
              "      <td>3</td>\n",
              "      <td>0</td>\n",
              "      <td>0</td>\n",
              "      <td>dry</td>\n",
              "    </tr>\n",
              "    <tr>\n",
              "      <th>110</th>\n",
              "      <td>00000_01.bmp</td>\n",
              "      <td>dry</td>\n",
              "      <td>NaN</td>\n",
              "      <td>NaN</td>\n",
              "      <td>dry</td>\n",
              "      <td>normal</td>\n",
              "      <td>NaN</td>\n",
              "      <td>NaN</td>\n",
              "      <td>normal</td>\n",
              "      <td>dry</td>\n",
              "      <td>3</td>\n",
              "      <td>2</td>\n",
              "      <td>0</td>\n",
              "      <td>dry</td>\n",
              "    </tr>\n",
              "    <tr>\n",
              "      <th>65</th>\n",
              "      <td>00000_02.bmp</td>\n",
              "      <td>dry</td>\n",
              "      <td>dry</td>\n",
              "      <td>dry</td>\n",
              "      <td>dry</td>\n",
              "      <td>NaN</td>\n",
              "      <td>NaN</td>\n",
              "      <td>NaN</td>\n",
              "      <td>dry</td>\n",
              "      <td>dry</td>\n",
              "      <td>6</td>\n",
              "      <td>0</td>\n",
              "      <td>0</td>\n",
              "      <td>dry</td>\n",
              "    </tr>\n",
              "    <tr>\n",
              "      <th>135</th>\n",
              "      <td>00000_03.bmp</td>\n",
              "      <td>dry</td>\n",
              "      <td>NaN</td>\n",
              "      <td>NaN</td>\n",
              "      <td>dry</td>\n",
              "      <td>normal</td>\n",
              "      <td>NaN</td>\n",
              "      <td>NaN</td>\n",
              "      <td>dry</td>\n",
              "      <td>dry</td>\n",
              "      <td>4</td>\n",
              "      <td>1</td>\n",
              "      <td>0</td>\n",
              "      <td>dry</td>\n",
              "    </tr>\n",
              "    <tr>\n",
              "      <th>546</th>\n",
              "      <td>00000_04.bmp</td>\n",
              "      <td>wet</td>\n",
              "      <td>NaN</td>\n",
              "      <td>NaN</td>\n",
              "      <td>NaN</td>\n",
              "      <td>NaN</td>\n",
              "      <td>dry</td>\n",
              "      <td>NaN</td>\n",
              "      <td>wet</td>\n",
              "      <td>NaN</td>\n",
              "      <td>1</td>\n",
              "      <td>0</td>\n",
              "      <td>2</td>\n",
              "      <td>wet</td>\n",
              "    </tr>\n",
              "  </tbody>\n",
              "</table>\n",
              "</div>"
            ],
            "text/plain": [
              "        imageName Ravi Prakash Gyan  ... normalCount wetCount aggrLabel\n",
              "545  00000_00.bmp          dry  NaN  ...           0        0       dry\n",
              "110  00000_01.bmp          dry  NaN  ...           2        0       dry\n",
              "65   00000_02.bmp          dry  dry  ...           0        0       dry\n",
              "135  00000_03.bmp          dry  NaN  ...           1        0       dry\n",
              "546  00000_04.bmp          wet  NaN  ...           0        2       wet\n",
              "\n",
              "[5 rows x 14 columns]"
            ]
          },
          "metadata": {
            "tags": []
          },
          "execution_count": 75
        }
      ]
    },
    {
      "cell_type": "code",
      "metadata": {
        "colab": {
          "base_uri": "https://localhost:8080/",
          "height": 197
        },
        "id": "5tXY9VXgLfWx",
        "outputId": "594754e0-5bcb-4ea4-991d-f407238b6018"
      },
      "source": [
        "## removing columns with nans\n",
        "tagged = tagged.dropna(1)\n",
        "tagged.reset_index(inplace=True, drop=True)\n",
        "tagged.drop(columns=counterCol, inplace=True)\n",
        "tagged.head()"
      ],
      "execution_count": 76,
      "outputs": [
        {
          "output_type": "execute_result",
          "data": {
            "text/html": [
              "<div>\n",
              "<style scoped>\n",
              "    .dataframe tbody tr th:only-of-type {\n",
              "        vertical-align: middle;\n",
              "    }\n",
              "\n",
              "    .dataframe tbody tr th {\n",
              "        vertical-align: top;\n",
              "    }\n",
              "\n",
              "    .dataframe thead th {\n",
              "        text-align: right;\n",
              "    }\n",
              "</style>\n",
              "<table border=\"1\" class=\"dataframe\">\n",
              "  <thead>\n",
              "    <tr style=\"text-align: right;\">\n",
              "      <th></th>\n",
              "      <th>imageName</th>\n",
              "      <th>Ravi Prakash</th>\n",
              "      <th>Sonu Tewatia</th>\n",
              "      <th>aggrLabel</th>\n",
              "    </tr>\n",
              "  </thead>\n",
              "  <tbody>\n",
              "    <tr>\n",
              "      <th>0</th>\n",
              "      <td>00000_00.bmp</td>\n",
              "      <td>dry</td>\n",
              "      <td>dry</td>\n",
              "      <td>dry</td>\n",
              "    </tr>\n",
              "    <tr>\n",
              "      <th>1</th>\n",
              "      <td>00000_01.bmp</td>\n",
              "      <td>dry</td>\n",
              "      <td>normal</td>\n",
              "      <td>dry</td>\n",
              "    </tr>\n",
              "    <tr>\n",
              "      <th>2</th>\n",
              "      <td>00000_02.bmp</td>\n",
              "      <td>dry</td>\n",
              "      <td>dry</td>\n",
              "      <td>dry</td>\n",
              "    </tr>\n",
              "    <tr>\n",
              "      <th>3</th>\n",
              "      <td>00000_03.bmp</td>\n",
              "      <td>dry</td>\n",
              "      <td>dry</td>\n",
              "      <td>dry</td>\n",
              "    </tr>\n",
              "    <tr>\n",
              "      <th>4</th>\n",
              "      <td>00000_04.bmp</td>\n",
              "      <td>wet</td>\n",
              "      <td>wet</td>\n",
              "      <td>wet</td>\n",
              "    </tr>\n",
              "  </tbody>\n",
              "</table>\n",
              "</div>"
            ],
            "text/plain": [
              "      imageName Ravi Prakash Sonu Tewatia aggrLabel\n",
              "0  00000_00.bmp          dry          dry       dry\n",
              "1  00000_01.bmp          dry       normal       dry\n",
              "2  00000_02.bmp          dry          dry       dry\n",
              "3  00000_03.bmp          dry          dry       dry\n",
              "4  00000_04.bmp          wet          wet       wet"
            ]
          },
          "metadata": {
            "tags": []
          },
          "execution_count": 76
        }
      ]
    },
    {
      "cell_type": "code",
      "metadata": {
        "id": "TxJCMX1DeuB9"
      },
      "source": [
        "## healthy labels with equal tags\n",
        "def strictLabelReviser():\n",
        "  cols = tagged.columns[1:]\n",
        "  flag = False\n",
        "\n",
        "  for i in tagged.index:\n",
        "    assiged = tagged[cols[-1]][i]\n",
        "    prev = False\n",
        "    for col in cols[:-1]:\n",
        "      if prev:\n",
        "        if prev == tagged[col][i]:\n",
        "          continue\n",
        "        else:\n",
        "          flag = False\n",
        "          break\n",
        "      \n",
        "      if tagged[col][i] == assiged:\n",
        "        flag = False\n",
        "        break\n",
        "      else:\n",
        "        flag = True\n",
        "    \n",
        "    # updating \n",
        "    if flag:\n",
        "      tagged[cols[-1]][i] = tagged[cols[0]][i]"
      ],
      "execution_count": 77,
      "outputs": []
    },
    {
      "cell_type": "code",
      "metadata": {
        "colab": {
          "base_uri": "https://localhost:8080/",
          "height": 197
        },
        "id": "S0JIWHQ7Lh_C",
        "outputId": "9301024e-7092-43a8-9761-93cacf6be72d"
      },
      "source": [
        "## droping tagName col\n",
        "tagged = tagged[['imageName', 'aggrLabel']]\n",
        "tagged.head()"
      ],
      "execution_count": 78,
      "outputs": [
        {
          "output_type": "execute_result",
          "data": {
            "text/html": [
              "<div>\n",
              "<style scoped>\n",
              "    .dataframe tbody tr th:only-of-type {\n",
              "        vertical-align: middle;\n",
              "    }\n",
              "\n",
              "    .dataframe tbody tr th {\n",
              "        vertical-align: top;\n",
              "    }\n",
              "\n",
              "    .dataframe thead th {\n",
              "        text-align: right;\n",
              "    }\n",
              "</style>\n",
              "<table border=\"1\" class=\"dataframe\">\n",
              "  <thead>\n",
              "    <tr style=\"text-align: right;\">\n",
              "      <th></th>\n",
              "      <th>imageName</th>\n",
              "      <th>aggrLabel</th>\n",
              "    </tr>\n",
              "  </thead>\n",
              "  <tbody>\n",
              "    <tr>\n",
              "      <th>0</th>\n",
              "      <td>00000_00.bmp</td>\n",
              "      <td>dry</td>\n",
              "    </tr>\n",
              "    <tr>\n",
              "      <th>1</th>\n",
              "      <td>00000_01.bmp</td>\n",
              "      <td>dry</td>\n",
              "    </tr>\n",
              "    <tr>\n",
              "      <th>2</th>\n",
              "      <td>00000_02.bmp</td>\n",
              "      <td>dry</td>\n",
              "    </tr>\n",
              "    <tr>\n",
              "      <th>3</th>\n",
              "      <td>00000_03.bmp</td>\n",
              "      <td>dry</td>\n",
              "    </tr>\n",
              "    <tr>\n",
              "      <th>4</th>\n",
              "      <td>00000_04.bmp</td>\n",
              "      <td>wet</td>\n",
              "    </tr>\n",
              "  </tbody>\n",
              "</table>\n",
              "</div>"
            ],
            "text/plain": [
              "      imageName aggrLabel\n",
              "0  00000_00.bmp       dry\n",
              "1  00000_01.bmp       dry\n",
              "2  00000_02.bmp       dry\n",
              "3  00000_03.bmp       dry\n",
              "4  00000_04.bmp       wet"
            ]
          },
          "metadata": {
            "tags": []
          },
          "execution_count": 78
        }
      ]
    },
    {
      "cell_type": "code",
      "metadata": {
        "colab": {
          "base_uri": "https://localhost:8080/"
        },
        "id": "nIm_XjW7LqQg",
        "outputId": "acc1c89e-a433-49ab-f49b-1052d904cc7f"
      },
      "source": [
        "## counting the tags and compairing with knn results\n",
        "tagged.value_counts('aggrLabel')"
      ],
      "execution_count": 79,
      "outputs": [
        {
          "output_type": "execute_result",
          "data": {
            "text/plain": [
              "aggrLabel\n",
              "dry       300\n",
              "normal    252\n",
              "wet       248\n",
              "dtype: int64"
            ]
          },
          "metadata": {
            "tags": []
          },
          "execution_count": 79
        }
      ]
    },
    {
      "cell_type": "code",
      "metadata": {
        "id": "_RHWfINTLq32"
      },
      "source": [
        "#from sklearn.metrics import accuracy_score\n",
        "total = 800\n",
        "correct = 0"
      ],
      "execution_count": 80,
      "outputs": []
    },
    {
      "cell_type": "code",
      "metadata": {
        "id": "mn9GceIML4TO"
      },
      "source": [
        "## fun to map tags with labels\n",
        "def tagToLabel(tagMap):\n",
        "  tag = np.array(tagged['aggrLabel'])\n",
        "  for i in range(total):\n",
        "    if tag[i] == 'dry':\n",
        "      tag[i] = tagMap['dry']\n",
        "    elif tag[i] == 'normal':\n",
        "      tag[i] = tagMap['normal']\n",
        "    elif tag[i] == 'wet':\n",
        "      tag[i] = tagMap['wet']\n",
        "  return tag\n",
        "\n",
        "## accuracy\n",
        "def getAcc(tagMap):\n",
        "  tag = tagToLabel(tagMap)\n",
        "  dfCols = predictedClusters.columns[1:]\n",
        "  dfVals = ['']*len(dfCols)\n",
        "  accDF = pd.DataFrame([dfVals], columns=dfCols)\n",
        "  i = 0\n",
        "\n",
        "  for col in predictedClusters.columns[1:]:\n",
        "    correct = 0\n",
        "    for i in range(total):\n",
        "      if tag[i] == predictedClusters[col][i]:\n",
        "        correct += 1\n",
        "    accDF[col][0] = correct/total\n",
        "    i += 1\n",
        "  \n",
        "  print(\"Accuracy: \")\n",
        "  display(accDF)\n",
        "  return"
      ],
      "execution_count": 123,
      "outputs": []
    },
    {
      "cell_type": "code",
      "metadata": {
        "colab": {
          "base_uri": "https://localhost:8080/",
          "height": 95
        },
        "id": "Ak5_QZ_AL6_R",
        "outputId": "e3860bdf-2ed8-4769-c740-0b68e71f91ae"
      },
      "source": [
        "## mapping\n",
        "tagMap = {'dry':1, 'normal':2, 'wet':3}\n",
        "getAcc(tagMap)"
      ],
      "execution_count": 124,
      "outputs": [
        {
          "output_type": "stream",
          "text": [
            "Accuracy: \n"
          ],
          "name": "stdout"
        },
        {
          "output_type": "display_data",
          "data": {
            "text/html": [
              "<div>\n",
              "<style scoped>\n",
              "    .dataframe tbody tr th:only-of-type {\n",
              "        vertical-align: middle;\n",
              "    }\n",
              "\n",
              "    .dataframe tbody tr th {\n",
              "        vertical-align: top;\n",
              "    }\n",
              "\n",
              "    .dataframe thead th {\n",
              "        text-align: right;\n",
              "    }\n",
              "</style>\n",
              "<table border=\"1\" class=\"dataframe\">\n",
              "  <thead>\n",
              "    <tr style=\"text-align: right;\">\n",
              "      <th></th>\n",
              "      <th>by_kMeans1</th>\n",
              "      <th>by_kMeans2</th>\n",
              "      <th>by_kMeans3</th>\n",
              "      <th>by_kMeans4</th>\n",
              "      <th>by_kMeans5</th>\n",
              "      <th>by_kMeans6</th>\n",
              "      <th>by_kMeans7</th>\n",
              "      <th>by_kMeans8</th>\n",
              "      <th>by_kMeans9</th>\n",
              "      <th>by_kMeans10</th>\n",
              "    </tr>\n",
              "  </thead>\n",
              "  <tbody>\n",
              "    <tr>\n",
              "      <th>0</th>\n",
              "      <td>0.61</td>\n",
              "      <td>0.435</td>\n",
              "      <td>0.55875</td>\n",
              "      <td>0.41875</td>\n",
              "      <td>0.55875</td>\n",
              "      <td>0.24125</td>\n",
              "      <td>0.2825</td>\n",
              "      <td>0.6725</td>\n",
              "      <td>0.01</td>\n",
              "      <td>0.34875</td>\n",
              "    </tr>\n",
              "  </tbody>\n",
              "</table>\n",
              "</div>"
            ],
            "text/plain": [
              "  by_kMeans1 by_kMeans2 by_kMeans3  ... by_kMeans8 by_kMeans9 by_kMeans10\n",
              "0       0.61      0.435    0.55875  ...     0.6725       0.01     0.34875\n",
              "\n",
              "[1 rows x 10 columns]"
            ]
          },
          "metadata": {
            "tags": []
          }
        }
      ]
    },
    {
      "cell_type": "code",
      "metadata": {
        "colab": {
          "base_uri": "https://localhost:8080/",
          "height": 95
        },
        "id": "6d4b2cdHrdQb",
        "outputId": "40214524-d16b-4869-8d20-7c8489b7b398"
      },
      "source": [
        "## mapping\n",
        "tagMap = {'dry':1, 'normal':3, 'wet':2}\n",
        "getAcc(tagMap)"
      ],
      "execution_count": 127,
      "outputs": [
        {
          "output_type": "stream",
          "text": [
            "Accuracy: \n"
          ],
          "name": "stdout"
        },
        {
          "output_type": "display_data",
          "data": {
            "text/html": [
              "<div>\n",
              "<style scoped>\n",
              "    .dataframe tbody tr th:only-of-type {\n",
              "        vertical-align: middle;\n",
              "    }\n",
              "\n",
              "    .dataframe tbody tr th {\n",
              "        vertical-align: top;\n",
              "    }\n",
              "\n",
              "    .dataframe thead th {\n",
              "        text-align: right;\n",
              "    }\n",
              "</style>\n",
              "<table border=\"1\" class=\"dataframe\">\n",
              "  <thead>\n",
              "    <tr style=\"text-align: right;\">\n",
              "      <th></th>\n",
              "      <th>by_kMeans1</th>\n",
              "      <th>by_kMeans2</th>\n",
              "      <th>by_kMeans3</th>\n",
              "      <th>by_kMeans4</th>\n",
              "      <th>by_kMeans5</th>\n",
              "      <th>by_kMeans6</th>\n",
              "      <th>by_kMeans7</th>\n",
              "      <th>by_kMeans8</th>\n",
              "      <th>by_kMeans9</th>\n",
              "      <th>by_kMeans10</th>\n",
              "    </tr>\n",
              "  </thead>\n",
              "  <tbody>\n",
              "    <tr>\n",
              "      <th>0</th>\n",
              "      <td>0.55875</td>\n",
              "      <td>0.4725</td>\n",
              "      <td>0.49625</td>\n",
              "      <td>0.4625</td>\n",
              "      <td>0.61</td>\n",
              "      <td>0.2825</td>\n",
              "      <td>0.24125</td>\n",
              "      <td>0.65625</td>\n",
              "      <td>0.04625</td>\n",
              "      <td>0.465</td>\n",
              "    </tr>\n",
              "  </tbody>\n",
              "</table>\n",
              "</div>"
            ],
            "text/plain": [
              "  by_kMeans1 by_kMeans2 by_kMeans3  ... by_kMeans8 by_kMeans9 by_kMeans10\n",
              "0    0.55875     0.4725    0.49625  ...    0.65625    0.04625       0.465\n",
              "\n",
              "[1 rows x 10 columns]"
            ]
          },
          "metadata": {
            "tags": []
          }
        }
      ]
    },
    {
      "cell_type": "code",
      "metadata": {
        "colab": {
          "base_uri": "https://localhost:8080/",
          "height": 95
        },
        "id": "0iHX4Hv4rl9P",
        "outputId": "1a493a55-d0c8-40b5-f505-3a190b3b55d1"
      },
      "source": [
        "## mapping\n",
        "tagMap = {'dry':2, 'normal':1, 'wet':3}\n",
        "getAcc(tagMap)"
      ],
      "execution_count": 129,
      "outputs": [
        {
          "output_type": "stream",
          "text": [
            "Accuracy: \n"
          ],
          "name": "stdout"
        },
        {
          "output_type": "display_data",
          "data": {
            "text/html": [
              "<div>\n",
              "<style scoped>\n",
              "    .dataframe tbody tr th:only-of-type {\n",
              "        vertical-align: middle;\n",
              "    }\n",
              "\n",
              "    .dataframe tbody tr th {\n",
              "        vertical-align: top;\n",
              "    }\n",
              "\n",
              "    .dataframe thead th {\n",
              "        text-align: right;\n",
              "    }\n",
              "</style>\n",
              "<table border=\"1\" class=\"dataframe\">\n",
              "  <thead>\n",
              "    <tr style=\"text-align: right;\">\n",
              "      <th></th>\n",
              "      <th>by_kMeans1</th>\n",
              "      <th>by_kMeans2</th>\n",
              "      <th>by_kMeans3</th>\n",
              "      <th>by_kMeans4</th>\n",
              "      <th>by_kMeans5</th>\n",
              "      <th>by_kMeans6</th>\n",
              "      <th>by_kMeans7</th>\n",
              "      <th>by_kMeans8</th>\n",
              "      <th>by_kMeans9</th>\n",
              "      <th>by_kMeans10</th>\n",
              "    </tr>\n",
              "  </thead>\n",
              "  <tbody>\n",
              "    <tr>\n",
              "      <th>0</th>\n",
              "      <td>0.41</td>\n",
              "      <td>0.04625</td>\n",
              "      <td>0.465</td>\n",
              "      <td>0.01</td>\n",
              "      <td>0.005</td>\n",
              "      <td>0.5875</td>\n",
              "      <td>0.0075</td>\n",
              "      <td>0.235</td>\n",
              "      <td>0.48375</td>\n",
              "      <td>0.33</td>\n",
              "    </tr>\n",
              "  </tbody>\n",
              "</table>\n",
              "</div>"
            ],
            "text/plain": [
              "  by_kMeans1 by_kMeans2 by_kMeans3  ... by_kMeans8 by_kMeans9 by_kMeans10\n",
              "0       0.41    0.04625      0.465  ...      0.235    0.48375        0.33\n",
              "\n",
              "[1 rows x 10 columns]"
            ]
          },
          "metadata": {
            "tags": []
          }
        }
      ]
    },
    {
      "cell_type": "code",
      "metadata": {
        "colab": {
          "base_uri": "https://localhost:8080/",
          "height": 95
        },
        "id": "RrUCYwfPvXjm",
        "outputId": "ed2d46af-938a-414d-ae4f-fe254ce4a873"
      },
      "source": [
        "## mapping\n",
        "tagMap = {'dry':3, 'normal':1, 'wet':2}\n",
        "getAcc(tagMap)"
      ],
      "execution_count": 130,
      "outputs": [
        {
          "output_type": "stream",
          "text": [
            "Accuracy: \n"
          ],
          "name": "stdout"
        },
        {
          "output_type": "display_data",
          "data": {
            "text/html": [
              "<div>\n",
              "<style scoped>\n",
              "    .dataframe tbody tr th:only-of-type {\n",
              "        vertical-align: middle;\n",
              "    }\n",
              "\n",
              "    .dataframe tbody tr th {\n",
              "        vertical-align: top;\n",
              "    }\n",
              "\n",
              "    .dataframe thead th {\n",
              "        text-align: right;\n",
              "    }\n",
              "</style>\n",
              "<table border=\"1\" class=\"dataframe\">\n",
              "  <thead>\n",
              "    <tr style=\"text-align: right;\">\n",
              "      <th></th>\n",
              "      <th>by_kMeans1</th>\n",
              "      <th>by_kMeans2</th>\n",
              "      <th>by_kMeans3</th>\n",
              "      <th>by_kMeans4</th>\n",
              "      <th>by_kMeans5</th>\n",
              "      <th>by_kMeans6</th>\n",
              "      <th>by_kMeans7</th>\n",
              "      <th>by_kMeans8</th>\n",
              "      <th>by_kMeans9</th>\n",
              "      <th>by_kMeans10</th>\n",
              "    </tr>\n",
              "  </thead>\n",
              "  <tbody>\n",
              "    <tr>\n",
              "      <th>0</th>\n",
              "      <td>0.005</td>\n",
              "      <td>0.5575</td>\n",
              "      <td>0.005</td>\n",
              "      <td>0.5525</td>\n",
              "      <td>0.41</td>\n",
              "      <td>0.0075</td>\n",
              "      <td>0.5875</td>\n",
              "      <td>0.13</td>\n",
              "      <td>0.435</td>\n",
              "      <td>0.1275</td>\n",
              "    </tr>\n",
              "  </tbody>\n",
              "</table>\n",
              "</div>"
            ],
            "text/plain": [
              "  by_kMeans1 by_kMeans2 by_kMeans3  ... by_kMeans8 by_kMeans9 by_kMeans10\n",
              "0      0.005     0.5575      0.005  ...       0.13      0.435      0.1275\n",
              "\n",
              "[1 rows x 10 columns]"
            ]
          },
          "metadata": {
            "tags": []
          }
        }
      ]
    },
    {
      "cell_type": "code",
      "metadata": {
        "colab": {
          "base_uri": "https://localhost:8080/",
          "height": 95
        },
        "id": "QxToWmGGvaZF",
        "outputId": "aad99f67-a114-4071-9e75-9883b65a9d8a"
      },
      "source": [
        "## mapping\n",
        "tagMap = {'dry':2, 'normal':3, 'wet':1}\n",
        "getAcc(tagMap)"
      ],
      "execution_count": 131,
      "outputs": [
        {
          "output_type": "stream",
          "text": [
            "Accuracy: \n"
          ],
          "name": "stdout"
        },
        {
          "output_type": "display_data",
          "data": {
            "text/html": [
              "<div>\n",
              "<style scoped>\n",
              "    .dataframe tbody tr th:only-of-type {\n",
              "        vertical-align: middle;\n",
              "    }\n",
              "\n",
              "    .dataframe tbody tr th {\n",
              "        vertical-align: top;\n",
              "    }\n",
              "\n",
              "    .dataframe thead th {\n",
              "        text-align: right;\n",
              "    }\n",
              "</style>\n",
              "<table border=\"1\" class=\"dataframe\">\n",
              "  <thead>\n",
              "    <tr style=\"text-align: right;\">\n",
              "      <th></th>\n",
              "      <th>by_kMeans1</th>\n",
              "      <th>by_kMeans2</th>\n",
              "      <th>by_kMeans3</th>\n",
              "      <th>by_kMeans4</th>\n",
              "      <th>by_kMeans5</th>\n",
              "      <th>by_kMeans6</th>\n",
              "      <th>by_kMeans7</th>\n",
              "      <th>by_kMeans8</th>\n",
              "      <th>by_kMeans9</th>\n",
              "      <th>by_kMeans10</th>\n",
              "    </tr>\n",
              "  </thead>\n",
              "  <tbody>\n",
              "    <tr>\n",
              "      <th>0</th>\n",
              "      <td>0.385</td>\n",
              "      <td>0.0075</td>\n",
              "      <td>0.43625</td>\n",
              "      <td>0.02875</td>\n",
              "      <td>0.03125</td>\n",
              "      <td>0.75125</td>\n",
              "      <td>0.13</td>\n",
              "      <td>0.1975</td>\n",
              "      <td>0.555</td>\n",
              "      <td>0.52375</td>\n",
              "    </tr>\n",
              "  </tbody>\n",
              "</table>\n",
              "</div>"
            ],
            "text/plain": [
              "  by_kMeans1 by_kMeans2 by_kMeans3  ... by_kMeans8 by_kMeans9 by_kMeans10\n",
              "0      0.385     0.0075    0.43625  ...     0.1975      0.555     0.52375\n",
              "\n",
              "[1 rows x 10 columns]"
            ]
          },
          "metadata": {
            "tags": []
          }
        }
      ]
    },
    {
      "cell_type": "code",
      "metadata": {
        "colab": {
          "base_uri": "https://localhost:8080/",
          "height": 95
        },
        "id": "4-4n2x7jvgyh",
        "outputId": "b6bdb299-3ed4-4b51-a5b9-174d956cb0e8"
      },
      "source": [
        "## mapping\n",
        "tagMap = {'dry':3, 'normal':2, 'wet':1}\n",
        "getAcc(tagMap)"
      ],
      "execution_count": 132,
      "outputs": [
        {
          "output_type": "stream",
          "text": [
            "Accuracy: \n"
          ],
          "name": "stdout"
        },
        {
          "output_type": "display_data",
          "data": {
            "text/html": [
              "<div>\n",
              "<style scoped>\n",
              "    .dataframe tbody tr th:only-of-type {\n",
              "        vertical-align: middle;\n",
              "    }\n",
              "\n",
              "    .dataframe tbody tr th {\n",
              "        vertical-align: top;\n",
              "    }\n",
              "\n",
              "    .dataframe thead th {\n",
              "        text-align: right;\n",
              "    }\n",
              "</style>\n",
              "<table border=\"1\" class=\"dataframe\">\n",
              "  <thead>\n",
              "    <tr style=\"text-align: right;\">\n",
              "      <th></th>\n",
              "      <th>by_kMeans1</th>\n",
              "      <th>by_kMeans2</th>\n",
              "      <th>by_kMeans3</th>\n",
              "      <th>by_kMeans4</th>\n",
              "      <th>by_kMeans5</th>\n",
              "      <th>by_kMeans6</th>\n",
              "      <th>by_kMeans7</th>\n",
              "      <th>by_kMeans8</th>\n",
              "      <th>by_kMeans9</th>\n",
              "      <th>by_kMeans10</th>\n",
              "    </tr>\n",
              "  </thead>\n",
              "  <tbody>\n",
              "    <tr>\n",
              "      <th>0</th>\n",
              "      <td>0.03125</td>\n",
              "      <td>0.48125</td>\n",
              "      <td>0.03875</td>\n",
              "      <td>0.5275</td>\n",
              "      <td>0.385</td>\n",
              "      <td>0.13</td>\n",
              "      <td>0.75125</td>\n",
              "      <td>0.10875</td>\n",
              "      <td>0.47</td>\n",
              "      <td>0.205</td>\n",
              "    </tr>\n",
              "  </tbody>\n",
              "</table>\n",
              "</div>"
            ],
            "text/plain": [
              "  by_kMeans1 by_kMeans2 by_kMeans3  ... by_kMeans8 by_kMeans9 by_kMeans10\n",
              "0    0.03125    0.48125    0.03875  ...    0.10875       0.47       0.205\n",
              "\n",
              "[1 rows x 10 columns]"
            ]
          },
          "metadata": {
            "tags": []
          }
        }
      ]
    },
    {
      "cell_type": "markdown",
      "metadata": {
        "id": "ZOkx4SnbMCB3"
      },
      "source": [
        "**by_kMeans6**, **by_kMeans7** and **by_kMeans8**  \n",
        "\n",
        "Hence, following are the best objective measures for the classification, as of now:  \n",
        "1. `SqSum_RVRatio`\n",
        "2. `variance` \n",
        "3. `avg_bdd`  \n",
        "4. `avg_rtovratio`"
      ]
    },
    {
      "cell_type": "markdown",
      "metadata": {
        "id": "ES8SomEFww0n"
      },
      "source": [
        "Also, following values ca be assigned to the labels:  \n",
        "\n",
        "1. wet : 1\n",
        "2. normal : 2\n",
        "3. dry : 3"
      ]
    }
  ]
}